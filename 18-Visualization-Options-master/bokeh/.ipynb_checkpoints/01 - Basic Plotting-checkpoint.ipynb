{
 "cells": [
  {
   "cell_type": "markdown",
   "metadata": {},
   "source": [
    "<table style=\"float:left; border:none\">\n",
    "   <tr style=\"border:none; background-color: #ffffff\">\n",
    "       <td style=\"border:none\">\n",
    "           <a href=\"http://bokeh.pydata.org/\">     \n",
    "           <img \n",
    "               src=\"assets/bokeh-transparent.png\" \n",
    "               style=\"width:50px\"\n",
    "           >\n",
    "           </a>    \n",
    "       </td>\n",
    "       <td style=\"border:none\">\n",
    "           <h1>Bokeh Tutorial</h1>\n",
    "       </td>\n",
    "   </tr>\n",
    "</table>\n",
    "\n",
    "<div style=\"float:right;\"><h2>01. Basic Plotting</h2></div>"
   ]
  },
  {
   "cell_type": "markdown",
   "metadata": {},
   "source": [
    "This section of the tutorial covers the [`bokeh.plotting`](http://bokeh.pydata.org/en/latest/docs/user_guide/plotting.html) \n",
    "interface. This interface is a \"mid-level\" interface, and the main idea can be described by the statement:\n",
    "\n",
    "**Starting from simple default figures (with sensible default tools, grids and axes), add markers and other shapes whose visual attributes are tied to directly data.**\n",
    "\n",
    "We will see that it is possible to customize and change all of the defaults, but having them means that it is possible to get up and running very quickly. "
   ]
  },
  {
   "cell_type": "markdown",
   "metadata": {},
   "source": [
    "# Imports and Setup\n",
    "\n",
    "When using the [`bokeh.plotting`](http://bokeh.pydata.org/en/latest/docs/user_guide/plotting.html) interface, there are a few common imports:\n",
    "* Use the [`figure`](http://bokeh.pydata.org/en/latest/docs/reference/plotting.html#bokeh.plotting.figure) function to  create new plot objects to work with. \n",
    "* Call the functions [`output_file`](http://bokeh.pydata.org/en/latest/docs/reference/resources_embedding.html#bokeh.io.output_file), [`output_notebook`](http://bokeh.pydata.org/en/latest/docs/reference/resources_embedding.html#bokeh.io.output_notebook), and [`output_server`](http://bokeh.pydata.org/en/latest/docs/reference/resources_embedding.html#bokeh.io.output_server) (possibly in combination) to tell Bokeh how to display or save output. \n",
    "* Execute [`show`](http://bokeh.pydata.org/en/latest/docs/reference/resources_embedding.html#bokeh.io.show) and  [`save`](http://bokeh.pydata.org/en/latest/docs/reference/resources_embedding.html#bokeh.io.save) to display or save plots and layouts."
   ]
  },
  {
   "cell_type": "code",
   "execution_count": 1,
   "metadata": {
    "collapsed": true
   },
   "outputs": [],
   "source": [
    "from bokeh.io import output_notebook, show\n",
    "from bokeh.plotting import figure"
   ]
  },
  {
   "cell_type": "code",
   "execution_count": null,
   "metadata": {
    "collapsed": true
   },
   "outputs": [],
   "source": []
  },
  {
   "cell_type": "markdown",
   "metadata": {},
   "source": [
    "In this case, we are in the Jupyter notebook, so call `output_notebook()`. We only need to call this once, and all subsequent calls to `show()` will display inline in the notebook."
   ]
  },
  {
   "cell_type": "code",
   "execution_count": 2,
   "metadata": {},
   "outputs": [
    {
     "data": {
      "text/html": [
       "\n",
       "    <div class=\"bk-root\">\n",
       "        <a href=\"https://bokeh.pydata.org\" target=\"_blank\" class=\"bk-logo bk-logo-small bk-logo-notebook\"></a>\n",
       "        <span id=\"36616de8-74ff-4a18-a0cc-5a945c96fed5\">Loading BokehJS ...</span>\n",
       "    </div>"
      ]
     },
     "metadata": {},
     "output_type": "display_data"
    },
    {
     "data": {
      "application/javascript": [
       "\n",
       "(function(root) {\n",
       "  function now() {\n",
       "    return new Date();\n",
       "  }\n",
       "\n",
       "  var force = true;\n",
       "\n",
       "  if (typeof (root._bokeh_onload_callbacks) === \"undefined\" || force === true) {\n",
       "    root._bokeh_onload_callbacks = [];\n",
       "    root._bokeh_is_loading = undefined;\n",
       "  }\n",
       "\n",
       "  var JS_MIME_TYPE = 'application/javascript';\n",
       "  var HTML_MIME_TYPE = 'text/html';\n",
       "  var EXEC_MIME_TYPE = 'application/vnd.bokehjs_exec.v0+json';\n",
       "  var CLASS_NAME = 'output_bokeh rendered_html';\n",
       "\n",
       "  /**\n",
       "   * Render data to the DOM node\n",
       "   */\n",
       "  function render(props, node) {\n",
       "    var script = document.createElement(\"script\");\n",
       "    node.appendChild(script);\n",
       "  }\n",
       "\n",
       "  /**\n",
       "   * Handle when an output is cleared or removed\n",
       "   */\n",
       "  function handleClearOutput(event, handle) {\n",
       "    var cell = handle.cell;\n",
       "\n",
       "    var id = cell.output_area._bokeh_element_id;\n",
       "    var server_id = cell.output_area._bokeh_server_id;\n",
       "    // Clean up Bokeh references\n",
       "    if (id !== undefined) {\n",
       "      Bokeh.index[id].model.document.clear();\n",
       "      delete Bokeh.index[id];\n",
       "    }\n",
       "\n",
       "    if (server_id !== undefined) {\n",
       "      // Clean up Bokeh references\n",
       "      var cmd = \"from bokeh.io.state import curstate; print(curstate().uuid_to_server['\" + server_id + \"'].get_sessions()[0].document.roots[0]._id)\";\n",
       "      cell.notebook.kernel.execute(cmd, {\n",
       "        iopub: {\n",
       "          output: function(msg) {\n",
       "            var element_id = msg.content.text.trim();\n",
       "            Bokeh.index[element_id].model.document.clear();\n",
       "            delete Bokeh.index[element_id];\n",
       "          }\n",
       "        }\n",
       "      });\n",
       "      // Destroy server and session\n",
       "      var cmd = \"import bokeh.io.notebook as ion; ion.destroy_server('\" + server_id + \"')\";\n",
       "      cell.notebook.kernel.execute(cmd);\n",
       "    }\n",
       "  }\n",
       "\n",
       "  /**\n",
       "   * Handle when a new output is added\n",
       "   */\n",
       "  function handleAddOutput(event, handle) {\n",
       "    var output_area = handle.output_area;\n",
       "    var output = handle.output;\n",
       "\n",
       "    // limit handleAddOutput to display_data with EXEC_MIME_TYPE content only\n",
       "    if ((output.output_type != \"display_data\") || (!output.data.hasOwnProperty(EXEC_MIME_TYPE))) {\n",
       "      return\n",
       "    }\n",
       "\n",
       "    var toinsert = output_area.element.find(\".\" + CLASS_NAME.split(' ')[0]);\n",
       "\n",
       "    if (output.metadata[EXEC_MIME_TYPE][\"id\"] !== undefined) {\n",
       "      toinsert[0].firstChild.textContent = output.data[JS_MIME_TYPE];\n",
       "      // store reference to embed id on output_area\n",
       "      output_area._bokeh_element_id = output.metadata[EXEC_MIME_TYPE][\"id\"];\n",
       "    }\n",
       "    if (output.metadata[EXEC_MIME_TYPE][\"server_id\"] !== undefined) {\n",
       "      var bk_div = document.createElement(\"div\");\n",
       "      bk_div.innerHTML = output.data[HTML_MIME_TYPE];\n",
       "      var script_attrs = bk_div.children[0].attributes;\n",
       "      for (var i = 0; i < script_attrs.length; i++) {\n",
       "        toinsert[0].firstChild.setAttribute(script_attrs[i].name, script_attrs[i].value);\n",
       "      }\n",
       "      // store reference to server id on output_area\n",
       "      output_area._bokeh_server_id = output.metadata[EXEC_MIME_TYPE][\"server_id\"];\n",
       "    }\n",
       "  }\n",
       "\n",
       "  function register_renderer(events, OutputArea) {\n",
       "\n",
       "    function append_mime(data, metadata, element) {\n",
       "      // create a DOM node to render to\n",
       "      var toinsert = this.create_output_subarea(\n",
       "        metadata,\n",
       "        CLASS_NAME,\n",
       "        EXEC_MIME_TYPE\n",
       "      );\n",
       "      this.keyboard_manager.register_events(toinsert);\n",
       "      // Render to node\n",
       "      var props = {data: data, metadata: metadata[EXEC_MIME_TYPE]};\n",
       "      render(props, toinsert[0]);\n",
       "      element.append(toinsert);\n",
       "      return toinsert\n",
       "    }\n",
       "\n",
       "    /* Handle when an output is cleared or removed */\n",
       "    events.on('clear_output.CodeCell', handleClearOutput);\n",
       "    events.on('delete.Cell', handleClearOutput);\n",
       "\n",
       "    /* Handle when a new output is added */\n",
       "    events.on('output_added.OutputArea', handleAddOutput);\n",
       "\n",
       "    /**\n",
       "     * Register the mime type and append_mime function with output_area\n",
       "     */\n",
       "    OutputArea.prototype.register_mime_type(EXEC_MIME_TYPE, append_mime, {\n",
       "      /* Is output safe? */\n",
       "      safe: true,\n",
       "      /* Index of renderer in `output_area.display_order` */\n",
       "      index: 0\n",
       "    });\n",
       "  }\n",
       "\n",
       "  // register the mime type if in Jupyter Notebook environment and previously unregistered\n",
       "  if (root.Jupyter !== undefined) {\n",
       "    var events = require('base/js/events');\n",
       "    var OutputArea = require('notebook/js/outputarea').OutputArea;\n",
       "\n",
       "    if (OutputArea.prototype.mime_types().indexOf(EXEC_MIME_TYPE) == -1) {\n",
       "      register_renderer(events, OutputArea);\n",
       "    }\n",
       "  }\n",
       "\n",
       "  \n",
       "  if (typeof (root._bokeh_timeout) === \"undefined\" || force === true) {\n",
       "    root._bokeh_timeout = Date.now() + 5000;\n",
       "    root._bokeh_failed_load = false;\n",
       "  }\n",
       "\n",
       "  var NB_LOAD_WARNING = {'data': {'text/html':\n",
       "     \"<div style='background-color: #fdd'>\\n\"+\n",
       "     \"<p>\\n\"+\n",
       "     \"BokehJS does not appear to have successfully loaded. If loading BokehJS from CDN, this \\n\"+\n",
       "     \"may be due to a slow or bad network connection. Possible fixes:\\n\"+\n",
       "     \"</p>\\n\"+\n",
       "     \"<ul>\\n\"+\n",
       "     \"<li>re-rerun `output_notebook()` to attempt to load from CDN again, or</li>\\n\"+\n",
       "     \"<li>use INLINE resources instead, as so:</li>\\n\"+\n",
       "     \"</ul>\\n\"+\n",
       "     \"<code>\\n\"+\n",
       "     \"from bokeh.resources import INLINE\\n\"+\n",
       "     \"output_notebook(resources=INLINE)\\n\"+\n",
       "     \"</code>\\n\"+\n",
       "     \"</div>\"}};\n",
       "\n",
       "  function display_loaded() {\n",
       "    var el = document.getElementById(\"36616de8-74ff-4a18-a0cc-5a945c96fed5\");\n",
       "    if (el != null) {\n",
       "      el.textContent = \"BokehJS is loading...\";\n",
       "    }\n",
       "    if (root.Bokeh !== undefined) {\n",
       "      if (el != null) {\n",
       "        el.textContent = \"BokehJS \" + root.Bokeh.version + \" successfully loaded.\";\n",
       "      }\n",
       "    } else if (Date.now() < root._bokeh_timeout) {\n",
       "      setTimeout(display_loaded, 100)\n",
       "    }\n",
       "  }\n",
       "\n",
       "\n",
       "  function run_callbacks() {\n",
       "    try {\n",
       "      root._bokeh_onload_callbacks.forEach(function(callback) { callback() });\n",
       "    }\n",
       "    finally {\n",
       "      delete root._bokeh_onload_callbacks\n",
       "    }\n",
       "    console.info(\"Bokeh: all callbacks have finished\");\n",
       "  }\n",
       "\n",
       "  function load_libs(js_urls, callback) {\n",
       "    root._bokeh_onload_callbacks.push(callback);\n",
       "    if (root._bokeh_is_loading > 0) {\n",
       "      console.log(\"Bokeh: BokehJS is being loaded, scheduling callback at\", now());\n",
       "      return null;\n",
       "    }\n",
       "    if (js_urls == null || js_urls.length === 0) {\n",
       "      run_callbacks();\n",
       "      return null;\n",
       "    }\n",
       "    console.log(\"Bokeh: BokehJS not loaded, scheduling load and callback at\", now());\n",
       "    root._bokeh_is_loading = js_urls.length;\n",
       "    for (var i = 0; i < js_urls.length; i++) {\n",
       "      var url = js_urls[i];\n",
       "      var s = document.createElement('script');\n",
       "      s.src = url;\n",
       "      s.async = false;\n",
       "      s.onreadystatechange = s.onload = function() {\n",
       "        root._bokeh_is_loading--;\n",
       "        if (root._bokeh_is_loading === 0) {\n",
       "          console.log(\"Bokeh: all BokehJS libraries loaded\");\n",
       "          run_callbacks()\n",
       "        }\n",
       "      };\n",
       "      s.onerror = function() {\n",
       "        console.warn(\"failed to load library \" + url);\n",
       "      };\n",
       "      console.log(\"Bokeh: injecting script tag for BokehJS library: \", url);\n",
       "      document.getElementsByTagName(\"head\")[0].appendChild(s);\n",
       "    }\n",
       "  };var element = document.getElementById(\"36616de8-74ff-4a18-a0cc-5a945c96fed5\");\n",
       "  if (element == null) {\n",
       "    console.log(\"Bokeh: ERROR: autoload.js configured with elementid '36616de8-74ff-4a18-a0cc-5a945c96fed5' but no matching script tag was found. \")\n",
       "    return false;\n",
       "  }\n",
       "\n",
       "  var js_urls = [\"https://cdn.pydata.org/bokeh/release/bokeh-0.12.13.min.js\", \"https://cdn.pydata.org/bokeh/release/bokeh-widgets-0.12.13.min.js\", \"https://cdn.pydata.org/bokeh/release/bokeh-tables-0.12.13.min.js\", \"https://cdn.pydata.org/bokeh/release/bokeh-gl-0.12.13.min.js\"];\n",
       "\n",
       "  var inline_js = [\n",
       "    function(Bokeh) {\n",
       "      Bokeh.set_log_level(\"info\");\n",
       "    },\n",
       "    \n",
       "    function(Bokeh) {\n",
       "      \n",
       "    },\n",
       "    function(Bokeh) {\n",
       "      console.log(\"Bokeh: injecting CSS: https://cdn.pydata.org/bokeh/release/bokeh-0.12.13.min.css\");\n",
       "      Bokeh.embed.inject_css(\"https://cdn.pydata.org/bokeh/release/bokeh-0.12.13.min.css\");\n",
       "      console.log(\"Bokeh: injecting CSS: https://cdn.pydata.org/bokeh/release/bokeh-widgets-0.12.13.min.css\");\n",
       "      Bokeh.embed.inject_css(\"https://cdn.pydata.org/bokeh/release/bokeh-widgets-0.12.13.min.css\");\n",
       "      console.log(\"Bokeh: injecting CSS: https://cdn.pydata.org/bokeh/release/bokeh-tables-0.12.13.min.css\");\n",
       "      Bokeh.embed.inject_css(\"https://cdn.pydata.org/bokeh/release/bokeh-tables-0.12.13.min.css\");\n",
       "    }\n",
       "  ];\n",
       "\n",
       "  function run_inline_js() {\n",
       "    \n",
       "    if ((root.Bokeh !== undefined) || (force === true)) {\n",
       "      for (var i = 0; i < inline_js.length; i++) {\n",
       "        inline_js[i].call(root, root.Bokeh);\n",
       "      }if (force === true) {\n",
       "        display_loaded();\n",
       "      }} else if (Date.now() < root._bokeh_timeout) {\n",
       "      setTimeout(run_inline_js, 100);\n",
       "    } else if (!root._bokeh_failed_load) {\n",
       "      console.log(\"Bokeh: BokehJS failed to load within specified timeout.\");\n",
       "      root._bokeh_failed_load = true;\n",
       "    } else if (force !== true) {\n",
       "      var cell = $(document.getElementById(\"36616de8-74ff-4a18-a0cc-5a945c96fed5\")).parents('.cell').data().cell;\n",
       "      cell.output_area.append_execute_result(NB_LOAD_WARNING)\n",
       "    }\n",
       "\n",
       "  }\n",
       "\n",
       "  if (root._bokeh_is_loading === 0) {\n",
       "    console.log(\"Bokeh: BokehJS loaded, going straight to plotting\");\n",
       "    run_inline_js();\n",
       "  } else {\n",
       "    load_libs(js_urls, function() {\n",
       "      console.log(\"Bokeh: BokehJS plotting callback run at\", now());\n",
       "      run_inline_js();\n",
       "    });\n",
       "  }\n",
       "}(window));"
      ],
      "application/vnd.bokehjs_load.v0+json": "\n(function(root) {\n  function now() {\n    return new Date();\n  }\n\n  var force = true;\n\n  if (typeof (root._bokeh_onload_callbacks) === \"undefined\" || force === true) {\n    root._bokeh_onload_callbacks = [];\n    root._bokeh_is_loading = undefined;\n  }\n\n  \n\n  \n  if (typeof (root._bokeh_timeout) === \"undefined\" || force === true) {\n    root._bokeh_timeout = Date.now() + 5000;\n    root._bokeh_failed_load = false;\n  }\n\n  var NB_LOAD_WARNING = {'data': {'text/html':\n     \"<div style='background-color: #fdd'>\\n\"+\n     \"<p>\\n\"+\n     \"BokehJS does not appear to have successfully loaded. If loading BokehJS from CDN, this \\n\"+\n     \"may be due to a slow or bad network connection. Possible fixes:\\n\"+\n     \"</p>\\n\"+\n     \"<ul>\\n\"+\n     \"<li>re-rerun `output_notebook()` to attempt to load from CDN again, or</li>\\n\"+\n     \"<li>use INLINE resources instead, as so:</li>\\n\"+\n     \"</ul>\\n\"+\n     \"<code>\\n\"+\n     \"from bokeh.resources import INLINE\\n\"+\n     \"output_notebook(resources=INLINE)\\n\"+\n     \"</code>\\n\"+\n     \"</div>\"}};\n\n  function display_loaded() {\n    var el = document.getElementById(\"36616de8-74ff-4a18-a0cc-5a945c96fed5\");\n    if (el != null) {\n      el.textContent = \"BokehJS is loading...\";\n    }\n    if (root.Bokeh !== undefined) {\n      if (el != null) {\n        el.textContent = \"BokehJS \" + root.Bokeh.version + \" successfully loaded.\";\n      }\n    } else if (Date.now() < root._bokeh_timeout) {\n      setTimeout(display_loaded, 100)\n    }\n  }\n\n\n  function run_callbacks() {\n    try {\n      root._bokeh_onload_callbacks.forEach(function(callback) { callback() });\n    }\n    finally {\n      delete root._bokeh_onload_callbacks\n    }\n    console.info(\"Bokeh: all callbacks have finished\");\n  }\n\n  function load_libs(js_urls, callback) {\n    root._bokeh_onload_callbacks.push(callback);\n    if (root._bokeh_is_loading > 0) {\n      console.log(\"Bokeh: BokehJS is being loaded, scheduling callback at\", now());\n      return null;\n    }\n    if (js_urls == null || js_urls.length === 0) {\n      run_callbacks();\n      return null;\n    }\n    console.log(\"Bokeh: BokehJS not loaded, scheduling load and callback at\", now());\n    root._bokeh_is_loading = js_urls.length;\n    for (var i = 0; i < js_urls.length; i++) {\n      var url = js_urls[i];\n      var s = document.createElement('script');\n      s.src = url;\n      s.async = false;\n      s.onreadystatechange = s.onload = function() {\n        root._bokeh_is_loading--;\n        if (root._bokeh_is_loading === 0) {\n          console.log(\"Bokeh: all BokehJS libraries loaded\");\n          run_callbacks()\n        }\n      };\n      s.onerror = function() {\n        console.warn(\"failed to load library \" + url);\n      };\n      console.log(\"Bokeh: injecting script tag for BokehJS library: \", url);\n      document.getElementsByTagName(\"head\")[0].appendChild(s);\n    }\n  };var element = document.getElementById(\"36616de8-74ff-4a18-a0cc-5a945c96fed5\");\n  if (element == null) {\n    console.log(\"Bokeh: ERROR: autoload.js configured with elementid '36616de8-74ff-4a18-a0cc-5a945c96fed5' but no matching script tag was found. \")\n    return false;\n  }\n\n  var js_urls = [\"https://cdn.pydata.org/bokeh/release/bokeh-0.12.13.min.js\", \"https://cdn.pydata.org/bokeh/release/bokeh-widgets-0.12.13.min.js\", \"https://cdn.pydata.org/bokeh/release/bokeh-tables-0.12.13.min.js\", \"https://cdn.pydata.org/bokeh/release/bokeh-gl-0.12.13.min.js\"];\n\n  var inline_js = [\n    function(Bokeh) {\n      Bokeh.set_log_level(\"info\");\n    },\n    \n    function(Bokeh) {\n      \n    },\n    function(Bokeh) {\n      console.log(\"Bokeh: injecting CSS: https://cdn.pydata.org/bokeh/release/bokeh-0.12.13.min.css\");\n      Bokeh.embed.inject_css(\"https://cdn.pydata.org/bokeh/release/bokeh-0.12.13.min.css\");\n      console.log(\"Bokeh: injecting CSS: https://cdn.pydata.org/bokeh/release/bokeh-widgets-0.12.13.min.css\");\n      Bokeh.embed.inject_css(\"https://cdn.pydata.org/bokeh/release/bokeh-widgets-0.12.13.min.css\");\n      console.log(\"Bokeh: injecting CSS: https://cdn.pydata.org/bokeh/release/bokeh-tables-0.12.13.min.css\");\n      Bokeh.embed.inject_css(\"https://cdn.pydata.org/bokeh/release/bokeh-tables-0.12.13.min.css\");\n    }\n  ];\n\n  function run_inline_js() {\n    \n    if ((root.Bokeh !== undefined) || (force === true)) {\n      for (var i = 0; i < inline_js.length; i++) {\n        inline_js[i].call(root, root.Bokeh);\n      }if (force === true) {\n        display_loaded();\n      }} else if (Date.now() < root._bokeh_timeout) {\n      setTimeout(run_inline_js, 100);\n    } else if (!root._bokeh_failed_load) {\n      console.log(\"Bokeh: BokehJS failed to load within specified timeout.\");\n      root._bokeh_failed_load = true;\n    } else if (force !== true) {\n      var cell = $(document.getElementById(\"36616de8-74ff-4a18-a0cc-5a945c96fed5\")).parents('.cell').data().cell;\n      cell.output_area.append_execute_result(NB_LOAD_WARNING)\n    }\n\n  }\n\n  if (root._bokeh_is_loading === 0) {\n    console.log(\"Bokeh: BokehJS loaded, going straight to plotting\");\n    run_inline_js();\n  } else {\n    load_libs(js_urls, function() {\n      console.log(\"Bokeh: BokehJS plotting callback run at\", now());\n      run_inline_js();\n    });\n  }\n}(window));"
     },
     "metadata": {},
     "output_type": "display_data"
    }
   ],
   "source": [
    "output_notebook()"
   ]
  },
  {
   "cell_type": "markdown",
   "metadata": {},
   "source": [
    "# Some Basic Scatter Plots\n",
    "\n",
    "In this section you will see how to use Bokeh's various marker types to create simple scatter plots. "
   ]
  },
  {
   "cell_type": "code",
   "execution_count": 3,
   "metadata": {},
   "outputs": [
    {
     "data": {
      "text/html": [
       "\n",
       "<div class=\"bk-root\">\n",
       "    <div class=\"bk-plotdiv\" id=\"b18c6e57-128b-419d-bd01-f85f19f9449b\"></div>\n",
       "</div>"
      ]
     },
     "metadata": {},
     "output_type": "display_data"
    },
    {
     "data": {
      "application/javascript": [
       "(function(root) {\n",
       "  function embed_document(root) {\n",
       "    \n",
       "  var docs_json = {\"1620d6ce-22f3-4adb-9df5-5342be141506\":{\"roots\":{\"references\":[{\"attributes\":{\"active_drag\":\"auto\",\"active_inspect\":\"auto\",\"active_scroll\":\"auto\",\"active_tap\":\"auto\",\"tools\":[{\"id\":\"50bb7e28-204a-4b4c-8ca3-415b6cc654db\",\"type\":\"PanTool\"},{\"id\":\"7037426e-9a73-4af0-8a8e-ed0b1809ac3d\",\"type\":\"WheelZoomTool\"},{\"id\":\"6174a637-fd5c-469b-a93d-51bde3c956d0\",\"type\":\"BoxZoomTool\"},{\"id\":\"0f760267-1f02-48de-9493-c66725e39230\",\"type\":\"SaveTool\"},{\"id\":\"1e35c29f-a8b5-4135-86dc-3906961f52a4\",\"type\":\"ResetTool\"},{\"id\":\"f90cc421-6f42-4bf1-a38d-4d5f8ad79a9d\",\"type\":\"HelpTool\"}]},\"id\":\"5e0272f6-172b-48dd-abbb-a3016741bf6d\",\"type\":\"Toolbar\"},{\"attributes\":{},\"id\":\"7037426e-9a73-4af0-8a8e-ed0b1809ac3d\",\"type\":\"WheelZoomTool\"},{\"attributes\":{\"callback\":null},\"id\":\"44a1cc7c-699a-424e-bc66-ac0601c9b0c7\",\"type\":\"DataRange1d\"},{\"attributes\":{\"overlay\":{\"id\":\"bee8a89d-d8f5-4f40-b145-0c9aa2c3a400\",\"type\":\"BoxAnnotation\"}},\"id\":\"6174a637-fd5c-469b-a93d-51bde3c956d0\",\"type\":\"BoxZoomTool\"},{\"attributes\":{},\"id\":\"0f760267-1f02-48de-9493-c66725e39230\",\"type\":\"SaveTool\"},{\"attributes\":{\"callback\":null},\"id\":\"ccf03bac-9dd8-4277-8fe1-a7c7e3b18aa0\",\"type\":\"DataRange1d\"},{\"attributes\":{},\"id\":\"1e35c29f-a8b5-4135-86dc-3906961f52a4\",\"type\":\"ResetTool\"},{\"attributes\":{},\"id\":\"834b97bf-3b55-4e51-88d9-fe8d0f4fb8fd\",\"type\":\"LinearScale\"},{\"attributes\":{\"fill_alpha\":{\"value\":0.1},\"fill_color\":{\"value\":\"#1f77b4\"},\"line_alpha\":{\"value\":0.1},\"line_color\":{\"value\":\"#1f77b4\"},\"size\":{\"units\":\"screen\",\"value\":15},\"x\":{\"field\":\"x\"},\"y\":{\"field\":\"y\"}},\"id\":\"136724dc-b12e-4d1a-8c64-08d2ab0ddd98\",\"type\":\"Circle\"},{\"attributes\":{},\"id\":\"f90cc421-6f42-4bf1-a38d-4d5f8ad79a9d\",\"type\":\"HelpTool\"},{\"attributes\":{},\"id\":\"aaf84dfd-edc2-4ac3-bf64-2464e9354185\",\"type\":\"LinearScale\"},{\"attributes\":{\"data_source\":{\"id\":\"73c24712-5aa8-4b22-86d3-a4a91dfc3588\",\"type\":\"ColumnDataSource\"},\"glyph\":{\"id\":\"8a669862-8dea-4b1b-9391-30c98f99360b\",\"type\":\"Circle\"},\"hover_glyph\":null,\"muted_glyph\":null,\"nonselection_glyph\":{\"id\":\"136724dc-b12e-4d1a-8c64-08d2ab0ddd98\",\"type\":\"Circle\"},\"selection_glyph\":null,\"view\":{\"id\":\"81ae52dc-ba32-4064-88ea-1bee800ddf2b\",\"type\":\"CDSView\"}},\"id\":\"a049709a-1f2a-4493-9c0b-47f7d0332afb\",\"type\":\"GlyphRenderer\"},{\"attributes\":{\"source\":{\"id\":\"73c24712-5aa8-4b22-86d3-a4a91dfc3588\",\"type\":\"ColumnDataSource\"}},\"id\":\"81ae52dc-ba32-4064-88ea-1bee800ddf2b\",\"type\":\"CDSView\"},{\"attributes\":{\"formatter\":{\"id\":\"195db7b8-d357-4b52-854a-109c1babc1cb\",\"type\":\"BasicTickFormatter\"},\"plot\":{\"id\":\"d66dee13-16cc-4a77-a8ec-167e1cb8a99c\",\"subtype\":\"Figure\",\"type\":\"Plot\"},\"ticker\":{\"id\":\"2ec28ac2-0462-46a8-bd43-555f2fa38f0a\",\"type\":\"BasicTicker\"}},\"id\":\"d3a90d14-e736-41fd-9c75-22dcdc044dd1\",\"type\":\"LinearAxis\"},{\"attributes\":{},\"id\":\"2ec28ac2-0462-46a8-bd43-555f2fa38f0a\",\"type\":\"BasicTicker\"},{\"attributes\":{\"plot\":null,\"text\":\"\"},\"id\":\"aa129ace-7a70-4e23-84db-235955ceacca\",\"type\":\"Title\"},{\"attributes\":{},\"id\":\"195db7b8-d357-4b52-854a-109c1babc1cb\",\"type\":\"BasicTickFormatter\"},{\"attributes\":{\"plot\":{\"id\":\"d66dee13-16cc-4a77-a8ec-167e1cb8a99c\",\"subtype\":\"Figure\",\"type\":\"Plot\"},\"ticker\":{\"id\":\"2ec28ac2-0462-46a8-bd43-555f2fa38f0a\",\"type\":\"BasicTicker\"}},\"id\":\"92ed42a4-f5da-4760-9f5f-b9a0d4aa9725\",\"type\":\"Grid\"},{\"attributes\":{\"formatter\":{\"id\":\"ce5fb76e-5dfb-4e53-a493-9834a10b62dd\",\"type\":\"BasicTickFormatter\"},\"plot\":{\"id\":\"d66dee13-16cc-4a77-a8ec-167e1cb8a99c\",\"subtype\":\"Figure\",\"type\":\"Plot\"},\"ticker\":{\"id\":\"9ed02fae-0165-4a3d-ad20-34d08368fde6\",\"type\":\"BasicTicker\"}},\"id\":\"c2f9551e-fa6e-441c-b66d-041142a126ff\",\"type\":\"LinearAxis\"},{\"attributes\":{},\"id\":\"9ed02fae-0165-4a3d-ad20-34d08368fde6\",\"type\":\"BasicTicker\"},{\"attributes\":{\"dimension\":1,\"plot\":{\"id\":\"d66dee13-16cc-4a77-a8ec-167e1cb8a99c\",\"subtype\":\"Figure\",\"type\":\"Plot\"},\"ticker\":{\"id\":\"9ed02fae-0165-4a3d-ad20-34d08368fde6\",\"type\":\"BasicTicker\"}},\"id\":\"726dad72-1361-4f96-87d9-96b6ab5cdd29\",\"type\":\"Grid\"},{\"attributes\":{\"bottom_units\":\"screen\",\"fill_alpha\":{\"value\":0.5},\"fill_color\":{\"value\":\"lightgrey\"},\"left_units\":\"screen\",\"level\":\"overlay\",\"line_alpha\":{\"value\":1.0},\"line_color\":{\"value\":\"black\"},\"line_dash\":[4,4],\"line_width\":{\"value\":2},\"plot\":null,\"render_mode\":\"css\",\"right_units\":\"screen\",\"top_units\":\"screen\"},\"id\":\"bee8a89d-d8f5-4f40-b145-0c9aa2c3a400\",\"type\":\"BoxAnnotation\"},{\"attributes\":{\"fill_alpha\":{\"value\":0.5},\"fill_color\":{\"value\":\"orange\"},\"line_color\":{\"value\":\"navy\"},\"size\":{\"units\":\"screen\",\"value\":15},\"x\":{\"field\":\"x\"},\"y\":{\"field\":\"y\"}},\"id\":\"8a669862-8dea-4b1b-9391-30c98f99360b\",\"type\":\"Circle\"},{\"attributes\":{},\"id\":\"ce5fb76e-5dfb-4e53-a493-9834a10b62dd\",\"type\":\"BasicTickFormatter\"},{\"attributes\":{\"below\":[{\"id\":\"d3a90d14-e736-41fd-9c75-22dcdc044dd1\",\"type\":\"LinearAxis\"}],\"left\":[{\"id\":\"c2f9551e-fa6e-441c-b66d-041142a126ff\",\"type\":\"LinearAxis\"}],\"plot_height\":400,\"plot_width\":400,\"renderers\":[{\"id\":\"d3a90d14-e736-41fd-9c75-22dcdc044dd1\",\"type\":\"LinearAxis\"},{\"id\":\"92ed42a4-f5da-4760-9f5f-b9a0d4aa9725\",\"type\":\"Grid\"},{\"id\":\"c2f9551e-fa6e-441c-b66d-041142a126ff\",\"type\":\"LinearAxis\"},{\"id\":\"726dad72-1361-4f96-87d9-96b6ab5cdd29\",\"type\":\"Grid\"},{\"id\":\"bee8a89d-d8f5-4f40-b145-0c9aa2c3a400\",\"type\":\"BoxAnnotation\"},{\"id\":\"a049709a-1f2a-4493-9c0b-47f7d0332afb\",\"type\":\"GlyphRenderer\"}],\"title\":{\"id\":\"aa129ace-7a70-4e23-84db-235955ceacca\",\"type\":\"Title\"},\"toolbar\":{\"id\":\"5e0272f6-172b-48dd-abbb-a3016741bf6d\",\"type\":\"Toolbar\"},\"x_range\":{\"id\":\"44a1cc7c-699a-424e-bc66-ac0601c9b0c7\",\"type\":\"DataRange1d\"},\"x_scale\":{\"id\":\"834b97bf-3b55-4e51-88d9-fe8d0f4fb8fd\",\"type\":\"LinearScale\"},\"y_range\":{\"id\":\"ccf03bac-9dd8-4277-8fe1-a7c7e3b18aa0\",\"type\":\"DataRange1d\"},\"y_scale\":{\"id\":\"aaf84dfd-edc2-4ac3-bf64-2464e9354185\",\"type\":\"LinearScale\"}},\"id\":\"d66dee13-16cc-4a77-a8ec-167e1cb8a99c\",\"subtype\":\"Figure\",\"type\":\"Plot\"},{\"attributes\":{\"callback\":null,\"column_names\":[\"x\",\"y\"],\"data\":{\"x\":[1,2,3,4,5],\"y\":[6,7,2,4,5]}},\"id\":\"73c24712-5aa8-4b22-86d3-a4a91dfc3588\",\"type\":\"ColumnDataSource\"},{\"attributes\":{},\"id\":\"50bb7e28-204a-4b4c-8ca3-415b6cc654db\",\"type\":\"PanTool\"}],\"root_ids\":[\"d66dee13-16cc-4a77-a8ec-167e1cb8a99c\"]},\"title\":\"Bokeh Application\",\"version\":\"0.12.13\"}};\n",
       "  var render_items = [{\"docid\":\"1620d6ce-22f3-4adb-9df5-5342be141506\",\"elementid\":\"b18c6e57-128b-419d-bd01-f85f19f9449b\",\"modelid\":\"d66dee13-16cc-4a77-a8ec-167e1cb8a99c\"}];\n",
       "  root.Bokeh.embed.embed_items_notebook(docs_json, render_items);\n",
       "\n",
       "  }\n",
       "  if (root.Bokeh !== undefined) {\n",
       "    embed_document(root);\n",
       "  } else {\n",
       "    var attempts = 0;\n",
       "    var timer = setInterval(function(root) {\n",
       "      if (root.Bokeh !== undefined) {\n",
       "        embed_document(root);\n",
       "        clearInterval(timer);\n",
       "      }\n",
       "      attempts++;\n",
       "      if (attempts > 100) {\n",
       "        console.log(\"Bokeh: ERROR: Unable to run BokehJS code because BokehJS library is missing\")\n",
       "        clearInterval(timer);\n",
       "      }\n",
       "    }, 10, root)\n",
       "  }\n",
       "})(window);"
      ],
      "application/vnd.bokehjs_exec.v0+json": ""
     },
     "metadata": {
      "application/vnd.bokehjs_exec.v0+json": {
       "id": "d66dee13-16cc-4a77-a8ec-167e1cb8a99c"
      }
     },
     "output_type": "display_data"
    }
   ],
   "source": [
    "# create a new plot with default tools, using figure\n",
    "p = figure(plot_width=400, plot_height=400)\n",
    "\n",
    "# add a circle renderer with a size, color, and alpha\n",
    "p.circle([1, 2, 3, 4, 5], [6, 7, 2, 4, 5], size=15, line_color=\"navy\", fill_color=\"orange\", fill_alpha=0.5)\n",
    "\n",
    "show(p) # show the results"
   ]
  },
  {
   "cell_type": "markdown",
   "metadata": {},
   "source": [
    "All Bokeh markers accept `size` (measured in screen space units) as a property. Circles also have `radius` (measured in \"data\" space units). "
   ]
  },
  {
   "cell_type": "code",
   "execution_count": 4,
   "metadata": {
    "collapsed": true
   },
   "outputs": [],
   "source": [
    "# EXERCISE: Try changing the example above to set a `radius` value instead of `size`\n",
    "\n"
   ]
  },
  {
   "cell_type": "markdown",
   "metadata": {},
   "source": [
    "To scatter square markers instead of circles, you can use the `square` method on figures. "
   ]
  },
  {
   "cell_type": "code",
   "execution_count": 5,
   "metadata": {},
   "outputs": [
    {
     "data": {
      "text/html": [
       "\n",
       "<div class=\"bk-root\">\n",
       "    <div class=\"bk-plotdiv\" id=\"93dd8277-cae7-4299-a87d-ac1f2f39e193\"></div>\n",
       "</div>"
      ]
     },
     "metadata": {},
     "output_type": "display_data"
    },
    {
     "data": {
      "application/javascript": [
       "(function(root) {\n",
       "  function embed_document(root) {\n",
       "    \n",
       "  var docs_json = {\"6cbbc8a3-2c7d-47c6-ac43-4171f7fab47b\":{\"roots\":{\"references\":[{\"attributes\":{\"plot\":{\"id\":\"b19b76b3-fdf5-4ecb-8c16-121ab2d1e81d\",\"subtype\":\"Figure\",\"type\":\"Plot\"},\"ticker\":{\"id\":\"7dc97c35-1ddb-4e70-8eab-85a338b905c7\",\"type\":\"BasicTicker\"}},\"id\":\"205df1a6-cc3c-4679-9c91-e36b90dccea2\",\"type\":\"Grid\"},{\"attributes\":{},\"id\":\"f45510af-6717-4cd0-ad26-2a8d238cef0d\",\"type\":\"BasicTickFormatter\"},{\"attributes\":{\"data_source\":{\"id\":\"85de6381-1142-470b-8cff-9e5fa61d29b6\",\"type\":\"ColumnDataSource\"},\"glyph\":{\"id\":\"dbb48395-0f1f-443a-8365-64ef48a08115\",\"type\":\"Square\"},\"hover_glyph\":null,\"muted_glyph\":null,\"nonselection_glyph\":{\"id\":\"327208cd-cb09-4336-81e5-a85c1bc5e371\",\"type\":\"Square\"},\"selection_glyph\":null,\"view\":{\"id\":\"ff8044b0-2641-4325-9289-e590a6c88a30\",\"type\":\"CDSView\"}},\"id\":\"e4cf7fdd-d4b9-4e92-a83d-b3c373ebdbb7\",\"type\":\"GlyphRenderer\"},{\"attributes\":{},\"id\":\"4bf5e2aa-0f64-4f92-9c43-32d6a7a20c0c\",\"type\":\"PanTool\"},{\"attributes\":{\"dimension\":1,\"plot\":{\"id\":\"b19b76b3-fdf5-4ecb-8c16-121ab2d1e81d\",\"subtype\":\"Figure\",\"type\":\"Plot\"},\"ticker\":{\"id\":\"47bd9d63-2835-4f4e-9ed1-66be8d09516d\",\"type\":\"BasicTicker\"}},\"id\":\"41e50e22-0c5e-4432-963c-90d1d3054a8a\",\"type\":\"Grid\"},{\"attributes\":{\"fill_alpha\":{\"value\":0.1},\"fill_color\":{\"value\":\"#1f77b4\"},\"line_alpha\":{\"value\":0.1},\"line_color\":{\"value\":\"#1f77b4\"},\"size\":{\"field\":\"size\",\"units\":\"screen\"},\"x\":{\"field\":\"x\"},\"y\":{\"field\":\"y\"}},\"id\":\"327208cd-cb09-4336-81e5-a85c1bc5e371\",\"type\":\"Square\"},{\"attributes\":{\"active_drag\":\"auto\",\"active_inspect\":\"auto\",\"active_scroll\":\"auto\",\"active_tap\":\"auto\",\"tools\":[{\"id\":\"4bf5e2aa-0f64-4f92-9c43-32d6a7a20c0c\",\"type\":\"PanTool\"},{\"id\":\"d836dc17-aa12-4a51-85fc-c348381afdaa\",\"type\":\"WheelZoomTool\"},{\"id\":\"69f2897a-62f4-446c-b622-47f1285f4f63\",\"type\":\"BoxZoomTool\"},{\"id\":\"a26f39dc-152b-4e5c-a47a-d1c89918ac14\",\"type\":\"SaveTool\"},{\"id\":\"03d1f0a1-a834-4504-8309-7572ce7bb542\",\"type\":\"ResetTool\"},{\"id\":\"f9ea654f-3f02-47ea-8be5-05a830659e05\",\"type\":\"HelpTool\"}]},\"id\":\"c77720fc-8f8c-4f36-8a7e-8337c6073ef7\",\"type\":\"Toolbar\"},{\"attributes\":{\"callback\":null},\"id\":\"039878a8-268d-4e9e-a8ee-1fe9b84c6b78\",\"type\":\"DataRange1d\"},{\"attributes\":{\"bottom_units\":\"screen\",\"fill_alpha\":{\"value\":0.5},\"fill_color\":{\"value\":\"lightgrey\"},\"left_units\":\"screen\",\"level\":\"overlay\",\"line_alpha\":{\"value\":1.0},\"line_color\":{\"value\":\"black\"},\"line_dash\":[4,4],\"line_width\":{\"value\":2},\"plot\":null,\"render_mode\":\"css\",\"right_units\":\"screen\",\"top_units\":\"screen\"},\"id\":\"f862f417-5de4-4e6e-a2d9-6b839f19c912\",\"type\":\"BoxAnnotation\"},{\"attributes\":{\"callback\":null},\"id\":\"9f973a4f-79c4-41f8-8a26-93ec28b6de8e\",\"type\":\"DataRange1d\"},{\"attributes\":{},\"id\":\"1c0866c5-9ac0-4f6e-8510-f29c3e2a6e4e\",\"type\":\"LinearScale\"},{\"attributes\":{\"source\":{\"id\":\"85de6381-1142-470b-8cff-9e5fa61d29b6\",\"type\":\"ColumnDataSource\"}},\"id\":\"ff8044b0-2641-4325-9289-e590a6c88a30\",\"type\":\"CDSView\"},{\"attributes\":{},\"id\":\"221d7d67-48c8-41f3-b3fe-0a03b2077f4b\",\"type\":\"LinearScale\"},{\"attributes\":{\"formatter\":{\"id\":\"435b851f-428c-4a6b-94d3-6c412c046b90\",\"type\":\"BasicTickFormatter\"},\"plot\":{\"id\":\"b19b76b3-fdf5-4ecb-8c16-121ab2d1e81d\",\"subtype\":\"Figure\",\"type\":\"Plot\"},\"ticker\":{\"id\":\"7dc97c35-1ddb-4e70-8eab-85a338b905c7\",\"type\":\"BasicTicker\"}},\"id\":\"0c1c807c-bd70-4192-bcbe-59d337d37bf7\",\"type\":\"LinearAxis\"},{\"attributes\":{\"plot\":null,\"text\":\"\"},\"id\":\"77628959-7f2f-4833-b0d0-c3e861be48e7\",\"type\":\"Title\"},{\"attributes\":{},\"id\":\"7dc97c35-1ddb-4e70-8eab-85a338b905c7\",\"type\":\"BasicTicker\"},{\"attributes\":{},\"id\":\"f9ea654f-3f02-47ea-8be5-05a830659e05\",\"type\":\"HelpTool\"},{\"attributes\":{},\"id\":\"47bd9d63-2835-4f4e-9ed1-66be8d09516d\",\"type\":\"BasicTicker\"},{\"attributes\":{},\"id\":\"435b851f-428c-4a6b-94d3-6c412c046b90\",\"type\":\"BasicTickFormatter\"},{\"attributes\":{},\"id\":\"d836dc17-aa12-4a51-85fc-c348381afdaa\",\"type\":\"WheelZoomTool\"},{\"attributes\":{\"formatter\":{\"id\":\"f45510af-6717-4cd0-ad26-2a8d238cef0d\",\"type\":\"BasicTickFormatter\"},\"plot\":{\"id\":\"b19b76b3-fdf5-4ecb-8c16-121ab2d1e81d\",\"subtype\":\"Figure\",\"type\":\"Plot\"},\"ticker\":{\"id\":\"47bd9d63-2835-4f4e-9ed1-66be8d09516d\",\"type\":\"BasicTicker\"}},\"id\":\"b9b2db70-5f3a-41fd-84d5-1d8423b3fcbd\",\"type\":\"LinearAxis\"},{\"attributes\":{},\"id\":\"03d1f0a1-a834-4504-8309-7572ce7bb542\",\"type\":\"ResetTool\"},{\"attributes\":{\"fill_alpha\":{\"value\":0.6},\"fill_color\":{\"value\":\"firebrick\"},\"line_alpha\":{\"value\":0.6},\"line_color\":{\"value\":\"firebrick\"},\"size\":{\"field\":\"size\",\"units\":\"screen\"},\"x\":{\"field\":\"x\"},\"y\":{\"field\":\"y\"}},\"id\":\"dbb48395-0f1f-443a-8365-64ef48a08115\",\"type\":\"Square\"},{\"attributes\":{},\"id\":\"a26f39dc-152b-4e5c-a47a-d1c89918ac14\",\"type\":\"SaveTool\"},{\"attributes\":{\"below\":[{\"id\":\"0c1c807c-bd70-4192-bcbe-59d337d37bf7\",\"type\":\"LinearAxis\"}],\"left\":[{\"id\":\"b9b2db70-5f3a-41fd-84d5-1d8423b3fcbd\",\"type\":\"LinearAxis\"}],\"plot_height\":400,\"plot_width\":400,\"renderers\":[{\"id\":\"0c1c807c-bd70-4192-bcbe-59d337d37bf7\",\"type\":\"LinearAxis\"},{\"id\":\"205df1a6-cc3c-4679-9c91-e36b90dccea2\",\"type\":\"Grid\"},{\"id\":\"b9b2db70-5f3a-41fd-84d5-1d8423b3fcbd\",\"type\":\"LinearAxis\"},{\"id\":\"41e50e22-0c5e-4432-963c-90d1d3054a8a\",\"type\":\"Grid\"},{\"id\":\"f862f417-5de4-4e6e-a2d9-6b839f19c912\",\"type\":\"BoxAnnotation\"},{\"id\":\"e4cf7fdd-d4b9-4e92-a83d-b3c373ebdbb7\",\"type\":\"GlyphRenderer\"}],\"title\":{\"id\":\"77628959-7f2f-4833-b0d0-c3e861be48e7\",\"type\":\"Title\"},\"toolbar\":{\"id\":\"c77720fc-8f8c-4f36-8a7e-8337c6073ef7\",\"type\":\"Toolbar\"},\"x_range\":{\"id\":\"039878a8-268d-4e9e-a8ee-1fe9b84c6b78\",\"type\":\"DataRange1d\"},\"x_scale\":{\"id\":\"1c0866c5-9ac0-4f6e-8510-f29c3e2a6e4e\",\"type\":\"LinearScale\"},\"y_range\":{\"id\":\"9f973a4f-79c4-41f8-8a26-93ec28b6de8e\",\"type\":\"DataRange1d\"},\"y_scale\":{\"id\":\"221d7d67-48c8-41f3-b3fe-0a03b2077f4b\",\"type\":\"LinearScale\"}},\"id\":\"b19b76b3-fdf5-4ecb-8c16-121ab2d1e81d\",\"subtype\":\"Figure\",\"type\":\"Plot\"},{\"attributes\":{\"overlay\":{\"id\":\"f862f417-5de4-4e6e-a2d9-6b839f19c912\",\"type\":\"BoxAnnotation\"}},\"id\":\"69f2897a-62f4-446c-b622-47f1285f4f63\",\"type\":\"BoxZoomTool\"},{\"attributes\":{\"callback\":null,\"column_names\":[\"x\",\"y\",\"size\"],\"data\":{\"size\":[10,15,20,25,30],\"x\":[1,2,3,4,5],\"y\":[6,7,2,4,5]}},\"id\":\"85de6381-1142-470b-8cff-9e5fa61d29b6\",\"type\":\"ColumnDataSource\"}],\"root_ids\":[\"b19b76b3-fdf5-4ecb-8c16-121ab2d1e81d\"]},\"title\":\"Bokeh Application\",\"version\":\"0.12.13\"}};\n",
       "  var render_items = [{\"docid\":\"6cbbc8a3-2c7d-47c6-ac43-4171f7fab47b\",\"elementid\":\"93dd8277-cae7-4299-a87d-ac1f2f39e193\",\"modelid\":\"b19b76b3-fdf5-4ecb-8c16-121ab2d1e81d\"}];\n",
       "  root.Bokeh.embed.embed_items_notebook(docs_json, render_items);\n",
       "\n",
       "  }\n",
       "  if (root.Bokeh !== undefined) {\n",
       "    embed_document(root);\n",
       "  } else {\n",
       "    var attempts = 0;\n",
       "    var timer = setInterval(function(root) {\n",
       "      if (root.Bokeh !== undefined) {\n",
       "        embed_document(root);\n",
       "        clearInterval(timer);\n",
       "      }\n",
       "      attempts++;\n",
       "      if (attempts > 100) {\n",
       "        console.log(\"Bokeh: ERROR: Unable to run BokehJS code because BokehJS library is missing\")\n",
       "        clearInterval(timer);\n",
       "      }\n",
       "    }, 10, root)\n",
       "  }\n",
       "})(window);"
      ],
      "application/vnd.bokehjs_exec.v0+json": ""
     },
     "metadata": {
      "application/vnd.bokehjs_exec.v0+json": {
       "id": "b19b76b3-fdf5-4ecb-8c16-121ab2d1e81d"
      }
     },
     "output_type": "display_data"
    }
   ],
   "source": [
    "# create a new plot using figure\n",
    "p = figure(plot_width=400, plot_height=400)\n",
    "\n",
    "# add a square renderer with a size, color, alpha, and sizes\n",
    "p.square([1, 2, 3, 4, 5], [6, 7, 2, 4, 5], size=[10, 15, 20, 25, 30], color=\"firebrick\", alpha=0.6)\n",
    "\n",
    "show(p) # show the results"
   ]
  },
  {
   "cell_type": "markdown",
   "metadata": {},
   "source": [
    "Note that in the example above, we are also specifying different sizes for each individual marker. ***In general, all of a glyph's properties can be \"vectorized\" in this fashion. ***  Also note that we have passed ``color`` as a shorthand to set both the line and fill colors easily at the same time. This is a convenience specific to ``bokeh.plotting``.\n",
    "\n",
    "</table><p>There are many marker types available in Bokeh, you can see details and\n",
    "example plots for all of them in the reference guide by clicking on entries in the list below:</p>\n",
    "<table class=\"hlist\" style=\"float:left\"><tr><td><ul>\n",
    "<li><a href=\"http://bokeh.pydata.org/en/latest/docs/reference/plotting.html#bokeh.plotting.Figure.asterisk\" title=\"bokeh.plotting.Figure.asterisk\"><code class=\"xref py py-func docutils literal\"><span class=\"pre\">asterisk()</span></code></a></li>\n",
    "<li><a href=\"http://bokeh.pydata.org/en/latest/docs/reference/plotting.html#bokeh.plotting.Figure.circle\" title=\"bokeh.plotting.Figure.circle\"><code class=\"xref py py-func docutils literal\"><span class=\"pre\">circle()</span></code></a></li>\n",
    "<li><a href=\"http://bokeh.pydata.org/en/latest/docs/reference/plotting.html#bokeh.plotting.Figure.circle_cross\" title=\"bokeh.plotting.Figure.circle_cross\"><code class=\"xref py py-func docutils literal\"><span class=\"pre\">circle_cross()</span></code></a></li>\n",
    "<li><a href=\"http://bokeh.pydata.org/en/latest/docs/reference/plotting.html#bokeh.plotting.Figure.circle_x\" title=\"bokeh.plotting.Figure.circle_x\"><code class=\"xref py py-func docutils literal\"><span class=\"pre\">circle_x()</span></code></a></li>\n",
    "<li><a href=\"http://bokeh.pydata.org/en/latest/docs/reference/plotting.html#bokeh.plotting.Figure.cross\" title=\"bokeh.plotting.Figure.cross\"><code class=\"xref py py-func docutils literal\"><span class=\"pre\">cross()</span></code></a></li>\n",
    "</ul>\n",
    "</td><td><ul>\n",
    "<li><a href=\"http://bokeh.pydata.org/en/latest/docs/reference/plotting.html#bokeh.plotting.Figure.diamond\" title=\"bokeh.plotting.Figure.diamond\"><code class=\"xref py py-func docutils literal\"><span class=\"pre\">diamond()</span></code></a></li>\n",
    "<li><a href=\"http://bokeh.pydata.org/en/latest/docs/reference/plotting.html#bokeh.plotting.Figure.diamond_cross\" title=\"bokeh.plotting.Figure.diamond_cross\"><code class=\"xref py py-func docutils literal\"><span class=\"pre\">diamond_cross()</span></code></a></li>\n",
    "<li><a href=\"http://bokeh.pydata.org/en/latest/docs/reference/plotting.html#bokeh.plotting.Figure.inverted_triangle\" title=\"bokeh.plotting.Figure.inverted_triangle\"><code class=\"xref py py-func docutils literal\"><span class=\"pre\">inverted_triangle()</span></code></a></li>\n",
    "<li><a href=\"http://bokeh.pydata.org/en/latest/docs/reference/plotting.html#bokeh.plotting.Figure.square\" title=\"bokeh.plotting.Figure.square\"><code class=\"xref py py-func docutils literal\"><span class=\"pre\">square()</span></code></a></li>\n",
    "</ul>\n",
    "</td><td><ul>\n",
    "<li><a href=\"http://bokeh.pydata.org/en/latest/docs/reference/plotting.html#bokeh.plotting.Figure.square_cross\" title=\"bokeh.plotting.Figure.square_cross\"><code class=\"xref py py-func docutils literal\"><span class=\"pre\">square_cross()</span></code></a></li>\n",
    "<li><a href=\"http://bokeh.pydata.org/en/latest/docs/reference/plotting.html#bokeh.plotting.Figure.square_x\" title=\"bokeh.plotting.Figure.square_x\"><code class=\"xref py py-func docutils literal\"><span class=\"pre\">square_x()</span></code></a></li>\n",
    "<li><a href=\"http://bokeh.pydata.org/en/latest/docs/reference/plotting.html#bokeh.plotting.Figure.triangle\" title=\"bokeh.plotting.Figure.triangle\"><code class=\"xref py py-func docutils literal\"><span class=\"pre\">triangle()</span></code></a></li>\n",
    "<li><a href=\"http://bokeh.pydata.org/en/latest/docs/reference/plotting.html#bokeh.plotting.Figure.x\" title=\"bokeh.plotting.Figure.x\"><code class=\"xref py py-func docutils literal\"><span class=\"pre\">x()</span></code></a></li>\n",
    "</ul>\n",
    "</td></tr></table>"
   ]
  },
  {
   "cell_type": "code",
   "execution_count": 6,
   "metadata": {
    "collapsed": true
   },
   "outputs": [],
   "source": [
    "# EXERCISE: Plot some different markers in this cell\n",
    "\n"
   ]
  },
  {
   "cell_type": "markdown",
   "metadata": {},
   "source": [
    "# Basic Line Plots"
   ]
  },
  {
   "cell_type": "code",
   "execution_count": 7,
   "metadata": {},
   "outputs": [
    {
     "data": {
      "text/html": [
       "\n",
       "<div class=\"bk-root\">\n",
       "    <div class=\"bk-plotdiv\" id=\"6454fa55-063b-4cec-a784-80b6796d6e0e\"></div>\n",
       "</div>"
      ]
     },
     "metadata": {},
     "output_type": "display_data"
    },
    {
     "data": {
      "application/javascript": [
       "(function(root) {\n",
       "  function embed_document(root) {\n",
       "    \n",
       "  var docs_json = {\"d058222e-8941-4613-8935-a88e4455cb2e\":{\"roots\":{\"references\":[{\"attributes\":{\"formatter\":{\"id\":\"66cdd85f-41a5-4e87-bf06-529a67da9d7b\",\"type\":\"BasicTickFormatter\"},\"plot\":{\"id\":\"9afda766-1f95-4b56-aeff-35546e0b60e9\",\"subtype\":\"Figure\",\"type\":\"Plot\"},\"ticker\":{\"id\":\"bf199589-a715-4cd9-ac74-b63c7ac05539\",\"type\":\"BasicTicker\"}},\"id\":\"e88235d0-c8a0-4a39-8437-3f58c3108583\",\"type\":\"LinearAxis\"},{\"attributes\":{\"overlay\":{\"id\":\"9ca8c338-7312-46ea-be55-0569e533a69e\",\"type\":\"BoxAnnotation\"}},\"id\":\"f7641cea-9809-4060-a8e6-77f69e6a16c1\",\"type\":\"BoxZoomTool\"},{\"attributes\":{},\"id\":\"bf199589-a715-4cd9-ac74-b63c7ac05539\",\"type\":\"BasicTicker\"},{\"attributes\":{\"data_source\":{\"id\":\"eb230e9f-1d41-4cb3-ad98-28fd51cb9a6e\",\"type\":\"ColumnDataSource\"},\"glyph\":{\"id\":\"4a451cfe-69a7-4b65-9a7f-45a534058178\",\"type\":\"Line\"},\"hover_glyph\":null,\"muted_glyph\":null,\"nonselection_glyph\":{\"id\":\"19c5018d-2fc1-41c8-9326-417e01b1359a\",\"type\":\"Line\"},\"selection_glyph\":null,\"view\":{\"id\":\"2e349760-9db7-4b5f-89dc-ec16ec1ef7cb\",\"type\":\"CDSView\"}},\"id\":\"8dd3dc77-5d45-4ce3-9aa7-8e2649dbd90b\",\"type\":\"GlyphRenderer\"},{\"attributes\":{\"source\":{\"id\":\"eb230e9f-1d41-4cb3-ad98-28fd51cb9a6e\",\"type\":\"ColumnDataSource\"}},\"id\":\"2e349760-9db7-4b5f-89dc-ec16ec1ef7cb\",\"type\":\"CDSView\"},{\"attributes\":{\"line_color\":\"#1f77b4\",\"line_width\":2,\"x\":{\"field\":\"x\"},\"y\":{\"field\":\"y\"}},\"id\":\"4a451cfe-69a7-4b65-9a7f-45a534058178\",\"type\":\"Line\"},{\"attributes\":{},\"id\":\"7c5bda49-3238-42c6-8823-4a01deff50e2\",\"type\":\"LinearScale\"},{\"attributes\":{\"callback\":null,\"column_names\":[\"x\",\"y\"],\"data\":{\"x\":[1,2,3,4,5],\"y\":[6,7,2,4,5]}},\"id\":\"eb230e9f-1d41-4cb3-ad98-28fd51cb9a6e\",\"type\":\"ColumnDataSource\"},{\"attributes\":{\"bottom_units\":\"screen\",\"fill_alpha\":{\"value\":0.5},\"fill_color\":{\"value\":\"lightgrey\"},\"left_units\":\"screen\",\"level\":\"overlay\",\"line_alpha\":{\"value\":1.0},\"line_color\":{\"value\":\"black\"},\"line_dash\":[4,4],\"line_width\":{\"value\":2},\"plot\":null,\"render_mode\":\"css\",\"right_units\":\"screen\",\"top_units\":\"screen\"},\"id\":\"9ca8c338-7312-46ea-be55-0569e533a69e\",\"type\":\"BoxAnnotation\"},{\"attributes\":{\"callback\":null},\"id\":\"dae83b2d-a8ff-45b2-9017-5fe8ec649022\",\"type\":\"DataRange1d\"},{\"attributes\":{\"formatter\":{\"id\":\"b0647c9e-3b00-4bb2-aa55-4c27ac248d21\",\"type\":\"BasicTickFormatter\"},\"plot\":{\"id\":\"9afda766-1f95-4b56-aeff-35546e0b60e9\",\"subtype\":\"Figure\",\"type\":\"Plot\"},\"ticker\":{\"id\":\"fb2c25f2-1370-4c50-8b5a-e9e99da74a31\",\"type\":\"BasicTicker\"}},\"id\":\"45455346-888b-4620-81ca-6edd3f5c913f\",\"type\":\"LinearAxis\"},{\"attributes\":{\"plot\":{\"id\":\"9afda766-1f95-4b56-aeff-35546e0b60e9\",\"subtype\":\"Figure\",\"type\":\"Plot\"},\"ticker\":{\"id\":\"fb2c25f2-1370-4c50-8b5a-e9e99da74a31\",\"type\":\"BasicTicker\"}},\"id\":\"77b42ed5-1819-4907-96e8-f0ba244d2eb3\",\"type\":\"Grid\"},{\"attributes\":{\"active_drag\":\"auto\",\"active_inspect\":\"auto\",\"active_scroll\":\"auto\",\"active_tap\":\"auto\",\"tools\":[{\"id\":\"97191178-a5fb-4a6a-b3f6-3e86a7c4efd1\",\"type\":\"PanTool\"},{\"id\":\"695d32f4-57da-441d-b662-22495a585955\",\"type\":\"WheelZoomTool\"},{\"id\":\"f7641cea-9809-4060-a8e6-77f69e6a16c1\",\"type\":\"BoxZoomTool\"},{\"id\":\"5c7b6e37-aa4c-48f4-8e94-802aa4c515e7\",\"type\":\"SaveTool\"},{\"id\":\"11c1b236-1892-4a6f-a847-2b88efa79676\",\"type\":\"ResetTool\"},{\"id\":\"9f731124-90b4-423c-ad25-721fdff596d0\",\"type\":\"HelpTool\"}]},\"id\":\"518f920b-bfea-412f-bef7-d15d929e215f\",\"type\":\"Toolbar\"},{\"attributes\":{\"dimension\":1,\"plot\":{\"id\":\"9afda766-1f95-4b56-aeff-35546e0b60e9\",\"subtype\":\"Figure\",\"type\":\"Plot\"},\"ticker\":{\"id\":\"bf199589-a715-4cd9-ac74-b63c7ac05539\",\"type\":\"BasicTicker\"}},\"id\":\"7f74a393-a266-4fb6-93a8-7f0c09e0191e\",\"type\":\"Grid\"},{\"attributes\":{\"callback\":null},\"id\":\"7def1925-0e5d-45ce-af22-bca3a3ae9911\",\"type\":\"DataRange1d\"},{\"attributes\":{},\"id\":\"585ecae7-611c-45a4-85cf-d1b43c92b283\",\"type\":\"LinearScale\"},{\"attributes\":{},\"id\":\"9f731124-90b4-423c-ad25-721fdff596d0\",\"type\":\"HelpTool\"},{\"attributes\":{\"line_alpha\":0.1,\"line_color\":\"#1f77b4\",\"line_width\":2,\"x\":{\"field\":\"x\"},\"y\":{\"field\":\"y\"}},\"id\":\"19c5018d-2fc1-41c8-9326-417e01b1359a\",\"type\":\"Line\"},{\"attributes\":{},\"id\":\"fb2c25f2-1370-4c50-8b5a-e9e99da74a31\",\"type\":\"BasicTicker\"},{\"attributes\":{\"below\":[{\"id\":\"45455346-888b-4620-81ca-6edd3f5c913f\",\"type\":\"LinearAxis\"}],\"left\":[{\"id\":\"e88235d0-c8a0-4a39-8437-3f58c3108583\",\"type\":\"LinearAxis\"}],\"plot_height\":400,\"plot_width\":400,\"renderers\":[{\"id\":\"45455346-888b-4620-81ca-6edd3f5c913f\",\"type\":\"LinearAxis\"},{\"id\":\"77b42ed5-1819-4907-96e8-f0ba244d2eb3\",\"type\":\"Grid\"},{\"id\":\"e88235d0-c8a0-4a39-8437-3f58c3108583\",\"type\":\"LinearAxis\"},{\"id\":\"7f74a393-a266-4fb6-93a8-7f0c09e0191e\",\"type\":\"Grid\"},{\"id\":\"9ca8c338-7312-46ea-be55-0569e533a69e\",\"type\":\"BoxAnnotation\"},{\"id\":\"8dd3dc77-5d45-4ce3-9aa7-8e2649dbd90b\",\"type\":\"GlyphRenderer\"}],\"title\":{\"id\":\"e7b522cf-cd6d-4d5e-8ff4-cffa71fbf098\",\"type\":\"Title\"},\"toolbar\":{\"id\":\"518f920b-bfea-412f-bef7-d15d929e215f\",\"type\":\"Toolbar\"},\"x_range\":{\"id\":\"7def1925-0e5d-45ce-af22-bca3a3ae9911\",\"type\":\"DataRange1d\"},\"x_scale\":{\"id\":\"7c5bda49-3238-42c6-8823-4a01deff50e2\",\"type\":\"LinearScale\"},\"y_range\":{\"id\":\"dae83b2d-a8ff-45b2-9017-5fe8ec649022\",\"type\":\"DataRange1d\"},\"y_scale\":{\"id\":\"585ecae7-611c-45a4-85cf-d1b43c92b283\",\"type\":\"LinearScale\"}},\"id\":\"9afda766-1f95-4b56-aeff-35546e0b60e9\",\"subtype\":\"Figure\",\"type\":\"Plot\"},{\"attributes\":{},\"id\":\"97191178-a5fb-4a6a-b3f6-3e86a7c4efd1\",\"type\":\"PanTool\"},{\"attributes\":{},\"id\":\"5c7b6e37-aa4c-48f4-8e94-802aa4c515e7\",\"type\":\"SaveTool\"},{\"attributes\":{\"plot\":null,\"text\":\"My Line Plot\"},\"id\":\"e7b522cf-cd6d-4d5e-8ff4-cffa71fbf098\",\"type\":\"Title\"},{\"attributes\":{},\"id\":\"11c1b236-1892-4a6f-a847-2b88efa79676\",\"type\":\"ResetTool\"},{\"attributes\":{},\"id\":\"695d32f4-57da-441d-b662-22495a585955\",\"type\":\"WheelZoomTool\"},{\"attributes\":{},\"id\":\"b0647c9e-3b00-4bb2-aa55-4c27ac248d21\",\"type\":\"BasicTickFormatter\"},{\"attributes\":{},\"id\":\"66cdd85f-41a5-4e87-bf06-529a67da9d7b\",\"type\":\"BasicTickFormatter\"}],\"root_ids\":[\"9afda766-1f95-4b56-aeff-35546e0b60e9\"]},\"title\":\"Bokeh Application\",\"version\":\"0.12.13\"}};\n",
       "  var render_items = [{\"docid\":\"d058222e-8941-4613-8935-a88e4455cb2e\",\"elementid\":\"6454fa55-063b-4cec-a784-80b6796d6e0e\",\"modelid\":\"9afda766-1f95-4b56-aeff-35546e0b60e9\"}];\n",
       "  root.Bokeh.embed.embed_items_notebook(docs_json, render_items);\n",
       "\n",
       "  }\n",
       "  if (root.Bokeh !== undefined) {\n",
       "    embed_document(root);\n",
       "  } else {\n",
       "    var attempts = 0;\n",
       "    var timer = setInterval(function(root) {\n",
       "      if (root.Bokeh !== undefined) {\n",
       "        embed_document(root);\n",
       "        clearInterval(timer);\n",
       "      }\n",
       "      attempts++;\n",
       "      if (attempts > 100) {\n",
       "        console.log(\"Bokeh: ERROR: Unable to run BokehJS code because BokehJS library is missing\")\n",
       "        clearInterval(timer);\n",
       "      }\n",
       "    }, 10, root)\n",
       "  }\n",
       "})(window);"
      ],
      "application/vnd.bokehjs_exec.v0+json": ""
     },
     "metadata": {
      "application/vnd.bokehjs_exec.v0+json": {
       "id": "9afda766-1f95-4b56-aeff-35546e0b60e9"
      }
     },
     "output_type": "display_data"
    }
   ],
   "source": [
    "# create a new plot (with a title) using figure\n",
    "p = figure(plot_width=400, plot_height=400, title=\"My Line Plot\")\n",
    "\n",
    "# add a line renderer\n",
    "p.line([1, 2, 3, 4, 5], [6, 7, 2, 4, 5], line_width=2)\n",
    "\n",
    "show(p) # show the results"
   ]
  },
  {
   "cell_type": "markdown",
   "metadata": {},
   "source": [
    "# Images"
   ]
  },
  {
   "cell_type": "markdown",
   "metadata": {},
   "source": [
    "The example below shows how to use the `image_rgba` method to display raw RGBA data. \n",
    "\n",
    "**Note**: This example makes use of the NumPy library "
   ]
  },
  {
   "cell_type": "code",
   "execution_count": 8,
   "metadata": {},
   "outputs": [
    {
     "data": {
      "text/html": [
       "\n",
       "<div class=\"bk-root\">\n",
       "    <div class=\"bk-plotdiv\" id=\"cebf834d-16cd-48a9-b78a-7fc0db2762ae\"></div>\n",
       "</div>"
      ]
     },
     "metadata": {},
     "output_type": "display_data"
    },
    {
     "data": {
      "application/javascript": [
       "(function(root) {\n",
       "  function embed_document(root) {\n",
       "    \n",
       "  var docs_json = {\"1548b29e-7d0c-4002-8ff2-9992e7436517\":{\"roots\":{\"references\":[{\"attributes\":{\"callback\":null,\"column_names\":[\"image\",\"x\",\"y\",\"dw\",\"dh\"],\"data\":{\"dh\":[10],\"dw\":[10],\"image\":[{\"__ndarray__\":\"AJ4A/wCeDP8Anhn/AJ4m/wCeM/8Anj//AJ5M/wCeWf8Anmb/AJ5y/wCef/8Anoz/AJ6Z/wCepf8AnrL/AJ6//wCezP8Antj/AJ7l/wCe8v8MngD/DJ4M/wyeGf8Mnib/DJ4z/wyeP/8Mnkz/DJ5Z/wyeZv8MnnL/DJ5//wyejP8Mnpn/DJ6l/wyesv8Mnr//DJ7M/wye2P8MnuX/DJ7y/xmeAP8Zngz/GZ4Z/xmeJv8ZnjP/GZ4//xmeTP8Znln/GZ5m/xmecv8Znn//GZ6M/xmemf8ZnqX/GZ6y/xmev/8Znsz/GZ7Y/xme5f8ZnvL/Jp4A/yaeDP8mnhn/Jp4m/yaeM/8mnj//Jp5M/yaeWf8mnmb/Jp5y/yaef/8mnoz/Jp6Z/yaepf8mnrL/Jp6//yaezP8mntj/Jp7l/yae8v8zngD/M54M/zOeGf8znib/M54z/zOeP/8znkz/M55Z/zOeZv8znnL/M55//zOejP8znpn/M56l/zOesv8znr//M57M/zOe2P8znuX/M57y/z+eAP8/ngz/P54Z/z+eJv8/njP/P54//z+eTP8/nln/P55m/z+ecv8/nn//P56M/z+emf8/nqX/P56y/z+ev/8/nsz/P57Y/z+e5f8/nvL/TJ4A/0yeDP9Mnhn/TJ4m/0yeM/9Mnj//TJ5M/0yeWf9Mnmb/TJ5y/0yef/9Mnoz/TJ6Z/0yepf9MnrL/TJ6//0yezP9Mntj/TJ7l/0ye8v9ZngD/WZ4M/1meGf9Znib/WZ4z/1meP/9Znkz/WZ5Z/1meZv9ZnnL/WZ5//1mejP9Znpn/WZ6l/1mesv9Znr//WZ7M/1me2P9ZnuX/WZ7y/2aeAP9mngz/Zp4Z/2aeJv9mnjP/Zp4//2aeTP9mnln/Zp5m/2aecv9mnn//Zp6M/2aemf9mnqX/Zp6y/2aev/9mnsz/Zp7Y/2ae5f9mnvL/cp4A/3KeDP9ynhn/cp4m/3KeM/9ynj//cp5M/3KeWf9ynmb/cp5y/3Kef/9ynoz/cp6Z/3Kepf9ynrL/cp6//3KezP9yntj/cp7l/3Ke8v9/ngD/f54M/3+eGf9/nib/f54z/3+eP/9/nkz/f55Z/3+eZv9/nnL/f55//3+ejP9/npn/f56l/3+esv9/nr//f57M/3+e2P9/nuX/f57y/4yeAP+Mngz/jJ4Z/4yeJv+MnjP/jJ4//4yeTP+Mnln/jJ5m/4yecv+Mnn//jJ6M/4yemf+MnqX/jJ6y/4yev/+Mnsz/jJ7Y/4ye5f+MnvL/mZ4A/5meDP+Znhn/mZ4m/5meM/+Znj//mZ5M/5meWf+Znmb/mZ5y/5mef/+Znoz/mZ6Z/5mepf+ZnrL/mZ6//5mezP+Zntj/mZ7l/5me8v+lngD/pZ4M/6WeGf+lnib/pZ4z/6WeP/+lnkz/pZ5Z/6WeZv+lnnL/pZ5//6WejP+lnpn/pZ6l/6Wesv+lnr//pZ7M/6We2P+lnuX/pZ7y/7KeAP+yngz/sp4Z/7KeJv+ynjP/sp4//7KeTP+ynln/sp5m/7Kecv+ynn//sp6M/7Kemf+ynqX/sp6y/7Kev/+ynsz/sp7Y/7Ke5f+ynvL/v54A/7+eDP+/nhn/v54m/7+eM/+/nj//v55M/7+eWf+/nmb/v55y/7+ef/+/noz/v56Z/7+epf+/nrL/v56//7+ezP+/ntj/v57l/7+e8v/MngD/zJ4M/8yeGf/Mnib/zJ4z/8yeP//Mnkz/zJ5Z/8yeZv/MnnL/zJ5//8yejP/Mnpn/zJ6l/8yesv/Mnr//zJ7M/8ye2P/MnuX/zJ7y/9ieAP/Yngz/2J4Z/9ieJv/YnjP/2J4//9ieTP/Ynln/2J5m/9iecv/Ynn//2J6M/9iemf/YnqX/2J6y/9iev//Ynsz/2J7Y/9ie5f/YnvL/5Z4A/+WeDP/lnhn/5Z4m/+WeM//lnj//5Z5M/+WeWf/lnmb/5Z5y/+Wef//lnoz/5Z6Z/+Wepf/lnrL/5Z6//+WezP/lntj/5Z7l/+We8v/yngD/8p4M//KeGf/ynib/8p4z//KeP//ynkz/8p5Z//KeZv/ynnL/8p5///KejP/ynpn/8p6l//Kesv/ynr//8p7M//Ke2P/ynuX/8p7y/w==\",\"dtype\":\"uint32\",\"shape\":[20,20]}],\"x\":[0],\"y\":[0]}},\"id\":\"fa2fa0bf-340d-4aea-8c70-bf48bc4faedd\",\"type\":\"ColumnDataSource\"},{\"attributes\":{},\"id\":\"3dcb8b88-37c3-48b9-ade9-9ae497a6106b\",\"type\":\"WheelZoomTool\"},{\"attributes\":{\"data_source\":{\"id\":\"fa2fa0bf-340d-4aea-8c70-bf48bc4faedd\",\"type\":\"ColumnDataSource\"},\"glyph\":{\"id\":\"59b802f1-0369-44bc-858a-7ad8421e2ff3\",\"type\":\"ImageRGBA\"},\"hover_glyph\":null,\"muted_glyph\":null,\"nonselection_glyph\":{\"id\":\"c89b2624-d2fe-4227-8689-cbde5e930c17\",\"type\":\"ImageRGBA\"},\"selection_glyph\":null,\"view\":{\"id\":\"f70acef5-8a53-497f-ac7b-2a639f94b170\",\"type\":\"CDSView\"}},\"id\":\"33bf6b74-e3ea-4dd2-abd5-21d3598f74d4\",\"type\":\"GlyphRenderer\"},{\"attributes\":{\"bottom_units\":\"screen\",\"fill_alpha\":{\"value\":0.5},\"fill_color\":{\"value\":\"lightgrey\"},\"left_units\":\"screen\",\"level\":\"overlay\",\"line_alpha\":{\"value\":1.0},\"line_color\":{\"value\":\"black\"},\"line_dash\":[4,4],\"line_width\":{\"value\":2},\"plot\":null,\"render_mode\":\"css\",\"right_units\":\"screen\",\"top_units\":\"screen\"},\"id\":\"71e2a9fa-4497-402f-b11e-53d143bac6dc\",\"type\":\"BoxAnnotation\"},{\"attributes\":{\"below\":[{\"id\":\"678e7e39-e145-4ac7-b7b6-faf48cfa7c5d\",\"type\":\"LinearAxis\"}],\"left\":[{\"id\":\"aa585bed-dbc6-4e29-9522-0de195f904cf\",\"type\":\"LinearAxis\"}],\"renderers\":[{\"id\":\"678e7e39-e145-4ac7-b7b6-faf48cfa7c5d\",\"type\":\"LinearAxis\"},{\"id\":\"546736da-a382-4a33-b0ef-cdaba1c2433e\",\"type\":\"Grid\"},{\"id\":\"aa585bed-dbc6-4e29-9522-0de195f904cf\",\"type\":\"LinearAxis\"},{\"id\":\"bc485138-90cb-469e-8b35-bd3508ac88af\",\"type\":\"Grid\"},{\"id\":\"71e2a9fa-4497-402f-b11e-53d143bac6dc\",\"type\":\"BoxAnnotation\"},{\"id\":\"33bf6b74-e3ea-4dd2-abd5-21d3598f74d4\",\"type\":\"GlyphRenderer\"}],\"title\":{\"id\":\"517194ec-2455-48e4-a12a-8f38b1e23a76\",\"type\":\"Title\"},\"toolbar\":{\"id\":\"03044ddf-f11b-4db7-8dc2-6b792bd46814\",\"type\":\"Toolbar\"},\"x_range\":{\"id\":\"9c6bb68e-1dc9-40d6-af25-0a741ac7be97\",\"type\":\"Range1d\"},\"x_scale\":{\"id\":\"10004f9a-e659-40d8-be5b-7019483353bb\",\"type\":\"LinearScale\"},\"y_range\":{\"id\":\"d83fd171-c1d1-463c-9617-7e37161a3e9e\",\"type\":\"Range1d\"},\"y_scale\":{\"id\":\"efdd94b5-a15e-4d7e-98fe-6bd7aa08ddcb\",\"type\":\"LinearScale\"}},\"id\":\"bb91adda-4a3a-4e23-897f-d204142aa4ab\",\"subtype\":\"Figure\",\"type\":\"Plot\"},{\"attributes\":{\"overlay\":{\"id\":\"71e2a9fa-4497-402f-b11e-53d143bac6dc\",\"type\":\"BoxAnnotation\"}},\"id\":\"a8ae4e02-b38c-4c1d-b174-e302448c94fe\",\"type\":\"BoxZoomTool\"},{\"attributes\":{\"active_drag\":\"auto\",\"active_inspect\":\"auto\",\"active_scroll\":\"auto\",\"active_tap\":\"auto\",\"tools\":[{\"id\":\"dcabbc03-30e1-4a64-8ee2-5443ddb3ea9d\",\"type\":\"PanTool\"},{\"id\":\"3dcb8b88-37c3-48b9-ade9-9ae497a6106b\",\"type\":\"WheelZoomTool\"},{\"id\":\"a8ae4e02-b38c-4c1d-b174-e302448c94fe\",\"type\":\"BoxZoomTool\"},{\"id\":\"ba854e46-c0f9-4066-8a6f-bc752ee17e91\",\"type\":\"SaveTool\"},{\"id\":\"bb3ea4e0-4250-4eea-ab78-f8d0a13dc664\",\"type\":\"ResetTool\"},{\"id\":\"3534cbd4-e8a1-480b-a29e-bdbd35eb1357\",\"type\":\"HelpTool\"}]},\"id\":\"03044ddf-f11b-4db7-8dc2-6b792bd46814\",\"type\":\"Toolbar\"},{\"attributes\":{},\"id\":\"bb3ea4e0-4250-4eea-ab78-f8d0a13dc664\",\"type\":\"ResetTool\"},{\"attributes\":{},\"id\":\"3534cbd4-e8a1-480b-a29e-bdbd35eb1357\",\"type\":\"HelpTool\"},{\"attributes\":{\"callback\":null,\"end\":10},\"id\":\"9c6bb68e-1dc9-40d6-af25-0a741ac7be97\",\"type\":\"Range1d\"},{\"attributes\":{},\"id\":\"40e3a9dd-2e74-462e-bd9a-82651905e17b\",\"type\":\"BasicTickFormatter\"},{\"attributes\":{\"dh\":{\"field\":\"dh\",\"units\":\"data\"},\"dw\":{\"field\":\"dw\",\"units\":\"data\"},\"image\":{\"field\":\"image\"},\"x\":{\"field\":\"x\"},\"y\":{\"field\":\"y\"}},\"id\":\"59b802f1-0369-44bc-858a-7ad8421e2ff3\",\"type\":\"ImageRGBA\"},{\"attributes\":{\"callback\":null,\"end\":10},\"id\":\"d83fd171-c1d1-463c-9617-7e37161a3e9e\",\"type\":\"Range1d\"},{\"attributes\":{\"dimension\":1,\"plot\":{\"id\":\"bb91adda-4a3a-4e23-897f-d204142aa4ab\",\"subtype\":\"Figure\",\"type\":\"Plot\"},\"ticker\":{\"id\":\"288dc12e-2526-43ad-99d8-b063680412de\",\"type\":\"BasicTicker\"}},\"id\":\"bc485138-90cb-469e-8b35-bd3508ac88af\",\"type\":\"Grid\"},{\"attributes\":{},\"id\":\"10004f9a-e659-40d8-be5b-7019483353bb\",\"type\":\"LinearScale\"},{\"attributes\":{},\"id\":\"efdd94b5-a15e-4d7e-98fe-6bd7aa08ddcb\",\"type\":\"LinearScale\"},{\"attributes\":{\"plot\":{\"id\":\"bb91adda-4a3a-4e23-897f-d204142aa4ab\",\"subtype\":\"Figure\",\"type\":\"Plot\"},\"ticker\":{\"id\":\"13503a23-1dff-4386-b904-956d754fce5c\",\"type\":\"BasicTicker\"}},\"id\":\"546736da-a382-4a33-b0ef-cdaba1c2433e\",\"type\":\"Grid\"},{\"attributes\":{},\"id\":\"7d2c8499-1e81-4b5b-acfb-ea129d545955\",\"type\":\"BasicTickFormatter\"},{\"attributes\":{\"formatter\":{\"id\":\"7d2c8499-1e81-4b5b-acfb-ea129d545955\",\"type\":\"BasicTickFormatter\"},\"plot\":{\"id\":\"bb91adda-4a3a-4e23-897f-d204142aa4ab\",\"subtype\":\"Figure\",\"type\":\"Plot\"},\"ticker\":{\"id\":\"13503a23-1dff-4386-b904-956d754fce5c\",\"type\":\"BasicTicker\"}},\"id\":\"678e7e39-e145-4ac7-b7b6-faf48cfa7c5d\",\"type\":\"LinearAxis\"},{\"attributes\":{},\"id\":\"13503a23-1dff-4386-b904-956d754fce5c\",\"type\":\"BasicTicker\"},{\"attributes\":{\"formatter\":{\"id\":\"40e3a9dd-2e74-462e-bd9a-82651905e17b\",\"type\":\"BasicTickFormatter\"},\"plot\":{\"id\":\"bb91adda-4a3a-4e23-897f-d204142aa4ab\",\"subtype\":\"Figure\",\"type\":\"Plot\"},\"ticker\":{\"id\":\"288dc12e-2526-43ad-99d8-b063680412de\",\"type\":\"BasicTicker\"}},\"id\":\"aa585bed-dbc6-4e29-9522-0de195f904cf\",\"type\":\"LinearAxis\"},{\"attributes\":{},\"id\":\"288dc12e-2526-43ad-99d8-b063680412de\",\"type\":\"BasicTicker\"},{\"attributes\":{\"dh\":{\"field\":\"dh\",\"units\":\"data\"},\"dw\":{\"field\":\"dw\",\"units\":\"data\"},\"image\":{\"field\":\"image\"},\"x\":{\"field\":\"x\"},\"y\":{\"field\":\"y\"}},\"id\":\"c89b2624-d2fe-4227-8689-cbde5e930c17\",\"type\":\"ImageRGBA\"},{\"attributes\":{\"plot\":null,\"text\":\"\"},\"id\":\"517194ec-2455-48e4-a12a-8f38b1e23a76\",\"type\":\"Title\"},{\"attributes\":{\"source\":{\"id\":\"fa2fa0bf-340d-4aea-8c70-bf48bc4faedd\",\"type\":\"ColumnDataSource\"}},\"id\":\"f70acef5-8a53-497f-ac7b-2a639f94b170\",\"type\":\"CDSView\"},{\"attributes\":{},\"id\":\"dcabbc03-30e1-4a64-8ee2-5443ddb3ea9d\",\"type\":\"PanTool\"},{\"attributes\":{},\"id\":\"ba854e46-c0f9-4066-8a6f-bc752ee17e91\",\"type\":\"SaveTool\"}],\"root_ids\":[\"bb91adda-4a3a-4e23-897f-d204142aa4ab\"]},\"title\":\"Bokeh Application\",\"version\":\"0.12.13\"}};\n",
       "  var render_items = [{\"docid\":\"1548b29e-7d0c-4002-8ff2-9992e7436517\",\"elementid\":\"cebf834d-16cd-48a9-b78a-7fc0db2762ae\",\"modelid\":\"bb91adda-4a3a-4e23-897f-d204142aa4ab\"}];\n",
       "  root.Bokeh.embed.embed_items_notebook(docs_json, render_items);\n",
       "\n",
       "  }\n",
       "  if (root.Bokeh !== undefined) {\n",
       "    embed_document(root);\n",
       "  } else {\n",
       "    var attempts = 0;\n",
       "    var timer = setInterval(function(root) {\n",
       "      if (root.Bokeh !== undefined) {\n",
       "        embed_document(root);\n",
       "        clearInterval(timer);\n",
       "      }\n",
       "      attempts++;\n",
       "      if (attempts > 100) {\n",
       "        console.log(\"Bokeh: ERROR: Unable to run BokehJS code because BokehJS library is missing\")\n",
       "        clearInterval(timer);\n",
       "      }\n",
       "    }, 10, root)\n",
       "  }\n",
       "})(window);"
      ],
      "application/vnd.bokehjs_exec.v0+json": ""
     },
     "metadata": {
      "application/vnd.bokehjs_exec.v0+json": {
       "id": "bb91adda-4a3a-4e23-897f-d204142aa4ab"
      }
     },
     "output_type": "display_data"
    }
   ],
   "source": [
    "from __future__ import division\n",
    "import numpy as np\n",
    "\n",
    "# set up some data\n",
    "N = 20\n",
    "img = np.empty((N,N), dtype=np.uint32)\n",
    "view = img.view(dtype=np.uint8).reshape((N, N, 4))\n",
    "for i in range(N):\n",
    "    for j in range(N):\n",
    "        view[i, j, 0] = int(i/N*255) # red\n",
    "        view[i, j, 1] = 158          # green\n",
    "        view[i, j, 2] = int(j/N*255) # blue\n",
    "        view[i, j, 3] = 255          # alpha\n",
    "        \n",
    "# create a new plot (with a fixed range) using figure\n",
    "p = figure(x_range=[0,10], y_range=[0,10])\n",
    "\n",
    "# add an RGBA image renderer\n",
    "p.image_rgba(image=[img], x=[0], y=[0], dw=[10], dh=[10])\n",
    "\n",
    "show(p) # show the results"
   ]
  },
  {
   "cell_type": "markdown",
   "metadata": {},
   "source": [
    "# Other Kinds of Glyphs\n",
    "\n",
    "Bokeh supports many other kinds of glyphs. You can click on the User Guide links below to see how to create plots with these glyphs using the [`bokeh.plotting`](http://bokeh.pydata.org/en/latest/docs/user_guide/plotting.html) interface.\n",
    "\n",
    "* [Rectangles and Ovals](http://bokeh.pydata.org/en/latest/docs/user_guide/plotting.html#rectangles-and-ovals)\n",
    "* [Segments and Rays](http://bokeh.pydata.org/en/latest/docs/user_guide/plotting.html#segments-and-rays)\n",
    "* [Wedges and Arcs](http://bokeh.pydata.org/en/latest/docs/user_guide/plotting.html#wedges-and-arcs)\n",
    "* [Specialized Curves](http://bokeh.pydata.org/en/latest/docs/user_guide/plotting.html#specialized-curves)\n"
   ]
  },
  {
   "cell_type": "code",
   "execution_count": 9,
   "metadata": {
    "collapsed": true
   },
   "outputs": [],
   "source": [
    "# EXERCISE: Plot some of the other glyph types, following the examples in the User Guide. \n",
    "\n"
   ]
  },
  {
   "cell_type": "markdown",
   "metadata": {},
   "source": [
    "# Plots with Multiple Glyphs \n",
    "\n",
    "It is possible to combine more than one glyph on a single figure. You just need to call multiple glyph methods on one figure object:"
   ]
  },
  {
   "cell_type": "code",
   "execution_count": 10,
   "metadata": {},
   "outputs": [
    {
     "data": {
      "text/html": [
       "\n",
       "<div class=\"bk-root\">\n",
       "    <div class=\"bk-plotdiv\" id=\"bc9ccb68-08f0-4156-92e6-b365d018b865\"></div>\n",
       "</div>"
      ]
     },
     "metadata": {},
     "output_type": "display_data"
    },
    {
     "data": {
      "application/javascript": [
       "(function(root) {\n",
       "  function embed_document(root) {\n",
       "    \n",
       "  var docs_json = {\"eb6ca7d9-2c6b-4596-b318-2bd08753a509\":{\"roots\":{\"references\":[{\"attributes\":{},\"id\":\"21f8ca29-9c51-44e4-a407-6ca2f226a6bd\",\"type\":\"BasicTickFormatter\"},{\"attributes\":{\"line_color\":\"#1f77b4\",\"line_width\":2,\"x\":{\"field\":\"x\"},\"y\":{\"field\":\"y\"}},\"id\":\"d644047c-9678-4bcb-ace9-d7308ef584e5\",\"type\":\"Line\"},{\"attributes\":{\"fill_color\":{\"value\":\"white\"},\"line_color\":{\"value\":\"#1f77b4\"},\"size\":{\"units\":\"screen\",\"value\":8},\"x\":{\"field\":\"x\"},\"y\":{\"field\":\"y\"}},\"id\":\"1200c40b-c0f8-4532-9395-cc04d69d9a18\",\"type\":\"Circle\"},{\"attributes\":{\"fill_alpha\":{\"value\":0.1},\"fill_color\":{\"value\":\"#1f77b4\"},\"line_alpha\":{\"value\":0.1},\"line_color\":{\"value\":\"#1f77b4\"},\"size\":{\"units\":\"screen\",\"value\":8},\"x\":{\"field\":\"x\"},\"y\":{\"field\":\"y\"}},\"id\":\"37a22d95-1eee-48eb-bdff-92d5cf29604b\",\"type\":\"Circle\"},{\"attributes\":{\"callback\":null},\"id\":\"e60f70ce-f9b8-4f3c-b765-1997cd078066\",\"type\":\"DataRange1d\"},{\"attributes\":{\"source\":{\"id\":\"c3d4f5cb-4460-473d-8e51-3fe780dc086a\",\"type\":\"ColumnDataSource\"}},\"id\":\"d63ae986-bd51-42b9-8efd-1e00d9c3d244\",\"type\":\"CDSView\"},{\"attributes\":{\"callback\":null,\"column_names\":[\"x\",\"y\"],\"data\":{\"x\":[1,2,3,4,5],\"y\":[6,7,8,7,3]}},\"id\":\"1f2be46d-9d9f-4bb5-a572-bbf6aeebb39f\",\"type\":\"ColumnDataSource\"},{\"attributes\":{},\"id\":\"3fee0090-27b2-4be2-92c0-af7b7a1ccf89\",\"type\":\"SaveTool\"},{\"attributes\":{\"active_drag\":\"auto\",\"active_inspect\":\"auto\",\"active_scroll\":\"auto\",\"active_tap\":\"auto\",\"tools\":[{\"id\":\"86a04ade-4b0f-43a0-a88d-802cea00e25a\",\"type\":\"PanTool\"},{\"id\":\"88ca1507-35c0-477c-a3f9-ed9548c78727\",\"type\":\"WheelZoomTool\"},{\"id\":\"c00a69ef-3f20-4221-b811-e171a3e69e93\",\"type\":\"BoxZoomTool\"},{\"id\":\"3fee0090-27b2-4be2-92c0-af7b7a1ccf89\",\"type\":\"SaveTool\"},{\"id\":\"582c27bc-5e73-473c-9977-6eadec54c92f\",\"type\":\"ResetTool\"},{\"id\":\"55922d16-b8c8-4816-a67f-86b457bdfe99\",\"type\":\"HelpTool\"}]},\"id\":\"524fa8dd-b140-4f4c-a5f3-f8bab01d6a26\",\"type\":\"Toolbar\"},{\"attributes\":{\"below\":[{\"id\":\"3d929a90-b003-4d43-af46-52a8f92ceda4\",\"type\":\"LinearAxis\"}],\"left\":[{\"id\":\"21e20d26-e843-4929-bb88-4062e753711e\",\"type\":\"LinearAxis\"}],\"plot_height\":400,\"plot_width\":400,\"renderers\":[{\"id\":\"3d929a90-b003-4d43-af46-52a8f92ceda4\",\"type\":\"LinearAxis\"},{\"id\":\"4d2f9066-3032-46f5-a707-6db6b8b0532e\",\"type\":\"Grid\"},{\"id\":\"21e20d26-e843-4929-bb88-4062e753711e\",\"type\":\"LinearAxis\"},{\"id\":\"bd35150f-dc6f-4496-8f61-66cafa34850a\",\"type\":\"Grid\"},{\"id\":\"172f6b9d-39d4-4dcd-a16f-7c0d1ee08db8\",\"type\":\"BoxAnnotation\"},{\"id\":\"fc325edd-d231-4c72-a1d0-d7ce9b5ca99b\",\"type\":\"GlyphRenderer\"},{\"id\":\"daab24da-100a-4e52-81ae-87f1f8d705d6\",\"type\":\"GlyphRenderer\"}],\"title\":{\"id\":\"c8e59301-77c9-4ef2-9529-11f76d8be6d8\",\"type\":\"Title\"},\"toolbar\":{\"id\":\"524fa8dd-b140-4f4c-a5f3-f8bab01d6a26\",\"type\":\"Toolbar\"},\"x_range\":{\"id\":\"e60f70ce-f9b8-4f3c-b765-1997cd078066\",\"type\":\"DataRange1d\"},\"x_scale\":{\"id\":\"faec0ce1-d09b-46ca-bbc2-fea7b263c7d2\",\"type\":\"LinearScale\"},\"y_range\":{\"id\":\"b11eb85f-ceee-4dd3-91ff-161fbaecd314\",\"type\":\"DataRange1d\"},\"y_scale\":{\"id\":\"a48f3b00-8255-4138-9f9e-4a9a055ebec4\",\"type\":\"LinearScale\"}},\"id\":\"9e5f9c5a-eb5d-48a5-975f-ffede288dd81\",\"subtype\":\"Figure\",\"type\":\"Plot\"},{\"attributes\":{\"data_source\":{\"id\":\"1f2be46d-9d9f-4bb5-a572-bbf6aeebb39f\",\"type\":\"ColumnDataSource\"},\"glyph\":{\"id\":\"d644047c-9678-4bcb-ace9-d7308ef584e5\",\"type\":\"Line\"},\"hover_glyph\":null,\"muted_glyph\":null,\"nonselection_glyph\":{\"id\":\"f10eca63-d862-46db-8090-74e0903428f7\",\"type\":\"Line\"},\"selection_glyph\":null,\"view\":{\"id\":\"a02d3fcb-f930-4e89-8000-7421299f2c77\",\"type\":\"CDSView\"}},\"id\":\"fc325edd-d231-4c72-a1d0-d7ce9b5ca99b\",\"type\":\"GlyphRenderer\"},{\"attributes\":{\"callback\":null},\"id\":\"b11eb85f-ceee-4dd3-91ff-161fbaecd314\",\"type\":\"DataRange1d\"},{\"attributes\":{},\"id\":\"a48f3b00-8255-4138-9f9e-4a9a055ebec4\",\"type\":\"LinearScale\"},{\"attributes\":{\"dimension\":1,\"plot\":{\"id\":\"9e5f9c5a-eb5d-48a5-975f-ffede288dd81\",\"subtype\":\"Figure\",\"type\":\"Plot\"},\"ticker\":{\"id\":\"75266135-4556-46ae-b7f1-d4620dcd028f\",\"type\":\"BasicTicker\"}},\"id\":\"bd35150f-dc6f-4496-8f61-66cafa34850a\",\"type\":\"Grid\"},{\"attributes\":{\"plot\":{\"id\":\"9e5f9c5a-eb5d-48a5-975f-ffede288dd81\",\"subtype\":\"Figure\",\"type\":\"Plot\"},\"ticker\":{\"id\":\"6ab0b51b-81b3-4a6b-91c5-e40261ec4639\",\"type\":\"BasicTicker\"}},\"id\":\"4d2f9066-3032-46f5-a707-6db6b8b0532e\",\"type\":\"Grid\"},{\"attributes\":{\"formatter\":{\"id\":\"21f8ca29-9c51-44e4-a407-6ca2f226a6bd\",\"type\":\"BasicTickFormatter\"},\"plot\":{\"id\":\"9e5f9c5a-eb5d-48a5-975f-ffede288dd81\",\"subtype\":\"Figure\",\"type\":\"Plot\"},\"ticker\":{\"id\":\"6ab0b51b-81b3-4a6b-91c5-e40261ec4639\",\"type\":\"BasicTicker\"}},\"id\":\"3d929a90-b003-4d43-af46-52a8f92ceda4\",\"type\":\"LinearAxis\"},{\"attributes\":{},\"id\":\"6ab0b51b-81b3-4a6b-91c5-e40261ec4639\",\"type\":\"BasicTicker\"},{\"attributes\":{\"formatter\":{\"id\":\"b0575f6c-2a1d-4a81-b4f5-163900604e31\",\"type\":\"BasicTickFormatter\"},\"plot\":{\"id\":\"9e5f9c5a-eb5d-48a5-975f-ffede288dd81\",\"subtype\":\"Figure\",\"type\":\"Plot\"},\"ticker\":{\"id\":\"75266135-4556-46ae-b7f1-d4620dcd028f\",\"type\":\"BasicTicker\"}},\"id\":\"21e20d26-e843-4929-bb88-4062e753711e\",\"type\":\"LinearAxis\"},{\"attributes\":{},\"id\":\"75266135-4556-46ae-b7f1-d4620dcd028f\",\"type\":\"BasicTicker\"},{\"attributes\":{},\"id\":\"faec0ce1-d09b-46ca-bbc2-fea7b263c7d2\",\"type\":\"LinearScale\"},{\"attributes\":{\"line_alpha\":0.1,\"line_color\":\"#1f77b4\",\"line_width\":2,\"x\":{\"field\":\"x\"},\"y\":{\"field\":\"y\"}},\"id\":\"f10eca63-d862-46db-8090-74e0903428f7\",\"type\":\"Line\"},{\"attributes\":{},\"id\":\"b0575f6c-2a1d-4a81-b4f5-163900604e31\",\"type\":\"BasicTickFormatter\"},{\"attributes\":{\"callback\":null,\"column_names\":[\"x\",\"y\"],\"data\":{\"x\":[1,2,3,4,5],\"y\":[6,7,8,7,3]}},\"id\":\"c3d4f5cb-4460-473d-8e51-3fe780dc086a\",\"type\":\"ColumnDataSource\"},{\"attributes\":{\"data_source\":{\"id\":\"c3d4f5cb-4460-473d-8e51-3fe780dc086a\",\"type\":\"ColumnDataSource\"},\"glyph\":{\"id\":\"1200c40b-c0f8-4532-9395-cc04d69d9a18\",\"type\":\"Circle\"},\"hover_glyph\":null,\"muted_glyph\":null,\"nonselection_glyph\":{\"id\":\"37a22d95-1eee-48eb-bdff-92d5cf29604b\",\"type\":\"Circle\"},\"selection_glyph\":null,\"view\":{\"id\":\"d63ae986-bd51-42b9-8efd-1e00d9c3d244\",\"type\":\"CDSView\"}},\"id\":\"daab24da-100a-4e52-81ae-87f1f8d705d6\",\"type\":\"GlyphRenderer\"},{\"attributes\":{\"bottom_units\":\"screen\",\"fill_alpha\":{\"value\":0.5},\"fill_color\":{\"value\":\"lightgrey\"},\"left_units\":\"screen\",\"level\":\"overlay\",\"line_alpha\":{\"value\":1.0},\"line_color\":{\"value\":\"black\"},\"line_dash\":[4,4],\"line_width\":{\"value\":2},\"plot\":null,\"render_mode\":\"css\",\"right_units\":\"screen\",\"top_units\":\"screen\"},\"id\":\"172f6b9d-39d4-4dcd-a16f-7c0d1ee08db8\",\"type\":\"BoxAnnotation\"},{\"attributes\":{},\"id\":\"86a04ade-4b0f-43a0-a88d-802cea00e25a\",\"type\":\"PanTool\"},{\"attributes\":{},\"id\":\"582c27bc-5e73-473c-9977-6eadec54c92f\",\"type\":\"ResetTool\"},{\"attributes\":{},\"id\":\"88ca1507-35c0-477c-a3f9-ed9548c78727\",\"type\":\"WheelZoomTool\"},{\"attributes\":{\"overlay\":{\"id\":\"172f6b9d-39d4-4dcd-a16f-7c0d1ee08db8\",\"type\":\"BoxAnnotation\"}},\"id\":\"c00a69ef-3f20-4221-b811-e171a3e69e93\",\"type\":\"BoxZoomTool\"},{\"attributes\":{\"source\":{\"id\":\"1f2be46d-9d9f-4bb5-a572-bbf6aeebb39f\",\"type\":\"ColumnDataSource\"}},\"id\":\"a02d3fcb-f930-4e89-8000-7421299f2c77\",\"type\":\"CDSView\"},{\"attributes\":{},\"id\":\"55922d16-b8c8-4816-a67f-86b457bdfe99\",\"type\":\"HelpTool\"},{\"attributes\":{\"plot\":null,\"text\":\"\"},\"id\":\"c8e59301-77c9-4ef2-9529-11f76d8be6d8\",\"type\":\"Title\"}],\"root_ids\":[\"9e5f9c5a-eb5d-48a5-975f-ffede288dd81\"]},\"title\":\"Bokeh Application\",\"version\":\"0.12.13\"}};\n",
       "  var render_items = [{\"docid\":\"eb6ca7d9-2c6b-4596-b318-2bd08753a509\",\"elementid\":\"bc9ccb68-08f0-4156-92e6-b365d018b865\",\"modelid\":\"9e5f9c5a-eb5d-48a5-975f-ffede288dd81\"}];\n",
       "  root.Bokeh.embed.embed_items_notebook(docs_json, render_items);\n",
       "\n",
       "  }\n",
       "  if (root.Bokeh !== undefined) {\n",
       "    embed_document(root);\n",
       "  } else {\n",
       "    var attempts = 0;\n",
       "    var timer = setInterval(function(root) {\n",
       "      if (root.Bokeh !== undefined) {\n",
       "        embed_document(root);\n",
       "        clearInterval(timer);\n",
       "      }\n",
       "      attempts++;\n",
       "      if (attempts > 100) {\n",
       "        console.log(\"Bokeh: ERROR: Unable to run BokehJS code because BokehJS library is missing\")\n",
       "        clearInterval(timer);\n",
       "      }\n",
       "    }, 10, root)\n",
       "  }\n",
       "})(window);"
      ],
      "application/vnd.bokehjs_exec.v0+json": ""
     },
     "metadata": {
      "application/vnd.bokehjs_exec.v0+json": {
       "id": "9e5f9c5a-eb5d-48a5-975f-ffede288dd81"
      }
     },
     "output_type": "display_data"
    }
   ],
   "source": [
    "# set up some data\n",
    "x = [1, 2, 3, 4, 5]\n",
    "y = [6, 7, 8, 7, 3]\n",
    "\n",
    "# create a new plot with figure\n",
    "p = figure(plot_width=400, plot_height=400)\n",
    "\n",
    "# add both a line and circles on the same plot\n",
    "p.line(x, y, line_width=2)\n",
    "p.circle(x, y, fill_color=\"white\", size=8)\n",
    "\n",
    "show(p) # show the results"
   ]
  },
  {
   "cell_type": "code",
   "execution_count": 11,
   "metadata": {
    "collapsed": true
   },
   "outputs": [],
   "source": [
    "# EXERCISE: create your own plot combining multiple glyphs together\n",
    "\n"
   ]
  },
  {
   "cell_type": "code",
   "execution_count": null,
   "metadata": {},
   "outputs": [],
   "source": []
  }
 ],
 "metadata": {
  "anaconda-cloud": {},
  "kernelspec": {
   "display_name": "Python 3",
   "language": "python",
   "name": "python3"
  },
  "language_info": {
   "codemirror_mode": {
    "name": "ipython",
    "version": 3
   },
   "file_extension": ".py",
   "mimetype": "text/x-python",
   "name": "python",
   "nbconvert_exporter": "python",
   "pygments_lexer": "ipython3",
   "version": "3.6.4"
  }
 },
 "nbformat": 4,
 "nbformat_minor": 2
}
