{
 "cells": [
  {
   "cell_type": "markdown",
   "metadata": {},
   "source": [
    "<table style=\"float:left; border:none\">\n",
    "   <tr style=\"border:none; background-color: #ffffff\">\n",
    "       <td style=\"border:none\">\n",
    "           <a href=\"http://bokeh.pydata.org/\">     \n",
    "           <img \n",
    "               src=\"assets/bokeh-transparent.png\" \n",
    "               style=\"width:50px\"\n",
    "           >\n",
    "           </a>    \n",
    "       </td>\n",
    "       <td style=\"border:none\">\n",
    "           <h1>Bokeh Tutorial</h1>\n",
    "       </td>\n",
    "   </tr>\n",
    "</table>\n",
    "\n",
    "<div style=\"float:right;\"><h2>01. Basic Plotting</h2></div>"
   ]
  },
  {
   "cell_type": "markdown",
   "metadata": {},
   "source": [
    "This section of the tutorial covers the [`bokeh.plotting`](http://bokeh.pydata.org/en/latest/docs/user_guide/plotting.html) \n",
    "interface. This interface is a \"mid-level\" interface, and the main idea can be described by the statement:\n",
    "\n",
    "**Starting from simple default figures (with sensible default tools, grids and axes), add markers and other shapes whose visual attributes are tied to directly data.**\n",
    "\n",
    "We will see that it is possible to customize and change all of the defaults, but having them means that it is possible to get up and running very quickly. "
   ]
  },
  {
   "cell_type": "markdown",
   "metadata": {},
   "source": [
    "# Imports and Setup\n",
    "\n",
    "When using the [`bokeh.plotting`](http://bokeh.pydata.org/en/latest/docs/user_guide/plotting.html) interface, there are a few common imports:\n",
    "* Use the [`figure`](http://bokeh.pydata.org/en/latest/docs/reference/plotting.html#bokeh.plotting.figure) function to  create new plot objects to work with. \n",
    "* Call the functions [`output_file`](http://bokeh.pydata.org/en/latest/docs/reference/resources_embedding.html#bokeh.io.output_file), [`output_notebook`](http://bokeh.pydata.org/en/latest/docs/reference/resources_embedding.html#bokeh.io.output_notebook), and [`output_server`](http://bokeh.pydata.org/en/latest/docs/reference/resources_embedding.html#bokeh.io.output_server) (possibly in combination) to tell Bokeh how to display or save output. \n",
    "* Execute [`show`](http://bokeh.pydata.org/en/latest/docs/reference/resources_embedding.html#bokeh.io.show) and  [`save`](http://bokeh.pydata.org/en/latest/docs/reference/resources_embedding.html#bokeh.io.save) to display or save plots and layouts."
   ]
  },
  {
   "cell_type": "code",
   "execution_count": 12,
   "metadata": {
    "collapsed": true
   },
   "outputs": [],
   "source": [
    "from bokeh.io import output_notebook, show\n",
    "from bokeh.plotting import figure"
   ]
  },
  {
   "cell_type": "code",
   "execution_count": null,
   "metadata": {
    "collapsed": true
   },
   "outputs": [],
   "source": []
  },
  {
   "cell_type": "markdown",
   "metadata": {},
   "source": [
    "In this case, we are in the Jupyter notebook, so call `output_notebook()`. We only need to call this once, and all subsequent calls to `show()` will display inline in the notebook."
   ]
  },
  {
   "cell_type": "code",
   "execution_count": 13,
   "metadata": {},
   "outputs": [
    {
     "data": {
      "text/html": [
       "\n",
       "    <div class=\"bk-root\">\n",
       "        <a href=\"https://bokeh.pydata.org\" target=\"_blank\" class=\"bk-logo bk-logo-small bk-logo-notebook\"></a>\n",
       "        <span id=\"567ac3fd-231c-42c6-88e1-a0274b223647\">Loading BokehJS ...</span>\n",
       "    </div>"
      ]
     },
     "metadata": {},
     "output_type": "display_data"
    },
    {
     "data": {
      "application/javascript": [
       "\n",
       "(function(root) {\n",
       "  function now() {\n",
       "    return new Date();\n",
       "  }\n",
       "\n",
       "  var force = true;\n",
       "\n",
       "  if (typeof (root._bokeh_onload_callbacks) === \"undefined\" || force === true) {\n",
       "    root._bokeh_onload_callbacks = [];\n",
       "    root._bokeh_is_loading = undefined;\n",
       "  }\n",
       "\n",
       "  var JS_MIME_TYPE = 'application/javascript';\n",
       "  var HTML_MIME_TYPE = 'text/html';\n",
       "  var EXEC_MIME_TYPE = 'application/vnd.bokehjs_exec.v0+json';\n",
       "  var CLASS_NAME = 'output_bokeh rendered_html';\n",
       "\n",
       "  /**\n",
       "   * Render data to the DOM node\n",
       "   */\n",
       "  function render(props, node) {\n",
       "    var script = document.createElement(\"script\");\n",
       "    node.appendChild(script);\n",
       "  }\n",
       "\n",
       "  /**\n",
       "   * Handle when an output is cleared or removed\n",
       "   */\n",
       "  function handleClearOutput(event, handle) {\n",
       "    var cell = handle.cell;\n",
       "\n",
       "    var id = cell.output_area._bokeh_element_id;\n",
       "    var server_id = cell.output_area._bokeh_server_id;\n",
       "    // Clean up Bokeh references\n",
       "    if (id !== undefined) {\n",
       "      Bokeh.index[id].model.document.clear();\n",
       "      delete Bokeh.index[id];\n",
       "    }\n",
       "\n",
       "    if (server_id !== undefined) {\n",
       "      // Clean up Bokeh references\n",
       "      var cmd = \"from bokeh.io.state import curstate; print(curstate().uuid_to_server['\" + server_id + \"'].get_sessions()[0].document.roots[0]._id)\";\n",
       "      cell.notebook.kernel.execute(cmd, {\n",
       "        iopub: {\n",
       "          output: function(msg) {\n",
       "            var element_id = msg.content.text.trim();\n",
       "            Bokeh.index[element_id].model.document.clear();\n",
       "            delete Bokeh.index[element_id];\n",
       "          }\n",
       "        }\n",
       "      });\n",
       "      // Destroy server and session\n",
       "      var cmd = \"import bokeh.io.notebook as ion; ion.destroy_server('\" + server_id + \"')\";\n",
       "      cell.notebook.kernel.execute(cmd);\n",
       "    }\n",
       "  }\n",
       "\n",
       "  /**\n",
       "   * Handle when a new output is added\n",
       "   */\n",
       "  function handleAddOutput(event, handle) {\n",
       "    var output_area = handle.output_area;\n",
       "    var output = handle.output;\n",
       "\n",
       "    // limit handleAddOutput to display_data with EXEC_MIME_TYPE content only\n",
       "    if ((output.output_type != \"display_data\") || (!output.data.hasOwnProperty(EXEC_MIME_TYPE))) {\n",
       "      return\n",
       "    }\n",
       "\n",
       "    var toinsert = output_area.element.find(\".\" + CLASS_NAME.split(' ')[0]);\n",
       "\n",
       "    if (output.metadata[EXEC_MIME_TYPE][\"id\"] !== undefined) {\n",
       "      toinsert[0].firstChild.textContent = output.data[JS_MIME_TYPE];\n",
       "      // store reference to embed id on output_area\n",
       "      output_area._bokeh_element_id = output.metadata[EXEC_MIME_TYPE][\"id\"];\n",
       "    }\n",
       "    if (output.metadata[EXEC_MIME_TYPE][\"server_id\"] !== undefined) {\n",
       "      var bk_div = document.createElement(\"div\");\n",
       "      bk_div.innerHTML = output.data[HTML_MIME_TYPE];\n",
       "      var script_attrs = bk_div.children[0].attributes;\n",
       "      for (var i = 0; i < script_attrs.length; i++) {\n",
       "        toinsert[0].firstChild.setAttribute(script_attrs[i].name, script_attrs[i].value);\n",
       "      }\n",
       "      // store reference to server id on output_area\n",
       "      output_area._bokeh_server_id = output.metadata[EXEC_MIME_TYPE][\"server_id\"];\n",
       "    }\n",
       "  }\n",
       "\n",
       "  function register_renderer(events, OutputArea) {\n",
       "\n",
       "    function append_mime(data, metadata, element) {\n",
       "      // create a DOM node to render to\n",
       "      var toinsert = this.create_output_subarea(\n",
       "        metadata,\n",
       "        CLASS_NAME,\n",
       "        EXEC_MIME_TYPE\n",
       "      );\n",
       "      this.keyboard_manager.register_events(toinsert);\n",
       "      // Render to node\n",
       "      var props = {data: data, metadata: metadata[EXEC_MIME_TYPE]};\n",
       "      render(props, toinsert[0]);\n",
       "      element.append(toinsert);\n",
       "      return toinsert\n",
       "    }\n",
       "\n",
       "    /* Handle when an output is cleared or removed */\n",
       "    events.on('clear_output.CodeCell', handleClearOutput);\n",
       "    events.on('delete.Cell', handleClearOutput);\n",
       "\n",
       "    /* Handle when a new output is added */\n",
       "    events.on('output_added.OutputArea', handleAddOutput);\n",
       "\n",
       "    /**\n",
       "     * Register the mime type and append_mime function with output_area\n",
       "     */\n",
       "    OutputArea.prototype.register_mime_type(EXEC_MIME_TYPE, append_mime, {\n",
       "      /* Is output safe? */\n",
       "      safe: true,\n",
       "      /* Index of renderer in `output_area.display_order` */\n",
       "      index: 0\n",
       "    });\n",
       "  }\n",
       "\n",
       "  // register the mime type if in Jupyter Notebook environment and previously unregistered\n",
       "  if (root.Jupyter !== undefined) {\n",
       "    var events = require('base/js/events');\n",
       "    var OutputArea = require('notebook/js/outputarea').OutputArea;\n",
       "\n",
       "    if (OutputArea.prototype.mime_types().indexOf(EXEC_MIME_TYPE) == -1) {\n",
       "      register_renderer(events, OutputArea);\n",
       "    }\n",
       "  }\n",
       "\n",
       "  \n",
       "  if (typeof (root._bokeh_timeout) === \"undefined\" || force === true) {\n",
       "    root._bokeh_timeout = Date.now() + 5000;\n",
       "    root._bokeh_failed_load = false;\n",
       "  }\n",
       "\n",
       "  var NB_LOAD_WARNING = {'data': {'text/html':\n",
       "     \"<div style='background-color: #fdd'>\\n\"+\n",
       "     \"<p>\\n\"+\n",
       "     \"BokehJS does not appear to have successfully loaded. If loading BokehJS from CDN, this \\n\"+\n",
       "     \"may be due to a slow or bad network connection. Possible fixes:\\n\"+\n",
       "     \"</p>\\n\"+\n",
       "     \"<ul>\\n\"+\n",
       "     \"<li>re-rerun `output_notebook()` to attempt to load from CDN again, or</li>\\n\"+\n",
       "     \"<li>use INLINE resources instead, as so:</li>\\n\"+\n",
       "     \"</ul>\\n\"+\n",
       "     \"<code>\\n\"+\n",
       "     \"from bokeh.resources import INLINE\\n\"+\n",
       "     \"output_notebook(resources=INLINE)\\n\"+\n",
       "     \"</code>\\n\"+\n",
       "     \"</div>\"}};\n",
       "\n",
       "  function display_loaded() {\n",
       "    var el = document.getElementById(\"567ac3fd-231c-42c6-88e1-a0274b223647\");\n",
       "    if (el != null) {\n",
       "      el.textContent = \"BokehJS is loading...\";\n",
       "    }\n",
       "    if (root.Bokeh !== undefined) {\n",
       "      if (el != null) {\n",
       "        el.textContent = \"BokehJS \" + root.Bokeh.version + \" successfully loaded.\";\n",
       "      }\n",
       "    } else if (Date.now() < root._bokeh_timeout) {\n",
       "      setTimeout(display_loaded, 100)\n",
       "    }\n",
       "  }\n",
       "\n",
       "\n",
       "  function run_callbacks() {\n",
       "    try {\n",
       "      root._bokeh_onload_callbacks.forEach(function(callback) { callback() });\n",
       "    }\n",
       "    finally {\n",
       "      delete root._bokeh_onload_callbacks\n",
       "    }\n",
       "    console.info(\"Bokeh: all callbacks have finished\");\n",
       "  }\n",
       "\n",
       "  function load_libs(js_urls, callback) {\n",
       "    root._bokeh_onload_callbacks.push(callback);\n",
       "    if (root._bokeh_is_loading > 0) {\n",
       "      console.log(\"Bokeh: BokehJS is being loaded, scheduling callback at\", now());\n",
       "      return null;\n",
       "    }\n",
       "    if (js_urls == null || js_urls.length === 0) {\n",
       "      run_callbacks();\n",
       "      return null;\n",
       "    }\n",
       "    console.log(\"Bokeh: BokehJS not loaded, scheduling load and callback at\", now());\n",
       "    root._bokeh_is_loading = js_urls.length;\n",
       "    for (var i = 0; i < js_urls.length; i++) {\n",
       "      var url = js_urls[i];\n",
       "      var s = document.createElement('script');\n",
       "      s.src = url;\n",
       "      s.async = false;\n",
       "      s.onreadystatechange = s.onload = function() {\n",
       "        root._bokeh_is_loading--;\n",
       "        if (root._bokeh_is_loading === 0) {\n",
       "          console.log(\"Bokeh: all BokehJS libraries loaded\");\n",
       "          run_callbacks()\n",
       "        }\n",
       "      };\n",
       "      s.onerror = function() {\n",
       "        console.warn(\"failed to load library \" + url);\n",
       "      };\n",
       "      console.log(\"Bokeh: injecting script tag for BokehJS library: \", url);\n",
       "      document.getElementsByTagName(\"head\")[0].appendChild(s);\n",
       "    }\n",
       "  };var element = document.getElementById(\"567ac3fd-231c-42c6-88e1-a0274b223647\");\n",
       "  if (element == null) {\n",
       "    console.log(\"Bokeh: ERROR: autoload.js configured with elementid '567ac3fd-231c-42c6-88e1-a0274b223647' but no matching script tag was found. \")\n",
       "    return false;\n",
       "  }\n",
       "\n",
       "  var js_urls = [\"https://cdn.pydata.org/bokeh/release/bokeh-0.12.13.min.js\", \"https://cdn.pydata.org/bokeh/release/bokeh-widgets-0.12.13.min.js\", \"https://cdn.pydata.org/bokeh/release/bokeh-tables-0.12.13.min.js\", \"https://cdn.pydata.org/bokeh/release/bokeh-gl-0.12.13.min.js\"];\n",
       "\n",
       "  var inline_js = [\n",
       "    function(Bokeh) {\n",
       "      Bokeh.set_log_level(\"info\");\n",
       "    },\n",
       "    \n",
       "    function(Bokeh) {\n",
       "      \n",
       "    },\n",
       "    function(Bokeh) {\n",
       "      console.log(\"Bokeh: injecting CSS: https://cdn.pydata.org/bokeh/release/bokeh-0.12.13.min.css\");\n",
       "      Bokeh.embed.inject_css(\"https://cdn.pydata.org/bokeh/release/bokeh-0.12.13.min.css\");\n",
       "      console.log(\"Bokeh: injecting CSS: https://cdn.pydata.org/bokeh/release/bokeh-widgets-0.12.13.min.css\");\n",
       "      Bokeh.embed.inject_css(\"https://cdn.pydata.org/bokeh/release/bokeh-widgets-0.12.13.min.css\");\n",
       "      console.log(\"Bokeh: injecting CSS: https://cdn.pydata.org/bokeh/release/bokeh-tables-0.12.13.min.css\");\n",
       "      Bokeh.embed.inject_css(\"https://cdn.pydata.org/bokeh/release/bokeh-tables-0.12.13.min.css\");\n",
       "    }\n",
       "  ];\n",
       "\n",
       "  function run_inline_js() {\n",
       "    \n",
       "    if ((root.Bokeh !== undefined) || (force === true)) {\n",
       "      for (var i = 0; i < inline_js.length; i++) {\n",
       "        inline_js[i].call(root, root.Bokeh);\n",
       "      }if (force === true) {\n",
       "        display_loaded();\n",
       "      }} else if (Date.now() < root._bokeh_timeout) {\n",
       "      setTimeout(run_inline_js, 100);\n",
       "    } else if (!root._bokeh_failed_load) {\n",
       "      console.log(\"Bokeh: BokehJS failed to load within specified timeout.\");\n",
       "      root._bokeh_failed_load = true;\n",
       "    } else if (force !== true) {\n",
       "      var cell = $(document.getElementById(\"567ac3fd-231c-42c6-88e1-a0274b223647\")).parents('.cell').data().cell;\n",
       "      cell.output_area.append_execute_result(NB_LOAD_WARNING)\n",
       "    }\n",
       "\n",
       "  }\n",
       "\n",
       "  if (root._bokeh_is_loading === 0) {\n",
       "    console.log(\"Bokeh: BokehJS loaded, going straight to plotting\");\n",
       "    run_inline_js();\n",
       "  } else {\n",
       "    load_libs(js_urls, function() {\n",
       "      console.log(\"Bokeh: BokehJS plotting callback run at\", now());\n",
       "      run_inline_js();\n",
       "    });\n",
       "  }\n",
       "}(window));"
      ],
      "application/vnd.bokehjs_load.v0+json": "\n(function(root) {\n  function now() {\n    return new Date();\n  }\n\n  var force = true;\n\n  if (typeof (root._bokeh_onload_callbacks) === \"undefined\" || force === true) {\n    root._bokeh_onload_callbacks = [];\n    root._bokeh_is_loading = undefined;\n  }\n\n  \n\n  \n  if (typeof (root._bokeh_timeout) === \"undefined\" || force === true) {\n    root._bokeh_timeout = Date.now() + 5000;\n    root._bokeh_failed_load = false;\n  }\n\n  var NB_LOAD_WARNING = {'data': {'text/html':\n     \"<div style='background-color: #fdd'>\\n\"+\n     \"<p>\\n\"+\n     \"BokehJS does not appear to have successfully loaded. If loading BokehJS from CDN, this \\n\"+\n     \"may be due to a slow or bad network connection. Possible fixes:\\n\"+\n     \"</p>\\n\"+\n     \"<ul>\\n\"+\n     \"<li>re-rerun `output_notebook()` to attempt to load from CDN again, or</li>\\n\"+\n     \"<li>use INLINE resources instead, as so:</li>\\n\"+\n     \"</ul>\\n\"+\n     \"<code>\\n\"+\n     \"from bokeh.resources import INLINE\\n\"+\n     \"output_notebook(resources=INLINE)\\n\"+\n     \"</code>\\n\"+\n     \"</div>\"}};\n\n  function display_loaded() {\n    var el = document.getElementById(\"567ac3fd-231c-42c6-88e1-a0274b223647\");\n    if (el != null) {\n      el.textContent = \"BokehJS is loading...\";\n    }\n    if (root.Bokeh !== undefined) {\n      if (el != null) {\n        el.textContent = \"BokehJS \" + root.Bokeh.version + \" successfully loaded.\";\n      }\n    } else if (Date.now() < root._bokeh_timeout) {\n      setTimeout(display_loaded, 100)\n    }\n  }\n\n\n  function run_callbacks() {\n    try {\n      root._bokeh_onload_callbacks.forEach(function(callback) { callback() });\n    }\n    finally {\n      delete root._bokeh_onload_callbacks\n    }\n    console.info(\"Bokeh: all callbacks have finished\");\n  }\n\n  function load_libs(js_urls, callback) {\n    root._bokeh_onload_callbacks.push(callback);\n    if (root._bokeh_is_loading > 0) {\n      console.log(\"Bokeh: BokehJS is being loaded, scheduling callback at\", now());\n      return null;\n    }\n    if (js_urls == null || js_urls.length === 0) {\n      run_callbacks();\n      return null;\n    }\n    console.log(\"Bokeh: BokehJS not loaded, scheduling load and callback at\", now());\n    root._bokeh_is_loading = js_urls.length;\n    for (var i = 0; i < js_urls.length; i++) {\n      var url = js_urls[i];\n      var s = document.createElement('script');\n      s.src = url;\n      s.async = false;\n      s.onreadystatechange = s.onload = function() {\n        root._bokeh_is_loading--;\n        if (root._bokeh_is_loading === 0) {\n          console.log(\"Bokeh: all BokehJS libraries loaded\");\n          run_callbacks()\n        }\n      };\n      s.onerror = function() {\n        console.warn(\"failed to load library \" + url);\n      };\n      console.log(\"Bokeh: injecting script tag for BokehJS library: \", url);\n      document.getElementsByTagName(\"head\")[0].appendChild(s);\n    }\n  };var element = document.getElementById(\"567ac3fd-231c-42c6-88e1-a0274b223647\");\n  if (element == null) {\n    console.log(\"Bokeh: ERROR: autoload.js configured with elementid '567ac3fd-231c-42c6-88e1-a0274b223647' but no matching script tag was found. \")\n    return false;\n  }\n\n  var js_urls = [\"https://cdn.pydata.org/bokeh/release/bokeh-0.12.13.min.js\", \"https://cdn.pydata.org/bokeh/release/bokeh-widgets-0.12.13.min.js\", \"https://cdn.pydata.org/bokeh/release/bokeh-tables-0.12.13.min.js\", \"https://cdn.pydata.org/bokeh/release/bokeh-gl-0.12.13.min.js\"];\n\n  var inline_js = [\n    function(Bokeh) {\n      Bokeh.set_log_level(\"info\");\n    },\n    \n    function(Bokeh) {\n      \n    },\n    function(Bokeh) {\n      console.log(\"Bokeh: injecting CSS: https://cdn.pydata.org/bokeh/release/bokeh-0.12.13.min.css\");\n      Bokeh.embed.inject_css(\"https://cdn.pydata.org/bokeh/release/bokeh-0.12.13.min.css\");\n      console.log(\"Bokeh: injecting CSS: https://cdn.pydata.org/bokeh/release/bokeh-widgets-0.12.13.min.css\");\n      Bokeh.embed.inject_css(\"https://cdn.pydata.org/bokeh/release/bokeh-widgets-0.12.13.min.css\");\n      console.log(\"Bokeh: injecting CSS: https://cdn.pydata.org/bokeh/release/bokeh-tables-0.12.13.min.css\");\n      Bokeh.embed.inject_css(\"https://cdn.pydata.org/bokeh/release/bokeh-tables-0.12.13.min.css\");\n    }\n  ];\n\n  function run_inline_js() {\n    \n    if ((root.Bokeh !== undefined) || (force === true)) {\n      for (var i = 0; i < inline_js.length; i++) {\n        inline_js[i].call(root, root.Bokeh);\n      }if (force === true) {\n        display_loaded();\n      }} else if (Date.now() < root._bokeh_timeout) {\n      setTimeout(run_inline_js, 100);\n    } else if (!root._bokeh_failed_load) {\n      console.log(\"Bokeh: BokehJS failed to load within specified timeout.\");\n      root._bokeh_failed_load = true;\n    } else if (force !== true) {\n      var cell = $(document.getElementById(\"567ac3fd-231c-42c6-88e1-a0274b223647\")).parents('.cell').data().cell;\n      cell.output_area.append_execute_result(NB_LOAD_WARNING)\n    }\n\n  }\n\n  if (root._bokeh_is_loading === 0) {\n    console.log(\"Bokeh: BokehJS loaded, going straight to plotting\");\n    run_inline_js();\n  } else {\n    load_libs(js_urls, function() {\n      console.log(\"Bokeh: BokehJS plotting callback run at\", now());\n      run_inline_js();\n    });\n  }\n}(window));"
     },
     "metadata": {},
     "output_type": "display_data"
    }
   ],
   "source": [
    "output_notebook()"
   ]
  },
  {
   "cell_type": "markdown",
   "metadata": {},
   "source": [
    "# Some Basic Scatter Plots\n",
    "\n",
    "In this section you will see how to use Bokeh's various marker types to create simple scatter plots. "
   ]
  },
  {
   "cell_type": "code",
   "execution_count": 14,
   "metadata": {},
   "outputs": [
    {
     "data": {
      "text/html": [
       "\n",
       "<div class=\"bk-root\">\n",
       "    <div class=\"bk-plotdiv\" id=\"2b34e744-7762-4d6f-9edd-9c6dbd4ac02f\"></div>\n",
       "</div>"
      ]
     },
     "metadata": {},
     "output_type": "display_data"
    },
    {
     "data": {
      "application/javascript": [
       "(function(root) {\n",
       "  function embed_document(root) {\n",
       "    \n",
       "  var docs_json = {\"2b2dcb46-d670-4003-afdc-dba7217e1469\":{\"roots\":{\"references\":[{\"attributes\":{\"data_source\":{\"id\":\"4a5c39a8-ff4c-439e-b2c6-847f7fd0f2ba\",\"type\":\"ColumnDataSource\"},\"glyph\":{\"id\":\"157ff99f-34d6-4335-b42c-eb7563e254d2\",\"type\":\"Circle\"},\"hover_glyph\":null,\"muted_glyph\":null,\"nonselection_glyph\":{\"id\":\"99d35662-f831-45ba-9193-b2a7ac8a7a9c\",\"type\":\"Circle\"},\"selection_glyph\":null,\"view\":{\"id\":\"e49ed694-c961-4bbd-8a85-24bc13c5b125\",\"type\":\"CDSView\"}},\"id\":\"51ddcb35-ffb9-4afc-a44d-8168f1321027\",\"type\":\"GlyphRenderer\"},{\"attributes\":{},\"id\":\"5c4dd57f-1ce1-48aa-82ab-c50d06e12e51\",\"type\":\"SaveTool\"},{\"attributes\":{\"fill_alpha\":{\"value\":0.5},\"fill_color\":{\"value\":\"orange\"},\"line_color\":{\"value\":\"navy\"},\"size\":{\"units\":\"screen\",\"value\":15},\"x\":{\"field\":\"x\"},\"y\":{\"field\":\"y\"}},\"id\":\"157ff99f-34d6-4335-b42c-eb7563e254d2\",\"type\":\"Circle\"},{\"attributes\":{\"source\":{\"id\":\"4a5c39a8-ff4c-439e-b2c6-847f7fd0f2ba\",\"type\":\"ColumnDataSource\"}},\"id\":\"e49ed694-c961-4bbd-8a85-24bc13c5b125\",\"type\":\"CDSView\"},{\"attributes\":{},\"id\":\"87acca43-72ba-4e5b-a8b8-abcac8916c29\",\"type\":\"BasicTicker\"},{\"attributes\":{\"plot\":null,\"text\":\"\"},\"id\":\"f8d297fb-6eab-417c-9602-1b71735e3fec\",\"type\":\"Title\"},{\"attributes\":{\"below\":[{\"id\":\"0b229060-d5d4-49b9-93d6-e1cddd438c59\",\"type\":\"LinearAxis\"}],\"left\":[{\"id\":\"6542a168-9099-417f-91a6-43a713d6936a\",\"type\":\"LinearAxis\"}],\"plot_height\":400,\"plot_width\":400,\"renderers\":[{\"id\":\"0b229060-d5d4-49b9-93d6-e1cddd438c59\",\"type\":\"LinearAxis\"},{\"id\":\"cbf28a4c-3186-4f47-a2a1-31a270416296\",\"type\":\"Grid\"},{\"id\":\"6542a168-9099-417f-91a6-43a713d6936a\",\"type\":\"LinearAxis\"},{\"id\":\"cca06ee1-7e89-4d01-94ed-a7195c82a910\",\"type\":\"Grid\"},{\"id\":\"c7911244-7f0d-4b4d-9a5f-23c7037c0b76\",\"type\":\"BoxAnnotation\"},{\"id\":\"51ddcb35-ffb9-4afc-a44d-8168f1321027\",\"type\":\"GlyphRenderer\"}],\"title\":{\"id\":\"f8d297fb-6eab-417c-9602-1b71735e3fec\",\"type\":\"Title\"},\"toolbar\":{\"id\":\"90abee3a-7763-4a11-8858-9c87611e0538\",\"type\":\"Toolbar\"},\"x_range\":{\"id\":\"32adc526-e072-46f0-a5ea-70c56e371680\",\"type\":\"DataRange1d\"},\"x_scale\":{\"id\":\"9957c436-821e-4a70-a45d-c44413836a9d\",\"type\":\"LinearScale\"},\"y_range\":{\"id\":\"40fc40b8-9db2-4f4b-9a3d-fde3fa31db80\",\"type\":\"DataRange1d\"},\"y_scale\":{\"id\":\"49b3d9f6-c59e-4829-bbad-3f46cbea5dd9\",\"type\":\"LinearScale\"}},\"id\":\"29723eb2-7329-44ce-a558-ea344acc5b3f\",\"subtype\":\"Figure\",\"type\":\"Plot\"},{\"attributes\":{\"fill_alpha\":{\"value\":0.1},\"fill_color\":{\"value\":\"#1f77b4\"},\"line_alpha\":{\"value\":0.1},\"line_color\":{\"value\":\"#1f77b4\"},\"size\":{\"units\":\"screen\",\"value\":15},\"x\":{\"field\":\"x\"},\"y\":{\"field\":\"y\"}},\"id\":\"99d35662-f831-45ba-9193-b2a7ac8a7a9c\",\"type\":\"Circle\"},{\"attributes\":{},\"id\":\"49b3d9f6-c59e-4829-bbad-3f46cbea5dd9\",\"type\":\"LinearScale\"},{\"attributes\":{\"formatter\":{\"id\":\"7bfaaaf8-9210-4445-b23c-4d43a9ea8b0b\",\"type\":\"BasicTickFormatter\"},\"plot\":{\"id\":\"29723eb2-7329-44ce-a558-ea344acc5b3f\",\"subtype\":\"Figure\",\"type\":\"Plot\"},\"ticker\":{\"id\":\"c05ff56d-6798-4d26-adc7-45b6ed80f0d5\",\"type\":\"BasicTicker\"}},\"id\":\"0b229060-d5d4-49b9-93d6-e1cddd438c59\",\"type\":\"LinearAxis\"},{\"attributes\":{\"active_drag\":\"auto\",\"active_inspect\":\"auto\",\"active_scroll\":\"auto\",\"active_tap\":\"auto\",\"tools\":[{\"id\":\"7fb26b7d-9ef4-4ec4-8d12-5868f8facdb6\",\"type\":\"PanTool\"},{\"id\":\"a1d68aeb-a3f7-4afb-9748-41be0d2b8f97\",\"type\":\"WheelZoomTool\"},{\"id\":\"91d67f20-5433-4c55-997e-24fd64aabcb8\",\"type\":\"BoxZoomTool\"},{\"id\":\"5c4dd57f-1ce1-48aa-82ab-c50d06e12e51\",\"type\":\"SaveTool\"},{\"id\":\"39fc6811-e967-43fb-9033-96aeecd94fb8\",\"type\":\"ResetTool\"},{\"id\":\"4fb52589-56ff-402b-949b-d7212eb77090\",\"type\":\"HelpTool\"}]},\"id\":\"90abee3a-7763-4a11-8858-9c87611e0538\",\"type\":\"Toolbar\"},{\"attributes\":{},\"id\":\"9957c436-821e-4a70-a45d-c44413836a9d\",\"type\":\"LinearScale\"},{\"attributes\":{\"dimension\":1,\"plot\":{\"id\":\"29723eb2-7329-44ce-a558-ea344acc5b3f\",\"subtype\":\"Figure\",\"type\":\"Plot\"},\"ticker\":{\"id\":\"87acca43-72ba-4e5b-a8b8-abcac8916c29\",\"type\":\"BasicTicker\"}},\"id\":\"cca06ee1-7e89-4d01-94ed-a7195c82a910\",\"type\":\"Grid\"},{\"attributes\":{\"callback\":null},\"id\":\"32adc526-e072-46f0-a5ea-70c56e371680\",\"type\":\"DataRange1d\"},{\"attributes\":{\"callback\":null,\"column_names\":[\"x\",\"y\"],\"data\":{\"x\":[1,2,3,4,5],\"y\":[6,7,2,4,5]}},\"id\":\"4a5c39a8-ff4c-439e-b2c6-847f7fd0f2ba\",\"type\":\"ColumnDataSource\"},{\"attributes\":{},\"id\":\"4fb52589-56ff-402b-949b-d7212eb77090\",\"type\":\"HelpTool\"},{\"attributes\":{\"callback\":null},\"id\":\"40fc40b8-9db2-4f4b-9a3d-fde3fa31db80\",\"type\":\"DataRange1d\"},{\"attributes\":{\"plot\":{\"id\":\"29723eb2-7329-44ce-a558-ea344acc5b3f\",\"subtype\":\"Figure\",\"type\":\"Plot\"},\"ticker\":{\"id\":\"c05ff56d-6798-4d26-adc7-45b6ed80f0d5\",\"type\":\"BasicTicker\"}},\"id\":\"cbf28a4c-3186-4f47-a2a1-31a270416296\",\"type\":\"Grid\"},{\"attributes\":{},\"id\":\"7bfaaaf8-9210-4445-b23c-4d43a9ea8b0b\",\"type\":\"BasicTickFormatter\"},{\"attributes\":{\"bottom_units\":\"screen\",\"fill_alpha\":{\"value\":0.5},\"fill_color\":{\"value\":\"lightgrey\"},\"left_units\":\"screen\",\"level\":\"overlay\",\"line_alpha\":{\"value\":1.0},\"line_color\":{\"value\":\"black\"},\"line_dash\":[4,4],\"line_width\":{\"value\":2},\"plot\":null,\"render_mode\":\"css\",\"right_units\":\"screen\",\"top_units\":\"screen\"},\"id\":\"c7911244-7f0d-4b4d-9a5f-23c7037c0b76\",\"type\":\"BoxAnnotation\"},{\"attributes\":{},\"id\":\"5e317b32-e017-4455-86d3-1486ab73ce15\",\"type\":\"BasicTickFormatter\"},{\"attributes\":{},\"id\":\"39fc6811-e967-43fb-9033-96aeecd94fb8\",\"type\":\"ResetTool\"},{\"attributes\":{},\"id\":\"a1d68aeb-a3f7-4afb-9748-41be0d2b8f97\",\"type\":\"WheelZoomTool\"},{\"attributes\":{\"formatter\":{\"id\":\"5e317b32-e017-4455-86d3-1486ab73ce15\",\"type\":\"BasicTickFormatter\"},\"plot\":{\"id\":\"29723eb2-7329-44ce-a558-ea344acc5b3f\",\"subtype\":\"Figure\",\"type\":\"Plot\"},\"ticker\":{\"id\":\"87acca43-72ba-4e5b-a8b8-abcac8916c29\",\"type\":\"BasicTicker\"}},\"id\":\"6542a168-9099-417f-91a6-43a713d6936a\",\"type\":\"LinearAxis\"},{\"attributes\":{\"overlay\":{\"id\":\"c7911244-7f0d-4b4d-9a5f-23c7037c0b76\",\"type\":\"BoxAnnotation\"}},\"id\":\"91d67f20-5433-4c55-997e-24fd64aabcb8\",\"type\":\"BoxZoomTool\"},{\"attributes\":{},\"id\":\"c05ff56d-6798-4d26-adc7-45b6ed80f0d5\",\"type\":\"BasicTicker\"},{\"attributes\":{},\"id\":\"7fb26b7d-9ef4-4ec4-8d12-5868f8facdb6\",\"type\":\"PanTool\"}],\"root_ids\":[\"29723eb2-7329-44ce-a558-ea344acc5b3f\"]},\"title\":\"Bokeh Application\",\"version\":\"0.12.13\"}};\n",
       "  var render_items = [{\"docid\":\"2b2dcb46-d670-4003-afdc-dba7217e1469\",\"elementid\":\"2b34e744-7762-4d6f-9edd-9c6dbd4ac02f\",\"modelid\":\"29723eb2-7329-44ce-a558-ea344acc5b3f\"}];\n",
       "  root.Bokeh.embed.embed_items_notebook(docs_json, render_items);\n",
       "\n",
       "  }\n",
       "  if (root.Bokeh !== undefined) {\n",
       "    embed_document(root);\n",
       "  } else {\n",
       "    var attempts = 0;\n",
       "    var timer = setInterval(function(root) {\n",
       "      if (root.Bokeh !== undefined) {\n",
       "        embed_document(root);\n",
       "        clearInterval(timer);\n",
       "      }\n",
       "      attempts++;\n",
       "      if (attempts > 100) {\n",
       "        console.log(\"Bokeh: ERROR: Unable to run BokehJS code because BokehJS library is missing\")\n",
       "        clearInterval(timer);\n",
       "      }\n",
       "    }, 10, root)\n",
       "  }\n",
       "})(window);"
      ],
      "application/vnd.bokehjs_exec.v0+json": ""
     },
     "metadata": {
      "application/vnd.bokehjs_exec.v0+json": {
       "id": "29723eb2-7329-44ce-a558-ea344acc5b3f"
      }
     },
     "output_type": "display_data"
    }
   ],
   "source": [
    "# create a new plot with default tools, using figure\n",
    "p = figure(plot_width=400, plot_height=400)\n",
    "\n",
    "# add a circle renderer with a size, color, and alpha\n",
    "p.circle([1, 2, 3, 4, 5], [6, 7, 2, 4, 5], size=15, line_color=\"navy\", fill_color=\"orange\", fill_alpha=0.5)\n",
    "\n",
    "show(p) # show the results"
   ]
  },
  {
   "cell_type": "markdown",
   "metadata": {},
   "source": [
    "All Bokeh markers accept `size` (measured in screen space units) as a property. Circles also have `radius` (measured in \"data\" space units). "
   ]
  },
  {
   "cell_type": "code",
   "execution_count": 15,
   "metadata": {
    "collapsed": true
   },
   "outputs": [],
   "source": [
    "# EXERCISE: Try changing the example above to set a `radius` value instead of `size`\n",
    "\n"
   ]
  },
  {
   "cell_type": "markdown",
   "metadata": {},
   "source": [
    "To scatter square markers instead of circles, you can use the `square` method on figures. "
   ]
  },
  {
   "cell_type": "code",
   "execution_count": 16,
   "metadata": {},
   "outputs": [
    {
     "data": {
      "text/html": [
       "\n",
       "<div class=\"bk-root\">\n",
       "    <div class=\"bk-plotdiv\" id=\"7b90e362-6ce9-4ed3-82b0-285df19b6c58\"></div>\n",
       "</div>"
      ]
     },
     "metadata": {},
     "output_type": "display_data"
    },
    {
     "data": {
      "application/javascript": [
       "(function(root) {\n",
       "  function embed_document(root) {\n",
       "    \n",
       "  var docs_json = {\"209deedc-a20c-41af-b0d7-d6b34a0dc371\":{\"roots\":{\"references\":[{\"attributes\":{},\"id\":\"7fa43429-fdeb-4c85-84aa-bdbc8e3b3bc8\",\"type\":\"BasicTickFormatter\"},{\"attributes\":{\"dimension\":1,\"plot\":{\"id\":\"696ff929-1060-4809-b5f4-d33351d7d1ea\",\"subtype\":\"Figure\",\"type\":\"Plot\"},\"ticker\":{\"id\":\"e35596bc-5323-44cc-b66b-7ba4a68c8a1c\",\"type\":\"BasicTicker\"}},\"id\":\"1a6a43cf-7b67-4d83-8cd5-5cb54e7fde04\",\"type\":\"Grid\"},{\"attributes\":{\"data_source\":{\"id\":\"80c259cd-2e43-47fe-963d-90b07e1687af\",\"type\":\"ColumnDataSource\"},\"glyph\":{\"id\":\"921ab140-f595-4c19-8819-1cbcdc9f4d6c\",\"type\":\"Square\"},\"hover_glyph\":null,\"muted_glyph\":null,\"nonselection_glyph\":{\"id\":\"bfe330ca-3230-4e29-a2e8-be93061846d3\",\"type\":\"Square\"},\"selection_glyph\":null,\"view\":{\"id\":\"dfc80252-4955-43bf-9d54-0eaeb8fff5b2\",\"type\":\"CDSView\"}},\"id\":\"f172b392-13a4-4938-9944-c4a9e19d47f1\",\"type\":\"GlyphRenderer\"},{\"attributes\":{},\"id\":\"e35596bc-5323-44cc-b66b-7ba4a68c8a1c\",\"type\":\"BasicTicker\"},{\"attributes\":{\"fill_alpha\":{\"value\":0.1},\"fill_color\":{\"value\":\"#1f77b4\"},\"line_alpha\":{\"value\":0.1},\"line_color\":{\"value\":\"#1f77b4\"},\"size\":{\"field\":\"size\",\"units\":\"screen\"},\"x\":{\"field\":\"x\"},\"y\":{\"field\":\"y\"}},\"id\":\"bfe330ca-3230-4e29-a2e8-be93061846d3\",\"type\":\"Square\"},{\"attributes\":{},\"id\":\"d0117a0d-a38d-4c1f-94e0-6082d2ce9483\",\"type\":\"SaveTool\"},{\"attributes\":{\"callback\":null},\"id\":\"f186f53c-87a4-4c2d-a7c9-a4a61b29ab3d\",\"type\":\"DataRange1d\"},{\"attributes\":{},\"id\":\"a1e7df2c-9ecd-41d3-982b-095b4f7a9ae6\",\"type\":\"BasicTickFormatter\"},{\"attributes\":{\"bottom_units\":\"screen\",\"fill_alpha\":{\"value\":0.5},\"fill_color\":{\"value\":\"lightgrey\"},\"left_units\":\"screen\",\"level\":\"overlay\",\"line_alpha\":{\"value\":1.0},\"line_color\":{\"value\":\"black\"},\"line_dash\":[4,4],\"line_width\":{\"value\":2},\"plot\":null,\"render_mode\":\"css\",\"right_units\":\"screen\",\"top_units\":\"screen\"},\"id\":\"d5fd360e-5b6f-4e91-81e1-fe0adb09fbb0\",\"type\":\"BoxAnnotation\"},{\"attributes\":{},\"id\":\"cc8cf61f-bbd7-4696-907e-199f2851f4e7\",\"type\":\"HelpTool\"},{\"attributes\":{\"active_drag\":\"auto\",\"active_inspect\":\"auto\",\"active_scroll\":\"auto\",\"active_tap\":\"auto\",\"tools\":[{\"id\":\"70e76cb5-3f5e-4fbd-85d4-0f17bd71ab0c\",\"type\":\"PanTool\"},{\"id\":\"e6735e70-528d-48aa-9f26-81752114ae7a\",\"type\":\"WheelZoomTool\"},{\"id\":\"6ec55b46-60e1-40a6-8beb-74011fc9b169\",\"type\":\"BoxZoomTool\"},{\"id\":\"d0117a0d-a38d-4c1f-94e0-6082d2ce9483\",\"type\":\"SaveTool\"},{\"id\":\"622efca7-05b9-47af-b48a-69ad3085b9f6\",\"type\":\"ResetTool\"},{\"id\":\"cc8cf61f-bbd7-4696-907e-199f2851f4e7\",\"type\":\"HelpTool\"}]},\"id\":\"7e7eb2f3-5792-47de-b7ee-2cbfd6e838f7\",\"type\":\"Toolbar\"},{\"attributes\":{},\"id\":\"70e76cb5-3f5e-4fbd-85d4-0f17bd71ab0c\",\"type\":\"PanTool\"},{\"attributes\":{\"below\":[{\"id\":\"15072528-5d4d-4240-b26c-9c10b6a7b050\",\"type\":\"LinearAxis\"}],\"left\":[{\"id\":\"2921a125-edf9-4748-a861-93c9beff33a2\",\"type\":\"LinearAxis\"}],\"plot_height\":400,\"plot_width\":400,\"renderers\":[{\"id\":\"15072528-5d4d-4240-b26c-9c10b6a7b050\",\"type\":\"LinearAxis\"},{\"id\":\"5e1db83a-87a6-4020-8a79-5fc74b18e379\",\"type\":\"Grid\"},{\"id\":\"2921a125-edf9-4748-a861-93c9beff33a2\",\"type\":\"LinearAxis\"},{\"id\":\"1a6a43cf-7b67-4d83-8cd5-5cb54e7fde04\",\"type\":\"Grid\"},{\"id\":\"d5fd360e-5b6f-4e91-81e1-fe0adb09fbb0\",\"type\":\"BoxAnnotation\"},{\"id\":\"f172b392-13a4-4938-9944-c4a9e19d47f1\",\"type\":\"GlyphRenderer\"}],\"title\":{\"id\":\"fd268cd2-f27a-442c-93dd-b0c994f03673\",\"type\":\"Title\"},\"toolbar\":{\"id\":\"7e7eb2f3-5792-47de-b7ee-2cbfd6e838f7\",\"type\":\"Toolbar\"},\"x_range\":{\"id\":\"f186f53c-87a4-4c2d-a7c9-a4a61b29ab3d\",\"type\":\"DataRange1d\"},\"x_scale\":{\"id\":\"85d28f26-cdf2-4875-9f27-fc9923422917\",\"type\":\"LinearScale\"},\"y_range\":{\"id\":\"2559219b-0d3e-4a77-8389-794dc78b65ce\",\"type\":\"DataRange1d\"},\"y_scale\":{\"id\":\"ad821da1-b28d-4969-ad58-a9b6b99c31b5\",\"type\":\"LinearScale\"}},\"id\":\"696ff929-1060-4809-b5f4-d33351d7d1ea\",\"subtype\":\"Figure\",\"type\":\"Plot\"},{\"attributes\":{\"plot\":null,\"text\":\"\"},\"id\":\"fd268cd2-f27a-442c-93dd-b0c994f03673\",\"type\":\"Title\"},{\"attributes\":{},\"id\":\"ed48bbf9-6c71-40e2-93ce-248bc35d8854\",\"type\":\"BasicTicker\"},{\"attributes\":{\"source\":{\"id\":\"80c259cd-2e43-47fe-963d-90b07e1687af\",\"type\":\"ColumnDataSource\"}},\"id\":\"dfc80252-4955-43bf-9d54-0eaeb8fff5b2\",\"type\":\"CDSView\"},{\"attributes\":{\"plot\":{\"id\":\"696ff929-1060-4809-b5f4-d33351d7d1ea\",\"subtype\":\"Figure\",\"type\":\"Plot\"},\"ticker\":{\"id\":\"ed48bbf9-6c71-40e2-93ce-248bc35d8854\",\"type\":\"BasicTicker\"}},\"id\":\"5e1db83a-87a6-4020-8a79-5fc74b18e379\",\"type\":\"Grid\"},{\"attributes\":{\"formatter\":{\"id\":\"a1e7df2c-9ecd-41d3-982b-095b4f7a9ae6\",\"type\":\"BasicTickFormatter\"},\"plot\":{\"id\":\"696ff929-1060-4809-b5f4-d33351d7d1ea\",\"subtype\":\"Figure\",\"type\":\"Plot\"},\"ticker\":{\"id\":\"e35596bc-5323-44cc-b66b-7ba4a68c8a1c\",\"type\":\"BasicTicker\"}},\"id\":\"2921a125-edf9-4748-a861-93c9beff33a2\",\"type\":\"LinearAxis\"},{\"attributes\":{},\"id\":\"622efca7-05b9-47af-b48a-69ad3085b9f6\",\"type\":\"ResetTool\"},{\"attributes\":{\"overlay\":{\"id\":\"d5fd360e-5b6f-4e91-81e1-fe0adb09fbb0\",\"type\":\"BoxAnnotation\"}},\"id\":\"6ec55b46-60e1-40a6-8beb-74011fc9b169\",\"type\":\"BoxZoomTool\"},{\"attributes\":{},\"id\":\"e6735e70-528d-48aa-9f26-81752114ae7a\",\"type\":\"WheelZoomTool\"},{\"attributes\":{},\"id\":\"85d28f26-cdf2-4875-9f27-fc9923422917\",\"type\":\"LinearScale\"},{\"attributes\":{\"fill_alpha\":{\"value\":0.6},\"fill_color\":{\"value\":\"firebrick\"},\"line_alpha\":{\"value\":0.6},\"line_color\":{\"value\":\"firebrick\"},\"size\":{\"field\":\"size\",\"units\":\"screen\"},\"x\":{\"field\":\"x\"},\"y\":{\"field\":\"y\"}},\"id\":\"921ab140-f595-4c19-8819-1cbcdc9f4d6c\",\"type\":\"Square\"},{\"attributes\":{\"callback\":null},\"id\":\"2559219b-0d3e-4a77-8389-794dc78b65ce\",\"type\":\"DataRange1d\"},{\"attributes\":{\"callback\":null,\"column_names\":[\"x\",\"y\",\"size\"],\"data\":{\"size\":[10,15,20,25,30],\"x\":[1,2,3,4,5],\"y\":[6,7,2,4,5]}},\"id\":\"80c259cd-2e43-47fe-963d-90b07e1687af\",\"type\":\"ColumnDataSource\"},{\"attributes\":{},\"id\":\"ad821da1-b28d-4969-ad58-a9b6b99c31b5\",\"type\":\"LinearScale\"},{\"attributes\":{\"formatter\":{\"id\":\"7fa43429-fdeb-4c85-84aa-bdbc8e3b3bc8\",\"type\":\"BasicTickFormatter\"},\"plot\":{\"id\":\"696ff929-1060-4809-b5f4-d33351d7d1ea\",\"subtype\":\"Figure\",\"type\":\"Plot\"},\"ticker\":{\"id\":\"ed48bbf9-6c71-40e2-93ce-248bc35d8854\",\"type\":\"BasicTicker\"}},\"id\":\"15072528-5d4d-4240-b26c-9c10b6a7b050\",\"type\":\"LinearAxis\"}],\"root_ids\":[\"696ff929-1060-4809-b5f4-d33351d7d1ea\"]},\"title\":\"Bokeh Application\",\"version\":\"0.12.13\"}};\n",
       "  var render_items = [{\"docid\":\"209deedc-a20c-41af-b0d7-d6b34a0dc371\",\"elementid\":\"7b90e362-6ce9-4ed3-82b0-285df19b6c58\",\"modelid\":\"696ff929-1060-4809-b5f4-d33351d7d1ea\"}];\n",
       "  root.Bokeh.embed.embed_items_notebook(docs_json, render_items);\n",
       "\n",
       "  }\n",
       "  if (root.Bokeh !== undefined) {\n",
       "    embed_document(root);\n",
       "  } else {\n",
       "    var attempts = 0;\n",
       "    var timer = setInterval(function(root) {\n",
       "      if (root.Bokeh !== undefined) {\n",
       "        embed_document(root);\n",
       "        clearInterval(timer);\n",
       "      }\n",
       "      attempts++;\n",
       "      if (attempts > 100) {\n",
       "        console.log(\"Bokeh: ERROR: Unable to run BokehJS code because BokehJS library is missing\")\n",
       "        clearInterval(timer);\n",
       "      }\n",
       "    }, 10, root)\n",
       "  }\n",
       "})(window);"
      ],
      "application/vnd.bokehjs_exec.v0+json": ""
     },
     "metadata": {
      "application/vnd.bokehjs_exec.v0+json": {
       "id": "696ff929-1060-4809-b5f4-d33351d7d1ea"
      }
     },
     "output_type": "display_data"
    }
   ],
   "source": [
    "# create a new plot using figure\n",
    "p = figure(plot_width=400, plot_height=400)\n",
    "\n",
    "# add a square renderer with a size, color, alpha, and sizes\n",
    "p.square([1, 2, 3, 4, 5], [6, 7, 2, 4, 5], size=[10, 15, 20, 25, 30], color=\"firebrick\", alpha=0.6)\n",
    "\n",
    "show(p) # show the results"
   ]
  },
  {
   "cell_type": "markdown",
   "metadata": {},
   "source": [
    "Note that in the example above, we are also specifying different sizes for each individual marker. ***In general, all of a glyph's properties can be \"vectorized\" in this fashion. ***  Also note that we have passed ``color`` as a shorthand to set both the line and fill colors easily at the same time. This is a convenience specific to ``bokeh.plotting``.\n",
    "\n",
    "</table><p>There are many marker types available in Bokeh, you can see details and\n",
    "example plots for all of them in the reference guide by clicking on entries in the list below:</p>\n",
    "<table class=\"hlist\" style=\"float:left\"><tr><td><ul>\n",
    "<li><a href=\"http://bokeh.pydata.org/en/latest/docs/reference/plotting.html#bokeh.plotting.Figure.asterisk\" title=\"bokeh.plotting.Figure.asterisk\"><code class=\"xref py py-func docutils literal\"><span class=\"pre\">asterisk()</span></code></a></li>\n",
    "<li><a href=\"http://bokeh.pydata.org/en/latest/docs/reference/plotting.html#bokeh.plotting.Figure.circle\" title=\"bokeh.plotting.Figure.circle\"><code class=\"xref py py-func docutils literal\"><span class=\"pre\">circle()</span></code></a></li>\n",
    "<li><a href=\"http://bokeh.pydata.org/en/latest/docs/reference/plotting.html#bokeh.plotting.Figure.circle_cross\" title=\"bokeh.plotting.Figure.circle_cross\"><code class=\"xref py py-func docutils literal\"><span class=\"pre\">circle_cross()</span></code></a></li>\n",
    "<li><a href=\"http://bokeh.pydata.org/en/latest/docs/reference/plotting.html#bokeh.plotting.Figure.circle_x\" title=\"bokeh.plotting.Figure.circle_x\"><code class=\"xref py py-func docutils literal\"><span class=\"pre\">circle_x()</span></code></a></li>\n",
    "<li><a href=\"http://bokeh.pydata.org/en/latest/docs/reference/plotting.html#bokeh.plotting.Figure.cross\" title=\"bokeh.plotting.Figure.cross\"><code class=\"xref py py-func docutils literal\"><span class=\"pre\">cross()</span></code></a></li>\n",
    "</ul>\n",
    "</td><td><ul>\n",
    "<li><a href=\"http://bokeh.pydata.org/en/latest/docs/reference/plotting.html#bokeh.plotting.Figure.diamond\" title=\"bokeh.plotting.Figure.diamond\"><code class=\"xref py py-func docutils literal\"><span class=\"pre\">diamond()</span></code></a></li>\n",
    "<li><a href=\"http://bokeh.pydata.org/en/latest/docs/reference/plotting.html#bokeh.plotting.Figure.diamond_cross\" title=\"bokeh.plotting.Figure.diamond_cross\"><code class=\"xref py py-func docutils literal\"><span class=\"pre\">diamond_cross()</span></code></a></li>\n",
    "<li><a href=\"http://bokeh.pydata.org/en/latest/docs/reference/plotting.html#bokeh.plotting.Figure.inverted_triangle\" title=\"bokeh.plotting.Figure.inverted_triangle\"><code class=\"xref py py-func docutils literal\"><span class=\"pre\">inverted_triangle()</span></code></a></li>\n",
    "<li><a href=\"http://bokeh.pydata.org/en/latest/docs/reference/plotting.html#bokeh.plotting.Figure.square\" title=\"bokeh.plotting.Figure.square\"><code class=\"xref py py-func docutils literal\"><span class=\"pre\">square()</span></code></a></li>\n",
    "</ul>\n",
    "</td><td><ul>\n",
    "<li><a href=\"http://bokeh.pydata.org/en/latest/docs/reference/plotting.html#bokeh.plotting.Figure.square_cross\" title=\"bokeh.plotting.Figure.square_cross\"><code class=\"xref py py-func docutils literal\"><span class=\"pre\">square_cross()</span></code></a></li>\n",
    "<li><a href=\"http://bokeh.pydata.org/en/latest/docs/reference/plotting.html#bokeh.plotting.Figure.square_x\" title=\"bokeh.plotting.Figure.square_x\"><code class=\"xref py py-func docutils literal\"><span class=\"pre\">square_x()</span></code></a></li>\n",
    "<li><a href=\"http://bokeh.pydata.org/en/latest/docs/reference/plotting.html#bokeh.plotting.Figure.triangle\" title=\"bokeh.plotting.Figure.triangle\"><code class=\"xref py py-func docutils literal\"><span class=\"pre\">triangle()</span></code></a></li>\n",
    "<li><a href=\"http://bokeh.pydata.org/en/latest/docs/reference/plotting.html#bokeh.plotting.Figure.x\" title=\"bokeh.plotting.Figure.x\"><code class=\"xref py py-func docutils literal\"><span class=\"pre\">x()</span></code></a></li>\n",
    "</ul>\n",
    "</td></tr></table>"
   ]
  },
  {
   "cell_type": "code",
   "execution_count": 17,
   "metadata": {
    "collapsed": true
   },
   "outputs": [],
   "source": [
    "# EXERCISE: Plot some different markers in this cell\n",
    "\n"
   ]
  },
  {
   "cell_type": "markdown",
   "metadata": {},
   "source": [
    "# Basic Line Plots"
   ]
  },
  {
   "cell_type": "code",
   "execution_count": 18,
   "metadata": {},
   "outputs": [
    {
     "data": {
      "text/html": [
       "\n",
       "<div class=\"bk-root\">\n",
       "    <div class=\"bk-plotdiv\" id=\"2829b0b0-e31d-4378-95e5-c59330e542ec\"></div>\n",
       "</div>"
      ]
     },
     "metadata": {},
     "output_type": "display_data"
    },
    {
     "data": {
      "application/javascript": [
       "(function(root) {\n",
       "  function embed_document(root) {\n",
       "    \n",
       "  var docs_json = {\"5766bce9-9cbb-4827-8629-f7df639b2b75\":{\"roots\":{\"references\":[{\"attributes\":{\"source\":{\"id\":\"bebd853b-0217-409f-800f-3e797a6deec1\",\"type\":\"ColumnDataSource\"}},\"id\":\"cfdc818f-f882-49f1-a2a4-a70da2abe996\",\"type\":\"CDSView\"},{\"attributes\":{},\"id\":\"83264c4e-6642-4840-9f29-be3c451afb03\",\"type\":\"LinearScale\"},{\"attributes\":{},\"id\":\"fec672c5-b7bd-4e8a-93be-fe282018c0ef\",\"type\":\"ResetTool\"},{\"attributes\":{},\"id\":\"0276e29c-ea41-44f8-8efc-7a724e1471f5\",\"type\":\"PanTool\"},{\"attributes\":{\"data_source\":{\"id\":\"bebd853b-0217-409f-800f-3e797a6deec1\",\"type\":\"ColumnDataSource\"},\"glyph\":{\"id\":\"2c2cc68b-a346-4bdc-9155-1dee33a67d5f\",\"type\":\"Line\"},\"hover_glyph\":null,\"muted_glyph\":null,\"nonselection_glyph\":{\"id\":\"7085405d-d226-4e91-8642-fa096b71736e\",\"type\":\"Line\"},\"selection_glyph\":null,\"view\":{\"id\":\"cfdc818f-f882-49f1-a2a4-a70da2abe996\",\"type\":\"CDSView\"}},\"id\":\"1873e29f-b9f3-49c4-ad31-368b82e91afd\",\"type\":\"GlyphRenderer\"},{\"attributes\":{\"bottom_units\":\"screen\",\"fill_alpha\":{\"value\":0.5},\"fill_color\":{\"value\":\"lightgrey\"},\"left_units\":\"screen\",\"level\":\"overlay\",\"line_alpha\":{\"value\":1.0},\"line_color\":{\"value\":\"black\"},\"line_dash\":[4,4],\"line_width\":{\"value\":2},\"plot\":null,\"render_mode\":\"css\",\"right_units\":\"screen\",\"top_units\":\"screen\"},\"id\":\"389b54e8-3c42-4415-8d41-895394c1a068\",\"type\":\"BoxAnnotation\"},{\"attributes\":{\"dimension\":1,\"plot\":{\"id\":\"8c3de6b7-0e65-4df9-8378-8afe6e42b36f\",\"subtype\":\"Figure\",\"type\":\"Plot\"},\"ticker\":{\"id\":\"db3c2ce6-cfc6-4b66-b096-c4e4df8e48c4\",\"type\":\"BasicTicker\"}},\"id\":\"75ca5345-47b8-45b8-bfe1-92c110b0f068\",\"type\":\"Grid\"},{\"attributes\":{\"below\":[{\"id\":\"1f4d98db-ccf3-472c-b151-2f104de2b95a\",\"type\":\"LinearAxis\"}],\"left\":[{\"id\":\"dbb67533-87f6-44ed-bc96-756d4cde277a\",\"type\":\"LinearAxis\"}],\"plot_height\":400,\"plot_width\":400,\"renderers\":[{\"id\":\"1f4d98db-ccf3-472c-b151-2f104de2b95a\",\"type\":\"LinearAxis\"},{\"id\":\"17ba0207-4e9a-4c53-9aef-258876462ec9\",\"type\":\"Grid\"},{\"id\":\"dbb67533-87f6-44ed-bc96-756d4cde277a\",\"type\":\"LinearAxis\"},{\"id\":\"75ca5345-47b8-45b8-bfe1-92c110b0f068\",\"type\":\"Grid\"},{\"id\":\"389b54e8-3c42-4415-8d41-895394c1a068\",\"type\":\"BoxAnnotation\"},{\"id\":\"1873e29f-b9f3-49c4-ad31-368b82e91afd\",\"type\":\"GlyphRenderer\"}],\"title\":{\"id\":\"b253cad2-809d-47d4-926a-f897f1f9ac19\",\"type\":\"Title\"},\"toolbar\":{\"id\":\"5824c30b-c5c2-4bf9-a68f-b42435a6f9b0\",\"type\":\"Toolbar\"},\"x_range\":{\"id\":\"53f3de41-6790-4d12-9b6d-2302cdfab26b\",\"type\":\"DataRange1d\"},\"x_scale\":{\"id\":\"c6d81c60-cbdd-4b4c-b9e3-89a052da8cb2\",\"type\":\"LinearScale\"},\"y_range\":{\"id\":\"498436e3-1e26-4869-bbf3-b0b7509a1bc1\",\"type\":\"DataRange1d\"},\"y_scale\":{\"id\":\"83264c4e-6642-4840-9f29-be3c451afb03\",\"type\":\"LinearScale\"}},\"id\":\"8c3de6b7-0e65-4df9-8378-8afe6e42b36f\",\"subtype\":\"Figure\",\"type\":\"Plot\"},{\"attributes\":{\"line_color\":\"#1f77b4\",\"line_width\":2,\"x\":{\"field\":\"x\"},\"y\":{\"field\":\"y\"}},\"id\":\"2c2cc68b-a346-4bdc-9155-1dee33a67d5f\",\"type\":\"Line\"},{\"attributes\":{\"plot\":null,\"text\":\"My Line Plot\"},\"id\":\"b253cad2-809d-47d4-926a-f897f1f9ac19\",\"type\":\"Title\"},{\"attributes\":{\"formatter\":{\"id\":\"97ea797b-8427-438d-96f3-ec0fe1f09e72\",\"type\":\"BasicTickFormatter\"},\"plot\":{\"id\":\"8c3de6b7-0e65-4df9-8378-8afe6e42b36f\",\"subtype\":\"Figure\",\"type\":\"Plot\"},\"ticker\":{\"id\":\"db3c2ce6-cfc6-4b66-b096-c4e4df8e48c4\",\"type\":\"BasicTicker\"}},\"id\":\"dbb67533-87f6-44ed-bc96-756d4cde277a\",\"type\":\"LinearAxis\"},{\"attributes\":{\"callback\":null},\"id\":\"498436e3-1e26-4869-bbf3-b0b7509a1bc1\",\"type\":\"DataRange1d\"},{\"attributes\":{\"callback\":null,\"column_names\":[\"x\",\"y\"],\"data\":{\"x\":[1,2,3,4,5],\"y\":[6,7,2,4,5]}},\"id\":\"bebd853b-0217-409f-800f-3e797a6deec1\",\"type\":\"ColumnDataSource\"},{\"attributes\":{},\"id\":\"97ea797b-8427-438d-96f3-ec0fe1f09e72\",\"type\":\"BasicTickFormatter\"},{\"attributes\":{},\"id\":\"db3c2ce6-cfc6-4b66-b096-c4e4df8e48c4\",\"type\":\"BasicTicker\"},{\"attributes\":{},\"id\":\"efcb9226-53da-4ab1-8e98-c370e5dfafb4\",\"type\":\"BasicTickFormatter\"},{\"attributes\":{},\"id\":\"f1a57f4e-788a-4982-978b-2b1491910822\",\"type\":\"BasicTicker\"},{\"attributes\":{\"active_drag\":\"auto\",\"active_inspect\":\"auto\",\"active_scroll\":\"auto\",\"active_tap\":\"auto\",\"tools\":[{\"id\":\"0276e29c-ea41-44f8-8efc-7a724e1471f5\",\"type\":\"PanTool\"},{\"id\":\"73413ce1-c77f-43a4-91a5-5ae3d5604d40\",\"type\":\"WheelZoomTool\"},{\"id\":\"03a955d1-875b-4541-a37b-1b06ff2e3a54\",\"type\":\"BoxZoomTool\"},{\"id\":\"87976e14-e8c3-463a-812b-b7c2c3fb36cc\",\"type\":\"SaveTool\"},{\"id\":\"fec672c5-b7bd-4e8a-93be-fe282018c0ef\",\"type\":\"ResetTool\"},{\"id\":\"139c5123-3e04-494e-ab7d-a1d63a87d063\",\"type\":\"HelpTool\"}]},\"id\":\"5824c30b-c5c2-4bf9-a68f-b42435a6f9b0\",\"type\":\"Toolbar\"},{\"attributes\":{},\"id\":\"73413ce1-c77f-43a4-91a5-5ae3d5604d40\",\"type\":\"WheelZoomTool\"},{\"attributes\":{},\"id\":\"139c5123-3e04-494e-ab7d-a1d63a87d063\",\"type\":\"HelpTool\"},{\"attributes\":{},\"id\":\"87976e14-e8c3-463a-812b-b7c2c3fb36cc\",\"type\":\"SaveTool\"},{\"attributes\":{\"callback\":null},\"id\":\"53f3de41-6790-4d12-9b6d-2302cdfab26b\",\"type\":\"DataRange1d\"},{\"attributes\":{},\"id\":\"c6d81c60-cbdd-4b4c-b9e3-89a052da8cb2\",\"type\":\"LinearScale\"},{\"attributes\":{\"plot\":{\"id\":\"8c3de6b7-0e65-4df9-8378-8afe6e42b36f\",\"subtype\":\"Figure\",\"type\":\"Plot\"},\"ticker\":{\"id\":\"f1a57f4e-788a-4982-978b-2b1491910822\",\"type\":\"BasicTicker\"}},\"id\":\"17ba0207-4e9a-4c53-9aef-258876462ec9\",\"type\":\"Grid\"},{\"attributes\":{\"formatter\":{\"id\":\"efcb9226-53da-4ab1-8e98-c370e5dfafb4\",\"type\":\"BasicTickFormatter\"},\"plot\":{\"id\":\"8c3de6b7-0e65-4df9-8378-8afe6e42b36f\",\"subtype\":\"Figure\",\"type\":\"Plot\"},\"ticker\":{\"id\":\"f1a57f4e-788a-4982-978b-2b1491910822\",\"type\":\"BasicTicker\"}},\"id\":\"1f4d98db-ccf3-472c-b151-2f104de2b95a\",\"type\":\"LinearAxis\"},{\"attributes\":{\"overlay\":{\"id\":\"389b54e8-3c42-4415-8d41-895394c1a068\",\"type\":\"BoxAnnotation\"}},\"id\":\"03a955d1-875b-4541-a37b-1b06ff2e3a54\",\"type\":\"BoxZoomTool\"},{\"attributes\":{\"line_alpha\":0.1,\"line_color\":\"#1f77b4\",\"line_width\":2,\"x\":{\"field\":\"x\"},\"y\":{\"field\":\"y\"}},\"id\":\"7085405d-d226-4e91-8642-fa096b71736e\",\"type\":\"Line\"}],\"root_ids\":[\"8c3de6b7-0e65-4df9-8378-8afe6e42b36f\"]},\"title\":\"Bokeh Application\",\"version\":\"0.12.13\"}};\n",
       "  var render_items = [{\"docid\":\"5766bce9-9cbb-4827-8629-f7df639b2b75\",\"elementid\":\"2829b0b0-e31d-4378-95e5-c59330e542ec\",\"modelid\":\"8c3de6b7-0e65-4df9-8378-8afe6e42b36f\"}];\n",
       "  root.Bokeh.embed.embed_items_notebook(docs_json, render_items);\n",
       "\n",
       "  }\n",
       "  if (root.Bokeh !== undefined) {\n",
       "    embed_document(root);\n",
       "  } else {\n",
       "    var attempts = 0;\n",
       "    var timer = setInterval(function(root) {\n",
       "      if (root.Bokeh !== undefined) {\n",
       "        embed_document(root);\n",
       "        clearInterval(timer);\n",
       "      }\n",
       "      attempts++;\n",
       "      if (attempts > 100) {\n",
       "        console.log(\"Bokeh: ERROR: Unable to run BokehJS code because BokehJS library is missing\")\n",
       "        clearInterval(timer);\n",
       "      }\n",
       "    }, 10, root)\n",
       "  }\n",
       "})(window);"
      ],
      "application/vnd.bokehjs_exec.v0+json": ""
     },
     "metadata": {
      "application/vnd.bokehjs_exec.v0+json": {
       "id": "8c3de6b7-0e65-4df9-8378-8afe6e42b36f"
      }
     },
     "output_type": "display_data"
    }
   ],
   "source": [
    "# create a new plot (with a title) using figure\n",
    "p = figure(plot_width=400, plot_height=400, title=\"My Line Plot\")\n",
    "\n",
    "# add a line renderer\n",
    "p.line([1, 2, 3, 4, 5], [6, 7, 2, 4, 5], line_width=2)\n",
    "\n",
    "show(p) # show the results"
   ]
  },
  {
   "cell_type": "markdown",
   "metadata": {},
   "source": [
    "# Images"
   ]
  },
  {
   "cell_type": "markdown",
   "metadata": {},
   "source": [
    "The example below shows how to use the `image_rgba` method to display raw RGBA data. \n",
    "\n",
    "**Note**: This example makes use of the NumPy library "
   ]
  },
  {
   "cell_type": "code",
   "execution_count": 19,
   "metadata": {},
   "outputs": [
    {
     "data": {
      "text/html": [
       "\n",
       "<div class=\"bk-root\">\n",
       "    <div class=\"bk-plotdiv\" id=\"ea16aeba-8b09-463a-ac0d-431878c8289f\"></div>\n",
       "</div>"
      ]
     },
     "metadata": {},
     "output_type": "display_data"
    },
    {
     "data": {
      "application/javascript": [
       "(function(root) {\n",
       "  function embed_document(root) {\n",
       "    \n",
       "  var docs_json = {\"e6dfe607-c1f7-4d05-b8c0-a5004f964f79\":{\"roots\":{\"references\":[{\"attributes\":{},\"id\":\"d5adeccc-cf01-4b67-98f1-b254a72427d2\",\"type\":\"BasicTicker\"},{\"attributes\":{},\"id\":\"93a9b8c3-0d13-4203-b46a-196c29aa01cc\",\"type\":\"BasicTickFormatter\"},{\"attributes\":{\"dh\":{\"field\":\"dh\",\"units\":\"data\"},\"dw\":{\"field\":\"dw\",\"units\":\"data\"},\"image\":{\"field\":\"image\"},\"x\":{\"field\":\"x\"},\"y\":{\"field\":\"y\"}},\"id\":\"36aa87c8-f7aa-4184-ae66-603a992d6d24\",\"type\":\"ImageRGBA\"},{\"attributes\":{\"dimension\":1,\"plot\":{\"id\":\"acbac95b-be1d-4070-84da-c54c1ae711cd\",\"subtype\":\"Figure\",\"type\":\"Plot\"},\"ticker\":{\"id\":\"d5adeccc-cf01-4b67-98f1-b254a72427d2\",\"type\":\"BasicTicker\"}},\"id\":\"77e39281-31d8-4169-a8c8-9d93869a48a3\",\"type\":\"Grid\"},{\"attributes\":{\"data_source\":{\"id\":\"4d119416-b3d1-4181-a5a7-db31ba8f830f\",\"type\":\"ColumnDataSource\"},\"glyph\":{\"id\":\"35b9c22e-7031-4737-a71a-4b31adee4f05\",\"type\":\"ImageRGBA\"},\"hover_glyph\":null,\"muted_glyph\":null,\"nonselection_glyph\":{\"id\":\"36aa87c8-f7aa-4184-ae66-603a992d6d24\",\"type\":\"ImageRGBA\"},\"selection_glyph\":null,\"view\":{\"id\":\"61b795b3-46dc-45bb-a2ba-eb27cce022a4\",\"type\":\"CDSView\"}},\"id\":\"d3fc484e-d27f-4a09-adc9-febdfccb0e66\",\"type\":\"GlyphRenderer\"},{\"attributes\":{},\"id\":\"487dc5cf-f414-48e4-9614-0a1b13c04b45\",\"type\":\"SaveTool\"},{\"attributes\":{},\"id\":\"073e9406-6d2a-4f71-8c73-7edfa1143713\",\"type\":\"LinearScale\"},{\"attributes\":{\"dh\":{\"field\":\"dh\",\"units\":\"data\"},\"dw\":{\"field\":\"dw\",\"units\":\"data\"},\"image\":{\"field\":\"image\"},\"x\":{\"field\":\"x\"},\"y\":{\"field\":\"y\"}},\"id\":\"35b9c22e-7031-4737-a71a-4b31adee4f05\",\"type\":\"ImageRGBA\"},{\"attributes\":{\"bottom_units\":\"screen\",\"fill_alpha\":{\"value\":0.5},\"fill_color\":{\"value\":\"lightgrey\"},\"left_units\":\"screen\",\"level\":\"overlay\",\"line_alpha\":{\"value\":1.0},\"line_color\":{\"value\":\"black\"},\"line_dash\":[4,4],\"line_width\":{\"value\":2},\"plot\":null,\"render_mode\":\"css\",\"right_units\":\"screen\",\"top_units\":\"screen\"},\"id\":\"4ea593c7-feb9-44dc-9e70-195f82ba2583\",\"type\":\"BoxAnnotation\"},{\"attributes\":{\"callback\":null,\"end\":10},\"id\":\"dbe7cbe0-5e32-490a-ac6c-cea812bf6dde\",\"type\":\"Range1d\"},{\"attributes\":{},\"id\":\"759587d6-6858-4e8e-8697-d83e2119459d\",\"type\":\"PanTool\"},{\"attributes\":{},\"id\":\"baab1866-7444-44dd-952b-5cb3f303d7c8\",\"type\":\"ResetTool\"},{\"attributes\":{\"callback\":null,\"column_names\":[\"image\",\"x\",\"y\",\"dw\",\"dh\"],\"data\":{\"dh\":[10],\"dw\":[10],\"image\":[{\"__ndarray__\":\"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\",\"dtype\":\"uint32\",\"shape\":[20,20]}],\"x\":[0],\"y\":[0]}},\"id\":\"4d119416-b3d1-4181-a5a7-db31ba8f830f\",\"type\":\"ColumnDataSource\"},{\"attributes\":{},\"id\":\"4223b681-8525-4f3c-b7ed-324320d821e7\",\"type\":\"WheelZoomTool\"},{\"attributes\":{\"formatter\":{\"id\":\"76a4044f-63cf-41e8-ada3-c05f300a5e6e\",\"type\":\"BasicTickFormatter\"},\"plot\":{\"id\":\"acbac95b-be1d-4070-84da-c54c1ae711cd\",\"subtype\":\"Figure\",\"type\":\"Plot\"},\"ticker\":{\"id\":\"d5adeccc-cf01-4b67-98f1-b254a72427d2\",\"type\":\"BasicTicker\"}},\"id\":\"02f6bf70-c8df-48cb-bfe5-6993a5c99323\",\"type\":\"LinearAxis\"},{\"attributes\":{\"overlay\":{\"id\":\"4ea593c7-feb9-44dc-9e70-195f82ba2583\",\"type\":\"BoxAnnotation\"}},\"id\":\"2e167520-9409-4b82-b473-a08ca7490042\",\"type\":\"BoxZoomTool\"},{\"attributes\":{\"below\":[{\"id\":\"7e58647a-ae5c-4adf-bc8c-53da96023338\",\"type\":\"LinearAxis\"}],\"left\":[{\"id\":\"02f6bf70-c8df-48cb-bfe5-6993a5c99323\",\"type\":\"LinearAxis\"}],\"renderers\":[{\"id\":\"7e58647a-ae5c-4adf-bc8c-53da96023338\",\"type\":\"LinearAxis\"},{\"id\":\"cdd1d93f-f67f-40ed-b823-3329b6d4d302\",\"type\":\"Grid\"},{\"id\":\"02f6bf70-c8df-48cb-bfe5-6993a5c99323\",\"type\":\"LinearAxis\"},{\"id\":\"77e39281-31d8-4169-a8c8-9d93869a48a3\",\"type\":\"Grid\"},{\"id\":\"4ea593c7-feb9-44dc-9e70-195f82ba2583\",\"type\":\"BoxAnnotation\"},{\"id\":\"d3fc484e-d27f-4a09-adc9-febdfccb0e66\",\"type\":\"GlyphRenderer\"}],\"title\":{\"id\":\"b77ee287-0b2b-4eb6-a32b-c92e90cffb95\",\"type\":\"Title\"},\"toolbar\":{\"id\":\"f8d3c6bd-a4d0-4505-bc5c-740b7d871e18\",\"type\":\"Toolbar\"},\"x_range\":{\"id\":\"dbe7cbe0-5e32-490a-ac6c-cea812bf6dde\",\"type\":\"Range1d\"},\"x_scale\":{\"id\":\"073e9406-6d2a-4f71-8c73-7edfa1143713\",\"type\":\"LinearScale\"},\"y_range\":{\"id\":\"d9fa099d-091e-47b0-83c4-4b2184c870c2\",\"type\":\"Range1d\"},\"y_scale\":{\"id\":\"755ae33d-d484-4ea5-bfca-dbc88b781dda\",\"type\":\"LinearScale\"}},\"id\":\"acbac95b-be1d-4070-84da-c54c1ae711cd\",\"subtype\":\"Figure\",\"type\":\"Plot\"},{\"attributes\":{\"source\":{\"id\":\"4d119416-b3d1-4181-a5a7-db31ba8f830f\",\"type\":\"ColumnDataSource\"}},\"id\":\"61b795b3-46dc-45bb-a2ba-eb27cce022a4\",\"type\":\"CDSView\"},{\"attributes\":{\"callback\":null,\"end\":10},\"id\":\"d9fa099d-091e-47b0-83c4-4b2184c870c2\",\"type\":\"Range1d\"},{\"attributes\":{\"active_drag\":\"auto\",\"active_inspect\":\"auto\",\"active_scroll\":\"auto\",\"active_tap\":\"auto\",\"tools\":[{\"id\":\"759587d6-6858-4e8e-8697-d83e2119459d\",\"type\":\"PanTool\"},{\"id\":\"4223b681-8525-4f3c-b7ed-324320d821e7\",\"type\":\"WheelZoomTool\"},{\"id\":\"2e167520-9409-4b82-b473-a08ca7490042\",\"type\":\"BoxZoomTool\"},{\"id\":\"487dc5cf-f414-48e4-9614-0a1b13c04b45\",\"type\":\"SaveTool\"},{\"id\":\"baab1866-7444-44dd-952b-5cb3f303d7c8\",\"type\":\"ResetTool\"},{\"id\":\"ce0e0a15-586d-437c-b5aa-f2de1f9a1cea\",\"type\":\"HelpTool\"}]},\"id\":\"f8d3c6bd-a4d0-4505-bc5c-740b7d871e18\",\"type\":\"Toolbar\"},{\"attributes\":{},\"id\":\"ce0e0a15-586d-437c-b5aa-f2de1f9a1cea\",\"type\":\"HelpTool\"},{\"attributes\":{\"formatter\":{\"id\":\"93a9b8c3-0d13-4203-b46a-196c29aa01cc\",\"type\":\"BasicTickFormatter\"},\"plot\":{\"id\":\"acbac95b-be1d-4070-84da-c54c1ae711cd\",\"subtype\":\"Figure\",\"type\":\"Plot\"},\"ticker\":{\"id\":\"3e6f923d-ff8c-40b0-97b0-a0fcf939b6ce\",\"type\":\"BasicTicker\"}},\"id\":\"7e58647a-ae5c-4adf-bc8c-53da96023338\",\"type\":\"LinearAxis\"},{\"attributes\":{},\"id\":\"3e6f923d-ff8c-40b0-97b0-a0fcf939b6ce\",\"type\":\"BasicTicker\"},{\"attributes\":{},\"id\":\"76a4044f-63cf-41e8-ada3-c05f300a5e6e\",\"type\":\"BasicTickFormatter\"},{\"attributes\":{\"plot\":{\"id\":\"acbac95b-be1d-4070-84da-c54c1ae711cd\",\"subtype\":\"Figure\",\"type\":\"Plot\"},\"ticker\":{\"id\":\"3e6f923d-ff8c-40b0-97b0-a0fcf939b6ce\",\"type\":\"BasicTicker\"}},\"id\":\"cdd1d93f-f67f-40ed-b823-3329b6d4d302\",\"type\":\"Grid\"},{\"attributes\":{\"plot\":null,\"text\":\"\"},\"id\":\"b77ee287-0b2b-4eb6-a32b-c92e90cffb95\",\"type\":\"Title\"},{\"attributes\":{},\"id\":\"755ae33d-d484-4ea5-bfca-dbc88b781dda\",\"type\":\"LinearScale\"}],\"root_ids\":[\"acbac95b-be1d-4070-84da-c54c1ae711cd\"]},\"title\":\"Bokeh Application\",\"version\":\"0.12.13\"}};\n",
       "  var render_items = [{\"docid\":\"e6dfe607-c1f7-4d05-b8c0-a5004f964f79\",\"elementid\":\"ea16aeba-8b09-463a-ac0d-431878c8289f\",\"modelid\":\"acbac95b-be1d-4070-84da-c54c1ae711cd\"}];\n",
       "  root.Bokeh.embed.embed_items_notebook(docs_json, render_items);\n",
       "\n",
       "  }\n",
       "  if (root.Bokeh !== undefined) {\n",
       "    embed_document(root);\n",
       "  } else {\n",
       "    var attempts = 0;\n",
       "    var timer = setInterval(function(root) {\n",
       "      if (root.Bokeh !== undefined) {\n",
       "        embed_document(root);\n",
       "        clearInterval(timer);\n",
       "      }\n",
       "      attempts++;\n",
       "      if (attempts > 100) {\n",
       "        console.log(\"Bokeh: ERROR: Unable to run BokehJS code because BokehJS library is missing\")\n",
       "        clearInterval(timer);\n",
       "      }\n",
       "    }, 10, root)\n",
       "  }\n",
       "})(window);"
      ],
      "application/vnd.bokehjs_exec.v0+json": ""
     },
     "metadata": {
      "application/vnd.bokehjs_exec.v0+json": {
       "id": "acbac95b-be1d-4070-84da-c54c1ae711cd"
      }
     },
     "output_type": "display_data"
    }
   ],
   "source": [
    "from __future__ import division\n",
    "import numpy as np\n",
    "\n",
    "# set up some data\n",
    "N = 20\n",
    "img = np.empty((N,N), dtype=np.uint32)\n",
    "view = img.view(dtype=np.uint8).reshape((N, N, 4))\n",
    "for i in range(N):\n",
    "    for j in range(N):\n",
    "        view[i, j, 0] = int(i/N*255) # red\n",
    "        view[i, j, 1] = 158          # green\n",
    "        view[i, j, 2] = int(j/N*255) # blue\n",
    "        view[i, j, 3] = 255          # alpha\n",
    "        \n",
    "# create a new plot (with a fixed range) using figure\n",
    "p = figure(x_range=[0,10], y_range=[0,10])\n",
    "\n",
    "# add an RGBA image renderer\n",
    "p.image_rgba(image=[img], x=[0], y=[0], dw=[10], dh=[10])\n",
    "\n",
    "show(p) # show the results"
   ]
  },
  {
   "cell_type": "markdown",
   "metadata": {},
   "source": [
    "# Other Kinds of Glyphs\n",
    "\n",
    "Bokeh supports many other kinds of glyphs. You can click on the User Guide links below to see how to create plots with these glyphs using the [`bokeh.plotting`](http://bokeh.pydata.org/en/latest/docs/user_guide/plotting.html) interface.\n",
    "\n",
    "* [Rectangles and Ovals](http://bokeh.pydata.org/en/latest/docs/user_guide/plotting.html#rectangles-and-ovals)\n",
    "* [Segments and Rays](http://bokeh.pydata.org/en/latest/docs/user_guide/plotting.html#segments-and-rays)\n",
    "* [Wedges and Arcs](http://bokeh.pydata.org/en/latest/docs/user_guide/plotting.html#wedges-and-arcs)\n",
    "* [Specialized Curves](http://bokeh.pydata.org/en/latest/docs/user_guide/plotting.html#specialized-curves)\n"
   ]
  },
  {
   "cell_type": "code",
   "execution_count": 9,
   "metadata": {
    "collapsed": true
   },
   "outputs": [],
   "source": [
    "# EXERCISE: Plot some of the other glyph types, following the examples in the User Guide. \n",
    "\n"
   ]
  },
  {
   "cell_type": "markdown",
   "metadata": {},
   "source": [
    "# Plots with Multiple Glyphs \n",
    "\n",
    "It is possible to combine more than one glyph on a single figure. You just need to call multiple glyph methods on one figure object:"
   ]
  },
  {
   "cell_type": "code",
   "execution_count": 20,
   "metadata": {},
   "outputs": [
    {
     "data": {
      "text/html": [
       "\n",
       "<div class=\"bk-root\">\n",
       "    <div class=\"bk-plotdiv\" id=\"37eb97e1-3e9c-4c8f-8ed5-82e311ba4ed2\"></div>\n",
       "</div>"
      ]
     },
     "metadata": {},
     "output_type": "display_data"
    },
    {
     "data": {
      "application/javascript": [
       "(function(root) {\n",
       "  function embed_document(root) {\n",
       "    \n",
       "  var docs_json = {\"9283b9bf-9a6c-4a55-86a7-11fd1c3dd833\":{\"roots\":{\"references\":[{\"attributes\":{},\"id\":\"4109743a-a020-4f69-971b-b8e171c1de80\",\"type\":\"BasicTickFormatter\"},{\"attributes\":{\"plot\":null,\"text\":\"\"},\"id\":\"cfdb9f2a-14bf-49d1-8a1f-abbe2dc3d8d1\",\"type\":\"Title\"},{\"attributes\":{},\"id\":\"4e04f064-6afb-4877-bf9d-79f0bf5925cc\",\"type\":\"BasicTickFormatter\"},{\"attributes\":{\"callback\":null,\"column_names\":[\"x\",\"y\"],\"data\":{\"x\":[1,2,3,4,5],\"y\":[6,7,8,7,3]}},\"id\":\"1c6c6e6e-990a-4c8a-98f1-7fe0f5705c39\",\"type\":\"ColumnDataSource\"},{\"attributes\":{},\"id\":\"2a7a25c8-91ce-4c00-a24e-748c33a2d30e\",\"type\":\"SaveTool\"},{\"attributes\":{\"fill_color\":{\"value\":\"white\"},\"line_color\":{\"value\":\"#1f77b4\"},\"size\":{\"units\":\"screen\",\"value\":8},\"x\":{\"field\":\"x\"},\"y\":{\"field\":\"y\"}},\"id\":\"760b2c1b-7a75-4692-a2f5-d78faa9e4726\",\"type\":\"Circle\"},{\"attributes\":{},\"id\":\"1fd2a640-a2f3-4418-aceb-1741854396ca\",\"type\":\"LinearScale\"},{\"attributes\":{},\"id\":\"02aeedb2-5351-4f47-8d58-c9b0cb9bcc76\",\"type\":\"BasicTicker\"},{\"attributes\":{},\"id\":\"516a7aef-30f8-48f0-8c1d-b3558cb2054b\",\"type\":\"LinearScale\"},{\"attributes\":{\"source\":{\"id\":\"84088ca1-c528-46fc-9860-99ab8d7ebb80\",\"type\":\"ColumnDataSource\"}},\"id\":\"9ba3d981-0721-4f3b-bba2-7916c1e5735f\",\"type\":\"CDSView\"},{\"attributes\":{\"plot\":{\"id\":\"5bfe9f54-0828-4ea9-bad1-d3feecf17fb6\",\"subtype\":\"Figure\",\"type\":\"Plot\"},\"ticker\":{\"id\":\"80e8b972-2123-4f83-be90-9876f8753746\",\"type\":\"BasicTicker\"}},\"id\":\"0b0c6c7e-6230-4a18-a153-ac60501562fd\",\"type\":\"Grid\"},{\"attributes\":{\"formatter\":{\"id\":\"4e04f064-6afb-4877-bf9d-79f0bf5925cc\",\"type\":\"BasicTickFormatter\"},\"plot\":{\"id\":\"5bfe9f54-0828-4ea9-bad1-d3feecf17fb6\",\"subtype\":\"Figure\",\"type\":\"Plot\"},\"ticker\":{\"id\":\"80e8b972-2123-4f83-be90-9876f8753746\",\"type\":\"BasicTicker\"}},\"id\":\"3fa28bc3-5d98-4374-9c94-35d976dbb54d\",\"type\":\"LinearAxis\"},{\"attributes\":{},\"id\":\"80e8b972-2123-4f83-be90-9876f8753746\",\"type\":\"BasicTicker\"},{\"attributes\":{\"formatter\":{\"id\":\"4109743a-a020-4f69-971b-b8e171c1de80\",\"type\":\"BasicTickFormatter\"},\"plot\":{\"id\":\"5bfe9f54-0828-4ea9-bad1-d3feecf17fb6\",\"subtype\":\"Figure\",\"type\":\"Plot\"},\"ticker\":{\"id\":\"02aeedb2-5351-4f47-8d58-c9b0cb9bcc76\",\"type\":\"BasicTicker\"}},\"id\":\"eeecf592-23ff-47ae-9730-0985820fe16a\",\"type\":\"LinearAxis\"},{\"attributes\":{\"data_source\":{\"id\":\"1c6c6e6e-990a-4c8a-98f1-7fe0f5705c39\",\"type\":\"ColumnDataSource\"},\"glyph\":{\"id\":\"c12a8fc3-fe22-4c2e-9345-88288180de0e\",\"type\":\"Line\"},\"hover_glyph\":null,\"muted_glyph\":null,\"nonselection_glyph\":{\"id\":\"5419f56a-d8a8-473f-aa96-212823d15024\",\"type\":\"Line\"},\"selection_glyph\":null,\"view\":{\"id\":\"b6cc44c9-d6fc-4e05-be50-fc8d67b81ca1\",\"type\":\"CDSView\"}},\"id\":\"a7958595-f212-4812-b9a5-5197c1b5426e\",\"type\":\"GlyphRenderer\"},{\"attributes\":{\"callback\":null},\"id\":\"e11750be-de1b-4167-9bc6-e4c954021b0b\",\"type\":\"DataRange1d\"},{\"attributes\":{\"active_drag\":\"auto\",\"active_inspect\":\"auto\",\"active_scroll\":\"auto\",\"active_tap\":\"auto\",\"tools\":[{\"id\":\"01aa74bd-06ff-48f1-aee8-0887b500732f\",\"type\":\"PanTool\"},{\"id\":\"ccf7283f-ebf5-497e-82f4-be3585b2c6c8\",\"type\":\"WheelZoomTool\"},{\"id\":\"d199a2c2-eae3-4520-9b73-6d9c8b0ffc23\",\"type\":\"BoxZoomTool\"},{\"id\":\"2a7a25c8-91ce-4c00-a24e-748c33a2d30e\",\"type\":\"SaveTool\"},{\"id\":\"384219fc-06f7-4cea-8676-8fce9232f1b0\",\"type\":\"ResetTool\"},{\"id\":\"3ddf4fc9-c8dd-489f-8afc-118e81ba57e6\",\"type\":\"HelpTool\"}]},\"id\":\"11df84ab-97eb-414d-954f-d95afcbaeea3\",\"type\":\"Toolbar\"},{\"attributes\":{\"line_color\":\"#1f77b4\",\"line_width\":2,\"x\":{\"field\":\"x\"},\"y\":{\"field\":\"y\"}},\"id\":\"c12a8fc3-fe22-4c2e-9345-88288180de0e\",\"type\":\"Line\"},{\"attributes\":{\"callback\":null},\"id\":\"5b9a0e14-8476-4af2-85ea-94d5c3855060\",\"type\":\"DataRange1d\"},{\"attributes\":{\"below\":[{\"id\":\"3fa28bc3-5d98-4374-9c94-35d976dbb54d\",\"type\":\"LinearAxis\"}],\"left\":[{\"id\":\"eeecf592-23ff-47ae-9730-0985820fe16a\",\"type\":\"LinearAxis\"}],\"plot_height\":400,\"plot_width\":400,\"renderers\":[{\"id\":\"3fa28bc3-5d98-4374-9c94-35d976dbb54d\",\"type\":\"LinearAxis\"},{\"id\":\"0b0c6c7e-6230-4a18-a153-ac60501562fd\",\"type\":\"Grid\"},{\"id\":\"eeecf592-23ff-47ae-9730-0985820fe16a\",\"type\":\"LinearAxis\"},{\"id\":\"9fe16a36-debb-4a06-8bd4-618d229c6044\",\"type\":\"Grid\"},{\"id\":\"fa92e1fa-46b8-4e64-87ff-aaae67b1c0cf\",\"type\":\"BoxAnnotation\"},{\"id\":\"a7958595-f212-4812-b9a5-5197c1b5426e\",\"type\":\"GlyphRenderer\"},{\"id\":\"a58a37a0-aa4c-4fff-85ca-3d954eb2d75d\",\"type\":\"GlyphRenderer\"}],\"title\":{\"id\":\"cfdb9f2a-14bf-49d1-8a1f-abbe2dc3d8d1\",\"type\":\"Title\"},\"toolbar\":{\"id\":\"11df84ab-97eb-414d-954f-d95afcbaeea3\",\"type\":\"Toolbar\"},\"x_range\":{\"id\":\"5b9a0e14-8476-4af2-85ea-94d5c3855060\",\"type\":\"DataRange1d\"},\"x_scale\":{\"id\":\"1fd2a640-a2f3-4418-aceb-1741854396ca\",\"type\":\"LinearScale\"},\"y_range\":{\"id\":\"e11750be-de1b-4167-9bc6-e4c954021b0b\",\"type\":\"DataRange1d\"},\"y_scale\":{\"id\":\"516a7aef-30f8-48f0-8c1d-b3558cb2054b\",\"type\":\"LinearScale\"}},\"id\":\"5bfe9f54-0828-4ea9-bad1-d3feecf17fb6\",\"subtype\":\"Figure\",\"type\":\"Plot\"},{\"attributes\":{\"dimension\":1,\"plot\":{\"id\":\"5bfe9f54-0828-4ea9-bad1-d3feecf17fb6\",\"subtype\":\"Figure\",\"type\":\"Plot\"},\"ticker\":{\"id\":\"02aeedb2-5351-4f47-8d58-c9b0cb9bcc76\",\"type\":\"BasicTicker\"}},\"id\":\"9fe16a36-debb-4a06-8bd4-618d229c6044\",\"type\":\"Grid\"},{\"attributes\":{},\"id\":\"384219fc-06f7-4cea-8676-8fce9232f1b0\",\"type\":\"ResetTool\"},{\"attributes\":{\"line_alpha\":0.1,\"line_color\":\"#1f77b4\",\"line_width\":2,\"x\":{\"field\":\"x\"},\"y\":{\"field\":\"y\"}},\"id\":\"5419f56a-d8a8-473f-aa96-212823d15024\",\"type\":\"Line\"},{\"attributes\":{\"callback\":null,\"column_names\":[\"x\",\"y\"],\"data\":{\"x\":[1,2,3,4,5],\"y\":[6,7,8,7,3]}},\"id\":\"84088ca1-c528-46fc-9860-99ab8d7ebb80\",\"type\":\"ColumnDataSource\"},{\"attributes\":{\"bottom_units\":\"screen\",\"fill_alpha\":{\"value\":0.5},\"fill_color\":{\"value\":\"lightgrey\"},\"left_units\":\"screen\",\"level\":\"overlay\",\"line_alpha\":{\"value\":1.0},\"line_color\":{\"value\":\"black\"},\"line_dash\":[4,4],\"line_width\":{\"value\":2},\"plot\":null,\"render_mode\":\"css\",\"right_units\":\"screen\",\"top_units\":\"screen\"},\"id\":\"fa92e1fa-46b8-4e64-87ff-aaae67b1c0cf\",\"type\":\"BoxAnnotation\"},{\"attributes\":{},\"id\":\"01aa74bd-06ff-48f1-aee8-0887b500732f\",\"type\":\"PanTool\"},{\"attributes\":{},\"id\":\"ccf7283f-ebf5-497e-82f4-be3585b2c6c8\",\"type\":\"WheelZoomTool\"},{\"attributes\":{\"overlay\":{\"id\":\"fa92e1fa-46b8-4e64-87ff-aaae67b1c0cf\",\"type\":\"BoxAnnotation\"}},\"id\":\"d199a2c2-eae3-4520-9b73-6d9c8b0ffc23\",\"type\":\"BoxZoomTool\"},{\"attributes\":{\"source\":{\"id\":\"1c6c6e6e-990a-4c8a-98f1-7fe0f5705c39\",\"type\":\"ColumnDataSource\"}},\"id\":\"b6cc44c9-d6fc-4e05-be50-fc8d67b81ca1\",\"type\":\"CDSView\"},{\"attributes\":{\"fill_alpha\":{\"value\":0.1},\"fill_color\":{\"value\":\"#1f77b4\"},\"line_alpha\":{\"value\":0.1},\"line_color\":{\"value\":\"#1f77b4\"},\"size\":{\"units\":\"screen\",\"value\":8},\"x\":{\"field\":\"x\"},\"y\":{\"field\":\"y\"}},\"id\":\"3b4ecc40-77eb-422b-b288-ec1e47a9ebe0\",\"type\":\"Circle\"},{\"attributes\":{\"data_source\":{\"id\":\"84088ca1-c528-46fc-9860-99ab8d7ebb80\",\"type\":\"ColumnDataSource\"},\"glyph\":{\"id\":\"760b2c1b-7a75-4692-a2f5-d78faa9e4726\",\"type\":\"Circle\"},\"hover_glyph\":null,\"muted_glyph\":null,\"nonselection_glyph\":{\"id\":\"3b4ecc40-77eb-422b-b288-ec1e47a9ebe0\",\"type\":\"Circle\"},\"selection_glyph\":null,\"view\":{\"id\":\"9ba3d981-0721-4f3b-bba2-7916c1e5735f\",\"type\":\"CDSView\"}},\"id\":\"a58a37a0-aa4c-4fff-85ca-3d954eb2d75d\",\"type\":\"GlyphRenderer\"},{\"attributes\":{},\"id\":\"3ddf4fc9-c8dd-489f-8afc-118e81ba57e6\",\"type\":\"HelpTool\"}],\"root_ids\":[\"5bfe9f54-0828-4ea9-bad1-d3feecf17fb6\"]},\"title\":\"Bokeh Application\",\"version\":\"0.12.13\"}};\n",
       "  var render_items = [{\"docid\":\"9283b9bf-9a6c-4a55-86a7-11fd1c3dd833\",\"elementid\":\"37eb97e1-3e9c-4c8f-8ed5-82e311ba4ed2\",\"modelid\":\"5bfe9f54-0828-4ea9-bad1-d3feecf17fb6\"}];\n",
       "  root.Bokeh.embed.embed_items_notebook(docs_json, render_items);\n",
       "\n",
       "  }\n",
       "  if (root.Bokeh !== undefined) {\n",
       "    embed_document(root);\n",
       "  } else {\n",
       "    var attempts = 0;\n",
       "    var timer = setInterval(function(root) {\n",
       "      if (root.Bokeh !== undefined) {\n",
       "        embed_document(root);\n",
       "        clearInterval(timer);\n",
       "      }\n",
       "      attempts++;\n",
       "      if (attempts > 100) {\n",
       "        console.log(\"Bokeh: ERROR: Unable to run BokehJS code because BokehJS library is missing\")\n",
       "        clearInterval(timer);\n",
       "      }\n",
       "    }, 10, root)\n",
       "  }\n",
       "})(window);"
      ],
      "application/vnd.bokehjs_exec.v0+json": ""
     },
     "metadata": {
      "application/vnd.bokehjs_exec.v0+json": {
       "id": "5bfe9f54-0828-4ea9-bad1-d3feecf17fb6"
      }
     },
     "output_type": "display_data"
    }
   ],
   "source": [
    "# set up some data\n",
    "x = [1, 2, 3, 4, 5]\n",
    "y = [6, 7, 8, 7, 3]\n",
    "\n",
    "# create a new plot with figure\n",
    "p = figure(plot_width=400, plot_height=400)\n",
    "\n",
    "# add both a line and circles on the same plot\n",
    "p.line(x, y, line_width=2)\n",
    "p.circle(x, y, fill_color=\"white\", size=8)\n",
    "\n",
    "show(p) # show the results"
   ]
  },
  {
   "cell_type": "code",
   "execution_count": 11,
   "metadata": {
    "collapsed": true
   },
   "outputs": [],
   "source": [
    "# EXERCISE: create your own plot combining multiple glyphs together\n",
    "\n"
   ]
  },
  {
   "cell_type": "code",
   "execution_count": null,
   "metadata": {},
   "outputs": [],
   "source": []
  }
 ],
 "metadata": {
  "anaconda-cloud": {},
  "kernelspec": {
   "display_name": "Python 3",
   "language": "python",
   "name": "python3"
  },
  "language_info": {
   "codemirror_mode": {
    "name": "ipython",
    "version": 3
   },
   "file_extension": ".py",
   "mimetype": "text/x-python",
   "name": "python",
   "nbconvert_exporter": "python",
   "pygments_lexer": "ipython3",
   "version": "3.6.4"
  }
 },
 "nbformat": 4,
 "nbformat_minor": 2
}
