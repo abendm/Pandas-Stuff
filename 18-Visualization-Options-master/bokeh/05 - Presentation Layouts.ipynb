{
 "cells": [
  {
   "cell_type": "markdown",
   "metadata": {},
   "source": [
    "<table style=\"float:left; border:none\">\n",
    "   <tr style=\"border:none; background-color: #ffffff\">\n",
    "       <td style=\"border:none\">\n",
    "           <a href=\"http://bokeh.pydata.org/\">     \n",
    "           <img \n",
    "               src=\"assets/bokeh-transparent.png\" \n",
    "               style=\"width:50px\"\n",
    "           >\n",
    "           </a>    \n",
    "       </td>\n",
    "       <td style=\"border:none\">\n",
    "           <h1>Bokeh Tutorial</h1>\n",
    "       </td>\n",
    "   </tr>\n",
    "</table>\n",
    "\n",
    "<div style=\"float:right;\"><h2>05. Presentation Layouts</h2></div>"
   ]
  },
  {
   "cell_type": "code",
   "execution_count": 1,
   "metadata": {},
   "outputs": [
    {
     "data": {
      "text/html": [
       "\n",
       "    <div class=\"bk-root\">\n",
       "        <a href=\"https://bokeh.pydata.org\" target=\"_blank\" class=\"bk-logo bk-logo-small bk-logo-notebook\"></a>\n",
       "        <span id=\"58538e99-e4d9-4078-8945-3cfe10456c44\">Loading BokehJS ...</span>\n",
       "    </div>"
      ]
     },
     "metadata": {},
     "output_type": "display_data"
    },
    {
     "data": {
      "application/javascript": [
       "\n",
       "(function(root) {\n",
       "  function now() {\n",
       "    return new Date();\n",
       "  }\n",
       "\n",
       "  var force = true;\n",
       "\n",
       "  if (typeof (root._bokeh_onload_callbacks) === \"undefined\" || force === true) {\n",
       "    root._bokeh_onload_callbacks = [];\n",
       "    root._bokeh_is_loading = undefined;\n",
       "  }\n",
       "\n",
       "  var JS_MIME_TYPE = 'application/javascript';\n",
       "  var HTML_MIME_TYPE = 'text/html';\n",
       "  var EXEC_MIME_TYPE = 'application/vnd.bokehjs_exec.v0+json';\n",
       "  var CLASS_NAME = 'output_bokeh rendered_html';\n",
       "\n",
       "  /**\n",
       "   * Render data to the DOM node\n",
       "   */\n",
       "  function render(props, node) {\n",
       "    var script = document.createElement(\"script\");\n",
       "    node.appendChild(script);\n",
       "  }\n",
       "\n",
       "  /**\n",
       "   * Handle when an output is cleared or removed\n",
       "   */\n",
       "  function handleClearOutput(event, handle) {\n",
       "    var cell = handle.cell;\n",
       "\n",
       "    var id = cell.output_area._bokeh_element_id;\n",
       "    var server_id = cell.output_area._bokeh_server_id;\n",
       "    // Clean up Bokeh references\n",
       "    if (id !== undefined) {\n",
       "      Bokeh.index[id].model.document.clear();\n",
       "      delete Bokeh.index[id];\n",
       "    }\n",
       "\n",
       "    if (server_id !== undefined) {\n",
       "      // Clean up Bokeh references\n",
       "      var cmd = \"from bokeh.io.state import curstate; print(curstate().uuid_to_server['\" + server_id + \"'].get_sessions()[0].document.roots[0]._id)\";\n",
       "      cell.notebook.kernel.execute(cmd, {\n",
       "        iopub: {\n",
       "          output: function(msg) {\n",
       "            var element_id = msg.content.text.trim();\n",
       "            Bokeh.index[element_id].model.document.clear();\n",
       "            delete Bokeh.index[element_id];\n",
       "          }\n",
       "        }\n",
       "      });\n",
       "      // Destroy server and session\n",
       "      var cmd = \"import bokeh.io.notebook as ion; ion.destroy_server('\" + server_id + \"')\";\n",
       "      cell.notebook.kernel.execute(cmd);\n",
       "    }\n",
       "  }\n",
       "\n",
       "  /**\n",
       "   * Handle when a new output is added\n",
       "   */\n",
       "  function handleAddOutput(event, handle) {\n",
       "    var output_area = handle.output_area;\n",
       "    var output = handle.output;\n",
       "\n",
       "    // limit handleAddOutput to display_data with EXEC_MIME_TYPE content only\n",
       "    if ((output.output_type != \"display_data\") || (!output.data.hasOwnProperty(EXEC_MIME_TYPE))) {\n",
       "      return\n",
       "    }\n",
       "\n",
       "    var toinsert = output_area.element.find(\".\" + CLASS_NAME.split(' ')[0]);\n",
       "\n",
       "    if (output.metadata[EXEC_MIME_TYPE][\"id\"] !== undefined) {\n",
       "      toinsert[0].firstChild.textContent = output.data[JS_MIME_TYPE];\n",
       "      // store reference to embed id on output_area\n",
       "      output_area._bokeh_element_id = output.metadata[EXEC_MIME_TYPE][\"id\"];\n",
       "    }\n",
       "    if (output.metadata[EXEC_MIME_TYPE][\"server_id\"] !== undefined) {\n",
       "      var bk_div = document.createElement(\"div\");\n",
       "      bk_div.innerHTML = output.data[HTML_MIME_TYPE];\n",
       "      var script_attrs = bk_div.children[0].attributes;\n",
       "      for (var i = 0; i < script_attrs.length; i++) {\n",
       "        toinsert[0].firstChild.setAttribute(script_attrs[i].name, script_attrs[i].value);\n",
       "      }\n",
       "      // store reference to server id on output_area\n",
       "      output_area._bokeh_server_id = output.metadata[EXEC_MIME_TYPE][\"server_id\"];\n",
       "    }\n",
       "  }\n",
       "\n",
       "  function register_renderer(events, OutputArea) {\n",
       "\n",
       "    function append_mime(data, metadata, element) {\n",
       "      // create a DOM node to render to\n",
       "      var toinsert = this.create_output_subarea(\n",
       "        metadata,\n",
       "        CLASS_NAME,\n",
       "        EXEC_MIME_TYPE\n",
       "      );\n",
       "      this.keyboard_manager.register_events(toinsert);\n",
       "      // Render to node\n",
       "      var props = {data: data, metadata: metadata[EXEC_MIME_TYPE]};\n",
       "      render(props, toinsert[0]);\n",
       "      element.append(toinsert);\n",
       "      return toinsert\n",
       "    }\n",
       "\n",
       "    /* Handle when an output is cleared or removed */\n",
       "    events.on('clear_output.CodeCell', handleClearOutput);\n",
       "    events.on('delete.Cell', handleClearOutput);\n",
       "\n",
       "    /* Handle when a new output is added */\n",
       "    events.on('output_added.OutputArea', handleAddOutput);\n",
       "\n",
       "    /**\n",
       "     * Register the mime type and append_mime function with output_area\n",
       "     */\n",
       "    OutputArea.prototype.register_mime_type(EXEC_MIME_TYPE, append_mime, {\n",
       "      /* Is output safe? */\n",
       "      safe: true,\n",
       "      /* Index of renderer in `output_area.display_order` */\n",
       "      index: 0\n",
       "    });\n",
       "  }\n",
       "\n",
       "  // register the mime type if in Jupyter Notebook environment and previously unregistered\n",
       "  if (root.Jupyter !== undefined) {\n",
       "    var events = require('base/js/events');\n",
       "    var OutputArea = require('notebook/js/outputarea').OutputArea;\n",
       "\n",
       "    if (OutputArea.prototype.mime_types().indexOf(EXEC_MIME_TYPE) == -1) {\n",
       "      register_renderer(events, OutputArea);\n",
       "    }\n",
       "  }\n",
       "\n",
       "  \n",
       "  if (typeof (root._bokeh_timeout) === \"undefined\" || force === true) {\n",
       "    root._bokeh_timeout = Date.now() + 5000;\n",
       "    root._bokeh_failed_load = false;\n",
       "  }\n",
       "\n",
       "  var NB_LOAD_WARNING = {'data': {'text/html':\n",
       "     \"<div style='background-color: #fdd'>\\n\"+\n",
       "     \"<p>\\n\"+\n",
       "     \"BokehJS does not appear to have successfully loaded. If loading BokehJS from CDN, this \\n\"+\n",
       "     \"may be due to a slow or bad network connection. Possible fixes:\\n\"+\n",
       "     \"</p>\\n\"+\n",
       "     \"<ul>\\n\"+\n",
       "     \"<li>re-rerun `output_notebook()` to attempt to load from CDN again, or</li>\\n\"+\n",
       "     \"<li>use INLINE resources instead, as so:</li>\\n\"+\n",
       "     \"</ul>\\n\"+\n",
       "     \"<code>\\n\"+\n",
       "     \"from bokeh.resources import INLINE\\n\"+\n",
       "     \"output_notebook(resources=INLINE)\\n\"+\n",
       "     \"</code>\\n\"+\n",
       "     \"</div>\"}};\n",
       "\n",
       "  function display_loaded() {\n",
       "    var el = document.getElementById(\"58538e99-e4d9-4078-8945-3cfe10456c44\");\n",
       "    if (el != null) {\n",
       "      el.textContent = \"BokehJS is loading...\";\n",
       "    }\n",
       "    if (root.Bokeh !== undefined) {\n",
       "      if (el != null) {\n",
       "        el.textContent = \"BokehJS \" + root.Bokeh.version + \" successfully loaded.\";\n",
       "      }\n",
       "    } else if (Date.now() < root._bokeh_timeout) {\n",
       "      setTimeout(display_loaded, 100)\n",
       "    }\n",
       "  }\n",
       "\n",
       "\n",
       "  function run_callbacks() {\n",
       "    try {\n",
       "      root._bokeh_onload_callbacks.forEach(function(callback) { callback() });\n",
       "    }\n",
       "    finally {\n",
       "      delete root._bokeh_onload_callbacks\n",
       "    }\n",
       "    console.info(\"Bokeh: all callbacks have finished\");\n",
       "  }\n",
       "\n",
       "  function load_libs(js_urls, callback) {\n",
       "    root._bokeh_onload_callbacks.push(callback);\n",
       "    if (root._bokeh_is_loading > 0) {\n",
       "      console.log(\"Bokeh: BokehJS is being loaded, scheduling callback at\", now());\n",
       "      return null;\n",
       "    }\n",
       "    if (js_urls == null || js_urls.length === 0) {\n",
       "      run_callbacks();\n",
       "      return null;\n",
       "    }\n",
       "    console.log(\"Bokeh: BokehJS not loaded, scheduling load and callback at\", now());\n",
       "    root._bokeh_is_loading = js_urls.length;\n",
       "    for (var i = 0; i < js_urls.length; i++) {\n",
       "      var url = js_urls[i];\n",
       "      var s = document.createElement('script');\n",
       "      s.src = url;\n",
       "      s.async = false;\n",
       "      s.onreadystatechange = s.onload = function() {\n",
       "        root._bokeh_is_loading--;\n",
       "        if (root._bokeh_is_loading === 0) {\n",
       "          console.log(\"Bokeh: all BokehJS libraries loaded\");\n",
       "          run_callbacks()\n",
       "        }\n",
       "      };\n",
       "      s.onerror = function() {\n",
       "        console.warn(\"failed to load library \" + url);\n",
       "      };\n",
       "      console.log(\"Bokeh: injecting script tag for BokehJS library: \", url);\n",
       "      document.getElementsByTagName(\"head\")[0].appendChild(s);\n",
       "    }\n",
       "  };var element = document.getElementById(\"58538e99-e4d9-4078-8945-3cfe10456c44\");\n",
       "  if (element == null) {\n",
       "    console.log(\"Bokeh: ERROR: autoload.js configured with elementid '58538e99-e4d9-4078-8945-3cfe10456c44' but no matching script tag was found. \")\n",
       "    return false;\n",
       "  }\n",
       "\n",
       "  var js_urls = [\"https://cdn.pydata.org/bokeh/release/bokeh-0.12.13.min.js\", \"https://cdn.pydata.org/bokeh/release/bokeh-widgets-0.12.13.min.js\", \"https://cdn.pydata.org/bokeh/release/bokeh-tables-0.12.13.min.js\", \"https://cdn.pydata.org/bokeh/release/bokeh-gl-0.12.13.min.js\"];\n",
       "\n",
       "  var inline_js = [\n",
       "    function(Bokeh) {\n",
       "      Bokeh.set_log_level(\"info\");\n",
       "    },\n",
       "    \n",
       "    function(Bokeh) {\n",
       "      \n",
       "    },\n",
       "    function(Bokeh) {\n",
       "      console.log(\"Bokeh: injecting CSS: https://cdn.pydata.org/bokeh/release/bokeh-0.12.13.min.css\");\n",
       "      Bokeh.embed.inject_css(\"https://cdn.pydata.org/bokeh/release/bokeh-0.12.13.min.css\");\n",
       "      console.log(\"Bokeh: injecting CSS: https://cdn.pydata.org/bokeh/release/bokeh-widgets-0.12.13.min.css\");\n",
       "      Bokeh.embed.inject_css(\"https://cdn.pydata.org/bokeh/release/bokeh-widgets-0.12.13.min.css\");\n",
       "      console.log(\"Bokeh: injecting CSS: https://cdn.pydata.org/bokeh/release/bokeh-tables-0.12.13.min.css\");\n",
       "      Bokeh.embed.inject_css(\"https://cdn.pydata.org/bokeh/release/bokeh-tables-0.12.13.min.css\");\n",
       "    }\n",
       "  ];\n",
       "\n",
       "  function run_inline_js() {\n",
       "    \n",
       "    if ((root.Bokeh !== undefined) || (force === true)) {\n",
       "      for (var i = 0; i < inline_js.length; i++) {\n",
       "        inline_js[i].call(root, root.Bokeh);\n",
       "      }if (force === true) {\n",
       "        display_loaded();\n",
       "      }} else if (Date.now() < root._bokeh_timeout) {\n",
       "      setTimeout(run_inline_js, 100);\n",
       "    } else if (!root._bokeh_failed_load) {\n",
       "      console.log(\"Bokeh: BokehJS failed to load within specified timeout.\");\n",
       "      root._bokeh_failed_load = true;\n",
       "    } else if (force !== true) {\n",
       "      var cell = $(document.getElementById(\"58538e99-e4d9-4078-8945-3cfe10456c44\")).parents('.cell').data().cell;\n",
       "      cell.output_area.append_execute_result(NB_LOAD_WARNING)\n",
       "    }\n",
       "\n",
       "  }\n",
       "\n",
       "  if (root._bokeh_is_loading === 0) {\n",
       "    console.log(\"Bokeh: BokehJS loaded, going straight to plotting\");\n",
       "    run_inline_js();\n",
       "  } else {\n",
       "    load_libs(js_urls, function() {\n",
       "      console.log(\"Bokeh: BokehJS plotting callback run at\", now());\n",
       "      run_inline_js();\n",
       "    });\n",
       "  }\n",
       "}(window));"
      ],
      "application/vnd.bokehjs_load.v0+json": "\n(function(root) {\n  function now() {\n    return new Date();\n  }\n\n  var force = true;\n\n  if (typeof (root._bokeh_onload_callbacks) === \"undefined\" || force === true) {\n    root._bokeh_onload_callbacks = [];\n    root._bokeh_is_loading = undefined;\n  }\n\n  \n\n  \n  if (typeof (root._bokeh_timeout) === \"undefined\" || force === true) {\n    root._bokeh_timeout = Date.now() + 5000;\n    root._bokeh_failed_load = false;\n  }\n\n  var NB_LOAD_WARNING = {'data': {'text/html':\n     \"<div style='background-color: #fdd'>\\n\"+\n     \"<p>\\n\"+\n     \"BokehJS does not appear to have successfully loaded. If loading BokehJS from CDN, this \\n\"+\n     \"may be due to a slow or bad network connection. Possible fixes:\\n\"+\n     \"</p>\\n\"+\n     \"<ul>\\n\"+\n     \"<li>re-rerun `output_notebook()` to attempt to load from CDN again, or</li>\\n\"+\n     \"<li>use INLINE resources instead, as so:</li>\\n\"+\n     \"</ul>\\n\"+\n     \"<code>\\n\"+\n     \"from bokeh.resources import INLINE\\n\"+\n     \"output_notebook(resources=INLINE)\\n\"+\n     \"</code>\\n\"+\n     \"</div>\"}};\n\n  function display_loaded() {\n    var el = document.getElementById(\"58538e99-e4d9-4078-8945-3cfe10456c44\");\n    if (el != null) {\n      el.textContent = \"BokehJS is loading...\";\n    }\n    if (root.Bokeh !== undefined) {\n      if (el != null) {\n        el.textContent = \"BokehJS \" + root.Bokeh.version + \" successfully loaded.\";\n      }\n    } else if (Date.now() < root._bokeh_timeout) {\n      setTimeout(display_loaded, 100)\n    }\n  }\n\n\n  function run_callbacks() {\n    try {\n      root._bokeh_onload_callbacks.forEach(function(callback) { callback() });\n    }\n    finally {\n      delete root._bokeh_onload_callbacks\n    }\n    console.info(\"Bokeh: all callbacks have finished\");\n  }\n\n  function load_libs(js_urls, callback) {\n    root._bokeh_onload_callbacks.push(callback);\n    if (root._bokeh_is_loading > 0) {\n      console.log(\"Bokeh: BokehJS is being loaded, scheduling callback at\", now());\n      return null;\n    }\n    if (js_urls == null || js_urls.length === 0) {\n      run_callbacks();\n      return null;\n    }\n    console.log(\"Bokeh: BokehJS not loaded, scheduling load and callback at\", now());\n    root._bokeh_is_loading = js_urls.length;\n    for (var i = 0; i < js_urls.length; i++) {\n      var url = js_urls[i];\n      var s = document.createElement('script');\n      s.src = url;\n      s.async = false;\n      s.onreadystatechange = s.onload = function() {\n        root._bokeh_is_loading--;\n        if (root._bokeh_is_loading === 0) {\n          console.log(\"Bokeh: all BokehJS libraries loaded\");\n          run_callbacks()\n        }\n      };\n      s.onerror = function() {\n        console.warn(\"failed to load library \" + url);\n      };\n      console.log(\"Bokeh: injecting script tag for BokehJS library: \", url);\n      document.getElementsByTagName(\"head\")[0].appendChild(s);\n    }\n  };var element = document.getElementById(\"58538e99-e4d9-4078-8945-3cfe10456c44\");\n  if (element == null) {\n    console.log(\"Bokeh: ERROR: autoload.js configured with elementid '58538e99-e4d9-4078-8945-3cfe10456c44' but no matching script tag was found. \")\n    return false;\n  }\n\n  var js_urls = [\"https://cdn.pydata.org/bokeh/release/bokeh-0.12.13.min.js\", \"https://cdn.pydata.org/bokeh/release/bokeh-widgets-0.12.13.min.js\", \"https://cdn.pydata.org/bokeh/release/bokeh-tables-0.12.13.min.js\", \"https://cdn.pydata.org/bokeh/release/bokeh-gl-0.12.13.min.js\"];\n\n  var inline_js = [\n    function(Bokeh) {\n      Bokeh.set_log_level(\"info\");\n    },\n    \n    function(Bokeh) {\n      \n    },\n    function(Bokeh) {\n      console.log(\"Bokeh: injecting CSS: https://cdn.pydata.org/bokeh/release/bokeh-0.12.13.min.css\");\n      Bokeh.embed.inject_css(\"https://cdn.pydata.org/bokeh/release/bokeh-0.12.13.min.css\");\n      console.log(\"Bokeh: injecting CSS: https://cdn.pydata.org/bokeh/release/bokeh-widgets-0.12.13.min.css\");\n      Bokeh.embed.inject_css(\"https://cdn.pydata.org/bokeh/release/bokeh-widgets-0.12.13.min.css\");\n      console.log(\"Bokeh: injecting CSS: https://cdn.pydata.org/bokeh/release/bokeh-tables-0.12.13.min.css\");\n      Bokeh.embed.inject_css(\"https://cdn.pydata.org/bokeh/release/bokeh-tables-0.12.13.min.css\");\n    }\n  ];\n\n  function run_inline_js() {\n    \n    if ((root.Bokeh !== undefined) || (force === true)) {\n      for (var i = 0; i < inline_js.length; i++) {\n        inline_js[i].call(root, root.Bokeh);\n      }if (force === true) {\n        display_loaded();\n      }} else if (Date.now() < root._bokeh_timeout) {\n      setTimeout(run_inline_js, 100);\n    } else if (!root._bokeh_failed_load) {\n      console.log(\"Bokeh: BokehJS failed to load within specified timeout.\");\n      root._bokeh_failed_load = true;\n    } else if (force !== true) {\n      var cell = $(document.getElementById(\"58538e99-e4d9-4078-8945-3cfe10456c44\")).parents('.cell').data().cell;\n      cell.output_area.append_execute_result(NB_LOAD_WARNING)\n    }\n\n  }\n\n  if (root._bokeh_is_loading === 0) {\n    console.log(\"Bokeh: BokehJS loaded, going straight to plotting\");\n    run_inline_js();\n  } else {\n    load_libs(js_urls, function() {\n      console.log(\"Bokeh: BokehJS plotting callback run at\", now());\n      run_inline_js();\n    });\n  }\n}(window));"
     },
     "metadata": {},
     "output_type": "display_data"
    }
   ],
   "source": [
    "from bokeh.io import output_notebook, show\n",
    "from bokeh.plotting import figure\n",
    "\n",
    "output_notebook()"
   ]
  },
  {
   "cell_type": "markdown",
   "metadata": {},
   "source": [
    "In the previous chapters we started to learn how to create single plots using differnet kinds of data. But we often want to plot more than one thing. Boeh plots can be individually embedded in HTML documents, but it's often easier to\n",
    "combine multiple plots in one of Bokeh's built-in layouts. We will learn how to do that in this chapter\n",
    "\n",
    "The cell below defines a few data variables we will use in examples."
   ]
  },
  {
   "cell_type": "code",
   "execution_count": 2,
   "metadata": {
    "collapsed": true
   },
   "outputs": [],
   "source": [
    "x = list(range(11))\n",
    "y0, y1, y2 = x, [10-i for i in x], [abs(i-5) for i in x]"
   ]
  },
  {
   "cell_type": "markdown",
   "metadata": {},
   "source": [
    "# Rows and Columns\n",
    "The `bokeh.layouts` modules provides the ``row`` and ``column`` functions to arrange plot objects in vertical or horizontal layouts. Below is an example of three plots arranged in a row."
   ]
  },
  {
   "cell_type": "code",
   "execution_count": 3,
   "metadata": {},
   "outputs": [
    {
     "data": {
      "text/html": [
       "\n",
       "<div class=\"bk-root\">\n",
       "    <div class=\"bk-plotdiv\" id=\"b15a456b-9e8c-4a34-9b9e-25aa446ffbe5\"></div>\n",
       "</div>"
      ]
     },
     "metadata": {},
     "output_type": "display_data"
    },
    {
     "data": {
      "application/javascript": [
       "(function(root) {\n",
       "  function embed_document(root) {\n",
       "    \n",
       "  var docs_json = {\"63379f22-c933-4747-96e1-60501e2c7d20\":{\"roots\":{\"references\":[{\"attributes\":{\"data_source\":{\"id\":\"3356385c-1eee-49bd-b9d5-3d063b2a0626\",\"type\":\"ColumnDataSource\"},\"glyph\":{\"id\":\"7f0b02a7-e0d7-46c7-8be7-e5a3f7a9f757\",\"type\":\"Circle\"},\"hover_glyph\":null,\"muted_glyph\":null,\"nonselection_glyph\":{\"id\":\"d70a01dc-20f8-4a77-85f5-51b0e8d092a5\",\"type\":\"Circle\"},\"selection_glyph\":null,\"view\":{\"id\":\"734fe6dc-95d6-4a5f-83cf-4ef54d650cd1\",\"type\":\"CDSView\"}},\"id\":\"86638e03-4a10-490e-956e-5238215af082\",\"type\":\"GlyphRenderer\"},{\"attributes\":{\"callback\":null,\"column_names\":[\"x\",\"y\"],\"data\":{\"x\":[0,1,2,3,4,5,6,7,8,9,10],\"y\":[10,9,8,7,6,5,4,3,2,1,0]}},\"id\":\"69ca4d65-dc3f-43be-a0fb-ec3af68a9d86\",\"type\":\"ColumnDataSource\"},{\"attributes\":{},\"id\":\"8ec5325f-b9cf-489f-8131-79a3cb6201c6\",\"type\":\"PanTool\"},{\"attributes\":{\"bottom_units\":\"screen\",\"fill_alpha\":{\"value\":0.5},\"fill_color\":{\"value\":\"lightgrey\"},\"left_units\":\"screen\",\"level\":\"overlay\",\"line_alpha\":{\"value\":1.0},\"line_color\":{\"value\":\"black\"},\"line_dash\":[4,4],\"line_width\":{\"value\":2},\"plot\":null,\"render_mode\":\"css\",\"right_units\":\"screen\",\"top_units\":\"screen\"},\"id\":\"a5858260-13c1-40ce-abcf-c507b5a02019\",\"type\":\"BoxAnnotation\"},{\"attributes\":{},\"id\":\"7594faec-800c-43da-905d-b972d03d2461\",\"type\":\"WheelZoomTool\"},{\"attributes\":{\"overlay\":{\"id\":\"a5858260-13c1-40ce-abcf-c507b5a02019\",\"type\":\"BoxAnnotation\"}},\"id\":\"594de18f-4f5c-45d6-8665-bccaa5fd390b\",\"type\":\"BoxZoomTool\"},{\"attributes\":{},\"id\":\"6dc4f5bb-941a-4154-835c-3a3fc50f5ac7\",\"type\":\"SaveTool\"},{\"attributes\":{},\"id\":\"46a2b298-cbbe-419d-bb74-e7103b8ca3bb\",\"type\":\"ResetTool\"},{\"attributes\":{},\"id\":\"6712b2a6-e42d-4f21-b212-d46c4c586649\",\"type\":\"HelpTool\"},{\"attributes\":{\"callback\":null,\"column_names\":[\"x\",\"y\"],\"data\":{\"x\":[0,1,2,3,4,5,6,7,8,9,10],\"y\":[5,4,3,2,1,0,1,2,3,4,5]}},\"id\":\"ead958ff-ceae-4cd5-9400-8419f48c17dc\",\"type\":\"ColumnDataSource\"},{\"attributes\":{\"active_drag\":\"auto\",\"active_inspect\":\"auto\",\"active_scroll\":\"auto\",\"active_tap\":\"auto\",\"tools\":[{\"id\":\"ba9ab783-1504-4601-a176-c37f2e1b5bfc\",\"type\":\"PanTool\"},{\"id\":\"dce865ad-2960-46a4-96f0-f71f5d857827\",\"type\":\"WheelZoomTool\"},{\"id\":\"57190aa3-d63e-4218-9142-bd9e940ab6c0\",\"type\":\"BoxZoomTool\"},{\"id\":\"f4a2eee6-2e96-4be8-8c9f-23b4cdcf34ac\",\"type\":\"SaveTool\"},{\"id\":\"58785634-42b1-4d28-836f-fb3443c213b5\",\"type\":\"ResetTool\"},{\"id\":\"6d300f9f-98f7-4ffe-ab0d-9843b26e13dc\",\"type\":\"HelpTool\"}]},\"id\":\"d53e8c70-acda-4fa7-9840-10d16fbf6a68\",\"type\":\"Toolbar\"},{\"attributes\":{\"callback\":null},\"id\":\"cac5e2bb-cec8-4b7a-9ebe-ef1fb5618ffc\",\"type\":\"DataRange1d\"},{\"attributes\":{\"source\":{\"id\":\"69ca4d65-dc3f-43be-a0fb-ec3af68a9d86\",\"type\":\"ColumnDataSource\"}},\"id\":\"22b15321-b275-4c5d-8f1a-c9e762611bf1\",\"type\":\"CDSView\"},{\"attributes\":{\"plot\":{\"id\":\"32418045-afc7-4b45-86b9-4a229c46188f\",\"subtype\":\"Figure\",\"type\":\"Plot\"},\"ticker\":{\"id\":\"89cdc3e7-8ddc-423d-bd58-9b71661bc554\",\"type\":\"BasicTicker\"}},\"id\":\"44b1538d-76fd-4daf-ac41-0553d22bea76\",\"type\":\"Grid\"},{\"attributes\":{},\"id\":\"2929e074-0a86-4c6b-9073-c1be0b36a8e9\",\"type\":\"LinearScale\"},{\"attributes\":{\"fill_alpha\":{\"value\":0.1},\"fill_color\":{\"value\":\"#1f77b4\"},\"line_alpha\":{\"value\":0.1},\"line_color\":{\"value\":\"#1f77b4\"},\"size\":{\"units\":\"screen\",\"value\":10},\"x\":{\"field\":\"x\"},\"y\":{\"field\":\"y\"}},\"id\":\"2ca7ddb0-7ce0-4040-9bff-2c12d9007cef\",\"type\":\"Triangle\"},{\"attributes\":{},\"id\":\"2f8e66a0-5672-431d-bf95-ed103326aa2c\",\"type\":\"LinearScale\"},{\"attributes\":{\"formatter\":{\"id\":\"0e088d31-b600-4e52-a69a-5d786aac759a\",\"type\":\"BasicTickFormatter\"},\"plot\":{\"id\":\"32418045-afc7-4b45-86b9-4a229c46188f\",\"subtype\":\"Figure\",\"type\":\"Plot\"},\"ticker\":{\"id\":\"89cdc3e7-8ddc-423d-bd58-9b71661bc554\",\"type\":\"BasicTicker\"}},\"id\":\"55aa3b87-eef4-4e93-86da-64c0052b23b7\",\"type\":\"LinearAxis\"},{\"attributes\":{},\"id\":\"89cdc3e7-8ddc-423d-bd58-9b71661bc554\",\"type\":\"BasicTicker\"},{\"attributes\":{\"formatter\":{\"id\":\"f080304f-8a4b-4f29-bcae-51df2a1326f8\",\"type\":\"BasicTickFormatter\"},\"plot\":{\"id\":\"32418045-afc7-4b45-86b9-4a229c46188f\",\"subtype\":\"Figure\",\"type\":\"Plot\"},\"ticker\":{\"id\":\"ee198b63-60cc-4d77-93b3-31e9bdc32ed0\",\"type\":\"BasicTicker\"}},\"id\":\"f34a2879-472d-4fd4-94ba-c5215719558a\",\"type\":\"LinearAxis\"},{\"attributes\":{},\"id\":\"ee198b63-60cc-4d77-93b3-31e9bdc32ed0\",\"type\":\"BasicTicker\"},{\"attributes\":{\"dimension\":1,\"plot\":{\"id\":\"32418045-afc7-4b45-86b9-4a229c46188f\",\"subtype\":\"Figure\",\"type\":\"Plot\"},\"ticker\":{\"id\":\"ee198b63-60cc-4d77-93b3-31e9bdc32ed0\",\"type\":\"BasicTicker\"}},\"id\":\"1d7decbc-9f0b-42c7-b0ea-1f6f47b9ea53\",\"type\":\"Grid\"},{\"attributes\":{\"source\":{\"id\":\"3356385c-1eee-49bd-b9d5-3d063b2a0626\",\"type\":\"ColumnDataSource\"}},\"id\":\"734fe6dc-95d6-4a5f-83cf-4ef54d650cd1\",\"type\":\"CDSView\"},{\"attributes\":{\"data_source\":{\"id\":\"69ca4d65-dc3f-43be-a0fb-ec3af68a9d86\",\"type\":\"ColumnDataSource\"},\"glyph\":{\"id\":\"aeda318a-d4f5-4546-867e-e33681df5fff\",\"type\":\"Triangle\"},\"hover_glyph\":null,\"muted_glyph\":null,\"nonselection_glyph\":{\"id\":\"2ca7ddb0-7ce0-4040-9bff-2c12d9007cef\",\"type\":\"Triangle\"},\"selection_glyph\":null,\"view\":{\"id\":\"22b15321-b275-4c5d-8f1a-c9e762611bf1\",\"type\":\"CDSView\"}},\"id\":\"2c5db843-4243-435e-be42-bc69a5e20016\",\"type\":\"GlyphRenderer\"},{\"attributes\":{\"fill_alpha\":{\"value\":0.1},\"fill_color\":{\"value\":\"#1f77b4\"},\"line_alpha\":{\"value\":0.1},\"line_color\":{\"value\":\"#1f77b4\"},\"size\":{\"units\":\"screen\",\"value\":10},\"x\":{\"field\":\"x\"},\"y\":{\"field\":\"y\"}},\"id\":\"d70a01dc-20f8-4a77-85f5-51b0e8d092a5\",\"type\":\"Circle\"},{\"attributes\":{\"fill_alpha\":{\"value\":0.5},\"fill_color\":{\"value\":\"firebrick\"},\"line_alpha\":{\"value\":0.5},\"line_color\":{\"value\":\"firebrick\"},\"size\":{\"units\":\"screen\",\"value\":10},\"x\":{\"field\":\"x\"},\"y\":{\"field\":\"y\"}},\"id\":\"aeda318a-d4f5-4546-867e-e33681df5fff\",\"type\":\"Triangle\"},{\"attributes\":{\"below\":[{\"id\":\"f0aeebe5-51d6-450d-a9dc-be4b2a17d133\",\"type\":\"LinearAxis\"}],\"left\":[{\"id\":\"77219353-f64a-452e-b7ed-03f8f9b67820\",\"type\":\"LinearAxis\"}],\"plot_height\":250,\"plot_width\":250,\"renderers\":[{\"id\":\"f0aeebe5-51d6-450d-a9dc-be4b2a17d133\",\"type\":\"LinearAxis\"},{\"id\":\"175590cf-e28f-4bac-b850-1daf44df4c60\",\"type\":\"Grid\"},{\"id\":\"77219353-f64a-452e-b7ed-03f8f9b67820\",\"type\":\"LinearAxis\"},{\"id\":\"b6b99fe5-945b-4929-b145-30e086f8b82e\",\"type\":\"Grid\"},{\"id\":\"81b1afcd-2e3c-4774-b3f8-96c9726ac73c\",\"type\":\"BoxAnnotation\"},{\"id\":\"72fc84ea-285a-4db8-a273-89dac7f433dd\",\"type\":\"GlyphRenderer\"}],\"title\":{\"id\":\"acb0e2b0-a489-4833-8a59-c89930640e95\",\"type\":\"Title\"},\"toolbar\":{\"id\":\"779118e5-50ca-427e-b961-6a01c1f4f0ae\",\"type\":\"Toolbar\"},\"x_range\":{\"id\":\"651e1334-b9ec-4917-9c6a-0b1c717db11a\",\"type\":\"DataRange1d\"},\"x_scale\":{\"id\":\"ac767854-fee9-485f-a828-e63f0d2f5963\",\"type\":\"LinearScale\"},\"y_range\":{\"id\":\"a00cf635-6369-4b33-99a9-cae36d45a6e7\",\"type\":\"DataRange1d\"},\"y_scale\":{\"id\":\"45486780-c960-40c8-90bb-fa56d155cd87\",\"type\":\"LinearScale\"}},\"id\":\"ff766c10-61fa-4e27-aba1-1d6af4518901\",\"subtype\":\"Figure\",\"type\":\"Plot\"},{\"attributes\":{\"bottom_units\":\"screen\",\"fill_alpha\":{\"value\":0.5},\"fill_color\":{\"value\":\"lightgrey\"},\"left_units\":\"screen\",\"level\":\"overlay\",\"line_alpha\":{\"value\":1.0},\"line_color\":{\"value\":\"black\"},\"line_dash\":[4,4],\"line_width\":{\"value\":2},\"plot\":null,\"render_mode\":\"css\",\"right_units\":\"screen\",\"top_units\":\"screen\"},\"id\":\"767cb652-b73b-455c-b1f0-ce33715f8943\",\"type\":\"BoxAnnotation\"},{\"attributes\":{},\"id\":\"ba9ab783-1504-4601-a176-c37f2e1b5bfc\",\"type\":\"PanTool\"},{\"attributes\":{},\"id\":\"0e088d31-b600-4e52-a69a-5d786aac759a\",\"type\":\"BasicTickFormatter\"},{\"attributes\":{},\"id\":\"dce865ad-2960-46a4-96f0-f71f5d857827\",\"type\":\"WheelZoomTool\"},{\"attributes\":{\"overlay\":{\"id\":\"767cb652-b73b-455c-b1f0-ce33715f8943\",\"type\":\"BoxAnnotation\"}},\"id\":\"57190aa3-d63e-4218-9142-bd9e940ab6c0\",\"type\":\"BoxZoomTool\"},{\"attributes\":{},\"id\":\"6d300f9f-98f7-4ffe-ab0d-9843b26e13dc\",\"type\":\"HelpTool\"},{\"attributes\":{\"plot\":null,\"text\":\"\"},\"id\":\"5fba94ef-5141-4955-ad54-6666469ff75f\",\"type\":\"Title\"},{\"attributes\":{},\"id\":\"2c06a60a-95a2-4117-8a84-86090bec8639\",\"type\":\"BasicTickFormatter\"},{\"attributes\":{\"active_drag\":\"auto\",\"active_inspect\":\"auto\",\"active_scroll\":\"auto\",\"active_tap\":\"auto\",\"tools\":[{\"id\":\"31f1710a-1f1e-49c2-8e76-b3679ec8fbfd\",\"type\":\"PanTool\"},{\"id\":\"0b0a3153-7703-4448-90cb-4a6e9cff000e\",\"type\":\"WheelZoomTool\"},{\"id\":\"1ace8a51-279e-4991-814c-1746c629dfd1\",\"type\":\"BoxZoomTool\"},{\"id\":\"1c892fa9-d536-4ac4-9014-3bfbf557b351\",\"type\":\"SaveTool\"},{\"id\":\"dfad7a5c-34ce-4f1e-8c47-ac6ddea28568\",\"type\":\"ResetTool\"},{\"id\":\"b83d309e-b466-43f1-a9cc-7013bb2de930\",\"type\":\"HelpTool\"}]},\"id\":\"779118e5-50ca-427e-b961-6a01c1f4f0ae\",\"type\":\"Toolbar\"},{\"attributes\":{\"plot\":null,\"text\":\"\"},\"id\":\"64a21b42-87cf-4fd4-aa8b-a7513218863d\",\"type\":\"Title\"},{\"attributes\":{},\"id\":\"f080304f-8a4b-4f29-bcae-51df2a1326f8\",\"type\":\"BasicTickFormatter\"},{\"attributes\":{\"fill_alpha\":{\"value\":0.1},\"fill_color\":{\"value\":\"#1f77b4\"},\"line_alpha\":{\"value\":0.1},\"line_color\":{\"value\":\"#1f77b4\"},\"size\":{\"units\":\"screen\",\"value\":10},\"x\":{\"field\":\"x\"},\"y\":{\"field\":\"y\"}},\"id\":\"37c51384-717c-454f-be31-3dcbb61da9cb\",\"type\":\"Square\"},{\"attributes\":{\"source\":{\"id\":\"ead958ff-ceae-4cd5-9400-8419f48c17dc\",\"type\":\"ColumnDataSource\"}},\"id\":\"2c16614b-d6db-4d5d-acbd-0c0424935f3c\",\"type\":\"CDSView\"},{\"attributes\":{},\"id\":\"45486780-c960-40c8-90bb-fa56d155cd87\",\"type\":\"LinearScale\"},{\"attributes\":{},\"id\":\"ac767854-fee9-485f-a828-e63f0d2f5963\",\"type\":\"LinearScale\"},{\"attributes\":{\"callback\":null},\"id\":\"651e1334-b9ec-4917-9c6a-0b1c717db11a\",\"type\":\"DataRange1d\"},{\"attributes\":{\"callback\":null},\"id\":\"a00cf635-6369-4b33-99a9-cae36d45a6e7\",\"type\":\"DataRange1d\"},{\"attributes\":{\"plot\":{\"id\":\"ff766c10-61fa-4e27-aba1-1d6af4518901\",\"subtype\":\"Figure\",\"type\":\"Plot\"},\"ticker\":{\"id\":\"720c8504-2bd3-4d1f-9631-8d6c12d9d30d\",\"type\":\"BasicTicker\"}},\"id\":\"175590cf-e28f-4bac-b850-1daf44df4c60\",\"type\":\"Grid\"},{\"attributes\":{\"formatter\":{\"id\":\"74308663-adc0-481b-b072-859a82e8fd5f\",\"type\":\"BasicTickFormatter\"},\"plot\":{\"id\":\"ff766c10-61fa-4e27-aba1-1d6af4518901\",\"subtype\":\"Figure\",\"type\":\"Plot\"},\"ticker\":{\"id\":\"720c8504-2bd3-4d1f-9631-8d6c12d9d30d\",\"type\":\"BasicTicker\"}},\"id\":\"f0aeebe5-51d6-450d-a9dc-be4b2a17d133\",\"type\":\"LinearAxis\"},{\"attributes\":{},\"id\":\"720c8504-2bd3-4d1f-9631-8d6c12d9d30d\",\"type\":\"BasicTicker\"},{\"attributes\":{\"formatter\":{\"id\":\"9bdf1a51-b0ae-4830-abda-ea0969c197c4\",\"type\":\"BasicTickFormatter\"},\"plot\":{\"id\":\"ff766c10-61fa-4e27-aba1-1d6af4518901\",\"subtype\":\"Figure\",\"type\":\"Plot\"},\"ticker\":{\"id\":\"0572f632-f61c-48fc-baca-b6c100dab90b\",\"type\":\"BasicTicker\"}},\"id\":\"77219353-f64a-452e-b7ed-03f8f9b67820\",\"type\":\"LinearAxis\"},{\"attributes\":{},\"id\":\"a33bb339-d643-4e09-b3f8-974a41e517e2\",\"type\":\"BasicTickFormatter\"},{\"attributes\":{},\"id\":\"0572f632-f61c-48fc-baca-b6c100dab90b\",\"type\":\"BasicTicker\"},{\"attributes\":{\"dimension\":1,\"plot\":{\"id\":\"ff766c10-61fa-4e27-aba1-1d6af4518901\",\"subtype\":\"Figure\",\"type\":\"Plot\"},\"ticker\":{\"id\":\"0572f632-f61c-48fc-baca-b6c100dab90b\",\"type\":\"BasicTicker\"}},\"id\":\"b6b99fe5-945b-4929-b145-30e086f8b82e\",\"type\":\"Grid\"},{\"attributes\":{\"data_source\":{\"id\":\"ead958ff-ceae-4cd5-9400-8419f48c17dc\",\"type\":\"ColumnDataSource\"},\"glyph\":{\"id\":\"ef4a75ff-7513-4a10-87c1-e6e01edfd246\",\"type\":\"Square\"},\"hover_glyph\":null,\"muted_glyph\":null,\"nonselection_glyph\":{\"id\":\"37c51384-717c-454f-be31-3dcbb61da9cb\",\"type\":\"Square\"},\"selection_glyph\":null,\"view\":{\"id\":\"2c16614b-d6db-4d5d-acbd-0c0424935f3c\",\"type\":\"CDSView\"}},\"id\":\"72fc84ea-285a-4db8-a273-89dac7f433dd\",\"type\":\"GlyphRenderer\"},{\"attributes\":{\"fill_alpha\":{\"value\":0.5},\"fill_color\":{\"value\":\"olive\"},\"line_alpha\":{\"value\":0.5},\"line_color\":{\"value\":\"olive\"},\"size\":{\"units\":\"screen\",\"value\":10},\"x\":{\"field\":\"x\"},\"y\":{\"field\":\"y\"}},\"id\":\"ef4a75ff-7513-4a10-87c1-e6e01edfd246\",\"type\":\"Square\"},{\"attributes\":{\"children\":[{\"id\":\"97180bf0-5970-42c9-9eef-58649b4fa14b\",\"subtype\":\"Figure\",\"type\":\"Plot\"},{\"id\":\"32418045-afc7-4b45-86b9-4a229c46188f\",\"subtype\":\"Figure\",\"type\":\"Plot\"},{\"id\":\"ff766c10-61fa-4e27-aba1-1d6af4518901\",\"subtype\":\"Figure\",\"type\":\"Plot\"}]},\"id\":\"2a2e6754-35f9-4a3e-be68-94881df639c1\",\"type\":\"Row\"},{\"attributes\":{\"bottom_units\":\"screen\",\"fill_alpha\":{\"value\":0.5},\"fill_color\":{\"value\":\"lightgrey\"},\"left_units\":\"screen\",\"level\":\"overlay\",\"line_alpha\":{\"value\":1.0},\"line_color\":{\"value\":\"black\"},\"line_dash\":[4,4],\"line_width\":{\"value\":2},\"plot\":null,\"render_mode\":\"css\",\"right_units\":\"screen\",\"top_units\":\"screen\"},\"id\":\"81b1afcd-2e3c-4774-b3f8-96c9726ac73c\",\"type\":\"BoxAnnotation\"},{\"attributes\":{},\"id\":\"31f1710a-1f1e-49c2-8e76-b3679ec8fbfd\",\"type\":\"PanTool\"},{\"attributes\":{\"below\":[{\"id\":\"3c7086ac-8c96-4705-894a-73dc7878858e\",\"type\":\"LinearAxis\"}],\"left\":[{\"id\":\"5abf2e6b-6315-4bf3-87b5-e2839020900d\",\"type\":\"LinearAxis\"}],\"plot_height\":250,\"plot_width\":250,\"renderers\":[{\"id\":\"3c7086ac-8c96-4705-894a-73dc7878858e\",\"type\":\"LinearAxis\"},{\"id\":\"339e1d0f-a207-4238-ac0a-64cca643c81d\",\"type\":\"Grid\"},{\"id\":\"5abf2e6b-6315-4bf3-87b5-e2839020900d\",\"type\":\"LinearAxis\"},{\"id\":\"d63d5fb7-5228-4881-9a6d-8a2208f1d2b4\",\"type\":\"Grid\"},{\"id\":\"a5858260-13c1-40ce-abcf-c507b5a02019\",\"type\":\"BoxAnnotation\"},{\"id\":\"86638e03-4a10-490e-956e-5238215af082\",\"type\":\"GlyphRenderer\"}],\"title\":{\"id\":\"64a21b42-87cf-4fd4-aa8b-a7513218863d\",\"type\":\"Title\"},\"toolbar\":{\"id\":\"47628da4-8bc9-4446-81c8-f56dc9c76245\",\"type\":\"Toolbar\"},\"x_range\":{\"id\":\"a022b6e3-68e5-4fb7-b0e5-fc778e2e49ac\",\"type\":\"DataRange1d\"},\"x_scale\":{\"id\":\"ed6b9c8b-bc89-4913-94d8-a7d7425c8566\",\"type\":\"LinearScale\"},\"y_range\":{\"id\":\"dc631ec4-443e-4f39-aba5-d9c55e93a56e\",\"type\":\"DataRange1d\"},\"y_scale\":{\"id\":\"f3c61fad-7582-4ce9-be5c-6ef0467d4fb8\",\"type\":\"LinearScale\"}},\"id\":\"97180bf0-5970-42c9-9eef-58649b4fa14b\",\"subtype\":\"Figure\",\"type\":\"Plot\"},{\"attributes\":{},\"id\":\"74308663-adc0-481b-b072-859a82e8fd5f\",\"type\":\"BasicTickFormatter\"},{\"attributes\":{\"callback\":null,\"column_names\":[\"x\",\"y\"],\"data\":{\"x\":[0,1,2,3,4,5,6,7,8,9,10],\"y\":[0,1,2,3,4,5,6,7,8,9,10]}},\"id\":\"3356385c-1eee-49bd-b9d5-3d063b2a0626\",\"type\":\"ColumnDataSource\"},{\"attributes\":{},\"id\":\"0b0a3153-7703-4448-90cb-4a6e9cff000e\",\"type\":\"WheelZoomTool\"},{\"attributes\":{\"active_drag\":\"auto\",\"active_inspect\":\"auto\",\"active_scroll\":\"auto\",\"active_tap\":\"auto\",\"tools\":[{\"id\":\"8ec5325f-b9cf-489f-8131-79a3cb6201c6\",\"type\":\"PanTool\"},{\"id\":\"7594faec-800c-43da-905d-b972d03d2461\",\"type\":\"WheelZoomTool\"},{\"id\":\"594de18f-4f5c-45d6-8665-bccaa5fd390b\",\"type\":\"BoxZoomTool\"},{\"id\":\"6dc4f5bb-941a-4154-835c-3a3fc50f5ac7\",\"type\":\"SaveTool\"},{\"id\":\"46a2b298-cbbe-419d-bb74-e7103b8ca3bb\",\"type\":\"ResetTool\"},{\"id\":\"6712b2a6-e42d-4f21-b212-d46c4c586649\",\"type\":\"HelpTool\"}]},\"id\":\"47628da4-8bc9-4446-81c8-f56dc9c76245\",\"type\":\"Toolbar\"},{\"attributes\":{\"overlay\":{\"id\":\"81b1afcd-2e3c-4774-b3f8-96c9726ac73c\",\"type\":\"BoxAnnotation\"}},\"id\":\"1ace8a51-279e-4991-814c-1746c629dfd1\",\"type\":\"BoxZoomTool\"},{\"attributes\":{\"callback\":null},\"id\":\"a022b6e3-68e5-4fb7-b0e5-fc778e2e49ac\",\"type\":\"DataRange1d\"},{\"attributes\":{},\"id\":\"1c892fa9-d536-4ac4-9014-3bfbf557b351\",\"type\":\"SaveTool\"},{\"attributes\":{\"callback\":null},\"id\":\"18fcf644-013d-4df0-aa57-afc26618033d\",\"type\":\"DataRange1d\"},{\"attributes\":{},\"id\":\"dfad7a5c-34ce-4f1e-8c47-ac6ddea28568\",\"type\":\"ResetTool\"},{\"attributes\":{},\"id\":\"f4a2eee6-2e96-4be8-8c9f-23b4cdcf34ac\",\"type\":\"SaveTool\"},{\"attributes\":{},\"id\":\"b83d309e-b466-43f1-a9cc-7013bb2de930\",\"type\":\"HelpTool\"},{\"attributes\":{},\"id\":\"58785634-42b1-4d28-836f-fb3443c213b5\",\"type\":\"ResetTool\"},{\"attributes\":{\"callback\":null},\"id\":\"dc631ec4-443e-4f39-aba5-d9c55e93a56e\",\"type\":\"DataRange1d\"},{\"attributes\":{\"plot\":null,\"text\":\"\"},\"id\":\"acb0e2b0-a489-4833-8a59-c89930640e95\",\"type\":\"Title\"},{\"attributes\":{},\"id\":\"ed6b9c8b-bc89-4913-94d8-a7d7425c8566\",\"type\":\"LinearScale\"},{\"attributes\":{},\"id\":\"f3c61fad-7582-4ce9-be5c-6ef0467d4fb8\",\"type\":\"LinearScale\"},{\"attributes\":{},\"id\":\"9bdf1a51-b0ae-4830-abda-ea0969c197c4\",\"type\":\"BasicTickFormatter\"},{\"attributes\":{\"formatter\":{\"id\":\"2c06a60a-95a2-4117-8a84-86090bec8639\",\"type\":\"BasicTickFormatter\"},\"plot\":{\"id\":\"97180bf0-5970-42c9-9eef-58649b4fa14b\",\"subtype\":\"Figure\",\"type\":\"Plot\"},\"ticker\":{\"id\":\"a534cc2b-4662-4d71-8799-ff4162709296\",\"type\":\"BasicTicker\"}},\"id\":\"3c7086ac-8c96-4705-894a-73dc7878858e\",\"type\":\"LinearAxis\"},{\"attributes\":{},\"id\":\"a534cc2b-4662-4d71-8799-ff4162709296\",\"type\":\"BasicTicker\"},{\"attributes\":{\"plot\":{\"id\":\"97180bf0-5970-42c9-9eef-58649b4fa14b\",\"subtype\":\"Figure\",\"type\":\"Plot\"},\"ticker\":{\"id\":\"a534cc2b-4662-4d71-8799-ff4162709296\",\"type\":\"BasicTicker\"}},\"id\":\"339e1d0f-a207-4238-ac0a-64cca643c81d\",\"type\":\"Grid\"},{\"attributes\":{\"formatter\":{\"id\":\"a33bb339-d643-4e09-b3f8-974a41e517e2\",\"type\":\"BasicTickFormatter\"},\"plot\":{\"id\":\"97180bf0-5970-42c9-9eef-58649b4fa14b\",\"subtype\":\"Figure\",\"type\":\"Plot\"},\"ticker\":{\"id\":\"39efbced-ad1d-456c-8853-b58a74933b46\",\"type\":\"BasicTicker\"}},\"id\":\"5abf2e6b-6315-4bf3-87b5-e2839020900d\",\"type\":\"LinearAxis\"},{\"attributes\":{},\"id\":\"39efbced-ad1d-456c-8853-b58a74933b46\",\"type\":\"BasicTicker\"},{\"attributes\":{\"dimension\":1,\"plot\":{\"id\":\"97180bf0-5970-42c9-9eef-58649b4fa14b\",\"subtype\":\"Figure\",\"type\":\"Plot\"},\"ticker\":{\"id\":\"39efbced-ad1d-456c-8853-b58a74933b46\",\"type\":\"BasicTicker\"}},\"id\":\"d63d5fb7-5228-4881-9a6d-8a2208f1d2b4\",\"type\":\"Grid\"},{\"attributes\":{\"below\":[{\"id\":\"55aa3b87-eef4-4e93-86da-64c0052b23b7\",\"type\":\"LinearAxis\"}],\"left\":[{\"id\":\"f34a2879-472d-4fd4-94ba-c5215719558a\",\"type\":\"LinearAxis\"}],\"plot_height\":250,\"plot_width\":250,\"renderers\":[{\"id\":\"55aa3b87-eef4-4e93-86da-64c0052b23b7\",\"type\":\"LinearAxis\"},{\"id\":\"44b1538d-76fd-4daf-ac41-0553d22bea76\",\"type\":\"Grid\"},{\"id\":\"f34a2879-472d-4fd4-94ba-c5215719558a\",\"type\":\"LinearAxis\"},{\"id\":\"1d7decbc-9f0b-42c7-b0ea-1f6f47b9ea53\",\"type\":\"Grid\"},{\"id\":\"767cb652-b73b-455c-b1f0-ce33715f8943\",\"type\":\"BoxAnnotation\"},{\"id\":\"2c5db843-4243-435e-be42-bc69a5e20016\",\"type\":\"GlyphRenderer\"}],\"title\":{\"id\":\"5fba94ef-5141-4955-ad54-6666469ff75f\",\"type\":\"Title\"},\"toolbar\":{\"id\":\"d53e8c70-acda-4fa7-9840-10d16fbf6a68\",\"type\":\"Toolbar\"},\"x_range\":{\"id\":\"18fcf644-013d-4df0-aa57-afc26618033d\",\"type\":\"DataRange1d\"},\"x_scale\":{\"id\":\"2f8e66a0-5672-431d-bf95-ed103326aa2c\",\"type\":\"LinearScale\"},\"y_range\":{\"id\":\"cac5e2bb-cec8-4b7a-9ebe-ef1fb5618ffc\",\"type\":\"DataRange1d\"},\"y_scale\":{\"id\":\"2929e074-0a86-4c6b-9073-c1be0b36a8e9\",\"type\":\"LinearScale\"}},\"id\":\"32418045-afc7-4b45-86b9-4a229c46188f\",\"subtype\":\"Figure\",\"type\":\"Plot\"},{\"attributes\":{\"fill_alpha\":{\"value\":0.5},\"fill_color\":{\"value\":\"navy\"},\"line_alpha\":{\"value\":0.5},\"line_color\":{\"value\":\"navy\"},\"size\":{\"units\":\"screen\",\"value\":10},\"x\":{\"field\":\"x\"},\"y\":{\"field\":\"y\"}},\"id\":\"7f0b02a7-e0d7-46c7-8be7-e5a3f7a9f757\",\"type\":\"Circle\"}],\"root_ids\":[\"2a2e6754-35f9-4a3e-be68-94881df639c1\"]},\"title\":\"Bokeh Application\",\"version\":\"0.12.13\"}};\n",
       "  var render_items = [{\"docid\":\"63379f22-c933-4747-96e1-60501e2c7d20\",\"elementid\":\"b15a456b-9e8c-4a34-9b9e-25aa446ffbe5\",\"modelid\":\"2a2e6754-35f9-4a3e-be68-94881df639c1\"}];\n",
       "  root.Bokeh.embed.embed_items_notebook(docs_json, render_items);\n",
       "\n",
       "  }\n",
       "  if (root.Bokeh !== undefined) {\n",
       "    embed_document(root);\n",
       "  } else {\n",
       "    var attempts = 0;\n",
       "    var timer = setInterval(function(root) {\n",
       "      if (root.Bokeh !== undefined) {\n",
       "        embed_document(root);\n",
       "        clearInterval(timer);\n",
       "      }\n",
       "      attempts++;\n",
       "      if (attempts > 100) {\n",
       "        console.log(\"Bokeh: ERROR: Unable to run BokehJS code because BokehJS library is missing\")\n",
       "        clearInterval(timer);\n",
       "      }\n",
       "    }, 10, root)\n",
       "  }\n",
       "})(window);"
      ],
      "application/vnd.bokehjs_exec.v0+json": ""
     },
     "metadata": {
      "application/vnd.bokehjs_exec.v0+json": {
       "id": "2a2e6754-35f9-4a3e-be68-94881df639c1"
      }
     },
     "output_type": "display_data"
    }
   ],
   "source": [
    "from bokeh.layouts import row\n",
    "\n",
    "# create a new plot\n",
    "s1 = figure(width=250, plot_height=250)\n",
    "s1.circle(x, y0, size=10, color=\"navy\", alpha=0.5)\n",
    "\n",
    "# create another one\n",
    "s2 = figure(width=250, height=250)\n",
    "s2.triangle(x, y1, size=10, color=\"firebrick\", alpha=0.5)\n",
    "\n",
    "# create and another\n",
    "s3 = figure(width=250, height=250)\n",
    "s3.square(x, y2, size=10, color=\"olive\", alpha=0.5)\n",
    "\n",
    "# show the results in a row\n",
    "show(row(s1, s2, s3))"
   ]
  },
  {
   "cell_type": "code",
   "execution_count": 4,
   "metadata": {
    "collapsed": true
   },
   "outputs": [],
   "source": [
    "# EXERCISE: use column to arrange a few plots vertically\n"
   ]
  },
  {
   "cell_type": "markdown",
   "metadata": {},
   "source": [
    "# Grid plots\n",
    "\n",
    "Bokeh also provides a `gridplot` layout in `bokeh.layouts` for arranging plots in a grid, as show in the example below."
   ]
  },
  {
   "cell_type": "code",
   "execution_count": 5,
   "metadata": {},
   "outputs": [
    {
     "data": {
      "text/html": [
       "\n",
       "<div class=\"bk-root\">\n",
       "    <div class=\"bk-plotdiv\" id=\"8600869e-cff8-4ba2-89d0-e40c94434fe5\"></div>\n",
       "</div>"
      ]
     },
     "metadata": {},
     "output_type": "display_data"
    },
    {
     "data": {
      "application/javascript": [
       "(function(root) {\n",
       "  function embed_document(root) {\n",
       "    \n",
       "  var docs_json = {\"f020dfbb-16d5-460e-95ac-0e6a2fd8bc91\":{\"roots\":{\"references\":[{\"attributes\":{\"source\":{\"id\":\"fd7f484f-39f9-4af8-90f3-1d3b08a00153\",\"type\":\"ColumnDataSource\"}},\"id\":\"547b0081-b8ea-423d-b918-882f1c9a3105\",\"type\":\"CDSView\"},{\"attributes\":{\"active_drag\":\"auto\",\"active_inspect\":\"auto\",\"active_scroll\":\"auto\",\"active_tap\":\"auto\",\"tools\":[{\"id\":\"a6c74a53-fcf5-4ce3-b278-fff96a5ebc7e\",\"type\":\"PanTool\"},{\"id\":\"294a6265-8a07-466e-8355-4d6954bf0cc5\",\"type\":\"WheelZoomTool\"},{\"id\":\"fffa5747-933d-4d2c-a2e4-90bbf8717bf7\",\"type\":\"BoxZoomTool\"},{\"id\":\"90695a63-6e59-4b75-b7b2-52bbe5a8f644\",\"type\":\"SaveTool\"},{\"id\":\"ff74ff41-ba67-473b-a8f9-72480a1c71a9\",\"type\":\"ResetTool\"},{\"id\":\"b54bacfa-9bf4-4236-b511-bba42b270771\",\"type\":\"HelpTool\"}]},\"id\":\"f0619a83-88d4-46c9-8e66-5ddeb911a614\",\"type\":\"Toolbar\"},{\"attributes\":{\"data_source\":{\"id\":\"fd7f484f-39f9-4af8-90f3-1d3b08a00153\",\"type\":\"ColumnDataSource\"},\"glyph\":{\"id\":\"344bdfef-09fd-4920-b8e3-99d7d88cff53\",\"type\":\"Square\"},\"hover_glyph\":null,\"muted_glyph\":null,\"nonselection_glyph\":{\"id\":\"f52670c4-e731-4150-a24d-ebebef11a3f7\",\"type\":\"Square\"},\"selection_glyph\":null,\"view\":{\"id\":\"547b0081-b8ea-423d-b918-882f1c9a3105\",\"type\":\"CDSView\"}},\"id\":\"b57a566b-f214-46e6-b57b-74e2af24f0b6\",\"type\":\"GlyphRenderer\"},{\"attributes\":{\"callback\":null,\"column_names\":[\"x\",\"y\"],\"data\":{\"x\":[0,1,2,3,4,5,6,7,8,9,10],\"y\":[0,1,2,3,4,5,6,7,8,9,10]}},\"id\":\"974a07a4-2164-4b21-88f7-318fa001534d\",\"type\":\"ColumnDataSource\"},{\"attributes\":{\"children\":[{\"id\":\"bb51f1f5-fbb6-47c8-94de-c4a3cf3c9163\",\"subtype\":\"Figure\",\"type\":\"Plot\"},{\"id\":\"002573e0-ed75-4824-9e1d-4b2529ecff9f\",\"subtype\":\"Figure\",\"type\":\"Plot\"}]},\"id\":\"80ab6ec5-e884-4388-acb6-bada48035bee\",\"type\":\"Row\"},{\"attributes\":{\"source\":{\"id\":\"974a07a4-2164-4b21-88f7-318fa001534d\",\"type\":\"ColumnDataSource\"}},\"id\":\"1d7616b4-31b3-4c19-88bc-9c37748071ef\",\"type\":\"CDSView\"},{\"attributes\":{\"bottom_units\":\"screen\",\"fill_alpha\":{\"value\":0.5},\"fill_color\":{\"value\":\"lightgrey\"},\"left_units\":\"screen\",\"level\":\"overlay\",\"line_alpha\":{\"value\":1.0},\"line_color\":{\"value\":\"black\"},\"line_dash\":[4,4],\"line_width\":{\"value\":2},\"plot\":null,\"render_mode\":\"css\",\"right_units\":\"screen\",\"top_units\":\"screen\"},\"id\":\"099236dd-57cb-4708-a16d-b7bcc654ee12\",\"type\":\"BoxAnnotation\"},{\"attributes\":{\"callback\":null,\"column_names\":[\"x\",\"y\"],\"data\":{\"x\":[0,1,2,3,4,5,6,7,8,9,10],\"y\":[5,4,3,2,1,0,1,2,3,4,5]}},\"id\":\"fd7f484f-39f9-4af8-90f3-1d3b08a00153\",\"type\":\"ColumnDataSource\"},{\"attributes\":{},\"id\":\"6fe21af8-dd89-4047-a235-e6d10b523c11\",\"type\":\"PanTool\"},{\"attributes\":{\"formatter\":{\"id\":\"49d99d88-4463-4f0a-b452-7e3f6dbea39e\",\"type\":\"BasicTickFormatter\"},\"plot\":{\"id\":\"6efb997b-391e-42f3-9dea-5361ab502a46\",\"subtype\":\"Figure\",\"type\":\"Plot\"},\"ticker\":{\"id\":\"0895e151-0d04-47a5-a1d3-8fe8017c9554\",\"type\":\"BasicTicker\"}},\"id\":\"bad51c91-0ea2-4c64-868a-fab53bb1e57f\",\"type\":\"LinearAxis\"},{\"attributes\":{},\"id\":\"7c8a60ef-6a4a-4b51-b8bb-79fd1e7155e4\",\"type\":\"BasicTickFormatter\"},{\"attributes\":{\"formatter\":{\"id\":\"3866fd64-87dd-46de-95f0-a50fa958dd9e\",\"type\":\"BasicTickFormatter\"},\"plot\":{\"id\":\"bb51f1f5-fbb6-47c8-94de-c4a3cf3c9163\",\"subtype\":\"Figure\",\"type\":\"Plot\"},\"ticker\":{\"id\":\"1a9181ec-0a97-4911-a523-7a313aab3cb6\",\"type\":\"BasicTicker\"}},\"id\":\"ff8104b7-b03f-4c23-be00-aed5df9c8300\",\"type\":\"LinearAxis\"},{\"attributes\":{},\"id\":\"b5d7b34d-e874-472e-b395-7ff87fc61774\",\"type\":\"WheelZoomTool\"},{\"attributes\":{},\"id\":\"0895e151-0d04-47a5-a1d3-8fe8017c9554\",\"type\":\"BasicTicker\"},{\"attributes\":{\"overlay\":{\"id\":\"099236dd-57cb-4708-a16d-b7bcc654ee12\",\"type\":\"BoxAnnotation\"}},\"id\":\"1971d766-f751-4d49-84a4-3b142dfd266e\",\"type\":\"BoxZoomTool\"},{\"attributes\":{\"callback\":null,\"column_names\":[\"x\",\"y\"],\"data\":{\"x\":[0,1,2,3,4,5,6,7,8,9,10],\"y\":[10,9,8,7,6,5,4,3,2,1,0]}},\"id\":\"fbc49473-a8eb-40f1-b9f9-29eb037e0ac8\",\"type\":\"ColumnDataSource\"},{\"attributes\":{},\"id\":\"e5ca5bea-611e-43e0-8775-0bf4c1570f9a\",\"type\":\"SaveTool\"},{\"attributes\":{\"dimension\":1,\"plot\":{\"id\":\"6efb997b-391e-42f3-9dea-5361ab502a46\",\"subtype\":\"Figure\",\"type\":\"Plot\"},\"ticker\":{\"id\":\"0895e151-0d04-47a5-a1d3-8fe8017c9554\",\"type\":\"BasicTicker\"}},\"id\":\"6ec010d1-22f1-4d71-9890-e3c71dac1f5b\",\"type\":\"Grid\"},{\"attributes\":{},\"id\":\"7b18fb76-b368-415b-958c-7e0b7e5c0ca6\",\"type\":\"ResetTool\"},{\"attributes\":{\"dimension\":1,\"plot\":{\"id\":\"bb51f1f5-fbb6-47c8-94de-c4a3cf3c9163\",\"subtype\":\"Figure\",\"type\":\"Plot\"},\"ticker\":{\"id\":\"2a061a36-753f-4afd-933e-4a01807e893f\",\"type\":\"BasicTicker\"}},\"id\":\"ffc24ebd-5af2-4b04-a568-42115697ceaf\",\"type\":\"Grid\"},{\"attributes\":{\"callback\":null},\"id\":\"1957762a-e9ff-47ee-b49f-bc239d856ffb\",\"type\":\"DataRange1d\"},{\"attributes\":{},\"id\":\"84529c32-ed31-4fcd-9028-8cf17de7aac1\",\"type\":\"HelpTool\"},{\"attributes\":{},\"id\":\"ad46073b-b505-4760-a6a7-5b5073187380\",\"type\":\"BasicTicker\"},{\"attributes\":{\"plot\":null,\"text\":\"\"},\"id\":\"b2680b47-c72e-44b6-96bb-babec462087d\",\"type\":\"Title\"},{\"attributes\":{\"callback\":null},\"id\":\"e5a35620-5780-4975-a17c-d7a7becde4a0\",\"type\":\"DataRange1d\"},{\"attributes\":{\"children\":[{\"id\":\"6efb997b-391e-42f3-9dea-5361ab502a46\",\"subtype\":\"Figure\",\"type\":\"Plot\"},{\"id\":\"a4428d71-a066-45a8-a404-c6df3f97244c\",\"type\":\"Spacer\"}]},\"id\":\"e79ddfab-0d58-4de0-bd48-0740e2c9c8b4\",\"type\":\"Row\"},{\"attributes\":{\"source\":{\"id\":\"fbc49473-a8eb-40f1-b9f9-29eb037e0ac8\",\"type\":\"ColumnDataSource\"}},\"id\":\"58eaa65a-2479-462e-9a1e-871becc675b4\",\"type\":\"CDSView\"},{\"attributes\":{},\"id\":\"49d99d88-4463-4f0a-b452-7e3f6dbea39e\",\"type\":\"BasicTickFormatter\"},{\"attributes\":{\"below\":[{\"id\":\"ff8104b7-b03f-4c23-be00-aed5df9c8300\",\"type\":\"LinearAxis\"}],\"left\":[{\"id\":\"ee82fbc7-b9eb-4a29-93c7-e0be3dc61017\",\"type\":\"LinearAxis\"}],\"plot_height\":250,\"plot_width\":250,\"renderers\":[{\"id\":\"ff8104b7-b03f-4c23-be00-aed5df9c8300\",\"type\":\"LinearAxis\"},{\"id\":\"661674c6-ae97-4f16-97a1-e361003af11a\",\"type\":\"Grid\"},{\"id\":\"ee82fbc7-b9eb-4a29-93c7-e0be3dc61017\",\"type\":\"LinearAxis\"},{\"id\":\"ffc24ebd-5af2-4b04-a568-42115697ceaf\",\"type\":\"Grid\"},{\"id\":\"3266d13f-a92a-4891-ba2c-0e89be2cba22\",\"type\":\"BoxAnnotation\"},{\"id\":\"ce9e6e6d-558e-4424-b7c5-e84256c202ff\",\"type\":\"GlyphRenderer\"}],\"title\":{\"id\":\"9e34aa74-bc48-45e5-8f63-754855c0df57\",\"type\":\"Title\"},\"toolbar\":{\"id\":\"f0619a83-88d4-46c9-8e66-5ddeb911a614\",\"type\":\"Toolbar\"},\"toolbar_location\":null,\"x_range\":{\"id\":\"e5a35620-5780-4975-a17c-d7a7becde4a0\",\"type\":\"DataRange1d\"},\"x_scale\":{\"id\":\"dbc2930d-ea94-4ac7-aecc-5cf76f3b243b\",\"type\":\"LinearScale\"},\"y_range\":{\"id\":\"1957762a-e9ff-47ee-b49f-bc239d856ffb\",\"type\":\"DataRange1d\"},\"y_scale\":{\"id\":\"7f3d5e25-beb0-4624-a553-4572581ae7b1\",\"type\":\"LinearScale\"}},\"id\":\"bb51f1f5-fbb6-47c8-94de-c4a3cf3c9163\",\"subtype\":\"Figure\",\"type\":\"Plot\"},{\"attributes\":{\"fill_alpha\":{\"value\":0.5},\"fill_color\":{\"value\":\"navy\"},\"line_alpha\":{\"value\":0.5},\"line_color\":{\"value\":\"navy\"},\"size\":{\"units\":\"screen\",\"value\":10},\"x\":{\"field\":\"x\"},\"y\":{\"field\":\"y\"}},\"id\":\"984e9507-2dd3-463b-b776-ed5c3e9639c3\",\"type\":\"Circle\"},{\"attributes\":{\"height\":250,\"width\":250},\"id\":\"a4428d71-a066-45a8-a404-c6df3f97244c\",\"type\":\"Spacer\"},{\"attributes\":{},\"id\":\"1a9181ec-0a97-4911-a523-7a313aab3cb6\",\"type\":\"BasicTicker\"},{\"attributes\":{\"below\":[{\"id\":\"9d2f4e8f-d921-4308-99fd-bd0de030dd34\",\"type\":\"LinearAxis\"}],\"left\":[{\"id\":\"00895dad-6f24-49dc-acb0-22c09599a16e\",\"type\":\"LinearAxis\"}],\"plot_height\":250,\"plot_width\":250,\"renderers\":[{\"id\":\"9d2f4e8f-d921-4308-99fd-bd0de030dd34\",\"type\":\"LinearAxis\"},{\"id\":\"010fa457-487c-4015-b852-4bd0dc4ca9a4\",\"type\":\"Grid\"},{\"id\":\"00895dad-6f24-49dc-acb0-22c09599a16e\",\"type\":\"LinearAxis\"},{\"id\":\"9a4f03e4-bf8d-4e17-b24c-12aa96684548\",\"type\":\"Grid\"},{\"id\":\"76da6038-c541-4c6c-b671-90714273bc7f\",\"type\":\"BoxAnnotation\"},{\"id\":\"ded016ee-4e17-4110-874e-a5d106b44acf\",\"type\":\"GlyphRenderer\"}],\"title\":{\"id\":\"1044a7a7-6401-4e47-ab4c-9bda83ce2c56\",\"type\":\"Title\"},\"toolbar\":{\"id\":\"06c43f40-729a-438c-8364-183cab414275\",\"type\":\"Toolbar\"},\"toolbar_location\":null,\"x_range\":{\"id\":\"47c2e8ba-4bb8-44c2-b819-ea4aa1d773b6\",\"type\":\"DataRange1d\"},\"x_scale\":{\"id\":\"01a65931-be9a-4a6d-b270-78ec236a0d0a\",\"type\":\"LinearScale\"},\"y_range\":{\"id\":\"ae3955d9-76e0-4962-ae2d-50b07b9cfa55\",\"type\":\"DataRange1d\"},\"y_scale\":{\"id\":\"f28a3874-ad95-4d5e-8e74-c8bf29cb02f5\",\"type\":\"LinearScale\"}},\"id\":\"002573e0-ed75-4824-9e1d-4b2529ecff9f\",\"subtype\":\"Figure\",\"type\":\"Plot\"},{\"attributes\":{\"bottom_units\":\"screen\",\"fill_alpha\":{\"value\":0.5},\"fill_color\":{\"value\":\"lightgrey\"},\"left_units\":\"screen\",\"level\":\"overlay\",\"line_alpha\":{\"value\":1.0},\"line_color\":{\"value\":\"black\"},\"line_dash\":[4,4],\"line_width\":{\"value\":2},\"plot\":null,\"render_mode\":\"css\",\"right_units\":\"screen\",\"top_units\":\"screen\"},\"id\":\"3266d13f-a92a-4891-ba2c-0e89be2cba22\",\"type\":\"BoxAnnotation\"},{\"attributes\":{\"dimension\":1,\"plot\":{\"id\":\"002573e0-ed75-4824-9e1d-4b2529ecff9f\",\"subtype\":\"Figure\",\"type\":\"Plot\"},\"ticker\":{\"id\":\"29e37a52-22bd-4a5e-a346-eafd3104ae9a\",\"type\":\"BasicTicker\"}},\"id\":\"9a4f03e4-bf8d-4e17-b24c-12aa96684548\",\"type\":\"Grid\"},{\"attributes\":{\"plot\":{\"id\":\"bb51f1f5-fbb6-47c8-94de-c4a3cf3c9163\",\"subtype\":\"Figure\",\"type\":\"Plot\"},\"ticker\":{\"id\":\"1a9181ec-0a97-4911-a523-7a313aab3cb6\",\"type\":\"BasicTicker\"}},\"id\":\"661674c6-ae97-4f16-97a1-e361003af11a\",\"type\":\"Grid\"},{\"attributes\":{\"fill_alpha\":{\"value\":0.1},\"fill_color\":{\"value\":\"#1f77b4\"},\"line_alpha\":{\"value\":0.1},\"line_color\":{\"value\":\"#1f77b4\"},\"size\":{\"units\":\"screen\",\"value\":10},\"x\":{\"field\":\"x\"},\"y\":{\"field\":\"y\"}},\"id\":\"fdf175ca-01ab-4aa4-a99d-8361b70e051c\",\"type\":\"Circle\"},{\"attributes\":{},\"id\":\"7f3d5e25-beb0-4624-a553-4572581ae7b1\",\"type\":\"LinearScale\"},{\"attributes\":{\"data_source\":{\"id\":\"fbc49473-a8eb-40f1-b9f9-29eb037e0ac8\",\"type\":\"ColumnDataSource\"},\"glyph\":{\"id\":\"84e22c4c-a7e0-4dc6-b4b6-36aada34ef47\",\"type\":\"Triangle\"},\"hover_glyph\":null,\"muted_glyph\":null,\"nonselection_glyph\":{\"id\":\"7ff65d97-d413-4ecb-b22e-b7aa8a0782aa\",\"type\":\"Triangle\"},\"selection_glyph\":null,\"view\":{\"id\":\"58eaa65a-2479-462e-9a1e-871becc675b4\",\"type\":\"CDSView\"}},\"id\":\"ded016ee-4e17-4110-874e-a5d106b44acf\",\"type\":\"GlyphRenderer\"},{\"attributes\":{\"data_source\":{\"id\":\"974a07a4-2164-4b21-88f7-318fa001534d\",\"type\":\"ColumnDataSource\"},\"glyph\":{\"id\":\"984e9507-2dd3-463b-b776-ed5c3e9639c3\",\"type\":\"Circle\"},\"hover_glyph\":null,\"muted_glyph\":null,\"nonselection_glyph\":{\"id\":\"fdf175ca-01ab-4aa4-a99d-8361b70e051c\",\"type\":\"Circle\"},\"selection_glyph\":null,\"view\":{\"id\":\"1d7616b4-31b3-4c19-88bc-9c37748071ef\",\"type\":\"CDSView\"}},\"id\":\"ce9e6e6d-558e-4424-b7c5-e84256c202ff\",\"type\":\"GlyphRenderer\"},{\"attributes\":{\"formatter\":{\"id\":\"dae674a6-a2e3-4d8e-b179-e9112451ef7e\",\"type\":\"BasicTickFormatter\"},\"plot\":{\"id\":\"bb51f1f5-fbb6-47c8-94de-c4a3cf3c9163\",\"subtype\":\"Figure\",\"type\":\"Plot\"},\"ticker\":{\"id\":\"2a061a36-753f-4afd-933e-4a01807e893f\",\"type\":\"BasicTicker\"}},\"id\":\"ee82fbc7-b9eb-4a29-93c7-e0be3dc61017\",\"type\":\"LinearAxis\"},{\"attributes\":{},\"id\":\"dbc2930d-ea94-4ac7-aecc-5cf76f3b243b\",\"type\":\"LinearScale\"},{\"attributes\":{},\"id\":\"2a061a36-753f-4afd-933e-4a01807e893f\",\"type\":\"BasicTicker\"},{\"attributes\":{},\"id\":\"3866fd64-87dd-46de-95f0-a50fa958dd9e\",\"type\":\"BasicTickFormatter\"},{\"attributes\":{},\"id\":\"a6c74a53-fcf5-4ce3-b278-fff96a5ebc7e\",\"type\":\"PanTool\"},{\"attributes\":{},\"id\":\"294a6265-8a07-466e-8355-4d6954bf0cc5\",\"type\":\"WheelZoomTool\"},{\"attributes\":{\"overlay\":{\"id\":\"3266d13f-a92a-4891-ba2c-0e89be2cba22\",\"type\":\"BoxAnnotation\"}},\"id\":\"fffa5747-933d-4d2c-a2e4-90bbf8717bf7\",\"type\":\"BoxZoomTool\"},{\"attributes\":{},\"id\":\"90695a63-6e59-4b75-b7b2-52bbe5a8f644\",\"type\":\"SaveTool\"},{\"attributes\":{},\"id\":\"ff74ff41-ba67-473b-a8f9-72480a1c71a9\",\"type\":\"ResetTool\"},{\"attributes\":{},\"id\":\"b54bacfa-9bf4-4236-b511-bba42b270771\",\"type\":\"HelpTool\"},{\"attributes\":{},\"id\":\"f28a3874-ad95-4d5e-8e74-c8bf29cb02f5\",\"type\":\"LinearScale\"},{\"attributes\":{\"plot\":null,\"text\":\"\"},\"id\":\"9e34aa74-bc48-45e5-8f63-754855c0df57\",\"type\":\"Title\"},{\"attributes\":{\"fill_alpha\":{\"value\":0.1},\"fill_color\":{\"value\":\"#1f77b4\"},\"line_alpha\":{\"value\":0.1},\"line_color\":{\"value\":\"#1f77b4\"},\"size\":{\"units\":\"screen\",\"value\":10},\"x\":{\"field\":\"x\"},\"y\":{\"field\":\"y\"}},\"id\":\"7ff65d97-d413-4ecb-b22e-b7aa8a0782aa\",\"type\":\"Triangle\"},{\"attributes\":{},\"id\":\"dae674a6-a2e3-4d8e-b179-e9112451ef7e\",\"type\":\"BasicTickFormatter\"},{\"attributes\":{\"plot\":{\"id\":\"002573e0-ed75-4824-9e1d-4b2529ecff9f\",\"subtype\":\"Figure\",\"type\":\"Plot\"},\"ticker\":{\"id\":\"c209e3b6-615a-457e-9a63-243bde43db09\",\"type\":\"BasicTicker\"}},\"id\":\"010fa457-487c-4015-b852-4bd0dc4ca9a4\",\"type\":\"Grid\"},{\"attributes\":{\"callback\":null},\"id\":\"47c2e8ba-4bb8-44c2-b819-ea4aa1d773b6\",\"type\":\"DataRange1d\"},{\"attributes\":{\"active_drag\":\"auto\",\"active_inspect\":\"auto\",\"active_scroll\":\"auto\",\"active_tap\":\"auto\",\"tools\":[{\"id\":\"bfa16223-22fb-4a38-9dc1-d11e3cf9e561\",\"type\":\"PanTool\"},{\"id\":\"ace3ece7-acfd-4940-8fcb-b5aebc8d7b6a\",\"type\":\"WheelZoomTool\"},{\"id\":\"7fc0395a-01f3-497b-bf08-b1e4cfdf3c2d\",\"type\":\"BoxZoomTool\"},{\"id\":\"3d2c78f7-b2c9-4aef-b2cb-64235771ad59\",\"type\":\"SaveTool\"},{\"id\":\"d48499ba-f6f1-41dc-8550-7cdfef86f82f\",\"type\":\"ResetTool\"},{\"id\":\"bf9cf4df-7e4a-4745-a6ba-f0033bf9d508\",\"type\":\"HelpTool\"}]},\"id\":\"06c43f40-729a-438c-8364-183cab414275\",\"type\":\"Toolbar\"},{\"attributes\":{\"callback\":null},\"id\":\"ae3955d9-76e0-4962-ae2d-50b07b9cfa55\",\"type\":\"DataRange1d\"},{\"attributes\":{},\"id\":\"01a65931-be9a-4a6d-b270-78ec236a0d0a\",\"type\":\"LinearScale\"},{\"attributes\":{\"formatter\":{\"id\":\"cb7d9c63-ef08-4951-9736-c1aede96c87c\",\"type\":\"BasicTickFormatter\"},\"plot\":{\"id\":\"002573e0-ed75-4824-9e1d-4b2529ecff9f\",\"subtype\":\"Figure\",\"type\":\"Plot\"},\"ticker\":{\"id\":\"c209e3b6-615a-457e-9a63-243bde43db09\",\"type\":\"BasicTicker\"}},\"id\":\"9d2f4e8f-d921-4308-99fd-bd0de030dd34\",\"type\":\"LinearAxis\"},{\"attributes\":{},\"id\":\"c209e3b6-615a-457e-9a63-243bde43db09\",\"type\":\"BasicTicker\"},{\"attributes\":{\"formatter\":{\"id\":\"1bb66a38-fe4b-4b2d-8fa8-43991a0edfd3\",\"type\":\"BasicTickFormatter\"},\"plot\":{\"id\":\"002573e0-ed75-4824-9e1d-4b2529ecff9f\",\"subtype\":\"Figure\",\"type\":\"Plot\"},\"ticker\":{\"id\":\"29e37a52-22bd-4a5e-a346-eafd3104ae9a\",\"type\":\"BasicTicker\"}},\"id\":\"00895dad-6f24-49dc-acb0-22c09599a16e\",\"type\":\"LinearAxis\"},{\"attributes\":{},\"id\":\"29e37a52-22bd-4a5e-a346-eafd3104ae9a\",\"type\":\"BasicTicker\"},{\"attributes\":{\"fill_alpha\":{\"value\":0.5},\"fill_color\":{\"value\":\"firebrick\"},\"line_alpha\":{\"value\":0.5},\"line_color\":{\"value\":\"firebrick\"},\"size\":{\"units\":\"screen\",\"value\":10},\"x\":{\"field\":\"x\"},\"y\":{\"field\":\"y\"}},\"id\":\"84e22c4c-a7e0-4dc6-b4b6-36aada34ef47\",\"type\":\"Triangle\"},{\"attributes\":{\"below\":[{\"id\":\"d7157317-0c04-4591-b72a-250bf86e82b3\",\"type\":\"LinearAxis\"}],\"left\":[{\"id\":\"bad51c91-0ea2-4c64-868a-fab53bb1e57f\",\"type\":\"LinearAxis\"}],\"plot_height\":250,\"plot_width\":250,\"renderers\":[{\"id\":\"d7157317-0c04-4591-b72a-250bf86e82b3\",\"type\":\"LinearAxis\"},{\"id\":\"46217215-a1a7-4606-966f-d645a5fb543b\",\"type\":\"Grid\"},{\"id\":\"bad51c91-0ea2-4c64-868a-fab53bb1e57f\",\"type\":\"LinearAxis\"},{\"id\":\"6ec010d1-22f1-4d71-9890-e3c71dac1f5b\",\"type\":\"Grid\"},{\"id\":\"099236dd-57cb-4708-a16d-b7bcc654ee12\",\"type\":\"BoxAnnotation\"},{\"id\":\"b57a566b-f214-46e6-b57b-74e2af24f0b6\",\"type\":\"GlyphRenderer\"}],\"title\":{\"id\":\"b2680b47-c72e-44b6-96bb-babec462087d\",\"type\":\"Title\"},\"toolbar\":{\"id\":\"a493b9d2-18bd-4eb9-81f5-723948bb7647\",\"type\":\"Toolbar\"},\"toolbar_location\":null,\"x_range\":{\"id\":\"2d59297d-81c5-4200-8205-402f5eb8582e\",\"type\":\"DataRange1d\"},\"x_scale\":{\"id\":\"99e5d033-4518-4b90-9b0e-e50dd345f00b\",\"type\":\"LinearScale\"},\"y_range\":{\"id\":\"53362e8d-e31d-4a1e-9227-ccaebba05ba5\",\"type\":\"DataRange1d\"},\"y_scale\":{\"id\":\"af955c9a-a6ac-4d8d-9875-4e0020c77c87\",\"type\":\"LinearScale\"}},\"id\":\"6efb997b-391e-42f3-9dea-5361ab502a46\",\"subtype\":\"Figure\",\"type\":\"Plot\"},{\"attributes\":{},\"id\":\"af955c9a-a6ac-4d8d-9875-4e0020c77c87\",\"type\":\"LinearScale\"},{\"attributes\":{},\"id\":\"ace3ece7-acfd-4940-8fcb-b5aebc8d7b6a\",\"type\":\"WheelZoomTool\"},{\"attributes\":{\"bottom_units\":\"screen\",\"fill_alpha\":{\"value\":0.5},\"fill_color\":{\"value\":\"lightgrey\"},\"left_units\":\"screen\",\"level\":\"overlay\",\"line_alpha\":{\"value\":1.0},\"line_color\":{\"value\":\"black\"},\"line_dash\":[4,4],\"line_width\":{\"value\":2},\"plot\":null,\"render_mode\":\"css\",\"right_units\":\"screen\",\"top_units\":\"screen\"},\"id\":\"76da6038-c541-4c6c-b671-90714273bc7f\",\"type\":\"BoxAnnotation\"},{\"attributes\":{},\"id\":\"bfa16223-22fb-4a38-9dc1-d11e3cf9e561\",\"type\":\"PanTool\"},{\"attributes\":{},\"id\":\"cb7d9c63-ef08-4951-9736-c1aede96c87c\",\"type\":\"BasicTickFormatter\"},{\"attributes\":{\"fill_alpha\":{\"value\":0.1},\"fill_color\":{\"value\":\"#1f77b4\"},\"line_alpha\":{\"value\":0.1},\"line_color\":{\"value\":\"#1f77b4\"},\"size\":{\"units\":\"screen\",\"value\":10},\"x\":{\"field\":\"x\"},\"y\":{\"field\":\"y\"}},\"id\":\"f52670c4-e731-4150-a24d-ebebef11a3f7\",\"type\":\"Square\"},{\"attributes\":{\"overlay\":{\"id\":\"76da6038-c541-4c6c-b671-90714273bc7f\",\"type\":\"BoxAnnotation\"}},\"id\":\"7fc0395a-01f3-497b-bf08-b1e4cfdf3c2d\",\"type\":\"BoxZoomTool\"},{\"attributes\":{},\"id\":\"3d2c78f7-b2c9-4aef-b2cb-64235771ad59\",\"type\":\"SaveTool\"},{\"attributes\":{},\"id\":\"d48499ba-f6f1-41dc-8550-7cdfef86f82f\",\"type\":\"ResetTool\"},{\"attributes\":{},\"id\":\"bf9cf4df-7e4a-4745-a6ba-f0033bf9d508\",\"type\":\"HelpTool\"},{\"attributes\":{\"plot\":null,\"text\":\"\"},\"id\":\"1044a7a7-6401-4e47-ab4c-9bda83ce2c56\",\"type\":\"Title\"},{\"attributes\":{\"children\":[{\"id\":\"80ab6ec5-e884-4388-acb6-bada48035bee\",\"type\":\"Row\"},{\"id\":\"e79ddfab-0d58-4de0-bd48-0740e2c9c8b4\",\"type\":\"Row\"}]},\"id\":\"e0999ce6-a4b4-46fb-a54a-6c5291e798ba\",\"type\":\"Column\"},{\"attributes\":{\"active_drag\":\"auto\",\"active_inspect\":\"auto\",\"active_scroll\":\"auto\",\"active_tap\":\"auto\",\"tools\":[{\"id\":\"6fe21af8-dd89-4047-a235-e6d10b523c11\",\"type\":\"PanTool\"},{\"id\":\"b5d7b34d-e874-472e-b395-7ff87fc61774\",\"type\":\"WheelZoomTool\"},{\"id\":\"1971d766-f751-4d49-84a4-3b142dfd266e\",\"type\":\"BoxZoomTool\"},{\"id\":\"e5ca5bea-611e-43e0-8775-0bf4c1570f9a\",\"type\":\"SaveTool\"},{\"id\":\"7b18fb76-b368-415b-958c-7e0b7e5c0ca6\",\"type\":\"ResetTool\"},{\"id\":\"84529c32-ed31-4fcd-9028-8cf17de7aac1\",\"type\":\"HelpTool\"}]},\"id\":\"a493b9d2-18bd-4eb9-81f5-723948bb7647\",\"type\":\"Toolbar\"},{\"attributes\":{},\"id\":\"1bb66a38-fe4b-4b2d-8fa8-43991a0edfd3\",\"type\":\"BasicTickFormatter\"},{\"attributes\":{\"fill_alpha\":{\"value\":0.5},\"fill_color\":{\"value\":\"olive\"},\"line_alpha\":{\"value\":0.5},\"line_color\":{\"value\":\"olive\"},\"size\":{\"units\":\"screen\",\"value\":10},\"x\":{\"field\":\"x\"},\"y\":{\"field\":\"y\"}},\"id\":\"344bdfef-09fd-4920-b8e3-99d7d88cff53\",\"type\":\"Square\"},{\"attributes\":{},\"id\":\"99e5d033-4518-4b90-9b0e-e50dd345f00b\",\"type\":\"LinearScale\"},{\"attributes\":{\"callback\":null},\"id\":\"2d59297d-81c5-4200-8205-402f5eb8582e\",\"type\":\"DataRange1d\"},{\"attributes\":{\"callback\":null},\"id\":\"53362e8d-e31d-4a1e-9227-ccaebba05ba5\",\"type\":\"DataRange1d\"},{\"attributes\":{\"plot\":{\"id\":\"6efb997b-391e-42f3-9dea-5361ab502a46\",\"subtype\":\"Figure\",\"type\":\"Plot\"},\"ticker\":{\"id\":\"ad46073b-b505-4760-a6a7-5b5073187380\",\"type\":\"BasicTicker\"}},\"id\":\"46217215-a1a7-4606-966f-d645a5fb543b\",\"type\":\"Grid\"},{\"attributes\":{\"formatter\":{\"id\":\"7c8a60ef-6a4a-4b51-b8bb-79fd1e7155e4\",\"type\":\"BasicTickFormatter\"},\"plot\":{\"id\":\"6efb997b-391e-42f3-9dea-5361ab502a46\",\"subtype\":\"Figure\",\"type\":\"Plot\"},\"ticker\":{\"id\":\"ad46073b-b505-4760-a6a7-5b5073187380\",\"type\":\"BasicTicker\"}},\"id\":\"d7157317-0c04-4591-b72a-250bf86e82b3\",\"type\":\"LinearAxis\"}],\"root_ids\":[\"e0999ce6-a4b4-46fb-a54a-6c5291e798ba\"]},\"title\":\"Bokeh Application\",\"version\":\"0.12.13\"}};\n",
       "  var render_items = [{\"docid\":\"f020dfbb-16d5-460e-95ac-0e6a2fd8bc91\",\"elementid\":\"8600869e-cff8-4ba2-89d0-e40c94434fe5\",\"modelid\":\"e0999ce6-a4b4-46fb-a54a-6c5291e798ba\"}];\n",
       "  root.Bokeh.embed.embed_items_notebook(docs_json, render_items);\n",
       "\n",
       "  }\n",
       "  if (root.Bokeh !== undefined) {\n",
       "    embed_document(root);\n",
       "  } else {\n",
       "    var attempts = 0;\n",
       "    var timer = setInterval(function(root) {\n",
       "      if (root.Bokeh !== undefined) {\n",
       "        embed_document(root);\n",
       "        clearInterval(timer);\n",
       "      }\n",
       "      attempts++;\n",
       "      if (attempts > 100) {\n",
       "        console.log(\"Bokeh: ERROR: Unable to run BokehJS code because BokehJS library is missing\")\n",
       "        clearInterval(timer);\n",
       "      }\n",
       "    }, 10, root)\n",
       "  }\n",
       "})(window);"
      ],
      "application/vnd.bokehjs_exec.v0+json": ""
     },
     "metadata": {
      "application/vnd.bokehjs_exec.v0+json": {
       "id": "e0999ce6-a4b4-46fb-a54a-6c5291e798ba"
      }
     },
     "output_type": "display_data"
    }
   ],
   "source": [
    "from bokeh.layouts import gridplot\n",
    "\n",
    "# create a new plot\n",
    "s1 = figure(width=250, plot_height=250)\n",
    "s1.circle(x, y0, size=10, color=\"navy\", alpha=0.5)\n",
    "\n",
    "# create another one\n",
    "s2 = figure(width=250, height=250)\n",
    "s2.triangle(x, y1, size=10, color=\"firebrick\", alpha=0.5)\n",
    "\n",
    "# create and another\n",
    "s3 = figure(width=250, height=250)\n",
    "s3.square(x, y2, size=10, color=\"olive\", alpha=0.5)\n",
    "\n",
    "# put all the plots in a gridplot\n",
    "p = gridplot([[s1, s2], [s3, None]], toolbar_location=None)\n",
    "\n",
    "# show the results\n",
    "show(p)"
   ]
  },
  {
   "cell_type": "code",
   "execution_count": 6,
   "metadata": {
    "collapsed": true
   },
   "outputs": [],
   "source": [
    "# EXERCISE: create a gridplot of your own\n"
   ]
  },
  {
   "cell_type": "code",
   "execution_count": null,
   "metadata": {
    "collapsed": true
   },
   "outputs": [],
   "source": []
  },
  {
   "cell_type": "code",
   "execution_count": null,
   "metadata": {},
   "outputs": [],
   "source": []
  }
 ],
 "metadata": {
  "kernelspec": {
   "display_name": "Python 3",
   "language": "python",
   "name": "python3"
  },
  "language_info": {
   "codemirror_mode": {
    "name": "ipython",
    "version": 3
   },
   "file_extension": ".py",
   "mimetype": "text/x-python",
   "name": "python",
   "nbconvert_exporter": "python",
   "pygments_lexer": "ipython3",
   "version": "3.6.4"
  }
 },
 "nbformat": 4,
 "nbformat_minor": 2
}
