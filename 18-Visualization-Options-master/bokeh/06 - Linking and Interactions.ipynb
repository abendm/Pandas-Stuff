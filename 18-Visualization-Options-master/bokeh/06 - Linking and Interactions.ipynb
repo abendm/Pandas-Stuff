{
 "cells": [
  {
   "cell_type": "markdown",
   "metadata": {},
   "source": [
    "<table style=\"float:left; border:none\">\n",
    "   <tr style=\"border:none; background-color: #ffffff\">\n",
    "       <td style=\"border:none\">\n",
    "           <a href=\"http://bokeh.pydata.org/\">     \n",
    "           <img \n",
    "               src=\"assets/bokeh-transparent.png\" \n",
    "               style=\"width:50px\"\n",
    "           >\n",
    "           </a>    \n",
    "       </td>\n",
    "       <td style=\"border:none\">\n",
    "           <h1>Bokeh Tutorial</h1>\n",
    "       </td>\n",
    "   </tr>\n",
    "</table>\n",
    "\n",
    "<div style=\"float:right;\"><h2>06. Linking and Interactions</h2></div>"
   ]
  },
  {
   "cell_type": "code",
   "execution_count": 2,
   "metadata": {},
   "outputs": [
    {
     "data": {
      "text/html": [
       "\n",
       "    <div class=\"bk-root\">\n",
       "        <a href=\"https://bokeh.pydata.org\" target=\"_blank\" class=\"bk-logo bk-logo-small bk-logo-notebook\"></a>\n",
       "        <span id=\"a4c65568-cd16-4693-8ffe-adf9f6c8b978\">Loading BokehJS ...</span>\n",
       "    </div>"
      ]
     },
     "metadata": {},
     "output_type": "display_data"
    },
    {
     "data": {
      "application/javascript": [
       "\n",
       "(function(root) {\n",
       "  function now() {\n",
       "    return new Date();\n",
       "  }\n",
       "\n",
       "  var force = true;\n",
       "\n",
       "  if (typeof (root._bokeh_onload_callbacks) === \"undefined\" || force === true) {\n",
       "    root._bokeh_onload_callbacks = [];\n",
       "    root._bokeh_is_loading = undefined;\n",
       "  }\n",
       "\n",
       "  var JS_MIME_TYPE = 'application/javascript';\n",
       "  var HTML_MIME_TYPE = 'text/html';\n",
       "  var EXEC_MIME_TYPE = 'application/vnd.bokehjs_exec.v0+json';\n",
       "  var CLASS_NAME = 'output_bokeh rendered_html';\n",
       "\n",
       "  /**\n",
       "   * Render data to the DOM node\n",
       "   */\n",
       "  function render(props, node) {\n",
       "    var script = document.createElement(\"script\");\n",
       "    node.appendChild(script);\n",
       "  }\n",
       "\n",
       "  /**\n",
       "   * Handle when an output is cleared or removed\n",
       "   */\n",
       "  function handleClearOutput(event, handle) {\n",
       "    var cell = handle.cell;\n",
       "\n",
       "    var id = cell.output_area._bokeh_element_id;\n",
       "    var server_id = cell.output_area._bokeh_server_id;\n",
       "    // Clean up Bokeh references\n",
       "    if (id !== undefined) {\n",
       "      Bokeh.index[id].model.document.clear();\n",
       "      delete Bokeh.index[id];\n",
       "    }\n",
       "\n",
       "    if (server_id !== undefined) {\n",
       "      // Clean up Bokeh references\n",
       "      var cmd = \"from bokeh.io.state import curstate; print(curstate().uuid_to_server['\" + server_id + \"'].get_sessions()[0].document.roots[0]._id)\";\n",
       "      cell.notebook.kernel.execute(cmd, {\n",
       "        iopub: {\n",
       "          output: function(msg) {\n",
       "            var element_id = msg.content.text.trim();\n",
       "            Bokeh.index[element_id].model.document.clear();\n",
       "            delete Bokeh.index[element_id];\n",
       "          }\n",
       "        }\n",
       "      });\n",
       "      // Destroy server and session\n",
       "      var cmd = \"import bokeh.io.notebook as ion; ion.destroy_server('\" + server_id + \"')\";\n",
       "      cell.notebook.kernel.execute(cmd);\n",
       "    }\n",
       "  }\n",
       "\n",
       "  /**\n",
       "   * Handle when a new output is added\n",
       "   */\n",
       "  function handleAddOutput(event, handle) {\n",
       "    var output_area = handle.output_area;\n",
       "    var output = handle.output;\n",
       "\n",
       "    // limit handleAddOutput to display_data with EXEC_MIME_TYPE content only\n",
       "    if ((output.output_type != \"display_data\") || (!output.data.hasOwnProperty(EXEC_MIME_TYPE))) {\n",
       "      return\n",
       "    }\n",
       "\n",
       "    var toinsert = output_area.element.find(\".\" + CLASS_NAME.split(' ')[0]);\n",
       "\n",
       "    if (output.metadata[EXEC_MIME_TYPE][\"id\"] !== undefined) {\n",
       "      toinsert[0].firstChild.textContent = output.data[JS_MIME_TYPE];\n",
       "      // store reference to embed id on output_area\n",
       "      output_area._bokeh_element_id = output.metadata[EXEC_MIME_TYPE][\"id\"];\n",
       "    }\n",
       "    if (output.metadata[EXEC_MIME_TYPE][\"server_id\"] !== undefined) {\n",
       "      var bk_div = document.createElement(\"div\");\n",
       "      bk_div.innerHTML = output.data[HTML_MIME_TYPE];\n",
       "      var script_attrs = bk_div.children[0].attributes;\n",
       "      for (var i = 0; i < script_attrs.length; i++) {\n",
       "        toinsert[0].firstChild.setAttribute(script_attrs[i].name, script_attrs[i].value);\n",
       "      }\n",
       "      // store reference to server id on output_area\n",
       "      output_area._bokeh_server_id = output.metadata[EXEC_MIME_TYPE][\"server_id\"];\n",
       "    }\n",
       "  }\n",
       "\n",
       "  function register_renderer(events, OutputArea) {\n",
       "\n",
       "    function append_mime(data, metadata, element) {\n",
       "      // create a DOM node to render to\n",
       "      var toinsert = this.create_output_subarea(\n",
       "        metadata,\n",
       "        CLASS_NAME,\n",
       "        EXEC_MIME_TYPE\n",
       "      );\n",
       "      this.keyboard_manager.register_events(toinsert);\n",
       "      // Render to node\n",
       "      var props = {data: data, metadata: metadata[EXEC_MIME_TYPE]};\n",
       "      render(props, toinsert[0]);\n",
       "      element.append(toinsert);\n",
       "      return toinsert\n",
       "    }\n",
       "\n",
       "    /* Handle when an output is cleared or removed */\n",
       "    events.on('clear_output.CodeCell', handleClearOutput);\n",
       "    events.on('delete.Cell', handleClearOutput);\n",
       "\n",
       "    /* Handle when a new output is added */\n",
       "    events.on('output_added.OutputArea', handleAddOutput);\n",
       "\n",
       "    /**\n",
       "     * Register the mime type and append_mime function with output_area\n",
       "     */\n",
       "    OutputArea.prototype.register_mime_type(EXEC_MIME_TYPE, append_mime, {\n",
       "      /* Is output safe? */\n",
       "      safe: true,\n",
       "      /* Index of renderer in `output_area.display_order` */\n",
       "      index: 0\n",
       "    });\n",
       "  }\n",
       "\n",
       "  // register the mime type if in Jupyter Notebook environment and previously unregistered\n",
       "  if (root.Jupyter !== undefined) {\n",
       "    var events = require('base/js/events');\n",
       "    var OutputArea = require('notebook/js/outputarea').OutputArea;\n",
       "\n",
       "    if (OutputArea.prototype.mime_types().indexOf(EXEC_MIME_TYPE) == -1) {\n",
       "      register_renderer(events, OutputArea);\n",
       "    }\n",
       "  }\n",
       "\n",
       "  \n",
       "  if (typeof (root._bokeh_timeout) === \"undefined\" || force === true) {\n",
       "    root._bokeh_timeout = Date.now() + 5000;\n",
       "    root._bokeh_failed_load = false;\n",
       "  }\n",
       "\n",
       "  var NB_LOAD_WARNING = {'data': {'text/html':\n",
       "     \"<div style='background-color: #fdd'>\\n\"+\n",
       "     \"<p>\\n\"+\n",
       "     \"BokehJS does not appear to have successfully loaded. If loading BokehJS from CDN, this \\n\"+\n",
       "     \"may be due to a slow or bad network connection. Possible fixes:\\n\"+\n",
       "     \"</p>\\n\"+\n",
       "     \"<ul>\\n\"+\n",
       "     \"<li>re-rerun `output_notebook()` to attempt to load from CDN again, or</li>\\n\"+\n",
       "     \"<li>use INLINE resources instead, as so:</li>\\n\"+\n",
       "     \"</ul>\\n\"+\n",
       "     \"<code>\\n\"+\n",
       "     \"from bokeh.resources import INLINE\\n\"+\n",
       "     \"output_notebook(resources=INLINE)\\n\"+\n",
       "     \"</code>\\n\"+\n",
       "     \"</div>\"}};\n",
       "\n",
       "  function display_loaded() {\n",
       "    var el = document.getElementById(\"a4c65568-cd16-4693-8ffe-adf9f6c8b978\");\n",
       "    if (el != null) {\n",
       "      el.textContent = \"BokehJS is loading...\";\n",
       "    }\n",
       "    if (root.Bokeh !== undefined) {\n",
       "      if (el != null) {\n",
       "        el.textContent = \"BokehJS \" + root.Bokeh.version + \" successfully loaded.\";\n",
       "      }\n",
       "    } else if (Date.now() < root._bokeh_timeout) {\n",
       "      setTimeout(display_loaded, 100)\n",
       "    }\n",
       "  }\n",
       "\n",
       "\n",
       "  function run_callbacks() {\n",
       "    try {\n",
       "      root._bokeh_onload_callbacks.forEach(function(callback) { callback() });\n",
       "    }\n",
       "    finally {\n",
       "      delete root._bokeh_onload_callbacks\n",
       "    }\n",
       "    console.info(\"Bokeh: all callbacks have finished\");\n",
       "  }\n",
       "\n",
       "  function load_libs(js_urls, callback) {\n",
       "    root._bokeh_onload_callbacks.push(callback);\n",
       "    if (root._bokeh_is_loading > 0) {\n",
       "      console.log(\"Bokeh: BokehJS is being loaded, scheduling callback at\", now());\n",
       "      return null;\n",
       "    }\n",
       "    if (js_urls == null || js_urls.length === 0) {\n",
       "      run_callbacks();\n",
       "      return null;\n",
       "    }\n",
       "    console.log(\"Bokeh: BokehJS not loaded, scheduling load and callback at\", now());\n",
       "    root._bokeh_is_loading = js_urls.length;\n",
       "    for (var i = 0; i < js_urls.length; i++) {\n",
       "      var url = js_urls[i];\n",
       "      var s = document.createElement('script');\n",
       "      s.src = url;\n",
       "      s.async = false;\n",
       "      s.onreadystatechange = s.onload = function() {\n",
       "        root._bokeh_is_loading--;\n",
       "        if (root._bokeh_is_loading === 0) {\n",
       "          console.log(\"Bokeh: all BokehJS libraries loaded\");\n",
       "          run_callbacks()\n",
       "        }\n",
       "      };\n",
       "      s.onerror = function() {\n",
       "        console.warn(\"failed to load library \" + url);\n",
       "      };\n",
       "      console.log(\"Bokeh: injecting script tag for BokehJS library: \", url);\n",
       "      document.getElementsByTagName(\"head\")[0].appendChild(s);\n",
       "    }\n",
       "  };var element = document.getElementById(\"a4c65568-cd16-4693-8ffe-adf9f6c8b978\");\n",
       "  if (element == null) {\n",
       "    console.log(\"Bokeh: ERROR: autoload.js configured with elementid 'a4c65568-cd16-4693-8ffe-adf9f6c8b978' but no matching script tag was found. \")\n",
       "    return false;\n",
       "  }\n",
       "\n",
       "  var js_urls = [\"https://cdn.pydata.org/bokeh/release/bokeh-0.12.13.min.js\", \"https://cdn.pydata.org/bokeh/release/bokeh-widgets-0.12.13.min.js\", \"https://cdn.pydata.org/bokeh/release/bokeh-tables-0.12.13.min.js\", \"https://cdn.pydata.org/bokeh/release/bokeh-gl-0.12.13.min.js\"];\n",
       "\n",
       "  var inline_js = [\n",
       "    function(Bokeh) {\n",
       "      Bokeh.set_log_level(\"info\");\n",
       "    },\n",
       "    \n",
       "    function(Bokeh) {\n",
       "      \n",
       "    },\n",
       "    function(Bokeh) {\n",
       "      console.log(\"Bokeh: injecting CSS: https://cdn.pydata.org/bokeh/release/bokeh-0.12.13.min.css\");\n",
       "      Bokeh.embed.inject_css(\"https://cdn.pydata.org/bokeh/release/bokeh-0.12.13.min.css\");\n",
       "      console.log(\"Bokeh: injecting CSS: https://cdn.pydata.org/bokeh/release/bokeh-widgets-0.12.13.min.css\");\n",
       "      Bokeh.embed.inject_css(\"https://cdn.pydata.org/bokeh/release/bokeh-widgets-0.12.13.min.css\");\n",
       "      console.log(\"Bokeh: injecting CSS: https://cdn.pydata.org/bokeh/release/bokeh-tables-0.12.13.min.css\");\n",
       "      Bokeh.embed.inject_css(\"https://cdn.pydata.org/bokeh/release/bokeh-tables-0.12.13.min.css\");\n",
       "    }\n",
       "  ];\n",
       "\n",
       "  function run_inline_js() {\n",
       "    \n",
       "    if ((root.Bokeh !== undefined) || (force === true)) {\n",
       "      for (var i = 0; i < inline_js.length; i++) {\n",
       "        inline_js[i].call(root, root.Bokeh);\n",
       "      }if (force === true) {\n",
       "        display_loaded();\n",
       "      }} else if (Date.now() < root._bokeh_timeout) {\n",
       "      setTimeout(run_inline_js, 100);\n",
       "    } else if (!root._bokeh_failed_load) {\n",
       "      console.log(\"Bokeh: BokehJS failed to load within specified timeout.\");\n",
       "      root._bokeh_failed_load = true;\n",
       "    } else if (force !== true) {\n",
       "      var cell = $(document.getElementById(\"a4c65568-cd16-4693-8ffe-adf9f6c8b978\")).parents('.cell').data().cell;\n",
       "      cell.output_area.append_execute_result(NB_LOAD_WARNING)\n",
       "    }\n",
       "\n",
       "  }\n",
       "\n",
       "  if (root._bokeh_is_loading === 0) {\n",
       "    console.log(\"Bokeh: BokehJS loaded, going straight to plotting\");\n",
       "    run_inline_js();\n",
       "  } else {\n",
       "    load_libs(js_urls, function() {\n",
       "      console.log(\"Bokeh: BokehJS plotting callback run at\", now());\n",
       "      run_inline_js();\n",
       "    });\n",
       "  }\n",
       "}(window));"
      ],
      "application/vnd.bokehjs_load.v0+json": "\n(function(root) {\n  function now() {\n    return new Date();\n  }\n\n  var force = true;\n\n  if (typeof (root._bokeh_onload_callbacks) === \"undefined\" || force === true) {\n    root._bokeh_onload_callbacks = [];\n    root._bokeh_is_loading = undefined;\n  }\n\n  \n\n  \n  if (typeof (root._bokeh_timeout) === \"undefined\" || force === true) {\n    root._bokeh_timeout = Date.now() + 5000;\n    root._bokeh_failed_load = false;\n  }\n\n  var NB_LOAD_WARNING = {'data': {'text/html':\n     \"<div style='background-color: #fdd'>\\n\"+\n     \"<p>\\n\"+\n     \"BokehJS does not appear to have successfully loaded. If loading BokehJS from CDN, this \\n\"+\n     \"may be due to a slow or bad network connection. Possible fixes:\\n\"+\n     \"</p>\\n\"+\n     \"<ul>\\n\"+\n     \"<li>re-rerun `output_notebook()` to attempt to load from CDN again, or</li>\\n\"+\n     \"<li>use INLINE resources instead, as so:</li>\\n\"+\n     \"</ul>\\n\"+\n     \"<code>\\n\"+\n     \"from bokeh.resources import INLINE\\n\"+\n     \"output_notebook(resources=INLINE)\\n\"+\n     \"</code>\\n\"+\n     \"</div>\"}};\n\n  function display_loaded() {\n    var el = document.getElementById(\"a4c65568-cd16-4693-8ffe-adf9f6c8b978\");\n    if (el != null) {\n      el.textContent = \"BokehJS is loading...\";\n    }\n    if (root.Bokeh !== undefined) {\n      if (el != null) {\n        el.textContent = \"BokehJS \" + root.Bokeh.version + \" successfully loaded.\";\n      }\n    } else if (Date.now() < root._bokeh_timeout) {\n      setTimeout(display_loaded, 100)\n    }\n  }\n\n\n  function run_callbacks() {\n    try {\n      root._bokeh_onload_callbacks.forEach(function(callback) { callback() });\n    }\n    finally {\n      delete root._bokeh_onload_callbacks\n    }\n    console.info(\"Bokeh: all callbacks have finished\");\n  }\n\n  function load_libs(js_urls, callback) {\n    root._bokeh_onload_callbacks.push(callback);\n    if (root._bokeh_is_loading > 0) {\n      console.log(\"Bokeh: BokehJS is being loaded, scheduling callback at\", now());\n      return null;\n    }\n    if (js_urls == null || js_urls.length === 0) {\n      run_callbacks();\n      return null;\n    }\n    console.log(\"Bokeh: BokehJS not loaded, scheduling load and callback at\", now());\n    root._bokeh_is_loading = js_urls.length;\n    for (var i = 0; i < js_urls.length; i++) {\n      var url = js_urls[i];\n      var s = document.createElement('script');\n      s.src = url;\n      s.async = false;\n      s.onreadystatechange = s.onload = function() {\n        root._bokeh_is_loading--;\n        if (root._bokeh_is_loading === 0) {\n          console.log(\"Bokeh: all BokehJS libraries loaded\");\n          run_callbacks()\n        }\n      };\n      s.onerror = function() {\n        console.warn(\"failed to load library \" + url);\n      };\n      console.log(\"Bokeh: injecting script tag for BokehJS library: \", url);\n      document.getElementsByTagName(\"head\")[0].appendChild(s);\n    }\n  };var element = document.getElementById(\"a4c65568-cd16-4693-8ffe-adf9f6c8b978\");\n  if (element == null) {\n    console.log(\"Bokeh: ERROR: autoload.js configured with elementid 'a4c65568-cd16-4693-8ffe-adf9f6c8b978' but no matching script tag was found. \")\n    return false;\n  }\n\n  var js_urls = [\"https://cdn.pydata.org/bokeh/release/bokeh-0.12.13.min.js\", \"https://cdn.pydata.org/bokeh/release/bokeh-widgets-0.12.13.min.js\", \"https://cdn.pydata.org/bokeh/release/bokeh-tables-0.12.13.min.js\", \"https://cdn.pydata.org/bokeh/release/bokeh-gl-0.12.13.min.js\"];\n\n  var inline_js = [\n    function(Bokeh) {\n      Bokeh.set_log_level(\"info\");\n    },\n    \n    function(Bokeh) {\n      \n    },\n    function(Bokeh) {\n      console.log(\"Bokeh: injecting CSS: https://cdn.pydata.org/bokeh/release/bokeh-0.12.13.min.css\");\n      Bokeh.embed.inject_css(\"https://cdn.pydata.org/bokeh/release/bokeh-0.12.13.min.css\");\n      console.log(\"Bokeh: injecting CSS: https://cdn.pydata.org/bokeh/release/bokeh-widgets-0.12.13.min.css\");\n      Bokeh.embed.inject_css(\"https://cdn.pydata.org/bokeh/release/bokeh-widgets-0.12.13.min.css\");\n      console.log(\"Bokeh: injecting CSS: https://cdn.pydata.org/bokeh/release/bokeh-tables-0.12.13.min.css\");\n      Bokeh.embed.inject_css(\"https://cdn.pydata.org/bokeh/release/bokeh-tables-0.12.13.min.css\");\n    }\n  ];\n\n  function run_inline_js() {\n    \n    if ((root.Bokeh !== undefined) || (force === true)) {\n      for (var i = 0; i < inline_js.length; i++) {\n        inline_js[i].call(root, root.Bokeh);\n      }if (force === true) {\n        display_loaded();\n      }} else if (Date.now() < root._bokeh_timeout) {\n      setTimeout(run_inline_js, 100);\n    } else if (!root._bokeh_failed_load) {\n      console.log(\"Bokeh: BokehJS failed to load within specified timeout.\");\n      root._bokeh_failed_load = true;\n    } else if (force !== true) {\n      var cell = $(document.getElementById(\"a4c65568-cd16-4693-8ffe-adf9f6c8b978\")).parents('.cell').data().cell;\n      cell.output_area.append_execute_result(NB_LOAD_WARNING)\n    }\n\n  }\n\n  if (root._bokeh_is_loading === 0) {\n    console.log(\"Bokeh: BokehJS loaded, going straight to plotting\");\n    run_inline_js();\n  } else {\n    load_libs(js_urls, function() {\n      console.log(\"Bokeh: BokehJS plotting callback run at\", now());\n      run_inline_js();\n    });\n  }\n}(window));"
     },
     "metadata": {},
     "output_type": "display_data"
    }
   ],
   "source": [
    "from bokeh.io import output_notebook, show\n",
    "from bokeh.plotting import figure\n",
    "output_notebook()"
   ]
  },
  {
   "cell_type": "markdown",
   "metadata": {},
   "source": [
    "Now that we know from the previous chapter how multiple plots can be placed together in a layout, we can start to look at how different plots can be linked togeher, or how plots can be linked to widgets. "
   ]
  },
  {
   "cell_type": "markdown",
   "metadata": {},
   "source": [
    "# Linked Interactions\n",
    "\n",
    "It is possible to link various interactions between different Bokeh plots. For instance, the ranges of two (or more) plots can be linked, so that when one of the plots is panned (or zoomed, or otherwise has its range changed) the other plots will update in unison. It is also possible to link selections between two plots, so that when items are selected on one plot, the corresponding items on the second plot also become selected. "
   ]
  },
  {
   "cell_type": "markdown",
   "metadata": {},
   "source": [
    "## Linked panning\n",
    "\n",
    "Linked panning (when multiple plots have ranges that stay in sync) is simple to spell with Bokeh. You simply share the appropriate range objects between two (or more) plots. The example below shows how to accomplish this by linking the ranges of three plots in various ways:"
   ]
  },
  {
   "cell_type": "code",
   "execution_count": 3,
   "metadata": {},
   "outputs": [
    {
     "data": {
      "text/html": [
       "\n",
       "<div class=\"bk-root\">\n",
       "    <div class=\"bk-plotdiv\" id=\"469c751c-6498-4865-a158-776c83591209\"></div>\n",
       "</div>"
      ]
     },
     "metadata": {},
     "output_type": "display_data"
    },
    {
     "data": {
      "application/javascript": [
       "(function(root) {\n",
       "  function embed_document(root) {\n",
       "    \n",
       "  var docs_json = {\"d2abbfc8-1a82-4f4a-8b86-1aad1cada64b\":{\"roots\":{\"references\":[{\"attributes\":{},\"id\":\"0af05a3c-8c52-4684-963b-00b90577e97a\",\"type\":\"BasicTickFormatter\"},{\"attributes\":{},\"id\":\"7f1d0d33-380c-45f2-bf99-81dd23f93a92\",\"type\":\"BasicTicker\"},{\"attributes\":{\"fill_color\":{\"value\":\"olive\"},\"line_color\":{\"value\":\"olive\"},\"size\":{\"units\":\"screen\",\"value\":10},\"x\":{\"field\":\"x\"},\"y\":{\"field\":\"y\"}},\"id\":\"518a2baa-3a62-4341-baed-b8660125732c\",\"type\":\"Square\"},{\"attributes\":{\"plot\":{\"id\":\"ebc2a628-ec6c-4bae-9532-3cb1b2228a02\",\"subtype\":\"Figure\",\"type\":\"Plot\"},\"ticker\":{\"id\":\"7f1d0d33-380c-45f2-bf99-81dd23f93a92\",\"type\":\"BasicTicker\"}},\"id\":\"2caeeda6-94f6-416f-880a-ecbce7513b9e\",\"type\":\"Grid\"},{\"attributes\":{\"formatter\":{\"id\":\"79de060b-1a91-44ff-a625-5dcac1c42bcf\",\"type\":\"BasicTickFormatter\"},\"plot\":{\"id\":\"ebc2a628-ec6c-4bae-9532-3cb1b2228a02\",\"subtype\":\"Figure\",\"type\":\"Plot\"},\"ticker\":{\"id\":\"bf2f179f-7d20-4d12-a560-e4d27b73d372\",\"type\":\"BasicTicker\"}},\"id\":\"fb1f55cc-8a09-4f01-ae83-80647bde0247\",\"type\":\"LinearAxis\"},{\"attributes\":{},\"id\":\"e4d3a863-499a-4646-9319-47e0cdc9ad49\",\"type\":\"BasicTickFormatter\"},{\"attributes\":{},\"id\":\"bf2f179f-7d20-4d12-a560-e4d27b73d372\",\"type\":\"BasicTicker\"},{\"attributes\":{\"dimension\":1,\"plot\":{\"id\":\"ebc2a628-ec6c-4bae-9532-3cb1b2228a02\",\"subtype\":\"Figure\",\"type\":\"Plot\"},\"ticker\":{\"id\":\"bf2f179f-7d20-4d12-a560-e4d27b73d372\",\"type\":\"BasicTicker\"}},\"id\":\"cb164a98-805f-4f0e-a71b-5a0a3c9b83ca\",\"type\":\"Grid\"},{\"attributes\":{},\"id\":\"79de060b-1a91-44ff-a625-5dcac1c42bcf\",\"type\":\"BasicTickFormatter\"},{\"attributes\":{},\"id\":\"a37b85f8-46e3-468c-8287-ce29e4b5e1ea\",\"type\":\"PanTool\"},{\"attributes\":{\"children\":[{\"id\":\"927c34ba-c8da-4165-b0cf-7c954ed6aada\",\"subtype\":\"Figure\",\"type\":\"Plot\"},{\"id\":\"01714a27-c4a1-4164-9d85-8c138e242306\",\"subtype\":\"Figure\",\"type\":\"Plot\"},{\"id\":\"ebc2a628-ec6c-4bae-9532-3cb1b2228a02\",\"subtype\":\"Figure\",\"type\":\"Plot\"}]},\"id\":\"654c688c-4c37-4c8e-aa9e-63fd14e561e6\",\"type\":\"Row\"},{\"attributes\":{},\"id\":\"c88b2b45-a816-4add-b565-2d7dfa9ecdb6\",\"type\":\"WheelZoomTool\"},{\"attributes\":{\"fill_alpha\":{\"value\":0.1},\"fill_color\":{\"value\":\"#1f77b4\"},\"line_alpha\":{\"value\":0.1},\"line_color\":{\"value\":\"#1f77b4\"},\"size\":{\"units\":\"screen\",\"value\":10},\"x\":{\"field\":\"x\"},\"y\":{\"field\":\"y\"}},\"id\":\"92dd120c-e07b-4139-9f88-0a9a6b3da2e7\",\"type\":\"Square\"},{\"attributes\":{\"data_source\":{\"id\":\"5fc59207-cb3e-4f71-881c-ad987f465454\",\"type\":\"ColumnDataSource\"},\"glyph\":{\"id\":\"518a2baa-3a62-4341-baed-b8660125732c\",\"type\":\"Square\"},\"hover_glyph\":null,\"muted_glyph\":null,\"nonselection_glyph\":{\"id\":\"92dd120c-e07b-4139-9f88-0a9a6b3da2e7\",\"type\":\"Square\"},\"selection_glyph\":null,\"view\":{\"id\":\"42c1dafa-94ed-43c1-8f30-200f17fb617d\",\"type\":\"CDSView\"}},\"id\":\"7ba15af6-6646-4443-856f-6d73558b6eed\",\"type\":\"GlyphRenderer\"},{\"attributes\":{\"source\":{\"id\":\"5fc59207-cb3e-4f71-881c-ad987f465454\",\"type\":\"ColumnDataSource\"}},\"id\":\"42c1dafa-94ed-43c1-8f30-200f17fb617d\",\"type\":\"CDSView\"},{\"attributes\":{},\"id\":\"3e59d9a2-20af-4dcc-b51a-c8fa58449bbd\",\"type\":\"BasicTickFormatter\"},{\"attributes\":{\"plot\":null,\"text\":\"\"},\"id\":\"8e634282-9a90-4012-a25d-82d8c1215655\",\"type\":\"Title\"},{\"attributes\":{\"tools\":[{\"id\":\"65bc7be8-335d-4a04-b27d-2724aaba79c7\",\"type\":\"PanTool\"},{\"id\":\"be3d45bd-7b83-4fc4-9c1f-fff3fd2bf90f\",\"type\":\"WheelZoomTool\"},{\"id\":\"004a45cd-3a11-4b8f-876a-66b42e174c26\",\"type\":\"PanTool\"},{\"id\":\"39d936eb-def7-4783-a5da-3436184bc0ba\",\"type\":\"WheelZoomTool\"},{\"id\":\"a37b85f8-46e3-468c-8287-ce29e4b5e1ea\",\"type\":\"PanTool\"},{\"id\":\"c88b2b45-a816-4add-b565-2d7dfa9ecdb6\",\"type\":\"WheelZoomTool\"}]},\"id\":\"120dd79b-b85a-42cb-bec4-94094964aedf\",\"type\":\"ProxyToolbar\"},{\"attributes\":{\"toolbar\":{\"id\":\"120dd79b-b85a-42cb-bec4-94094964aedf\",\"type\":\"ProxyToolbar\"},\"toolbar_location\":\"above\"},\"id\":\"5334b788-4c0f-471e-b11a-f1fe4dd3e809\",\"type\":\"ToolbarBox\"},{\"attributes\":{\"children\":[{\"id\":\"5334b788-4c0f-471e-b11a-f1fe4dd3e809\",\"type\":\"ToolbarBox\"},{\"id\":\"193a36b2-7c14-4b42-9718-dfa173c96aaa\",\"type\":\"Column\"}]},\"id\":\"c5cc04a4-26bc-45c6-a4fc-455420b7939a\",\"type\":\"Column\"},{\"attributes\":{\"source\":{\"id\":\"4679ba83-c483-48ab-a138-737e64c3016a\",\"type\":\"ColumnDataSource\"}},\"id\":\"2b8c518a-f1be-4ce6-96d4-61e075301450\",\"type\":\"CDSView\"},{\"attributes\":{\"below\":[{\"id\":\"8d9835a9-5e88-4876-9c83-deaf481c3cfe\",\"type\":\"LinearAxis\"}],\"left\":[{\"id\":\"9a66ebd4-6f54-46e9-b1a6-511a28d4a61b\",\"type\":\"LinearAxis\"}],\"plot_height\":250,\"plot_width\":250,\"renderers\":[{\"id\":\"8d9835a9-5e88-4876-9c83-deaf481c3cfe\",\"type\":\"LinearAxis\"},{\"id\":\"33909b2f-bf4b-4140-9a3d-abc167f0ee28\",\"type\":\"Grid\"},{\"id\":\"9a66ebd4-6f54-46e9-b1a6-511a28d4a61b\",\"type\":\"LinearAxis\"},{\"id\":\"b6fec086-6b04-49a5-bc46-dcb89ced2f59\",\"type\":\"Grid\"},{\"id\":\"1f8080df-2181-4732-9978-34a1cd3c0405\",\"type\":\"GlyphRenderer\"}],\"title\":{\"id\":\"6f393084-be48-411e-b28f-ffc160576e39\",\"type\":\"Title\"},\"toolbar\":{\"id\":\"b11c3b91-8756-4d8f-98d4-1f957ed061c4\",\"type\":\"Toolbar\"},\"toolbar_location\":null,\"x_range\":{\"id\":\"b57aaa7b-bed1-4be8-a573-a5ad32d2acb8\",\"type\":\"DataRange1d\"},\"x_scale\":{\"id\":\"3b27116a-1643-4f4f-bdbc-9708f14dd739\",\"type\":\"LinearScale\"},\"y_range\":{\"id\":\"3e03d8e3-e0b5-4bbc-a180-9e3ae30eb90e\",\"type\":\"DataRange1d\"},\"y_scale\":{\"id\":\"fab1fd72-91ca-404e-8e68-c97ca95ee2ed\",\"type\":\"LinearScale\"}},\"id\":\"927c34ba-c8da-4165-b0cf-7c954ed6aada\",\"subtype\":\"Figure\",\"type\":\"Plot\"},{\"attributes\":{},\"id\":\"ed6e4c21-687c-4cb0-8d8a-c5fc0d3b17c4\",\"type\":\"BasicTicker\"},{\"attributes\":{\"active_drag\":\"auto\",\"active_inspect\":\"auto\",\"active_scroll\":\"auto\",\"active_tap\":\"auto\",\"tools\":[{\"id\":\"65bc7be8-335d-4a04-b27d-2724aaba79c7\",\"type\":\"PanTool\"},{\"id\":\"be3d45bd-7b83-4fc4-9c1f-fff3fd2bf90f\",\"type\":\"WheelZoomTool\"}]},\"id\":\"b11c3b91-8756-4d8f-98d4-1f957ed061c4\",\"type\":\"Toolbar\"},{\"attributes\":{\"callback\":null},\"id\":\"b57aaa7b-bed1-4be8-a573-a5ad32d2acb8\",\"type\":\"DataRange1d\"},{\"attributes\":{\"callback\":null},\"id\":\"3e03d8e3-e0b5-4bbc-a180-9e3ae30eb90e\",\"type\":\"DataRange1d\"},{\"attributes\":{\"callback\":null,\"column_names\":[\"x\",\"y\"],\"data\":{\"x\":[0,1,2,3,4,5,6,7,8,9,10],\"y\":[0,1,2,3,4,5,6,7,8,9,10]}},\"id\":\"4679ba83-c483-48ab-a138-737e64c3016a\",\"type\":\"ColumnDataSource\"},{\"attributes\":{},\"id\":\"3b27116a-1643-4f4f-bdbc-9708f14dd739\",\"type\":\"LinearScale\"},{\"attributes\":{},\"id\":\"fab1fd72-91ca-404e-8e68-c97ca95ee2ed\",\"type\":\"LinearScale\"},{\"attributes\":{\"plot\":{\"id\":\"927c34ba-c8da-4165-b0cf-7c954ed6aada\",\"subtype\":\"Figure\",\"type\":\"Plot\"},\"ticker\":{\"id\":\"ed6e4c21-687c-4cb0-8d8a-c5fc0d3b17c4\",\"type\":\"BasicTicker\"}},\"id\":\"33909b2f-bf4b-4140-9a3d-abc167f0ee28\",\"type\":\"Grid\"},{\"attributes\":{\"formatter\":{\"id\":\"0af05a3c-8c52-4684-963b-00b90577e97a\",\"type\":\"BasicTickFormatter\"},\"plot\":{\"id\":\"927c34ba-c8da-4165-b0cf-7c954ed6aada\",\"subtype\":\"Figure\",\"type\":\"Plot\"},\"ticker\":{\"id\":\"ed6e4c21-687c-4cb0-8d8a-c5fc0d3b17c4\",\"type\":\"BasicTicker\"}},\"id\":\"8d9835a9-5e88-4876-9c83-deaf481c3cfe\",\"type\":\"LinearAxis\"},{\"attributes\":{\"formatter\":{\"id\":\"e4d3a863-499a-4646-9319-47e0cdc9ad49\",\"type\":\"BasicTickFormatter\"},\"plot\":{\"id\":\"927c34ba-c8da-4165-b0cf-7c954ed6aada\",\"subtype\":\"Figure\",\"type\":\"Plot\"},\"ticker\":{\"id\":\"b071e495-552b-46d1-8b2d-909877067f75\",\"type\":\"BasicTicker\"}},\"id\":\"9a66ebd4-6f54-46e9-b1a6-511a28d4a61b\",\"type\":\"LinearAxis\"},{\"attributes\":{\"data_source\":{\"id\":\"4679ba83-c483-48ab-a138-737e64c3016a\",\"type\":\"ColumnDataSource\"},\"glyph\":{\"id\":\"8feb1fb8-8c01-4d28-b44f-7d7a93251959\",\"type\":\"Circle\"},\"hover_glyph\":null,\"muted_glyph\":null,\"nonselection_glyph\":{\"id\":\"71a01ac7-b021-4aab-ab00-cc6f8bb2207d\",\"type\":\"Circle\"},\"selection_glyph\":null,\"view\":{\"id\":\"2b8c518a-f1be-4ce6-96d4-61e075301450\",\"type\":\"CDSView\"}},\"id\":\"1f8080df-2181-4732-9978-34a1cd3c0405\",\"type\":\"GlyphRenderer\"},{\"attributes\":{},\"id\":\"b071e495-552b-46d1-8b2d-909877067f75\",\"type\":\"BasicTicker\"},{\"attributes\":{\"dimension\":1,\"plot\":{\"id\":\"927c34ba-c8da-4165-b0cf-7c954ed6aada\",\"subtype\":\"Figure\",\"type\":\"Plot\"},\"ticker\":{\"id\":\"b071e495-552b-46d1-8b2d-909877067f75\",\"type\":\"BasicTicker\"}},\"id\":\"b6fec086-6b04-49a5-bc46-dcb89ced2f59\",\"type\":\"Grid\"},{\"attributes\":{\"fill_color\":{\"value\":\"navy\"},\"line_color\":{\"value\":\"navy\"},\"size\":{\"units\":\"screen\",\"value\":10},\"x\":{\"field\":\"x\"},\"y\":{\"field\":\"y\"}},\"id\":\"8feb1fb8-8c01-4d28-b44f-7d7a93251959\",\"type\":\"Circle\"},{\"attributes\":{\"active_drag\":\"auto\",\"active_inspect\":\"auto\",\"active_scroll\":\"auto\",\"active_tap\":\"auto\",\"tools\":[{\"id\":\"004a45cd-3a11-4b8f-876a-66b42e174c26\",\"type\":\"PanTool\"},{\"id\":\"39d936eb-def7-4783-a5da-3436184bc0ba\",\"type\":\"WheelZoomTool\"}]},\"id\":\"a6226186-774e-4eee-b77d-fff8e0082df5\",\"type\":\"Toolbar\"},{\"attributes\":{},\"id\":\"65bc7be8-335d-4a04-b27d-2724aaba79c7\",\"type\":\"PanTool\"},{\"attributes\":{},\"id\":\"80d71475-c5c5-4fa2-9380-93d8cae64aca\",\"type\":\"BasicTickFormatter\"},{\"attributes\":{\"below\":[{\"id\":\"6420499e-c06b-4d20-ab69-bbabd9fcdd8c\",\"type\":\"LinearAxis\"}],\"left\":[{\"id\":\"929968a1-e02e-4abf-8f3f-f03ebad129d2\",\"type\":\"LinearAxis\"}],\"plot_height\":250,\"plot_width\":250,\"renderers\":[{\"id\":\"6420499e-c06b-4d20-ab69-bbabd9fcdd8c\",\"type\":\"LinearAxis\"},{\"id\":\"8aae868d-5c78-461e-a856-b20c28b4d684\",\"type\":\"Grid\"},{\"id\":\"929968a1-e02e-4abf-8f3f-f03ebad129d2\",\"type\":\"LinearAxis\"},{\"id\":\"42655d92-e35b-43bd-9da0-a0c4c89f7c0f\",\"type\":\"Grid\"},{\"id\":\"7825121e-651f-4046-a527-4672eae6c07f\",\"type\":\"GlyphRenderer\"}],\"title\":{\"id\":\"0942fcc9-ec2d-4546-b696-64e2d11c7bfb\",\"type\":\"Title\"},\"toolbar\":{\"id\":\"a6226186-774e-4eee-b77d-fff8e0082df5\",\"type\":\"Toolbar\"},\"toolbar_location\":null,\"x_range\":{\"id\":\"b57aaa7b-bed1-4be8-a573-a5ad32d2acb8\",\"type\":\"DataRange1d\"},\"x_scale\":{\"id\":\"522d2ddb-c964-4b5c-b22b-163039a345cd\",\"type\":\"LinearScale\"},\"y_range\":{\"id\":\"3e03d8e3-e0b5-4bbc-a180-9e3ae30eb90e\",\"type\":\"DataRange1d\"},\"y_scale\":{\"id\":\"49e19289-5e15-4d16-9ae8-68f5f3c5b6f6\",\"type\":\"LinearScale\"}},\"id\":\"01714a27-c4a1-4164-9d85-8c138e242306\",\"subtype\":\"Figure\",\"type\":\"Plot\"},{\"attributes\":{},\"id\":\"be3d45bd-7b83-4fc4-9c1f-fff3fd2bf90f\",\"type\":\"WheelZoomTool\"},{\"attributes\":{},\"id\":\"522d2ddb-c964-4b5c-b22b-163039a345cd\",\"type\":\"LinearScale\"},{\"attributes\":{\"callback\":null,\"column_names\":[\"x\",\"y\"],\"data\":{\"x\":[0,1,2,3,4,5,6,7,8,9,10],\"y\":[10,9,8,7,6,5,4,3,2,1,0]}},\"id\":\"8caa6d38-5927-4ae5-b66a-d086d391b950\",\"type\":\"ColumnDataSource\"},{\"attributes\":{\"plot\":null,\"text\":\"\"},\"id\":\"6f393084-be48-411e-b28f-ffc160576e39\",\"type\":\"Title\"},{\"attributes\":{},\"id\":\"49e19289-5e15-4d16-9ae8-68f5f3c5b6f6\",\"type\":\"LinearScale\"},{\"attributes\":{\"fill_color\":{\"value\":\"firebrick\"},\"line_color\":{\"value\":\"firebrick\"},\"size\":{\"units\":\"screen\",\"value\":10},\"x\":{\"field\":\"x\"},\"y\":{\"field\":\"y\"}},\"id\":\"1e12620e-b76d-4e9f-9383-90a785cb5a1f\",\"type\":\"Triangle\"},{\"attributes\":{\"plot\":{\"id\":\"01714a27-c4a1-4164-9d85-8c138e242306\",\"subtype\":\"Figure\",\"type\":\"Plot\"},\"ticker\":{\"id\":\"0ab5c003-70d9-4309-a188-bee72d450d71\",\"type\":\"BasicTicker\"}},\"id\":\"8aae868d-5c78-461e-a856-b20c28b4d684\",\"type\":\"Grid\"},{\"attributes\":{\"formatter\":{\"id\":\"8b1d818a-7836-4196-87e3-52266482ab8a\",\"type\":\"BasicTickFormatter\"},\"plot\":{\"id\":\"01714a27-c4a1-4164-9d85-8c138e242306\",\"subtype\":\"Figure\",\"type\":\"Plot\"},\"ticker\":{\"id\":\"0ab5c003-70d9-4309-a188-bee72d450d71\",\"type\":\"BasicTicker\"}},\"id\":\"6420499e-c06b-4d20-ab69-bbabd9fcdd8c\",\"type\":\"LinearAxis\"},{\"attributes\":{},\"id\":\"0ab5c003-70d9-4309-a188-bee72d450d71\",\"type\":\"BasicTicker\"},{\"attributes\":{\"formatter\":{\"id\":\"80d71475-c5c5-4fa2-9380-93d8cae64aca\",\"type\":\"BasicTickFormatter\"},\"plot\":{\"id\":\"01714a27-c4a1-4164-9d85-8c138e242306\",\"subtype\":\"Figure\",\"type\":\"Plot\"},\"ticker\":{\"id\":\"5d3139b5-16c1-4121-bd53-c568f181b99d\",\"type\":\"BasicTicker\"}},\"id\":\"929968a1-e02e-4abf-8f3f-f03ebad129d2\",\"type\":\"LinearAxis\"},{\"attributes\":{},\"id\":\"5d3139b5-16c1-4121-bd53-c568f181b99d\",\"type\":\"BasicTicker\"},{\"attributes\":{\"dimension\":1,\"plot\":{\"id\":\"01714a27-c4a1-4164-9d85-8c138e242306\",\"subtype\":\"Figure\",\"type\":\"Plot\"},\"ticker\":{\"id\":\"5d3139b5-16c1-4121-bd53-c568f181b99d\",\"type\":\"BasicTicker\"}},\"id\":\"42655d92-e35b-43bd-9da0-a0c4c89f7c0f\",\"type\":\"Grid\"},{\"attributes\":{\"children\":[{\"id\":\"654c688c-4c37-4c8e-aa9e-63fd14e561e6\",\"type\":\"Row\"}]},\"id\":\"193a36b2-7c14-4b42-9718-dfa173c96aaa\",\"type\":\"Column\"},{\"attributes\":{},\"id\":\"004a45cd-3a11-4b8f-876a-66b42e174c26\",\"type\":\"PanTool\"},{\"attributes\":{\"below\":[{\"id\":\"9472ad2a-f5b7-4f40-b43e-0cf829b5e594\",\"type\":\"LinearAxis\"}],\"left\":[{\"id\":\"fb1f55cc-8a09-4f01-ae83-80647bde0247\",\"type\":\"LinearAxis\"}],\"plot_height\":250,\"plot_width\":250,\"renderers\":[{\"id\":\"9472ad2a-f5b7-4f40-b43e-0cf829b5e594\",\"type\":\"LinearAxis\"},{\"id\":\"2caeeda6-94f6-416f-880a-ecbce7513b9e\",\"type\":\"Grid\"},{\"id\":\"fb1f55cc-8a09-4f01-ae83-80647bde0247\",\"type\":\"LinearAxis\"},{\"id\":\"cb164a98-805f-4f0e-a71b-5a0a3c9b83ca\",\"type\":\"Grid\"},{\"id\":\"7ba15af6-6646-4443-856f-6d73558b6eed\",\"type\":\"GlyphRenderer\"}],\"title\":{\"id\":\"8e634282-9a90-4012-a25d-82d8c1215655\",\"type\":\"Title\"},\"toolbar\":{\"id\":\"b5776e7e-16bd-48f6-8181-b8e982b10a39\",\"type\":\"Toolbar\"},\"toolbar_location\":null,\"x_range\":{\"id\":\"b57aaa7b-bed1-4be8-a573-a5ad32d2acb8\",\"type\":\"DataRange1d\"},\"x_scale\":{\"id\":\"3af2589e-d7a6-4564-91f3-7e6015f4f3a8\",\"type\":\"LinearScale\"},\"y_range\":{\"id\":\"e038565b-2a15-48e9-abcf-7a67848ddce6\",\"type\":\"DataRange1d\"},\"y_scale\":{\"id\":\"f3b9864e-5458-496c-be61-d740c089ce07\",\"type\":\"LinearScale\"}},\"id\":\"ebc2a628-ec6c-4bae-9532-3cb1b2228a02\",\"subtype\":\"Figure\",\"type\":\"Plot\"},{\"attributes\":{},\"id\":\"39d936eb-def7-4783-a5da-3436184bc0ba\",\"type\":\"WheelZoomTool\"},{\"attributes\":{\"fill_alpha\":{\"value\":0.1},\"fill_color\":{\"value\":\"#1f77b4\"},\"line_alpha\":{\"value\":0.1},\"line_color\":{\"value\":\"#1f77b4\"},\"size\":{\"units\":\"screen\",\"value\":10},\"x\":{\"field\":\"x\"},\"y\":{\"field\":\"y\"}},\"id\":\"503e18db-b860-48ad-984e-5b5a43513ca2\",\"type\":\"Triangle\"},{\"attributes\":{\"data_source\":{\"id\":\"8caa6d38-5927-4ae5-b66a-d086d391b950\",\"type\":\"ColumnDataSource\"},\"glyph\":{\"id\":\"1e12620e-b76d-4e9f-9383-90a785cb5a1f\",\"type\":\"Triangle\"},\"hover_glyph\":null,\"muted_glyph\":null,\"nonselection_glyph\":{\"id\":\"503e18db-b860-48ad-984e-5b5a43513ca2\",\"type\":\"Triangle\"},\"selection_glyph\":null,\"view\":{\"id\":\"d6689265-0491-42ca-99e3-a3611ee561fd\",\"type\":\"CDSView\"}},\"id\":\"7825121e-651f-4046-a527-4672eae6c07f\",\"type\":\"GlyphRenderer\"},{\"attributes\":{\"source\":{\"id\":\"8caa6d38-5927-4ae5-b66a-d086d391b950\",\"type\":\"ColumnDataSource\"}},\"id\":\"d6689265-0491-42ca-99e3-a3611ee561fd\",\"type\":\"CDSView\"},{\"attributes\":{},\"id\":\"8b1d818a-7836-4196-87e3-52266482ab8a\",\"type\":\"BasicTickFormatter\"},{\"attributes\":{\"plot\":null,\"text\":\"\"},\"id\":\"0942fcc9-ec2d-4546-b696-64e2d11c7bfb\",\"type\":\"Title\"},{\"attributes\":{\"callback\":null,\"column_names\":[\"x\",\"y\"],\"data\":{\"x\":[0,1,2,3,4,5,6,7,8,9,10],\"y\":[5,4,3,2,1,0,1,2,3,4,5]}},\"id\":\"5fc59207-cb3e-4f71-881c-ad987f465454\",\"type\":\"ColumnDataSource\"},{\"attributes\":{\"active_drag\":\"auto\",\"active_inspect\":\"auto\",\"active_scroll\":\"auto\",\"active_tap\":\"auto\",\"tools\":[{\"id\":\"a37b85f8-46e3-468c-8287-ce29e4b5e1ea\",\"type\":\"PanTool\"},{\"id\":\"c88b2b45-a816-4add-b565-2d7dfa9ecdb6\",\"type\":\"WheelZoomTool\"}]},\"id\":\"b5776e7e-16bd-48f6-8181-b8e982b10a39\",\"type\":\"Toolbar\"},{\"attributes\":{\"fill_alpha\":{\"value\":0.1},\"fill_color\":{\"value\":\"#1f77b4\"},\"line_alpha\":{\"value\":0.1},\"line_color\":{\"value\":\"#1f77b4\"},\"size\":{\"units\":\"screen\",\"value\":10},\"x\":{\"field\":\"x\"},\"y\":{\"field\":\"y\"}},\"id\":\"71a01ac7-b021-4aab-ab00-cc6f8bb2207d\",\"type\":\"Circle\"},{\"attributes\":{\"callback\":null},\"id\":\"e038565b-2a15-48e9-abcf-7a67848ddce6\",\"type\":\"DataRange1d\"},{\"attributes\":{},\"id\":\"f3b9864e-5458-496c-be61-d740c089ce07\",\"type\":\"LinearScale\"},{\"attributes\":{},\"id\":\"3af2589e-d7a6-4564-91f3-7e6015f4f3a8\",\"type\":\"LinearScale\"},{\"attributes\":{\"formatter\":{\"id\":\"3e59d9a2-20af-4dcc-b51a-c8fa58449bbd\",\"type\":\"BasicTickFormatter\"},\"plot\":{\"id\":\"ebc2a628-ec6c-4bae-9532-3cb1b2228a02\",\"subtype\":\"Figure\",\"type\":\"Plot\"},\"ticker\":{\"id\":\"7f1d0d33-380c-45f2-bf99-81dd23f93a92\",\"type\":\"BasicTicker\"}},\"id\":\"9472ad2a-f5b7-4f40-b43e-0cf829b5e594\",\"type\":\"LinearAxis\"}],\"root_ids\":[\"c5cc04a4-26bc-45c6-a4fc-455420b7939a\"]},\"title\":\"Bokeh Application\",\"version\":\"0.12.13\"}};\n",
       "  var render_items = [{\"docid\":\"d2abbfc8-1a82-4f4a-8b86-1aad1cada64b\",\"elementid\":\"469c751c-6498-4865-a158-776c83591209\",\"modelid\":\"c5cc04a4-26bc-45c6-a4fc-455420b7939a\"}];\n",
       "  root.Bokeh.embed.embed_items_notebook(docs_json, render_items);\n",
       "\n",
       "  }\n",
       "  if (root.Bokeh !== undefined) {\n",
       "    embed_document(root);\n",
       "  } else {\n",
       "    var attempts = 0;\n",
       "    var timer = setInterval(function(root) {\n",
       "      if (root.Bokeh !== undefined) {\n",
       "        embed_document(root);\n",
       "        clearInterval(timer);\n",
       "      }\n",
       "      attempts++;\n",
       "      if (attempts > 100) {\n",
       "        console.log(\"Bokeh: ERROR: Unable to run BokehJS code because BokehJS library is missing\")\n",
       "        clearInterval(timer);\n",
       "      }\n",
       "    }, 10, root)\n",
       "  }\n",
       "})(window);"
      ],
      "application/vnd.bokehjs_exec.v0+json": ""
     },
     "metadata": {
      "application/vnd.bokehjs_exec.v0+json": {
       "id": "c5cc04a4-26bc-45c6-a4fc-455420b7939a"
      }
     },
     "output_type": "display_data"
    }
   ],
   "source": [
    "from bokeh.layouts import gridplot\n",
    "\n",
    "x = list(range(11))\n",
    "y0, y1, y2 = x, [10-i for i in x], [abs(i-5) for i in x]\n",
    "\n",
    "plot_options = dict(width=250, plot_height=250, tools='pan,wheel_zoom')\n",
    "\n",
    "# create a new plot\n",
    "s1 = figure(**plot_options)\n",
    "s1.circle(x, y0, size=10, color=\"navy\")\n",
    "\n",
    "# create a new plot and share both ranges\n",
    "s2 = figure(x_range=s1.x_range, y_range=s1.y_range, **plot_options)\n",
    "s2.triangle(x, y1, size=10, color=\"firebrick\")\n",
    "\n",
    "# create a new plot and share only one range\n",
    "s3 = figure(x_range=s1.x_range, **plot_options)\n",
    "s3.square(x, y2, size=10, color=\"olive\")\n",
    "\n",
    "p = gridplot([[s1, s2, s3]])\n",
    "\n",
    "# show the results\n",
    "show(p)"
   ]
  },
  {
   "cell_type": "code",
   "execution_count": 4,
   "metadata": {
    "collapsed": true
   },
   "outputs": [],
   "source": [
    "# EXERCISE: create two plots in a gridplot, and link their ranges\n"
   ]
  },
  {
   "cell_type": "markdown",
   "metadata": {},
   "source": [
    "## Linked brushing\n",
    "\n",
    "Linking selections is accomplished in a similar way, by sharing data sources between plots. Note that normally with ``bokeh.plotting`` and ``bokeh.charts`` creating a default data source for simple plots is handled automatically. However to share a data source, we must create them by hand and pass them explicitly. This is illustrated in the example below:"
   ]
  },
  {
   "cell_type": "code",
   "execution_count": 5,
   "metadata": {},
   "outputs": [
    {
     "data": {
      "text/html": [
       "\n",
       "<div class=\"bk-root\">\n",
       "    <div class=\"bk-plotdiv\" id=\"9f587e5d-5618-418a-9bb0-103226f88a7b\"></div>\n",
       "</div>"
      ]
     },
     "metadata": {},
     "output_type": "display_data"
    },
    {
     "data": {
      "application/javascript": [
       "(function(root) {\n",
       "  function embed_document(root) {\n",
       "    \n",
       "  var docs_json = {\"b17314ce-f6f2-42cb-81cd-295a97da20de\":{\"roots\":{\"references\":[{\"attributes\":{\"fill_color\":{\"value\":\"#1f77b4\"},\"line_color\":{\"value\":\"#1f77b4\"},\"x\":{\"field\":\"x\"},\"y\":{\"field\":\"y1\"}},\"id\":\"3ea75703-5805-4a94-b1e4-576bf0557470\",\"type\":\"Circle\"},{\"attributes\":{\"children\":[{\"id\":\"bad1a776-31fc-4d2f-9b7c-da004743ce4f\",\"type\":\"ToolbarBox\"},{\"id\":\"2de422d8-a1de-42d8-a316-ad4a08e8108e\",\"type\":\"Column\"}]},\"id\":\"337d877a-fbf7-4b11-b1c3-6aac42756ee6\",\"type\":\"Column\"},{\"attributes\":{\"source\":{\"id\":\"f12b74e4-32fb-44e2-a89f-b2036c16a9a2\",\"type\":\"ColumnDataSource\"}},\"id\":\"7211bb1f-c803-4594-8de9-a520ac00f265\",\"type\":\"CDSView\"},{\"attributes\":{},\"id\":\"71562651-bc40-452b-bde7-ff70dbdd1780\",\"type\":\"LinearScale\"},{\"attributes\":{},\"id\":\"6d60955b-d530-48ea-9559-81293285f726\",\"type\":\"HelpTool\"},{\"attributes\":{\"active_drag\":\"auto\",\"active_inspect\":\"auto\",\"active_scroll\":\"auto\",\"active_tap\":\"auto\",\"tools\":[{\"id\":\"8b7c0417-8d16-41d2-a322-9ca96b1c7b4e\",\"type\":\"BoxSelectTool\"},{\"id\":\"06cb0a4b-dbc7-436d-be05-f7293128e38b\",\"type\":\"LassoSelectTool\"},{\"id\":\"6d60955b-d530-48ea-9559-81293285f726\",\"type\":\"HelpTool\"}]},\"id\":\"df99bb0c-296a-45db-be76-913684a2f8b2\",\"type\":\"Toolbar\"},{\"attributes\":{},\"id\":\"b045753e-c9bb-452a-8fa1-af4000fa867a\",\"type\":\"BasicTicker\"},{\"attributes\":{},\"id\":\"60a04a8d-ef16-414c-a029-71682ae5ec7e\",\"type\":\"LinearScale\"},{\"attributes\":{\"plot\":null,\"text\":\"\"},\"id\":\"5f243792-f7ee-4361-9a00-22c0d1677627\",\"type\":\"Title\"},{\"attributes\":{\"callback\":null,\"overlay\":{\"id\":\"5c2c7fbd-7f57-4157-8b11-7d20631cd50c\",\"type\":\"PolyAnnotation\"}},\"id\":\"06cb0a4b-dbc7-436d-be05-f7293128e38b\",\"type\":\"LassoSelectTool\"},{\"attributes\":{\"fill_alpha\":{\"value\":0.5},\"fill_color\":{\"value\":\"lightgrey\"},\"level\":\"overlay\",\"line_alpha\":{\"value\":1.0},\"line_color\":{\"value\":\"black\"},\"line_dash\":[4,4],\"line_width\":{\"value\":2},\"plot\":null,\"xs_units\":\"screen\",\"ys_units\":\"screen\"},\"id\":\"5c2c7fbd-7f57-4157-8b11-7d20631cd50c\",\"type\":\"PolyAnnotation\"},{\"attributes\":{\"fill_color\":{\"value\":\"#1f77b4\"},\"line_color\":{\"value\":\"#1f77b4\"},\"x\":{\"field\":\"x\"},\"y\":{\"field\":\"y0\"}},\"id\":\"dc0f887b-f95f-457c-9852-a0c8806a2282\",\"type\":\"Circle\"},{\"attributes\":{\"data_source\":{\"id\":\"f12b74e4-32fb-44e2-a89f-b2036c16a9a2\",\"type\":\"ColumnDataSource\"},\"glyph\":{\"id\":\"dc0f887b-f95f-457c-9852-a0c8806a2282\",\"type\":\"Circle\"},\"hover_glyph\":null,\"muted_glyph\":null,\"nonselection_glyph\":{\"id\":\"16954ac3-ec40-48e2-9871-529a429c351c\",\"type\":\"Circle\"},\"selection_glyph\":null,\"view\":{\"id\":\"7211bb1f-c803-4594-8de9-a520ac00f265\",\"type\":\"CDSView\"}},\"id\":\"6cdaccc0-4a66-462d-aee3-d102c9a08790\",\"type\":\"GlyphRenderer\"},{\"attributes\":{},\"id\":\"736d13c9-879e-4ce4-b62c-d3e72932f31f\",\"type\":\"BasicTickFormatter\"},{\"attributes\":{\"active_drag\":\"auto\",\"active_inspect\":\"auto\",\"active_scroll\":\"auto\",\"active_tap\":\"auto\",\"tools\":[{\"id\":\"e95d68e4-405c-40be-bf05-16c1a7eafc6e\",\"type\":\"BoxSelectTool\"},{\"id\":\"a2953f2c-6989-4a33-924e-a4807366f923\",\"type\":\"LassoSelectTool\"},{\"id\":\"baee08ae-efb7-4459-b9d6-ac9fe753bb8f\",\"type\":\"HelpTool\"}]},\"id\":\"749d831a-7517-441b-973b-81398c5c484c\",\"type\":\"Toolbar\"},{\"attributes\":{\"below\":[{\"id\":\"d8d0e9fa-6196-4c9f-bee5-b3cab85e0732\",\"type\":\"LinearAxis\"}],\"left\":[{\"id\":\"da06c89e-24c7-4ccd-9d54-fc2e2e165280\",\"type\":\"LinearAxis\"}],\"plot_height\":300,\"plot_width\":300,\"renderers\":[{\"id\":\"d8d0e9fa-6196-4c9f-bee5-b3cab85e0732\",\"type\":\"LinearAxis\"},{\"id\":\"aef5f31c-ec73-4911-a30c-eeeb3035ff79\",\"type\":\"Grid\"},{\"id\":\"da06c89e-24c7-4ccd-9d54-fc2e2e165280\",\"type\":\"LinearAxis\"},{\"id\":\"e8deaf29-49d5-4279-84f6-52bb2d24b7bc\",\"type\":\"Grid\"},{\"id\":\"d788b166-193b-4600-bf8a-2a7126dde40f\",\"type\":\"BoxAnnotation\"},{\"id\":\"5c2c7fbd-7f57-4157-8b11-7d20631cd50c\",\"type\":\"PolyAnnotation\"},{\"id\":\"6cdaccc0-4a66-462d-aee3-d102c9a08790\",\"type\":\"GlyphRenderer\"}],\"title\":{\"id\":\"5f243792-f7ee-4361-9a00-22c0d1677627\",\"type\":\"Title\"},\"toolbar\":{\"id\":\"df99bb0c-296a-45db-be76-913684a2f8b2\",\"type\":\"Toolbar\"},\"toolbar_location\":null,\"x_range\":{\"id\":\"5af7e9c3-ff26-4fbd-b1b9-de4d5ba7e00c\",\"type\":\"DataRange1d\"},\"x_scale\":{\"id\":\"60a04a8d-ef16-414c-a029-71682ae5ec7e\",\"type\":\"LinearScale\"},\"y_range\":{\"id\":\"b0b8ef6f-c45b-457b-841e-472b6b3f75d6\",\"type\":\"DataRange1d\"},\"y_scale\":{\"id\":\"71562651-bc40-452b-bde7-ff70dbdd1780\",\"type\":\"LinearScale\"}},\"id\":\"81528ea6-ee5d-4a00-8223-6b997e0fe5d0\",\"subtype\":\"Figure\",\"type\":\"Plot\"},{\"attributes\":{},\"id\":\"54b7394d-17b7-4d73-a336-14c9e4920b52\",\"type\":\"BasicTicker\"},{\"attributes\":{\"callback\":null},\"id\":\"5af7e9c3-ff26-4fbd-b1b9-de4d5ba7e00c\",\"type\":\"DataRange1d\"},{\"attributes\":{},\"id\":\"0e647d5d-85e6-4b91-b7d7-e31732820ec5\",\"type\":\"BasicTickFormatter\"},{\"attributes\":{\"callback\":null,\"column_names\":[\"x\",\"y0\",\"y1\"],\"data\":{\"x\":[-20,-19,-18,-17,-16,-15,-14,-13,-12,-11,-10,-9,-8,-7,-6,-5,-4,-3,-2,-1,0,1,2,3,4,5,6,7,8,9,10,11,12,13,14,15,16,17,18,19,20],\"y0\":[20,19,18,17,16,15,14,13,12,11,10,9,8,7,6,5,4,3,2,1,0,1,2,3,4,5,6,7,8,9,10,11,12,13,14,15,16,17,18,19,20],\"y1\":[400,361,324,289,256,225,196,169,144,121,100,81,64,49,36,25,16,9,4,1,0,1,4,9,16,25,36,49,64,81,100,121,144,169,196,225,256,289,324,361,400]}},\"id\":\"f12b74e4-32fb-44e2-a89f-b2036c16a9a2\",\"type\":\"ColumnDataSource\"},{\"attributes\":{},\"id\":\"9fe5220b-0ac2-417f-8764-1f965de437ea\",\"type\":\"BasicTickFormatter\"},{\"attributes\":{\"below\":[{\"id\":\"347aa2a4-96f8-4f6d-b9ec-51d382d846c8\",\"type\":\"LinearAxis\"}],\"left\":[{\"id\":\"3db374e8-ae75-404e-89b9-aea98801057e\",\"type\":\"LinearAxis\"}],\"plot_height\":300,\"plot_width\":300,\"renderers\":[{\"id\":\"347aa2a4-96f8-4f6d-b9ec-51d382d846c8\",\"type\":\"LinearAxis\"},{\"id\":\"e96a315d-e216-487b-b14e-6a7a3e73dd61\",\"type\":\"Grid\"},{\"id\":\"3db374e8-ae75-404e-89b9-aea98801057e\",\"type\":\"LinearAxis\"},{\"id\":\"3eb7f890-b5cd-4b17-b682-f06b59ad6f16\",\"type\":\"Grid\"},{\"id\":\"6e89e6af-3212-49c9-9d29-09640b45bc9b\",\"type\":\"BoxAnnotation\"},{\"id\":\"fffecbbf-8380-436e-b77b-c5723fe62f8a\",\"type\":\"PolyAnnotation\"},{\"id\":\"3564a908-fa8b-40d0-9b25-13e388d9007b\",\"type\":\"GlyphRenderer\"}],\"title\":{\"id\":\"1c21c8f5-f82a-4495-a0f7-6b3ba3312205\",\"type\":\"Title\"},\"toolbar\":{\"id\":\"749d831a-7517-441b-973b-81398c5c484c\",\"type\":\"Toolbar\"},\"toolbar_location\":null,\"x_range\":{\"id\":\"2b791290-9815-4985-891c-e8ba5c4b1f13\",\"type\":\"DataRange1d\"},\"x_scale\":{\"id\":\"26b6a46b-c41c-4a72-b5b0-754b25345ada\",\"type\":\"LinearScale\"},\"y_range\":{\"id\":\"a2a4a7ba-3009-47dd-bdfb-9d2019bd662d\",\"type\":\"DataRange1d\"},\"y_scale\":{\"id\":\"0af4200a-f94d-4af9-8e71-413f3dc1f350\",\"type\":\"LinearScale\"}},\"id\":\"980aeb5c-82cf-4018-b435-594cdaabeb3f\",\"subtype\":\"Figure\",\"type\":\"Plot\"},{\"attributes\":{\"dimension\":1,\"plot\":{\"id\":\"980aeb5c-82cf-4018-b435-594cdaabeb3f\",\"subtype\":\"Figure\",\"type\":\"Plot\"},\"ticker\":{\"id\":\"54b7394d-17b7-4d73-a336-14c9e4920b52\",\"type\":\"BasicTicker\"}},\"id\":\"3eb7f890-b5cd-4b17-b682-f06b59ad6f16\",\"type\":\"Grid\"},{\"attributes\":{},\"id\":\"26b6a46b-c41c-4a72-b5b0-754b25345ada\",\"type\":\"LinearScale\"},{\"attributes\":{\"callback\":null},\"id\":\"2b791290-9815-4985-891c-e8ba5c4b1f13\",\"type\":\"DataRange1d\"},{\"attributes\":{\"plot\":null,\"text\":\"\"},\"id\":\"1c21c8f5-f82a-4495-a0f7-6b3ba3312205\",\"type\":\"Title\"},{\"attributes\":{\"callback\":null},\"id\":\"a2a4a7ba-3009-47dd-bdfb-9d2019bd662d\",\"type\":\"DataRange1d\"},{\"attributes\":{\"children\":[{\"id\":\"81528ea6-ee5d-4a00-8223-6b997e0fe5d0\",\"subtype\":\"Figure\",\"type\":\"Plot\"},{\"id\":\"980aeb5c-82cf-4018-b435-594cdaabeb3f\",\"subtype\":\"Figure\",\"type\":\"Plot\"}]},\"id\":\"abde4be0-e4e4-4075-ad9e-9ededb28cc10\",\"type\":\"Row\"},{\"attributes\":{},\"id\":\"c925c481-ca58-4f74-a83c-94016a4ab9d9\",\"type\":\"BasicTicker\"},{\"attributes\":{},\"id\":\"0af4200a-f94d-4af9-8e71-413f3dc1f350\",\"type\":\"LinearScale\"},{\"attributes\":{\"formatter\":{\"id\":\"9fe5220b-0ac2-417f-8764-1f965de437ea\",\"type\":\"BasicTickFormatter\"},\"plot\":{\"id\":\"980aeb5c-82cf-4018-b435-594cdaabeb3f\",\"subtype\":\"Figure\",\"type\":\"Plot\"},\"ticker\":{\"id\":\"54b7394d-17b7-4d73-a336-14c9e4920b52\",\"type\":\"BasicTicker\"}},\"id\":\"3db374e8-ae75-404e-89b9-aea98801057e\",\"type\":\"LinearAxis\"},{\"attributes\":{\"plot\":{\"id\":\"980aeb5c-82cf-4018-b435-594cdaabeb3f\",\"subtype\":\"Figure\",\"type\":\"Plot\"},\"ticker\":{\"id\":\"6c13e5d5-9579-40db-9f5f-ed860ebc8fe7\",\"type\":\"BasicTicker\"}},\"id\":\"e96a315d-e216-487b-b14e-6a7a3e73dd61\",\"type\":\"Grid\"},{\"attributes\":{},\"id\":\"81f05963-cd63-4a69-9411-188dba57846d\",\"type\":\"BasicTickFormatter\"},{\"attributes\":{\"formatter\":{\"id\":\"81f05963-cd63-4a69-9411-188dba57846d\",\"type\":\"BasicTickFormatter\"},\"plot\":{\"id\":\"980aeb5c-82cf-4018-b435-594cdaabeb3f\",\"subtype\":\"Figure\",\"type\":\"Plot\"},\"ticker\":{\"id\":\"6c13e5d5-9579-40db-9f5f-ed860ebc8fe7\",\"type\":\"BasicTicker\"}},\"id\":\"347aa2a4-96f8-4f6d-b9ec-51d382d846c8\",\"type\":\"LinearAxis\"},{\"attributes\":{\"formatter\":{\"id\":\"0e647d5d-85e6-4b91-b7d7-e31732820ec5\",\"type\":\"BasicTickFormatter\"},\"plot\":{\"id\":\"81528ea6-ee5d-4a00-8223-6b997e0fe5d0\",\"subtype\":\"Figure\",\"type\":\"Plot\"},\"ticker\":{\"id\":\"c925c481-ca58-4f74-a83c-94016a4ab9d9\",\"type\":\"BasicTicker\"}},\"id\":\"d8d0e9fa-6196-4c9f-bee5-b3cab85e0732\",\"type\":\"LinearAxis\"},{\"attributes\":{},\"id\":\"6c13e5d5-9579-40db-9f5f-ed860ebc8fe7\",\"type\":\"BasicTicker\"},{\"attributes\":{\"tools\":[{\"id\":\"8b7c0417-8d16-41d2-a322-9ca96b1c7b4e\",\"type\":\"BoxSelectTool\"},{\"id\":\"06cb0a4b-dbc7-436d-be05-f7293128e38b\",\"type\":\"LassoSelectTool\"},{\"id\":\"6d60955b-d530-48ea-9559-81293285f726\",\"type\":\"HelpTool\"},{\"id\":\"e95d68e4-405c-40be-bf05-16c1a7eafc6e\",\"type\":\"BoxSelectTool\"},{\"id\":\"a2953f2c-6989-4a33-924e-a4807366f923\",\"type\":\"LassoSelectTool\"},{\"id\":\"baee08ae-efb7-4459-b9d6-ac9fe753bb8f\",\"type\":\"HelpTool\"}]},\"id\":\"c9131346-e4a7-4f7a-876a-634a80e193e4\",\"type\":\"ProxyToolbar\"},{\"attributes\":{\"bottom_units\":\"screen\",\"fill_alpha\":{\"value\":0.5},\"fill_color\":{\"value\":\"lightgrey\"},\"left_units\":\"screen\",\"level\":\"overlay\",\"line_alpha\":{\"value\":1.0},\"line_color\":{\"value\":\"black\"},\"line_dash\":[4,4],\"line_width\":{\"value\":2},\"plot\":null,\"render_mode\":\"css\",\"right_units\":\"screen\",\"top_units\":\"screen\"},\"id\":\"6e89e6af-3212-49c9-9d29-09640b45bc9b\",\"type\":\"BoxAnnotation\"},{\"attributes\":{\"callback\":null,\"overlay\":{\"id\":\"6e89e6af-3212-49c9-9d29-09640b45bc9b\",\"type\":\"BoxAnnotation\"},\"renderers\":[{\"id\":\"3564a908-fa8b-40d0-9b25-13e388d9007b\",\"type\":\"GlyphRenderer\"}]},\"id\":\"e95d68e4-405c-40be-bf05-16c1a7eafc6e\",\"type\":\"BoxSelectTool\"},{\"attributes\":{\"bottom_units\":\"screen\",\"fill_alpha\":{\"value\":0.5},\"fill_color\":{\"value\":\"lightgrey\"},\"left_units\":\"screen\",\"level\":\"overlay\",\"line_alpha\":{\"value\":1.0},\"line_color\":{\"value\":\"black\"},\"line_dash\":[4,4],\"line_width\":{\"value\":2},\"plot\":null,\"render_mode\":\"css\",\"right_units\":\"screen\",\"top_units\":\"screen\"},\"id\":\"d788b166-193b-4600-bf8a-2a7126dde40f\",\"type\":\"BoxAnnotation\"},{\"attributes\":{\"fill_alpha\":{\"value\":0.1},\"fill_color\":{\"value\":\"#1f77b4\"},\"line_alpha\":{\"value\":0.1},\"line_color\":{\"value\":\"#1f77b4\"},\"x\":{\"field\":\"x\"},\"y\":{\"field\":\"y1\"}},\"id\":\"0d20158a-0bb8-4229-b37c-76b97d448256\",\"type\":\"Circle\"},{\"attributes\":{\"dimension\":1,\"plot\":{\"id\":\"81528ea6-ee5d-4a00-8223-6b997e0fe5d0\",\"subtype\":\"Figure\",\"type\":\"Plot\"},\"ticker\":{\"id\":\"b045753e-c9bb-452a-8fa1-af4000fa867a\",\"type\":\"BasicTicker\"}},\"id\":\"e8deaf29-49d5-4279-84f6-52bb2d24b7bc\",\"type\":\"Grid\"},{\"attributes\":{\"callback\":null,\"overlay\":{\"id\":\"fffecbbf-8380-436e-b77b-c5723fe62f8a\",\"type\":\"PolyAnnotation\"}},\"id\":\"a2953f2c-6989-4a33-924e-a4807366f923\",\"type\":\"LassoSelectTool\"},{\"attributes\":{},\"id\":\"baee08ae-efb7-4459-b9d6-ac9fe753bb8f\",\"type\":\"HelpTool\"},{\"attributes\":{\"formatter\":{\"id\":\"736d13c9-879e-4ce4-b62c-d3e72932f31f\",\"type\":\"BasicTickFormatter\"},\"plot\":{\"id\":\"81528ea6-ee5d-4a00-8223-6b997e0fe5d0\",\"subtype\":\"Figure\",\"type\":\"Plot\"},\"ticker\":{\"id\":\"b045753e-c9bb-452a-8fa1-af4000fa867a\",\"type\":\"BasicTicker\"}},\"id\":\"da06c89e-24c7-4ccd-9d54-fc2e2e165280\",\"type\":\"LinearAxis\"},{\"attributes\":{\"callback\":null,\"overlay\":{\"id\":\"d788b166-193b-4600-bf8a-2a7126dde40f\",\"type\":\"BoxAnnotation\"},\"renderers\":[{\"id\":\"6cdaccc0-4a66-462d-aee3-d102c9a08790\",\"type\":\"GlyphRenderer\"}]},\"id\":\"8b7c0417-8d16-41d2-a322-9ca96b1c7b4e\",\"type\":\"BoxSelectTool\"},{\"attributes\":{\"children\":[{\"id\":\"abde4be0-e4e4-4075-ad9e-9ededb28cc10\",\"type\":\"Row\"}]},\"id\":\"2de422d8-a1de-42d8-a316-ad4a08e8108e\",\"type\":\"Column\"},{\"attributes\":{\"fill_alpha\":{\"value\":0.1},\"fill_color\":{\"value\":\"#1f77b4\"},\"line_alpha\":{\"value\":0.1},\"line_color\":{\"value\":\"#1f77b4\"},\"x\":{\"field\":\"x\"},\"y\":{\"field\":\"y0\"}},\"id\":\"16954ac3-ec40-48e2-9871-529a429c351c\",\"type\":\"Circle\"},{\"attributes\":{\"source\":{\"id\":\"f12b74e4-32fb-44e2-a89f-b2036c16a9a2\",\"type\":\"ColumnDataSource\"}},\"id\":\"15e4364d-e04a-49e8-8c41-8f03017d86c5\",\"type\":\"CDSView\"},{\"attributes\":{\"toolbar\":{\"id\":\"c9131346-e4a7-4f7a-876a-634a80e193e4\",\"type\":\"ProxyToolbar\"},\"toolbar_location\":\"above\"},\"id\":\"bad1a776-31fc-4d2f-9b7c-da004743ce4f\",\"type\":\"ToolbarBox\"},{\"attributes\":{\"callback\":null},\"id\":\"b0b8ef6f-c45b-457b-841e-472b6b3f75d6\",\"type\":\"DataRange1d\"},{\"attributes\":{\"fill_alpha\":{\"value\":0.5},\"fill_color\":{\"value\":\"lightgrey\"},\"level\":\"overlay\",\"line_alpha\":{\"value\":1.0},\"line_color\":{\"value\":\"black\"},\"line_dash\":[4,4],\"line_width\":{\"value\":2},\"plot\":null,\"xs_units\":\"screen\",\"ys_units\":\"screen\"},\"id\":\"fffecbbf-8380-436e-b77b-c5723fe62f8a\",\"type\":\"PolyAnnotation\"},{\"attributes\":{\"plot\":{\"id\":\"81528ea6-ee5d-4a00-8223-6b997e0fe5d0\",\"subtype\":\"Figure\",\"type\":\"Plot\"},\"ticker\":{\"id\":\"c925c481-ca58-4f74-a83c-94016a4ab9d9\",\"type\":\"BasicTicker\"}},\"id\":\"aef5f31c-ec73-4911-a30c-eeeb3035ff79\",\"type\":\"Grid\"},{\"attributes\":{\"data_source\":{\"id\":\"f12b74e4-32fb-44e2-a89f-b2036c16a9a2\",\"type\":\"ColumnDataSource\"},\"glyph\":{\"id\":\"3ea75703-5805-4a94-b1e4-576bf0557470\",\"type\":\"Circle\"},\"hover_glyph\":null,\"muted_glyph\":null,\"nonselection_glyph\":{\"id\":\"0d20158a-0bb8-4229-b37c-76b97d448256\",\"type\":\"Circle\"},\"selection_glyph\":null,\"view\":{\"id\":\"15e4364d-e04a-49e8-8c41-8f03017d86c5\",\"type\":\"CDSView\"}},\"id\":\"3564a908-fa8b-40d0-9b25-13e388d9007b\",\"type\":\"GlyphRenderer\"}],\"root_ids\":[\"337d877a-fbf7-4b11-b1c3-6aac42756ee6\"]},\"title\":\"Bokeh Application\",\"version\":\"0.12.13\"}};\n",
       "  var render_items = [{\"docid\":\"b17314ce-f6f2-42cb-81cd-295a97da20de\",\"elementid\":\"9f587e5d-5618-418a-9bb0-103226f88a7b\",\"modelid\":\"337d877a-fbf7-4b11-b1c3-6aac42756ee6\"}];\n",
       "  root.Bokeh.embed.embed_items_notebook(docs_json, render_items);\n",
       "\n",
       "  }\n",
       "  if (root.Bokeh !== undefined) {\n",
       "    embed_document(root);\n",
       "  } else {\n",
       "    var attempts = 0;\n",
       "    var timer = setInterval(function(root) {\n",
       "      if (root.Bokeh !== undefined) {\n",
       "        embed_document(root);\n",
       "        clearInterval(timer);\n",
       "      }\n",
       "      attempts++;\n",
       "      if (attempts > 100) {\n",
       "        console.log(\"Bokeh: ERROR: Unable to run BokehJS code because BokehJS library is missing\")\n",
       "        clearInterval(timer);\n",
       "      }\n",
       "    }, 10, root)\n",
       "  }\n",
       "})(window);"
      ],
      "application/vnd.bokehjs_exec.v0+json": ""
     },
     "metadata": {
      "application/vnd.bokehjs_exec.v0+json": {
       "id": "337d877a-fbf7-4b11-b1c3-6aac42756ee6"
      }
     },
     "output_type": "display_data"
    }
   ],
   "source": [
    "from bokeh.models import ColumnDataSource\n",
    "\n",
    "x = list(range(-20, 21))\n",
    "y0, y1 = [abs(xx) for xx in x], [xx**2 for xx in x]\n",
    "\n",
    "# create a column data source for the plots to share\n",
    "source = ColumnDataSource(data=dict(x=x, y0=y0, y1=y1))\n",
    "\n",
    "TOOLS = \"box_select,lasso_select,help\"\n",
    "\n",
    "# create a new plot and add a renderer\n",
    "left = figure(tools=TOOLS, width=300, height=300)\n",
    "left.circle('x', 'y0', source=source)\n",
    "\n",
    "# create another new plot and add a renderer\n",
    "right = figure(tools=TOOLS, width=300, height=300)\n",
    "right.circle('x', 'y1', source=source)\n",
    "\n",
    "p = gridplot([[left, right]])\n",
    "\n",
    "show(p)"
   ]
  },
  {
   "cell_type": "code",
   "execution_count": 6,
   "metadata": {
    "collapsed": true
   },
   "outputs": [],
   "source": [
    "# EXERCISE: create two plots in a gridplot, and link their data sources\n",
    "\n"
   ]
  },
  {
   "cell_type": "markdown",
   "metadata": {},
   "source": [
    "# Hover Tools\n",
    "\n",
    "Bokeh has a Hover Tool that allows additional information to be displayed in a popup whenever the user hovers over a specific glyph. Basic hover tool configuration amounts to providing a list of ``(name, format)`` tuples. The full details can be found in the User's Guide [here](http://bokeh.pydata.org/en/latest/docs/user_guide/tools.html#hovertool).\n",
    "\n",
    "The example below shows some basic usage of the Hover tool with a circle glyph, using hover information defined in utils.py:"
   ]
  },
  {
   "cell_type": "code",
   "execution_count": 7,
   "metadata": {},
   "outputs": [
    {
     "data": {
      "text/html": [
       "\n",
       "<div class=\"bk-root\">\n",
       "    <div class=\"bk-plotdiv\" id=\"6c59c5b4-e117-41b6-8c20-64a9cfde0c4f\"></div>\n",
       "</div>"
      ]
     },
     "metadata": {},
     "output_type": "display_data"
    },
    {
     "data": {
      "application/javascript": [
       "(function(root) {\n",
       "  function embed_document(root) {\n",
       "    \n",
       "  var docs_json = {\"49ea0eb7-b900-4dbe-a67c-5984b22743aa\":{\"roots\":{\"references\":[{\"attributes\":{\"callback\":null},\"id\":\"41152f70-2ce3-40f8-895a-9d307e898011\",\"type\":\"DataRange1d\"},{\"attributes\":{},\"id\":\"199da5bd-5c00-403b-90a1-b620384fe22b\",\"type\":\"BasicTicker\"},{\"attributes\":{\"formatter\":{\"id\":\"a259645d-46c4-43f7-a8b2-fddce5e7c9fb\",\"type\":\"BasicTickFormatter\"},\"plot\":{\"id\":\"4e58f634-aa9c-4a7a-a888-04ea4759530b\",\"subtype\":\"Figure\",\"type\":\"Plot\"},\"ticker\":{\"id\":\"199da5bd-5c00-403b-90a1-b620384fe22b\",\"type\":\"BasicTicker\"}},\"id\":\"50ee6f12-cf5e-40cc-8be4-611424f94a42\",\"type\":\"LinearAxis\"},{\"attributes\":{},\"id\":\"c5ddfbdf-e136-48a1-85d0-5e6e3fa0fe7e\",\"type\":\"LinearScale\"},{\"attributes\":{\"dimension\":1,\"plot\":{\"id\":\"4e58f634-aa9c-4a7a-a888-04ea4759530b\",\"subtype\":\"Figure\",\"type\":\"Plot\"},\"ticker\":{\"id\":\"61f3c326-53f1-4af7-bb5c-eb6fb3712b58\",\"type\":\"BasicTicker\"}},\"id\":\"580817fe-a57c-49e3-a51c-651faeeb41fb\",\"type\":\"Grid\"},{\"attributes\":{},\"id\":\"61f3c326-53f1-4af7-bb5c-eb6fb3712b58\",\"type\":\"BasicTicker\"},{\"attributes\":{\"callback\":null},\"id\":\"798ace56-5425-4ea0-a1e8-ed2efb13408f\",\"type\":\"DataRange1d\"},{\"attributes\":{\"formatter\":{\"id\":\"39e2a2aa-7ee1-4a91-9eb1-1351a77e7ee6\",\"type\":\"BasicTickFormatter\"},\"plot\":{\"id\":\"4e58f634-aa9c-4a7a-a888-04ea4759530b\",\"subtype\":\"Figure\",\"type\":\"Plot\"},\"ticker\":{\"id\":\"61f3c326-53f1-4af7-bb5c-eb6fb3712b58\",\"type\":\"BasicTicker\"}},\"id\":\"79ed4c7a-c6dd-434c-a4f6-00eab8ab2afb\",\"type\":\"LinearAxis\"},{\"attributes\":{\"fill_alpha\":{\"value\":0.1},\"fill_color\":{\"value\":\"#1f77b4\"},\"line_alpha\":{\"value\":0.1},\"line_color\":{\"value\":\"#1f77b4\"},\"size\":{\"units\":\"screen\",\"value\":20},\"x\":{\"field\":\"x\"},\"y\":{\"field\":\"y\"}},\"id\":\"4b80f08e-7bdc-49ea-a44a-75020c54e11c\",\"type\":\"Circle\"},{\"attributes\":{\"fill_color\":{\"value\":\"#1f77b4\"},\"line_color\":{\"value\":\"#1f77b4\"},\"size\":{\"units\":\"screen\",\"value\":20},\"x\":{\"field\":\"x\"},\"y\":{\"field\":\"y\"}},\"id\":\"a58d04eb-ca9b-4810-b3d5-a415cc6d2760\",\"type\":\"Circle\"},{\"attributes\":{\"plot\":{\"id\":\"4e58f634-aa9c-4a7a-a888-04ea4759530b\",\"subtype\":\"Figure\",\"type\":\"Plot\"},\"ticker\":{\"id\":\"199da5bd-5c00-403b-90a1-b620384fe22b\",\"type\":\"BasicTicker\"}},\"id\":\"90891969-8227-42e0-a19e-66d704588302\",\"type\":\"Grid\"},{\"attributes\":{\"data_source\":{\"id\":\"41db7b5a-17f7-402b-9840-d0b113a538d8\",\"type\":\"ColumnDataSource\"},\"glyph\":{\"id\":\"a58d04eb-ca9b-4810-b3d5-a415cc6d2760\",\"type\":\"Circle\"},\"hover_glyph\":null,\"muted_glyph\":null,\"nonselection_glyph\":{\"id\":\"4b80f08e-7bdc-49ea-a44a-75020c54e11c\",\"type\":\"Circle\"},\"selection_glyph\":null,\"view\":{\"id\":\"84561665-6362-4b0d-8663-f3971bc8e0a4\",\"type\":\"CDSView\"}},\"id\":\"4be72b09-f444-4c83-8eda-a81356dddab6\",\"type\":\"GlyphRenderer\"},{\"attributes\":{\"source\":{\"id\":\"41db7b5a-17f7-402b-9840-d0b113a538d8\",\"type\":\"ColumnDataSource\"}},\"id\":\"84561665-6362-4b0d-8663-f3971bc8e0a4\",\"type\":\"CDSView\"},{\"attributes\":{\"active_drag\":\"auto\",\"active_inspect\":\"auto\",\"active_scroll\":\"auto\",\"active_tap\":\"auto\",\"tools\":[{\"id\":\"fe49b8d4-7c3c-4f2b-9725-2419dbec7eb9\",\"type\":\"HoverTool\"}]},\"id\":\"f36c2439-341f-40c0-9162-9d76021403ad\",\"type\":\"Toolbar\"},{\"attributes\":{},\"id\":\"39e2a2aa-7ee1-4a91-9eb1-1351a77e7ee6\",\"type\":\"BasicTickFormatter\"},{\"attributes\":{\"callback\":null,\"tooltips\":[[\"index\",\"$index\"],[\"(x,y)\",\"($x, $y)\"],[\"desc\",\"@desc\"]]},\"id\":\"fe49b8d4-7c3c-4f2b-9725-2419dbec7eb9\",\"type\":\"HoverTool\"},{\"attributes\":{\"below\":[{\"id\":\"50ee6f12-cf5e-40cc-8be4-611424f94a42\",\"type\":\"LinearAxis\"}],\"left\":[{\"id\":\"79ed4c7a-c6dd-434c-a4f6-00eab8ab2afb\",\"type\":\"LinearAxis\"}],\"plot_height\":300,\"plot_width\":300,\"renderers\":[{\"id\":\"50ee6f12-cf5e-40cc-8be4-611424f94a42\",\"type\":\"LinearAxis\"},{\"id\":\"90891969-8227-42e0-a19e-66d704588302\",\"type\":\"Grid\"},{\"id\":\"79ed4c7a-c6dd-434c-a4f6-00eab8ab2afb\",\"type\":\"LinearAxis\"},{\"id\":\"580817fe-a57c-49e3-a51c-651faeeb41fb\",\"type\":\"Grid\"},{\"id\":\"4be72b09-f444-4c83-8eda-a81356dddab6\",\"type\":\"GlyphRenderer\"}],\"title\":{\"id\":\"b47d5aca-97df-40d0-b569-6de55dd63917\",\"type\":\"Title\"},\"toolbar\":{\"id\":\"f36c2439-341f-40c0-9162-9d76021403ad\",\"type\":\"Toolbar\"},\"x_range\":{\"id\":\"798ace56-5425-4ea0-a1e8-ed2efb13408f\",\"type\":\"DataRange1d\"},\"x_scale\":{\"id\":\"c5ddfbdf-e136-48a1-85d0-5e6e3fa0fe7e\",\"type\":\"LinearScale\"},\"y_range\":{\"id\":\"41152f70-2ce3-40f8-895a-9d307e898011\",\"type\":\"DataRange1d\"},\"y_scale\":{\"id\":\"26b2f9a4-2fe6-4409-9a0d-77482fbabbba\",\"type\":\"LinearScale\"}},\"id\":\"4e58f634-aa9c-4a7a-a888-04ea4759530b\",\"subtype\":\"Figure\",\"type\":\"Plot\"},{\"attributes\":{\"plot\":null,\"text\":\"Mouse over the dots\"},\"id\":\"b47d5aca-97df-40d0-b569-6de55dd63917\",\"type\":\"Title\"},{\"attributes\":{},\"id\":\"a259645d-46c4-43f7-a8b2-fddce5e7c9fb\",\"type\":\"BasicTickFormatter\"},{\"attributes\":{},\"id\":\"26b2f9a4-2fe6-4409-9a0d-77482fbabbba\",\"type\":\"LinearScale\"},{\"attributes\":{\"callback\":null,\"column_names\":[\"x\",\"y\",\"desc\"],\"data\":{\"desc\":[\"A\",\"b\",\"C\",\"d\",\"E\"],\"x\":[1,2,3,4,5],\"y\":[2,5,8,2,7]}},\"id\":\"41db7b5a-17f7-402b-9840-d0b113a538d8\",\"type\":\"ColumnDataSource\"}],\"root_ids\":[\"4e58f634-aa9c-4a7a-a888-04ea4759530b\"]},\"title\":\"Bokeh Application\",\"version\":\"0.12.13\"}};\n",
       "  var render_items = [{\"docid\":\"49ea0eb7-b900-4dbe-a67c-5984b22743aa\",\"elementid\":\"6c59c5b4-e117-41b6-8c20-64a9cfde0c4f\",\"modelid\":\"4e58f634-aa9c-4a7a-a888-04ea4759530b\"}];\n",
       "  root.Bokeh.embed.embed_items_notebook(docs_json, render_items);\n",
       "\n",
       "  }\n",
       "  if (root.Bokeh !== undefined) {\n",
       "    embed_document(root);\n",
       "  } else {\n",
       "    var attempts = 0;\n",
       "    var timer = setInterval(function(root) {\n",
       "      if (root.Bokeh !== undefined) {\n",
       "        embed_document(root);\n",
       "        clearInterval(timer);\n",
       "      }\n",
       "      attempts++;\n",
       "      if (attempts > 100) {\n",
       "        console.log(\"Bokeh: ERROR: Unable to run BokehJS code because BokehJS library is missing\")\n",
       "        clearInterval(timer);\n",
       "      }\n",
       "    }, 10, root)\n",
       "  }\n",
       "})(window);"
      ],
      "application/vnd.bokehjs_exec.v0+json": ""
     },
     "metadata": {
      "application/vnd.bokehjs_exec.v0+json": {
       "id": "4e58f634-aa9c-4a7a-a888-04ea4759530b"
      }
     },
     "output_type": "display_data"
    }
   ],
   "source": [
    "from bokeh.models import HoverTool\n",
    "\n",
    "source = ColumnDataSource(\n",
    "        data=dict(\n",
    "            x=[1, 2, 3, 4, 5],\n",
    "            y=[2, 5, 8, 2, 7],\n",
    "            desc=['A', 'b', 'C', 'd', 'E'],\n",
    "        )\n",
    "    )\n",
    "\n",
    "hover = HoverTool(\n",
    "        tooltips=[\n",
    "            (\"index\", \"$index\"),\n",
    "            (\"(x,y)\", \"($x, $y)\"),\n",
    "            (\"desc\", \"@desc\"),\n",
    "        ]\n",
    "    )\n",
    "\n",
    "p = figure(plot_width=300, plot_height=300, tools=[hover], title=\"Mouse over the dots\")\n",
    "\n",
    "p.circle('x', 'y', size=20, source=source)\n",
    "\n",
    "show(p)"
   ]
  },
  {
   "cell_type": "markdown",
   "metadata": {},
   "source": [
    "# Widgets"
   ]
  },
  {
   "cell_type": "markdown",
   "metadata": {},
   "source": [
    "Bokeh supports direct integration with a small basic widget set. Thse can be used in conjunction with a Bokeh Server, or with ``CustomJS`` models to add more interactive capability to your documents. You can see a complete list, with example code in the [Adding Widgets](http://bokeh.pydata.org/en/latest/docs/user_guide/interaction.html#adding-widgets) section of the User's Guide. \n",
    "\n",
    "To use the widgets, include them in a layout like you would a plot object:"
   ]
  },
  {
   "cell_type": "code",
   "execution_count": 8,
   "metadata": {},
   "outputs": [
    {
     "data": {
      "text/html": [
       "\n",
       "<div class=\"bk-root\">\n",
       "    <div class=\"bk-plotdiv\" id=\"6f9ead4c-d0f8-465e-ac82-4e0d91bdd8eb\"></div>\n",
       "</div>"
      ]
     },
     "metadata": {},
     "output_type": "display_data"
    },
    {
     "data": {
      "application/javascript": [
       "(function(root) {\n",
       "  function embed_document(root) {\n",
       "    \n",
       "  var docs_json = {\"457337ac-1b1c-4de4-88b4-6fc55ed277cb\":{\"roots\":{\"references\":[{\"attributes\":{\"children\":[{\"id\":\"0a6602a4-da2b-43e6-9140-40757805e919\",\"type\":\"Slider\"}]},\"id\":\"4f5826a8-6bf2-4845-b220-8057fcb69ded\",\"type\":\"WidgetBox\"},{\"attributes\":{\"callback\":null,\"end\":10,\"start\":0,\"step\":0.1,\"title\":\"foo\",\"value\":1},\"id\":\"0a6602a4-da2b-43e6-9140-40757805e919\",\"type\":\"Slider\"}],\"root_ids\":[\"4f5826a8-6bf2-4845-b220-8057fcb69ded\"]},\"title\":\"Bokeh Application\",\"version\":\"0.12.13\"}};\n",
       "  var render_items = [{\"docid\":\"457337ac-1b1c-4de4-88b4-6fc55ed277cb\",\"elementid\":\"6f9ead4c-d0f8-465e-ac82-4e0d91bdd8eb\",\"modelid\":\"4f5826a8-6bf2-4845-b220-8057fcb69ded\"}];\n",
       "  root.Bokeh.embed.embed_items_notebook(docs_json, render_items);\n",
       "\n",
       "  }\n",
       "  if (root.Bokeh !== undefined) {\n",
       "    embed_document(root);\n",
       "  } else {\n",
       "    var attempts = 0;\n",
       "    var timer = setInterval(function(root) {\n",
       "      if (root.Bokeh !== undefined) {\n",
       "        embed_document(root);\n",
       "        clearInterval(timer);\n",
       "      }\n",
       "      attempts++;\n",
       "      if (attempts > 100) {\n",
       "        console.log(\"Bokeh: ERROR: Unable to run BokehJS code because BokehJS library is missing\")\n",
       "        clearInterval(timer);\n",
       "      }\n",
       "    }, 10, root)\n",
       "  }\n",
       "})(window);"
      ],
      "application/vnd.bokehjs_exec.v0+json": ""
     },
     "metadata": {
      "application/vnd.bokehjs_exec.v0+json": {
       "id": "4f5826a8-6bf2-4845-b220-8057fcb69ded"
      }
     },
     "output_type": "display_data"
    }
   ],
   "source": [
    "from bokeh.layouts import widgetbox\n",
    "from bokeh.models.widgets import Slider\n",
    "\n",
    "\n",
    "slider = Slider(start=0, end=10, value=1, step=.1, title=\"foo\")\n",
    "\n",
    "show(widgetbox(slider))"
   ]
  },
  {
   "cell_type": "code",
   "execution_count": 9,
   "metadata": {
    "collapsed": true
   },
   "outputs": [],
   "source": [
    "# EXERCISE: create and show a Select widget \n"
   ]
  },
  {
   "cell_type": "markdown",
   "metadata": {},
   "source": [
    "# CustomJS Callbacks"
   ]
  },
  {
   "cell_type": "code",
   "execution_count": 10,
   "metadata": {},
   "outputs": [
    {
     "data": {
      "text/html": [
       "\n",
       "<div class=\"bk-root\">\n",
       "    <div class=\"bk-plotdiv\" id=\"dcd3fc04-7dbd-40d5-b13c-f000a3e4706d\"></div>\n",
       "</div>"
      ]
     },
     "metadata": {},
     "output_type": "display_data"
    },
    {
     "data": {
      "application/javascript": [
       "(function(root) {\n",
       "  function embed_document(root) {\n",
       "    \n",
       "  var docs_json = {\"08b84349-cf6c-4ac5-9556-14396ff47600\":{\"roots\":{\"references\":[{\"attributes\":{},\"id\":\"4ba1a6f7-9813-420c-b02f-faeb04814740\",\"type\":\"BasicTickFormatter\"},{\"attributes\":{\"callback\":null,\"column_names\":[\"x\",\"y\"],\"data\":{\"x\":[1,2,3,4,5],\"y\":[2,5,8,2,7]}},\"id\":\"24cd1a03-a8c8-4098-983c-450947dfd1f6\",\"type\":\"ColumnDataSource\"},{\"attributes\":{\"dimension\":1,\"plot\":{\"id\":\"bc81a76a-8e41-405b-b080-c30ef783b3d6\",\"subtype\":\"Figure\",\"type\":\"Plot\"},\"ticker\":{\"id\":\"d031c327-2764-4207-91b8-7742e8d7c84c\",\"type\":\"BasicTicker\"}},\"id\":\"dc6bc9de-ccec-4a26-b27b-c29e4c1ad5ac\",\"type\":\"Grid\"},{\"attributes\":{},\"id\":\"d031c327-2764-4207-91b8-7742e8d7c84c\",\"type\":\"BasicTicker\"},{\"attributes\":{\"callback\":{\"id\":\"e142d1fd-fce9-4ae8-9bb5-cf9045695902\",\"type\":\"CustomJS\"}},\"id\":\"b42d5293-c3ab-4a2a-b54d-dbf649a01822\",\"type\":\"TapTool\"},{\"attributes\":{\"fill_alpha\":{\"value\":0.1},\"fill_color\":{\"value\":\"#1f77b4\"},\"line_alpha\":{\"value\":0.1},\"line_color\":{\"value\":\"#1f77b4\"},\"size\":{\"units\":\"screen\",\"value\":20},\"x\":{\"field\":\"x\"},\"y\":{\"field\":\"y\"}},\"id\":\"848ef837-95ca-46a6-8c34-f9164671843d\",\"type\":\"Circle\"},{\"attributes\":{\"source\":{\"id\":\"24cd1a03-a8c8-4098-983c-450947dfd1f6\",\"type\":\"ColumnDataSource\"}},\"id\":\"f2a0daef-a25f-457e-bc9e-c0dbd19baf87\",\"type\":\"CDSView\"},{\"attributes\":{\"callback\":null},\"id\":\"0c3da5c2-040d-43d2-bc67-e8263b8d4485\",\"type\":\"DataRange1d\"},{\"attributes\":{},\"id\":\"7a3ab79a-3dde-4995-a24a-fbbeb63d7113\",\"type\":\"BasicTickFormatter\"},{\"attributes\":{},\"id\":\"ddf9c601-feda-4ac4-b907-5c50e02a9a4b\",\"type\":\"LinearScale\"},{\"attributes\":{},\"id\":\"1a67a28c-8c41-4b58-abf7-183496b32fa7\",\"type\":\"LinearScale\"},{\"attributes\":{\"fill_color\":{\"value\":\"#1f77b4\"},\"line_color\":{\"value\":\"#1f77b4\"},\"size\":{\"units\":\"screen\",\"value\":20},\"x\":{\"field\":\"x\"},\"y\":{\"field\":\"y\"}},\"id\":\"12a05665-5c08-45ea-af38-3b10b4078e9a\",\"type\":\"Circle\"},{\"attributes\":{\"plot\":null,\"text\":\"\"},\"id\":\"d1affb67-819c-4ad4-83da-f80939214202\",\"type\":\"Title\"},{\"attributes\":{\"below\":[{\"id\":\"4038e59b-895d-4113-ae92-cd211fdf334f\",\"type\":\"LinearAxis\"}],\"left\":[{\"id\":\"13deefee-8faf-4e60-9ce1-7be70a13379e\",\"type\":\"LinearAxis\"}],\"plot_height\":300,\"renderers\":[{\"id\":\"4038e59b-895d-4113-ae92-cd211fdf334f\",\"type\":\"LinearAxis\"},{\"id\":\"36ba2076-76ee-4e95-9539-b2215e9e2b21\",\"type\":\"Grid\"},{\"id\":\"13deefee-8faf-4e60-9ce1-7be70a13379e\",\"type\":\"LinearAxis\"},{\"id\":\"dc6bc9de-ccec-4a26-b27b-c29e4c1ad5ac\",\"type\":\"Grid\"},{\"id\":\"44bd0f03-1eff-4a62-ba28-339ce89b2aea\",\"type\":\"GlyphRenderer\"}],\"title\":{\"id\":\"d1affb67-819c-4ad4-83da-f80939214202\",\"type\":\"Title\"},\"toolbar\":{\"id\":\"511866f1-475c-4c97-9c78-50df6ba0d96b\",\"type\":\"Toolbar\"},\"x_range\":{\"id\":\"4b3276b3-808a-4765-858f-3313ae89c049\",\"type\":\"DataRange1d\"},\"x_scale\":{\"id\":\"1a67a28c-8c41-4b58-abf7-183496b32fa7\",\"type\":\"LinearScale\"},\"y_range\":{\"id\":\"0c3da5c2-040d-43d2-bc67-e8263b8d4485\",\"type\":\"DataRange1d\"},\"y_scale\":{\"id\":\"ddf9c601-feda-4ac4-b907-5c50e02a9a4b\",\"type\":\"LinearScale\"}},\"id\":\"bc81a76a-8e41-405b-b080-c30ef783b3d6\",\"subtype\":\"Figure\",\"type\":\"Plot\"},{\"attributes\":{\"callback\":null},\"id\":\"4b3276b3-808a-4765-858f-3313ae89c049\",\"type\":\"DataRange1d\"},{\"attributes\":{},\"id\":\"002ad6e5-3741-48bc-93d1-df0d82a708cf\",\"type\":\"BasicTicker\"},{\"attributes\":{\"active_drag\":\"auto\",\"active_inspect\":\"auto\",\"active_scroll\":\"auto\",\"active_tap\":\"auto\",\"tools\":[{\"id\":\"b42d5293-c3ab-4a2a-b54d-dbf649a01822\",\"type\":\"TapTool\"}]},\"id\":\"511866f1-475c-4c97-9c78-50df6ba0d96b\",\"type\":\"Toolbar\"},{\"attributes\":{\"plot\":{\"id\":\"bc81a76a-8e41-405b-b080-c30ef783b3d6\",\"subtype\":\"Figure\",\"type\":\"Plot\"},\"ticker\":{\"id\":\"002ad6e5-3741-48bc-93d1-df0d82a708cf\",\"type\":\"BasicTicker\"}},\"id\":\"36ba2076-76ee-4e95-9539-b2215e9e2b21\",\"type\":\"Grid\"},{\"attributes\":{\"formatter\":{\"id\":\"7a3ab79a-3dde-4995-a24a-fbbeb63d7113\",\"type\":\"BasicTickFormatter\"},\"plot\":{\"id\":\"bc81a76a-8e41-405b-b080-c30ef783b3d6\",\"subtype\":\"Figure\",\"type\":\"Plot\"},\"ticker\":{\"id\":\"002ad6e5-3741-48bc-93d1-df0d82a708cf\",\"type\":\"BasicTicker\"}},\"id\":\"4038e59b-895d-4113-ae92-cd211fdf334f\",\"type\":\"LinearAxis\"},{\"attributes\":{\"code\":\"alert('hello world')\"},\"id\":\"e142d1fd-fce9-4ae8-9bb5-cf9045695902\",\"type\":\"CustomJS\"},{\"attributes\":{\"formatter\":{\"id\":\"4ba1a6f7-9813-420c-b02f-faeb04814740\",\"type\":\"BasicTickFormatter\"},\"plot\":{\"id\":\"bc81a76a-8e41-405b-b080-c30ef783b3d6\",\"subtype\":\"Figure\",\"type\":\"Plot\"},\"ticker\":{\"id\":\"d031c327-2764-4207-91b8-7742e8d7c84c\",\"type\":\"BasicTicker\"}},\"id\":\"13deefee-8faf-4e60-9ce1-7be70a13379e\",\"type\":\"LinearAxis\"},{\"attributes\":{\"data_source\":{\"id\":\"24cd1a03-a8c8-4098-983c-450947dfd1f6\",\"type\":\"ColumnDataSource\"},\"glyph\":{\"id\":\"12a05665-5c08-45ea-af38-3b10b4078e9a\",\"type\":\"Circle\"},\"hover_glyph\":null,\"muted_glyph\":null,\"nonselection_glyph\":{\"id\":\"848ef837-95ca-46a6-8c34-f9164671843d\",\"type\":\"Circle\"},\"selection_glyph\":null,\"view\":{\"id\":\"f2a0daef-a25f-457e-bc9e-c0dbd19baf87\",\"type\":\"CDSView\"}},\"id\":\"44bd0f03-1eff-4a62-ba28-339ce89b2aea\",\"type\":\"GlyphRenderer\"}],\"root_ids\":[\"bc81a76a-8e41-405b-b080-c30ef783b3d6\"]},\"title\":\"Bokeh Application\",\"version\":\"0.12.13\"}};\n",
       "  var render_items = [{\"docid\":\"08b84349-cf6c-4ac5-9556-14396ff47600\",\"elementid\":\"dcd3fc04-7dbd-40d5-b13c-f000a3e4706d\",\"modelid\":\"bc81a76a-8e41-405b-b080-c30ef783b3d6\"}];\n",
       "  root.Bokeh.embed.embed_items_notebook(docs_json, render_items);\n",
       "\n",
       "  }\n",
       "  if (root.Bokeh !== undefined) {\n",
       "    embed_document(root);\n",
       "  } else {\n",
       "    var attempts = 0;\n",
       "    var timer = setInterval(function(root) {\n",
       "      if (root.Bokeh !== undefined) {\n",
       "        embed_document(root);\n",
       "        clearInterval(timer);\n",
       "      }\n",
       "      attempts++;\n",
       "      if (attempts > 100) {\n",
       "        console.log(\"Bokeh: ERROR: Unable to run BokehJS code because BokehJS library is missing\")\n",
       "        clearInterval(timer);\n",
       "      }\n",
       "    }, 10, root)\n",
       "  }\n",
       "})(window);"
      ],
      "application/vnd.bokehjs_exec.v0+json": ""
     },
     "metadata": {
      "application/vnd.bokehjs_exec.v0+json": {
       "id": "bc81a76a-8e41-405b-b080-c30ef783b3d6"
      }
     },
     "output_type": "display_data"
    }
   ],
   "source": [
    "from bokeh.models import TapTool, CustomJS, ColumnDataSource\n",
    "\n",
    "callback = CustomJS(code=\"alert('hello world')\")\n",
    "tap = TapTool(callback=callback)\n",
    "\n",
    "p = figure(plot_width=600, plot_height=300, tools=[tap])\n",
    "\n",
    "p.circle(x=[1, 2, 3, 4, 5], y=[2, 5, 8, 2, 7], size=20)\n",
    "\n",
    "show(p)"
   ]
  },
  {
   "cell_type": "markdown",
   "metadata": {},
   "source": [
    "## Lots of places to add callbacks\n",
    "\n",
    "* Widgets - Button, Toggle, Dropdown, TextInput, AutocompleteInput, Select, Multiselect, Slider, (DateRangeSlider), DatePicker,\n",
    "* Tools - TapTool, BoxSelectTool, HoverTool,\n",
    "* Selection - ColumnDataSource, AjaxDataSource, BlazeDataSource, ServerDataSource\n",
    "* Ranges - Range1d, DataRange1d, FactorRange\n"
   ]
  },
  {
   "cell_type": "markdown",
   "metadata": {},
   "source": [
    "## Callbacks for widgets\n",
    "\n",
    "Widgets that have values associated can have small JavaScript actions attached to them. These actions (also referred to as \"callbacks\") are executed whenever the widget's value is changed. In order to make it easier to refer to specific Bokeh models (e.g., a data source, or a glyhph) from JavaScript, the ``CustomJS`` obejct also accepts a dictionary of \"args\" that map names to Python Bokeh models. The corresponding JavaScript models are made available automaticaly to the ``CustomJS`` code. \n",
    "\n",
    "And example below shows an action attached to a slider that updates a data source whenever the slider is moved:"
   ]
  },
  {
   "cell_type": "code",
   "execution_count": 11,
   "metadata": {},
   "outputs": [
    {
     "data": {
      "text/html": [
       "\n",
       "<div class=\"bk-root\">\n",
       "    <div class=\"bk-plotdiv\" id=\"2e7389ba-3004-4edf-aea2-eb5c7b4b4fdf\"></div>\n",
       "</div>"
      ]
     },
     "metadata": {},
     "output_type": "display_data"
    },
    {
     "data": {
      "application/javascript": [
       "(function(root) {\n",
       "  function embed_document(root) {\n",
       "    \n",
       "  var docs_json = {\"4634a232-145d-4976-98f5-4d16df0e97ad\":{\"roots\":{\"references\":[{\"attributes\":{\"callback\":null,\"end\":6,\"js_property_callbacks\":{\"change:value\":[{\"id\":\"1dd819bf-3d92-4b0e-99fb-e25f5d6995e7\",\"type\":\"CustomJS\"}]},\"start\":0.1,\"step\":0.1,\"title\":\"power\",\"value\":1},\"id\":\"7bd45555-d24d-4d92-baac-20ffd38960dd\",\"type\":\"Slider\"},{\"attributes\":{\"bottom_units\":\"screen\",\"fill_alpha\":{\"value\":0.5},\"fill_color\":{\"value\":\"lightgrey\"},\"left_units\":\"screen\",\"level\":\"overlay\",\"line_alpha\":{\"value\":1.0},\"line_color\":{\"value\":\"black\"},\"line_dash\":[4,4],\"line_width\":{\"value\":2},\"plot\":null,\"render_mode\":\"css\",\"right_units\":\"screen\",\"top_units\":\"screen\"},\"id\":\"ec656962-b5e6-4417-8648-902a5e7de744\",\"type\":\"BoxAnnotation\"},{\"attributes\":{},\"id\":\"ff6238ba-2f0a-4cae-bbc9-b5d20675887d\",\"type\":\"WheelZoomTool\"},{\"attributes\":{},\"id\":\"0106eb96-e9dc-408d-abd5-9aeef519ba28\",\"type\":\"PanTool\"},{\"attributes\":{\"overlay\":{\"id\":\"ec656962-b5e6-4417-8648-902a5e7de744\",\"type\":\"BoxAnnotation\"}},\"id\":\"1a3ca9b5-c1ea-48fc-984e-47a9a4b8335b\",\"type\":\"BoxZoomTool\"},{\"attributes\":{\"active_drag\":\"auto\",\"active_inspect\":\"auto\",\"active_scroll\":\"auto\",\"active_tap\":\"auto\",\"tools\":[{\"id\":\"0106eb96-e9dc-408d-abd5-9aeef519ba28\",\"type\":\"PanTool\"},{\"id\":\"ff6238ba-2f0a-4cae-bbc9-b5d20675887d\",\"type\":\"WheelZoomTool\"},{\"id\":\"1a3ca9b5-c1ea-48fc-984e-47a9a4b8335b\",\"type\":\"BoxZoomTool\"},{\"id\":\"a248031a-f249-4d25-a88c-c97d0d3cc846\",\"type\":\"SaveTool\"},{\"id\":\"d7be1254-b50b-4b20-b40c-f293dd616346\",\"type\":\"ResetTool\"},{\"id\":\"ebdc5762-61c9-45c7-b615-b4f4549a870e\",\"type\":\"HelpTool\"}]},\"id\":\"2186f5b9-009c-47a0-8496-5cdee739623d\",\"type\":\"Toolbar\"},{\"attributes\":{},\"id\":\"a248031a-f249-4d25-a88c-c97d0d3cc846\",\"type\":\"SaveTool\"},{\"attributes\":{\"plot\":{\"id\":\"ea589ddc-979b-4a5c-871d-fcd1e1612f70\",\"subtype\":\"Figure\",\"type\":\"Plot\"},\"ticker\":{\"id\":\"22414230-b630-46df-97dc-57d6ca071464\",\"type\":\"BasicTicker\"}},\"id\":\"44f061fc-52c9-4a44-b021-73f520df492e\",\"type\":\"Grid\"},{\"attributes\":{\"callback\":null},\"id\":\"28997121-3a7a-4c70-a36e-2e437fb568be\",\"type\":\"DataRange1d\"},{\"attributes\":{},\"id\":\"d7be1254-b50b-4b20-b40c-f293dd616346\",\"type\":\"ResetTool\"},{\"attributes\":{},\"id\":\"863a67d9-e2f9-4617-89b9-8e4e8f4991e3\",\"type\":\"BasicTicker\"},{\"attributes\":{},\"id\":\"54643ae4-ec7e-4037-a851-ab6c113ff1f6\",\"type\":\"LinearScale\"},{\"attributes\":{},\"id\":\"ebdc5762-61c9-45c7-b615-b4f4549a870e\",\"type\":\"HelpTool\"},{\"attributes\":{\"line_alpha\":0.6,\"line_color\":\"#1f77b4\",\"line_width\":3,\"x\":{\"field\":\"x\"},\"y\":{\"field\":\"y\"}},\"id\":\"bfe4df3d-06ca-46d9-b890-3791b40ed681\",\"type\":\"Line\"},{\"attributes\":{\"children\":[{\"id\":\"e1d6c93b-1647-4091-8ecb-65a6eec5adf6\",\"type\":\"WidgetBox\"},{\"id\":\"ea589ddc-979b-4a5c-871d-fcd1e1612f70\",\"subtype\":\"Figure\",\"type\":\"Plot\"}]},\"id\":\"1c861b55-3d5d-40f4-9339-c8eafff1e7e2\",\"type\":\"Column\"},{\"attributes\":{},\"id\":\"3e243710-6ef2-417d-88fc-9f0a19ed5f99\",\"type\":\"BasicTickFormatter\"},{\"attributes\":{\"source\":{\"id\":\"b705c6bc-b854-4eb4-84af-e785cee18e06\",\"type\":\"ColumnDataSource\"}},\"id\":\"53bcd648-2825-485e-8e68-7ee5e2fec395\",\"type\":\"CDSView\"},{\"attributes\":{\"dimension\":1,\"plot\":{\"id\":\"ea589ddc-979b-4a5c-871d-fcd1e1612f70\",\"subtype\":\"Figure\",\"type\":\"Plot\"},\"ticker\":{\"id\":\"863a67d9-e2f9-4617-89b9-8e4e8f4991e3\",\"type\":\"BasicTicker\"}},\"id\":\"8e676a51-4e84-4870-802c-5d97c0b049bb\",\"type\":\"Grid\"},{\"attributes\":{\"formatter\":{\"id\":\"3e243710-6ef2-417d-88fc-9f0a19ed5f99\",\"type\":\"BasicTickFormatter\"},\"plot\":{\"id\":\"ea589ddc-979b-4a5c-871d-fcd1e1612f70\",\"subtype\":\"Figure\",\"type\":\"Plot\"},\"ticker\":{\"id\":\"863a67d9-e2f9-4617-89b9-8e4e8f4991e3\",\"type\":\"BasicTicker\"}},\"id\":\"3b5356c3-9676-4777-bab6-8faf3d9ec43c\",\"type\":\"LinearAxis\"},{\"attributes\":{\"below\":[{\"id\":\"7e3351a5-836c-47ad-878c-e227bc0d1906\",\"type\":\"LinearAxis\"}],\"left\":[{\"id\":\"3b5356c3-9676-4777-bab6-8faf3d9ec43c\",\"type\":\"LinearAxis\"}],\"plot_height\":400,\"plot_width\":400,\"renderers\":[{\"id\":\"7e3351a5-836c-47ad-878c-e227bc0d1906\",\"type\":\"LinearAxis\"},{\"id\":\"44f061fc-52c9-4a44-b021-73f520df492e\",\"type\":\"Grid\"},{\"id\":\"3b5356c3-9676-4777-bab6-8faf3d9ec43c\",\"type\":\"LinearAxis\"},{\"id\":\"8e676a51-4e84-4870-802c-5d97c0b049bb\",\"type\":\"Grid\"},{\"id\":\"ec656962-b5e6-4417-8648-902a5e7de744\",\"type\":\"BoxAnnotation\"},{\"id\":\"4943e841-1baf-4b53-b1b3-05515fc39022\",\"type\":\"GlyphRenderer\"}],\"title\":{\"id\":\"8adff74a-2c63-49d4-8241-df4ce8234639\",\"type\":\"Title\"},\"toolbar\":{\"id\":\"2186f5b9-009c-47a0-8496-5cdee739623d\",\"type\":\"Toolbar\"},\"x_range\":{\"id\":\"28997121-3a7a-4c70-a36e-2e437fb568be\",\"type\":\"DataRange1d\"},\"x_scale\":{\"id\":\"54643ae4-ec7e-4037-a851-ab6c113ff1f6\",\"type\":\"LinearScale\"},\"y_range\":{\"id\":\"f00a5ada-0874-404f-bc3f-4f1cc4119601\",\"type\":\"DataRange1d\"},\"y_scale\":{\"id\":\"10c124f0-819c-49f7-b3b8-fd42c346ae07\",\"type\":\"LinearScale\"}},\"id\":\"ea589ddc-979b-4a5c-871d-fcd1e1612f70\",\"subtype\":\"Figure\",\"type\":\"Plot\"},{\"attributes\":{\"args\":{\"slider\":{\"id\":\"7bd45555-d24d-4d92-baac-20ffd38960dd\",\"type\":\"Slider\"},\"source\":{\"id\":\"b705c6bc-b854-4eb4-84af-e785cee18e06\",\"type\":\"ColumnDataSource\"}},\"code\":\"\\n    var data = source.data;\\n    var f = slider.value;\\n    x = data['x']\\n    y = data['y']\\n    for (i = 0; i < x.length; i++) {\\n        y[i] = Math.pow(x[i], f)\\n    }\\n    source.change.emit();\\n\"},\"id\":\"1dd819bf-3d92-4b0e-99fb-e25f5d6995e7\",\"type\":\"CustomJS\"},{\"attributes\":{\"children\":[{\"id\":\"7bd45555-d24d-4d92-baac-20ffd38960dd\",\"type\":\"Slider\"}]},\"id\":\"e1d6c93b-1647-4091-8ecb-65a6eec5adf6\",\"type\":\"WidgetBox\"},{\"attributes\":{\"data_source\":{\"id\":\"b705c6bc-b854-4eb4-84af-e785cee18e06\",\"type\":\"ColumnDataSource\"},\"glyph\":{\"id\":\"bfe4df3d-06ca-46d9-b890-3791b40ed681\",\"type\":\"Line\"},\"hover_glyph\":null,\"muted_glyph\":null,\"nonselection_glyph\":{\"id\":\"9177b8ac-722b-4978-bd91-c5b2380ef358\",\"type\":\"Line\"},\"selection_glyph\":null,\"view\":{\"id\":\"53bcd648-2825-485e-8e68-7ee5e2fec395\",\"type\":\"CDSView\"}},\"id\":\"4943e841-1baf-4b53-b1b3-05515fc39022\",\"type\":\"GlyphRenderer\"},{\"attributes\":{\"formatter\":{\"id\":\"33abd59a-b108-41c0-8721-1c203fe1bedf\",\"type\":\"BasicTickFormatter\"},\"plot\":{\"id\":\"ea589ddc-979b-4a5c-871d-fcd1e1612f70\",\"subtype\":\"Figure\",\"type\":\"Plot\"},\"ticker\":{\"id\":\"22414230-b630-46df-97dc-57d6ca071464\",\"type\":\"BasicTicker\"}},\"id\":\"7e3351a5-836c-47ad-878c-e227bc0d1906\",\"type\":\"LinearAxis\"},{\"attributes\":{\"callback\":null,\"column_names\":[\"x\",\"y\"],\"data\":{\"x\":[0.0,0.005,0.01,0.015,0.02,0.025,0.03,0.035,0.04,0.045,0.05,0.055,0.06,0.065,0.07,0.075,0.08,0.085,0.09,0.095,0.1,0.105,0.11,0.115,0.12,0.125,0.13,0.135,0.14,0.145,0.15,0.155,0.16,0.165,0.17,0.17500000000000002,0.18,0.185,0.19,0.195,0.2,0.20500000000000002,0.21,0.215,0.22,0.225,0.23,0.23500000000000001,0.24,0.245,0.25,0.255,0.26,0.265,0.27,0.275,0.28,0.28500000000000003,0.29,0.295,0.3,0.305,0.31,0.315,0.32,0.325,0.33,0.335,0.34,0.34500000000000003,0.35000000000000003,0.355,0.36,0.365,0.37,0.375,0.38,0.385,0.39,0.395,0.4,0.405,0.41000000000000003,0.41500000000000004,0.42,0.425,0.43,0.435,0.44,0.445,0.45,0.455,0.46,0.465,0.47000000000000003,0.47500000000000003,0.48,0.485,0.49,0.495,0.5,0.505,0.51,0.515,0.52,0.525,0.53,0.535,0.54,0.545,0.55,0.555,0.56,0.5650000000000001,0.5700000000000001,0.5750000000000001,0.58,0.585,0.59,0.595,0.6,0.605,0.61,0.615,0.62,0.625,0.63,0.635,0.64,0.645,0.65,0.655,0.66,0.665,0.67,0.675,0.68,0.685,0.6900000000000001,0.6950000000000001,0.7000000000000001,0.705,0.71,0.715,0.72,0.725,0.73,0.735,0.74,0.745,0.75,0.755,0.76,0.765,0.77,0.775,0.78,0.785,0.79,0.795,0.8,0.805,0.81,0.8150000000000001,0.8200000000000001,0.8250000000000001,0.8300000000000001,0.835,0.84,0.845,0.85,0.855,0.86,0.865,0.87,0.875,0.88,0.885,0.89,0.895,0.9,0.905,0.91,0.915,0.92,0.925,0.93,0.935,0.9400000000000001,0.9450000000000001,0.9500000000000001,0.9550000000000001,0.96,0.965,0.97,0.975,0.98,0.985,0.99,0.995,1.0],\"y\":[0.0,0.005,0.01,0.015,0.02,0.025,0.03,0.035,0.04,0.045,0.05,0.055,0.06,0.065,0.07,0.075,0.08,0.085,0.09,0.095,0.1,0.105,0.11,0.115,0.12,0.125,0.13,0.135,0.14,0.145,0.15,0.155,0.16,0.165,0.17,0.17500000000000002,0.18,0.185,0.19,0.195,0.2,0.20500000000000002,0.21,0.215,0.22,0.225,0.23,0.23500000000000001,0.24,0.245,0.25,0.255,0.26,0.265,0.27,0.275,0.28,0.28500000000000003,0.29,0.295,0.3,0.305,0.31,0.315,0.32,0.325,0.33,0.335,0.34,0.34500000000000003,0.35000000000000003,0.355,0.36,0.365,0.37,0.375,0.38,0.385,0.39,0.395,0.4,0.405,0.41000000000000003,0.41500000000000004,0.42,0.425,0.43,0.435,0.44,0.445,0.45,0.455,0.46,0.465,0.47000000000000003,0.47500000000000003,0.48,0.485,0.49,0.495,0.5,0.505,0.51,0.515,0.52,0.525,0.53,0.535,0.54,0.545,0.55,0.555,0.56,0.5650000000000001,0.5700000000000001,0.5750000000000001,0.58,0.585,0.59,0.595,0.6,0.605,0.61,0.615,0.62,0.625,0.63,0.635,0.64,0.645,0.65,0.655,0.66,0.665,0.67,0.675,0.68,0.685,0.6900000000000001,0.6950000000000001,0.7000000000000001,0.705,0.71,0.715,0.72,0.725,0.73,0.735,0.74,0.745,0.75,0.755,0.76,0.765,0.77,0.775,0.78,0.785,0.79,0.795,0.8,0.805,0.81,0.8150000000000001,0.8200000000000001,0.8250000000000001,0.8300000000000001,0.835,0.84,0.845,0.85,0.855,0.86,0.865,0.87,0.875,0.88,0.885,0.89,0.895,0.9,0.905,0.91,0.915,0.92,0.925,0.93,0.935,0.9400000000000001,0.9450000000000001,0.9500000000000001,0.9550000000000001,0.96,0.965,0.97,0.975,0.98,0.985,0.99,0.995,1.0]}},\"id\":\"b705c6bc-b854-4eb4-84af-e785cee18e06\",\"type\":\"ColumnDataSource\"},{\"attributes\":{\"callback\":null},\"id\":\"f00a5ada-0874-404f-bc3f-4f1cc4119601\",\"type\":\"DataRange1d\"},{\"attributes\":{},\"id\":\"10c124f0-819c-49f7-b3b8-fd42c346ae07\",\"type\":\"LinearScale\"},{\"attributes\":{},\"id\":\"22414230-b630-46df-97dc-57d6ca071464\",\"type\":\"BasicTicker\"},{\"attributes\":{\"line_alpha\":0.1,\"line_color\":\"#1f77b4\",\"line_width\":3,\"x\":{\"field\":\"x\"},\"y\":{\"field\":\"y\"}},\"id\":\"9177b8ac-722b-4978-bd91-c5b2380ef358\",\"type\":\"Line\"},{\"attributes\":{},\"id\":\"33abd59a-b108-41c0-8721-1c203fe1bedf\",\"type\":\"BasicTickFormatter\"},{\"attributes\":{\"plot\":null,\"text\":\"\"},\"id\":\"8adff74a-2c63-49d4-8241-df4ce8234639\",\"type\":\"Title\"}],\"root_ids\":[\"1c861b55-3d5d-40f4-9339-c8eafff1e7e2\"]},\"title\":\"Bokeh Application\",\"version\":\"0.12.13\"}};\n",
       "  var render_items = [{\"docid\":\"4634a232-145d-4976-98f5-4d16df0e97ad\",\"elementid\":\"2e7389ba-3004-4edf-aea2-eb5c7b4b4fdf\",\"modelid\":\"1c861b55-3d5d-40f4-9339-c8eafff1e7e2\"}];\n",
       "  root.Bokeh.embed.embed_items_notebook(docs_json, render_items);\n",
       "\n",
       "  }\n",
       "  if (root.Bokeh !== undefined) {\n",
       "    embed_document(root);\n",
       "  } else {\n",
       "    var attempts = 0;\n",
       "    var timer = setInterval(function(root) {\n",
       "      if (root.Bokeh !== undefined) {\n",
       "        embed_document(root);\n",
       "        clearInterval(timer);\n",
       "      }\n",
       "      attempts++;\n",
       "      if (attempts > 100) {\n",
       "        console.log(\"Bokeh: ERROR: Unable to run BokehJS code because BokehJS library is missing\")\n",
       "        clearInterval(timer);\n",
       "      }\n",
       "    }, 10, root)\n",
       "  }\n",
       "})(window);"
      ],
      "application/vnd.bokehjs_exec.v0+json": ""
     },
     "metadata": {
      "application/vnd.bokehjs_exec.v0+json": {
       "id": "1c861b55-3d5d-40f4-9339-c8eafff1e7e2"
      }
     },
     "output_type": "display_data"
    }
   ],
   "source": [
    "from bokeh.layouts import column\n",
    "from bokeh.models import CustomJS, ColumnDataSource, Slider\n",
    "\n",
    "x = [x*0.005 for x in range(0, 201)]\n",
    "\n",
    "source = ColumnDataSource(data=dict(x=x, y=x))\n",
    "\n",
    "plot = figure(plot_width=400, plot_height=400)\n",
    "plot.line('x', 'y', source=source, line_width=3, line_alpha=0.6)\n",
    "\n",
    "slider = Slider(start=0.1, end=6, value=1, step=.1, title=\"power\")\n",
    "\n",
    "update_curve = CustomJS(args=dict(source=source, slider=slider), code=\"\"\"\n",
    "    var data = source.data;\n",
    "    var f = slider.value;\n",
    "    x = data['x']\n",
    "    y = data['y']\n",
    "    for (i = 0; i < x.length; i++) {\n",
    "        y[i] = Math.pow(x[i], f)\n",
    "    }\n",
    "    source.change.emit();\n",
    "\"\"\")\n",
    "slider.js_on_change('value', update_curve)\n",
    "\n",
    "\n",
    "show(column(slider, plot))"
   ]
  },
  {
   "cell_type": "markdown",
   "metadata": {},
   "source": [
    "## Calbacks for selections\n",
    "\n",
    "It's also possible to make JavaScript actions that execute whenever a user selection (e.g., box, point, lasso) changes. This is done by attaching the same kind of CustomJS object to whatever data source the selection is made on.\n",
    "\n",
    "The example below is a bit more sophisticated, and demonstrates updating one glyph's data source in response to another glyph's selection: "
   ]
  },
  {
   "cell_type": "code",
   "execution_count": 12,
   "metadata": {},
   "outputs": [
    {
     "data": {
      "text/html": [
       "\n",
       "<div class=\"bk-root\">\n",
       "    <div class=\"bk-plotdiv\" id=\"6488adc1-0b4c-4103-afc9-1dc20e219f30\"></div>\n",
       "</div>"
      ]
     },
     "metadata": {},
     "output_type": "display_data"
    },
    {
     "data": {
      "application/javascript": [
       "(function(root) {\n",
       "  function embed_document(root) {\n",
       "    \n",
       "  var docs_json = {\"c98b6cba-8753-4968-90b7-7942016a34cb\":{\"roots\":{\"references\":[{\"attributes\":{\"data_source\":{\"id\":\"ddc5c915-2fcb-456f-9c59-50c9c080b724\",\"type\":\"ColumnDataSource\"},\"glyph\":{\"id\":\"3acdd83d-8486-414e-91df-3b76e4c3c7bc\",\"type\":\"Circle\"},\"hover_glyph\":null,\"muted_glyph\":null,\"nonselection_glyph\":{\"id\":\"3be251fb-29f0-4e9c-a9d2-8febb5423a36\",\"type\":\"Circle\"},\"selection_glyph\":null,\"view\":{\"id\":\"8653e98b-380c-4d1b-ad91-4b5d225b13b0\",\"type\":\"CDSView\"}},\"id\":\"c548d24c-74b5-45bd-9e30-b00cbf8409f2\",\"type\":\"GlyphRenderer\"},{\"attributes\":{\"callback\":{\"id\":\"39549690-77c4-4b07-9b50-efd588e7b8ee\",\"type\":\"CustomJS\"},\"column_names\":[\"x\",\"y\",\"color\"],\"data\":{\"color\":[\"navy\",\"navy\",\"navy\",\"navy\",\"navy\",\"navy\",\"navy\",\"navy\",\"navy\",\"navy\",\"navy\",\"navy\",\"navy\",\"navy\",\"navy\",\"navy\",\"navy\",\"navy\",\"navy\",\"navy\",\"navy\",\"navy\",\"navy\",\"navy\",\"navy\",\"navy\",\"navy\",\"navy\",\"navy\",\"navy\",\"navy\",\"navy\",\"navy\",\"navy\",\"navy\",\"navy\",\"navy\",\"navy\",\"navy\",\"navy\",\"navy\",\"navy\",\"navy\",\"navy\",\"navy\",\"navy\",\"navy\",\"navy\",\"navy\",\"navy\",\"navy\",\"navy\",\"navy\",\"navy\",\"navy\",\"navy\",\"navy\",\"navy\",\"navy\",\"navy\",\"navy\",\"navy\",\"navy\",\"navy\",\"navy\",\"navy\",\"navy\",\"navy\",\"navy\",\"navy\",\"navy\",\"navy\",\"navy\",\"navy\",\"navy\",\"navy\",\"navy\",\"navy\",\"navy\",\"navy\",\"navy\",\"navy\",\"navy\",\"navy\",\"navy\",\"navy\",\"navy\",\"navy\",\"navy\",\"navy\",\"navy\",\"navy\",\"navy\",\"navy\",\"navy\",\"navy\",\"navy\",\"navy\",\"navy\",\"navy\",\"navy\",\"navy\",\"navy\",\"navy\",\"navy\",\"navy\",\"navy\",\"navy\",\"navy\",\"navy\",\"navy\",\"navy\",\"navy\",\"navy\",\"navy\",\"navy\",\"navy\",\"navy\",\"navy\",\"navy\",\"navy\",\"navy\",\"navy\",\"navy\",\"navy\",\"navy\",\"navy\",\"navy\",\"navy\",\"navy\",\"navy\",\"navy\",\"navy\",\"navy\",\"navy\",\"navy\",\"navy\",\"navy\",\"navy\",\"navy\",\"navy\",\"navy\",\"navy\",\"navy\",\"navy\",\"navy\",\"navy\",\"navy\",\"navy\",\"navy\",\"navy\",\"navy\",\"navy\",\"navy\",\"navy\",\"navy\",\"navy\",\"navy\",\"navy\",\"navy\",\"navy\",\"navy\",\"navy\",\"navy\",\"navy\",\"navy\",\"navy\",\"navy\",\"navy\",\"navy\",\"navy\",\"navy\",\"navy\",\"navy\",\"navy\",\"navy\",\"navy\",\"navy\",\"navy\",\"navy\",\"navy\",\"navy\",\"navy\",\"navy\",\"navy\",\"navy\",\"navy\",\"navy\",\"navy\",\"navy\",\"navy\",\"navy\",\"navy\",\"navy\",\"navy\",\"navy\",\"navy\",\"navy\",\"navy\",\"navy\",\"navy\",\"navy\",\"navy\",\"navy\",\"navy\",\"navy\",\"navy\",\"navy\",\"navy\",\"navy\",\"navy\",\"navy\",\"navy\",\"navy\",\"navy\",\"navy\",\"navy\",\"navy\",\"navy\",\"navy\",\"navy\",\"navy\",\"navy\",\"navy\",\"navy\",\"navy\",\"navy\",\"navy\",\"navy\",\"navy\",\"navy\",\"navy\",\"navy\",\"navy\",\"navy\",\"navy\",\"navy\",\"navy\",\"navy\",\"navy\",\"navy\",\"navy\",\"navy\",\"navy\",\"navy\",\"navy\",\"navy\",\"navy\",\"navy\",\"navy\",\"navy\",\"navy\",\"navy\",\"navy\",\"navy\",\"navy\",\"navy\",\"navy\",\"navy\",\"navy\",\"navy\",\"navy\",\"navy\",\"navy\",\"navy\",\"navy\",\"navy\",\"navy\",\"navy\",\"navy\",\"navy\",\"navy\",\"navy\",\"navy\",\"navy\",\"navy\",\"navy\",\"navy\",\"navy\",\"navy\",\"navy\",\"navy\",\"navy\",\"navy\",\"navy\",\"navy\",\"navy\",\"navy\",\"navy\",\"navy\",\"navy\",\"navy\",\"navy\",\"navy\",\"navy\",\"navy\",\"navy\",\"navy\",\"navy\",\"navy\",\"navy\",\"navy\",\"navy\",\"navy\",\"navy\",\"navy\",\"navy\",\"navy\",\"navy\",\"navy\",\"navy\",\"navy\",\"navy\",\"navy\",\"navy\",\"navy\",\"navy\",\"navy\",\"navy\",\"navy\",\"navy\",\"navy\",\"navy\",\"navy\",\"navy\",\"navy\",\"navy\",\"navy\",\"navy\",\"navy\",\"navy\",\"navy\",\"navy\",\"navy\",\"navy\",\"navy\",\"navy\",\"navy\",\"navy\",\"navy\",\"navy\",\"navy\",\"navy\",\"navy\",\"navy\",\"navy\",\"navy\",\"navy\",\"navy\",\"navy\",\"navy\",\"navy\",\"navy\",\"navy\",\"navy\",\"navy\",\"navy\",\"navy\",\"navy\",\"navy\",\"navy\",\"navy\",\"navy\",\"navy\",\"navy\",\"navy\",\"navy\",\"navy\",\"navy\",\"navy\",\"navy\",\"navy\",\"navy\",\"navy\",\"navy\",\"navy\",\"navy\",\"navy\",\"navy\",\"navy\",\"navy\",\"navy\",\"navy\",\"navy\",\"navy\",\"navy\",\"navy\",\"navy\",\"navy\",\"navy\",\"navy\",\"navy\",\"navy\",\"navy\",\"navy\",\"navy\",\"navy\",\"navy\",\"navy\",\"navy\",\"navy\",\"navy\",\"navy\",\"navy\",\"navy\",\"navy\",\"navy\",\"navy\",\"navy\",\"navy\",\"navy\",\"navy\",\"navy\",\"navy\",\"navy\",\"navy\",\"navy\",\"navy\",\"navy\",\"navy\",\"navy\",\"navy\",\"navy\",\"navy\",\"navy\",\"navy\",\"navy\",\"navy\",\"navy\",\"navy\",\"navy\",\"navy\",\"navy\",\"navy\",\"navy\",\"navy\",\"navy\",\"navy\",\"navy\",\"navy\",\"navy\",\"navy\",\"navy\",\"navy\",\"navy\",\"navy\",\"navy\",\"navy\",\"navy\",\"navy\",\"navy\",\"navy\",\"navy\",\"navy\",\"navy\",\"navy\",\"navy\",\"navy\",\"navy\",\"navy\",\"navy\",\"navy\",\"navy\",\"navy\",\"navy\",\"navy\",\"navy\",\"navy\",\"navy\",\"navy\",\"navy\",\"navy\",\"navy\",\"navy\",\"navy\",\"navy\",\"navy\",\"navy\",\"navy\",\"navy\",\"navy\",\"navy\",\"navy\",\"navy\",\"navy\",\"navy\",\"navy\",\"navy\",\"navy\",\"navy\",\"navy\",\"navy\",\"navy\",\"navy\",\"navy\",\"navy\",\"navy\",\"navy\",\"navy\",\"navy\"],\"x\":[0.23555293409063094,0.13597970901624012,0.10790581056866022,0.218646785343248,0.8191944328356396,0.09437541804308736,0.021732703857834212,0.07684928359043497,0.09598008674660707,0.07497816649312516,0.16338533155381796,0.38515230124994015,0.035619145105773575,0.49074386897247724,0.3945461661905034,0.3986282948701142,0.9706892916181953,0.036246939646564225,0.4988625159141137,0.6385735155147577,0.6267972561857725,0.8525653175254063,0.7173633809486869,0.17967038963571647,0.7011511330781071,0.5717074197563435,0.5033709876039969,0.002050849447181702,0.1528905297433263,0.3280235395627549,0.7178768554168856,0.09007901822579911,0.06253423074197617,0.3939135606138784,0.31181341896815207,0.4075834886503332,0.7253560423264525,0.7453632406251977,0.16652400675433332,0.6743360828812526,0.38772259483897276,0.6755450304883708,0.5377396173527188,0.37102086327231065,0.15000930870415508,0.8261212013492764,0.03808925288050602,0.6819986775577357,0.2785011250367767,0.9660698185138373,0.11030408193674235,0.0003139470060501415,0.07934083238454281,0.434654630215494,0.5218612301666673,0.984702615492557,0.3352223874953122,0.48221697261110785,0.623881569589255,0.9050788549070645,0.4857445383406769,0.21979373692028037,0.7895167368290748,0.2884651635057274,0.7367052769222819,0.6921892634608781,0.7987725207981475,0.9194380563666982,0.8331201876813235,0.07204281425561287,0.8369889474768742,0.9334791417663738,0.8211090143708408,0.3260914890839548,0.8490682323429265,0.44119947325832387,0.5889234985116665,0.5148495760671947,0.03823548827984158,0.3308180988351731,0.8321106223300336,0.10901870375199618,0.009769258707547523,0.30495175413379305,0.5731610346598494,0.8747209161650125,0.8306137829001354,0.3387196976519875,0.8173713180978638,0.5263162918373191,0.1007570358943608,0.9202728251379099,0.921391135078266,0.5757190970666786,0.49354596261467176,0.2088497168845993,0.42043228942627076,0.14826837049689434,0.6260012960834207,0.7532880383525552,0.8923285318979955,0.7273529384717062,0.11657153082119709,0.6879771695641012,0.09187090861259484,0.54346168989454,0.9028891446230275,0.5714651696133652,0.14560605987957131,0.2554142766767231,0.020355565531439357,0.4476275944850836,0.36988057532238705,0.6969430185976756,0.6022966068857621,0.7501770562235068,0.3172109439312295,0.43564364736495453,0.7229574487038027,0.3111357290900987,0.42857699630525314,0.8208408531498727,0.49241731587811965,0.6380222916560105,0.31269416533331806,0.9910135774811574,0.206836643715699,0.9517040543479898,0.4393296987984896,0.4744973936180831,0.9233808890960642,0.9590553575686402,0.4713658177206719,0.9300062053635921,0.055661727520113446,0.7793186858709505,0.7599734415147382,0.5733650851116306,0.21623741998073298,0.5077732187963193,0.36915103792422266,0.0067227047973122955,0.44700761160573355,0.4357047171372128,0.35733256465913965,0.4470030619337714,0.47069885365916964,0.21298450433871496,0.6959913620252693,0.4123888065274085,0.563025645747124,0.5882865372232678,0.38292512393580347,0.7878719983667549,0.1778164182228822,0.3893749490069923,0.7970284321432405,0.039783083193795865,0.9955774479392058,0.40091310298322747,0.04078322483896546,0.3998401476344611,0.9387532073010121,0.18641407053012704,0.12563461391334907,0.3946365852751059,0.3953994608011314,0.35606281734747125,0.40615682011242393,0.37763715820664245,0.013105367347874486,0.8006725453180215,0.46003770548940126,0.4085098623188642,0.8463920250310553,0.28408857668335763,0.9954059237395547,0.08283689581174047,0.6812838836658288,0.980113797294866,0.6181706430253028,0.4582017974739543,0.3213839933398066,0.720145057213717,0.01812215346496049,0.16872708378275159,0.18539972678479,0.1803159179070103,0.9491033826789069,0.12722632498196562,0.5112353635749394,0.5297212897008696,0.28057746077228773,0.9442083497887704,0.6237101989339255,0.9979426042332072,0.31297377818114114,0.006987224468645081,0.12065531446581201,0.8423778266743974,0.42189291953775254,0.27469720021818533,0.41411011114629315,0.8860898648899392,0.7365871193076317,0.5432498047067206,0.6267734155828673,0.3017806766155252,0.39370504262688333,0.7874683899403668,0.5859547884311777,0.8118560832341033,0.21490192599148006,0.14953888649711078,0.8029317588470032,0.9540157809104413,0.8541234223685475,0.6868385090241381,0.5468386542096277,0.6965690992370098,0.6452176774160635,0.057806381508704874,0.5605444192850566,0.4390221340314595,0.5363918486817884,0.7006424717317509,0.8479132889871265,0.01526531345830473,0.13012559213064745,0.8797287329170803,0.3304312485646882,0.07257615741982326,0.7212857127128703,0.7289311399856415,0.8153952055714855,0.15668574871321317,0.5665615770548349,0.05545753239551332,0.4738295116738186,0.7210841840899403,0.9908383653673316,0.7824200451181993,0.5742309583502079,0.5639184761612417,0.7901135469105013,0.9258160742686459,0.6421801137559318,0.7504342912105586,0.9386603955820036,0.8818819296537144,0.1500892842025382,0.17070912403596694,0.6651415513477077,0.7677149233766494,0.0883761800625058,0.004785432283423097,0.7990917164653943,0.2786685929866308,0.7091119068752653,0.4787028360494603,0.3337645194807145,0.5160215253973064,0.1816281856794859,0.1774847912654749,0.84255867242992,0.007892278450939427,0.40745020369740936,0.8966325360260031,0.644191510578196,0.24633903460411277,0.15493250611716836,0.6939785011456395,0.9330864223372339,0.5187650752486326,0.663476574138343,0.1135362861248157,0.42796836624012147,0.7162107780827129,0.025166197940383772,0.6551378228313249,0.018745162519002823,0.10145282084589236,0.9918397775101171,0.12391908430077025,0.11088677792718915,0.839633479444488,0.371041005340359,0.08686005996667423,0.5078217887471539,0.48918509990332204,0.2533166404093399,0.369697720021015,0.2150720902373532,0.1313495810723886,0.8979411680800437,0.5299553600482964,0.6805989592607494,0.8722475173990416,0.14787067082726224,0.6982805760267191,0.6603240178123343,0.5110417774105712,0.8038926510694986,0.7129462060930088,0.9186259635666645,0.38735830615928,0.4013659799688375,0.7036072677259607,0.10248131282947293,0.7213247724678469,0.5480449522816712,0.28578553693826036,0.4362882720056246,0.5509342600636736,0.2678914632434406,0.18495982351359608,0.14775641682518026,0.16242009628384335,0.3507159602084786,0.5884985306420457,0.22920930064511147,0.2519227431539708,0.9127753810814004,0.7760807570181149,0.06785281550791022,0.9613039065079538,0.33720919105276437,0.7183355162440955,0.15138820455925373,0.9239483921806945,0.2460879590389664,0.9024293978873871,0.33959292552690235,0.9422355520879578,0.4923249158497911,0.9437349784866992,0.7394440792663258,0.05519288176286852,0.09009703321306917,0.4494359694004906,0.17780904989210222,0.5746359010795994,0.6219653697875833,0.5511078750219176,0.4500184800406323,0.5560075168675006,0.30315341813271157,0.5364604458357078,0.4550548618309539,0.5180441837799379,0.9745788995491744,0.47060538736745006,0.47152381430883483,0.29600994960067595,0.024547831412178978,0.5257351085165193,0.5254122257467926,0.7481643843674939,0.13129644099183824,0.3751523646714291,0.897265983494304,0.27406866353484605,0.9412051012523268,0.03921474973025563,0.09797300100635942,0.5902514638225268,0.8577242939893438,0.42898509091592374,0.011043451917109315,0.5848355589889671,0.07732872938193536,0.42611164453725037,0.6308236715227953,0.8699297372814573,0.05112990851952659,0.7730188733958671,0.8703132586693128,0.5785026067555034,0.6266151798831632,0.5397548530447694,0.24374146788446838,0.23855255216306948,0.25733849882178406,0.5253875239382307,0.7776698726697406,0.21780656116894181,0.16719130114598624,0.9414843047634405,0.6726214419240862,0.9436457696099343,0.9841761306500854,0.5253794171981088,0.9225142310046147,0.5879903099954314,0.6887081931782061,0.21615139151644214,0.7920331720880566,0.174686739054551,0.34688849494671625,0.3886331422173117,0.8784415286060399,0.9681519906830798,0.29058582877816763,0.23011828875376839,0.8391226395866463,0.034114449919651846,0.5964627382900254,0.2555434143338874,0.8118032403067507,0.5602978672334716,0.3456657212865136,0.4429527164374253,0.38927411633004505,0.3032999602937705,0.8274796863327435,0.3450967514086145,0.5632469111439699,0.6878488108629173,0.7309271745218731,0.9969135308282981,0.2754848890981745,0.8563497682061133,0.6153961643213495,0.4037578812845112,0.8206738737420597,0.873405638816589,0.8925718501666409,0.42941184700167734,0.5518705546804039,0.4331376749969442,0.08288740658519578,0.5253607643304244,0.7468147379904954,0.43239189855012483,0.13384165460901076,0.15802910539693082,0.16648452152879178,0.5485814796396975,0.5882680306970457,0.561367393995873,0.707435735971192,0.7515385630903767,0.6851313457465431,0.0017754539141776604,0.16371128095280785,0.8731750219182961,0.886835416864514,0.09905431298794065,0.967709162867335,0.20084133672929894,0.522994144642047,0.9554398438890125,0.8395561777781847,0.8860000223093953,0.1959589212685815,0.01406312941495047,0.3284532727849294,0.2050653033292722,0.09146144839583825,0.9782959500145405,0.9175107244101944,0.5639032420252084,0.05415613677248632,0.1319311525568545,0.1777400349201954,0.6867074431338774,0.18895731935505666,0.005885070650777702,0.35001083424042845,0.9706921847529922,0.4643466939485985,0.07001318170034332,0.03468059357071496,0.23742448265880556,0.49212763555964556,0.30748019936634907,0.7024843892547288,0.1173971248176523,0.19171184763093507,0.9111474582118221,0.33137827223681593,0.26362979284138566,0.9262662729066996,0.5746455851413673,0.7553764739231759,0.8790095147855282,0.1667708971617775,0.6713282261912104,0.46460917948135294,0.8303108271882139,0.77381538560051,0.26925931007903536,0.742957974369848,0.41209428342053456,0.8298100457974447,0.8257941996299845,0.4070267094380079,0.27534021427080446,0.22503491323703384,0.765466658085748],\"y\":[0.28185036074952907,0.7316991441223298,0.06989068053398195,0.4753882494818129,0.19135086903725296,0.5917288576441928,0.31827820584072763,0.1143058821030064,0.34234475929504216,0.8398199843166263,0.6305832652995043,0.7975211316848457,0.8439643301992772,0.7255945364857855,0.9345294387526435,0.6875054258951789,0.0005929199617565883,0.5438458804671101,0.45985034842000794,0.44303809935267935,0.03849927001305331,0.9961892126648755,0.3623700348470088,0.89268155160814,0.0037029351642687836,0.4450180582909862,0.7683318658920038,0.8905789225571067,0.5467454317246624,0.6385149465354473,0.4683927933242772,0.5996805531599546,0.344018818940498,0.06341965747086253,0.5962031910449866,0.09634622882602495,0.13860391397192706,0.7677898656182989,0.8692922864099656,0.046489741098730275,0.06910576762950238,0.22938298429053927,0.5654439303741076,0.8198323513401232,0.40063184566873644,0.034802429458543616,0.9840587465144367,0.5178757318118505,0.6045464657273611,0.3552021426457923,0.3544367465824606,0.383747349514749,0.06530307053553941,0.26701776756659135,0.8631854744068431,0.45534471920652464,0.8387910726633148,0.7761540480562004,0.2107900405627101,0.1738656238727183,0.3243208064919162,0.7107518624458719,0.15151227823698,0.6208504196765747,0.19961661679313014,0.42046374601199543,0.03309847918706088,0.5202726712373577,0.03138972456340239,0.44715509976749723,0.4853291888860256,0.20354539839579788,0.5075695376651569,0.7602281048133759,0.24604726282002043,0.8152461437180497,0.9236799530611645,0.8549006731507433,0.1446841098022833,0.9530247760591027,0.6841623894941602,0.9116771854605781,0.7096272837534807,0.6016513149335831,0.21328020055436325,0.6720255746581251,0.2119437619563993,0.2549850174712296,0.3853791517972869,0.9203899477282791,0.07313364088913732,0.011158741458192845,0.5343083427836584,0.7143459903944372,0.431162738360111,0.3264653013740946,0.7846173318993435,0.11705217192718287,0.3505343402869071,0.49451756688475745,0.9544026260049572,0.10024472456805844,0.04320470722310188,0.9181058640962099,0.9391287800289061,0.9812602884919167,0.7228695891152193,0.6723035185086339,0.2893083935131432,0.2373052549942397,0.07612966067563254,0.417982186163098,0.8602774723336086,0.3993126737283065,0.7217420905584637,0.7835052203822837,0.23910302144534812,0.9249090991757387,0.37359378473351457,0.11029517935844513,0.8210402629658845,0.9478202607064988,0.23596559855849875,0.09985470942080821,0.6972399209164944,0.982530905001364,0.7154313243746618,0.6849728284817251,0.9254138853317471,0.0476011922573607,0.42394313172085085,0.6715531694979731,0.48380796091950895,0.938266169390949,0.946738668678391,0.6853410990325377,0.46841192778743435,0.3692037032305092,0.6917546717599382,0.43778943090051436,0.585810984861823,0.22202836103600776,0.9942323248723328,0.19505202009788303,0.28325343965922667,0.6041641290482935,0.2780980717712235,0.09443289682540135,0.6649701784521111,0.6927790007796351,0.4191241236966252,0.5244420905890027,0.6018456643351697,0.2888964748369448,0.8696606604515019,0.9277604218187196,0.39601714333804916,0.30473357445780835,0.9291320580665942,0.2526551066761795,0.8623522293252223,0.6084712342513364,0.4882927670306255,0.4932686990793247,0.18903464827712912,0.8438441357537321,0.5408065872933254,0.37298136417277195,0.3700035178701857,0.4525710556529794,0.9434648554611432,0.7324558679870455,0.43100916823424196,0.45181099353220966,0.358324704362996,0.8807478878733158,0.24727610798198596,0.23192024849839654,0.7243832801205439,0.2163752470178152,0.19403437295261905,0.6776821260657454,0.23044439764042424,0.45677943089872275,0.6042609385565776,0.908985706445661,0.4915408380329296,0.9203814258405272,0.08758597522746192,0.19293801697918755,0.5868887597114314,0.708791838243086,0.3197237225676456,0.8546907714557307,0.7143039634804086,0.050206500025925194,0.5675267422251518,0.0814107697057066,0.7447782654461543,0.9593358575481971,0.8923867776628908,0.26128699849300174,0.08373312222556961,0.20599271562735888,0.8846205827295155,0.0198725460195589,0.4392663492426647,0.10805932790147754,0.8633327527946958,0.4212330291948079,0.9587928952739148,0.22355574093580088,0.7726856401552501,0.13440919215350544,0.5266506449521586,0.47306426047727346,0.42563551503944386,0.24250609343532792,0.6187257937743872,0.07354518301990787,0.14640042146930254,0.19759268688438214,0.09795427230607612,0.3102549173170174,0.5950843059169908,0.11406093973520226,0.4537417840465787,0.4607411006331612,0.9375100394211606,0.3947827940528781,0.12804732011862485,0.12142742663457506,0.503245388666544,0.003828888353453186,0.24216525461305227,0.06271945763294129,0.28788983723110173,0.6727510248683857,0.6433172244536777,0.5931578282852389,0.3213253193264135,0.2776416145221503,0.8331403657636307,0.7050765522722685,0.4014548348601218,0.8297978320697769,0.4855793306777151,0.33552806898501164,0.19065410102559133,0.791364873238003,0.29063892344989206,0.2168431055232669,0.24414232001169434,0.2657423084960492,0.863572905865154,0.7728245529284414,0.36860269902524556,0.07541865511562218,0.10066021223610733,0.04816256035946431,0.27781416970313344,0.9925084116626943,0.33188922531641385,0.24485340864508554,0.4019764615755065,0.2026378653817963,0.36374847875403415,0.2787193886886262,0.3919940150607748,0.5847971498780167,0.004218396204143993,0.5927107387913115,0.6082071101882532,0.7985311210625932,0.7664405513708632,0.5359170266736357,0.4873915457526229,0.5786089653864592,0.22730361096782126,0.6759495125584319,0.6055753800175183,0.38649163190899605,0.8650796287086364,0.0671628133046881,0.4379898791704414,0.41055412326526297,0.3273402346378951,0.8939617514107409,0.012421656808446535,0.8492280950049372,0.36666641913021025,0.5849779933686114,0.9493498255275918,0.7634236581021715,0.5920624840934813,0.131389380690352,0.6418323767591276,0.8848368438005816,0.3962597706931438,0.20170765907854915,0.6414742377750239,0.011617242266156347,0.3452099851623063,0.49265669374573673,0.9002592396409391,0.9734668924420657,0.1381842712942376,0.5562728623671673,0.9556979852563452,0.2228974666481951,0.6398597349010479,0.38589176156376415,0.5024602210785931,0.8834893070691242,0.49691024333761447,0.20082974194409198,0.1448574307186824,0.6808059487865276,0.7372537184751691,0.5898198971139013,0.3551173644878104,0.04987932697700137,0.24136351959984081,0.7930509024379,0.5684386511347052,0.8629446357363926,0.295414665590121,0.010450626761173032,0.8574803326848056,0.6189284491744569,0.6011767892259814,0.5100634930625743,0.7338239924380494,0.4791760154127981,0.13050894885886044,0.08049273195932671,0.2564333796471282,0.1589104457660554,0.6732958604299533,0.0889691465129917,0.979272635319983,0.9919425511529798,0.23682215722148714,0.6866015024778017,0.8068545658919115,0.05197821658858537,0.32176443069117955,0.6771554098729695,0.48655146895123424,0.8437980801442649,0.4719860591504613,0.5345484319483343,0.09658671939245611,0.12202692224492095,0.9071348566436455,0.6955486602553556,0.7831151443778126,0.6926967479014182,0.7429208745167531,0.22160829854007946,0.2680094439649313,0.044206722751237715,0.17194516212221633,0.3259685521758052,0.581797481894552,0.6090913133249597,0.9431751189840117,0.30868859530568504,0.5475043905091199,0.1480604310984236,0.9877167075550611,0.13977506857265853,0.4885692873714744,0.4931361505069193,0.5163017319613582,0.39342412207123656,0.14137853522456556,0.8319233540249007,0.808440619670812,0.18000252476531375,0.7031343479052109,0.5404872310117138,0.36511005127539575,0.188556701624629,0.13182362073207987,0.7576231994917969,0.9142128796517761,0.00512796729277587,0.4471885884588469,0.021578250947178357,0.45775174809760244,0.7448670496087658,0.7346948655338937,0.25290832416129816,0.474132944804771,0.28519024167360896,0.9519569592098577,0.28342346953562736,0.9642999542024515,0.8012809349938601,0.6705311083130798,0.9993495727467853,0.6938652685234183,0.7098402870737871,0.5782613668342312,0.31173051235640503,0.420182769316064,0.24693875065212167,0.8725370461957175,0.9390409752491689,0.05370188605123061,0.493519756598099,0.2698470937934532,0.8356391363166487,0.6997624043114861,0.2423285973873136,0.9501012508978806,0.4261737913413878,0.007657014471959878,0.03591309838093182,0.3850675622365982,0.7544850186711174,0.3735387838839782,0.11489040917388493,0.7971051217905613,0.13520135071804396,0.10339386694265851,0.82678471307364,0.25339533295699823,0.4367171091133081,0.43347266378533933,0.1312153617111821,0.8215150178898244,0.5873352400210656,0.9577822625231013,0.7953539258852383,0.8400018741142126,0.7733239305711854,0.6400027598351568,0.826007110695632,0.80864818793976,0.5931227961896431,0.5777882003789346,0.86091313576459,0.142774706687946,0.11563994149118784,0.0460895950879201,0.9356268990846613,0.8951461702585632,0.8336936870517007,0.4133437402535368,0.5100766753115256,0.9346891022688131,0.48066098024877313,0.08849359756527075,0.9266901894919585,0.310534475265431,0.1606848284634984,0.2354734386658962,0.7599928693227245,0.45144924433054534,0.22144281536202015,0.12318780161663812,0.8576641845624511,0.08162822685797244,0.8426274312849188,0.48100806100212123,0.705430832693963,0.028320204382932146,0.6027970767719466,0.171032171682321,0.136664972522764,0.2869434968114024,0.7460879672063072,0.296501239342695,0.22906205799726753,0.98387428682749,0.16607121517442625,0.3897924737301607,0.408273074378251,0.6002796793584176,0.0009016442623969168,0.7159155210113594,0.8328363945410735,0.3295929845916885,0.4809339615057524,0.9458752284931705,0.9240241646338648,0.0649809146042083,0.8202125711025068,0.1161471026469606,0.35933461772277275,0.8567050202556041,0.6830483235977249,0.6654192673635047,0.002549411195950868,0.41370535403036557,0.6095374226733133,0.9456375733991363,0.3818502471605808]}},\"id\":\"ddc5c915-2fcb-456f-9c59-50c9c080b724\",\"type\":\"ColumnDataSource\"},{\"attributes\":{\"below\":[{\"id\":\"f8f8b803-71eb-4306-b213-07c55a338674\",\"type\":\"LinearAxis\"}],\"left\":[{\"id\":\"b95a5f93-63d8-4e6f-9afc-b46a48062b1b\",\"type\":\"LinearAxis\"}],\"plot_height\":400,\"plot_width\":400,\"renderers\":[{\"id\":\"f8f8b803-71eb-4306-b213-07c55a338674\",\"type\":\"LinearAxis\"},{\"id\":\"2addd70d-5bf8-43a1-9750-24e03de0e48f\",\"type\":\"Grid\"},{\"id\":\"b95a5f93-63d8-4e6f-9afc-b46a48062b1b\",\"type\":\"LinearAxis\"},{\"id\":\"335285de-1228-4775-9760-7b569cc428c2\",\"type\":\"Grid\"},{\"id\":\"c05927e3-07e5-45a7-8fa3-27b019f06ee6\",\"type\":\"PolyAnnotation\"},{\"id\":\"c548d24c-74b5-45bd-9e30-b00cbf8409f2\",\"type\":\"GlyphRenderer\"},{\"id\":\"2bab87d3-c009-4c70-a5bf-7895d85e8f5b\",\"type\":\"GlyphRenderer\"}],\"title\":{\"id\":\"30f7e805-c455-4a6a-b7c6-f85f03c79802\",\"type\":\"Title\"},\"toolbar\":{\"id\":\"9245280b-e4fc-471e-ab05-ca712ed39f08\",\"type\":\"Toolbar\"},\"x_range\":{\"id\":\"075c2886-6b11-4804-a03e-4416c3dc8e5b\",\"type\":\"DataRange1d\"},\"x_scale\":{\"id\":\"643f417b-d677-4c05-a346-720555534f13\",\"type\":\"LinearScale\"},\"y_range\":{\"id\":\"87230986-d78d-4b78-a042-e1c802c2ec4e\",\"type\":\"DataRange1d\"},\"y_scale\":{\"id\":\"79a93558-9623-4912-9d8a-bf68875eb481\",\"type\":\"LinearScale\"}},\"id\":\"03f72a73-6c9a-4e05-a8cd-935a79d1df85\",\"subtype\":\"Figure\",\"type\":\"Plot\"},{\"attributes\":{},\"id\":\"cd0cecb3-90b6-4c7b-acc8-a31c467d7242\",\"type\":\"BasicTickFormatter\"},{\"attributes\":{\"callback\":null,\"overlay\":{\"id\":\"c05927e3-07e5-45a7-8fa3-27b019f06ee6\",\"type\":\"PolyAnnotation\"}},\"id\":\"bc0afb0a-818c-41ca-91e7-e5f31d9aae60\",\"type\":\"LassoSelectTool\"},{\"attributes\":{\"source\":{\"id\":\"ddc5c915-2fcb-456f-9c59-50c9c080b724\",\"type\":\"ColumnDataSource\"}},\"id\":\"8653e98b-380c-4d1b-ad91-4b5d225b13b0\",\"type\":\"CDSView\"},{\"attributes\":{\"plot\":{\"id\":\"03f72a73-6c9a-4e05-a8cd-935a79d1df85\",\"subtype\":\"Figure\",\"type\":\"Plot\"},\"ticker\":{\"id\":\"41c49958-6dc6-4c65-b77c-28a5abd96a71\",\"type\":\"BasicTicker\"}},\"id\":\"2addd70d-5bf8-43a1-9750-24e03de0e48f\",\"type\":\"Grid\"},{\"attributes\":{\"args\":{\"s2\":{\"id\":\"f85b9ccb-ea2d-459e-b898-553bd6e00d8a\",\"type\":\"ColumnDataSource\"}},\"code\":\"\\n    var inds = cb_obj.get('selected')['1d'].indices;\\n    var d = cb_obj.get('data');\\n    var ym = 0\\n    \\n    if (inds.length == 0) { return; }\\n    \\n    for (i = 0; i < d['color'].length; i++) {\\n        d['color'][i] = \\\"navy\\\"\\n    }\\n    for (i = 0; i < inds.length; i++) {\\n        d['color'][inds[i]] = \\\"firebrick\\\"\\n        ym += d['y'][inds[i]]\\n    }\\n    \\n    ym /= inds.length\\n    s2.get('data')['ym'] = [ym, ym]\\n    \\n    cb_obj.trigger('change');\\n    s2.trigger('change');\\n\"},\"id\":\"39549690-77c4-4b07-9b50-efd588e7b8ee\",\"type\":\"CustomJS\"},{\"attributes\":{},\"id\":\"585c650c-6bc1-4b99-81dc-421c9c793da3\",\"type\":\"BasicTicker\"},{\"attributes\":{},\"id\":\"e0b05900-5342-4c34-8115-6e908f0fa127\",\"type\":\"BasicTickFormatter\"},{\"attributes\":{\"callback\":null,\"column_names\":[\"xm\",\"ym\"],\"data\":{\"xm\":[0,1],\"ym\":[0.5,0.5]}},\"id\":\"f85b9ccb-ea2d-459e-b898-553bd6e00d8a\",\"type\":\"ColumnDataSource\"},{\"attributes\":{\"callback\":null},\"id\":\"075c2886-6b11-4804-a03e-4416c3dc8e5b\",\"type\":\"DataRange1d\"},{\"attributes\":{\"fill_alpha\":{\"value\":0.4},\"fill_color\":{\"field\":\"color\"},\"line_alpha\":{\"value\":0.4},\"line_color\":{\"field\":\"color\"},\"size\":{\"units\":\"screen\",\"value\":8},\"x\":{\"field\":\"x\"},\"y\":{\"field\":\"y\"}},\"id\":\"3acdd83d-8486-414e-91df-3b76e4c3c7bc\",\"type\":\"Circle\"},{\"attributes\":{\"formatter\":{\"id\":\"cd0cecb3-90b6-4c7b-acc8-a31c467d7242\",\"type\":\"BasicTickFormatter\"},\"plot\":{\"id\":\"03f72a73-6c9a-4e05-a8cd-935a79d1df85\",\"subtype\":\"Figure\",\"type\":\"Plot\"},\"ticker\":{\"id\":\"585c650c-6bc1-4b99-81dc-421c9c793da3\",\"type\":\"BasicTicker\"}},\"id\":\"b95a5f93-63d8-4e6f-9afc-b46a48062b1b\",\"type\":\"LinearAxis\"},{\"attributes\":{\"callback\":null},\"id\":\"87230986-d78d-4b78-a042-e1c802c2ec4e\",\"type\":\"DataRange1d\"},{\"attributes\":{\"line_alpha\":0.1,\"line_color\":\"#1f77b4\",\"line_width\":5,\"x\":{\"field\":\"xm\"},\"y\":{\"field\":\"ym\"}},\"id\":\"7bb1ea6e-7b9a-45e3-a9f8-ce41d11c65b1\",\"type\":\"Line\"},{\"attributes\":{\"line_alpha\":0.6,\"line_color\":\"orange\",\"line_width\":5,\"x\":{\"field\":\"xm\"},\"y\":{\"field\":\"ym\"}},\"id\":\"d4aeac75-d3e1-43dd-b5a8-f54d2b3626ca\",\"type\":\"Line\"},{\"attributes\":{\"plot\":null,\"text\":\"Select Here\"},\"id\":\"30f7e805-c455-4a6a-b7c6-f85f03c79802\",\"type\":\"Title\"},{\"attributes\":{},\"id\":\"41c49958-6dc6-4c65-b77c-28a5abd96a71\",\"type\":\"BasicTicker\"},{\"attributes\":{\"fill_alpha\":{\"value\":0.5},\"fill_color\":{\"value\":\"lightgrey\"},\"level\":\"overlay\",\"line_alpha\":{\"value\":1.0},\"line_color\":{\"value\":\"black\"},\"line_dash\":[4,4],\"line_width\":{\"value\":2},\"plot\":null,\"xs_units\":\"screen\",\"ys_units\":\"screen\"},\"id\":\"c05927e3-07e5-45a7-8fa3-27b019f06ee6\",\"type\":\"PolyAnnotation\"},{\"attributes\":{\"data_source\":{\"id\":\"f85b9ccb-ea2d-459e-b898-553bd6e00d8a\",\"type\":\"ColumnDataSource\"},\"glyph\":{\"id\":\"d4aeac75-d3e1-43dd-b5a8-f54d2b3626ca\",\"type\":\"Line\"},\"hover_glyph\":null,\"muted_glyph\":null,\"nonselection_glyph\":{\"id\":\"7bb1ea6e-7b9a-45e3-a9f8-ce41d11c65b1\",\"type\":\"Line\"},\"selection_glyph\":null,\"view\":{\"id\":\"a0f3d5df-14b8-4e02-9947-3943b0dfa8bc\",\"type\":\"CDSView\"}},\"id\":\"2bab87d3-c009-4c70-a5bf-7895d85e8f5b\",\"type\":\"GlyphRenderer\"},{\"attributes\":{},\"id\":\"79a93558-9623-4912-9d8a-bf68875eb481\",\"type\":\"LinearScale\"},{\"attributes\":{\"source\":{\"id\":\"f85b9ccb-ea2d-459e-b898-553bd6e00d8a\",\"type\":\"ColumnDataSource\"}},\"id\":\"a0f3d5df-14b8-4e02-9947-3943b0dfa8bc\",\"type\":\"CDSView\"},{\"attributes\":{\"active_drag\":\"auto\",\"active_inspect\":\"auto\",\"active_scroll\":\"auto\",\"active_tap\":\"auto\",\"tools\":[{\"id\":\"bc0afb0a-818c-41ca-91e7-e5f31d9aae60\",\"type\":\"LassoSelectTool\"}]},\"id\":\"9245280b-e4fc-471e-ab05-ca712ed39f08\",\"type\":\"Toolbar\"},{\"attributes\":{\"dimension\":1,\"plot\":{\"id\":\"03f72a73-6c9a-4e05-a8cd-935a79d1df85\",\"subtype\":\"Figure\",\"type\":\"Plot\"},\"ticker\":{\"id\":\"585c650c-6bc1-4b99-81dc-421c9c793da3\",\"type\":\"BasicTicker\"}},\"id\":\"335285de-1228-4775-9760-7b569cc428c2\",\"type\":\"Grid\"},{\"attributes\":{\"fill_alpha\":{\"value\":0.1},\"fill_color\":{\"value\":\"#1f77b4\"},\"line_alpha\":{\"value\":0.1},\"line_color\":{\"value\":\"#1f77b4\"},\"size\":{\"units\":\"screen\",\"value\":8},\"x\":{\"field\":\"x\"},\"y\":{\"field\":\"y\"}},\"id\":\"3be251fb-29f0-4e9c-a9d2-8febb5423a36\",\"type\":\"Circle\"},{\"attributes\":{},\"id\":\"643f417b-d677-4c05-a346-720555534f13\",\"type\":\"LinearScale\"},{\"attributes\":{\"formatter\":{\"id\":\"e0b05900-5342-4c34-8115-6e908f0fa127\",\"type\":\"BasicTickFormatter\"},\"plot\":{\"id\":\"03f72a73-6c9a-4e05-a8cd-935a79d1df85\",\"subtype\":\"Figure\",\"type\":\"Plot\"},\"ticker\":{\"id\":\"41c49958-6dc6-4c65-b77c-28a5abd96a71\",\"type\":\"BasicTicker\"}},\"id\":\"f8f8b803-71eb-4306-b213-07c55a338674\",\"type\":\"LinearAxis\"}],\"root_ids\":[\"03f72a73-6c9a-4e05-a8cd-935a79d1df85\"]},\"title\":\"Bokeh Application\",\"version\":\"0.12.13\"}};\n",
       "  var render_items = [{\"docid\":\"c98b6cba-8753-4968-90b7-7942016a34cb\",\"elementid\":\"6488adc1-0b4c-4103-afc9-1dc20e219f30\",\"modelid\":\"03f72a73-6c9a-4e05-a8cd-935a79d1df85\"}];\n",
       "  root.Bokeh.embed.embed_items_notebook(docs_json, render_items);\n",
       "\n",
       "  }\n",
       "  if (root.Bokeh !== undefined) {\n",
       "    embed_document(root);\n",
       "  } else {\n",
       "    var attempts = 0;\n",
       "    var timer = setInterval(function(root) {\n",
       "      if (root.Bokeh !== undefined) {\n",
       "        embed_document(root);\n",
       "        clearInterval(timer);\n",
       "      }\n",
       "      attempts++;\n",
       "      if (attempts > 100) {\n",
       "        console.log(\"Bokeh: ERROR: Unable to run BokehJS code because BokehJS library is missing\")\n",
       "        clearInterval(timer);\n",
       "      }\n",
       "    }, 10, root)\n",
       "  }\n",
       "})(window);"
      ],
      "application/vnd.bokehjs_exec.v0+json": ""
     },
     "metadata": {
      "application/vnd.bokehjs_exec.v0+json": {
       "id": "03f72a73-6c9a-4e05-a8cd-935a79d1df85"
      }
     },
     "output_type": "display_data"
    }
   ],
   "source": [
    "from random import random\n",
    "\n",
    "x = [random() for x in range(500)]\n",
    "y = [random() for y in range(500)]\n",
    "color = [\"navy\"] * len(x)\n",
    "\n",
    "s = ColumnDataSource(data=dict(x=x, y=y, color=color))\n",
    "p = figure(plot_width=400, plot_height=400, tools=\"lasso_select\", title=\"Select Here\")\n",
    "p.circle('x', 'y', color='color', size=8, source=s, alpha=0.4)\n",
    "\n",
    "s2 = ColumnDataSource(data=dict(xm=[0,1],ym=[0.5, 0.5]))\n",
    "p.line(x='xm', y='ym', color=\"orange\", line_width=5, alpha=0.6, source=s2)\n",
    "\n",
    "s.callback = CustomJS(args=dict(s2=s2), code=\"\"\"\n",
    "    var inds = cb_obj.get('selected')['1d'].indices;\n",
    "    var d = cb_obj.get('data');\n",
    "    var ym = 0\n",
    "    \n",
    "    if (inds.length == 0) { return; }\n",
    "    \n",
    "    for (i = 0; i < d['color'].length; i++) {\n",
    "        d['color'][i] = \"navy\"\n",
    "    }\n",
    "    for (i = 0; i < inds.length; i++) {\n",
    "        d['color'][inds[i]] = \"firebrick\"\n",
    "        ym += d['y'][inds[i]]\n",
    "    }\n",
    "    \n",
    "    ym /= inds.length\n",
    "    s2.get('data')['ym'] = [ym, ym]\n",
    "    \n",
    "    cb_obj.trigger('change');\n",
    "    s2.trigger('change');\n",
    "\"\"\")\n",
    "\n",
    "show(p)"
   ]
  },
  {
   "cell_type": "markdown",
   "metadata": {},
   "source": [
    "# More\n",
    "For more interactions, see the User Guide - http://bokeh.pydata.org/en/latest/docs/user_guide/interaction.html"
   ]
  },
  {
   "cell_type": "code",
   "execution_count": null,
   "metadata": {
    "collapsed": true
   },
   "outputs": [],
   "source": []
  }
 ],
 "metadata": {
  "anaconda-cloud": {},
  "kernelspec": {
   "display_name": "Python 3",
   "language": "python",
   "name": "python3"
  },
  "language_info": {
   "codemirror_mode": {
    "name": "ipython",
    "version": 3
   },
   "file_extension": ".py",
   "mimetype": "text/x-python",
   "name": "python",
   "nbconvert_exporter": "python",
   "pygments_lexer": "ipython3",
   "version": "3.6.4"
  },
  "widgets": {
   "state": {
    "335ae2c8ff80469e9adac668c2924989": {
     "views": [
      {
       "cell_index": 19
      }
     ]
    }
   },
   "version": "1.2.0"
  }
 },
 "nbformat": 4,
 "nbformat_minor": 2
}
