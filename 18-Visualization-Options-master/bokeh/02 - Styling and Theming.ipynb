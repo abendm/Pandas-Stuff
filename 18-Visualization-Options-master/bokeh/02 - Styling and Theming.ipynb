{
 "cells": [
  {
   "cell_type": "markdown",
   "metadata": {},
   "source": [
    "<table style=\"float:left; border:none\">\n",
    "   <tr style=\"border:none; background-color: #ffffff\">\n",
    "       <td style=\"border:none\">\n",
    "           <a href=\"http://bokeh.pydata.org/\">     \n",
    "           <img \n",
    "               src=\"assets/bokeh-transparent.png\" \n",
    "               style=\"width:50px\"\n",
    "           >\n",
    "           </a>    \n",
    "       </td>\n",
    "       <td style=\"border:none\">\n",
    "           <h1>Bokeh Tutorial</h1>\n",
    "       </td>\n",
    "   </tr>\n",
    "</table>\n",
    "\n",
    "<div style=\"float:right;\"><h2>02. Styling and Theming</h2></div>"
   ]
  },
  {
   "cell_type": "code",
   "execution_count": 1,
   "metadata": {
    "collapsed": true
   },
   "outputs": [],
   "source": [
    "from bokeh.io import output_notebook, show\n",
    "from bokeh.plotting import figure"
   ]
  },
  {
   "cell_type": "code",
   "execution_count": 2,
   "metadata": {},
   "outputs": [
    {
     "data": {
      "text/html": [
       "\n",
       "    <div class=\"bk-root\">\n",
       "        <a href=\"https://bokeh.pydata.org\" target=\"_blank\" class=\"bk-logo bk-logo-small bk-logo-notebook\"></a>\n",
       "        <span id=\"4843c5a7-e833-4e31-a3da-f0d7b77ca1fc\">Loading BokehJS ...</span>\n",
       "    </div>"
      ]
     },
     "metadata": {},
     "output_type": "display_data"
    },
    {
     "data": {
      "application/javascript": [
       "\n",
       "(function(root) {\n",
       "  function now() {\n",
       "    return new Date();\n",
       "  }\n",
       "\n",
       "  var force = true;\n",
       "\n",
       "  if (typeof (root._bokeh_onload_callbacks) === \"undefined\" || force === true) {\n",
       "    root._bokeh_onload_callbacks = [];\n",
       "    root._bokeh_is_loading = undefined;\n",
       "  }\n",
       "\n",
       "  var JS_MIME_TYPE = 'application/javascript';\n",
       "  var HTML_MIME_TYPE = 'text/html';\n",
       "  var EXEC_MIME_TYPE = 'application/vnd.bokehjs_exec.v0+json';\n",
       "  var CLASS_NAME = 'output_bokeh rendered_html';\n",
       "\n",
       "  /**\n",
       "   * Render data to the DOM node\n",
       "   */\n",
       "  function render(props, node) {\n",
       "    var script = document.createElement(\"script\");\n",
       "    node.appendChild(script);\n",
       "  }\n",
       "\n",
       "  /**\n",
       "   * Handle when an output is cleared or removed\n",
       "   */\n",
       "  function handleClearOutput(event, handle) {\n",
       "    var cell = handle.cell;\n",
       "\n",
       "    var id = cell.output_area._bokeh_element_id;\n",
       "    var server_id = cell.output_area._bokeh_server_id;\n",
       "    // Clean up Bokeh references\n",
       "    if (id !== undefined) {\n",
       "      Bokeh.index[id].model.document.clear();\n",
       "      delete Bokeh.index[id];\n",
       "    }\n",
       "\n",
       "    if (server_id !== undefined) {\n",
       "      // Clean up Bokeh references\n",
       "      var cmd = \"from bokeh.io.state import curstate; print(curstate().uuid_to_server['\" + server_id + \"'].get_sessions()[0].document.roots[0]._id)\";\n",
       "      cell.notebook.kernel.execute(cmd, {\n",
       "        iopub: {\n",
       "          output: function(msg) {\n",
       "            var element_id = msg.content.text.trim();\n",
       "            Bokeh.index[element_id].model.document.clear();\n",
       "            delete Bokeh.index[element_id];\n",
       "          }\n",
       "        }\n",
       "      });\n",
       "      // Destroy server and session\n",
       "      var cmd = \"import bokeh.io.notebook as ion; ion.destroy_server('\" + server_id + \"')\";\n",
       "      cell.notebook.kernel.execute(cmd);\n",
       "    }\n",
       "  }\n",
       "\n",
       "  /**\n",
       "   * Handle when a new output is added\n",
       "   */\n",
       "  function handleAddOutput(event, handle) {\n",
       "    var output_area = handle.output_area;\n",
       "    var output = handle.output;\n",
       "\n",
       "    // limit handleAddOutput to display_data with EXEC_MIME_TYPE content only\n",
       "    if ((output.output_type != \"display_data\") || (!output.data.hasOwnProperty(EXEC_MIME_TYPE))) {\n",
       "      return\n",
       "    }\n",
       "\n",
       "    var toinsert = output_area.element.find(\".\" + CLASS_NAME.split(' ')[0]);\n",
       "\n",
       "    if (output.metadata[EXEC_MIME_TYPE][\"id\"] !== undefined) {\n",
       "      toinsert[0].firstChild.textContent = output.data[JS_MIME_TYPE];\n",
       "      // store reference to embed id on output_area\n",
       "      output_area._bokeh_element_id = output.metadata[EXEC_MIME_TYPE][\"id\"];\n",
       "    }\n",
       "    if (output.metadata[EXEC_MIME_TYPE][\"server_id\"] !== undefined) {\n",
       "      var bk_div = document.createElement(\"div\");\n",
       "      bk_div.innerHTML = output.data[HTML_MIME_TYPE];\n",
       "      var script_attrs = bk_div.children[0].attributes;\n",
       "      for (var i = 0; i < script_attrs.length; i++) {\n",
       "        toinsert[0].firstChild.setAttribute(script_attrs[i].name, script_attrs[i].value);\n",
       "      }\n",
       "      // store reference to server id on output_area\n",
       "      output_area._bokeh_server_id = output.metadata[EXEC_MIME_TYPE][\"server_id\"];\n",
       "    }\n",
       "  }\n",
       "\n",
       "  function register_renderer(events, OutputArea) {\n",
       "\n",
       "    function append_mime(data, metadata, element) {\n",
       "      // create a DOM node to render to\n",
       "      var toinsert = this.create_output_subarea(\n",
       "        metadata,\n",
       "        CLASS_NAME,\n",
       "        EXEC_MIME_TYPE\n",
       "      );\n",
       "      this.keyboard_manager.register_events(toinsert);\n",
       "      // Render to node\n",
       "      var props = {data: data, metadata: metadata[EXEC_MIME_TYPE]};\n",
       "      render(props, toinsert[0]);\n",
       "      element.append(toinsert);\n",
       "      return toinsert\n",
       "    }\n",
       "\n",
       "    /* Handle when an output is cleared or removed */\n",
       "    events.on('clear_output.CodeCell', handleClearOutput);\n",
       "    events.on('delete.Cell', handleClearOutput);\n",
       "\n",
       "    /* Handle when a new output is added */\n",
       "    events.on('output_added.OutputArea', handleAddOutput);\n",
       "\n",
       "    /**\n",
       "     * Register the mime type and append_mime function with output_area\n",
       "     */\n",
       "    OutputArea.prototype.register_mime_type(EXEC_MIME_TYPE, append_mime, {\n",
       "      /* Is output safe? */\n",
       "      safe: true,\n",
       "      /* Index of renderer in `output_area.display_order` */\n",
       "      index: 0\n",
       "    });\n",
       "  }\n",
       "\n",
       "  // register the mime type if in Jupyter Notebook environment and previously unregistered\n",
       "  if (root.Jupyter !== undefined) {\n",
       "    var events = require('base/js/events');\n",
       "    var OutputArea = require('notebook/js/outputarea').OutputArea;\n",
       "\n",
       "    if (OutputArea.prototype.mime_types().indexOf(EXEC_MIME_TYPE) == -1) {\n",
       "      register_renderer(events, OutputArea);\n",
       "    }\n",
       "  }\n",
       "\n",
       "  \n",
       "  if (typeof (root._bokeh_timeout) === \"undefined\" || force === true) {\n",
       "    root._bokeh_timeout = Date.now() + 5000;\n",
       "    root._bokeh_failed_load = false;\n",
       "  }\n",
       "\n",
       "  var NB_LOAD_WARNING = {'data': {'text/html':\n",
       "     \"<div style='background-color: #fdd'>\\n\"+\n",
       "     \"<p>\\n\"+\n",
       "     \"BokehJS does not appear to have successfully loaded. If loading BokehJS from CDN, this \\n\"+\n",
       "     \"may be due to a slow or bad network connection. Possible fixes:\\n\"+\n",
       "     \"</p>\\n\"+\n",
       "     \"<ul>\\n\"+\n",
       "     \"<li>re-rerun `output_notebook()` to attempt to load from CDN again, or</li>\\n\"+\n",
       "     \"<li>use INLINE resources instead, as so:</li>\\n\"+\n",
       "     \"</ul>\\n\"+\n",
       "     \"<code>\\n\"+\n",
       "     \"from bokeh.resources import INLINE\\n\"+\n",
       "     \"output_notebook(resources=INLINE)\\n\"+\n",
       "     \"</code>\\n\"+\n",
       "     \"</div>\"}};\n",
       "\n",
       "  function display_loaded() {\n",
       "    var el = document.getElementById(\"4843c5a7-e833-4e31-a3da-f0d7b77ca1fc\");\n",
       "    if (el != null) {\n",
       "      el.textContent = \"BokehJS is loading...\";\n",
       "    }\n",
       "    if (root.Bokeh !== undefined) {\n",
       "      if (el != null) {\n",
       "        el.textContent = \"BokehJS \" + root.Bokeh.version + \" successfully loaded.\";\n",
       "      }\n",
       "    } else if (Date.now() < root._bokeh_timeout) {\n",
       "      setTimeout(display_loaded, 100)\n",
       "    }\n",
       "  }\n",
       "\n",
       "\n",
       "  function run_callbacks() {\n",
       "    try {\n",
       "      root._bokeh_onload_callbacks.forEach(function(callback) { callback() });\n",
       "    }\n",
       "    finally {\n",
       "      delete root._bokeh_onload_callbacks\n",
       "    }\n",
       "    console.info(\"Bokeh: all callbacks have finished\");\n",
       "  }\n",
       "\n",
       "  function load_libs(js_urls, callback) {\n",
       "    root._bokeh_onload_callbacks.push(callback);\n",
       "    if (root._bokeh_is_loading > 0) {\n",
       "      console.log(\"Bokeh: BokehJS is being loaded, scheduling callback at\", now());\n",
       "      return null;\n",
       "    }\n",
       "    if (js_urls == null || js_urls.length === 0) {\n",
       "      run_callbacks();\n",
       "      return null;\n",
       "    }\n",
       "    console.log(\"Bokeh: BokehJS not loaded, scheduling load and callback at\", now());\n",
       "    root._bokeh_is_loading = js_urls.length;\n",
       "    for (var i = 0; i < js_urls.length; i++) {\n",
       "      var url = js_urls[i];\n",
       "      var s = document.createElement('script');\n",
       "      s.src = url;\n",
       "      s.async = false;\n",
       "      s.onreadystatechange = s.onload = function() {\n",
       "        root._bokeh_is_loading--;\n",
       "        if (root._bokeh_is_loading === 0) {\n",
       "          console.log(\"Bokeh: all BokehJS libraries loaded\");\n",
       "          run_callbacks()\n",
       "        }\n",
       "      };\n",
       "      s.onerror = function() {\n",
       "        console.warn(\"failed to load library \" + url);\n",
       "      };\n",
       "      console.log(\"Bokeh: injecting script tag for BokehJS library: \", url);\n",
       "      document.getElementsByTagName(\"head\")[0].appendChild(s);\n",
       "    }\n",
       "  };var element = document.getElementById(\"4843c5a7-e833-4e31-a3da-f0d7b77ca1fc\");\n",
       "  if (element == null) {\n",
       "    console.log(\"Bokeh: ERROR: autoload.js configured with elementid '4843c5a7-e833-4e31-a3da-f0d7b77ca1fc' but no matching script tag was found. \")\n",
       "    return false;\n",
       "  }\n",
       "\n",
       "  var js_urls = [\"https://cdn.pydata.org/bokeh/release/bokeh-0.12.13.min.js\", \"https://cdn.pydata.org/bokeh/release/bokeh-widgets-0.12.13.min.js\", \"https://cdn.pydata.org/bokeh/release/bokeh-tables-0.12.13.min.js\", \"https://cdn.pydata.org/bokeh/release/bokeh-gl-0.12.13.min.js\"];\n",
       "\n",
       "  var inline_js = [\n",
       "    function(Bokeh) {\n",
       "      Bokeh.set_log_level(\"info\");\n",
       "    },\n",
       "    \n",
       "    function(Bokeh) {\n",
       "      \n",
       "    },\n",
       "    function(Bokeh) {\n",
       "      console.log(\"Bokeh: injecting CSS: https://cdn.pydata.org/bokeh/release/bokeh-0.12.13.min.css\");\n",
       "      Bokeh.embed.inject_css(\"https://cdn.pydata.org/bokeh/release/bokeh-0.12.13.min.css\");\n",
       "      console.log(\"Bokeh: injecting CSS: https://cdn.pydata.org/bokeh/release/bokeh-widgets-0.12.13.min.css\");\n",
       "      Bokeh.embed.inject_css(\"https://cdn.pydata.org/bokeh/release/bokeh-widgets-0.12.13.min.css\");\n",
       "      console.log(\"Bokeh: injecting CSS: https://cdn.pydata.org/bokeh/release/bokeh-tables-0.12.13.min.css\");\n",
       "      Bokeh.embed.inject_css(\"https://cdn.pydata.org/bokeh/release/bokeh-tables-0.12.13.min.css\");\n",
       "    }\n",
       "  ];\n",
       "\n",
       "  function run_inline_js() {\n",
       "    \n",
       "    if ((root.Bokeh !== undefined) || (force === true)) {\n",
       "      for (var i = 0; i < inline_js.length; i++) {\n",
       "        inline_js[i].call(root, root.Bokeh);\n",
       "      }if (force === true) {\n",
       "        display_loaded();\n",
       "      }} else if (Date.now() < root._bokeh_timeout) {\n",
       "      setTimeout(run_inline_js, 100);\n",
       "    } else if (!root._bokeh_failed_load) {\n",
       "      console.log(\"Bokeh: BokehJS failed to load within specified timeout.\");\n",
       "      root._bokeh_failed_load = true;\n",
       "    } else if (force !== true) {\n",
       "      var cell = $(document.getElementById(\"4843c5a7-e833-4e31-a3da-f0d7b77ca1fc\")).parents('.cell').data().cell;\n",
       "      cell.output_area.append_execute_result(NB_LOAD_WARNING)\n",
       "    }\n",
       "\n",
       "  }\n",
       "\n",
       "  if (root._bokeh_is_loading === 0) {\n",
       "    console.log(\"Bokeh: BokehJS loaded, going straight to plotting\");\n",
       "    run_inline_js();\n",
       "  } else {\n",
       "    load_libs(js_urls, function() {\n",
       "      console.log(\"Bokeh: BokehJS plotting callback run at\", now());\n",
       "      run_inline_js();\n",
       "    });\n",
       "  }\n",
       "}(window));"
      ],
      "application/vnd.bokehjs_load.v0+json": "\n(function(root) {\n  function now() {\n    return new Date();\n  }\n\n  var force = true;\n\n  if (typeof (root._bokeh_onload_callbacks) === \"undefined\" || force === true) {\n    root._bokeh_onload_callbacks = [];\n    root._bokeh_is_loading = undefined;\n  }\n\n  \n\n  \n  if (typeof (root._bokeh_timeout) === \"undefined\" || force === true) {\n    root._bokeh_timeout = Date.now() + 5000;\n    root._bokeh_failed_load = false;\n  }\n\n  var NB_LOAD_WARNING = {'data': {'text/html':\n     \"<div style='background-color: #fdd'>\\n\"+\n     \"<p>\\n\"+\n     \"BokehJS does not appear to have successfully loaded. If loading BokehJS from CDN, this \\n\"+\n     \"may be due to a slow or bad network connection. Possible fixes:\\n\"+\n     \"</p>\\n\"+\n     \"<ul>\\n\"+\n     \"<li>re-rerun `output_notebook()` to attempt to load from CDN again, or</li>\\n\"+\n     \"<li>use INLINE resources instead, as so:</li>\\n\"+\n     \"</ul>\\n\"+\n     \"<code>\\n\"+\n     \"from bokeh.resources import INLINE\\n\"+\n     \"output_notebook(resources=INLINE)\\n\"+\n     \"</code>\\n\"+\n     \"</div>\"}};\n\n  function display_loaded() {\n    var el = document.getElementById(\"4843c5a7-e833-4e31-a3da-f0d7b77ca1fc\");\n    if (el != null) {\n      el.textContent = \"BokehJS is loading...\";\n    }\n    if (root.Bokeh !== undefined) {\n      if (el != null) {\n        el.textContent = \"BokehJS \" + root.Bokeh.version + \" successfully loaded.\";\n      }\n    } else if (Date.now() < root._bokeh_timeout) {\n      setTimeout(display_loaded, 100)\n    }\n  }\n\n\n  function run_callbacks() {\n    try {\n      root._bokeh_onload_callbacks.forEach(function(callback) { callback() });\n    }\n    finally {\n      delete root._bokeh_onload_callbacks\n    }\n    console.info(\"Bokeh: all callbacks have finished\");\n  }\n\n  function load_libs(js_urls, callback) {\n    root._bokeh_onload_callbacks.push(callback);\n    if (root._bokeh_is_loading > 0) {\n      console.log(\"Bokeh: BokehJS is being loaded, scheduling callback at\", now());\n      return null;\n    }\n    if (js_urls == null || js_urls.length === 0) {\n      run_callbacks();\n      return null;\n    }\n    console.log(\"Bokeh: BokehJS not loaded, scheduling load and callback at\", now());\n    root._bokeh_is_loading = js_urls.length;\n    for (var i = 0; i < js_urls.length; i++) {\n      var url = js_urls[i];\n      var s = document.createElement('script');\n      s.src = url;\n      s.async = false;\n      s.onreadystatechange = s.onload = function() {\n        root._bokeh_is_loading--;\n        if (root._bokeh_is_loading === 0) {\n          console.log(\"Bokeh: all BokehJS libraries loaded\");\n          run_callbacks()\n        }\n      };\n      s.onerror = function() {\n        console.warn(\"failed to load library \" + url);\n      };\n      console.log(\"Bokeh: injecting script tag for BokehJS library: \", url);\n      document.getElementsByTagName(\"head\")[0].appendChild(s);\n    }\n  };var element = document.getElementById(\"4843c5a7-e833-4e31-a3da-f0d7b77ca1fc\");\n  if (element == null) {\n    console.log(\"Bokeh: ERROR: autoload.js configured with elementid '4843c5a7-e833-4e31-a3da-f0d7b77ca1fc' but no matching script tag was found. \")\n    return false;\n  }\n\n  var js_urls = [\"https://cdn.pydata.org/bokeh/release/bokeh-0.12.13.min.js\", \"https://cdn.pydata.org/bokeh/release/bokeh-widgets-0.12.13.min.js\", \"https://cdn.pydata.org/bokeh/release/bokeh-tables-0.12.13.min.js\", \"https://cdn.pydata.org/bokeh/release/bokeh-gl-0.12.13.min.js\"];\n\n  var inline_js = [\n    function(Bokeh) {\n      Bokeh.set_log_level(\"info\");\n    },\n    \n    function(Bokeh) {\n      \n    },\n    function(Bokeh) {\n      console.log(\"Bokeh: injecting CSS: https://cdn.pydata.org/bokeh/release/bokeh-0.12.13.min.css\");\n      Bokeh.embed.inject_css(\"https://cdn.pydata.org/bokeh/release/bokeh-0.12.13.min.css\");\n      console.log(\"Bokeh: injecting CSS: https://cdn.pydata.org/bokeh/release/bokeh-widgets-0.12.13.min.css\");\n      Bokeh.embed.inject_css(\"https://cdn.pydata.org/bokeh/release/bokeh-widgets-0.12.13.min.css\");\n      console.log(\"Bokeh: injecting CSS: https://cdn.pydata.org/bokeh/release/bokeh-tables-0.12.13.min.css\");\n      Bokeh.embed.inject_css(\"https://cdn.pydata.org/bokeh/release/bokeh-tables-0.12.13.min.css\");\n    }\n  ];\n\n  function run_inline_js() {\n    \n    if ((root.Bokeh !== undefined) || (force === true)) {\n      for (var i = 0; i < inline_js.length; i++) {\n        inline_js[i].call(root, root.Bokeh);\n      }if (force === true) {\n        display_loaded();\n      }} else if (Date.now() < root._bokeh_timeout) {\n      setTimeout(run_inline_js, 100);\n    } else if (!root._bokeh_failed_load) {\n      console.log(\"Bokeh: BokehJS failed to load within specified timeout.\");\n      root._bokeh_failed_load = true;\n    } else if (force !== true) {\n      var cell = $(document.getElementById(\"4843c5a7-e833-4e31-a3da-f0d7b77ca1fc\")).parents('.cell').data().cell;\n      cell.output_area.append_execute_result(NB_LOAD_WARNING)\n    }\n\n  }\n\n  if (root._bokeh_is_loading === 0) {\n    console.log(\"Bokeh: BokehJS loaded, going straight to plotting\");\n    run_inline_js();\n  } else {\n    load_libs(js_urls, function() {\n      console.log(\"Bokeh: BokehJS plotting callback run at\", now());\n      run_inline_js();\n    });\n  }\n}(window));"
     },
     "metadata": {},
     "output_type": "display_data"
    }
   ],
   "source": [
    "output_notebook()"
   ]
  },
  {
   "cell_type": "markdown",
   "metadata": {},
   "source": [
    "# Colors and Properties"
   ]
  },
  {
   "cell_type": "markdown",
   "metadata": {},
   "source": [
    "## Colors\n",
    "\n",
    "There are many places where you may need to specify colors. Bokeh can accept colors in a variety of different ways:\n",
    "\n",
    "* any of the [147 named CSS colors](http://www.w3schools.com/cssref/css_colornames.asp), e.g ``'green'``, ``'indigo'``\n",
    "* an RGB(A) hex value, e.g., ``'#FF0000'``, ``'#44444444'``\n",
    "* a 3-tuple of integers *(r,g,b)* between 0 and 255\n",
    "*  a 4-tuple of *(r,g,b,a)* where *r*, *g*, *b* are integers between 0 and 255 and *a* is a floating point value between 0 and 1\n",
    "\n"
   ]
  },
  {
   "cell_type": "markdown",
   "metadata": {},
   "source": [
    "## Properties\n",
    "\n",
    "Regardless of what API (``models``, ``plotting``, or ``charts``) is used to create a Bokeh plot, styling the visual aspects of the plot can always be accomplished by setting attributes on the Bokeh model objects that comprise the resulting plot. Visual properties come in three kinds: line, fill, and text properties. For full information with code and examples see the [Styling Visual Properties](http://bokeh.pydata.org/en/latest/docs/user_guide/styling.html) section of the user guide. \n",
    "\n",
    "----\n",
    "\n",
    "### Line Properties\n",
    "\n",
    "Set the visual appearance of lines. The most common are ``line_color``, ``line_alpha``, ``line_width`` and ``line_dash``.\n",
    "\n",
    "### Fill Properties\n",
    "\n",
    "Set the visual appearance of filled areas: ``fill_color`` and ``fill_alpha``.\n",
    "\n",
    "### Text Properties\n",
    "\n",
    "Set the visual appearance of lines of text. The most common are ``text_font``, ``text_font_size``, ``text_color``, and ``text_alpha``.\n",
    "\n",
    "----\n",
    "\n",
    "Sometimes a prefix is used with property names, e.g. to distinguish between different line properties on the same object, or to give a more meaningful name. For example, to set the line width of the plot outline, you would say ``myplot.outline_line_width = 2``. "
   ]
  },
  {
   "cell_type": "markdown",
   "metadata": {},
   "source": [
    "# Plots\n",
    "\n",
    "Many top-level attributes of plots (outline, border, etc.) can be configured. See the [Plots](http://bokeh.pydata.org/en/latest/docs/user_guide/styling.html#plots) section of the styling guide for full information. \n",
    "\n",
    "Here is an example that tweaks the plot outline:"
   ]
  },
  {
   "cell_type": "code",
   "execution_count": 3,
   "metadata": {
    "scrolled": false
   },
   "outputs": [
    {
     "data": {
      "text/html": [
       "\n",
       "<div class=\"bk-root\">\n",
       "    <div class=\"bk-plotdiv\" id=\"d3461767-b681-4fe7-97de-083a4d5dd06e\"></div>\n",
       "</div>"
      ]
     },
     "metadata": {},
     "output_type": "display_data"
    },
    {
     "data": {
      "application/javascript": [
       "(function(root) {\n",
       "  function embed_document(root) {\n",
       "    \n",
       "  var docs_json = {\"c0f405ea-c142-4ade-84f8-1c0673a66891\":{\"roots\":{\"references\":[{\"attributes\":{},\"id\":\"841439cc-9615-4577-9eb5-0e8a072665ed\",\"type\":\"BasicTickFormatter\"},{\"attributes\":{\"dimension\":1,\"plot\":{\"id\":\"856f36f2-c34b-4da8-8514-bd716d91c8cd\",\"subtype\":\"Figure\",\"type\":\"Plot\"},\"ticker\":{\"id\":\"71e40734-fce0-4c33-a2e0-6f9c97fac874\",\"type\":\"BasicTicker\"}},\"id\":\"6f2f47c5-eb67-4e31-8527-551eff69d60c\",\"type\":\"Grid\"},{\"attributes\":{\"fill_alpha\":{\"value\":0.1},\"fill_color\":{\"value\":\"#1f77b4\"},\"line_alpha\":{\"value\":0.1},\"line_color\":{\"value\":\"#1f77b4\"},\"size\":{\"units\":\"screen\",\"value\":10},\"x\":{\"field\":\"x\"},\"y\":{\"field\":\"y\"}},\"id\":\"2e47c1da-fb0f-4e47-ae31-35f240233a61\",\"type\":\"Circle\"},{\"attributes\":{\"bottom_units\":\"screen\",\"fill_alpha\":{\"value\":0.5},\"fill_color\":{\"value\":\"lightgrey\"},\"left_units\":\"screen\",\"level\":\"overlay\",\"line_alpha\":{\"value\":1.0},\"line_color\":{\"value\":\"black\"},\"line_dash\":[4,4],\"line_width\":{\"value\":2},\"plot\":null,\"render_mode\":\"css\",\"right_units\":\"screen\",\"top_units\":\"screen\"},\"id\":\"0075200d-9534-4719-8e6a-e4a06a885871\",\"type\":\"BoxAnnotation\"},{\"attributes\":{\"below\":[{\"id\":\"2c38bb98-5e51-49a0-9b62-881f9d0d3192\",\"type\":\"LinearAxis\"}],\"left\":[{\"id\":\"32854bd7-0745-490f-b025-14211cbeb97a\",\"type\":\"LinearAxis\"}],\"outline_line_alpha\":{\"value\":0.3},\"outline_line_color\":{\"value\":\"navy\"},\"outline_line_width\":{\"value\":7},\"plot_height\":400,\"plot_width\":400,\"renderers\":[{\"id\":\"2c38bb98-5e51-49a0-9b62-881f9d0d3192\",\"type\":\"LinearAxis\"},{\"id\":\"bd1abd7a-221d-4405-861c-3bd9b3701298\",\"type\":\"Grid\"},{\"id\":\"32854bd7-0745-490f-b025-14211cbeb97a\",\"type\":\"LinearAxis\"},{\"id\":\"6f2f47c5-eb67-4e31-8527-551eff69d60c\",\"type\":\"Grid\"},{\"id\":\"0075200d-9534-4719-8e6a-e4a06a885871\",\"type\":\"BoxAnnotation\"},{\"id\":\"49a645ff-dff2-435a-b25a-a9da379c6e3d\",\"type\":\"GlyphRenderer\"}],\"title\":{\"id\":\"b9885702-af6d-4763-99d6-8c10914c071c\",\"type\":\"Title\"},\"toolbar\":{\"id\":\"93e77feb-8d60-4061-9ac2-ee7e6728d20b\",\"type\":\"Toolbar\"},\"x_range\":{\"id\":\"933e18b2-607d-4468-943b-5b43173d6141\",\"type\":\"DataRange1d\"},\"x_scale\":{\"id\":\"4bb13c57-d482-4b3e-a7db-cb8df42d8896\",\"type\":\"LinearScale\"},\"y_range\":{\"id\":\"430d98b3-6998-4682-8995-803cb6a2f7d1\",\"type\":\"DataRange1d\"},\"y_scale\":{\"id\":\"78e2b868-2607-4c9c-808d-9e2e751b7afd\",\"type\":\"LinearScale\"}},\"id\":\"856f36f2-c34b-4da8-8514-bd716d91c8cd\",\"subtype\":\"Figure\",\"type\":\"Plot\"},{\"attributes\":{\"callback\":null,\"column_names\":[\"x\",\"y\"],\"data\":{\"x\":[1,2,3,4,5],\"y\":[2,5,8,2,7]}},\"id\":\"3474f9c9-01d6-401e-8497-4472dc9694cf\",\"type\":\"ColumnDataSource\"},{\"attributes\":{\"data_source\":{\"id\":\"3474f9c9-01d6-401e-8497-4472dc9694cf\",\"type\":\"ColumnDataSource\"},\"glyph\":{\"id\":\"568759d7-34be-4a58-9e75-979a105350f4\",\"type\":\"Circle\"},\"hover_glyph\":null,\"muted_glyph\":null,\"nonselection_glyph\":{\"id\":\"2e47c1da-fb0f-4e47-ae31-35f240233a61\",\"type\":\"Circle\"},\"selection_glyph\":null,\"view\":{\"id\":\"d5001574-5c02-477c-8603-cfb3f5004ddd\",\"type\":\"CDSView\"}},\"id\":\"49a645ff-dff2-435a-b25a-a9da379c6e3d\",\"type\":\"GlyphRenderer\"},{\"attributes\":{},\"id\":\"23f2f260-da1f-4de4-9a3d-75fd75a59b64\",\"type\":\"PanTool\"},{\"attributes\":{\"active_drag\":\"auto\",\"active_inspect\":\"auto\",\"active_scroll\":\"auto\",\"active_tap\":\"auto\",\"tools\":[{\"id\":\"23f2f260-da1f-4de4-9a3d-75fd75a59b64\",\"type\":\"PanTool\"},{\"id\":\"2c0966e5-473d-4319-9b50-6f97fe420ca6\",\"type\":\"WheelZoomTool\"},{\"id\":\"2e3e9a4b-63dc-43fd-947a-471329a8b083\",\"type\":\"BoxZoomTool\"},{\"id\":\"61059f30-6d62-4f2b-ac4a-27487489ac42\",\"type\":\"SaveTool\"},{\"id\":\"98266d97-a62b-416f-a94a-0599ca96237d\",\"type\":\"ResetTool\"},{\"id\":\"2c24677b-1283-4141-8689-67b1eb5e23a8\",\"type\":\"HelpTool\"}]},\"id\":\"93e77feb-8d60-4061-9ac2-ee7e6728d20b\",\"type\":\"Toolbar\"},{\"attributes\":{\"source\":{\"id\":\"3474f9c9-01d6-401e-8497-4472dc9694cf\",\"type\":\"ColumnDataSource\"}},\"id\":\"d5001574-5c02-477c-8603-cfb3f5004ddd\",\"type\":\"CDSView\"},{\"attributes\":{},\"id\":\"2c0966e5-473d-4319-9b50-6f97fe420ca6\",\"type\":\"WheelZoomTool\"},{\"attributes\":{\"callback\":null},\"id\":\"933e18b2-607d-4468-943b-5b43173d6141\",\"type\":\"DataRange1d\"},{\"attributes\":{\"overlay\":{\"id\":\"0075200d-9534-4719-8e6a-e4a06a885871\",\"type\":\"BoxAnnotation\"}},\"id\":\"2e3e9a4b-63dc-43fd-947a-471329a8b083\",\"type\":\"BoxZoomTool\"},{\"attributes\":{\"plot\":null,\"text\":\"\"},\"id\":\"b9885702-af6d-4763-99d6-8c10914c071c\",\"type\":\"Title\"},{\"attributes\":{},\"id\":\"61059f30-6d62-4f2b-ac4a-27487489ac42\",\"type\":\"SaveTool\"},{\"attributes\":{\"callback\":null},\"id\":\"430d98b3-6998-4682-8995-803cb6a2f7d1\",\"type\":\"DataRange1d\"},{\"attributes\":{},\"id\":\"98266d97-a62b-416f-a94a-0599ca96237d\",\"type\":\"ResetTool\"},{\"attributes\":{},\"id\":\"4bb13c57-d482-4b3e-a7db-cb8df42d8896\",\"type\":\"LinearScale\"},{\"attributes\":{},\"id\":\"2c24677b-1283-4141-8689-67b1eb5e23a8\",\"type\":\"HelpTool\"},{\"attributes\":{},\"id\":\"78e2b868-2607-4c9c-808d-9e2e751b7afd\",\"type\":\"LinearScale\"},{\"attributes\":{\"formatter\":{\"id\":\"841439cc-9615-4577-9eb5-0e8a072665ed\",\"type\":\"BasicTickFormatter\"},\"plot\":{\"id\":\"856f36f2-c34b-4da8-8514-bd716d91c8cd\",\"subtype\":\"Figure\",\"type\":\"Plot\"},\"ticker\":{\"id\":\"1008dee6-e084-46ab-9347-750d60f0444f\",\"type\":\"BasicTicker\"}},\"id\":\"2c38bb98-5e51-49a0-9b62-881f9d0d3192\",\"type\":\"LinearAxis\"},{\"attributes\":{},\"id\":\"a0635266-6054-4be2-ab01-4186a54456cb\",\"type\":\"BasicTickFormatter\"},{\"attributes\":{},\"id\":\"1008dee6-e084-46ab-9347-750d60f0444f\",\"type\":\"BasicTicker\"},{\"attributes\":{\"fill_color\":{\"value\":\"#1f77b4\"},\"line_color\":{\"value\":\"#1f77b4\"},\"size\":{\"units\":\"screen\",\"value\":10},\"x\":{\"field\":\"x\"},\"y\":{\"field\":\"y\"}},\"id\":\"568759d7-34be-4a58-9e75-979a105350f4\",\"type\":\"Circle\"},{\"attributes\":{\"formatter\":{\"id\":\"a0635266-6054-4be2-ab01-4186a54456cb\",\"type\":\"BasicTickFormatter\"},\"plot\":{\"id\":\"856f36f2-c34b-4da8-8514-bd716d91c8cd\",\"subtype\":\"Figure\",\"type\":\"Plot\"},\"ticker\":{\"id\":\"71e40734-fce0-4c33-a2e0-6f9c97fac874\",\"type\":\"BasicTicker\"}},\"id\":\"32854bd7-0745-490f-b025-14211cbeb97a\",\"type\":\"LinearAxis\"},{\"attributes\":{\"plot\":{\"id\":\"856f36f2-c34b-4da8-8514-bd716d91c8cd\",\"subtype\":\"Figure\",\"type\":\"Plot\"},\"ticker\":{\"id\":\"1008dee6-e084-46ab-9347-750d60f0444f\",\"type\":\"BasicTicker\"}},\"id\":\"bd1abd7a-221d-4405-861c-3bd9b3701298\",\"type\":\"Grid\"},{\"attributes\":{},\"id\":\"71e40734-fce0-4c33-a2e0-6f9c97fac874\",\"type\":\"BasicTicker\"}],\"root_ids\":[\"856f36f2-c34b-4da8-8514-bd716d91c8cd\"]},\"title\":\"Bokeh Application\",\"version\":\"0.12.13\"}};\n",
       "  var render_items = [{\"docid\":\"c0f405ea-c142-4ade-84f8-1c0673a66891\",\"elementid\":\"d3461767-b681-4fe7-97de-083a4d5dd06e\",\"modelid\":\"856f36f2-c34b-4da8-8514-bd716d91c8cd\"}];\n",
       "  root.Bokeh.embed.embed_items_notebook(docs_json, render_items);\n",
       "\n",
       "  }\n",
       "  if (root.Bokeh !== undefined) {\n",
       "    embed_document(root);\n",
       "  } else {\n",
       "    var attempts = 0;\n",
       "    var timer = setInterval(function(root) {\n",
       "      if (root.Bokeh !== undefined) {\n",
       "        embed_document(root);\n",
       "        clearInterval(timer);\n",
       "      }\n",
       "      attempts++;\n",
       "      if (attempts > 100) {\n",
       "        console.log(\"Bokeh: ERROR: Unable to run BokehJS code because BokehJS library is missing\")\n",
       "        clearInterval(timer);\n",
       "      }\n",
       "    }, 10, root)\n",
       "  }\n",
       "})(window);"
      ],
      "application/vnd.bokehjs_exec.v0+json": ""
     },
     "metadata": {
      "application/vnd.bokehjs_exec.v0+json": {
       "id": "856f36f2-c34b-4da8-8514-bd716d91c8cd"
      }
     },
     "output_type": "display_data"
    }
   ],
   "source": [
    "# create a new plot with a title\n",
    "p = figure(plot_width=400, plot_height=400)\n",
    "p.outline_line_width = 7\n",
    "p.outline_line_alpha = 0.3\n",
    "p.outline_line_color = \"navy\"\n",
    "\n",
    "p.circle([1,2,3,4,5], [2,5,8,2,7], size=10)\n",
    "\n",
    "show(p)"
   ]
  },
  {
   "cell_type": "code",
   "execution_count": 4,
   "metadata": {
    "collapsed": true
   },
   "outputs": [],
   "source": [
    "# EXERCISE Create a plot of your own and customize several plot-level properties\n"
   ]
  },
  {
   "cell_type": "markdown",
   "metadata": {},
   "source": [
    "# Glyphs\n",
    "\n",
    "It's also possible to style the visual properties of glyphs. When using `bokeh.plotting` this is often done when calling the glyph methods:\n",
    "```python\n",
    "p.circle(line_color=\"red\", fill_alpha=0.2, ...)\n",
    "```\n",
    "But it is also possible to set these properties directly on glyph objects. Glyph objects are found on `GlyphRenderer` objects, which are returned by the `Plot.add_glyph` and `bokeh.plotting` glyph methods like `circle`, `rect`, etc. Let's look at an example:"
   ]
  },
  {
   "cell_type": "code",
   "execution_count": 5,
   "metadata": {},
   "outputs": [
    {
     "data": {
      "text/html": [
       "\n",
       "<div class=\"bk-root\">\n",
       "    <div class=\"bk-plotdiv\" id=\"767cfb61-9e35-4a35-bfbb-9047669431ec\"></div>\n",
       "</div>"
      ]
     },
     "metadata": {},
     "output_type": "display_data"
    },
    {
     "data": {
      "application/javascript": [
       "(function(root) {\n",
       "  function embed_document(root) {\n",
       "    \n",
       "  var docs_json = {\"5e1394af-6421-4bcb-abf6-1301926995fe\":{\"roots\":{\"references\":[{\"attributes\":{\"formatter\":{\"id\":\"bad39e74-c424-436e-b322-16404bac6958\",\"type\":\"BasicTickFormatter\"},\"plot\":{\"id\":\"3553b3d2-94e6-4f27-9109-58647d1f08aa\",\"subtype\":\"Figure\",\"type\":\"Plot\"},\"ticker\":{\"id\":\"39d10721-f66a-49cf-83c8-47f85118da5d\",\"type\":\"BasicTicker\"}},\"id\":\"57798b49-e76a-4774-8880-470c8699b8fa\",\"type\":\"LinearAxis\"},{\"attributes\":{\"data_source\":{\"id\":\"2e390e29-34c1-4248-aca7-b0ed56f9f485\",\"type\":\"ColumnDataSource\"},\"glyph\":{\"id\":\"a80b2d4f-a6c1-4ead-a1a9-ff93fa482d91\",\"type\":\"Circle\"},\"hover_glyph\":null,\"muted_glyph\":null,\"nonselection_glyph\":{\"id\":\"97bbf1d4-2f75-45f9-b9e3-fc0b4cad4abd\",\"type\":\"Circle\"},\"selection_glyph\":null,\"view\":{\"id\":\"a47741f8-1b24-48fe-a4df-4c274904f233\",\"type\":\"CDSView\"}},\"id\":\"fc14c658-75e1-437b-98ed-eb3a6f36d990\",\"type\":\"GlyphRenderer\"},{\"attributes\":{},\"id\":\"f59b1871-bc50-4e70-967a-a51ce780998e\",\"type\":\"BasicTicker\"},{\"attributes\":{},\"id\":\"32583788-3a3d-4450-a0df-2ae88c5490a6\",\"type\":\"LinearScale\"},{\"attributes\":{},\"id\":\"789b0edf-49b6-46ee-8e67-45513a4b2251\",\"type\":\"HelpTool\"},{\"attributes\":{\"overlay\":{\"id\":\"b8a9928c-3441-4238-830d-45013d5b55cd\",\"type\":\"BoxAnnotation\"}},\"id\":\"9ebdab06-c865-42cb-8ecc-1832a9ed2e2e\",\"type\":\"BoxZoomTool\"},{\"attributes\":{},\"id\":\"15e31291-0ccf-4dce-99b0-7c97bd905c9a\",\"type\":\"ResetTool\"},{\"attributes\":{\"active_drag\":\"auto\",\"active_inspect\":\"auto\",\"active_scroll\":\"auto\",\"active_tap\":\"auto\",\"tools\":[{\"id\":\"973b4ec5-c753-4e48-a20e-adb03cf048f4\",\"type\":\"PanTool\"},{\"id\":\"da895b2a-8663-4562-940e-9b4ddbbb1d0e\",\"type\":\"WheelZoomTool\"},{\"id\":\"9ebdab06-c865-42cb-8ecc-1832a9ed2e2e\",\"type\":\"BoxZoomTool\"},{\"id\":\"bad71f00-2ec3-4432-8281-e1684e5bd0f0\",\"type\":\"SaveTool\"},{\"id\":\"15e31291-0ccf-4dce-99b0-7c97bd905c9a\",\"type\":\"ResetTool\"},{\"id\":\"789b0edf-49b6-46ee-8e67-45513a4b2251\",\"type\":\"HelpTool\"}]},\"id\":\"3aa3b62e-32de-4a72-ba07-9c90fda71cc2\",\"type\":\"Toolbar\"},{\"attributes\":{},\"id\":\"bad71f00-2ec3-4432-8281-e1684e5bd0f0\",\"type\":\"SaveTool\"},{\"attributes\":{\"callback\":null},\"id\":\"ee73f68e-4238-479e-997b-ef6e7f08ed0b\",\"type\":\"DataRange1d\"},{\"attributes\":{\"callback\":null},\"id\":\"9208492d-171c-44e7-9134-22d64dcc4d9c\",\"type\":\"DataRange1d\"},{\"attributes\":{},\"id\":\"da895b2a-8663-4562-940e-9b4ddbbb1d0e\",\"type\":\"WheelZoomTool\"},{\"attributes\":{},\"id\":\"973b4ec5-c753-4e48-a20e-adb03cf048f4\",\"type\":\"PanTool\"},{\"attributes\":{\"formatter\":{\"id\":\"975caa4a-3090-4a4d-ae31-79a73448baee\",\"type\":\"BasicTickFormatter\"},\"plot\":{\"id\":\"3553b3d2-94e6-4f27-9109-58647d1f08aa\",\"subtype\":\"Figure\",\"type\":\"Plot\"},\"ticker\":{\"id\":\"f59b1871-bc50-4e70-967a-a51ce780998e\",\"type\":\"BasicTicker\"}},\"id\":\"ca3eb275-09aa-48cb-9b01-d126721b0e57\",\"type\":\"LinearAxis\"},{\"attributes\":{\"below\":[{\"id\":\"ca3eb275-09aa-48cb-9b01-d126721b0e57\",\"type\":\"LinearAxis\"}],\"left\":[{\"id\":\"57798b49-e76a-4774-8880-470c8699b8fa\",\"type\":\"LinearAxis\"}],\"plot_height\":400,\"plot_width\":400,\"renderers\":[{\"id\":\"ca3eb275-09aa-48cb-9b01-d126721b0e57\",\"type\":\"LinearAxis\"},{\"id\":\"4dfb41d7-6a0f-42a4-834e-8bd74579f8dd\",\"type\":\"Grid\"},{\"id\":\"57798b49-e76a-4774-8880-470c8699b8fa\",\"type\":\"LinearAxis\"},{\"id\":\"b8110110-ecb3-4f01-9647-e125478a99d6\",\"type\":\"Grid\"},{\"id\":\"b8a9928c-3441-4238-830d-45013d5b55cd\",\"type\":\"BoxAnnotation\"},{\"id\":\"fc14c658-75e1-437b-98ed-eb3a6f36d990\",\"type\":\"GlyphRenderer\"}],\"title\":{\"id\":\"cc145bb8-9b1f-4bdd-9e1e-f5764d8069c4\",\"type\":\"Title\"},\"toolbar\":{\"id\":\"3aa3b62e-32de-4a72-ba07-9c90fda71cc2\",\"type\":\"Toolbar\"},\"x_range\":{\"id\":\"ee73f68e-4238-479e-997b-ef6e7f08ed0b\",\"type\":\"DataRange1d\"},\"x_scale\":{\"id\":\"e57cfce6-0126-4e66-ab42-6820fb1222ab\",\"type\":\"LinearScale\"},\"y_range\":{\"id\":\"9208492d-171c-44e7-9134-22d64dcc4d9c\",\"type\":\"DataRange1d\"},\"y_scale\":{\"id\":\"32583788-3a3d-4450-a0df-2ae88c5490a6\",\"type\":\"LinearScale\"}},\"id\":\"3553b3d2-94e6-4f27-9109-58647d1f08aa\",\"subtype\":\"Figure\",\"type\":\"Plot\"},{\"attributes\":{\"bottom_units\":\"screen\",\"fill_alpha\":{\"value\":0.5},\"fill_color\":{\"value\":\"lightgrey\"},\"left_units\":\"screen\",\"level\":\"overlay\",\"line_alpha\":{\"value\":1.0},\"line_color\":{\"value\":\"black\"},\"line_dash\":[4,4],\"line_width\":{\"value\":2},\"plot\":null,\"render_mode\":\"css\",\"right_units\":\"screen\",\"top_units\":\"screen\"},\"id\":\"b8a9928c-3441-4238-830d-45013d5b55cd\",\"type\":\"BoxAnnotation\"},{\"attributes\":{\"fill_alpha\":{\"value\":0.1},\"fill_color\":{\"value\":\"#1f77b4\"},\"line_alpha\":{\"value\":0.1},\"line_color\":{\"value\":\"#1f77b4\"},\"x\":{\"field\":\"x\"},\"y\":{\"field\":\"y\"}},\"id\":\"97bbf1d4-2f75-45f9-b9e3-fc0b4cad4abd\",\"type\":\"Circle\"},{\"attributes\":{},\"id\":\"e57cfce6-0126-4e66-ab42-6820fb1222ab\",\"type\":\"LinearScale\"},{\"attributes\":{},\"id\":\"975caa4a-3090-4a4d-ae31-79a73448baee\",\"type\":\"BasicTickFormatter\"},{\"attributes\":{\"plot\":{\"id\":\"3553b3d2-94e6-4f27-9109-58647d1f08aa\",\"subtype\":\"Figure\",\"type\":\"Plot\"},\"ticker\":{\"id\":\"f59b1871-bc50-4e70-967a-a51ce780998e\",\"type\":\"BasicTicker\"}},\"id\":\"4dfb41d7-6a0f-42a4-834e-8bd74579f8dd\",\"type\":\"Grid\"},{\"attributes\":{\"callback\":null,\"column_names\":[\"x\",\"y\"],\"data\":{\"x\":[1,2,3,4,5],\"y\":[2,5,8,2,7]}},\"id\":\"2e390e29-34c1-4248-aca7-b0ed56f9f485\",\"type\":\"ColumnDataSource\"},{\"attributes\":{},\"id\":\"39d10721-f66a-49cf-83c8-47f85118da5d\",\"type\":\"BasicTicker\"},{\"attributes\":{\"fill_alpha\":{\"value\":0.2},\"fill_color\":{\"value\":\"#1f77b4\"},\"line_color\":{\"value\":\"firebrick\"},\"line_dash\":[5,1],\"line_width\":{\"value\":2},\"size\":{\"units\":\"screen\",\"value\":50},\"x\":{\"field\":\"x\"},\"y\":{\"field\":\"y\"}},\"id\":\"a80b2d4f-a6c1-4ead-a1a9-ff93fa482d91\",\"type\":\"Circle\"},{\"attributes\":{},\"id\":\"bad39e74-c424-436e-b322-16404bac6958\",\"type\":\"BasicTickFormatter\"},{\"attributes\":{\"source\":{\"id\":\"2e390e29-34c1-4248-aca7-b0ed56f9f485\",\"type\":\"ColumnDataSource\"}},\"id\":\"a47741f8-1b24-48fe-a4df-4c274904f233\",\"type\":\"CDSView\"},{\"attributes\":{\"plot\":null,\"text\":\"\"},\"id\":\"cc145bb8-9b1f-4bdd-9e1e-f5764d8069c4\",\"type\":\"Title\"},{\"attributes\":{\"dimension\":1,\"plot\":{\"id\":\"3553b3d2-94e6-4f27-9109-58647d1f08aa\",\"subtype\":\"Figure\",\"type\":\"Plot\"},\"ticker\":{\"id\":\"39d10721-f66a-49cf-83c8-47f85118da5d\",\"type\":\"BasicTicker\"}},\"id\":\"b8110110-ecb3-4f01-9647-e125478a99d6\",\"type\":\"Grid\"}],\"root_ids\":[\"3553b3d2-94e6-4f27-9109-58647d1f08aa\"]},\"title\":\"Bokeh Application\",\"version\":\"0.12.13\"}};\n",
       "  var render_items = [{\"docid\":\"5e1394af-6421-4bcb-abf6-1301926995fe\",\"elementid\":\"767cfb61-9e35-4a35-bfbb-9047669431ec\",\"modelid\":\"3553b3d2-94e6-4f27-9109-58647d1f08aa\"}];\n",
       "  root.Bokeh.embed.embed_items_notebook(docs_json, render_items);\n",
       "\n",
       "  }\n",
       "  if (root.Bokeh !== undefined) {\n",
       "    embed_document(root);\n",
       "  } else {\n",
       "    var attempts = 0;\n",
       "    var timer = setInterval(function(root) {\n",
       "      if (root.Bokeh !== undefined) {\n",
       "        embed_document(root);\n",
       "        clearInterval(timer);\n",
       "      }\n",
       "      attempts++;\n",
       "      if (attempts > 100) {\n",
       "        console.log(\"Bokeh: ERROR: Unable to run BokehJS code because BokehJS library is missing\")\n",
       "        clearInterval(timer);\n",
       "      }\n",
       "    }, 10, root)\n",
       "  }\n",
       "})(window);"
      ],
      "application/vnd.bokehjs_exec.v0+json": ""
     },
     "metadata": {
      "application/vnd.bokehjs_exec.v0+json": {
       "id": "3553b3d2-94e6-4f27-9109-58647d1f08aa"
      }
     },
     "output_type": "display_data"
    }
   ],
   "source": [
    "p = figure(plot_width=400, plot_height=400)\n",
    "\n",
    "# keep a reference to the returned GlyphRenderer\n",
    "r = p.circle([1,2,3,4,5], [2,5,8,2,7])\n",
    "\n",
    "r.glyph.size = 50\n",
    "r.glyph.fill_alpha = 0.2\n",
    "r.glyph.line_color = \"firebrick\"\n",
    "r.glyph.line_dash = [5, 1]\n",
    "r.glyph.line_width = 2\n",
    "\n",
    "show(p)"
   ]
  },
  {
   "cell_type": "markdown",
   "metadata": {},
   "source": [
    "### Selection and non-selection visuals\n",
    "\n",
    "You can also control how glyphs look when there are selections involved. The set of \"selected\" points is displayed according to the optional `.selection_glyph` property of a `GlyphRenderer`:\n",
    "```python\n",
    "r.selection_glyph = Circle(fill_alpha=1, fill_color=\"firebrick\", line_color=None) \n",
    "```\n",
    "When there is a non-empty selection, the set of \"unselected: points is displayed according to the optional  `.nonselection_glyph` property of a `GlyphRenderer`:\n",
    "```python\n",
    "r.nonselection_glyph = Circle(fill_alpha=0.2, fill_color=\"grey\", line_color=None) \n",
    "```\n",
    "\n",
    "When using the `bokeh.plotting` interface, it is easier to pass these visual properties to the glyph methods as shown below. The glyph method will create the selection or nonselection glyphs and attach them to the renderer for you. "
   ]
  },
  {
   "cell_type": "code",
   "execution_count": 6,
   "metadata": {},
   "outputs": [
    {
     "data": {
      "text/html": [
       "\n",
       "<div class=\"bk-root\">\n",
       "    <div class=\"bk-plotdiv\" id=\"b7e442ca-e9b6-422e-b495-daa8be7f928b\"></div>\n",
       "</div>"
      ]
     },
     "metadata": {},
     "output_type": "display_data"
    },
    {
     "data": {
      "application/javascript": [
       "(function(root) {\n",
       "  function embed_document(root) {\n",
       "    \n",
       "  var docs_json = {\"648a5dfe-198b-4055-b446-bca21ab8cd1e\":{\"roots\":{\"references\":[{\"attributes\":{\"callback\":null},\"id\":\"e119f729-d791-453e-affd-5da385b2267f\",\"type\":\"DataRange1d\"},{\"attributes\":{\"dimension\":1,\"plot\":{\"id\":\"efd6bc08-e363-4a29-8da7-58ed19487c19\",\"subtype\":\"Figure\",\"type\":\"Plot\"},\"ticker\":{\"id\":\"6cc7283c-8758-46c1-8e29-8e113f030f35\",\"type\":\"BasicTicker\"}},\"id\":\"5270f74a-37bf-4dc3-99cd-40505cb906d4\",\"type\":\"Grid\"},{\"attributes\":{\"fill_alpha\":{\"value\":0.2},\"fill_color\":{\"value\":\"grey\"},\"line_color\":{\"value\":\"firebrick\"},\"size\":{\"units\":\"screen\",\"value\":50},\"x\":{\"field\":\"x\"},\"y\":{\"field\":\"y\"}},\"id\":\"2c79ddb9-3d92-46b6-bfa4-525f316fd25d\",\"type\":\"Circle\"},{\"attributes\":{\"callback\":null},\"id\":\"cd16508e-e194-4fa0-8173-6d2998a3f1ac\",\"type\":\"DataRange1d\"},{\"attributes\":{\"fill_color\":{\"value\":\"#1f77b4\"},\"line_color\":{\"value\":\"#1f77b4\"},\"size\":{\"units\":\"screen\",\"value\":50},\"x\":{\"field\":\"x\"},\"y\":{\"field\":\"y\"}},\"id\":\"522c0e58-75a3-4add-a88c-02cdfc43e458\",\"type\":\"Circle\"},{\"attributes\":{\"active_drag\":\"auto\",\"active_inspect\":\"auto\",\"active_scroll\":\"auto\",\"active_tap\":\"auto\",\"tools\":[{\"id\":\"fe2505c0-a95d-4d51-ad8d-d8300d4c3021\",\"type\":\"TapTool\"}]},\"id\":\"f98be8d0-0d97-4a30-8064-400a8aa0ad3c\",\"type\":\"Toolbar\"},{\"attributes\":{\"formatter\":{\"id\":\"0f47efdc-f860-4e86-886f-bbcb991d5ed5\",\"type\":\"BasicTickFormatter\"},\"plot\":{\"id\":\"efd6bc08-e363-4a29-8da7-58ed19487c19\",\"subtype\":\"Figure\",\"type\":\"Plot\"},\"ticker\":{\"id\":\"a776ac8e-913a-4e59-b5b3-bab01ccebae9\",\"type\":\"BasicTicker\"}},\"id\":\"bf3c4371-ae3d-4d22-9a2e-536a2a3d6bd3\",\"type\":\"LinearAxis\"},{\"attributes\":{\"source\":{\"id\":\"1b6ef5de-77bb-4578-bfbb-15c1a28d657c\",\"type\":\"ColumnDataSource\"}},\"id\":\"bacd7079-9a3d-4b9b-a81b-c54fa7446942\",\"type\":\"CDSView\"},{\"attributes\":{\"formatter\":{\"id\":\"f9207bec-fde5-4405-890c-eef7b9c11556\",\"type\":\"BasicTickFormatter\"},\"plot\":{\"id\":\"efd6bc08-e363-4a29-8da7-58ed19487c19\",\"subtype\":\"Figure\",\"type\":\"Plot\"},\"ticker\":{\"id\":\"6cc7283c-8758-46c1-8e29-8e113f030f35\",\"type\":\"BasicTicker\"}},\"id\":\"7d36ee27-d178-4dc0-8133-576ee30908b4\",\"type\":\"LinearAxis\"},{\"attributes\":{\"plot\":{\"id\":\"efd6bc08-e363-4a29-8da7-58ed19487c19\",\"subtype\":\"Figure\",\"type\":\"Plot\"},\"ticker\":{\"id\":\"a776ac8e-913a-4e59-b5b3-bab01ccebae9\",\"type\":\"BasicTicker\"}},\"id\":\"94fd3b1e-d5e8-4bbf-aeed-be7fc05066c5\",\"type\":\"Grid\"},{\"attributes\":{\"plot\":null,\"text\":\"Select a circle\"},\"id\":\"7930b05d-3a4c-48df-907a-36a8f7e414aa\",\"type\":\"Title\"},{\"attributes\":{},\"id\":\"411759a2-fc0a-49dd-bffb-9888dd81ebc6\",\"type\":\"LinearScale\"},{\"attributes\":{\"below\":[{\"id\":\"bf3c4371-ae3d-4d22-9a2e-536a2a3d6bd3\",\"type\":\"LinearAxis\"}],\"left\":[{\"id\":\"7d36ee27-d178-4dc0-8133-576ee30908b4\",\"type\":\"LinearAxis\"}],\"plot_height\":400,\"plot_width\":400,\"renderers\":[{\"id\":\"bf3c4371-ae3d-4d22-9a2e-536a2a3d6bd3\",\"type\":\"LinearAxis\"},{\"id\":\"94fd3b1e-d5e8-4bbf-aeed-be7fc05066c5\",\"type\":\"Grid\"},{\"id\":\"7d36ee27-d178-4dc0-8133-576ee30908b4\",\"type\":\"LinearAxis\"},{\"id\":\"5270f74a-37bf-4dc3-99cd-40505cb906d4\",\"type\":\"Grid\"},{\"id\":\"570d3d8e-fb98-4808-9cd7-4ff35adbd6b7\",\"type\":\"GlyphRenderer\"}],\"title\":{\"id\":\"7930b05d-3a4c-48df-907a-36a8f7e414aa\",\"type\":\"Title\"},\"toolbar\":{\"id\":\"f98be8d0-0d97-4a30-8064-400a8aa0ad3c\",\"type\":\"Toolbar\"},\"x_range\":{\"id\":\"cd16508e-e194-4fa0-8173-6d2998a3f1ac\",\"type\":\"DataRange1d\"},\"x_scale\":{\"id\":\"411759a2-fc0a-49dd-bffb-9888dd81ebc6\",\"type\":\"LinearScale\"},\"y_range\":{\"id\":\"e119f729-d791-453e-affd-5da385b2267f\",\"type\":\"DataRange1d\"},\"y_scale\":{\"id\":\"04d656ae-6049-43e1-a8d1-b1a658f4985c\",\"type\":\"LinearScale\"}},\"id\":\"efd6bc08-e363-4a29-8da7-58ed19487c19\",\"subtype\":\"Figure\",\"type\":\"Plot\"},{\"attributes\":{},\"id\":\"f9207bec-fde5-4405-890c-eef7b9c11556\",\"type\":\"BasicTickFormatter\"},{\"attributes\":{},\"id\":\"a776ac8e-913a-4e59-b5b3-bab01ccebae9\",\"type\":\"BasicTicker\"},{\"attributes\":{\"callback\":null},\"id\":\"fe2505c0-a95d-4d51-ad8d-d8300d4c3021\",\"type\":\"TapTool\"},{\"attributes\":{\"data_source\":{\"id\":\"1b6ef5de-77bb-4578-bfbb-15c1a28d657c\",\"type\":\"ColumnDataSource\"},\"glyph\":{\"id\":\"522c0e58-75a3-4add-a88c-02cdfc43e458\",\"type\":\"Circle\"},\"hover_glyph\":null,\"muted_glyph\":null,\"nonselection_glyph\":{\"id\":\"2c79ddb9-3d92-46b6-bfa4-525f316fd25d\",\"type\":\"Circle\"},\"selection_glyph\":{\"id\":\"6b522dc2-26f6-47c8-98ca-3987580487dc\",\"type\":\"Circle\"},\"view\":{\"id\":\"bacd7079-9a3d-4b9b-a81b-c54fa7446942\",\"type\":\"CDSView\"}},\"id\":\"570d3d8e-fb98-4808-9cd7-4ff35adbd6b7\",\"type\":\"GlyphRenderer\"},{\"attributes\":{\"callback\":null,\"column_names\":[\"x\",\"y\"],\"data\":{\"x\":[1,2,3,4,5],\"y\":[2,5,8,2,7]}},\"id\":\"1b6ef5de-77bb-4578-bfbb-15c1a28d657c\",\"type\":\"ColumnDataSource\"},{\"attributes\":{},\"id\":\"0f47efdc-f860-4e86-886f-bbcb991d5ed5\",\"type\":\"BasicTickFormatter\"},{\"attributes\":{},\"id\":\"6cc7283c-8758-46c1-8e29-8e113f030f35\",\"type\":\"BasicTicker\"},{\"attributes\":{\"fill_color\":{\"value\":\"firebrick\"},\"line_color\":{\"value\":\"firebrick\"},\"size\":{\"units\":\"screen\",\"value\":50},\"x\":{\"field\":\"x\"},\"y\":{\"field\":\"y\"}},\"id\":\"6b522dc2-26f6-47c8-98ca-3987580487dc\",\"type\":\"Circle\"},{\"attributes\":{},\"id\":\"04d656ae-6049-43e1-a8d1-b1a658f4985c\",\"type\":\"LinearScale\"}],\"root_ids\":[\"efd6bc08-e363-4a29-8da7-58ed19487c19\"]},\"title\":\"Bokeh Application\",\"version\":\"0.12.13\"}};\n",
       "  var render_items = [{\"docid\":\"648a5dfe-198b-4055-b446-bca21ab8cd1e\",\"elementid\":\"b7e442ca-e9b6-422e-b495-daa8be7f928b\",\"modelid\":\"efd6bc08-e363-4a29-8da7-58ed19487c19\"}];\n",
       "  root.Bokeh.embed.embed_items_notebook(docs_json, render_items);\n",
       "\n",
       "  }\n",
       "  if (root.Bokeh !== undefined) {\n",
       "    embed_document(root);\n",
       "  } else {\n",
       "    var attempts = 0;\n",
       "    var timer = setInterval(function(root) {\n",
       "      if (root.Bokeh !== undefined) {\n",
       "        embed_document(root);\n",
       "        clearInterval(timer);\n",
       "      }\n",
       "      attempts++;\n",
       "      if (attempts > 100) {\n",
       "        console.log(\"Bokeh: ERROR: Unable to run BokehJS code because BokehJS library is missing\")\n",
       "        clearInterval(timer);\n",
       "      }\n",
       "    }, 10, root)\n",
       "  }\n",
       "})(window);"
      ],
      "application/vnd.bokehjs_exec.v0+json": ""
     },
     "metadata": {
      "application/vnd.bokehjs_exec.v0+json": {
       "id": "efd6bc08-e363-4a29-8da7-58ed19487c19"
      }
     },
     "output_type": "display_data"
    }
   ],
   "source": [
    "p = figure(plot_width=400, plot_height=400, tools=\"tap\", title=\"Select a circle\")\n",
    "renderer = p.circle([1, 2, 3, 4, 5], [2, 5, 8, 2, 7], size=50,\n",
    "\n",
    "                    # set visual properties for selected glyphs\n",
    "                    selection_color=\"firebrick\",\n",
    "\n",
    "                    # set visual properties for non-selected glyphs\n",
    "                    nonselection_fill_alpha=0.2,\n",
    "                    nonselection_fill_color=\"grey\",\n",
    "                    nonselection_line_color=\"firebrick\",\n",
    "                    nonselection_line_alpha=1.0)\n",
    "\n",
    "show(p)"
   ]
  },
  {
   "cell_type": "markdown",
   "metadata": {},
   "source": [
    "It is also possible to specify the visual appearance of glyphs when they are \"inspected\", e.g. by a hover tool. This is accomplished by setting an optional `hover_glyph` on the glyph renderer:\n",
    "```python\n",
    "r.hover_glyph = Circle(fill_alpha=1, fill_color=\"firebrick\", line_color=None) \n",
    "```\n",
    "Or if using `bokeh.plotting` glyph methods, by passing `hover_fill_alpha`, etc. to the glyph method. Lets look at an example that works together with a `HoverTool` configured for \"hline\" hit-testing."
   ]
  },
  {
   "cell_type": "code",
   "execution_count": 7,
   "metadata": {},
   "outputs": [
    {
     "data": {
      "text/html": [
       "\n",
       "<div class=\"bk-root\">\n",
       "    <div class=\"bk-plotdiv\" id=\"db395957-56a4-449a-93ed-2c720e93d2cd\"></div>\n",
       "</div>"
      ]
     },
     "metadata": {},
     "output_type": "display_data"
    },
    {
     "data": {
      "application/javascript": [
       "(function(root) {\n",
       "  function embed_document(root) {\n",
       "    \n",
       "  var docs_json = {\"2691922d-410b-4352-ab59-22256212a75a\":{\"roots\":{\"references\":[{\"attributes\":{\"line_color\":\"gray\",\"line_dash\":[4,4],\"x\":{\"field\":\"x\"},\"y\":{\"field\":\"y\"}},\"id\":\"e2558ce2-10a8-4637-92c6-000a0611d828\",\"type\":\"Line\"},{\"attributes\":{\"days\":[1,8,15,22]},\"id\":\"ea9a71ea-e207-48c0-95db-d66ac26b75dc\",\"type\":\"DaysTicker\"},{\"attributes\":{\"days\":[1,15]},\"id\":\"be9b1af6-ba58-431c-801c-77280979ed11\",\"type\":\"DaysTicker\"},{\"attributes\":{\"months\":[0,1,2,3,4,5,6,7,8,9,10,11]},\"id\":\"157978bb-95b0-4fd7-9ed7-77358cc66abe\",\"type\":\"MonthsTicker\"},{\"attributes\":{\"active_drag\":\"auto\",\"active_inspect\":\"auto\",\"active_scroll\":\"auto\",\"active_tap\":\"auto\",\"tools\":[{\"id\":\"aa6c458a-8838-41b2-9e00-009bc86906c4\",\"type\":\"PanTool\"},{\"id\":\"896de5df-1786-4961-b151-dbf437b1c551\",\"type\":\"WheelZoomTool\"},{\"id\":\"25e899ac-8050-4bac-912d-217b7f4eaeb6\",\"type\":\"BoxZoomTool\"},{\"id\":\"b4d9e16c-a65d-457d-9dde-4cb4db9b811d\",\"type\":\"SaveTool\"},{\"id\":\"133def60-4b0a-4709-b3f0-03f5b9afc142\",\"type\":\"ResetTool\"},{\"id\":\"068cd521-c46d-461a-83fa-7d020d6840db\",\"type\":\"HelpTool\"},{\"id\":\"5c8a9e05-b7f3-4371-ba01-5d0ab7de19ac\",\"type\":\"HoverTool\"}]},\"id\":\"ba06215d-26bd-4ed9-abd1-e0a3ad7cbf50\",\"type\":\"Toolbar\"},{\"attributes\":{\"months\":[0,2,4,6,8,10]},\"id\":\"c93f65f5-3446-4cc0-abce-574f51f506b8\",\"type\":\"MonthsTicker\"},{\"attributes\":{\"callback\":null},\"id\":\"2daf7563-65e1-499f-ad02-445c4de91ae4\",\"type\":\"DataRange1d\"},{\"attributes\":{\"months\":[0,4,8]},\"id\":\"8d902808-3889-42cd-8a0d-7e8f8f0a8792\",\"type\":\"MonthsTicker\"},{\"attributes\":{\"plot\":null,\"text\":\"Hover over points\"},\"id\":\"67b0e380-7ce7-4109-951b-191220ac639f\",\"type\":\"Title\"},{\"attributes\":{\"months\":[0,6]},\"id\":\"f5092b0c-b388-43b9-9147-9d93ea0e60cb\",\"type\":\"MonthsTicker\"},{\"attributes\":{\"line_alpha\":0.1,\"line_color\":\"#1f77b4\",\"line_dash\":[4,4],\"x\":{\"field\":\"x\"},\"y\":{\"field\":\"y\"}},\"id\":\"d3118afa-964d-4bd3-a1e6-4a2bb1d57f46\",\"type\":\"Line\"},{\"attributes\":{},\"id\":\"21481ed4-a21f-492a-94d9-95782d30e06e\",\"type\":\"YearsTicker\"},{\"attributes\":{},\"id\":\"88a6f5ca-75a0-4454-b41d-412edefecb1f\",\"type\":\"LinearScale\"},{\"attributes\":{\"callback\":null,\"mode\":\"hline\",\"renderers\":[{\"id\":\"86c7a856-74f5-4f58-877b-c04dea085d9f\",\"type\":\"GlyphRenderer\"}],\"tooltips\":null},\"id\":\"5c8a9e05-b7f3-4371-ba01-5d0ab7de19ac\",\"type\":\"HoverTool\"},{\"attributes\":{\"callback\":null},\"id\":\"84aaa56e-5c0e-4e8c-8338-e4ff5245c63b\",\"type\":\"DataRange1d\"},{\"attributes\":{\"fill_alpha\":{\"value\":0.05},\"fill_color\":{\"value\":\"grey\"},\"line_color\":{\"value\":null},\"size\":{\"units\":\"screen\",\"value\":20},\"x\":{\"field\":\"x\"},\"y\":{\"field\":\"y\"}},\"id\":\"aa3a7267-9d38-43ba-b1c5-169142ab8f78\",\"type\":\"Circle\"},{\"attributes\":{},\"id\":\"6411b3cc-a049-4b8d-bf2d-37e05fc52f40\",\"type\":\"LinearScale\"},{\"attributes\":{\"fill_alpha\":{\"value\":0.1},\"fill_color\":{\"value\":\"#1f77b4\"},\"line_alpha\":{\"value\":0.1},\"line_color\":{\"value\":\"#1f77b4\"},\"size\":{\"units\":\"screen\",\"value\":20},\"x\":{\"field\":\"x\"},\"y\":{\"field\":\"y\"}},\"id\":\"caf595ab-6b9f-4ded-b0e1-ff87ec9994eb\",\"type\":\"Circle\"},{\"attributes\":{\"fill_alpha\":{\"value\":0.3},\"fill_color\":{\"value\":\"firebrick\"},\"line_alpha\":{\"value\":0.3},\"line_color\":{\"value\":\"white\"},\"size\":{\"units\":\"screen\",\"value\":20},\"x\":{\"field\":\"x\"},\"y\":{\"field\":\"y\"}},\"id\":\"a924ba71-ceb9-4d45-bd8a-ea2459cfad34\",\"type\":\"Circle\"},{\"attributes\":{\"source\":{\"id\":\"aee19c91-3494-4473-aa38-681530615ceb\",\"type\":\"ColumnDataSource\"}},\"id\":\"87f51d3e-edb5-4c8c-93d7-216b0e092cc1\",\"type\":\"CDSView\"},{\"attributes\":{\"data_source\":{\"id\":\"0e22c099-4203-4db3-8ec2-7f831239d256\",\"type\":\"ColumnDataSource\"},\"glyph\":{\"id\":\"aa3a7267-9d38-43ba-b1c5-169142ab8f78\",\"type\":\"Circle\"},\"hover_glyph\":{\"id\":\"a924ba71-ceb9-4d45-bd8a-ea2459cfad34\",\"type\":\"Circle\"},\"muted_glyph\":null,\"nonselection_glyph\":{\"id\":\"caf595ab-6b9f-4ded-b0e1-ff87ec9994eb\",\"type\":\"Circle\"},\"selection_glyph\":null,\"view\":{\"id\":\"3919fdb0-9660-4a13-8308-ff98c6f2bc3e\",\"type\":\"CDSView\"}},\"id\":\"86c7a856-74f5-4f58-877b-c04dea085d9f\",\"type\":\"GlyphRenderer\"},{\"attributes\":{\"callback\":null,\"column_names\":[\"x\",\"y\"],\"data\":{\"x\":{\"__ndarray__\":\"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\",\"dtype\":\"float64\",\"shape\":[288]},\"y\":[143,147,150,152,152,152,154,155,142,140,138,134,131,130,128,127,126,126,126,126,127,129,131,132,134,136,136,136,136,135,134,132,130,130,130,129,128,127,125,124,123,123,122,121,120,118,115,112,111,111,110,110,109,108,107,107,107,108,107,105,105,105,105,104,103,102,99,97,96,94,94,93,93,92,91,92,94,95,96,97,99,102,104,112,112,112,111,110,107,104,105,105,103,99,96,94,95,102,114,128,144,160,173,185,196,205,209,214,219,226,234,241,248,255,260,265,268,270,272,271,271,268,265,261,256,253,250,246,244,241,237,233,229,225,222,204,200,197,193,190,186,182,179,175,171,168,164,158,154,151,148,145,141,133,139,152,173,196,217,233,244,249,250,253,256,260,263,265,265,264,260,254,246,234,217,200,188,181,175,169,164,159,154,147,138,132,129,127,123,117,111,106,104,103,100,94,88,83,78,75,73,71,69,68,67,67,68,70,71,71,70,69,68,67,67,67,66,67,69,71,74,76,78,80,80,80,80,80,80,82,84,87,90,92,87,87,86,86,86,86,87,87,87,85,83,82,83,87,95,107,118,130,141,149,172,179,187,201,214,221,225,230,232,230,223,216,208,199,191,185,181,177,176,177,176,173,171,169,163,154,152,153,154,154,153,151,150,150]}},\"id\":\"aee19c91-3494-4473-aa38-681530615ceb\",\"type\":\"ColumnDataSource\"},{\"attributes\":{\"num_minor_ticks\":5,\"tickers\":[{\"id\":\"b92114bc-a6b0-4f5d-a425-7401e8a7bcff\",\"type\":\"AdaptiveTicker\"},{\"id\":\"8e865f64-16ab-48a0-958b-a28d0d9db45c\",\"type\":\"AdaptiveTicker\"},{\"id\":\"ccf12fe6-411a-4538-b9db-25be22cc7359\",\"type\":\"AdaptiveTicker\"},{\"id\":\"d81cdcd5-defd-4e2f-91cc-980746d77947\",\"type\":\"DaysTicker\"},{\"id\":\"d6ce3989-f6cb-454f-b5a0-26011c59f320\",\"type\":\"DaysTicker\"},{\"id\":\"ea9a71ea-e207-48c0-95db-d66ac26b75dc\",\"type\":\"DaysTicker\"},{\"id\":\"be9b1af6-ba58-431c-801c-77280979ed11\",\"type\":\"DaysTicker\"},{\"id\":\"157978bb-95b0-4fd7-9ed7-77358cc66abe\",\"type\":\"MonthsTicker\"},{\"id\":\"c93f65f5-3446-4cc0-abce-574f51f506b8\",\"type\":\"MonthsTicker\"},{\"id\":\"8d902808-3889-42cd-8a0d-7e8f8f0a8792\",\"type\":\"MonthsTicker\"},{\"id\":\"f5092b0c-b388-43b9-9147-9d93ea0e60cb\",\"type\":\"MonthsTicker\"},{\"id\":\"21481ed4-a21f-492a-94d9-95782d30e06e\",\"type\":\"YearsTicker\"}]},\"id\":\"762fad92-c565-4dd0-a1cd-b2a111d1276a\",\"type\":\"DatetimeTicker\"},{\"attributes\":{\"source\":{\"id\":\"0e22c099-4203-4db3-8ec2-7f831239d256\",\"type\":\"ColumnDataSource\"}},\"id\":\"3919fdb0-9660-4a13-8308-ff98c6f2bc3e\",\"type\":\"CDSView\"},{\"attributes\":{\"formatter\":{\"id\":\"42da950a-8b8c-4b44-904e-734b6fe515b1\",\"type\":\"BasicTickFormatter\"},\"plot\":{\"id\":\"175a7d57-3645-4b96-8d49-0b0a5a678dbb\",\"subtype\":\"Figure\",\"type\":\"Plot\"},\"ticker\":{\"id\":\"2a8c6ec6-76cf-4f45-a912-8f30f004f4ef\",\"type\":\"BasicTicker\"}},\"id\":\"c048fc66-29c5-47e5-8934-eb827e8159d2\",\"type\":\"LinearAxis\"},{\"attributes\":{\"plot\":{\"id\":\"175a7d57-3645-4b96-8d49-0b0a5a678dbb\",\"subtype\":\"Figure\",\"type\":\"Plot\"},\"ticker\":{\"id\":\"762fad92-c565-4dd0-a1cd-b2a111d1276a\",\"type\":\"DatetimeTicker\"}},\"id\":\"35935758-5f7f-4fe4-80d7-b8fc3b71e822\",\"type\":\"Grid\"},{\"attributes\":{\"formatter\":{\"id\":\"d810a370-3cc3-441b-b9ff-bae077d45557\",\"type\":\"DatetimeTickFormatter\"},\"plot\":{\"id\":\"175a7d57-3645-4b96-8d49-0b0a5a678dbb\",\"subtype\":\"Figure\",\"type\":\"Plot\"},\"ticker\":{\"id\":\"762fad92-c565-4dd0-a1cd-b2a111d1276a\",\"type\":\"DatetimeTicker\"}},\"id\":\"70b35514-e41e-4080-a9c4-d7157858f9b2\",\"type\":\"DatetimeAxis\"},{\"attributes\":{},\"id\":\"2a8c6ec6-76cf-4f45-a912-8f30f004f4ef\",\"type\":\"BasicTicker\"},{\"attributes\":{\"dimension\":1,\"plot\":{\"id\":\"175a7d57-3645-4b96-8d49-0b0a5a678dbb\",\"subtype\":\"Figure\",\"type\":\"Plot\"},\"ticker\":{\"id\":\"2a8c6ec6-76cf-4f45-a912-8f30f004f4ef\",\"type\":\"BasicTicker\"}},\"id\":\"7b2a5a8e-7359-4ccd-903c-c15f1593f3d7\",\"type\":\"Grid\"},{\"attributes\":{\"below\":[{\"id\":\"70b35514-e41e-4080-a9c4-d7157858f9b2\",\"type\":\"DatetimeAxis\"}],\"left\":[{\"id\":\"c048fc66-29c5-47e5-8934-eb827e8159d2\",\"type\":\"LinearAxis\"}],\"plot_height\":300,\"renderers\":[{\"id\":\"70b35514-e41e-4080-a9c4-d7157858f9b2\",\"type\":\"DatetimeAxis\"},{\"id\":\"35935758-5f7f-4fe4-80d7-b8fc3b71e822\",\"type\":\"Grid\"},{\"id\":\"c048fc66-29c5-47e5-8934-eb827e8159d2\",\"type\":\"LinearAxis\"},{\"id\":\"7b2a5a8e-7359-4ccd-903c-c15f1593f3d7\",\"type\":\"Grid\"},{\"id\":\"efc00caf-80bc-47e0-8399-82611578b82c\",\"type\":\"BoxAnnotation\"},{\"id\":\"1d211356-d870-4c97-9b55-64fc9d730777\",\"type\":\"GlyphRenderer\"},{\"id\":\"86c7a856-74f5-4f58-877b-c04dea085d9f\",\"type\":\"GlyphRenderer\"}],\"title\":{\"id\":\"67b0e380-7ce7-4109-951b-191220ac639f\",\"type\":\"Title\"},\"toolbar\":{\"id\":\"ba06215d-26bd-4ed9-abd1-e0a3ad7cbf50\",\"type\":\"Toolbar\"},\"x_range\":{\"id\":\"2daf7563-65e1-499f-ad02-445c4de91ae4\",\"type\":\"DataRange1d\"},\"x_scale\":{\"id\":\"88a6f5ca-75a0-4454-b41d-412edefecb1f\",\"type\":\"LinearScale\"},\"y_range\":{\"id\":\"84aaa56e-5c0e-4e8c-8338-e4ff5245c63b\",\"type\":\"DataRange1d\"},\"y_scale\":{\"id\":\"6411b3cc-a049-4b8d-bf2d-37e05fc52f40\",\"type\":\"LinearScale\"}},\"id\":\"175a7d57-3645-4b96-8d49-0b0a5a678dbb\",\"subtype\":\"Figure\",\"type\":\"Plot\"},{\"attributes\":{\"data_source\":{\"id\":\"aee19c91-3494-4473-aa38-681530615ceb\",\"type\":\"ColumnDataSource\"},\"glyph\":{\"id\":\"e2558ce2-10a8-4637-92c6-000a0611d828\",\"type\":\"Line\"},\"hover_glyph\":null,\"muted_glyph\":null,\"nonselection_glyph\":{\"id\":\"d3118afa-964d-4bd3-a1e6-4a2bb1d57f46\",\"type\":\"Line\"},\"selection_glyph\":null,\"view\":{\"id\":\"87f51d3e-edb5-4c8c-93d7-216b0e092cc1\",\"type\":\"CDSView\"}},\"id\":\"1d211356-d870-4c97-9b55-64fc9d730777\",\"type\":\"GlyphRenderer\"},{\"attributes\":{},\"id\":\"d810a370-3cc3-441b-b9ff-bae077d45557\",\"type\":\"DatetimeTickFormatter\"},{\"attributes\":{\"callback\":null,\"column_names\":[\"x\",\"y\"],\"data\":{\"x\":{\"__ndarray__\":\"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\",\"dtype\":\"float64\",\"shape\":[288]},\"y\":[143,147,150,152,152,152,154,155,142,140,138,134,131,130,128,127,126,126,126,126,127,129,131,132,134,136,136,136,136,135,134,132,130,130,130,129,128,127,125,124,123,123,122,121,120,118,115,112,111,111,110,110,109,108,107,107,107,108,107,105,105,105,105,104,103,102,99,97,96,94,94,93,93,92,91,92,94,95,96,97,99,102,104,112,112,112,111,110,107,104,105,105,103,99,96,94,95,102,114,128,144,160,173,185,196,205,209,214,219,226,234,241,248,255,260,265,268,270,272,271,271,268,265,261,256,253,250,246,244,241,237,233,229,225,222,204,200,197,193,190,186,182,179,175,171,168,164,158,154,151,148,145,141,133,139,152,173,196,217,233,244,249,250,253,256,260,263,265,265,264,260,254,246,234,217,200,188,181,175,169,164,159,154,147,138,132,129,127,123,117,111,106,104,103,100,94,88,83,78,75,73,71,69,68,67,67,68,70,71,71,70,69,68,67,67,67,66,67,69,71,74,76,78,80,80,80,80,80,80,82,84,87,90,92,87,87,86,86,86,86,87,87,87,85,83,82,83,87,95,107,118,130,141,149,172,179,187,201,214,221,225,230,232,230,223,216,208,199,191,185,181,177,176,177,176,173,171,169,163,154,152,153,154,154,153,151,150,150]}},\"id\":\"0e22c099-4203-4db3-8ec2-7f831239d256\",\"type\":\"ColumnDataSource\"},{\"attributes\":{\"bottom_units\":\"screen\",\"fill_alpha\":{\"value\":0.5},\"fill_color\":{\"value\":\"lightgrey\"},\"left_units\":\"screen\",\"level\":\"overlay\",\"line_alpha\":{\"value\":1.0},\"line_color\":{\"value\":\"black\"},\"line_dash\":[4,4],\"line_width\":{\"value\":2},\"plot\":null,\"render_mode\":\"css\",\"right_units\":\"screen\",\"top_units\":\"screen\"},\"id\":\"efc00caf-80bc-47e0-8399-82611578b82c\",\"type\":\"BoxAnnotation\"},{\"attributes\":{},\"id\":\"aa6c458a-8838-41b2-9e00-009bc86906c4\",\"type\":\"PanTool\"},{\"attributes\":{},\"id\":\"896de5df-1786-4961-b151-dbf437b1c551\",\"type\":\"WheelZoomTool\"},{\"attributes\":{\"overlay\":{\"id\":\"efc00caf-80bc-47e0-8399-82611578b82c\",\"type\":\"BoxAnnotation\"}},\"id\":\"25e899ac-8050-4bac-912d-217b7f4eaeb6\",\"type\":\"BoxZoomTool\"},{\"attributes\":{},\"id\":\"b4d9e16c-a65d-457d-9dde-4cb4db9b811d\",\"type\":\"SaveTool\"},{\"attributes\":{},\"id\":\"133def60-4b0a-4709-b3f0-03f5b9afc142\",\"type\":\"ResetTool\"},{\"attributes\":{},\"id\":\"068cd521-c46d-461a-83fa-7d020d6840db\",\"type\":\"HelpTool\"},{\"attributes\":{\"days\":[1,4,7,10,13,16,19,22,25,28]},\"id\":\"d6ce3989-f6cb-454f-b5a0-26011c59f320\",\"type\":\"DaysTicker\"},{\"attributes\":{},\"id\":\"42da950a-8b8c-4b44-904e-734b6fe515b1\",\"type\":\"BasicTickFormatter\"},{\"attributes\":{\"mantissas\":[1,2,5],\"max_interval\":500.0,\"num_minor_ticks\":0},\"id\":\"b92114bc-a6b0-4f5d-a425-7401e8a7bcff\",\"type\":\"AdaptiveTicker\"},{\"attributes\":{\"base\":60,\"mantissas\":[1,2,5,10,15,20,30],\"max_interval\":1800000.0,\"min_interval\":1000.0,\"num_minor_ticks\":0},\"id\":\"8e865f64-16ab-48a0-958b-a28d0d9db45c\",\"type\":\"AdaptiveTicker\"},{\"attributes\":{\"days\":[1,2,3,4,5,6,7,8,9,10,11,12,13,14,15,16,17,18,19,20,21,22,23,24,25,26,27,28,29,30,31]},\"id\":\"d81cdcd5-defd-4e2f-91cc-980746d77947\",\"type\":\"DaysTicker\"},{\"attributes\":{\"base\":24,\"mantissas\":[1,2,4,6,8,12],\"max_interval\":43200000.0,\"min_interval\":3600000.0,\"num_minor_ticks\":0},\"id\":\"ccf12fe6-411a-4538-b9db-25be22cc7359\",\"type\":\"AdaptiveTicker\"}],\"root_ids\":[\"175a7d57-3645-4b96-8d49-0b0a5a678dbb\"]},\"title\":\"Bokeh Application\",\"version\":\"0.12.13\"}};\n",
       "  var render_items = [{\"docid\":\"2691922d-410b-4352-ab59-22256212a75a\",\"elementid\":\"db395957-56a4-449a-93ed-2c720e93d2cd\",\"modelid\":\"175a7d57-3645-4b96-8d49-0b0a5a678dbb\"}];\n",
       "  root.Bokeh.embed.embed_items_notebook(docs_json, render_items);\n",
       "\n",
       "  }\n",
       "  if (root.Bokeh !== undefined) {\n",
       "    embed_document(root);\n",
       "  } else {\n",
       "    var attempts = 0;\n",
       "    var timer = setInterval(function(root) {\n",
       "      if (root.Bokeh !== undefined) {\n",
       "        embed_document(root);\n",
       "        clearInterval(timer);\n",
       "      }\n",
       "      attempts++;\n",
       "      if (attempts > 100) {\n",
       "        console.log(\"Bokeh: ERROR: Unable to run BokehJS code because BokehJS library is missing\")\n",
       "        clearInterval(timer);\n",
       "      }\n",
       "    }, 10, root)\n",
       "  }\n",
       "})(window);"
      ],
      "application/vnd.bokehjs_exec.v0+json": ""
     },
     "metadata": {
      "application/vnd.bokehjs_exec.v0+json": {
       "id": "175a7d57-3645-4b96-8d49-0b0a5a678dbb"
      }
     },
     "output_type": "display_data"
    }
   ],
   "source": [
    "from bokeh.models.tools import HoverTool\n",
    "from bokeh.sampledata.glucose import data\n",
    "\n",
    "subset = data.loc['2010-10-06']\n",
    "\n",
    "x, y = subset.index.to_series(), subset['glucose']\n",
    "\n",
    "# Basic plot setup\n",
    "p = figure(width=600, height=300, x_axis_type=\"datetime\", title='Hover over points')\n",
    "\n",
    "p.line(x, y, line_dash=\"4 4\", line_width=1, color='gray')\n",
    "\n",
    "cr = p.circle(x, y, size=20,\n",
    "              fill_color=\"grey\", hover_fill_color=\"firebrick\",\n",
    "              fill_alpha=0.05, hover_alpha=0.3,\n",
    "              line_color=None, hover_line_color=\"white\")\n",
    "\n",
    "p.add_tools(HoverTool(tooltips=None, renderers=[cr], mode='hline'))\n",
    "\n",
    "show(p)"
   ]
  },
  {
   "cell_type": "code",
   "execution_count": 8,
   "metadata": {
    "collapsed": true
   },
   "outputs": [],
   "source": [
    "# EXERCISE: experiment with standard, selected, hover glyph visual properties\n"
   ]
  },
  {
   "cell_type": "markdown",
   "metadata": {},
   "source": [
    "# Axes\n",
    "\n",
    "[Axes](http://bokeh.pydata.org/en/latest/docs/user_guide/styling.html#axes)\n",
    "\n",
    "To style axes, you first must get ahold of `Axis` objects. The simplest way is to use some convenience methods on `Plot`: [axis](http://bokeh.pydata.org/en/latest/docs/reference/plotting.html#bokeh.plotting.Figure.axis), [xaxis](http://bokeh.pydata.org/en/latest/docs/reference/plotting.html#bokeh.plotting.Figure.xaxis), and [yaxis](http://bokeh.pydata.org/en/latest/docs/reference/plotting.html#bokeh.plotting.Figure.yaxis). These methods return lists of axis objects:\n",
    "\n",
    "```\n",
    ">>> p.xaxis\n",
    "[<bokeh.models.axes.LinearAxis at 0x106fa2390>]\n",
    "```\n",
    "However, you can set properties on all the elements of the list as if it was a single object:\n",
    "```\n",
    "p.xaxis.axis_label = \"Temperature\"\n",
    "p.axis.major_label_text_color = \"orange\"\n",
    "```\n",
    "These are referred to as \"splattable\" lists, and tab completion works on them as well. \n"
   ]
  },
  {
   "cell_type": "code",
   "execution_count": 9,
   "metadata": {
    "collapsed": true
   },
   "outputs": [],
   "source": [
    "# EXERCISE Try out tab completion. Type p.xaxis.<press tab key> to see a list of attributes that can be set.\n",
    "\n"
   ]
  },
  {
   "cell_type": "markdown",
   "metadata": {},
   "source": [
    "* **axis** \n",
    " - [line properties](http://bokeh.pydata.org/en/latest/docs/user_guide/styling.html#line-properties)\n",
    "* **axis_label** \n",
    " - [text properties](http://bokeh.pydata.org/en/latest/docs/user_guide/styling.html#text-properties)\n",
    " - ``axis_label_standoff``\n",
    "* **major_label** \n",
    " - [text properties](http://bokeh.pydata.org/en/latest/docs/user_guide/styling.html#text-properties)\n",
    " - ``orientation``\n",
    "* **major_tick** \n",
    " - [line_properties](http://bokeh.pydata.org/en/latest/docs/user_guide/styling.html#line-properties)\n",
    " - ``major_tick_in`` \n",
    " - ``major_tick_out``\n",
    "* **minor_tick** \n",
    " - [line properties](http://bokeh.pydata.org/en/latest/docs/user_guide/styling.html#line-properties)\n",
    " - ``minor_tick_in``\n",
    " - ``minor_tick_out``\n",
    "\n",
    "As a simple first example, let's change the orientation of the major tick labels on both axes of a plot:"
   ]
  },
  {
   "cell_type": "code",
   "execution_count": 10,
   "metadata": {},
   "outputs": [
    {
     "data": {
      "text/html": [
       "\n",
       "<div class=\"bk-root\">\n",
       "    <div class=\"bk-plotdiv\" id=\"db0a3f0e-e29a-41eb-8586-f662f77a9668\"></div>\n",
       "</div>"
      ]
     },
     "metadata": {},
     "output_type": "display_data"
    },
    {
     "data": {
      "application/javascript": [
       "(function(root) {\n",
       "  function embed_document(root) {\n",
       "    \n",
       "  var docs_json = {\"94193d1c-6ac9-40a1-b72f-88b4feb8eba8\":{\"roots\":{\"references\":[{\"attributes\":{},\"id\":\"8f234680-0cc2-4e92-b303-c419914df81f\",\"type\":\"WheelZoomTool\"},{\"attributes\":{},\"id\":\"19da0292-4885-4320-b5c1-faa57f0a1745\",\"type\":\"SaveTool\"},{\"attributes\":{\"plot\":{\"id\":\"06bc8d29-a6cb-4098-911f-4e521b844719\",\"subtype\":\"Figure\",\"type\":\"Plot\"},\"ticker\":{\"id\":\"6bca6fd3-082e-4bff-ad4e-6065008438ff\",\"type\":\"BasicTicker\"}},\"id\":\"220b78bc-2ac7-4f44-b162-976c517d7ed7\",\"type\":\"Grid\"},{\"attributes\":{},\"id\":\"5dfc21dd-3e14-442d-baad-f40689669e78\",\"type\":\"BasicTicker\"},{\"attributes\":{\"source\":{\"id\":\"9dea2485-f340-4739-b2d3-886b9cf1c0ed\",\"type\":\"ColumnDataSource\"}},\"id\":\"bee91c5d-78ab-48b7-a678-943bc8d39fcc\",\"type\":\"CDSView\"},{\"attributes\":{\"callback\":null},\"id\":\"63d14257-5abd-43cc-bd5e-9652aeb69c39\",\"type\":\"DataRange1d\"},{\"attributes\":{},\"id\":\"af694d50-edb8-492d-8860-e1ffe2d9ef91\",\"type\":\"BasicTickFormatter\"},{\"attributes\":{\"overlay\":{\"id\":\"94948945-8294-4d83-9ee6-d158e9371cdb\",\"type\":\"BoxAnnotation\"}},\"id\":\"626f7dd5-730b-4beb-9548-01c9d244ebd8\",\"type\":\"BoxZoomTool\"},{\"attributes\":{\"plot\":null,\"text\":\"\"},\"id\":\"7d35c967-64ad-48b9-93b2-97414477826f\",\"type\":\"Title\"},{\"attributes\":{},\"id\":\"25079aa1-368d-48df-8e63-2d7c815900c2\",\"type\":\"ResetTool\"},{\"attributes\":{},\"id\":\"b49d5d03-687e-4b93-9dbf-09c9fa985700\",\"type\":\"HelpTool\"},{\"attributes\":{},\"id\":\"baf883fe-5fa7-4186-ac67-df29b10de860\",\"type\":\"LinearScale\"},{\"attributes\":{},\"id\":\"ad0837b1-383d-4d5a-9d77-48eee5eb2bf1\",\"type\":\"LinearScale\"},{\"attributes\":{\"below\":[{\"id\":\"29d7fbb3-4715-4ebc-a248-1b8661407340\",\"type\":\"LinearAxis\"}],\"left\":[{\"id\":\"48a2faf3-69bc-48b4-af3a-1a3d090f6f93\",\"type\":\"LinearAxis\"}],\"plot_height\":400,\"plot_width\":400,\"renderers\":[{\"id\":\"29d7fbb3-4715-4ebc-a248-1b8661407340\",\"type\":\"LinearAxis\"},{\"id\":\"220b78bc-2ac7-4f44-b162-976c517d7ed7\",\"type\":\"Grid\"},{\"id\":\"48a2faf3-69bc-48b4-af3a-1a3d090f6f93\",\"type\":\"LinearAxis\"},{\"id\":\"fe9dbf92-02f9-4d7f-87cd-ff3d92ebb551\",\"type\":\"Grid\"},{\"id\":\"94948945-8294-4d83-9ee6-d158e9371cdb\",\"type\":\"BoxAnnotation\"},{\"id\":\"c41969af-14a7-4146-902b-d14caf4b6e2f\",\"type\":\"GlyphRenderer\"}],\"title\":{\"id\":\"7d35c967-64ad-48b9-93b2-97414477826f\",\"type\":\"Title\"},\"toolbar\":{\"id\":\"e20899f1-69c3-444a-a842-8ec8a7f8feac\",\"type\":\"Toolbar\"},\"x_range\":{\"id\":\"d599429e-82e5-4d26-84b9-3138afd23435\",\"type\":\"DataRange1d\"},\"x_scale\":{\"id\":\"baf883fe-5fa7-4186-ac67-df29b10de860\",\"type\":\"LinearScale\"},\"y_range\":{\"id\":\"63d14257-5abd-43cc-bd5e-9652aeb69c39\",\"type\":\"DataRange1d\"},\"y_scale\":{\"id\":\"ad0837b1-383d-4d5a-9d77-48eee5eb2bf1\",\"type\":\"LinearScale\"}},\"id\":\"06bc8d29-a6cb-4098-911f-4e521b844719\",\"subtype\":\"Figure\",\"type\":\"Plot\"},{\"attributes\":{\"callback\":null},\"id\":\"d599429e-82e5-4d26-84b9-3138afd23435\",\"type\":\"DataRange1d\"},{\"attributes\":{\"formatter\":{\"id\":\"af694d50-edb8-492d-8860-e1ffe2d9ef91\",\"type\":\"BasicTickFormatter\"},\"major_label_orientation\":0.7853981633974483,\"plot\":{\"id\":\"06bc8d29-a6cb-4098-911f-4e521b844719\",\"subtype\":\"Figure\",\"type\":\"Plot\"},\"ticker\":{\"id\":\"6bca6fd3-082e-4bff-ad4e-6065008438ff\",\"type\":\"BasicTicker\"}},\"id\":\"29d7fbb3-4715-4ebc-a248-1b8661407340\",\"type\":\"LinearAxis\"},{\"attributes\":{\"active_drag\":\"auto\",\"active_inspect\":\"auto\",\"active_scroll\":\"auto\",\"active_tap\":\"auto\",\"tools\":[{\"id\":\"1e154a82-ccf1-4002-96a1-bca809baaca7\",\"type\":\"PanTool\"},{\"id\":\"8f234680-0cc2-4e92-b303-c419914df81f\",\"type\":\"WheelZoomTool\"},{\"id\":\"626f7dd5-730b-4beb-9548-01c9d244ebd8\",\"type\":\"BoxZoomTool\"},{\"id\":\"19da0292-4885-4320-b5c1-faa57f0a1745\",\"type\":\"SaveTool\"},{\"id\":\"25079aa1-368d-48df-8e63-2d7c815900c2\",\"type\":\"ResetTool\"},{\"id\":\"b49d5d03-687e-4b93-9dbf-09c9fa985700\",\"type\":\"HelpTool\"}]},\"id\":\"e20899f1-69c3-444a-a842-8ec8a7f8feac\",\"type\":\"Toolbar\"},{\"attributes\":{\"fill_color\":{\"value\":\"#1f77b4\"},\"line_color\":{\"value\":\"#1f77b4\"},\"line_width\":{\"value\":2},\"size\":{\"units\":\"screen\",\"value\":10},\"x\":{\"field\":\"x\"},\"y\":{\"field\":\"y\"}},\"id\":\"80978e9f-81a8-48db-b629-39c0d43be95c\",\"type\":\"X\"},{\"attributes\":{\"formatter\":{\"id\":\"b1b3834b-0adc-4ee2-ba29-8dc9667ee3a4\",\"type\":\"BasicTickFormatter\"},\"major_label_orientation\":\"vertical\",\"plot\":{\"id\":\"06bc8d29-a6cb-4098-911f-4e521b844719\",\"subtype\":\"Figure\",\"type\":\"Plot\"},\"ticker\":{\"id\":\"5dfc21dd-3e14-442d-baad-f40689669e78\",\"type\":\"BasicTicker\"}},\"id\":\"48a2faf3-69bc-48b4-af3a-1a3d090f6f93\",\"type\":\"LinearAxis\"},{\"attributes\":{},\"id\":\"6bca6fd3-082e-4bff-ad4e-6065008438ff\",\"type\":\"BasicTicker\"},{\"attributes\":{\"fill_alpha\":{\"value\":0.1},\"fill_color\":{\"value\":\"#1f77b4\"},\"line_alpha\":{\"value\":0.1},\"line_color\":{\"value\":\"#1f77b4\"},\"line_width\":{\"value\":2},\"size\":{\"units\":\"screen\",\"value\":10},\"x\":{\"field\":\"x\"},\"y\":{\"field\":\"y\"}},\"id\":\"4f495948-a90d-4c0d-b6d9-70c7132b7585\",\"type\":\"X\"},{\"attributes\":{\"bottom_units\":\"screen\",\"fill_alpha\":{\"value\":0.5},\"fill_color\":{\"value\":\"lightgrey\"},\"left_units\":\"screen\",\"level\":\"overlay\",\"line_alpha\":{\"value\":1.0},\"line_color\":{\"value\":\"black\"},\"line_dash\":[4,4],\"line_width\":{\"value\":2},\"plot\":null,\"render_mode\":\"css\",\"right_units\":\"screen\",\"top_units\":\"screen\"},\"id\":\"94948945-8294-4d83-9ee6-d158e9371cdb\",\"type\":\"BoxAnnotation\"},{\"attributes\":{\"data_source\":{\"id\":\"9dea2485-f340-4739-b2d3-886b9cf1c0ed\",\"type\":\"ColumnDataSource\"},\"glyph\":{\"id\":\"80978e9f-81a8-48db-b629-39c0d43be95c\",\"type\":\"X\"},\"hover_glyph\":null,\"muted_glyph\":null,\"nonselection_glyph\":{\"id\":\"4f495948-a90d-4c0d-b6d9-70c7132b7585\",\"type\":\"X\"},\"selection_glyph\":null,\"view\":{\"id\":\"bee91c5d-78ab-48b7-a678-943bc8d39fcc\",\"type\":\"CDSView\"}},\"id\":\"c41969af-14a7-4146-902b-d14caf4b6e2f\",\"type\":\"GlyphRenderer\"},{\"attributes\":{\"callback\":null,\"column_names\":[\"x\",\"y\"],\"data\":{\"x\":[1,2,3,4,5],\"y\":[2,5,8,2,7]}},\"id\":\"9dea2485-f340-4739-b2d3-886b9cf1c0ed\",\"type\":\"ColumnDataSource\"},{\"attributes\":{},\"id\":\"1e154a82-ccf1-4002-96a1-bca809baaca7\",\"type\":\"PanTool\"},{\"attributes\":{\"dimension\":1,\"plot\":{\"id\":\"06bc8d29-a6cb-4098-911f-4e521b844719\",\"subtype\":\"Figure\",\"type\":\"Plot\"},\"ticker\":{\"id\":\"5dfc21dd-3e14-442d-baad-f40689669e78\",\"type\":\"BasicTicker\"}},\"id\":\"fe9dbf92-02f9-4d7f-87cd-ff3d92ebb551\",\"type\":\"Grid\"},{\"attributes\":{},\"id\":\"b1b3834b-0adc-4ee2-ba29-8dc9667ee3a4\",\"type\":\"BasicTickFormatter\"}],\"root_ids\":[\"06bc8d29-a6cb-4098-911f-4e521b844719\"]},\"title\":\"Bokeh Application\",\"version\":\"0.12.13\"}};\n",
       "  var render_items = [{\"docid\":\"94193d1c-6ac9-40a1-b72f-88b4feb8eba8\",\"elementid\":\"db0a3f0e-e29a-41eb-8586-f662f77a9668\",\"modelid\":\"06bc8d29-a6cb-4098-911f-4e521b844719\"}];\n",
       "  root.Bokeh.embed.embed_items_notebook(docs_json, render_items);\n",
       "\n",
       "  }\n",
       "  if (root.Bokeh !== undefined) {\n",
       "    embed_document(root);\n",
       "  } else {\n",
       "    var attempts = 0;\n",
       "    var timer = setInterval(function(root) {\n",
       "      if (root.Bokeh !== undefined) {\n",
       "        embed_document(root);\n",
       "        clearInterval(timer);\n",
       "      }\n",
       "      attempts++;\n",
       "      if (attempts > 100) {\n",
       "        console.log(\"Bokeh: ERROR: Unable to run BokehJS code because BokehJS library is missing\")\n",
       "        clearInterval(timer);\n",
       "      }\n",
       "    }, 10, root)\n",
       "  }\n",
       "})(window);"
      ],
      "application/vnd.bokehjs_exec.v0+json": ""
     },
     "metadata": {
      "application/vnd.bokehjs_exec.v0+json": {
       "id": "06bc8d29-a6cb-4098-911f-4e521b844719"
      }
     },
     "output_type": "display_data"
    }
   ],
   "source": [
    "from math import pi\n",
    "\n",
    "p = figure(plot_width=400, plot_height=400)\n",
    "p.x([1,2,3,4,5], [2,5,8,2,7], size=10, line_width=2)\n",
    "\n",
    "p.xaxis.major_label_orientation = pi/4\n",
    "p.yaxis.major_label_orientation = \"vertical\"\n",
    "\n",
    "show(p)"
   ]
  },
  {
   "cell_type": "markdown",
   "metadata": {},
   "source": [
    "The next example shows customizations on several of the different Axis properties at once:"
   ]
  },
  {
   "cell_type": "code",
   "execution_count": 11,
   "metadata": {},
   "outputs": [
    {
     "data": {
      "text/html": [
       "\n",
       "<div class=\"bk-root\">\n",
       "    <div class=\"bk-plotdiv\" id=\"32aec0e3-c9a0-43f4-95b9-498f34491b58\"></div>\n",
       "</div>"
      ]
     },
     "metadata": {},
     "output_type": "display_data"
    },
    {
     "data": {
      "application/javascript": [
       "(function(root) {\n",
       "  function embed_document(root) {\n",
       "    \n",
       "  var docs_json = {\"55817761-fa8f-4d2b-ae01-8bc3b1e32a7c\":{\"roots\":{\"references\":[{\"attributes\":{\"axis_label\":\"Pressure\",\"formatter\":{\"id\":\"0ca5a2c7-934c-4bfb-923d-41dddc0ffdca\",\"type\":\"BasicTickFormatter\"},\"major_label_orientation\":\"vertical\",\"major_label_text_color\":{\"value\":\"orange\"},\"minor_tick_in\":-3,\"minor_tick_out\":6,\"plot\":{\"id\":\"7ea449c4-1166-4437-ad8f-a14067ed62ed\",\"subtype\":\"Figure\",\"type\":\"Plot\"},\"ticker\":{\"id\":\"359daa3a-c80d-4457-a619-1b8f131a103a\",\"type\":\"BasicTicker\"}},\"id\":\"a5f12569-2fdb-4d73-aad3-54fa2a8c8125\",\"type\":\"LinearAxis\"},{\"attributes\":{},\"id\":\"6612bec9-77cb-4bea-a87d-3e39e54009bf\",\"type\":\"BasicTickFormatter\"},{\"attributes\":{\"dimension\":1,\"plot\":{\"id\":\"7ea449c4-1166-4437-ad8f-a14067ed62ed\",\"subtype\":\"Figure\",\"type\":\"Plot\"},\"ticker\":{\"id\":\"359daa3a-c80d-4457-a619-1b8f131a103a\",\"type\":\"BasicTicker\"}},\"id\":\"016d098a-6b83-4d0f-a8d2-4cf603b88c6a\",\"type\":\"Grid\"},{\"attributes\":{\"callback\":null},\"id\":\"3cea1e6d-2514-46ec-836b-b1fb6b9370db\",\"type\":\"DataRange1d\"},{\"attributes\":{\"source\":{\"id\":\"a2250665-8c43-4d41-a1dc-ebd4711d3c26\",\"type\":\"ColumnDataSource\"}},\"id\":\"21d36f5c-df28-4f2c-a1b3-5b7436aba3d2\",\"type\":\"CDSView\"},{\"attributes\":{},\"id\":\"54cbe610-1221-4fac-8f5b-8d6f4e839efa\",\"type\":\"ResetTool\"},{\"attributes\":{\"fill_alpha\":{\"value\":0.1},\"fill_color\":{\"value\":\"#1f77b4\"},\"line_alpha\":{\"value\":0.1},\"line_color\":{\"value\":\"#1f77b4\"},\"size\":{\"units\":\"screen\",\"value\":12},\"x\":{\"field\":\"x\"},\"y\":{\"field\":\"y\"}},\"id\":\"da58809b-bda1-4087-83d4-fe2596695452\",\"type\":\"Asterisk\"},{\"attributes\":{\"plot\":null,\"text\":\"\"},\"id\":\"98325a12-ce79-4b99-bdaf-2ac8752b94ee\",\"type\":\"Title\"},{\"attributes\":{\"below\":[{\"id\":\"fde4cf88-3b84-418f-be9b-a26a497af017\",\"type\":\"LinearAxis\"}],\"left\":[{\"id\":\"a5f12569-2fdb-4d73-aad3-54fa2a8c8125\",\"type\":\"LinearAxis\"}],\"plot_height\":400,\"plot_width\":400,\"renderers\":[{\"id\":\"fde4cf88-3b84-418f-be9b-a26a497af017\",\"type\":\"LinearAxis\"},{\"id\":\"bea82a63-ea32-4df5-b2e7-e1b616d6b80b\",\"type\":\"Grid\"},{\"id\":\"a5f12569-2fdb-4d73-aad3-54fa2a8c8125\",\"type\":\"LinearAxis\"},{\"id\":\"016d098a-6b83-4d0f-a8d2-4cf603b88c6a\",\"type\":\"Grid\"},{\"id\":\"6680536f-fa48-4e6e-a89c-359d1959bd2e\",\"type\":\"BoxAnnotation\"},{\"id\":\"e4fdebb4-91c5-45b1-9d82-d283dedd3071\",\"type\":\"GlyphRenderer\"}],\"title\":{\"id\":\"98325a12-ce79-4b99-bdaf-2ac8752b94ee\",\"type\":\"Title\"},\"toolbar\":{\"id\":\"2fa53d14-2fe8-4f9f-8366-eb04bbf9c0a1\",\"type\":\"Toolbar\"},\"x_range\":{\"id\":\"3cea1e6d-2514-46ec-836b-b1fb6b9370db\",\"type\":\"DataRange1d\"},\"x_scale\":{\"id\":\"3c532718-8ab4-46d5-8e4e-da5e253f2e53\",\"type\":\"LinearScale\"},\"y_range\":{\"id\":\"6a4a342b-02fd-4074-9edb-062dca1d572e\",\"type\":\"DataRange1d\"},\"y_scale\":{\"id\":\"84d77a36-7cd9-4ed7-b333-12d527501c86\",\"type\":\"LinearScale\"}},\"id\":\"7ea449c4-1166-4437-ad8f-a14067ed62ed\",\"subtype\":\"Figure\",\"type\":\"Plot\"},{\"attributes\":{\"fill_color\":{\"value\":\"olive\"},\"line_color\":{\"value\":\"olive\"},\"size\":{\"units\":\"screen\",\"value\":12},\"x\":{\"field\":\"x\"},\"y\":{\"field\":\"y\"}},\"id\":\"7cc8845a-5047-4116-80db-8dbf475422b2\",\"type\":\"Asterisk\"},{\"attributes\":{},\"id\":\"0ca5a2c7-934c-4bfb-923d-41dddc0ffdca\",\"type\":\"BasicTickFormatter\"},{\"attributes\":{\"bottom_units\":\"screen\",\"fill_alpha\":{\"value\":0.5},\"fill_color\":{\"value\":\"lightgrey\"},\"left_units\":\"screen\",\"level\":\"overlay\",\"line_alpha\":{\"value\":1.0},\"line_color\":{\"value\":\"black\"},\"line_dash\":[4,4],\"line_width\":{\"value\":2},\"plot\":null,\"render_mode\":\"css\",\"right_units\":\"screen\",\"top_units\":\"screen\"},\"id\":\"6680536f-fa48-4e6e-a89c-359d1959bd2e\",\"type\":\"BoxAnnotation\"},{\"attributes\":{\"callback\":null,\"column_names\":[\"x\",\"y\"],\"data\":{\"x\":[1,2,3,4,5],\"y\":[2,5,8,2,7]}},\"id\":\"a2250665-8c43-4d41-a1dc-ebd4711d3c26\",\"type\":\"ColumnDataSource\"},{\"attributes\":{\"overlay\":{\"id\":\"6680536f-fa48-4e6e-a89c-359d1959bd2e\",\"type\":\"BoxAnnotation\"}},\"id\":\"38d325b8-ee43-4317-a31d-5aa389f14d4b\",\"type\":\"BoxZoomTool\"},{\"attributes\":{},\"id\":\"84d77a36-7cd9-4ed7-b333-12d527501c86\",\"type\":\"LinearScale\"},{\"attributes\":{},\"id\":\"f94d4a0e-d7bc-4467-abd2-5518a79bcc95\",\"type\":\"BasicTicker\"},{\"attributes\":{},\"id\":\"0266f311-63ac-4355-a05f-c8fce82ea047\",\"type\":\"SaveTool\"},{\"attributes\":{\"callback\":null},\"id\":\"6a4a342b-02fd-4074-9edb-062dca1d572e\",\"type\":\"DataRange1d\"},{\"attributes\":{\"active_drag\":\"auto\",\"active_inspect\":\"auto\",\"active_scroll\":\"auto\",\"active_tap\":\"auto\",\"tools\":[{\"id\":\"baef4aff-027e-4498-a7c5-8507d29c9b4b\",\"type\":\"PanTool\"},{\"id\":\"1ff7e76e-31d5-4026-a7ed-6993fe35077c\",\"type\":\"WheelZoomTool\"},{\"id\":\"38d325b8-ee43-4317-a31d-5aa389f14d4b\",\"type\":\"BoxZoomTool\"},{\"id\":\"0266f311-63ac-4355-a05f-c8fce82ea047\",\"type\":\"SaveTool\"},{\"id\":\"54cbe610-1221-4fac-8f5b-8d6f4e839efa\",\"type\":\"ResetTool\"},{\"id\":\"f1ea2bff-fc8a-4c3d-94f3-ec34d68e2118\",\"type\":\"HelpTool\"}]},\"id\":\"2fa53d14-2fe8-4f9f-8366-eb04bbf9c0a1\",\"type\":\"Toolbar\"},{\"attributes\":{},\"id\":\"1ff7e76e-31d5-4026-a7ed-6993fe35077c\",\"type\":\"WheelZoomTool\"},{\"attributes\":{},\"id\":\"baef4aff-027e-4498-a7c5-8507d29c9b4b\",\"type\":\"PanTool\"},{\"attributes\":{},\"id\":\"359daa3a-c80d-4457-a619-1b8f131a103a\",\"type\":\"BasicTicker\"},{\"attributes\":{\"data_source\":{\"id\":\"a2250665-8c43-4d41-a1dc-ebd4711d3c26\",\"type\":\"ColumnDataSource\"},\"glyph\":{\"id\":\"7cc8845a-5047-4116-80db-8dbf475422b2\",\"type\":\"Asterisk\"},\"hover_glyph\":null,\"muted_glyph\":null,\"nonselection_glyph\":{\"id\":\"da58809b-bda1-4087-83d4-fe2596695452\",\"type\":\"Asterisk\"},\"selection_glyph\":null,\"view\":{\"id\":\"21d36f5c-df28-4f2c-a1b3-5b7436aba3d2\",\"type\":\"CDSView\"}},\"id\":\"e4fdebb4-91c5-45b1-9d82-d283dedd3071\",\"type\":\"GlyphRenderer\"},{\"attributes\":{},\"id\":\"f1ea2bff-fc8a-4c3d-94f3-ec34d68e2118\",\"type\":\"HelpTool\"},{\"attributes\":{},\"id\":\"3c532718-8ab4-46d5-8e4e-da5e253f2e53\",\"type\":\"LinearScale\"},{\"attributes\":{\"plot\":{\"id\":\"7ea449c4-1166-4437-ad8f-a14067ed62ed\",\"subtype\":\"Figure\",\"type\":\"Plot\"},\"ticker\":{\"id\":\"f94d4a0e-d7bc-4467-abd2-5518a79bcc95\",\"type\":\"BasicTicker\"}},\"id\":\"bea82a63-ea32-4df5-b2e7-e1b616d6b80b\",\"type\":\"Grid\"},{\"attributes\":{\"axis_label\":\"Temp\",\"axis_line_color\":{\"value\":\"red\"},\"axis_line_width\":{\"value\":3},\"formatter\":{\"id\":\"6612bec9-77cb-4bea-a87d-3e39e54009bf\",\"type\":\"BasicTickFormatter\"},\"minor_tick_in\":-3,\"minor_tick_out\":6,\"plot\":{\"id\":\"7ea449c4-1166-4437-ad8f-a14067ed62ed\",\"subtype\":\"Figure\",\"type\":\"Plot\"},\"ticker\":{\"id\":\"f94d4a0e-d7bc-4467-abd2-5518a79bcc95\",\"type\":\"BasicTicker\"}},\"id\":\"fde4cf88-3b84-418f-be9b-a26a497af017\",\"type\":\"LinearAxis\"}],\"root_ids\":[\"7ea449c4-1166-4437-ad8f-a14067ed62ed\"]},\"title\":\"Bokeh Application\",\"version\":\"0.12.13\"}};\n",
       "  var render_items = [{\"docid\":\"55817761-fa8f-4d2b-ae01-8bc3b1e32a7c\",\"elementid\":\"32aec0e3-c9a0-43f4-95b9-498f34491b58\",\"modelid\":\"7ea449c4-1166-4437-ad8f-a14067ed62ed\"}];\n",
       "  root.Bokeh.embed.embed_items_notebook(docs_json, render_items);\n",
       "\n",
       "  }\n",
       "  if (root.Bokeh !== undefined) {\n",
       "    embed_document(root);\n",
       "  } else {\n",
       "    var attempts = 0;\n",
       "    var timer = setInterval(function(root) {\n",
       "      if (root.Bokeh !== undefined) {\n",
       "        embed_document(root);\n",
       "        clearInterval(timer);\n",
       "      }\n",
       "      attempts++;\n",
       "      if (attempts > 100) {\n",
       "        console.log(\"Bokeh: ERROR: Unable to run BokehJS code because BokehJS library is missing\")\n",
       "        clearInterval(timer);\n",
       "      }\n",
       "    }, 10, root)\n",
       "  }\n",
       "})(window);"
      ],
      "application/vnd.bokehjs_exec.v0+json": ""
     },
     "metadata": {
      "application/vnd.bokehjs_exec.v0+json": {
       "id": "7ea449c4-1166-4437-ad8f-a14067ed62ed"
      }
     },
     "output_type": "display_data"
    }
   ],
   "source": [
    "p = figure(plot_width=400, plot_height=400)\n",
    "p.asterisk([1,2,3,4,5], [2,5,8,2,7], size=12, color=\"olive\")\n",
    "\n",
    "# change just some things about the x-axes\n",
    "p.xaxis.axis_label = \"Temp\"\n",
    "p.xaxis.axis_line_width = 3\n",
    "p.xaxis.axis_line_color = \"red\"\n",
    "\n",
    "# change just some things about the y-axes\n",
    "p.yaxis.axis_label = \"Pressure\"\n",
    "p.yaxis.major_label_text_color = \"orange\"\n",
    "p.yaxis.major_label_orientation = \"vertical\"\n",
    "\n",
    "# change things on all axes\n",
    "p.axis.minor_tick_in = -3\n",
    "p.axis.minor_tick_out = 6\n",
    "\n",
    "show(p)"
   ]
  },
  {
   "cell_type": "code",
   "execution_count": 12,
   "metadata": {
    "collapsed": true
   },
   "outputs": [],
   "source": [
    "# EXERCISE Create a plot of your own and customize several axis properties\n"
   ]
  },
  {
   "cell_type": "markdown",
   "metadata": {},
   "source": [
    "There are further customizations possible. See the [User Guide](http://bokeh.pydata.org/en/latest/docs/user_guide.html) for more information on topics such as [tick label formatting](http://bokeh.pydata.org/en/latest/docs/user_guide/styling.html#tick-label-formats) or [limiting axis bounds](http://bokeh.pydata.org/en/latest/docs/user_guide/styling.html#bounds)."
   ]
  },
  {
   "cell_type": "markdown",
   "metadata": {},
   "source": [
    "# Grids\n",
    "\n",
    "[Grids](http://bokeh.pydata.org/en/latest/docs/user_guide/styling.html#grids)\n",
    "\n",
    "* **grid** [line properties](http://bokeh.pydata.org/en/latest/docs/user_guide/styling.html#line-properties)\n",
    "* **band** [fill properties]()"
   ]
  },
  {
   "cell_type": "code",
   "execution_count": 13,
   "metadata": {},
   "outputs": [
    {
     "data": {
      "text/html": [
       "\n",
       "<div class=\"bk-root\">\n",
       "    <div class=\"bk-plotdiv\" id=\"fd50d164-6810-4117-8cdb-b1eaa076b26b\"></div>\n",
       "</div>"
      ]
     },
     "metadata": {},
     "output_type": "display_data"
    },
    {
     "data": {
      "application/javascript": [
       "(function(root) {\n",
       "  function embed_document(root) {\n",
       "    \n",
       "  var docs_json = {\"009caf5e-5d7c-4ade-accd-318d5e6fcdf7\":{\"roots\":{\"references\":[{\"attributes\":{\"fill_alpha\":{\"value\":0.1},\"fill_color\":{\"value\":\"#1f77b4\"},\"line_alpha\":{\"value\":0.1},\"line_color\":{\"value\":\"#1f77b4\"},\"size\":{\"units\":\"screen\",\"value\":10},\"x\":{\"field\":\"x\"},\"y\":{\"field\":\"y\"}},\"id\":\"173d4113-006b-4f17-9981-84006b298408\",\"type\":\"Circle\"},{\"attributes\":{},\"id\":\"efdcf167-1ff9-4032-826f-691b837e91ce\",\"type\":\"WheelZoomTool\"},{\"attributes\":{\"plot\":null,\"text\":\"\"},\"id\":\"78dd3c02-ecb7-4e2d-83da-f4031f9a99a7\",\"type\":\"Title\"},{\"attributes\":{\"bottom_units\":\"screen\",\"fill_alpha\":{\"value\":0.5},\"fill_color\":{\"value\":\"lightgrey\"},\"left_units\":\"screen\",\"level\":\"overlay\",\"line_alpha\":{\"value\":1.0},\"line_color\":{\"value\":\"black\"},\"line_dash\":[4,4],\"line_width\":{\"value\":2},\"plot\":null,\"render_mode\":\"css\",\"right_units\":\"screen\",\"top_units\":\"screen\"},\"id\":\"b5cd1490-2168-40c5-bd5f-d02745622ddc\",\"type\":\"BoxAnnotation\"},{\"attributes\":{\"formatter\":{\"id\":\"12f2942a-bc3a-41f1-a2bf-81ad0ade275f\",\"type\":\"BasicTickFormatter\"},\"plot\":{\"id\":\"55f746dd-e4cc-426e-a675-dc478dd9e060\",\"subtype\":\"Figure\",\"type\":\"Plot\"},\"ticker\":{\"id\":\"a73e698d-4643-4337-a590-ac254c044554\",\"type\":\"BasicTicker\"}},\"id\":\"3cd6cb5d-93ce-4415-95f5-76f51b8a1c4a\",\"type\":\"LinearAxis\"},{\"attributes\":{},\"id\":\"4048c439-2f10-4049-872a-fda276c74980\",\"type\":\"LinearScale\"},{\"attributes\":{},\"id\":\"b70a4dd1-980f-4f0f-ad55-00316969e8da\",\"type\":\"HelpTool\"},{\"attributes\":{},\"id\":\"0e624a52-9001-41c0-b278-df063d36041f\",\"type\":\"LinearScale\"},{\"attributes\":{\"data_source\":{\"id\":\"79cb06ce-0cc4-4114-83a2-557322d1eba5\",\"type\":\"ColumnDataSource\"},\"glyph\":{\"id\":\"aad289be-c039-44b7-b6e0-6cba66e0af9f\",\"type\":\"Circle\"},\"hover_glyph\":null,\"muted_glyph\":null,\"nonselection_glyph\":{\"id\":\"173d4113-006b-4f17-9981-84006b298408\",\"type\":\"Circle\"},\"selection_glyph\":null,\"view\":{\"id\":\"74d7b196-90b6-4b83-86ee-194e2c80171c\",\"type\":\"CDSView\"}},\"id\":\"cc3d6002-198a-4848-9907-472e8cb10ebc\",\"type\":\"GlyphRenderer\"},{\"attributes\":{},\"id\":\"2b2578a6-d719-4628-8e34-5d4cd01b0925\",\"type\":\"ResetTool\"},{\"attributes\":{\"callback\":null},\"id\":\"ecc41c73-6da9-4e41-9b9c-ec992a2ba96f\",\"type\":\"DataRange1d\"},{\"attributes\":{\"overlay\":{\"id\":\"b5cd1490-2168-40c5-bd5f-d02745622ddc\",\"type\":\"BoxAnnotation\"}},\"id\":\"c86ae782-3b16-47a8-bb04-c5c7da49ec74\",\"type\":\"BoxZoomTool\"},{\"attributes\":{\"source\":{\"id\":\"79cb06ce-0cc4-4114-83a2-557322d1eba5\",\"type\":\"ColumnDataSource\"}},\"id\":\"74d7b196-90b6-4b83-86ee-194e2c80171c\",\"type\":\"CDSView\"},{\"attributes\":{},\"id\":\"413edb4e-818f-426f-82cc-8471803d67d4\",\"type\":\"PanTool\"},{\"attributes\":{\"active_drag\":\"auto\",\"active_inspect\":\"auto\",\"active_scroll\":\"auto\",\"active_tap\":\"auto\",\"tools\":[{\"id\":\"413edb4e-818f-426f-82cc-8471803d67d4\",\"type\":\"PanTool\"},{\"id\":\"efdcf167-1ff9-4032-826f-691b837e91ce\",\"type\":\"WheelZoomTool\"},{\"id\":\"c86ae782-3b16-47a8-bb04-c5c7da49ec74\",\"type\":\"BoxZoomTool\"},{\"id\":\"be1894f2-54e0-492f-8070-75a521e3201e\",\"type\":\"SaveTool\"},{\"id\":\"2b2578a6-d719-4628-8e34-5d4cd01b0925\",\"type\":\"ResetTool\"},{\"id\":\"b70a4dd1-980f-4f0f-ad55-00316969e8da\",\"type\":\"HelpTool\"}]},\"id\":\"b68ca708-30ea-493f-89a9-efa2c6daff3c\",\"type\":\"Toolbar\"},{\"attributes\":{},\"id\":\"5a33a6f6-a787-4251-b140-d9c1d6c1384a\",\"type\":\"BasicTickFormatter\"},{\"attributes\":{\"grid_line_color\":{\"value\":null},\"plot\":{\"id\":\"55f746dd-e4cc-426e-a675-dc478dd9e060\",\"subtype\":\"Figure\",\"type\":\"Plot\"},\"ticker\":{\"id\":\"a73e698d-4643-4337-a590-ac254c044554\",\"type\":\"BasicTicker\"}},\"id\":\"91511a9f-45be-47b9-99d9-038286e42d51\",\"type\":\"Grid\"},{\"attributes\":{\"dimension\":1,\"grid_line_alpha\":{\"value\":0.5},\"grid_line_dash\":[6,4],\"plot\":{\"id\":\"55f746dd-e4cc-426e-a675-dc478dd9e060\",\"subtype\":\"Figure\",\"type\":\"Plot\"},\"ticker\":{\"id\":\"416ce154-41c4-4e83-ac34-84d64bfdaef2\",\"type\":\"BasicTicker\"}},\"id\":\"b449a983-b8ff-4cab-b9a4-9c7c014289ec\",\"type\":\"Grid\"},{\"attributes\":{\"below\":[{\"id\":\"3cd6cb5d-93ce-4415-95f5-76f51b8a1c4a\",\"type\":\"LinearAxis\"}],\"left\":[{\"id\":\"1fcc00c2-be8d-492e-8a0b-f2ce72e691ea\",\"type\":\"LinearAxis\"}],\"plot_height\":400,\"plot_width\":400,\"renderers\":[{\"id\":\"3cd6cb5d-93ce-4415-95f5-76f51b8a1c4a\",\"type\":\"LinearAxis\"},{\"id\":\"91511a9f-45be-47b9-99d9-038286e42d51\",\"type\":\"Grid\"},{\"id\":\"1fcc00c2-be8d-492e-8a0b-f2ce72e691ea\",\"type\":\"LinearAxis\"},{\"id\":\"b449a983-b8ff-4cab-b9a4-9c7c014289ec\",\"type\":\"Grid\"},{\"id\":\"b5cd1490-2168-40c5-bd5f-d02745622ddc\",\"type\":\"BoxAnnotation\"},{\"id\":\"cc3d6002-198a-4848-9907-472e8cb10ebc\",\"type\":\"GlyphRenderer\"}],\"title\":{\"id\":\"78dd3c02-ecb7-4e2d-83da-f4031f9a99a7\",\"type\":\"Title\"},\"toolbar\":{\"id\":\"b68ca708-30ea-493f-89a9-efa2c6daff3c\",\"type\":\"Toolbar\"},\"x_range\":{\"id\":\"53e70be6-146c-4a0b-bb55-9656a84f3905\",\"type\":\"DataRange1d\"},\"x_scale\":{\"id\":\"0e624a52-9001-41c0-b278-df063d36041f\",\"type\":\"LinearScale\"},\"y_range\":{\"id\":\"ecc41c73-6da9-4e41-9b9c-ec992a2ba96f\",\"type\":\"DataRange1d\"},\"y_scale\":{\"id\":\"4048c439-2f10-4049-872a-fda276c74980\",\"type\":\"LinearScale\"}},\"id\":\"55f746dd-e4cc-426e-a675-dc478dd9e060\",\"subtype\":\"Figure\",\"type\":\"Plot\"},{\"attributes\":{},\"id\":\"12f2942a-bc3a-41f1-a2bf-81ad0ade275f\",\"type\":\"BasicTickFormatter\"},{\"attributes\":{},\"id\":\"416ce154-41c4-4e83-ac34-84d64bfdaef2\",\"type\":\"BasicTicker\"},{\"attributes\":{\"callback\":null,\"column_names\":[\"x\",\"y\"],\"data\":{\"x\":[1,2,3,4,5],\"y\":[2,5,8,2,7]}},\"id\":\"79cb06ce-0cc4-4114-83a2-557322d1eba5\",\"type\":\"ColumnDataSource\"},{\"attributes\":{\"formatter\":{\"id\":\"5a33a6f6-a787-4251-b140-d9c1d6c1384a\",\"type\":\"BasicTickFormatter\"},\"plot\":{\"id\":\"55f746dd-e4cc-426e-a675-dc478dd9e060\",\"subtype\":\"Figure\",\"type\":\"Plot\"},\"ticker\":{\"id\":\"416ce154-41c4-4e83-ac34-84d64bfdaef2\",\"type\":\"BasicTicker\"}},\"id\":\"1fcc00c2-be8d-492e-8a0b-f2ce72e691ea\",\"type\":\"LinearAxis\"},{\"attributes\":{},\"id\":\"be1894f2-54e0-492f-8070-75a521e3201e\",\"type\":\"SaveTool\"},{\"attributes\":{},\"id\":\"a73e698d-4643-4337-a590-ac254c044554\",\"type\":\"BasicTicker\"},{\"attributes\":{\"callback\":null},\"id\":\"53e70be6-146c-4a0b-bb55-9656a84f3905\",\"type\":\"DataRange1d\"},{\"attributes\":{\"fill_color\":{\"value\":\"#1f77b4\"},\"line_color\":{\"value\":\"#1f77b4\"},\"size\":{\"units\":\"screen\",\"value\":10},\"x\":{\"field\":\"x\"},\"y\":{\"field\":\"y\"}},\"id\":\"aad289be-c039-44b7-b6e0-6cba66e0af9f\",\"type\":\"Circle\"}],\"root_ids\":[\"55f746dd-e4cc-426e-a675-dc478dd9e060\"]},\"title\":\"Bokeh Application\",\"version\":\"0.12.13\"}};\n",
       "  var render_items = [{\"docid\":\"009caf5e-5d7c-4ade-accd-318d5e6fcdf7\",\"elementid\":\"fd50d164-6810-4117-8cdb-b1eaa076b26b\",\"modelid\":\"55f746dd-e4cc-426e-a675-dc478dd9e060\"}];\n",
       "  root.Bokeh.embed.embed_items_notebook(docs_json, render_items);\n",
       "\n",
       "  }\n",
       "  if (root.Bokeh !== undefined) {\n",
       "    embed_document(root);\n",
       "  } else {\n",
       "    var attempts = 0;\n",
       "    var timer = setInterval(function(root) {\n",
       "      if (root.Bokeh !== undefined) {\n",
       "        embed_document(root);\n",
       "        clearInterval(timer);\n",
       "      }\n",
       "      attempts++;\n",
       "      if (attempts > 100) {\n",
       "        console.log(\"Bokeh: ERROR: Unable to run BokehJS code because BokehJS library is missing\")\n",
       "        clearInterval(timer);\n",
       "      }\n",
       "    }, 10, root)\n",
       "  }\n",
       "})(window);"
      ],
      "application/vnd.bokehjs_exec.v0+json": ""
     },
     "metadata": {
      "application/vnd.bokehjs_exec.v0+json": {
       "id": "55f746dd-e4cc-426e-a675-dc478dd9e060"
      }
     },
     "output_type": "display_data"
    }
   ],
   "source": [
    "p = figure(plot_width=400, plot_height=400)\n",
    "p.circle([1,2,3,4,5], [2,5,8,2,7], size=10)\n",
    "\n",
    "# change just some things about the x-grid\n",
    "p.xgrid.grid_line_color = None\n",
    "\n",
    "# change just some things about the y-grid\n",
    "p.ygrid.grid_line_alpha = 0.5\n",
    "p.ygrid.grid_line_dash = [6, 4]\n",
    "\n",
    "show(p)"
   ]
  },
  {
   "cell_type": "code",
   "execution_count": 14,
   "metadata": {},
   "outputs": [
    {
     "data": {
      "text/html": [
       "\n",
       "<div class=\"bk-root\">\n",
       "    <div class=\"bk-plotdiv\" id=\"261a823f-4db2-4a92-b5fc-9babb7615fc0\"></div>\n",
       "</div>"
      ]
     },
     "metadata": {},
     "output_type": "display_data"
    },
    {
     "data": {
      "application/javascript": [
       "(function(root) {\n",
       "  function embed_document(root) {\n",
       "    \n",
       "  var docs_json = {\"0ca69336-12fd-47c3-8add-102f392e5018\":{\"roots\":{\"references\":[{\"attributes\":{},\"id\":\"4b6e197e-1145-4910-9316-c1d771adc677\",\"type\":\"BasicTicker\"},{\"attributes\":{\"data_source\":{\"id\":\"a471442f-db44-44b9-8f4c-4df33967c423\",\"type\":\"ColumnDataSource\"},\"glyph\":{\"id\":\"88f9edd2-8c5f-40a8-a1c5-cb8fb6725d86\",\"type\":\"Circle\"},\"hover_glyph\":null,\"muted_glyph\":null,\"nonselection_glyph\":{\"id\":\"d6ec13da-f0cc-4070-93a7-bb74b2816366\",\"type\":\"Circle\"},\"selection_glyph\":null,\"view\":{\"id\":\"bc21d38a-6f18-46ce-a27f-cdb27d13708c\",\"type\":\"CDSView\"}},\"id\":\"5ba43264-3764-4d79-a86b-5f1b9a597431\",\"type\":\"GlyphRenderer\"},{\"attributes\":{\"band_fill_alpha\":{\"value\":0.1},\"band_fill_color\":{\"value\":\"navy\"},\"dimension\":1,\"plot\":{\"id\":\"11444855-467a-4638-a485-6485961da7e8\",\"subtype\":\"Figure\",\"type\":\"Plot\"},\"ticker\":{\"id\":\"11847904-23c5-4339-9fa5-5b3ca4e7bc59\",\"type\":\"BasicTicker\"}},\"id\":\"e0a1e569-4368-4692-b41c-0a6e3019facb\",\"type\":\"Grid\"},{\"attributes\":{\"source\":{\"id\":\"a471442f-db44-44b9-8f4c-4df33967c423\",\"type\":\"ColumnDataSource\"}},\"id\":\"bc21d38a-6f18-46ce-a27f-cdb27d13708c\",\"type\":\"CDSView\"},{\"attributes\":{\"fill_alpha\":{\"value\":0.1},\"fill_color\":{\"value\":\"#1f77b4\"},\"line_alpha\":{\"value\":0.1},\"line_color\":{\"value\":\"#1f77b4\"},\"size\":{\"units\":\"screen\",\"value\":10},\"x\":{\"field\":\"x\"},\"y\":{\"field\":\"y\"}},\"id\":\"d6ec13da-f0cc-4070-93a7-bb74b2816366\",\"type\":\"Circle\"},{\"attributes\":{},\"id\":\"7ff75fb8-25ca-4346-a394-34cdd9e2220c\",\"type\":\"BasicTickFormatter\"},{\"attributes\":{},\"id\":\"1c4d5272-8b25-4d65-bd13-79a31ee05970\",\"type\":\"LinearScale\"},{\"attributes\":{\"formatter\":{\"id\":\"f2778621-ffd7-4ee9-9876-bc36c8223d0c\",\"type\":\"BasicTickFormatter\"},\"plot\":{\"id\":\"11444855-467a-4638-a485-6485961da7e8\",\"subtype\":\"Figure\",\"type\":\"Plot\"},\"ticker\":{\"id\":\"11847904-23c5-4339-9fa5-5b3ca4e7bc59\",\"type\":\"BasicTicker\"}},\"id\":\"6d5bff05-dc3f-463e-88ed-94fd06060d52\",\"type\":\"LinearAxis\"},{\"attributes\":{\"bottom_units\":\"screen\",\"fill_alpha\":{\"value\":0.5},\"fill_color\":{\"value\":\"lightgrey\"},\"left_units\":\"screen\",\"level\":\"overlay\",\"line_alpha\":{\"value\":1.0},\"line_color\":{\"value\":\"black\"},\"line_dash\":[4,4],\"line_width\":{\"value\":2},\"plot\":null,\"render_mode\":\"css\",\"right_units\":\"screen\",\"top_units\":\"screen\"},\"id\":\"085abfee-7664-427d-90cd-248f6c2355aa\",\"type\":\"BoxAnnotation\"},{\"attributes\":{\"grid_line_color\":{\"value\":null},\"plot\":{\"id\":\"11444855-467a-4638-a485-6485961da7e8\",\"subtype\":\"Figure\",\"type\":\"Plot\"},\"ticker\":{\"id\":\"4b6e197e-1145-4910-9316-c1d771adc677\",\"type\":\"BasicTicker\"}},\"id\":\"3a69d20d-091b-44b2-ba32-c9f83d876816\",\"type\":\"Grid\"},{\"attributes\":{},\"id\":\"22dc59df-a8d6-4a04-8937-fa673c76b65d\",\"type\":\"PanTool\"},{\"attributes\":{},\"id\":\"11847904-23c5-4339-9fa5-5b3ca4e7bc59\",\"type\":\"BasicTicker\"},{\"attributes\":{},\"id\":\"f2778621-ffd7-4ee9-9876-bc36c8223d0c\",\"type\":\"BasicTickFormatter\"},{\"attributes\":{\"active_drag\":\"auto\",\"active_inspect\":\"auto\",\"active_scroll\":\"auto\",\"active_tap\":\"auto\",\"tools\":[{\"id\":\"22dc59df-a8d6-4a04-8937-fa673c76b65d\",\"type\":\"PanTool\"},{\"id\":\"0a407a05-7b63-4fa7-a33f-e551f66e919f\",\"type\":\"WheelZoomTool\"},{\"id\":\"53d6967e-b504-4b65-9d8b-7ed6bbc25d37\",\"type\":\"BoxZoomTool\"},{\"id\":\"0dc972cf-66f3-4d08-936d-6b52393b5d6c\",\"type\":\"SaveTool\"},{\"id\":\"2aa77421-b133-47ae-8bfa-386eb5425c62\",\"type\":\"ResetTool\"},{\"id\":\"e08e8f08-5aa1-41b5-9095-35f3d486b359\",\"type\":\"HelpTool\"}]},\"id\":\"39d3a041-95cf-428a-960e-319962509ae4\",\"type\":\"Toolbar\"},{\"attributes\":{},\"id\":\"0a407a05-7b63-4fa7-a33f-e551f66e919f\",\"type\":\"WheelZoomTool\"},{\"attributes\":{\"overlay\":{\"id\":\"085abfee-7664-427d-90cd-248f6c2355aa\",\"type\":\"BoxAnnotation\"}},\"id\":\"53d6967e-b504-4b65-9d8b-7ed6bbc25d37\",\"type\":\"BoxZoomTool\"},{\"attributes\":{},\"id\":\"0dc972cf-66f3-4d08-936d-6b52393b5d6c\",\"type\":\"SaveTool\"},{\"attributes\":{\"fill_color\":{\"value\":\"#1f77b4\"},\"line_color\":{\"value\":\"#1f77b4\"},\"size\":{\"units\":\"screen\",\"value\":10},\"x\":{\"field\":\"x\"},\"y\":{\"field\":\"y\"}},\"id\":\"88f9edd2-8c5f-40a8-a1c5-cb8fb6725d86\",\"type\":\"Circle\"},{\"attributes\":{\"callback\":null,\"column_names\":[\"x\",\"y\"],\"data\":{\"x\":[1,2,3,4,5],\"y\":[2,5,8,2,7]}},\"id\":\"a471442f-db44-44b9-8f4c-4df33967c423\",\"type\":\"ColumnDataSource\"},{\"attributes\":{},\"id\":\"2aa77421-b133-47ae-8bfa-386eb5425c62\",\"type\":\"ResetTool\"},{\"attributes\":{\"callback\":null},\"id\":\"97962e6a-9745-494b-aa86-d372ec3c76eb\",\"type\":\"DataRange1d\"},{\"attributes\":{},\"id\":\"e08e8f08-5aa1-41b5-9095-35f3d486b359\",\"type\":\"HelpTool\"},{\"attributes\":{\"below\":[{\"id\":\"d8f373c2-70d4-429c-a8d4-c393ba581ba1\",\"type\":\"LinearAxis\"}],\"left\":[{\"id\":\"6d5bff05-dc3f-463e-88ed-94fd06060d52\",\"type\":\"LinearAxis\"}],\"plot_height\":400,\"plot_width\":400,\"renderers\":[{\"id\":\"d8f373c2-70d4-429c-a8d4-c393ba581ba1\",\"type\":\"LinearAxis\"},{\"id\":\"3a69d20d-091b-44b2-ba32-c9f83d876816\",\"type\":\"Grid\"},{\"id\":\"6d5bff05-dc3f-463e-88ed-94fd06060d52\",\"type\":\"LinearAxis\"},{\"id\":\"e0a1e569-4368-4692-b41c-0a6e3019facb\",\"type\":\"Grid\"},{\"id\":\"085abfee-7664-427d-90cd-248f6c2355aa\",\"type\":\"BoxAnnotation\"},{\"id\":\"5ba43264-3764-4d79-a86b-5f1b9a597431\",\"type\":\"GlyphRenderer\"}],\"title\":{\"id\":\"34e97438-8412-414c-b098-4c60b8cdaf51\",\"type\":\"Title\"},\"toolbar\":{\"id\":\"39d3a041-95cf-428a-960e-319962509ae4\",\"type\":\"Toolbar\"},\"x_range\":{\"id\":\"172c22df-d9b8-45b9-b1c7-fd1bcb33453b\",\"type\":\"DataRange1d\"},\"x_scale\":{\"id\":\"1c4d5272-8b25-4d65-bd13-79a31ee05970\",\"type\":\"LinearScale\"},\"y_range\":{\"id\":\"97962e6a-9745-494b-aa86-d372ec3c76eb\",\"type\":\"DataRange1d\"},\"y_scale\":{\"id\":\"56802603-7480-4784-b25b-4639bec3c746\",\"type\":\"LinearScale\"}},\"id\":\"11444855-467a-4638-a485-6485961da7e8\",\"subtype\":\"Figure\",\"type\":\"Plot\"},{\"attributes\":{\"plot\":null,\"text\":\"\"},\"id\":\"34e97438-8412-414c-b098-4c60b8cdaf51\",\"type\":\"Title\"},{\"attributes\":{\"formatter\":{\"id\":\"7ff75fb8-25ca-4346-a394-34cdd9e2220c\",\"type\":\"BasicTickFormatter\"},\"plot\":{\"id\":\"11444855-467a-4638-a485-6485961da7e8\",\"subtype\":\"Figure\",\"type\":\"Plot\"},\"ticker\":{\"id\":\"4b6e197e-1145-4910-9316-c1d771adc677\",\"type\":\"BasicTicker\"}},\"id\":\"d8f373c2-70d4-429c-a8d4-c393ba581ba1\",\"type\":\"LinearAxis\"},{\"attributes\":{},\"id\":\"56802603-7480-4784-b25b-4639bec3c746\",\"type\":\"LinearScale\"},{\"attributes\":{\"callback\":null},\"id\":\"172c22df-d9b8-45b9-b1c7-fd1bcb33453b\",\"type\":\"DataRange1d\"}],\"root_ids\":[\"11444855-467a-4638-a485-6485961da7e8\"]},\"title\":\"Bokeh Application\",\"version\":\"0.12.13\"}};\n",
       "  var render_items = [{\"docid\":\"0ca69336-12fd-47c3-8add-102f392e5018\",\"elementid\":\"261a823f-4db2-4a92-b5fc-9babb7615fc0\",\"modelid\":\"11444855-467a-4638-a485-6485961da7e8\"}];\n",
       "  root.Bokeh.embed.embed_items_notebook(docs_json, render_items);\n",
       "\n",
       "  }\n",
       "  if (root.Bokeh !== undefined) {\n",
       "    embed_document(root);\n",
       "  } else {\n",
       "    var attempts = 0;\n",
       "    var timer = setInterval(function(root) {\n",
       "      if (root.Bokeh !== undefined) {\n",
       "        embed_document(root);\n",
       "        clearInterval(timer);\n",
       "      }\n",
       "      attempts++;\n",
       "      if (attempts > 100) {\n",
       "        console.log(\"Bokeh: ERROR: Unable to run BokehJS code because BokehJS library is missing\")\n",
       "        clearInterval(timer);\n",
       "      }\n",
       "    }, 10, root)\n",
       "  }\n",
       "})(window);"
      ],
      "application/vnd.bokehjs_exec.v0+json": ""
     },
     "metadata": {
      "application/vnd.bokehjs_exec.v0+json": {
       "id": "11444855-467a-4638-a485-6485961da7e8"
      }
     },
     "output_type": "display_data"
    }
   ],
   "source": [
    "p = figure(plot_width=400, plot_height=400)\n",
    "p.circle([1,2,3,4,5], [2,5,8,2,7], size=10)\n",
    "\n",
    "# change just some things about the x-grid\n",
    "p.xgrid.grid_line_color = None\n",
    "\n",
    "# change just some things about the y-grid\n",
    "p.ygrid.band_fill_alpha = 0.1\n",
    "p.ygrid.band_fill_color = \"navy\"\n",
    "\n",
    "show(p)"
   ]
  },
  {
   "cell_type": "code",
   "execution_count": 15,
   "metadata": {
    "collapsed": true
   },
   "outputs": [],
   "source": [
    "# EXERCISE Create a plot of your own and customize several grid properties\n"
   ]
  },
  {
   "cell_type": "code",
   "execution_count": null,
   "metadata": {},
   "outputs": [],
   "source": []
  }
 ],
 "metadata": {
  "kernelspec": {
   "display_name": "Python 3",
   "language": "python",
   "name": "python3"
  },
  "language_info": {
   "codemirror_mode": {
    "name": "ipython",
    "version": 3
   },
   "file_extension": ".py",
   "mimetype": "text/x-python",
   "name": "python",
   "nbconvert_exporter": "python",
   "pygments_lexer": "ipython3",
   "version": "3.6.4"
  }
 },
 "nbformat": 4,
 "nbformat_minor": 2
}
