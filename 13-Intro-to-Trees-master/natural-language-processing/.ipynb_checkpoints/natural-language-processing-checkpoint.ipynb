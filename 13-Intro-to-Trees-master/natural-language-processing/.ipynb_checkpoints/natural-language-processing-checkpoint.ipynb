{
 "cells": [
  {
   "cell_type": "markdown",
   "metadata": {},
   "source": [
    "<img src=\"http://imgur.com/1ZcRyrc.png\" style=\"float: left; margin: 20px; height: 55px\">\n",
    " \n",
    "# Natural Language Processing\n",
    " \n",
    "_Authors: Kiefer Katovich (San Francisco), Joseph Nelson (Washington, D.C.)_\n",
    " \n",
    "---\n"
   ]
  },
  {
   "cell_type": "markdown",
   "metadata": {},
   "source": [
    "### Learning Objectives\n",
    "- Discuss the major tasks involved with natural language processing.\n",
    "- Discuss, on a low level, the components of natural language processing.\n",
    "- Identify why natural language processing is difficult.\n",
    "- Demonstrate text classification.\n",
    "- Demonstrate common text preprocessing techniques."
   ]
  },
  {
   "cell_type": "markdown",
   "metadata": {},
   "source": [
    "### How Do We Use NLP in Data Science?\n",
    "\n",
    "In data science, we are often asked to analyze unstructured text or make a predictive model using it. Unfortunately, most data science techniques require numeric data. NLP libraries provide a tool set of methods to convert unstructured text into meaningful numeric data.\n",
    "\n",
    "- **Analysis:** NLP techniques provide tools to allow us to understand and analyze large amounts of text. For example:\n",
    "\n",
    "    - Analyze the positivity/negativity of comments on different websites. \n",
    "    - Extract key words from meeting notes and visualize how meeting topics change over time.\n",
    "\n",
    "- **Vectorizing for machine learning:** When building a machine learning model, we typically must transform our data into numeric features. This process of transforming non-numeric data such as natural language into numeric features is called vectorization. For example:\n",
    "\n",
    "    - Understanding related words. Using stemming, NLP lets us know that \"swim\", \"swims\", and \"swimming\" all refer to the same base word. This allows us to reduce the number of features used in our model.\n",
    "    - Identifying important and unique words. Using TF-IDF (term frequency-inverse document frequency), we can identify which words are most likely to be meaningful in a document."
   ]
  },
  {
   "cell_type": "markdown",
   "metadata": {},
   "source": [
    "<a id='textblob_install'></a>\n",
    "\n",
    "### Install TextBlob\n",
    "\n",
    "The TextBlob Python library provides a simplified interface for exploring common NLP tasks including part-of-speech tagging, noun phrase extraction, sentiment analysis, classification, translation, and more.\n",
    "\n",
    "To proceed with the lesson, first install TextBlob, as explained below. We tend to prefer Anaconda-based installations, since they tend to be tested with our other Anaconda packages.\n",
    "\n",
    "**To install textblob run:**\n",
    "\n",
    "> `conda install -c conda-forge textblob`\n",
    "\n",
    "**Or:**\n",
    "\n",
    "> `pip install textblob`\n",
    "\n",
    "> `python -m textblob.download_corpora lite`"
   ]
  },
  {
   "cell_type": "markdown",
   "metadata": {},
   "source": [
    "## Lesson Guide\n",
    "\n",
    "- [Introduction to Natural Language Processing](#intro)\n",
    "- [Reading Yelp reviews With NLP](#yelp_rev)\n",
    "- [Text Classification](#text_class)\n",
    "- [Count Vectorization](#count_vec)\n",
    "    - [Using CountVectorizer in a Model](#countvectorizer-model)\n",
    "    - [N-Grams](#ngrams)\n",
    "    - [Stop-Word Removal](#stopwords)\n",
    "\t- [Count Vector Options](#cvec_opt)\n",
    "- [Intro to TextBlob](#textblob)\n",
    "\t- [Stemming and Lemmatization](#stem)\n",
    "- [Term Frequency–Inverse Document Frequency Vectorization](#tfidf)\n",
    "\t- [Yelp Summary Using TF–IDF](#yelp_tfidf)\n",
    "- [Sentiment Analysis](#sentiment)\n",
    "- [BONUS: Adding Features to a Document-Term Matrix](#add_feat)\n",
    "- [BONUS: More TextBlob Features](#more_textblob)\n",
    "- [APPENDIX: Intro to Naive Bayes and Text Classification](#bayes)\n",
    "- [Conclusion](#conclusion)"
   ]
  },
  {
   "cell_type": "markdown",
   "metadata": {},
   "source": [
    "<a id='intro'></a>\n",
    "\n",
    "## Introduction\n",
    "\n",
    "*Adapted from [NLP Crash Course](http://files.meetup.com/7616132/DC-NLP-2013-09%20Charlie%20Greenbacker.pdf) by Charlie Greenbacker and [Introduction to NLP](http://spark-public.s3.amazonaws.com/nlp/slides/intro.pdf) by Dan Jurafsky*"
   ]
  },
  {
   "cell_type": "markdown",
   "metadata": {},
   "source": [
    "## Introduction"
   ]
  },
  {
   "cell_type": "markdown",
   "metadata": {},
   "source": [
    "### What Is Natural Language Processing (NLP)?\n",
    "\n",
    "- Using computers to process (analyze, understand, generate) natural human languages.\n",
    "- Making sense of human knowledge stored as unstructured text.\n",
    "- Building probabilistic models using data about a language."
   ]
  },
  {
   "cell_type": "markdown",
   "metadata": {},
   "source": [
    "### What Are Some of the Higher-Level Task Areas?\n",
    "\n",
    "- **Objective:** Discuss the major tasks involved with natural language processing.\n",
    "\n",
    "We often hope that computers can solve many high-level problems involving natural language. Unfortunately, due to the difficulty of understanding human language, many of these problems are still not well solved. That said, existing solutions to these problems all involve utilizing the lower-level components of NLP discussed in the next section. Some higher-level tasks include:\n",
    "\n",
    "- **Chatbots:** Understand natural language from the user and return intelligent responses.\n",
    "    - [Api.ai](https://api.ai/)\n",
    "- **Information retrieval:** Find relevant results and similar results.\n",
    "    - [Google](https://www.google.com/)    \n",
    "- **Information extraction:** Structured information from unstructured documents.\n",
    "    - [Events from Gmail](https://support.google.com/calendar/answer/6084018?hl=en)\n",
    "- **Machine translation:** One language to another.\n",
    "    - [Google Translate](https://translate.google.com/)\n",
    "- **Text simplification:** Preserve the meaning of text, but simplify the grammar and vocabulary.\n",
    "    - [Rewordify](https://rewordify.com/)\n",
    "    - [Simple English Wikipedia](https://simple.wikipedia.org/wiki/Main_Page)\n",
    "- **Predictive text input:** Faster or easier typing.\n",
    "    - [Phrase completion application](https://justmarkham.shinyapps.io/textprediction/)\n",
    "    - [A much better application](https://farsite.shinyapps.io/swiftkey-cap/)\n",
    "- **Sentiment analysis:** Attitude of speaker.\n",
    "    - [Hater News](https://medium.com/@KevinMcAlear/building-hater-news-62062c58325c)\n",
    "- **Automatic summarization:** Extractive or abstractive summarization.\n",
    "    - [autotldr](https://www.reddit.com/r/technology/comments/35brc8/21_million_people_still_use_aol_dialup/cr2zzj0)\n",
    "- **Natural language generation:** Generate text from data.\n",
    "    - [How a computer describes a sports match](http://www.bbc.com/news/technology-34204052)\n",
    "    - [Publishers withdraw more than 120 gibberish papers](http://www.nature.com/news/publishers-withdraw-more-than-120-gibberish-papers-1.14763)\n",
    "- **Speech recognition and generation:** Speech-to-text, text-to-speech.\n",
    "    - [Google's Web Speech API demo](https://www.google.com/intl/en/chrome/demos/speech.html)\n",
    "    - [Vocalware Text-to-Speech demo](https://www.vocalware.com/index/demo)\n",
    "- **Question answering:** Determine the intent of the question, match query with knowledge base, evaluate hypotheses.\n",
    "    - [How did supercomputer Watson beat Jeopardy champion Ken Jennings?](http://blog.ted.com/how-did-supercomputer-watson-beat-jeopardy-champion-ken-jennings-experts-discuss/)\n",
    "    - [IBM's Watson Trivia Challenge](http://www.nytimes.com/interactive/2010/06/16/magazine/watson-trivia-game.html)\n",
    "    - [The AI Behind Watson](http://www.aaai.org/Magazine/Watson/watson.php)"
   ]
  },
  {
   "cell_type": "markdown",
   "metadata": {},
   "source": [
    "### What Are Some of the Lower-Level Components?\n",
    "\n",
    "- **Objective:** Discuss, on a low level, the components of natural language processing.\n",
    "\n",
    "Unfortunately, the NLP programming libraries typically do not provide direct solutions for the high-level tasks above. Instead, they provide low-level building blocks that enable us to craft our own solutions. These include:\n",
    "\n",
    "- **Tokenization:** Breaking text into tokens (words, sentences, n-grams)\n",
    "- **Stop-word removal:** a/an/the\n",
    "- **Stemming and lemmatization:** root word\n",
    "- **TF-IDF:** word importance\n",
    "- **Part-of-speech tagging:** noun/verb/adjective\n",
    "- **Named entity recognition:** person/organization/location\n",
    "- **Spelling correction:** \"New Yrok City\"\n",
    "- **Word sense disambiguation:** \"buy a mouse\"\n",
    "- **Segmentation:** \"New York City subway\"\n",
    "- **Language detection:** \"translate this page\"\n",
    "- **Machine learning:** specialized models that work well with text"
   ]
  },
  {
   "cell_type": "markdown",
   "metadata": {},
   "source": [
    "### Why is NLP hard?\n",
    "\n",
    "- **Objective:** Identify why natural language processing is difficult.\n",
    "\n",
    "Natural language processing requires an understanding of the language and the world. Several limitations of NLP are:\n",
    "\n",
    "- **Ambiguity**:\n",
    "    - Hospitals Are Sued by 7 Foot Doctors\n",
    "    - Juvenile Court to Try Shooting Defendant\n",
    "    - Local High School Dropouts Cut in Half\n",
    "- **Non-standard English:** text messages\n",
    "- **Idioms:** \"throw in the towel\"\n",
    "- **Newly coined words:** \"retweet\"\n",
    "- **Tricky entity names:** \"Where is A Bug's Life playing?\"\n",
    "- **World knowledge:** \"Mary and Sue are sisters\", \"Mary and Sue are mothers\""
   ]
  },
  {
   "cell_type": "markdown",
   "metadata": {},
   "source": [
    "<a id='yelp_rev'></a>\n",
    "\n",
    "## Reading in the Yelp Reviews"
   ]
  },
  {
   "cell_type": "markdown",
   "metadata": {},
   "source": [
    "Throughout this lesson, we will use Yelp reviews to practice and discover common low-level NLP techniques.\n",
    "\n",
    "You should be familiar with these terms, as they are frequently used in NLP:\n",
    "- **corpus**: a collection of documents (derived from the Latin word for \"body\")\n",
    "- **corpora**: plural form of corpus\n",
    "\n",
    "Throughout this lesson, we will use a model very popular for text classification called Naive Bayes (the \"NB\" in `BinonmialNB` and `MultinomialNB` below). If you are unfamiliar with it, know that it works exactly the same as all other models in scikit-learn! We will look extensively at the mechanics behind Naive Bayes later in the course. However, see the [appendix](#bayes) at the end of this notebook for a quick introduction."
   ]
  },
  {
   "cell_type": "code",
   "execution_count": 1,
   "metadata": {},
   "outputs": [],
   "source": [
    "import pandas as pd\n",
    "import numpy as np\n",
    "import scipy as sp\n",
    "from sklearn.model_selection import train_test_split\n",
    "from sklearn.feature_extraction.text import CountVectorizer, TfidfVectorizer\n",
    "from sklearn.naive_bayes import MultinomialNB         # Naive Bayes\n",
    "from sklearn.linear_model import LogisticRegression\n",
    "from sklearn import metrics\n",
    "from textblob import TextBlob, Word\n",
    "from nltk.stem.snowball import SnowballStemmer\n",
    "\n",
    "%matplotlib inline"
   ]
  },
  {
   "cell_type": "code",
   "execution_count": 2,
   "metadata": {},
   "outputs": [],
   "source": [
    "# Read yelp.csv into a DataFrame.\n",
    "path = r'./data/yelp.csv'\n",
    "yelp = pd.read_csv(path)\n",
    "\n",
    "# Create a new DataFrame that only contains the 5-star and 1-star reviews.\n",
    "yelp_best_worst = yelp[(yelp.stars==5) | (yelp.stars==1)]\n",
    "\n",
    "# Define X and y.\n",
    "X = yelp_best_worst.text\n",
    "y = yelp_best_worst.stars\n",
    "\n",
    "# Split the new DataFrame into training and testing sets.\n",
    "X_train, X_test, y_train, y_test = train_test_split(X, y, random_state=1)"
   ]
  },
  {
   "cell_type": "code",
   "execution_count": 3,
   "metadata": {},
   "outputs": [
    {
     "data": {
      "text/html": [
       "<div>\n",
       "<style scoped>\n",
       "    .dataframe tbody tr th:only-of-type {\n",
       "        vertical-align: middle;\n",
       "    }\n",
       "\n",
       "    .dataframe tbody tr th {\n",
       "        vertical-align: top;\n",
       "    }\n",
       "\n",
       "    .dataframe thead th {\n",
       "        text-align: right;\n",
       "    }\n",
       "</style>\n",
       "<table border=\"1\" class=\"dataframe\">\n",
       "  <thead>\n",
       "    <tr style=\"text-align: right;\">\n",
       "      <th></th>\n",
       "      <th>business_id</th>\n",
       "      <th>date</th>\n",
       "      <th>review_id</th>\n",
       "      <th>stars</th>\n",
       "      <th>text</th>\n",
       "      <th>type</th>\n",
       "      <th>user_id</th>\n",
       "      <th>cool</th>\n",
       "      <th>useful</th>\n",
       "      <th>funny</th>\n",
       "    </tr>\n",
       "  </thead>\n",
       "  <tbody>\n",
       "    <tr>\n",
       "      <th>0</th>\n",
       "      <td>9yKzy9PApeiPPOUJEtnvkg</td>\n",
       "      <td>2011-01-26</td>\n",
       "      <td>fWKvX83p0-ka4JS3dc6E5A</td>\n",
       "      <td>5</td>\n",
       "      <td>My wife took me here on my birthday for breakf...</td>\n",
       "      <td>review</td>\n",
       "      <td>rLtl8ZkDX5vH5nAx9C3q5Q</td>\n",
       "      <td>2</td>\n",
       "      <td>5</td>\n",
       "      <td>0</td>\n",
       "    </tr>\n",
       "    <tr>\n",
       "      <th>1</th>\n",
       "      <td>ZRJwVLyzEJq1VAihDhYiow</td>\n",
       "      <td>2011-07-27</td>\n",
       "      <td>IjZ33sJrzXqU-0X6U8NwyA</td>\n",
       "      <td>5</td>\n",
       "      <td>I have no idea why some people give bad review...</td>\n",
       "      <td>review</td>\n",
       "      <td>0a2KyEL0d3Yb1V6aivbIuQ</td>\n",
       "      <td>0</td>\n",
       "      <td>0</td>\n",
       "      <td>0</td>\n",
       "    </tr>\n",
       "    <tr>\n",
       "      <th>2</th>\n",
       "      <td>6oRAC4uyJCsJl1X0WZpVSA</td>\n",
       "      <td>2012-06-14</td>\n",
       "      <td>IESLBzqUCLdSzSqm0eCSxQ</td>\n",
       "      <td>4</td>\n",
       "      <td>love the gyro plate. Rice is so good and I als...</td>\n",
       "      <td>review</td>\n",
       "      <td>0hT2KtfLiobPvh6cDC8JQg</td>\n",
       "      <td>0</td>\n",
       "      <td>1</td>\n",
       "      <td>0</td>\n",
       "    </tr>\n",
       "    <tr>\n",
       "      <th>3</th>\n",
       "      <td>_1QQZuf4zZOyFCvXc0o6Vg</td>\n",
       "      <td>2010-05-27</td>\n",
       "      <td>G-WvGaISbqqaMHlNnByodA</td>\n",
       "      <td>5</td>\n",
       "      <td>Rosie, Dakota, and I LOVE Chaparral Dog Park!!...</td>\n",
       "      <td>review</td>\n",
       "      <td>uZetl9T0NcROGOyFfughhg</td>\n",
       "      <td>1</td>\n",
       "      <td>2</td>\n",
       "      <td>0</td>\n",
       "    </tr>\n",
       "    <tr>\n",
       "      <th>4</th>\n",
       "      <td>6ozycU1RpktNG2-1BroVtw</td>\n",
       "      <td>2012-01-05</td>\n",
       "      <td>1uJFq2r5QfJG_6ExMRCaGw</td>\n",
       "      <td>5</td>\n",
       "      <td>General Manager Scott Petello is a good egg!!!...</td>\n",
       "      <td>review</td>\n",
       "      <td>vYmM4KTsC8ZfQBg-j5MWkw</td>\n",
       "      <td>0</td>\n",
       "      <td>0</td>\n",
       "      <td>0</td>\n",
       "    </tr>\n",
       "  </tbody>\n",
       "</table>\n",
       "</div>"
      ],
      "text/plain": [
       "              business_id        date               review_id  stars  \\\n",
       "0  9yKzy9PApeiPPOUJEtnvkg  2011-01-26  fWKvX83p0-ka4JS3dc6E5A      5   \n",
       "1  ZRJwVLyzEJq1VAihDhYiow  2011-07-27  IjZ33sJrzXqU-0X6U8NwyA      5   \n",
       "2  6oRAC4uyJCsJl1X0WZpVSA  2012-06-14  IESLBzqUCLdSzSqm0eCSxQ      4   \n",
       "3  _1QQZuf4zZOyFCvXc0o6Vg  2010-05-27  G-WvGaISbqqaMHlNnByodA      5   \n",
       "4  6ozycU1RpktNG2-1BroVtw  2012-01-05  1uJFq2r5QfJG_6ExMRCaGw      5   \n",
       "\n",
       "                                                text    type  \\\n",
       "0  My wife took me here on my birthday for breakf...  review   \n",
       "1  I have no idea why some people give bad review...  review   \n",
       "2  love the gyro plate. Rice is so good and I als...  review   \n",
       "3  Rosie, Dakota, and I LOVE Chaparral Dog Park!!...  review   \n",
       "4  General Manager Scott Petello is a good egg!!!...  review   \n",
       "\n",
       "                  user_id  cool  useful  funny  \n",
       "0  rLtl8ZkDX5vH5nAx9C3q5Q     2       5      0  \n",
       "1  0a2KyEL0d3Yb1V6aivbIuQ     0       0      0  \n",
       "2  0hT2KtfLiobPvh6cDC8JQg     0       1      0  \n",
       "3  uZetl9T0NcROGOyFfughhg     1       2      0  \n",
       "4  vYmM4KTsC8ZfQBg-j5MWkw     0       0      0  "
      ]
     },
     "execution_count": 3,
     "metadata": {},
     "output_type": "execute_result"
    }
   ],
   "source": [
    "# The head of the original data\n",
    "yelp.head()"
   ]
  },
  {
   "cell_type": "markdown",
   "metadata": {},
   "source": [
    "<a id='text_class'></a>\n",
    "\n",
    "\n",
    "# Introduction: Text Classification"
   ]
  },
  {
   "cell_type": "markdown",
   "metadata": {},
   "source": [
    "As you proceed through this section, note that text classification is done in the same way as all other classification models. First, the text is vectorized into a set of numeric features. Then, a standard machine learning classifier is applied. NLP libraries often include vectorizers and ML models that work particularly well with text.\n",
    "\n",
    "> We will refer to each piece of text we are trying to classify as a document.\n",
    "> - For example, a document could refer to an email, book chapter, tweet, article, or text message.\n",
    "\n",
    "**Text classification is the task of predicting which category or topic a text sample is from.**\n",
    "\n",
    "We may want to identify:\n",
    "- Is an article a sports or business story?\n",
    "- Does an email have positive or negative sentiment?\n",
    "- Is the rating of a recipe 1, 2, 3, 4, or 5 stars?\n",
    "\n",
    "**Predictions are often made by using the words as features and the label as the target output.**\n",
    "\n",
    "Starting out, we will make each unique word (across all documents) a single feature. In any given corpora, we may have hundreds of thousands of unique words, so we may have hundreds of thousands of features!\n",
    "\n",
    "- For a given document, the numeric value of each feature could be the number of times the word appears in the document.\n",
    "    - So, most features will have a value of zero, resulting in a sparse matrix of features.\n",
    "\n",
    "- This technique for vectorizing text is referred to as a bag-of-words model. \n",
    "    - It is called bag of words because the document's structure is lost — as if the words are all jumbled up in a bag.\n",
    "    - The first step to creating a bag-of-words model is to create a vocabulary of all possible words in the corpora.\n",
    "\n",
    "> Alternatively, we could make each column an indicator column, which is 1 if the word is present in the document (no matter how many times) and 0 if not. This vectorization could be used to reduce the importance of repeated words. For example, a website search engine would be susceptible to spammers who load websites with repeated words. So, the search engine might use indicator columns as features rather than word counts.\n",
    "\n",
    "**We need to consider several things to decide if bag-of-words is appropriate.**\n",
    "\n",
    "- Does order of words matter?\n",
    "- Does punctuation matter?\n",
    "- Does upper or lower case matter?"
   ]
  },
  {
   "cell_type": "markdown",
   "metadata": {},
   "source": [
    "## Demo: Text Processing in scikit-learn\n",
    "\n",
    "- **Objective:** Demonstrate text classification."
   ]
  },
  {
   "cell_type": "markdown",
   "metadata": {},
   "source": [
    "<a id='count_vec'></a>\n",
    "\n",
    "\n",
    "### Creating Features Using CountVectorizer\n",
    "\n",
    "- **What:** Converts each document into a set of words and their counts.\n",
    "- **Why:** To use a machine learning model, we must convert unstructured text into numeric features.\n",
    "- **Notes:** Relatively easy with English language text, not as easy with some languages."
   ]
  },
  {
   "cell_type": "code",
   "execution_count": 4,
   "metadata": {},
   "outputs": [],
   "source": [
    "# Use CountVectorizer to create document-term matrices from X_train and X_test.\n",
    "vect = CountVectorizer()\n",
    "X_train_dtm = vect.fit_transform(X_train)\n",
    "X_test_dtm = vect.transform(X_test)"
   ]
  },
  {
   "cell_type": "code",
   "execution_count": 5,
   "metadata": {},
   "outputs": [
    {
     "data": {
      "text/plain": [
       "(3064, 16825)"
      ]
     },
     "execution_count": 5,
     "metadata": {},
     "output_type": "execute_result"
    }
   ],
   "source": [
    "# Rows are documents, columns are terms (aka \"tokens\" or \"features\", individual words in this situation).\n",
    "X_train_dtm.shape"
   ]
  },
  {
   "cell_type": "code",
   "execution_count": 6,
   "metadata": {},
   "outputs": [
    {
     "name": "stdout",
     "output_type": "stream",
     "text": [
      "['yyyyy', 'z11', 'za', 'zabba', 'zach', 'zam', 'zanella', 'zankou', 'zappos', 'zatsiki', 'zen', 'zero', 'zest', 'zexperience', 'zha', 'zhou', 'zia', 'zihuatenejo', 'zilch', 'zin', 'zinburger', 'zinburgergeist', 'zinc', 'zinfandel', 'zing', 'zip', 'zipcar', 'zipper', 'zippers', 'zipps', 'ziti', 'zoe', 'zombi', 'zombies', 'zone', 'zones', 'zoning', 'zoo', 'zoyo', 'zucca', 'zucchini', 'zuchinni', 'zumba', 'zupa', 'zuzu', 'zwiebel', 'zzed', 'éclairs', 'école', 'ém']\n"
     ]
    }
   ],
   "source": [
    "# Last 50 features\n",
    "print((vect.get_feature_names()[-50:]))"
   ]
  },
  {
   "cell_type": "code",
   "execution_count": 7,
   "metadata": {},
   "outputs": [
    {
     "data": {
      "text/plain": [
       "CountVectorizer(analyzer='word', binary=False, decode_error='strict',\n",
       "        dtype=<class 'numpy.int64'>, encoding='utf-8', input='content',\n",
       "        lowercase=True, max_df=1.0, max_features=None, min_df=1,\n",
       "        ngram_range=(1, 1), preprocessor=None, stop_words=None,\n",
       "        strip_accents=None, token_pattern='(?u)\\\\b\\\\w\\\\w+\\\\b',\n",
       "        tokenizer=None, vocabulary=None)"
      ]
     },
     "execution_count": 7,
     "metadata": {},
     "output_type": "execute_result"
    }
   ],
   "source": [
    "# Show vectorizer options.\n",
    "vect"
   ]
  },
  {
   "cell_type": "markdown",
   "metadata": {},
   "source": [
    "[CountVectorizer documentation](http://scikit-learn.org/stable/modules/generated/sklearn.feature_extraction.text.CountVectorizer.html)"
   ]
  },
  {
   "cell_type": "markdown",
   "metadata": {},
   "source": [
    "One common method of reducing the number of features is converting all text to lowercase before generating features! Note that to a computer, `aPPle` is a different token/\"word\" than `apple`. So, by converting both to lowercase letters, it ensures fewer features will be generated. It might be useful not to convert them to lowercase if capitalization matters."
   ]
  },
  {
   "cell_type": "code",
   "execution_count": 8,
   "metadata": {},
   "outputs": [
    {
     "data": {
      "text/plain": [
       "['zoning',\n",
       " 'zoo',\n",
       " 'zucchini',\n",
       " 'zuchinni',\n",
       " 'zupa',\n",
       " 'zwiebel',\n",
       " 'zzed',\n",
       " 'École',\n",
       " 'éclairs',\n",
       " 'ém']"
      ]
     },
     "execution_count": 8,
     "metadata": {},
     "output_type": "execute_result"
    }
   ],
   "source": [
    "# Don't convert to lowercase.\n",
    "vect = CountVectorizer(lowercase=False)\n",
    "X_train_dtm = vect.fit_transform(X_train)\n",
    "X_train_dtm.shape\n",
    "vect.get_feature_names()[-10:]"
   ]
  },
  {
   "cell_type": "markdown",
   "metadata": {},
   "source": [
    "<a id='countvectorizer-model'></a>\n",
    "\n",
    "\n",
    "### Using CountVectorizer in a Model\n",
    "![DTM](images/DTM.png)"
   ]
  },
  {
   "cell_type": "code",
   "execution_count": 9,
   "metadata": {},
   "outputs": [
    {
     "name": "stdout",
     "output_type": "stream",
     "text": [
      "0.9187866927592955\n"
     ]
    }
   ],
   "source": [
    "# Use default options for CountVectorizer.\n",
    "vect = CountVectorizer()\n",
    "\n",
    "# Create document-term matrices.\n",
    "X_train_dtm = vect.fit_transform(X_train)\n",
    "X_test_dtm = vect.transform(X_test)\n",
    "\n",
    "# Use Naive Bayes to predict the star rating.\n",
    "nb = MultinomialNB()\n",
    "nb.fit(X_train_dtm, y_train)\n",
    "y_pred_class = nb.predict(X_test_dtm)\n",
    "\n",
    "# Calculate accuracy.\n",
    "print((metrics.accuracy_score(y_test, y_pred_class)))"
   ]
  },
  {
   "cell_type": "code",
   "execution_count": 10,
   "metadata": {},
   "outputs": [
    {
     "data": {
      "text/plain": [
       "5    838\n",
       "1    184\n",
       "Name: stars, dtype: int64"
      ]
     },
     "execution_count": 10,
     "metadata": {},
     "output_type": "execute_result"
    }
   ],
   "source": [
    "y_test.value_counts()"
   ]
  },
  {
   "cell_type": "code",
   "execution_count": 11,
   "metadata": {},
   "outputs": [
    {
     "name": "stdout",
     "output_type": "stream",
     "text": [
      "Percent 5 Stars: 0.8199608610567515\n",
      "Percent 1 Stars: 0.18003913894324852\n"
     ]
    }
   ],
   "source": [
    "# Calculate null accuracy.\n",
    "y_test_binary = np.where(y_test==5, 1, 0) # five stars become 1, one stars become 0\n",
    "print('Percent 5 Stars:', y_test_binary.mean())\n",
    "print('Percent 1 Stars:', 1 - y_test_binary.mean())"
   ]
  },
  {
   "cell_type": "markdown",
   "metadata": {},
   "source": [
    "Our model predicted ~92% accuracy, which is an improvement over this baseline 82% accuracy (assuming our model always predicts 5 stars).\n",
    "\n",
    "Let's look more into how the vectorizer works."
   ]
  },
  {
   "cell_type": "code",
   "execution_count": 12,
   "metadata": {},
   "outputs": [
    {
     "data": {
      "text/plain": [
       "<3064x16825 sparse matrix of type '<class 'numpy.int64'>'\n",
       "\twith 237720 stored elements in Compressed Sparse Row format>"
      ]
     },
     "execution_count": 12,
     "metadata": {},
     "output_type": "execute_result"
    }
   ],
   "source": [
    "# Notice how the data was transformed into this sparse matrix with 1,022 datapoints and 16,825 features!\n",
    "#   - Recall that vectorizations of text will be mostly zeros, since only a few unique words are in each document.\n",
    "#   - For that reason, instead of storing all the zeros we only store non-zero values (inside the 'sparse matrix' data structure!).\n",
    "#   - We have 3064 Yelp reviews in our training set.\n",
    "#   - 16,825 unique words were found across all documents.\n",
    "\n",
    "X_train_dtm"
   ]
  },
  {
   "cell_type": "code",
   "execution_count": 13,
   "metadata": {},
   "outputs": [
    {
     "data": {
      "text/plain": [
       "{'filly': 5773,\n",
       " 'only': 10362,\n",
       " 'reviews': 12465,\n",
       " 'nine': 10069,\n",
       " 'now': 10180,\n",
       " 'wow': 16612,\n",
       " 'do': 4631,\n",
       " 'miss': 9578,\n",
       " 'this': 15093,\n",
       " 'place': 11186,\n",
       " '24hrs': 136,\n",
       " 'drive': 4809,\n",
       " 'thru': 15136,\n",
       " 'or': 10413,\n",
       " 'walk': 16195,\n",
       " 'up': 15834,\n",
       " 'ridiculously': 12514,\n",
       " 'cheap': 2789,\n",
       " 'tasty': 14838,\n",
       " 'of': 10286,\n",
       " 'course': 3679,\n",
       " 'the': 15032,\n",
       " 'arizona': 1018,\n",
       " 'burritos': 2286,\n",
       " 'are': 1003,\n",
       " 'good': 6571,\n",
       " 'everything': 5342,\n",
       " 'is': 7956,\n",
       " 'used': 15885,\n",
       " 'to': 15228,\n",
       " 'love': 8899,\n",
       " 'one': 10354,\n",
       " 'combos': 3233,\n",
       " 'you': 16727,\n",
       " 'get': 6433,\n",
       " 'beef': 1564,\n",
       " 'burrito': 2285,\n",
       " 'taco': 14720,\n",
       " 'rice': 12489,\n",
       " 'and': 805,\n",
       " 'beans': 1528,\n",
       " 'for': 6028,\n",
       " 'under': 15683,\n",
       " 'color': 3213,\n",
       " 'me': 9301,\n",
       " 'silly': 13462,\n",
       " 'call': 2398,\n",
       " 'sally': 12808,\n",
       " 'they': 15067,\n",
       " 'have': 7023,\n",
       " 'bomb': 1902,\n",
       " 'horchata': 7345,\n",
       " 'too': 15281,\n",
       " 'really': 12038,\n",
       " 'fresh': 6154,\n",
       " 'flautas': 5882,\n",
       " 'rolled': 12622,\n",
       " 'tacos': 14721,\n",
       " 'breakfast': 2069,\n",
       " 'damn': 3999,\n",
       " 'here': 7149,\n",
       " 'whether': 16394,\n",
       " 'drunk': 4837,\n",
       " 'sober': 13745,\n",
       " 'my': 9868,\n",
       " 'husband': 7476,\n",
       " 'absolutely': 353,\n",
       " 'restaurant': 12410,\n",
       " 'anytime': 889,\n",
       " 'find': 5790,\n",
       " 'myself': 9871,\n",
       " 'craving': 3757,\n",
       " 'mexican': 9440,\n",
       " 'food': 6006,\n",
       " 'first': 5828,\n",
       " 'that': 15027,\n",
       " 'pops': 11347,\n",
       " 'in': 7619,\n",
       " 'head': 7042,\n",
       " 'salsa': 12814,\n",
       " 'blanca': 1780,\n",
       " 'we': 16306,\n",
       " 'always': 735,\n",
       " 'encountered': 5144,\n",
       " 'friendly': 6171,\n",
       " 'welcoming': 16355,\n",
       " 'staff': 14107,\n",
       " 'amazing': 752,\n",
       " 'fulfilling': 6251,\n",
       " 'what': 16377,\n",
       " 'more': 9735,\n",
       " 'could': 3655,\n",
       " 'ask': 1101,\n",
       " 'went': 16361,\n",
       " 'today': 15237,\n",
       " 'after': 563,\n",
       " 'lunch': 8945,\n",
       " 'got': 6605,\n",
       " 'usual': 15893,\n",
       " 'lime': 8707,\n",
       " 'basil': 1477,\n",
       " 'real': 12029,\n",
       " 'mint': 9540,\n",
       " 'chip': 2896,\n",
       " 'which': 16396,\n",
       " 'leaves': 8570,\n",
       " 'hubby': 7420,\n",
       " 'chocolate': 2914,\n",
       " 'guiness': 6820,\n",
       " 'four': 6089,\n",
       " 'peaks': 10866,\n",
       " 'hop': 7329,\n",
       " 'knot': 8348,\n",
       " 'best': 1657,\n",
       " 'ice': 7503,\n",
       " 'cream': 3766,\n",
       " 'phoenix': 11045,\n",
       " 'super': 14545,\n",
       " 'nice': 10041,\n",
       " 'give': 6481,\n",
       " 'us': 15879,\n",
       " 'bags': 1345,\n",
       " 'take': 14743,\n",
       " 'our': 10493,\n",
       " 'home': 7283,\n",
       " 'totally': 15327,\n",
       " 'dissapointed': 4585,\n",
       " 'had': 6868,\n",
       " 'purchased': 11785,\n",
       " 'coupon': 3676,\n",
       " 'from': 6195,\n",
       " 'travelzoo': 15435,\n",
       " 'try': 15520,\n",
       " 'out': 10496,\n",
       " 'given': 6483,\n",
       " 'its': 7980,\n",
       " 'location': 8814,\n",
       " 'would': 16606,\n",
       " 'thought': 15104,\n",
       " 'it': 7971,\n",
       " 'was': 16252,\n",
       " 'going': 6551,\n",
       " 'be': 1522,\n",
       " 'very': 16032,\n",
       " 'upscale': 15861,\n",
       " 'were': 16362,\n",
       " 'expecting': 5440,\n",
       " 'whole': 16429,\n",
       " 'lot': 8881,\n",
       " 'service': 13193,\n",
       " 'great': 6693,\n",
       " 'but': 2312,\n",
       " 'not': 10148,\n",
       " 'worth': 16601,\n",
       " 'itself': 7981,\n",
       " 'outdated': 10500,\n",
       " '80': 284,\n",
       " 'crab': 3721,\n",
       " 'cakes': 2387,\n",
       " 'appertizer': 933,\n",
       " 'cold': 3192,\n",
       " 'when': 16389,\n",
       " 'served': 13188,\n",
       " 'told': 15254,\n",
       " 'waiter': 16181,\n",
       " 'who': 16425,\n",
       " 'turn': 15556,\n",
       " 'chef': 2828,\n",
       " 'message': 9416,\n",
       " 'passed': 10776,\n",
       " 'back': 1310,\n",
       " 'she': 13272,\n",
       " 'appologized': 957,\n",
       " 'ordred': 10434,\n",
       " '12oz': 52,\n",
       " 'new': 10013,\n",
       " 'york': 16724,\n",
       " 'strip': 14358,\n",
       " 'ala': 646,\n",
       " 'carte': 2573,\n",
       " '29': 153,\n",
       " '95': 307,\n",
       " 'oz': 10602,\n",
       " 'pure': 11789,\n",
       " 'fat': 5622,\n",
       " 'price': 11555,\n",
       " 'expect': 5435,\n",
       " 'meat': 9318,\n",
       " 'than': 15015,\n",
       " 'ordered': 10428,\n",
       " 'wild': 16461,\n",
       " 'mushroom': 9844,\n",
       " 'pizza': 11174,\n",
       " 'ok': 10322,\n",
       " 'needs': 9972,\n",
       " 'an': 797,\n",
       " 'over': 10532,\n",
       " 'haul': 7014,\n",
       " 'major': 9048,\n",
       " 'way': 16300,\n",
       " 'if': 7534,\n",
       " 'want': 16220,\n",
       " 'make': 9051,\n",
       " 'any': 879,\n",
       " 'money': 9689,\n",
       " 'at': 1157,\n",
       " 'saturday': 12905,\n",
       " 'night': 10052,\n",
       " '7pm': 282,\n",
       " 'empty': 5125,\n",
       " 'think': 15082,\n",
       " 'highlight': 7186,\n",
       " 'meal': 9303,\n",
       " 'bottle': 1981,\n",
       " 'cabinet': 2365,\n",
       " 'costco': 3635,\n",
       " 'travel': 15428,\n",
       " 'recently': 12073,\n",
       " 'returned': 12444,\n",
       " 'trip': 15483,\n",
       " 'big': 1704,\n",
       " 'island': 7958,\n",
       " 'hi': 7168,\n",
       " 'arranged': 1038,\n",
       " 'throught': 15130,\n",
       " 'shopping': 13361,\n",
       " 'around': 1033,\n",
       " 'found': 6083,\n",
       " 'their': 15039,\n",
       " 'prices': 11559,\n",
       " 'phone': 11049,\n",
       " 'able': 340,\n",
       " 'all': 679,\n",
       " 'arrangements': 1040,\n",
       " 'airfair': 621,\n",
       " 'condo': 3394,\n",
       " 'car': 2505,\n",
       " 'didn': 4411,\n",
       " 'with': 16526,\n",
       " 'bs': 2197,\n",
       " 'on': 10352,\n",
       " 'hilo': 7206,\n",
       " 'adjust': 485,\n",
       " 'dates': 4053,\n",
       " 'according': 398,\n",
       " 'plan': 11196,\n",
       " 'being': 1599,\n",
       " 'accurate': 405,\n",
       " 'outstanding': 10527,\n",
       " 'value': 15939,\n",
       " 'gas': 6356,\n",
       " 'did': 4409,\n",
       " 'some': 13798,\n",
       " 'souvenier': 13885,\n",
       " 'kona': 8363,\n",
       " 'again': 573,\n",
       " 'saved': 12923,\n",
       " 've': 15968,\n",
       " 'shopped': 13358,\n",
       " 'years': 16679,\n",
       " 'becoming': 1555,\n",
       " 'groupie': 6766,\n",
       " 'been': 1567,\n",
       " 'couple': 3672,\n",
       " 'there': 15057,\n",
       " 'advantages': 520,\n",
       " 'rarely': 11967,\n",
       " 'busy': 2311,\n",
       " 'larger': 8478,\n",
       " 'groups': 6770,\n",
       " 'last': 8490,\n",
       " 'few': 5720,\n",
       " 'times': 15190,\n",
       " 'experienced': 5448,\n",
       " 'average': 1253,\n",
       " 'lousy': 8897,\n",
       " 'joining': 8119,\n",
       " 'already': 719,\n",
       " 'seated': 13085,\n",
       " 'group': 6765,\n",
       " '28': 152,\n",
       " 'high': 7181,\n",
       " 'school': 12990,\n",
       " 'hostess': 7369,\n",
       " 'wagged': 16174,\n",
       " 'her': 7142,\n",
       " 'finger': 5800,\n",
       " 'face': 5528,\n",
       " 'like': 8695,\n",
       " 'east': 4943,\n",
       " 'german': 6428,\n",
       " 'border': 1953,\n",
       " 'guard': 6800,\n",
       " 'waffle': 16169,\n",
       " 'house': 7390,\n",
       " 'waitress': 16184,\n",
       " 'poked': 11295,\n",
       " 'shoulder': 13376,\n",
       " 'attention': 1197,\n",
       " 'wife': 16449,\n",
       " 'chicken': 2855,\n",
       " 'dish': 4540,\n",
       " 'sent': 13162,\n",
       " 'as': 1080,\n",
       " 'measly': 9314,\n",
       " 'pieces': 11099,\n",
       " 'beers': 1571,\n",
       " 'tap': 14792,\n",
       " 'garbage': 6337,\n",
       " 'muffler': 9815,\n",
       " 'shop': 13354,\n",
       " 'town': 15357,\n",
       " 'shops': 13362,\n",
       " 'trust': 15513,\n",
       " 'mighty': 9482,\n",
       " 'them': 15042,\n",
       " 'greg': 6714,\n",
       " 'has': 6999,\n",
       " 'worked': 16580,\n",
       " 'multiple': 9824,\n",
       " 'cars': 2571,\n",
       " 'done': 4687,\n",
       " 'job': 8105,\n",
       " 'ever': 5333,\n",
       " 'issues': 7968,\n",
       " 'he': 7041,\n",
       " 'takes': 14748,\n",
       " 'care': 2525,\n",
       " 'problem': 11605,\n",
       " 'no': 10084,\n",
       " 'questions': 11856,\n",
       " 'asked': 1102,\n",
       " 'just': 8189,\n",
       " 'start': 14159,\n",
       " 'off': 10287,\n",
       " 'by': 2346,\n",
       " 'saying': 12940,\n",
       " 'egg': 5023,\n",
       " 'salad': 12788,\n",
       " 'sandwiches': 12862,\n",
       " 'probably': 11603,\n",
       " 'tried': 15473,\n",
       " 'sandwich': 12860,\n",
       " 'anywhere': 892,\n",
       " 'serves': 13192,\n",
       " 'sacks': 12762,\n",
       " 'far': 5600,\n",
       " 'entitled': 5217,\n",
       " 'dali': 3991,\n",
       " 'life': 8673,\n",
       " 'live': 8775,\n",
       " 'north': 10136,\n",
       " 'will': 16470,\n",
       " 'literally': 8770,\n",
       " 'many': 9120,\n",
       " 'miles': 9493,\n",
       " 'eat': 4949,\n",
       " 'top': 15293,\n",
       " 'wonderful': 16554,\n",
       " 'menu': 9396,\n",
       " 'whenever': 16390,\n",
       " 'order': 10427,\n",
       " 'comes': 3237,\n",
       " 'little': 8773,\n",
       " 'cookie': 3558,\n",
       " 'cookies': 3559,\n",
       " 'can': 2435,\n",
       " 'purchase': 11784,\n",
       " 'dough': 4722,\n",
       " 'also': 721,\n",
       " 'other': 10485,\n",
       " 'delicious': 4220,\n",
       " 'dessert': 4342,\n",
       " 'bars': 1458,\n",
       " 'salads': 12789,\n",
       " 'sale': 12796,\n",
       " 'well': 16356,\n",
       " 'eating': 4958,\n",
       " 'least': 8566,\n",
       " '14': 56,\n",
       " 'hope': 7330,\n",
       " 'never': 10012,\n",
       " 'go': 6532,\n",
       " 'away': 1275,\n",
       " 'saw': 12934,\n",
       " 'triple': 15485,\n",
       " 'so': 13738,\n",
       " 'decided': 4131,\n",
       " 'expectations': 5438,\n",
       " 'arrived': 1048,\n",
       " 'shocked': 13339,\n",
       " 'thursday': 15145,\n",
       " 'morning': 9742,\n",
       " 'line': 8724,\n",
       " 'extra': 5494,\n",
       " 'long': 8842,\n",
       " 'wait': 16179,\n",
       " 'patiently': 10810,\n",
       " 'don': 4682,\n",
       " 'needless': 9971,\n",
       " 'say': 12938,\n",
       " 'because': 1548,\n",
       " 'quickly': 11864,\n",
       " 'pork': 11358,\n",
       " 'chop': 2938,\n",
       " 'eggs': 5030,\n",
       " 'hash': 7000,\n",
       " 'browns': 2168,\n",
       " 'fabulous': 5526,\n",
       " 'toast': 15229,\n",
       " 'made': 8998,\n",
       " 'grape': 6659,\n",
       " 'jelly': 8061,\n",
       " 'recommend': 12097,\n",
       " 'anyone': 885,\n",
       " 'downtown': 4743,\n",
       " 'area': 1004,\n",
       " 'sure': 14583,\n",
       " 'bacon': 1324,\n",
       " 'hit': 7232,\n",
       " 'wine': 16492,\n",
       " 'down': 4732,\n",
       " 'wednesday': 16325,\n",
       " 'happenin': 6955,\n",
       " 'tastings': 14837,\n",
       " 'courtesy': 3685,\n",
       " 'kyot': 8401,\n",
       " 'wrong': 16639,\n",
       " 'event': 5330,\n",
       " 'minutes': 9546,\n",
       " 'maybe': 9272,\n",
       " 'spot': 14035,\n",
       " 'case': 2583,\n",
       " 'hoppin': 7339,\n",
       " 'walked': 16197,\n",
       " 'looks': 8855,\n",
       " 'possibly': 11391,\n",
       " 'manager': 9088,\n",
       " 'owner': 10590,\n",
       " 'then': 15047,\n",
       " 'pointed': 11285,\n",
       " 'towards': 15350,\n",
       " 'room': 12641,\n",
       " 'where': 16391,\n",
       " 'held': 7114,\n",
       " 'about': 343,\n",
       " 'tables': 14711,\n",
       " 'people': 10927,\n",
       " 'talk': 14757,\n",
       " 'early': 4926,\n",
       " 'bird': 1735,\n",
       " 'gets': 6435,\n",
       " 'worm': 16591,\n",
       " 'finish': 5808,\n",
       " 'table': 14709,\n",
       " 'sit': 13510,\n",
       " 'patio': 10812,\n",
       " 'said': 12778,\n",
       " 'yes': 16698,\n",
       " 'right': 12522,\n",
       " 'help': 7124,\n",
       " 'meantime': 9312,\n",
       " 'another': 850,\n",
       " 'woman': 16548,\n",
       " 'friend': 6167,\n",
       " 'took': 15283,\n",
       " 'nearby': 9954,\n",
       " '20': 107,\n",
       " 'later': 8498,\n",
       " 'looking': 8853,\n",
       " 'came': 2417,\n",
       " 'helped': 7125,\n",
       " 'yet': 16701,\n",
       " 'left': 8583,\n",
       " 'return': 12443,\n",
       " 'small': 13638,\n",
       " 'happy': 6963,\n",
       " 'hour': 7388,\n",
       " 'flier': 5905,\n",
       " 'handed': 6914,\n",
       " 'distance': 4592,\n",
       " 'even': 5327,\n",
       " 'come': 3234,\n",
       " 'know': 8351,\n",
       " 're': 12013,\n",
       " 'wondering': 16557,\n",
       " 'why': 16440,\n",
       " '15': 60,\n",
       " 'wanted': 16222,\n",
       " 'see': 13113,\n",
       " 'how': 7404,\n",
       " 'bad': 1326,\n",
       " 'frankly': 6118,\n",
       " 'same': 12833,\n",
       " 'full': 6252,\n",
       " 'detailed': 4352,\n",
       " 'menus': 9398,\n",
       " 'deals': 4093,\n",
       " 'ready': 12028,\n",
       " 'um': 15635,\n",
       " 'gave': 6375,\n",
       " '10': 16,\n",
       " 'seconds': 13096,\n",
       " 'ago': 587,\n",
       " 'enjoy': 5179,\n",
       " 'look': 8851,\n",
       " 'app': 913,\n",
       " 'specialty': 13945,\n",
       " 'appetizer': 938,\n",
       " 'much': 9807,\n",
       " 'whatever': 16378,\n",
       " 'deal': 4087,\n",
       " 'drink': 4801,\n",
       " 'section': 13103,\n",
       " 'claim': 3029,\n",
       " 'glasses': 6497,\n",
       " 'excited': 5387,\n",
       " 'wines': 16493,\n",
       " 'reality': 12031,\n",
       " 'consisted': 3467,\n",
       " 'three': 15116,\n",
       " 'different': 4427,\n",
       " 'weren': 16363,\n",
       " 'women': 16549,\n",
       " 'outside': 10525,\n",
       " 'leave': 8569,\n",
       " 'having': 7026,\n",
       " 'enough': 5189,\n",
       " 'shenanigans': 13295,\n",
       " '30': 162,\n",
       " 'since': 13482,\n",
       " 'next': 10031,\n",
       " 'door': 4699,\n",
       " 'sprouts': 14064,\n",
       " 'apps': 978,\n",
       " 'own': 10588,\n",
       " 'bet': 1660,\n",
       " 'plenty': 11250,\n",
       " 'experiences': 5449,\n",
       " 'continue': 3514,\n",
       " 'visit': 16107,\n",
       " 'happily': 6961,\n",
       " 'experience': 5447,\n",
       " 'caused': 2628,\n",
       " 'write': 16632,\n",
       " 'usually': 15894,\n",
       " 'instance': 7807,\n",
       " 'wish': 16521,\n",
       " 'actually': 447,\n",
       " 'review': 12460,\n",
       " 'poor': 11337,\n",
       " 'substandard': 14446,\n",
       " 'giving': 6486,\n",
       " 'understand': 15696,\n",
       " 'isn': 7962,\n",
       " 'better': 1667,\n",
       " 'talented': 14753,\n",
       " 'others': 10486,\n",
       " 'however': 7407,\n",
       " 'business': 2300,\n",
       " 'should': 13375,\n",
       " 'customer': 3946,\n",
       " 'cliched': 3082,\n",
       " 'less': 8626,\n",
       " 'star': 14146,\n",
       " 'oh': 10310,\n",
       " 'yeah': 16674,\n",
       " 'slapped': 13575,\n",
       " 'yelped': 16689,\n",
       " 'card': 2516,\n",
       " 'pepperoni': 10937,\n",
       " 'amazed': 749,\n",
       " 'herb': 7143,\n",
       " 'vegetable': 15976,\n",
       " 'garden': 6340,\n",
       " 'front': 6197,\n",
       " 'ingredients': 7747,\n",
       " 'these': 15065,\n",
       " 'days': 4067,\n",
       " 'dishes': 4541,\n",
       " 'cheese': 2818,\n",
       " 'platters': 11225,\n",
       " 'mouth': 9782,\n",
       " 'watering': 16285,\n",
       " 'speak': 13926,\n",
       " 'day': 4064,\n",
       " 'll': 8788,\n",
       " 'keep': 8244,\n",
       " 'adding': 469,\n",
       " 'stay': 14186,\n",
       " 'tuned': 15547,\n",
       " 'btw': 2198,\n",
       " 'decor': 4149,\n",
       " 'reminds': 12272,\n",
       " 'vig': 16066,\n",
       " 'definitely': 4188,\n",
       " 'spacious': 13898,\n",
       " 'dining': 4462,\n",
       " 'sushi': 14612,\n",
       " 'time': 15184,\n",
       " 'garlic': 6346,\n",
       " 'knots': 8350,\n",
       " 'favorite': 5643,\n",
       " 'alot': 716,\n",
       " 'panda': 10687,\n",
       " 'family': 5581,\n",
       " 'run': 12728,\n",
       " 'chinese': 2894,\n",
       " 'most': 9757,\n",
       " 'importantly': 7596,\n",
       " 'style': 14421,\n",
       " 'meals': 9304,\n",
       " 'personal': 10987,\n",
       " 'empress': 5122,\n",
       " 'sweeter': 14655,\n",
       " 'orange': 10415,\n",
       " 'flavor': 5884,\n",
       " 'melts': 9371,\n",
       " 'your': 16732,\n",
       " 'kung': 8396,\n",
       " 'pao': 10705,\n",
       " 'two': 15598,\n",
       " 'shrimp': 13403,\n",
       " 'leftovers': 8585,\n",
       " 'thanks': 15024,\n",
       " 'generous': 6407,\n",
       " 'portions': 11369,\n",
       " 'selection': 13131,\n",
       " 'sake': 12784,\n",
       " 'beer': 1570,\n",
       " 'everyone': 5340,\n",
       " 'else': 5078,\n",
       " 'checks': 2809,\n",
       " 'man': 9083,\n",
       " 'leaving': 8571,\n",
       " 'six': 13519,\n",
       " 'half': 6889,\n",
       " 'search': 13073,\n",
       " 'gotten': 6610,\n",
       " 'point': 11283,\n",
       " 'settled': 13205,\n",
       " 'decent': 4125,\n",
       " 'work': 16579,\n",
       " 'colleague': 3202,\n",
       " 'suggested': 14496,\n",
       " 'dine': 4454,\n",
       " 'corporate': 3610,\n",
       " 'meeting': 9348,\n",
       " 'while': 16398,\n",
       " 'realized': 12033,\n",
       " 'native': 9933,\n",
       " 'metro': 9435,\n",
       " 'thing': 15077,\n",
       " 'trusted': 15514,\n",
       " 'his': 7227,\n",
       " 'palate': 10656,\n",
       " 'sense': 13156,\n",
       " 'pleased': 11243,\n",
       " 'diners': 4458,\n",
       " 'predominately': 11467,\n",
       " 'asian': 1098,\n",
       " 'knew': 8337,\n",
       " 'market': 9165,\n",
       " 'things': 15079,\n",
       " 'signaled': 13445,\n",
       " 'thrilled': 15123,\n",
       " 'familiar': 5579,\n",
       " 'dim': 4448,\n",
       " 'sum': 14510,\n",
       " 'carts': 2578,\n",
       " 'rolling': 12624,\n",
       " 'through': 15128,\n",
       " 'party': 10768,\n",
       " 'shared': 13254,\n",
       " 'fantastic': 5596,\n",
       " 'succulent': 14469,\n",
       " 'orders': 10431,\n",
       " 'equally': 5244,\n",
       " 'veggies': 15981,\n",
       " 'brightly': 2120,\n",
       " 'colored': 3215,\n",
       " 'tastes': 14830,\n",
       " 'distinctive': 4598,\n",
       " 'hot': 7374,\n",
       " 'sour': 13871,\n",
       " 'soup': 13868,\n",
       " 'perfect': 10949,\n",
       " 'filled': 5766,\n",
       " 'kinds': 8310,\n",
       " 'mushrooms': 9845,\n",
       " 'etc': 5301,\n",
       " 'delighted': 4226,\n",
       " 'reminisced': 12273,\n",
       " 'dinners': 4466,\n",
       " 'chinatown': 2893,\n",
       " 'ny': 10224,\n",
       " 'comparable': 3290,\n",
       " 'close': 3108,\n",
       " 'regular': 12197,\n",
       " 'chandler': 2741,\n",
       " 'clear': 3067,\n",
       " 'side': 13428,\n",
       " 'world': 16588,\n",
       " 'figure': 5750,\n",
       " 'marco': 9133,\n",
       " 'polo': 11314,\n",
       " 'palace': 10653,\n",
       " 'prompt': 11671,\n",
       " 'rounded': 12678,\n",
       " 'hooray': 7326,\n",
       " 'stayed': 14189,\n",
       " 'hotel': 7377,\n",
       " 'tuscany': 15566,\n",
       " 'scallops': 12951,\n",
       " 'pasta': 10788,\n",
       " 'excellent': 5374,\n",
       " 'server': 13189,\n",
       " 'bliss': 1820,\n",
       " 'haven': 7024,\n",
       " 'quality': 11833,\n",
       " 'dinner': 4465,\n",
       " 'stupendous': 14413,\n",
       " 'every': 5336,\n",
       " 'cent': 2674,\n",
       " 'must': 9856,\n",
       " 'yin': 16705,\n",
       " 'yang': 16663,\n",
       " 'martini': 9195,\n",
       " 'creative': 3779,\n",
       " 'presented': 11514,\n",
       " 'smiles': 13664,\n",
       " 'smores': 13684,\n",
       " 'desert': 4315,\n",
       " 'hands': 6928,\n",
       " 'connosiuer': 3444,\n",
       " 'critical': 3821,\n",
       " 'college': 3209,\n",
       " 'kids': 8288,\n",
       " 'ra': 11887,\n",
       " 'mediocre': 9341,\n",
       " 'list': 8755,\n",
       " 'irk': 7938,\n",
       " 'during': 4891,\n",
       " 'co': 3145,\n",
       " 'workers': 16582,\n",
       " 'packed': 10616,\n",
       " 'extremely': 5503,\n",
       " 'meet': 9347,\n",
       " 'coworkers': 3708,\n",
       " 'tired': 15214,\n",
       " 'chill': 2878,\n",
       " 'past': 10787,\n",
       " 'friends': 6172,\n",
       " 'alone': 710,\n",
       " 'quite': 11877,\n",
       " 'bit': 1749,\n",
       " 'servings': 13197,\n",
       " 'obviously': 10256,\n",
       " 'low': 8911,\n",
       " 'zen': 16785,\n",
       " '32': 172,\n",
       " 'choice': 2922,\n",
       " 'sakebomber': 12785,\n",
       " 'loud': 8886,\n",
       " 'noises': 10098,\n",
       " 'trying': 15521,\n",
       " 'louder': 8887,\n",
       " 'music': 9848,\n",
       " 'person': 10985,\n",
       " 'overall': 10533,\n",
       " 'tip': 15207,\n",
       " 'priced': 11556,\n",
       " 'works': 16587,\n",
       " 'horrible': 7351,\n",
       " 'twice': 15586,\n",
       " 'gone': 6564,\n",
       " 'messing': 9420,\n",
       " 'starbucks': 14148,\n",
       " 'hard': 6969,\n",
       " 'believe': 1604,\n",
       " 'attitude': 1202,\n",
       " 'lady': 8427,\n",
       " 'doesn': 4648,\n",
       " 'ordering': 10429,\n",
       " 'someone': 13803,\n",
       " 'fix': 5846,\n",
       " 'known': 8356,\n",
       " 'ya': 16655,\n",
       " 'employees': 5117,\n",
       " 'rude': 12708,\n",
       " 'makes': 9055,\n",
       " 'anymore': 884,\n",
       " 'stopped': 14290,\n",
       " 'still': 14252,\n",
       " 'mom': 9679,\n",
       " 'goes': 6549,\n",
       " 'coffee': 3182,\n",
       " 'coast': 3151,\n",
       " 'deli': 4210,\n",
       " 'west': 16365,\n",
       " 'appalachians': 914,\n",
       " 'creams': 3771,\n",
       " 'pricy': 11566,\n",
       " 'apparently': 921,\n",
       " 'free': 6134,\n",
       " 'summer': 14515,\n",
       " 'kept': 8256,\n",
       " 'stars': 14158,\n",
       " 'frown': 6207,\n",
       " 'birthday': 1739,\n",
       " 'spirits': 13998,\n",
       " 'written': 16637,\n",
       " 'clarity': 3042,\n",
       " 'margaritas': 9140,\n",
       " 'strong': 14376,\n",
       " 'check': 2797,\n",
       " '18': 75,\n",
       " 'mahi': 9025,\n",
       " 'each': 4917,\n",
       " '24': 135,\n",
       " 'rancid': 11948,\n",
       " 'yup': 16765,\n",
       " 'fajitas': 5564,\n",
       " 'jumbo': 8173,\n",
       " 'charge': 2763,\n",
       " 'entree': 5222,\n",
       " 'pay': 10844,\n",
       " 'onions': 10360,\n",
       " 'once': 10353,\n",
       " 'week': 16329,\n",
       " 'asada': 1081,\n",
       " 'enchilada': 5138,\n",
       " 'avocado': 1260,\n",
       " 'lover': 8905,\n",
       " 'ripest': 12542,\n",
       " 'avocados': 1261,\n",
       " 'f724': 5521,\n",
       " 'bother': 1975,\n",
       " 'asking': 1104,\n",
       " 'entering': 5201,\n",
       " 'reply': 12331,\n",
       " 'spoke': 14020,\n",
       " 'acknowledged': 419,\n",
       " 'presence': 11511,\n",
       " 'ticket': 15153,\n",
       " 'happened': 6954,\n",
       " 'effort': 5020,\n",
       " 'tell': 14925,\n",
       " 'scathing': 12969,\n",
       " 'deplorable': 4288,\n",
       " 'sadly': 12768,\n",
       " 'dmv': 4628,\n",
       " 'modeled': 9641,\n",
       " 'agonizing': 588,\n",
       " 'depths': 4297,\n",
       " 'hell': 7117,\n",
       " 'musac': 9837,\n",
       " 'score': 13009,\n",
       " 'playing': 11233,\n",
       " 'voracious': 16143,\n",
       " 'stench': 14221,\n",
       " 'air': 619,\n",
       " 'spastic': 13921,\n",
       " 'children': 2869,\n",
       " 'running': 12731,\n",
       " 'version': 16028,\n",
       " 'politicians': 11310,\n",
       " 'campaigning': 2426,\n",
       " 'late': 8496,\n",
       " 'complete': 3331,\n",
       " 'emissions': 5104,\n",
       " 'test': 14990,\n",
       " 'those': 15101,\n",
       " 'dmvs': 4629,\n",
       " 'open': 10379,\n",
       " 'saturdays': 12906,\n",
       " 'map': 9121,\n",
       " 'precious': 11458,\n",
       " 'fortunate': 6071,\n",
       " 'near': 9953,\n",
       " 'seriously': 13180,\n",
       " 'entire': 5215,\n",
       " 'valley': 15936,\n",
       " 'receiving': 12071,\n",
       " 'such': 14471,\n",
       " 'magnificent': 9018,\n",
       " 'welcome': 16352,\n",
       " 'among': 781,\n",
       " 'painful': 10633,\n",
       " 'simplify': 13476,\n",
       " 'let': 8630,\n",
       " 'feel': 5678,\n",
       " 'constitutes': 3479,\n",
       " 'acceptable': 371,\n",
       " 'behavior': 1594,\n",
       " 'public': 11732,\n",
       " 'bathe': 1492,\n",
       " 'combination': 3227,\n",
       " 'water': 16280,\n",
       " 'soap': 13742,\n",
       " 'along': 711,\n",
       " 'massaging': 9221,\n",
       " 'skin': 13553,\n",
       " 'creates': 3775,\n",
       " 'outcome': 10499,\n",
       " 'pleasing': 11244,\n",
       " 'scrub': 13050,\n",
       " 'behind': 1595,\n",
       " 'ears': 4932,\n",
       " 'reference': 12142,\n",
       " 'website': 16318,\n",
       " 'notorious': 10164,\n",
       " 'http': 7416,\n",
       " 'www': 16645,\n",
       " 'craigslist': 3740,\n",
       " 'org': 10443,\n",
       " 'htf': 7414,\n",
       " '755891987': 278,\n",
       " 'html': 7415,\n",
       " 'waiting': 16183,\n",
       " 'tapping': 14800,\n",
       " 'foot': 6022,\n",
       " 'rocking': 12609,\n",
       " 'forth': 6070,\n",
       " 'chair': 2712,\n",
       " 'bouncing': 1999,\n",
       " 'leg': 8586,\n",
       " 'aren': 1006,\n",
       " 'faster': 5620,\n",
       " 'watching': 16279,\n",
       " 'clock': 3102,\n",
       " 'anxious': 877,\n",
       " 'leash': 8563,\n",
       " 'cannot': 2465,\n",
       " 'quietly': 11868,\n",
       " 'winter': 16506,\n",
       " 'fine': 5794,\n",
       " 'cute': 3953,\n",
       " 'monster': 9702,\n",
       " 'aisles': 634,\n",
       " 'honey': 7307,\n",
       " 'bun': 2261,\n",
       " 'squeezing': 14083,\n",
       " 'between': 1671,\n",
       " 'fingers': 5805,\n",
       " 'fake': 5566,\n",
       " 'falls': 5575,\n",
       " 'five': 5845,\n",
       " 'row': 12686,\n",
       " 'maintain': 9039,\n",
       " 'quiet': 11866,\n",
       " 'tones': 15272,\n",
       " 'ensure': 5197,\n",
       " 'appropriate': 973,\n",
       " 'conversations': 3541,\n",
       " 'taking': 14749,\n",
       " 'making': 9060,\n",
       " 'calls': 2404,\n",
       " 'sorry': 13851,\n",
       " 'stripping': 14366,\n",
       " 'popped': 11342,\n",
       " 'into': 7877,\n",
       " 'mind': 9515,\n",
       " 'failed': 5550,\n",
       " 'audition': 1218,\n",
       " 'le': 8539,\n",
       " 'girl': 6470,\n",
       " 'continued': 3515,\n",
       " 'conversation': 3539,\n",
       " 'woodworker': 16571,\n",
       " 'acknowledge': 418,\n",
       " 'humans': 7440,\n",
       " 'fact': 5540,\n",
       " 'sideways': 13435,\n",
       " 'disappear': 4490,\n",
       " 'quit': 11876,\n",
       " 'bumping': 2259,\n",
       " 'hitting': 7235,\n",
       " 'unless': 15770,\n",
       " 'flirting': 5917,\n",
       " 'need': 9966,\n",
       " 'level': 8636,\n",
       " 'brilliant': 2122,\n",
       " 'recipe': 12083,\n",
       " 'dashing': 4050,\n",
       " 'dreams': 4778,\n",
       " 'gutting': 6850,\n",
       " 'humanity': 7439,\n",
       " 'manage': 9084,\n",
       " 'painfully': 10634,\n",
       " 'lit': 8766,\n",
       " 'reeks': 12137,\n",
       " 'brother': 2158,\n",
       " 'old': 10328,\n",
       " 'gym': 6853,\n",
       " 'shoes': 13345,\n",
       " 'dad': 3979,\n",
       " 'dirty': 4486,\n",
       " 'underwear': 15703,\n",
       " 'award': 1271,\n",
       " ...}"
      ]
     },
     "execution_count": 13,
     "metadata": {},
     "output_type": "execute_result"
    }
   ],
   "source": [
    "# Let's take a look at the vocabulary that was generated, containing 16,825 unique words.\n",
    "#   'vocabulary_' is a dictionary that converts each word to its index in the sparse matrix.\n",
    "#   - For example, the word \"four\" is index #3230 in the sparse matrix.\n",
    "\n",
    "vect.vocabulary_"
   ]
  },
  {
   "cell_type": "code",
   "execution_count": 14,
   "metadata": {},
   "outputs": [
    {
     "data": {
      "text/plain": [
       "array([[0, 0, 0, ..., 0, 0, 0],\n",
       "       [0, 0, 0, ..., 0, 0, 0],\n",
       "       [0, 0, 0, ..., 0, 0, 0],\n",
       "       ...,\n",
       "       [0, 0, 0, ..., 0, 0, 0],\n",
       "       [0, 0, 0, ..., 0, 0, 0],\n",
       "       [0, 0, 0, ..., 0, 0, 0]])"
      ]
     },
     "execution_count": 14,
     "metadata": {},
     "output_type": "execute_result"
    }
   ],
   "source": [
    "# Finally, let's convert the sparse matrix to a typical ndarray using .toarray()\n",
    "#   - Remember, this takes up a lot more memory than the sparse matrix! However, this conversion is sometimes necessary.\n",
    "\n",
    "X_test_dtm.toarray()"
   ]
  },
  {
   "cell_type": "code",
   "execution_count": 15,
   "metadata": {},
   "outputs": [],
   "source": [
    "# We will use this function below for simplicity.\n",
    "\n",
    "# Define a function that accepts a vectorizer and calculates the accuracy.\n",
    "def tokenize_test(vect):\n",
    "    X_train_dtm = vect.fit_transform(X_train)\n",
    "    print(('Features: ', X_train_dtm.shape[1]))\n",
    "    X_test_dtm = vect.transform(X_test)\n",
    "    nb = MultinomialNB()\n",
    "    nb.fit(X_train_dtm, y_train)\n",
    "    y_pred_class = nb.predict(X_test_dtm)\n",
    "    print(('Accuracy: ', metrics.accuracy_score(y_test, y_pred_class)))"
   ]
  },
  {
   "cell_type": "code",
   "execution_count": 16,
   "metadata": {},
   "outputs": [
    {
     "name": "stdout",
     "output_type": "stream",
     "text": [
      "('Features: ', 8783)\n",
      "('Accuracy: ', 0.9246575342465754)\n"
     ]
    }
   ],
   "source": [
    "# min_df ignores words that occur less than twice ('df' means \"document frequency\").\n",
    "vect = CountVectorizer(min_df=2, max_features=10000)\n",
    "tokenize_test(vect)"
   ]
  },
  {
   "cell_type": "markdown",
   "metadata": {},
   "source": [
    "Let's take a look next at other ways of preprocessing text!\n",
    "\n",
    "- **Objective:** Demonstrate common text preprocessing techniques.\n",
    "\n",
    "<a id='ngrams'></a>\n",
    "### N-Grams"
   ]
  },
  {
   "cell_type": "markdown",
   "metadata": {},
   "source": [
    "N-grams are features which consist of N consecutive words. This is useful because using the bag-of-words model, treating `data scientist` as a single feature has more meaning than having two independent features `data` and `scientist`!\n",
    "\n",
    "Example:\n",
    "```\n",
    "my cat is awesome\n",
    "Unigrams (1-grams): 'my', 'cat', 'is', 'awesome'\n",
    "Bigrams (2-grams): 'my cat', 'cat is', 'is awesome'\n",
    "Trigrams (3-grams): 'my cat is', 'cat is awesome'\n",
    "4-grams: 'my cat is awesome'\n",
    "```\n",
    "\n",
    "- **ngram_range:** tuple (min_n, max_n)\n",
    "- The lower and upper boundary of the range of n-values for different n-grams to be extracted. All values of n such that min_n <= n <= max_n will be used."
   ]
  },
  {
   "cell_type": "code",
   "execution_count": 17,
   "metadata": {},
   "outputs": [
    {
     "data": {
      "text/plain": [
       "(3064, 169847)"
      ]
     },
     "execution_count": 17,
     "metadata": {},
     "output_type": "execute_result"
    }
   ],
   "source": [
    "# Include 1-grams and 2-grams.\n",
    "vect = CountVectorizer(ngram_range=(1, 2))\n",
    "X_train_dtm = vect.fit_transform(X_train)\n",
    "X_train_dtm.shape"
   ]
  },
  {
   "cell_type": "markdown",
   "metadata": {},
   "source": [
    "We can start to see how supplementing our features with n-grams can lead to more feature columns. When we produce n-grams from a document with $W$ words, we add an additional $(n-W+1)$ features (at most). That said, be careful — when we compute n-grams from an entire corpus, the number of _unique_ n-grams could be vastly higher than the number of _unique_ unigrams! This could cause an undesired feature explosion.\n",
    "\n",
    "Although we sometimes add important new features that have meaning such as `data scientist`, many of the new features will just be noise. So, particularly if we do not have much data, adding n-grams can actually decrease model performance. This is because if each n-gram is only present once or twice in the training set, we are effectively adding mostly noisy features to the mix."
   ]
  },
  {
   "cell_type": "code",
   "execution_count": 18,
   "metadata": {
    "scrolled": true
   },
   "outputs": [
    {
     "name": "stdout",
     "output_type": "stream",
     "text": [
      "['zone out', 'zone when', 'zones', 'zones dolls', 'zoning', 'zoning issues', 'zoo', 'zoo and', 'zoo is', 'zoo not', 'zoo the', 'zoo ve', 'zoyo', 'zoyo for', 'zucca', 'zucca appetizer', 'zucchini', 'zucchini and', 'zucchini bread', 'zucchini broccoli', 'zucchini carrots', 'zucchini fries', 'zucchini pieces', 'zucchini strips', 'zucchini veal', 'zucchini very', 'zucchini with', 'zuchinni', 'zuchinni again', 'zuchinni the', 'zumba', 'zumba class', 'zumba or', 'zumba yogalates', 'zupa', 'zupa flavors', 'zuzu', 'zuzu in', 'zuzu is', 'zuzu the', 'zwiebel', 'zwiebel kräuter', 'zzed', 'zzed in', 'éclairs', 'éclairs napoleons', 'école', 'école lenôtre', 'ém', 'ém all']\n"
     ]
    }
   ],
   "source": [
    "# Last 50 features\n",
    "print((vect.get_feature_names()[-50:]))"
   ]
  },
  {
   "cell_type": "markdown",
   "metadata": {},
   "source": [
    "<a id='stopwords'></a>\n",
    "\n",
    "### Stop-Word Removal\n",
    "\n",
    "- **What:** This process is used to remove common words that will likely appear in any text.\n",
    "- **Why:** Because common words exist in most documents, they likely only add noise to your model and should be removed.\n",
    "\n",
    "**What are stop words?**\n",
    "Stop words are some of the most common words in a language. They are used so that a sentence makes sense grammatically, such as prepositions and determiners, e.g., \"to,\" \"the,\" \"and.\" However, they are so commonly used that they are generally worthless for predicting the class of a document. Since \"a\" appears in spam and non-spam emails, for example, it would only contribute noise to our model.\n",
    "\n",
    "Example: \n",
    "\n",
    "> 1. Original sentence: \"The dog jumped over the fence\"  \n",
    "> 2. After stop-word removal: \"dog jumped over fence\"\n",
    "\n",
    "The fact that there is a fence and a dog jumped over it can be derived with or without stop words."
   ]
  },
  {
   "cell_type": "code",
   "execution_count": 19,
   "metadata": {},
   "outputs": [
    {
     "data": {
      "text/plain": [
       "CountVectorizer(analyzer='word', binary=False, decode_error='strict',\n",
       "        dtype=<class 'numpy.int64'>, encoding='utf-8', input='content',\n",
       "        lowercase=True, max_df=1.0, max_features=None, min_df=1,\n",
       "        ngram_range=(1, 2), preprocessor=None, stop_words=None,\n",
       "        strip_accents=None, token_pattern='(?u)\\\\b\\\\w\\\\w+\\\\b',\n",
       "        tokenizer=None, vocabulary=None)"
      ]
     },
     "execution_count": 19,
     "metadata": {},
     "output_type": "execute_result"
    }
   ],
   "source": [
    "# Show vectorizer options.\n",
    "vect"
   ]
  },
  {
   "cell_type": "markdown",
   "metadata": {},
   "source": [
    "- **stop_words:** string {`english`}, list, or None (default)\n",
    "- If `english`, a built-in stop word list for English is used.\n",
    "- If a list, that list is assumed to contain stop words, all of which will be removed from the resulting tokens.\n",
    "- If None, no stop words will be used. `max_df` can be set to a value in the range [0.7, 1.0) to automatically detect and filter stop words based on intra corpus document frequency of terms. (If `max_df` = 0.7, then if > 70% of documents contain a word it will not be included in the feature set!)"
   ]
  },
  {
   "cell_type": "code",
   "execution_count": 20,
   "metadata": {},
   "outputs": [
    {
     "name": "stdout",
     "output_type": "stream",
     "text": [
      "('Features: ', 16528)\n",
      "('Accuracy: ', 0.9158512720156555)\n"
     ]
    },
    {
     "data": {
      "text/plain": [
       "{'analyzer': 'word',\n",
       " 'binary': False,\n",
       " 'decode_error': 'strict',\n",
       " 'dtype': numpy.int64,\n",
       " 'encoding': 'utf-8',\n",
       " 'input': 'content',\n",
       " 'lowercase': True,\n",
       " 'max_df': 1.0,\n",
       " 'max_features': None,\n",
       " 'min_df': 1,\n",
       " 'ngram_range': (1, 1),\n",
       " 'preprocessor': None,\n",
       " 'stop_words': 'english',\n",
       " 'strip_accents': None,\n",
       " 'token_pattern': '(?u)\\\\b\\\\w\\\\w+\\\\b',\n",
       " 'tokenizer': None,\n",
       " 'vocabulary': None}"
      ]
     },
     "execution_count": 20,
     "metadata": {},
     "output_type": "execute_result"
    }
   ],
   "source": [
    "# Remove English stop words.\n",
    "vect = CountVectorizer(stop_words='english')\n",
    "tokenize_test(vect)\n",
    "vect.get_params()"
   ]
  },
  {
   "cell_type": "code",
   "execution_count": 21,
   "metadata": {},
   "outputs": [
    {
     "name": "stdout",
     "output_type": "stream",
     "text": [
      "frozenset({'from', 'made', 'himself', 'these', 'fifty', 'thereafter', 'that', 'since', 'it', 'almost', 'and', 'which', 'than', 'eight', 'this', 'then', 'any', 'ten', 'through', 'four', 'nowhere', 'together', 'of', 'how', 'every', 'mostly', 'therefore', 'throughout', 'you', 'now', 'a', 'must', 'indeed', 'put', 'done', 'front', 'others', 'themselves', 'below', 'top', 'becomes', 'least', 'into', 'rather', 'will', 'where', 'whoever', 'three', 'hereby', 'when', 'noone', 'ourselves', 'never', 'without', 'my', 'because', 'some', 'here', 'another', 'thence', 'whereas', 'full', 'much', 'too', 'give', 'fire', 'itself', 'formerly', 'last', 'out', 'eg', 'towards', 'anything', 'those', 'twelve', 'until', 'hasnt', 'before', 'among', 'detail', 'during', 'latterly', 'if', 'thereby', 'twenty', 'call', 'up', 'perhaps', 'someone', 'amoungst', 'etc', 'always', 'bottom', 'becoming', 'even', 'herself', 'hundred', 'also', 'is', 'keep', 'move', 'such', 'around', 'system', 'in', 'against', 'five', 'same', 'show', 'sincere', 'again', 'there', 'per', 'former', 'take', 'found', 'can', 'side', 'eleven', 'over', 'whether', 'had', 'nevertheless', 'mine', 'be', 'else', 'find', 'him', 'see', 'by', 'why', 'cant', 'except', 'few', 'fifteen', 'her', 'herein', 'may', 'do', 'across', 'cannot', 'seeming', 'thereupon', 'hereupon', 'upon', 'who', 'whole', 'yet', 'seems', 'cry', 'whereafter', 'already', 'them', 'ie', 'name', 'our', 'she', 'bill', 'moreover', 'they', 'please', 'thru', 'everywhere', 'we', 'have', 'what', 'the', 'get', 'wherever', 'under', 'an', 'anyway', 'further', 'couldnt', 'alone', 'beside', 'inc', 'onto', 'often', 'otherwise', 'at', 'so', 'con', 'amount', 'after', 'are', 'off', 'sixty', 'for', 'part', 'none', 'nobody', 'ever', 'six', 'both', 'behind', 'its', 'most', 'one', 'describe', 'me', 'back', 'no', 'whatever', 'seemed', 'thick', 'yours', 'fill', 'ltd', 'other', 'third', 'above', 'am', 'nine', 'yourselves', 'more', 'whereupon', 'while', 'whose', 'everything', 'several', 'become', 'between', 'toward', 'whence', 'well', 'anywhere', 'afterwards', 'although', 'either', 'within', 'could', 'wherein', 'first', 'anyone', 'serious', 'but', 'their', 'thus', 'myself', 'was', 'hers', 'only', 'own', 'amongst', 'beyond', 'next', 'therein', 'un', 'yourself', 'being', 'mill', 'about', 'as', 'down', 'somewhere', 'your', 'nothing', 'been', 'somehow', 'though', 'seem', 'however', 'on', 'enough', 'hence', 'whither', 'his', 'would', 'hereafter', 'neither', 'whenever', 'beforehand', 'sometime', 'everyone', 'many', 'anyhow', 'he', 'two', 'go', 'ours', 'besides', 'elsewhere', 'very', 'something', 'thin', 'were', 'due', 'forty', 'might', 'along', 'sometimes', 'empty', 'with', 'meanwhile', 'or', 'co', 'once', 'whereby', 'namely', 'to', 're', 'us', 'each', 'whom', 'nor', 'became', 'i', 'de', 'not', 'latter', 'all', 'still', 'via', 'less', 'should', 'has', 'interest'})\n"
     ]
    }
   ],
   "source": [
    "# Set of stop words\n",
    "print((vect.get_stop_words()))"
   ]
  },
  {
   "cell_type": "markdown",
   "metadata": {},
   "source": [
    "<a id='cvec_opt'></a>\n",
    "### Other CountVectorizer Options"
   ]
  },
  {
   "cell_type": "markdown",
   "metadata": {},
   "source": [
    "- `max_features`: int or None, default=None\n",
    "- If not None, build a vocabulary that only consider the top `max_features` ordered by term frequency across the corpus. This allows us to keep more common n-grams and remove ones that may appear once. If we include words that only occur once, this can lead to said features being highly associated with a class and cause overfitting."
   ]
  },
  {
   "cell_type": "code",
   "execution_count": 22,
   "metadata": {},
   "outputs": [
    {
     "name": "stdout",
     "output_type": "stream",
     "text": [
      "('Features: ', 100)\n",
      "('Accuracy: ', 0.8698630136986302)\n"
     ]
    }
   ],
   "source": [
    "# Remove English stop words and only keep 100 features.\n",
    "vect = CountVectorizer(stop_words='english', max_features=100)\n",
    "tokenize_test(vect)"
   ]
  },
  {
   "cell_type": "code",
   "execution_count": 23,
   "metadata": {},
   "outputs": [
    {
     "name": "stdout",
     "output_type": "stream",
     "text": [
      "['amazing', 'area', 'atmosphere', 'awesome', 'bad', 'bar', 'best', 'better', 'big', 'came', 'cheese', 'chicken', 'clean', 'coffee', 'come', 'day', 'definitely', 'delicious', 'did', 'didn', 'dinner', 'don', 'eat', 'excellent', 'experience', 'favorite', 'feel', 'food', 'free', 'fresh', 'friendly', 'friends', 'going', 'good', 'got', 'great', 'happy', 'home', 'hot', 'hour', 'just', 'know', 'like', 'little', 'll', 'location', 'long', 'looking', 'lot', 'love', 'lunch', 'make', 'meal', 'menu', 'minutes', 'need', 'new', 'nice', 'night', 'order', 'ordered', 'people', 'perfect', 'phoenix', 'pizza', 'place', 'pretty', 'prices', 'really', 'recommend', 'restaurant', 'right', 'said', 'salad', 'sandwich', 'sauce', 'say', 'service', 'staff', 'store', 'sure', 'table', 'thing', 'things', 'think', 'time', 'times', 'took', 'town', 'tried', 'try', 've', 'wait', 'want', 'way', 'went', 'wine', 'work', 'worth', 'years']\n"
     ]
    }
   ],
   "source": [
    "# All 100 features\n",
    "print((vect.get_feature_names()))"
   ]
  },
  {
   "cell_type": "markdown",
   "metadata": {},
   "source": [
    "Just like with all other models, more features does not mean a better model. So, we must tune our feature generator to remove features whose predictive capability is none or very low.\n",
    "\n",
    "In this case, there is roughly a 1.6% increase in accuracy when we double the n-gram size and increase our max features by 1,000-fold. Note that if we restrict it to only unigrams, then the accuracy increases even more! So, bigrams were very likely adding more noise than signal. \n",
    "\n",
    "In the end, by only using 16,000 unigram features we came away with a much smaller, simpler, and easier-to-think-about model which also resulted in higher accuracy."
   ]
  },
  {
   "cell_type": "code",
   "execution_count": 24,
   "metadata": {},
   "outputs": [
    {
     "name": "stdout",
     "output_type": "stream",
     "text": [
      "1-grams and 2-grams, up to 100K features:\n",
      "('Features: ', 100000)\n",
      "('Accuracy: ', 0.8855185909980431)\n",
      "\n",
      "1-grams only, up to 100K features:\n",
      "('Features: ', 16825)\n",
      "('Accuracy: ', 0.9187866927592955)\n"
     ]
    }
   ],
   "source": [
    "# Include 1-grams and 2-grams, and limit the number of features.\n",
    "\n",
    "print('1-grams and 2-grams, up to 100K features:')\n",
    "vect = CountVectorizer(ngram_range=(1, 2), max_features=100000)\n",
    "tokenize_test(vect)\n",
    "\n",
    "print()\n",
    "print('1-grams only, up to 100K features:')\n",
    "vect = CountVectorizer(ngram_range=(1, 1), max_features=100000)\n",
    "tokenize_test(vect)"
   ]
  },
  {
   "cell_type": "markdown",
   "metadata": {},
   "source": [
    "- `min_df`: Float in range [0.0, 1.0] or int, default=1\n",
    "- When building the vocabulary ignore terms that have a document frequency strictly lower than the given threshold. This value is also called cut-off in the literature. If float, the parameter represents a proportion of documents, integer absolute counts."
   ]
  },
  {
   "cell_type": "code",
   "execution_count": 25,
   "metadata": {
    "scrolled": true
   },
   "outputs": [
    {
     "name": "stdout",
     "output_type": "stream",
     "text": [
      "('Features: ', 43957)\n",
      "('Accuracy: ', 0.9324853228962818)\n"
     ]
    }
   ],
   "source": [
    "# Include 1-grams and 2-grams, and only include terms that appear at least two times.\n",
    "vect = CountVectorizer(ngram_range=(1, 2), min_df=2)\n",
    "tokenize_test(vect)"
   ]
  },
  {
   "cell_type": "markdown",
   "metadata": {},
   "source": [
    "<a id='textblob'></a>\n",
    "## Introduction to TextBlob\n",
    "\n",
    "You should already have downloaded TextBlob, a Python library used to explore common NLP tasks. If you haven’t, please return to [this step](#textblob_install) for instructions on how to do so. We’ll be using this to organize our corpora for analysis.\n",
    "\n",
    "As mentioned earlier, you can read more on the [TextBlob website](https://textblob.readthedocs.io/en/dev/)."
   ]
  },
  {
   "cell_type": "code",
   "execution_count": 26,
   "metadata": {
    "scrolled": true
   },
   "outputs": [
    {
     "name": "stdout",
     "output_type": "stream",
     "text": [
      "My wife took me here on my birthday for breakfast and it was excellent.  The weather was perfect which made sitting outside overlooking their grounds an absolute pleasure.  Our waitress was excellent and our food arrived quickly on the semi-busy Saturday morning.  It looked like the place fills up pretty quickly so the earlier you get here the better.\n",
      "\n",
      "Do yourself a favor and get their Bloody Mary.  It was phenomenal and simply the best I've ever had.  I'm pretty sure they only use ingredients from their garden and blend them fresh when you order it.  It was amazing.\n",
      "\n",
      "While EVERYTHING on the menu looks excellent, I had the white truffle scrambled eggs vegetable skillet and it was tasty and delicious.  It came with 2 pieces of their griddled bread with was amazing and it absolutely made the meal complete.  It was the best \"toast\" I've ever had.\n",
      "\n",
      "Anyway, I can't wait to go back!\n"
     ]
    }
   ],
   "source": [
    "# Print the first review.\n",
    "print((yelp_best_worst.text[0]))"
   ]
  },
  {
   "cell_type": "code",
   "execution_count": 27,
   "metadata": {},
   "outputs": [],
   "source": [
    "# Save it as a TextBlob object.\n",
    "review = TextBlob(yelp_best_worst.text[0])"
   ]
  },
  {
   "cell_type": "code",
   "execution_count": 28,
   "metadata": {},
   "outputs": [
    {
     "data": {
      "text/plain": [
       "WordList(['My', 'wife', 'took', 'me', 'here', 'on', 'my', 'birthday', 'for', 'breakfast', 'and', 'it', 'was', 'excellent', 'The', 'weather', 'was', 'perfect', 'which', 'made', 'sitting', 'outside', 'overlooking', 'their', 'grounds', 'an', 'absolute', 'pleasure', 'Our', 'waitress', 'was', 'excellent', 'and', 'our', 'food', 'arrived', 'quickly', 'on', 'the', 'semi-busy', 'Saturday', 'morning', 'It', 'looked', 'like', 'the', 'place', 'fills', 'up', 'pretty', 'quickly', 'so', 'the', 'earlier', 'you', 'get', 'here', 'the', 'better', 'Do', 'yourself', 'a', 'favor', 'and', 'get', 'their', 'Bloody', 'Mary', 'It', 'was', 'phenomenal', 'and', 'simply', 'the', 'best', 'I', \"'ve\", 'ever', 'had', 'I', \"'m\", 'pretty', 'sure', 'they', 'only', 'use', 'ingredients', 'from', 'their', 'garden', 'and', 'blend', 'them', 'fresh', 'when', 'you', 'order', 'it', 'It', 'was', 'amazing', 'While', 'EVERYTHING', 'on', 'the', 'menu', 'looks', 'excellent', 'I', 'had', 'the', 'white', 'truffle', 'scrambled', 'eggs', 'vegetable', 'skillet', 'and', 'it', 'was', 'tasty', 'and', 'delicious', 'It', 'came', 'with', '2', 'pieces', 'of', 'their', 'griddled', 'bread', 'with', 'was', 'amazing', 'and', 'it', 'absolutely', 'made', 'the', 'meal', 'complete', 'It', 'was', 'the', 'best', 'toast', 'I', \"'ve\", 'ever', 'had', 'Anyway', 'I', 'ca', \"n't\", 'wait', 'to', 'go', 'back'])"
      ]
     },
     "execution_count": 28,
     "metadata": {},
     "output_type": "execute_result"
    }
   ],
   "source": [
    "# List the words.\n",
    "review.words"
   ]
  },
  {
   "cell_type": "code",
   "execution_count": 29,
   "metadata": {},
   "outputs": [
    {
     "data": {
      "text/plain": [
       "[Sentence(\"My wife took me here on my birthday for breakfast and it was excellent.\"),\n",
       " Sentence(\"The weather was perfect which made sitting outside overlooking their grounds an absolute pleasure.\"),\n",
       " Sentence(\"Our waitress was excellent and our food arrived quickly on the semi-busy Saturday morning.\"),\n",
       " Sentence(\"It looked like the place fills up pretty quickly so the earlier you get here the better.\"),\n",
       " Sentence(\"Do yourself a favor and get their Bloody Mary.\"),\n",
       " Sentence(\"It was phenomenal and simply the best I've ever had.\"),\n",
       " Sentence(\"I'm pretty sure they only use ingredients from their garden and blend them fresh when you order it.\"),\n",
       " Sentence(\"It was amazing.\"),\n",
       " Sentence(\"While EVERYTHING on the menu looks excellent, I had the white truffle scrambled eggs vegetable skillet and it was tasty and delicious.\"),\n",
       " Sentence(\"It came with 2 pieces of their griddled bread with was amazing and it absolutely made the meal complete.\"),\n",
       " Sentence(\"It was the best \"toast\" I've ever had.\"),\n",
       " Sentence(\"Anyway, I can't wait to go back!\")]"
      ]
     },
     "execution_count": 29,
     "metadata": {},
     "output_type": "execute_result"
    }
   ],
   "source": [
    "# List the sentences.\n",
    "review.sentences"
   ]
  },
  {
   "cell_type": "code",
   "execution_count": 30,
   "metadata": {},
   "outputs": [
    {
     "data": {
      "text/plain": [
       "TextBlob(\"my wife took me here on my birthday for breakfast and it was excellent.  the weather was perfect which made sitting outside overlooking their grounds an absolute pleasure.  our waitress was excellent and our food arrived quickly on the semi-busy saturday morning.  it looked like the place fills up pretty quickly so the earlier you get here the better.\n",
       "\n",
       "do yourself a favor and get their bloody mary.  it was phenomenal and simply the best i've ever had.  i'm pretty sure they only use ingredients from their garden and blend them fresh when you order it.  it was amazing.\n",
       "\n",
       "while everything on the menu looks excellent, i had the white truffle scrambled eggs vegetable skillet and it was tasty and delicious.  it came with 2 pieces of their griddled bread with was amazing and it absolutely made the meal complete.  it was the best \"toast\" i've ever had.\n",
       "\n",
       "anyway, i can't wait to go back!\")"
      ]
     },
     "execution_count": 30,
     "metadata": {},
     "output_type": "execute_result"
    }
   ],
   "source": [
    "# Some string methods are available.\n",
    "review.lower()"
   ]
  },
  {
   "cell_type": "markdown",
   "metadata": {},
   "source": [
    "<a id='stem'></a>\n",
    "## Stemming and Lemmatization\n",
    "\n",
    "Stemming is a crude process of removing common endings from sentences, such as \"s\", \"es\", \"ly\", \"ing\", and \"ed\".\n",
    "\n",
    "- **What:** Reduce a word to its base/stem/root form.\n",
    "- **Why:** This intelligently reduces the number of features by grouping together (hopefully) related words.\n",
    "- **Notes:**\n",
    "    - Stemming uses a simple and fast rule-based approach.\n",
    "    - Stemmed words are usually not shown to users (used for analysis/indexing).\n",
    "    - Some search engines treat words with the same stem as synonyms."
   ]
  },
  {
   "cell_type": "code",
   "execution_count": 31,
   "metadata": {},
   "outputs": [
    {
     "name": "stdout",
     "output_type": "stream",
     "text": [
      "['my', 'wife', 'took', 'me', 'here', 'on', 'my', 'birthday', 'for', 'breakfast', 'and', 'it', 'was', 'excel', 'the', 'weather', 'was', 'perfect', 'which', 'made', 'sit', 'outsid', 'overlook', 'their', 'ground', 'an', 'absolut', 'pleasur', 'our', 'waitress', 'was', 'excel', 'and', 'our', 'food', 'arriv', 'quick', 'on', 'the', 'semi-busi', 'saturday', 'morn', 'it', 'look', 'like', 'the', 'place', 'fill', 'up', 'pretti', 'quick', 'so', 'the', 'earlier', 'you', 'get', 'here', 'the', 'better', 'do', 'yourself', 'a', 'favor', 'and', 'get', 'their', 'bloodi', 'mari', 'it', 'was', 'phenomen', 'and', 'simpli', 'the', 'best', 'i', 've', 'ever', 'had', 'i', \"'m\", 'pretti', 'sure', 'they', 'onli', 'use', 'ingredi', 'from', 'their', 'garden', 'and', 'blend', 'them', 'fresh', 'when', 'you', 'order', 'it', 'it', 'was', 'amaz', 'while', 'everyth', 'on', 'the', 'menu', 'look', 'excel', 'i', 'had', 'the', 'white', 'truffl', 'scrambl', 'egg', 'veget', 'skillet', 'and', 'it', 'was', 'tasti', 'and', 'delici', 'it', 'came', 'with', '2', 'piec', 'of', 'their', 'griddl', 'bread', 'with', 'was', 'amaz', 'and', 'it', 'absolut', 'made', 'the', 'meal', 'complet', 'it', 'was', 'the', 'best', 'toast', 'i', 've', 'ever', 'had', 'anyway', 'i', 'ca', \"n't\", 'wait', 'to', 'go', 'back']\n"
     ]
    }
   ],
   "source": [
    "# Initialize stemmer.\n",
    "stemmer = SnowballStemmer('english')\n",
    "\n",
    "# Stem each word.\n",
    "print([stemmer.stem(word) for word in review.words])"
   ]
  },
  {
   "cell_type": "markdown",
   "metadata": {},
   "source": [
    "Some examples you can see are \"excellent\" stemmed to \"excel\" and \"amazing\" stemmed to \"amaz\"."
   ]
  },
  {
   "cell_type": "markdown",
   "metadata": {},
   "source": [
    "Lemmatization is a more refined process that uses specific language and grammar rules to derive the root of a word.  \n",
    "\n",
    "This is useful for words that do not share an obvious root such as \"better\" and \"best\".\n",
    "\n",
    "- **What:** Lemmatization derives the canonical form (\"lemma\") of a word.\n",
    "- **Why:** It can be better than stemming.\n",
    "- **Notes:** Uses a dictionary-based approach (slower than stemming)."
   ]
  },
  {
   "cell_type": "code",
   "execution_count": 32,
   "metadata": {},
   "outputs": [
    {
     "name": "stdout",
     "output_type": "stream",
     "text": [
      "['My', 'wife', 'took', 'me', 'here', 'on', 'my', 'birthday', 'for', 'breakfast', 'and', 'it', 'wa', 'excellent', 'The', 'weather', 'wa', 'perfect', 'which', 'made', 'sitting', 'outside', 'overlooking', 'their', 'ground', 'an', 'absolute', 'pleasure', 'Our', 'waitress', 'wa', 'excellent', 'and', 'our', 'food', 'arrived', 'quickly', 'on', 'the', 'semi-busy', 'Saturday', 'morning', 'It', 'looked', 'like', 'the', 'place', 'fill', 'up', 'pretty', 'quickly', 'so', 'the', 'earlier', 'you', 'get', 'here', 'the', 'better', 'Do', 'yourself', 'a', 'favor', 'and', 'get', 'their', 'Bloody', 'Mary', 'It', 'wa', 'phenomenal', 'and', 'simply', 'the', 'best', 'I', \"'ve\", 'ever', 'had', 'I', \"'m\", 'pretty', 'sure', 'they', 'only', 'use', 'ingredient', 'from', 'their', 'garden', 'and', 'blend', 'them', 'fresh', 'when', 'you', 'order', 'it', 'It', 'wa', 'amazing', 'While', 'EVERYTHING', 'on', 'the', 'menu', 'look', 'excellent', 'I', 'had', 'the', 'white', 'truffle', 'scrambled', 'egg', 'vegetable', 'skillet', 'and', 'it', 'wa', 'tasty', 'and', 'delicious', 'It', 'came', 'with', '2', 'piece', 'of', 'their', 'griddled', 'bread', 'with', 'wa', 'amazing', 'and', 'it', 'absolutely', 'made', 'the', 'meal', 'complete', 'It', 'wa', 'the', 'best', 'toast', 'I', \"'ve\", 'ever', 'had', 'Anyway', 'I', 'ca', \"n't\", 'wait', 'to', 'go', 'back']\n"
     ]
    }
   ],
   "source": [
    "# Assume every word is a noun.\n",
    "print([word.lemmatize() for word in review.words])"
   ]
  },
  {
   "cell_type": "markdown",
   "metadata": {},
   "source": [
    "Some examples you can see are \"filled\" lemmatized to \"fill\" and \"was\" lemmatized to \"wa\".\n"
   ]
  },
  {
   "cell_type": "code",
   "execution_count": 33,
   "metadata": {},
   "outputs": [
    {
     "name": "stdout",
     "output_type": "stream",
     "text": [
      "['My', 'wife', 'take', 'me', 'here', 'on', 'my', 'birthday', 'for', 'breakfast', 'and', 'it', 'be', 'excellent', 'The', 'weather', 'be', 'perfect', 'which', 'make', 'sit', 'outside', 'overlook', 'their', 'ground', 'an', 'absolute', 'pleasure', 'Our', 'waitress', 'be', 'excellent', 'and', 'our', 'food', 'arrive', 'quickly', 'on', 'the', 'semi-busy', 'Saturday', 'morning', 'It', 'look', 'like', 'the', 'place', 'fill', 'up', 'pretty', 'quickly', 'so', 'the', 'earlier', 'you', 'get', 'here', 'the', 'better', 'Do', 'yourself', 'a', 'favor', 'and', 'get', 'their', 'Bloody', 'Mary', 'It', 'be', 'phenomenal', 'and', 'simply', 'the', 'best', 'I', \"'ve\", 'ever', 'have', 'I', \"'m\", 'pretty', 'sure', 'they', 'only', 'use', 'ingredients', 'from', 'their', 'garden', 'and', 'blend', 'them', 'fresh', 'when', 'you', 'order', 'it', 'It', 'be', 'amaze', 'While', 'EVERYTHING', 'on', 'the', 'menu', 'look', 'excellent', 'I', 'have', 'the', 'white', 'truffle', 'scramble', 'egg', 'vegetable', 'skillet', 'and', 'it', 'be', 'tasty', 'and', 'delicious', 'It', 'come', 'with', '2', 'piece', 'of', 'their', 'griddle', 'bread', 'with', 'be', 'amaze', 'and', 'it', 'absolutely', 'make', 'the', 'meal', 'complete', 'It', 'be', 'the', 'best', 'toast', 'I', \"'ve\", 'ever', 'have', 'Anyway', 'I', 'ca', \"n't\", 'wait', 'to', 'go', 'back']\n"
     ]
    }
   ],
   "source": [
    "# Assume every word is a verb.\n",
    "print([word.lemmatize(pos='v') for word in review.words])"
   ]
  },
  {
   "cell_type": "markdown",
   "metadata": {},
   "source": [
    "Some examples you can see are \"was\" lemmatized to \"be\" and \"arrived\" lemmatized to \"arrive\"."
   ]
  },
  {
   "cell_type": "markdown",
   "metadata": {},
   "source": [
    "**More Lemmatization and Stemming Examples**\n",
    "\n",
    "|Lemmatization|Stemming|\n",
    "|-------------|---------|\n",
    "|shouted → shout|badly → bad|\n",
    "|best → good|computing → comput|\n",
    "|better → good|computed → comput|\n",
    "|good → good|wipes → wip|\n",
    "|wiping → wipe|wiped → wip|\n",
    "|hidden → hide|wiping → wip|"
   ]
  },
  {
   "cell_type": "markdown",
   "metadata": {},
   "source": [
    "### Activity: Knowledge Check\n",
    "- What other words or phrases might cause problems with stemming? Why?\n",
    "- What other words or phrases might cause problems with lemmatization? Why?\n",
    "\n",
    "----\n",
    "\n"
   ]
  },
  {
   "cell_type": "code",
   "execution_count": 34,
   "metadata": {},
   "outputs": [],
   "source": [
    "# Define a function that accepts text and returns a list of lemmas.\n",
    "def split_into_lemmas(text):\n",
    "    text = str(text, 'utf-8').lower()\n",
    "    words = TextBlob(text).words\n",
    "    return [word.lemmatize() for word in words]"
   ]
  },
  {
   "cell_type": "code",
   "execution_count": 35,
   "metadata": {},
   "outputs": [
    {
     "ename": "TypeError",
     "evalue": "decoding str is not supported",
     "output_type": "error",
     "traceback": [
      "\u001b[0;31m---------------------------------------------------------------------------\u001b[0m",
      "\u001b[0;31mTypeError\u001b[0m                                 Traceback (most recent call last)",
      "\u001b[0;32m<ipython-input-35-2c743dd88aa4>\u001b[0m in \u001b[0;36m<module>\u001b[0;34m()\u001b[0m\n\u001b[1;32m      1\u001b[0m \u001b[0;31m# Use split_into_lemmas as the feature extraction function (Warning: SLOW!).\u001b[0m\u001b[0;34m\u001b[0m\u001b[0;34m\u001b[0m\u001b[0m\n\u001b[1;32m      2\u001b[0m \u001b[0mvect\u001b[0m \u001b[0;34m=\u001b[0m \u001b[0mCountVectorizer\u001b[0m\u001b[0;34m(\u001b[0m\u001b[0manalyzer\u001b[0m\u001b[0;34m=\u001b[0m\u001b[0msplit_into_lemmas\u001b[0m\u001b[0;34m,\u001b[0m \u001b[0mdecode_error\u001b[0m\u001b[0;34m=\u001b[0m\u001b[0;34m'replace'\u001b[0m\u001b[0;34m)\u001b[0m\u001b[0;34m\u001b[0m\u001b[0m\n\u001b[0;32m----> 3\u001b[0;31m \u001b[0mtokenize_test\u001b[0m\u001b[0;34m(\u001b[0m\u001b[0mvect\u001b[0m\u001b[0;34m)\u001b[0m\u001b[0;34m\u001b[0m\u001b[0m\n\u001b[0m",
      "\u001b[0;32m<ipython-input-15-98615e7502dc>\u001b[0m in \u001b[0;36mtokenize_test\u001b[0;34m(vect)\u001b[0m\n\u001b[1;32m      3\u001b[0m \u001b[0;31m# Define a function that accepts a vectorizer and calculates the accuracy.\u001b[0m\u001b[0;34m\u001b[0m\u001b[0;34m\u001b[0m\u001b[0m\n\u001b[1;32m      4\u001b[0m \u001b[0;32mdef\u001b[0m \u001b[0mtokenize_test\u001b[0m\u001b[0;34m(\u001b[0m\u001b[0mvect\u001b[0m\u001b[0;34m)\u001b[0m\u001b[0;34m:\u001b[0m\u001b[0;34m\u001b[0m\u001b[0m\n\u001b[0;32m----> 5\u001b[0;31m     \u001b[0mX_train_dtm\u001b[0m \u001b[0;34m=\u001b[0m \u001b[0mvect\u001b[0m\u001b[0;34m.\u001b[0m\u001b[0mfit_transform\u001b[0m\u001b[0;34m(\u001b[0m\u001b[0mX_train\u001b[0m\u001b[0;34m)\u001b[0m\u001b[0;34m\u001b[0m\u001b[0m\n\u001b[0m\u001b[1;32m      6\u001b[0m     \u001b[0mprint\u001b[0m\u001b[0;34m(\u001b[0m\u001b[0;34m(\u001b[0m\u001b[0;34m'Features: '\u001b[0m\u001b[0;34m,\u001b[0m \u001b[0mX_train_dtm\u001b[0m\u001b[0;34m.\u001b[0m\u001b[0mshape\u001b[0m\u001b[0;34m[\u001b[0m\u001b[0;36m1\u001b[0m\u001b[0;34m]\u001b[0m\u001b[0;34m)\u001b[0m\u001b[0;34m)\u001b[0m\u001b[0;34m\u001b[0m\u001b[0m\n\u001b[1;32m      7\u001b[0m     \u001b[0mX_test_dtm\u001b[0m \u001b[0;34m=\u001b[0m \u001b[0mvect\u001b[0m\u001b[0;34m.\u001b[0m\u001b[0mtransform\u001b[0m\u001b[0;34m(\u001b[0m\u001b[0mX_test\u001b[0m\u001b[0;34m)\u001b[0m\u001b[0;34m\u001b[0m\u001b[0m\n",
      "\u001b[0;32m/anaconda3/lib/python3.6/site-packages/sklearn/feature_extraction/text.py\u001b[0m in \u001b[0;36mfit_transform\u001b[0;34m(self, raw_documents, y)\u001b[0m\n\u001b[1;32m    867\u001b[0m \u001b[0;34m\u001b[0m\u001b[0m\n\u001b[1;32m    868\u001b[0m         vocabulary, X = self._count_vocab(raw_documents,\n\u001b[0;32m--> 869\u001b[0;31m                                           self.fixed_vocabulary_)\n\u001b[0m\u001b[1;32m    870\u001b[0m \u001b[0;34m\u001b[0m\u001b[0m\n\u001b[1;32m    871\u001b[0m         \u001b[0;32mif\u001b[0m \u001b[0mself\u001b[0m\u001b[0;34m.\u001b[0m\u001b[0mbinary\u001b[0m\u001b[0;34m:\u001b[0m\u001b[0;34m\u001b[0m\u001b[0m\n",
      "\u001b[0;32m/anaconda3/lib/python3.6/site-packages/sklearn/feature_extraction/text.py\u001b[0m in \u001b[0;36m_count_vocab\u001b[0;34m(self, raw_documents, fixed_vocab)\u001b[0m\n\u001b[1;32m    790\u001b[0m         \u001b[0;32mfor\u001b[0m \u001b[0mdoc\u001b[0m \u001b[0;32min\u001b[0m \u001b[0mraw_documents\u001b[0m\u001b[0;34m:\u001b[0m\u001b[0;34m\u001b[0m\u001b[0m\n\u001b[1;32m    791\u001b[0m             \u001b[0mfeature_counter\u001b[0m \u001b[0;34m=\u001b[0m \u001b[0;34m{\u001b[0m\u001b[0;34m}\u001b[0m\u001b[0;34m\u001b[0m\u001b[0m\n\u001b[0;32m--> 792\u001b[0;31m             \u001b[0;32mfor\u001b[0m \u001b[0mfeature\u001b[0m \u001b[0;32min\u001b[0m \u001b[0manalyze\u001b[0m\u001b[0;34m(\u001b[0m\u001b[0mdoc\u001b[0m\u001b[0;34m)\u001b[0m\u001b[0;34m:\u001b[0m\u001b[0;34m\u001b[0m\u001b[0m\n\u001b[0m\u001b[1;32m    793\u001b[0m                 \u001b[0;32mtry\u001b[0m\u001b[0;34m:\u001b[0m\u001b[0;34m\u001b[0m\u001b[0m\n\u001b[1;32m    794\u001b[0m                     \u001b[0mfeature_idx\u001b[0m \u001b[0;34m=\u001b[0m \u001b[0mvocabulary\u001b[0m\u001b[0;34m[\u001b[0m\u001b[0mfeature\u001b[0m\u001b[0;34m]\u001b[0m\u001b[0;34m\u001b[0m\u001b[0m\n",
      "\u001b[0;32m<ipython-input-34-2623d5022c99>\u001b[0m in \u001b[0;36msplit_into_lemmas\u001b[0;34m(text)\u001b[0m\n\u001b[1;32m      1\u001b[0m \u001b[0;31m# Define a function that accepts text and returns a list of lemmas.\u001b[0m\u001b[0;34m\u001b[0m\u001b[0;34m\u001b[0m\u001b[0m\n\u001b[1;32m      2\u001b[0m \u001b[0;32mdef\u001b[0m \u001b[0msplit_into_lemmas\u001b[0m\u001b[0;34m(\u001b[0m\u001b[0mtext\u001b[0m\u001b[0;34m)\u001b[0m\u001b[0;34m:\u001b[0m\u001b[0;34m\u001b[0m\u001b[0m\n\u001b[0;32m----> 3\u001b[0;31m     \u001b[0mtext\u001b[0m \u001b[0;34m=\u001b[0m \u001b[0mstr\u001b[0m\u001b[0;34m(\u001b[0m\u001b[0mtext\u001b[0m\u001b[0;34m,\u001b[0m \u001b[0;34m'utf-8'\u001b[0m\u001b[0;34m)\u001b[0m\u001b[0;34m.\u001b[0m\u001b[0mlower\u001b[0m\u001b[0;34m(\u001b[0m\u001b[0;34m)\u001b[0m\u001b[0;34m\u001b[0m\u001b[0m\n\u001b[0m\u001b[1;32m      4\u001b[0m     \u001b[0mwords\u001b[0m \u001b[0;34m=\u001b[0m \u001b[0mTextBlob\u001b[0m\u001b[0;34m(\u001b[0m\u001b[0mtext\u001b[0m\u001b[0;34m)\u001b[0m\u001b[0;34m.\u001b[0m\u001b[0mwords\u001b[0m\u001b[0;34m\u001b[0m\u001b[0m\n\u001b[1;32m      5\u001b[0m     \u001b[0;32mreturn\u001b[0m \u001b[0;34m[\u001b[0m\u001b[0mword\u001b[0m\u001b[0;34m.\u001b[0m\u001b[0mlemmatize\u001b[0m\u001b[0;34m(\u001b[0m\u001b[0;34m)\u001b[0m \u001b[0;32mfor\u001b[0m \u001b[0mword\u001b[0m \u001b[0;32min\u001b[0m \u001b[0mwords\u001b[0m\u001b[0;34m]\u001b[0m\u001b[0;34m\u001b[0m\u001b[0m\n",
      "\u001b[0;31mTypeError\u001b[0m: decoding str is not supported"
     ]
    }
   ],
   "source": [
    "# Use split_into_lemmas as the feature extraction function (Warning: SLOW!).\n",
    "vect = CountVectorizer(analyzer=split_into_lemmas, decode_error='replace')\n",
    "tokenize_test(vect)"
   ]
  },
  {
   "cell_type": "code",
   "execution_count": 109,
   "metadata": {},
   "outputs": [
    {
     "name": "stdout",
     "output_type": "stream",
     "text": [
      "[u'yuyuyummy', u'yuzu', u'z', u'z-grill', u'z11', u'zach', u'zam', u'zanella', u'zankou', u'zappos', u'zatsiki', u'zen', u'zen-like', u'zero', u'zero-star', u'zest', u'zexperience', u'zha', u'zhou', u'zia', u'zilch', u'zin', u'zinburger', u'zinburgergeist', u'zinc', u'zinfandel', u'zing', u'zip', u'zipcar', u'zipper', u'zipps', u'ziti', u'zoe', u'zombi', u'zombie', u'zone', u'zoning', u'zoo', u'zoyo', u'zucca', u'zucchini', u'zuchinni', u'zumba', u'zupa', u'zuzu', u'zwiebel-kr\\xe4uter', u'zzed', u'\\xe9clairs', u'\\xe9cole', u'\\xe9m']\n"
     ]
    }
   ],
   "source": [
    "# Last 50 features\n",
    "print((vect.get_feature_names()[-50:]))"
   ]
  },
  {
   "cell_type": "markdown",
   "metadata": {},
   "source": [
    "With all the available options for `CountVectorizer()`, you may wonder how to decide which to use! It's true that you can sometimes reason about which preprocessing techniques might work best. However, you will often not know for sure without trying out many different combinations and comparing their accuracies. \n",
    "\n",
    "> Keep in mind that you should constantly be thinking about the result of each preprocessing step instead of blindly trying them without thinking. Does each type of preprocessing \"makes sense\" with the input data you are using? Is it likely to keep intact the signal and remove noise?"
   ]
  },
  {
   "cell_type": "markdown",
   "metadata": {},
   "source": [
    "<a id='tfidf'></a>\n",
    "## Term Frequency–Inverse Document Frequency (TF–IDF)\n",
    "\n",
    "While a Count Vectorizer simply totals up the number of times a \"word\" appears in a document, the more complex TF-IDF Vectorizer analyzes the uniqueness of words between documents to find distinguishing characteristics. \n",
    "     \n",
    "- **What:** Term frequency–inverse document frequency (TF–IDF) computes the \"relative frequency\" with which a word appears in a document, compared to its frequency across all documents.\n",
    "- **Why:** It's more useful than \"term frequency\" for identifying \"important\" words in each document (high frequency in that document, low frequency in other documents).\n",
    "- **Notes:** It's used for search-engine scoring, text summarization, and document clustering."
   ]
  },
  {
   "cell_type": "code",
   "execution_count": 110,
   "metadata": {
    "collapsed": true
   },
   "outputs": [],
   "source": [
    "# Example documents\n",
    "simple_train = ['call you tonight', 'Call me a cab', 'please call me... PLEASE!']"
   ]
  },
  {
   "cell_type": "code",
   "execution_count": 111,
   "metadata": {},
   "outputs": [
    {
     "data": {
      "text/html": [
       "<div>\n",
       "<table border=\"1\" class=\"dataframe\">\n",
       "  <thead>\n",
       "    <tr style=\"text-align: right;\">\n",
       "      <th></th>\n",
       "      <th>cab</th>\n",
       "      <th>call</th>\n",
       "      <th>me</th>\n",
       "      <th>please</th>\n",
       "      <th>tonight</th>\n",
       "      <th>you</th>\n",
       "    </tr>\n",
       "  </thead>\n",
       "  <tbody>\n",
       "    <tr>\n",
       "      <th>0</th>\n",
       "      <td>0</td>\n",
       "      <td>1</td>\n",
       "      <td>0</td>\n",
       "      <td>0</td>\n",
       "      <td>1</td>\n",
       "      <td>1</td>\n",
       "    </tr>\n",
       "    <tr>\n",
       "      <th>1</th>\n",
       "      <td>1</td>\n",
       "      <td>1</td>\n",
       "      <td>1</td>\n",
       "      <td>0</td>\n",
       "      <td>0</td>\n",
       "      <td>0</td>\n",
       "    </tr>\n",
       "    <tr>\n",
       "      <th>2</th>\n",
       "      <td>0</td>\n",
       "      <td>1</td>\n",
       "      <td>1</td>\n",
       "      <td>2</td>\n",
       "      <td>0</td>\n",
       "      <td>0</td>\n",
       "    </tr>\n",
       "  </tbody>\n",
       "</table>\n",
       "</div>"
      ],
      "text/plain": [
       "   cab  call  me  please  tonight  you\n",
       "0    0     1   0       0        1    1\n",
       "1    1     1   1       0        0    0\n",
       "2    0     1   1       2        0    0"
      ]
     },
     "execution_count": 111,
     "metadata": {},
     "output_type": "execute_result"
    }
   ],
   "source": [
    "# Term frequency\n",
    "vect = CountVectorizer()\n",
    "tf = pd.DataFrame(vect.fit_transform(simple_train).toarray(), columns=vect.get_feature_names())\n",
    "tf"
   ]
  },
  {
   "cell_type": "code",
   "execution_count": 112,
   "metadata": {},
   "outputs": [
    {
     "data": {
      "text/html": [
       "<div>\n",
       "<table border=\"1\" class=\"dataframe\">\n",
       "  <thead>\n",
       "    <tr style=\"text-align: right;\">\n",
       "      <th></th>\n",
       "      <th>cab</th>\n",
       "      <th>call</th>\n",
       "      <th>me</th>\n",
       "      <th>please</th>\n",
       "      <th>tonight</th>\n",
       "      <th>you</th>\n",
       "    </tr>\n",
       "  </thead>\n",
       "  <tbody>\n",
       "    <tr>\n",
       "      <th>0</th>\n",
       "      <td>1</td>\n",
       "      <td>3</td>\n",
       "      <td>2</td>\n",
       "      <td>1</td>\n",
       "      <td>1</td>\n",
       "      <td>1</td>\n",
       "    </tr>\n",
       "  </tbody>\n",
       "</table>\n",
       "</div>"
      ],
      "text/plain": [
       "   cab  call  me  please  tonight  you\n",
       "0    1     3   2       1        1    1"
      ]
     },
     "execution_count": 112,
     "metadata": {},
     "output_type": "execute_result"
    }
   ],
   "source": [
    "# Document frequency\n",
    "vect = CountVectorizer(binary=True)\n",
    "df = vect.fit_transform(simple_train).toarray().sum(axis=0)\n",
    "pd.DataFrame(df.reshape(1, 6), columns=vect.get_feature_names())"
   ]
  },
  {
   "cell_type": "code",
   "execution_count": 113,
   "metadata": {},
   "outputs": [
    {
     "data": {
      "text/html": [
       "<div>\n",
       "<table border=\"1\" class=\"dataframe\">\n",
       "  <thead>\n",
       "    <tr style=\"text-align: right;\">\n",
       "      <th></th>\n",
       "      <th>cab</th>\n",
       "      <th>call</th>\n",
       "      <th>me</th>\n",
       "      <th>please</th>\n",
       "      <th>tonight</th>\n",
       "      <th>you</th>\n",
       "    </tr>\n",
       "  </thead>\n",
       "  <tbody>\n",
       "    <tr>\n",
       "      <th>0</th>\n",
       "      <td>0.0</td>\n",
       "      <td>0.333333</td>\n",
       "      <td>0.0</td>\n",
       "      <td>0.0</td>\n",
       "      <td>1.0</td>\n",
       "      <td>1.0</td>\n",
       "    </tr>\n",
       "    <tr>\n",
       "      <th>1</th>\n",
       "      <td>1.0</td>\n",
       "      <td>0.333333</td>\n",
       "      <td>0.5</td>\n",
       "      <td>0.0</td>\n",
       "      <td>0.0</td>\n",
       "      <td>0.0</td>\n",
       "    </tr>\n",
       "    <tr>\n",
       "      <th>2</th>\n",
       "      <td>0.0</td>\n",
       "      <td>0.333333</td>\n",
       "      <td>0.5</td>\n",
       "      <td>2.0</td>\n",
       "      <td>0.0</td>\n",
       "      <td>0.0</td>\n",
       "    </tr>\n",
       "  </tbody>\n",
       "</table>\n",
       "</div>"
      ],
      "text/plain": [
       "   cab      call   me  please  tonight  you\n",
       "0  0.0  0.333333  0.0     0.0      1.0  1.0\n",
       "1  1.0  0.333333  0.5     0.0      0.0  0.0\n",
       "2  0.0  0.333333  0.5     2.0      0.0  0.0"
      ]
     },
     "execution_count": 113,
     "metadata": {},
     "output_type": "execute_result"
    }
   ],
   "source": [
    "# Term frequency–inverse document frequency (simple version)\n",
    "tf/df"
   ]
  },
  {
   "cell_type": "markdown",
   "metadata": {},
   "source": [
    "The higher the TF–IDF value, the more \"important\" the word is to that specific document. Here, \"cab\" is the most important and unique word in document 1, while \"please\" is the most important and unique word in document 2. TF–IDF is often used for training as a replacement for word count."
   ]
  },
  {
   "cell_type": "code",
   "execution_count": 114,
   "metadata": {},
   "outputs": [
    {
     "data": {
      "text/html": [
       "<div>\n",
       "<table border=\"1\" class=\"dataframe\">\n",
       "  <thead>\n",
       "    <tr style=\"text-align: right;\">\n",
       "      <th></th>\n",
       "      <th>cab</th>\n",
       "      <th>call</th>\n",
       "      <th>me</th>\n",
       "      <th>please</th>\n",
       "      <th>tonight</th>\n",
       "      <th>you</th>\n",
       "    </tr>\n",
       "  </thead>\n",
       "  <tbody>\n",
       "    <tr>\n",
       "      <th>0</th>\n",
       "      <td>0.000000</td>\n",
       "      <td>0.385372</td>\n",
       "      <td>0.000000</td>\n",
       "      <td>0.000000</td>\n",
       "      <td>0.652491</td>\n",
       "      <td>0.652491</td>\n",
       "    </tr>\n",
       "    <tr>\n",
       "      <th>1</th>\n",
       "      <td>0.720333</td>\n",
       "      <td>0.425441</td>\n",
       "      <td>0.547832</td>\n",
       "      <td>0.000000</td>\n",
       "      <td>0.000000</td>\n",
       "      <td>0.000000</td>\n",
       "    </tr>\n",
       "    <tr>\n",
       "      <th>2</th>\n",
       "      <td>0.000000</td>\n",
       "      <td>0.266075</td>\n",
       "      <td>0.342620</td>\n",
       "      <td>0.901008</td>\n",
       "      <td>0.000000</td>\n",
       "      <td>0.000000</td>\n",
       "    </tr>\n",
       "  </tbody>\n",
       "</table>\n",
       "</div>"
      ],
      "text/plain": [
       "        cab      call        me    please   tonight       you\n",
       "0  0.000000  0.385372  0.000000  0.000000  0.652491  0.652491\n",
       "1  0.720333  0.425441  0.547832  0.000000  0.000000  0.000000\n",
       "2  0.000000  0.266075  0.342620  0.901008  0.000000  0.000000"
      ]
     },
     "execution_count": 114,
     "metadata": {},
     "output_type": "execute_result"
    }
   ],
   "source": [
    "# TfidfVectorizer\n",
    "vect = TfidfVectorizer()\n",
    "pd.DataFrame(vect.fit_transform(simple_train).toarray(), columns=vect.get_feature_names())"
   ]
  },
  {
   "cell_type": "markdown",
   "metadata": {},
   "source": [
    "**More details:** [TF–IDF is about what matters](http://planspace.org/20150524-tfidf_is_about_what_matters/)"
   ]
  },
  {
   "cell_type": "markdown",
   "metadata": {},
   "source": [
    "<a id='yelp_tfidf'></a>\n",
    "## Using TF–IDF to Summarize a Yelp Review\n",
    "\n",
    "Reddit's autotldr uses the [SMMRY](http://smmry.com/about) algorithm, which is based on TF–IDF."
   ]
  },
  {
   "cell_type": "code",
   "execution_count": 115,
   "metadata": {},
   "outputs": [
    {
     "data": {
      "text/plain": [
       "(10000, 28880)"
      ]
     },
     "execution_count": 115,
     "metadata": {},
     "output_type": "execute_result"
    }
   ],
   "source": [
    "# Create a document-term matrix using TF–IDF.\n",
    "vect = TfidfVectorizer(stop_words='english')\n",
    "\n",
    "# Fit transform Yelp data.\n",
    "dtm = vect.fit_transform(yelp.text)\n",
    "features = vect.get_feature_names()\n",
    "dtm.shape"
   ]
  },
  {
   "cell_type": "code",
   "execution_count": 116,
   "metadata": {
    "collapsed": true
   },
   "outputs": [],
   "source": [
    "def summarize():\n",
    "    \n",
    "    # Choose a random review that is at least 300 characters.\n",
    "    review_length = 0\n",
    "    while review_length < 300:\n",
    "        review_id = np.random.randint(0, len(yelp))\n",
    "        review_text = yelp.text[review_id]\n",
    "        #review_text = unicode(yelp.text[review_id], 'utf-8')\n",
    "        review_length = len(review_text)\n",
    "    \n",
    "    # Create a dictionary of words and their TF–IDF scores.\n",
    "    word_scores = {}\n",
    "    for word in TextBlob(review_text).words:\n",
    "        word = word.lower()\n",
    "        if word in features:\n",
    "            word_scores[word] = dtm[review_id, features.index(word)]\n",
    "    \n",
    "    # Print words with the top five TF–IDF scores.\n",
    "    print('TOP SCORING WORDS:')\n",
    "    top_scores = sorted(list(word_scores.items()), key=lambda x: x[1], reverse=True)[:5]\n",
    "    for word, score in top_scores:\n",
    "        print(word)\n",
    "    \n",
    "    # Print five random words.\n",
    "    print(('\\n' + 'RANDOM WORDS:'))\n",
    "    random_words = np.random.choice(list(word_scores.keys()), size=5, replace=False)\n",
    "    for word in random_words:\n",
    "        print(word)\n",
    "    \n",
    "    # Print the review.\n",
    "    print(('\\n' + review_text))"
   ]
  },
  {
   "cell_type": "code",
   "execution_count": 117,
   "metadata": {},
   "outputs": [
    {
     "name": "stdout",
     "output_type": "stream",
     "text": [
      "TOP SCORING WORDS:\n",
      "times\n",
      "drunkard\n",
      "dammit\n",
      "gringos\n",
      "friends\n",
      "\n",
      "RANDOM WORDS:\n",
      "dammit\n",
      "professional\n",
      "suggest\n",
      "drinker\n",
      "drunkard\n",
      "\n",
      "Dammit - I have been here a dozen times and it's been so \"mixed\"... The best of times, and the worst of times... though the last two times (for late night drinking with friends) have been pretty fun... Drinks are cheap and the crowd is \"lively\".\r\n",
      "\r\n",
      "So, for now, I will suggest Dos Gringos to the college drunkard and/or professional drinker after 9pm. Bring some friends!\n"
     ]
    }
   ],
   "source": [
    "summarize()"
   ]
  },
  {
   "cell_type": "markdown",
   "metadata": {},
   "source": [
    "<a id='sentiment'></a>\n",
    "## Sentiment Analysis\n",
    "\n",
    "Understanding how positive or negative a review is. There are many ways in practice to compute a sentiment value. For example:\n",
    "\n",
    "- Have a list of \"positive\" words and a list of \"negative\" words and count how many occur in a document. \n",
    "- Train a classifier given many examples of \"positive\" documents and \"negative\" documents. \n",
    "    - Note that this technique is often just an automated way to derive the first (e.g., using bag-of-words with logistic regression, a coefficient is assigned to each word!).\n",
    "\n",
    "For the most accurate sentiment analysis, you will want to train a custom sentiment model based on documents that are particular to your application. Generic models (such as the one we are about to use!) often do not work as well as hoped.\n",
    "\n",
    "As we will do below, always make sure you double-check that the algorithm is working by manually verifying that scores correctly correspond to positive/negative reviews! Otherwise, you may be using numbers that are not accurate."
   ]
  },
  {
   "cell_type": "code",
   "execution_count": 118,
   "metadata": {},
   "outputs": [
    {
     "name": "stdout",
     "output_type": "stream",
     "text": [
      "My wife took me here on my birthday for breakfast and it was excellent.  The weather was perfect which made sitting outside overlooking their grounds an absolute pleasure.  Our waitress was excellent and our food arrived quickly on the semi-busy Saturday morning.  It looked like the place fills up pretty quickly so the earlier you get here the better.\r\n",
      "\r\n",
      "Do yourself a favor and get their Bloody Mary.  It was phenomenal and simply the best I've ever had.  I'm pretty sure they only use ingredients from their garden and blend them fresh when you order it.  It was amazing.\r\n",
      "\r\n",
      "While EVERYTHING on the menu looks excellent, I had the white truffle scrambled eggs vegetable skillet and it was tasty and delicious.  It came with 2 pieces of their griddled bread with was amazing and it absolutely made the meal complete.  It was the best \"toast\" I've ever had.\r\n",
      "\r\n",
      "Anyway, I can't wait to go back!\n"
     ]
    }
   ],
   "source": [
    "print(review)"
   ]
  },
  {
   "cell_type": "code",
   "execution_count": 119,
   "metadata": {},
   "outputs": [
    {
     "data": {
      "text/plain": [
       "0.40246913580246907"
      ]
     },
     "execution_count": 119,
     "metadata": {},
     "output_type": "execute_result"
    }
   ],
   "source": [
    "# Polarity ranges from -1 (most negative) to 1 (most positive).\n",
    "review.sentiment.polarity"
   ]
  },
  {
   "cell_type": "code",
   "execution_count": 120,
   "metadata": {},
   "outputs": [
    {
     "data": {
      "text/html": [
       "<div>\n",
       "<table border=\"1\" class=\"dataframe\">\n",
       "  <thead>\n",
       "    <tr style=\"text-align: right;\">\n",
       "      <th></th>\n",
       "      <th>business_id</th>\n",
       "      <th>date</th>\n",
       "      <th>review_id</th>\n",
       "      <th>stars</th>\n",
       "      <th>text</th>\n",
       "      <th>type</th>\n",
       "      <th>user_id</th>\n",
       "      <th>cool</th>\n",
       "      <th>useful</th>\n",
       "      <th>funny</th>\n",
       "      <th>length</th>\n",
       "    </tr>\n",
       "  </thead>\n",
       "  <tbody>\n",
       "    <tr>\n",
       "      <th>0</th>\n",
       "      <td>9yKzy9PApeiPPOUJEtnvkg</td>\n",
       "      <td>2011-01-26</td>\n",
       "      <td>fWKvX83p0-ka4JS3dc6E5A</td>\n",
       "      <td>5</td>\n",
       "      <td>My wife took me here on my birthday for breakf...</td>\n",
       "      <td>review</td>\n",
       "      <td>rLtl8ZkDX5vH5nAx9C3q5Q</td>\n",
       "      <td>2</td>\n",
       "      <td>5</td>\n",
       "      <td>0</td>\n",
       "      <td>895</td>\n",
       "    </tr>\n",
       "  </tbody>\n",
       "</table>\n",
       "</div>"
      ],
      "text/plain": [
       "              business_id        date               review_id  stars  \\\n",
       "0  9yKzy9PApeiPPOUJEtnvkg  2011-01-26  fWKvX83p0-ka4JS3dc6E5A      5   \n",
       "\n",
       "                                                text    type  \\\n",
       "0  My wife took me here on my birthday for breakf...  review   \n",
       "\n",
       "                  user_id  cool  useful  funny  length  \n",
       "0  rLtl8ZkDX5vH5nAx9C3q5Q     2       5      0     895  "
      ]
     },
     "execution_count": 120,
     "metadata": {},
     "output_type": "execute_result"
    }
   ],
   "source": [
    "# Understanding the apply method\n",
    "yelp['length'] = yelp.text.apply(len)\n",
    "yelp.head(1)"
   ]
  },
  {
   "cell_type": "code",
   "execution_count": 121,
   "metadata": {
    "collapsed": true
   },
   "outputs": [],
   "source": [
    "# Define a function that accepts text and returns the polarity.\n",
    "def detect_sentiment(text):\n",
    "    return TextBlob(text.decode('utf-8')).sentiment.polarity\n",
    "    #return TextBlob(text).sentiment.polarity"
   ]
  },
  {
   "cell_type": "code",
   "execution_count": 122,
   "metadata": {
    "collapsed": true
   },
   "outputs": [],
   "source": [
    "# Create a new DataFrame column for sentiment (Warning: SLOW!).\n",
    "yelp['sentiment'] = yelp.text.apply(detect_sentiment)"
   ]
  },
  {
   "cell_type": "code",
   "execution_count": 123,
   "metadata": {},
   "outputs": [
    {
     "data": {
      "text/plain": [
       "<matplotlib.axes._subplots.AxesSubplot at 0x2d7eca58>"
      ]
     },
     "execution_count": 123,
     "metadata": {},
     "output_type": "execute_result"
    },
    {
     "data": {
      "image/png": "[encoded data removed]",
      "text/plain": [
       "<matplotlib.figure.Figure at 0x3125abe0>"
      ]
     },
     "metadata": {},
     "output_type": "display_data"
    }
   ],
   "source": [
    "# Box plot of sentiment grouped by stars\n",
    "yelp.boxplot(column='sentiment', by='stars')"
   ]
  },
  {
   "cell_type": "code",
   "execution_count": 124,
   "metadata": {},
   "outputs": [
    {
     "data": {
      "text/plain": [
       "254    Our server Gary was awesome. Food was amazing....\n",
       "347    3 syllables for this place. \\r\\nA-MAZ-ING!\\r\\n...\n",
       "420                                    LOVE the food!!!!\n",
       "459    Love it!!! Wish we still lived in Arizona as C...\n",
       "679                                     Excellent burger\n",
       "Name: text, dtype: object"
      ]
     },
     "execution_count": 124,
     "metadata": {},
     "output_type": "execute_result"
    }
   ],
   "source": [
    "# Reviews with most positive sentiment\n",
    "yelp[yelp.sentiment == 1].text.head()"
   ]
  },
  {
   "cell_type": "code",
   "execution_count": 125,
   "metadata": {},
   "outputs": [
    {
     "data": {
      "text/plain": [
       "773     This was absolutely horrible. I got the suprem...\n",
       "1517                  Nasty workers and over priced trash\n",
       "3266    Absolutely awful... these guys have NO idea wh...\n",
       "4766                                       Very bad food!\n",
       "5812        I wouldn't send my worst enemy to this place.\n",
       "Name: text, dtype: object"
      ]
     },
     "execution_count": 125,
     "metadata": {},
     "output_type": "execute_result"
    }
   ],
   "source": [
    "# Reviews with most negative sentiment\n",
    "yelp[yelp.sentiment == -1].text.head()"
   ]
  },
  {
   "cell_type": "code",
   "execution_count": 126,
   "metadata": {
    "collapsed": true
   },
   "outputs": [],
   "source": [
    "# Widen the column display.\n",
    "pd.set_option('max_colwidth', 500)"
   ]
  },
  {
   "cell_type": "code",
   "execution_count": 127,
   "metadata": {},
   "outputs": [
    {
     "data": {
      "text/html": [
       "<div>\n",
       "<table border=\"1\" class=\"dataframe\">\n",
       "  <thead>\n",
       "    <tr style=\"text-align: right;\">\n",
       "      <th></th>\n",
       "      <th>business_id</th>\n",
       "      <th>date</th>\n",
       "      <th>review_id</th>\n",
       "      <th>stars</th>\n",
       "      <th>text</th>\n",
       "      <th>type</th>\n",
       "      <th>user_id</th>\n",
       "      <th>cool</th>\n",
       "      <th>useful</th>\n",
       "      <th>funny</th>\n",
       "      <th>length</th>\n",
       "      <th>sentiment</th>\n",
       "    </tr>\n",
       "  </thead>\n",
       "  <tbody>\n",
       "    <tr>\n",
       "      <th>390</th>\n",
       "      <td>106JT5p8e8Chtd0CZpcARw</td>\n",
       "      <td>2009-08-06</td>\n",
       "      <td>KowGVoP_gygzdSu6Mt3zKQ</td>\n",
       "      <td>5</td>\n",
       "      <td>RIP AZ Coffee Connection.  :(  I stopped by two days ago unaware that they had closed.  I am severely bummed.  This place is irreplaceable!  Damn you, Starbucks and McDonalds!</td>\n",
       "      <td>review</td>\n",
       "      <td>jKeaOrPyJ-dI9SNeVqrbww</td>\n",
       "      <td>1</td>\n",
       "      <td>0</td>\n",
       "      <td>0</td>\n",
       "      <td>175</td>\n",
       "      <td>-0.302083</td>\n",
       "    </tr>\n",
       "  </tbody>\n",
       "</table>\n",
       "</div>"
      ],
      "text/plain": [
       "                business_id        date               review_id  stars  \\\n",
       "390  106JT5p8e8Chtd0CZpcARw  2009-08-06  KowGVoP_gygzdSu6Mt3zKQ      5   \n",
       "\n",
       "                                                                                                                                                                                text  \\\n",
       "390  RIP AZ Coffee Connection.  :(  I stopped by two days ago unaware that they had closed.  I am severely bummed.  This place is irreplaceable!  Damn you, Starbucks and McDonalds!   \n",
       "\n",
       "       type                 user_id  cool  useful  funny  length  sentiment  \n",
       "390  review  jKeaOrPyJ-dI9SNeVqrbww     1       0      0     175  -0.302083  "
      ]
     },
     "execution_count": 127,
     "metadata": {},
     "output_type": "execute_result"
    }
   ],
   "source": [
    "# Negative sentiment in a 5-star review\n",
    "yelp[(yelp.stars == 5) & (yelp.sentiment < -0.3)].head(1)"
   ]
  },
  {
   "cell_type": "code",
   "execution_count": 128,
   "metadata": {},
   "outputs": [
    {
     "data": {
      "text/html": [
       "<div>\n",
       "<table border=\"1\" class=\"dataframe\">\n",
       "  <thead>\n",
       "    <tr style=\"text-align: right;\">\n",
       "      <th></th>\n",
       "      <th>business_id</th>\n",
       "      <th>date</th>\n",
       "      <th>review_id</th>\n",
       "      <th>stars</th>\n",
       "      <th>text</th>\n",
       "      <th>type</th>\n",
       "      <th>user_id</th>\n",
       "      <th>cool</th>\n",
       "      <th>useful</th>\n",
       "      <th>funny</th>\n",
       "      <th>length</th>\n",
       "      <th>sentiment</th>\n",
       "    </tr>\n",
       "  </thead>\n",
       "  <tbody>\n",
       "    <tr>\n",
       "      <th>1781</th>\n",
       "      <td>53YGfwmbW73JhFiemNeyzQ</td>\n",
       "      <td>2012-06-22</td>\n",
       "      <td>Gi-4O3EhE175vujbFGDIew</td>\n",
       "      <td>1</td>\n",
       "      <td>If you like the stuck up Scottsdale vibe this is a good place for you. The food isn't impressive. Nice outdoor seating.</td>\n",
       "      <td>review</td>\n",
       "      <td>Hqgx3IdJAAaoQjvrUnbNvw</td>\n",
       "      <td>0</td>\n",
       "      <td>1</td>\n",
       "      <td>2</td>\n",
       "      <td>119</td>\n",
       "      <td>0.766667</td>\n",
       "    </tr>\n",
       "  </tbody>\n",
       "</table>\n",
       "</div>"
      ],
      "text/plain": [
       "                 business_id        date               review_id  stars  \\\n",
       "1781  53YGfwmbW73JhFiemNeyzQ  2012-06-22  Gi-4O3EhE175vujbFGDIew      1   \n",
       "\n",
       "                                                                                                                         text  \\\n",
       "1781  If you like the stuck up Scottsdale vibe this is a good place for you. The food isn't impressive. Nice outdoor seating.   \n",
       "\n",
       "        type                 user_id  cool  useful  funny  length  sentiment  \n",
       "1781  review  Hqgx3IdJAAaoQjvrUnbNvw     0       1      2     119   0.766667  "
      ]
     },
     "execution_count": 128,
     "metadata": {},
     "output_type": "execute_result"
    }
   ],
   "source": [
    "# Positive sentiment in a 1-star review\n",
    "yelp[(yelp.stars == 1) & (yelp.sentiment > 0.5)].head(1)"
   ]
  },
  {
   "cell_type": "code",
   "execution_count": 129,
   "metadata": {
    "collapsed": true
   },
   "outputs": [],
   "source": [
    "# Reset the column display width.\n",
    "pd.reset_option('max_colwidth')"
   ]
  },
  {
   "cell_type": "markdown",
   "metadata": {},
   "source": [
    "<a id='add_feat'></a>\n",
    "## Bonus: Adding Features to a Document-Term Matrix"
   ]
  },
  {
   "cell_type": "markdown",
   "metadata": {},
   "source": [
    "Here, we will add additional features to our `CountVectorizer()`-generated feature set to hopefully improve our model.\n",
    "\n",
    "To make the best models, you will want to supplement the auto-generated features with new features you think might be important. After all, `CountVectorizer()` typically lowercases text and removes all associations between words. Or, you may have metadata to add in addition to just the text.\n",
    "\n",
    "> Remember: Although you may have hundreds of thousands of features, each data point is extremely sparse. So, if you add in a new feature, e.g., one that detects if the text is all capital letters, this new feature can still have a huge effect on the model outcome!"
   ]
  },
  {
   "cell_type": "code",
   "execution_count": 130,
   "metadata": {
    "collapsed": true
   },
   "outputs": [],
   "source": [
    "# Create a DataFrame that only contains the 5-star and 1-star reviews.\n",
    "yelp_best_worst = yelp[(yelp.stars==5) | (yelp.stars==1)]\n",
    "\n",
    "# define X and y\n",
    "feature_cols = ['text', 'sentiment', 'cool', 'useful', 'funny']\n",
    "X = yelp_best_worst[feature_cols]\n",
    "y = yelp_best_worst.stars\n",
    "\n",
    "# split into training and testing sets\n",
    "X_train, X_test, y_train, y_test = train_test_split(X, y, random_state=1)"
   ]
  },
  {
   "cell_type": "code",
   "execution_count": 131,
   "metadata": {},
   "outputs": [
    {
     "name": "stdout",
     "output_type": "stream",
     "text": [
      "(3064, 16825)\n",
      "(1022, 16825)\n"
     ]
    }
   ],
   "source": [
    "# Use CountVectorizer with text column only.\n",
    "vect = CountVectorizer()\n",
    "X_train_dtm = vect.fit_transform(X_train.text)\n",
    "X_test_dtm = vect.transform(X_test.text)\n",
    "print((X_train_dtm.shape))\n",
    "print((X_test_dtm.shape))"
   ]
  },
  {
   "cell_type": "code",
   "execution_count": 132,
   "metadata": {},
   "outputs": [
    {
     "data": {
      "text/plain": [
       "(3064, 4)"
      ]
     },
     "execution_count": 132,
     "metadata": {},
     "output_type": "execute_result"
    }
   ],
   "source": [
    "# Shape of other four feature columns\n",
    "X_train.drop('text', axis=1).shape"
   ]
  },
  {
   "cell_type": "code",
   "execution_count": 133,
   "metadata": {},
   "outputs": [
    {
     "data": {
      "text/plain": [
       "(3064, 4)"
      ]
     },
     "execution_count": 133,
     "metadata": {},
     "output_type": "execute_result"
    }
   ],
   "source": [
    "# Cast other feature columns to float and convert to a sparse matrix.\n",
    "extra = sp.sparse.csr_matrix(X_train.drop('text', axis=1).astype(float))\n",
    "extra.shape"
   ]
  },
  {
   "cell_type": "code",
   "execution_count": 134,
   "metadata": {},
   "outputs": [
    {
     "data": {
      "text/plain": [
       "(3064, 16829)"
      ]
     },
     "execution_count": 134,
     "metadata": {},
     "output_type": "execute_result"
    }
   ],
   "source": [
    "# Combine sparse matrices.\n",
    "X_train_dtm_extra = sp.sparse.hstack((X_train_dtm, extra))\n",
    "X_train_dtm_extra.shape"
   ]
  },
  {
   "cell_type": "code",
   "execution_count": 135,
   "metadata": {},
   "outputs": [
    {
     "data": {
      "text/plain": [
       "(1022, 16829)"
      ]
     },
     "execution_count": 135,
     "metadata": {},
     "output_type": "execute_result"
    }
   ],
   "source": [
    "# Repeat for testing set.\n",
    "extra = sp.sparse.csr_matrix(X_test.drop('text', axis=1).astype(float))\n",
    "X_test_dtm_extra = sp.sparse.hstack((X_test_dtm, extra))\n",
    "X_test_dtm_extra.shape"
   ]
  },
  {
   "cell_type": "code",
   "execution_count": 136,
   "metadata": {},
   "outputs": [
    {
     "name": "stdout",
     "output_type": "stream",
     "text": [
      "0.917808219178\n"
     ]
    }
   ],
   "source": [
    "# Use logistic regression with text column only.\n",
    "logreg = LogisticRegression(C=1e9)\n",
    "logreg.fit(X_train_dtm, y_train)\n",
    "y_pred_class = logreg.predict(X_test_dtm)\n",
    "print((metrics.accuracy_score(y_test, y_pred_class)))"
   ]
  },
  {
   "cell_type": "code",
   "execution_count": 137,
   "metadata": {},
   "outputs": [
    {
     "name": "stdout",
     "output_type": "stream",
     "text": [
      "0.922700587084\n"
     ]
    }
   ],
   "source": [
    "# Use logistic regression with all features.\n",
    "logreg = LogisticRegression(C=1e9)\n",
    "logreg.fit(X_train_dtm_extra, y_train)\n",
    "y_pred_class = logreg.predict(X_test_dtm_extra)\n",
    "print((metrics.accuracy_score(y_test, y_pred_class)))"
   ]
  },
  {
   "cell_type": "markdown",
   "metadata": {},
   "source": [
    "<a id='more_textblob'></a>\n",
    "## Bonus: Fun TextBlob Features"
   ]
  },
  {
   "cell_type": "code",
   "execution_count": 138,
   "metadata": {},
   "outputs": [
    {
     "data": {
      "text/plain": [
       "TextBlob(\"15 minutes late\")"
      ]
     },
     "execution_count": 138,
     "metadata": {},
     "output_type": "execute_result"
    }
   ],
   "source": [
    "# Spelling correction\n",
    "TextBlob('15 minuets late').correct()"
   ]
  },
  {
   "cell_type": "code",
   "execution_count": 139,
   "metadata": {},
   "outputs": [
    {
     "data": {
      "text/plain": [
       "[('part', 0.9929478138222849), (u'parrot', 0.007052186177715092)]"
      ]
     },
     "execution_count": 139,
     "metadata": {},
     "output_type": "execute_result"
    }
   ],
   "source": [
    "# Spellcheck\n",
    "Word('parot').spellcheck()"
   ]
  },
  {
   "cell_type": "code",
   "execution_count": 140,
   "metadata": {},
   "outputs": [
    {
     "data": {
      "text/plain": [
       "[u'tip laterally',\n",
       " u'enclose with a bank',\n",
       " u'do business with a bank or keep an account at a bank',\n",
       " u'act as the banker in a game or in gambling',\n",
       " u'be in the banking business',\n",
       " u'put into a bank account',\n",
       " u'cover with ashes so to control the rate of burning',\n",
       " u'have confidence or faith in']"
      ]
     },
     "execution_count": 140,
     "metadata": {},
     "output_type": "execute_result"
    }
   ],
   "source": [
    "# Definitions\n",
    "Word('bank').define('v')"
   ]
  },
  {
   "cell_type": "code",
   "execution_count": 141,
   "metadata": {},
   "outputs": [
    {
     "data": {
      "text/plain": [
       "u'es'"
      ]
     },
     "execution_count": 141,
     "metadata": {},
     "output_type": "execute_result"
    }
   ],
   "source": [
    "# Language identification\n",
    "TextBlob('Hola amigos').detect_language()"
   ]
  },
  {
   "cell_type": "markdown",
   "metadata": {},
   "source": [
    "<a id=\"bayes\"></a>\n",
    "\n",
    "## Appendix: Intro to Naive Bayes and Text Classification\n",
    "\n",
    "Later in the course, we will explore in-depth how to use the Naive Bayes classifier with text. Naive Bayes is a very popular classifier because it has minimal storage requirements, is fast, can be tuned easily with more data, and has found very useful applications in text classificaton. For example, Paul Graham originally proposed using Naive Bayes to detect spam in his [Plan for Spam](http://www.paulgraham.com/spam.html).\n",
    "\n",
    "Earlier we experimented with text classification using a Naive Bayes model. What exactly are Naive Bayes classifiers? \n",
    "\n",
    "**What is Bayes?**  \n",
    "Bayes, or Bayes' Theorem, is a different way to assess probability. It considers prior information in order to more accurately assess the situation.\n",
    "\n",
    "**Example:** You are playing roulette.\n",
    "\n",
    "As you approach the table, you see that the last number the ball landed on was Red-3. With a frequentist mindset, you know that the ball is just as likely to land on Red-3 again given that every slot on the wheel has an equal opportunity of 1 in 37.\n",
    "\n",
    "Given that you started believing that the ball can land in each slot with an equal likelihood _and_ that you have only seen one throw previously, you rationally believe that there would be no difference between picking Red a second time now or picking Black -- ideally they would happen with the same likelihood!\n",
    "\n",
    "However, as you sit and watch the roulette table, you begin to notice something strange. The ball is _always_ landing on red. Every single time the ball is thrown, it lands in a red slot. Even though your past beliefs stated that red and black were equally likely, every time it lands in red, you change those beliefs a little more towards a biased roulette table. \n",
    "\n",
    "This is what Bayes is all about — adjusting probabilities as more data is gathered!"
   ]
  },
  {
   "cell_type": "markdown",
   "metadata": {},
   "source": [
    "Below is the equation for Bayes.  \n",
    "\n",
    "$$P(A \\ | \\ B) = \\frac {P(B \\ | \\ A) \\times P(A)} {P(B)}$$\n",
    "\n",
    "- **$P(A \\ | \\ B)$** : Probability of `Event A` occurring given `Event B` has occurred.\n",
    "- **$P(B \\ | \\ A)$** : Probability of `Event B` occurring given `Event A` has occurred.\n",
    "- **$P(A)$** : Probability of `Event A` occurring.\n",
    "- **$P(B)$** : Probability of `Event B` occurring."
   ]
  },
  {
   "cell_type": "markdown",
   "metadata": {},
   "source": [
    "\n",
    "\n",
    "## Applying Naive Bayes Classification to Spam Filtering\n",
    "\n",
    "Let's pretend we have an email with three words: \"Send money now.\" We'll use Naive Bayes to classify it as **ham or spam.** (\"Ham\" just means not spam. It can include emails that look like spam but that you opt into!)\n",
    "\n",
    "$$P(spam \\ | \\ \\text{send money now}) = \\frac {P(\\text{send money now} \\ | \\ spam) \\times P(spam)} {P(\\text{send money now})}$$\n",
    "\n",
    "By assuming that the features (the words) are conditionally independent, we can simplify the likelihood function:\n",
    "\n",
    "$$P(spam \\ | \\ \\text{send money now}) \\approx \\frac {P(\\text{send} \\ | \\ spam) \\times P(\\text{money} \\ | \\ spam) \\times P(\\text{now} \\ | \\ spam) \\times P(spam)} {P(\\text{send money now})}$$\n",
    "\n",
    "Note that each conditional probability in the numerator is easily calculated directly from the training data!\n",
    "\n",
    "So, we can calculate all of the values in the numerator by examining a corpus of spam email:\n",
    "\n",
    "$$P(spam \\ | \\ \\text{send money now}) \\approx \\frac {0.2 \\times 0.1 \\times 0.1 \\times 0.9} {P(\\text{send money now})} = \\frac {0.0018} {P(\\text{send money now})}$$\n",
    "\n",
    "We would repeat this process with a corpus of ham email:\n",
    "\n",
    "$$P(ham \\ | \\ \\text{send money now}) \\approx \\frac {0.05 \\times 0.01 \\times 0.1 \\times 0.1} {P(\\text{send money now})} = \\frac {0.000005} {P(\\text{send money now})}$$\n",
    "\n",
    "All we care about is whether spam or ham has the higher probability, and so we predict that the email is spam.\n",
    "\n",
    "\n",
    "### Key Takeaways\n",
    "\n",
    "- The \"naive\" assumption of Naive Bayes (that the features are conditionally independent) is critical to making these calculations simple.\n",
    "- The normalization constant (the denominator) can be ignored since it's the same for all classes.\n",
    "- The prior probability is much less relevant once you have a lot of features.\n",
    "\n",
    "### Comparing Naive Bayes With Other Models\n",
    "\n",
    "Advantages of Naive Bayes:\n",
    "\n",
    "- Model training and prediction are very fast.\n",
    "- It's somewhat interpretable.\n",
    "- No tuning is required.\n",
    "- Features don't need scaling.\n",
    "- It's insensitive to irrelevant features (with enough observations).\n",
    "- It performs better than logistic regression when the training set is very small.\n",
    "\n",
    "Disadvantages of Naive Bayes:\n",
    "\n",
    "- If \"spam\" is dependent on non-independent combinations of individual words, it may not work well.\n",
    "- Predicted probabilities are not well calibrated.\n",
    "- Correlated features can be problematic (due to the independence assumption).\n",
    "- It can't handle negative features (with Multinomial Naive Bayes).\n",
    "- It has a higher \"asymptotic error\" than logistic regression.\n",
    "\n",
    "-----"
   ]
  },
  {
   "cell_type": "markdown",
   "metadata": {},
   "source": [
    "<a id='conclusion'></a>\n",
    "## Conclusion\n",
    "\n",
    "- NLP is a gigantic field.\n",
    "- Understanding the basics broadens the types of data you can work with.\n",
    "- Simple techniques go a long way.\n",
    "- Use scikit-learn for NLP whenever possible.\n",
    "\n",
    "While we used SKLearn and TextBlob today, another popular python NLP library is [Spacy](https://spacy.io)."
   ]
  }
 ],
 "metadata": {
  "kernelspec": {
   "display_name": "Python 3",
   "language": "python",
   "name": "python3"
  },
  "language_info": {
   "codemirror_mode": {
    "name": "ipython",
    "version": 3
   },
   "file_extension": ".py",
   "mimetype": "text/x-python",
   "name": "python",
   "nbconvert_exporter": "python",
   "pygments_lexer": "ipython3",
   "version": "3.6.4"
  }
 },
 "nbformat": 4,
 "nbformat_minor": 2
}
