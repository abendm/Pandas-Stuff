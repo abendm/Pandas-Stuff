{
 "cells": [
  {
   "cell_type": "code",
   "execution_count": 1,
   "metadata": {},
   "outputs": [],
   "source": [
    "import requests\n",
    "from bs4 import BeautifulSoup\n",
    "import json"
   ]
  },
  {
   "cell_type": "code",
   "execution_count": 2,
   "metadata": {},
   "outputs": [],
   "source": [
    "import pandas as pd"
   ]
  },
  {
   "cell_type": "code",
   "execution_count": 3,
   "metadata": {},
   "outputs": [],
   "source": [
    "df = pd.read_csv('sample_article_urls.csv', index_col=0)"
   ]
  },
  {
   "cell_type": "code",
   "execution_count": 4,
   "metadata": {},
   "outputs": [
    {
     "data": {
      "text/html": [
       "<div>\n",
       "<style scoped>\n",
       "    .dataframe tbody tr th:only-of-type {\n",
       "        vertical-align: middle;\n",
       "    }\n",
       "\n",
       "    .dataframe tbody tr th {\n",
       "        vertical-align: top;\n",
       "    }\n",
       "\n",
       "    .dataframe thead th {\n",
       "        text-align: right;\n",
       "    }\n",
       "</style>\n",
       "<table border=\"1\" class=\"dataframe\">\n",
       "  <thead>\n",
       "    <tr style=\"text-align: right;\">\n",
       "      <th></th>\n",
       "      <th>urls</th>\n",
       "      <th>wanted</th>\n",
       "    </tr>\n",
       "  </thead>\n",
       "  <tbody>\n",
       "    <tr>\n",
       "      <th>0</th>\n",
       "      <td>https://medium.com/thrive-global/how-technolog...</td>\n",
       "      <td>y</td>\n",
       "    </tr>\n",
       "    <tr>\n",
       "      <th>1</th>\n",
       "      <td>https://deadspin.com/the-sherpa-of-new-york-18...</td>\n",
       "      <td>y</td>\n",
       "    </tr>\n",
       "    <tr>\n",
       "      <th>2</th>\n",
       "      <td>https://waitbutwhy.com/2016/09/marriage-decisi...</td>\n",
       "      <td>y</td>\n",
       "    </tr>\n",
       "    <tr>\n",
       "      <th>3</th>\n",
       "      <td>https://www.gq.com/story/golden-age-of-tax-fraud</td>\n",
       "      <td>y</td>\n",
       "    </tr>\n",
       "    <tr>\n",
       "      <th>4</th>\n",
       "      <td>https://www.newyorker.com/magazine/2017/04/03/...</td>\n",
       "      <td>y</td>\n",
       "    </tr>\n",
       "  </tbody>\n",
       "</table>\n",
       "</div>"
      ],
      "text/plain": [
       "                                                urls wanted\n",
       "0  https://medium.com/thrive-global/how-technolog...      y\n",
       "1  https://deadspin.com/the-sherpa-of-new-york-18...      y\n",
       "2  https://waitbutwhy.com/2016/09/marriage-decisi...      y\n",
       "3   https://www.gq.com/story/golden-age-of-tax-fraud      y\n",
       "4  https://www.newyorker.com/magazine/2017/04/03/...      y"
      ]
     },
     "execution_count": 4,
     "metadata": {},
     "output_type": "execute_result"
    }
   ],
   "source": [
    "df.head()"
   ]
  },
  {
   "cell_type": "code",
   "execution_count": 5,
   "metadata": {},
   "outputs": [
    {
     "data": {
      "text/plain": [
       "'https://medium.com/thrive-global/how-technology-hijacks-peoples-minds-from-a-magician-and-google-s-design-ethicist-56d62ef5edf3'"
      ]
     },
     "execution_count": 5,
     "metadata": {},
     "output_type": "execute_result"
    }
   ],
   "source": [
    "df.urls[0]"
   ]
  },
  {
   "cell_type": "code",
   "execution_count": 6,
   "metadata": {},
   "outputs": [],
   "source": [
    "resp_1 = requests.get(df.urls[0])"
   ]
  },
  {
   "cell_type": "code",
   "execution_count": 7,
   "metadata": {},
   "outputs": [
    {
     "data": {
      "text/plain": [
       "<Response [200]>"
      ]
     },
     "execution_count": 7,
     "metadata": {},
     "output_type": "execute_result"
    }
   ],
   "source": [
    "resp_1"
   ]
  },
  {
   "cell_type": "code",
   "execution_count": 8,
   "metadata": {},
   "outputs": [],
   "source": [
    "soup_1 = BeautifulSoup(resp_1.text, 'html.parser')"
   ]
  },
  {
   "cell_type": "code",
   "execution_count": 9,
   "metadata": {},
   "outputs": [
    {
     "data": {
      "text/plain": [
       "<title>How Technology is Hijacking Your Mind — from a Former Insider</title>"
      ]
     },
     "execution_count": 9,
     "metadata": {},
     "output_type": "execute_result"
    }
   ],
   "source": [
    "soup_1.title"
   ]
  },
  {
   "cell_type": "code",
   "execution_count": 10,
   "metadata": {},
   "outputs": [],
   "source": [
    "text = soup_1.find('article').text"
   ]
  },
  {
   "cell_type": "code",
   "execution_count": 11,
   "metadata": {},
   "outputs": [],
   "source": [
    "df_text = pd.DataFrame([text], columns=['text'])"
   ]
  },
  {
   "cell_type": "code",
   "execution_count": 12,
   "metadata": {},
   "outputs": [],
   "source": [
    "from sklearn.feature_extraction.text import TfidfVectorizer, CountVectorizer"
   ]
  },
  {
   "cell_type": "code",
   "execution_count": 13,
   "metadata": {},
   "outputs": [],
   "source": [
    "vect = TfidfVectorizer(ngram_range=(1,3), stop_words = 'english')"
   ]
  },
  {
   "cell_type": "code",
   "execution_count": 14,
   "metadata": {},
   "outputs": [
    {
     "data": {
      "text/plain": [
       "<1x4571 sparse matrix of type '<class 'numpy.float64'>'\n",
       "\twith 4571 stored elements in Compressed Sparse Row format>"
      ]
     },
     "execution_count": 14,
     "metadata": {},
     "output_type": "execute_result"
    }
   ],
   "source": [
    "vect.fit_transform(df_text['text'])"
   ]
  },
  {
   "cell_type": "code",
   "execution_count": 15,
   "metadata": {},
   "outputs": [
    {
     "data": {
      "text/plain": [
       "['10',\n",
       " '10 forecasting',\n",
       " '10 forecasting errors',\n",
       " '12',\n",
       " '12 minutes',\n",
       " '12 minutes easier',\n",
       " '140',\n",
       " '140 calories',\n",
       " '140 calories tech',\n",
       " '150']"
      ]
     },
     "execution_count": 15,
     "metadata": {},
     "output_type": "execute_result"
    }
   ],
   "source": [
    "vect.get_feature_names()[:10]"
   ]
  },
  {
   "cell_type": "markdown",
   "metadata": {},
   "source": [
    "### Larger Examples with Pocket and EmbedLy"
   ]
  },
  {
   "cell_type": "code",
   "execution_count": 16,
   "metadata": {},
   "outputs": [
    {
     "data": {
      "text/plain": [
       "'https://medium.com/thrive-global/how-technology-hijacks-peoples-minds-from-a-magician-and-google-s-design-ethicist-56d62ef5edf3'"
      ]
     },
     "execution_count": 16,
     "metadata": {},
     "output_type": "execute_result"
    }
   ],
   "source": [
    "df.urls[0]"
   ]
  },
  {
   "cell_type": "code",
   "execution_count": 17,
   "metadata": {},
   "outputs": [
    {
     "data": {
      "text/plain": [
       "<Response [200]>"
      ]
     },
     "execution_count": 17,
     "metadata": {},
     "output_type": "execute_result"
    }
   ],
   "source": [
    "requests.get('https://api.embedly.com/1/extract?url='+ df.urls[0] + '&key=e8283b5ab870410ababbadcbe5a1e837')"
   ]
  },
  {
   "cell_type": "code",
   "execution_count": 18,
   "metadata": {},
   "outputs": [],
   "source": [
    "from embedly import Embedly"
   ]
  },
  {
   "cell_type": "code",
   "execution_count": 19,
   "metadata": {},
   "outputs": [],
   "source": [
    "client = Embedly('')"
   ]
  },
  {
   "cell_type": "code",
   "execution_count": 20,
   "metadata": {},
   "outputs": [
    {
     "data": {
      "text/plain": [
       "<embedly.client.Embedly at 0x1182329b0>"
      ]
     },
     "execution_count": 20,
     "metadata": {},
     "output_type": "execute_result"
    }
   ],
   "source": [
    "client"
   ]
  },
  {
   "cell_type": "code",
   "execution_count": 21,
   "metadata": {},
   "outputs": [
    {
     "data": {
      "text/plain": [
       "{'provider_url': 'https://www.fastcompany.com', 'description': \"Every September, largely unbeknownst to the rest of the company, a group of around 50 Lego employees descends upon Spain's Mediterranean coast, armed with sunblock, huge bins of Lego bricks, and a decade's worth of research into the ways children play.\", 'title': 'How Lego Became The Apple Of Toys', 'thumbnail_width': 1280, 'url': 'https://www.fastcompany.com/3040223/when-it-clicks-it-clicks', 'thumbnail_url': 'https://images.fastcompany.net/image/upload/w_1280,f_auto,q_auto,fl_lossy/fc/3040223-poster-p-1-192-lego-when-it-clicks-it-clicks.jpg', 'version': '1.0', 'provider_name': 'Fast Company', 'type': 'link', 'thumbnail_height': 720}"
      ]
     },
     "execution_count": 21,
     "metadata": {},
     "output_type": "execute_result"
    }
   ],
   "source": [
    "client.oembed('https://www.fastcompany.com/3040223/when-it-clicks-it-clicks')"
   ]
  },
  {
   "cell_type": "code",
   "execution_count": 22,
   "metadata": {},
   "outputs": [
    {
     "data": {
      "text/html": [
       "<div>\n",
       "<style scoped>\n",
       "    .dataframe tbody tr th:only-of-type {\n",
       "        vertical-align: middle;\n",
       "    }\n",
       "\n",
       "    .dataframe tbody tr th {\n",
       "        vertical-align: top;\n",
       "    }\n",
       "\n",
       "    .dataframe thead th {\n",
       "        text-align: right;\n",
       "    }\n",
       "</style>\n",
       "<table border=\"1\" class=\"dataframe\">\n",
       "  <thead>\n",
       "    <tr style=\"text-align: right;\">\n",
       "      <th></th>\n",
       "      <th>urls</th>\n",
       "      <th>wanted</th>\n",
       "    </tr>\n",
       "  </thead>\n",
       "  <tbody>\n",
       "    <tr>\n",
       "      <th>0</th>\n",
       "      <td>https://medium.com/thrive-global/how-technolog...</td>\n",
       "      <td>y</td>\n",
       "    </tr>\n",
       "    <tr>\n",
       "      <th>1</th>\n",
       "      <td>https://deadspin.com/the-sherpa-of-new-york-18...</td>\n",
       "      <td>y</td>\n",
       "    </tr>\n",
       "    <tr>\n",
       "      <th>2</th>\n",
       "      <td>https://waitbutwhy.com/2016/09/marriage-decisi...</td>\n",
       "      <td>y</td>\n",
       "    </tr>\n",
       "    <tr>\n",
       "      <th>3</th>\n",
       "      <td>https://www.gq.com/story/golden-age-of-tax-fraud</td>\n",
       "      <td>y</td>\n",
       "    </tr>\n",
       "    <tr>\n",
       "      <th>4</th>\n",
       "      <td>https://www.newyorker.com/magazine/2017/04/03/...</td>\n",
       "      <td>y</td>\n",
       "    </tr>\n",
       "    <tr>\n",
       "      <th>5</th>\n",
       "      <td>https://www.menshealth.com/entertainment/a2252...</td>\n",
       "      <td>y</td>\n",
       "    </tr>\n",
       "    <tr>\n",
       "      <th>6</th>\n",
       "      <td>https://qz.com/884448/every-successful-relatio...</td>\n",
       "      <td>y</td>\n",
       "    </tr>\n",
       "    <tr>\n",
       "      <th>7</th>\n",
       "      <td>https://www.wired.com/story/forrest-fenn-treas...</td>\n",
       "      <td>y</td>\n",
       "    </tr>\n",
       "    <tr>\n",
       "      <th>8</th>\n",
       "      <td>http://www.espn.com/espn/feature/story/_/id/24...</td>\n",
       "      <td>y</td>\n",
       "    </tr>\n",
       "    <tr>\n",
       "      <th>9</th>\n",
       "      <td>https://www.huffingtonpost.com/entry/funniest-...</td>\n",
       "      <td>y</td>\n",
       "    </tr>\n",
       "    <tr>\n",
       "      <th>10</th>\n",
       "      <td>https://hbr.org/2015/09/why-more-and-more-comp...</td>\n",
       "      <td>y</td>\n",
       "    </tr>\n",
       "    <tr>\n",
       "      <th>11</th>\n",
       "      <td>https://hackernoon.com/the-ico-is-dead-long-li...</td>\n",
       "      <td>y</td>\n",
       "    </tr>\n",
       "    <tr>\n",
       "      <th>12</th>\n",
       "      <td>https://faithit.com/xplan-teens-bert-fulks/</td>\n",
       "      <td>y</td>\n",
       "    </tr>\n",
       "    <tr>\n",
       "      <th>13</th>\n",
       "      <td>https://www.nytimes.com/2018/02/16/opinion/sun...</td>\n",
       "      <td>y</td>\n",
       "    </tr>\n",
       "    <tr>\n",
       "      <th>14</th>\n",
       "      <td>https://www.newyorker.com/culture/culture-desk...</td>\n",
       "      <td>y</td>\n",
       "    </tr>\n",
       "    <tr>\n",
       "      <th>15</th>\n",
       "      <td>http://www.vanschneider.com/no-alcohol-no-coff...</td>\n",
       "      <td>y</td>\n",
       "    </tr>\n",
       "    <tr>\n",
       "      <th>16</th>\n",
       "      <td>https://www.telegraph.co.uk/science/2018/03/11...</td>\n",
       "      <td>y</td>\n",
       "    </tr>\n",
       "    <tr>\n",
       "      <th>17</th>\n",
       "      <td>https://qz.com/165716/how-i-made-sure-all-12-o...</td>\n",
       "      <td>y</td>\n",
       "    </tr>\n",
       "    <tr>\n",
       "      <th>18</th>\n",
       "      <td>https://medium.com/the-mission/the-greatest-sa...</td>\n",
       "      <td>y</td>\n",
       "    </tr>\n",
       "    <tr>\n",
       "      <th>19</th>\n",
       "      <td>https://www.fastcompany.com/3040223/when-it-cl...</td>\n",
       "      <td>y</td>\n",
       "    </tr>\n",
       "    <tr>\n",
       "      <th>20</th>\n",
       "      <td>https://dariusforoux.com/stop-spending-time-in...</td>\n",
       "      <td>y</td>\n",
       "    </tr>\n",
       "    <tr>\n",
       "      <th>21</th>\n",
       "      <td>https://stories.buffer.com/how-to-work-40-hour...</td>\n",
       "      <td>y</td>\n",
       "    </tr>\n",
       "    <tr>\n",
       "      <th>22</th>\n",
       "      <td>https://hbr.org/2013/05/the-unexpected-antidot...</td>\n",
       "      <td>y</td>\n",
       "    </tr>\n",
       "    <tr>\n",
       "      <th>23</th>\n",
       "      <td>https://www.nytimes.com/2017/08/16/style/moder...</td>\n",
       "      <td>y</td>\n",
       "    </tr>\n",
       "    <tr>\n",
       "      <th>24</th>\n",
       "      <td>https://www.sbnation.com/college-football/2014...</td>\n",
       "      <td>y</td>\n",
       "    </tr>\n",
       "    <tr>\n",
       "      <th>25</th>\n",
       "      <td>https://hbr.org/2014/07/dont-sell-a-product-se...</td>\n",
       "      <td>y</td>\n",
       "    </tr>\n",
       "    <tr>\n",
       "      <th>26</th>\n",
       "      <td>https://qz.com/527652/parents-let-your-kids-fa...</td>\n",
       "      <td>y</td>\n",
       "    </tr>\n",
       "    <tr>\n",
       "      <th>27</th>\n",
       "      <td>https://waypoint.vice.com/en_us/article/9kzwp8...</td>\n",
       "      <td>y</td>\n",
       "    </tr>\n",
       "    <tr>\n",
       "      <th>28</th>\n",
       "      <td>https://www.nytimes.com/2018/03/22/opinion/cyn...</td>\n",
       "      <td>y</td>\n",
       "    </tr>\n",
       "    <tr>\n",
       "      <th>29</th>\n",
       "      <td>https://medium.com/thrive-global/how-technolog...</td>\n",
       "      <td>n</td>\n",
       "    </tr>\n",
       "    <tr>\n",
       "      <th>30</th>\n",
       "      <td>https://deadspin.com/the-sherpa-of-new-york-18...</td>\n",
       "      <td>n</td>\n",
       "    </tr>\n",
       "    <tr>\n",
       "      <th>31</th>\n",
       "      <td>https://waitbutwhy.com/2016/09/marriage-decisi...</td>\n",
       "      <td>n</td>\n",
       "    </tr>\n",
       "    <tr>\n",
       "      <th>32</th>\n",
       "      <td>https://www.gq.com/story/golden-age-of-tax-fraud</td>\n",
       "      <td>n</td>\n",
       "    </tr>\n",
       "    <tr>\n",
       "      <th>33</th>\n",
       "      <td>https://www.newyorker.com/magazine/2017/04/03/...</td>\n",
       "      <td>n</td>\n",
       "    </tr>\n",
       "    <tr>\n",
       "      <th>34</th>\n",
       "      <td>https://www.menshealth.com/entertainment/a2252...</td>\n",
       "      <td>n</td>\n",
       "    </tr>\n",
       "    <tr>\n",
       "      <th>35</th>\n",
       "      <td>https://qz.com/884448/every-successful-relatio...</td>\n",
       "      <td>n</td>\n",
       "    </tr>\n",
       "    <tr>\n",
       "      <th>36</th>\n",
       "      <td>https://www.wired.com/story/forrest-fenn-treas...</td>\n",
       "      <td>n</td>\n",
       "    </tr>\n",
       "    <tr>\n",
       "      <th>37</th>\n",
       "      <td>http://www.espn.com/espn/feature/story/_/id/24...</td>\n",
       "      <td>n</td>\n",
       "    </tr>\n",
       "    <tr>\n",
       "      <th>38</th>\n",
       "      <td>https://www.huffingtonpost.com/entry/funniest-...</td>\n",
       "      <td>n</td>\n",
       "    </tr>\n",
       "    <tr>\n",
       "      <th>39</th>\n",
       "      <td>https://hbr.org/2015/09/why-more-and-more-comp...</td>\n",
       "      <td>n</td>\n",
       "    </tr>\n",
       "    <tr>\n",
       "      <th>40</th>\n",
       "      <td>https://hackernoon.com/the-ico-is-dead-long-li...</td>\n",
       "      <td>n</td>\n",
       "    </tr>\n",
       "    <tr>\n",
       "      <th>41</th>\n",
       "      <td>https://faithit.com/xplan-teens-bert-fulks/</td>\n",
       "      <td>n</td>\n",
       "    </tr>\n",
       "    <tr>\n",
       "      <th>42</th>\n",
       "      <td>https://www.nytimes.com/2018/02/16/opinion/sun...</td>\n",
       "      <td>n</td>\n",
       "    </tr>\n",
       "    <tr>\n",
       "      <th>43</th>\n",
       "      <td>https://www.newyorker.com/culture/culture-desk...</td>\n",
       "      <td>n</td>\n",
       "    </tr>\n",
       "    <tr>\n",
       "      <th>44</th>\n",
       "      <td>http://www.vanschneider.com/no-alcohol-no-coff...</td>\n",
       "      <td>n</td>\n",
       "    </tr>\n",
       "    <tr>\n",
       "      <th>45</th>\n",
       "      <td>https://www.telegraph.co.uk/science/2018/03/11...</td>\n",
       "      <td>n</td>\n",
       "    </tr>\n",
       "    <tr>\n",
       "      <th>46</th>\n",
       "      <td>https://qz.com/165716/how-i-made-sure-all-12-o...</td>\n",
       "      <td>n</td>\n",
       "    </tr>\n",
       "    <tr>\n",
       "      <th>47</th>\n",
       "      <td>https://medium.com/the-mission/the-greatest-sa...</td>\n",
       "      <td>n</td>\n",
       "    </tr>\n",
       "    <tr>\n",
       "      <th>48</th>\n",
       "      <td>https://www.fastcompany.com/3040223/when-it-cl...</td>\n",
       "      <td>n</td>\n",
       "    </tr>\n",
       "    <tr>\n",
       "      <th>49</th>\n",
       "      <td>https://dariusforoux.com/stop-spending-time-in...</td>\n",
       "      <td>n</td>\n",
       "    </tr>\n",
       "    <tr>\n",
       "      <th>50</th>\n",
       "      <td>https://stories.buffer.com/how-to-work-40-hour...</td>\n",
       "      <td>n</td>\n",
       "    </tr>\n",
       "    <tr>\n",
       "      <th>51</th>\n",
       "      <td>https://hbr.org/2013/05/the-unexpected-antidot...</td>\n",
       "      <td>n</td>\n",
       "    </tr>\n",
       "    <tr>\n",
       "      <th>52</th>\n",
       "      <td>https://www.nytimes.com/2017/08/16/style/moder...</td>\n",
       "      <td>n</td>\n",
       "    </tr>\n",
       "    <tr>\n",
       "      <th>53</th>\n",
       "      <td>https://www.sbnation.com/college-football/2014...</td>\n",
       "      <td>n</td>\n",
       "    </tr>\n",
       "    <tr>\n",
       "      <th>54</th>\n",
       "      <td>https://hbr.org/2014/07/dont-sell-a-product-se...</td>\n",
       "      <td>n</td>\n",
       "    </tr>\n",
       "    <tr>\n",
       "      <th>55</th>\n",
       "      <td>https://qz.com/527652/parents-let-your-kids-fa...</td>\n",
       "      <td>n</td>\n",
       "    </tr>\n",
       "    <tr>\n",
       "      <th>56</th>\n",
       "      <td>https://waypoint.vice.com/en_us/article/9kzwp8...</td>\n",
       "      <td>n</td>\n",
       "    </tr>\n",
       "    <tr>\n",
       "      <th>57</th>\n",
       "      <td>https://www.nytimes.com/2018/03/22/opinion/cyn...</td>\n",
       "      <td>n</td>\n",
       "    </tr>\n",
       "  </tbody>\n",
       "</table>\n",
       "</div>"
      ],
      "text/plain": [
       "                                                 urls wanted\n",
       "0   https://medium.com/thrive-global/how-technolog...      y\n",
       "1   https://deadspin.com/the-sherpa-of-new-york-18...      y\n",
       "2   https://waitbutwhy.com/2016/09/marriage-decisi...      y\n",
       "3    https://www.gq.com/story/golden-age-of-tax-fraud      y\n",
       "4   https://www.newyorker.com/magazine/2017/04/03/...      y\n",
       "5   https://www.menshealth.com/entertainment/a2252...      y\n",
       "6   https://qz.com/884448/every-successful-relatio...      y\n",
       "7   https://www.wired.com/story/forrest-fenn-treas...      y\n",
       "8   http://www.espn.com/espn/feature/story/_/id/24...      y\n",
       "9   https://www.huffingtonpost.com/entry/funniest-...      y\n",
       "10  https://hbr.org/2015/09/why-more-and-more-comp...      y\n",
       "11  https://hackernoon.com/the-ico-is-dead-long-li...      y\n",
       "12        https://faithit.com/xplan-teens-bert-fulks/      y\n",
       "13  https://www.nytimes.com/2018/02/16/opinion/sun...      y\n",
       "14  https://www.newyorker.com/culture/culture-desk...      y\n",
       "15  http://www.vanschneider.com/no-alcohol-no-coff...      y\n",
       "16  https://www.telegraph.co.uk/science/2018/03/11...      y\n",
       "17  https://qz.com/165716/how-i-made-sure-all-12-o...      y\n",
       "18  https://medium.com/the-mission/the-greatest-sa...      y\n",
       "19  https://www.fastcompany.com/3040223/when-it-cl...      y\n",
       "20  https://dariusforoux.com/stop-spending-time-in...      y\n",
       "21  https://stories.buffer.com/how-to-work-40-hour...      y\n",
       "22  https://hbr.org/2013/05/the-unexpected-antidot...      y\n",
       "23  https://www.nytimes.com/2017/08/16/style/moder...      y\n",
       "24  https://www.sbnation.com/college-football/2014...      y\n",
       "25  https://hbr.org/2014/07/dont-sell-a-product-se...      y\n",
       "26  https://qz.com/527652/parents-let-your-kids-fa...      y\n",
       "27  https://waypoint.vice.com/en_us/article/9kzwp8...      y\n",
       "28  https://www.nytimes.com/2018/03/22/opinion/cyn...      y\n",
       "29  https://medium.com/thrive-global/how-technolog...      n\n",
       "30  https://deadspin.com/the-sherpa-of-new-york-18...      n\n",
       "31  https://waitbutwhy.com/2016/09/marriage-decisi...      n\n",
       "32   https://www.gq.com/story/golden-age-of-tax-fraud      n\n",
       "33  https://www.newyorker.com/magazine/2017/04/03/...      n\n",
       "34  https://www.menshealth.com/entertainment/a2252...      n\n",
       "35  https://qz.com/884448/every-successful-relatio...      n\n",
       "36  https://www.wired.com/story/forrest-fenn-treas...      n\n",
       "37  http://www.espn.com/espn/feature/story/_/id/24...      n\n",
       "38  https://www.huffingtonpost.com/entry/funniest-...      n\n",
       "39  https://hbr.org/2015/09/why-more-and-more-comp...      n\n",
       "40  https://hackernoon.com/the-ico-is-dead-long-li...      n\n",
       "41        https://faithit.com/xplan-teens-bert-fulks/      n\n",
       "42  https://www.nytimes.com/2018/02/16/opinion/sun...      n\n",
       "43  https://www.newyorker.com/culture/culture-desk...      n\n",
       "44  http://www.vanschneider.com/no-alcohol-no-coff...      n\n",
       "45  https://www.telegraph.co.uk/science/2018/03/11...      n\n",
       "46  https://qz.com/165716/how-i-made-sure-all-12-o...      n\n",
       "47  https://medium.com/the-mission/the-greatest-sa...      n\n",
       "48  https://www.fastcompany.com/3040223/when-it-cl...      n\n",
       "49  https://dariusforoux.com/stop-spending-time-in...      n\n",
       "50  https://stories.buffer.com/how-to-work-40-hour...      n\n",
       "51  https://hbr.org/2013/05/the-unexpected-antidot...      n\n",
       "52  https://www.nytimes.com/2017/08/16/style/moder...      n\n",
       "53  https://www.sbnation.com/college-football/2014...      n\n",
       "54  https://hbr.org/2014/07/dont-sell-a-product-se...      n\n",
       "55  https://qz.com/527652/parents-let-your-kids-fa...      n\n",
       "56  https://waypoint.vice.com/en_us/article/9kzwp8...      n\n",
       "57  https://www.nytimes.com/2018/03/22/opinion/cyn...      n"
      ]
     },
     "execution_count": 22,
     "metadata": {},
     "output_type": "execute_result"
    }
   ],
   "source": [
    "df"
   ]
  },
  {
   "cell_type": "code",
   "execution_count": 23,
   "metadata": {},
   "outputs": [],
   "source": [
    "def get_html(url):\n",
    "    resp = requests.get('https://api.embedly.com/1/extract?url=' + url + '&key=')\n",
    "    ctnt = json.loads(resp.text).get('content')\n",
    "    return ctnt"
   ]
  },
  {
   "cell_type": "code",
   "execution_count": 24,
   "metadata": {},
   "outputs": [],
   "source": [
    "df.loc[:, 'html'] = df['urls'].map(get_html)"
   ]
  },
  {
   "cell_type": "code",
   "execution_count": 25,
   "metadata": {},
   "outputs": [
    {
     "data": {
      "text/html": [
       "<div>\n",
       "<style scoped>\n",
       "    .dataframe tbody tr th:only-of-type {\n",
       "        vertical-align: middle;\n",
       "    }\n",
       "\n",
       "    .dataframe tbody tr th {\n",
       "        vertical-align: top;\n",
       "    }\n",
       "\n",
       "    .dataframe thead th {\n",
       "        text-align: right;\n",
       "    }\n",
       "</style>\n",
       "<table border=\"1\" class=\"dataframe\">\n",
       "  <thead>\n",
       "    <tr style=\"text-align: right;\">\n",
       "      <th></th>\n",
       "      <th>urls</th>\n",
       "      <th>wanted</th>\n",
       "      <th>html</th>\n",
       "    </tr>\n",
       "  </thead>\n",
       "  <tbody>\n",
       "    <tr>\n",
       "      <th>0</th>\n",
       "      <td>https://medium.com/thrive-global/how-technolog...</td>\n",
       "      <td>y</td>\n",
       "      <td>&lt;div&gt;\\n&lt;blockquote&gt;\"It's easier to fool people...</td>\n",
       "    </tr>\n",
       "    <tr>\n",
       "      <th>1</th>\n",
       "      <td>https://deadspin.com/the-sherpa-of-new-york-18...</td>\n",
       "      <td>y</td>\n",
       "      <td>&lt;div&gt;\\n&lt;p&gt;\"This was the original price,\" Serap...</td>\n",
       "    </tr>\n",
       "    <tr>\n",
       "      <th>2</th>\n",
       "      <td>https://waitbutwhy.com/2016/09/marriage-decisi...</td>\n",
       "      <td>y</td>\n",
       "      <td>&lt;div&gt;\\n&lt;p&gt;There's not really any normal way to...</td>\n",
       "    </tr>\n",
       "    <tr>\n",
       "      <th>3</th>\n",
       "      <td>https://www.gq.com/story/golden-age-of-tax-fraud</td>\n",
       "      <td>y</td>\n",
       "      <td>&lt;div&gt;\\n&lt;p&gt;Are you an independent contractor? H...</td>\n",
       "    </tr>\n",
       "    <tr>\n",
       "      <th>4</th>\n",
       "      <td>https://www.newyorker.com/magazine/2017/04/03/...</td>\n",
       "      <td>y</td>\n",
       "      <td>&lt;div&gt;\\n&lt;h2&gt;In Sweden, hundreds of refugee chil...</td>\n",
       "    </tr>\n",
       "    <tr>\n",
       "      <th>5</th>\n",
       "      <td>https://www.menshealth.com/entertainment/a2252...</td>\n",
       "      <td>y</td>\n",
       "      <td>&lt;div&gt;\\n&lt;iframe src=\"https://hips.hearstapps.co...</td>\n",
       "    </tr>\n",
       "    <tr>\n",
       "      <th>6</th>\n",
       "      <td>https://qz.com/884448/every-successful-relatio...</td>\n",
       "      <td>y</td>\n",
       "      <td>&lt;div&gt;\\n&lt;p&gt;Hey, guess what? I got married two w...</td>\n",
       "    </tr>\n",
       "    <tr>\n",
       "      <th>7</th>\n",
       "      <td>https://www.wired.com/story/forrest-fenn-treas...</td>\n",
       "      <td>y</td>\n",
       "      <td>&lt;div&gt;\\n&lt;section&gt;&lt;div&gt;\\n&lt;p&gt;Everybody is searchi...</td>\n",
       "    </tr>\n",
       "    <tr>\n",
       "      <th>8</th>\n",
       "      <td>http://www.espn.com/espn/feature/story/_/id/24...</td>\n",
       "      <td>y</td>\n",
       "      <td>&lt;div&gt;\\n&lt;p&gt;&lt;b&gt;HE MADE A&lt;/b&gt; real effort to keep...</td>\n",
       "    </tr>\n",
       "    <tr>\n",
       "      <th>9</th>\n",
       "      <td>https://www.huffingtonpost.com/entry/funniest-...</td>\n",
       "      <td>y</td>\n",
       "      <td>&lt;div&gt;\\n&lt;p&gt;&lt;a href=\"https://www.huffingtonpost....</td>\n",
       "    </tr>\n",
       "    <tr>\n",
       "      <th>10</th>\n",
       "      <td>https://hbr.org/2015/09/why-more-and-more-comp...</td>\n",
       "      <td>y</td>\n",
       "      <td>&lt;div&gt;\\n&lt;img src=\"https://hbr.org/resources/ima...</td>\n",
       "    </tr>\n",
       "    <tr>\n",
       "      <th>11</th>\n",
       "      <td>https://hackernoon.com/the-ico-is-dead-long-li...</td>\n",
       "      <td>y</td>\n",
       "      <td>&lt;div&gt;\\n&lt;figure&gt;&lt;img src=\"https://cdn-images-1....</td>\n",
       "    </tr>\n",
       "    <tr>\n",
       "      <th>12</th>\n",
       "      <td>https://faithit.com/xplan-teens-bert-fulks/</td>\n",
       "      <td>y</td>\n",
       "      <td>&lt;div&gt;\\n&lt;p&gt;X marks the spot! This Dad devised a...</td>\n",
       "    </tr>\n",
       "    <tr>\n",
       "      <th>13</th>\n",
       "      <td>https://www.nytimes.com/2018/02/16/opinion/sun...</td>\n",
       "      <td>y</td>\n",
       "      <td>&lt;div&gt;\\n&lt;img src=\"https://static01.nyt.com/imag...</td>\n",
       "    </tr>\n",
       "    <tr>\n",
       "      <th>14</th>\n",
       "      <td>https://www.newyorker.com/culture/culture-desk...</td>\n",
       "      <td>y</td>\n",
       "      <td>&lt;div&gt;\\n&lt;div&gt;\\n&lt;p&gt;\\n&lt;/p&gt;&lt;div&gt;&lt;figure&gt;&lt;p&gt;&lt;img sr...</td>\n",
       "    </tr>\n",
       "    <tr>\n",
       "      <th>15</th>\n",
       "      <td>http://www.vanschneider.com/no-alcohol-no-coff...</td>\n",
       "      <td>y</td>\n",
       "      <td>None</td>\n",
       "    </tr>\n",
       "    <tr>\n",
       "      <th>16</th>\n",
       "      <td>https://www.telegraph.co.uk/science/2018/03/11...</td>\n",
       "      <td>y</td>\n",
       "      <td>&lt;div&gt;\\n&lt;p&gt;Prescribing knitting could save the ...</td>\n",
       "    </tr>\n",
       "    <tr>\n",
       "      <th>17</th>\n",
       "      <td>https://qz.com/165716/how-i-made-sure-all-12-o...</td>\n",
       "      <td>y</td>\n",
       "      <td>&lt;div&gt;\\n&lt;p&gt;My wife and I had 12 children over t...</td>\n",
       "    </tr>\n",
       "    <tr>\n",
       "      <th>18</th>\n",
       "      <td>https://medium.com/the-mission/the-greatest-sa...</td>\n",
       "      <td>y</td>\n",
       "      <td>&lt;div&gt;\\n&lt;figure&gt;&lt;img src=\"https://cdn-images-1....</td>\n",
       "    </tr>\n",
       "    <tr>\n",
       "      <th>19</th>\n",
       "      <td>https://www.fastcompany.com/3040223/when-it-cl...</td>\n",
       "      <td>y</td>\n",
       "      <td>&lt;div&gt;\\n&lt;div&gt;\\n&lt;p&gt;Every September, largely unbe...</td>\n",
       "    </tr>\n",
       "    <tr>\n",
       "      <th>20</th>\n",
       "      <td>https://dariusforoux.com/stop-spending-time-in...</td>\n",
       "      <td>y</td>\n",
       "      <td>&lt;div&gt;\\n&lt;p&gt;&lt;a href=\"https://dariusforoux.com/wp...</td>\n",
       "    </tr>\n",
       "    <tr>\n",
       "      <th>21</th>\n",
       "      <td>https://stories.buffer.com/how-to-work-40-hour...</td>\n",
       "      <td>y</td>\n",
       "      <td>&lt;div&gt;\\n&lt;em&gt;I used to work &lt;/em&gt;&lt;em&gt;&amp;#8202;-&amp;#8...</td>\n",
       "    </tr>\n",
       "    <tr>\n",
       "      <th>22</th>\n",
       "      <td>https://hbr.org/2013/05/the-unexpected-antidot...</td>\n",
       "      <td>y</td>\n",
       "      <td>&lt;div&gt;\\n&lt;p&gt;A recent early morning hike in Malib...</td>\n",
       "    </tr>\n",
       "    <tr>\n",
       "      <th>23</th>\n",
       "      <td>https://www.nytimes.com/2017/08/16/style/moder...</td>\n",
       "      <td>y</td>\n",
       "      <td>None</td>\n",
       "    </tr>\n",
       "    <tr>\n",
       "      <th>24</th>\n",
       "      <td>https://www.sbnation.com/college-football/2014...</td>\n",
       "      <td>y</td>\n",
       "      <td>&lt;div&gt;\\n&lt;p&gt;The Bag Man excuses himself to make ...</td>\n",
       "    </tr>\n",
       "    <tr>\n",
       "      <th>25</th>\n",
       "      <td>https://hbr.org/2014/07/dont-sell-a-product-se...</td>\n",
       "      <td>y</td>\n",
       "      <td>&lt;div&gt;\\n&lt;p&gt;We all know the story.  A team creat...</td>\n",
       "    </tr>\n",
       "    <tr>\n",
       "      <th>26</th>\n",
       "      <td>https://qz.com/527652/parents-let-your-kids-fa...</td>\n",
       "      <td>y</td>\n",
       "      <td>&lt;div&gt;\\n&lt;p&gt;Your teenager has a science project ...</td>\n",
       "    </tr>\n",
       "    <tr>\n",
       "      <th>27</th>\n",
       "      <td>https://waypoint.vice.com/en_us/article/9kzwp8...</td>\n",
       "      <td>y</td>\n",
       "      <td>&lt;div&gt;\\n&lt;p&gt;&lt;iframe src=\"https://video-images.vi...</td>\n",
       "    </tr>\n",
       "    <tr>\n",
       "      <th>28</th>\n",
       "      <td>https://www.nytimes.com/2018/03/22/opinion/cyn...</td>\n",
       "      <td>y</td>\n",
       "      <td>&lt;div&gt;\\n&lt;a href=\"http://www.nytimes.com/by/fran...</td>\n",
       "    </tr>\n",
       "    <tr>\n",
       "      <th>29</th>\n",
       "      <td>https://medium.com/thrive-global/how-technolog...</td>\n",
       "      <td>n</td>\n",
       "      <td>&lt;div&gt;\\n&lt;blockquote&gt;\"It's easier to fool people...</td>\n",
       "    </tr>\n",
       "    <tr>\n",
       "      <th>30</th>\n",
       "      <td>https://deadspin.com/the-sherpa-of-new-york-18...</td>\n",
       "      <td>n</td>\n",
       "      <td>&lt;div&gt;\\n&lt;p&gt;\"This was the original price,\" Serap...</td>\n",
       "    </tr>\n",
       "    <tr>\n",
       "      <th>31</th>\n",
       "      <td>https://waitbutwhy.com/2016/09/marriage-decisi...</td>\n",
       "      <td>n</td>\n",
       "      <td>&lt;div&gt;\\n&lt;p&gt;There's not really any normal way to...</td>\n",
       "    </tr>\n",
       "    <tr>\n",
       "      <th>32</th>\n",
       "      <td>https://www.gq.com/story/golden-age-of-tax-fraud</td>\n",
       "      <td>n</td>\n",
       "      <td>&lt;div&gt;\\n&lt;p&gt;Are you an independent contractor? H...</td>\n",
       "    </tr>\n",
       "    <tr>\n",
       "      <th>33</th>\n",
       "      <td>https://www.newyorker.com/magazine/2017/04/03/...</td>\n",
       "      <td>n</td>\n",
       "      <td>&lt;div&gt;\\n&lt;h2&gt;In Sweden, hundreds of refugee chil...</td>\n",
       "    </tr>\n",
       "    <tr>\n",
       "      <th>34</th>\n",
       "      <td>https://www.menshealth.com/entertainment/a2252...</td>\n",
       "      <td>n</td>\n",
       "      <td>&lt;div&gt;\\n&lt;iframe src=\"https://hips.hearstapps.co...</td>\n",
       "    </tr>\n",
       "    <tr>\n",
       "      <th>35</th>\n",
       "      <td>https://qz.com/884448/every-successful-relatio...</td>\n",
       "      <td>n</td>\n",
       "      <td>&lt;div&gt;\\n&lt;p&gt;Hey, guess what? I got married two w...</td>\n",
       "    </tr>\n",
       "    <tr>\n",
       "      <th>36</th>\n",
       "      <td>https://www.wired.com/story/forrest-fenn-treas...</td>\n",
       "      <td>n</td>\n",
       "      <td>&lt;div&gt;\\n&lt;section&gt;&lt;div&gt;\\n&lt;p&gt;Everybody is searchi...</td>\n",
       "    </tr>\n",
       "    <tr>\n",
       "      <th>37</th>\n",
       "      <td>http://www.espn.com/espn/feature/story/_/id/24...</td>\n",
       "      <td>n</td>\n",
       "      <td>&lt;div&gt;\\n&lt;p&gt;&lt;b&gt;HE MADE A&lt;/b&gt; real effort to keep...</td>\n",
       "    </tr>\n",
       "    <tr>\n",
       "      <th>38</th>\n",
       "      <td>https://www.huffingtonpost.com/entry/funniest-...</td>\n",
       "      <td>n</td>\n",
       "      <td>&lt;div&gt;\\n&lt;p&gt;&lt;a href=\"https://www.huffingtonpost....</td>\n",
       "    </tr>\n",
       "    <tr>\n",
       "      <th>39</th>\n",
       "      <td>https://hbr.org/2015/09/why-more-and-more-comp...</td>\n",
       "      <td>n</td>\n",
       "      <td>&lt;div&gt;\\n&lt;img src=\"https://hbr.org/resources/ima...</td>\n",
       "    </tr>\n",
       "    <tr>\n",
       "      <th>40</th>\n",
       "      <td>https://hackernoon.com/the-ico-is-dead-long-li...</td>\n",
       "      <td>n</td>\n",
       "      <td>&lt;div&gt;\\n&lt;figure&gt;&lt;img src=\"https://cdn-images-1....</td>\n",
       "    </tr>\n",
       "    <tr>\n",
       "      <th>41</th>\n",
       "      <td>https://faithit.com/xplan-teens-bert-fulks/</td>\n",
       "      <td>n</td>\n",
       "      <td>&lt;div&gt;\\n&lt;p&gt;X marks the spot! This Dad devised a...</td>\n",
       "    </tr>\n",
       "    <tr>\n",
       "      <th>42</th>\n",
       "      <td>https://www.nytimes.com/2018/02/16/opinion/sun...</td>\n",
       "      <td>n</td>\n",
       "      <td>&lt;div&gt;\\n&lt;img src=\"https://static01.nyt.com/imag...</td>\n",
       "    </tr>\n",
       "    <tr>\n",
       "      <th>43</th>\n",
       "      <td>https://www.newyorker.com/culture/culture-desk...</td>\n",
       "      <td>n</td>\n",
       "      <td>&lt;div&gt;\\n&lt;div&gt;\\n&lt;p&gt;\\n&lt;/p&gt;&lt;div&gt;&lt;figure&gt;&lt;p&gt;&lt;img sr...</td>\n",
       "    </tr>\n",
       "    <tr>\n",
       "      <th>44</th>\n",
       "      <td>http://www.vanschneider.com/no-alcohol-no-coff...</td>\n",
       "      <td>n</td>\n",
       "      <td>None</td>\n",
       "    </tr>\n",
       "    <tr>\n",
       "      <th>45</th>\n",
       "      <td>https://www.telegraph.co.uk/science/2018/03/11...</td>\n",
       "      <td>n</td>\n",
       "      <td>&lt;div&gt;\\n&lt;p&gt;Prescribing knitting could save the ...</td>\n",
       "    </tr>\n",
       "    <tr>\n",
       "      <th>46</th>\n",
       "      <td>https://qz.com/165716/how-i-made-sure-all-12-o...</td>\n",
       "      <td>n</td>\n",
       "      <td>&lt;div&gt;\\n&lt;p&gt;My wife and I had 12 children over t...</td>\n",
       "    </tr>\n",
       "    <tr>\n",
       "      <th>47</th>\n",
       "      <td>https://medium.com/the-mission/the-greatest-sa...</td>\n",
       "      <td>n</td>\n",
       "      <td>&lt;div&gt;\\n&lt;figure&gt;&lt;img src=\"https://cdn-images-1....</td>\n",
       "    </tr>\n",
       "    <tr>\n",
       "      <th>48</th>\n",
       "      <td>https://www.fastcompany.com/3040223/when-it-cl...</td>\n",
       "      <td>n</td>\n",
       "      <td>&lt;div&gt;\\n&lt;div&gt;\\n&lt;p&gt;Every September, largely unbe...</td>\n",
       "    </tr>\n",
       "    <tr>\n",
       "      <th>49</th>\n",
       "      <td>https://dariusforoux.com/stop-spending-time-in...</td>\n",
       "      <td>n</td>\n",
       "      <td>&lt;div&gt;\\n&lt;p&gt;&lt;a href=\"https://dariusforoux.com/wp...</td>\n",
       "    </tr>\n",
       "    <tr>\n",
       "      <th>50</th>\n",
       "      <td>https://stories.buffer.com/how-to-work-40-hour...</td>\n",
       "      <td>n</td>\n",
       "      <td>&lt;div&gt;\\n&lt;em&gt;I used to work &lt;/em&gt;&lt;em&gt;&amp;#8202;-&amp;#8...</td>\n",
       "    </tr>\n",
       "    <tr>\n",
       "      <th>51</th>\n",
       "      <td>https://hbr.org/2013/05/the-unexpected-antidot...</td>\n",
       "      <td>n</td>\n",
       "      <td>&lt;div&gt;\\n&lt;p&gt;A recent early morning hike in Malib...</td>\n",
       "    </tr>\n",
       "    <tr>\n",
       "      <th>52</th>\n",
       "      <td>https://www.nytimes.com/2017/08/16/style/moder...</td>\n",
       "      <td>n</td>\n",
       "      <td>None</td>\n",
       "    </tr>\n",
       "    <tr>\n",
       "      <th>53</th>\n",
       "      <td>https://www.sbnation.com/college-football/2014...</td>\n",
       "      <td>n</td>\n",
       "      <td>&lt;div&gt;\\n&lt;p&gt;The Bag Man excuses himself to make ...</td>\n",
       "    </tr>\n",
       "    <tr>\n",
       "      <th>54</th>\n",
       "      <td>https://hbr.org/2014/07/dont-sell-a-product-se...</td>\n",
       "      <td>n</td>\n",
       "      <td>&lt;div&gt;\\n&lt;p&gt;We all know the story.  A team creat...</td>\n",
       "    </tr>\n",
       "    <tr>\n",
       "      <th>55</th>\n",
       "      <td>https://qz.com/527652/parents-let-your-kids-fa...</td>\n",
       "      <td>n</td>\n",
       "      <td>&lt;div&gt;\\n&lt;p&gt;Your teenager has a science project ...</td>\n",
       "    </tr>\n",
       "    <tr>\n",
       "      <th>56</th>\n",
       "      <td>https://waypoint.vice.com/en_us/article/9kzwp8...</td>\n",
       "      <td>n</td>\n",
       "      <td>&lt;div&gt;\\n&lt;p&gt;&lt;iframe src=\"https://video-images.vi...</td>\n",
       "    </tr>\n",
       "    <tr>\n",
       "      <th>57</th>\n",
       "      <td>https://www.nytimes.com/2018/03/22/opinion/cyn...</td>\n",
       "      <td>n</td>\n",
       "      <td>&lt;div&gt;\\n&lt;a href=\"http://www.nytimes.com/by/fran...</td>\n",
       "    </tr>\n",
       "  </tbody>\n",
       "</table>\n",
       "</div>"
      ],
      "text/plain": [
       "                                                 urls wanted  \\\n",
       "0   https://medium.com/thrive-global/how-technolog...      y   \n",
       "1   https://deadspin.com/the-sherpa-of-new-york-18...      y   \n",
       "2   https://waitbutwhy.com/2016/09/marriage-decisi...      y   \n",
       "3    https://www.gq.com/story/golden-age-of-tax-fraud      y   \n",
       "4   https://www.newyorker.com/magazine/2017/04/03/...      y   \n",
       "5   https://www.menshealth.com/entertainment/a2252...      y   \n",
       "6   https://qz.com/884448/every-successful-relatio...      y   \n",
       "7   https://www.wired.com/story/forrest-fenn-treas...      y   \n",
       "8   http://www.espn.com/espn/feature/story/_/id/24...      y   \n",
       "9   https://www.huffingtonpost.com/entry/funniest-...      y   \n",
       "10  https://hbr.org/2015/09/why-more-and-more-comp...      y   \n",
       "11  https://hackernoon.com/the-ico-is-dead-long-li...      y   \n",
       "12        https://faithit.com/xplan-teens-bert-fulks/      y   \n",
       "13  https://www.nytimes.com/2018/02/16/opinion/sun...      y   \n",
       "14  https://www.newyorker.com/culture/culture-desk...      y   \n",
       "15  http://www.vanschneider.com/no-alcohol-no-coff...      y   \n",
       "16  https://www.telegraph.co.uk/science/2018/03/11...      y   \n",
       "17  https://qz.com/165716/how-i-made-sure-all-12-o...      y   \n",
       "18  https://medium.com/the-mission/the-greatest-sa...      y   \n",
       "19  https://www.fastcompany.com/3040223/when-it-cl...      y   \n",
       "20  https://dariusforoux.com/stop-spending-time-in...      y   \n",
       "21  https://stories.buffer.com/how-to-work-40-hour...      y   \n",
       "22  https://hbr.org/2013/05/the-unexpected-antidot...      y   \n",
       "23  https://www.nytimes.com/2017/08/16/style/moder...      y   \n",
       "24  https://www.sbnation.com/college-football/2014...      y   \n",
       "25  https://hbr.org/2014/07/dont-sell-a-product-se...      y   \n",
       "26  https://qz.com/527652/parents-let-your-kids-fa...      y   \n",
       "27  https://waypoint.vice.com/en_us/article/9kzwp8...      y   \n",
       "28  https://www.nytimes.com/2018/03/22/opinion/cyn...      y   \n",
       "29  https://medium.com/thrive-global/how-technolog...      n   \n",
       "30  https://deadspin.com/the-sherpa-of-new-york-18...      n   \n",
       "31  https://waitbutwhy.com/2016/09/marriage-decisi...      n   \n",
       "32   https://www.gq.com/story/golden-age-of-tax-fraud      n   \n",
       "33  https://www.newyorker.com/magazine/2017/04/03/...      n   \n",
       "34  https://www.menshealth.com/entertainment/a2252...      n   \n",
       "35  https://qz.com/884448/every-successful-relatio...      n   \n",
       "36  https://www.wired.com/story/forrest-fenn-treas...      n   \n",
       "37  http://www.espn.com/espn/feature/story/_/id/24...      n   \n",
       "38  https://www.huffingtonpost.com/entry/funniest-...      n   \n",
       "39  https://hbr.org/2015/09/why-more-and-more-comp...      n   \n",
       "40  https://hackernoon.com/the-ico-is-dead-long-li...      n   \n",
       "41        https://faithit.com/xplan-teens-bert-fulks/      n   \n",
       "42  https://www.nytimes.com/2018/02/16/opinion/sun...      n   \n",
       "43  https://www.newyorker.com/culture/culture-desk...      n   \n",
       "44  http://www.vanschneider.com/no-alcohol-no-coff...      n   \n",
       "45  https://www.telegraph.co.uk/science/2018/03/11...      n   \n",
       "46  https://qz.com/165716/how-i-made-sure-all-12-o...      n   \n",
       "47  https://medium.com/the-mission/the-greatest-sa...      n   \n",
       "48  https://www.fastcompany.com/3040223/when-it-cl...      n   \n",
       "49  https://dariusforoux.com/stop-spending-time-in...      n   \n",
       "50  https://stories.buffer.com/how-to-work-40-hour...      n   \n",
       "51  https://hbr.org/2013/05/the-unexpected-antidot...      n   \n",
       "52  https://www.nytimes.com/2017/08/16/style/moder...      n   \n",
       "53  https://www.sbnation.com/college-football/2014...      n   \n",
       "54  https://hbr.org/2014/07/dont-sell-a-product-se...      n   \n",
       "55  https://qz.com/527652/parents-let-your-kids-fa...      n   \n",
       "56  https://waypoint.vice.com/en_us/article/9kzwp8...      n   \n",
       "57  https://www.nytimes.com/2018/03/22/opinion/cyn...      n   \n",
       "\n",
       "                                                 html  \n",
       "0   <div>\\n<blockquote>\"It's easier to fool people...  \n",
       "1   <div>\\n<p>\"This was the original price,\" Serap...  \n",
       "2   <div>\\n<p>There's not really any normal way to...  \n",
       "3   <div>\\n<p>Are you an independent contractor? H...  \n",
       "4   <div>\\n<h2>In Sweden, hundreds of refugee chil...  \n",
       "5   <div>\\n<iframe src=\"https://hips.hearstapps.co...  \n",
       "6   <div>\\n<p>Hey, guess what? I got married two w...  \n",
       "7   <div>\\n<section><div>\\n<p>Everybody is searchi...  \n",
       "8   <div>\\n<p><b>HE MADE A</b> real effort to keep...  \n",
       "9   <div>\\n<p><a href=\"https://www.huffingtonpost....  \n",
       "10  <div>\\n<img src=\"https://hbr.org/resources/ima...  \n",
       "11  <div>\\n<figure><img src=\"https://cdn-images-1....  \n",
       "12  <div>\\n<p>X marks the spot! This Dad devised a...  \n",
       "13  <div>\\n<img src=\"https://static01.nyt.com/imag...  \n",
       "14  <div>\\n<div>\\n<p>\\n</p><div><figure><p><img sr...  \n",
       "15                                               None  \n",
       "16  <div>\\n<p>Prescribing knitting could save the ...  \n",
       "17  <div>\\n<p>My wife and I had 12 children over t...  \n",
       "18  <div>\\n<figure><img src=\"https://cdn-images-1....  \n",
       "19  <div>\\n<div>\\n<p>Every September, largely unbe...  \n",
       "20  <div>\\n<p><a href=\"https://dariusforoux.com/wp...  \n",
       "21  <div>\\n<em>I used to work </em><em>&#8202;-&#8...  \n",
       "22  <div>\\n<p>A recent early morning hike in Malib...  \n",
       "23                                               None  \n",
       "24  <div>\\n<p>The Bag Man excuses himself to make ...  \n",
       "25  <div>\\n<p>We all know the story.  A team creat...  \n",
       "26  <div>\\n<p>Your teenager has a science project ...  \n",
       "27  <div>\\n<p><iframe src=\"https://video-images.vi...  \n",
       "28  <div>\\n<a href=\"http://www.nytimes.com/by/fran...  \n",
       "29  <div>\\n<blockquote>\"It's easier to fool people...  \n",
       "30  <div>\\n<p>\"This was the original price,\" Serap...  \n",
       "31  <div>\\n<p>There's not really any normal way to...  \n",
       "32  <div>\\n<p>Are you an independent contractor? H...  \n",
       "33  <div>\\n<h2>In Sweden, hundreds of refugee chil...  \n",
       "34  <div>\\n<iframe src=\"https://hips.hearstapps.co...  \n",
       "35  <div>\\n<p>Hey, guess what? I got married two w...  \n",
       "36  <div>\\n<section><div>\\n<p>Everybody is searchi...  \n",
       "37  <div>\\n<p><b>HE MADE A</b> real effort to keep...  \n",
       "38  <div>\\n<p><a href=\"https://www.huffingtonpost....  \n",
       "39  <div>\\n<img src=\"https://hbr.org/resources/ima...  \n",
       "40  <div>\\n<figure><img src=\"https://cdn-images-1....  \n",
       "41  <div>\\n<p>X marks the spot! This Dad devised a...  \n",
       "42  <div>\\n<img src=\"https://static01.nyt.com/imag...  \n",
       "43  <div>\\n<div>\\n<p>\\n</p><div><figure><p><img sr...  \n",
       "44                                               None  \n",
       "45  <div>\\n<p>Prescribing knitting could save the ...  \n",
       "46  <div>\\n<p>My wife and I had 12 children over t...  \n",
       "47  <div>\\n<figure><img src=\"https://cdn-images-1....  \n",
       "48  <div>\\n<div>\\n<p>Every September, largely unbe...  \n",
       "49  <div>\\n<p><a href=\"https://dariusforoux.com/wp...  \n",
       "50  <div>\\n<em>I used to work </em><em>&#8202;-&#8...  \n",
       "51  <div>\\n<p>A recent early morning hike in Malib...  \n",
       "52                                               None  \n",
       "53  <div>\\n<p>The Bag Man excuses himself to make ...  \n",
       "54  <div>\\n<p>We all know the story.  A team creat...  \n",
       "55  <div>\\n<p>Your teenager has a science project ...  \n",
       "56  <div>\\n<p><iframe src=\"https://video-images.vi...  \n",
       "57  <div>\\n<a href=\"http://www.nytimes.com/by/fran...  "
      ]
     },
     "execution_count": 25,
     "metadata": {},
     "output_type": "execute_result"
    }
   ],
   "source": [
    "df"
   ]
  },
  {
   "cell_type": "code",
   "execution_count": 26,
   "metadata": {},
   "outputs": [
    {
     "data": {
      "text/plain": [
       "'<div>\\n<blockquote>\"It\\'s easier to fool people than to convince them that they\\'ve been fooled.\"&#8202'"
      ]
     },
     "execution_count": 26,
     "metadata": {},
     "output_type": "execute_result"
    }
   ],
   "source": [
    "df['html'][0][:100]"
   ]
  },
  {
   "cell_type": "markdown",
   "metadata": {},
   "source": [
    "Drop NONE"
   ]
  },
  {
   "cell_type": "code",
   "execution_count": 27,
   "metadata": {},
   "outputs": [],
   "source": [
    "df_clean = df[df.html.isnull() == False]"
   ]
  },
  {
   "cell_type": "code",
   "execution_count": null,
   "metadata": {},
   "outputs": [],
   "source": []
  },
  {
   "cell_type": "code",
   "execution_count": null,
   "metadata": {},
   "outputs": [],
   "source": []
  },
  {
   "cell_type": "code",
   "execution_count": 28,
   "metadata": {},
   "outputs": [],
   "source": [
    "soup = BeautifulSoup(df_clean['html'][0], 'html.parser')"
   ]
  },
  {
   "cell_type": "code",
   "execution_count": 29,
   "metadata": {},
   "outputs": [
    {
     "data": {
      "text/plain": [
       "'\\n\"It\\'s easier to fool people than to convince them that they\\'ve been fooled.\"\\u200a-\\u200aUnknown.\\nI\\'m an expe'"
      ]
     },
     "execution_count": 29,
     "metadata": {},
     "output_type": "execute_result"
    }
   ],
   "source": [
    "soup.get_text()[:100]"
   ]
  },
  {
   "cell_type": "code",
   "execution_count": 30,
   "metadata": {},
   "outputs": [],
   "source": [
    "def get_text(x):\n",
    "    soup = BeautifulSoup(x, 'html.parser')\n",
    "    text = soup.get_text()\n",
    "    return text"
   ]
  },
  {
   "cell_type": "code",
   "execution_count": 31,
   "metadata": {},
   "outputs": [
    {
     "data": {
      "text/plain": [
       "'\\n\"It\\'s easier to fool people than to convince them that they\\'ve been fooled.\"\\u200a-\\u200aUnknown.\\nI\\'m an expert on how technology hijacks our psychological vulnerabilities. That\\'s why I spent the last three years as a Design Ethicist at Google caring about how to design things in a way that defends a billion people\\'s minds from getting hijacked.\\nWhen using technology, we often focus optimistically on all the things it does for us. But I want to show you where it might do the opposite.\\nWhere does technology exploit our minds\\' weaknesses?\\nI learned to think this way when I was a magician. Magicians start by looking for blind spots, edges, vulnerabilities and limits of people\\'s perception, so they can influence what people do without them even realizing it. Once you know how to push people\\'s buttons, you can play them like a piano.\\nAnd this is exactly what product designers do to your mind. They play your psychological vulnerabilities (consciously and unconsciously) against you in the race to grab your attention.\\nI want to show you how they do it.\\nHijack #1: If You Control the Menu, You Control the Choices\\nWestern Culture is built around ideals of individual choice and freedom. Millions of us fiercely defend our right to make \"free\" choices, while we ignore how those choices are manipulated upstream by menus we didn\\'t choose in the first place.\\nThis is exactly what magicians do. They give people the illusion of free choice while architecting the menu so that they win, no matter what you choose. I can\\'t emphasize enough how deep this insight is.\\nWhen people are given a menu of choices, they rarely ask:\\n\\n\"what\\'s not on the menu?\"\\n\"why am I being given these options and not others?\"\\n\"do I know the menu provider\\'s goals?\"\\n\"is this menu empowering for my original need, or are the choices actually a distraction?\" (e.g. an overwhelmingly array of toothpastes)\\n\\n  For example, imagine you\\'re out with friends on a Tuesday night and want to keep the conversation going. You open Yelp to find nearby recommendations and see a list of bars. The group turns into a huddle of faces staring down at their phones comparing bars. They scrutinize the photos of each, comparing cocktail drinks. Is this menu still relevant to the original desire of the group?\\nIt\\'s not that bars aren\\'t a good choice, it\\'s that Yelp substituted the group\\'s original question (\"where can we go to keep talking?\") with a different question (\"what\\'s a bar with good photos of cocktails?\") all by shaping the menu.\\nMoreover, the group falls for the illusion that Yelp\\'s menu represents a complete set of choices for where to go. While looking down at their phones, they don\\'t see the park across the street with a band playing live music. They miss the pop-up gallery on the other side of the street serving crepes and coffee. Neither of those show up on Yelp\\'s menu.\\nThe more choices technology gives us in nearly every domain of our lives (information, events, places to go, friends, dating, jobs)\\u200a-\\u200a the more we assume that our phone is always the most empowering and useful menu to pick from. Is it?\\n\\n\"Who\\'s free tonight to hang out?\" becomes a menu of most recent people who texted us (who we could ping).\\n\"What\\'s happening in the world?\" becomes a menu of news feed stories.\\n\"Who\\'s single to go on a date?\" becomes a menuof faces to swipe on Tinder (instead of local events with friends, or urban adventures nearby).\\n\"I have to respond to this email.\" becomes a menu of keys to type a response (instead of empowering ways to communicate with a person).\\n\\n    The \"most empowering\" menu is different than the menu that has the most choices. But when we blindly surrender to the menus we\\'re given, it\\'s easy to lose track of the difference:\\nWhen we wake up in the morning and turn our phone over to see a list of notifications\\u200a-\\u200ait frames the experience of \"waking up in the morning\" around a menu of \"all the things I\\'ve missed since yesterday.\" (for more examples, see Joe Edelman\\'s Empowering Design talk)\\nBy shaping the menus we pick from, technology hijacks the way we perceive our choices and replaces them with new ones. But the closer we pay attention to the options we\\'re given, the more we\\'ll notice when they don\\'t actually align with our true needs.\\nHijack #2: Put a Slot Machine In a Billion Pockets\\nIf you\\'re an app, how do you keep people hooked? Turn yourself into a slot machine.\\nThe average person checks their phone 150 times a day. Why do we do this? Are we making 150 conscious choices?\\nOne major reason why is the #1 psychological ingredient in slot machines: intermittent variable rewards.\\nBut here\\'s the unfortunate truth\\u200a-\\u200aseveral billion people have a slot machine their pocket: \\nWhen we pull our phone out of our pocket, we\\'re playing a slot machine to see what notifications we got.\\nWhen we pull to refresh our email, we\\'re playing a slot machine to see what new email we got.\\nWhen we swipe down our finger to scroll the Instagram feed, we\\'re playing a slot machine to see what photo comes next.\\nWhen we swipe faces left/right on dating apps like Tinder, we\\'re playing a slot machine to see if we got a match.\\nWhen we tap the # of red notifications, we\\'re playing a slot machine to what\\'s underneath.\\n\\nIf you want to maximize addictiveness, all tech designers need to do is link a user\\'s action (like pulling a lever) with a variable reward. You pull a lever and immediately receive either an enticing reward (a match, a prize!) or nothing. Addictiveness is maximized when the rate of reward is most variable.\\nDoes this effect really work on people? Yes. Slot machines make more money in the United States than baseball, movies, and theme parks combined Relative to other kinds of gambling, people get \\'problematically involved\\' with slot machines 3-4x fasteraccording to NYU professor Natasha Dow Schull, author of Addiction by Design.\\nApps and websites sprinkle intermittent variable rewards all over their products because it\\'s good for business.\\nBut in other cases, slot machines emerge by accident. For example, there is no malicious corporation behind all of email who consciously chose to make it a slot machine. No one profits when millions check their email and nothing\\'s there. Neither did Apple and Google\\'s designers want phones to work like slot machines. It emerged by accident.\\nBut now companies like Apple and Google have a responsibility to reduce these effects by converting intermittent variable rewards into less addictive, more predictable ones with better design. For example, they could empower people to set predictable times during the day or week for when they want to check \"slot machine\" apps, and correspondingly adjust when new messages are delivered to align with those times.\\nHijack #3: Fear of Missing Something Important (FOMSI)\\n\\nThis keeps us subscribed to newsletters even after they haven\\'t delivered recent benefits (\"what if I miss a future announcement?\")\\nThis keeps us \"friended\" to people with whom we haven\\'t spoke in ages (\"what if I miss something important from them?\")\\nThis keeps us swiping faces on dating apps, even when we haven\\'t even met up with anyone in a while (\"what if I miss that one hot match who likes me?\")\\nThis keeps us using social media (\"what if I miss that important news story or fall behind what my friends are talking about?\")\\n\\nAnother way apps and websites hijack people\\'s minds is by inducing a \"1% chance you could be missing something important.\"\\n\\nThere are magic moments on Facebook we\\'ll miss by not using it for the 6th hour (e.g. an old friend who\\'s visiting town right now).\\nThere are magic moments we\\'ll miss on Tinder (e.g. our dream romantic partner) by not swiping our 700th match.\\nThere are emergency phone calls we\\'ll miss if we\\'re not connected 24/7.\\n\\n\\nBut living moment to moment with the fear of missing something isn\\'t how we\\'re built to live. If I convince you that I\\'m a channel for important information, messages, friendships, or potential sexual opportunities\\u200a-\\u200ait will be hard for you to turn me off, unsubscribe, or remove your account\\u200a-\\u200abecause (aha, I win) you might miss something important:\\nWe don\\'t miss what we don\\'t see. But if we zoom into that fear, we\\'ll discover that it\\'s unbounded: we\\'ll always miss something important at any point when we stop using something.\\nAnd it\\'s amazing how quickly, once we let go of that fear, we wake up from the illusion. When we unplug for more than a day, unsubscribe from those notifications, or go to Camp Grounded \\u200a-\\u200athe concerns we thought we\\'d have don\\'t actually happen.\\nThe thought, \"what if I miss something important?\" is generated in advance of unplugging, unsubscribing, or turning off\\u200a-\\u200anot after. Imagine if tech companies recognized that, and helped us proactively tune our relationships with friends and businesses in terms of what we define as \" time well spent \" for our lives, instead of in terms of what we might miss.\\nHijack #4: Social Approval\\nWe\\'re all vulnerable to social approval. The need to belong, to be approved or appreciated by our peers is among the highest human motivations. But now our social approval is in the hands of tech companies.\\nWhen I get tagged by my friend Marc, I imagine him making a conscious choice to tag me. But I don\\'t see how a company like Facebook orchestrated his doing that in the first place.\\nFacebook, Instagram or SnapChat can manipulate how often people get tagged in photos by automatically suggesting all the faces people should tag (e.g. by showing a box with a 1-click confirmation, \"Tag Tristan in this photo?\").\\nSo when Marc tags me, he\\'s actually responding to Facebook\\'s suggestion, not making an independent choice. But through design choices like this, Facebook controls the multiplier for how often millions of people experience their social approval on the line.\\nThe same happens when we change our main profile photo\\u200a-\\u200aFacebook knows that\\'s a moment when we\\'re vulnerable to social approval: \"what do my friends think of my new pic?\" Facebook can rank this higher in the news feed, so it sticks around for longer and more friends will like or comment on it. Each time they like or comment on it, we\\'ll get pulled right back.\\n\\nYou do me a favor\\u200a-\\u200aI owe you one next time.\\nYou say, \"thank you\"- I have to say \"you\\'re welcome.\"\\nYou send me an email- it\\'s rude not to get back to you.\\nYou follow me\\u200a-\\u200ait\\'s rude not to follow you back. (especially for teenagers)\\n\\nEveryone innately responds to social approval, but some demographics (teenagers) are more vulnerable to it than others. That\\'s why it\\'s so important to recognize how powerful designers are when they exploit this vulnerability.\\nHijack #5: Social Reciprocity (Tit-for-tat)\\nWe are vulnerable to needing to reciprocate others\\' gestures. But as with Social Approval, tech companies now manipulate how often we experience it.\\nIn some cases, it\\'s by accident. Email, texting and messaging apps are social reciprocity factories. But in other cases, companies exploit this vulnerability on purpose.\\nLinkedIn is the most obvious offender. LinkedIn wants as many people creating social obligations for each other as possible, because each time they reciprocate (by accepting a connection, responding to a message, or endorsing someone back for a skill) they have to come back to linkedin.com where they can get people to spend more time.\\nLike Facebook, LinkedIn exploits an asymmetry in perception. When you receive an invitation from someone to connect, you imagine that person making a conscious choice to invite you, when in reality, they likely unconsciously responded to LinkedIn\\'s list of suggested contacts. In other words, LinkedIn turns your unconscious impulses (to \"add\" a person) into new social obligations that millions of people feel obligated to repay. All while they profit from the time people spend doing it.\\nImagine millions of people getting interrupted like this throughout their day, running around like chickens with their heads cut off, reciprocating each other\\u200a-\\u200aall designed by companies who profit from it.\\nWelcome to social media.\\nImagine if technology companies had a responsibility to minimize social reciprocity. Or if there was an independent organization that represented the public\\'s interests\\u200a-\\u200aan industry consortium or an FDA for tech\\u200a-\\u200athat monitored when technology companies abused these biases?\\nHijack #6: Bottomless bowls, Infinite Feeds, and Autoplay\\nAnother way to hijack people is to keep them consuming things, even when they aren\\'t hungry anymore.\\nHow? Easy. Take an experience that was bounded and finite, and turn it into a bottomless flow that keeps going.\\nCornell professor Brian Wansink demonstrated this in his study showing you can trick people into keep eating soup by giving them a bottomless bowl that automatically refills as they eat. With bottomless bowls, people eat 73% more calories than those with normal bowls and underestimate how many calories they ate by 140 calories.\\nTech companies exploit the same principle. News feeds are purposely designed to auto-refill with reasons to keep you scrolling, and purposely eliminate any reason for you to pause, reconsider or leave.\\nIt\\'s also why video and social media sites like Netflix, YouTube or Facebook autoplay the next video after a countdown instead of waiting for you to make a conscious choice (in case you won\\'t). A huge portion of traffic on these websites is driven by autoplaying the next thing.\\nTech companies often claim that \"we\\'re just making it easier for users to see the video they want to watch\" when they are actually serving their business interests. And you can\\'t blame them, because increasing \"time spent\" is the currency they compete for.\\nInstead, imagine if technology companies empowered you to consciously bound your experience to align with what would be \" time well spent\" for you. Not just bounding the quantity of time you spend, but the qualities of what would be \"time well spent.\"\\nHijack #7: Instant Interruption vs. \"Respectful\" Delivery\\nCompanies know that messages that interrupt people immediately are more persuasive at getting people to respond than messages delivered asynchronously (like email or any deferred inbox).\\nGiven the choice, Facebook Messenger (or WhatsApp, WeChat or SnapChat for that matter) would prefer to design their messaging system to interrupt recipients immediately (and show a chat box) instead of helping users respect each other\\'s attention.\\nIn other words, interruption is good for business.\\nIt\\'s also in their interest to heighten the feeling of urgency and social reciprocity. For example, Facebook automatically tells the sender when you \"saw\" their message, instead of letting you avoid disclosing whether you read it (\"now that you know I\\'ve seen the message, I feel even more obligated to respond.\")\\nBy contrast, Apple more respectfully lets users toggle \"Read Receipts\" on or off.\\nThe problem is, maximizing interruptions in the name of business creates a tragedy of the commons, ruining global attention spans and causing billions of unnecessary interruptions each day. This is a huge problem we need to fix with shared design standards (potentially, as part of Time Well Spent).\\nHijack #8: Bundling Your Reasons with Their Reasons\\nAnother way apps hijack you is by taking your reasons for visiting the app (to perform a task) and make them inseparable from the app\\'s business reasons (maximizing how much we consume once we\\'re there).\\nFor example, in the physical world of grocery stores, the #1 and #2 most popular reasons to visit are pharmacy refills and buying milk. But grocery stores want to maximize how much people buy, so they put the pharmacy and the milk at the back of the store.\\nIn other words, they make the thing customers want (milk, pharmacy) inseparable from what the business wants. If stores were truly organized to support people, they would put the most popular items in the front.\\n\\nTwitter gave you a separate way to post a tweet than having to see their news feed.\\nFacebook gave a separate way to look up Facebook Events going on tonight, without being forced to use their news feed.\\nFacebook gave you a separate way to use Facebook Connect as a passport for creating new accounts on 3rd party apps and websites, without being forced to install Facebook\\'s entire app, news feed and notifications.\\n\\nTech companies design their websites the same way. For example, when you you want to look up a Facebook event happening tonight (your reason) the Facebook app doesn\\'t allow you to access it without first landing on the news feed (their reasons), and that\\'s on purpose. Facebook wants to convert every reason you have for using Facebook, into their reason which is to maximize the time you spend consuming things.\\nInstead, imagine if ...\\nIn a Time Well Spent world, there is always a direct way to get what you want separately from what businesses want. Imagine a digital \"bill of rights\" outlining design standards that forced the products used by billions of people to let them navigate directly to what they want without needing to go through intentionally placed distractions.\\n\\n\"If you don\\'t like it you can always use a different product.\"\\n\"If you don\\'t like it, you can always unsubscribe.\"\\n\"If you\\'re addicted to our app, you can always uninstall it from your phone.\"\\n\\nHijack #9: Inconvenient Choices\\nWe\\'re told that it\\'s enough for businesses to \"make choices available.\"\\nBusinesses naturally want to make the choices they want you to make easier, and the choices they don\\'t want you to make harder. Magicians do the same thing. You make it easier for a spectator to pick the thing you want them to pick, and harder to pick the thing you don\\'t.\\nFor example, NYTimes.com lets you \"make a free choice\" to cancel your digital subscription. But instead of just doing it when you hit \"Cancel Subscription,\" they send you an email with information on how to cancel your account by calling a phone number that\\'s only open at certain times.\\nInstead of viewing the world in terms of availability of choices, we should view the world in terms of friction required to enact choices. Imagine a world where choices were labeled with how difficult they were to fulfill (like coefficients of friction) and there was an independent entity\\u200a-\\u200aan industry consortium or non-profit\\u200a-\\u200athat labeled these difficulties and set standards for how easy navigation should be.\\nHijack #10: Forecasting Errors, \"Foot in the Door\" strategies\\nLastly, apps can exploit people\\'s inability to forecast the consequences of a click.\\nPeople don\\'t intuitively forecast the true cost of a click when it\\'s presented to them. Sales people use \"foot in the door\" techniques by asking for a small innocuous request to begin with (\"just one click to see which tweet got retweeted\") and escalate from there (\"why don\\'t you stay awhile?\"). Virtually all engagement websites use this trick.\\nImagine if web browsers and smartphones, the gateways through which people make these choices, were truly watching out for people and helped them forecast the consequences of clicks (based on real data about what benefits and costs it actually had?).\\nThat\\'s why I add \"Estimated reading time\" to the top of my posts. When you put the \"true cost\" of a choice in front of people, you\\'re treating your users or audience with dignity and respect. In a Time Well Spent internet, choices could be framed in terms of projected cost and benefit, so people were empowered to make informed choices by default, not by doing extra work.\\nSummary And How We Can Fix This\\nAre you upset that technology hijacks your agency? I am too. I\\'ve listed a few techniques but there are literally thousands. Imagine whole bookshelves, seminars, workshops and trainings that teach aspiring tech entrepreneurs techniques like these. Imagine hundreds of engineers whose job every day is to invent new ways to keep you hooked.\\nTristan Harris was a Product Philosopher at Google until 2016 where he studied how technology affects a billion people\\'s attention, wellbeing and behavior. For more resources on Time Well Spent, see UPDATE: The first version of this post lacked acknowledgements to those who inspired my thinking over many years including My thinking on menus and choicemaking are deeply rooted in Joe Edelman\\'s work on Human Values and Choicemaking. Joe Edelman, Aza Raskin, Raph D\\'Amico, Jonathan Harris and Damon Horowitz. http://timewellspent.io. The ultimate freedom is a free mind, and we need technology that\\'s on our team to help us live, feel, think and act freely.\\nWe need our smartphones, notifications screens and web browsers to be exoskeletons for our minds and interpersonal relationships that put our values, not our impulses, first. People\\'s time is valuable. And we should protect it with the same rigor as privacy and other digital rights.\\n'"
      ]
     },
     "execution_count": 31,
     "metadata": {},
     "output_type": "execute_result"
    }
   ],
   "source": [
    "get_text(df_clean.html[0])"
   ]
  },
  {
   "cell_type": "code",
   "execution_count": 32,
   "metadata": {},
   "outputs": [
    {
     "name": "stderr",
     "output_type": "stream",
     "text": [
      "/anaconda3/lib/python3.6/site-packages/pandas/core/indexing.py:357: SettingWithCopyWarning: \n",
      "A value is trying to be set on a copy of a slice from a DataFrame.\n",
      "Try using .loc[row_indexer,col_indexer] = value instead\n",
      "\n",
      "See the caveats in the documentation: http://pandas.pydata.org/pandas-docs/stable/indexing.html#indexing-view-versus-copy\n",
      "  self.obj[key] = _infer_fill_value(value)\n",
      "/anaconda3/lib/python3.6/site-packages/pandas/core/indexing.py:537: SettingWithCopyWarning: \n",
      "A value is trying to be set on a copy of a slice from a DataFrame.\n",
      "Try using .loc[row_indexer,col_indexer] = value instead\n",
      "\n",
      "See the caveats in the documentation: http://pandas.pydata.org/pandas-docs/stable/indexing.html#indexing-view-versus-copy\n",
      "  self.obj[item] = s\n"
     ]
    }
   ],
   "source": [
    "df_clean.loc[:, 'text'] = df_clean['html'].map(get_text)"
   ]
  },
  {
   "cell_type": "code",
   "execution_count": 33,
   "metadata": {},
   "outputs": [
    {
     "data": {
      "text/plain": [
       "'\\n\"It\\'s easier to fool people than to convince them that they\\'ve been fooled.\"\\u200a-\\u200aUnknown.\\nI\\'m an expe'"
      ]
     },
     "execution_count": 33,
     "metadata": {},
     "output_type": "execute_result"
    }
   ],
   "source": [
    "df_clean['text'][0][:100]"
   ]
  },
  {
   "cell_type": "markdown",
   "metadata": {},
   "source": [
    "### Building the Classifier"
   ]
  },
  {
   "cell_type": "code",
   "execution_count": 34,
   "metadata": {},
   "outputs": [],
   "source": [
    "tf = TfidfVectorizer(stop_words='english')"
   ]
  },
  {
   "cell_type": "code",
   "execution_count": 35,
   "metadata": {},
   "outputs": [],
   "source": [
    "X = tf.fit_transform(df_clean.text)"
   ]
  },
  {
   "cell_type": "code",
   "execution_count": 36,
   "metadata": {},
   "outputs": [
    {
     "data": {
      "text/plain": [
       "<54x8687 sparse matrix of type '<class 'numpy.float64'>'\n",
       "\twith 37172 stored elements in Compressed Sparse Row format>"
      ]
     },
     "execution_count": 36,
     "metadata": {},
     "output_type": "execute_result"
    }
   ],
   "source": [
    "X"
   ]
  },
  {
   "cell_type": "code",
   "execution_count": 37,
   "metadata": {},
   "outputs": [],
   "source": [
    "y = df_clean.wanted"
   ]
  },
  {
   "cell_type": "code",
   "execution_count": 38,
   "metadata": {},
   "outputs": [
    {
     "data": {
      "text/plain": [
       "0     y\n",
       "1     y\n",
       "2     y\n",
       "3     y\n",
       "4     y\n",
       "5     y\n",
       "6     y\n",
       "7     y\n",
       "8     y\n",
       "9     y\n",
       "10    y\n",
       "11    y\n",
       "12    y\n",
       "13    y\n",
       "14    y\n",
       "16    y\n",
       "17    y\n",
       "18    y\n",
       "19    y\n",
       "20    y\n",
       "21    y\n",
       "22    y\n",
       "24    y\n",
       "25    y\n",
       "26    y\n",
       "27    y\n",
       "28    y\n",
       "29    n\n",
       "30    n\n",
       "31    n\n",
       "32    n\n",
       "33    n\n",
       "34    n\n",
       "35    n\n",
       "36    n\n",
       "37    n\n",
       "38    n\n",
       "39    n\n",
       "40    n\n",
       "41    n\n",
       "42    n\n",
       "43    n\n",
       "45    n\n",
       "46    n\n",
       "47    n\n",
       "48    n\n",
       "49    n\n",
       "50    n\n",
       "51    n\n",
       "53    n\n",
       "54    n\n",
       "55    n\n",
       "56    n\n",
       "57    n\n",
       "Name: wanted, dtype: object"
      ]
     },
     "execution_count": 38,
     "metadata": {},
     "output_type": "execute_result"
    }
   ],
   "source": [
    "y"
   ]
  },
  {
   "cell_type": "code",
   "execution_count": 39,
   "metadata": {},
   "outputs": [],
   "source": [
    "from sklearn.linear_model import LogisticRegression"
   ]
  },
  {
   "cell_type": "code",
   "execution_count": 40,
   "metadata": {},
   "outputs": [],
   "source": [
    "clf = LogisticRegression()"
   ]
  },
  {
   "cell_type": "code",
   "execution_count": 41,
   "metadata": {},
   "outputs": [
    {
     "data": {
      "text/plain": [
       "LogisticRegression(C=1.0, class_weight=None, dual=False, fit_intercept=True,\n",
       "          intercept_scaling=1, max_iter=100, multi_class='ovr', n_jobs=1,\n",
       "          penalty='l2', random_state=None, solver='liblinear', tol=0.0001,\n",
       "          verbose=0, warm_start=False)"
      ]
     },
     "execution_count": 41,
     "metadata": {},
     "output_type": "execute_result"
    }
   ],
   "source": [
    "clf.fit(X, y)"
   ]
  },
  {
   "cell_type": "code",
   "execution_count": 42,
   "metadata": {},
   "outputs": [
    {
     "data": {
      "text/plain": [
       "0.5"
      ]
     },
     "execution_count": 42,
     "metadata": {},
     "output_type": "execute_result"
    }
   ],
   "source": [
    "clf.score(X, y)"
   ]
  },
  {
   "cell_type": "code",
   "execution_count": 43,
   "metadata": {},
   "outputs": [
    {
     "data": {
      "text/plain": [
       "array(['n', 'n', 'n', 'n', 'n', 'n', 'n', 'n', 'n', 'n', 'n', 'n', 'n',\n",
       "       'n', 'n', 'n', 'n', 'n', 'n', 'n', 'n', 'n', 'n', 'n', 'n', 'n',\n",
       "       'n', 'n', 'n', 'n', 'n', 'n', 'n', 'n', 'n', 'n', 'n', 'n', 'n',\n",
       "       'n', 'n', 'n', 'n', 'n', 'n', 'n', 'n', 'n', 'n', 'n', 'n', 'n',\n",
       "       'n', 'n'], dtype=object)"
      ]
     },
     "execution_count": 43,
     "metadata": {},
     "output_type": "execute_result"
    }
   ],
   "source": [
    "clf.predict(X)"
   ]
  },
  {
   "cell_type": "code",
   "execution_count": 44,
   "metadata": {},
   "outputs": [],
   "source": [
    "from sklearn.model_selection import GridSearchCV\n",
    "import numpy as np"
   ]
  },
  {
   "cell_type": "code",
   "execution_count": 45,
   "metadata": {},
   "outputs": [],
   "source": [
    "params = {'C': [0.1, 1.0, 4.0, 10.0, 20.0, 50, 100, 1000]}"
   ]
  },
  {
   "cell_type": "code",
   "execution_count": 46,
   "metadata": {},
   "outputs": [],
   "source": [
    "grid = GridSearchCV(clf, param_grid=params)"
   ]
  },
  {
   "cell_type": "code",
   "execution_count": 47,
   "metadata": {},
   "outputs": [
    {
     "data": {
      "text/plain": [
       "GridSearchCV(cv=None, error_score='raise',\n",
       "       estimator=LogisticRegression(C=1.0, class_weight=None, dual=False, fit_intercept=True,\n",
       "          intercept_scaling=1, max_iter=100, multi_class='ovr', n_jobs=1,\n",
       "          penalty='l2', random_state=None, solver='liblinear', tol=0.0001,\n",
       "          verbose=0, warm_start=False),\n",
       "       fit_params=None, iid=True, n_jobs=1,\n",
       "       param_grid={'C': [0.1, 1.0, 4.0, 10.0, 20.0, 50, 100, 1000]},\n",
       "       pre_dispatch='2*n_jobs', refit=True, return_train_score='warn',\n",
       "       scoring=None, verbose=0)"
      ]
     },
     "execution_count": 47,
     "metadata": {},
     "output_type": "execute_result"
    }
   ],
   "source": [
    "grid.fit(X, y)"
   ]
  },
  {
   "cell_type": "code",
   "execution_count": 48,
   "metadata": {},
   "outputs": [
    {
     "data": {
      "text/plain": [
       "array(['n', 'n', 'n', 'n', 'n', 'n', 'n', 'n', 'n', 'n', 'n', 'n', 'n',\n",
       "       'n', 'n', 'n', 'n', 'n', 'n', 'n', 'n', 'n', 'n', 'n', 'n', 'n',\n",
       "       'n', 'n', 'n', 'n', 'n', 'n', 'n', 'n', 'n', 'n', 'n', 'n', 'n',\n",
       "       'n', 'n', 'n', 'n', 'n', 'n', 'n', 'n', 'n', 'n', 'n', 'n', 'n',\n",
       "       'n', 'n'], dtype=object)"
      ]
     },
     "execution_count": 48,
     "metadata": {},
     "output_type": "execute_result"
    }
   ],
   "source": [
    "grid.best_estimator_.predict(X)"
   ]
  },
  {
   "cell_type": "code",
   "execution_count": 49,
   "metadata": {},
   "outputs": [],
   "source": [
    "from sklearn.model_selection import train_test_split"
   ]
  },
  {
   "cell_type": "code",
   "execution_count": 50,
   "metadata": {},
   "outputs": [],
   "source": [
    "X_train, X_test, y_train, y_test = train_test_split(X, y)"
   ]
  },
  {
   "cell_type": "code",
   "execution_count": 51,
   "metadata": {},
   "outputs": [
    {
     "data": {
      "text/plain": [
       "GridSearchCV(cv=None, error_score='raise',\n",
       "       estimator=LogisticRegression(C=1.0, class_weight=None, dual=False, fit_intercept=True,\n",
       "          intercept_scaling=1, max_iter=100, multi_class='ovr', n_jobs=1,\n",
       "          penalty='l2', random_state=None, solver='liblinear', tol=0.0001,\n",
       "          verbose=0, warm_start=False),\n",
       "       fit_params=None, iid=True, n_jobs=1,\n",
       "       param_grid={'C': [0.1, 1.0, 4.0, 10.0, 20.0, 50, 100, 1000]},\n",
       "       pre_dispatch='2*n_jobs', refit=True, return_train_score='warn',\n",
       "       scoring=None, verbose=0)"
      ]
     },
     "execution_count": 51,
     "metadata": {},
     "output_type": "execute_result"
    }
   ],
   "source": [
    "grid.fit(X_train, y_train)"
   ]
  },
  {
   "cell_type": "code",
   "execution_count": 52,
   "metadata": {},
   "outputs": [
    {
     "data": {
      "text/plain": [
       "array(['n', 'n', 'n', 'n', 'n', 'n', 'n', 'n', 'n', 'n', 'n', 'n', 'n',\n",
       "       'n'], dtype=object)"
      ]
     },
     "execution_count": 52,
     "metadata": {},
     "output_type": "execute_result"
    }
   ],
   "source": [
    "grid.best_estimator_.predict(X_test)"
   ]
  },
  {
   "cell_type": "code",
   "execution_count": 53,
   "metadata": {},
   "outputs": [
    {
     "data": {
      "text/plain": [
       "27    y\n",
       "21    y\n",
       "31    n\n",
       "25    y\n",
       "41    n\n",
       "56    n\n",
       "34    n\n",
       "22    y\n",
       "1     y\n",
       "4     y\n",
       "54    n\n",
       "19    y\n",
       "7     y\n",
       "8     y\n",
       "Name: wanted, dtype: object"
      ]
     },
     "execution_count": 53,
     "metadata": {},
     "output_type": "execute_result"
    }
   ],
   "source": [
    "y_test"
   ]
  },
  {
   "cell_type": "code",
   "execution_count": 54,
   "metadata": {},
   "outputs": [
    {
     "data": {
      "text/plain": [
       "57    n\n",
       "17    y\n",
       "18    y\n",
       "46    n\n",
       "0     y\n",
       "40    n\n",
       "24    y\n",
       "32    n\n",
       "30    n\n",
       "49    n\n",
       "47    n\n",
       "11    y\n",
       "20    y\n",
       "14    y\n",
       "9     y\n",
       "33    n\n",
       "43    n\n",
       "10    y\n",
       "48    n\n",
       "29    n\n",
       "28    y\n",
       "12    y\n",
       "36    n\n",
       "3     y\n",
       "55    n\n",
       "39    n\n",
       "2     y\n",
       "6     y\n",
       "37    n\n",
       "45    n\n",
       "53    n\n",
       "42    n\n",
       "13    y\n",
       "38    n\n",
       "35    n\n",
       "26    y\n",
       "50    n\n",
       "51    n\n",
       "5     y\n",
       "16    y\n",
       "Name: wanted, dtype: object"
      ]
     },
     "execution_count": 54,
     "metadata": {},
     "output_type": "execute_result"
    }
   ],
   "source": [
    "y_train"
   ]
  },
  {
   "cell_type": "code",
   "execution_count": 55,
   "metadata": {},
   "outputs": [],
   "source": [
    "from sklearn.model_selection import ShuffleSplit"
   ]
  },
  {
   "cell_type": "code",
   "execution_count": 56,
   "metadata": {},
   "outputs": [],
   "source": [
    "cv = ShuffleSplit(n_splits=2, test_size=0.1)"
   ]
  },
  {
   "cell_type": "code",
   "execution_count": 57,
   "metadata": {},
   "outputs": [],
   "source": [
    "grid = GridSearchCV(clf, param_grid=params, cv = cv)"
   ]
  },
  {
   "cell_type": "code",
   "execution_count": 58,
   "metadata": {},
   "outputs": [
    {
     "data": {
      "text/plain": [
       "GridSearchCV(cv=ShuffleSplit(n_splits=2, random_state=None, test_size=0.1, train_size=None),\n",
       "       error_score='raise',\n",
       "       estimator=LogisticRegression(C=1.0, class_weight=None, dual=False, fit_intercept=True,\n",
       "          intercept_scaling=1, max_iter=100, multi_class='ovr', n_jobs=1,\n",
       "          penalty='l2', random_state=None, solver='liblinear', tol=0.0001,\n",
       "          verbose=0, warm_start=False),\n",
       "       fit_params=None, iid=True, n_jobs=1,\n",
       "       param_grid={'C': [0.1, 1.0, 4.0, 10.0, 20.0, 50, 100, 1000]},\n",
       "       pre_dispatch='2*n_jobs', refit=True, return_train_score='warn',\n",
       "       scoring=None, verbose=0)"
      ]
     },
     "execution_count": 58,
     "metadata": {},
     "output_type": "execute_result"
    }
   ],
   "source": [
    "grid.fit(X_train, y_train)"
   ]
  },
  {
   "cell_type": "code",
   "execution_count": 59,
   "metadata": {},
   "outputs": [
    {
     "data": {
      "text/plain": [
       "array(['n', 'n', 'n', 'n', 'n', 'n', 'n', 'n', 'n', 'n', 'n', 'n', 'n',\n",
       "       'n'], dtype=object)"
      ]
     },
     "execution_count": 59,
     "metadata": {},
     "output_type": "execute_result"
    }
   ],
   "source": [
    "grid.best_estimator_.predict(X_test)"
   ]
  },
  {
   "cell_type": "code",
   "execution_count": 60,
   "metadata": {},
   "outputs": [
    {
     "data": {
      "text/plain": [
       "0.35714285714285715"
      ]
     },
     "execution_count": 60,
     "metadata": {},
     "output_type": "execute_result"
    }
   ],
   "source": [
    "grid.score(X_test, y_test)"
   ]
  },
  {
   "cell_type": "code",
   "execution_count": 61,
   "metadata": {},
   "outputs": [
    {
     "data": {
      "text/plain": [
       "27    y\n",
       "21    y\n",
       "31    n\n",
       "25    y\n",
       "41    n\n",
       "56    n\n",
       "34    n\n",
       "22    y\n",
       "1     y\n",
       "4     y\n",
       "54    n\n",
       "19    y\n",
       "7     y\n",
       "8     y\n",
       "Name: wanted, dtype: object"
      ]
     },
     "execution_count": 61,
     "metadata": {},
     "output_type": "execute_result"
    }
   ],
   "source": [
    "y_test"
   ]
  },
  {
   "cell_type": "code",
   "execution_count": 62,
   "metadata": {},
   "outputs": [],
   "source": [
    "from sklearn.svm import SVC"
   ]
  },
  {
   "cell_type": "code",
   "execution_count": 63,
   "metadata": {},
   "outputs": [],
   "source": [
    "svc = SVC()"
   ]
  },
  {
   "cell_type": "code",
   "execution_count": 64,
   "metadata": {},
   "outputs": [],
   "source": [
    "grid = GridSearchCV(svc, param_grid=params, cv = cv)"
   ]
  },
  {
   "cell_type": "code",
   "execution_count": 65,
   "metadata": {},
   "outputs": [
    {
     "data": {
      "text/plain": [
       "GridSearchCV(cv=ShuffleSplit(n_splits=2, random_state=None, test_size=0.1, train_size=None),\n",
       "       error_score='raise',\n",
       "       estimator=SVC(C=1.0, cache_size=200, class_weight=None, coef0=0.0,\n",
       "  decision_function_shape='ovr', degree=3, gamma='auto', kernel='rbf',\n",
       "  max_iter=-1, probability=False, random_state=None, shrinking=True,\n",
       "  tol=0.001, verbose=False),\n",
       "       fit_params=None, iid=True, n_jobs=1,\n",
       "       param_grid={'C': [0.1, 1.0, 4.0, 10.0, 20.0, 50, 100, 1000]},\n",
       "       pre_dispatch='2*n_jobs', refit=True, return_train_score='warn',\n",
       "       scoring=None, verbose=0)"
      ]
     },
     "execution_count": 65,
     "metadata": {},
     "output_type": "execute_result"
    }
   ],
   "source": [
    "grid.fit(X_train, y_train)"
   ]
  },
  {
   "cell_type": "code",
   "execution_count": 66,
   "metadata": {},
   "outputs": [
    {
     "data": {
      "text/plain": [
       "0.35714285714285715"
      ]
     },
     "execution_count": 66,
     "metadata": {},
     "output_type": "execute_result"
    }
   ],
   "source": [
    "grid.score(X_test, y_test)"
   ]
  },
  {
   "cell_type": "code",
   "execution_count": 67,
   "metadata": {},
   "outputs": [
    {
     "data": {
      "text/plain": [
       "array(['n', 'n', 'n', 'n', 'n', 'n', 'n', 'n', 'n', 'n', 'n', 'n', 'n',\n",
       "       'n'], dtype=object)"
      ]
     },
     "execution_count": 67,
     "metadata": {},
     "output_type": "execute_result"
    }
   ],
   "source": [
    "grid.best_estimator_.predict(X_test)"
   ]
  },
  {
   "cell_type": "code",
   "execution_count": 68,
   "metadata": {},
   "outputs": [
    {
     "data": {
      "text/plain": [
       "array(['n', 'n', 'n', 'n', 'n', 'n', 'n', 'n', 'n', 'n', 'n', 'n', 'n',\n",
       "       'n', 'n', 'n', 'n', 'n', 'n', 'n', 'n', 'n', 'n', 'n', 'n', 'n',\n",
       "       'n', 'n', 'n', 'n', 'n', 'n', 'n', 'n', 'n', 'n', 'n', 'n', 'n',\n",
       "       'n'], dtype=object)"
      ]
     },
     "execution_count": 68,
     "metadata": {},
     "output_type": "execute_result"
    }
   ],
   "source": [
    "grid.best_estimator_.predict(X_train)"
   ]
  },
  {
   "cell_type": "code",
   "execution_count": 69,
   "metadata": {},
   "outputs": [],
   "source": [
    "from sklearn.tree import DecisionTreeClassifier"
   ]
  },
  {
   "cell_type": "code",
   "execution_count": 73,
   "metadata": {},
   "outputs": [],
   "source": [
    "dtree = DecisionTreeClassifier()"
   ]
  },
  {
   "cell_type": "code",
   "execution_count": 75,
   "metadata": {},
   "outputs": [],
   "source": [
    "params = {'max_depth': [1, 2, 3, 4, 5, 6, 7, 8]}\n",
    "grid = GridSearchCV(dtree, param_grid=params, cv = cv)"
   ]
  },
  {
   "cell_type": "code",
   "execution_count": 76,
   "metadata": {},
   "outputs": [
    {
     "data": {
      "text/plain": [
       "GridSearchCV(cv=ShuffleSplit(n_splits=2, random_state=None, test_size=0.1, train_size=None),\n",
       "       error_score='raise',\n",
       "       estimator=DecisionTreeClassifier(class_weight=None, criterion='gini', max_depth=None,\n",
       "            max_features=None, max_leaf_nodes=None,\n",
       "            min_impurity_decrease=0.0, min_impurity_split=None,\n",
       "            min_samples_leaf=1, min_samples_split=2,\n",
       "            min_weight_fraction_leaf=0.0, presort=False, random_state=None,\n",
       "            splitter='best'),\n",
       "       fit_params=None, iid=True, n_jobs=1,\n",
       "       param_grid={'max_depth': [1, 2, 3, 4, 5, 6, 7, 8]},\n",
       "       pre_dispatch='2*n_jobs', refit=True, return_train_score='warn',\n",
       "       scoring=None, verbose=0)"
      ]
     },
     "execution_count": 76,
     "metadata": {},
     "output_type": "execute_result"
    }
   ],
   "source": [
    "grid.fit(X_train, y_train)"
   ]
  }
 ],
 "metadata": {
  "kernelspec": {
   "display_name": "Python 3",
   "language": "python",
   "name": "python3"
  },
  "language_info": {
   "codemirror_mode": {
    "name": "ipython",
    "version": 3
   },
   "file_extension": ".py",
   "mimetype": "text/x-python",
   "name": "python",
   "nbconvert_exporter": "python",
   "pygments_lexer": "ipython3",
   "version": "3.6.4"
  }
 },
 "nbformat": 4,
 "nbformat_minor": 2
}
