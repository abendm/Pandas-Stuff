{
 "cells": [
  {
   "cell_type": "code",
   "execution_count": 1,
   "metadata": {},
   "outputs": [],
   "source": [
    "import pandas as pd"
   ]
  },
  {
   "cell_type": "code",
   "execution_count": 2,
   "metadata": {},
   "outputs": [],
   "source": [
    "df = pd.read_csv('balls.csv')"
   ]
  },
  {
   "cell_type": "code",
   "execution_count": 3,
   "metadata": {},
   "outputs": [
    {
     "data": {
      "text/html": [
       "<div>\n",
       "<style scoped>\n",
       "    .dataframe tbody tr th:only-of-type {\n",
       "        vertical-align: middle;\n",
       "    }\n",
       "\n",
       "    .dataframe tbody tr th {\n",
       "        vertical-align: top;\n",
       "    }\n",
       "\n",
       "    .dataframe thead th {\n",
       "        text-align: right;\n",
       "    }\n",
       "</style>\n",
       "<table border=\"1\" class=\"dataframe\">\n",
       "  <thead>\n",
       "    <tr style=\"text-align: right;\">\n",
       "      <th></th>\n",
       "      <th>album</th>\n",
       "      <th>artists</th>\n",
       "      <th>text</th>\n",
       "      <th>url</th>\n",
       "    </tr>\n",
       "  </thead>\n",
       "  <tbody>\n",
       "    <tr>\n",
       "      <th>0</th>\n",
       "      <td>Not for Sale</td>\n",
       "      <td>Smoke DZA</td>\n",
       "      <td>Harlem rapper Smoke DZA keeps it real on ,, do...</td>\n",
       "      <td>NaN</td>\n",
       "    </tr>\n",
       "    <tr>\n",
       "      <th>1</th>\n",
       "      <td>Bloodline</td>\n",
       "      <td>Steven Julien</td>\n",
       "      <td>The London producer pays tribute to his musica...</td>\n",
       "      <td>NaN</td>\n",
       "    </tr>\n",
       "    <tr>\n",
       "      <th>2</th>\n",
       "      <td>Crop Circle</td>\n",
       "      <td>Nines</td>\n",
       "      <td>The latest album from the star of UK road rap ...</td>\n",
       "      <td>NaN</td>\n",
       "    </tr>\n",
       "    <tr>\n",
       "      <th>3</th>\n",
       "      <td>Gate 13</td>\n",
       "      <td>Del the Funky Homosapien,Amp Live</td>\n",
       "      <td>Protean future-funk production steals the show...</td>\n",
       "      <td>NaN</td>\n",
       "    </tr>\n",
       "    <tr>\n",
       "      <th>4</th>\n",
       "      <td>A Piece of Beyond</td>\n",
       "      <td>DJ Bone</td>\n",
       "      <td>The veteran DJ confirms his status as a treasu...</td>\n",
       "      <td>NaN</td>\n",
       "    </tr>\n",
       "  </tbody>\n",
       "</table>\n",
       "</div>"
      ],
      "text/plain": [
       "               album                             artists  \\\n",
       "0       Not for Sale                           Smoke DZA   \n",
       "1          Bloodline                       Steven Julien   \n",
       "2        Crop Circle                               Nines   \n",
       "3            Gate 13  Del the Funky Homosapien,Amp Live    \n",
       "4  A Piece of Beyond                             DJ Bone   \n",
       "\n",
       "                                                text  url  \n",
       "0  Harlem rapper Smoke DZA keeps it real on ,, do...  NaN  \n",
       "1  The London producer pays tribute to his musica...  NaN  \n",
       "2  The latest album from the star of UK road rap ...  NaN  \n",
       "3  Protean future-funk production steals the show...  NaN  \n",
       "4  The veteran DJ confirms his status as a treasu...  NaN  "
      ]
     },
     "execution_count": 3,
     "metadata": {},
     "output_type": "execute_result"
    }
   ],
   "source": [
    "df.head()"
   ]
  },
  {
   "cell_type": "code",
   "execution_count": 5,
   "metadata": {},
   "outputs": [
    {
     "data": {
      "text/plain": [
       "(12, 4)"
      ]
     },
     "execution_count": 5,
     "metadata": {},
     "output_type": "execute_result"
    }
   ],
   "source": [
    "df.shape"
   ]
  },
  {
   "cell_type": "code",
   "execution_count": 42,
   "metadata": {},
   "outputs": [],
   "source": [
    "import json"
   ]
  },
  {
   "cell_type": "code",
   "execution_count": 43,
   "metadata": {},
   "outputs": [],
   "source": [
    "pitch = json.load(open('nested.json'))"
   ]
  },
  {
   "cell_type": "code",
   "execution_count": 44,
   "metadata": {},
   "outputs": [
    {
     "data": {
      "text/plain": [
       "list"
      ]
     },
     "execution_count": 44,
     "metadata": {},
     "output_type": "execute_result"
    }
   ],
   "source": [
    "type(pitch)"
   ]
  },
  {
   "cell_type": "code",
   "execution_count": 45,
   "metadata": {},
   "outputs": [
    {
     "data": {
      "text/plain": [
       "48"
      ]
     },
     "execution_count": 45,
     "metadata": {},
     "output_type": "execute_result"
    }
   ],
   "source": [
    "len(pitch)"
   ]
  },
  {
   "cell_type": "code",
   "execution_count": 46,
   "metadata": {},
   "outputs": [],
   "source": [
    "df = pd.DataFrame()"
   ]
  },
  {
   "cell_type": "code",
   "execution_count": 47,
   "metadata": {},
   "outputs": [],
   "source": [
    "from textblob import TextBlob"
   ]
  },
  {
   "cell_type": "code",
   "execution_count": 52,
   "metadata": {},
   "outputs": [
    {
     "data": {
      "text/plain": [
       "'A Piece of Beyond'"
      ]
     },
     "execution_count": 52,
     "metadata": {},
     "output_type": "execute_result"
    }
   ],
   "source": [
    "pitch[0]['album'][0]"
   ]
  },
  {
   "cell_type": "code",
   "execution_count": 67,
   "metadata": {},
   "outputs": [
    {
     "data": {
      "text/plain": [
       "'Sparrow'"
      ]
     },
     "execution_count": 67,
     "metadata": {},
     "output_type": "execute_result"
    }
   ],
   "source": [
    "pitch[1]['album'][0]"
   ]
  },
  {
   "cell_type": "code",
   "execution_count": 72,
   "metadata": {},
   "outputs": [
    {
     "data": {
      "text/plain": [
       "'DJ Bone'"
      ]
     },
     "execution_count": 72,
     "metadata": {},
     "output_type": "execute_result"
    }
   ],
   "source": [
    "pitch[0]['artists'][0]"
   ]
  },
  {
   "cell_type": "code",
   "execution_count": 73,
   "metadata": {},
   "outputs": [
    {
     "data": {
      "text/plain": [
       "48"
      ]
     },
     "execution_count": 73,
     "metadata": {},
     "output_type": "execute_result"
    }
   ],
   "source": [
    "len(pitch)"
   ]
  },
  {
   "cell_type": "code",
   "execution_count": 107,
   "metadata": {},
   "outputs": [],
   "source": [
    "artists = []\n",
    "for i in range(len(pitch)):\n",
    "    if len(pitch[i]['artists']) > 0:\n",
    "        artists.append(pitch[i]['artists'][0])\n",
    "    else:\n",
    "        artists.append('na')"
   ]
  },
  {
   "cell_type": "code",
   "execution_count": 108,
   "metadata": {},
   "outputs": [
    {
     "data": {
      "text/plain": [
       "48"
      ]
     },
     "execution_count": 108,
     "metadata": {},
     "output_type": "execute_result"
    }
   ],
   "source": [
    "len(artists)"
   ]
  },
  {
   "cell_type": "code",
   "execution_count": 111,
   "metadata": {},
   "outputs": [],
   "source": [
    "album = []\n",
    "artists = []\n",
    "review = []\n",
    "for al in range(48):\n",
    "    album.append(pitch[al]['album'][0])\n",
    "    if len(pitch[al]['artists']) > 0:\n",
    "        artists.append(pitch[al]['artists'][0])\n",
    "    else:\n",
    "        artists.append('na')\n",
    "    review.append(pitch[al]['text'][0])"
   ]
  },
  {
   "cell_type": "code",
   "execution_count": 112,
   "metadata": {},
   "outputs": [
    {
     "data": {
      "text/plain": [
       "['DJ Bone',\n",
       " 'Ashley Monroe',\n",
       " 'Sleep',\n",
       " 'Smoke DZA',\n",
       " 'Steven Julien',\n",
       " 'Del the Funky Homosapien',\n",
       " 'Nines',\n",
       " 'Mr. Fingers',\n",
       " 'Captain Beefheart and His Magic Band',\n",
       " 'Sarah Davachi',\n",
       " 'GUM',\n",
       " 'Ross From Friends',\n",
       " 'Daniel Avery',\n",
       " 'Forth Wanderers',\n",
       " 'Neil Young',\n",
       " 'Dylan Carlson',\n",
       " 'PeeWee Longway',\n",
       " 'Speedy Ortiz',\n",
       " 'Princess Nokia',\n",
       " 'Mouse on Mars',\n",
       " 'Ricky Eat Acid',\n",
       " 'DRINKS',\n",
       " 'Lena Willikens',\n",
       " 'Littlebabyangel',\n",
       " 'Robert Glasper',\n",
       " 'A Perfect Circle',\n",
       " 'Denmark Vessey',\n",
       " 'Panopticon',\n",
       " 'J. Cole',\n",
       " 'War On Women',\n",
       " 'Gang of Four',\n",
       " 'Ras G & the Afrikan Space Program',\n",
       " 'Kimbra',\n",
       " 'Half Waif',\n",
       " 'The Caretaker',\n",
       " 'Tinashe',\n",
       " 'na',\n",
       " 'nothing,nowhere.',\n",
       " 'Sting',\n",
       " 'International Harvester',\n",
       " 'Alexis Taylor',\n",
       " 'Jonathan Richman',\n",
       " 'John Maus',\n",
       " 'Post Animal',\n",
       " 'Shuggie Otis',\n",
       " 'Smokepurpp',\n",
       " 'The National',\n",
       " 'Yazan']"
      ]
     },
     "execution_count": 112,
     "metadata": {},
     "output_type": "execute_result"
    }
   ],
   "source": [
    "artists"
   ]
  },
  {
   "cell_type": "code",
   "execution_count": 114,
   "metadata": {},
   "outputs": [],
   "source": [
    "df = pd.DataFrame()\n",
    "df['Albums'] = album\n",
    "df['Artist'] = artists\n",
    "df['Review'] = review"
   ]
  },
  {
   "cell_type": "code",
   "execution_count": 115,
   "metadata": {},
   "outputs": [
    {
     "data": {
      "text/html": [
       "<div>\n",
       "<style scoped>\n",
       "    .dataframe tbody tr th:only-of-type {\n",
       "        vertical-align: middle;\n",
       "    }\n",
       "\n",
       "    .dataframe tbody tr th {\n",
       "        vertical-align: top;\n",
       "    }\n",
       "\n",
       "    .dataframe thead th {\n",
       "        text-align: right;\n",
       "    }\n",
       "</style>\n",
       "<table border=\"1\" class=\"dataframe\">\n",
       "  <thead>\n",
       "    <tr style=\"text-align: right;\">\n",
       "      <th></th>\n",
       "      <th>Albums</th>\n",
       "      <th>Artist</th>\n",
       "      <th>Review</th>\n",
       "    </tr>\n",
       "  </thead>\n",
       "  <tbody>\n",
       "    <tr>\n",
       "      <th>0</th>\n",
       "      <td>A Piece of Beyond</td>\n",
       "      <td>DJ Bone</td>\n",
       "      <td>The veteran DJ confirms his status as a treasu...</td>\n",
       "    </tr>\n",
       "    <tr>\n",
       "      <th>1</th>\n",
       "      <td>Sparrow</td>\n",
       "      <td>Ashley Monroe</td>\n",
       "      <td>The Nashville singer-songwriter looks backward...</td>\n",
       "    </tr>\n",
       "    <tr>\n",
       "      <th>2</th>\n",
       "      <td>The Sciences</td>\n",
       "      <td>Sleep</td>\n",
       "      <td>Best new music</td>\n",
       "    </tr>\n",
       "    <tr>\n",
       "      <th>3</th>\n",
       "      <td>Not for Sale</td>\n",
       "      <td>Smoke DZA</td>\n",
       "      <td>Harlem rapper Smoke DZA keeps it real on</td>\n",
       "    </tr>\n",
       "    <tr>\n",
       "      <th>4</th>\n",
       "      <td>Bloodline</td>\n",
       "      <td>Steven Julien</td>\n",
       "      <td>The London producer pays tribute to his musica...</td>\n",
       "    </tr>\n",
       "  </tbody>\n",
       "</table>\n",
       "</div>"
      ],
      "text/plain": [
       "              Albums         Artist  \\\n",
       "0  A Piece of Beyond        DJ Bone   \n",
       "1            Sparrow  Ashley Monroe   \n",
       "2       The Sciences          Sleep   \n",
       "3       Not for Sale      Smoke DZA   \n",
       "4          Bloodline  Steven Julien   \n",
       "\n",
       "                                              Review  \n",
       "0  The veteran DJ confirms his status as a treasu...  \n",
       "1  The Nashville singer-songwriter looks backward...  \n",
       "2                                     Best new music  \n",
       "3          Harlem rapper Smoke DZA keeps it real on   \n",
       "4  The London producer pays tribute to his musica...  "
      ]
     },
     "execution_count": 115,
     "metadata": {},
     "output_type": "execute_result"
    }
   ],
   "source": [
    "df.head()"
   ]
  },
  {
   "cell_type": "code",
   "execution_count": 116,
   "metadata": {},
   "outputs": [],
   "source": [
    "pol =[]\n",
    "subj = []\n",
    "for rev in df.Review:\n",
    "    blob = TextBlob(rev)\n",
    "    pol.append(blob.sentiment[0])\n",
    "    subj.append( blob.sentiment[1])"
   ]
  },
  {
   "cell_type": "code",
   "execution_count": 117,
   "metadata": {},
   "outputs": [],
   "source": [
    "df['Polarity'] = pol\n",
    "df['Subjectivity'] = pol"
   ]
  },
  {
   "cell_type": "code",
   "execution_count": 118,
   "metadata": {},
   "outputs": [
    {
     "data": {
      "text/html": [
       "<div>\n",
       "<style scoped>\n",
       "    .dataframe tbody tr th:only-of-type {\n",
       "        vertical-align: middle;\n",
       "    }\n",
       "\n",
       "    .dataframe tbody tr th {\n",
       "        vertical-align: top;\n",
       "    }\n",
       "\n",
       "    .dataframe thead th {\n",
       "        text-align: right;\n",
       "    }\n",
       "</style>\n",
       "<table border=\"1\" class=\"dataframe\">\n",
       "  <thead>\n",
       "    <tr style=\"text-align: right;\">\n",
       "      <th></th>\n",
       "      <th>Albums</th>\n",
       "      <th>Artist</th>\n",
       "      <th>Review</th>\n",
       "      <th>Polarity</th>\n",
       "      <th>Subjectivity</th>\n",
       "    </tr>\n",
       "  </thead>\n",
       "  <tbody>\n",
       "    <tr>\n",
       "      <th>0</th>\n",
       "      <td>A Piece of Beyond</td>\n",
       "      <td>DJ Bone</td>\n",
       "      <td>The veteran DJ confirms his status as a treasu...</td>\n",
       "      <td>0.155556</td>\n",
       "      <td>0.155556</td>\n",
       "    </tr>\n",
       "    <tr>\n",
       "      <th>1</th>\n",
       "      <td>Sparrow</td>\n",
       "      <td>Ashley Monroe</td>\n",
       "      <td>The Nashville singer-songwriter looks backward...</td>\n",
       "      <td>0.166667</td>\n",
       "      <td>0.166667</td>\n",
       "    </tr>\n",
       "    <tr>\n",
       "      <th>2</th>\n",
       "      <td>The Sciences</td>\n",
       "      <td>Sleep</td>\n",
       "      <td>Best new music</td>\n",
       "      <td>0.568182</td>\n",
       "      <td>0.568182</td>\n",
       "    </tr>\n",
       "    <tr>\n",
       "      <th>3</th>\n",
       "      <td>Not for Sale</td>\n",
       "      <td>Smoke DZA</td>\n",
       "      <td>Harlem rapper Smoke DZA keeps it real on</td>\n",
       "      <td>0.200000</td>\n",
       "      <td>0.200000</td>\n",
       "    </tr>\n",
       "    <tr>\n",
       "      <th>4</th>\n",
       "      <td>Bloodline</td>\n",
       "      <td>Steven Julien</td>\n",
       "      <td>The London producer pays tribute to his musica...</td>\n",
       "      <td>0.178788</td>\n",
       "      <td>0.178788</td>\n",
       "    </tr>\n",
       "  </tbody>\n",
       "</table>\n",
       "</div>"
      ],
      "text/plain": [
       "              Albums         Artist  \\\n",
       "0  A Piece of Beyond        DJ Bone   \n",
       "1            Sparrow  Ashley Monroe   \n",
       "2       The Sciences          Sleep   \n",
       "3       Not for Sale      Smoke DZA   \n",
       "4          Bloodline  Steven Julien   \n",
       "\n",
       "                                              Review  Polarity  Subjectivity  \n",
       "0  The veteran DJ confirms his status as a treasu...  0.155556      0.155556  \n",
       "1  The Nashville singer-songwriter looks backward...  0.166667      0.166667  \n",
       "2                                     Best new music  0.568182      0.568182  \n",
       "3          Harlem rapper Smoke DZA keeps it real on   0.200000      0.200000  \n",
       "4  The London producer pays tribute to his musica...  0.178788      0.178788  "
      ]
     },
     "execution_count": 118,
     "metadata": {},
     "output_type": "execute_result"
    }
   ],
   "source": [
    "df.head()"
   ]
  },
  {
   "cell_type": "code",
   "execution_count": 119,
   "metadata": {},
   "outputs": [],
   "source": [
    "%matplotlib inline\n",
    "import matplotlib.pyplot as plt"
   ]
  },
  {
   "cell_type": "code",
   "execution_count": 126,
   "metadata": {},
   "outputs": [],
   "source": [
    "df_top = df.nlargest(10, 'Polarity')"
   ]
  },
  {
   "cell_type": "code",
   "execution_count": 127,
   "metadata": {},
   "outputs": [
    {
     "data": {
      "text/html": [
       "<div>\n",
       "<style scoped>\n",
       "    .dataframe tbody tr th:only-of-type {\n",
       "        vertical-align: middle;\n",
       "    }\n",
       "\n",
       "    .dataframe tbody tr th {\n",
       "        vertical-align: top;\n",
       "    }\n",
       "\n",
       "    .dataframe thead th {\n",
       "        text-align: right;\n",
       "    }\n",
       "</style>\n",
       "<table border=\"1\" class=\"dataframe\">\n",
       "  <thead>\n",
       "    <tr style=\"text-align: right;\">\n",
       "      <th></th>\n",
       "      <th>Albums</th>\n",
       "      <th>Artist</th>\n",
       "      <th>Review</th>\n",
       "      <th>Polarity</th>\n",
       "      <th>Subjectivity</th>\n",
       "    </tr>\n",
       "  </thead>\n",
       "  <tbody>\n",
       "    <tr>\n",
       "      <th>2</th>\n",
       "      <td>The Sciences</td>\n",
       "      <td>Sleep</td>\n",
       "      <td>Best new music</td>\n",
       "      <td>0.568182</td>\n",
       "      <td>0.568182</td>\n",
       "    </tr>\n",
       "    <tr>\n",
       "      <th>8</th>\n",
       "      <td>Trout Mask Replica</td>\n",
       "      <td>Captain Beefheart and His Magic Band</td>\n",
       "      <td>Best new reissue</td>\n",
       "      <td>0.568182</td>\n",
       "      <td>0.568182</td>\n",
       "    </tr>\n",
       "    <tr>\n",
       "      <th>14</th>\n",
       "      <td>Roxy - Tonight’s the Night Live</td>\n",
       "      <td>Neil Young</td>\n",
       "      <td>Best new reissue</td>\n",
       "      <td>0.568182</td>\n",
       "      <td>0.568182</td>\n",
       "    </tr>\n",
       "    <tr>\n",
       "      <th>15</th>\n",
       "      <td>Conquistador</td>\n",
       "      <td>Dylan Carlson</td>\n",
       "      <td>The drone-metal titan’s “imaginary Western” fl...</td>\n",
       "      <td>0.500000</td>\n",
       "      <td>0.500000</td>\n",
       "    </tr>\n",
       "    <tr>\n",
       "      <th>47</th>\n",
       "      <td>Hahaha</td>\n",
       "      <td>Yazan</td>\n",
       "      <td>On his first album for Exploding in Sound, thi...</td>\n",
       "      <td>0.412500</td>\n",
       "      <td>0.412500</td>\n",
       "    </tr>\n",
       "    <tr>\n",
       "      <th>24</th>\n",
       "      <td>The ArtScience Remixes EP</td>\n",
       "      <td>Robert Glasper</td>\n",
       "      <td>This remix set, based on Glasper’s 2016 album,...</td>\n",
       "      <td>0.390000</td>\n",
       "      <td>0.390000</td>\n",
       "    </tr>\n",
       "    <tr>\n",
       "      <th>20</th>\n",
       "      <td>am i happy, singing_</td>\n",
       "      <td>Ricky Eat Acid</td>\n",
       "      <td>On this three-track album from Sam Ray’s elect...</td>\n",
       "      <td>0.375000</td>\n",
       "      <td>0.375000</td>\n",
       "    </tr>\n",
       "    <tr>\n",
       "      <th>45</th>\n",
       "      <td>Bless Yo Trap</td>\n",
       "      <td>Smokepurpp</td>\n",
       "      <td>Lil Pump’s wingman goes through the motions on...</td>\n",
       "      <td>0.368182</td>\n",
       "      <td>0.368182</td>\n",
       "    </tr>\n",
       "    <tr>\n",
       "      <th>21</th>\n",
       "      <td>Hippo Lite</td>\n",
       "      <td>DRINKS</td>\n",
       "      <td>Cate Le Bon and Tim Presley sound blissfully r...</td>\n",
       "      <td>0.340000</td>\n",
       "      <td>0.340000</td>\n",
       "    </tr>\n",
       "    <tr>\n",
       "      <th>18</th>\n",
       "      <td>A Girl Cried Red</td>\n",
       "      <td>Princess Nokia</td>\n",
       "      <td>The latest mixtape from Destiny Frasqueri pull...</td>\n",
       "      <td>0.333333</td>\n",
       "      <td>0.333333</td>\n",
       "    </tr>\n",
       "  </tbody>\n",
       "</table>\n",
       "</div>"
      ],
      "text/plain": [
       "                             Albums                                Artist  \\\n",
       "2                      The Sciences                                 Sleep   \n",
       "8                Trout Mask Replica  Captain Beefheart and His Magic Band   \n",
       "14  Roxy - Tonight’s the Night Live                            Neil Young   \n",
       "15                     Conquistador                         Dylan Carlson   \n",
       "47                           Hahaha                                 Yazan   \n",
       "24        The ArtScience Remixes EP                        Robert Glasper   \n",
       "20             am i happy, singing_                        Ricky Eat Acid   \n",
       "45                    Bless Yo Trap                            Smokepurpp   \n",
       "21                       Hippo Lite                                DRINKS   \n",
       "18                 A Girl Cried Red                        Princess Nokia   \n",
       "\n",
       "                                               Review  Polarity  Subjectivity  \n",
       "2                                      Best new music  0.568182      0.568182  \n",
       "8                                    Best new reissue  0.568182      0.568182  \n",
       "14                                   Best new reissue  0.568182      0.568182  \n",
       "15  The drone-metal titan’s “imaginary Western” fl...  0.500000      0.500000  \n",
       "47  On his first album for Exploding in Sound, thi...  0.412500      0.412500  \n",
       "24  This remix set, based on Glasper’s 2016 album,...  0.390000      0.390000  \n",
       "20  On this three-track album from Sam Ray’s elect...  0.375000      0.375000  \n",
       "45  Lil Pump’s wingman goes through the motions on...  0.368182      0.368182  \n",
       "21  Cate Le Bon and Tim Presley sound blissfully r...  0.340000      0.340000  \n",
       "18  The latest mixtape from Destiny Frasqueri pull...  0.333333      0.333333  "
      ]
     },
     "execution_count": 127,
     "metadata": {},
     "output_type": "execute_result"
    }
   ],
   "source": [
    "df_top"
   ]
  },
  {
   "cell_type": "code",
   "execution_count": 151,
   "metadata": {},
   "outputs": [
    {
     "data": {
      "image/png": "[encoded data removed]",
      "text/plain": [
       "<matplotlib.figure.Figure at 0x1169fe438>"
      ]
     },
     "metadata": {},
     "output_type": "display_data"
    }
   ],
   "source": [
    "plt.figure(figsize = (13, 5))\n",
    "plt.subplot(121)\n",
    "plt.bar( df_top.Artist,  df_top.Subjectivity,  alpha = 0.3, color = 'firebrick');\n",
    "plt.xticks(rotation = 90);\n",
    "\n",
    "plt.subplot(122)\n",
    "plt.bar( df_top.Artist,  df_top.Polarity,  alpha = 0.3);\n",
    "plt.xticks(rotation = 90);"
   ]
  },
  {
   "cell_type": "code",
   "execution_count": null,
   "metadata": {},
   "outputs": [],
   "source": []
  }
 ],
 "metadata": {
  "kernelspec": {
   "display_name": "Python 3",
   "language": "python",
   "name": "python3"
  },
  "language_info": {
   "codemirror_mode": {
    "name": "ipython",
    "version": 3
   },
   "file_extension": ".py",
   "mimetype": "text/x-python",
   "name": "python",
   "nbconvert_exporter": "python",
   "pygments_lexer": "ipython3",
   "version": "3.6.4"
  }
 },
 "nbformat": 4,
 "nbformat_minor": 2
}
