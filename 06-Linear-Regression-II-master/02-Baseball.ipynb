{
 "cells": [
  {
   "cell_type": "markdown",
   "metadata": {},
   "source": [
    "# Introduction to Sabermetrics\n",
    "\n",
    "To begin, let's use the `Pandas` library to determine some basic descriptive information about some given seasons, and create columns to compute the **batting average** of players.  We will use data from the Lahman database."
   ]
  },
  {
   "cell_type": "code",
   "execution_count": 6,
   "metadata": {
    "collapsed": true
   },
   "outputs": [],
   "source": [
    "%matplotlib inline\n",
    "import matplotlib.pyplot as plt\n",
    "import numpy as np\n",
    "import pandas as pd"
   ]
  },
  {
   "cell_type": "code",
   "execution_count": 7,
   "metadata": {
    "collapsed": true
   },
   "outputs": [],
   "source": [
    "import seaborn as sns"
   ]
  },
  {
   "cell_type": "code",
   "execution_count": 8,
   "metadata": {
    "collapsed": true
   },
   "outputs": [],
   "source": [
    "df = pd.read_csv('data/lahman/Batting.csv')"
   ]
  },
  {
   "cell_type": "code",
   "execution_count": 9,
   "metadata": {},
   "outputs": [
    {
     "data": {
      "text/html": [
       "<div>\n",
       "<style>\n",
       "    .dataframe thead tr:only-child th {\n",
       "        text-align: right;\n",
       "    }\n",
       "\n",
       "    .dataframe thead th {\n",
       "        text-align: left;\n",
       "    }\n",
       "\n",
       "    .dataframe tbody tr th {\n",
       "        vertical-align: top;\n",
       "    }\n",
       "</style>\n",
       "<table border=\"1\" class=\"dataframe\">\n",
       "  <thead>\n",
       "    <tr style=\"text-align: right;\">\n",
       "      <th></th>\n",
       "      <th>playerID</th>\n",
       "      <th>yearID</th>\n",
       "      <th>stint</th>\n",
       "      <th>teamID</th>\n",
       "      <th>lgID</th>\n",
       "      <th>G</th>\n",
       "      <th>AB</th>\n",
       "      <th>R</th>\n",
       "      <th>H</th>\n",
       "      <th>2B</th>\n",
       "      <th>...</th>\n",
       "      <th>RBI</th>\n",
       "      <th>SB</th>\n",
       "      <th>CS</th>\n",
       "      <th>BB</th>\n",
       "      <th>SO</th>\n",
       "      <th>IBB</th>\n",
       "      <th>HBP</th>\n",
       "      <th>SH</th>\n",
       "      <th>SF</th>\n",
       "      <th>GIDP</th>\n",
       "    </tr>\n",
       "  </thead>\n",
       "  <tbody>\n",
       "    <tr>\n",
       "      <th>0</th>\n",
       "      <td>abercda01</td>\n",
       "      <td>1871</td>\n",
       "      <td>1</td>\n",
       "      <td>TRO</td>\n",
       "      <td>NaN</td>\n",
       "      <td>1</td>\n",
       "      <td>4</td>\n",
       "      <td>0</td>\n",
       "      <td>0</td>\n",
       "      <td>0</td>\n",
       "      <td>...</td>\n",
       "      <td>0.0</td>\n",
       "      <td>0.0</td>\n",
       "      <td>0.0</td>\n",
       "      <td>0</td>\n",
       "      <td>0.0</td>\n",
       "      <td>NaN</td>\n",
       "      <td>NaN</td>\n",
       "      <td>NaN</td>\n",
       "      <td>NaN</td>\n",
       "      <td>0.0</td>\n",
       "    </tr>\n",
       "    <tr>\n",
       "      <th>1</th>\n",
       "      <td>addybo01</td>\n",
       "      <td>1871</td>\n",
       "      <td>1</td>\n",
       "      <td>RC1</td>\n",
       "      <td>NaN</td>\n",
       "      <td>25</td>\n",
       "      <td>118</td>\n",
       "      <td>30</td>\n",
       "      <td>32</td>\n",
       "      <td>6</td>\n",
       "      <td>...</td>\n",
       "      <td>13.0</td>\n",
       "      <td>8.0</td>\n",
       "      <td>1.0</td>\n",
       "      <td>4</td>\n",
       "      <td>0.0</td>\n",
       "      <td>NaN</td>\n",
       "      <td>NaN</td>\n",
       "      <td>NaN</td>\n",
       "      <td>NaN</td>\n",
       "      <td>0.0</td>\n",
       "    </tr>\n",
       "    <tr>\n",
       "      <th>2</th>\n",
       "      <td>allisar01</td>\n",
       "      <td>1871</td>\n",
       "      <td>1</td>\n",
       "      <td>CL1</td>\n",
       "      <td>NaN</td>\n",
       "      <td>29</td>\n",
       "      <td>137</td>\n",
       "      <td>28</td>\n",
       "      <td>40</td>\n",
       "      <td>4</td>\n",
       "      <td>...</td>\n",
       "      <td>19.0</td>\n",
       "      <td>3.0</td>\n",
       "      <td>1.0</td>\n",
       "      <td>2</td>\n",
       "      <td>5.0</td>\n",
       "      <td>NaN</td>\n",
       "      <td>NaN</td>\n",
       "      <td>NaN</td>\n",
       "      <td>NaN</td>\n",
       "      <td>1.0</td>\n",
       "    </tr>\n",
       "    <tr>\n",
       "      <th>3</th>\n",
       "      <td>allisdo01</td>\n",
       "      <td>1871</td>\n",
       "      <td>1</td>\n",
       "      <td>WS3</td>\n",
       "      <td>NaN</td>\n",
       "      <td>27</td>\n",
       "      <td>133</td>\n",
       "      <td>28</td>\n",
       "      <td>44</td>\n",
       "      <td>10</td>\n",
       "      <td>...</td>\n",
       "      <td>27.0</td>\n",
       "      <td>1.0</td>\n",
       "      <td>1.0</td>\n",
       "      <td>0</td>\n",
       "      <td>2.0</td>\n",
       "      <td>NaN</td>\n",
       "      <td>NaN</td>\n",
       "      <td>NaN</td>\n",
       "      <td>NaN</td>\n",
       "      <td>0.0</td>\n",
       "    </tr>\n",
       "    <tr>\n",
       "      <th>4</th>\n",
       "      <td>ansonca01</td>\n",
       "      <td>1871</td>\n",
       "      <td>1</td>\n",
       "      <td>RC1</td>\n",
       "      <td>NaN</td>\n",
       "      <td>25</td>\n",
       "      <td>120</td>\n",
       "      <td>29</td>\n",
       "      <td>39</td>\n",
       "      <td>11</td>\n",
       "      <td>...</td>\n",
       "      <td>16.0</td>\n",
       "      <td>6.0</td>\n",
       "      <td>2.0</td>\n",
       "      <td>2</td>\n",
       "      <td>1.0</td>\n",
       "      <td>NaN</td>\n",
       "      <td>NaN</td>\n",
       "      <td>NaN</td>\n",
       "      <td>NaN</td>\n",
       "      <td>0.0</td>\n",
       "    </tr>\n",
       "  </tbody>\n",
       "</table>\n",
       "<p>5 rows × 22 columns</p>\n",
       "</div>"
      ],
      "text/plain": [
       "    playerID  yearID  stint teamID lgID   G   AB   R   H  2B  ...    RBI   SB  \\\n",
       "0  abercda01    1871      1    TRO  NaN   1    4   0   0   0  ...    0.0  0.0   \n",
       "1   addybo01    1871      1    RC1  NaN  25  118  30  32   6  ...   13.0  8.0   \n",
       "2  allisar01    1871      1    CL1  NaN  29  137  28  40   4  ...   19.0  3.0   \n",
       "3  allisdo01    1871      1    WS3  NaN  27  133  28  44  10  ...   27.0  1.0   \n",
       "4  ansonca01    1871      1    RC1  NaN  25  120  29  39  11  ...   16.0  6.0   \n",
       "\n",
       "    CS  BB   SO  IBB  HBP  SH  SF  GIDP  \n",
       "0  0.0   0  0.0  NaN  NaN NaN NaN   0.0  \n",
       "1  1.0   4  0.0  NaN  NaN NaN NaN   0.0  \n",
       "2  1.0   2  5.0  NaN  NaN NaN NaN   1.0  \n",
       "3  1.0   0  2.0  NaN  NaN NaN NaN   0.0  \n",
       "4  2.0   2  1.0  NaN  NaN NaN NaN   0.0  \n",
       "\n",
       "[5 rows x 22 columns]"
      ]
     },
     "execution_count": 9,
     "metadata": {},
     "output_type": "execute_result"
    }
   ],
   "source": [
    "df.head()"
   ]
  },
  {
   "cell_type": "code",
   "execution_count": 10,
   "metadata": {},
   "outputs": [
    {
     "name": "stdout",
     "output_type": "stream",
     "text": [
      "<class 'pandas.core.frame.DataFrame'>\n",
      "RangeIndex: 104324 entries, 0 to 104323\n",
      "Data columns (total 22 columns):\n",
      "playerID    104324 non-null object\n",
      "yearID      104324 non-null int64\n",
      "stint       104324 non-null int64\n",
      "teamID      104324 non-null object\n",
      "lgID        103586 non-null object\n",
      "G           104324 non-null int64\n",
      "AB          104324 non-null int64\n",
      "R           104324 non-null int64\n",
      "H           104324 non-null int64\n",
      "2B          104324 non-null int64\n",
      "3B          104324 non-null int64\n",
      "HR          104324 non-null int64\n",
      "RBI         103568 non-null float64\n",
      "SB          101956 non-null float64\n",
      "CS          80832 non-null float64\n",
      "BB          104324 non-null int64\n",
      "SO          97974 non-null float64\n",
      "IBB         67722 non-null float64\n",
      "HBP         101507 non-null float64\n",
      "SH          98255 non-null float64\n",
      "SF          68259 non-null float64\n",
      "GIDP        78921 non-null float64\n",
      "dtypes: float64(9), int64(10), object(3)\n",
      "memory usage: 17.5+ MB\n"
     ]
    }
   ],
   "source": [
    "df.info()"
   ]
  },
  {
   "cell_type": "markdown",
   "metadata": {},
   "source": [
    "According to the documentation, these are the variable descriptions:\n",
    "\n",
    "- `playerID`       Player ID code\n",
    "- `yearID`         Year\n",
    "- `stint`          player's stint (order of appearances within a season)\n",
    "- `teamID`         Team\n",
    "- `lgID`           League\n",
    "- `G`              Games\n",
    "- `AB`             At Bats\n",
    "- `R`              Runs\n",
    "- `H`              Hits\n",
    "- `2B`             Doubles\n",
    "- `3B`             Triples\n",
    "- `HR `            Homeruns\n",
    "- `RBI`            Runs Batted In\n",
    "- `SB`             Stolen Bases\n",
    "- `CS`             Caught Stealing\n",
    "- `BB`             Base on Balls\n",
    "- `SO`             Strikeouts\n",
    "- `IBB`            Intentional walks\n",
    "- `HBP`            Hit by pitch\n",
    "- `SH`             Sacrifice hits\n",
    "- `SF`             Sacrifice flies\n",
    "- `GIDP`           Grounded into double plays\n",
    "\n",
    "\n",
    "So, here are some questions:\n",
    "\n",
    "1. Who has the most hits in a season?\n",
    "2. Most homeruns?\n",
    "3. What team had the most hits in 2011?\n",
    "4. Does it seem to matter what league you're in as to the number of hits?\n",
    "\n",
    "We will find that the hitting data doesn't contain very detailed information about the players, so we will use the additional player table to then find the players first and last name."
   ]
  },
  {
   "cell_type": "code",
   "execution_count": 11,
   "metadata": {},
   "outputs": [
    {
     "data": {
      "text/html": [
       "<div>\n",
       "<style>\n",
       "    .dataframe thead tr:only-child th {\n",
       "        text-align: right;\n",
       "    }\n",
       "\n",
       "    .dataframe thead th {\n",
       "        text-align: left;\n",
       "    }\n",
       "\n",
       "    .dataframe tbody tr th {\n",
       "        vertical-align: top;\n",
       "    }\n",
       "</style>\n",
       "<table border=\"1\" class=\"dataframe\">\n",
       "  <thead>\n",
       "    <tr style=\"text-align: right;\">\n",
       "      <th></th>\n",
       "      <th>playerID</th>\n",
       "      <th>yearID</th>\n",
       "      <th>stint</th>\n",
       "      <th>teamID</th>\n",
       "      <th>lgID</th>\n",
       "      <th>G</th>\n",
       "      <th>AB</th>\n",
       "      <th>R</th>\n",
       "      <th>H</th>\n",
       "      <th>2B</th>\n",
       "      <th>...</th>\n",
       "      <th>RBI</th>\n",
       "      <th>SB</th>\n",
       "      <th>CS</th>\n",
       "      <th>BB</th>\n",
       "      <th>SO</th>\n",
       "      <th>IBB</th>\n",
       "      <th>HBP</th>\n",
       "      <th>SH</th>\n",
       "      <th>SF</th>\n",
       "      <th>GIDP</th>\n",
       "    </tr>\n",
       "  </thead>\n",
       "  <tbody>\n",
       "    <tr>\n",
       "      <th>85828</th>\n",
       "      <td>suzukic01</td>\n",
       "      <td>2004</td>\n",
       "      <td>1</td>\n",
       "      <td>SEA</td>\n",
       "      <td>AL</td>\n",
       "      <td>161</td>\n",
       "      <td>704</td>\n",
       "      <td>101</td>\n",
       "      <td>262</td>\n",
       "      <td>24</td>\n",
       "      <td>...</td>\n",
       "      <td>60.0</td>\n",
       "      <td>36.0</td>\n",
       "      <td>11.0</td>\n",
       "      <td>49</td>\n",
       "      <td>63.0</td>\n",
       "      <td>19.0</td>\n",
       "      <td>4.0</td>\n",
       "      <td>2.0</td>\n",
       "      <td>3.0</td>\n",
       "      <td>6.0</td>\n",
       "    </tr>\n",
       "  </tbody>\n",
       "</table>\n",
       "<p>1 rows × 22 columns</p>\n",
       "</div>"
      ],
      "text/plain": [
       "        playerID  yearID  stint teamID lgID    G   AB    R    H  2B  ...   \\\n",
       "85828  suzukic01    2004      1    SEA   AL  161  704  101  262  24  ...    \n",
       "\n",
       "        RBI    SB    CS  BB    SO   IBB  HBP   SH   SF  GIDP  \n",
       "85828  60.0  36.0  11.0  49  63.0  19.0  4.0  2.0  3.0   6.0  \n",
       "\n",
       "[1 rows x 22 columns]"
      ]
     },
     "execution_count": 11,
     "metadata": {},
     "output_type": "execute_result"
    }
   ],
   "source": [
    "df.nlargest(1, 'H')"
   ]
  },
  {
   "cell_type": "code",
   "execution_count": 12,
   "metadata": {
    "collapsed": true
   },
   "outputs": [],
   "source": [
    "player = pd.read_csv('data/lahman/People.csv')"
   ]
  },
  {
   "cell_type": "code",
   "execution_count": 13,
   "metadata": {},
   "outputs": [
    {
     "data": {
      "text/html": [
       "<div>\n",
       "<style>\n",
       "    .dataframe thead tr:only-child th {\n",
       "        text-align: right;\n",
       "    }\n",
       "\n",
       "    .dataframe thead th {\n",
       "        text-align: left;\n",
       "    }\n",
       "\n",
       "    .dataframe tbody tr th {\n",
       "        vertical-align: top;\n",
       "    }\n",
       "</style>\n",
       "<table border=\"1\" class=\"dataframe\">\n",
       "  <thead>\n",
       "    <tr style=\"text-align: right;\">\n",
       "      <th></th>\n",
       "      <th>playerID</th>\n",
       "      <th>birthYear</th>\n",
       "      <th>birthMonth</th>\n",
       "      <th>birthDay</th>\n",
       "      <th>birthCountry</th>\n",
       "      <th>birthState</th>\n",
       "      <th>birthCity</th>\n",
       "      <th>deathYear</th>\n",
       "      <th>deathMonth</th>\n",
       "      <th>deathDay</th>\n",
       "      <th>...</th>\n",
       "      <th>nameLast</th>\n",
       "      <th>nameGiven</th>\n",
       "      <th>weight</th>\n",
       "      <th>height</th>\n",
       "      <th>bats</th>\n",
       "      <th>throws</th>\n",
       "      <th>debut</th>\n",
       "      <th>finalGame</th>\n",
       "      <th>retroID</th>\n",
       "      <th>bbrefID</th>\n",
       "    </tr>\n",
       "  </thead>\n",
       "  <tbody>\n",
       "    <tr>\n",
       "      <th>0</th>\n",
       "      <td>aardsda01</td>\n",
       "      <td>1981.0</td>\n",
       "      <td>12.0</td>\n",
       "      <td>27.0</td>\n",
       "      <td>USA</td>\n",
       "      <td>CO</td>\n",
       "      <td>Denver</td>\n",
       "      <td>NaN</td>\n",
       "      <td>NaN</td>\n",
       "      <td>NaN</td>\n",
       "      <td>...</td>\n",
       "      <td>Aardsma</td>\n",
       "      <td>David Allan</td>\n",
       "      <td>215.0</td>\n",
       "      <td>75.0</td>\n",
       "      <td>R</td>\n",
       "      <td>R</td>\n",
       "      <td>2004-04-06</td>\n",
       "      <td>2015-08-23</td>\n",
       "      <td>aardd001</td>\n",
       "      <td>aardsda01</td>\n",
       "    </tr>\n",
       "    <tr>\n",
       "      <th>1</th>\n",
       "      <td>aaronha01</td>\n",
       "      <td>1934.0</td>\n",
       "      <td>2.0</td>\n",
       "      <td>5.0</td>\n",
       "      <td>USA</td>\n",
       "      <td>AL</td>\n",
       "      <td>Mobile</td>\n",
       "      <td>NaN</td>\n",
       "      <td>NaN</td>\n",
       "      <td>NaN</td>\n",
       "      <td>...</td>\n",
       "      <td>Aaron</td>\n",
       "      <td>Henry Louis</td>\n",
       "      <td>180.0</td>\n",
       "      <td>72.0</td>\n",
       "      <td>R</td>\n",
       "      <td>R</td>\n",
       "      <td>1954-04-13</td>\n",
       "      <td>1976-10-03</td>\n",
       "      <td>aaroh101</td>\n",
       "      <td>aaronha01</td>\n",
       "    </tr>\n",
       "    <tr>\n",
       "      <th>2</th>\n",
       "      <td>aaronto01</td>\n",
       "      <td>1939.0</td>\n",
       "      <td>8.0</td>\n",
       "      <td>5.0</td>\n",
       "      <td>USA</td>\n",
       "      <td>AL</td>\n",
       "      <td>Mobile</td>\n",
       "      <td>1984.0</td>\n",
       "      <td>8.0</td>\n",
       "      <td>16.0</td>\n",
       "      <td>...</td>\n",
       "      <td>Aaron</td>\n",
       "      <td>Tommie Lee</td>\n",
       "      <td>190.0</td>\n",
       "      <td>75.0</td>\n",
       "      <td>R</td>\n",
       "      <td>R</td>\n",
       "      <td>1962-04-10</td>\n",
       "      <td>1971-09-26</td>\n",
       "      <td>aarot101</td>\n",
       "      <td>aaronto01</td>\n",
       "    </tr>\n",
       "    <tr>\n",
       "      <th>3</th>\n",
       "      <td>aasedo01</td>\n",
       "      <td>1954.0</td>\n",
       "      <td>9.0</td>\n",
       "      <td>8.0</td>\n",
       "      <td>USA</td>\n",
       "      <td>CA</td>\n",
       "      <td>Orange</td>\n",
       "      <td>NaN</td>\n",
       "      <td>NaN</td>\n",
       "      <td>NaN</td>\n",
       "      <td>...</td>\n",
       "      <td>Aase</td>\n",
       "      <td>Donald William</td>\n",
       "      <td>190.0</td>\n",
       "      <td>75.0</td>\n",
       "      <td>R</td>\n",
       "      <td>R</td>\n",
       "      <td>1977-07-26</td>\n",
       "      <td>1990-10-03</td>\n",
       "      <td>aased001</td>\n",
       "      <td>aasedo01</td>\n",
       "    </tr>\n",
       "    <tr>\n",
       "      <th>4</th>\n",
       "      <td>abadan01</td>\n",
       "      <td>1972.0</td>\n",
       "      <td>8.0</td>\n",
       "      <td>25.0</td>\n",
       "      <td>USA</td>\n",
       "      <td>FL</td>\n",
       "      <td>Palm Beach</td>\n",
       "      <td>NaN</td>\n",
       "      <td>NaN</td>\n",
       "      <td>NaN</td>\n",
       "      <td>...</td>\n",
       "      <td>Abad</td>\n",
       "      <td>Fausto Andres</td>\n",
       "      <td>184.0</td>\n",
       "      <td>73.0</td>\n",
       "      <td>L</td>\n",
       "      <td>L</td>\n",
       "      <td>2001-09-10</td>\n",
       "      <td>2006-04-13</td>\n",
       "      <td>abada001</td>\n",
       "      <td>abadan01</td>\n",
       "    </tr>\n",
       "  </tbody>\n",
       "</table>\n",
       "<p>5 rows × 24 columns</p>\n",
       "</div>"
      ],
      "text/plain": [
       "    playerID  birthYear  birthMonth  birthDay birthCountry birthState  \\\n",
       "0  aardsda01     1981.0        12.0      27.0          USA         CO   \n",
       "1  aaronha01     1934.0         2.0       5.0          USA         AL   \n",
       "2  aaronto01     1939.0         8.0       5.0          USA         AL   \n",
       "3   aasedo01     1954.0         9.0       8.0          USA         CA   \n",
       "4   abadan01     1972.0         8.0      25.0          USA         FL   \n",
       "\n",
       "    birthCity  deathYear  deathMonth  deathDay    ...     nameLast  \\\n",
       "0      Denver        NaN         NaN       NaN    ...      Aardsma   \n",
       "1      Mobile        NaN         NaN       NaN    ...        Aaron   \n",
       "2      Mobile     1984.0         8.0      16.0    ...        Aaron   \n",
       "3      Orange        NaN         NaN       NaN    ...         Aase   \n",
       "4  Palm Beach        NaN         NaN       NaN    ...         Abad   \n",
       "\n",
       "        nameGiven weight height bats throws       debut   finalGame   retroID  \\\n",
       "0     David Allan  215.0   75.0    R      R  2004-04-06  2015-08-23  aardd001   \n",
       "1     Henry Louis  180.0   72.0    R      R  1954-04-13  1976-10-03  aaroh101   \n",
       "2      Tommie Lee  190.0   75.0    R      R  1962-04-10  1971-09-26  aarot101   \n",
       "3  Donald William  190.0   75.0    R      R  1977-07-26  1990-10-03  aased001   \n",
       "4   Fausto Andres  184.0   73.0    L      L  2001-09-10  2006-04-13  abada001   \n",
       "\n",
       "     bbrefID  \n",
       "0  aardsda01  \n",
       "1  aaronha01  \n",
       "2  aaronto01  \n",
       "3   aasedo01  \n",
       "4   abadan01  \n",
       "\n",
       "[5 rows x 24 columns]"
      ]
     },
     "execution_count": 13,
     "metadata": {},
     "output_type": "execute_result"
    }
   ],
   "source": [
    "player.head()"
   ]
  },
  {
   "cell_type": "code",
   "execution_count": 15,
   "metadata": {},
   "outputs": [
    {
     "data": {
      "text/plain": [
       "Index(['playerID', 'yearID', 'stint', 'teamID', 'lgID', 'G', 'AB', 'R', 'H',\n",
       "       '2B', '3B', 'HR', 'RBI', 'SB', 'CS', 'BB', 'SO', 'IBB', 'HBP', 'SH',\n",
       "       'SF', 'GIDP', 'birthYear', 'birthMonth', 'birthDay', 'birthCountry',\n",
       "       'birthState', 'birthCity', 'deathYear', 'deathMonth', 'deathDay',\n",
       "       'deathCountry', 'deathState', 'deathCity', 'nameFirst', 'nameLast',\n",
       "       'nameGiven', 'weight', 'height', 'bats', 'throws', 'debut', 'finalGame',\n",
       "       'retroID', 'bbrefID'],\n",
       "      dtype='object')"
      ]
     },
     "execution_count": 15,
     "metadata": {},
     "output_type": "execute_result"
    }
   ],
   "source": [
    "df.nlargest(1, 'H').merge(player, on='playerID').columns\n",
    "#Showing the concept of merging (i.e., joinging)"
   ]
  },
  {
   "cell_type": "code",
   "execution_count": 16,
   "metadata": {},
   "outputs": [
    {
     "data": {
      "text/plain": [
       "Index(['playerID', 'yearID', 'stint', 'teamID', 'lgID', 'G', 'AB', 'R', 'H',\n",
       "       '2B', '3B', 'HR', 'RBI', 'SB', 'CS', 'BB', 'SO', 'IBB', 'HBP', 'SH',\n",
       "       'SF', 'GIDP'],\n",
       "      dtype='object')"
      ]
     },
     "execution_count": 16,
     "metadata": {},
     "output_type": "execute_result"
    }
   ],
   "source": [
    "df.columns"
   ]
  },
  {
   "cell_type": "code",
   "execution_count": 10,
   "metadata": {},
   "outputs": [
    {
     "data": {
      "text/html": [
       "<div>\n",
       "<style>\n",
       "    .dataframe thead tr:only-child th {\n",
       "        text-align: right;\n",
       "    }\n",
       "\n",
       "    .dataframe thead th {\n",
       "        text-align: left;\n",
       "    }\n",
       "\n",
       "    .dataframe tbody tr th {\n",
       "        vertical-align: top;\n",
       "    }\n",
       "</style>\n",
       "<table border=\"1\" class=\"dataframe\">\n",
       "  <thead>\n",
       "    <tr style=\"text-align: right;\">\n",
       "      <th></th>\n",
       "      <th>yearID</th>\n",
       "      <th>nameFirst</th>\n",
       "      <th>nameLast</th>\n",
       "      <th>HR</th>\n",
       "    </tr>\n",
       "  </thead>\n",
       "  <tbody>\n",
       "    <tr>\n",
       "      <th>0</th>\n",
       "      <td>2001</td>\n",
       "      <td>Barry</td>\n",
       "      <td>Bonds</td>\n",
       "      <td>73</td>\n",
       "    </tr>\n",
       "  </tbody>\n",
       "</table>\n",
       "</div>"
      ],
      "text/plain": [
       "   yearID nameFirst nameLast  HR\n",
       "0    2001     Barry    Bonds  73"
      ]
     },
     "execution_count": 10,
     "metadata": {},
     "output_type": "execute_result"
    }
   ],
   "source": [
    "df.nlargest(1, 'HR').merge(player, on='playerID')[['yearID', 'nameFirst', 'nameLast', 'HR']]\n",
    "#Showing the concept of merging (i.e., joinging)--again"
   ]
  },
  {
   "cell_type": "code",
   "execution_count": 11,
   "metadata": {},
   "outputs": [
    {
     "name": "stdout",
     "output_type": "stream",
     "text": [
      "           H\n",
      "teamID      \n",
      "BOS     1600\n",
      "TEX     1599\n",
      "KCA     1560\n",
      "DET     1540\n",
      "SLN     1513\n"
     ]
    },
    {
     "data": {
      "text/plain": [
       "<matplotlib.axes._subplots.AxesSubplot at 0x2561b56a1d0>"
      ]
     },
     "execution_count": 11,
     "metadata": {},
     "output_type": "execute_result"
    },
    {
     "data": {
      "image/png": "[encoded data removed]",
      "text/plain": [
       "<matplotlib.figure.Figure at 0x25619652940>"
      ]
     },
     "metadata": {},
     "output_type": "display_data"
    }
   ],
   "source": [
    "print(df[df['yearID'] == 2011].groupby('teamID')[['teamID', 'H']].sum().nlargest(5, 'H'))\n",
    "df[df['yearID'] == 2011].groupby('teamID')[['teamID', 'H']].sum().nlargest(5, 'H').plot(kind = 'bar')"
   ]
  },
  {
   "cell_type": "code",
   "execution_count": 17,
   "metadata": {},
   "outputs": [
    {
     "data": {
      "text/plain": [
       "lgID\n",
       "AA    Axes(0.125,0.125;0.775x0.755)\n",
       "AL    Axes(0.125,0.125;0.775x0.755)\n",
       "FL    Axes(0.125,0.125;0.775x0.755)\n",
       "NL    Axes(0.125,0.125;0.775x0.755)\n",
       "PL    Axes(0.125,0.125;0.775x0.755)\n",
       "UA    Axes(0.125,0.125;0.775x0.755)\n",
       "Name: HR, dtype: object"
      ]
     },
     "execution_count": 17,
     "metadata": {},
     "output_type": "execute_result"
    },
    {
     "data": {
      "image/png": "[encoded data removed]",
      "text/plain": [
       "<matplotlib.figure.Figure at 0x22fdb83c9b0>"
      ]
     },
     "metadata": {},
     "output_type": "display_data"
    }
   ],
   "source": [
    "df.groupby('lgID')['HR'].plot(kind = 'density')"
   ]
  },
  {
   "cell_type": "code",
   "execution_count": 18,
   "metadata": {
    "collapsed": true
   },
   "outputs": [],
   "source": [
    "leagues = df[(df['lgID'] == 'NL' )| (df['lgID'] == 'AL')]"
   ]
  },
  {
   "cell_type": "code",
   "execution_count": 19,
   "metadata": {},
   "outputs": [
    {
     "data": {
      "text/plain": [
       "lgID\n",
       "AL    Axes(0.125,0.125;0.775x0.755)\n",
       "NL    Axes(0.125,0.125;0.775x0.755)\n",
       "Name: HR, dtype: object"
      ]
     },
     "execution_count": 19,
     "metadata": {},
     "output_type": "execute_result"
    },
    {
     "data": {
      "image/png": "[encoded data removed]",
      "text/plain": [
       "<matplotlib.figure.Figure at 0x22fdce46e10>"
      ]
     },
     "metadata": {},
     "output_type": "display_data"
    }
   ],
   "source": [
    "leagues.groupby('lgID')['HR'].plot(kind = 'density', figsize = (10, 5), legend = True)"
   ]
  },
  {
   "cell_type": "code",
   "execution_count": 20,
   "metadata": {},
   "outputs": [
    {
     "data": {
      "text/plain": [
       "146908"
      ]
     },
     "execution_count": 20,
     "metadata": {},
     "output_type": "execute_result"
    }
   ],
   "source": [
    "df[df['lgID'] == 'AL']['HR'].sum()"
   ]
  },
  {
   "cell_type": "code",
   "execution_count": 21,
   "metadata": {},
   "outputs": [
    {
     "data": {
      "text/plain": [
       "145386"
      ]
     },
     "execution_count": 21,
     "metadata": {},
     "output_type": "execute_result"
    }
   ],
   "source": [
    "df[df['lgID'] == 'NL']['HR'].sum()"
   ]
  },
  {
   "cell_type": "markdown",
   "metadata": {},
   "source": [
    "### Batting Average\n",
    "\n",
    "$$BA = \\frac{\\text{Hits}}{\\text{At Bats}}$$"
   ]
  },
  {
   "cell_type": "code",
   "execution_count": 22,
   "metadata": {
    "collapsed": true
   },
   "outputs": [],
   "source": [
    "df['batting_average'] = df.H / df.AB"
   ]
  },
  {
   "cell_type": "code",
   "execution_count": 23,
   "metadata": {},
   "outputs": [
    {
     "data": {
      "text/plain": [
       "0.20862018734214524"
      ]
     },
     "execution_count": 23,
     "metadata": {},
     "output_type": "execute_result"
    }
   ],
   "source": [
    "df.batting_average.mean()"
   ]
  },
  {
   "cell_type": "markdown",
   "metadata": {},
   "source": [
    "In 2016, did the Yankees have a better batting average than the rest of the league?"
   ]
  },
  {
   "cell_type": "code",
   "execution_count": 37,
   "metadata": {
    "scrolled": true
   },
   "outputs": [
    {
     "data": {
      "text/html": [
       "<div>\n",
       "<style>\n",
       "    .dataframe thead tr:only-child th {\n",
       "        text-align: right;\n",
       "    }\n",
       "\n",
       "    .dataframe thead th {\n",
       "        text-align: left;\n",
       "    }\n",
       "\n",
       "    .dataframe tbody tr th {\n",
       "        vertical-align: top;\n",
       "    }\n",
       "</style>\n",
       "<table border=\"1\" class=\"dataframe\">\n",
       "  <thead>\n",
       "    <tr style=\"text-align: right;\">\n",
       "      <th></th>\n",
       "      <th>batting_average</th>\n",
       "    </tr>\n",
       "    <tr>\n",
       "      <th>teamID</th>\n",
       "      <th></th>\n",
       "    </tr>\n",
       "  </thead>\n",
       "  <tbody>\n",
       "    <tr>\n",
       "      <th>BS1</th>\n",
       "      <td>0.306413</td>\n",
       "    </tr>\n",
       "    <tr>\n",
       "      <th>PH1</th>\n",
       "      <td>0.290351</td>\n",
       "    </tr>\n",
       "    <tr>\n",
       "      <th>TRO</th>\n",
       "      <td>0.284186</td>\n",
       "    </tr>\n",
       "    <tr>\n",
       "      <th>NYP</th>\n",
       "      <td>0.280707</td>\n",
       "    </tr>\n",
       "    <tr>\n",
       "      <th>RC1</th>\n",
       "      <td>0.264593</td>\n",
       "    </tr>\n",
       "    <tr>\n",
       "      <th>NY2</th>\n",
       "      <td>0.262561</td>\n",
       "    </tr>\n",
       "    <tr>\n",
       "      <th>ML3</th>\n",
       "      <td>0.259324</td>\n",
       "    </tr>\n",
       "    <tr>\n",
       "      <th>BLN</th>\n",
       "      <td>0.257830</td>\n",
       "    </tr>\n",
       "    <tr>\n",
       "      <th>MID</th>\n",
       "      <td>0.255648</td>\n",
       "    </tr>\n",
       "    <tr>\n",
       "      <th>PHP</th>\n",
       "      <td>0.255554</td>\n",
       "    </tr>\n",
       "    <tr>\n",
       "      <th>PTP</th>\n",
       "      <td>0.255499</td>\n",
       "    </tr>\n",
       "    <tr>\n",
       "      <th>HAR</th>\n",
       "      <td>0.253638</td>\n",
       "    </tr>\n",
       "    <tr>\n",
       "      <th>CH1</th>\n",
       "      <td>0.251851</td>\n",
       "    </tr>\n",
       "    <tr>\n",
       "      <th>BRP</th>\n",
       "      <td>0.251116</td>\n",
       "    </tr>\n",
       "    <tr>\n",
       "      <th>BLA</th>\n",
       "      <td>0.247335</td>\n",
       "    </tr>\n",
       "    <tr>\n",
       "      <th>PH2</th>\n",
       "      <td>0.246013</td>\n",
       "    </tr>\n",
       "    <tr>\n",
       "      <th>CNU</th>\n",
       "      <td>0.245731</td>\n",
       "    </tr>\n",
       "    <tr>\n",
       "      <th>CL1</th>\n",
       "      <td>0.244944</td>\n",
       "    </tr>\n",
       "    <tr>\n",
       "      <th>CHP</th>\n",
       "      <td>0.242821</td>\n",
       "    </tr>\n",
       "    <tr>\n",
       "      <th>BRF</th>\n",
       "      <td>0.239638</td>\n",
       "    </tr>\n",
       "    <tr>\n",
       "      <th>BL1</th>\n",
       "      <td>0.238946</td>\n",
       "    </tr>\n",
       "    <tr>\n",
       "      <th>ALT</th>\n",
       "      <td>0.238714</td>\n",
       "    </tr>\n",
       "    <tr>\n",
       "      <th>BSP</th>\n",
       "      <td>0.238463</td>\n",
       "    </tr>\n",
       "    <tr>\n",
       "      <th>HR1</th>\n",
       "      <td>0.237792</td>\n",
       "    </tr>\n",
       "    <tr>\n",
       "      <th>SLF</th>\n",
       "      <td>0.236984</td>\n",
       "    </tr>\n",
       "    <tr>\n",
       "      <th>WS5</th>\n",
       "      <td>0.236937</td>\n",
       "    </tr>\n",
       "    <tr>\n",
       "      <th>NH1</th>\n",
       "      <td>0.236844</td>\n",
       "    </tr>\n",
       "    <tr>\n",
       "      <th>CHU</th>\n",
       "      <td>0.236749</td>\n",
       "    </tr>\n",
       "    <tr>\n",
       "      <th>CH2</th>\n",
       "      <td>0.235730</td>\n",
       "    </tr>\n",
       "    <tr>\n",
       "      <th>CL4</th>\n",
       "      <td>0.235507</td>\n",
       "    </tr>\n",
       "    <tr>\n",
       "      <th>...</th>\n",
       "      <td>...</td>\n",
       "    </tr>\n",
       "    <tr>\n",
       "      <th>ATL</th>\n",
       "      <td>0.198994</td>\n",
       "    </tr>\n",
       "    <tr>\n",
       "      <th>PHN</th>\n",
       "      <td>0.198618</td>\n",
       "    </tr>\n",
       "    <tr>\n",
       "      <th>ARI</th>\n",
       "      <td>0.198155</td>\n",
       "    </tr>\n",
       "    <tr>\n",
       "      <th>LAN</th>\n",
       "      <td>0.197875</td>\n",
       "    </tr>\n",
       "    <tr>\n",
       "      <th>SFN</th>\n",
       "      <td>0.197563</td>\n",
       "    </tr>\n",
       "    <tr>\n",
       "      <th>KC2</th>\n",
       "      <td>0.196549</td>\n",
       "    </tr>\n",
       "    <tr>\n",
       "      <th>LAA</th>\n",
       "      <td>0.195789</td>\n",
       "    </tr>\n",
       "    <tr>\n",
       "      <th>WOR</th>\n",
       "      <td>0.195677</td>\n",
       "    </tr>\n",
       "    <tr>\n",
       "      <th>NYN</th>\n",
       "      <td>0.194898</td>\n",
       "    </tr>\n",
       "    <tr>\n",
       "      <th>WS6</th>\n",
       "      <td>0.194355</td>\n",
       "    </tr>\n",
       "    <tr>\n",
       "      <th>TL2</th>\n",
       "      <td>0.192372</td>\n",
       "    </tr>\n",
       "    <tr>\n",
       "      <th>MON</th>\n",
       "      <td>0.190649</td>\n",
       "    </tr>\n",
       "    <tr>\n",
       "      <th>KEO</th>\n",
       "      <td>0.190352</td>\n",
       "    </tr>\n",
       "    <tr>\n",
       "      <th>FLO</th>\n",
       "      <td>0.189803</td>\n",
       "    </tr>\n",
       "    <tr>\n",
       "      <th>HOU</th>\n",
       "      <td>0.187722</td>\n",
       "    </tr>\n",
       "    <tr>\n",
       "      <th>WS8</th>\n",
       "      <td>0.187576</td>\n",
       "    </tr>\n",
       "    <tr>\n",
       "      <th>KC1</th>\n",
       "      <td>0.187124</td>\n",
       "    </tr>\n",
       "    <tr>\n",
       "      <th>SE1</th>\n",
       "      <td>0.186925</td>\n",
       "    </tr>\n",
       "    <tr>\n",
       "      <th>SPU</th>\n",
       "      <td>0.185908</td>\n",
       "    </tr>\n",
       "    <tr>\n",
       "      <th>SL1</th>\n",
       "      <td>0.183916</td>\n",
       "    </tr>\n",
       "    <tr>\n",
       "      <th>SDN</th>\n",
       "      <td>0.183583</td>\n",
       "    </tr>\n",
       "    <tr>\n",
       "      <th>SL5</th>\n",
       "      <td>0.181886</td>\n",
       "    </tr>\n",
       "    <tr>\n",
       "      <th>MIL</th>\n",
       "      <td>0.178547</td>\n",
       "    </tr>\n",
       "    <tr>\n",
       "      <th>KCU</th>\n",
       "      <td>0.178226</td>\n",
       "    </tr>\n",
       "    <tr>\n",
       "      <th>MIA</th>\n",
       "      <td>0.177877</td>\n",
       "    </tr>\n",
       "    <tr>\n",
       "      <th>WS2</th>\n",
       "      <td>0.176960</td>\n",
       "    </tr>\n",
       "    <tr>\n",
       "      <th>WSU</th>\n",
       "      <td>0.172140</td>\n",
       "    </tr>\n",
       "    <tr>\n",
       "      <th>BL4</th>\n",
       "      <td>0.154187</td>\n",
       "    </tr>\n",
       "    <tr>\n",
       "      <th>WIL</th>\n",
       "      <td>0.141122</td>\n",
       "    </tr>\n",
       "    <tr>\n",
       "      <th>NY3</th>\n",
       "      <td>0.132126</td>\n",
       "    </tr>\n",
       "  </tbody>\n",
       "</table>\n",
       "<p>149 rows × 1 columns</p>\n",
       "</div>"
      ],
      "text/plain": [
       "        batting_average\n",
       "teamID                 \n",
       "BS1            0.306413\n",
       "PH1            0.290351\n",
       "TRO            0.284186\n",
       "NYP            0.280707\n",
       "RC1            0.264593\n",
       "NY2            0.262561\n",
       "ML3            0.259324\n",
       "BLN            0.257830\n",
       "MID            0.255648\n",
       "PHP            0.255554\n",
       "PTP            0.255499\n",
       "HAR            0.253638\n",
       "CH1            0.251851\n",
       "BRP            0.251116\n",
       "BLA            0.247335\n",
       "PH2            0.246013\n",
       "CNU            0.245731\n",
       "CL1            0.244944\n",
       "CHP            0.242821\n",
       "BRF            0.239638\n",
       "BL1            0.238946\n",
       "ALT            0.238714\n",
       "BSP            0.238463\n",
       "HR1            0.237792\n",
       "SLF            0.236984\n",
       "WS5            0.236937\n",
       "NH1            0.236844\n",
       "CHU            0.236749\n",
       "CH2            0.235730\n",
       "CL4            0.235507\n",
       "...                 ...\n",
       "ATL            0.198994\n",
       "PHN            0.198618\n",
       "ARI            0.198155\n",
       "LAN            0.197875\n",
       "SFN            0.197563\n",
       "KC2            0.196549\n",
       "LAA            0.195789\n",
       "WOR            0.195677\n",
       "NYN            0.194898\n",
       "WS6            0.194355\n",
       "TL2            0.192372\n",
       "MON            0.190649\n",
       "KEO            0.190352\n",
       "FLO            0.189803\n",
       "HOU            0.187722\n",
       "WS8            0.187576\n",
       "KC1            0.187124\n",
       "SE1            0.186925\n",
       "SPU            0.185908\n",
       "SL1            0.183916\n",
       "SDN            0.183583\n",
       "SL5            0.181886\n",
       "MIL            0.178547\n",
       "KCU            0.178226\n",
       "MIA            0.177877\n",
       "WS2            0.176960\n",
       "WSU            0.172140\n",
       "BL4            0.154187\n",
       "WIL            0.141122\n",
       "NY3            0.132126\n",
       "\n",
       "[149 rows x 1 columns]"
      ]
     },
     "execution_count": 37,
     "metadata": {},
     "output_type": "execute_result"
    }
   ],
   "source": [
    "df.groupby(df.teamID)[['teamID', 'batting_average']].mean().sort_values('batting_average', ascending=False)"
   ]
  },
  {
   "cell_type": "code",
   "execution_count": 34,
   "metadata": {
    "collapsed": true
   },
   "outputs": [],
   "source": [
    "df.sort_values?"
   ]
  },
  {
   "cell_type": "code",
   "execution_count": null,
   "metadata": {
    "collapsed": true
   },
   "outputs": [],
   "source": []
  },
  {
   "cell_type": "code",
   "execution_count": null,
   "metadata": {
    "collapsed": true
   },
   "outputs": [],
   "source": []
  },
  {
   "cell_type": "code",
   "execution_count": 28,
   "metadata": {},
   "outputs": [
    {
     "data": {
      "text/plain": [
       "<matplotlib.collections.PathCollection at 0x2561beb3be0>"
      ]
     },
     "execution_count": 28,
     "metadata": {},
     "output_type": "execute_result"
    },
    {
     "data": {
      "image/png": "[encoded data removed]",
      "text/plain": [
       "<matplotlib.figure.Figure at 0x2561b0c2390>"
      ]
     },
     "metadata": {},
     "output_type": "display_data"
    }
   ],
   "source": [
    "plt.scatter(df.batting_average, df.R)"
   ]
  },
  {
   "cell_type": "code",
   "execution_count": 39,
   "metadata": {
    "collapsed": true
   },
   "outputs": [],
   "source": [
    "teams = df.groupby('teamID')[['batting_average', 'R']].mean()"
   ]
  },
  {
   "cell_type": "code",
   "execution_count": 41,
   "metadata": {},
   "outputs": [
    {
     "data": {
      "text/html": [
       "<div>\n",
       "<style>\n",
       "    .dataframe thead tr:only-child th {\n",
       "        text-align: right;\n",
       "    }\n",
       "\n",
       "    .dataframe thead th {\n",
       "        text-align: left;\n",
       "    }\n",
       "\n",
       "    .dataframe tbody tr th {\n",
       "        vertical-align: top;\n",
       "    }\n",
       "</style>\n",
       "<table border=\"1\" class=\"dataframe\">\n",
       "  <thead>\n",
       "    <tr style=\"text-align: right;\">\n",
       "      <th></th>\n",
       "      <th>batting_average</th>\n",
       "      <th>R</th>\n",
       "    </tr>\n",
       "    <tr>\n",
       "      <th>teamID</th>\n",
       "      <th></th>\n",
       "      <th></th>\n",
       "    </tr>\n",
       "  </thead>\n",
       "  <tbody>\n",
       "    <tr>\n",
       "      <th>ARI</th>\n",
       "      <td>0.198155</td>\n",
       "      <td>15.910270</td>\n",
       "    </tr>\n",
       "    <tr>\n",
       "      <th>ATL</th>\n",
       "      <td>0.198994</td>\n",
       "      <td>16.662344</td>\n",
       "    </tr>\n",
       "    <tr>\n",
       "      <th>BAL</th>\n",
       "      <td>0.209805</td>\n",
       "      <td>17.086807</td>\n",
       "    </tr>\n",
       "    <tr>\n",
       "      <th>ANA</th>\n",
       "      <td>0.221224</td>\n",
       "      <td>18.709199</td>\n",
       "    </tr>\n",
       "    <tr>\n",
       "      <th>ALT</th>\n",
       "      <td>0.238714</td>\n",
       "      <td>5.000000</td>\n",
       "    </tr>\n",
       "  </tbody>\n",
       "</table>\n",
       "</div>"
      ],
      "text/plain": [
       "        batting_average          R\n",
       "teamID                            \n",
       "ARI            0.198155  15.910270\n",
       "ATL            0.198994  16.662344\n",
       "BAL            0.209805  17.086807\n",
       "ANA            0.221224  18.709199\n",
       "ALT            0.238714   5.000000"
      ]
     },
     "execution_count": 41,
     "metadata": {},
     "output_type": "execute_result"
    }
   ],
   "source": [
    "teams.head().sort_values('batting_average')"
   ]
  },
  {
   "cell_type": "code",
   "execution_count": 45,
   "metadata": {},
   "outputs": [
    {
     "data": {
      "text/plain": [
       "<matplotlib.axes._subplots.AxesSubplot at 0x22fdcf02208>"
      ]
     },
     "execution_count": 45,
     "metadata": {},
     "output_type": "execute_result"
    },
    {
     "data": {
      "image/png": "[encoded data removed]",
      "text/plain": [
       "<matplotlib.figure.Figure at 0x22fdcf64390>"
      ]
     },
     "metadata": {},
     "output_type": "display_data"
    }
   ],
   "source": [
    "teams.plot('R', 'batting_average', figsize = (9, 4), kind='scatter', title = 'Runs against Batting Average')"
   ]
  },
  {
   "cell_type": "code",
   "execution_count": 46,
   "metadata": {},
   "outputs": [
    {
     "data": {
      "text/plain": [
       "<matplotlib.axes._subplots.AxesSubplot at 0x22fdb5bd8d0>"
      ]
     },
     "execution_count": 46,
     "metadata": {},
     "output_type": "execute_result"
    },
    {
     "data": {
      "image/png": "[encoded data removed]",
      "text/plain": [
       "<matplotlib.figure.Figure at 0x22fdd009828>"
      ]
     },
     "metadata": {},
     "output_type": "display_data"
    }
   ],
   "source": [
    "plt.figure(figsize = (9, 4))\n",
    "sns.regplot('R', 'batting_average', data = teams)"
   ]
  },
  {
   "cell_type": "code",
   "execution_count": 47,
   "metadata": {
    "collapsed": true
   },
   "outputs": [],
   "source": [
    "def lin_reg_plot(df, x, y):\n",
    "    lr = LinearRegression()\n",
    "    lr.fit(df[x].values.reshape(-1,1), df[y])\n",
    "    pred = lr.predict(df[x].values.reshape(-1,1))\n",
    "    print('Score: ', lr.score(df[x].values.reshape(-1,1), df[y]))\n",
    "    plt.figure(figsize = (9, 4))\n",
    "    sns.regplot(x, y, data = df)\n",
    "    \n",
    "    # Fits a linear moddel, prints the score of the model, and displays a regplot\n",
    "    #\"Score\" is \"how much of the data is \""
   ]
  },
  {
   "cell_type": "code",
   "execution_count": 48,
   "metadata": {
    "collapsed": true
   },
   "outputs": [],
   "source": [
    "from sklearn.linear_model import LinearRegression"
   ]
  },
  {
   "cell_type": "code",
   "execution_count": 49,
   "metadata": {},
   "outputs": [
    {
     "name": "stdout",
     "output_type": "stream",
     "text": [
      "Score:  0.332677963041\n"
     ]
    },
    {
     "data": {
      "image/png": "[encoded data removed]",
      "text/plain": [
       "<matplotlib.figure.Figure at 0x22fde15b908>"
      ]
     },
     "metadata": {},
     "output_type": "display_data"
    }
   ],
   "source": [
    "lin_reg_plot(teams, 'R', 'batting_average')"
   ]
  },
  {
   "cell_type": "code",
   "execution_count": 50,
   "metadata": {},
   "outputs": [
    {
     "name": "stdout",
     "output_type": "stream",
     "text": [
      "<class 'pandas.core.frame.DataFrame'>\n",
      "RangeIndex: 104324 entries, 0 to 104323\n",
      "Data columns (total 23 columns):\n",
      "playerID           104324 non-null object\n",
      "yearID             104324 non-null int64\n",
      "stint              104324 non-null int64\n",
      "teamID             104324 non-null object\n",
      "lgID               103586 non-null object\n",
      "G                  104324 non-null int64\n",
      "AB                 104324 non-null int64\n",
      "R                  104324 non-null int64\n",
      "H                  104324 non-null int64\n",
      "2B                 104324 non-null int64\n",
      "3B                 104324 non-null int64\n",
      "HR                 104324 non-null int64\n",
      "RBI                103568 non-null float64\n",
      "SB                 101956 non-null float64\n",
      "CS                 80832 non-null float64\n",
      "BB                 104324 non-null int64\n",
      "SO                 97974 non-null float64\n",
      "IBB                67722 non-null float64\n",
      "HBP                101507 non-null float64\n",
      "SH                 98255 non-null float64\n",
      "SF                 68259 non-null float64\n",
      "GIDP               78921 non-null float64\n",
      "batting_average    88461 non-null float64\n",
      "dtypes: float64(10), int64(10), object(3)\n",
      "memory usage: 18.3+ MB\n"
     ]
    }
   ],
   "source": [
    "df.info()"
   ]
  },
  {
   "cell_type": "code",
   "execution_count": 37,
   "metadata": {
    "collapsed": true
   },
   "outputs": [],
   "source": [
    "run_counts = df[(df['yearID'] > 1954) & (df['yearID'] < 2012)].groupby(['yearID', 'teamID'])[['R', 'batting_average']].agg({'R': 'sum', 'batting_average': 'mean'})\n",
    "ba= df[(df['yearID'] > 1954) & (df['yearID'] < 2012)].groupby(['yearID', 'teamID'])[['batting_average']].mean()"
   ]
  },
  {
   "cell_type": "code",
   "execution_count": 38,
   "metadata": {},
   "outputs": [
    {
     "data": {
      "text/plain": [
       "(1422, 1)"
      ]
     },
     "execution_count": 38,
     "metadata": {},
     "output_type": "execute_result"
    }
   ],
   "source": [
    "ba.shape"
   ]
  },
  {
   "cell_type": "code",
   "execution_count": 39,
   "metadata": {},
   "outputs": [
    {
     "data": {
      "text/plain": [
       "(1422, 2)"
      ]
     },
     "execution_count": 39,
     "metadata": {},
     "output_type": "execute_result"
    }
   ],
   "source": [
    "run_counts.shape"
   ]
  },
  {
   "cell_type": "code",
   "execution_count": 40,
   "metadata": {},
   "outputs": [
    {
     "data": {
      "text/plain": [
       "<matplotlib.axes._subplots.AxesSubplot at 0x2561c0057b8>"
      ]
     },
     "execution_count": 40,
     "metadata": {},
     "output_type": "execute_result"
    },
    {
     "data": {
      "image/png": "[encoded data removed]",
      "text/plain": [
       "<matplotlib.figure.Figure at 0x2561ee94c88>"
      ]
     },
     "metadata": {},
     "output_type": "display_data"
    }
   ],
   "source": [
    "plt.figure(figsize = (9, 4))\n",
    "sns.regplot( run_counts.R, run_counts.batting_average)\n"
   ]
  },
  {
   "cell_type": "code",
   "execution_count": 41,
   "metadata": {},
   "outputs": [
    {
     "data": {
      "text/plain": [
       "0.07777602996325228"
      ]
     },
     "execution_count": 41,
     "metadata": {},
     "output_type": "execute_result"
    }
   ],
   "source": [
    "y = run_counts.batting_average\n",
    "X = run_counts.R.values.reshape(-1,1)\n",
    "lr = LinearRegression()\n",
    "lr.fit(X, y)\n",
    "lr.score(X, y)"
   ]
  },
  {
   "cell_type": "code",
   "execution_count": 42,
   "metadata": {},
   "outputs": [
    {
     "data": {
      "text/plain": [
       "array([  7.96023471e-05])"
      ]
     },
     "execution_count": 42,
     "metadata": {},
     "output_type": "execute_result"
    }
   ],
   "source": [
    "lr.coef_"
   ]
  },
  {
   "cell_type": "code",
   "execution_count": 43,
   "metadata": {},
   "outputs": [
    {
     "data": {
      "text/plain": [
       "0.15241354901746035"
      ]
     },
     "execution_count": 43,
     "metadata": {},
     "output_type": "execute_result"
    }
   ],
   "source": [
    "lr.intercept_"
   ]
  },
  {
   "cell_type": "code",
   "execution_count": 44,
   "metadata": {},
   "outputs": [
    {
     "data": {
      "text/plain": [
       "(1422, 1)"
      ]
     },
     "execution_count": 44,
     "metadata": {},
     "output_type": "execute_result"
    }
   ],
   "source": [
    "X.shape"
   ]
  },
  {
   "cell_type": "code",
   "execution_count": 45,
   "metadata": {},
   "outputs": [
    {
     "name": "stdout",
     "output_type": "stream",
     "text": [
      "<class 'pandas.core.frame.DataFrame'>\n",
      "RangeIndex: 104324 entries, 0 to 104323\n",
      "Data columns (total 23 columns):\n",
      "playerID           104324 non-null object\n",
      "yearID             104324 non-null int64\n",
      "stint              104324 non-null int64\n",
      "teamID             104324 non-null object\n",
      "lgID               103586 non-null object\n",
      "G                  104324 non-null int64\n",
      "AB                 104324 non-null int64\n",
      "R                  104324 non-null int64\n",
      "H                  104324 non-null int64\n",
      "2B                 104324 non-null int64\n",
      "3B                 104324 non-null int64\n",
      "HR                 104324 non-null int64\n",
      "RBI                103568 non-null float64\n",
      "SB                 101956 non-null float64\n",
      "CS                 80832 non-null float64\n",
      "BB                 104324 non-null int64\n",
      "SO                 97974 non-null float64\n",
      "IBB                67722 non-null float64\n",
      "HBP                101507 non-null float64\n",
      "SH                 98255 non-null float64\n",
      "SF                 68259 non-null float64\n",
      "GIDP               78921 non-null float64\n",
      "batting_average    88461 non-null float64\n",
      "dtypes: float64(10), int64(10), object(3)\n",
      "memory usage: 18.3+ MB\n"
     ]
    }
   ],
   "source": [
    "df.info()"
   ]
  },
  {
   "cell_type": "code",
   "execution_count": 51,
   "metadata": {
    "collapsed": true
   },
   "outputs": [],
   "source": [
    "players = df[df.AB > 40]"
   ]
  },
  {
   "cell_type": "code",
   "execution_count": 47,
   "metadata": {
    "collapsed": true
   },
   "outputs": [],
   "source": [
    "run_counts = players[(players['yearID'] > 1954) & (players['yearID'] < 2012)].groupby(['yearID', 'teamID'])[['R', 'batting_average']].agg({'R': 'sum', 'batting_average': 'mean'})\n",
    "ba= players[(players['yearID'] > 1954) & (players['yearID'] < 2012)].groupby(['yearID', 'teamID'])[['batting_average']].mean()"
   ]
  },
  {
   "cell_type": "code",
   "execution_count": 48,
   "metadata": {},
   "outputs": [
    {
     "data": {
      "text/plain": [
       "<matplotlib.axes._subplots.AxesSubplot at 0x2561eeed828>"
      ]
     },
     "execution_count": 48,
     "metadata": {},
     "output_type": "execute_result"
    },
    {
     "data": {
      "image/png": "[encoded data removed]",
      "text/plain": [
       "<matplotlib.figure.Figure at 0x2561eec9f60>"
      ]
     },
     "metadata": {},
     "output_type": "display_data"
    }
   ],
   "source": [
    "plt.figure(figsize = (9, 4))\n",
    "sns.regplot( run_counts.R, run_counts.batting_average)"
   ]
  },
  {
   "cell_type": "code",
   "execution_count": 55,
   "metadata": {},
   "outputs": [
    {
     "ename": "NameError",
     "evalue": "name 'run_counts' is not defined",
     "output_type": "error",
     "traceback": [
      "\u001b[1;31m---------------------------------------------------------------------------\u001b[0m",
      "\u001b[1;31mNameError\u001b[0m                                 Traceback (most recent call last)",
      "\u001b[1;32m<ipython-input-55-a94c856a366d>\u001b[0m in \u001b[0;36m<module>\u001b[1;34m()\u001b[0m\n\u001b[1;32m----> 1\u001b[1;33m \u001b[0my\u001b[0m \u001b[1;33m=\u001b[0m \u001b[0mrun_counts\u001b[0m\u001b[1;33m.\u001b[0m\u001b[0mbatting_average\u001b[0m\u001b[1;33m\u001b[0m\u001b[0m\n\u001b[0m\u001b[0;32m      2\u001b[0m \u001b[0mX\u001b[0m \u001b[1;33m=\u001b[0m \u001b[0mrun_counts\u001b[0m\u001b[1;33m.\u001b[0m\u001b[0mR\u001b[0m\u001b[1;33m.\u001b[0m\u001b[0mvalues\u001b[0m\u001b[1;33m.\u001b[0m\u001b[0mreshape\u001b[0m\u001b[1;33m(\u001b[0m\u001b[1;33m-\u001b[0m\u001b[1;36m1\u001b[0m\u001b[1;33m,\u001b[0m\u001b[1;36m1\u001b[0m\u001b[1;33m)\u001b[0m\u001b[1;33m\u001b[0m\u001b[0m\n\u001b[0;32m      3\u001b[0m \u001b[0mlr\u001b[0m \u001b[1;33m=\u001b[0m \u001b[0mLinearRegression\u001b[0m\u001b[1;33m(\u001b[0m\u001b[1;33m)\u001b[0m\u001b[1;33m\u001b[0m\u001b[0m\n\u001b[0;32m      4\u001b[0m \u001b[0mlr\u001b[0m\u001b[1;33m.\u001b[0m\u001b[0mfit\u001b[0m\u001b[1;33m(\u001b[0m\u001b[0mX\u001b[0m\u001b[1;33m,\u001b[0m \u001b[0my\u001b[0m\u001b[1;33m)\u001b[0m\u001b[1;33m\u001b[0m\u001b[0m\n\u001b[0;32m      5\u001b[0m \u001b[0mlr\u001b[0m\u001b[1;33m.\u001b[0m\u001b[0mscore\u001b[0m\u001b[1;33m(\u001b[0m\u001b[0mX\u001b[0m\u001b[1;33m,\u001b[0m \u001b[0my\u001b[0m\u001b[1;33m)\u001b[0m\u001b[1;33m\u001b[0m\u001b[0m\n",
      "\u001b[1;31mNameError\u001b[0m: name 'run_counts' is not defined"
     ]
    }
   ],
   "source": [
    "y = run_counts.batting_average\n",
    "X = run_counts.R.values.reshape(-1,1)\n",
    "lr = LinearRegression()\n",
    "lr.fit(X, y)\n",
    "lr.score(X, y)"
   ]
  },
  {
   "cell_type": "markdown",
   "metadata": {},
   "source": [
    "### PROBLEM\n",
    "\n",
    "- Runs vs. Home Runs\n",
    "- Runs vs. Home Runs Allowed\n",
    "- Runs vs. Hits\n",
    "- On Base Percentage vs. Runs\n",
    "\n",
    "$$\\text{On Base Percentage} = \\frac{H + BB + HBP}{AB + BB + HBP + SF}$$\n",
    "\n",
    "Note the numerator is referred to as **Total Bases**(TB)\n",
    "- Slugging Percentage vs. Runs\n",
    "\n",
    "$$\\text{Slugging Percentage} = \\frac{1B + 2B*2 + 3B*3 + HR*4}{AB}$$\n",
    "\n",
    "- OPS\n",
    "\n",
    "$$OBP = OBP + SLG$$\n",
    "\n",
    "- Runs Created\n",
    "\n",
    "$$\\text{Runs Created} = \\frac{(H + BB) * TB}{AB + BB}$$"
   ]
  },
  {
   "cell_type": "code",
   "execution_count": 56,
   "metadata": {},
   "outputs": [
    {
     "data": {
      "text/plain": [
       "Index(['playerID', 'yearID', 'stint', 'teamID', 'lgID', 'G', 'AB', 'R', 'H',\n",
       "       '2B', '3B', 'HR', 'RBI', 'SB', 'CS', 'BB', 'SO', 'IBB', 'HBP', 'SH',\n",
       "       'SF', 'GIDP', 'batting_average', 'OBP', '1B', 'TB', 'SLUG', 'OPS',\n",
       "       'runs_created'],\n",
       "      dtype='object')"
      ]
     },
     "execution_count": 56,
     "metadata": {},
     "output_type": "execute_result"
    }
   ],
   "source": [
    "df.columns"
   ]
  },
  {
   "cell_type": "code",
   "execution_count": 57,
   "metadata": {
    "collapsed": true
   },
   "outputs": [],
   "source": [
    "df['OBP'] = (df.H + df.BB + df.HBP) / (df.AB + df.BB + df.HBP + df.SF)\n",
    "df['1B'] = df['H'] - (df['2B'] + df['3B'] + df['HR'])\n",
    "df['TB'] = df['1B'] + (df['2B'] * 2) + (df['3B'] * 3) + (df['HR']*4)\n",
    "df['SLUG'] = df['TB']/df['AB']\n",
    "df['OPS'] = df.SLUG + df.OBP\n",
    "df['runs_created'] = ((df.H + df.BB) * df.TB) / (df.AB + df.BB)"
   ]
  },
  {
   "cell_type": "code",
   "execution_count": 59,
   "metadata": {},
   "outputs": [
    {
     "data": {
      "text/plain": [
       "0.21728230673086601"
      ]
     },
     "execution_count": 59,
     "metadata": {},
     "output_type": "execute_result"
    }
   ],
   "source": [
    "df_noNA = df[df['yearID']>1954].dropna()\n",
    "X = df_noNA.SLUG.values.reshape(-1,1)\n",
    "y = df_noNA.R\n",
    "lr = LinearRegression()\n",
    "lr.fit(X,y)\n",
    "pred = lr.predict(X)\n",
    "lr.score(X,y)"
   ]
  },
  {
   "cell_type": "code",
   "execution_count": 60,
   "metadata": {},
   "outputs": [
    {
     "data": {
      "text/plain": [
       "0.1774351790282328"
      ]
     },
     "execution_count": 60,
     "metadata": {},
     "output_type": "execute_result"
    }
   ],
   "source": [
    "df_noNA = df[df['yearID']>1954].dropna()\n",
    "X = df_noNA.OBP.values.reshape(-1,1)\n",
    "y = df_noNA.R\n",
    "lr = LinearRegression()\n",
    "lr.fit(X,y)\n",
    "pred = lr.predict(X)\n",
    "lr.score(X,y)"
   ]
  },
  {
   "cell_type": "code",
   "execution_count": 62,
   "metadata": {},
   "outputs": [
    {
     "data": {
      "text/plain": [
       "0.21728230673086601"
      ]
     },
     "execution_count": 62,
     "metadata": {},
     "output_type": "execute_result"
    }
   ],
   "source": [
    "df_noNA = df[df['yearID']>1954].dropna()\n",
    "X = df_noNA.SLUG.values.reshape(-1,1)\n",
    "y = df_noNA.R\n",
    "lr = LinearRegression()\n",
    "lr.fit(X,y)\n",
    "pred = lr.predict(X)\n",
    "lr.score(X,y)"
   ]
  },
  {
   "cell_type": "code",
   "execution_count": 67,
   "metadata": {},
   "outputs": [
    {
     "data": {
      "text/plain": [
       "0.22081818539170761"
      ]
     },
     "execution_count": 67,
     "metadata": {},
     "output_type": "execute_result"
    }
   ],
   "source": [
    "df_noNA = df[df['yearID']>1954].dropna()\n",
    "X = df_noNA[['SLUG', 'OBP', 'OPS']]\n",
    "y = df_noNA.R\n",
    "lr = LinearRegression()\n",
    "lr.fit(X,y)\n",
    "pred = lr.predict(X)\n",
    "lr.score(X,y)"
   ]
  },
  {
   "cell_type": "code",
   "execution_count": 125,
   "metadata": {
    "collapsed": true
   },
   "outputs": [],
   "source": [
    "teams = df_noNA.groupby(df.teamID)"
   ]
  },
  {
   "cell_type": "code",
   "execution_count": 132,
   "metadata": {},
   "outputs": [
    {
     "data": {
      "text/plain": [
       "0.9993047848442781"
      ]
     },
     "execution_count": 132,
     "metadata": {},
     "output_type": "execute_result"
    }
   ],
   "source": [
    "X = teams.R.sum().values.reshape(-1,1)\n",
    "y = teams.runs_created.sum()\n",
    "lr = LinearRegression()\n",
    "lr.fit(X,y)\n",
    "pred = lr.predict(X)\n",
    "lr.score(X,y)"
   ]
  },
  {
   "cell_type": "code",
   "execution_count": null,
   "metadata": {
    "collapsed": true
   },
   "outputs": [],
   "source": []
  }
 ],
 "metadata": {
  "kernelspec": {
   "display_name": "Python 3",
   "language": "python",
   "name": "python3"
  },
  "language_info": {
   "codemirror_mode": {
    "name": "ipython",
    "version": 3
   },
   "file_extension": ".py",
   "mimetype": "text/x-python",
   "name": "python",
   "nbconvert_exporter": "python",
   "pygments_lexer": "ipython3",
   "version": "3.6.1"
  }
 },
 "nbformat": 4,
 "nbformat_minor": 2
}
