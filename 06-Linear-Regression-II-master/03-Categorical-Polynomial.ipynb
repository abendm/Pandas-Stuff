{
 "cells": [
  {
   "cell_type": "code",
   "execution_count": 1,
   "metadata": {
    "collapsed": true
   },
   "outputs": [],
   "source": [
    "%matplotlib notebook\n",
    "import matplotlib.pyplot as plt\n",
    "import numpy as np\n",
    "import pandas as pd\n",
    "import seaborn as sns\n",
    "import statsmodels.formula.api as smf"
   ]
  },
  {
   "cell_type": "markdown",
   "metadata": {},
   "source": [
    "# Improving Regression\n",
    "\n",
    "\n",
    "- Coding Qualitative Variables\n",
    "- Polynomial Regression"
   ]
  },
  {
   "cell_type": "code",
   "execution_count": 2,
   "metadata": {
    "collapsed": true
   },
   "outputs": [],
   "source": [
    "from sklearn.linear_model import LinearRegression\n",
    "from sklearn.pipeline import Pipeline\n",
    "from sklearn.metrics import mean_squared_error"
   ]
  },
  {
   "cell_type": "markdown",
   "metadata": {},
   "source": [
    "### Qualitative Features\n",
    "\n",
    "To this point, we've only examined quantitative features.  Here, we follow an example where we can incorporate some qualitative features into our analysis.  In our dataset below, we have four variables that are qualitative:\n",
    "\n",
    "    Gender, Student, Married, Ethnicity\n",
    "    \n",
    "We begin by considering the relationship between `Gender` and `Balance`."
   ]
  },
  {
   "cell_type": "code",
   "execution_count": 3,
   "metadata": {
    "collapsed": true
   },
   "outputs": [],
   "source": [
    "credit = pd.read_csv('data/credit.csv', index_col = 'Unnamed: 0')"
   ]
  },
  {
   "cell_type": "code",
   "execution_count": 4,
   "metadata": {},
   "outputs": [
    {
     "name": "stdout",
     "output_type": "stream",
     "text": [
      "<class 'pandas.core.frame.DataFrame'>\n",
      "Int64Index: 400 entries, 1 to 400\n",
      "Data columns (total 11 columns):\n",
      "Income       400 non-null float64\n",
      "Limit        400 non-null int64\n",
      "Rating       400 non-null int64\n",
      "Cards        400 non-null int64\n",
      "Age          400 non-null int64\n",
      "Education    400 non-null int64\n",
      "Gender       400 non-null object\n",
      "Student      400 non-null object\n",
      "Married      400 non-null object\n",
      "Ethnicity    400 non-null object\n",
      "Balance      400 non-null int64\n",
      "dtypes: float64(1), int64(6), object(4)\n",
      "memory usage: 37.5+ KB\n"
     ]
    }
   ],
   "source": [
    "credit.info()"
   ]
  },
  {
   "cell_type": "code",
   "execution_count": 5,
   "metadata": {},
   "outputs": [
    {
     "data": {
      "text/html": [
       "<div>\n",
       "<style scoped>\n",
       "    .dataframe tbody tr th:only-of-type {\n",
       "        vertical-align: middle;\n",
       "    }\n",
       "\n",
       "    .dataframe tbody tr th {\n",
       "        vertical-align: top;\n",
       "    }\n",
       "\n",
       "    .dataframe thead th {\n",
       "        text-align: right;\n",
       "    }\n",
       "</style>\n",
       "<table border=\"1\" class=\"dataframe\">\n",
       "  <thead>\n",
       "    <tr style=\"text-align: right;\">\n",
       "      <th></th>\n",
       "      <th>Income</th>\n",
       "      <th>Limit</th>\n",
       "      <th>Rating</th>\n",
       "      <th>Cards</th>\n",
       "      <th>Age</th>\n",
       "      <th>Education</th>\n",
       "      <th>Gender</th>\n",
       "      <th>Student</th>\n",
       "      <th>Married</th>\n",
       "      <th>Ethnicity</th>\n",
       "      <th>Balance</th>\n",
       "    </tr>\n",
       "  </thead>\n",
       "  <tbody>\n",
       "    <tr>\n",
       "      <th>1</th>\n",
       "      <td>14.891</td>\n",
       "      <td>3606</td>\n",
       "      <td>283</td>\n",
       "      <td>2</td>\n",
       "      <td>34</td>\n",
       "      <td>11</td>\n",
       "      <td>Male</td>\n",
       "      <td>No</td>\n",
       "      <td>Yes</td>\n",
       "      <td>Caucasian</td>\n",
       "      <td>333</td>\n",
       "    </tr>\n",
       "    <tr>\n",
       "      <th>2</th>\n",
       "      <td>106.025</td>\n",
       "      <td>6645</td>\n",
       "      <td>483</td>\n",
       "      <td>3</td>\n",
       "      <td>82</td>\n",
       "      <td>15</td>\n",
       "      <td>Female</td>\n",
       "      <td>Yes</td>\n",
       "      <td>Yes</td>\n",
       "      <td>Asian</td>\n",
       "      <td>903</td>\n",
       "    </tr>\n",
       "    <tr>\n",
       "      <th>3</th>\n",
       "      <td>104.593</td>\n",
       "      <td>7075</td>\n",
       "      <td>514</td>\n",
       "      <td>4</td>\n",
       "      <td>71</td>\n",
       "      <td>11</td>\n",
       "      <td>Male</td>\n",
       "      <td>No</td>\n",
       "      <td>No</td>\n",
       "      <td>Asian</td>\n",
       "      <td>580</td>\n",
       "    </tr>\n",
       "    <tr>\n",
       "      <th>4</th>\n",
       "      <td>148.924</td>\n",
       "      <td>9504</td>\n",
       "      <td>681</td>\n",
       "      <td>3</td>\n",
       "      <td>36</td>\n",
       "      <td>11</td>\n",
       "      <td>Female</td>\n",
       "      <td>No</td>\n",
       "      <td>No</td>\n",
       "      <td>Asian</td>\n",
       "      <td>964</td>\n",
       "    </tr>\n",
       "    <tr>\n",
       "      <th>5</th>\n",
       "      <td>55.882</td>\n",
       "      <td>4897</td>\n",
       "      <td>357</td>\n",
       "      <td>2</td>\n",
       "      <td>68</td>\n",
       "      <td>16</td>\n",
       "      <td>Male</td>\n",
       "      <td>No</td>\n",
       "      <td>Yes</td>\n",
       "      <td>Caucasian</td>\n",
       "      <td>331</td>\n",
       "    </tr>\n",
       "  </tbody>\n",
       "</table>\n",
       "</div>"
      ],
      "text/plain": [
       "    Income  Limit  Rating  Cards  Age  Education  Gender Student Married  \\\n",
       "1   14.891   3606     283      2   34         11    Male      No     Yes   \n",
       "2  106.025   6645     483      3   82         15  Female     Yes     Yes   \n",
       "3  104.593   7075     514      4   71         11    Male      No      No   \n",
       "4  148.924   9504     681      3   36         11  Female      No      No   \n",
       "5   55.882   4897     357      2   68         16    Male      No     Yes   \n",
       "\n",
       "   Ethnicity  Balance  \n",
       "1  Caucasian      333  \n",
       "2      Asian      903  \n",
       "3      Asian      580  \n",
       "4      Asian      964  \n",
       "5  Caucasian      331  "
      ]
     },
     "execution_count": 5,
     "metadata": {},
     "output_type": "execute_result"
    }
   ],
   "source": [
    "credit.head()"
   ]
  },
  {
   "cell_type": "code",
   "execution_count": 6,
   "metadata": {
    "collapsed": true
   },
   "outputs": [],
   "source": [
    "from pandas.plotting import scatter_matrix"
   ]
  },
  {
   "cell_type": "code",
   "execution_count": 9,
   "metadata": {},
   "outputs": [
    {
     "data": {
      "image/png": "[encoded data removed]",
      "text/plain": [
       "<Figure size 432x288 with 49 Axes>"
      ]
     },
     "metadata": {},
     "output_type": "display_data"
    }
   ],
   "source": [
    "scatter_matrix(credit);"
   ]
  },
  {
   "cell_type": "code",
   "execution_count": 10,
   "metadata": {
    "collapsed": true
   },
   "outputs": [],
   "source": [
    "lm = smf.ols('Balance ~ Gender', data = credit).fit()"
   ]
  },
  {
   "cell_type": "code",
   "execution_count": 11,
   "metadata": {},
   "outputs": [
    {
     "data": {
      "text/html": [
       "<table class=\"simpletable\">\n",
       "<tr>\n",
       "        <td>Model:</td>               <td>OLS</td>         <td>Adj. R-squared:</td>     <td>-0.002</td>  \n",
       "</tr>\n",
       "<tr>\n",
       "  <td>Dependent Variable:</td>      <td>Balance</td>            <td>AIC:</td>          <td>6042.5268</td>\n",
       "</tr>\n",
       "<tr>\n",
       "         <td>Date:</td>        <td>2018-08-07 20:09</td>        <td>BIC:</td>          <td>6050.5097</td>\n",
       "</tr>\n",
       "<tr>\n",
       "   <td>No. Observations:</td>         <td>400</td>         <td>Log-Likelihood:</td>     <td>-3019.3</td> \n",
       "</tr>\n",
       "<tr>\n",
       "       <td>Df Model:</td>              <td>1</td>           <td>F-statistic:</td>       <td>0.1836</td>  \n",
       "</tr>\n",
       "<tr>\n",
       "     <td>Df Residuals:</td>           <td>398</td>       <td>Prob (F-statistic):</td>    <td>0.669</td>  \n",
       "</tr>\n",
       "<tr>\n",
       "      <td>R-squared:</td>            <td>0.000</td>            <td>Scale:</td>        <td>2.1181e+05</td>\n",
       "</tr>\n",
       "</table>\n",
       "<table class=\"simpletable\">\n",
       "<tr>\n",
       "          <td></td>           <th>Coef.</th>  <th>Std.Err.</th>    <th>t</th>     <th>P>|t|</th>  <th>[0.025</th>   <th>0.975]</th> \n",
       "</tr>\n",
       "<tr>\n",
       "  <th>Intercept</th>        <td>509.8031</td>  <td>33.1281</td> <td>15.3889</td> <td>0.0000</td> <td>444.6752</td> <td>574.9310</td>\n",
       "</tr>\n",
       "<tr>\n",
       "  <th>Gender[T.Female]</th>  <td>19.7331</td>  <td>46.0512</td> <td>0.4285</td>  <td>0.6685</td> <td>-70.8009</td> <td>110.2671</td>\n",
       "</tr>\n",
       "</table>\n",
       "<table class=\"simpletable\">\n",
       "<tr>\n",
       "     <td>Omnibus:</td>    <td>28.438</td>  <td>Durbin-Watson:</td>    <td>1.940</td>\n",
       "</tr>\n",
       "<tr>\n",
       "  <td>Prob(Omnibus):</td>  <td>0.000</td> <td>Jarque-Bera (JB):</td> <td>27.346</td>\n",
       "</tr>\n",
       "<tr>\n",
       "       <td>Skew:</td>      <td>0.583</td>     <td>Prob(JB):</td>      <td>0.000</td>\n",
       "</tr>\n",
       "<tr>\n",
       "     <td>Kurtosis:</td>    <td>2.471</td>  <td>Condition No.:</td>      <td>3</td>  \n",
       "</tr>\n",
       "</table>"
      ],
      "text/plain": [
       "<class 'statsmodels.iolib.summary2.Summary'>\n",
       "\"\"\"\n",
       "                  Results: Ordinary least squares\n",
       "===================================================================\n",
       "Model:              OLS              Adj. R-squared:     -0.002    \n",
       "Dependent Variable: Balance          AIC:                6042.5268 \n",
       "Date:               2018-08-07 20:09 BIC:                6050.5097 \n",
       "No. Observations:   400              Log-Likelihood:     -3019.3   \n",
       "Df Model:           1                F-statistic:        0.1836    \n",
       "Df Residuals:       398              Prob (F-statistic): 0.669     \n",
       "R-squared:          0.000            Scale:              2.1181e+05\n",
       "-------------------------------------------------------------------\n",
       "                  Coef.   Std.Err.    t    P>|t|   [0.025   0.975] \n",
       "-------------------------------------------------------------------\n",
       "Intercept        509.8031  33.1281 15.3889 0.0000 444.6752 574.9310\n",
       "Gender[T.Female]  19.7331  46.0512  0.4285 0.6685 -70.8009 110.2671\n",
       "-------------------------------------------------------------------\n",
       "Omnibus:              28.438        Durbin-Watson:           1.940 \n",
       "Prob(Omnibus):        0.000         Jarque-Bera (JB):        27.346\n",
       "Skew:                 0.583         Prob(JB):                0.000 \n",
       "Kurtosis:             2.471         Condition No.:           3     \n",
       "===================================================================\n",
       "\n",
       "\"\"\""
      ]
     },
     "execution_count": 11,
     "metadata": {},
     "output_type": "execute_result"
    }
   ],
   "source": [
    "lm.summary2()"
   ]
  },
  {
   "cell_type": "code",
   "execution_count": 12,
   "metadata": {},
   "outputs": [
    {
     "data": {
      "text/html": [
       "<div>\n",
       "<style scoped>\n",
       "    .dataframe tbody tr th:only-of-type {\n",
       "        vertical-align: middle;\n",
       "    }\n",
       "\n",
       "    .dataframe tbody tr th {\n",
       "        vertical-align: top;\n",
       "    }\n",
       "\n",
       "    .dataframe thead th {\n",
       "        text-align: right;\n",
       "    }\n",
       "</style>\n",
       "<table border=\"1\" class=\"dataframe\">\n",
       "  <thead>\n",
       "    <tr style=\"text-align: right;\">\n",
       "      <th></th>\n",
       "      <th>Income</th>\n",
       "      <th>Limit</th>\n",
       "      <th>Rating</th>\n",
       "      <th>Cards</th>\n",
       "      <th>Age</th>\n",
       "      <th>Education</th>\n",
       "      <th>Gender</th>\n",
       "      <th>Student</th>\n",
       "      <th>Married</th>\n",
       "      <th>Ethnicity</th>\n",
       "      <th>Balance</th>\n",
       "    </tr>\n",
       "  </thead>\n",
       "  <tbody>\n",
       "    <tr>\n",
       "      <th>1</th>\n",
       "      <td>14.891</td>\n",
       "      <td>3606</td>\n",
       "      <td>283</td>\n",
       "      <td>2</td>\n",
       "      <td>34</td>\n",
       "      <td>11</td>\n",
       "      <td>Male</td>\n",
       "      <td>No</td>\n",
       "      <td>Yes</td>\n",
       "      <td>Caucasian</td>\n",
       "      <td>333</td>\n",
       "    </tr>\n",
       "    <tr>\n",
       "      <th>2</th>\n",
       "      <td>106.025</td>\n",
       "      <td>6645</td>\n",
       "      <td>483</td>\n",
       "      <td>3</td>\n",
       "      <td>82</td>\n",
       "      <td>15</td>\n",
       "      <td>Female</td>\n",
       "      <td>Yes</td>\n",
       "      <td>Yes</td>\n",
       "      <td>Asian</td>\n",
       "      <td>903</td>\n",
       "    </tr>\n",
       "    <tr>\n",
       "      <th>3</th>\n",
       "      <td>104.593</td>\n",
       "      <td>7075</td>\n",
       "      <td>514</td>\n",
       "      <td>4</td>\n",
       "      <td>71</td>\n",
       "      <td>11</td>\n",
       "      <td>Male</td>\n",
       "      <td>No</td>\n",
       "      <td>No</td>\n",
       "      <td>Asian</td>\n",
       "      <td>580</td>\n",
       "    </tr>\n",
       "    <tr>\n",
       "      <th>4</th>\n",
       "      <td>148.924</td>\n",
       "      <td>9504</td>\n",
       "      <td>681</td>\n",
       "      <td>3</td>\n",
       "      <td>36</td>\n",
       "      <td>11</td>\n",
       "      <td>Female</td>\n",
       "      <td>No</td>\n",
       "      <td>No</td>\n",
       "      <td>Asian</td>\n",
       "      <td>964</td>\n",
       "    </tr>\n",
       "    <tr>\n",
       "      <th>5</th>\n",
       "      <td>55.882</td>\n",
       "      <td>4897</td>\n",
       "      <td>357</td>\n",
       "      <td>2</td>\n",
       "      <td>68</td>\n",
       "      <td>16</td>\n",
       "      <td>Male</td>\n",
       "      <td>No</td>\n",
       "      <td>Yes</td>\n",
       "      <td>Caucasian</td>\n",
       "      <td>331</td>\n",
       "    </tr>\n",
       "  </tbody>\n",
       "</table>\n",
       "</div>"
      ],
      "text/plain": [
       "    Income  Limit  Rating  Cards  Age  Education  Gender Student Married  \\\n",
       "1   14.891   3606     283      2   34         11    Male      No     Yes   \n",
       "2  106.025   6645     483      3   82         15  Female     Yes     Yes   \n",
       "3  104.593   7075     514      4   71         11    Male      No      No   \n",
       "4  148.924   9504     681      3   36         11  Female      No      No   \n",
       "5   55.882   4897     357      2   68         16    Male      No     Yes   \n",
       "\n",
       "   Ethnicity  Balance  \n",
       "1  Caucasian      333  \n",
       "2      Asian      903  \n",
       "3      Asian      580  \n",
       "4      Asian      964  \n",
       "5  Caucasian      331  "
      ]
     },
     "execution_count": 12,
     "metadata": {},
     "output_type": "execute_result"
    }
   ],
   "source": [
    "credit.head()"
   ]
  },
  {
   "cell_type": "code",
   "execution_count": 13,
   "metadata": {},
   "outputs": [
    {
     "name": "stdout",
     "output_type": "stream",
     "text": [
      "<class 'pandas.core.frame.DataFrame'>\n",
      "Int64Index: 400 entries, 1 to 400\n",
      "Data columns (total 11 columns):\n",
      "Income       400 non-null float64\n",
      "Limit        400 non-null int64\n",
      "Rating       400 non-null int64\n",
      "Cards        400 non-null int64\n",
      "Age          400 non-null int64\n",
      "Education    400 non-null int64\n",
      "Gender       400 non-null object\n",
      "Student      400 non-null object\n",
      "Married      400 non-null object\n",
      "Ethnicity    400 non-null object\n",
      "Balance      400 non-null int64\n",
      "dtypes: float64(1), int64(6), object(4)\n",
      "memory usage: 37.5+ KB\n"
     ]
    }
   ],
   "source": [
    "credit.info()"
   ]
  },
  {
   "cell_type": "code",
   "execution_count": 14,
   "metadata": {},
   "outputs": [
    {
     "data": {
      "text/plain": [
       "Female    207\n",
       " Male     193\n",
       "Name: Gender, dtype: int64"
      ]
     },
     "execution_count": 14,
     "metadata": {},
     "output_type": "execute_result"
    }
   ],
   "source": [
    "credit['Gender'].value_counts()"
   ]
  },
  {
   "cell_type": "code",
   "execution_count": 22,
   "metadata": {
    "collapsed": true
   },
   "outputs": [],
   "source": [
    "gender_dummies = pd.get_dummies(credit.Gender, drop_first=1)"
   ]
  },
  {
   "cell_type": "code",
   "execution_count": 23,
   "metadata": {},
   "outputs": [
    {
     "data": {
      "text/plain": [
       "Index(['Female'], dtype='object')"
      ]
     },
     "execution_count": 23,
     "metadata": {},
     "output_type": "execute_result"
    }
   ],
   "source": [
    "gender_dummies.columns"
   ]
  },
  {
   "cell_type": "code",
   "execution_count": 26,
   "metadata": {},
   "outputs": [
    {
     "name": "stdout",
     "output_type": "stream",
     "text": [
      "210752.54999098898\n"
     ]
    }
   ],
   "source": [
    "lr = LinearRegression()\n",
    "lr.fit(gender_dummies['Female'].values.reshape(-1,1), credit['Balance'])\n",
    "predictions = lr.predict(gender_dummies['Female'].values.reshape(-1,1))\n",
    "mse = mean_squared_error(predictions, credit.Balance)\n",
    "print(mse)"
   ]
  },
  {
   "cell_type": "code",
   "execution_count": 27,
   "metadata": {},
   "outputs": [
    {
     "data": {
      "text/plain": [
       "459.0779345503212"
      ]
     },
     "execution_count": 27,
     "metadata": {},
     "output_type": "execute_result"
    }
   ],
   "source": [
    "np.sqrt(mse)"
   ]
  },
  {
   "cell_type": "code",
   "execution_count": 28,
   "metadata": {},
   "outputs": [
    {
     "data": {
      "text/plain": [
       "array([19.73312308])"
      ]
     },
     "execution_count": 28,
     "metadata": {},
     "output_type": "execute_result"
    }
   ],
   "source": [
    "lr.coef_"
   ]
  },
  {
   "cell_type": "code",
   "execution_count": 29,
   "metadata": {},
   "outputs": [
    {
     "data": {
      "text/plain": [
       "509.8031088082901"
      ]
     },
     "execution_count": 29,
     "metadata": {},
     "output_type": "execute_result"
    }
   ],
   "source": [
    "lr.intercept_"
   ]
  },
  {
   "cell_type": "markdown",
   "metadata": {},
   "source": [
    "# Max Note:  We've fit the model with gender, and it shows that males have a balance of (coef) and females have coef+19.  Not very accurate"
   ]
  },
  {
   "cell_type": "code",
   "execution_count": null,
   "metadata": {
    "collapsed": true
   },
   "outputs": [],
   "source": []
  },
  {
   "cell_type": "markdown",
   "metadata": {},
   "source": [
    "### Interpretation and Dummy Variables\n",
    "\n",
    "The idea above is that the equation can be understood as the intercept meaning the average for the 0 category, and the coefficient as the difference between the two categories.  Further, the sum of the intercepts would be the average value for the 1 category.  \n",
    "\n",
    "As we've discussed, we want to introduce quantitative data to many machine learning algorithms, so we should consider adding a dummy variable for this column.  We can follow our earlier example."
   ]
  },
  {
   "cell_type": "code",
   "execution_count": 30,
   "metadata": {
    "collapsed": true
   },
   "outputs": [],
   "source": [
    "gender_dummies = pd.get_dummies(credit.Gender, prefix='Gender')"
   ]
  },
  {
   "cell_type": "code",
   "execution_count": 31,
   "metadata": {},
   "outputs": [
    {
     "data": {
      "text/html": [
       "<div>\n",
       "<style scoped>\n",
       "    .dataframe tbody tr th:only-of-type {\n",
       "        vertical-align: middle;\n",
       "    }\n",
       "\n",
       "    .dataframe tbody tr th {\n",
       "        vertical-align: top;\n",
       "    }\n",
       "\n",
       "    .dataframe thead th {\n",
       "        text-align: right;\n",
       "    }\n",
       "</style>\n",
       "<table border=\"1\" class=\"dataframe\">\n",
       "  <thead>\n",
       "    <tr style=\"text-align: right;\">\n",
       "      <th></th>\n",
       "      <th>Gender_ Male</th>\n",
       "      <th>Gender_Female</th>\n",
       "    </tr>\n",
       "  </thead>\n",
       "  <tbody>\n",
       "    <tr>\n",
       "      <th>1</th>\n",
       "      <td>1</td>\n",
       "      <td>0</td>\n",
       "    </tr>\n",
       "    <tr>\n",
       "      <th>2</th>\n",
       "      <td>0</td>\n",
       "      <td>1</td>\n",
       "    </tr>\n",
       "    <tr>\n",
       "      <th>3</th>\n",
       "      <td>1</td>\n",
       "      <td>0</td>\n",
       "    </tr>\n",
       "    <tr>\n",
       "      <th>4</th>\n",
       "      <td>0</td>\n",
       "      <td>1</td>\n",
       "    </tr>\n",
       "    <tr>\n",
       "      <th>5</th>\n",
       "      <td>1</td>\n",
       "      <td>0</td>\n",
       "    </tr>\n",
       "  </tbody>\n",
       "</table>\n",
       "</div>"
      ],
      "text/plain": [
       "   Gender_ Male  Gender_Female\n",
       "1             1              0\n",
       "2             0              1\n",
       "3             1              0\n",
       "4             0              1\n",
       "5             1              0"
      ]
     },
     "execution_count": 31,
     "metadata": {},
     "output_type": "execute_result"
    }
   ],
   "source": [
    "gender_dummies.head()"
   ]
  },
  {
   "cell_type": "code",
   "execution_count": 32,
   "metadata": {
    "collapsed": true
   },
   "outputs": [],
   "source": [
    "credit['Gender_Female'] = gender_dummies['Gender_Female']"
   ]
  },
  {
   "cell_type": "code",
   "execution_count": 33,
   "metadata": {},
   "outputs": [
    {
     "data": {
      "text/html": [
       "<div>\n",
       "<style scoped>\n",
       "    .dataframe tbody tr th:only-of-type {\n",
       "        vertical-align: middle;\n",
       "    }\n",
       "\n",
       "    .dataframe tbody tr th {\n",
       "        vertical-align: top;\n",
       "    }\n",
       "\n",
       "    .dataframe thead th {\n",
       "        text-align: right;\n",
       "    }\n",
       "</style>\n",
       "<table border=\"1\" class=\"dataframe\">\n",
       "  <thead>\n",
       "    <tr style=\"text-align: right;\">\n",
       "      <th></th>\n",
       "      <th>Income</th>\n",
       "      <th>Limit</th>\n",
       "      <th>Rating</th>\n",
       "      <th>Cards</th>\n",
       "      <th>Age</th>\n",
       "      <th>Education</th>\n",
       "      <th>Gender</th>\n",
       "      <th>Student</th>\n",
       "      <th>Married</th>\n",
       "      <th>Ethnicity</th>\n",
       "      <th>Balance</th>\n",
       "      <th>Gender_Female</th>\n",
       "    </tr>\n",
       "  </thead>\n",
       "  <tbody>\n",
       "    <tr>\n",
       "      <th>1</th>\n",
       "      <td>14.891</td>\n",
       "      <td>3606</td>\n",
       "      <td>283</td>\n",
       "      <td>2</td>\n",
       "      <td>34</td>\n",
       "      <td>11</td>\n",
       "      <td>Male</td>\n",
       "      <td>No</td>\n",
       "      <td>Yes</td>\n",
       "      <td>Caucasian</td>\n",
       "      <td>333</td>\n",
       "      <td>0</td>\n",
       "    </tr>\n",
       "    <tr>\n",
       "      <th>2</th>\n",
       "      <td>106.025</td>\n",
       "      <td>6645</td>\n",
       "      <td>483</td>\n",
       "      <td>3</td>\n",
       "      <td>82</td>\n",
       "      <td>15</td>\n",
       "      <td>Female</td>\n",
       "      <td>Yes</td>\n",
       "      <td>Yes</td>\n",
       "      <td>Asian</td>\n",
       "      <td>903</td>\n",
       "      <td>1</td>\n",
       "    </tr>\n",
       "    <tr>\n",
       "      <th>3</th>\n",
       "      <td>104.593</td>\n",
       "      <td>7075</td>\n",
       "      <td>514</td>\n",
       "      <td>4</td>\n",
       "      <td>71</td>\n",
       "      <td>11</td>\n",
       "      <td>Male</td>\n",
       "      <td>No</td>\n",
       "      <td>No</td>\n",
       "      <td>Asian</td>\n",
       "      <td>580</td>\n",
       "      <td>0</td>\n",
       "    </tr>\n",
       "    <tr>\n",
       "      <th>4</th>\n",
       "      <td>148.924</td>\n",
       "      <td>9504</td>\n",
       "      <td>681</td>\n",
       "      <td>3</td>\n",
       "      <td>36</td>\n",
       "      <td>11</td>\n",
       "      <td>Female</td>\n",
       "      <td>No</td>\n",
       "      <td>No</td>\n",
       "      <td>Asian</td>\n",
       "      <td>964</td>\n",
       "      <td>1</td>\n",
       "    </tr>\n",
       "    <tr>\n",
       "      <th>5</th>\n",
       "      <td>55.882</td>\n",
       "      <td>4897</td>\n",
       "      <td>357</td>\n",
       "      <td>2</td>\n",
       "      <td>68</td>\n",
       "      <td>16</td>\n",
       "      <td>Male</td>\n",
       "      <td>No</td>\n",
       "      <td>Yes</td>\n",
       "      <td>Caucasian</td>\n",
       "      <td>331</td>\n",
       "      <td>0</td>\n",
       "    </tr>\n",
       "  </tbody>\n",
       "</table>\n",
       "</div>"
      ],
      "text/plain": [
       "    Income  Limit  Rating  Cards  Age  Education  Gender Student Married  \\\n",
       "1   14.891   3606     283      2   34         11    Male      No     Yes   \n",
       "2  106.025   6645     483      3   82         15  Female     Yes     Yes   \n",
       "3  104.593   7075     514      4   71         11    Male      No      No   \n",
       "4  148.924   9504     681      3   36         11  Female      No      No   \n",
       "5   55.882   4897     357      2   68         16    Male      No     Yes   \n",
       "\n",
       "   Ethnicity  Balance  Gender_Female  \n",
       "1  Caucasian      333              0  \n",
       "2      Asian      903              1  \n",
       "3      Asian      580              0  \n",
       "4      Asian      964              1  \n",
       "5  Caucasian      331              0  "
      ]
     },
     "execution_count": 33,
     "metadata": {},
     "output_type": "execute_result"
    }
   ],
   "source": [
    "credit.head()"
   ]
  },
  {
   "cell_type": "code",
   "execution_count": 34,
   "metadata": {},
   "outputs": [
    {
     "data": {
      "text/html": [
       "<table class=\"simpletable\">\n",
       "<tr>\n",
       "        <td>Model:</td>               <td>OLS</td>         <td>Adj. R-squared:</td>     <td>-0.002</td>  \n",
       "</tr>\n",
       "<tr>\n",
       "  <td>Dependent Variable:</td>      <td>Balance</td>            <td>AIC:</td>          <td>6042.5268</td>\n",
       "</tr>\n",
       "<tr>\n",
       "         <td>Date:</td>        <td>2018-08-07 20:23</td>        <td>BIC:</td>          <td>6050.5097</td>\n",
       "</tr>\n",
       "<tr>\n",
       "   <td>No. Observations:</td>         <td>400</td>         <td>Log-Likelihood:</td>     <td>-3019.3</td> \n",
       "</tr>\n",
       "<tr>\n",
       "       <td>Df Model:</td>              <td>1</td>           <td>F-statistic:</td>       <td>0.1836</td>  \n",
       "</tr>\n",
       "<tr>\n",
       "     <td>Df Residuals:</td>           <td>398</td>       <td>Prob (F-statistic):</td>    <td>0.669</td>  \n",
       "</tr>\n",
       "<tr>\n",
       "      <td>R-squared:</td>            <td>0.000</td>            <td>Scale:</td>        <td>2.1181e+05</td>\n",
       "</tr>\n",
       "</table>\n",
       "<table class=\"simpletable\">\n",
       "<tr>\n",
       "        <td></td>          <th>Coef.</th>  <th>Std.Err.</th>    <th>t</th>     <th>P>|t|</th>  <th>[0.025</th>   <th>0.975]</th> \n",
       "</tr>\n",
       "<tr>\n",
       "  <th>Intercept</th>     <td>509.8031</td>  <td>33.1281</td> <td>15.3889</td> <td>0.0000</td> <td>444.6752</td> <td>574.9310</td>\n",
       "</tr>\n",
       "<tr>\n",
       "  <th>Gender_Female</th>  <td>19.7331</td>  <td>46.0512</td> <td>0.4285</td>  <td>0.6685</td> <td>-70.8009</td> <td>110.2671</td>\n",
       "</tr>\n",
       "</table>\n",
       "<table class=\"simpletable\">\n",
       "<tr>\n",
       "     <td>Omnibus:</td>    <td>28.438</td>  <td>Durbin-Watson:</td>    <td>1.940</td>\n",
       "</tr>\n",
       "<tr>\n",
       "  <td>Prob(Omnibus):</td>  <td>0.000</td> <td>Jarque-Bera (JB):</td> <td>27.346</td>\n",
       "</tr>\n",
       "<tr>\n",
       "       <td>Skew:</td>      <td>0.583</td>     <td>Prob(JB):</td>      <td>0.000</td>\n",
       "</tr>\n",
       "<tr>\n",
       "     <td>Kurtosis:</td>    <td>2.471</td>  <td>Condition No.:</td>      <td>3</td>  \n",
       "</tr>\n",
       "</table>"
      ],
      "text/plain": [
       "<class 'statsmodels.iolib.summary2.Summary'>\n",
       "\"\"\"\n",
       "                  Results: Ordinary least squares\n",
       "===================================================================\n",
       "Model:              OLS              Adj. R-squared:     -0.002    \n",
       "Dependent Variable: Balance          AIC:                6042.5268 \n",
       "Date:               2018-08-07 20:23 BIC:                6050.5097 \n",
       "No. Observations:   400              Log-Likelihood:     -3019.3   \n",
       "Df Model:           1                F-statistic:        0.1836    \n",
       "Df Residuals:       398              Prob (F-statistic): 0.669     \n",
       "R-squared:          0.000            Scale:              2.1181e+05\n",
       "-------------------------------------------------------------------\n",
       "                  Coef.   Std.Err.    t    P>|t|   [0.025   0.975] \n",
       "-------------------------------------------------------------------\n",
       "Intercept        509.8031  33.1281 15.3889 0.0000 444.6752 574.9310\n",
       "Gender_Female     19.7331  46.0512  0.4285 0.6685 -70.8009 110.2671\n",
       "-------------------------------------------------------------------\n",
       "Omnibus:              28.438        Durbin-Watson:           1.940 \n",
       "Prob(Omnibus):        0.000         Jarque-Bera (JB):        27.346\n",
       "Skew:                 0.583         Prob(JB):                0.000 \n",
       "Kurtosis:             2.471         Condition No.:           3     \n",
       "===================================================================\n",
       "\n",
       "\"\"\""
      ]
     },
     "execution_count": 34,
     "metadata": {},
     "output_type": "execute_result"
    }
   ],
   "source": [
    "gender_model = smf.ols('Balance ~ Gender_Female', data = credit).fit()\n",
    "gender_model.summary2()"
   ]
  },
  {
   "cell_type": "markdown",
   "metadata": {},
   "source": [
    "#### Problem\n",
    "\n",
    "Using the `Credit` dataset above, add encoding to the other binary categorical variables.  Fit a basic Linear Model to one or two of these new columns against the `Balance` column.  Interpret your findings in terms of the categories."
   ]
  },
  {
   "cell_type": "code",
   "execution_count": 35,
   "metadata": {
    "collapsed": true
   },
   "outputs": [],
   "source": [
    "student_dummies = pd.get_dummies(credit.Student, prefix = 'student')"
   ]
  },
  {
   "cell_type": "code",
   "execution_count": 36,
   "metadata": {},
   "outputs": [
    {
     "data": {
      "text/html": [
       "<div>\n",
       "<style scoped>\n",
       "    .dataframe tbody tr th:only-of-type {\n",
       "        vertical-align: middle;\n",
       "    }\n",
       "\n",
       "    .dataframe tbody tr th {\n",
       "        vertical-align: top;\n",
       "    }\n",
       "\n",
       "    .dataframe thead th {\n",
       "        text-align: right;\n",
       "    }\n",
       "</style>\n",
       "<table border=\"1\" class=\"dataframe\">\n",
       "  <thead>\n",
       "    <tr style=\"text-align: right;\">\n",
       "      <th></th>\n",
       "      <th>student_No</th>\n",
       "      <th>student_Yes</th>\n",
       "    </tr>\n",
       "  </thead>\n",
       "  <tbody>\n",
       "    <tr>\n",
       "      <th>1</th>\n",
       "      <td>1</td>\n",
       "      <td>0</td>\n",
       "    </tr>\n",
       "    <tr>\n",
       "      <th>2</th>\n",
       "      <td>0</td>\n",
       "      <td>1</td>\n",
       "    </tr>\n",
       "    <tr>\n",
       "      <th>3</th>\n",
       "      <td>1</td>\n",
       "      <td>0</td>\n",
       "    </tr>\n",
       "    <tr>\n",
       "      <th>4</th>\n",
       "      <td>1</td>\n",
       "      <td>0</td>\n",
       "    </tr>\n",
       "    <tr>\n",
       "      <th>5</th>\n",
       "      <td>1</td>\n",
       "      <td>0</td>\n",
       "    </tr>\n",
       "  </tbody>\n",
       "</table>\n",
       "</div>"
      ],
      "text/plain": [
       "   student_No  student_Yes\n",
       "1           1            0\n",
       "2           0            1\n",
       "3           1            0\n",
       "4           1            0\n",
       "5           1            0"
      ]
     },
     "execution_count": 36,
     "metadata": {},
     "output_type": "execute_result"
    }
   ],
   "source": [
    "student_dummies.head()"
   ]
  },
  {
   "cell_type": "code",
   "execution_count": 37,
   "metadata": {
    "collapsed": true
   },
   "outputs": [],
   "source": [
    "married_dummies = pd.get_dummies(credit.Married, prefix = 'married')"
   ]
  },
  {
   "cell_type": "code",
   "execution_count": 38,
   "metadata": {},
   "outputs": [
    {
     "data": {
      "text/html": [
       "<div>\n",
       "<style scoped>\n",
       "    .dataframe tbody tr th:only-of-type {\n",
       "        vertical-align: middle;\n",
       "    }\n",
       "\n",
       "    .dataframe tbody tr th {\n",
       "        vertical-align: top;\n",
       "    }\n",
       "\n",
       "    .dataframe thead th {\n",
       "        text-align: right;\n",
       "    }\n",
       "</style>\n",
       "<table border=\"1\" class=\"dataframe\">\n",
       "  <thead>\n",
       "    <tr style=\"text-align: right;\">\n",
       "      <th></th>\n",
       "      <th>married_No</th>\n",
       "      <th>married_Yes</th>\n",
       "    </tr>\n",
       "  </thead>\n",
       "  <tbody>\n",
       "    <tr>\n",
       "      <th>1</th>\n",
       "      <td>0</td>\n",
       "      <td>1</td>\n",
       "    </tr>\n",
       "    <tr>\n",
       "      <th>2</th>\n",
       "      <td>0</td>\n",
       "      <td>1</td>\n",
       "    </tr>\n",
       "    <tr>\n",
       "      <th>3</th>\n",
       "      <td>1</td>\n",
       "      <td>0</td>\n",
       "    </tr>\n",
       "    <tr>\n",
       "      <th>4</th>\n",
       "      <td>1</td>\n",
       "      <td>0</td>\n",
       "    </tr>\n",
       "    <tr>\n",
       "      <th>5</th>\n",
       "      <td>0</td>\n",
       "      <td>1</td>\n",
       "    </tr>\n",
       "  </tbody>\n",
       "</table>\n",
       "</div>"
      ],
      "text/plain": [
       "   married_No  married_Yes\n",
       "1           0            1\n",
       "2           0            1\n",
       "3           1            0\n",
       "4           1            0\n",
       "5           0            1"
      ]
     },
     "execution_count": 38,
     "metadata": {},
     "output_type": "execute_result"
    }
   ],
   "source": [
    "married_dummies.head()"
   ]
  },
  {
   "cell_type": "code",
   "execution_count": 39,
   "metadata": {
    "collapsed": true
   },
   "outputs": [],
   "source": [
    "credit['not_married'] = married_dummies['married_No']\n",
    "credit['not_student'] = student_dummies['student_No']"
   ]
  },
  {
   "cell_type": "code",
   "execution_count": 40,
   "metadata": {
    "collapsed": true
   },
   "outputs": [],
   "source": [
    "X = credit[['not_married', 'not_student']]\n",
    "y = credit.Balance"
   ]
  },
  {
   "cell_type": "code",
   "execution_count": 41,
   "metadata": {},
   "outputs": [
    {
     "name": "stdout",
     "output_type": "stream",
     "text": [
      "MSE: 196660.6932524375 \n",
      "RMSE: 443.46442163090995\n"
     ]
    }
   ],
   "source": [
    "lr = LinearRegression()\n",
    "lr.fit(X, y)\n",
    "predictions = lr.predict(X)\n",
    "mse = mean_squared_error(predictions, y)\n",
    "rmse = np.sqrt(mse)\n",
    "print('MSE:', mse, '\\nRMSE:', rmse)"
   ]
  },
  {
   "cell_type": "code",
   "execution_count": 42,
   "metadata": {},
   "outputs": [
    {
     "data": {
      "text/plain": [
       "array([ -13.52450331, -398.14611847])"
      ]
     },
     "execution_count": 42,
     "metadata": {},
     "output_type": "execute_result"
    }
   ],
   "source": [
    "lr.coef_"
   ]
  },
  {
   "cell_type": "code",
   "execution_count": 43,
   "metadata": {},
   "outputs": [
    {
     "data": {
      "text/plain": [
       "883.5872516556294"
      ]
     },
     "execution_count": 43,
     "metadata": {},
     "output_type": "execute_result"
    }
   ],
   "source": [
    "lr.intercept_"
   ]
  },
  {
   "cell_type": "code",
   "execution_count": null,
   "metadata": {
    "collapsed": true
   },
   "outputs": [],
   "source": []
  },
  {
   "cell_type": "code",
   "execution_count": null,
   "metadata": {
    "collapsed": true
   },
   "outputs": [],
   "source": []
  },
  {
   "cell_type": "code",
   "execution_count": null,
   "metadata": {
    "collapsed": true
   },
   "outputs": [],
   "source": []
  },
  {
   "cell_type": "markdown",
   "metadata": {},
   "source": [
    "### More than two Categories\n",
    "\n",
    "Here, we need more than one dummy variable and will subsequently run a linear regression on a both of these columns and interpret the data accordingly.  In our credit dataset, we have a three valued column with `Ethnicity`.  From this, we will create a model where:\n",
    "\n",
    "$$y_i = \\beta_0 + \\beta_1x_{i1} + \\beta_2x_{i2} + \\epsilon_i $$\n",
    "\n",
    "where $x_{i1} = 1$ if the $i$th person is Asian and 0 otherwise, and similarly $x_{i2}$ for Caucasian.  Again, this assignment is arbitrary.  However, we can interpret the model as:\n",
    "\n",
    "- $\\beta_0 + \\beta_1 + \\epsilon_i$: if $i$th person is Asian\n",
    "- $\\beta_0 + \\beta_2 + \\epsilon_i$: if $i$th person is Caucasian\n",
    "- $\\beta_0 +\\epsilon_i$: if $i$th person is African American"
   ]
  },
  {
   "cell_type": "code",
   "execution_count": 44,
   "metadata": {},
   "outputs": [
    {
     "data": {
      "text/plain": [
       "Caucasian           199\n",
       "Asian               102\n",
       "African American     99\n",
       "Name: Ethnicity, dtype: int64"
      ]
     },
     "execution_count": 44,
     "metadata": {},
     "output_type": "execute_result"
    }
   ],
   "source": [
    "credit['Ethnicity'].value_counts()"
   ]
  },
  {
   "cell_type": "code",
   "execution_count": 45,
   "metadata": {
    "collapsed": true
   },
   "outputs": [],
   "source": [
    "ethn_dummies = pd.get_dummies(credit.Ethnicity)"
   ]
  },
  {
   "cell_type": "code",
   "execution_count": 46,
   "metadata": {},
   "outputs": [
    {
     "data": {
      "text/html": [
       "<div>\n",
       "<style scoped>\n",
       "    .dataframe tbody tr th:only-of-type {\n",
       "        vertical-align: middle;\n",
       "    }\n",
       "\n",
       "    .dataframe tbody tr th {\n",
       "        vertical-align: top;\n",
       "    }\n",
       "\n",
       "    .dataframe thead th {\n",
       "        text-align: right;\n",
       "    }\n",
       "</style>\n",
       "<table border=\"1\" class=\"dataframe\">\n",
       "  <thead>\n",
       "    <tr style=\"text-align: right;\">\n",
       "      <th></th>\n",
       "      <th>African American</th>\n",
       "      <th>Asian</th>\n",
       "      <th>Caucasian</th>\n",
       "    </tr>\n",
       "  </thead>\n",
       "  <tbody>\n",
       "    <tr>\n",
       "      <th>1</th>\n",
       "      <td>0</td>\n",
       "      <td>0</td>\n",
       "      <td>1</td>\n",
       "    </tr>\n",
       "    <tr>\n",
       "      <th>2</th>\n",
       "      <td>0</td>\n",
       "      <td>1</td>\n",
       "      <td>0</td>\n",
       "    </tr>\n",
       "    <tr>\n",
       "      <th>3</th>\n",
       "      <td>0</td>\n",
       "      <td>1</td>\n",
       "      <td>0</td>\n",
       "    </tr>\n",
       "    <tr>\n",
       "      <th>4</th>\n",
       "      <td>0</td>\n",
       "      <td>1</td>\n",
       "      <td>0</td>\n",
       "    </tr>\n",
       "    <tr>\n",
       "      <th>5</th>\n",
       "      <td>0</td>\n",
       "      <td>0</td>\n",
       "      <td>1</td>\n",
       "    </tr>\n",
       "  </tbody>\n",
       "</table>\n",
       "</div>"
      ],
      "text/plain": [
       "   African American  Asian  Caucasian\n",
       "1                 0      0          1\n",
       "2                 0      1          0\n",
       "3                 0      1          0\n",
       "4                 0      1          0\n",
       "5                 0      0          1"
      ]
     },
     "execution_count": 46,
     "metadata": {},
     "output_type": "execute_result"
    }
   ],
   "source": [
    "ethn_dummies.head()"
   ]
  },
  {
   "cell_type": "code",
   "execution_count": 47,
   "metadata": {
    "collapsed": true
   },
   "outputs": [],
   "source": [
    "credit['ethn_asian'] = ethn_dummies['Asian']\n",
    "credit['ethn_cauc'] = ethn_dummies['Caucasian']"
   ]
  },
  {
   "cell_type": "code",
   "execution_count": 48,
   "metadata": {
    "collapsed": true
   },
   "outputs": [],
   "source": [
    "lin_tre = smf.ols('Balance ~ ethn_asian + ethn_cauc', data = credit).fit()"
   ]
  },
  {
   "cell_type": "code",
   "execution_count": 49,
   "metadata": {},
   "outputs": [
    {
     "data": {
      "text/html": [
       "<table class=\"simpletable\">\n",
       "<tr>\n",
       "        <td>Model:</td>               <td>OLS</td>         <td>Adj. R-squared:</td>     <td>-0.005</td>  \n",
       "</tr>\n",
       "<tr>\n",
       "  <td>Dependent Variable:</td>      <td>Balance</td>            <td>AIC:</td>          <td>6044.6238</td>\n",
       "</tr>\n",
       "<tr>\n",
       "         <td>Date:</td>        <td>2018-08-07 20:27</td>        <td>BIC:</td>          <td>6056.5982</td>\n",
       "</tr>\n",
       "<tr>\n",
       "   <td>No. Observations:</td>         <td>400</td>         <td>Log-Likelihood:</td>     <td>-3019.3</td> \n",
       "</tr>\n",
       "<tr>\n",
       "       <td>Df Model:</td>              <td>2</td>           <td>F-statistic:</td>       <td>0.04344</td> \n",
       "</tr>\n",
       "<tr>\n",
       "     <td>Df Residuals:</td>           <td>397</td>       <td>Prob (F-statistic):</td>    <td>0.957</td>  \n",
       "</tr>\n",
       "<tr>\n",
       "      <td>R-squared:</td>            <td>0.000</td>            <td>Scale:</td>        <td>2.1240e+05</td>\n",
       "</tr>\n",
       "</table>\n",
       "<table class=\"simpletable\">\n",
       "<tr>\n",
       "       <td></td>        <th>Coef.</th>  <th>Std.Err.</th>    <th>t</th>     <th>P>|t|</th>  <th>[0.025</th>    <th>0.975]</th> \n",
       "</tr>\n",
       "<tr>\n",
       "  <th>Intercept</th>  <td>531.0000</td>  <td>46.3187</td> <td>11.4641</td> <td>0.0000</td> <td>439.9394</td>  <td>622.0606</td>\n",
       "</tr>\n",
       "<tr>\n",
       "  <th>ethn_asian</th> <td>-18.6863</td>  <td>65.0211</td> <td>-0.2874</td> <td>0.7740</td> <td>-146.5149</td> <td>109.1424</td>\n",
       "</tr>\n",
       "<tr>\n",
       "  <th>ethn_cauc</th>  <td>-12.5025</td>  <td>56.6810</td> <td>-0.2206</td> <td>0.8255</td> <td>-123.9350</td>  <td>98.9300</td>\n",
       "</tr>\n",
       "</table>\n",
       "<table class=\"simpletable\">\n",
       "<tr>\n",
       "     <td>Omnibus:</td>    <td>28.829</td>  <td>Durbin-Watson:</td>    <td>1.946</td>\n",
       "</tr>\n",
       "<tr>\n",
       "  <td>Prob(Omnibus):</td>  <td>0.000</td> <td>Jarque-Bera (JB):</td> <td>27.395</td>\n",
       "</tr>\n",
       "<tr>\n",
       "       <td>Skew:</td>      <td>0.581</td>     <td>Prob(JB):</td>      <td>0.000</td>\n",
       "</tr>\n",
       "<tr>\n",
       "     <td>Kurtosis:</td>    <td>2.460</td>  <td>Condition No.:</td>      <td>4</td>  \n",
       "</tr>\n",
       "</table>"
      ],
      "text/plain": [
       "<class 'statsmodels.iolib.summary2.Summary'>\n",
       "\"\"\"\n",
       "                  Results: Ordinary least squares\n",
       "===================================================================\n",
       "Model:              OLS              Adj. R-squared:     -0.005    \n",
       "Dependent Variable: Balance          AIC:                6044.6238 \n",
       "Date:               2018-08-07 20:27 BIC:                6056.5982 \n",
       "No. Observations:   400              Log-Likelihood:     -3019.3   \n",
       "Df Model:           2                F-statistic:        0.04344   \n",
       "Df Residuals:       397              Prob (F-statistic): 0.957     \n",
       "R-squared:          0.000            Scale:              2.1240e+05\n",
       "--------------------------------------------------------------------\n",
       "             Coef.    Std.Err.     t     P>|t|     [0.025    0.975] \n",
       "--------------------------------------------------------------------\n",
       "Intercept   531.0000   46.3187  11.4641  0.0000   439.9394  622.0606\n",
       "ethn_asian  -18.6863   65.0211  -0.2874  0.7740  -146.5149  109.1424\n",
       "ethn_cauc   -12.5025   56.6810  -0.2206  0.8255  -123.9350   98.9300\n",
       "-------------------------------------------------------------------\n",
       "Omnibus:              28.829        Durbin-Watson:           1.946 \n",
       "Prob(Omnibus):        0.000         Jarque-Bera (JB):        27.395\n",
       "Skew:                 0.581         Prob(JB):                0.000 \n",
       "Kurtosis:             2.460         Condition No.:           4     \n",
       "===================================================================\n",
       "\n",
       "\"\"\""
      ]
     },
     "execution_count": 49,
     "metadata": {},
     "output_type": "execute_result"
    }
   ],
   "source": [
    "lin_tre.summary2()"
   ]
  },
  {
   "cell_type": "markdown",
   "metadata": {},
   "source": [
    "We interpret these results as saying that the balance for African Americans is \\$531.00, the Asian category has \\$18.69 less than this, and the Caucasian category will carry \\$12.50 less than the African American category."
   ]
  },
  {
   "cell_type": "markdown",
   "metadata": {},
   "source": [
    "### Problem\n",
    "\n",
    "Examine a multiple regression model on the `Credit` dataset provided after appropriately coding all categorical variables and dealing with any missing values.  Make a single markdown cell containing a scatterplot and the fitted line and the RMSE. (to save a plot you can type `plt.savefig()` and pass a filename for saving the image, subsequently displaying it in a markdown cell with `![](path/to/image.png)`)"
   ]
  },
  {
   "cell_type": "code",
   "execution_count": 50,
   "metadata": {},
   "outputs": [
    {
     "data": {
      "text/plain": [
       "Index(['Income', 'Limit', 'Rating', 'Cards', 'Age', 'Education', 'Gender',\n",
       "       'Student', 'Married', 'Ethnicity', 'Balance', 'Gender_Female',\n",
       "       'not_married', 'not_student', 'ethn_asian', 'ethn_cauc'],\n",
       "      dtype='object')"
      ]
     },
     "execution_count": 50,
     "metadata": {},
     "output_type": "execute_result"
    }
   ],
   "source": [
    "credit.columns"
   ]
  },
  {
   "cell_type": "code",
   "execution_count": 66,
   "metadata": {
    "collapsed": true
   },
   "outputs": [],
   "source": [
    "dums = pd.get_dummies(credit,drop_first=True)"
   ]
  },
  {
   "cell_type": "code",
   "execution_count": 68,
   "metadata": {},
   "outputs": [
    {
     "data": {
      "text/html": [
       "<div>\n",
       "<style scoped>\n",
       "    .dataframe tbody tr th:only-of-type {\n",
       "        vertical-align: middle;\n",
       "    }\n",
       "\n",
       "    .dataframe tbody tr th {\n",
       "        vertical-align: top;\n",
       "    }\n",
       "\n",
       "    .dataframe thead th {\n",
       "        text-align: right;\n",
       "    }\n",
       "</style>\n",
       "<table border=\"1\" class=\"dataframe\">\n",
       "  <thead>\n",
       "    <tr style=\"text-align: right;\">\n",
       "      <th></th>\n",
       "      <th>Income</th>\n",
       "      <th>Limit</th>\n",
       "      <th>Rating</th>\n",
       "      <th>Cards</th>\n",
       "      <th>Age</th>\n",
       "      <th>Education</th>\n",
       "      <th>Balance</th>\n",
       "      <th>Gender_Female</th>\n",
       "      <th>not_married</th>\n",
       "      <th>not_student</th>\n",
       "      <th>ethn_asian</th>\n",
       "      <th>ethn_cauc</th>\n",
       "      <th>Gender_Female</th>\n",
       "      <th>Student_Yes</th>\n",
       "      <th>Married_Yes</th>\n",
       "      <th>Ethnicity_Asian</th>\n",
       "      <th>Ethnicity_Caucasian</th>\n",
       "    </tr>\n",
       "  </thead>\n",
       "  <tbody>\n",
       "    <tr>\n",
       "      <th>1</th>\n",
       "      <td>14.891</td>\n",
       "      <td>3606</td>\n",
       "      <td>283</td>\n",
       "      <td>2</td>\n",
       "      <td>34</td>\n",
       "      <td>11</td>\n",
       "      <td>333</td>\n",
       "      <td>0</td>\n",
       "      <td>0</td>\n",
       "      <td>1</td>\n",
       "      <td>0</td>\n",
       "      <td>1</td>\n",
       "      <td>0</td>\n",
       "      <td>0</td>\n",
       "      <td>1</td>\n",
       "      <td>0</td>\n",
       "      <td>1</td>\n",
       "    </tr>\n",
       "    <tr>\n",
       "      <th>2</th>\n",
       "      <td>106.025</td>\n",
       "      <td>6645</td>\n",
       "      <td>483</td>\n",
       "      <td>3</td>\n",
       "      <td>82</td>\n",
       "      <td>15</td>\n",
       "      <td>903</td>\n",
       "      <td>1</td>\n",
       "      <td>0</td>\n",
       "      <td>0</td>\n",
       "      <td>1</td>\n",
       "      <td>0</td>\n",
       "      <td>1</td>\n",
       "      <td>1</td>\n",
       "      <td>1</td>\n",
       "      <td>1</td>\n",
       "      <td>0</td>\n",
       "    </tr>\n",
       "    <tr>\n",
       "      <th>3</th>\n",
       "      <td>104.593</td>\n",
       "      <td>7075</td>\n",
       "      <td>514</td>\n",
       "      <td>4</td>\n",
       "      <td>71</td>\n",
       "      <td>11</td>\n",
       "      <td>580</td>\n",
       "      <td>0</td>\n",
       "      <td>1</td>\n",
       "      <td>1</td>\n",
       "      <td>1</td>\n",
       "      <td>0</td>\n",
       "      <td>0</td>\n",
       "      <td>0</td>\n",
       "      <td>0</td>\n",
       "      <td>1</td>\n",
       "      <td>0</td>\n",
       "    </tr>\n",
       "    <tr>\n",
       "      <th>4</th>\n",
       "      <td>148.924</td>\n",
       "      <td>9504</td>\n",
       "      <td>681</td>\n",
       "      <td>3</td>\n",
       "      <td>36</td>\n",
       "      <td>11</td>\n",
       "      <td>964</td>\n",
       "      <td>1</td>\n",
       "      <td>1</td>\n",
       "      <td>1</td>\n",
       "      <td>1</td>\n",
       "      <td>0</td>\n",
       "      <td>1</td>\n",
       "      <td>0</td>\n",
       "      <td>0</td>\n",
       "      <td>1</td>\n",
       "      <td>0</td>\n",
       "    </tr>\n",
       "    <tr>\n",
       "      <th>5</th>\n",
       "      <td>55.882</td>\n",
       "      <td>4897</td>\n",
       "      <td>357</td>\n",
       "      <td>2</td>\n",
       "      <td>68</td>\n",
       "      <td>16</td>\n",
       "      <td>331</td>\n",
       "      <td>0</td>\n",
       "      <td>0</td>\n",
       "      <td>1</td>\n",
       "      <td>0</td>\n",
       "      <td>1</td>\n",
       "      <td>0</td>\n",
       "      <td>0</td>\n",
       "      <td>1</td>\n",
       "      <td>0</td>\n",
       "      <td>1</td>\n",
       "    </tr>\n",
       "  </tbody>\n",
       "</table>\n",
       "</div>"
      ],
      "text/plain": [
       "    Income  Limit  Rating  Cards  Age  Education  Balance  Gender_Female  \\\n",
       "1   14.891   3606     283      2   34         11      333              0   \n",
       "2  106.025   6645     483      3   82         15      903              1   \n",
       "3  104.593   7075     514      4   71         11      580              0   \n",
       "4  148.924   9504     681      3   36         11      964              1   \n",
       "5   55.882   4897     357      2   68         16      331              0   \n",
       "\n",
       "   not_married  not_student  ethn_asian  ethn_cauc  Gender_Female  \\\n",
       "1            0            1           0          1              0   \n",
       "2            0            0           1          0              1   \n",
       "3            1            1           1          0              0   \n",
       "4            1            1           1          0              1   \n",
       "5            0            1           0          1              0   \n",
       "\n",
       "   Student_Yes  Married_Yes  Ethnicity_Asian  Ethnicity_Caucasian  \n",
       "1            0            1                0                    1  \n",
       "2            1            1                1                    0  \n",
       "3            0            0                1                    0  \n",
       "4            0            0                1                    0  \n",
       "5            0            1                0                    1  "
      ]
     },
     "execution_count": 68,
     "metadata": {},
     "output_type": "execute_result"
    }
   ],
   "source": [
    "dums.head()"
   ]
  },
  {
   "cell_type": "code",
   "execution_count": 61,
   "metadata": {},
   "outputs": [
    {
     "name": "stdout",
     "output_type": "stream",
     "text": [
      "<class 'pandas.core.frame.DataFrame'>\n",
      "Int64Index: 400 entries, 1 to 400\n",
      "Data columns (total 16 columns):\n",
      "Income           400 non-null float64\n",
      "Limit            400 non-null int64\n",
      "Rating           400 non-null int64\n",
      "Cards            400 non-null int64\n",
      "Age              400 non-null int64\n",
      "Education        400 non-null int64\n",
      "Gender           400 non-null object\n",
      "Student          400 non-null object\n",
      "Married          400 non-null object\n",
      "Ethnicity        400 non-null object\n",
      "Balance          400 non-null int64\n",
      "Gender_Female    400 non-null uint8\n",
      "not_married      400 non-null uint8\n",
      "not_student      400 non-null uint8\n",
      "ethn_asian       400 non-null uint8\n",
      "ethn_cauc        400 non-null uint8\n",
      "dtypes: float64(1), int64(6), object(4), uint8(5)\n",
      "memory usage: 39.5+ KB\n"
     ]
    }
   ],
   "source": [
    "credit.info()"
   ]
  },
  {
   "cell_type": "code",
   "execution_count": 62,
   "metadata": {
    "collapsed": true
   },
   "outputs": [],
   "source": [
    "lr = LinearRegression()"
   ]
  },
  {
   "cell_type": "code",
   "execution_count": 76,
   "metadata": {},
   "outputs": [
    {
     "data": {
      "text/plain": [
       "160.48950851127918"
      ]
     },
     "execution_count": 76,
     "metadata": {},
     "output_type": "execute_result"
    }
   ],
   "source": [
    "X = dums[['Education', 'Income', 'Rating', 'Age', 'Gender_Female', 'Married_Yes']] \n",
    "y= dums.Balance\n",
    "lr.fit(X,y)\n",
    "pred = lr.predict(X)\n",
    "np.sqrt(mean_squared_error(pred,y))\n"
   ]
  },
  {
   "cell_type": "markdown",
   "metadata": {},
   "source": [
    "# The main point of the class until this point is to understand that we should encode categorical values by creating dummies (important to drop one so that they don't add up to 1--still not entirely clear why this is important, but I don't think that will matter) "
   ]
  },
  {
   "cell_type": "code",
   "execution_count": null,
   "metadata": {
    "collapsed": true
   },
   "outputs": [],
   "source": []
  },
  {
   "cell_type": "markdown",
   "metadata": {},
   "source": [
    "### Train/Test\n",
    "\n",
    "Now we're going to learn how to use sklearn to do a train/test split\n"
   ]
  },
  {
   "cell_type": "code",
   "execution_count": 80,
   "metadata": {
    "collapsed": true
   },
   "outputs": [],
   "source": [
    "from sklearn.model_selection import train_test_split"
   ]
  },
  {
   "cell_type": "code",
   "execution_count": 81,
   "metadata": {
    "collapsed": true
   },
   "outputs": [],
   "source": [
    "X_train, X_test, y_train, y_test = train_test_split(X, y)\n",
    "#default is 75% training, 25% testing"
   ]
  },
  {
   "cell_type": "code",
   "execution_count": 86,
   "metadata": {},
   "outputs": [
    {
     "data": {
      "text/plain": [
       "array([ 636.58151544,  159.70100743,  196.47302359,  372.13195878,\n",
       "          5.12863453,  687.81018199,  970.92921642, 1073.19291856,\n",
       "        163.98645954, 1336.94525603,  516.53736558,  204.64172568,\n",
       "        117.41312501, -140.25197057,  556.54239136,  952.37051201,\n",
       "        945.48387667,  869.22537508, -174.22021827,  -74.14620725,\n",
       "        236.46827682, 1155.87571325,  199.68363443,  172.70096708,\n",
       "        820.97426208,  925.97900901,   69.32728825,  841.92459798,\n",
       "        180.99528504, -160.60878035, 1295.13267111,  674.06671989,\n",
       "       1224.39383252,  482.52980282,  312.462884  ,  958.75964195,\n",
       "        339.09980339,  802.61656139,  882.98317723,  386.49756924,\n",
       "         90.32588033,  519.2911727 ,  710.70122504,  422.86727666,\n",
       "        -31.21624047,  524.65557263, -138.75595868, 1308.28165571,\n",
       "        816.04442357, 1344.84575441,  704.16250349,  -54.57392081,\n",
       "        495.77264998,  355.61141085,  347.80435874,  756.35928041,\n",
       "        327.5394348 ,  950.74202394,  820.07492146,  185.39324799,\n",
       "        511.5319913 ,  257.7682839 ,  416.29276973, 1033.39679089,\n",
       "        892.0754937 ,  681.38065036,  769.76747113,  648.01351688,\n",
       "        914.76186243,  360.61873779,  773.00836978,   47.24063921,\n",
       "       -193.77922935,  421.42572758,  413.00288185,  591.10000439,\n",
       "        119.33565292,  578.54053943,  348.92787232,  477.09226896,\n",
       "        609.8587618 ,  763.46339276,  505.3058375 , 1013.06888582,\n",
       "        352.7533274 ,   47.61530531,  943.07383691,  693.44718266,\n",
       "        303.22693346,  924.46656655,  799.32768695,  596.55250038,\n",
       "        419.76066253,  402.08295807,  578.53264661,  298.69863216,\n",
       "        106.63924877,  238.27553752,  876.06504038,  732.00216475])"
      ]
     },
     "execution_count": 86,
     "metadata": {},
     "output_type": "execute_result"
    }
   ],
   "source": [
    "#the machine learning way \n",
    "\n",
    "#fit on train, predit on test\n",
    "\n",
    "lr.fit(X_train, y_train)\n",
    "pred = lr.predict(X_test)\n",
    "pred"
   ]
  },
  {
   "cell_type": "code",
   "execution_count": 87,
   "metadata": {},
   "outputs": [
    {
     "data": {
      "text/plain": [
       "181.9154096866353"
      ]
     },
     "execution_count": 87,
     "metadata": {},
     "output_type": "execute_result"
    }
   ],
   "source": [
    "np.sqrt(mean_squared_error(pred, y_test))"
   ]
  },
  {
   "cell_type": "code",
   "execution_count": null,
   "metadata": {
    "collapsed": true
   },
   "outputs": [],
   "source": [
    "#While the RMS error above is slightly higher than the RMS on \n",
    "#the non-split data, it is more representative of how the model actually performs."
   ]
  },
  {
   "cell_type": "code",
   "execution_count": null,
   "metadata": {
    "collapsed": true
   },
   "outputs": [],
   "source": [
    "# Even better is cross validation.  IT's basically taking the training data and slicing it into folds.\n",
    "# Each fold is then used as a \"test\" set, which is evaluated on a model built using all the other folds."
   ]
  },
  {
   "cell_type": "code",
   "execution_count": 88,
   "metadata": {
    "collapsed": true
   },
   "outputs": [],
   "source": [
    "from sklearn.model_selection import cross_val_score\n",
    "#The most important things are:\n",
    "# Estimator = the model itself\n",
    "# cv= the number of \"folds\" (3 means 3 folds)"
   ]
  },
  {
   "cell_type": "code",
   "execution_count": 90,
   "metadata": {},
   "outputs": [
    {
     "data": {
      "text/plain": [
       "array([0.89573822, 0.87122163, 0.91637168, 0.90206932, 0.79354846])"
      ]
     },
     "execution_count": 90,
     "metadata": {},
     "output_type": "execute_result"
    }
   ],
   "source": [
    "cross_val_score(lr, X_train, y_train, cv = 5)\n",
    "#returns an array of scores.  Here, the default score is R-squared, the default score for linear regression"
   ]
  },
  {
   "cell_type": "code",
   "execution_count": null,
   "metadata": {
    "collapsed": true
   },
   "outputs": [],
   "source": []
  },
  {
   "cell_type": "code",
   "execution_count": null,
   "metadata": {
    "collapsed": true
   },
   "outputs": [],
   "source": []
  },
  {
   "cell_type": "markdown",
   "metadata": {},
   "source": [
    "### Polynomial Regression\n",
    "\n",
    "While we see what the relationship between these variables modeled as a straight line would be, but could a polynomial shape do better?  Let's first consider the simple polynomial case.  "
   ]
  },
  {
   "cell_type": "code",
   "execution_count": 96,
   "metadata": {
    "collapsed": true
   },
   "outputs": [],
   "source": [
    "mpg = pd.read_csv('data/mtcars.csv')"
   ]
  },
  {
   "cell_type": "code",
   "execution_count": 97,
   "metadata": {},
   "outputs": [
    {
     "name": "stdout",
     "output_type": "stream",
     "text": [
      "<class 'pandas.core.frame.DataFrame'>\n",
      "RangeIndex: 32 entries, 0 to 31\n",
      "Data columns (total 12 columns):\n",
      "Unnamed: 0    32 non-null object\n",
      "mpg           32 non-null float64\n",
      "cyl           32 non-null int64\n",
      "disp          32 non-null float64\n",
      "hp            32 non-null int64\n",
      "drat          32 non-null float64\n",
      "wt            32 non-null float64\n",
      "qsec          32 non-null float64\n",
      "vs            32 non-null int64\n",
      "am            32 non-null int64\n",
      "gear          32 non-null int64\n",
      "carb          32 non-null int64\n",
      "dtypes: float64(5), int64(6), object(1)\n",
      "memory usage: 3.1+ KB\n"
     ]
    }
   ],
   "source": [
    "mpg.info()"
   ]
  },
  {
   "cell_type": "code",
   "execution_count": 98,
   "metadata": {},
   "outputs": [
    {
     "data": {
      "application/javascript": [
       "/* Put everything inside the global mpl namespace */\n",
       "window.mpl = {};\n",
       "\n",
       "\n",
       "mpl.get_websocket_type = function() {\n",
       "    if (typeof(WebSocket) !== 'undefined') {\n",
       "        return WebSocket;\n",
       "    } else if (typeof(MozWebSocket) !== 'undefined') {\n",
       "        return MozWebSocket;\n",
       "    } else {\n",
       "        alert('Your browser does not have WebSocket support.' +\n",
       "              'Please try Chrome, Safari or Firefox ≥ 6. ' +\n",
       "              'Firefox 4 and 5 are also supported but you ' +\n",
       "              'have to enable WebSockets in about:config.');\n",
       "    };\n",
       "}\n",
       "\n",
       "mpl.figure = function(figure_id, websocket, ondownload, parent_element) {\n",
       "    this.id = figure_id;\n",
       "\n",
       "    this.ws = websocket;\n",
       "\n",
       "    this.supports_binary = (this.ws.binaryType != undefined);\n",
       "\n",
       "    if (!this.supports_binary) {\n",
       "        var warnings = document.getElementById(\"mpl-warnings\");\n",
       "        if (warnings) {\n",
       "            warnings.style.display = 'block';\n",
       "            warnings.textContent = (\n",
       "                \"This browser does not support binary websocket messages. \" +\n",
       "                    \"Performance may be slow.\");\n",
       "        }\n",
       "    }\n",
       "\n",
       "    this.imageObj = new Image();\n",
       "\n",
       "    this.context = undefined;\n",
       "    this.message = undefined;\n",
       "    this.canvas = undefined;\n",
       "    this.rubberband_canvas = undefined;\n",
       "    this.rubberband_context = undefined;\n",
       "    this.format_dropdown = undefined;\n",
       "\n",
       "    this.image_mode = 'full';\n",
       "\n",
       "    this.root = $('<div/>');\n",
       "    this._root_extra_style(this.root)\n",
       "    this.root.attr('style', 'display: inline-block');\n",
       "\n",
       "    $(parent_element).append(this.root);\n",
       "\n",
       "    this._init_header(this);\n",
       "    this._init_canvas(this);\n",
       "    this._init_toolbar(this);\n",
       "\n",
       "    var fig = this;\n",
       "\n",
       "    this.waiting = false;\n",
       "\n",
       "    this.ws.onopen =  function () {\n",
       "            fig.send_message(\"supports_binary\", {value: fig.supports_binary});\n",
       "            fig.send_message(\"send_image_mode\", {});\n",
       "            if (mpl.ratio != 1) {\n",
       "                fig.send_message(\"set_dpi_ratio\", {'dpi_ratio': mpl.ratio});\n",
       "            }\n",
       "            fig.send_message(\"refresh\", {});\n",
       "        }\n",
       "\n",
       "    this.imageObj.onload = function() {\n",
       "            if (fig.image_mode == 'full') {\n",
       "                // Full images could contain transparency (where diff images\n",
       "                // almost always do), so we need to clear the canvas so that\n",
       "                // there is no ghosting.\n",
       "                fig.context.clearRect(0, 0, fig.canvas.width, fig.canvas.height);\n",
       "            }\n",
       "            fig.context.drawImage(fig.imageObj, 0, 0);\n",
       "        };\n",
       "\n",
       "    this.imageObj.onunload = function() {\n",
       "        fig.ws.close();\n",
       "    }\n",
       "\n",
       "    this.ws.onmessage = this._make_on_message_function(this);\n",
       "\n",
       "    this.ondownload = ondownload;\n",
       "}\n",
       "\n",
       "mpl.figure.prototype._init_header = function() {\n",
       "    var titlebar = $(\n",
       "        '<div class=\"ui-dialog-titlebar ui-widget-header ui-corner-all ' +\n",
       "        'ui-helper-clearfix\"/>');\n",
       "    var titletext = $(\n",
       "        '<div class=\"ui-dialog-title\" style=\"width: 100%; ' +\n",
       "        'text-align: center; padding: 3px;\"/>');\n",
       "    titlebar.append(titletext)\n",
       "    this.root.append(titlebar);\n",
       "    this.header = titletext[0];\n",
       "}\n",
       "\n",
       "\n",
       "\n",
       "mpl.figure.prototype._canvas_extra_style = function(canvas_div) {\n",
       "\n",
       "}\n",
       "\n",
       "\n",
       "mpl.figure.prototype._root_extra_style = function(canvas_div) {\n",
       "\n",
       "}\n",
       "\n",
       "mpl.figure.prototype._init_canvas = function() {\n",
       "    var fig = this;\n",
       "\n",
       "    var canvas_div = $('<div/>');\n",
       "\n",
       "    canvas_div.attr('style', 'position: relative; clear: both; outline: 0');\n",
       "\n",
       "    function canvas_keyboard_event(event) {\n",
       "        return fig.key_event(event, event['data']);\n",
       "    }\n",
       "\n",
       "    canvas_div.keydown('key_press', canvas_keyboard_event);\n",
       "    canvas_div.keyup('key_release', canvas_keyboard_event);\n",
       "    this.canvas_div = canvas_div\n",
       "    this._canvas_extra_style(canvas_div)\n",
       "    this.root.append(canvas_div);\n",
       "\n",
       "    var canvas = $('<canvas/>');\n",
       "    canvas.addClass('mpl-canvas');\n",
       "    canvas.attr('style', \"left: 0; top: 0; z-index: 0; outline: 0\")\n",
       "\n",
       "    this.canvas = canvas[0];\n",
       "    this.context = canvas[0].getContext(\"2d\");\n",
       "\n",
       "    var backingStore = this.context.backingStorePixelRatio ||\n",
       "\tthis.context.webkitBackingStorePixelRatio ||\n",
       "\tthis.context.mozBackingStorePixelRatio ||\n",
       "\tthis.context.msBackingStorePixelRatio ||\n",
       "\tthis.context.oBackingStorePixelRatio ||\n",
       "\tthis.context.backingStorePixelRatio || 1;\n",
       "\n",
       "    mpl.ratio = (window.devicePixelRatio || 1) / backingStore;\n",
       "\n",
       "    var rubberband = $('<canvas/>');\n",
       "    rubberband.attr('style', \"position: absolute; left: 0; top: 0; z-index: 1;\")\n",
       "\n",
       "    var pass_mouse_events = true;\n",
       "\n",
       "    canvas_div.resizable({\n",
       "        start: function(event, ui) {\n",
       "            pass_mouse_events = false;\n",
       "        },\n",
       "        resize: function(event, ui) {\n",
       "            fig.request_resize(ui.size.width, ui.size.height);\n",
       "        },\n",
       "        stop: function(event, ui) {\n",
       "            pass_mouse_events = true;\n",
       "            fig.request_resize(ui.size.width, ui.size.height);\n",
       "        },\n",
       "    });\n",
       "\n",
       "    function mouse_event_fn(event) {\n",
       "        if (pass_mouse_events)\n",
       "            return fig.mouse_event(event, event['data']);\n",
       "    }\n",
       "\n",
       "    rubberband.mousedown('button_press', mouse_event_fn);\n",
       "    rubberband.mouseup('button_release', mouse_event_fn);\n",
       "    // Throttle sequential mouse events to 1 every 20ms.\n",
       "    rubberband.mousemove('motion_notify', mouse_event_fn);\n",
       "\n",
       "    rubberband.mouseenter('figure_enter', mouse_event_fn);\n",
       "    rubberband.mouseleave('figure_leave', mouse_event_fn);\n",
       "\n",
       "    canvas_div.on(\"wheel\", function (event) {\n",
       "        event = event.originalEvent;\n",
       "        event['data'] = 'scroll'\n",
       "        if (event.deltaY < 0) {\n",
       "            event.step = 1;\n",
       "        } else {\n",
       "            event.step = -1;\n",
       "        }\n",
       "        mouse_event_fn(event);\n",
       "    });\n",
       "\n",
       "    canvas_div.append(canvas);\n",
       "    canvas_div.append(rubberband);\n",
       "\n",
       "    this.rubberband = rubberband;\n",
       "    this.rubberband_canvas = rubberband[0];\n",
       "    this.rubberband_context = rubberband[0].getContext(\"2d\");\n",
       "    this.rubberband_context.strokeStyle = \"#000000\";\n",
       "\n",
       "    this._resize_canvas = function(width, height) {\n",
       "        // Keep the size of the canvas, canvas container, and rubber band\n",
       "        // canvas in synch.\n",
       "        canvas_div.css('width', width)\n",
       "        canvas_div.css('height', height)\n",
       "\n",
       "        canvas.attr('width', width * mpl.ratio);\n",
       "        canvas.attr('height', height * mpl.ratio);\n",
       "        canvas.attr('style', 'width: ' + width + 'px; height: ' + height + 'px;');\n",
       "\n",
       "        rubberband.attr('width', width);\n",
       "        rubberband.attr('height', height);\n",
       "    }\n",
       "\n",
       "    // Set the figure to an initial 600x600px, this will subsequently be updated\n",
       "    // upon first draw.\n",
       "    this._resize_canvas(600, 600);\n",
       "\n",
       "    // Disable right mouse context menu.\n",
       "    $(this.rubberband_canvas).bind(\"contextmenu\",function(e){\n",
       "        return false;\n",
       "    });\n",
       "\n",
       "    function set_focus () {\n",
       "        canvas.focus();\n",
       "        canvas_div.focus();\n",
       "    }\n",
       "\n",
       "    window.setTimeout(set_focus, 100);\n",
       "}\n",
       "\n",
       "mpl.figure.prototype._init_toolbar = function() {\n",
       "    var fig = this;\n",
       "\n",
       "    var nav_element = $('<div/>')\n",
       "    nav_element.attr('style', 'width: 100%');\n",
       "    this.root.append(nav_element);\n",
       "\n",
       "    // Define a callback function for later on.\n",
       "    function toolbar_event(event) {\n",
       "        return fig.toolbar_button_onclick(event['data']);\n",
       "    }\n",
       "    function toolbar_mouse_event(event) {\n",
       "        return fig.toolbar_button_onmouseover(event['data']);\n",
       "    }\n",
       "\n",
       "    for(var toolbar_ind in mpl.toolbar_items) {\n",
       "        var name = mpl.toolbar_items[toolbar_ind][0];\n",
       "        var tooltip = mpl.toolbar_items[toolbar_ind][1];\n",
       "        var image = mpl.toolbar_items[toolbar_ind][2];\n",
       "        var method_name = mpl.toolbar_items[toolbar_ind][3];\n",
       "\n",
       "        if (!name) {\n",
       "            // put a spacer in here.\n",
       "            continue;\n",
       "        }\n",
       "        var button = $('<button/>');\n",
       "        button.addClass('ui-button ui-widget ui-state-default ui-corner-all ' +\n",
       "                        'ui-button-icon-only');\n",
       "        button.attr('role', 'button');\n",
       "        button.attr('aria-disabled', 'false');\n",
       "        button.click(method_name, toolbar_event);\n",
       "        button.mouseover(tooltip, toolbar_mouse_event);\n",
       "\n",
       "        var icon_img = $('<span/>');\n",
       "        icon_img.addClass('ui-button-icon-primary ui-icon');\n",
       "        icon_img.addClass(image);\n",
       "        icon_img.addClass('ui-corner-all');\n",
       "\n",
       "        var tooltip_span = $('<span/>');\n",
       "        tooltip_span.addClass('ui-button-text');\n",
       "        tooltip_span.html(tooltip);\n",
       "\n",
       "        button.append(icon_img);\n",
       "        button.append(tooltip_span);\n",
       "\n",
       "        nav_element.append(button);\n",
       "    }\n",
       "\n",
       "    var fmt_picker_span = $('<span/>');\n",
       "\n",
       "    var fmt_picker = $('<select/>');\n",
       "    fmt_picker.addClass('mpl-toolbar-option ui-widget ui-widget-content');\n",
       "    fmt_picker_span.append(fmt_picker);\n",
       "    nav_element.append(fmt_picker_span);\n",
       "    this.format_dropdown = fmt_picker[0];\n",
       "\n",
       "    for (var ind in mpl.extensions) {\n",
       "        var fmt = mpl.extensions[ind];\n",
       "        var option = $(\n",
       "            '<option/>', {selected: fmt === mpl.default_extension}).html(fmt);\n",
       "        fmt_picker.append(option)\n",
       "    }\n",
       "\n",
       "    // Add hover states to the ui-buttons\n",
       "    $( \".ui-button\" ).hover(\n",
       "        function() { $(this).addClass(\"ui-state-hover\");},\n",
       "        function() { $(this).removeClass(\"ui-state-hover\");}\n",
       "    );\n",
       "\n",
       "    var status_bar = $('<span class=\"mpl-message\"/>');\n",
       "    nav_element.append(status_bar);\n",
       "    this.message = status_bar[0];\n",
       "}\n",
       "\n",
       "mpl.figure.prototype.request_resize = function(x_pixels, y_pixels) {\n",
       "    // Request matplotlib to resize the figure. Matplotlib will then trigger a resize in the client,\n",
       "    // which will in turn request a refresh of the image.\n",
       "    this.send_message('resize', {'width': x_pixels, 'height': y_pixels});\n",
       "}\n",
       "\n",
       "mpl.figure.prototype.send_message = function(type, properties) {\n",
       "    properties['type'] = type;\n",
       "    properties['figure_id'] = this.id;\n",
       "    this.ws.send(JSON.stringify(properties));\n",
       "}\n",
       "\n",
       "mpl.figure.prototype.send_draw_message = function() {\n",
       "    if (!this.waiting) {\n",
       "        this.waiting = true;\n",
       "        this.ws.send(JSON.stringify({type: \"draw\", figure_id: this.id}));\n",
       "    }\n",
       "}\n",
       "\n",
       "\n",
       "mpl.figure.prototype.handle_save = function(fig, msg) {\n",
       "    var format_dropdown = fig.format_dropdown;\n",
       "    var format = format_dropdown.options[format_dropdown.selectedIndex].value;\n",
       "    fig.ondownload(fig, format);\n",
       "}\n",
       "\n",
       "\n",
       "mpl.figure.prototype.handle_resize = function(fig, msg) {\n",
       "    var size = msg['size'];\n",
       "    if (size[0] != fig.canvas.width || size[1] != fig.canvas.height) {\n",
       "        fig._resize_canvas(size[0], size[1]);\n",
       "        fig.send_message(\"refresh\", {});\n",
       "    };\n",
       "}\n",
       "\n",
       "mpl.figure.prototype.handle_rubberband = function(fig, msg) {\n",
       "    var x0 = msg['x0'] / mpl.ratio;\n",
       "    var y0 = (fig.canvas.height - msg['y0']) / mpl.ratio;\n",
       "    var x1 = msg['x1'] / mpl.ratio;\n",
       "    var y1 = (fig.canvas.height - msg['y1']) / mpl.ratio;\n",
       "    x0 = Math.floor(x0) + 0.5;\n",
       "    y0 = Math.floor(y0) + 0.5;\n",
       "    x1 = Math.floor(x1) + 0.5;\n",
       "    y1 = Math.floor(y1) + 0.5;\n",
       "    var min_x = Math.min(x0, x1);\n",
       "    var min_y = Math.min(y0, y1);\n",
       "    var width = Math.abs(x1 - x0);\n",
       "    var height = Math.abs(y1 - y0);\n",
       "\n",
       "    fig.rubberband_context.clearRect(\n",
       "        0, 0, fig.canvas.width, fig.canvas.height);\n",
       "\n",
       "    fig.rubberband_context.strokeRect(min_x, min_y, width, height);\n",
       "}\n",
       "\n",
       "mpl.figure.prototype.handle_figure_label = function(fig, msg) {\n",
       "    // Updates the figure title.\n",
       "    fig.header.textContent = msg['label'];\n",
       "}\n",
       "\n",
       "mpl.figure.prototype.handle_cursor = function(fig, msg) {\n",
       "    var cursor = msg['cursor'];\n",
       "    switch(cursor)\n",
       "    {\n",
       "    case 0:\n",
       "        cursor = 'pointer';\n",
       "        break;\n",
       "    case 1:\n",
       "        cursor = 'default';\n",
       "        break;\n",
       "    case 2:\n",
       "        cursor = 'crosshair';\n",
       "        break;\n",
       "    case 3:\n",
       "        cursor = 'move';\n",
       "        break;\n",
       "    }\n",
       "    fig.rubberband_canvas.style.cursor = cursor;\n",
       "}\n",
       "\n",
       "mpl.figure.prototype.handle_message = function(fig, msg) {\n",
       "    fig.message.textContent = msg['message'];\n",
       "}\n",
       "\n",
       "mpl.figure.prototype.handle_draw = function(fig, msg) {\n",
       "    // Request the server to send over a new figure.\n",
       "    fig.send_draw_message();\n",
       "}\n",
       "\n",
       "mpl.figure.prototype.handle_image_mode = function(fig, msg) {\n",
       "    fig.image_mode = msg['mode'];\n",
       "}\n",
       "\n",
       "mpl.figure.prototype.updated_canvas_event = function() {\n",
       "    // Called whenever the canvas gets updated.\n",
       "    this.send_message(\"ack\", {});\n",
       "}\n",
       "\n",
       "// A function to construct a web socket function for onmessage handling.\n",
       "// Called in the figure constructor.\n",
       "mpl.figure.prototype._make_on_message_function = function(fig) {\n",
       "    return function socket_on_message(evt) {\n",
       "        if (evt.data instanceof Blob) {\n",
       "            /* FIXME: We get \"Resource interpreted as Image but\n",
       "             * transferred with MIME type text/plain:\" errors on\n",
       "             * Chrome.  But how to set the MIME type?  It doesn't seem\n",
       "             * to be part of the websocket stream */\n",
       "            evt.data.type = \"image/png\";\n",
       "\n",
       "            /* Free the memory for the previous frames */\n",
       "            if (fig.imageObj.src) {\n",
       "                (window.URL || window.webkitURL).revokeObjectURL(\n",
       "                    fig.imageObj.src);\n",
       "            }\n",
       "\n",
       "            fig.imageObj.src = (window.URL || window.webkitURL).createObjectURL(\n",
       "                evt.data);\n",
       "            fig.updated_canvas_event();\n",
       "            fig.waiting = false;\n",
       "            return;\n",
       "        }\n",
       "        else if (typeof evt.data === 'string' && evt.data.slice(0, 21) == \"data:image/png;base64\") {\n",
       "            fig.imageObj.src = evt.data;\n",
       "            fig.updated_canvas_event();\n",
       "            fig.waiting = false;\n",
       "            return;\n",
       "        }\n",
       "\n",
       "        var msg = JSON.parse(evt.data);\n",
       "        var msg_type = msg['type'];\n",
       "\n",
       "        // Call the  \"handle_{type}\" callback, which takes\n",
       "        // the figure and JSON message as its only arguments.\n",
       "        try {\n",
       "            var callback = fig[\"handle_\" + msg_type];\n",
       "        } catch (e) {\n",
       "            console.log(\"No handler for the '\" + msg_type + \"' message type: \", msg);\n",
       "            return;\n",
       "        }\n",
       "\n",
       "        if (callback) {\n",
       "            try {\n",
       "                // console.log(\"Handling '\" + msg_type + \"' message: \", msg);\n",
       "                callback(fig, msg);\n",
       "            } catch (e) {\n",
       "                console.log(\"Exception inside the 'handler_\" + msg_type + \"' callback:\", e, e.stack, msg);\n",
       "            }\n",
       "        }\n",
       "    };\n",
       "}\n",
       "\n",
       "// from http://stackoverflow.com/questions/1114465/getting-mouse-location-in-canvas\n",
       "mpl.findpos = function(e) {\n",
       "    //this section is from http://www.quirksmode.org/js/events_properties.html\n",
       "    var targ;\n",
       "    if (!e)\n",
       "        e = window.event;\n",
       "    if (e.target)\n",
       "        targ = e.target;\n",
       "    else if (e.srcElement)\n",
       "        targ = e.srcElement;\n",
       "    if (targ.nodeType == 3) // defeat Safari bug\n",
       "        targ = targ.parentNode;\n",
       "\n",
       "    // jQuery normalizes the pageX and pageY\n",
       "    // pageX,Y are the mouse positions relative to the document\n",
       "    // offset() returns the position of the element relative to the document\n",
       "    var x = e.pageX - $(targ).offset().left;\n",
       "    var y = e.pageY - $(targ).offset().top;\n",
       "\n",
       "    return {\"x\": x, \"y\": y};\n",
       "};\n",
       "\n",
       "/*\n",
       " * return a copy of an object with only non-object keys\n",
       " * we need this to avoid circular references\n",
       " * http://stackoverflow.com/a/24161582/3208463\n",
       " */\n",
       "function simpleKeys (original) {\n",
       "  return Object.keys(original).reduce(function (obj, key) {\n",
       "    if (typeof original[key] !== 'object')\n",
       "        obj[key] = original[key]\n",
       "    return obj;\n",
       "  }, {});\n",
       "}\n",
       "\n",
       "mpl.figure.prototype.mouse_event = function(event, name) {\n",
       "    var canvas_pos = mpl.findpos(event)\n",
       "\n",
       "    if (name === 'button_press')\n",
       "    {\n",
       "        this.canvas.focus();\n",
       "        this.canvas_div.focus();\n",
       "    }\n",
       "\n",
       "    var x = canvas_pos.x * mpl.ratio;\n",
       "    var y = canvas_pos.y * mpl.ratio;\n",
       "\n",
       "    this.send_message(name, {x: x, y: y, button: event.button,\n",
       "                             step: event.step,\n",
       "                             guiEvent: simpleKeys(event)});\n",
       "\n",
       "    /* This prevents the web browser from automatically changing to\n",
       "     * the text insertion cursor when the button is pressed.  We want\n",
       "     * to control all of the cursor setting manually through the\n",
       "     * 'cursor' event from matplotlib */\n",
       "    event.preventDefault();\n",
       "    return false;\n",
       "}\n",
       "\n",
       "mpl.figure.prototype._key_event_extra = function(event, name) {\n",
       "    // Handle any extra behaviour associated with a key event\n",
       "}\n",
       "\n",
       "mpl.figure.prototype.key_event = function(event, name) {\n",
       "\n",
       "    // Prevent repeat events\n",
       "    if (name == 'key_press')\n",
       "    {\n",
       "        if (event.which === this._key)\n",
       "            return;\n",
       "        else\n",
       "            this._key = event.which;\n",
       "    }\n",
       "    if (name == 'key_release')\n",
       "        this._key = null;\n",
       "\n",
       "    var value = '';\n",
       "    if (event.ctrlKey && event.which != 17)\n",
       "        value += \"ctrl+\";\n",
       "    if (event.altKey && event.which != 18)\n",
       "        value += \"alt+\";\n",
       "    if (event.shiftKey && event.which != 16)\n",
       "        value += \"shift+\";\n",
       "\n",
       "    value += 'k';\n",
       "    value += event.which.toString();\n",
       "\n",
       "    this._key_event_extra(event, name);\n",
       "\n",
       "    this.send_message(name, {key: value,\n",
       "                             guiEvent: simpleKeys(event)});\n",
       "    return false;\n",
       "}\n",
       "\n",
       "mpl.figure.prototype.toolbar_button_onclick = function(name) {\n",
       "    if (name == 'download') {\n",
       "        this.handle_save(this, null);\n",
       "    } else {\n",
       "        this.send_message(\"toolbar_button\", {name: name});\n",
       "    }\n",
       "};\n",
       "\n",
       "mpl.figure.prototype.toolbar_button_onmouseover = function(tooltip) {\n",
       "    this.message.textContent = tooltip;\n",
       "};\n",
       "mpl.toolbar_items = [[\"Home\", \"Reset original view\", \"fa fa-home icon-home\", \"home\"], [\"Back\", \"Back to  previous view\", \"fa fa-arrow-left icon-arrow-left\", \"back\"], [\"Forward\", \"Forward to next view\", \"fa fa-arrow-right icon-arrow-right\", \"forward\"], [\"\", \"\", \"\", \"\"], [\"Pan\", \"Pan axes with left mouse, zoom with right\", \"fa fa-arrows icon-move\", \"pan\"], [\"Zoom\", \"Zoom to rectangle\", \"fa fa-square-o icon-check-empty\", \"zoom\"], [\"\", \"\", \"\", \"\"], [\"Download\", \"Download plot\", \"fa fa-floppy-o icon-save\", \"download\"]];\n",
       "\n",
       "mpl.extensions = [\"eps\", \"jpeg\", \"pdf\", \"png\", \"ps\", \"raw\", \"svg\", \"tif\"];\n",
       "\n",
       "mpl.default_extension = \"png\";var comm_websocket_adapter = function(comm) {\n",
       "    // Create a \"websocket\"-like object which calls the given IPython comm\n",
       "    // object with the appropriate methods. Currently this is a non binary\n",
       "    // socket, so there is still some room for performance tuning.\n",
       "    var ws = {};\n",
       "\n",
       "    ws.close = function() {\n",
       "        comm.close()\n",
       "    };\n",
       "    ws.send = function(m) {\n",
       "        //console.log('sending', m);\n",
       "        comm.send(m);\n",
       "    };\n",
       "    // Register the callback with on_msg.\n",
       "    comm.on_msg(function(msg) {\n",
       "        //console.log('receiving', msg['content']['data'], msg);\n",
       "        // Pass the mpl event to the overridden (by mpl) onmessage function.\n",
       "        ws.onmessage(msg['content']['data'])\n",
       "    });\n",
       "    return ws;\n",
       "}\n",
       "\n",
       "mpl.mpl_figure_comm = function(comm, msg) {\n",
       "    // This is the function which gets called when the mpl process\n",
       "    // starts-up an IPython Comm through the \"matplotlib\" channel.\n",
       "\n",
       "    var id = msg.content.data.id;\n",
       "    // Get hold of the div created by the display call when the Comm\n",
       "    // socket was opened in Python.\n",
       "    var element = $(\"#\" + id);\n",
       "    var ws_proxy = comm_websocket_adapter(comm)\n",
       "\n",
       "    function ondownload(figure, format) {\n",
       "        window.open(figure.imageObj.src);\n",
       "    }\n",
       "\n",
       "    var fig = new mpl.figure(id, ws_proxy,\n",
       "                           ondownload,\n",
       "                           element.get(0));\n",
       "\n",
       "    // Call onopen now - mpl needs it, as it is assuming we've passed it a real\n",
       "    // web socket which is closed, not our websocket->open comm proxy.\n",
       "    ws_proxy.onopen();\n",
       "\n",
       "    fig.parent_element = element.get(0);\n",
       "    fig.cell_info = mpl.find_output_cell(\"<div id='\" + id + \"'></div>\");\n",
       "    if (!fig.cell_info) {\n",
       "        console.error(\"Failed to find cell for figure\", id, fig);\n",
       "        return;\n",
       "    }\n",
       "\n",
       "    var output_index = fig.cell_info[2]\n",
       "    var cell = fig.cell_info[0];\n",
       "\n",
       "};\n",
       "\n",
       "mpl.figure.prototype.handle_close = function(fig, msg) {\n",
       "    var width = fig.canvas.width/mpl.ratio\n",
       "    fig.root.unbind('remove')\n",
       "\n",
       "    // Update the output cell to use the data from the current canvas.\n",
       "    fig.push_to_output();\n",
       "    var dataURL = fig.canvas.toDataURL();\n",
       "    // Re-enable the keyboard manager in IPython - without this line, in FF,\n",
       "    // the notebook keyboard shortcuts fail.\n",
       "    IPython.keyboard_manager.enable()\n",
       "    $(fig.parent_element).html('<img src=\"' + dataURL + '\" width=\"' + width + '\">');\n",
       "    fig.close_ws(fig, msg);\n",
       "}\n",
       "\n",
       "mpl.figure.prototype.close_ws = function(fig, msg){\n",
       "    fig.send_message('closing', msg);\n",
       "    // fig.ws.close()\n",
       "}\n",
       "\n",
       "mpl.figure.prototype.push_to_output = function(remove_interactive) {\n",
       "    // Turn the data on the canvas into data in the output cell.\n",
       "    var width = this.canvas.width/mpl.ratio\n",
       "    var dataURL = this.canvas.toDataURL();\n",
       "    this.cell_info[1]['text/html'] = '<img src=\"' + dataURL + '\" width=\"' + width + '\">';\n",
       "}\n",
       "\n",
       "mpl.figure.prototype.updated_canvas_event = function() {\n",
       "    // Tell IPython that the notebook contents must change.\n",
       "    IPython.notebook.set_dirty(true);\n",
       "    this.send_message(\"ack\", {});\n",
       "    var fig = this;\n",
       "    // Wait a second, then push the new image to the DOM so\n",
       "    // that it is saved nicely (might be nice to debounce this).\n",
       "    setTimeout(function () { fig.push_to_output() }, 1000);\n",
       "}\n",
       "\n",
       "mpl.figure.prototype._init_toolbar = function() {\n",
       "    var fig = this;\n",
       "\n",
       "    var nav_element = $('<div/>')\n",
       "    nav_element.attr('style', 'width: 100%');\n",
       "    this.root.append(nav_element);\n",
       "\n",
       "    // Define a callback function for later on.\n",
       "    function toolbar_event(event) {\n",
       "        return fig.toolbar_button_onclick(event['data']);\n",
       "    }\n",
       "    function toolbar_mouse_event(event) {\n",
       "        return fig.toolbar_button_onmouseover(event['data']);\n",
       "    }\n",
       "\n",
       "    for(var toolbar_ind in mpl.toolbar_items){\n",
       "        var name = mpl.toolbar_items[toolbar_ind][0];\n",
       "        var tooltip = mpl.toolbar_items[toolbar_ind][1];\n",
       "        var image = mpl.toolbar_items[toolbar_ind][2];\n",
       "        var method_name = mpl.toolbar_items[toolbar_ind][3];\n",
       "\n",
       "        if (!name) { continue; };\n",
       "\n",
       "        var button = $('<button class=\"btn btn-default\" href=\"#\" title=\"' + name + '\"><i class=\"fa ' + image + ' fa-lg\"></i></button>');\n",
       "        button.click(method_name, toolbar_event);\n",
       "        button.mouseover(tooltip, toolbar_mouse_event);\n",
       "        nav_element.append(button);\n",
       "    }\n",
       "\n",
       "    // Add the status bar.\n",
       "    var status_bar = $('<span class=\"mpl-message\" style=\"text-align:right; float: right;\"/>');\n",
       "    nav_element.append(status_bar);\n",
       "    this.message = status_bar[0];\n",
       "\n",
       "    // Add the close button to the window.\n",
       "    var buttongrp = $('<div class=\"btn-group inline pull-right\"></div>');\n",
       "    var button = $('<button class=\"btn btn-mini btn-primary\" href=\"#\" title=\"Stop Interaction\"><i class=\"fa fa-power-off icon-remove icon-large\"></i></button>');\n",
       "    button.click(function (evt) { fig.handle_close(fig, {}); } );\n",
       "    button.mouseover('Stop Interaction', toolbar_mouse_event);\n",
       "    buttongrp.append(button);\n",
       "    var titlebar = this.root.find($('.ui-dialog-titlebar'));\n",
       "    titlebar.prepend(buttongrp);\n",
       "}\n",
       "\n",
       "mpl.figure.prototype._root_extra_style = function(el){\n",
       "    var fig = this\n",
       "    el.on(\"remove\", function(){\n",
       "\tfig.close_ws(fig, {});\n",
       "    });\n",
       "}\n",
       "\n",
       "mpl.figure.prototype._canvas_extra_style = function(el){\n",
       "    // this is important to make the div 'focusable\n",
       "    el.attr('tabindex', 0)\n",
       "    // reach out to IPython and tell the keyboard manager to turn it's self\n",
       "    // off when our div gets focus\n",
       "\n",
       "    // location in version 3\n",
       "    if (IPython.notebook.keyboard_manager) {\n",
       "        IPython.notebook.keyboard_manager.register_events(el);\n",
       "    }\n",
       "    else {\n",
       "        // location in version 2\n",
       "        IPython.keyboard_manager.register_events(el);\n",
       "    }\n",
       "\n",
       "}\n",
       "\n",
       "mpl.figure.prototype._key_event_extra = function(event, name) {\n",
       "    var manager = IPython.notebook.keyboard_manager;\n",
       "    if (!manager)\n",
       "        manager = IPython.keyboard_manager;\n",
       "\n",
       "    // Check for shift+enter\n",
       "    if (event.shiftKey && event.which == 13) {\n",
       "        this.canvas_div.blur();\n",
       "        event.shiftKey = false;\n",
       "        // Send a \"J\" for go to next cell\n",
       "        event.which = 74;\n",
       "        event.keyCode = 74;\n",
       "        manager.command_mode();\n",
       "        manager.handle_keydown(event);\n",
       "    }\n",
       "}\n",
       "\n",
       "mpl.figure.prototype.handle_save = function(fig, msg) {\n",
       "    fig.ondownload(fig, null);\n",
       "}\n",
       "\n",
       "\n",
       "mpl.find_output_cell = function(html_output) {\n",
       "    // Return the cell and output element which can be found *uniquely* in the notebook.\n",
       "    // Note - this is a bit hacky, but it is done because the \"notebook_saving.Notebook\"\n",
       "    // IPython event is triggered only after the cells have been serialised, which for\n",
       "    // our purposes (turning an active figure into a static one), is too late.\n",
       "    var cells = IPython.notebook.get_cells();\n",
       "    var ncells = cells.length;\n",
       "    for (var i=0; i<ncells; i++) {\n",
       "        var cell = cells[i];\n",
       "        if (cell.cell_type === 'code'){\n",
       "            for (var j=0; j<cell.output_area.outputs.length; j++) {\n",
       "                var data = cell.output_area.outputs[j];\n",
       "                if (data.data) {\n",
       "                    // IPython >= 3 moved mimebundle to data attribute of output\n",
       "                    data = data.data;\n",
       "                }\n",
       "                if (data['text/html'] == html_output) {\n",
       "                    return [cell, data, j];\n",
       "                }\n",
       "            }\n",
       "        }\n",
       "    }\n",
       "}\n",
       "\n",
       "// Register the function which deals with the matplotlib target/channel.\n",
       "// The kernel may be null if the page has been refreshed.\n",
       "if (IPython.notebook.kernel != null) {\n",
       "    IPython.notebook.kernel.comm_manager.register_target('matplotlib', mpl.mpl_figure_comm);\n",
       "}\n"
      ],
      "text/plain": [
       "<IPython.core.display.Javascript object>"
      ]
     },
     "metadata": {},
     "output_type": "display_data"
    },
    {
     "data": {
      "text/html": [
       "<img src=\"data:image/png;base64,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\" width=\"640\">"
      ],
      "text/plain": [
       "<IPython.core.display.HTML object>"
      ]
     },
     "metadata": {},
     "output_type": "display_data"
    },
    {
     "data": {
      "text/plain": [
       "<matplotlib.collections.PathCollection at 0x2cc2f261e80>"
      ]
     },
     "execution_count": 98,
     "metadata": {},
     "output_type": "execute_result"
    }
   ],
   "source": [
    "plt.figure()\n",
    "plt.scatter(mpg['hp'], mpg['mpg'])"
   ]
  },
  {
   "cell_type": "code",
   "execution_count": 99,
   "metadata": {},
   "outputs": [
    {
     "data": {
      "text/plain": [
       "[<matplotlib.lines.Line2D at 0x2cc2f695b00>]"
      ]
     },
     "execution_count": 99,
     "metadata": {},
     "output_type": "execute_result"
    }
   ],
   "source": [
    "lin = np.polyfit(mpg['hp'], mpg['mpg'], 1)\n",
    "lin_p = np.poly1d(lin)\n",
    "\n",
    "x = mpg['hp'].sort_values()\n",
    "plt.plot(x, lin_p(x), label = 'Linear')"
   ]
  },
  {
   "cell_type": "code",
   "execution_count": 100,
   "metadata": {},
   "outputs": [
    {
     "data": {
      "text/plain": [
       "[<matplotlib.lines.Line2D at 0x2cc2f695080>]"
      ]
     },
     "execution_count": 100,
     "metadata": {},
     "output_type": "execute_result"
    }
   ],
   "source": [
    "quad = np.polyfit(mpg['hp'], mpg['mpg'], 2)\n",
    "quad_p = np.poly1d(quad)\n",
    "\n",
    "plt.plot(x, quad_p(x), label = 'Quadratic')"
   ]
  },
  {
   "cell_type": "code",
   "execution_count": 101,
   "metadata": {},
   "outputs": [
    {
     "data": {
      "text/plain": [
       "<matplotlib.legend.Legend at 0x2cc2ff21780>"
      ]
     },
     "execution_count": 101,
     "metadata": {},
     "output_type": "execute_result"
    }
   ],
   "source": [
    "many = np.polyfit(mpg['hp'], mpg['mpg'], 14)\n",
    "big_p = np.poly1d(many)\n",
    "\n",
    "plt.plot(x, big_p(x), label = 'Degree 14')\n",
    "plt.legend(frameon = False)"
   ]
  },
  {
   "cell_type": "code",
   "execution_count": 102,
   "metadata": {
    "collapsed": true
   },
   "outputs": [],
   "source": [
    "from sklearn.preprocessing import PolynomialFeatures\n",
    "from sklearn.pipeline import make_pipeline"
   ]
  },
  {
   "cell_type": "code",
   "execution_count": 104,
   "metadata": {
    "collapsed": true
   },
   "outputs": [],
   "source": [
    "pipe = make_pipeline(PolynomialFeatures(degree=2), LinearRegression())"
   ]
  },
  {
   "cell_type": "code",
   "execution_count": 105,
   "metadata": {},
   "outputs": [
    {
     "data": {
      "text/plain": [
       "Pipeline(memory=None,\n",
       "     steps=[('polynomialfeatures', PolynomialFeatures(degree=2, include_bias=True, interaction_only=False)), ('linearregression', LinearRegression(copy_X=True, fit_intercept=True, n_jobs=1, normalize=False))])"
      ]
     },
     "execution_count": 105,
     "metadata": {},
     "output_type": "execute_result"
    }
   ],
   "source": [
    "pipe.fit(X_train, y_train)"
   ]
  },
  {
   "cell_type": "code",
   "execution_count": 106,
   "metadata": {
    "collapsed": true
   },
   "outputs": [],
   "source": [
    "pred = pipe.predict(X_test)"
   ]
  },
  {
   "cell_type": "code",
   "execution_count": 107,
   "metadata": {},
   "outputs": [
    {
     "data": {
      "text/plain": [
       "185.29346035858214"
      ]
     },
     "execution_count": 107,
     "metadata": {},
     "output_type": "execute_result"
    }
   ],
   "source": [
    "np.sqrt(mean_squared_error(pred, y_test))"
   ]
  },
  {
   "cell_type": "code",
   "execution_count": null,
   "metadata": {
    "collapsed": true
   },
   "outputs": [],
   "source": []
  },
  {
   "cell_type": "code",
   "execution_count": null,
   "metadata": {
    "collapsed": true
   },
   "outputs": [],
   "source": []
  },
  {
   "cell_type": "code",
   "execution_count": null,
   "metadata": {
    "collapsed": true
   },
   "outputs": [],
   "source": []
  },
  {
   "cell_type": "markdown",
   "metadata": {},
   "source": [
    "**Determining Shape**\n",
    "\n",
    "\n",
    "One way to look at whether there is a quadratic relationship between variables is to examine the graph of the residuals.  Below, we construct residual plots for the linear and quadratic case that include a fitted line.  Note the lack of pattern in the quadratic fit."
   ]
  },
  {
   "cell_type": "code",
   "execution_count": null,
   "metadata": {
    "collapsed": true,
    "scrolled": false
   },
   "outputs": [],
   "source": [
    "plt.figure(figsize = (10, 5))\n",
    "plt.subplot(1, 2, 1)\n",
    "sns.residplot(mpg['mpg'], mpg['hp'], lowess = True)\n",
    "\n",
    "plt.subplot(1, 2, 2)\n",
    "sns.residplot(mpg['mpg'], mpg['hp'], order = 2, lowess = True)"
   ]
  },
  {
   "cell_type": "markdown",
   "metadata": {},
   "source": [
    "### More than One Polynomial Feature\n",
    "\n",
    "While a polynomial in 2-Dimensions looks like\n",
    "\n",
    "$$ y = a_0 + a_1x + a_2x^2 + ... + a_nx^n $$\n",
    "\n",
    "A quadratic polynomial in 3-Dimensions could look something like:\n",
    "\n",
    "$$ f(x, y) = ax^2 + bx + cy^2 + dy + exy  + f$$\n",
    "\n",
    "Note the existence of the $exy$ term, where the variables $x$ and $y$ interact.  We can see something like this in our advertising data.  Let's first create a new column that combines the TV and radio columns through multiplication.  We can consider this in a 2D plot against sales."
   ]
  },
  {
   "cell_type": "code",
   "execution_count": null,
   "metadata": {
    "collapsed": true
   },
   "outputs": [],
   "source": [
    "ads['TVradio'] = ads.TV * ads.radio"
   ]
  },
  {
   "cell_type": "code",
   "execution_count": null,
   "metadata": {
    "collapsed": true
   },
   "outputs": [],
   "source": [
    "ads.head()"
   ]
  },
  {
   "cell_type": "code",
   "execution_count": null,
   "metadata": {
    "collapsed": true
   },
   "outputs": [],
   "source": [
    "plt.figure()\n",
    "plt.scatter(ads['TVradio'], ads['sales'])"
   ]
  },
  {
   "cell_type": "code",
   "execution_count": null,
   "metadata": {
    "collapsed": true
   },
   "outputs": [],
   "source": [
    "quad = np.polyfit(ads.TVradio, ads.sales, 2)"
   ]
  },
  {
   "cell_type": "code",
   "execution_count": null,
   "metadata": {
    "collapsed": true
   },
   "outputs": [],
   "source": [
    "quad_p = np.poly1d(quad)"
   ]
  },
  {
   "cell_type": "code",
   "execution_count": null,
   "metadata": {
    "collapsed": true
   },
   "outputs": [],
   "source": [
    "x = ads.TVradio.sort_values()"
   ]
  },
  {
   "cell_type": "code",
   "execution_count": null,
   "metadata": {
    "collapsed": true
   },
   "outputs": [],
   "source": [
    "plt.plot(x, quad_p(x), color = 'red', linewidth = 5)"
   ]
  },
  {
   "cell_type": "markdown",
   "metadata": {},
   "source": [
    "We want to include the individual terms that make up the interaction term in our original model.  Thus, we will need a 3D quadratic polynomial for our model in the advertising data.  The smoothest way I know to accomplish this is to us the `PolynomialFeatures` method from scikitlearn.  Below, we create an instance of the `PolynomialFeatures` method, create a single object containing the input variables, and fit these values with the `.fit_transform()` method."
   ]
  },
  {
   "cell_type": "code",
   "execution_count": null,
   "metadata": {
    "collapsed": true
   },
   "outputs": [],
   "source": [
    "from sklearn.preprocessing import PolynomialFeatures\n",
    "poly_features = PolynomialFeatures(degree=2, include_bias = False)"
   ]
  },
  {
   "cell_type": "code",
   "execution_count": null,
   "metadata": {
    "collapsed": true
   },
   "outputs": [],
   "source": [
    "X = ads[['TV', 'radio']]"
   ]
  },
  {
   "cell_type": "code",
   "execution_count": null,
   "metadata": {
    "collapsed": true
   },
   "outputs": [],
   "source": [
    "X_poly = poly_features.fit_transform(X)"
   ]
  },
  {
   "cell_type": "code",
   "execution_count": null,
   "metadata": {
    "collapsed": true
   },
   "outputs": [],
   "source": [
    "X_poly[0]"
   ]
  },
  {
   "cell_type": "code",
   "execution_count": null,
   "metadata": {
    "collapsed": true
   },
   "outputs": [],
   "source": [
    "from sklearn.linear_model import LinearRegression"
   ]
  },
  {
   "cell_type": "code",
   "execution_count": null,
   "metadata": {
    "collapsed": true
   },
   "outputs": [],
   "source": [
    "lin_reg = LinearRegression()"
   ]
  },
  {
   "cell_type": "code",
   "execution_count": null,
   "metadata": {
    "collapsed": true
   },
   "outputs": [],
   "source": [
    "lin_reg.fit(X_poly, ads.sales)"
   ]
  },
  {
   "cell_type": "code",
   "execution_count": null,
   "metadata": {
    "collapsed": true
   },
   "outputs": [],
   "source": [
    "lin_reg.intercept_"
   ]
  },
  {
   "cell_type": "code",
   "execution_count": null,
   "metadata": {
    "collapsed": true
   },
   "outputs": [],
   "source": [
    "lin_reg.predict(X_poly)[:10]"
   ]
  },
  {
   "cell_type": "code",
   "execution_count": null,
   "metadata": {
    "collapsed": true
   },
   "outputs": [],
   "source": [
    "lin_reg.score(X_poly, ads.sales)"
   ]
  },
  {
   "cell_type": "markdown",
   "metadata": {},
   "source": [
    "### Pipelines and Higher Degree Fits\n",
    "\n",
    "We could use a higher order polynomial also, examining a degree 3 polynomial with the `Pipeline` approach, combining the two operations together.  We will see much more from piplines moving forward."
   ]
  },
  {
   "cell_type": "code",
   "execution_count": null,
   "metadata": {
    "collapsed": true
   },
   "outputs": [],
   "source": [
    "model = Pipeline([('poly', PolynomialFeatures(3)),\n",
    "                 ('linear', LinearRegression(fit_intercept= False))])"
   ]
  },
  {
   "cell_type": "code",
   "execution_count": null,
   "metadata": {
    "collapsed": true
   },
   "outputs": [],
   "source": [
    "X = ads[['TV', 'radio']]\n",
    "y = ads['sales']"
   ]
  },
  {
   "cell_type": "code",
   "execution_count": null,
   "metadata": {
    "collapsed": true
   },
   "outputs": [],
   "source": [
    "model = model.fit(X, y)"
   ]
  },
  {
   "cell_type": "code",
   "execution_count": null,
   "metadata": {
    "collapsed": true
   },
   "outputs": [],
   "source": [
    "model.score(X, y)"
   ]
  },
  {
   "cell_type": "code",
   "execution_count": null,
   "metadata": {
    "collapsed": true,
    "scrolled": false
   },
   "outputs": [],
   "source": [
    "ads.plot(x = 'TV', y = 'sales', kind = 'scatter')\n",
    "plt.scatter(ads['TV'], y = model.predict(X), color = 'red', alpha = 0.2 )"
   ]
  },
  {
   "cell_type": "code",
   "execution_count": null,
   "metadata": {
    "collapsed": true
   },
   "outputs": [],
   "source": [
    "from sklearn.metrics import mean_squared_error"
   ]
  },
  {
   "cell_type": "code",
   "execution_count": null,
   "metadata": {
    "collapsed": true
   },
   "outputs": [],
   "source": [
    "mse = mean_squared_error(y, model.predict(X))"
   ]
  },
  {
   "cell_type": "code",
   "execution_count": null,
   "metadata": {
    "collapsed": true
   },
   "outputs": [],
   "source": [
    "rmse = np.sqrt(mse)"
   ]
  },
  {
   "cell_type": "code",
   "execution_count": null,
   "metadata": {
    "collapsed": true
   },
   "outputs": [],
   "source": [
    "rmse"
   ]
  },
  {
   "cell_type": "code",
   "execution_count": null,
   "metadata": {
    "collapsed": true
   },
   "outputs": [],
   "source": [
    "from sklearn.tree import DecisionTreeRegressor"
   ]
  },
  {
   "cell_type": "code",
   "execution_count": null,
   "metadata": {
    "collapsed": true
   },
   "outputs": [],
   "source": [
    "tree_reg = DecisionTreeRegressor()\n",
    "tree_reg.fit(X, y)\n",
    "tree_predictions = tree_reg.predict(X)\n",
    "mse = mean_squared_error(y, tree_predictions)\n",
    "rmse = np.sqrt(mse)"
   ]
  },
  {
   "cell_type": "code",
   "execution_count": null,
   "metadata": {
    "collapsed": true
   },
   "outputs": [],
   "source": [
    "mse"
   ]
  },
  {
   "cell_type": "code",
   "execution_count": null,
   "metadata": {
    "collapsed": true
   },
   "outputs": [],
   "source": [
    "rmse"
   ]
  },
  {
   "cell_type": "markdown",
   "metadata": {},
   "source": [
    "### Problem\n",
    "\n",
    "Investigate the use of `PolynomialFeatures` on the `Credit` dataset.  Does a cubic polynomial significantly improve performance?"
   ]
  },
  {
   "cell_type": "code",
   "execution_count": null,
   "metadata": {
    "collapsed": true
   },
   "outputs": [],
   "source": [
    "credit.head()"
   ]
  },
  {
   "cell_type": "code",
   "execution_count": null,
   "metadata": {
    "collapsed": true
   },
   "outputs": [],
   "source": [
    "X = credit[['Limit', 'Rating', 'Education']]"
   ]
  },
  {
   "cell_type": "code",
   "execution_count": null,
   "metadata": {
    "collapsed": true
   },
   "outputs": [],
   "source": [
    "y = credit['Balance']\n",
    "lm = LinearRegression()"
   ]
  },
  {
   "cell_type": "code",
   "execution_count": null,
   "metadata": {
    "collapsed": true
   },
   "outputs": [],
   "source": [
    "lm.fit(X, y)"
   ]
  },
  {
   "cell_type": "code",
   "execution_count": null,
   "metadata": {
    "collapsed": true
   },
   "outputs": [],
   "source": [
    "lm.score(X, y)"
   ]
  },
  {
   "cell_type": "markdown",
   "metadata": {},
   "source": []
  },
  {
   "cell_type": "code",
   "execution_count": null,
   "metadata": {
    "collapsed": true
   },
   "outputs": [],
   "source": [
    "mse = mean_squared_error(lm.predict(X), y)"
   ]
  },
  {
   "cell_type": "code",
   "execution_count": null,
   "metadata": {
    "collapsed": true
   },
   "outputs": [],
   "source": [
    "np.sqrt(mse)"
   ]
  },
  {
   "cell_type": "code",
   "execution_count": null,
   "metadata": {
    "collapsed": true
   },
   "outputs": [],
   "source": []
  },
  {
   "cell_type": "code",
   "execution_count": null,
   "metadata": {
    "collapsed": true
   },
   "outputs": [],
   "source": []
  }
 ],
 "metadata": {
  "kernelspec": {
   "display_name": "Python 3",
   "language": "python",
   "name": "python3"
  },
  "language_info": {
   "codemirror_mode": {
    "name": "ipython",
    "version": 3
   },
   "file_extension": ".py",
   "mimetype": "text/x-python",
   "name": "python",
   "nbconvert_exporter": "python",
   "pygments_lexer": "ipython3",
   "version": "3.6.5"
  }
 },
 "nbformat": 4,
 "nbformat_minor": 2
}
