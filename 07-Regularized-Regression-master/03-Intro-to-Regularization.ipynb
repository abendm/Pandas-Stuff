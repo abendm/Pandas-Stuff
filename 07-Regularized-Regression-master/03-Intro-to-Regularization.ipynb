{
 "cells": [
  {
   "cell_type": "markdown",
   "metadata": {},
   "source": [
    "# Regularized Methods\n",
    "\n",
    "- Feature Scaling\n",
    "- Test/Train split\n",
    "- Ridge, LASSO, Elastic Net Regression methods\n",
    "\n",
    "---\n",
    "\n",
    "In a regular linear scenario, we start with a regular linear function.\n",
    "\n",
    "$$ \\hat y = b + ax_0$$\n",
    "\n",
    "\n",
    "\n",
    "The mean square error of these predictions would be given by:\n",
    "\n",
    "$$RSS(a, b) = \\sum_{i = 1}^n(y_i -  (ax_i + b))^2$$\n",
    "\n",
    "From this basic $MSE$ formulation, we can introduce some Regularized methods that add a *regularization term*  to the $MSE$.  We will look at three methods that offer slight variations on this term.\n",
    "\n",
    "### Feature Scaling\n",
    "\n",
    "To use these methods, we want to scale our data.  Many Machine Learning algorithms don't do well with data operating on very different scales.  Using the `MinMaxScaler` normalizes the data and brings the values between 0 and 1. The `StandardScaler` method is less sensitive to wide ranges of values and determines a distribution centered at zero. We will use both on our Ames housing data.  To begin, we need to select the numeric columns from the DataFrame so we can transform them only."
   ]
  },
  {
   "cell_type": "code",
   "execution_count": 1,
   "metadata": {
    "collapsed": true
   },
   "outputs": [],
   "source": [
    "%matplotlib notebook\n",
    "import matplotlib.pyplot as plt\n",
    "import numpy as np\n",
    "import pandas as pd"
   ]
  },
  {
   "cell_type": "code",
   "execution_count": 2,
   "metadata": {
    "collapsed": true
   },
   "outputs": [],
   "source": [
    "#get our data and select the numer\n",
    "ames = pd.read_csv('data/ames_housing.csv', index_col='Id')\n",
    "y = ames['SalePrice']\n",
    "ames = ames.drop('SalePrice', axis = 1)"
   ]
  },
  {
   "cell_type": "code",
   "execution_count": 3,
   "metadata": {},
   "outputs": [
    {
     "data": {
      "text/html": [
       "<div>\n",
       "<style scoped>\n",
       "    .dataframe tbody tr th:only-of-type {\n",
       "        vertical-align: middle;\n",
       "    }\n",
       "\n",
       "    .dataframe tbody tr th {\n",
       "        vertical-align: top;\n",
       "    }\n",
       "\n",
       "    .dataframe thead th {\n",
       "        text-align: right;\n",
       "    }\n",
       "</style>\n",
       "<table border=\"1\" class=\"dataframe\">\n",
       "  <thead>\n",
       "    <tr style=\"text-align: right;\">\n",
       "      <th></th>\n",
       "      <th>MSSubClass</th>\n",
       "      <th>LotArea</th>\n",
       "      <th>OverallQual</th>\n",
       "      <th>OverallCond</th>\n",
       "      <th>YearBuilt</th>\n",
       "      <th>YearRemodAdd</th>\n",
       "      <th>BsmtFinSF1</th>\n",
       "      <th>BsmtFinSF2</th>\n",
       "      <th>BsmtUnfSF</th>\n",
       "      <th>TotalBsmtSF</th>\n",
       "      <th>...</th>\n",
       "      <th>GarageArea</th>\n",
       "      <th>WoodDeckSF</th>\n",
       "      <th>OpenPorchSF</th>\n",
       "      <th>EnclosedPorch</th>\n",
       "      <th>3SsnPorch</th>\n",
       "      <th>ScreenPorch</th>\n",
       "      <th>PoolArea</th>\n",
       "      <th>MiscVal</th>\n",
       "      <th>MoSold</th>\n",
       "      <th>YrSold</th>\n",
       "    </tr>\n",
       "    <tr>\n",
       "      <th>Id</th>\n",
       "      <th></th>\n",
       "      <th></th>\n",
       "      <th></th>\n",
       "      <th></th>\n",
       "      <th></th>\n",
       "      <th></th>\n",
       "      <th></th>\n",
       "      <th></th>\n",
       "      <th></th>\n",
       "      <th></th>\n",
       "      <th></th>\n",
       "      <th></th>\n",
       "      <th></th>\n",
       "      <th></th>\n",
       "      <th></th>\n",
       "      <th></th>\n",
       "      <th></th>\n",
       "      <th></th>\n",
       "      <th></th>\n",
       "      <th></th>\n",
       "      <th></th>\n",
       "    </tr>\n",
       "  </thead>\n",
       "  <tbody>\n",
       "    <tr>\n",
       "      <th>1</th>\n",
       "      <td>60</td>\n",
       "      <td>8450</td>\n",
       "      <td>7</td>\n",
       "      <td>5</td>\n",
       "      <td>2003</td>\n",
       "      <td>2003</td>\n",
       "      <td>706</td>\n",
       "      <td>0</td>\n",
       "      <td>150</td>\n",
       "      <td>856</td>\n",
       "      <td>...</td>\n",
       "      <td>548</td>\n",
       "      <td>0</td>\n",
       "      <td>61</td>\n",
       "      <td>0</td>\n",
       "      <td>0</td>\n",
       "      <td>0</td>\n",
       "      <td>0</td>\n",
       "      <td>0</td>\n",
       "      <td>2</td>\n",
       "      <td>2008</td>\n",
       "    </tr>\n",
       "    <tr>\n",
       "      <th>2</th>\n",
       "      <td>20</td>\n",
       "      <td>9600</td>\n",
       "      <td>6</td>\n",
       "      <td>8</td>\n",
       "      <td>1976</td>\n",
       "      <td>1976</td>\n",
       "      <td>978</td>\n",
       "      <td>0</td>\n",
       "      <td>284</td>\n",
       "      <td>1262</td>\n",
       "      <td>...</td>\n",
       "      <td>460</td>\n",
       "      <td>298</td>\n",
       "      <td>0</td>\n",
       "      <td>0</td>\n",
       "      <td>0</td>\n",
       "      <td>0</td>\n",
       "      <td>0</td>\n",
       "      <td>0</td>\n",
       "      <td>5</td>\n",
       "      <td>2007</td>\n",
       "    </tr>\n",
       "    <tr>\n",
       "      <th>3</th>\n",
       "      <td>60</td>\n",
       "      <td>11250</td>\n",
       "      <td>7</td>\n",
       "      <td>5</td>\n",
       "      <td>2001</td>\n",
       "      <td>2002</td>\n",
       "      <td>486</td>\n",
       "      <td>0</td>\n",
       "      <td>434</td>\n",
       "      <td>920</td>\n",
       "      <td>...</td>\n",
       "      <td>608</td>\n",
       "      <td>0</td>\n",
       "      <td>42</td>\n",
       "      <td>0</td>\n",
       "      <td>0</td>\n",
       "      <td>0</td>\n",
       "      <td>0</td>\n",
       "      <td>0</td>\n",
       "      <td>9</td>\n",
       "      <td>2008</td>\n",
       "    </tr>\n",
       "    <tr>\n",
       "      <th>4</th>\n",
       "      <td>70</td>\n",
       "      <td>9550</td>\n",
       "      <td>7</td>\n",
       "      <td>5</td>\n",
       "      <td>1915</td>\n",
       "      <td>1970</td>\n",
       "      <td>216</td>\n",
       "      <td>0</td>\n",
       "      <td>540</td>\n",
       "      <td>756</td>\n",
       "      <td>...</td>\n",
       "      <td>642</td>\n",
       "      <td>0</td>\n",
       "      <td>35</td>\n",
       "      <td>272</td>\n",
       "      <td>0</td>\n",
       "      <td>0</td>\n",
       "      <td>0</td>\n",
       "      <td>0</td>\n",
       "      <td>2</td>\n",
       "      <td>2006</td>\n",
       "    </tr>\n",
       "    <tr>\n",
       "      <th>5</th>\n",
       "      <td>60</td>\n",
       "      <td>14260</td>\n",
       "      <td>8</td>\n",
       "      <td>5</td>\n",
       "      <td>2000</td>\n",
       "      <td>2000</td>\n",
       "      <td>655</td>\n",
       "      <td>0</td>\n",
       "      <td>490</td>\n",
       "      <td>1145</td>\n",
       "      <td>...</td>\n",
       "      <td>836</td>\n",
       "      <td>192</td>\n",
       "      <td>84</td>\n",
       "      <td>0</td>\n",
       "      <td>0</td>\n",
       "      <td>0</td>\n",
       "      <td>0</td>\n",
       "      <td>0</td>\n",
       "      <td>12</td>\n",
       "      <td>2008</td>\n",
       "    </tr>\n",
       "  </tbody>\n",
       "</table>\n",
       "<p>5 rows × 33 columns</p>\n",
       "</div>"
      ],
      "text/plain": [
       "    MSSubClass  LotArea  OverallQual  OverallCond  YearBuilt  YearRemodAdd  \\\n",
       "Id                                                                           \n",
       "1           60     8450            7            5       2003          2003   \n",
       "2           20     9600            6            8       1976          1976   \n",
       "3           60    11250            7            5       2001          2002   \n",
       "4           70     9550            7            5       1915          1970   \n",
       "5           60    14260            8            5       2000          2000   \n",
       "\n",
       "    BsmtFinSF1  BsmtFinSF2  BsmtUnfSF  TotalBsmtSF   ...    GarageArea  \\\n",
       "Id                                                   ...                 \n",
       "1          706           0        150          856   ...           548   \n",
       "2          978           0        284         1262   ...           460   \n",
       "3          486           0        434          920   ...           608   \n",
       "4          216           0        540          756   ...           642   \n",
       "5          655           0        490         1145   ...           836   \n",
       "\n",
       "    WoodDeckSF  OpenPorchSF  EnclosedPorch  3SsnPorch  ScreenPorch  PoolArea  \\\n",
       "Id                                                                             \n",
       "1            0           61              0          0            0         0   \n",
       "2          298            0              0          0            0         0   \n",
       "3            0           42              0          0            0         0   \n",
       "4            0           35            272          0            0         0   \n",
       "5          192           84              0          0            0         0   \n",
       "\n",
       "    MiscVal  MoSold  YrSold  \n",
       "Id                           \n",
       "1         0       2    2008  \n",
       "2         0       5    2007  \n",
       "3         0       9    2008  \n",
       "4         0       2    2006  \n",
       "5         0      12    2008  \n",
       "\n",
       "[5 rows x 33 columns]"
      ]
     },
     "execution_count": 3,
     "metadata": {},
     "output_type": "execute_result"
    }
   ],
   "source": [
    "ames_numeric = ames.select_dtypes(include = 'int64')\n",
    "ames_numeric.head()\n",
    "\n",
    "#here we just select the numerinc columns cuz he's trying to show us how the scaling works.\n",
    "#If I were actually doing this, I'd convert things like \"MSSubClass\" or any Year variable to a categorical.  Doesn't make \n",
    "#sense to scale those"
   ]
  },
  {
   "cell_type": "markdown",
   "metadata": {},
   "source": [
    "### Using the Scaler on a DataFrame\n",
    "\n",
    "Below, we can compare the results of the two scaling transformations by passing a list of column names to the scaler.  Note the practice of initializing the object, fitting it, and transforming.  "
   ]
  },
  {
   "cell_type": "code",
   "execution_count": 4,
   "metadata": {
    "collapsed": true
   },
   "outputs": [],
   "source": [
    "from sklearn.preprocessing import StandardScaler, MinMaxScaler"
   ]
  },
  {
   "cell_type": "code",
   "execution_count": 5,
   "metadata": {
    "collapsed": true
   },
   "outputs": [],
   "source": [
    "std_scaled = StandardScaler()\n",
    "minmax_scaled = MinMaxScaler()"
   ]
  },
  {
   "cell_type": "code",
   "execution_count": 6,
   "metadata": {
    "collapsed": true
   },
   "outputs": [],
   "source": [
    "cols = ames_numeric.columns"
   ]
  },
  {
   "cell_type": "code",
   "execution_count": 7,
   "metadata": {
    "collapsed": true
   },
   "outputs": [],
   "source": [
    "std_df = std_scaled.fit_transform(ames[[name for name in cols]])\n",
    "minmax_df = minmax_scaled.fit_transform(ames[[name for name in cols]])"
   ]
  },
  {
   "cell_type": "code",
   "execution_count": 8,
   "metadata": {},
   "outputs": [
    {
     "data": {
      "text/html": [
       "<div>\n",
       "<style scoped>\n",
       "    .dataframe tbody tr th:only-of-type {\n",
       "        vertical-align: middle;\n",
       "    }\n",
       "\n",
       "    .dataframe tbody tr th {\n",
       "        vertical-align: top;\n",
       "    }\n",
       "\n",
       "    .dataframe thead th {\n",
       "        text-align: right;\n",
       "    }\n",
       "</style>\n",
       "<table border=\"1\" class=\"dataframe\">\n",
       "  <thead>\n",
       "    <tr style=\"text-align: right;\">\n",
       "      <th></th>\n",
       "      <th>0</th>\n",
       "      <th>1</th>\n",
       "      <th>2</th>\n",
       "      <th>3</th>\n",
       "      <th>4</th>\n",
       "      <th>5</th>\n",
       "      <th>6</th>\n",
       "      <th>7</th>\n",
       "      <th>8</th>\n",
       "      <th>9</th>\n",
       "      <th>...</th>\n",
       "      <th>23</th>\n",
       "      <th>24</th>\n",
       "      <th>25</th>\n",
       "      <th>26</th>\n",
       "      <th>27</th>\n",
       "      <th>28</th>\n",
       "      <th>29</th>\n",
       "      <th>30</th>\n",
       "      <th>31</th>\n",
       "      <th>32</th>\n",
       "    </tr>\n",
       "  </thead>\n",
       "  <tbody>\n",
       "    <tr>\n",
       "      <th>0</th>\n",
       "      <td>0.073375</td>\n",
       "      <td>-0.207142</td>\n",
       "      <td>0.651479</td>\n",
       "      <td>-0.517200</td>\n",
       "      <td>1.050994</td>\n",
       "      <td>0.878668</td>\n",
       "      <td>0.575425</td>\n",
       "      <td>-0.288653</td>\n",
       "      <td>-0.944591</td>\n",
       "      <td>-0.459303</td>\n",
       "      <td>...</td>\n",
       "      <td>0.351000</td>\n",
       "      <td>-0.752176</td>\n",
       "      <td>0.216503</td>\n",
       "      <td>-0.359325</td>\n",
       "      <td>-0.116339</td>\n",
       "      <td>-0.270208</td>\n",
       "      <td>-0.068692</td>\n",
       "      <td>-0.087688</td>\n",
       "      <td>-1.599111</td>\n",
       "      <td>0.138777</td>\n",
       "    </tr>\n",
       "    <tr>\n",
       "      <th>1</th>\n",
       "      <td>-0.872563</td>\n",
       "      <td>-0.091886</td>\n",
       "      <td>-0.071836</td>\n",
       "      <td>2.179628</td>\n",
       "      <td>0.156734</td>\n",
       "      <td>-0.429577</td>\n",
       "      <td>1.171992</td>\n",
       "      <td>-0.288653</td>\n",
       "      <td>-0.641228</td>\n",
       "      <td>0.466465</td>\n",
       "      <td>...</td>\n",
       "      <td>-0.060731</td>\n",
       "      <td>1.626195</td>\n",
       "      <td>-0.704483</td>\n",
       "      <td>-0.359325</td>\n",
       "      <td>-0.116339</td>\n",
       "      <td>-0.270208</td>\n",
       "      <td>-0.068692</td>\n",
       "      <td>-0.087688</td>\n",
       "      <td>-0.489110</td>\n",
       "      <td>-0.614439</td>\n",
       "    </tr>\n",
       "    <tr>\n",
       "      <th>2</th>\n",
       "      <td>0.073375</td>\n",
       "      <td>0.073480</td>\n",
       "      <td>0.651479</td>\n",
       "      <td>-0.517200</td>\n",
       "      <td>0.984752</td>\n",
       "      <td>0.830215</td>\n",
       "      <td>0.092907</td>\n",
       "      <td>-0.288653</td>\n",
       "      <td>-0.301643</td>\n",
       "      <td>-0.313369</td>\n",
       "      <td>...</td>\n",
       "      <td>0.631726</td>\n",
       "      <td>-0.752176</td>\n",
       "      <td>-0.070361</td>\n",
       "      <td>-0.359325</td>\n",
       "      <td>-0.116339</td>\n",
       "      <td>-0.270208</td>\n",
       "      <td>-0.068692</td>\n",
       "      <td>-0.087688</td>\n",
       "      <td>0.990891</td>\n",
       "      <td>0.138777</td>\n",
       "    </tr>\n",
       "    <tr>\n",
       "      <th>3</th>\n",
       "      <td>0.309859</td>\n",
       "      <td>-0.096897</td>\n",
       "      <td>0.651479</td>\n",
       "      <td>-0.517200</td>\n",
       "      <td>-1.863632</td>\n",
       "      <td>-0.720298</td>\n",
       "      <td>-0.499274</td>\n",
       "      <td>-0.288653</td>\n",
       "      <td>-0.061670</td>\n",
       "      <td>-0.687324</td>\n",
       "      <td>...</td>\n",
       "      <td>0.790804</td>\n",
       "      <td>-0.752176</td>\n",
       "      <td>-0.176048</td>\n",
       "      <td>4.092524</td>\n",
       "      <td>-0.116339</td>\n",
       "      <td>-0.270208</td>\n",
       "      <td>-0.068692</td>\n",
       "      <td>-0.087688</td>\n",
       "      <td>-1.599111</td>\n",
       "      <td>-1.367655</td>\n",
       "    </tr>\n",
       "    <tr>\n",
       "      <th>4</th>\n",
       "      <td>0.073375</td>\n",
       "      <td>0.375148</td>\n",
       "      <td>1.374795</td>\n",
       "      <td>-0.517200</td>\n",
       "      <td>0.951632</td>\n",
       "      <td>0.733308</td>\n",
       "      <td>0.463568</td>\n",
       "      <td>-0.288653</td>\n",
       "      <td>-0.174865</td>\n",
       "      <td>0.199680</td>\n",
       "      <td>...</td>\n",
       "      <td>1.698485</td>\n",
       "      <td>0.780197</td>\n",
       "      <td>0.563760</td>\n",
       "      <td>-0.359325</td>\n",
       "      <td>-0.116339</td>\n",
       "      <td>-0.270208</td>\n",
       "      <td>-0.068692</td>\n",
       "      <td>-0.087688</td>\n",
       "      <td>2.100892</td>\n",
       "      <td>0.138777</td>\n",
       "    </tr>\n",
       "  </tbody>\n",
       "</table>\n",
       "<p>5 rows × 33 columns</p>\n",
       "</div>"
      ],
      "text/plain": [
       "         0         1         2         3         4         5         6   \\\n",
       "0  0.073375 -0.207142  0.651479 -0.517200  1.050994  0.878668  0.575425   \n",
       "1 -0.872563 -0.091886 -0.071836  2.179628  0.156734 -0.429577  1.171992   \n",
       "2  0.073375  0.073480  0.651479 -0.517200  0.984752  0.830215  0.092907   \n",
       "3  0.309859 -0.096897  0.651479 -0.517200 -1.863632 -0.720298 -0.499274   \n",
       "4  0.073375  0.375148  1.374795 -0.517200  0.951632  0.733308  0.463568   \n",
       "\n",
       "         7         8         9     ...           23        24        25  \\\n",
       "0 -0.288653 -0.944591 -0.459303    ...     0.351000 -0.752176  0.216503   \n",
       "1 -0.288653 -0.641228  0.466465    ...    -0.060731  1.626195 -0.704483   \n",
       "2 -0.288653 -0.301643 -0.313369    ...     0.631726 -0.752176 -0.070361   \n",
       "3 -0.288653 -0.061670 -0.687324    ...     0.790804 -0.752176 -0.176048   \n",
       "4 -0.288653 -0.174865  0.199680    ...     1.698485  0.780197  0.563760   \n",
       "\n",
       "         26        27        28        29        30        31        32  \n",
       "0 -0.359325 -0.116339 -0.270208 -0.068692 -0.087688 -1.599111  0.138777  \n",
       "1 -0.359325 -0.116339 -0.270208 -0.068692 -0.087688 -0.489110 -0.614439  \n",
       "2 -0.359325 -0.116339 -0.270208 -0.068692 -0.087688  0.990891  0.138777  \n",
       "3  4.092524 -0.116339 -0.270208 -0.068692 -0.087688 -1.599111 -1.367655  \n",
       "4 -0.359325 -0.116339 -0.270208 -0.068692 -0.087688  2.100892  0.138777  \n",
       "\n",
       "[5 rows x 33 columns]"
      ]
     },
     "execution_count": 8,
     "metadata": {},
     "output_type": "execute_result"
    }
   ],
   "source": [
    "pd.DataFrame(std_df).head()"
   ]
  },
  {
   "cell_type": "code",
   "execution_count": 9,
   "metadata": {},
   "outputs": [
    {
     "data": {
      "text/html": [
       "<div>\n",
       "<style scoped>\n",
       "    .dataframe tbody tr th:only-of-type {\n",
       "        vertical-align: middle;\n",
       "    }\n",
       "\n",
       "    .dataframe tbody tr th {\n",
       "        vertical-align: top;\n",
       "    }\n",
       "\n",
       "    .dataframe thead th {\n",
       "        text-align: right;\n",
       "    }\n",
       "</style>\n",
       "<table border=\"1\" class=\"dataframe\">\n",
       "  <thead>\n",
       "    <tr style=\"text-align: right;\">\n",
       "      <th></th>\n",
       "      <th>0</th>\n",
       "      <th>1</th>\n",
       "      <th>2</th>\n",
       "      <th>3</th>\n",
       "      <th>4</th>\n",
       "      <th>5</th>\n",
       "      <th>6</th>\n",
       "      <th>7</th>\n",
       "      <th>8</th>\n",
       "      <th>9</th>\n",
       "      <th>...</th>\n",
       "      <th>23</th>\n",
       "      <th>24</th>\n",
       "      <th>25</th>\n",
       "      <th>26</th>\n",
       "      <th>27</th>\n",
       "      <th>28</th>\n",
       "      <th>29</th>\n",
       "      <th>30</th>\n",
       "      <th>31</th>\n",
       "      <th>32</th>\n",
       "    </tr>\n",
       "  </thead>\n",
       "  <tbody>\n",
       "    <tr>\n",
       "      <th>0</th>\n",
       "      <td>0.235294</td>\n",
       "      <td>0.033420</td>\n",
       "      <td>0.666667</td>\n",
       "      <td>0.500</td>\n",
       "      <td>0.949275</td>\n",
       "      <td>0.883333</td>\n",
       "      <td>0.125089</td>\n",
       "      <td>0.0</td>\n",
       "      <td>0.064212</td>\n",
       "      <td>0.140098</td>\n",
       "      <td>...</td>\n",
       "      <td>0.386460</td>\n",
       "      <td>0.000000</td>\n",
       "      <td>0.111517</td>\n",
       "      <td>0.000000</td>\n",
       "      <td>0.0</td>\n",
       "      <td>0.0</td>\n",
       "      <td>0.0</td>\n",
       "      <td>0.0</td>\n",
       "      <td>0.090909</td>\n",
       "      <td>0.50</td>\n",
       "    </tr>\n",
       "    <tr>\n",
       "      <th>1</th>\n",
       "      <td>0.000000</td>\n",
       "      <td>0.038795</td>\n",
       "      <td>0.555556</td>\n",
       "      <td>0.875</td>\n",
       "      <td>0.753623</td>\n",
       "      <td>0.433333</td>\n",
       "      <td>0.173281</td>\n",
       "      <td>0.0</td>\n",
       "      <td>0.121575</td>\n",
       "      <td>0.206547</td>\n",
       "      <td>...</td>\n",
       "      <td>0.324401</td>\n",
       "      <td>0.347725</td>\n",
       "      <td>0.000000</td>\n",
       "      <td>0.000000</td>\n",
       "      <td>0.0</td>\n",
       "      <td>0.0</td>\n",
       "      <td>0.0</td>\n",
       "      <td>0.0</td>\n",
       "      <td>0.363636</td>\n",
       "      <td>0.25</td>\n",
       "    </tr>\n",
       "    <tr>\n",
       "      <th>2</th>\n",
       "      <td>0.235294</td>\n",
       "      <td>0.046507</td>\n",
       "      <td>0.666667</td>\n",
       "      <td>0.500</td>\n",
       "      <td>0.934783</td>\n",
       "      <td>0.866667</td>\n",
       "      <td>0.086109</td>\n",
       "      <td>0.0</td>\n",
       "      <td>0.185788</td>\n",
       "      <td>0.150573</td>\n",
       "      <td>...</td>\n",
       "      <td>0.428773</td>\n",
       "      <td>0.000000</td>\n",
       "      <td>0.076782</td>\n",
       "      <td>0.000000</td>\n",
       "      <td>0.0</td>\n",
       "      <td>0.0</td>\n",
       "      <td>0.0</td>\n",
       "      <td>0.0</td>\n",
       "      <td>0.727273</td>\n",
       "      <td>0.50</td>\n",
       "    </tr>\n",
       "    <tr>\n",
       "      <th>3</th>\n",
       "      <td>0.294118</td>\n",
       "      <td>0.038561</td>\n",
       "      <td>0.666667</td>\n",
       "      <td>0.500</td>\n",
       "      <td>0.311594</td>\n",
       "      <td>0.333333</td>\n",
       "      <td>0.038271</td>\n",
       "      <td>0.0</td>\n",
       "      <td>0.231164</td>\n",
       "      <td>0.123732</td>\n",
       "      <td>...</td>\n",
       "      <td>0.452750</td>\n",
       "      <td>0.000000</td>\n",
       "      <td>0.063985</td>\n",
       "      <td>0.492754</td>\n",
       "      <td>0.0</td>\n",
       "      <td>0.0</td>\n",
       "      <td>0.0</td>\n",
       "      <td>0.0</td>\n",
       "      <td>0.090909</td>\n",
       "      <td>0.00</td>\n",
       "    </tr>\n",
       "    <tr>\n",
       "      <th>4</th>\n",
       "      <td>0.235294</td>\n",
       "      <td>0.060576</td>\n",
       "      <td>0.777778</td>\n",
       "      <td>0.500</td>\n",
       "      <td>0.927536</td>\n",
       "      <td>0.833333</td>\n",
       "      <td>0.116052</td>\n",
       "      <td>0.0</td>\n",
       "      <td>0.209760</td>\n",
       "      <td>0.187398</td>\n",
       "      <td>...</td>\n",
       "      <td>0.589563</td>\n",
       "      <td>0.224037</td>\n",
       "      <td>0.153565</td>\n",
       "      <td>0.000000</td>\n",
       "      <td>0.0</td>\n",
       "      <td>0.0</td>\n",
       "      <td>0.0</td>\n",
       "      <td>0.0</td>\n",
       "      <td>1.000000</td>\n",
       "      <td>0.50</td>\n",
       "    </tr>\n",
       "  </tbody>\n",
       "</table>\n",
       "<p>5 rows × 33 columns</p>\n",
       "</div>"
      ],
      "text/plain": [
       "         0         1         2      3         4         5         6    7   \\\n",
       "0  0.235294  0.033420  0.666667  0.500  0.949275  0.883333  0.125089  0.0   \n",
       "1  0.000000  0.038795  0.555556  0.875  0.753623  0.433333  0.173281  0.0   \n",
       "2  0.235294  0.046507  0.666667  0.500  0.934783  0.866667  0.086109  0.0   \n",
       "3  0.294118  0.038561  0.666667  0.500  0.311594  0.333333  0.038271  0.0   \n",
       "4  0.235294  0.060576  0.777778  0.500  0.927536  0.833333  0.116052  0.0   \n",
       "\n",
       "         8         9   ...         23        24        25        26   27   28  \\\n",
       "0  0.064212  0.140098  ...   0.386460  0.000000  0.111517  0.000000  0.0  0.0   \n",
       "1  0.121575  0.206547  ...   0.324401  0.347725  0.000000  0.000000  0.0  0.0   \n",
       "2  0.185788  0.150573  ...   0.428773  0.000000  0.076782  0.000000  0.0  0.0   \n",
       "3  0.231164  0.123732  ...   0.452750  0.000000  0.063985  0.492754  0.0  0.0   \n",
       "4  0.209760  0.187398  ...   0.589563  0.224037  0.153565  0.000000  0.0  0.0   \n",
       "\n",
       "    29   30        31    32  \n",
       "0  0.0  0.0  0.090909  0.50  \n",
       "1  0.0  0.0  0.363636  0.25  \n",
       "2  0.0  0.0  0.727273  0.50  \n",
       "3  0.0  0.0  0.090909  0.00  \n",
       "4  0.0  0.0  1.000000  0.50  \n",
       "\n",
       "[5 rows x 33 columns]"
      ]
     },
     "execution_count": 9,
     "metadata": {},
     "output_type": "execute_result"
    }
   ],
   "source": [
    "pd.DataFrame(minmax_df).head()"
   ]
  },
  {
   "cell_type": "markdown",
   "metadata": {},
   "source": [
    "### Fit a Linear Model on Scaled Data"
   ]
  },
  {
   "cell_type": "code",
   "execution_count": 10,
   "metadata": {
    "collapsed": true
   },
   "outputs": [],
   "source": [
    "from sklearn.linear_model import LinearRegression"
   ]
  },
  {
   "cell_type": "code",
   "execution_count": 11,
   "metadata": {
    "collapsed": true
   },
   "outputs": [],
   "source": [
    "lm = LinearRegression()"
   ]
  },
  {
   "cell_type": "code",
   "execution_count": 12,
   "metadata": {
    "collapsed": true
   },
   "outputs": [],
   "source": [
    "y = np.log(y)"
   ]
  },
  {
   "cell_type": "code",
   "execution_count": 13,
   "metadata": {
    "collapsed": true
   },
   "outputs": [],
   "source": [
    "ames_numeric_scaled = std_scaled.fit_transform(ames[[name for name in cols]])"
   ]
  },
  {
   "cell_type": "code",
   "execution_count": 14,
   "metadata": {},
   "outputs": [
    {
     "data": {
      "text/plain": [
       "LinearRegression(copy_X=True, fit_intercept=True, n_jobs=1, normalize=False)"
      ]
     },
     "execution_count": 14,
     "metadata": {},
     "output_type": "execute_result"
    }
   ],
   "source": [
    "lm.fit(ames_numeric_scaled, y)"
   ]
  },
  {
   "cell_type": "code",
   "execution_count": 15,
   "metadata": {
    "collapsed": true
   },
   "outputs": [],
   "source": [
    "from sklearn.metrics import mean_squared_error"
   ]
  },
  {
   "cell_type": "code",
   "execution_count": 16,
   "metadata": {
    "collapsed": true
   },
   "outputs": [],
   "source": [
    "predictions = lm.predict(ames_numeric_scaled)"
   ]
  },
  {
   "cell_type": "code",
   "execution_count": 17,
   "metadata": {
    "collapsed": true
   },
   "outputs": [],
   "source": [
    "mse = mean_squared_error(y, predictions)"
   ]
  },
  {
   "cell_type": "code",
   "execution_count": 18,
   "metadata": {
    "collapsed": true
   },
   "outputs": [],
   "source": [
    "rmse = np.sqrt(mse)\n",
    "score = lm.score(ames_numeric_scaled, predictions)"
   ]
  },
  {
   "cell_type": "code",
   "execution_count": 19,
   "metadata": {},
   "outputs": [
    {
     "name": "stdout",
     "output_type": "stream",
     "text": [
      "R-squared score: 1.0 \n",
      "RMSE: 0.1449\n"
     ]
    }
   ],
   "source": [
    "print('R-squared score: {}'.format(score), '\\nRMSE: {:.4f}'.format(rmse))"
   ]
  },
  {
   "cell_type": "code",
   "execution_count": null,
   "metadata": {
    "collapsed": true
   },
   "outputs": [],
   "source": []
  },
  {
   "cell_type": "code",
   "execution_count": null,
   "metadata": {
    "collapsed": true
   },
   "outputs": [],
   "source": []
  },
  {
   "cell_type": "code",
   "execution_count": null,
   "metadata": {
    "collapsed": true
   },
   "outputs": [],
   "source": []
  },
  {
   "cell_type": "markdown",
   "metadata": {},
   "source": [
    "### Splitting the Data \n",
    "\n",
    "As we have seen, we will tend to overfit the data if we use the entire dataset to determine the model.  To account for this, we will split our datasets into a **training set** to build our model on, and a **test set** to evaluate the performance of the model.  We have a handy sklearn method for doing this, who by default splits the data into 75% for training and 25% for testing."
   ]
  },
  {
   "cell_type": "code",
   "execution_count": 20,
   "metadata": {
    "collapsed": true
   },
   "outputs": [],
   "source": [
    "from sklearn.model_selection import train_test_split"
   ]
  },
  {
   "cell_type": "code",
   "execution_count": 21,
   "metadata": {
    "collapsed": true
   },
   "outputs": [],
   "source": [
    "X_train, X_test, y_train, y_test = train_test_split(ames_numeric_scaled, y)"
   ]
  },
  {
   "cell_type": "code",
   "execution_count": 22,
   "metadata": {},
   "outputs": [
    {
     "data": {
      "text/plain": [
       "LinearRegression(copy_X=True, fit_intercept=True, n_jobs=1, normalize=False)"
      ]
     },
     "execution_count": 22,
     "metadata": {},
     "output_type": "execute_result"
    }
   ],
   "source": [
    "lm.fit(X_train, y_train)"
   ]
  },
  {
   "cell_type": "code",
   "execution_count": 23,
   "metadata": {
    "collapsed": true
   },
   "outputs": [],
   "source": [
    "pred = lm.predict(X_test)"
   ]
  },
  {
   "cell_type": "code",
   "execution_count": 24,
   "metadata": {
    "collapsed": true
   },
   "outputs": [],
   "source": [
    "mse = mean_squared_error(y_test, pred)"
   ]
  },
  {
   "cell_type": "code",
   "execution_count": 25,
   "metadata": {},
   "outputs": [
    {
     "data": {
      "text/plain": [
       "0.143570496395221"
      ]
     },
     "execution_count": 25,
     "metadata": {},
     "output_type": "execute_result"
    }
   ],
   "source": [
    "rmse = np.sqrt(mse)\n",
    "rmse"
   ]
  },
  {
   "cell_type": "markdown",
   "metadata": {},
   "source": [
    "### Regularized Methods Comparison\n",
    "\n"
   ]
  },
  {
   "cell_type": "code",
   "execution_count": 26,
   "metadata": {
    "collapsed": true
   },
   "outputs": [],
   "source": [
    "crime = pd.read_csv('data/crime_data.csv', index_col = 'Unnamed: 0')"
   ]
  },
  {
   "cell_type": "code",
   "execution_count": 27,
   "metadata": {},
   "outputs": [
    {
     "data": {
      "text/html": [
       "<div>\n",
       "<style scoped>\n",
       "    .dataframe tbody tr th:only-of-type {\n",
       "        vertical-align: middle;\n",
       "    }\n",
       "\n",
       "    .dataframe tbody tr th {\n",
       "        vertical-align: top;\n",
       "    }\n",
       "\n",
       "    .dataframe thead th {\n",
       "        text-align: right;\n",
       "    }\n",
       "</style>\n",
       "<table border=\"1\" class=\"dataframe\">\n",
       "  <thead>\n",
       "    <tr style=\"text-align: right;\">\n",
       "      <th></th>\n",
       "      <th>population</th>\n",
       "      <th>householdsize</th>\n",
       "      <th>agePct12t21</th>\n",
       "      <th>agePct12t29</th>\n",
       "      <th>agePct16t24</th>\n",
       "      <th>agePct65up</th>\n",
       "      <th>numbUrban</th>\n",
       "      <th>pctUrban</th>\n",
       "      <th>medIncome</th>\n",
       "      <th>pctWWage</th>\n",
       "      <th>...</th>\n",
       "      <th>MedOwnCostPctInc</th>\n",
       "      <th>MedOwnCostPctIncNoMtg</th>\n",
       "      <th>NumInShelters</th>\n",
       "      <th>NumStreet</th>\n",
       "      <th>PctForeignBorn</th>\n",
       "      <th>PctBornSameState</th>\n",
       "      <th>PctSameHouse85</th>\n",
       "      <th>PctSameCity85</th>\n",
       "      <th>PctSameState85</th>\n",
       "      <th>ViolentCrimesPerPop</th>\n",
       "    </tr>\n",
       "  </thead>\n",
       "  <tbody>\n",
       "    <tr>\n",
       "      <th>0</th>\n",
       "      <td>11980</td>\n",
       "      <td>3.10</td>\n",
       "      <td>12.47</td>\n",
       "      <td>21.44</td>\n",
       "      <td>10.93</td>\n",
       "      <td>11.33</td>\n",
       "      <td>11980</td>\n",
       "      <td>100.0</td>\n",
       "      <td>75122</td>\n",
       "      <td>89.24</td>\n",
       "      <td>...</td>\n",
       "      <td>21.1</td>\n",
       "      <td>14.0</td>\n",
       "      <td>11</td>\n",
       "      <td>0</td>\n",
       "      <td>10.66</td>\n",
       "      <td>53.72</td>\n",
       "      <td>65.29</td>\n",
       "      <td>78.09</td>\n",
       "      <td>89.14</td>\n",
       "      <td>41.02</td>\n",
       "    </tr>\n",
       "    <tr>\n",
       "      <th>1</th>\n",
       "      <td>23123</td>\n",
       "      <td>2.82</td>\n",
       "      <td>11.01</td>\n",
       "      <td>21.30</td>\n",
       "      <td>10.48</td>\n",
       "      <td>17.18</td>\n",
       "      <td>23123</td>\n",
       "      <td>100.0</td>\n",
       "      <td>47917</td>\n",
       "      <td>78.99</td>\n",
       "      <td>...</td>\n",
       "      <td>20.7</td>\n",
       "      <td>12.5</td>\n",
       "      <td>0</td>\n",
       "      <td>0</td>\n",
       "      <td>8.30</td>\n",
       "      <td>77.17</td>\n",
       "      <td>71.27</td>\n",
       "      <td>90.22</td>\n",
       "      <td>96.12</td>\n",
       "      <td>127.56</td>\n",
       "    </tr>\n",
       "    <tr>\n",
       "      <th>2</th>\n",
       "      <td>29344</td>\n",
       "      <td>2.43</td>\n",
       "      <td>11.36</td>\n",
       "      <td>25.88</td>\n",
       "      <td>11.01</td>\n",
       "      <td>10.28</td>\n",
       "      <td>29344</td>\n",
       "      <td>100.0</td>\n",
       "      <td>35669</td>\n",
       "      <td>82.00</td>\n",
       "      <td>...</td>\n",
       "      <td>21.7</td>\n",
       "      <td>11.6</td>\n",
       "      <td>16</td>\n",
       "      <td>0</td>\n",
       "      <td>5.00</td>\n",
       "      <td>44.77</td>\n",
       "      <td>36.60</td>\n",
       "      <td>61.26</td>\n",
       "      <td>82.85</td>\n",
       "      <td>218.59</td>\n",
       "    </tr>\n",
       "    <tr>\n",
       "      <th>3</th>\n",
       "      <td>16656</td>\n",
       "      <td>2.40</td>\n",
       "      <td>12.55</td>\n",
       "      <td>25.20</td>\n",
       "      <td>12.19</td>\n",
       "      <td>17.57</td>\n",
       "      <td>0</td>\n",
       "      <td>0.0</td>\n",
       "      <td>20580</td>\n",
       "      <td>68.15</td>\n",
       "      <td>...</td>\n",
       "      <td>20.6</td>\n",
       "      <td>14.5</td>\n",
       "      <td>0</td>\n",
       "      <td>0</td>\n",
       "      <td>2.04</td>\n",
       "      <td>88.71</td>\n",
       "      <td>56.70</td>\n",
       "      <td>90.17</td>\n",
       "      <td>96.24</td>\n",
       "      <td>306.64</td>\n",
       "    </tr>\n",
       "    <tr>\n",
       "      <th>5</th>\n",
       "      <td>140494</td>\n",
       "      <td>2.45</td>\n",
       "      <td>18.09</td>\n",
       "      <td>32.89</td>\n",
       "      <td>20.04</td>\n",
       "      <td>13.26</td>\n",
       "      <td>140494</td>\n",
       "      <td>100.0</td>\n",
       "      <td>21577</td>\n",
       "      <td>75.78</td>\n",
       "      <td>...</td>\n",
       "      <td>17.3</td>\n",
       "      <td>11.7</td>\n",
       "      <td>327</td>\n",
       "      <td>4</td>\n",
       "      <td>1.49</td>\n",
       "      <td>64.35</td>\n",
       "      <td>42.29</td>\n",
       "      <td>70.61</td>\n",
       "      <td>85.66</td>\n",
       "      <td>442.95</td>\n",
       "    </tr>\n",
       "  </tbody>\n",
       "</table>\n",
       "<p>5 rows × 89 columns</p>\n",
       "</div>"
      ],
      "text/plain": [
       "   population  householdsize  agePct12t21  agePct12t29  agePct16t24  \\\n",
       "0       11980           3.10        12.47        21.44        10.93   \n",
       "1       23123           2.82        11.01        21.30        10.48   \n",
       "2       29344           2.43        11.36        25.88        11.01   \n",
       "3       16656           2.40        12.55        25.20        12.19   \n",
       "5      140494           2.45        18.09        32.89        20.04   \n",
       "\n",
       "   agePct65up  numbUrban  pctUrban  medIncome  pctWWage         ...           \\\n",
       "0       11.33      11980     100.0      75122     89.24         ...            \n",
       "1       17.18      23123     100.0      47917     78.99         ...            \n",
       "2       10.28      29344     100.0      35669     82.00         ...            \n",
       "3       17.57          0       0.0      20580     68.15         ...            \n",
       "5       13.26     140494     100.0      21577     75.78         ...            \n",
       "\n",
       "   MedOwnCostPctInc  MedOwnCostPctIncNoMtg  NumInShelters  NumStreet  \\\n",
       "0              21.1                   14.0             11          0   \n",
       "1              20.7                   12.5              0          0   \n",
       "2              21.7                   11.6             16          0   \n",
       "3              20.6                   14.5              0          0   \n",
       "5              17.3                   11.7            327          4   \n",
       "\n",
       "   PctForeignBorn  PctBornSameState  PctSameHouse85  PctSameCity85  \\\n",
       "0           10.66             53.72           65.29          78.09   \n",
       "1            8.30             77.17           71.27          90.22   \n",
       "2            5.00             44.77           36.60          61.26   \n",
       "3            2.04             88.71           56.70          90.17   \n",
       "5            1.49             64.35           42.29          70.61   \n",
       "\n",
       "   PctSameState85  ViolentCrimesPerPop  \n",
       "0           89.14                41.02  \n",
       "1           96.12               127.56  \n",
       "2           82.85               218.59  \n",
       "3           96.24               306.64  \n",
       "5           85.66               442.95  \n",
       "\n",
       "[5 rows x 89 columns]"
      ]
     },
     "execution_count": 27,
     "metadata": {},
     "output_type": "execute_result"
    }
   ],
   "source": [
    "crime.head()"
   ]
  },
  {
   "cell_type": "code",
   "execution_count": 28,
   "metadata": {},
   "outputs": [
    {
     "data": {
      "text/plain": [
       "Index(['population', 'householdsize', 'agePct12t21', 'agePct12t29',\n",
       "       'agePct16t24', 'agePct65up', 'numbUrban', 'pctUrban', 'medIncome',\n",
       "       'pctWWage', 'pctWFarmSelf', 'pctWInvInc', 'pctWSocSec', 'pctWPubAsst',\n",
       "       'pctWRetire', 'medFamInc', 'perCapInc', 'NumUnderPov', 'PctPopUnderPov',\n",
       "       'PctLess9thGrade', 'PctNotHSGrad', 'PctBSorMore', 'PctUnemployed',\n",
       "       'PctEmploy', 'PctEmplManu', 'PctEmplProfServ', 'PctOccupManu',\n",
       "       'PctOccupMgmtProf', 'MalePctDivorce', 'MalePctNevMarr', 'FemalePctDiv',\n",
       "       'TotalPctDiv', 'PersPerFam', 'PctFam2Par', 'PctKids2Par',\n",
       "       'PctYoungKids2Par', 'PctTeen2Par', 'PctWorkMomYoungKids', 'PctWorkMom',\n",
       "       'NumKidsBornNeverMar', 'PctKidsBornNeverMar', 'NumImmig',\n",
       "       'PctImmigRecent', 'PctImmigRec5', 'PctImmigRec8', 'PctImmigRec10',\n",
       "       'PctRecentImmig', 'PctRecImmig5', 'PctRecImmig8', 'PctRecImmig10',\n",
       "       'PctSpeakEnglOnly', 'PctNotSpeakEnglWell', 'PctLargHouseFam',\n",
       "       'PctLargHouseOccup', 'PersPerOccupHous', 'PersPerOwnOccHous',\n",
       "       'PersPerRentOccHous', 'PctPersOwnOccup', 'PctPersDenseHous',\n",
       "       'PctHousLess3BR', 'MedNumBR', 'HousVacant', 'PctHousOccup',\n",
       "       'PctHousOwnOcc', 'PctVacantBoarded', 'PctVacMore6Mos', 'MedYrHousBuilt',\n",
       "       'PctHousNoPhone', 'PctWOFullPlumb', 'OwnOccLowQuart', 'OwnOccMedVal',\n",
       "       'OwnOccHiQuart', 'OwnOccQrange', 'RentLowQ', 'RentMedian', 'RentHighQ',\n",
       "       'RentQrange', 'MedRent', 'MedRentPctHousInc', 'MedOwnCostPctInc',\n",
       "       'MedOwnCostPctIncNoMtg', 'NumInShelters', 'NumStreet', 'PctForeignBorn',\n",
       "       'PctBornSameState', 'PctSameHouse85', 'PctSameCity85', 'PctSameState85',\n",
       "       'ViolentCrimesPerPop'],\n",
       "      dtype='object')"
      ]
     },
     "execution_count": 28,
     "metadata": {},
     "output_type": "execute_result"
    }
   ],
   "source": [
    "from sklearn.model_selection import train_test_split\n",
    "crime.columns"
   ]
  },
  {
   "cell_type": "code",
   "execution_count": 29,
   "metadata": {
    "collapsed": true
   },
   "outputs": [],
   "source": [
    "y = crime['ViolentCrimesPerPop']"
   ]
  },
  {
   "cell_type": "code",
   "execution_count": 30,
   "metadata": {
    "collapsed": true
   },
   "outputs": [],
   "source": [
    "X = crime.drop('ViolentCrimesPerPop', axis = 1)"
   ]
  },
  {
   "cell_type": "code",
   "execution_count": 31,
   "metadata": {
    "collapsed": true
   },
   "outputs": [],
   "source": [
    "X_train, X_test, y_train, y_test = train_test_split(X, y)"
   ]
  },
  {
   "cell_type": "markdown",
   "metadata": {},
   "source": [
    "# It's super important to split into test/train splits before you scale, otherwise you'll be scaling incorrectly.  Your largest values might end up in one of the buckets, so you shouldn't be scaling based on those large values in the bucket that doesn't contain those large values."
   ]
  },
  {
   "cell_type": "code",
   "execution_count": 32,
   "metadata": {
    "collapsed": true
   },
   "outputs": [],
   "source": [
    "scaler = MinMaxScaler()\n",
    "X_train_scaled = scaler.fit_transform(X_train)\n",
    "X_test_scaled = scaler.fit_transform(X_test)"
   ]
  },
  {
   "cell_type": "code",
   "execution_count": 33,
   "metadata": {},
   "outputs": [
    {
     "name": "stdout",
     "output_type": "stream",
     "text": [
      "The r2 value is : -15925486503381758688362496.0000 \n",
      "The RMSE value is 2433472512706479.5000\n"
     ]
    }
   ],
   "source": [
    "lm = LinearRegression()\n",
    "lm.fit(X_train_scaled, y_train)\n",
    "predictions = lm.predict(X_test_scaled)\n",
    "rmse = np.sqrt(mean_squared_error(y_test, predictions))\n",
    "score = lm.score(X_test_scaled, y_test)\n",
    "print('The r2 value is : {:.4f}'.format(score), '\\nThe RMSE value is {:.4f}'.format(rmse))"
   ]
  },
  {
   "cell_type": "markdown",
   "metadata": {},
   "source": [
    "### Ridge Regression\n",
    "\n",
    "$$RSS(w, b) = \\sum_{i = 1} ^ N (y_i - (wx_i + b))^2 + \\alpha \\sum_{j = 1}^p w_j^2 $$\n",
    "\n",
    "Many feature coefficients will be determined with small values.  Larger $\\alpha$ means larger penalty, zero is base LinearRegression, and the default for sklearn's implementation is 1.0."
   ]
  },
  {
   "cell_type": "markdown",
   "metadata": {},
   "source": [
    "##  What Ridge does is penalize based on the size of residuals.  It sounds like you apply a constant penalty where the constant is supplied to the \"alpha\" argument.\n",
    "\n",
    "## Alpha is an example of a \"hyperparameter\"."
   ]
  },
  {
   "cell_type": "code",
   "execution_count": 34,
   "metadata": {
    "collapsed": true
   },
   "outputs": [],
   "source": [
    "from sklearn.linear_model import Ridge"
   ]
  },
  {
   "cell_type": "code",
   "execution_count": 35,
   "metadata": {
    "collapsed": true
   },
   "outputs": [],
   "source": [
    "ridge_reg = Ridge(alpha = 1)"
   ]
  },
  {
   "cell_type": "code",
   "execution_count": 36,
   "metadata": {},
   "outputs": [
    {
     "data": {
      "text/plain": [
       "Ridge(alpha=1, copy_X=True, fit_intercept=True, max_iter=None,\n",
       "   normalize=False, random_state=None, solver='auto', tol=0.001)"
      ]
     },
     "execution_count": 36,
     "metadata": {},
     "output_type": "execute_result"
    }
   ],
   "source": [
    "ridge_reg.fit(X_train_scaled, y_train)"
   ]
  },
  {
   "cell_type": "code",
   "execution_count": 37,
   "metadata": {
    "collapsed": true
   },
   "outputs": [],
   "source": [
    "rpred = ridge_reg.predict(X_test_scaled)"
   ]
  },
  {
   "cell_type": "code",
   "execution_count": 38,
   "metadata": {},
   "outputs": [
    {
     "name": "stdout",
     "output_type": "stream",
     "text": [
      "The r2 value is : 0.5708 \n",
      "The RMSE value is 399.4744\n"
     ]
    }
   ],
   "source": [
    "rmse = np.sqrt(mean_squared_error(y_test, rpred))\n",
    "score = ridge_reg.score(X_test_scaled, y_test)\n",
    "print('The r2 value is : {:.4f}'.format(score), '\\nThe RMSE value is {:.4f}'.format(rmse))"
   ]
  },
  {
   "cell_type": "code",
   "execution_count": 39,
   "metadata": {},
   "outputs": [
    {
     "data": {
      "text/plain": [
       "88"
      ]
     },
     "execution_count": 39,
     "metadata": {},
     "output_type": "execute_result"
    }
   ],
   "source": [
    "np.sum(ridge_reg.coef_ != 0)"
   ]
  },
  {
   "cell_type": "code",
   "execution_count": 40,
   "metadata": {},
   "outputs": [
    {
     "data": {
      "text/plain": [
       "(1994, 89)"
      ]
     },
     "execution_count": 40,
     "metadata": {},
     "output_type": "execute_result"
    }
   ],
   "source": [
    "crime.shape"
   ]
  },
  {
   "cell_type": "code",
   "execution_count": 41,
   "metadata": {},
   "outputs": [
    {
     "name": "stdout",
     "output_type": "stream",
     "text": [
      "The r2 value is : 0.5851 \n",
      "The RMSE value is 392.8006\n"
     ]
    }
   ],
   "source": [
    "ridge_reg = Ridge(alpha = 20)\n",
    "ridge_reg.fit(X_train_scaled, y_train)\n",
    "rpred = ridge_reg.predict(X_test_scaled)\n",
    "rmse = np.sqrt(mean_squared_error(y_test, rpred))\n",
    "score = ridge_reg.score(X_test_scaled, y_test)\n",
    "print('The r2 value is : {:.4f}'.format(score), '\\nThe RMSE value is {:.4f}'.format(rmse))"
   ]
  },
  {
   "cell_type": "code",
   "execution_count": null,
   "metadata": {
    "collapsed": true
   },
   "outputs": [],
   "source": []
  },
  {
   "cell_type": "code",
   "execution_count": null,
   "metadata": {
    "collapsed": true
   },
   "outputs": [],
   "source": []
  },
  {
   "cell_type": "code",
   "execution_count": null,
   "metadata": {
    "collapsed": true
   },
   "outputs": [],
   "source": []
  },
  {
   "cell_type": "code",
   "execution_count": null,
   "metadata": {
    "collapsed": true
   },
   "outputs": [],
   "source": []
  },
  {
   "cell_type": "code",
   "execution_count": null,
   "metadata": {
    "collapsed": true
   },
   "outputs": [],
   "source": []
  },
  {
   "cell_type": "code",
   "execution_count": null,
   "metadata": {
    "collapsed": true
   },
   "outputs": [],
   "source": []
  },
  {
   "cell_type": "markdown",
   "metadata": {},
   "source": [
    "### Lasso Regression\n",
    "\n",
    "$$RSS(w, b) = \\sum_{i = 1} ^ N (y_i - (wx_i + b))^2 + \\alpha \\sum_{j = 1}^p |w_j| $$\n",
    "\n",
    "Now, we end up in effect setting variables with low influence to a coefficient of zero.  Compared to Ridge, we would use Lasso if there are only a few variables with substantial effects."
   ]
  },
  {
   "cell_type": "markdown",
   "metadata": {},
   "source": [
    "#  In Ridge, we're penaliIng by multiplying alpha times the square of the residuals.  Here, we're multiplying alpha by the abs. value of the residuals.  This will result in coefficients being zero (thereby completely getting rid of features). "
   ]
  },
  {
   "cell_type": "code",

   "execution_count": 54,
   "metadata": {
    "collapsed": true
   },

   "outputs": [],
   "source": [
    "from sklearn.linear_model import Lasso"
   ]
  },
  {
   "cell_type": "code",

   "execution_count": 55,
   "metadata": {
    "collapsed": true
   },

   "outputs": [],
   "source": [
    "lasso_reg = Lasso(alpha = 2.0)"
   ]
  },
  {
   "cell_type": "code",
   "execution_count": 44,
   "metadata": {},
   "outputs": [
    {
     "data": {
      "text/plain": [
       "Lasso(alpha=2.0, copy_X=True, fit_intercept=True, max_iter=1000,\n",
       "   normalize=False, positive=False, precompute=False, random_state=None,\n",
       "   selection='cyclic', tol=0.0001, warm_start=False)"
      ]
     },
     "execution_count": 44,
     "metadata": {},
     "output_type": "execute_result"
    }
   ],
   "source": [
    "lasso_reg.fit(X_train_scaled, y_train)"
   ]
  },
  {
   "cell_type": "code",

   "execution_count": 57,
   "metadata": {
    "collapsed": true
   },

   "outputs": [],
   "source": [
    "lpred = lasso_reg.predict(X_test_scaled)"
   ]
  },
  {
   "cell_type": "code",
   "execution_count": 46,
   "metadata": {},
   "outputs": [
    {
     "name": "stdout",
     "output_type": "stream",
     "text": [
      "The r2 value is : 0.5851 \n",
      "The RMSE value is 399.9063\n"
     ]
    }
   ],
   "source": [
    "rmse = np.sqrt(mean_squared_error(y_test, lpred))\n",
    "score = ridge_reg.score(X_test_scaled, y_test)\n",
    "print('The r2 value is : {:.4f}'.format(score), '\\nThe RMSE value is {:.4f}'.format(rmse))"
   ]
  },
  {
   "cell_type": "code",
   "execution_count": 47,
   "metadata": {},
   "outputs": [
    {
     "data": {
      "text/plain": [
       "20"
      ]
     },
     "execution_count": 47,
     "metadata": {},
     "output_type": "execute_result"
    }
   ],
   "source": [
    "np.sum(lasso_reg.coef_ != 0)"
   ]
  },
  {
   "cell_type": "code",
   "execution_count": 48,
   "metadata": {},
   "outputs": [
    {
     "name": "stdout",
     "output_type": "stream",
     "text": [
      "\tPctKidsBornNeverMar, 1583.386\n",
      "\tPctKids2Par, -1080.519\n",
      "\tNumInShelters, 441.093\n",
      "\tPctVacantBoarded, 387.852\n",
      "\tpctWInvInc, -322.719\n",
      "\tagePct12t29, -229.677\n",
      "\tPctForeignBorn, 159.061\n",
      "\tMedOwnCostPctIncNoMtg, -147.543\n",
      "\tMalePctDivorce, 144.858\n",
      "\tPctWorkMom, -132.139\n",
      "\tPctEmplManu, -122.492\n",
      "\tpctUrban, 117.935\n",
      "\tMedYrHousBuilt, 100.712\n",
      "\tRentQrange, 85.292\n",
      "\tpctWPubAsst, 80.312\n",
      "\tOwnOccHiQuart, 52.647\n",
      "\tPctLargHouseFam, 36.468\n",
      "\tPctBornSameState, -31.863\n",
      "\tPctHousOccup, -19.695\n",
      "\tMedRent, 4.425\n"
     ]
    }
   ],
   "source": [
    "for e in sorted (list(zip(list(X), lasso_reg.coef_)),\n",
    "                key = lambda e: -abs(e[1])):\n",
    "    if e[1] != 0:\n",
    "        print('\\t{}, {:.3f}'.format(e[0], e[1]))"
   ]
  },
  {
   "cell_type": "markdown",
   "metadata": {},
   "source": [
    "# The above celll shows which features have the largest effect on the target variable.  Here, kids born out of wedlock is clearly the strongest predictor. "
   ]
  },
  {
   "cell_type": "markdown",
   "metadata": {},
   "source": [
    "### Elastic Net\n",
    "\n",
    "$$RSS(w, b) = \\sum_{i = 1} ^ N (y_i - (wx_i + b))^2 + r\\alpha\\sum_{i = 1}^n |w_j| + \\frac{1-r}{2} \\alpha \\sum_{j = 1}^p w_j^2 $$\n",
    "\n"
   ]
  },
  {
   "cell_type": "code",

   "execution_count": 61,
   "metadata": {
    "collapsed": true
   },

   "outputs": [],
   "source": [
    "from sklearn.linear_model import ElasticNet"
   ]
  },
  {
   "cell_type": "code",
   "execution_count": 50,
   "metadata": {},
   "outputs": [
    {
     "data": {
      "text/plain": [
       "397.3955047681056"
      ]
     },
     "execution_count": 50,
     "metadata": {},
     "output_type": "execute_result"
    }
   ],
   "source": [
    "elastic_reg = ElasticNet(alpha = .05, l1_ratio=0.4)\n",
    "elastic_reg.fit(X_train_scaled, y_train)\n",
    "epred = elastic_reg.predict(X_test_scaled)\n",
    "rmse = np.sqrt(mean_squared_error(y_test, epred))\n",
    "rmse"
   ]
  },
  {
   "cell_type": "code",

   "execution_count": 63,
   "metadata": {
    "collapsed": true
   },

   "outputs": [],
   "source": [
    "ridge_score = ridge_reg.score(X_test_scaled, y_test)\n",
    "lasso_score = lasso_reg.score(X_test_scaled, y_test)\n",
    "elastic_score = elastic_reg.score(X_test_scaled, y_test)"
   ]
  },
  {
   "cell_type": "code",
   "execution_count": 52,
   "metadata": {},
   "outputs": [
    {
     "name": "stdout",
     "output_type": "stream",
     "text": [
      "Ridge: 0.5851 \n",
      "Lasso: 0.5699 \n",
      "Elastic Net: 0.5753\n"
     ]
    }
   ],
   "source": [
    "print(\"Ridge: {:.4f}\".format(ridge_score), \"\\nLasso: {:.4f}\".format(lasso_score),\n",
    "      \"\\nElastic Net: {:.4f}\".format(elastic_score))"
   ]
  },
  {
   "cell_type": "code",
   "execution_count": 53,
   "metadata": {},
   "outputs": [
    {
     "data": {
      "application/javascript": [
       "/* Put everything inside the global mpl namespace */\n",
       "window.mpl = {};\n",
       "\n",
       "\n",
       "mpl.get_websocket_type = function() {\n",
       "    if (typeof(WebSocket) !== 'undefined') {\n",
       "        return WebSocket;\n",
       "    } else if (typeof(MozWebSocket) !== 'undefined') {\n",
       "        return MozWebSocket;\n",
       "    } else {\n",
       "        alert('Your browser does not have WebSocket support.' +\n",
       "              'Please try Chrome, Safari or Firefox ≥ 6. ' +\n",
       "              'Firefox 4 and 5 are also supported but you ' +\n",
       "              'have to enable WebSockets in about:config.');\n",
       "    };\n",
       "}\n",
       "\n",
       "mpl.figure = function(figure_id, websocket, ondownload, parent_element) {\n",
       "    this.id = figure_id;\n",
       "\n",
       "    this.ws = websocket;\n",
       "\n",
       "    this.supports_binary = (this.ws.binaryType != undefined);\n",
       "\n",
       "    if (!this.supports_binary) {\n",
       "        var warnings = document.getElementById(\"mpl-warnings\");\n",
       "        if (warnings) {\n",
       "            warnings.style.display = 'block';\n",
       "            warnings.textContent = (\n",
       "                \"This browser does not support binary websocket messages. \" +\n",
       "                    \"Performance may be slow.\");\n",
       "        }\n",
       "    }\n",
       "\n",
       "    this.imageObj = new Image();\n",
       "\n",
       "    this.context = undefined;\n",
       "    this.message = undefined;\n",
       "    this.canvas = undefined;\n",
       "    this.rubberband_canvas = undefined;\n",
       "    this.rubberband_context = undefined;\n",
       "    this.format_dropdown = undefined;\n",
       "\n",
       "    this.image_mode = 'full';\n",
       "\n",
       "    this.root = $('<div/>');\n",
       "    this._root_extra_style(this.root)\n",
       "    this.root.attr('style', 'display: inline-block');\n",
       "\n",
       "    $(parent_element).append(this.root);\n",
       "\n",
       "    this._init_header(this);\n",
       "    this._init_canvas(this);\n",
       "    this._init_toolbar(this);\n",
       "\n",
       "    var fig = this;\n",
       "\n",
       "    this.waiting = false;\n",
       "\n",
       "    this.ws.onopen =  function () {\n",
       "            fig.send_message(\"supports_binary\", {value: fig.supports_binary});\n",
       "            fig.send_message(\"send_image_mode\", {});\n",
       "            if (mpl.ratio != 1) {\n",
       "                fig.send_message(\"set_dpi_ratio\", {'dpi_ratio': mpl.ratio});\n",
       "            }\n",
       "            fig.send_message(\"refresh\", {});\n",
       "        }\n",
       "\n",
       "    this.imageObj.onload = function() {\n",
       "            if (fig.image_mode == 'full') {\n",
       "                // Full images could contain transparency (where diff images\n",
       "                // almost always do), so we need to clear the canvas so that\n",
       "                // there is no ghosting.\n",
       "                fig.context.clearRect(0, 0, fig.canvas.width, fig.canvas.height);\n",
       "            }\n",
       "            fig.context.drawImage(fig.imageObj, 0, 0);\n",
       "        };\n",
       "\n",
       "    this.imageObj.onunload = function() {\n",
       "        fig.ws.close();\n",
       "    }\n",
       "\n",
       "    this.ws.onmessage = this._make_on_message_function(this);\n",
       "\n",
       "    this.ondownload = ondownload;\n",
       "}\n",
       "\n",
       "mpl.figure.prototype._init_header = function() {\n",
       "    var titlebar = $(\n",
       "        '<div class=\"ui-dialog-titlebar ui-widget-header ui-corner-all ' +\n",
       "        'ui-helper-clearfix\"/>');\n",
       "    var titletext = $(\n",
       "        '<div class=\"ui-dialog-title\" style=\"width: 100%; ' +\n",
       "        'text-align: center; padding: 3px;\"/>');\n",
       "    titlebar.append(titletext)\n",
       "    this.root.append(titlebar);\n",
       "    this.header = titletext[0];\n",
       "}\n",
       "\n",
       "\n",
       "\n",
       "mpl.figure.prototype._canvas_extra_style = function(canvas_div) {\n",
       "\n",
       "}\n",
       "\n",
       "\n",
       "mpl.figure.prototype._root_extra_style = function(canvas_div) {\n",
       "\n",
       "}\n",
       "\n",
       "mpl.figure.prototype._init_canvas = function() {\n",
       "    var fig = this;\n",
       "\n",
       "    var canvas_div = $('<div/>');\n",
       "\n",
       "    canvas_div.attr('style', 'position: relative; clear: both; outline: 0');\n",
       "\n",
       "    function canvas_keyboard_event(event) {\n",
       "        return fig.key_event(event, event['data']);\n",
       "    }\n",
       "\n",
       "    canvas_div.keydown('key_press', canvas_keyboard_event);\n",
       "    canvas_div.keyup('key_release', canvas_keyboard_event);\n",
       "    this.canvas_div = canvas_div\n",
       "    this._canvas_extra_style(canvas_div)\n",
       "    this.root.append(canvas_div);\n",
       "\n",
       "    var canvas = $('<canvas/>');\n",
       "    canvas.addClass('mpl-canvas');\n",
       "    canvas.attr('style', \"left: 0; top: 0; z-index: 0; outline: 0\")\n",
       "\n",
       "    this.canvas = canvas[0];\n",
       "    this.context = canvas[0].getContext(\"2d\");\n",
       "\n",
       "    var backingStore = this.context.backingStorePixelRatio ||\n",
       "\tthis.context.webkitBackingStorePixelRatio ||\n",
       "\tthis.context.mozBackingStorePixelRatio ||\n",
       "\tthis.context.msBackingStorePixelRatio ||\n",
       "\tthis.context.oBackingStorePixelRatio ||\n",
       "\tthis.context.backingStorePixelRatio || 1;\n",
       "\n",
       "    mpl.ratio = (window.devicePixelRatio || 1) / backingStore;\n",
       "\n",
       "    var rubberband = $('<canvas/>');\n",
       "    rubberband.attr('style', \"position: absolute; left: 0; top: 0; z-index: 1;\")\n",
       "\n",
       "    var pass_mouse_events = true;\n",
       "\n",
       "    canvas_div.resizable({\n",
       "        start: function(event, ui) {\n",
       "            pass_mouse_events = false;\n",
       "        },\n",
       "        resize: function(event, ui) {\n",
       "            fig.request_resize(ui.size.width, ui.size.height);\n",
       "        },\n",
       "        stop: function(event, ui) {\n",
       "            pass_mouse_events = true;\n",
       "            fig.request_resize(ui.size.width, ui.size.height);\n",
       "        },\n",
       "    });\n",
       "\n",
       "    function mouse_event_fn(event) {\n",
       "        if (pass_mouse_events)\n",
       "            return fig.mouse_event(event, event['data']);\n",
       "    }\n",
       "\n",
       "    rubberband.mousedown('button_press', mouse_event_fn);\n",
       "    rubberband.mouseup('button_release', mouse_event_fn);\n",
       "    // Throttle sequential mouse events to 1 every 20ms.\n",
       "    rubberband.mousemove('motion_notify', mouse_event_fn);\n",
       "\n",
       "    rubberband.mouseenter('figure_enter', mouse_event_fn);\n",
       "    rubberband.mouseleave('figure_leave', mouse_event_fn);\n",
       "\n",
       "    canvas_div.on(\"wheel\", function (event) {\n",
       "        event = event.originalEvent;\n",
       "        event['data'] = 'scroll'\n",
       "        if (event.deltaY < 0) {\n",
       "            event.step = 1;\n",
       "        } else {\n",
       "            event.step = -1;\n",
       "        }\n",
       "        mouse_event_fn(event);\n",
       "    });\n",
       "\n",
       "    canvas_div.append(canvas);\n",
       "    canvas_div.append(rubberband);\n",
       "\n",
       "    this.rubberband = rubberband;\n",
       "    this.rubberband_canvas = rubberband[0];\n",
       "    this.rubberband_context = rubberband[0].getContext(\"2d\");\n",
       "    this.rubberband_context.strokeStyle = \"#000000\";\n",
       "\n",
       "    this._resize_canvas = function(width, height) {\n",
       "        // Keep the size of the canvas, canvas container, and rubber band\n",
       "        // canvas in synch.\n",
       "        canvas_div.css('width', width)\n",
       "        canvas_div.css('height', height)\n",
       "\n",
       "        canvas.attr('width', width * mpl.ratio);\n",
       "        canvas.attr('height', height * mpl.ratio);\n",
       "        canvas.attr('style', 'width: ' + width + 'px; height: ' + height + 'px;');\n",
       "\n",
       "        rubberband.attr('width', width);\n",
       "        rubberband.attr('height', height);\n",
       "    }\n",
       "\n",
       "    // Set the figure to an initial 600x600px, this will subsequently be updated\n",
       "    // upon first draw.\n",
       "    this._resize_canvas(600, 600);\n",
       "\n",
       "    // Disable right mouse context menu.\n",
       "    $(this.rubberband_canvas).bind(\"contextmenu\",function(e){\n",
       "        return false;\n",
       "    });\n",
       "\n",
       "    function set_focus () {\n",
       "        canvas.focus();\n",
       "        canvas_div.focus();\n",
       "    }\n",
       "\n",
       "    window.setTimeout(set_focus, 100);\n",
       "}\n",
       "\n",
       "mpl.figure.prototype._init_toolbar = function() {\n",
       "    var fig = this;\n",
       "\n",
       "    var nav_element = $('<div/>')\n",
       "    nav_element.attr('style', 'width: 100%');\n",
       "    this.root.append(nav_element);\n",
       "\n",
       "    // Define a callback function for later on.\n",
       "    function toolbar_event(event) {\n",
       "        return fig.toolbar_button_onclick(event['data']);\n",
       "    }\n",
       "    function toolbar_mouse_event(event) {\n",
       "        return fig.toolbar_button_onmouseover(event['data']);\n",
       "    }\n",
       "\n",
       "    for(var toolbar_ind in mpl.toolbar_items) {\n",
       "        var name = mpl.toolbar_items[toolbar_ind][0];\n",
       "        var tooltip = mpl.toolbar_items[toolbar_ind][1];\n",
       "        var image = mpl.toolbar_items[toolbar_ind][2];\n",
       "        var method_name = mpl.toolbar_items[toolbar_ind][3];\n",
       "\n",
       "        if (!name) {\n",
       "            // put a spacer in here.\n",
       "            continue;\n",
       "        }\n",
       "        var button = $('<button/>');\n",
       "        button.addClass('ui-button ui-widget ui-state-default ui-corner-all ' +\n",
       "                        'ui-button-icon-only');\n",
       "        button.attr('role', 'button');\n",
       "        button.attr('aria-disabled', 'false');\n",
       "        button.click(method_name, toolbar_event);\n",
       "        button.mouseover(tooltip, toolbar_mouse_event);\n",
       "\n",
       "        var icon_img = $('<span/>');\n",
       "        icon_img.addClass('ui-button-icon-primary ui-icon');\n",
       "        icon_img.addClass(image);\n",
       "        icon_img.addClass('ui-corner-all');\n",
       "\n",
       "        var tooltip_span = $('<span/>');\n",
       "        tooltip_span.addClass('ui-button-text');\n",
       "        tooltip_span.html(tooltip);\n",
       "\n",
       "        button.append(icon_img);\n",
       "        button.append(tooltip_span);\n",
       "\n",
       "        nav_element.append(button);\n",
       "    }\n",
       "\n",
       "    var fmt_picker_span = $('<span/>');\n",
       "\n",
       "    var fmt_picker = $('<select/>');\n",
       "    fmt_picker.addClass('mpl-toolbar-option ui-widget ui-widget-content');\n",
       "    fmt_picker_span.append(fmt_picker);\n",
       "    nav_element.append(fmt_picker_span);\n",
       "    this.format_dropdown = fmt_picker[0];\n",
       "\n",
       "    for (var ind in mpl.extensions) {\n",
       "        var fmt = mpl.extensions[ind];\n",
       "        var option = $(\n",
       "            '<option/>', {selected: fmt === mpl.default_extension}).html(fmt);\n",
       "        fmt_picker.append(option)\n",
       "    }\n",
       "\n",
       "    // Add hover states to the ui-buttons\n",
       "    $( \".ui-button\" ).hover(\n",
       "        function() { $(this).addClass(\"ui-state-hover\");},\n",
       "        function() { $(this).removeClass(\"ui-state-hover\");}\n",
       "    );\n",
       "\n",
       "    var status_bar = $('<span class=\"mpl-message\"/>');\n",
       "    nav_element.append(status_bar);\n",
       "    this.message = status_bar[0];\n",
       "}\n",
       "\n",
       "mpl.figure.prototype.request_resize = function(x_pixels, y_pixels) {\n",
       "    // Request matplotlib to resize the figure. Matplotlib will then trigger a resize in the client,\n",
       "    // which will in turn request a refresh of the image.\n",
       "    this.send_message('resize', {'width': x_pixels, 'height': y_pixels});\n",
       "}\n",
       "\n",
       "mpl.figure.prototype.send_message = function(type, properties) {\n",
       "    properties['type'] = type;\n",
       "    properties['figure_id'] = this.id;\n",
       "    this.ws.send(JSON.stringify(properties));\n",
       "}\n",
       "\n",
       "mpl.figure.prototype.send_draw_message = function() {\n",
       "    if (!this.waiting) {\n",
       "        this.waiting = true;\n",
       "        this.ws.send(JSON.stringify({type: \"draw\", figure_id: this.id}));\n",
       "    }\n",
       "}\n",
       "\n",
       "\n",
       "mpl.figure.prototype.handle_save = function(fig, msg) {\n",
       "    var format_dropdown = fig.format_dropdown;\n",
       "    var format = format_dropdown.options[format_dropdown.selectedIndex].value;\n",
       "    fig.ondownload(fig, format);\n",
       "}\n",
       "\n",
       "\n",
       "mpl.figure.prototype.handle_resize = function(fig, msg) {\n",
       "    var size = msg['size'];\n",
       "    if (size[0] != fig.canvas.width || size[1] != fig.canvas.height) {\n",
       "        fig._resize_canvas(size[0], size[1]);\n",
       "        fig.send_message(\"refresh\", {});\n",
       "    };\n",
       "}\n",
       "\n",
       "mpl.figure.prototype.handle_rubberband = function(fig, msg) {\n",
       "    var x0 = msg['x0'] / mpl.ratio;\n",
       "    var y0 = (fig.canvas.height - msg['y0']) / mpl.ratio;\n",
       "    var x1 = msg['x1'] / mpl.ratio;\n",
       "    var y1 = (fig.canvas.height - msg['y1']) / mpl.ratio;\n",
       "    x0 = Math.floor(x0) + 0.5;\n",
       "    y0 = Math.floor(y0) + 0.5;\n",
       "    x1 = Math.floor(x1) + 0.5;\n",
       "    y1 = Math.floor(y1) + 0.5;\n",
       "    var min_x = Math.min(x0, x1);\n",
       "    var min_y = Math.min(y0, y1);\n",
       "    var width = Math.abs(x1 - x0);\n",
       "    var height = Math.abs(y1 - y0);\n",
       "\n",
       "    fig.rubberband_context.clearRect(\n",
       "        0, 0, fig.canvas.width, fig.canvas.height);\n",
       "\n",
       "    fig.rubberband_context.strokeRect(min_x, min_y, width, height);\n",
       "}\n",
       "\n",
       "mpl.figure.prototype.handle_figure_label = function(fig, msg) {\n",
       "    // Updates the figure title.\n",
       "    fig.header.textContent = msg['label'];\n",
       "}\n",
       "\n",
       "mpl.figure.prototype.handle_cursor = function(fig, msg) {\n",
       "    var cursor = msg['cursor'];\n",
       "    switch(cursor)\n",
       "    {\n",
       "    case 0:\n",
       "        cursor = 'pointer';\n",
       "        break;\n",
       "    case 1:\n",
       "        cursor = 'default';\n",
       "        break;\n",
       "    case 2:\n",
       "        cursor = 'crosshair';\n",
       "        break;\n",
       "    case 3:\n",
       "        cursor = 'move';\n",
       "        break;\n",
       "    }\n",
       "    fig.rubberband_canvas.style.cursor = cursor;\n",
       "}\n",
       "\n",
       "mpl.figure.prototype.handle_message = function(fig, msg) {\n",
       "    fig.message.textContent = msg['message'];\n",
       "}\n",
       "\n",
       "mpl.figure.prototype.handle_draw = function(fig, msg) {\n",
       "    // Request the server to send over a new figure.\n",
       "    fig.send_draw_message();\n",
       "}\n",
       "\n",
       "mpl.figure.prototype.handle_image_mode = function(fig, msg) {\n",
       "    fig.image_mode = msg['mode'];\n",
       "}\n",
       "\n",
       "mpl.figure.prototype.updated_canvas_event = function() {\n",
       "    // Called whenever the canvas gets updated.\n",
       "    this.send_message(\"ack\", {});\n",
       "}\n",
       "\n",
       "// A function to construct a web socket function for onmessage handling.\n",
       "// Called in the figure constructor.\n",
       "mpl.figure.prototype._make_on_message_function = function(fig) {\n",
       "    return function socket_on_message(evt) {\n",
       "        if (evt.data instanceof Blob) {\n",
       "            /* FIXME: We get \"Resource interpreted as Image but\n",
       "             * transferred with MIME type text/plain:\" errors on\n",
       "             * Chrome.  But how to set the MIME type?  It doesn't seem\n",
       "             * to be part of the websocket stream */\n",
       "            evt.data.type = \"image/png\";\n",
       "\n",
       "            /* Free the memory for the previous frames */\n",
       "            if (fig.imageObj.src) {\n",
       "                (window.URL || window.webkitURL).revokeObjectURL(\n",
       "                    fig.imageObj.src);\n",
       "            }\n",
       "\n",
       "            fig.imageObj.src = (window.URL || window.webkitURL).createObjectURL(\n",
       "                evt.data);\n",
       "            fig.updated_canvas_event();\n",
       "            fig.waiting = false;\n",
       "            return;\n",
       "        }\n",
       "        else if (typeof evt.data === 'string' && evt.data.slice(0, 21) == \"data:image/png;base64\") {\n",
       "            fig.imageObj.src = evt.data;\n",
       "            fig.updated_canvas_event();\n",
       "            fig.waiting = false;\n",
       "            return;\n",
       "        }\n",
       "\n",
       "        var msg = JSON.parse(evt.data);\n",
       "        var msg_type = msg['type'];\n",
       "\n",
       "        // Call the  \"handle_{type}\" callback, which takes\n",
       "        // the figure and JSON message as its only arguments.\n",
       "        try {\n",
       "            var callback = fig[\"handle_\" + msg_type];\n",
       "        } catch (e) {\n",
       "            console.log(\"No handler for the '\" + msg_type + \"' message type: \", msg);\n",
       "            return;\n",
       "        }\n",
       "\n",
       "        if (callback) {\n",
       "            try {\n",
       "                // console.log(\"Handling '\" + msg_type + \"' message: \", msg);\n",
       "                callback(fig, msg);\n",
       "            } catch (e) {\n",
       "                console.log(\"Exception inside the 'handler_\" + msg_type + \"' callback:\", e, e.stack, msg);\n",
       "            }\n",
       "        }\n",
       "    };\n",
       "}\n",
       "\n",
       "// from http://stackoverflow.com/questions/1114465/getting-mouse-location-in-canvas\n",
       "mpl.findpos = function(e) {\n",
       "    //this section is from http://www.quirksmode.org/js/events_properties.html\n",
       "    var targ;\n",
       "    if (!e)\n",
       "        e = window.event;\n",
       "    if (e.target)\n",
       "        targ = e.target;\n",
       "    else if (e.srcElement)\n",
       "        targ = e.srcElement;\n",
       "    if (targ.nodeType == 3) // defeat Safari bug\n",
       "        targ = targ.parentNode;\n",
       "\n",
       "    // jQuery normalizes the pageX and pageY\n",
       "    // pageX,Y are the mouse positions relative to the document\n",
       "    // offset() returns the position of the element relative to the document\n",
       "    var x = e.pageX - $(targ).offset().left;\n",
       "    var y = e.pageY - $(targ).offset().top;\n",
       "\n",
       "    return {\"x\": x, \"y\": y};\n",
       "};\n",
       "\n",
       "/*\n",
       " * return a copy of an object with only non-object keys\n",
       " * we need this to avoid circular references\n",
       " * http://stackoverflow.com/a/24161582/3208463\n",
       " */\n",
       "function simpleKeys (original) {\n",
       "  return Object.keys(original).reduce(function (obj, key) {\n",
       "    if (typeof original[key] !== 'object')\n",
       "        obj[key] = original[key]\n",
       "    return obj;\n",
       "  }, {});\n",
       "}\n",
       "\n",
       "mpl.figure.prototype.mouse_event = function(event, name) {\n",
       "    var canvas_pos = mpl.findpos(event)\n",
       "\n",
       "    if (name === 'button_press')\n",
       "    {\n",
       "        this.canvas.focus();\n",
       "        this.canvas_div.focus();\n",
       "    }\n",
       "\n",
       "    var x = canvas_pos.x * mpl.ratio;\n",
       "    var y = canvas_pos.y * mpl.ratio;\n",
       "\n",
       "    this.send_message(name, {x: x, y: y, button: event.button,\n",
       "                             step: event.step,\n",
       "                             guiEvent: simpleKeys(event)});\n",
       "\n",
       "    /* This prevents the web browser from automatically changing to\n",
       "     * the text insertion cursor when the button is pressed.  We want\n",
       "     * to control all of the cursor setting manually through the\n",
       "     * 'cursor' event from matplotlib */\n",
       "    event.preventDefault();\n",
       "    return false;\n",
       "}\n",
       "\n",
       "mpl.figure.prototype._key_event_extra = function(event, name) {\n",
       "    // Handle any extra behaviour associated with a key event\n",
       "}\n",
       "\n",
       "mpl.figure.prototype.key_event = function(event, name) {\n",
       "\n",
       "    // Prevent repeat events\n",
       "    if (name == 'key_press')\n",
       "    {\n",
       "        if (event.which === this._key)\n",
       "            return;\n",
       "        else\n",
       "            this._key = event.which;\n",
       "    }\n",
       "    if (name == 'key_release')\n",
       "        this._key = null;\n",
       "\n",
       "    var value = '';\n",
       "    if (event.ctrlKey && event.which != 17)\n",
       "        value += \"ctrl+\";\n",
       "    if (event.altKey && event.which != 18)\n",
       "        value += \"alt+\";\n",
       "    if (event.shiftKey && event.which != 16)\n",
       "        value += \"shift+\";\n",
       "\n",
       "    value += 'k';\n",
       "    value += event.which.toString();\n",
       "\n",
       "    this._key_event_extra(event, name);\n",
       "\n",
       "    this.send_message(name, {key: value,\n",
       "                             guiEvent: simpleKeys(event)});\n",
       "    return false;\n",
       "}\n",
       "\n",
       "mpl.figure.prototype.toolbar_button_onclick = function(name) {\n",
       "    if (name == 'download') {\n",
       "        this.handle_save(this, null);\n",
       "    } else {\n",
       "        this.send_message(\"toolbar_button\", {name: name});\n",
       "    }\n",
       "};\n",
       "\n",
       "mpl.figure.prototype.toolbar_button_onmouseover = function(tooltip) {\n",
       "    this.message.textContent = tooltip;\n",
       "};\n",
       "mpl.toolbar_items = [[\"Home\", \"Reset original view\", \"fa fa-home icon-home\", \"home\"], [\"Back\", \"Back to  previous view\", \"fa fa-arrow-left icon-arrow-left\", \"back\"], [\"Forward\", \"Forward to next view\", \"fa fa-arrow-right icon-arrow-right\", \"forward\"], [\"\", \"\", \"\", \"\"], [\"Pan\", \"Pan axes with left mouse, zoom with right\", \"fa fa-arrows icon-move\", \"pan\"], [\"Zoom\", \"Zoom to rectangle\", \"fa fa-square-o icon-check-empty\", \"zoom\"], [\"\", \"\", \"\", \"\"], [\"Download\", \"Download plot\", \"fa fa-floppy-o icon-save\", \"download\"]];\n",
       "\n",
       "mpl.extensions = [\"eps\", \"jpeg\", \"pdf\", \"png\", \"ps\", \"raw\", \"svg\", \"tif\"];\n",
       "\n",
       "mpl.default_extension = \"png\";var comm_websocket_adapter = function(comm) {\n",
       "    // Create a \"websocket\"-like object which calls the given IPython comm\n",
       "    // object with the appropriate methods. Currently this is a non binary\n",
       "    // socket, so there is still some room for performance tuning.\n",
       "    var ws = {};\n",
       "\n",
       "    ws.close = function() {\n",
       "        comm.close()\n",
       "    };\n",
       "    ws.send = function(m) {\n",
       "        //console.log('sending', m);\n",
       "        comm.send(m);\n",
       "    };\n",
       "    // Register the callback with on_msg.\n",
       "    comm.on_msg(function(msg) {\n",
       "        //console.log('receiving', msg['content']['data'], msg);\n",
       "        // Pass the mpl event to the overridden (by mpl) onmessage function.\n",
       "        ws.onmessage(msg['content']['data'])\n",
       "    });\n",
       "    return ws;\n",
       "}\n",
       "\n",
       "mpl.mpl_figure_comm = function(comm, msg) {\n",
       "    // This is the function which gets called when the mpl process\n",
       "    // starts-up an IPython Comm through the \"matplotlib\" channel.\n",
       "\n",
       "    var id = msg.content.data.id;\n",
       "    // Get hold of the div created by the display call when the Comm\n",
       "    // socket was opened in Python.\n",
       "    var element = $(\"#\" + id);\n",
       "    var ws_proxy = comm_websocket_adapter(comm)\n",
       "\n",
       "    function ondownload(figure, format) {\n",
       "        window.open(figure.imageObj.src);\n",
       "    }\n",
       "\n",
       "    var fig = new mpl.figure(id, ws_proxy,\n",
       "                           ondownload,\n",
       "                           element.get(0));\n",
       "\n",
       "    // Call onopen now - mpl needs it, as it is assuming we've passed it a real\n",
       "    // web socket which is closed, not our websocket->open comm proxy.\n",
       "    ws_proxy.onopen();\n",
       "\n",
       "    fig.parent_element = element.get(0);\n",
       "    fig.cell_info = mpl.find_output_cell(\"<div id='\" + id + \"'></div>\");\n",
       "    if (!fig.cell_info) {\n",
       "        console.error(\"Failed to find cell for figure\", id, fig);\n",
       "        return;\n",
       "    }\n",
       "\n",
       "    var output_index = fig.cell_info[2]\n",
       "    var cell = fig.cell_info[0];\n",
       "\n",
       "};\n",
       "\n",
       "mpl.figure.prototype.handle_close = function(fig, msg) {\n",
       "    var width = fig.canvas.width/mpl.ratio\n",
       "    fig.root.unbind('remove')\n",
       "\n",
       "    // Update the output cell to use the data from the current canvas.\n",
       "    fig.push_to_output();\n",
       "    var dataURL = fig.canvas.toDataURL();\n",
       "    // Re-enable the keyboard manager in IPython - without this line, in FF,\n",
       "    // the notebook keyboard shortcuts fail.\n",
       "    IPython.keyboard_manager.enable()\n",
       "    $(fig.parent_element).html('<img src=\"' + dataURL + '\" width=\"' + width + '\">');\n",
       "    fig.close_ws(fig, msg);\n",
       "}\n",
       "\n",
       "mpl.figure.prototype.close_ws = function(fig, msg){\n",
       "    fig.send_message('closing', msg);\n",
       "    // fig.ws.close()\n",
       "}\n",
       "\n",
       "mpl.figure.prototype.push_to_output = function(remove_interactive) {\n",
       "    // Turn the data on the canvas into data in the output cell.\n",
       "    var width = this.canvas.width/mpl.ratio\n",
       "    var dataURL = this.canvas.toDataURL();\n",
       "    this.cell_info[1]['text/html'] = '<img src=\"' + dataURL + '\" width=\"' + width + '\">';\n",
       "}\n",
       "\n",
       "mpl.figure.prototype.updated_canvas_event = function() {\n",
       "    // Tell IPython that the notebook contents must change.\n",
       "    IPython.notebook.set_dirty(true);\n",
       "    this.send_message(\"ack\", {});\n",
       "    var fig = this;\n",
       "    // Wait a second, then push the new image to the DOM so\n",
       "    // that it is saved nicely (might be nice to debounce this).\n",
       "    setTimeout(function () { fig.push_to_output() }, 1000);\n",
       "}\n",
       "\n",
       "mpl.figure.prototype._init_toolbar = function() {\n",
       "    var fig = this;\n",
       "\n",
       "    var nav_element = $('<div/>')\n",
       "    nav_element.attr('style', 'width: 100%');\n",
       "    this.root.append(nav_element);\n",
       "\n",
       "    // Define a callback function for later on.\n",
       "    function toolbar_event(event) {\n",
       "        return fig.toolbar_button_onclick(event['data']);\n",
       "    }\n",
       "    function toolbar_mouse_event(event) {\n",
       "        return fig.toolbar_button_onmouseover(event['data']);\n",
       "    }\n",
       "\n",
       "    for(var toolbar_ind in mpl.toolbar_items){\n",
       "        var name = mpl.toolbar_items[toolbar_ind][0];\n",
       "        var tooltip = mpl.toolbar_items[toolbar_ind][1];\n",
       "        var image = mpl.toolbar_items[toolbar_ind][2];\n",
       "        var method_name = mpl.toolbar_items[toolbar_ind][3];\n",
       "\n",
       "        if (!name) { continue; };\n",
       "\n",
       "        var button = $('<button class=\"btn btn-default\" href=\"#\" title=\"' + name + '\"><i class=\"fa ' + image + ' fa-lg\"></i></button>');\n",
       "        button.click(method_name, toolbar_event);\n",
       "        button.mouseover(tooltip, toolbar_mouse_event);\n",
       "        nav_element.append(button);\n",
       "    }\n",
       "\n",
       "    // Add the status bar.\n",
       "    var status_bar = $('<span class=\"mpl-message\" style=\"text-align:right; float: right;\"/>');\n",
       "    nav_element.append(status_bar);\n",
       "    this.message = status_bar[0];\n",
       "\n",
       "    // Add the close button to the window.\n",
       "    var buttongrp = $('<div class=\"btn-group inline pull-right\"></div>');\n",
       "    var button = $('<button class=\"btn btn-mini btn-primary\" href=\"#\" title=\"Stop Interaction\"><i class=\"fa fa-power-off icon-remove icon-large\"></i></button>');\n",
       "    button.click(function (evt) { fig.handle_close(fig, {}); } );\n",
       "    button.mouseover('Stop Interaction', toolbar_mouse_event);\n",
       "    buttongrp.append(button);\n",
       "    var titlebar = this.root.find($('.ui-dialog-titlebar'));\n",
       "    titlebar.prepend(buttongrp);\n",
       "}\n",
       "\n",
       "mpl.figure.prototype._root_extra_style = function(el){\n",
       "    var fig = this\n",
       "    el.on(\"remove\", function(){\n",
       "\tfig.close_ws(fig, {});\n",
       "    });\n",
       "}\n",
       "\n",
       "mpl.figure.prototype._canvas_extra_style = function(el){\n",
       "    // this is important to make the div 'focusable\n",
       "    el.attr('tabindex', 0)\n",
       "    // reach out to IPython and tell the keyboard manager to turn it's self\n",
       "    // off when our div gets focus\n",
       "\n",
       "    // location in version 3\n",
       "    if (IPython.notebook.keyboard_manager) {\n",
       "        IPython.notebook.keyboard_manager.register_events(el);\n",
       "    }\n",
       "    else {\n",
       "        // location in version 2\n",
       "        IPython.keyboard_manager.register_events(el);\n",
       "    }\n",
       "\n",
       "}\n",
       "\n",
       "mpl.figure.prototype._key_event_extra = function(event, name) {\n",
       "    var manager = IPython.notebook.keyboard_manager;\n",
       "    if (!manager)\n",
       "        manager = IPython.keyboard_manager;\n",
       "\n",
       "    // Check for shift+enter\n",
       "    if (event.shiftKey && event.which == 13) {\n",
       "        this.canvas_div.blur();\n",
       "        event.shiftKey = false;\n",
       "        // Send a \"J\" for go to next cell\n",
       "        event.which = 74;\n",
       "        event.keyCode = 74;\n",
       "        manager.command_mode();\n",
       "        manager.handle_keydown(event);\n",
       "    }\n",
       "}\n",
       "\n",
       "mpl.figure.prototype.handle_save = function(fig, msg) {\n",
       "    fig.ondownload(fig, null);\n",
       "}\n",
       "\n",
       "\n",
       "mpl.find_output_cell = function(html_output) {\n",
       "    // Return the cell and output element which can be found *uniquely* in the notebook.\n",
       "    // Note - this is a bit hacky, but it is done because the \"notebook_saving.Notebook\"\n",
       "    // IPython event is triggered only after the cells have been serialised, which for\n",
       "    // our purposes (turning an active figure into a static one), is too late.\n",
       "    var cells = IPython.notebook.get_cells();\n",
       "    var ncells = cells.length;\n",
       "    for (var i=0; i<ncells; i++) {\n",
       "        var cell = cells[i];\n",
       "        if (cell.cell_type === 'code'){\n",
       "            for (var j=0; j<cell.output_area.outputs.length; j++) {\n",
       "                var data = cell.output_area.outputs[j];\n",
       "                if (data.data) {\n",
       "                    // IPython >= 3 moved mimebundle to data attribute of output\n",
       "                    data = data.data;\n",
       "                }\n",
       "                if (data['text/html'] == html_output) {\n",
       "                    return [cell, data, j];\n",
       "                }\n",
       "            }\n",
       "        }\n",
       "    }\n",
       "}\n",
       "\n",
       "// Register the function which deals with the matplotlib target/channel.\n",
       "// The kernel may be null if the page has been refreshed.\n",
       "if (IPython.notebook.kernel != null) {\n",
       "    IPython.notebook.kernel.comm_manager.register_target('matplotlib', mpl.mpl_figure_comm);\n",
       "}\n"
      ],
      "text/plain": [
       "<IPython.core.display.Javascript object>"
      ]
     },
     "metadata": {},
     "output_type": "display_data"
    },
    {
     "data": {
      "text/html": [
       "<img src=\"data:image/png;base64,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\" width=\"1000\">"
      ],
      "text/plain": [
       "<IPython.core.display.HTML object>"
      ]
     },
     "metadata": {},
     "output_type": "display_data"
    },
    {
     "data": {
      "text/plain": [
       "Text(0,1,'Coefficients for Different Regularized Models')"
      ]
     },
     "execution_count": 53,
     "metadata": {},
     "output_type": "execute_result"
    }
   ],
   "source": [
    "plt.figure(figsize = (10, 5))\n",
    "plt.plot(lm.coef_, 'x', label = 'Linear Regression')\n",
    "plt.plot(ridge_reg.coef_, 'o', label = 'Ridge')\n",
    "plt.plot(lasso_reg.coef_, '^', label = 'Lasso')\n",
    "plt.plot(elastic_reg.coef_, 'v', label = 'Elastic Net')\n",
    "plt.axhline(color = 'black')\n",
    "plt.legend(frameon = False, loc = 'best')\n",
    "plt.title('Coefficients for Different Regularized Models', loc = 'left')"
   ]
  },
  {
   "cell_type": "code",
   "execution_count": null,
   "metadata": {
    "collapsed": true
   },
   "outputs": [],
   "source": []
  },
  {
   "cell_type": "code",
   "execution_count": null,
   "metadata": {
    "collapsed": true
   },
   "outputs": [],
   "source": []
  },
  {
   "cell_type": "code",
   "execution_count": null,
   "metadata": {
    "collapsed": true
   },
   "outputs": [],
   "source": []
  },
  {
   "cell_type": "code",
   "execution_count": null,
   "metadata": {
    "collapsed": true
   },
   "outputs": [],
   "source": []
  },
  {
   "cell_type": "markdown",
   "metadata": {},
   "source": [
    "### PROBLEM\n",
    "\n",
    "Return to your Ames Data.  We have covered a lot of ground today, so let's summarize the things we could do to improve the performance of our original model that compared the Above Ground Living Area to the Logarithm of the Sale Price.\n",
    "<div class=\"alert alert-info\" role=\"alert\">\n",
    "1. Clean data, drop missing values\n",
    "2. Transform data, code variables using either ordinal values or OneHotEncoder methods\n",
    "3. Create more features from existing features\n",
    "4. Split our data into testing and training sets\n",
    "6. Use  Polynomial regression to improve performance of model\n",
    "</div>\n",
    "Can you use some or all of these ideas to improve upon your initial model?"
   ]
  },
  {
   "cell_type": "code",
   "execution_count": null,
   "metadata": {
    "collapsed": true
   },
   "outputs": [],
   "source": []
  },
  {
   "cell_type": "code",
   "execution_count": null,
   "metadata": {
    "collapsed": true
   },
   "outputs": [],
   "source": []
  },
  {
   "cell_type": "code",
   "execution_count": null,
   "metadata": {
    "collapsed": true
   },
   "outputs": [],
   "source": []
  },
  {
   "cell_type": "code",
   "execution_count": null,
   "metadata": {
    "collapsed": true
   },
   "outputs": [],
   "source": []
  },
  {
   "cell_type": "code",
   "execution_count": null,
   "metadata": {
    "collapsed": true
   },
   "outputs": [],
   "source": []
  },
  {
   "cell_type": "code",
   "execution_count": null,
   "metadata": {
    "collapsed": true
   },
   "outputs": [],
   "source": []
  },
  {
   "cell_type": "markdown",
   "metadata": {},
   "source": [
    "### Additional Resources\n",
    "\n",
    "The last two lessons have pulled heavily from these resources.  I recommend them all strongly as excellent resources:\n",
    "\n",
    "- SciKitLearn documentation on Regression: http://scikit-learn.org/stable/supervised_learning.html#supervised-learning\n",
    "\n",
    "- Aurelien Geron, *Hands on Machine Learning with SciKitLearn and TensorFlow*\n",
    "\n",
    "- James et. al, *An Introduction to Statistical Learning: With Applications in R*\n",
    "\n",
    "- Philipp K. Janert, *Data Analysis with OpenSource Tools*\n",
    "\n",
    "- University of Michigan Coursera Class on Machine Learning with SciKitLearn: https://www.coursera.org/learn/python-machine-learning\n",
    "\n",
    "- Stanford University course on Machine Learning: https://www.coursera.org/learn/machine-learning"
   ]
  }
 ],
 "metadata": {
  "kernelspec": {
   "display_name": "Python 3",
   "language": "python",
   "name": "python3"
  },
  "language_info": {
   "codemirror_mode": {
    "name": "ipython",
    "version": 3
   },
   "file_extension": ".py",
   "mimetype": "text/x-python",
   "name": "python",
   "nbconvert_exporter": "python",
   "pygments_lexer": "ipython3",
   "version": "3.6.1"
  }
 },
 "nbformat": 4,
 "nbformat_minor": 2
}
