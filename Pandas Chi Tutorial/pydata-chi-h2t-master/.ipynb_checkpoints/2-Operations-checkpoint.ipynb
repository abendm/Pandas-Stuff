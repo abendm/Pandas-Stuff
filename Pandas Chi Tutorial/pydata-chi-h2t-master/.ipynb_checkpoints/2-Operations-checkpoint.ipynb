{
 "cells": [
  {
   "cell_type": "markdown",
   "metadata": {},
   "source": [
    "This notebook covers the basics of operations on Series and DataFrames. Again, a quick check on whether you know the material.\n",
    "\n",
    "1. Can you use numpy ufuncs (e.g. `np.exp`) on DataFrames?\n",
    "2. What happens when you add two DataFrames with different indicies?\n",
    "\n",
    "If you know the answers already, you can skip to our first [application](#Application:-Economic-Timeseries). Maybe download some additional datasets from [FRED](https://research.stlouisfed.org) and play with those; try to figure out how to fix the economy. You've got about 5 minutes."
   ]
  },
  {
   "cell_type": "markdown",
   "metadata": {},
   "source": [
    "`DataFrame`s and `Series` support all the usual math operations. Additionally,\n",
    "numpy [`ufuncs`](http://docs.scipy.org/doc/numpy/reference/ufuncs.html) (universial function, e.g. `np.log`) can  be used as expected."
   ]
  },
  {
   "cell_type": "code",
   "execution_count": 1,
   "metadata": {
    "collapsed": true,
    "hide_input": false
   },
   "outputs": [],
   "source": [
    "import numpy as np\n",
    "import pandas as pd\n",
    "\n",
    "from ph2t import side_by_side  # came with the notebooks"
   ]
  },
  {
   "cell_type": "markdown",
   "metadata": {},
   "source": [
    "# `ufuncs`\n",
    "\n",
    "`ufunc`s operate on arrays elementwise.\n",
    "They can be used just like you'd expect on a `Series` or `DataFrame`."
   ]
  },
  {
   "cell_type": "code",
   "execution_count": 2,
   "metadata": {},
   "outputs": [
    {
     "data": {
      "text/html": [
       "<div>\n",
       "<style>\n",
       "    .dataframe thead tr:only-child th {\n",
       "        text-align: right;\n",
       "    }\n",
       "\n",
       "    .dataframe thead th {\n",
       "        text-align: left;\n",
       "    }\n",
       "\n",
       "    .dataframe tbody tr th {\n",
       "        vertical-align: top;\n",
       "    }\n",
       "</style>\n",
       "<table border=\"1\" class=\"dataframe\">\n",
       "  <thead>\n",
       "    <tr style=\"text-align: right;\">\n",
       "      <th></th>\n",
       "      <th>0</th>\n",
       "      <th>1</th>\n",
       "      <th>2</th>\n",
       "    </tr>\n",
       "  </thead>\n",
       "  <tbody>\n",
       "    <tr>\n",
       "      <th>0</th>\n",
       "      <td>3.745401</td>\n",
       "      <td>9.507143</td>\n",
       "      <td>7.319939</td>\n",
       "    </tr>\n",
       "    <tr>\n",
       "      <th>1</th>\n",
       "      <td>5.986585</td>\n",
       "      <td>1.560186</td>\n",
       "      <td>1.559945</td>\n",
       "    </tr>\n",
       "    <tr>\n",
       "      <th>2</th>\n",
       "      <td>0.580836</td>\n",
       "      <td>8.661761</td>\n",
       "      <td>6.011150</td>\n",
       "    </tr>\n",
       "  </tbody>\n",
       "</table>\n",
       "</div>"
      ],
      "text/plain": [
       "          0         1         2\n",
       "0  3.745401  9.507143  7.319939\n",
       "1  5.986585  1.560186  1.559945\n",
       "2  0.580836  8.661761  6.011150"
      ]
     },
     "execution_count": 2,
     "metadata": {},
     "output_type": "execute_result"
    }
   ],
   "source": [
    "np.random.seed(42)\n",
    "df = pd.DataFrame(np.random.uniform(0, 10, size=(3, 3)))\n",
    "df"
   ]
  },
  {
   "cell_type": "code",
   "execution_count": 3,
   "metadata": {},
   "outputs": [
    {
     "data": {
      "text/html": [
       "<div>\n",
       "<style>\n",
       "    .dataframe thead tr:only-child th {\n",
       "        text-align: right;\n",
       "    }\n",
       "\n",
       "    .dataframe thead th {\n",
       "        text-align: left;\n",
       "    }\n",
       "\n",
       "    .dataframe tbody tr th {\n",
       "        vertical-align: top;\n",
       "    }\n",
       "</style>\n",
       "<table border=\"1\" class=\"dataframe\">\n",
       "  <thead>\n",
       "    <tr style=\"text-align: right;\">\n",
       "      <th></th>\n",
       "      <th>0</th>\n",
       "      <th>1</th>\n",
       "      <th>2</th>\n",
       "    </tr>\n",
       "  </thead>\n",
       "  <tbody>\n",
       "    <tr>\n",
       "      <th>0</th>\n",
       "      <td>4.745401</td>\n",
       "      <td>10.507143</td>\n",
       "      <td>8.319939</td>\n",
       "    </tr>\n",
       "    <tr>\n",
       "      <th>1</th>\n",
       "      <td>6.986585</td>\n",
       "      <td>2.560186</td>\n",
       "      <td>2.559945</td>\n",
       "    </tr>\n",
       "    <tr>\n",
       "      <th>2</th>\n",
       "      <td>1.580836</td>\n",
       "      <td>9.661761</td>\n",
       "      <td>7.011150</td>\n",
       "    </tr>\n",
       "  </tbody>\n",
       "</table>\n",
       "</div>"
      ],
      "text/plain": [
       "          0          1         2\n",
       "0  4.745401  10.507143  8.319939\n",
       "1  6.986585   2.560186  2.559945\n",
       "2  1.580836   9.661761  7.011150"
      ]
     },
     "execution_count": 3,
     "metadata": {},
     "output_type": "execute_result"
    }
   ],
   "source": [
    "df + 1"
   ]
  },
  {
   "cell_type": "code",
   "execution_count": 4,
   "metadata": {},
   "outputs": [
    {
     "data": {
      "text/html": [
       "<div>\n",
       "<style>\n",
       "    .dataframe thead tr:only-child th {\n",
       "        text-align: right;\n",
       "    }\n",
       "\n",
       "    .dataframe thead th {\n",
       "        text-align: left;\n",
       "    }\n",
       "\n",
       "    .dataframe tbody tr th {\n",
       "        vertical-align: top;\n",
       "    }\n",
       "</style>\n",
       "<table border=\"1\" class=\"dataframe\">\n",
       "  <thead>\n",
       "    <tr style=\"text-align: right;\">\n",
       "      <th></th>\n",
       "      <th>0</th>\n",
       "      <th>1</th>\n",
       "      <th>2</th>\n",
       "    </tr>\n",
       "  </thead>\n",
       "  <tbody>\n",
       "    <tr>\n",
       "      <th>0</th>\n",
       "      <td>14.028030</td>\n",
       "      <td>90.385769</td>\n",
       "      <td>53.581513</td>\n",
       "    </tr>\n",
       "    <tr>\n",
       "      <th>1</th>\n",
       "      <td>35.839198</td>\n",
       "      <td>2.434182</td>\n",
       "      <td>2.433429</td>\n",
       "    </tr>\n",
       "    <tr>\n",
       "      <th>2</th>\n",
       "      <td>0.337371</td>\n",
       "      <td>75.026112</td>\n",
       "      <td>36.133926</td>\n",
       "    </tr>\n",
       "  </tbody>\n",
       "</table>\n",
       "</div>"
      ],
      "text/plain": [
       "           0          1          2\n",
       "0  14.028030  90.385769  53.581513\n",
       "1  35.839198   2.434182   2.433429\n",
       "2   0.337371  75.026112  36.133926"
      ]
     },
     "execution_count": 4,
     "metadata": {},
     "output_type": "execute_result"
    }
   ],
   "source": [
    "df ** 2"
   ]
  },
  {
   "cell_type": "code",
   "execution_count": 5,
   "metadata": {},
   "outputs": [
    {
     "data": {
      "text/html": [
       "<div>\n",
       "<style>\n",
       "    .dataframe thead tr:only-child th {\n",
       "        text-align: right;\n",
       "    }\n",
       "\n",
       "    .dataframe thead th {\n",
       "        text-align: left;\n",
       "    }\n",
       "\n",
       "    .dataframe tbody tr th {\n",
       "        vertical-align: top;\n",
       "    }\n",
       "</style>\n",
       "<table border=\"1\" class=\"dataframe\">\n",
       "  <thead>\n",
       "    <tr style=\"text-align: right;\">\n",
       "      <th></th>\n",
       "      <th>0</th>\n",
       "      <th>1</th>\n",
       "      <th>2</th>\n",
       "    </tr>\n",
       "  </thead>\n",
       "  <tbody>\n",
       "    <tr>\n",
       "      <th>0</th>\n",
       "      <td>1.320529</td>\n",
       "      <td>2.252043</td>\n",
       "      <td>1.990602</td>\n",
       "    </tr>\n",
       "    <tr>\n",
       "      <th>1</th>\n",
       "      <td>1.789521</td>\n",
       "      <td>0.444805</td>\n",
       "      <td>0.444651</td>\n",
       "    </tr>\n",
       "    <tr>\n",
       "      <th>2</th>\n",
       "      <td>-0.543287</td>\n",
       "      <td>2.158918</td>\n",
       "      <td>1.793616</td>\n",
       "    </tr>\n",
       "  </tbody>\n",
       "</table>\n",
       "</div>"
      ],
      "text/plain": [
       "          0         1         2\n",
       "0  1.320529  2.252043  1.990602\n",
       "1  1.789521  0.444805  0.444651\n",
       "2 -0.543287  2.158918  1.793616"
      ]
     },
     "execution_count": 5,
     "metadata": {},
     "output_type": "execute_result"
    }
   ],
   "source": [
    "np.log(df)"
   ]
  },
  {
   "cell_type": "markdown",
   "metadata": {},
   "source": [
    "For any decent-sized `DataFrame`, using a `ufunc` will be much faster than applying the function to each row in a for loop or by using `DataFrame.apply`."
   ]
  },
  {
   "cell_type": "markdown",
   "metadata": {},
   "source": [
    "# Alignment"
   ]
  },
  {
   "cell_type": "markdown",
   "metadata": {},
   "source": [
    "When you do binary operations between two `numpy` arrays, like `+`, the arrays are in some sense aligned by position.\n",
    "It's up to you to ensure that the correct values are in the same position across arrays.\n",
    "\n",
    "In pandas, we rely on row and column *labels* to do the alignment for us.\n",
    "Pandas automatically aligns by label when doing operations between `DataFrames` and `Series`."
   ]
  },
  {
   "cell_type": "code",
   "execution_count": null,
   "metadata": {
    "collapsed": true
   },
   "outputs": [],
   "source": []
  },
  {
   "cell_type": "code",
   "execution_count": 6,
   "metadata": {},
   "outputs": [
    {
     "data": {
      "text/html": [
       "\n",
       "    <div class=\"table-responsive col-md-6\"><style  type=\"text/css\" >\n",
       "</style>  \n",
       "<table id=\"T_32ec581a_902f_11e8_93ce_b8ca3ab66002\" style=\"display: float; max-width:50%\" class=\"table\"><caption>df1</caption> \n",
       "<thead>    <tr> \n",
       "        <th class=\"blank level0\" ></th> \n",
       "        <th class=\"col_heading level0 col0\" >A</th> \n",
       "        <th class=\"col_heading level0 col1\" >B</th> \n",
       "    </tr></thead> \n",
       "<tbody>    <tr> \n",
       "        <th id=\"T_32ec581a_902f_11e8_93ce_b8ca3ab66002\" class=\"row_heading level0 row0\" >0</th> \n",
       "        <td id=\"T_32ec581a_902f_11e8_93ce_b8ca3ab66002row0_col0\" class=\"data row0 col0\" >1</td> \n",
       "        <td id=\"T_32ec581a_902f_11e8_93ce_b8ca3ab66002row0_col1\" class=\"data row0 col1\" >4</td> \n",
       "    </tr>    <tr> \n",
       "        <th id=\"T_32ec581a_902f_11e8_93ce_b8ca3ab66002\" class=\"row_heading level0 row1\" >1</th> \n",
       "        <td id=\"T_32ec581a_902f_11e8_93ce_b8ca3ab66002row1_col0\" class=\"data row1 col0\" >2</td> \n",
       "        <td id=\"T_32ec581a_902f_11e8_93ce_b8ca3ab66002row1_col1\" class=\"data row1 col1\" >5</td> \n",
       "    </tr>    <tr> \n",
       "        <th id=\"T_32ec581a_902f_11e8_93ce_b8ca3ab66002\" class=\"row_heading level0 row2\" >2</th> \n",
       "        <td id=\"T_32ec581a_902f_11e8_93ce_b8ca3ab66002row2_col0\" class=\"data row2 col0\" >3</td> \n",
       "        <td id=\"T_32ec581a_902f_11e8_93ce_b8ca3ab66002row2_col1\" class=\"data row2 col1\" >6</td> \n",
       "    </tr></tbody> \n",
       "</table> </div>\n",
       "    <div class=\"table-responsive col-md-6\"><style  type=\"text/css\" >\n",
       "</style>  \n",
       "<table id=\"T_32ec7f2e_902f_11e8_86b5_b8ca3ab66002\" style=\"display: float; max-width:50%\" class=\"table\"><caption>df2</caption> \n",
       "<thead>    <tr> \n",
       "        <th class=\"blank level0\" ></th> \n",
       "        <th class=\"col_heading level0 col0\" >A</th> \n",
       "        <th class=\"col_heading level0 col1\" >B</th> \n",
       "    </tr></thead> \n",
       "<tbody>    <tr> \n",
       "        <th id=\"T_32ec7f2e_902f_11e8_86b5_b8ca3ab66002\" class=\"row_heading level0 row0\" >0</th> \n",
       "        <td id=\"T_32ec7f2e_902f_11e8_86b5_b8ca3ab66002row0_col0\" class=\"data row0 col0\" >2</td> \n",
       "        <td id=\"T_32ec7f2e_902f_11e8_86b5_b8ca3ab66002row0_col1\" class=\"data row0 col1\" >1</td> \n",
       "    </tr>    <tr> \n",
       "        <th id=\"T_32ec7f2e_902f_11e8_86b5_b8ca3ab66002\" class=\"row_heading level0 row1\" >1</th> \n",
       "        <td id=\"T_32ec7f2e_902f_11e8_86b5_b8ca3ab66002row1_col0\" class=\"data row1 col0\" >4</td> \n",
       "        <td id=\"T_32ec7f2e_902f_11e8_86b5_b8ca3ab66002row1_col1\" class=\"data row1 col1\" >4</td> \n",
       "    </tr>    <tr> \n",
       "        <th id=\"T_32ec7f2e_902f_11e8_86b5_b8ca3ab66002\" class=\"row_heading level0 row2\" >2</th> \n",
       "        <td id=\"T_32ec7f2e_902f_11e8_86b5_b8ca3ab66002row2_col0\" class=\"data row2 col0\" >6</td> \n",
       "        <td id=\"T_32ec7f2e_902f_11e8_86b5_b8ca3ab66002row2_col1\" class=\"data row2 col1\" >9</td> \n",
       "    </tr></tbody> \n",
       "</table> </div>\n",
       "    "
      ],
      "text/plain": [
       "<IPython.core.display.HTML object>"
      ]
     },
     "execution_count": 6,
     "metadata": {},
     "output_type": "execute_result"
    }
   ],
   "source": [
    "df1 = pd.DataFrame({'A': [1, 2, 3], 'B': [4, 5, 6]})\n",
    "df2 = pd.DataFrame({'A': [2, 4, 6], 'B': [1, 4, 9]})\n",
    "\n",
    "side_by_side(df1, df2, \"df1\", \"df2\")"
   ]
  },
  {
   "cell_type": "code",
   "execution_count": null,
   "metadata": {},
   "outputs": [],
   "source": [
    "df1 + df2"
   ]
  },
  {
   "cell_type": "code",
   "execution_count": null,
   "metadata": {},
   "outputs": [],
   "source": [
    "# Note the index order\n",
    "df2 = pd.DataFrame({'A': [6, 2, 4], 'B': [9, 1, 4]}, index=[2, 0, 1])\n",
    "side_by_side(df1, df2, 'df1', 'df2')"
   ]
  },
  {
   "cell_type": "code",
   "execution_count": null,
   "metadata": {},
   "outputs": [],
   "source": [
    "df1 + df2"
   ]
  },
  {
   "cell_type": "code",
   "execution_count": null,
   "metadata": {},
   "outputs": [],
   "source": [
    "# Different index entirely\n",
    "df3 = pd.DataFrame(np.random.randn(5, 3), columns=['A', 'B', 'C'])\n",
    "side_by_side(df1, df3, 'df1', 'df3')"
   ]
  },
  {
   "cell_type": "code",
   "execution_count": null,
   "metadata": {},
   "outputs": [],
   "source": [
    "df1 + df3"
   ]
  },
  {
   "cell_type": "markdown",
   "metadata": {},
   "source": [
    "# Recap\n",
    "\n",
    "- `ufuncs` work just fine\n",
    "- Operations **align by label** and then are performed"
   ]
  },
  {
   "cell_type": "markdown",
   "metadata": {},
   "source": [
    "# Application: Economic Timeseries"
   ]
  },
  {
   "cell_type": "code",
   "execution_count": null,
   "metadata": {},
   "outputs": [],
   "source": [
    "from itertools import chain\n",
    "\n",
    "import pandas as pd\n",
    "\n",
    "import seaborn as sns\n",
    "import statsmodels.api as sm\n",
    "from pandas_datareader import data\n",
    "\n",
    "import matplotlib.pyplot as plt\n",
    "from toolz import partitionby\n",
    "\n",
    "%matplotlib inline\n",
    "pd.options.display.max_rows = 10\n",
    "sns.set_style('ticks')"
   ]
  },
  {
   "cell_type": "markdown",
   "metadata": {},
   "source": [
    "Pandas recently split off some web-based data reading functionality into its own package `pandas-datareader`. Earlier, I used it to grab data from [FRED](http://research.stlouisfed.org).\n",
    "\n",
    "```python\n",
    "gdp = data.DataReader(\"GDP\", data_source='fred',\n",
    "                      start='1929', end='2014').squeeze()\n",
    "cpi = data.DataReader(\"CPIAUCSL\", data_source='fred',\n",
    "                      start='1947-01', end='2015-05').squeeze()\n",
    "rec = data.DataReader('USREC', data_source='fred',\n",
    "                      start='1854-12-01',\n",
    "                      end='2014-08-01').squeeze()\n",
    "gdp.to_csv('data/gdp.csv', header=True)\n",
    "cpi.to_csv('data/cpi.csv', header=True)\n",
    "rec.to_csv('data/rec.csv', header=True)\n",
    "```"
   ]
  },
  {
   "cell_type": "code",
   "execution_count": null,
   "metadata": {},
   "outputs": [],
   "source": [
    "with open('data/gdp.csv') as f:\n",
    "    print(''.join(f.readlines(100)))"
   ]
  },
  {
   "cell_type": "code",
   "execution_count": null,
   "metadata": {
    "collapsed": true
   },
   "outputs": [],
   "source": [
    "pd.read_csv?"
   ]
  },
  {
   "cell_type": "code",
   "execution_count": null,
   "metadata": {},
   "outputs": [],
   "source": [
    "gdp = pd.read_csv('data/gdp.csv', index_col='DATE', parse_dates=['DATE']).squeeze()\n",
    "cpi = pd.read_csv('data/cpi.csv', index_col='DATE', parse_dates=['DATE']).squeeze()\n",
    "rec = pd.read_csv('data/rec.csv', index_col='DATE', parse_dates=['DATE']).squeeze()"
   ]
  },
  {
   "cell_type": "code",
   "execution_count": null,
   "metadata": {},
   "outputs": [],
   "source": [
    "gdp.head(n=5)"
   ]
  },
  {
   "cell_type": "code",
   "execution_count": null,
   "metadata": {},
   "outputs": [],
   "source": [
    "gdp.tail()"
   ]
  },
  {
   "cell_type": "code",
   "execution_count": null,
   "metadata": {},
   "outputs": [],
   "source": [
    "cpi.head()"
   ]
  },
  {
   "cell_type": "code",
   "execution_count": null,
   "metadata": {},
   "outputs": [],
   "source": [
    "rec.head()"
   ]
  },
  {
   "cell_type": "markdown",
   "metadata": {},
   "source": [
    "## Methods"
   ]
  },
  {
   "cell_type": "markdown",
   "metadata": {},
   "source": [
    "DataFrames and Series have a bunch of useful aggregation methods, `.mean`, `.max`, `.std`, etc."
   ]
  },
  {
   "cell_type": "code",
   "execution_count": null,
   "metadata": {},
   "outputs": [],
   "source": [
    "gdp.mean()"
   ]
  },
  {
   "cell_type": "markdown",
   "metadata": {},
   "source": [
    "## Plotting"
   ]
  },
  {
   "cell_type": "markdown",
   "metadata": {},
   "source": [
    "DataFrames and Series can make decent looking plots with a few lines of code.\n",
    "\n",
    "I wanted to incude bars for recession indicators.\n",
    "The only pandas-relavent bit is `Series.iteritems`, which you *almost* never want to use since it's relatively slow."
   ]
  },
  {
   "cell_type": "code",
   "execution_count": null,
   "metadata": {},
   "outputs": [],
   "source": [
    "next(rec.iteritems())  "
   ]
  },
  {
   "cell_type": "code",
   "execution_count": null,
   "metadata": {
    "collapsed": true
   },
   "outputs": [],
   "source": [
    "groups = partitionby(lambda x: x[1] == 1, rec.iteritems())\n",
    "recessions = filter(lambda x: x[0][1] == 1, groups)\n",
    "spans = [(months[0][0], months[-1][0]) for months in recessions]"
   ]
  },
  {
   "cell_type": "code",
   "execution_count": null,
   "metadata": {},
   "outputs": [],
   "source": [
    "def add_rec_bars(ax=None):\n",
    "    ax = ax or plt.gca()\n",
    "    ylim = ax.get_ylim()\n",
    "    for span in spans:\n",
    "        ax.fill_between(span, *ax.get_ylim(), color='k', alpha=.25)\n",
    "    ax.set_ylim(*ylim)\n",
    "    return ax\n",
    "\n",
    "sns.set(style=\"white\", context=\"talk\")\n",
    "plt.rcParams['figure.figsize'] = (12, 6)"
   ]
  },
  {
   "cell_type": "code",
   "execution_count": null,
   "metadata": {},
   "outputs": [],
   "source": [
    "ax = gdp.plot(title='GDP', linewidth=3)\n",
    "add_rec_bars(ax)\n",
    "sns.despine()"
   ]
  },
  {
   "cell_type": "markdown",
   "metadata": {},
   "source": [
    "Let's put some of those operations to use."
   ]
  },
  {
   "cell_type": "markdown",
   "metadata": {},
   "source": [
    "<div class=\"alert alert-success\">\n",
    "    <b>EXERCISE</b>: Convert CPI to base 2009\n",
    "</div>\n",
    "\n",
    "CPI is the Consumer Price Index. The Index part just means that it doesn't really have any units,\n",
    "just some (arbitrary) time span that is set to 100, and every other observation is relative to that time.\n",
    "The CPI we have is indexed to the average over 1982-1984.\n",
    "\n",
    "**Convert the CPI base-2009 by dividing the entire Series `cpi` by the average CPI in 2009.**\n",
    "\n",
    "Try breaking the problem into pieces:\n",
    "1. Select just the rows from 2009 (`.loc`)\n",
    "  + Timeseries (dates in the index) have [speical rules](http://pandas.pydata.org/pandas-docs/stable/timeseries.html#datetimeindex-partial-string-indexing) for slicing. Pass in a string with the subset you want\n",
    "    + `.loc['2010-01-01']` select all observations from that day\n",
    "    + `.loc['2010-01']` selects all observations from that month\n",
    "2. calculate the average on those rows\n",
    "3. divide `cpi` by 100 * that number (assign that to `cpi09`)"
   ]
  },
  {
   "cell_type": "code",
   "execution_count": null,
   "metadata": {},
   "outputs": [],
   "source": [
    "# Your code goes here\n",
    "# Assign the result to cpi09"
   ]
  },
  {
   "cell_type": "code",
   "execution_count": null,
   "metadata": {},
   "outputs": [],
   "source": [
    "%load solutions/solutions_operations.py"
   ]
  },
  {
   "cell_type": "code",
   "execution_count": null,
   "metadata": {},
   "outputs": [],
   "source": [
    "ax = cpi09.plot(title='CPI-2009')\n",
    "add_rec_bars(ax=ax)\n",
    "sns.despine();"
   ]
  },
  {
   "cell_type": "markdown",
   "metadata": {},
   "source": [
    "Next, try calculating real GDP, with 2009 as the base year.\n",
    "This is defined to be `gdp` divided by the base-2009 CPI for that time period.\n",
    "\n",
    "Call the result `rgdp` and try plotting it."
   ]
  },
  {
   "cell_type": "code",
   "execution_count": null,
   "metadata": {
    "collapsed": true
   },
   "outputs": [],
   "source": [
    "# Your code here\n",
    "rgdp = ..."
   ]
  },
  {
   "cell_type": "markdown",
   "metadata": {},
   "source": [
    "If you have trouble with the plotting, look into the `.fillna` and `.dropna` methods.\n",
    "The next section explains what's going on.\n",
    "\n",
    "If you finish this exercise early, check out the \"Extra Exercises\" section at the bottom of the notebook."
   ]
  },
  {
   "cell_type": "markdown",
   "metadata": {},
   "source": [
    "# Real GDP: Alignment\n",
    "\n",
    "Let's say we want real GDP (adjusted for inflation).\n",
    "\n",
    "\\begin{equation}\n",
    "    rGDP_t = \\frac{GDP_t}{CPI_t}\n",
    "\\end{equation}\n",
    "\n",
    "Problem: our CPI is monthly but GDP is quarterly. Also the two Series have different start and end points. If you didn't have automatic label alignment, you'd have to jump through hoops to select the correct subset of each series.\n",
    "\n",
    "\n",
    "```python\n",
    "# this is boolean indexing, we'll see more later\n",
    "gdp / cpi09[(cpi.index.month % 3 == 1) & (cpi09.index.year <= 2014)]\n",
    "```"
   ]
  },
  {
   "cell_type": "markdown",
   "metadata": {},
   "source": [
    "... but that's unneccesary. The operations will automatically align for you."
   ]
  },
  {
   "cell_type": "code",
   "execution_count": null,
   "metadata": {},
   "outputs": [],
   "source": [
    "rgdp = (gdp / cpi09)\n",
    "rgdp"
   ]
  },
  {
   "cell_type": "markdown",
   "metadata": {},
   "source": [
    "The `NaN`s are missing value indicators. `NaN`s can crop up for many reasons, but in this case it's because the labels didn't overlap perfectly.\n",
    "\n",
    "Binary operations (addition, multiplication, ...) consists of two steps.\n",
    "\n",
    "1. align by label\n",
    "2. operation"
   ]
  },
  {
   "cell_type": "code",
   "execution_count": null,
   "metadata": {},
   "outputs": [],
   "source": [
    "l, r = gdp.align(cpi09)\n",
    "side_by_side(l.head(), r.head())\n"
   ]
  },
  {
   "cell_type": "markdown",
   "metadata": {},
   "source": [
    "While binary operations *propogate* missing values, aggregations like `sum` or `mean`, will ignore them.\n",
    "Pandas provides methods for detecting missing data `.isnull`, filling missing data `.fillna`,\n",
    "or you can dropping it, which is what I'll do here."
   ]
  },
  {
   "cell_type": "code",
   "execution_count": null,
   "metadata": {},
   "outputs": [],
   "source": [
    "rgdp.dropna()"
   ]
  },
  {
   "cell_type": "markdown",
   "metadata": {},
   "source": [
    "Pandas methods are non-mutating by default. This means that even though I called `.dropna()` above, `rgdp` still has missing values."
   ]
  },
  {
   "cell_type": "code",
   "execution_count": null,
   "metadata": {},
   "outputs": [],
   "source": [
    "rgdp"
   ]
  },
  {
   "cell_type": "markdown",
   "metadata": {},
   "source": [
    "To capture the change, assign a name to the result. In this case, I just the same name `rgdp`."
   ]
  },
  {
   "cell_type": "code",
   "execution_count": null,
   "metadata": {},
   "outputs": [],
   "source": [
    "real_gdp = rgdp.dropna()\n",
    "real_gdp.head()"
   ]
  },
  {
   "cell_type": "code",
   "execution_count": null,
   "metadata": {},
   "outputs": [],
   "source": [
    "ax = gdp.pct_change().plot(\n",
    "    figsize=(15, 5), label='GDP', legend=True, linewidth=2\n",
    ")\n",
    "real_gdp.pct_change().plot(\n",
    "    ax=ax, label='real GDP', legend=True, linewidth=2\n",
    ")\n",
    "add_rec_bars(ax)\n",
    "sns.despine()"
   ]
  },
  {
   "cell_type": "markdown",
   "metadata": {},
   "source": [
    "# Recap\n",
    "\n",
    "DataFrames allow you to rapidly explore data, iterating on ideas.\n",
    "\n",
    "- `ufunc`s work as expected\n",
    "- operations between pandas objects automatically align on labels"
   ]
  },
  {
   "cell_type": "markdown",
   "metadata": {},
   "source": [
    "<div class=\"alert alert-info\">\n",
    "    <b>Extra Exercises</b>\n",
    "</div>"
   ]
  },
  {
   "cell_type": "markdown",
   "metadata": {},
   "source": [
    "Explore [FRED](https://fred.stlouisfed.org) for additional datasets.\n",
    "\n",
    "See if you can produce an updated version of this graph from [*Calculated Risk*](Calculated Risk: BLS: Jobs Openings at 5.0 million in December, Up 28% Year-over-year)."
   ]
  },
  {
   "cell_type": "code",
   "execution_count": null,
   "metadata": {},
   "outputs": [],
   "source": [
    "from IPython.display import Image\n",
    "Image(url='http://1.bp.blogspot.com/-Q60opady2iQ/VNoeGepLMWI/AAAAAAAAiQc/PCA1LfFJFCg/s1600/JOLTSDec2014.PNG')"
   ]
  },
  {
   "cell_type": "markdown",
   "metadata": {
    "collapsed": true
   },
   "source": [
    "This shows the components of turnover in the labor market. People leave jobs for two reasons: 1. Quits (light blue) or 2. Layoffs, discharges, or other (red).\n",
    "\n",
    "Companies post job openings (yellow) and fill some number of those (Blue).\n",
    "\n",
    "The difference between the openings and hires represents the change in the stock of open positions, and measures the slackness of the labor market.\n",
    "\n",
    "The difference between the Hires and the sum of Quites and Layoffs / Discharges represents the change in the employed labor force (though the unemployment rate is calculated differently)."
   ]
  },
  {
   "cell_type": "markdown",
   "metadata": {},
   "source": [
    "To get you started, the FRED series codes are\n",
    "\n",
    "- [JTSJOL](https://fred.stlouisfed.org/series/JTSJOL): Openings\n",
    "- [JTSQUL](https://fred.stlouisfed.org/series/JTSQUL): Quits\n",
    "- [JTSHIL](https://fred.stlouisfed.org/series/JTSHIL): Hires\n",
    "- [JTSLDL](https://fred.stlouisfed.org/series/JTSLDL): Layoffs\n",
    "\n",
    "Use the `pandas_datareader.data.DataReader` class, which accepts a list of symbols, and a `data_source` ('`fred'`).\n",
    "\n",
    "As a hint, you can use pandas' `.plot.area()` method for the Quits and Layoffs series. That handles all the stacking for you."
   ]
  },
  {
   "cell_type": "code",
   "execution_count": null,
   "metadata": {
    "collapsed": true
   },
   "outputs": [],
   "source": [
    "series = ['JTSJOL', 'JTSQUL', 'JTSHIL', 'JTSLDL']\n",
    "names = ['openings', 'quits', 'hires', 'layoffs']\n",
    "from pandas_datareader.data import DataReader"
   ]
  },
  {
   "cell_type": "code",
   "execution_count": null,
   "metadata": {},
   "outputs": [],
   "source": [
    "res = DataReader(series, start='2000-01-01', data_source=\"fred\")"
   ]
  },
  {
   "cell_type": "code",
   "execution_count": null,
   "metadata": {
    "collapsed": true
   },
   "outputs": [],
   "source": [
    "res = res.rename(columns=dict(zip(series, names)))"
   ]
  },
  {
   "cell_type": "code",
   "execution_count": null,
   "metadata": {},
   "outputs": [],
   "source": [
    "ax = res[['quits', 'layoffs']].plot.area()\n",
    "res[['hires', 'openings']].plot(ax=ax)"
   ]
  },
  {
   "cell_type": "code",
   "execution_count": null,
   "metadata": {
    "collapsed": true
   },
   "outputs": [],
   "source": [
    "k"
   ]
  }
 ],
 "metadata": {
  "kernelspec": {
   "display_name": "Python 3",
   "language": "python",
   "name": "python3"
  },
  "language_info": {
   "codemirror_mode": {
    "name": "ipython",
    "version": 3
   },
   "file_extension": ".py",
   "mimetype": "text/x-python",
   "name": "python",
   "nbconvert_exporter": "python",
   "pygments_lexer": "ipython3",
   "version": "3.6.1"
  }
 },
 "nbformat": 4,
 "nbformat_minor": 1
}
