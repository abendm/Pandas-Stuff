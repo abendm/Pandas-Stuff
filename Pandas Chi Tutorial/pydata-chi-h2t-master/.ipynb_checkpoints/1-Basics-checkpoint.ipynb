{
 "cells": [
  {
   "cell_type": "markdown",
   "metadata": {},
   "source": [
    "This notebook will cover the assumed knowledge of pandas.\n",
    "Here's a few questions to check if you already know the material in this notebook.\n",
    "\n",
    "1. Does a NumPy array have a single dtype or multiple dtypes?\n",
    "2. Why is broadcasting useful?\n",
    "3. How do you slice a DataFrame by row label?\n",
    "4. How do you select a column of a DataFrame?\n",
    "5. Is the Index a column in the DataFrame?\n",
    "\n",
    "If you feel pretty comfortable with those, go ahead and skip this notebook.\n",
    "[Answers](#Answers) are at the end. We'll meet up at the next notebook."
   ]
  },
  {
   "cell_type": "markdown",
   "metadata": {},
   "source": [
    "# Aside: Jupyter Notebook\n",
    "\n",
    "- two modes command and edit\n",
    "  - command -> edit: `Enter`\n",
    "  - edit -> command: `Esc`\n",
    "- `h` : Keyboard Shortcuts:  (from command mode)\n",
    "- `j` / `k` : navigate cells\n",
    "- `shift+Enter` executes a cell"
   ]
  },
  {
   "cell_type": "markdown",
   "metadata": {},
   "source": [
    "Outline:\n",
    "\n",
    "- [NumPy Foundation](#NumPy-Foundation)\n",
    "- [Pandas](#Pandas)\n",
    "- [Data Structures](#Data-Structures)\n",
    "\n",
    "## Numpy Foundation\n",
    "\n",
    "pandas is built atop NumPy, historically and in the actual library.\n",
    "It's helpful to have a good understanding of some NumPyisms.\n",
    "\n",
    "### ndarray\n",
    "\n",
    "The core of numpy is the `ndarray`, N-dimensional array. These are singly-typed, fixed-length data containers.\n",
    "NumPy also provides many convenient and fast methods implemented on the `ndarray`."
   ]
  },
  {
   "cell_type": "code",
   "execution_count": 1,
   "metadata": {},
   "outputs": [
    {
     "data": {
      "text/plain": [
       "array([1, 2, 3])"
      ]
     },
     "execution_count": 1,
     "metadata": {},
     "output_type": "execute_result"
    }
   ],
   "source": [
    "import numpy as np\n",
    "import pandas as pd\n",
    "\n",
    "x = np.array([1, 2, 3])\n",
    "x"
   ]
  },
  {
   "cell_type": "code",
   "execution_count": 2,
   "metadata": {},
   "outputs": [
    {
     "data": {
      "text/plain": [
       "dtype('int32')"
      ]
     },
     "execution_count": 2,
     "metadata": {},
     "output_type": "execute_result"
    }
   ],
   "source": [
    "x.dtype"
   ]
  },
  {
   "cell_type": "code",
   "execution_count": null,
   "metadata": {},
   "outputs": [],
   "source": [
    "y = np.array([[True, False], [False, True]])\n",
    "y"
   ]
  },
  {
   "cell_type": "code",
   "execution_count": null,
   "metadata": {},
   "outputs": [],
   "source": [
    "y.shape"
   ]
  },
  {
   "cell_type": "markdown",
   "metadata": {},
   "source": [
    "### dtypes\n",
    "\n",
    "Unlike python lists, NumPy arrays care about the type of data stored within.\n",
    "The full list of NumPy dtypes can be found in the [NumPy documentation](http://docs.scipy.org/doc/numpy/user/basics.types.html).\n",
    "\n",
    "![dtypes](http://docs.scipy.org/doc/numpy/_images/dtype-hierarchy.png)\n",
    "\n",
    "We sacrifice the convinience of mixing bools and ints and floats within an array for much better performance.\n",
    "However, an unexpected `dtype` change will probably bite you at some point in the future.\n",
    "\n",
    "The two biggest things to remember are\n",
    "\n",
    "- Missing values (NaN) cast integer or boolean arrays to floats\n",
    "- NumPy arrays only have a single dtype for every element\n",
    "- the object dtype is the fallback\n",
    "\n",
    "You'll want to avoid object dtypes. It's typically slow."
   ]
  },
  {
   "cell_type": "markdown",
   "metadata": {},
   "source": [
    "### Vectorization\n",
    "\n",
    "dtypes and vectorization are part of what make NumPy fast."
   ]
  },
  {
   "cell_type": "code",
   "execution_count": null,
   "metadata": {},
   "outputs": [],
   "source": [
    "x = np.random.randint(0, 10, 10)\n",
    "y = np.random.randint(0, 10, 10)\n",
    "x, y"
   ]
  },
  {
   "cell_type": "markdown",
   "metadata": {},
   "source": [
    "It's also *sometimes* a more convinient way of writing and thinking about things."
   ]
  },
  {
   "cell_type": "code",
   "execution_count": null,
   "metadata": {},
   "outputs": [],
   "source": [
    "[i + j for i, j in zip(x, y)]"
   ]
  },
  {
   "cell_type": "code",
   "execution_count": null,
   "metadata": {},
   "outputs": [],
   "source": [
    "x + y"
   ]
  },
  {
   "cell_type": "markdown",
   "metadata": {},
   "source": [
    "### Broadcasting\n",
    "\n",
    "It's super cool and super useful. The one-line explanation is that when doing elementwise operations, things expand to the \"correct\" shape."
   ]
  },
  {
   "cell_type": "code",
   "execution_count": null,
   "metadata": {},
   "outputs": [],
   "source": [
    "# add a scalar to a 1-d array\n",
    "x = np.arange(5)\n",
    "print('x:  ', x)\n",
    "print('x+1:', x + 1, end='\\n\\n')\n",
    "\n",
    "y = np.random.uniform(size=(2, 5))\n",
    "print('y:  ', y,  sep='\\n')\n",
    "print('y+1:', y + 1, sep='\\n')"
   ]
  },
  {
   "cell_type": "markdown",
   "metadata": {},
   "source": [
    "Since `x` is shaped `(5,)` and `y` is shaped `(2,5)` we can do operations between them."
   ]
  },
  {
   "cell_type": "code",
   "execution_count": null,
   "metadata": {},
   "outputs": [],
   "source": [
    "x * y"
   ]
  },
  {
   "cell_type": "markdown",
   "metadata": {},
   "source": [
    "Without broadcasting we'd have to manually reshape our arrays, which quickly gets annoying."
   ]
  },
  {
   "cell_type": "code",
   "execution_count": null,
   "metadata": {},
   "outputs": [],
   "source": [
    "x.reshape(1, -1).repeat(2, axis=0) * y"
   ]
  },
  {
   "cell_type": "markdown",
   "metadata": {},
   "source": [
    "# Pandas\n",
    "\n",
    "We'll breeze through the basics here, and get onto some interesting applications in a bit. I want to provide the *barest* of intuition so things stick down the road.\n",
    "\n",
    "## Why pandas?\n",
    "\n",
    "NumPy is great. But it lacks a few things that are conducive to doing statisitcal analysis. By building on top of NumPy, pandas provides\n",
    "\n",
    "- labeled arrays\n",
    "- heterogenous data types within a table\n",
    "- \"better\" missing data handling\n",
    "- convenient methods (`groupby`, `rolling`, `resample`)\n",
    "- more data types (Categorical, Datetime)\n",
    "\n",
    "## Data Structures\n",
    "\n",
    "This is the typical starting point for any intro to pandas.\n",
    "We'll follow suit.\n",
    "\n",
    "### The DataFrame\n",
    "\n",
    "Here we have the workhorse data structure for pandas.\n",
    "It's an in-memory table holding your data, and provides a few conviniences over lists of lists or NumPy arrays."
   ]
  },
  {
   "cell_type": "code",
   "execution_count": null,
   "metadata": {
    "collapsed": true
   },
   "outputs": [],
   "source": [
    "import numpy as np\n",
    "import pandas as pd"
   ]
  },
  {
   "cell_type": "code",
   "execution_count": null,
   "metadata": {},
   "outputs": [],
   "source": [
    "# Many ways to construct a DataFrame\n",
    "# We pass a dict of {column name: column values}\n",
    "np.random.seed(42)\n",
    "df = pd.DataFrame({'A': [1, 2, 3], 'B': [True, True, False],\n",
    "                   'C': np.random.randn(3)},\n",
    "                  index=['a', 'b', 'c'])  # also this weird index thing\n",
    "df"
   ]
  },
  {
   "cell_type": "code",
   "execution_count": null,
   "metadata": {
    "scrolled": false
   },
   "outputs": [],
   "source": [
    "from IPython.display import Image\n",
    "\n",
    "Image('figures/dataframe.png')"
   ]
  },
  {
   "cell_type": "markdown",
   "metadata": {},
   "source": [
    "Notice that we can store a column of intergers, a column of booleans, and a column of floats in the same `DataFrame`."
   ]
  },
  {
   "cell_type": "markdown",
   "metadata": {},
   "source": [
    "### Indexing\n",
    "\n",
    "Our first improvement over numpy arrays is labeled indexing. We can select subsets by column, row, or both. Column selection uses the regular python `__getitem__` machinery. Pass in a single column label `'A'` or a list of labels `['A', 'C']` to select subsets of the original `DataFrame`."
   ]
  },
  {
   "cell_type": "code",
   "execution_count": null,
   "metadata": {},
   "outputs": [],
   "source": [
    "# Single column, reduces to a Series\n",
    "df['A']"
   ]
  },
  {
   "cell_type": "code",
   "execution_count": null,
   "metadata": {},
   "outputs": [],
   "source": [
    "cols = ['A', 'C']\n",
    "df[cols]"
   ]
  },
  {
   "cell_type": "markdown",
   "metadata": {},
   "source": [
    "For row-wise selection, use the special `.loc` accessor."
   ]
  },
  {
   "cell_type": "code",
   "execution_count": null,
   "metadata": {},
   "outputs": [],
   "source": [
    "df.loc[['a', 'b']]"
   ]
  },
  {
   "cell_type": "markdown",
   "metadata": {},
   "source": [
    "You can use ranges to select rows or columns."
   ]
  },
  {
   "cell_type": "code",
   "execution_count": null,
   "metadata": {},
   "outputs": [],
   "source": [
    "df.loc['a':'b']"
   ]
  },
  {
   "cell_type": "markdown",
   "metadata": {},
   "source": [
    "Notice that the slice is *inclusive* on both sides,  unlike your typical slicing of a list. Sometimes, you'd rather slice by *position* instead of label. `.iloc` has you covered:"
   ]
  },
  {
   "cell_type": "code",
   "execution_count": null,
   "metadata": {},
   "outputs": [],
   "source": [
    "df.iloc[[0, 1]]"
   ]
  },
  {
   "cell_type": "code",
   "execution_count": null,
   "metadata": {},
   "outputs": [],
   "source": [
    "df.iloc[:2]"
   ]
  },
  {
   "cell_type": "markdown",
   "metadata": {},
   "source": [
    "This follows the usual python slicing rules: closed on the left, open on the right.\n",
    "\n",
    "As I mentioned, you can slice both rows and columns. Use `.loc` for label or `.iloc` for position indexing."
   ]
  },
  {
   "cell_type": "code",
   "execution_count": null,
   "metadata": {},
   "outputs": [],
   "source": [
    "df.loc['a', 'B']"
   ]
  },
  {
   "cell_type": "markdown",
   "metadata": {},
   "source": [
    "Pandas, like NumPy, will reduce dimensions when possible. Select a single column and you get back `Series` (see below). Select a single row and single column, you get a scalar.\n",
    "\n",
    "You can get pretty fancy:"
   ]
  },
  {
   "cell_type": "code",
   "execution_count": null,
   "metadata": {},
   "outputs": [],
   "source": [
    "df.loc['a':'b', ['A', 'C']]"
   ]
  },
  {
   "cell_type": "markdown",
   "metadata": {},
   "source": [
    "#### Summary\n",
    "\n",
    "- Use `[]` for selecting columns\n",
    "- Use `.loc[row_lables, column_labels]` for label-based indexing\n",
    "- Use `.iloc[row_positions, column_positions]` for positional index\n",
    "\n",
    "I've left out boolean and hierarchical indexing, which we'll see later."
   ]
  },
  {
   "cell_type": "markdown",
   "metadata": {},
   "source": [
    "## Series\n",
    "\n",
    "You've already seen some `Series` up above. It's the 1-dimensional analog of the DataFrame. Each column in a `DataFrame` is in some sense a `Series`. You can select a `Series` from a DataFrame in a few ways:"
   ]
  },
  {
   "cell_type": "code",
   "execution_count": null,
   "metadata": {},
   "outputs": [],
   "source": [
    "# __getitem__ like before\n",
    "df['A']"
   ]
  },
  {
   "cell_type": "code",
   "execution_count": null,
   "metadata": {},
   "outputs": [],
   "source": [
    "# .loc, like before\n",
    "df.loc[:, 'A']"
   ]
  },
  {
   "cell_type": "code",
   "execution_count": null,
   "metadata": {},
   "outputs": [],
   "source": [
    "# using `.` attribute lookup\n",
    "df.A"
   ]
  },
  {
   "cell_type": "code",
   "execution_count": null,
   "metadata": {
    "collapsed": true
   },
   "outputs": [],
   "source": [
    "df['mean'] = ['a', 'b', 'c']"
   ]
  },
  {
   "cell_type": "code",
   "execution_count": null,
   "metadata": {},
   "outputs": [],
   "source": [
    "df.mean"
   ]
  },
  {
   "cell_type": "code",
   "execution_count": null,
   "metadata": {},
   "outputs": [],
   "source": [
    "df['mean']"
   ]
  },
  {
   "cell_type": "markdown",
   "metadata": {},
   "source": [
    "You'll have to be careful with the last one. It won't work if you're column name isn't a valid python identifier (say it has a space) or if it conflicts with one of the (many) methods on `DataFrame`. The `.` accessor is extremely convient for interactive use though.\n",
    "\n",
    "You should never *assign* a column with `.` e.g. don't do\n",
    "\n",
    "```python\n",
    "# bad\n",
    "df.A = [1, 2, 3]\n",
    "```\n",
    "\n",
    "It's unclear whether your attaching the list `[1, 2, 3]` as an attribute of `df`, or whether you want it as a column. It's better to just say\n",
    "\n",
    "```python\n",
    "df['A'] = [1, 2, 3]\n",
    "# or\n",
    "df.loc[:, 'A'] = [1, 2, 3]\n",
    "```\n",
    "\n",
    "`Series` share many of the same methods as `DataFrame`s."
   ]
  },
  {
   "cell_type": "markdown",
   "metadata": {},
   "source": [
    "## Index\n",
    "\n",
    "`Index`es are something of a peculiarity to pandas.\n",
    "First off, they are not the kind of indexes you'll find in SQL, which are used to help the engine speed up certain queries.\n",
    "In pandas, `Index`es are about lables. This helps with selection (like we did above) and automatic alignment when performing operations between two `DataFrame`s or `Series`.\n",
    "\n",
    "R does have row labels, but they're nowhere near as powerful (or complicated) as in pandas. You can access the index of a `DataFrame` or `Series` with the `.index` attribute."
   ]
  },
  {
   "cell_type": "code",
   "execution_count": null,
   "metadata": {},
   "outputs": [],
   "source": [
    "df.index"
   ]
  },
  {
   "cell_type": "code",
   "execution_count": null,
   "metadata": {},
   "outputs": [],
   "source": [
    "df.columns"
   ]
  },
  {
   "cell_type": "markdown",
   "metadata": {},
   "source": [
    "There are special kinds of `Index`es that you'll come across. Some of these are\n",
    "\n",
    "- `MultiIndex` for multidimensional (Hierarchical) labels\n",
    "- `DatetimeIndex` for datetimes\n",
    "- `Float64Index` for floats\n",
    "- `CategoricalIndex` for, you guessed it, `Categorical`s\n",
    "\n",
    "We'll talk *a lot* more about indexes. They're a complex topic and can introduce headaches.\n",
    "\n",
    "<blockquote class=\"twitter-tweet\" lang=\"en\"><p lang=\"en\" dir=\"ltr\"><a href=\"https://twitter.com/gjreda\">@gjreda</a> <a href=\"https://twitter.com/treycausey\">@treycausey</a> in some cases row indexes are the best thing since sliced bread, in others they simply get in the way. Hard problem</p>&mdash; Wes McKinney (@wesmckinn) <a href=\"https://twitter.com/wesmckinn/status/547177248768659457\">December 22, 2014</a></blockquote>\n",
    "\n",
    "Pandas, for better or for worse, does usually provide ways around row indexes being obstacles. The problem is knowing *when* they are just getting in the way, which mostly comes by experience. Sorry."
   ]
  },
  {
   "cell_type": "markdown",
   "metadata": {},
   "source": [
    "# Answers\n",
    "\n",
    "1. Does a NumPy array have a single dtype or multiple dtypes?\n",
    "  - NumPy arrays are homogenous: they only have a single dtype (unlike DataFrames).\n",
    "  You can have an array that holds mixed types, e.g. `np.array(['a', 1])`, but the\n",
    "  dtype of that array is `object`, which you probably want to avoid.\n",
    "2. Why is broadcasting useful?\n",
    "  - It lets you perform operations between arrays that are compatable, but not nescessarily identical,\n",
    "  in shape. This makes your code cleaner.\n",
    "3. How do you slice a DataFrame by row label?\n",
    "  - Use `.loc[label]`. For position based use `.iloc[integer]`.\n",
    "4. How do you select a column of a DataFrame?\n",
    "  - Standard `__getitem__`: `df[column_name]`\n",
    "5. Is the Index a column in the DataFrame?\n",
    "  - No. It isn't included in any operations (`mean`, etc). It can be inserted as a regular\n",
    "  column with `df.reset_index()`."
   ]
  }
 ],
 "metadata": {
  "kernelspec": {
   "display_name": "Python 3",
   "language": "python",
   "name": "python3"
  },
  "language_info": {
   "codemirror_mode": {
    "name": "ipython",
    "version": 3
   },
   "file_extension": ".py",
   "mimetype": "text/x-python",
   "name": "python",
   "nbconvert_exporter": "python",
   "pygments_lexer": "ipython3",
   "version": "3.6.1"
  }
 },
 "nbformat": 4,
 "nbformat_minor": 1
}
