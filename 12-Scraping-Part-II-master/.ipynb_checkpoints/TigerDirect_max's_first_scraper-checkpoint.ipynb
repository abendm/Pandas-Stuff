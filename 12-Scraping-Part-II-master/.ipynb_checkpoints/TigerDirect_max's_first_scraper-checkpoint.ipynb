{
 "cells": [
  {
   "cell_type": "code",
   "execution_count": 153,
   "metadata": {
    "collapsed": true
   },
   "outputs": [],
   "source": [
    "import requests\n",
    "from bs4 import BeautifulSoup"
   ]
  },
  {
   "cell_type": "code",
   "execution_count": 154,
   "metadata": {
    "collapsed": true
   },
   "outputs": [],
   "source": [
    "url = 'http://www.tigerdirect.com/applications/category/category_slc.asp?Sort=3&Nav=|c:219|&Recs=30'"
   ]
  },
  {
   "cell_type": "code",
   "execution_count": 155,
   "metadata": {
    "collapsed": true
   },
   "outputs": [],
   "source": [
    "response = requests.get(url)"
   ]
  },
  {
   "cell_type": "code",
   "execution_count": 156,
   "metadata": {
    "collapsed": true
   },
   "outputs": [],
   "source": [
    "soup = BeautifulSoup(response.text, 'html.parser')"
   ]
  },
  {
   "cell_type": "code",
   "execution_count": 157,
   "metadata": {
    "collapsed": true
   },
   "outputs": [],
   "source": [
    "products = soup.find_all('div', {'class': 'product'})"
   ]
  },
  {
   "cell_type": "code",
   "execution_count": 158,
   "metadata": {},
   "outputs": [
    {
     "data": {
      "text/plain": [
       "bs4.element.ResultSet"
      ]
     },
     "execution_count": 158,
     "metadata": {},
     "output_type": "execute_result"
    }
   ],
   "source": [
    "type(products)"
   ]
  },
  {
   "cell_type": "code",
   "execution_count": 159,
   "metadata": {
    "collapsed": true
   },
   "outputs": [],
   "source": [
    "import unicodedata"
   ]
  },
  {
   "cell_type": "code",
   "execution_count": 160,
   "metadata": {
    "collapsed": true
   },
   "outputs": [],
   "source": [
    "prod_names = []\n",
    "items = []\n",
    "models = []\n",
    "ratings = []"
   ]
  },
  {
   "cell_type": "code",
   "execution_count": 161,
   "metadata": {
    "collapsed": true
   },
   "outputs": [],
   "source": [
    "for product in products:\n",
    "    prod_names.append(product.find('h3').find('a').text)\n",
    "    item_and_model = product.find('p', {'class': 'itemModel'}).text\n",
    "    item_and_model = item_and_model.split('|')\n",
    "    items.append(unicodedata.normalize(\"NFKD\", item_and_model[0])) # It will be easier to strip the \"Item#: \" and such after in df.\n",
    "    models.append(unicodedata.normalize(\"NFKD\", item_and_model[1]))\n",
    "    ratings.append(product.find('a', {'class': 'itemRating'}).get('title'))"
   ]
  },
  {
   "cell_type": "code",
   "execution_count": 162,
   "metadata": {},
   "outputs": [
    {
     "name": "stdout",
     "output_type": "stream",
     "text": [
      " Asus TPC Z301M-A2-GR 10.1 2GB LPDDR3L 16G EM (Z301M-A2-GR) Item#: 40809025     Model#: Z301M-A2-GR 1 stars and 1 review\n"
     ]
    }
   ],
   "source": [
    "print(prod_names[2], items[2], models[2], ratings[2])\n"
   ]
  },
  {
   "cell_type": "code",
   "execution_count": 163,
   "metadata": {
    "collapsed": true
   },
   "outputs": [],
   "source": [
    "import pandas as pd\n",
    "datadict = {'Product Name': prod_names, 'Item#': items, 'Model#': models, 'Ratings':ratings}"
   ]
  },
  {
   "cell_type": "code",
   "execution_count": 164,
   "metadata": {},
   "outputs": [
    {
     "data": {
      "text/html": [
       "<div>\n",
       "<style>\n",
       "    .dataframe thead tr:only-child th {\n",
       "        text-align: right;\n",
       "    }\n",
       "\n",
       "    .dataframe thead th {\n",
       "        text-align: left;\n",
       "    }\n",
       "\n",
       "    .dataframe tbody tr th {\n",
       "        vertical-align: top;\n",
       "    }\n",
       "</style>\n",
       "<table border=\"1\" class=\"dataframe\">\n",
       "  <thead>\n",
       "    <tr style=\"text-align: right;\">\n",
       "      <th></th>\n",
       "      <th>Product Name</th>\n",
       "      <th>Item#</th>\n",
       "      <th>Model#</th>\n",
       "      <th>Ratings</th>\n",
       "    </tr>\n",
       "  </thead>\n",
       "  <tbody>\n",
       "    <tr>\n",
       "      <th>0</th>\n",
       "      <td>Asus TBL Z301MF-A2-WH 10.1WUXGA 1920X1200 IP ...</td>\n",
       "      <td>Item#: 40809036</td>\n",
       "      <td>Model#: Z301MF-A2-WH</td>\n",
       "      <td>Be the first to review</td>\n",
       "    </tr>\n",
       "    <tr>\n",
       "      <th>1</th>\n",
       "      <td>Acer One 10 S1003-15NJ 2-in-1 Laptop PC - Int...</td>\n",
       "      <td>Item#: 40897723</td>\n",
       "      <td>Model#: NT.LCQAA.004</td>\n",
       "      <td>4.5 stars and 1 review</td>\n",
       "    </tr>\n",
       "    <tr>\n",
       "      <th>2</th>\n",
       "      <td>Asus TPC Z301M-A2-GR 10.1 2GB LPDDR3L 16G EM ...</td>\n",
       "      <td>Item#: 40809025</td>\n",
       "      <td>Model#: Z301M-A2-GR</td>\n",
       "      <td>1 stars and 1 review</td>\n",
       "    </tr>\n",
       "    <tr>\n",
       "      <th>3</th>\n",
       "      <td>HP x2 10-p010nr Detachable 2-in-1 Laptop PC -...</td>\n",
       "      <td>Item#: 40243694</td>\n",
       "      <td>Model#: X7U39UA#ABA</td>\n",
       "      <td>Be the first to review</td>\n",
       "    </tr>\n",
       "    <tr>\n",
       "      <th>4</th>\n",
       "      <td>Acer Chromebook R 11 C738T 2-in-1 Laptop - In...</td>\n",
       "      <td>Item#: 40925356</td>\n",
       "      <td>Model#: NX.G55AA.010</td>\n",
       "      <td>Be the first to review</td>\n",
       "    </tr>\n",
       "  </tbody>\n",
       "</table>\n",
       "</div>"
      ],
      "text/plain": [
       "                                        Product Name              Item#  \\\n",
       "0   Asus TBL Z301MF-A2-WH 10.1WUXGA 1920X1200 IP ...  Item#: 40809036     \n",
       "1   Acer One 10 S1003-15NJ 2-in-1 Laptop PC - Int...  Item#: 40897723     \n",
       "2   Asus TPC Z301M-A2-GR 10.1 2GB LPDDR3L 16G EM ...  Item#: 40809025     \n",
       "3   HP x2 10-p010nr Detachable 2-in-1 Laptop PC -...  Item#: 40243694     \n",
       "4   Acer Chromebook R 11 C738T 2-in-1 Laptop - In...  Item#: 40925356     \n",
       "\n",
       "                   Model#                 Ratings  \n",
       "0    Model#: Z301MF-A2-WH  Be the first to review  \n",
       "1    Model#: NT.LCQAA.004  4.5 stars and 1 review  \n",
       "2     Model#: Z301M-A2-GR    1 stars and 1 review  \n",
       "3     Model#: X7U39UA#ABA  Be the first to review  \n",
       "4    Model#: NX.G55AA.010  Be the first to review  "
      ]
     },
     "execution_count": 164,
     "metadata": {},
     "output_type": "execute_result"
    }
   ],
   "source": [
    "df = pd.DataFrame(datadict)\n",
    "cols = df.columns\n",
    "cols = ['Product Name', 'Item#', 'Model#', 'Ratings']\n",
    "df = df[cols]\n",
    "df.head()"
   ]
  },
  {
   "cell_type": "code",
   "execution_count": 165,
   "metadata": {
    "collapsed": true
   },
   "outputs": [],
   "source": [
    "url = 'http://www.tigerdirect.com/applications/category/category_slc.asp?Sort=3&Nav=|c:219|&Recs=30'\n",
    "url1 = 'http://www.tigerdirect.com/applications/category/category_slc.asp?page='\n",
    "url2 = '&Nav=%7Cc:219%7C&Sort=3&Recs=30    '    "
   ]
  },
  {
   "cell_type": "markdown",
   "metadata": {},
   "source": [
    "## Scrape All Pages\n",
    "\n",
    "If we follow the next page of reviews, you might notice that the url contains a query that will take us to pages that look like\n",
    "\n",
    "```\n",
    "'https://www.beeradvocate.com/beer/?start=25'\n",
    "```\n",
    "\n",
    "where the number is a continued higher multiple of 25.  The script below takes advantage of this structure and retrieves a few hundred different beer names.  "
   ]
  },
  {
   "cell_type": "code",
   "execution_count": 151,
   "metadata": {},
   "outputs": [
    {
     "data": {
      "text/plain": [
       "{'User-Agent': 'python-requests/2.14.2', 'Accept-Encoding': 'gzip, deflate', 'Accept': '*/*', 'Connection': 'keep-alive'}"
      ]
     },
     "execution_count": 151,
     "metadata": {},
     "output_type": "execute_result"
    }
   ],
   "source": [
    "num = 2\n",
    "link = url1 + str(num) + url2\n",
    "response = requests.get(link)\n",
    "response.request.headers\n",
    "response.headers"
   ]
  },
  {
   "cell_type": "code",
   "execution_count": 167,
   "metadata": {
    "collapsed": true
   },
   "outputs": [],
   "source": [
    "for num in range(2,5):\n",
    "    link = url1 + str(num) + url2\n",
    "    response = requests.get(link)\n",
    "    soup = BeautifulSoup(response.text, 'html.parser')\n",
    "    products = soup.find_all('div', {'class': 'product'})\n",
    "    for product in products:\n",
    "        prod_names.append(product.find('h3').find('a').text)\n",
    "        item_and_model = product.find('p', {'class': 'itemModel'}).text\n",
    "        item_and_model = item_and_model.split('|')\n",
    "        items.append(unicodedata.normalize(\"NFKD\", item_and_model[0])) # It will be easier to strip the \"Item#: \" and such after in df.\n",
    "        models.append(unicodedata.normalize(\"NFKD\", item_and_model[1]))\n",
    "        ratings.append(product.find('a', {'class': 'itemRating'}).get('title'))"
   ]
  },
  {
   "cell_type": "code",
   "execution_count": 168,
   "metadata": {},
   "outputs": [
    {
     "data": {
      "text/plain": [
       "120"
      ]
     },
     "execution_count": 168,
     "metadata": {},
     "output_type": "execute_result"
    }
   ],
   "source": [
    "len(items)"
   ]
  },
  {
   "cell_type": "code",
   "execution_count": 169,
   "metadata": {
    "collapsed": true
   },
   "outputs": [],
   "source": [
    "import pandas as pd\n",
    "datadict = {'Product Name': prod_names, 'Item#': items, 'Model#': models, 'Ratings':ratings}"
   ]
  },
  {
   "cell_type": "code",
   "execution_count": 172,
   "metadata": {},
   "outputs": [
    {
     "data": {
      "text/html": [
       "<div>\n",
       "<style>\n",
       "    .dataframe thead tr:only-child th {\n",
       "        text-align: right;\n",
       "    }\n",
       "\n",
       "    .dataframe thead th {\n",
       "        text-align: left;\n",
       "    }\n",
       "\n",
       "    .dataframe tbody tr th {\n",
       "        vertical-align: top;\n",
       "    }\n",
       "</style>\n",
       "<table border=\"1\" class=\"dataframe\">\n",
       "  <thead>\n",
       "    <tr style=\"text-align: right;\">\n",
       "      <th></th>\n",
       "      <th>Product Name</th>\n",
       "      <th>Item#</th>\n",
       "      <th>Model#</th>\n",
       "      <th>Ratings</th>\n",
       "    </tr>\n",
       "  </thead>\n",
       "  <tbody>\n",
       "    <tr>\n",
       "      <th>80</th>\n",
       "      <td>Lenovo ThinkPad P40 Yoga 20GQ 14 Flip Notebo...</td>\n",
       "      <td>Item#: 13774640</td>\n",
       "      <td>Model#: 20GQ000EUS</td>\n",
       "      <td>Be the first to review</td>\n",
       "    </tr>\n",
       "    <tr>\n",
       "      <th>81</th>\n",
       "      <td>HP EliteBook 840 G4 - Core i5 7300U / 2.6 GHz...</td>\n",
       "      <td>Item#: 40435550</td>\n",
       "      <td>Model#: 1GE43UT#ABA</td>\n",
       "      <td>Be the first to review</td>\n",
       "    </tr>\n",
       "    <tr>\n",
       "      <th>82</th>\n",
       "      <td>HP EliteBook x360 1030 G3 2-in-1 Laptop - Int...</td>\n",
       "      <td>Item#: 41251420</td>\n",
       "      <td>Model#: 4SU66UT#ABA</td>\n",
       "      <td>Be the first to review</td>\n",
       "    </tr>\n",
       "    <tr>\n",
       "      <th>83</th>\n",
       "      <td>Dell Latitude 12 5285 Tablet PC - Intel Core ...</td>\n",
       "      <td>Item#: 40646344</td>\n",
       "      <td>Model#: 61X3P</td>\n",
       "      <td>Be the first to review</td>\n",
       "    </tr>\n",
       "    <tr>\n",
       "      <th>84</th>\n",
       "      <td>Lenovo ThinkPad X380 Yoga 20LH 2-in-1 Laptop ...</td>\n",
       "      <td>Item#: 40986112</td>\n",
       "      <td>Model#: 20LH0011US</td>\n",
       "      <td>Be the first to review</td>\n",
       "    </tr>\n",
       "    <tr>\n",
       "      <th>85</th>\n",
       "      <td>HP ZBook Studio x360 G5 2-in-1 Laptop - Intel...</td>\n",
       "      <td>Item#: 41227076</td>\n",
       "      <td>Model#: 4NL02UT#ABA</td>\n",
       "      <td>Be the first to review</td>\n",
       "    </tr>\n",
       "    <tr>\n",
       "      <th>86</th>\n",
       "      <td>HP EliteBook 1040 G3 - Core i5 6300U / 2.4 GH...</td>\n",
       "      <td>Item#: 40253419</td>\n",
       "      <td>Model#: Z2A37UT#ABA</td>\n",
       "      <td>Be the first to review</td>\n",
       "    </tr>\n",
       "    <tr>\n",
       "      <th>87</th>\n",
       "      <td>Lenovo X1TABLET 3RDGEN W10P I7 8G 256G 3Y (20...</td>\n",
       "      <td>Item#: 41044939</td>\n",
       "      <td>Model#: 20KJ0017US</td>\n",
       "      <td>Be the first to review</td>\n",
       "    </tr>\n",
       "    <tr>\n",
       "      <th>88</th>\n",
       "      <td>Lenovo ThinkPad X1 Yoga 20LD 2-in-1 Laptop - ...</td>\n",
       "      <td>Item#: 40977135</td>\n",
       "      <td>Model#: 20LD001KUS</td>\n",
       "      <td>Be the first to review</td>\n",
       "    </tr>\n",
       "    <tr>\n",
       "      <th>89</th>\n",
       "      <td>Lenovo ThinkPad X1 Yoga 20LF 2-in-1 Laptop PC...</td>\n",
       "      <td>Item#: 40977161</td>\n",
       "      <td>Model#: 20LF000MUS</td>\n",
       "      <td>Be the first to review</td>\n",
       "    </tr>\n",
       "    <tr>\n",
       "      <th>90</th>\n",
       "      <td>HP EliteBook x360 1020 G2 2-in-1 Notebook - 7...</td>\n",
       "      <td>Item#: 40802411</td>\n",
       "      <td>Model#: 2UE44UT#ABA</td>\n",
       "      <td>Be the first to review</td>\n",
       "    </tr>\n",
       "  </tbody>\n",
       "</table>\n",
       "</div>"
      ],
      "text/plain": [
       "                                         Product Name              Item#  \\\n",
       "80   Lenovo ThinkPad P40 Yoga 20GQ 14 Flip Notebo...  Item#: 13774640     \n",
       "81   HP EliteBook 840 G4 - Core i5 7300U / 2.6 GHz...  Item#: 40435550     \n",
       "82   HP EliteBook x360 1030 G3 2-in-1 Laptop - Int...  Item#: 41251420     \n",
       "83   Dell Latitude 12 5285 Tablet PC - Intel Core ...  Item#: 40646344     \n",
       "84   Lenovo ThinkPad X380 Yoga 20LH 2-in-1 Laptop ...  Item#: 40986112     \n",
       "85   HP ZBook Studio x360 G5 2-in-1 Laptop - Intel...  Item#: 41227076     \n",
       "86   HP EliteBook 1040 G3 - Core i5 6300U / 2.4 GH...  Item#: 40253419     \n",
       "87   Lenovo X1TABLET 3RDGEN W10P I7 8G 256G 3Y (20...  Item#: 41044939     \n",
       "88   Lenovo ThinkPad X1 Yoga 20LD 2-in-1 Laptop - ...  Item#: 40977135     \n",
       "89   Lenovo ThinkPad X1 Yoga 20LF 2-in-1 Laptop PC...  Item#: 40977161     \n",
       "90   HP EliteBook x360 1020 G2 2-in-1 Notebook - 7...  Item#: 40802411     \n",
       "\n",
       "                   Model#                 Ratings  \n",
       "80     Model#: 20GQ000EUS  Be the first to review  \n",
       "81    Model#: 1GE43UT#ABA  Be the first to review  \n",
       "82    Model#: 4SU66UT#ABA  Be the first to review  \n",
       "83          Model#: 61X3P  Be the first to review  \n",
       "84     Model#: 20LH0011US  Be the first to review  \n",
       "85    Model#: 4NL02UT#ABA  Be the first to review  \n",
       "86    Model#: Z2A37UT#ABA  Be the first to review  \n",
       "87     Model#: 20KJ0017US  Be the first to review  \n",
       "88     Model#: 20LD001KUS  Be the first to review  \n",
       "89     Model#: 20LF000MUS  Be the first to review  \n",
       "90    Model#: 2UE44UT#ABA  Be the first to review  "
      ]
     },
     "execution_count": 172,
     "metadata": {},
     "output_type": "execute_result"
    }
   ],
   "source": [
    "df = pd.DataFrame(datadict)\n",
    "cols = df.columns\n",
    "cols = ['Product Name', 'Item#', 'Model#', 'Ratings']\n",
    "df = df[cols]\n",
    "df.loc[80:90]"
   ]
  },
  {
   "cell_type": "code",
   "execution_count": null,
   "metadata": {
    "collapsed": true
   },
   "outputs": [],
   "source": []
  },
  {
   "cell_type": "code",
   "execution_count": null,
   "metadata": {
    "collapsed": true
   },
   "outputs": [],
   "source": []
  },
  {
   "cell_type": "code",
   "execution_count": null,
   "metadata": {
    "collapsed": true
   },
   "outputs": [],
   "source": []
  },
  {
   "cell_type": "code",
   "execution_count": null,
   "metadata": {
    "collapsed": true
   },
   "outputs": [],
   "source": []
  },
  {
   "cell_type": "code",
   "execution_count": null,
   "metadata": {
    "collapsed": true
   },
   "outputs": [],
   "source": []
  },
  {
   "cell_type": "code",
   "execution_count": null,
   "metadata": {
    "collapsed": true
   },
   "outputs": [],
   "source": []
  }
 ],
 "metadata": {
  "kernelspec": {
   "display_name": "Python 3",
   "language": "python",
   "name": "python3"
  },
  "language_info": {
   "codemirror_mode": {
    "name": "ipython",
    "version": 3
   },
   "file_extension": ".py",
   "mimetype": "text/x-python",
   "name": "python",
   "nbconvert_exporter": "python",
   "pygments_lexer": "ipython3",
   "version": "3.6.1"
  }
 },
 "nbformat": 4,
 "nbformat_minor": 2
}
