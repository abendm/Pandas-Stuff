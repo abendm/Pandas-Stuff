{
 "cells": [
  {
   "cell_type": "markdown",
   "metadata": {},
   "source": [
    "# Intro to Databases and SQL\n",
    "\n",
    "![](images/sqlite.gif)\n",
    "\n",
    "\n",
    "**GOALS**:\n",
    "\n",
    "- Access and navigate SQL databases with Python\n",
    "- Use basic SQL commands to query a database"
   ]
  },
  {
   "cell_type": "code",
   "execution_count": 1,
   "metadata": {},
   "outputs": [],
   "source": [
    "import sqlite3"
   ]
  },
  {
   "cell_type": "code",
   "execution_count": 2,
   "metadata": {},
   "outputs": [],
   "source": [
    "conn = sqlite3.connect('data/example.db')"
   ]
  },
  {
   "cell_type": "code",
   "execution_count": 3,
   "metadata": {},
   "outputs": [],
   "source": [
    "c = conn.cursor()"
   ]
  },
  {
   "cell_type": "code",
   "execution_count": 4,
   "metadata": {},
   "outputs": [
    {
     "data": {
      "text/plain": [
       "<sqlite3.Cursor at 0x103d48ea0>"
      ]
     },
     "execution_count": 4,
     "metadata": {},
     "output_type": "execute_result"
    }
   ],
   "source": [
    "c.execute('''CREATE TABLE stocks\n",
    "            (date text, trans text, symbol text, qty real, price real)''')"
   ]
  },
  {
   "cell_type": "code",
   "execution_count": 5,
   "metadata": {},
   "outputs": [
    {
     "data": {
      "text/plain": [
       "<sqlite3.Cursor at 0x103d48ea0>"
      ]
     },
     "execution_count": 5,
     "metadata": {},
     "output_type": "execute_result"
    }
   ],
   "source": [
    "# Insert a row of data\n",
    "c.execute(\"INSERT INTO stocks VALUES ('2006-01-05','BUY','RHAT',100,35.14)\")"
   ]
  },
  {
   "cell_type": "code",
   "execution_count": 6,
   "metadata": {},
   "outputs": [],
   "source": [
    "# Save (commit) the changes\n",
    "#conn.commit()"
   ]
  },
  {
   "cell_type": "code",
   "execution_count": 7,
   "metadata": {},
   "outputs": [],
   "source": [
    "# We can also close the connection if we are done with it.\n",
    "# Just be sure any changes have been committed or they will be lost.\n",
    "conn.close()"
   ]
  },
  {
   "cell_type": "markdown",
   "metadata": {},
   "source": [
    "### Problem\n",
    "\n",
    "Create a table that contains the following information:\n",
    "\n",
    "| Author | Title | Year | Price |\n",
    "| -----  | ----- | ----- | ----- |\n",
    "| Donald Knuth | Concrete Mathematics | 1989 | 5.00 |\n",
    "| Isaac Newton | System of the World  |  1687 | 8.50 |\n",
    "| Michel Foucault | Death and the Labyrinth | 1964 | 3.00 |\n"
   ]
  },
  {
   "cell_type": "code",
   "execution_count": 8,
   "metadata": {},
   "outputs": [],
   "source": [
    "conn = sqlite3.connect('data/books.db')"
   ]
  },
  {
   "cell_type": "code",
   "execution_count": 9,
   "metadata": {},
   "outputs": [],
   "source": [
    "cur = conn.cursor()"
   ]
  },
  {
   "cell_type": "code",
   "execution_count": 10,
   "metadata": {},
   "outputs": [],
   "source": [
    "books = '''\n",
    "CREATE TABLE customers (\n",
    "    id integer PRIMARY KEY,\n",
    "    Author text NOT NULL,\n",
    "    Title text NOT NULL,\n",
    "    Year integer,\n",
    "    Price real)'''"
   ]
  },
  {
   "cell_type": "code",
   "execution_count": 11,
   "metadata": {},
   "outputs": [
    {
     "data": {
      "text/plain": [
       "<sqlite3.Cursor at 0x103d48f80>"
      ]
     },
     "execution_count": 11,
     "metadata": {},
     "output_type": "execute_result"
    }
   ],
   "source": [
    "cur.execute(books)"
   ]
  },
  {
   "cell_type": "code",
   "execution_count": 12,
   "metadata": {},
   "outputs": [
    {
     "data": {
      "text/plain": [
       "<sqlite3.Cursor at 0x103d48f80>"
      ]
     },
     "execution_count": 12,
     "metadata": {},
     "output_type": "execute_result"
    }
   ],
   "source": [
    "cur.execute(\"SELECT name FROM sqlite_master WHERE type='table'\")"
   ]
  },
  {
   "cell_type": "code",
   "execution_count": 13,
   "metadata": {},
   "outputs": [
    {
     "name": "stdout",
     "output_type": "stream",
     "text": [
      "[('customers',)]\n"
     ]
    }
   ],
   "source": [
    "print(cur.fetchall())"
   ]
  },
  {
   "cell_type": "code",
   "execution_count": 14,
   "metadata": {},
   "outputs": [],
   "source": [
    "cur.close()\n",
    "conn.close()"
   ]
  },
  {
   "cell_type": "code",
   "execution_count": 15,
   "metadata": {},
   "outputs": [],
   "source": [
    "conn = sqlite3.connect('data/survey.db')"
   ]
  },
  {
   "cell_type": "code",
   "execution_count": 16,
   "metadata": {},
   "outputs": [
    {
     "data": {
      "text/plain": [
       "<sqlite3.Cursor at 0x103dd3030>"
      ]
     },
     "execution_count": 16,
     "metadata": {},
     "output_type": "execute_result"
    }
   ],
   "source": [
    "cur = conn.cursor()\n",
    "cur.execute(\"SELECT Site.lat, Site.long FROM Site;\")"
   ]
  },
  {
   "cell_type": "code",
   "execution_count": 17,
   "metadata": {},
   "outputs": [],
   "source": [
    "results = cur.fetchall()"
   ]
  },
  {
   "cell_type": "code",
   "execution_count": 18,
   "metadata": {},
   "outputs": [
    {
     "name": "stdout",
     "output_type": "stream",
     "text": [
      "(-49.85, -128.57)\n",
      "(-47.15, -126.72)\n",
      "(-48.87, -123.4)\n"
     ]
    }
   ],
   "source": [
    "for r in results:\n",
    "    print(r)"
   ]
  },
  {
   "cell_type": "code",
   "execution_count": 19,
   "metadata": {},
   "outputs": [
    {
     "name": "stdout",
     "output_type": "stream",
     "text": [
      "[('Person',), ('Site',), ('Visited',), ('Survey',)]\n"
     ]
    }
   ],
   "source": [
    "cur.execute(\"SELECT name FROM sqlite_master WHERE type='table'\")\n",
    "print(cur.fetchall())"
   ]
  },
  {
   "cell_type": "code",
   "execution_count": 20,
   "metadata": {},
   "outputs": [],
   "source": [
    "cur.close()\n",
    "conn.close()"
   ]
  },
  {
   "cell_type": "code",
   "execution_count": 21,
   "metadata": {},
   "outputs": [
    {
     "data": {
      "text/plain": [
       "<sqlite3.Cursor at 0x103dd3110>"
      ]
     },
     "execution_count": 21,
     "metadata": {},
     "output_type": "execute_result"
    }
   ],
   "source": [
    "conn = sqlite3.connect('data/survey.db')\n",
    "cur = conn.cursor()\n",
    "cur.execute(\"SELECT family, personal FROM Person;\")"
   ]
  },
  {
   "cell_type": "code",
   "execution_count": 22,
   "metadata": {},
   "outputs": [
    {
     "data": {
      "text/plain": [
       "[('Dyer', 'William'),\n",
       " ('Pabodie', 'Frank'),\n",
       " ('Lake', 'Anderson'),\n",
       " ('Roerich', 'Valentina'),\n",
       " ('Danforth', 'Frank')]"
      ]
     },
     "execution_count": 22,
     "metadata": {},
     "output_type": "execute_result"
    }
   ],
   "source": [
    "cur.fetchall()"
   ]
  },
  {
   "cell_type": "code",
   "execution_count": 23,
   "metadata": {},
   "outputs": [
    {
     "data": {
      "text/plain": [
       "[('William', 'Dyer'),\n",
       " ('Frank', 'Pabodie'),\n",
       " ('Anderson', 'Lake'),\n",
       " ('Valentina', 'Roerich'),\n",
       " ('Frank', 'Danforth')]"
      ]
     },
     "execution_count": 23,
     "metadata": {},
     "output_type": "execute_result"
    }
   ],
   "source": [
    "cur.execute(\"SELECT  personal, family FROM Person;\")\n",
    "cur.fetchall()"
   ]
  },
  {
   "cell_type": "code",
   "execution_count": 24,
   "metadata": {},
   "outputs": [
    {
     "data": {
      "text/plain": [
       "[('dyer', 'dyer', 'dyer'),\n",
       " ('pb', 'pb', 'pb'),\n",
       " ('lake', 'lake', 'lake'),\n",
       " ('roe', 'roe', 'roe'),\n",
       " ('danforth', 'danforth', 'danforth')]"
      ]
     },
     "execution_count": 24,
     "metadata": {},
     "output_type": "execute_result"
    }
   ],
   "source": [
    "cur.execute(\"SELECT id, id, id FROM Person;\")\n",
    "cur.fetchall()"
   ]
  },
  {
   "cell_type": "code",
   "execution_count": 25,
   "metadata": {},
   "outputs": [],
   "source": [
    "cur.execute(\"SELECT  * FROM Person;\")\n",
    "results = cur.fetchall()\n",
    "cur.close()\n",
    "conn.close()"
   ]
  },
  {
   "cell_type": "code",
   "execution_count": 26,
   "metadata": {},
   "outputs": [
    {
     "name": "stdout",
     "output_type": "stream",
     "text": [
      "('dyer', 'William', 'Dyer')\n",
      "('pb', 'Frank', 'Pabodie')\n",
      "('lake', 'Anderson', 'Lake')\n",
      "('roe', 'Valentina', 'Roerich')\n",
      "('danforth', 'Frank', 'Danforth')\n"
     ]
    }
   ],
   "source": [
    "for r in results:\n",
    "    print(r)"
   ]
  },
  {
   "cell_type": "markdown",
   "metadata": {},
   "source": [
    "### Problem\n",
    "\n",
    "1. Write a query that select only the `name` column from the `Site` table."
   ]
  },
  {
   "cell_type": "code",
   "execution_count": null,
   "metadata": {},
   "outputs": [],
   "source": []
  },
  {
   "cell_type": "code",
   "execution_count": null,
   "metadata": {},
   "outputs": [],
   "source": []
  },
  {
   "cell_type": "code",
   "execution_count": null,
   "metadata": {},
   "outputs": [],
   "source": []
  },
  {
   "cell_type": "code",
   "execution_count": null,
   "metadata": {},
   "outputs": [],
   "source": []
  },
  {
   "cell_type": "markdown",
   "metadata": {},
   "source": [
    "### Sort and Remove Duplicates"
   ]
  },
  {
   "cell_type": "code",
   "execution_count": 31,
   "metadata": {},
   "outputs": [],
   "source": [
    "conn = sqlite3.connect('data/survey.db')\n",
    "cur = conn.cursor()"
   ]
  },
  {
   "cell_type": "code",
   "execution_count": 32,
   "metadata": {},
   "outputs": [
    {
     "data": {
      "text/plain": [
       "<sqlite3.Cursor at 0x103dd35e0>"
      ]
     },
     "execution_count": 32,
     "metadata": {},
     "output_type": "execute_result"
    }
   ],
   "source": [
    "cur.execute(\"SELECT quant FROM Survey;\")"
   ]
  },
  {
   "cell_type": "code",
   "execution_count": 33,
   "metadata": {},
   "outputs": [
    {
     "data": {
      "text/plain": [
       "[('rad',),\n",
       " ('sal',),\n",
       " ('rad',),\n",
       " ('sal',),\n",
       " ('rad',),\n",
       " ('sal',),\n",
       " ('temp',),\n",
       " ('rad',),\n",
       " ('sal',),\n",
       " ('temp',),\n",
       " ('rad',),\n",
       " ('temp',),\n",
       " ('sal',),\n",
       " ('rad',),\n",
       " ('sal',),\n",
       " ('temp',),\n",
       " ('sal',),\n",
       " ('rad',),\n",
       " ('sal',),\n",
       " ('sal',),\n",
       " ('rad',)]"
      ]
     },
     "execution_count": 33,
     "metadata": {},
     "output_type": "execute_result"
    }
   ],
   "source": [
    "cur.fetchall()"
   ]
  },
  {
   "cell_type": "code",
   "execution_count": 34,
   "metadata": {},
   "outputs": [
    {
     "data": {
      "text/plain": [
       "<sqlite3.Cursor at 0x103dd35e0>"
      ]
     },
     "execution_count": 34,
     "metadata": {},
     "output_type": "execute_result"
    }
   ],
   "source": [
    "cur.execute(\"SELECT DISTINCT quant FROM Survey;\")"
   ]
  },
  {
   "cell_type": "code",
   "execution_count": 35,
   "metadata": {},
   "outputs": [
    {
     "data": {
      "text/plain": [
       "[('rad',), ('sal',), ('temp',)]"
      ]
     },
     "execution_count": 35,
     "metadata": {},
     "output_type": "execute_result"
    }
   ],
   "source": [
    "cur.fetchall()"
   ]
  },
  {
   "cell_type": "code",
   "execution_count": 36,
   "metadata": {},
   "outputs": [
    {
     "data": {
      "text/plain": [
       "[(619, 'rad'),\n",
       " (619, 'sal'),\n",
       " (622, 'rad'),\n",
       " (622, 'sal'),\n",
       " (734, 'rad'),\n",
       " (734, 'sal'),\n",
       " (734, 'temp'),\n",
       " (735, 'rad'),\n",
       " (735, 'sal'),\n",
       " (735, 'temp'),\n",
       " (751, 'rad'),\n",
       " (751, 'temp'),\n",
       " (751, 'sal'),\n",
       " (752, 'rad'),\n",
       " (752, 'sal'),\n",
       " (752, 'temp'),\n",
       " (837, 'rad'),\n",
       " (837, 'sal'),\n",
       " (844, 'rad')]"
      ]
     },
     "execution_count": 36,
     "metadata": {},
     "output_type": "execute_result"
    }
   ],
   "source": [
    "cur.execute(\"SELECT DISTINCT taken, quant FROM Survey;\")\n",
    "cur.fetchall()"
   ]
  },
  {
   "cell_type": "code",
   "execution_count": 37,
   "metadata": {},
   "outputs": [
    {
     "data": {
      "text/plain": [
       "[('danforth', 'Frank', 'Danforth'),\n",
       " ('dyer', 'William', 'Dyer'),\n",
       " ('lake', 'Anderson', 'Lake'),\n",
       " ('pb', 'Frank', 'Pabodie'),\n",
       " ('roe', 'Valentina', 'Roerich')]"
      ]
     },
     "execution_count": 37,
     "metadata": {},
     "output_type": "execute_result"
    }
   ],
   "source": [
    "cur.execute(\"SELECT * FROM Person ORDER BY id;\")\n",
    "cur.fetchall()"
   ]
  },
  {
   "cell_type": "code",
   "execution_count": 38,
   "metadata": {},
   "outputs": [
    {
     "data": {
      "text/plain": [
       "[('roe', 'Valentina', 'Roerich'),\n",
       " ('pb', 'Frank', 'Pabodie'),\n",
       " ('lake', 'Anderson', 'Lake'),\n",
       " ('dyer', 'William', 'Dyer'),\n",
       " ('danforth', 'Frank', 'Danforth')]"
      ]
     },
     "execution_count": 38,
     "metadata": {},
     "output_type": "execute_result"
    }
   ],
   "source": [
    "cur.execute(\"SELECT * FROM Person ORDER BY id DESC;\")\n",
    "cur.fetchall()"
   ]
  },
  {
   "cell_type": "code",
   "execution_count": 39,
   "metadata": {},
   "outputs": [
    {
     "data": {
      "text/plain": [
       "[(619, 'dyer', 'rad'),\n",
       " (619, 'dyer', 'sal'),\n",
       " (622, 'dyer', 'rad'),\n",
       " (622, 'dyer', 'sal'),\n",
       " (734, 'pb', 'rad'),\n",
       " (734, 'pb', 'temp'),\n",
       " (734, 'lake', 'sal'),\n",
       " (735, 'pb', 'rad'),\n",
       " (735, None, 'sal'),\n",
       " (735, None, 'temp'),\n",
       " (751, 'pb', 'rad'),\n",
       " (751, 'pb', 'temp'),\n",
       " (751, 'lake', 'sal'),\n",
       " (752, 'roe', 'sal'),\n",
       " (752, 'lake', 'rad'),\n",
       " (752, 'lake', 'sal'),\n",
       " (752, 'lake', 'temp'),\n",
       " (837, 'roe', 'sal'),\n",
       " (837, 'lake', 'rad'),\n",
       " (837, 'lake', 'sal'),\n",
       " (844, 'roe', 'rad')]"
      ]
     },
     "execution_count": 39,
     "metadata": {},
     "output_type": "execute_result"
    }
   ],
   "source": [
    "cur.execute(\"SELECT taken, person, quant FROM Survey ORDER BY taken ASC, person DESC;\")\n",
    "cur.fetchall()"
   ]
  },
  {
   "cell_type": "markdown",
   "metadata": {},
   "source": [
    "1. Write a query that selects distinct dates from the `Visited` table.\n",
    "2. Write a query that displays the full names of the scientists in the `Person` table, ordered by family name."
   ]
  },
  {
   "cell_type": "code",
   "execution_count": null,
   "metadata": {},
   "outputs": [],
   "source": []
  },
  {
   "cell_type": "code",
   "execution_count": null,
   "metadata": {},
   "outputs": [],
   "source": []
  },
  {
   "cell_type": "code",
   "execution_count": null,
   "metadata": {},
   "outputs": [],
   "source": []
  },
  {
   "cell_type": "code",
   "execution_count": null,
   "metadata": {},
   "outputs": [],
   "source": []
  },
  {
   "cell_type": "code",
   "execution_count": null,
   "metadata": {},
   "outputs": [],
   "source": []
  },
  {
   "cell_type": "markdown",
   "metadata": {},
   "source": [
    "### Filtering"
   ]
  },
  {
   "cell_type": "code",
   "execution_count": 40,
   "metadata": {},
   "outputs": [
    {
     "data": {
      "text/plain": [
       "[('619', 'DR-1', '1927-02-08'),\n",
       " ('622', 'DR-1', '1927-02-10'),\n",
       " ('844', 'DR-1', '1932-03-22')]"
      ]
     },
     "execution_count": 40,
     "metadata": {},
     "output_type": "execute_result"
    }
   ],
   "source": [
    "cur.execute(\"SELECT * FROM Visited WHERE site='DR-1';\")\n",
    "cur.fetchall()"
   ]
  },
  {
   "cell_type": "code",
   "execution_count": 41,
   "metadata": {},
   "outputs": [
    {
     "data": {
      "text/plain": [
       "[('619', 'DR-1', '1927-02-08'), ('622', 'DR-1', '1927-02-10')]"
      ]
     },
     "execution_count": 41,
     "metadata": {},
     "output_type": "execute_result"
    }
   ],
   "source": [
    "cur.execute(\"SELECT * FROM Visited WHERE site='DR-1' AND dated<'1930-01-01';\")\n",
    "cur.fetchall()"
   ]
  },
  {
   "cell_type": "code",
   "execution_count": 42,
   "metadata": {},
   "outputs": [
    {
     "data": {
      "text/plain": [
       "[(734, 'lake', 'sal', 0.05),\n",
       " (751, 'lake', 'sal', 0.1),\n",
       " (752, 'lake', 'rad', 2.19),\n",
       " (752, 'lake', 'sal', 0.09),\n",
       " (752, 'lake', 'temp', -16.0),\n",
       " (752, 'roe', 'sal', 41.6),\n",
       " (837, 'lake', 'rad', 1.46),\n",
       " (837, 'lake', 'sal', 0.21),\n",
       " (837, 'roe', 'sal', 22.5),\n",
       " (844, 'roe', 'rad', 11.25)]"
      ]
     },
     "execution_count": 42,
     "metadata": {},
     "output_type": "execute_result"
    }
   ],
   "source": [
    "cur.execute(\"SELECT * FROM Survey WHERE person='lake' OR person='roe';\")\n",
    "cur.fetchall()"
   ]
  },
  {
   "cell_type": "code",
   "execution_count": 43,
   "metadata": {},
   "outputs": [
    {
     "data": {
      "text/plain": [
       "[(734, 'lake', 'sal', 0.05),\n",
       " (751, 'lake', 'sal', 0.1),\n",
       " (752, 'lake', 'rad', 2.19),\n",
       " (752, 'lake', 'sal', 0.09),\n",
       " (752, 'lake', 'temp', -16.0),\n",
       " (752, 'roe', 'sal', 41.6),\n",
       " (837, 'lake', 'rad', 1.46),\n",
       " (837, 'lake', 'sal', 0.21),\n",
       " (837, 'roe', 'sal', 22.5),\n",
       " (844, 'roe', 'rad', 11.25)]"
      ]
     },
     "execution_count": 43,
     "metadata": {},
     "output_type": "execute_result"
    }
   ],
   "source": [
    "cur.execute(\"SELECT * FROM Survey WHERE person IN ('lake', 'roe');\")\n",
    "cur.fetchall()"
   ]
  },
  {
   "cell_type": "code",
   "execution_count": 44,
   "metadata": {},
   "outputs": [
    {
     "data": {
      "text/plain": [
       "[('619', 'DR-1', '1927-02-08'),\n",
       " ('622', 'DR-1', '1927-02-10'),\n",
       " ('734', 'DR-3', '1930-01-07'),\n",
       " ('735', 'DR-3', '1930-01-12'),\n",
       " ('751', 'DR-3', '1930-02-26'),\n",
       " ('752', 'DR-3', None),\n",
       " ('844', 'DR-1', '1932-03-22')]"
      ]
     },
     "execution_count": 44,
     "metadata": {},
     "output_type": "execute_result"
    }
   ],
   "source": [
    "cur.execute(\"SELECT * FROM Visited WHERE site LIKE 'DR%';\")\n",
    "cur.fetchall()"
   ]
  },
  {
   "cell_type": "markdown",
   "metadata": {},
   "source": [
    "1. Suppose we want to select all sites that lie more than 42 degrees from the poles. Our first query is:\n",
    "```sql\n",
    "SELECT * FROM Site WHERE (lat > -48) OR (lat < 48);\n",
    "```\n",
    "Explain why this is wrong, and rewrite the query so that it is correct.\n",
    "\n",
    "2. \n",
    "Normalized salinity readings are supposed to be between 0.0 and 1.0. Write a query that selects all records from Survey with salinity values outside this range."
   ]
  },
  {
   "cell_type": "code",
   "execution_count": null,
   "metadata": {},
   "outputs": [],
   "source": []
  },
  {
   "cell_type": "code",
   "execution_count": null,
   "metadata": {},
   "outputs": [],
   "source": []
  },
  {
   "cell_type": "code",
   "execution_count": null,
   "metadata": {},
   "outputs": [],
   "source": []
  },
  {
   "cell_type": "code",
   "execution_count": null,
   "metadata": {},
   "outputs": [],
   "source": []
  },
  {
   "cell_type": "code",
   "execution_count": null,
   "metadata": {},
   "outputs": [],
   "source": []
  },
  {
   "cell_type": "markdown",
   "metadata": {},
   "source": [
    "![](images/exploits_of_a_mom.png)"
   ]
  },
  {
   "cell_type": "code",
   "execution_count": 27,
   "metadata": {},
   "outputs": [
    {
     "data": {
      "text/plain": [
       "<sqlite3.Cursor at 0x103dd3260>"
      ]
     },
     "execution_count": 27,
     "metadata": {},
     "output_type": "execute_result"
    }
   ],
   "source": [
    "# Never do this -- insecure!\n",
    "symbol = 'RHAT'\n",
    "conn = sqlite3.connect('data/example.db')\n",
    "c = conn.cursor()\n",
    "c.execute(\"SELECT * FROM stocks WHERE symbol = '%s'\" % symbol)"
   ]
  },
  {
   "cell_type": "code",
   "execution_count": 28,
   "metadata": {},
   "outputs": [],
   "source": [
    "conn.close()"
   ]
  },
  {
   "cell_type": "code",
   "execution_count": 29,
   "metadata": {},
   "outputs": [
    {
     "data": {
      "text/plain": [
       "<sqlite3.Cursor at 0x103dd3490>"
      ]
     },
     "execution_count": 29,
     "metadata": {},
     "output_type": "execute_result"
    }
   ],
   "source": [
    "conn = sqlite3.connect('data/example.db')\n",
    "c = conn.cursor()\n",
    "# Larger example that inserts many records at a time\n",
    "purchases = [('2006-03-28', 'BUY', 'IBM', 1000, 45.00),\n",
    "             ('2006-04-05', 'BUY', 'MSFT', 1000, 72.00),\n",
    "             ('2006-04-06', 'SELL', 'IBM', 500, 53.00),\n",
    "            ]\n",
    "c.executemany('INSERT INTO stocks VALUES (?,?,?,?,?)', purchases)"
   ]
  },
  {
   "cell_type": "code",
   "execution_count": 30,
   "metadata": {},
   "outputs": [],
   "source": [
    "conn.close()"
   ]
  },
  {
   "cell_type": "code",
   "execution_count": null,
   "metadata": {},
   "outputs": [],
   "source": []
  }
 ],
 "metadata": {
  "kernelspec": {
   "display_name": "Python 3",
   "language": "python",
   "name": "python3"
  },
  "language_info": {
   "codemirror_mode": {
    "name": "ipython",
    "version": 3
   },
   "file_extension": ".py",
   "mimetype": "text/x-python",
   "name": "python",
   "nbconvert_exporter": "python",
   "pygments_lexer": "ipython3",
   "version": "3.6.4"
  }
 },
 "nbformat": 4,
 "nbformat_minor": 2
}
