{
 "cells": [
  {
   "cell_type": "markdown",
   "metadata": {},
   "source": [
    "# Beer\n",
    "\n",
    "I like beer...a lot.  This project has as its goal to build a dataset containing information about a variety of different beers, scraped from `beeradvocates.com`.  This site has a few hundred recent reviews of different beer.  Once we acquire the data, we will try to use it in building a beer recommendation application.\n",
    "\n",
    "\n",
    "![](images/beer.png)"
   ]
  },
  {
   "cell_type": "code",
   "execution_count": 1,
   "metadata": {},
   "outputs": [],
   "source": [
    "import requests\n",
    "from bs4 import BeautifulSoup"
   ]
  },
  {
   "cell_type": "code",
   "execution_count": 2,
   "metadata": {},
   "outputs": [],
   "source": [
    "url = 'https://www.beeradvocate.com/beer/'"
   ]
  },
  {
   "cell_type": "code",
   "execution_count": 3,
   "metadata": {},
   "outputs": [],
   "source": [
    "response = requests.get(url)"
   ]
  },
  {
   "cell_type": "code",
   "execution_count": 4,
   "metadata": {},
   "outputs": [],
   "source": [
    "soup = BeautifulSoup(response.text, 'html.parser')"
   ]
  },
  {
   "cell_type": "markdown",
   "metadata": {},
   "source": [
    "## Strategy\n",
    "\n",
    "My goal is to build a dataset that has the features containing the typical information presented in these reviews.  For example, the first entry upon retrieval for me was \n",
    "\n",
    "**TITLE:** Bush League Sour Ale\n",
    "\n",
    "**COMPANY**: 4th Meridian Brewing Co.\n",
    "\n",
    "**STYLE**: American Wild Ale\n",
    "\n",
    "**ABV:** 4.50%\n",
    "\n",
    "**SCORE**: 3.74\n",
    "\n",
    "**LOOK**: 3.5\n",
    "\n",
    "**SMELL**: 3.75\n",
    "\n",
    "**TASTE**: 3.75\n",
    "\n",
    "**FEEL**: 3.75\n",
    "\n",
    "If we can get this information for each entry, maybe we'll be off to a good start.  Because there is the structure to each, but on an early glance to the page it seems that there will be problems if we try to get a list of each item instead of grabbing each review and slicing each from there.  To find the limits of this container we can simply search in the inspector.  A quick look shows certain `div` tags bound the postings.\n",
    "\n",
    "```html\n",
    "<div id = 'rating_fullview_container'>\n",
    "    ```\n",
    "    \n",
    "Here, we will see the HTML code resulting from the scrape.  Next, we can pop it into an `HTML` magic cell and see that we have what we want.\n",
    "\n"
   ]
  },
  {
   "cell_type": "code",
   "execution_count": 5,
   "metadata": {},
   "outputs": [
    {
     "data": {
      "text/plain": [
       "<div ba-user=\"621888\" class=\"user-comment\" id=\"rating_fullview_container\"><div id=\"rating_fullview_user\"><div style=\"padding:3px; background:#E8E8E8;\"><a class=\"username\" href=\"/community/members/emperorbevis.621888/\"><img alt=\"Photo of EmperorBevis\" border=\"0\" height=\"48\" src=\"https://cdn.beeradvocate.com/data/avatars/m/621/621888.jpg?1352062679\" width=\"48\"/></a></div></div><div id=\"rating_fullview_content_2\"><a href=\"/beer/profile/139/316041/\"><img alt=\"Steam Beer\" border=\"0\" height=\"90\" src=\"https://cdn.beeradvocate.com/im/placeholder-beer.jpg\" style=\"float:right; margin:0px 0px 10px 10px;\" width=\"45\"/></a><h6><a href=\"/beer/profile/139/316041/\">Steam Beer</a></h6><br/><a href=\"/beer/profile/139/\">Shipyard Brewing Company</a><br/><a href=\"/beer/style/132/\">California Common / Steam Beer</a> / 4.10% ABV<br/><br/><span class=\"BAscore_norm\">3.32</span><span class=\"rAvg_norm\">/5</span><span style=\"font-size:1.5em;font-weight:700;\"></span>  rDev <span style=\"color:#006600;\">+2.2%</span> | Score: 3.25<br/><span class=\"muted\">look: 3.75 | smell: 3.5 | taste: 3.25 | feel: 3 |  overall: 3.25</span><br/><br/><div class=\"comment\">Bottled and alson picked up from B and M's <br>\n",
       "pours a rye colured body with good thick foaming lasting white head<br>\n",
       "aroma is barley time I had some time alone<br>\n",
       "semolina &amp; dry flake flavour</br></br></br></div><br/><i class=\"fas fa-align-left\"></i> <span class=\"muted\">183 characters</span><br/><br/><div><span class=\"muted\"><a class=\"username\" href=\"/community/members/emperorbevis.621888/\">EmperorBevis</a>, <a href=\"/beer/profile/139/316041/?ba=EmperorBevis#review\">A moment ago</a></span></div></div></div>"
      ]
     },
     "execution_count": 5,
     "metadata": {},
     "output_type": "execute_result"
    }
   ],
   "source": [
    "soup.find('div', {'id': 'rating_fullview_container'})"
   ]
  },
  {
   "cell_type": "code",
   "execution_count": 6,
   "metadata": {},
   "outputs": [
    {
     "data": {
      "text/html": [
       "<div ba-user=\"168458\" class=\"user-comment\" id=\"rating_fullview_container\"><div id=\"rating_fullview_user\"><div style=\"padding:3px; background:#E8E8E8;\"><a class=\"username\" href=\"/community/members/biboergosum.168458/\"><img alt=\"Photo of biboergosum\" border=\"0\" height=\"48\" src=\"https://cdn.beeradvocate.com/data/avatars/m/168/168458.jpg?1330550786\" width=\"48\"/></a></div></div><div id=\"rating_fullview_content_2\"><a href=\"/beer/profile/47607/366919/\"><img alt=\"Bush League Sour Ale\" border=\"0\" height=\"90\" src=\"https://cdn.beeradvocate.com/im/placeholder-beer.jpg\" style=\"float:right; margin:0px 0px 10px 10px;\" width=\"45\"/></a><h6><a href=\"/beer/profile/47607/366919/\">Bush League Sour Ale</a></h6><br><a href=\"/beer/profile/47607/\">4th Meridian Brewing Co.</a><br><a href=\"/beer/style/171/\">American Wild Ale</a> / 4.50% ABV<br><br><span class=\"BAscore_norm\">3.74</span><span class=\"rAvg_norm\">/5</span><span style=\"font-size:1.5em;font-weight:700;\"></span>  <span class=\"muted\">rDev 0%</span> | Score: 3.74<br><span class=\"muted\">look: 3.5 | smell: 3.75 | taste: 3.75 | feel: 3.75 |  overall: 3.75</span><br><br><div class=\"comment\">8oz glass at Beer Revolution YEG Oliver Square. No idea what kind of sour this is supposed to be.  More later.<br/>\n",
       "<br/>\n",
       "This beer appears a hazy, pale golden straw colour, with one solid finger of puffy, finely foamy, and mildly creamy off-white head, which leaves a few instances of randomly streaky lace around the glass as it quickly dissipates. <br/>\n",
       "<br/>\n",
       "It smells of grainy and crackery cereal malt, some mixed domestic citrus peel, a tame earthy yeastiness, and plain leafy, herbal, and floral green hop bitters. The taste is gritty and grainy pale malt, some muddled melon and citrus fruit bowl notes, faintly tart yeast, and more understated leafy, musty, and dead grassy hoppiness. <br/>\n",
       "<br/>\n",
       "The carbonation is fairly active in its palate-tickling frothiness, the body a so-so medium weight, and generally smooth, with nothing really getting uppity, as such, here.  It finishes trending dry, the lingering fruitiness exhibiting its sour tendencies. <br/>\n",
       "<br/>\n",
       "Overall - this sure is a refreshing and enjoyable version of the style, with the fruity character contributing in large part.  Nothing bush league about this offering, unless you are the kind of sour snob who insists on losing tooth enamel.</div><br><i class=\"fas fa-align-left\"></i> <span class=\"muted\">1,176 characters</span><br><br><div><span class=\"muted\"><a class=\"username\" href=\"/community/members/biboergosum.168458/\">biboergosum</a>, <a href=\"/beer/profile/47607/366919/?ba=biboergosum#review\">A moment ago</a></span></div></br></br></br></br></br></br></br></br></br></br></div></div>"
      ],
      "text/plain": [
       "<IPython.core.display.HTML object>"
      ]
     },
     "metadata": {},
     "output_type": "display_data"
    }
   ],
   "source": [
    "%%HTML\n",
    "<div ba-user=\"168458\" class=\"user-comment\" id=\"rating_fullview_container\"><div id=\"rating_fullview_user\"><div style=\"padding:3px; background:#E8E8E8;\"><a class=\"username\" href=\"/community/members/biboergosum.168458/\"><img alt=\"Photo of biboergosum\" border=\"0\" height=\"48\" src=\"https://cdn.beeradvocate.com/data/avatars/m/168/168458.jpg?1330550786\" width=\"48\"/></a></div></div><div id=\"rating_fullview_content_2\"><a href=\"/beer/profile/47607/366919/\"><img alt=\"Bush League Sour Ale\" border=\"0\" height=\"90\" src=\"https://cdn.beeradvocate.com/im/placeholder-beer.jpg\" style=\"float:right; margin:0px 0px 10px 10px;\" width=\"45\"/></a><h6><a href=\"/beer/profile/47607/366919/\">Bush League Sour Ale</a></h6><br><a href=\"/beer/profile/47607/\">4th Meridian Brewing Co.</a><br><a href=\"/beer/style/171/\">American Wild Ale</a> / 4.50% ABV<br><br><span class=\"BAscore_norm\">3.74</span><span class=\"rAvg_norm\">/5</span><span style=\"font-size:1.5em;font-weight:700;\"></span>  <span class=\"muted\">rDev 0%</span> | Score: 3.74<br><span class=\"muted\">look: 3.5 | smell: 3.75 | taste: 3.75 | feel: 3.75 |  overall: 3.75</span><br><br><div class=\"comment\">8oz glass at Beer Revolution YEG Oliver Square. No idea what kind of sour this is supposed to be.  More later.<br/>\n",
    "<br/>\n",
    "This beer appears a hazy, pale golden straw colour, with one solid finger of puffy, finely foamy, and mildly creamy off-white head, which leaves a few instances of randomly streaky lace around the glass as it quickly dissipates. <br/>\n",
    "<br/>\n",
    "It smells of grainy and crackery cereal malt, some mixed domestic citrus peel, a tame earthy yeastiness, and plain leafy, herbal, and floral green hop bitters. The taste is gritty and grainy pale malt, some muddled melon and citrus fruit bowl notes, faintly tart yeast, and more understated leafy, musty, and dead grassy hoppiness. <br/>\n",
    "<br/>\n",
    "The carbonation is fairly active in its palate-tickling frothiness, the body a so-so medium weight, and generally smooth, with nothing really getting uppity, as such, here.  It finishes trending dry, the lingering fruitiness exhibiting its sour tendencies. <br/>\n",
    "<br/>\n",
    "Overall - this sure is a refreshing and enjoyable version of the style, with the fruity character contributing in large part.  Nothing bush league about this offering, unless you are the kind of sour snob who insists on losing tooth enamel.</div><br><i class=\"fas fa-align-left\"></i> <span class=\"muted\">1,176 characters</span><br><br><div><span class=\"muted\"><a class=\"username\" href=\"/community/members/biboergosum.168458/\">biboergosum</a>, <a href=\"/beer/profile/47607/366919/?ba=biboergosum#review\">A moment ago</a></span></div></br></br></br></br></br></br></br></br></br></br></div></div>\n"
   ]
  },
  {
   "cell_type": "code",
   "execution_count": 7,
   "metadata": {},
   "outputs": [],
   "source": [
    "posts = soup.find_all('div', {'id': 'rating_fullview_container'})"
   ]
  },
  {
   "cell_type": "code",
   "execution_count": 27,
   "metadata": {},
   "outputs": [
    {
     "ename": "AttributeError",
     "evalue": "ResultSet object has no attribute 'find_all'. You're probably treating a list of items like a single item. Did you call find_all() when you meant to call find()?",
     "output_type": "error",
     "traceback": [
      "\u001b[1;31m---------------------------------------------------------------------------\u001b[0m",
      "\u001b[1;31mAttributeError\u001b[0m                            Traceback (most recent call last)",
      "\u001b[1;32m<ipython-input-27-c618b2c8d75d>\u001b[0m in \u001b[0;36m<module>\u001b[1;34m()\u001b[0m\n\u001b[1;32m----> 1\u001b[1;33m \u001b[0msoup\u001b[0m\u001b[1;33m.\u001b[0m\u001b[0mfind_all\u001b[0m\u001b[1;33m(\u001b[0m\u001b[1;34m'div'\u001b[0m\u001b[1;33m,\u001b[0m \u001b[1;33m{\u001b[0m\u001b[1;34m'id'\u001b[0m\u001b[1;33m:\u001b[0m \u001b[1;34m'rating_fullview_container'\u001b[0m\u001b[1;33m}\u001b[0m\u001b[1;33m)\u001b[0m\u001b[1;33m.\u001b[0m\u001b[0mfind_all\u001b[0m\u001b[1;33m(\u001b[0m\u001b[1;34m'a'\u001b[0m\u001b[1;33m)\u001b[0m\u001b[1;33m\u001b[0m\u001b[0m\n\u001b[0m",
      "\u001b[1;32mC:\\ProgramData\\Anaconda3\\lib\\site-packages\\bs4\\element.py\u001b[0m in \u001b[0;36m__getattr__\u001b[1;34m(self, key)\u001b[0m\n\u001b[0;32m   1805\u001b[0m     \u001b[1;32mdef\u001b[0m \u001b[0m__getattr__\u001b[0m\u001b[1;33m(\u001b[0m\u001b[0mself\u001b[0m\u001b[1;33m,\u001b[0m \u001b[0mkey\u001b[0m\u001b[1;33m)\u001b[0m\u001b[1;33m:\u001b[0m\u001b[1;33m\u001b[0m\u001b[0m\n\u001b[0;32m   1806\u001b[0m         raise AttributeError(\n\u001b[1;32m-> 1807\u001b[1;33m             \u001b[1;34m\"ResultSet object has no attribute '%s'. You're probably treating a list of items like a single item. Did you call find_all() when you meant to call find()?\"\u001b[0m \u001b[1;33m%\u001b[0m \u001b[0mkey\u001b[0m\u001b[1;33m\u001b[0m\u001b[0m\n\u001b[0m\u001b[0;32m   1808\u001b[0m         )\n",
      "\u001b[1;31mAttributeError\u001b[0m: ResultSet object has no attribute 'find_all'. You're probably treating a list of items like a single item. Did you call find_all() when you meant to call find()?"
     ]
    }
   ],
   "source": [
    "soup.find_all('div', {'id': 'rating_fullview_container'}).find_all('a')"
   ]
  },
  {
   "cell_type": "code",
   "execution_count": 10,
   "metadata": {},
   "outputs": [
    {
     "name": "stdout",
     "output_type": "stream",
     "text": [
      "Steam Beer\n",
      "Stolen Canoe Pale Ale\n",
      "Premium Lager\n",
      "Brainstorm\n",
      "Grande Cuvée Porter Baltique - Fûts De Bourbon Et Brandy\n",
      "Holy Toledo Pilsener\n",
      "London Porter\n",
      "Kulture Clash\n",
      "Wolters Pilsener\n",
      "Genesee Brew House Dry Hopped Mosaic Cream Ale\n",
      "All Nelson Everything\n",
      "Shark Attack\n",
      "Beatification\n",
      "Native Texan\n",
      "Millennial Hipster\n",
      "420 Extra Pale Ale\n",
      "Dr. Caligari\n",
      "NEU BLK\n",
      "Samuel Adams Black Lager\n",
      "Angry Chair / Horus - Burkitshi\n",
      "Fuller's London Porter\n",
      "Permutation Series #58: Double IPA w/ Citra and Galaxy\n",
      "Wolters Weizen\n",
      "Johann Buys A Broat\n",
      "Soursmith Apricot\n"
     ]
    }
   ],
   "source": [
    "for ent in posts:\n",
    "    print(ent.h6.text)"
   ]
  },
  {
   "cell_type": "code",
   "execution_count": 27,
   "metadata": {},
   "outputs": [],
   "source": [
    "url = 'https://www.beeradvocate.com/beer/'"
   ]
  },
  {
   "cell_type": "markdown",
   "metadata": {},
   "source": [
    "## Scrape All Pages\n",
    "\n",
    "If we follow the next page of reviews, you might notice that the url contains a query that will take us to pages that look like\n",
    "\n",
    "```\n",
    "'https://www.beeradvocate.com/beer/?start=25'\n",
    "```\n",
    "\n",
    "where the number is a continued higher multiple of 25.  The script below takes advantage of this structure and retrieves a few hundred different beer names.  "
   ]
  },
  {
   "cell_type": "code",
   "execution_count": 28,
   "metadata": {},
   "outputs": [],
   "source": [
    "titles = []\n",
    "for num in [25*i for i in range(20)]:\n",
    "    link = url + '?start=' + str(num)\n",
    "    response = requests.get(link)\n",
    "    soup = BeautifulSoup(response.text, 'html.parser')\n",
    "    posts = soup.find_all('div', {'id': 'rating_fullview_container'})\n",
    "    for ent in posts:\n",
    "        titles.append(ent.h6.text)"
   ]
  },
  {
   "cell_type": "code",
   "execution_count": 29,
   "metadata": {},
   "outputs": [
    {
     "data": {
      "text/plain": [
       "['North Shore Iron Works',\n",
       " 'Deftones Digital Bath IPA',\n",
       " 'The Muddy Imperial Stout',\n",
       " 'Cambridge River Porter',\n",
       " 'Ode To The Afternoon Crew',\n",
       " 'Session Raid',\n",
       " 'Wijngaard Muscat & Riesling',\n",
       " 'Super Session #7',\n",
       " 'War Goose',\n",
       " 'Nebulosity',\n",
       " 'Big Eye - Ginger',\n",
       " 'Open Doors',\n",
       " 'Revolution',\n",
       " 'Effortless Grapefruit',\n",
       " 'Session Raid',\n",
       " 'Wave Chaser IPA',\n",
       " 'Stingray Imperial IPA',\n",
       " 'Domestically Challenged',\n",
       " 'Sun Juice',\n",
       " 'Belhaven 90/~ Wee Heavy',\n",
       " 'Keller Pils 2.0',\n",
       " 'Abner',\n",
       " 'Paled It!',\n",
       " 'The Seven Faces Of Pepe Grano']"
      ]
     },
     "execution_count": 29,
     "metadata": {},
     "output_type": "execute_result"
    }
   ],
   "source": [
    "titles[::20]"
   ]
  },
  {
   "cell_type": "code",
   "execution_count": 30,
   "metadata": {},
   "outputs": [
    {
     "data": {
      "text/plain": [
       "463"
      ]
     },
     "execution_count": 30,
     "metadata": {},
     "output_type": "execute_result"
    }
   ],
   "source": [
    "len(titles)"
   ]
  },
  {
   "cell_type": "markdown",
   "metadata": {},
   "source": [
    "### PROBLEM\n",
    "\n",
    "Complete the code snippet above and create a dataframe based on the retrieved lists.  What are the top 10 overall reviews?  ABV?  "
   ]
  },
  {
   "cell_type": "code",
   "execution_count": null,
   "metadata": {},
   "outputs": [],
   "source": []
  },
  {
   "cell_type": "code",
   "execution_count": null,
   "metadata": {},
   "outputs": [],
   "source": []
  },
  {
   "cell_type": "code",
   "execution_count": null,
   "metadata": {},
   "outputs": [],
   "source": []
  },
  {
   "cell_type": "code",
   "execution_count": null,
   "metadata": {},
   "outputs": [],
   "source": []
  },
  {
   "cell_type": "code",
   "execution_count": null,
   "metadata": {},
   "outputs": [],
   "source": []
  },
  {
   "cell_type": "code",
   "execution_count": null,
   "metadata": {},
   "outputs": [],
   "source": []
  }
 ],
 "metadata": {
  "kernelspec": {
   "display_name": "Python 3",
   "language": "python",
   "name": "python3"
  },
  "language_info": {
   "codemirror_mode": {
    "name": "ipython",
    "version": 3
   },
   "file_extension": ".py",
   "mimetype": "text/x-python",
   "name": "python",
   "nbconvert_exporter": "python",
   "pygments_lexer": "ipython3",
   "version": "3.6.5"
  }
 },
 "nbformat": 4,
 "nbformat_minor": 2
}
