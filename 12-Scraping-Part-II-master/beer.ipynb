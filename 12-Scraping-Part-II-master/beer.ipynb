{
 "cells": [
  {
   "cell_type": "markdown",
   "metadata": {},
   "source": [
    "# Beer\n",
    "\n",
    "I like beer...a lot.  This project has as its goal to build a dataset containing information about a variety of different beers, scraped from `beeradvocates.com`.  This site has a few hundred recent reviews of different beer.  Once we acquire the data, we will try to use it in building a beer recommendation application.\n",
    "\n",
    "\n",
    "![](images/beer.png)"
   ]
  },
  {
   "cell_type": "code",
   "execution_count": 1,
   "metadata": {
    "collapsed": true
   },
   "outputs": [],
   "source": [
    "import requests\n",
    "from bs4 import BeautifulSoup"
   ]
  },
  {
   "cell_type": "code",
   "execution_count": 4,
   "metadata": {
    "collapsed": true
   },
   "outputs": [],
   "source": [
    "url = 'http://www.beeradvocate.com/beer/'"
   ]
  },
  {
   "cell_type": "code",
   "execution_count": 6,
   "metadata": {},
   "outputs": [
    {
     "name": "stderr",
     "output_type": "stream",
     "text": [
      "C:\\ProgramData\\Anaconda3\\lib\\site-packages\\requests\\packages\\urllib3\\connectionpool.py:852: InsecureRequestWarning: Unverified HTTPS request is being made. Adding certificate verification is strongly advised. See: https://urllib3.readthedocs.io/en/latest/advanced-usage.html#ssl-warnings\n",
      "  InsecureRequestWarning)\n"
     ]
    }
   ],
   "source": [
    "response = requests.get(url, verify=False)"
   ]
  },
  {
   "cell_type": "code",
   "execution_count": 7,
   "metadata": {
    "collapsed": true
   },
   "outputs": [],
   "source": [
    "soup = BeautifulSoup(response.text, 'html.parser')"
   ]
  },
  {
   "cell_type": "markdown",
   "metadata": {},
   "source": [
    "## Strategy\n",
    "\n",
    "My goal is to build a dataset that has the features containing the typical information presented in these reviews.  For example, the first entry upon retrieval for me was \n",
    "\n",
    "**TITLE:** Bush League Sour Ale\n",
    "\n",
    "**COMPANY**: 4th Meridian Brewing Co.\n",
    "\n",
    "**STYLE**: American Wild Ale\n",
    "\n",
    "**ABV:** 4.50%\n",
    "\n",
    "**SCORE**: 3.74\n",
    "\n",
    "**LOOK**: 3.5\n",
    "\n",
    "**SMELL**: 3.75\n",
    "\n",
    "**TASTE**: 3.75\n",
    "\n",
    "**FEEL**: 3.75\n",
    "\n",
    "If we can get this information for each entry, maybe we'll be off to a good start.  Because there is the structure to each, but on an early glance to the page it seems that there will be problems if we try to get a list of each item instead of grabbing each review and slicing each from there.  To find the limits of this container we can simply search in the inspector.  A quick look shows certain `div` tags bound the postings.\n",
    "\n",
    "```html\n",
    "<div id = 'rating_fullview_container'>\n",
    "    ```\n",
    "    \n",
    "Here, we will see the HTML code resulting from the scrape.  Next, we can pop it into an `HTML` magic cell and see that we have what we want.\n",
    "\n"
   ]
  },
  {
   "cell_type": "code",
   "execution_count": 8,
   "metadata": {},
   "outputs": [
    {
     "data": {
      "text/plain": [
       "<div ba-user=\"894557\" class=\"user-comment\" id=\"rating_fullview_container\"><div id=\"rating_fullview_user\"><div style=\"padding:3px; background:#E8E8E8;\"><a class=\"username\" href=\"/community/members/hodgson.894557/\"><img alt=\"Photo of Hodgson\" border=\"0\" height=\"48\" src=\"styles/default/xenforo/avatars/avatar_male_m.png\" width=\"48\"/></a></div></div><div id=\"rating_fullview_content_2\"><a href=\"/beer/profile/12949/367058/\"><img alt=\"Loon Lager\" border=\"0\" height=\"90\" src=\"https://cdn.beeradvocate.com/im/placeholder-beer.jpg\" style=\"float:right; margin:0px 0px 10px 10px;\" width=\"45\"/></a><h6><a href=\"/beer/profile/12949/367058/\">Loon Lager</a></h6><br/><a href=\"/beer/profile/12949/\">Barley Days Brewery</a><br/><a href=\"/beer/style/155/\">American Pale Lager</a> / 4.50% ABV<br/><br/><span class=\"BAscore_norm\">3.86</span><span class=\"rAvg_norm\">/5</span><span style=\"font-size:1.5em;font-weight:700;\"></span>  <span class=\"muted\">rDev 0%</span> | Score: 4.43<br/><span class=\"muted\">look: 4.5 | smell: 3.5 | taste: 4 | feel: 4 |  overall: 3.75</span><br/><br/><div class=\"comment\">This is an entrant in the Ontario \"buck a beer\" stakes (12 oz. bottle) by a Picton, Ontario brewer in response to an Ontario government request to offer cost-effective beer to the public.  4.5 per cent alcohol.<br>\n",
       "<br>\n",
       "It is perfectly acceptable, and clean tasting with some barley sweets and light German hops. 100% barley malt according to the printing on the can.<br>\n",
       "<br>\n",
       "Superior to mass market beers of its type, for one thing. And will appeal to those on a budget like retired people or others with limited funds. Good addition to the Ontario brewing scene.</br></br></br></br></div><br/><i class=\"fas fa-align-left\"></i> <span class=\"muted\">549 characters</span><br/><br/><div><span class=\"muted\"><a class=\"username\" href=\"/community/members/hodgson.894557/\">Hodgson</a>, <a href=\"/beer/profile/12949/367058/?ba=Hodgson#review\">37 minutes ago</a></span></div></div></div>"
      ]
     },
     "execution_count": 8,
     "metadata": {},
     "output_type": "execute_result"
    }
   ],
   "source": [
    "soup.find('div', {'id': 'rating_fullview_container'})"
   ]
  },
  {
   "cell_type": "code",
   "execution_count": 9,
   "metadata": {},
   "outputs": [
    {
     "data": {
      "text/html": [
       "<div ba-user=\"168458\" class=\"user-comment\" id=\"rating_fullview_container\"><div id=\"rating_fullview_user\"><div style=\"padding:3px; background:#E8E8E8;\"><a class=\"username\" href=\"/community/members/biboergosum.168458/\"><img alt=\"Photo of biboergosum\" border=\"0\" height=\"48\" src=\"https://cdn.beeradvocate.com/data/avatars/m/168/168458.jpg?1330550786\" width=\"48\"/></a></div></div><div id=\"rating_fullview_content_2\"><a href=\"/beer/profile/47607/366919/\"><img alt=\"Bush League Sour Ale\" border=\"0\" height=\"90\" src=\"https://cdn.beeradvocate.com/im/placeholder-beer.jpg\" style=\"float:right; margin:0px 0px 10px 10px;\" width=\"45\"/></a><h6><a href=\"/beer/profile/47607/366919/\">Bush League Sour Ale</a></h6><br><a href=\"/beer/profile/47607/\">4th Meridian Brewing Co.</a><br><a href=\"/beer/style/171/\">American Wild Ale</a> / 4.50% ABV<br><br><span class=\"BAscore_norm\">3.74</span><span class=\"rAvg_norm\">/5</span><span style=\"font-size:1.5em;font-weight:700;\"></span>  <span class=\"muted\">rDev 0%</span> | Score: 3.74<br><span class=\"muted\">look: 3.5 | smell: 3.75 | taste: 3.75 | feel: 3.75 |  overall: 3.75</span><br><br><div class=\"comment\">8oz glass at Beer Revolution YEG Oliver Square. No idea what kind of sour this is supposed to be.  More later.<br/>\n",
       "<br/>\n",
       "This beer appears a hazy, pale golden straw colour, with one solid finger of puffy, finely foamy, and mildly creamy off-white head, which leaves a few instances of randomly streaky lace around the glass as it quickly dissipates. <br/>\n",
       "<br/>\n",
       "It smells of grainy and crackery cereal malt, some mixed domestic citrus peel, a tame earthy yeastiness, and plain leafy, herbal, and floral green hop bitters. The taste is gritty and grainy pale malt, some muddled melon and citrus fruit bowl notes, faintly tart yeast, and more understated leafy, musty, and dead grassy hoppiness. <br/>\n",
       "<br/>\n",
       "The carbonation is fairly active in its palate-tickling frothiness, the body a so-so medium weight, and generally smooth, with nothing really getting uppity, as such, here.  It finishes trending dry, the lingering fruitiness exhibiting its sour tendencies. <br/>\n",
       "<br/>\n",
       "Overall - this sure is a refreshing and enjoyable version of the style, with the fruity character contributing in large part.  Nothing bush league about this offering, unless you are the kind of sour snob who insists on losing tooth enamel.</div><br><i class=\"fas fa-align-left\"></i> <span class=\"muted\">1,176 characters</span><br><br><div><span class=\"muted\"><a class=\"username\" href=\"/community/members/biboergosum.168458/\">biboergosum</a>, <a href=\"/beer/profile/47607/366919/?ba=biboergosum#review\">A moment ago</a></span></div></br></br></br></br></br></br></br></br></br></br></div></div>"
      ],
      "text/plain": [
       "<IPython.core.display.HTML object>"
      ]
     },
     "metadata": {},
     "output_type": "display_data"
    }
   ],
   "source": [
    "%%HTML\n",
    "<div ba-user=\"168458\" class=\"user-comment\" id=\"rating_fullview_container\"><div id=\"rating_fullview_user\"><div style=\"padding:3px; background:#E8E8E8;\"><a class=\"username\" href=\"/community/members/biboergosum.168458/\"><img alt=\"Photo of biboergosum\" border=\"0\" height=\"48\" src=\"https://cdn.beeradvocate.com/data/avatars/m/168/168458.jpg?1330550786\" width=\"48\"/></a></div></div><div id=\"rating_fullview_content_2\"><a href=\"/beer/profile/47607/366919/\"><img alt=\"Bush League Sour Ale\" border=\"0\" height=\"90\" src=\"https://cdn.beeradvocate.com/im/placeholder-beer.jpg\" style=\"float:right; margin:0px 0px 10px 10px;\" width=\"45\"/></a><h6><a href=\"/beer/profile/47607/366919/\">Bush League Sour Ale</a></h6><br><a href=\"/beer/profile/47607/\">4th Meridian Brewing Co.</a><br><a href=\"/beer/style/171/\">American Wild Ale</a> / 4.50% ABV<br><br><span class=\"BAscore_norm\">3.74</span><span class=\"rAvg_norm\">/5</span><span style=\"font-size:1.5em;font-weight:700;\"></span>  <span class=\"muted\">rDev 0%</span> | Score: 3.74<br><span class=\"muted\">look: 3.5 | smell: 3.75 | taste: 3.75 | feel: 3.75 |  overall: 3.75</span><br><br><div class=\"comment\">8oz glass at Beer Revolution YEG Oliver Square. No idea what kind of sour this is supposed to be.  More later.<br/>\n",
    "<br/>\n",
    "This beer appears a hazy, pale golden straw colour, with one solid finger of puffy, finely foamy, and mildly creamy off-white head, which leaves a few instances of randomly streaky lace around the glass as it quickly dissipates. <br/>\n",
    "<br/>\n",
    "It smells of grainy and crackery cereal malt, some mixed domestic citrus peel, a tame earthy yeastiness, and plain leafy, herbal, and floral green hop bitters. The taste is gritty and grainy pale malt, some muddled melon and citrus fruit bowl notes, faintly tart yeast, and more understated leafy, musty, and dead grassy hoppiness. <br/>\n",
    "<br/>\n",
    "The carbonation is fairly active in its palate-tickling frothiness, the body a so-so medium weight, and generally smooth, with nothing really getting uppity, as such, here.  It finishes trending dry, the lingering fruitiness exhibiting its sour tendencies. <br/>\n",
    "<br/>\n",
    "Overall - this sure is a refreshing and enjoyable version of the style, with the fruity character contributing in large part.  Nothing bush league about this offering, unless you are the kind of sour snob who insists on losing tooth enamel.</div><br><i class=\"fas fa-align-left\"></i> <span class=\"muted\">1,176 characters</span><br><br><div><span class=\"muted\"><a class=\"username\" href=\"/community/members/biboergosum.168458/\">biboergosum</a>, <a href=\"/beer/profile/47607/366919/?ba=biboergosum#review\">A moment ago</a></span></div></br></br></br></br></br></br></br></br></br></br></div></div>\n"
   ]
  },
  {
   "cell_type": "code",
   "execution_count": 10,
   "metadata": {
    "collapsed": true
   },
   "outputs": [],
   "source": [
    "posts = soup.find_all('div', {'id': 'rating_fullview_container'})"
   ]
  },
  {
   "cell_type": "code",
   "execution_count": 12,
   "metadata": {},
   "outputs": [
    {
     "data": {
      "text/plain": [
       "[<a class=\"username\" href=\"/community/members/hodgson.894557/\"><img alt=\"Photo of Hodgson\" border=\"0\" height=\"48\" src=\"styles/default/xenforo/avatars/avatar_male_m.png\" width=\"48\"/></a>,\n",
       " <a href=\"/beer/profile/12949/367058/\"><img alt=\"Loon Lager\" border=\"0\" height=\"90\" src=\"https://cdn.beeradvocate.com/im/placeholder-beer.jpg\" style=\"float:right; margin:0px 0px 10px 10px;\" width=\"45\"/></a>,\n",
       " <a href=\"/beer/profile/12949/367058/\">Loon Lager</a>,\n",
       " <a href=\"/beer/profile/12949/\">Barley Days Brewery</a>,\n",
       " <a href=\"/beer/style/155/\">American Pale Lager</a>,\n",
       " <a class=\"username\" href=\"/community/members/hodgson.894557/\">Hodgson</a>,\n",
       " <a href=\"/beer/profile/12949/367058/?ba=Hodgson#review\">37 minutes ago</a>]"
      ]
     },
     "execution_count": 12,
     "metadata": {},
     "output_type": "execute_result"
    }
   ],
   "source": [
    "soup.find_all('div', {'id': 'rating_fullview_container'})[0].find_all('a')"
   ]
  },
  {
   "cell_type": "code",
   "execution_count": 13,
   "metadata": {},
   "outputs": [
    {
     "name": "stdout",
     "output_type": "stream",
     "text": [
      "Loon Lager\n",
      "Spruce Budd\n",
      "Punkin Ale\n",
      "Budweiser Reserve Copper Lager (Aged on Jim Beam Bourbon Barrel Staves)\n",
      "Barrel Runner\n",
      "Abbot Ale\n",
      "Johnny’s American Session IPA\n",
      "Milkshake IPA #3\n",
      "Pipeworks / ColdFire - Tropic Of Unicorn\n",
      "Fresh Off The Farm\n",
      "Porter Baltycki\n",
      "Franziskaner Hefe-Weisse\n",
      "Frisson\n",
      "Playafication\n",
      "Session Watermelon Wheat\n",
      "Jelly King\n",
      "Sweet Action\n",
      "Revivalists\n",
      "The Boysenberry\n",
      "Schlafly Sour Blonde Ale\n",
      "Speedway Stout - Cinnamon Vanilla - Bourbon Barrel-Aged\n",
      "Resin\n",
      "Scrimshaw Pilsner\n",
      "Humulo Nimbus\n",
      "Rose ale\n"
     ]
    }
   ],
   "source": [
    "for ent in posts:\n",
    "    print(ent.h6.text)"
   ]
  },
  {
   "cell_type": "markdown",
   "metadata": {},
   "source": [
    "## Scrape All Pages\n",
    "\n",
    "If we follow the next page of reviews, you might notice that the url contains a query that will take us to pages that look like\n",
    "\n",
    "```\n",
    "'https://www.beeradvocate.com/beer/?start=25'\n",
    "```\n",
    "\n",
    "where the number is a continued higher multiple of 25.  The script below takes advantage of this structure and retrieves a few hundred different beer names.  "
   ]
  },
  {
   "cell_type": "code",
   "execution_count": 14,
   "metadata": {},
   "outputs": [
    {
     "name": "stderr",
     "output_type": "stream",
     "text": [
      "C:\\ProgramData\\Anaconda3\\lib\\site-packages\\requests\\packages\\urllib3\\connectionpool.py:852: InsecureRequestWarning: Unverified HTTPS request is being made. Adding certificate verification is strongly advised. See: https://urllib3.readthedocs.io/en/latest/advanced-usage.html#ssl-warnings\n",
      "  InsecureRequestWarning)\n",
      "C:\\ProgramData\\Anaconda3\\lib\\site-packages\\requests\\packages\\urllib3\\connectionpool.py:852: InsecureRequestWarning: Unverified HTTPS request is being made. Adding certificate verification is strongly advised. See: https://urllib3.readthedocs.io/en/latest/advanced-usage.html#ssl-warnings\n",
      "  InsecureRequestWarning)\n",
      "C:\\ProgramData\\Anaconda3\\lib\\site-packages\\requests\\packages\\urllib3\\connectionpool.py:852: InsecureRequestWarning: Unverified HTTPS request is being made. Adding certificate verification is strongly advised. See: https://urllib3.readthedocs.io/en/latest/advanced-usage.html#ssl-warnings\n",
      "  InsecureRequestWarning)\n",
      "C:\\ProgramData\\Anaconda3\\lib\\site-packages\\requests\\packages\\urllib3\\connectionpool.py:852: InsecureRequestWarning: Unverified HTTPS request is being made. Adding certificate verification is strongly advised. See: https://urllib3.readthedocs.io/en/latest/advanced-usage.html#ssl-warnings\n",
      "  InsecureRequestWarning)\n",
      "C:\\ProgramData\\Anaconda3\\lib\\site-packages\\requests\\packages\\urllib3\\connectionpool.py:852: InsecureRequestWarning: Unverified HTTPS request is being made. Adding certificate verification is strongly advised. See: https://urllib3.readthedocs.io/en/latest/advanced-usage.html#ssl-warnings\n",
      "  InsecureRequestWarning)\n",
      "C:\\ProgramData\\Anaconda3\\lib\\site-packages\\requests\\packages\\urllib3\\connectionpool.py:852: InsecureRequestWarning: Unverified HTTPS request is being made. Adding certificate verification is strongly advised. See: https://urllib3.readthedocs.io/en/latest/advanced-usage.html#ssl-warnings\n",
      "  InsecureRequestWarning)\n",
      "C:\\ProgramData\\Anaconda3\\lib\\site-packages\\requests\\packages\\urllib3\\connectionpool.py:852: InsecureRequestWarning: Unverified HTTPS request is being made. Adding certificate verification is strongly advised. See: https://urllib3.readthedocs.io/en/latest/advanced-usage.html#ssl-warnings\n",
      "  InsecureRequestWarning)\n",
      "C:\\ProgramData\\Anaconda3\\lib\\site-packages\\requests\\packages\\urllib3\\connectionpool.py:852: InsecureRequestWarning: Unverified HTTPS request is being made. Adding certificate verification is strongly advised. See: https://urllib3.readthedocs.io/en/latest/advanced-usage.html#ssl-warnings\n",
      "  InsecureRequestWarning)\n",
      "C:\\ProgramData\\Anaconda3\\lib\\site-packages\\requests\\packages\\urllib3\\connectionpool.py:852: InsecureRequestWarning: Unverified HTTPS request is being made. Adding certificate verification is strongly advised. See: https://urllib3.readthedocs.io/en/latest/advanced-usage.html#ssl-warnings\n",
      "  InsecureRequestWarning)\n",
      "C:\\ProgramData\\Anaconda3\\lib\\site-packages\\requests\\packages\\urllib3\\connectionpool.py:852: InsecureRequestWarning: Unverified HTTPS request is being made. Adding certificate verification is strongly advised. See: https://urllib3.readthedocs.io/en/latest/advanced-usage.html#ssl-warnings\n",
      "  InsecureRequestWarning)\n",
      "C:\\ProgramData\\Anaconda3\\lib\\site-packages\\requests\\packages\\urllib3\\connectionpool.py:852: InsecureRequestWarning: Unverified HTTPS request is being made. Adding certificate verification is strongly advised. See: https://urllib3.readthedocs.io/en/latest/advanced-usage.html#ssl-warnings\n",
      "  InsecureRequestWarning)\n",
      "C:\\ProgramData\\Anaconda3\\lib\\site-packages\\requests\\packages\\urllib3\\connectionpool.py:852: InsecureRequestWarning: Unverified HTTPS request is being made. Adding certificate verification is strongly advised. See: https://urllib3.readthedocs.io/en/latest/advanced-usage.html#ssl-warnings\n",
      "  InsecureRequestWarning)\n",
      "C:\\ProgramData\\Anaconda3\\lib\\site-packages\\requests\\packages\\urllib3\\connectionpool.py:852: InsecureRequestWarning: Unverified HTTPS request is being made. Adding certificate verification is strongly advised. See: https://urllib3.readthedocs.io/en/latest/advanced-usage.html#ssl-warnings\n",
      "  InsecureRequestWarning)\n",
      "C:\\ProgramData\\Anaconda3\\lib\\site-packages\\requests\\packages\\urllib3\\connectionpool.py:852: InsecureRequestWarning: Unverified HTTPS request is being made. Adding certificate verification is strongly advised. See: https://urllib3.readthedocs.io/en/latest/advanced-usage.html#ssl-warnings\n",
      "  InsecureRequestWarning)\n",
      "C:\\ProgramData\\Anaconda3\\lib\\site-packages\\requests\\packages\\urllib3\\connectionpool.py:852: InsecureRequestWarning: Unverified HTTPS request is being made. Adding certificate verification is strongly advised. See: https://urllib3.readthedocs.io/en/latest/advanced-usage.html#ssl-warnings\n",
      "  InsecureRequestWarning)\n",
      "C:\\ProgramData\\Anaconda3\\lib\\site-packages\\requests\\packages\\urllib3\\connectionpool.py:852: InsecureRequestWarning: Unverified HTTPS request is being made. Adding certificate verification is strongly advised. See: https://urllib3.readthedocs.io/en/latest/advanced-usage.html#ssl-warnings\n",
      "  InsecureRequestWarning)\n",
      "C:\\ProgramData\\Anaconda3\\lib\\site-packages\\requests\\packages\\urllib3\\connectionpool.py:852: InsecureRequestWarning: Unverified HTTPS request is being made. Adding certificate verification is strongly advised. See: https://urllib3.readthedocs.io/en/latest/advanced-usage.html#ssl-warnings\n",
      "  InsecureRequestWarning)\n",
      "C:\\ProgramData\\Anaconda3\\lib\\site-packages\\requests\\packages\\urllib3\\connectionpool.py:852: InsecureRequestWarning: Unverified HTTPS request is being made. Adding certificate verification is strongly advised. See: https://urllib3.readthedocs.io/en/latest/advanced-usage.html#ssl-warnings\n",
      "  InsecureRequestWarning)\n",
      "C:\\ProgramData\\Anaconda3\\lib\\site-packages\\requests\\packages\\urllib3\\connectionpool.py:852: InsecureRequestWarning: Unverified HTTPS request is being made. Adding certificate verification is strongly advised. See: https://urllib3.readthedocs.io/en/latest/advanced-usage.html#ssl-warnings\n",
      "  InsecureRequestWarning)\n",
      "C:\\ProgramData\\Anaconda3\\lib\\site-packages\\requests\\packages\\urllib3\\connectionpool.py:852: InsecureRequestWarning: Unverified HTTPS request is being made. Adding certificate verification is strongly advised. See: https://urllib3.readthedocs.io/en/latest/advanced-usage.html#ssl-warnings\n",
      "  InsecureRequestWarning)\n"
     ]
    }
   ],
   "source": [
    "titles = []\n",
    "for num in [25*i for i in range(20)]:\n",
    "    link = url + '?start=' + str(num)\n",
    "    response = requests.get(link, verify=False)\n",
    "    soup = BeautifulSoup(response.text, 'html.parser')\n",
    "    posts = soup.find_all('div', {'id': 'rating_fullview_container'})\n",
    "    for ent in posts:\n",
    "        titles.append(ent.h6.text)"
   ]
  },
  {
   "cell_type": "code",
   "execution_count": 18,
   "metadata": {},
   "outputs": [
    {
     "data": {
      "text/plain": [
       "list"
      ]
     },
     "execution_count": 18,
     "metadata": {},
     "output_type": "execute_result"
    }
   ],
   "source": [
    "type(titles)"
   ]
  },
  {
   "cell_type": "code",
   "execution_count": 19,
   "metadata": {},
   "outputs": [
    {
     "data": {
      "text/plain": [
       "270"
      ]
     },
     "execution_count": 19,
     "metadata": {},
     "output_type": "execute_result"
    }
   ],
   "source": [
    "len(titles)"
   ]
  },
  {
   "cell_type": "code",
   "execution_count": 26,
   "metadata": {},
   "outputs": [
    {
     "data": {
      "text/plain": [
       "['Midnight Ember',\n",
       " 'Coors Light',\n",
       " 'First Anniversary Blend (Off the Cuff)',\n",
       " 'Loon Lager',\n",
       " 'Spruce Budd',\n",
       " 'Punkin Ale',\n",
       " 'Budweiser Reserve Copper Lager (Aged on Jim Beam Bourbon Barrel Staves)',\n",
       " 'Barrel Runner',\n",
       " 'Abbot Ale',\n",
       " 'Johnny’s American Session IPA',\n",
       " 'Milkshake IPA #3',\n",
       " 'Pipeworks / ColdFire - Tropic Of Unicorn',\n",
       " 'Fresh Off The Farm',\n",
       " 'Porter Baltycki',\n",
       " 'Franziskaner Hefe-Weisse',\n",
       " 'Frisson',\n",
       " 'Playafication',\n",
       " 'Session Watermelon Wheat',\n",
       " 'Jelly King',\n",
       " 'Sweet Action',\n",
       " 'Revivalists',\n",
       " 'The Boysenberry',\n",
       " 'Schlafly Sour Blonde Ale',\n",
       " 'Speedway Stout - Cinnamon Vanilla - Bourbon Barrel-Aged',\n",
       " 'Resin',\n",
       " 'The Black Sow',\n",
       " 'Edmund Fitzgerald Porter',\n",
       " 'Rokoko',\n",
       " 'Death of the Author',\n",
       " 'Quince Essential Hazy Ale',\n",
       " 'Thunder Gun Express',\n",
       " 'Lervig Lucky Jack',\n",
       " 'Grodziskie',\n",
       " 'Bare Tree: The Blend',\n",
       " 'Black Forest',\n",
       " 'Stone / Societe - The Skedaddler',\n",
       " '1000 IBU',\n",
       " 'Gweilo Blazon IPA',\n",
       " 'Midnight Ember',\n",
       " 'Coors Light',\n",
       " 'First Anniversary Blend (Off the Cuff)',\n",
       " 'Loon Lager',\n",
       " 'Spruce Budd',\n",
       " 'Punkin Ale',\n",
       " 'Budweiser Reserve Copper Lager (Aged on Jim Beam Bourbon Barrel Staves)',\n",
       " 'Barrel Runner',\n",
       " 'Abbot Ale',\n",
       " 'Johnny’s American Session IPA',\n",
       " 'Milkshake IPA #3',\n",
       " 'Pipeworks / ColdFire - Tropic Of Unicorn',\n",
       " 'Pearly Wit',\n",
       " 'Maudite',\n",
       " 'Life On Mars IPA',\n",
       " 'Lionshead IPA',\n",
       " 'Oberon Ale',\n",
       " 'Mindkiller',\n",
       " 'Beach Escape',\n",
       " 'KCBC / Alewife - Hash Cache',\n",
       " 'Sierra Nevada Ruthless Rye IPA',\n",
       " 'Too Hot to Touch',\n",
       " 'Triple Play',\n",
       " 'Duchesse Cherry',\n",
       " 'Porter',\n",
       " 'Blowing Rock Summer Ale',\n",
       " 'Lionshead Belgian White Ale',\n",
       " 'Blond',\n",
       " 'Solid Gold',\n",
       " 'Golden Helles Lager',\n",
       " 'Batch #026',\n",
       " 'Black',\n",
       " 'Weldwerks / Destihl  85 In A 55',\n",
       " 'Samuel Adams Spruce Lager',\n",
       " 'Wicked Weed / Jester King - Red Atrial',\n",
       " 'Budweiser Reserve Copper Lager (Aged on Jim Beam Bourbon Barrel Staves)',\n",
       " 'Really Though',\n",
       " 'Lionshead Belgian White Ale',\n",
       " 'Blond',\n",
       " 'Solid Gold',\n",
       " 'Golden Helles Lager',\n",
       " 'Batch #026',\n",
       " 'Black',\n",
       " 'Weldwerks / Destihl  85 In A 55',\n",
       " 'Samuel Adams Spruce Lager',\n",
       " 'Wicked Weed / Jester King - Red Atrial',\n",
       " 'Budweiser Reserve Copper Lager (Aged on Jim Beam Bourbon Barrel Staves)',\n",
       " 'Really Though',\n",
       " 'Kitsch Hoppy Lager',\n",
       " 'Weihenstephaner Festbier',\n",
       " 'Single Hop Amarillo IPA',\n",
       " 'Paulaner Oktoberfest Wiesn',\n",
       " \"Siren's Song\",\n",
       " 'Diamond Lake',\n",
       " 'Space Junk',\n",
       " 'Gloria!',\n",
       " 'Luau Krunkles',\n",
       " 'Anniversary Ale - Twenty Five',\n",
       " 'Crème Brûlée Imperial Milk Stout (Blackwater Series)',\n",
       " 'Wavvy (Batch 8)',\n",
       " 'Hofbräu Oktoberfestbier',\n",
       " 'Fonta Flora / Scratch - Suede Smooth',\n",
       " 'Samuel Adams Spruce Lager',\n",
       " 'Wicked Weed / Jester King - Red Atrial',\n",
       " 'Budweiser Reserve Copper Lager (Aged on Jim Beam Bourbon Barrel Staves)',\n",
       " 'Really Though',\n",
       " 'Kitsch Hoppy Lager',\n",
       " 'Weihenstephaner Festbier',\n",
       " 'Single Hop Amarillo IPA',\n",
       " 'Paulaner Oktoberfest Wiesn',\n",
       " \"Siren's Song\",\n",
       " 'Diamond Lake',\n",
       " 'Space Junk',\n",
       " 'Gloria!',\n",
       " 'Luau Krunkles',\n",
       " 'Anniversary Ale - Twenty Five',\n",
       " 'Crème Brûlée Imperial Milk Stout (Blackwater Series)',\n",
       " 'Wavvy (Batch 8)',\n",
       " 'Hofbräu Oktoberfestbier',\n",
       " 'Fonta Flora / Scratch - Suede Smooth',\n",
       " 'Sideway',\n",
       " 'Oaktober Ale',\n",
       " 'Kane / Sand City - Blueberry Island',\n",
       " 'Second Reef',\n",
       " 'Space Dust IPA',\n",
       " 'Zombie Dust',\n",
       " 'Rock Me Dr. Motueka',\n",
       " 'Sleeping Lemons Export',\n",
       " 'Voodoo Ranger Imperial IPA',\n",
       " 'R&D; Gotlandic',\n",
       " 'KCBC / Barrier - Crypto Currency',\n",
       " 'UFO White',\n",
       " 'Malt Shaker',\n",
       " 'Evil Twin / Lervig - Big Ass Money Stout 3',\n",
       " 'Offshore',\n",
       " 'The Bloomist',\n",
       " 'Heathen',\n",
       " 'Torch Pilsner',\n",
       " 'Monkey Boy',\n",
       " 'Leo',\n",
       " 'Sour Blackberry',\n",
       " 'Firestone Lager',\n",
       " 'Thousand Smiles',\n",
       " 'Pale Ale',\n",
       " 'Apex Predator ISA',\n",
       " 'Costa Este',\n",
       " 'Double Dry Hopped Cream of Broccoli',\n",
       " 'Whirlpool',\n",
       " 'Permutation Series #61: Double IPA w/ Mosaic, Citra & Simcoe',\n",
       " 'F5 IPA',\n",
       " 'Freshchester Pale Ale',\n",
       " 'Passion Grass',\n",
       " 'Sour Blackberry',\n",
       " 'Firestone Lager',\n",
       " 'Thousand Smiles',\n",
       " 'Pale Ale',\n",
       " 'Apex Predator ISA',\n",
       " 'Costa Este',\n",
       " 'Double Dry Hopped Cream of Broccoli',\n",
       " 'Whirlpool',\n",
       " 'Permutation Series #61: Double IPA w/ Mosaic, Citra & Simcoe',\n",
       " 'F5 IPA',\n",
       " 'Freshchester Pale Ale',\n",
       " 'Passion Grass',\n",
       " 'Flat Light',\n",
       " 'Inhaler',\n",
       " 'First Call',\n",
       " 'Vallejo',\n",
       " 'Super Typhoon',\n",
       " 'Collective Arts / Aslin - Hot Pink',\n",
       " 'Lost Weekend',\n",
       " 'Big Star White IPA',\n",
       " 'The Crisp',\n",
       " 'Spiritual Consultant',\n",
       " 'Flipside Red IPA',\n",
       " 'dHop12',\n",
       " 'Hippotizing IPA',\n",
       " 'Monkey Boy',\n",
       " 'Leo',\n",
       " 'Sour Blackberry',\n",
       " 'Firestone Lager',\n",
       " 'Thousand Smiles',\n",
       " 'Pale Ale',\n",
       " 'Apex Predator ISA',\n",
       " 'Costa Este',\n",
       " 'Double Dry Hopped Cream of Broccoli',\n",
       " 'Whirlpool',\n",
       " 'Permutation Series #61: Double IPA w/ Mosaic, Citra & Simcoe',\n",
       " 'F5 IPA',\n",
       " 'Freshchester Pale Ale',\n",
       " 'Passion Grass',\n",
       " 'Flat Light',\n",
       " 'Inhaler',\n",
       " 'First Call',\n",
       " 'Vallejo',\n",
       " 'Super Typhoon',\n",
       " 'Collective Arts / Aslin - Hot Pink',\n",
       " 'Lost Weekend',\n",
       " 'Big Star White IPA',\n",
       " 'The Crisp',\n",
       " 'Spiritual Consultant',\n",
       " 'Flipside Red IPA',\n",
       " \"Not Your Father's Root Beer (5.9%)\",\n",
       " 'Trail Angel Weiss',\n",
       " 'Grolsch Radler',\n",
       " 'Kölsch',\n",
       " 'Tiger Balm',\n",
       " 'Samuel Adams Summer Ale',\n",
       " 'Bend & Snap',\n",
       " 'Passion Fruit IPA',\n",
       " 'Brenner Pass: Grand Cru',\n",
       " 'Imperial Stout By Pedro Sousa',\n",
       " 'Samuel Adams Spruce Lager',\n",
       " 'Immoralité',\n",
       " 'Wiper & True x Fierce Beer Aztec Shake',\n",
       " 'Coconuts',\n",
       " 'Cherry Jane',\n",
       " 'Cloud Catcher',\n",
       " 'Barrel Runner',\n",
       " \"Barrel Aged People's Porter\",\n",
       " 'Box Set Track #8 - Number Of The Beast',\n",
       " 'Beer For Drinking (BFD)',\n",
       " 'Bedarö Bitter',\n",
       " 'Idolatrous IPA',\n",
       " 'Riot In Vermont',\n",
       " 'Melvin IPA',\n",
       " 'Ruckus',\n",
       " 'Scenario',\n",
       " \"Hops N' Honey\",\n",
       " 'Your IPA',\n",
       " '2x4 DIPA',\n",
       " 'Dragons & YumYums',\n",
       " 'Night Lands - Coconut',\n",
       " 'Yakimaniac IPA',\n",
       " 'Semblance',\n",
       " 'Trees of Green',\n",
       " 'Fullers & Friends Peat Souper',\n",
       " 'German IPA',\n",
       " 'Olde School Barleywine',\n",
       " 'Jack Hammer',\n",
       " 'Neumarkter Lammsbräu EdelHell',\n",
       " 'Budweiser',\n",
       " 'Tennessee',\n",
       " 'Cantillon Cuvée Des Champions',\n",
       " 'Dragon Series Murasaki Dragon Double IPA',\n",
       " 'Leitmotif - Opus 10',\n",
       " 'Bourbon Barrel-Aged Mexican Biscotti Toasted Coconut Cake Break',\n",
       " 'Demo Tape Eighteen: Multigrain Farmhouse Ale',\n",
       " 'Havnesæson Abrikos',\n",
       " 'Velvet Cashmere',\n",
       " 'Grand Cru Bruocsella (Lambic Bio Saison 2014-2015)',\n",
       " 'Berliner Framboise Noire',\n",
       " 'Bourbon Barrel-Aged Mexican Biscotti Toasted Coconut Cake Break',\n",
       " 'Demo Tape Eighteen: Multigrain Farmhouse Ale',\n",
       " 'Havnesæson Abrikos',\n",
       " 'Velvet Cashmere',\n",
       " 'Grand Cru Bruocsella (Lambic Bio Saison 2014-2015)',\n",
       " 'Berliner Framboise Noire',\n",
       " 'Society & Solitude #4',\n",
       " 'Viens',\n",
       " \"Nordlund's Field Blend\",\n",
       " 'Zombie Dust',\n",
       " 'Sidecar Orange IPA',\n",
       " 'Father Time',\n",
       " 'Brise-vent',\n",
       " 'Pertinax',\n",
       " 'Other Half / Horus - Double Drupe',\n",
       " 'Tears of the Goddess (Raspberries and Vanilla)',\n",
       " 'Newcastle Brown Ale',\n",
       " 'San Antonio Hatch Lager',\n",
       " 'Roma IPA',\n",
       " 'Wylam x Anchor Brewing Kill Phil Pt.1']"
      ]
     },
     "execution_count": 26,
     "metadata": {},
     "output_type": "execute_result"
    }
   ],
   "source": [
    "titles"
   ]
  },
  {
   "cell_type": "markdown",
   "metadata": {},
   "source": [
    "### PROBLEM\n",
    "\n",
    "Complete the code snippet above and create a dataframe based on the retrieved lists.  What are the top 10 overall reviews?  ABV?  "
   ]
  },
  {
   "cell_type": "code",
   "execution_count": null,
   "metadata": {
    "collapsed": true
   },
   "outputs": [],
   "source": []
  },
  {
   "cell_type": "code",
   "execution_count": null,
   "metadata": {
    "collapsed": true
   },
   "outputs": [],
   "source": []
  },
  {
   "cell_type": "code",
   "execution_count": null,
   "metadata": {
    "collapsed": true
   },
   "outputs": [],
   "source": []
  },
  {
   "cell_type": "code",
   "execution_count": null,
   "metadata": {
    "collapsed": true
   },
   "outputs": [],
   "source": []
  },
  {
   "cell_type": "code",
   "execution_count": null,
   "metadata": {
    "collapsed": true
   },
   "outputs": [],
   "source": []
  },
  {
   "cell_type": "code",
   "execution_count": null,
   "metadata": {
    "collapsed": true
   },
   "outputs": [],
   "source": []
  }
 ],
 "metadata": {
  "kernelspec": {
   "display_name": "Python 3",
   "language": "python",
   "name": "python3"
  },
  "language_info": {
   "codemirror_mode": {
    "name": "ipython",
    "version": 3
   },
   "file_extension": ".py",
   "mimetype": "text/x-python",
   "name": "python",
   "nbconvert_exporter": "python",
   "pygments_lexer": "ipython3",
   "version": "3.6.1"
  }
 },
 "nbformat": 4,
 "nbformat_minor": 2
}
