{
 "cells": [
  {
   "cell_type": "markdown",
   "metadata": {
    "nbpresent": {
     "id": "e0085648-0300-4087-9b12-ee7d2392ce4f"
    }
   },
   "source": [
    "# News classification with topic models in gensim\n",
    "News article classification is a task which is performed on a huge scale by news agencies all over the world. We will be looking into how topic modeling can be used to accurately classify news articles into different categories such as sports, technology, politics etc.\n",
    "\n",
    "Our aim in this tutorial is to come up with some topic model which can come up with topics that can easily be interpreted by us. Such a topic model can be used to discover hidden structure in the corpus and can also be used to determine the membership of a news article into one of the topics.\n",
    "\n",
    "For this tutorial, we will be using the Lee corpus which is a shortened version of the [Lee Background Corpus](http://www.socsci.uci.edu/~mdlee/lee_pincombe_welsh_document.PDF). The shortened version consists of 300 documents selected from the Australian Broadcasting Corporation's news mail service. It consists of texts of headline stories from around the year 2000-2001.\n",
    "\n",
    "Accompanying slides can be found [here](https://speakerdeck.com/dsquareindia/pycon-delhi-lightening).\n",
    "\n",
    "### Requirements\n",
    "In this tutorial we look at how different topic models can be easily created using [gensim](https://radimrehurek.com/gensim/).\n",
    "Following are the dependencies for this tutorial:\n",
    "    - Gensim Version >=0.13.1 would be preferred since we will be using topic coherence metrics extensively here.\n",
    "    - matplotlib\n",
    "    - nltk.stopwords and nltk.wordnet\n",
    "    - pyLDAVis\n",
    "We will be playing around with 4 different topic models here:\n",
    "    - LSI (Latent Semantic Indexing)\n",
    "    - HDP (Hierarchical Dirichlet Process)\n",
    "    - LDA (Latent Dirichlet Allocation)\n",
    "    - LDA (tweaked with topic coherence to find optimal number of topics) and\n",
    "    - LDA as LSI with the help of topic coherence metrics\n",
    "First we'll fit those topic models on our existing data then we'll compare each against the other and see how they rank in terms of human interpretability.\n",
    "\n",
    "All can be found in gensim and can be easily used in a plug-and-play fashion. We will tinker with the LDA model using the newly added topic coherence metrics in gensim based on [this](http://svn.aksw.org/papers/2015/WSDM_Topic_Evaluation/public.pdf) paper by Roeder et al and see how the resulting topic model compares with the exsisting ones."
   ]
  },
  {
   "cell_type": "code",
   "execution_count": 1,
   "metadata": {
    "nbpresent": {
     "id": "25997dab-04e3-4abc-b22f-b36944b208c2"
    }
   },
   "outputs": [
    {
     "name": "stdout",
     "output_type": "stream",
     "text": [
      "[nltk_data] Downloading package stopwords to\n",
      "[nltk_data]     /Users/NYCMath/nltk_data...\n",
      "[nltk_data]   Package stopwords is already up-to-date!\n",
      "[nltk_data] Downloading package wordnet to /Users/NYCMath/nltk_data...\n",
      "[nltk_data]   Package wordnet is already up-to-date!\n"
     ]
    }
   ],
   "source": [
    "import os\n",
    "import re\n",
    "import operator\n",
    "import matplotlib.pyplot as plt\n",
    "import warnings\n",
    "import gensim\n",
    "import numpy as np\n",
    "warnings.filterwarnings('ignore')  # Let's not pay heed to them right now\n",
    "\n",
    "import nltk\n",
    "nltk.download('stopwords') # Let's make sure the 'stopword' package is downloaded & updated\n",
    "nltk.download('wordnet') # Let's also download wordnet, which will be used for lemmatization\n",
    "\n",
    "from gensim.models import CoherenceModel, LdaModel, LsiModel, HdpModel\n",
    "from gensim.models.wrappers import LdaMallet\n",
    "from gensim.corpora import Dictionary\n",
    "from pprint import pprint\n",
    "from smart_open import smart_open\n",
    "\n",
    "%matplotlib inline"
   ]
  },
  {
   "cell_type": "code",
   "execution_count": 2,
   "metadata": {
    "nbpresent": {
     "id": "8778b874-a6d1-4f2f-ba02-35dc0fa10f0c"
    }
   },
   "outputs": [],
   "source": [
    "test_data_dir = '{}'.format(os.sep).join([gensim.__path__[0], 'test', 'test_data'])\n",
    "lee_train_file = test_data_dir + os.sep + 'lee_background.cor'"
   ]
  },
  {
   "cell_type": "markdown",
   "metadata": {
    "nbpresent": {
     "id": "bcbc3313-3a57-4923-b330-69691eaf7535"
    }
   },
   "source": [
    "Analysing our corpus.\n",
    "    - The first document talks about a bushfire that had occured in New South Wales.\n",
    "    - The second talks about conflict between India and Pakistan in Kashmir.\n",
    "    - The third talks about road accidents in the New South Wales area.\n",
    "    - The fourth one talks about Argentina's economic and political crisis during that time.\n",
    "    - The last one talks about the use of drugs by midwives in a Sydney hospital.\n",
    "Our final topic model should be giving us keywords which we can easily interpret and make a small summary out of. Without this the topic model cannot be of much practical use."
   ]
  },
  {
   "cell_type": "code",
   "execution_count": 3,
   "metadata": {
    "nbpresent": {
     "id": "d447e236-b1b9-4cf7-bc39-8bfb499d4730"
    }
   },
   "outputs": [
    {
     "name": "stdout",
     "output_type": "stream",
     "text": [
      "[b'Hundreds of people have been forced to vacate their homes in the Southern Highlands of New South Wales as strong winds today pushed a huge bushfire towards the town of Hill Top. A new blaze near Goulburn, south-west of Sydney, has forced the closure of the Hume Highway. At about 4:00pm AEDT, a marked deterioration in the weather as a storm cell moved east across the Blue Mountains forced authorities to make a decision to evacuate people from homes in outlying streets at Hill Top in the New South Wales southern highlands. An estimated 500 residents have left their homes for nearby Mittagong. The New South Wales Rural Fire Service says the weather conditions which caused the fire to burn in a finger formation have now eased and about 60 fire units in and around Hill Top are optimistic of defending all properties. As more than 100 blazes burn on New Year\\'s Eve in New South Wales, fire crews have been called to new fire at Gunning, south of Goulburn. While few details are available at this stage, fire authorities says it has closed the Hume Highway in both directions. Meanwhile, a new fire in Sydney\\'s west is no longer threatening properties in the Cranebrook area. Rain has fallen in some parts of the Illawarra, Sydney, the Hunter Valley and the north coast. But the Bureau of Meteorology\\'s Claire Richards says the rain has done little to ease any of the hundred fires still burning across the state. \"The falls have been quite isolated in those areas and generally the falls have been less than about five millimetres,\" she said. \"In some places really not significant at all, less than a millimetre, so there hasn\\'t been much relief as far as rain is concerned. \"In fact, they\\'ve probably hampered the efforts of the firefighters more because of the wind gusts that are associated with those thunderstorms.\" \\n']\n",
      "[b\"Indian security forces have shot dead eight suspected militants in a night-long encounter in southern Kashmir. The shootout took place at Dora village some 50 kilometers south of the Kashmiri summer capital Srinagar. The deaths came as Pakistani police arrested more than two dozen militants from extremist groups accused of staging an attack on India's parliament. India has accused Pakistan-based Lashkar-e-Taiba and Jaish-e-Mohammad of carrying out the attack on December 13 at the behest of Pakistani military intelligence. Military tensions have soared since the raid, with both sides massing troops along their border and trading tit-for-tat diplomatic sanctions. Yesterday, Pakistan announced it had arrested Lashkar-e-Taiba chief Hafiz Mohammed Saeed. Police in Karachi say it is likely more raids will be launched against the two groups as well as other militant organisations accused of targetting India. Military tensions between India and Pakistan have escalated to a level not seen since their 1971 war. \\n\"]\n",
      "[b'The national road toll for the Christmas-New Year holiday period stands at 45, eight fewer than for the same time last year. 20 people have died on New South Wales roads, with eight fatalities in both Queensland and Victoria. Western Australia, the Northern Territory and South Australia have each recorded three deaths, while the ACT and Tasmania remain fatality free. \\n']\n",
      "[b\"Argentina's political and economic crisis has deepened with the resignation of its interim President who took office just a week ago. Aldolfo Rodregiuez Saa told a stunned nation that he could not rescue Argentina because key fellow Peronists would not support his default on massive foreign debt repayment or his plan for a new currency. It was only a week ago that he was promising a million new jobs to end four years of recession, days after his predecessor resigned following a series of failed rescue packages. After announcing that the senate leader, Ramon Puerta, would assume the presidency until congress appoints a new caretaker president, the government said he too had quit and another senior lawmaker would act in the role. Fresh elections are not scheduled until March leaving whoever assumes the presidency with the daunting task of tackling Argentina's worst crisis in 12 years, but this time, isolated by international lending agencies. \\n\"]\n",
      "[b'Six midwives have been suspended at Wollongong Hospital, south of Sydney, for inappropriate use of nitrous oxide during work hours, on some occasions while women were in labour. The Illawarra Area Health Service says that following an investigation of unprofessional conduct, a further four midwives have been relocated to other areas within the hospital. The service\\'s chief executive officer, Tony Sherbon, says no one was put at risk, because other staff not involved in the use of nitrous oxide were able to take over caring for women in labour. \"Well we\\'re very concerned and the body of midwives to the hospital - there are over 70 midwives that work in our service - are very annoyed and angry at the inappropriate behaviour of these very senior people who should know better,\" he said. \"And that\\'s why we\\'ve take the action of suspending them and we\\'ll consider further action next week.\" \\n']\n"
     ]
    }
   ],
   "source": [
    "with smart_open(lee_train_file, 'rb') as f:\n",
    "    for n, l in enumerate(f):\n",
    "        if n < 5:\n",
    "            print([l])"
   ]
  },
  {
   "cell_type": "code",
   "execution_count": 4,
   "metadata": {
    "nbpresent": {
     "id": "f4d505e5-5e90-4770-aaae-04ae05d697b5"
    }
   },
   "outputs": [],
   "source": [
    "def build_texts(fname):\n",
    "    \"\"\"\n",
    "    Function to build tokenized texts from file\n",
    "    \n",
    "    Parameters:\n",
    "    ----------\n",
    "    fname: File to be read\n",
    "    \n",
    "    Returns:\n",
    "    -------\n",
    "    yields preprocessed line\n",
    "    \"\"\"\n",
    "    with smart_open(fname, 'rb') as f:\n",
    "        for line in f:\n",
    "            yield gensim.utils.simple_preprocess(line, deacc=True, min_len=3)"
   ]
  },
  {
   "cell_type": "code",
   "execution_count": 5,
   "metadata": {
    "nbpresent": {
     "id": "4dbde9d2-3a9d-4677-8dd4-90066c0cb7c4"
    }
   },
   "outputs": [],
   "source": [
    "train_texts = list(build_texts(lee_train_file))"
   ]
  },
  {
   "cell_type": "code",
   "execution_count": 6,
   "metadata": {
    "nbpresent": {
     "id": "e7995c4c-f483-4cb5-9f53-3b8c5fef39c3"
    }
   },
   "outputs": [
    {
     "data": {
      "text/plain": [
       "300"
      ]
     },
     "execution_count": 6,
     "metadata": {},
     "output_type": "execute_result"
    }
   ],
   "source": [
    "len(train_texts)"
   ]
  },
  {
   "cell_type": "markdown",
   "metadata": {
    "nbpresent": {
     "id": "a6d40ad7-2abd-44e5-8839-62731fb5eab7"
    }
   },
   "source": [
    "### Preprocessing our data. Remember: Garbage In Garbage Out\n",
    "                                        \"NLP is 80% preprocessing.\"\n",
    "                                                                -Lev Konstantinovskiy\n",
    "This is the single most important step in setting up a good topic modeling system. If the preprocessing is not good, the algorithm can't do much since we would be feeding it a lot of noise. In this tutorial, we will be filtering out the noise using the following steps in this order for each line:\n",
    "1. Stopword removal using NLTK's english stopwords dataset.\n",
    "2. Bigram collocation detection (frequently co-occuring tokens) using gensim's [Phrases](https://radimrehurek.com/gensim/models/phrases.html). This is our first attempt to find some hidden structure in the corpus. You can even try trigram collocation detection.\n",
    "3. Lemmatization (using gensim's [`lemmatize`](https://radimrehurek.com/gensim/utils.html#gensim.utils.lemmatize)) to only keep the nouns. Lemmatization is generally better than stemming in the case of topic modeling since the words after lemmatization still remain understable. However, generally stemming might be preferred if the data is being fed into a vectorizer and isn't intended to be viewed."
   ]
  },
  {
   "cell_type": "code",
   "execution_count": 7,
   "metadata": {
    "nbpresent": {
     "id": "3ca3d45b-a28b-41c7-b5de-4c124c50d13d"
    }
   },
   "outputs": [],
   "source": [
    "bigram = gensim.models.Phrases(train_texts)  # for bigram collocation detection"
   ]
  },
  {
   "cell_type": "code",
   "execution_count": 8,
   "metadata": {
    "nbpresent": {
     "id": "862c087b-b918-47b9-b0cf-42b71996e061"
    }
   },
   "outputs": [
    {
     "data": {
      "text/plain": [
       "['new_york', 'example']"
      ]
     },
     "execution_count": 8,
     "metadata": {},
     "output_type": "execute_result"
    }
   ],
   "source": [
    "bigram[['new', 'york', 'example']]"
   ]
  },
  {
   "cell_type": "code",
   "execution_count": 9,
   "metadata": {
    "nbpresent": {
     "id": "1181e3a8-6803-4f41-9d55-397f3d700c28"
    }
   },
   "outputs": [],
   "source": [
    "from gensim.utils import lemmatize\n",
    "from nltk.corpus import stopwords"
   ]
  },
  {
   "cell_type": "code",
   "execution_count": 10,
   "metadata": {
    "nbpresent": {
     "id": "dbeeeabe-b6dd-477c-a798-fb7b39302ba9"
    }
   },
   "outputs": [],
   "source": [
    "stops = set(stopwords.words('english'))  # nltk stopwords list"
   ]
  },
  {
   "cell_type": "code",
   "execution_count": 11,
   "metadata": {
    "nbpresent": {
     "id": "3d784001-6875-4be5-b8e8-e6c490f5b7b4"
    }
   },
   "outputs": [],
   "source": [
    "def process_texts(texts):\n",
    "    \"\"\"\n",
    "    Function to process texts. Following are the steps we take:\n",
    "    \n",
    "    1. Stopword Removal.\n",
    "    2. Collocation detection.\n",
    "    3. Lemmatization (not stem since stemming can reduce the interpretability).\n",
    "    \n",
    "    Parameters:\n",
    "    ----------\n",
    "    texts: Tokenized texts.\n",
    "    \n",
    "    Returns:\n",
    "    -------\n",
    "    texts: Pre-processed tokenized texts.\n",
    "    \"\"\"\n",
    "    texts = [[word for word in line if word not in stops] for line in texts]\n",
    "    texts = [bigram[line] for line in texts]\n",
    "    \n",
    "    from nltk.stem import WordNetLemmatizer\n",
    "    lemmatizer = WordNetLemmatizer()\n",
    "\n",
    "    texts = [[word for word in lemmatizer.lemmatize(' '.join(line), pos='v').split()] for line in texts]\n",
    "    return texts"
   ]
  },
  {
   "cell_type": "code",
   "execution_count": 12,
   "metadata": {
    "nbpresent": {
     "id": "d8cfc39f-aa3b-469f-ae34-1ef99ef51a25"
    }
   },
   "outputs": [
    {
     "data": {
      "text/plain": [
       "[['federal_government',\n",
       "  'says',\n",
       "  'safe',\n",
       "  'afghani',\n",
       "  'asylum_seekers',\n",
       "  'australia',\n",
       "  'return',\n",
       "  'home',\n",
       "  'environment',\n",
       "  'becomes',\n",
       "  'secure',\n",
       "  'government',\n",
       "  'suspended',\n",
       "  'applications',\n",
       "  'interim_government',\n",
       "  'established',\n",
       "  'kabul',\n",
       "  'foreign_affairs',\n",
       "  'minister_alexander',\n",
       "  'downer',\n",
       "  'refused',\n",
       "  'say',\n",
       "  'long',\n",
       "  'claims',\n",
       "  'process',\n",
       "  'put',\n",
       "  'hold',\n",
       "  'says',\n",
       "  'major',\n",
       "  'threat',\n",
       "  'people',\n",
       "  'seeking',\n",
       "  'asylum',\n",
       "  'longer',\n",
       "  'many',\n",
       "  'afghans',\n",
       "  'tried',\n",
       "  'get',\n",
       "  'australia',\n",
       "  'matter',\n",
       "  'britain',\n",
       "  'countries',\n",
       "  'north',\n",
       "  'west',\n",
       "  'europe',\n",
       "  'claimed',\n",
       "  'fleeing',\n",
       "  'taliban',\n",
       "  'said',\n",
       "  'well',\n",
       "  'taliban',\n",
       "  'longer',\n",
       "  'power',\n",
       "  'afghanistan',\n",
       "  'taliban',\n",
       "  'finished',\n",
       "  'meanwhile',\n",
       "  'mass',\n",
       "  'airlift',\n",
       "  'detainees',\n",
       "  'christmas',\n",
       "  'island',\n",
       "  'pacific',\n",
       "  'island',\n",
       "  'nauru',\n",
       "  'total',\n",
       "  'people',\n",
       "  'flown',\n",
       "  'island',\n",
       "  'two',\n",
       "  'operations',\n",
       "  'using',\n",
       "  'chartered',\n",
       "  'aircraft',\n",
       "  'second',\n",
       "  'airlift',\n",
       "  'today',\n",
       "  'delivered',\n",
       "  'asylum_seekers',\n",
       "  'nauru',\n",
       "  'await',\n",
       "  'processing',\n",
       "  'claims',\n",
       "  'temporary',\n",
       "  'visas',\n",
       "  'department',\n",
       "  'immigration',\n",
       "  'says',\n",
       "  'detainees',\n",
       "  'remaining',\n",
       "  'christmas',\n",
       "  'island',\n",
       "  'spokesman',\n",
       "  'says',\n",
       "  'decision',\n",
       "  'regarding',\n",
       "  'future',\n",
       "  'yet',\n",
       "  'made']]"
      ]
     },
     "execution_count": 12,
     "metadata": {},
     "output_type": "execute_result"
    }
   ],
   "source": [
    "train_texts = process_texts(train_texts)\n",
    "train_texts[5:6]"
   ]
  },
  {
   "cell_type": "markdown",
   "metadata": {
    "nbpresent": {
     "id": "0e5ca1a8-9c78-412a-9ab4-a4d0be5afd34"
    }
   },
   "source": [
    "Finalising our dictionary and corpus"
   ]
  },
  {
   "cell_type": "code",
   "execution_count": 13,
   "metadata": {
    "nbpresent": {
     "id": "161e8770-8bc2-41ae-98f4-08d1c9311e82"
    }
   },
   "outputs": [],
   "source": [
    "dictionary = Dictionary(train_texts)\n",
    "corpus = [dictionary.doc2bow(text) for text in train_texts]"
   ]
  },
  {
   "cell_type": "markdown",
   "metadata": {
    "nbpresent": {
     "id": "fe809373-e88b-44eb-9cb9-08be3dc5949a"
    }
   },
   "source": [
    "### Topic modeling with LSI\n",
    "This is a useful topic modeling algorithm in that it can rank topics by itself. Thus it outputs topics in a ranked order. However it does require a `num_topics` parameter (set to 200 by default) to determine the number of latent dimensions after the SVD."
   ]
  },
  {
   "cell_type": "code",
   "execution_count": 14,
   "metadata": {
    "nbpresent": {
     "id": "58e7dda6-0dd2-4e4f-b81a-0b530c66b20b"
    }
   },
   "outputs": [],
   "source": [
    "lsimodel = LsiModel(corpus=corpus, num_topics=10, id2word=dictionary)"
   ]
  },
  {
   "cell_type": "code",
   "execution_count": 15,
   "metadata": {
    "nbpresent": {
     "id": "6b5572c0-2ab0-4b13-a08f-3db21b4c4f21"
    },
    "scrolled": false
   },
   "outputs": [
    {
     "data": {
      "text/plain": [
       "[(0,\n",
       "  '0.542*\"said\" + 0.349*\"says\" + 0.127*\"arafat\" + 0.122*\"palestinian\" + 0.118*\"people\" + 0.117*\"israeli\" + 0.112*\"two\" + 0.110*\"australian\" + 0.110*\"also\" + 0.107*\"australia\"'),\n",
       " (1,\n",
       "  '-0.407*\"says\" + 0.322*\"arafat\" + 0.315*\"palestinian\" + 0.273*\"israeli\" + 0.192*\"israel\" + 0.173*\"sharon\" + -0.145*\"australia\" + -0.143*\"australian\" + 0.140*\"west_bank\" + 0.136*\"hamas\"'),\n",
       " (2,\n",
       "  '0.348*\"says\" + -0.330*\"said\" + -0.202*\"afghanistan\" + -0.191*\"bin_laden\" + -0.178*\"taliban\" + -0.169*\"pakistan\" + 0.162*\"australia\" + 0.149*\"arafat\" + -0.126*\"tora_bora\" + 0.124*\"israeli\"'),\n",
       " (3,\n",
       "  '0.293*\"fire\" + 0.240*\"sydney\" + -0.214*\"says\" + 0.185*\"firefighters\" + 0.171*\"south\" + 0.164*\"wales\" + 0.164*\"new_south\" + 0.162*\"north\" + 0.161*\"fires\" + -0.152*\"afghanistan\"'),\n",
       " (4,\n",
       "  '-0.219*\"said\" + -0.171*\"test\" + -0.171*\"match\" + 0.154*\"afghanistan\" + 0.149*\"government\" + 0.149*\"says\" + -0.144*\"first\" + 0.142*\"fire\" + -0.139*\"australia\" + 0.135*\"force\"')]"
      ]
     },
     "execution_count": 15,
     "metadata": {},
     "output_type": "execute_result"
    }
   ],
   "source": [
    "lsimodel.show_topics(num_topics=5)  # Showing only the top 5 topics"
   ]
  },
  {
   "cell_type": "code",
   "execution_count": 16,
   "metadata": {
    "nbpresent": {
     "id": "b1a8c7b4-dc46-4bfe-b17b-d604f212b389"
    }
   },
   "outputs": [],
   "source": [
    "lsitopics = lsimodel.show_topics(formatted=False)"
   ]
  },
  {
   "cell_type": "markdown",
   "metadata": {
    "nbpresent": {
     "id": "943a5fcd-7c2e-4c16-9879-34882a7a74d4"
    }
   },
   "source": [
    "### Topic modeling with [HDP](http://jmlr.csail.mit.edu/proceedings/papers/v15/wang11a/wang11a.pdf)\n",
    "An HDP model is fully unsupervised. It can also determine the ideal number of topics it needs through posterior inference."
   ]
  },
  {
   "cell_type": "code",
   "execution_count": 17,
   "metadata": {
    "nbpresent": {
     "id": "b492de13-0053-416c-b314-1bbae21ca828"
    }
   },
   "outputs": [],
   "source": [
    "hdpmodel = HdpModel(corpus=corpus, id2word=dictionary)"
   ]
  },
  {
   "cell_type": "code",
   "execution_count": 18,
   "metadata": {
    "nbpresent": {
     "id": "92dbb672-adca-4535-8089-de23712828d8"
    }
   },
   "outputs": [
    {
     "data": {
      "text/plain": [
       "[(0,\n",
       "  '0.005*said + 0.003*government + 0.003*sharon + 0.003*israeli + 0.003*says + 0.002*palestinian + 0.002*match + 0.002*security + 0.002*friedli + 0.002*people + 0.002*day + 0.002*arafat + 0.002*two + 0.002*killed + 0.002*president + 0.002*rabbani + 0.002*attacks + 0.002*know + 0.002*could + 0.002*gaza_strip'),\n",
       " (1,\n",
       "  '0.004*said + 0.004*says + 0.004*arafat + 0.004*government + 0.002*sharon + 0.002*israeli + 0.002*help + 0.002*storm + 0.002*hit + 0.002*sydney + 0.002*ses + 0.002*palestinian + 0.002*trees + 0.002*homes + 0.002*yesterday + 0.001*official + 0.001*military + 0.001*services + 0.001*west_bank + 0.001*areas'),\n",
       " (2,\n",
       "  '0.007*said + 0.005*taliban + 0.003*airport + 0.003*kandahar + 0.003*afghanistan + 0.003*also + 0.002*killed + 0.002*powell + 0.002*southern + 0.002*rumsfeld + 0.002*osama_bin + 0.002*city + 0.002*near + 0.002*bin_laden + 0.002*night + 0.002*forces + 0.002*opposition + 0.002*says + 0.001*civilians + 0.001*ground'),\n",
       " (3,\n",
       "  '0.003*said + 0.003*harrison + 0.002*australian + 0.002*george + 0.002*says + 0.002*died + 0.002*human + 0.002*brain + 0.002*beatle + 0.002*team + 0.002*arrest + 0.002*come + 0.001*people + 0.001*memory + 0.001*tonight + 0.001*man + 0.001*cells + 0.001*research + 0.001*liverpool + 0.001*campbelltown'),\n",
       " (4,\n",
       "  '0.002*dispute + 0.001*lee + 0.001*match + 0.001*new_zealand + 0.001*yallourn + 0.001*unions + 0.001*yesterday + 0.001*said + 0.001*test + 0.001*third + 0.001*stride + 0.001*power + 0.001*iffam + 0.001*symbols + 0.001*industrial_relations + 0.001*victoria + 0.001*agreement + 0.001*government + 0.001*new + 0.001*bargaining'),\n",
       " (5,\n",
       "  '0.003*report + 0.003*commission + 0.003*company + 0.002*one + 0.002*collapse + 0.002*said + 0.002*martin + 0.002*says + 0.002*australian + 0.002*last_year + 0.001*told + 0.001*giant + 0.001*young + 0.001*assisting + 0.001*eight + 0.001*hih + 0.001*ernst + 0.001*force + 0.001*hearing + 0.001*took'),\n",
       " (6,\n",
       "  '0.003*said + 0.003*team + 0.002*rafter + 0.002*australia + 0.002*win + 0.002*doubles + 0.002*says + 0.002*expect + 0.002*good + 0.002*know + 0.002*match + 0.001*make + 0.001*captain + 0.001*enough + 0.001*best + 0.001*australian + 0.001*davis + 0.001*incredible + 0.001*changes + 0.001*pakistani'),\n",
       " (7,\n",
       "  '0.002*says + 0.002*per_cent + 0.002*job + 0.002*olivier + 0.001*confirming + 0.001*anz + 0.001*week + 0.001*employment + 0.001*drop + 0.001*lowest + 0.001*going + 0.001*chain + 0.001*november + 0.001*since + 0.001*administrator + 0.001*market + 0.001*travel + 0.001*mcdonald + 0.001*engaging + 0.001*blowout'),\n",
       " (8,\n",
       "  '0.004*company + 0.002*austar + 0.002*entitlements + 0.002*staff + 0.002*cents + 0.002*says + 0.002*million + 0.002*administrators + 0.002*review + 0.002*receive + 0.001*said + 0.001*albarran + 0.001*morning + 0.001*line + 0.001*stores + 0.001*franconi + 0.001*traveland + 0.001*redundancy + 0.001*six_months + 0.001*today'),\n",
       " (9,\n",
       "  '0.003*krishna + 0.002*hare + 0.002*benares + 0.002*ashes + 0.002*ganges + 0.002*harrison + 0.002*holy + 0.002*take + 0.002*ceremony + 0.001*place + 0.001*would + 0.001*river + 0.001*hindu + 0.001*hindus + 0.001*morning + 0.001*widow + 0.001*hundreds + 0.001*said + 0.001*used + 0.001*pitched'),\n",
       " (10,\n",
       "  '0.002*sun + 0.002*harrison + 0.002*band + 0.001*sweet + 0.001*dismissed + 0.001*watching + 0.001*home + 0.001*injured + 0.001*known + 0.001*lennon + 0.001*beatles + 0.001*shura + 0.001*film + 0.001*longer + 0.001*estimated + 0.001*songs + 0.001*beatle + 0.001*success + 0.001*flushed + 0.001*paused'),\n",
       " (11,\n",
       "  '0.002*metres + 0.002*says + 0.002*party + 0.002*coalition + 0.001*said + 0.001*two + 0.001*parties + 0.001*first + 0.001*states + 0.001*national + 0.001*three + 0.001*wants + 0.001*stage + 0.001*president + 0.001*brought + 0.001*event + 0.001*amalgamation + 0.001*speculation + 0.001*still + 0.001*fundamentalist'),\n",
       " (12,\n",
       "  '0.001*expansion + 0.001*register + 0.001*first + 0.001*said + 0.001*says + 0.001*agreements + 0.001*crean_says + 0.001*parties + 0.001*month + 0.001*finding + 0.001*clear + 0.001*worst + 0.001*different + 0.001*future + 0.001*collapse + 0.001*distribution + 0.001*shooter + 0.001*course + 0.001*put + 0.001*fact'),\n",
       " (13,\n",
       "  '0.002*israeli + 0.002*said + 0.002*soldiers + 0.002*source + 0.002*palestinian + 0.002*two + 0.002*hamas + 0.001*militants + 0.001*beattie + 0.001*leaders + 0.001*wave + 0.001*near + 0.001*palestinians + 0.001*senior + 0.001*palestinian_security + 0.001*crackdown + 0.001*confirmed + 0.001*palestinian_leadership + 0.001*ismail + 0.001*smaller'),\n",
       " (14,\n",
       "  '0.003*three + 0.002*canyoning + 0.002*adventure_world + 0.002*one + 0.002*guides + 0.002*interlaken + 0.002*river_gorge + 0.002*face + 0.001*trip + 0.001*people_including + 0.001*defendants + 0.001*tomorrow + 0.001*manslaughter + 0.001*court + 0.001*year_jail + 0.001*lack + 0.001*tourists + 0.001*mountains + 0.001*australians + 0.001*struck'),\n",
       " (15,\n",
       "  '0.003*india + 0.003*says + 0.002*indian + 0.002*australian + 0.001*public + 0.001*australia + 0.001*document + 0.001*projected + 0.001*report + 0.001*new + 0.001*given + 0.001*sector + 0.001*escalating + 0.001*unions + 0.001*economy + 0.001*potts + 0.001*labour + 0.001*union + 0.001*laws + 0.001*jobs'),\n",
       " (16,\n",
       "  '0.002*sydney + 0.002*hit + 0.002*damage + 0.002*north + 0.001*said + 0.001*struck + 0.001*wales + 0.001*disaster + 0.001*carr + 0.001*house + 0.001*assisted + 0.001*walker + 0.001*storms + 0.001*thehuge + 0.001*storm + 0.001*volunteers + 0.001*areas + 0.001*trees + 0.001*back + 0.001*new_south'),\n",
       " (17,\n",
       "  '0.003*economy + 0.002*says + 0.002*australia + 0.002*strong + 0.001*quite + 0.001*set + 0.001*said + 0.001*south + 0.001*australian + 0.001*taylor + 0.001*rural + 0.001*economic + 0.001*also + 0.001*follow + 0.001*banksa + 0.001*firm + 0.001*recession + 0.001*companies + 0.001*colin + 0.001*market'),\n",
       " (18,\n",
       "  '0.002*australia + 0.001*day + 0.001*militiamen + 0.001*frank + 0.001*final + 0.001*perth + 0.001*said + 0.001*adam + 0.001*test + 0.001*inferno + 0.001*kirribilli + 0.001*parore + 0.001*coaching + 0.001*ended + 0.001*liquidator + 0.001*likelihood + 0.001*middle_east + 0.001*new_zealand + 0.001*class + 0.001*internal'),\n",
       " (19,\n",
       "  '0.002*says + 0.002*buchanan + 0.002*australia + 0.001*gift + 0.001*industrial_relations + 0.001*towards + 0.001*said + 0.001*young + 0.001*day + 0.001*pointed + 0.001*new_zealand + 0.001*trouble + 0.001*game + 0.001*sacrifice + 0.001*begins + 0.001*mark + 0.001*win + 0.001*match + 0.001*possible + 0.001*disagreements')]"
      ]
     },
     "execution_count": 18,
     "metadata": {},
     "output_type": "execute_result"
    }
   ],
   "source": [
    "hdpmodel.show_topics()"
   ]
  },
  {
   "cell_type": "code",
   "execution_count": 19,
   "metadata": {
    "nbpresent": {
     "id": "85e46481-0245-448c-b4e2-e0c6e175357c"
    }
   },
   "outputs": [],
   "source": [
    "hdptopics = hdpmodel.show_topics(formatted=False)"
   ]
  },
  {
   "cell_type": "markdown",
   "metadata": {
    "nbpresent": {
     "id": "380ef8b7-6de1-4822-ae30-7120e12b5955"
    }
   },
   "source": [
    "### Topic modeling using [LDA](https://www.cs.princeton.edu/~blei/papers/HoffmanBleiBach2010b.pdf)\n",
    "This is one the most popular topic modeling algorithms today. It is a generative model in that it assumes each document is a mixture of topics and in turn, each topic is a mixture of words. To understand it better you can watch [this](https://www.youtube.com/watch?v=DDq3OVp9dNA) lecture by David Blei. Let's choose 10 topics to initialize this."
   ]
  },
  {
   "cell_type": "code",
   "execution_count": 20,
   "metadata": {
    "nbpresent": {
     "id": "a02b72fb-0049-4ec3-825f-179e396f3904"
    }
   },
   "outputs": [],
   "source": [
    "ldamodel = LdaModel(corpus=corpus, num_topics=10, id2word=dictionary)"
   ]
  },
  {
   "cell_type": "markdown",
   "metadata": {
    "nbpresent": {
     "id": "672c009d-3dbc-4a1f-a789-2a0fe78729b9"
    }
   },
   "source": [
    "pyLDAvis is a great way to visualize an LDA model. To summarize in short, the area of the circles represent the prevelance of the topic. The length of the bars on the right represent the membership of a term in a particular topic. pyLDAvis is based on [this](http://nlp.stanford.edu/events/illvi2014/papers/sievert-illvi2014.pdf) paper."
   ]
  },
  {
   "cell_type": "code",
   "execution_count": 21,
   "metadata": {
    "nbpresent": {
     "id": "f7724653-52ef-41e8-aa22-6232be216b08"
    }
   },
   "outputs": [],
   "source": [
    "import pyLDAvis.gensim"
   ]
  },
  {
   "cell_type": "code",
   "execution_count": 22,
   "metadata": {
    "nbpresent": {
     "id": "2c5b03e0-ce0f-4999-8fe1-820a9fe06873"
    }
   },
   "outputs": [],
   "source": [
    "pyLDAvis.enable_notebook()"
   ]
  },
  {
   "cell_type": "code",
   "execution_count": 23,
   "metadata": {
    "nbpresent": {
     "id": "7da56259-bbf2-4f63-93f6-033833ae4494"
    },
    "scrolled": false
   },
   "outputs": [
    {
     "data": {
      "text/html": [
       "\n",
       "<link rel=\"stylesheet\" type=\"text/css\" href=\"https://cdn.rawgit.com/bmabey/pyLDAvis/files/ldavis.v1.0.0.css\">\n",
       "\n",
       "\n",
       "<div id=\"ldavis_el1723947109033843599366726\"></div>\n",
       "<script type=\"text/javascript\">\n",
       "\n",
       "var ldavis_el1723947109033843599366726_data = {\"mdsDat\": {\"Freq\": [14.937811851501465, 14.726419448852539, 14.68640422821045, 11.353440284729004, 10.94847583770752, 10.597322463989258, 8.69968032836914, 7.151500701904297, 3.7070016860961914, 3.191943883895874], \"cluster\": [1, 1, 1, 1, 1, 1, 1, 1, 1, 1], \"topics\": [1, 2, 3, 4, 5, 6, 7, 8, 9, 10], \"x\": [-0.030425760946553332, 0.013321493337428636, -0.0062740006782852995, 0.005065652945617209, 0.01678527913056411, 0.03049682946536306, -0.060536246480971896, 0.017973435339704084, -0.01948498375905032, 0.03307830164618362], \"y\": [-0.01856646133961523, -0.018076523221538066, 0.002086425662636088, -0.00871254127644943, 0.003389537920752075, -0.038819802890385544, -0.01780187976529916, 0.015482833733780036, 0.06041804707139067, 0.02060036410472858]}, \"tinfo\": {\"Category\": [\"Default\", \"Default\", \"Default\", \"Default\", \"Default\", \"Default\", \"Default\", \"Default\", \"Default\", \"Default\", \"Default\", \"Default\", \"Default\", \"Default\", \"Default\", \"Default\", \"Default\", \"Default\", \"Default\", \"Default\", \"Default\", \"Default\", \"Default\", \"Default\", \"Default\", \"Default\", \"Default\", \"Default\", \"Default\", \"Default\", \"Topic1\", \"Topic1\", \"Topic1\", \"Topic1\", \"Topic1\", \"Topic1\", \"Topic1\", \"Topic1\", \"Topic1\", \"Topic1\", \"Topic1\", \"Topic1\", \"Topic1\", \"Topic1\", \"Topic1\", \"Topic1\", \"Topic1\", \"Topic1\", \"Topic1\", \"Topic1\", \"Topic1\", \"Topic1\", \"Topic1\", \"Topic1\", \"Topic1\", \"Topic1\", \"Topic1\", \"Topic1\", \"Topic1\", \"Topic1\", \"Topic1\", \"Topic1\", \"Topic1\", \"Topic1\", \"Topic1\", \"Topic1\", \"Topic1\", \"Topic1\", \"Topic1\", \"Topic1\", \"Topic1\", \"Topic1\", \"Topic1\", \"Topic1\", \"Topic1\", \"Topic1\", \"Topic1\", \"Topic1\", \"Topic1\", \"Topic1\", \"Topic1\", \"Topic1\", \"Topic1\", \"Topic1\", \"Topic1\", \"Topic1\", \"Topic1\", \"Topic1\", \"Topic1\", \"Topic1\", \"Topic1\", \"Topic1\", \"Topic1\", \"Topic1\", \"Topic1\", \"Topic1\", \"Topic1\", \"Topic1\", \"Topic1\", \"Topic1\", \"Topic1\", \"Topic1\", \"Topic1\", \"Topic1\", \"Topic1\", \"Topic1\", \"Topic1\", \"Topic1\", \"Topic1\", \"Topic2\", \"Topic2\", \"Topic2\", \"Topic2\", \"Topic2\", \"Topic2\", \"Topic2\", \"Topic2\", \"Topic2\", \"Topic2\", \"Topic2\", \"Topic2\", \"Topic2\", \"Topic2\", \"Topic2\", \"Topic2\", \"Topic2\", \"Topic2\", \"Topic2\", \"Topic2\", \"Topic2\", \"Topic2\", \"Topic2\", \"Topic2\", \"Topic2\", \"Topic2\", \"Topic2\", \"Topic2\", \"Topic2\", \"Topic2\", \"Topic2\", \"Topic2\", \"Topic2\", \"Topic2\", \"Topic2\", \"Topic2\", \"Topic2\", \"Topic2\", \"Topic2\", \"Topic2\", \"Topic2\", \"Topic2\", \"Topic2\", \"Topic2\", \"Topic2\", \"Topic2\", \"Topic2\", \"Topic2\", \"Topic2\", \"Topic2\", \"Topic2\", \"Topic2\", \"Topic2\", \"Topic2\", \"Topic2\", \"Topic2\", \"Topic2\", \"Topic2\", \"Topic2\", \"Topic2\", \"Topic2\", \"Topic2\", \"Topic2\", \"Topic2\", \"Topic2\", \"Topic2\", \"Topic2\", \"Topic2\", \"Topic2\", \"Topic2\", \"Topic2\", \"Topic2\", \"Topic2\", \"Topic2\", \"Topic2\", \"Topic2\", \"Topic2\", \"Topic2\", \"Topic2\", \"Topic2\", \"Topic2\", \"Topic2\", \"Topic2\", \"Topic2\", \"Topic2\", \"Topic2\", \"Topic2\", \"Topic2\", \"Topic3\", \"Topic3\", \"Topic3\", \"Topic3\", \"Topic3\", \"Topic3\", \"Topic3\", \"Topic3\", \"Topic3\", \"Topic3\", \"Topic3\", \"Topic3\", \"Topic3\", \"Topic3\", \"Topic3\", \"Topic3\", \"Topic3\", \"Topic3\", \"Topic3\", \"Topic3\", \"Topic3\", \"Topic3\", \"Topic3\", \"Topic3\", \"Topic3\", \"Topic3\", \"Topic3\", \"Topic3\", \"Topic3\", \"Topic3\", \"Topic3\", \"Topic3\", \"Topic3\", \"Topic3\", \"Topic3\", \"Topic3\", \"Topic3\", \"Topic3\", \"Topic3\", \"Topic3\", \"Topic3\", \"Topic3\", \"Topic3\", \"Topic3\", \"Topic3\", \"Topic3\", \"Topic3\", \"Topic3\", \"Topic3\", \"Topic3\", \"Topic3\", \"Topic3\", \"Topic3\", \"Topic3\", \"Topic3\", \"Topic3\", \"Topic3\", \"Topic3\", \"Topic3\", \"Topic3\", \"Topic3\", \"Topic3\", \"Topic3\", \"Topic3\", \"Topic3\", \"Topic3\", \"Topic3\", \"Topic3\", \"Topic3\", \"Topic3\", \"Topic3\", \"Topic3\", \"Topic3\", \"Topic3\", \"Topic3\", \"Topic3\", \"Topic4\", \"Topic4\", \"Topic4\", \"Topic4\", \"Topic4\", \"Topic4\", \"Topic4\", \"Topic4\", \"Topic4\", \"Topic4\", \"Topic4\", \"Topic4\", \"Topic4\", \"Topic4\", \"Topic4\", \"Topic4\", \"Topic4\", \"Topic4\", \"Topic4\", \"Topic4\", \"Topic4\", \"Topic4\", \"Topic4\", \"Topic4\", \"Topic4\", \"Topic4\", \"Topic4\", \"Topic4\", \"Topic4\", \"Topic4\", \"Topic4\", \"Topic4\", \"Topic4\", \"Topic4\", \"Topic4\", \"Topic4\", \"Topic4\", \"Topic4\", \"Topic4\", \"Topic4\", \"Topic4\", \"Topic4\", \"Topic4\", \"Topic4\", \"Topic4\", \"Topic4\", \"Topic4\", \"Topic4\", \"Topic4\", \"Topic4\", \"Topic4\", \"Topic4\", \"Topic4\", \"Topic4\", \"Topic4\", \"Topic4\", \"Topic4\", \"Topic4\", \"Topic4\", \"Topic4\", \"Topic4\", \"Topic4\", \"Topic4\", \"Topic4\", \"Topic4\", \"Topic4\", \"Topic4\", \"Topic4\", \"Topic4\", \"Topic4\", \"Topic4\", \"Topic4\", \"Topic4\", \"Topic4\", \"Topic4\", \"Topic4\", \"Topic4\", \"Topic4\", \"Topic4\", \"Topic5\", \"Topic5\", \"Topic5\", \"Topic5\", \"Topic5\", \"Topic5\", \"Topic5\", \"Topic5\", \"Topic5\", \"Topic5\", \"Topic5\", \"Topic5\", \"Topic5\", \"Topic5\", \"Topic5\", \"Topic5\", \"Topic5\", \"Topic5\", \"Topic5\", \"Topic5\", \"Topic5\", \"Topic5\", \"Topic5\", \"Topic5\", \"Topic5\", \"Topic5\", \"Topic5\", \"Topic5\", \"Topic5\", \"Topic5\", \"Topic5\", \"Topic5\", \"Topic5\", \"Topic5\", \"Topic5\", \"Topic5\", \"Topic5\", \"Topic5\", \"Topic5\", \"Topic5\", \"Topic5\", \"Topic5\", \"Topic5\", \"Topic5\", \"Topic5\", \"Topic5\", \"Topic5\", \"Topic5\", \"Topic5\", \"Topic5\", \"Topic5\", \"Topic5\", \"Topic5\", \"Topic5\", \"Topic5\", \"Topic5\", \"Topic5\", \"Topic5\", \"Topic5\", \"Topic5\", \"Topic5\", \"Topic5\", \"Topic5\", \"Topic5\", \"Topic5\", \"Topic5\", \"Topic5\", \"Topic5\", \"Topic5\", \"Topic5\", \"Topic5\", \"Topic5\", \"Topic5\", \"Topic5\", \"Topic5\", \"Topic5\", \"Topic5\", \"Topic6\", \"Topic6\", \"Topic6\", \"Topic6\", \"Topic6\", \"Topic6\", \"Topic6\", \"Topic6\", \"Topic6\", \"Topic6\", \"Topic6\", \"Topic6\", \"Topic6\", \"Topic6\", \"Topic6\", \"Topic6\", \"Topic6\", \"Topic6\", \"Topic6\", \"Topic6\", \"Topic6\", \"Topic6\", \"Topic6\", \"Topic6\", \"Topic6\", \"Topic6\", \"Topic6\", \"Topic6\", \"Topic6\", \"Topic6\", \"Topic6\", \"Topic6\", \"Topic6\", \"Topic6\", \"Topic6\", \"Topic6\", \"Topic6\", \"Topic6\", \"Topic6\", \"Topic6\", \"Topic6\", \"Topic6\", \"Topic6\", \"Topic6\", \"Topic6\", \"Topic6\", \"Topic6\", \"Topic6\", \"Topic6\", \"Topic6\", \"Topic6\", \"Topic6\", \"Topic6\", \"Topic6\", \"Topic6\", \"Topic6\", \"Topic6\", \"Topic6\", \"Topic6\", \"Topic6\", \"Topic6\", \"Topic6\", \"Topic6\", \"Topic6\", \"Topic6\", \"Topic6\", \"Topic6\", \"Topic6\", \"Topic6\", \"Topic6\", \"Topic6\", \"Topic6\", \"Topic6\", \"Topic6\", \"Topic6\", \"Topic6\", \"Topic6\", \"Topic7\", \"Topic7\", \"Topic7\", \"Topic7\", \"Topic7\", \"Topic7\", \"Topic7\", \"Topic7\", \"Topic7\", \"Topic7\", \"Topic7\", \"Topic7\", \"Topic7\", \"Topic7\", \"Topic7\", \"Topic7\", \"Topic7\", \"Topic7\", \"Topic7\", \"Topic7\", \"Topic7\", \"Topic7\", \"Topic7\", \"Topic7\", \"Topic7\", \"Topic7\", \"Topic7\", \"Topic7\", \"Topic7\", \"Topic7\", \"Topic7\", \"Topic7\", \"Topic7\", \"Topic7\", \"Topic7\", \"Topic7\", \"Topic7\", \"Topic7\", \"Topic7\", \"Topic7\", \"Topic7\", \"Topic7\", \"Topic7\", \"Topic7\", \"Topic7\", \"Topic7\", \"Topic7\", \"Topic7\", \"Topic7\", \"Topic7\", \"Topic7\", \"Topic7\", \"Topic7\", \"Topic7\", \"Topic7\", \"Topic7\", \"Topic7\", \"Topic7\", \"Topic7\", \"Topic7\", \"Topic7\", \"Topic7\", \"Topic7\", \"Topic7\", \"Topic7\", \"Topic7\", \"Topic7\", \"Topic7\", \"Topic7\", \"Topic7\", \"Topic7\", \"Topic7\", \"Topic7\", \"Topic7\", \"Topic7\", \"Topic7\", \"Topic7\", \"Topic8\", \"Topic8\", \"Topic8\", \"Topic8\", \"Topic8\", \"Topic8\", \"Topic8\", \"Topic8\", \"Topic8\", \"Topic8\", \"Topic8\", \"Topic8\", \"Topic8\", \"Topic8\", \"Topic8\", \"Topic8\", \"Topic8\", \"Topic8\", \"Topic8\", \"Topic8\", \"Topic8\", \"Topic8\", \"Topic8\", \"Topic8\", \"Topic8\", \"Topic8\", \"Topic8\", \"Topic8\", \"Topic8\", \"Topic8\", \"Topic8\", \"Topic8\", \"Topic8\", \"Topic8\", \"Topic8\", \"Topic8\", \"Topic8\", \"Topic8\", \"Topic8\", \"Topic8\", \"Topic8\", \"Topic8\", \"Topic8\", \"Topic8\", \"Topic8\", \"Topic8\", \"Topic8\", \"Topic8\", \"Topic8\", \"Topic8\", \"Topic8\", \"Topic8\", \"Topic8\", \"Topic8\", \"Topic8\", \"Topic8\", \"Topic8\", \"Topic8\", \"Topic8\", \"Topic8\", \"Topic8\", \"Topic8\", \"Topic8\", \"Topic8\", \"Topic8\", \"Topic8\", \"Topic8\", \"Topic8\", \"Topic8\", \"Topic8\", \"Topic8\", \"Topic8\", \"Topic8\", \"Topic8\", \"Topic8\", \"Topic8\", \"Topic9\", \"Topic9\", \"Topic9\", \"Topic9\", \"Topic9\", \"Topic9\", \"Topic9\", \"Topic9\", \"Topic9\", \"Topic9\", \"Topic9\", \"Topic9\", \"Topic9\", \"Topic9\", \"Topic9\", \"Topic9\", \"Topic9\", \"Topic9\", \"Topic9\", \"Topic9\", \"Topic9\", \"Topic9\", \"Topic9\", \"Topic9\", \"Topic9\", \"Topic9\", \"Topic9\", \"Topic9\", \"Topic9\", \"Topic9\", \"Topic9\", \"Topic9\", \"Topic9\", \"Topic9\", \"Topic9\", \"Topic9\", \"Topic9\", \"Topic9\", \"Topic9\", \"Topic9\", \"Topic9\", \"Topic9\", \"Topic9\", \"Topic9\", \"Topic9\", \"Topic9\", \"Topic9\", \"Topic9\", \"Topic9\", \"Topic9\", \"Topic9\", \"Topic9\", \"Topic9\", \"Topic9\", \"Topic9\", \"Topic9\", \"Topic9\", \"Topic9\", \"Topic9\", \"Topic9\", \"Topic9\", \"Topic9\", \"Topic9\", \"Topic9\", \"Topic9\", \"Topic9\", \"Topic9\", \"Topic9\", \"Topic9\", \"Topic9\", \"Topic9\", \"Topic10\", \"Topic10\", \"Topic10\", \"Topic10\", \"Topic10\", \"Topic10\", \"Topic10\", \"Topic10\", \"Topic10\", \"Topic10\", \"Topic10\", \"Topic10\", \"Topic10\", \"Topic10\", \"Topic10\", \"Topic10\", \"Topic10\", \"Topic10\", \"Topic10\", \"Topic10\", \"Topic10\", \"Topic10\", \"Topic10\", \"Topic10\", \"Topic10\", \"Topic10\", \"Topic10\", \"Topic10\", \"Topic10\", \"Topic10\", \"Topic10\", \"Topic10\", \"Topic10\", \"Topic10\", \"Topic10\", \"Topic10\", \"Topic10\", \"Topic10\", \"Topic10\", \"Topic10\", \"Topic10\", \"Topic10\", \"Topic10\", \"Topic10\", \"Topic10\", \"Topic10\", \"Topic10\", \"Topic10\", \"Topic10\", \"Topic10\", \"Topic10\", \"Topic10\", \"Topic10\", \"Topic10\", \"Topic10\", \"Topic10\", \"Topic10\", \"Topic10\", \"Topic10\", \"Topic10\", \"Topic10\", \"Topic10\", \"Topic10\", \"Topic10\", \"Topic10\", \"Topic10\", \"Topic10\", \"Topic10\"], \"Freq\": [386.0, 346.0, 117.0, 118.0, 98.0, 36.0, 37.0, 19.0, 92.0, 35.0, 100.0, 41.0, 8.0, 46.0, 13.0, 42.0, 14.0, 67.0, 49.0, 84.0, 56.0, 28.0, 12.0, 25.0, 63.0, 32.0, 38.0, 20.0, 9.0, 99.0, 6.297917366027832, 4.290246963500977, 2.121610164642334, 2.1205477714538574, 2.1153364181518555, 2.101013422012329, 2.5191285610198975, 2.495575189590454, 2.3004229068756104, 2.886009931564331, 1.1018379926681519, 1.1012898683547974, 1.0986400842666626, 1.0982362031936646, 1.097176194190979, 1.0956006050109863, 1.591135025024414, 2.169502019882202, 1.0564628839492798, 1.0397621393203735, 1.038636326789856, 1.0166491270065308, 1.5854789018630981, 1.0072835683822632, 2.4793283939361572, 1.0053502321243286, 0.994966983795166, 2.0748815536499023, 0.9880161881446838, 2.4608206748962402, 2.543923854827881, 2.3664004802703857, 2.7997608184814453, 1.9892613887786865, 2.0155551433563232, 6.846280574798584, 8.54678726196289, 6.237555980682373, 33.640167236328125, 4.584138870239258, 2.9836270809173584, 3.6408305168151855, 3.0556600093841553, 2.282508611679077, 10.35124397277832, 5.047272205352783, 24.72439193725586, 4.590494632720947, 11.259116172790527, 5.253904819488525, 5.874190807342529, 14.737578392028809, 14.136996269226074, 57.905521392822266, 17.501270294189453, 50.211551666259766, 9.542776107788086, 14.31924819946289, 16.97154426574707, 4.634387969970703, 13.323789596557617, 18.326080322265625, 12.329224586486816, 7.4880876541137695, 10.572550773620605, 8.215397834777832, 7.536344528198242, 13.640278816223145, 10.503080368041992, 12.976911544799805, 11.318989753723145, 12.045133590698242, 9.49071979522705, 9.761839866638184, 12.361018180847168, 8.382087707519531, 9.292967796325684, 8.66362190246582, 7.7345290184021, 3.6342098712921143, 2.8706166744232178, 2.8635971546173096, 2.705430030822754, 2.679277181625366, 2.653412103652954, 1.8870218992233276, 1.7747544050216675, 1.768378734588623, 1.674312949180603, 1.6267776489257812, 3.75303316116333, 2.5673232078552246, 1.0204317569732666, 1.0194127559661865, 1.0193570852279663, 1.0189846754074097, 1.0181552171707153, 1.017844319343567, 1.017557978630066, 1.0174801349639893, 1.0146138668060303, 1.0144189596176147, 2.4692630767822266, 0.9935026168823242, 0.9858697652816772, 0.9840316772460938, 0.9787812232971191, 0.9786408543586731, 1.4949392080307007, 1.4852023124694824, 1.4289212226867676, 1.492803692817688, 6.148197650909424, 2.6692943572998047, 2.6857314109802246, 2.6797564029693604, 1.7980297803878784, 2.2292518615722656, 9.54293441772461, 3.6969285011291504, 6.488506317138672, 1.8183677196502686, 2.6076178550720215, 34.1083869934082, 5.441019535064697, 3.352067708969116, 3.1268022060394287, 68.98006439208984, 25.904577255249023, 16.3685245513916, 3.7514760494232178, 26.674203872680664, 14.527581214904785, 3.860708475112915, 5.076141357421875, 50.62371063232422, 6.325769901275635, 13.46982479095459, 5.053375720977783, 14.288972854614258, 8.092605590820312, 15.997169494628906, 6.279251575469971, 7.337530136108398, 12.298237800598145, 5.754364967346191, 11.474021911621094, 11.151338577270508, 11.427145957946777, 7.5862812995910645, 7.663572311401367, 7.26555871963501, 12.549949645996094, 12.518991470336914, 10.749796867370605, 9.413070678710938, 8.780322074890137, 9.702125549316406, 8.277444839477539, 9.548330307006836, 11.519515037536621, 8.755377769470215, 8.842344284057617, 8.737465858459473, 9.09893798828125, 8.722633361816406, 8.43694019317627, 1.9352147579193115, 1.9352126121520996, 1.93521249294281, 1.9352118968963623, 6.195810317993164, 2.372425079345703, 1.7554512023925781, 1.7392287254333496, 5.2134528160095215, 3.8444864749908447, 1.6971276998519897, 1.5849881172180176, 2.119894504547119, 3.927908420562744, 1.5255978107452393, 1.529382586479187, 0.9969052076339722, 0.9938124418258667, 0.9936589002609253, 0.9934600591659546, 0.9932310581207275, 0.9894174933433533, 0.98800128698349, 0.9870931506156921, 0.9846415519714355, 0.9816923141479492, 0.9816145300865173, 0.9812536835670471, 0.9800130724906921, 0.9768315553665161, 2.4097108840942383, 1.935212254524231, 2.3764960765838623, 3.1124813556671143, 1.4462251663208008, 5.1899590492248535, 3.615764617919922, 5.7967424392700195, 2.5292882919311523, 1.700238823890686, 5.082847595214844, 8.867507934570312, 9.042922973632812, 82.15863800048828, 18.0803279876709, 14.122939109802246, 7.474242687225342, 56.15876388549805, 15.712993621826172, 22.597253799438477, 14.744828224182129, 6.912920951843262, 5.058060646057129, 10.9742431640625, 8.763136863708496, 9.895352363586426, 13.29766845703125, 9.415994644165039, 16.307504653930664, 7.90961217880249, 8.219976425170898, 9.557640075683594, 16.59247398376465, 16.12137794494629, 14.139395713806152, 13.200203895568848, 9.068591117858887, 8.447237968444824, 12.791204452514648, 11.233505249023438, 9.443551063537598, 9.84526252746582, 9.40539836883545, 9.833003997802734, 9.759211540222168, 8.507070541381836, 4.501667499542236, 3.0257153511047363, 3.6530420780181885, 1.5497548580169678, 1.5464833974838257, 1.4007999897003174, 1.2981985807418823, 1.33784019947052, 1.32760751247406, 1.2710821628570557, 1.2743052244186401, 1.2142140865325928, 1.1955010890960693, 1.1865901947021484, 0.8117768168449402, 0.8117766380310059, 0.8117766380310059, 0.8117763996124268, 0.811776340007782, 0.8117762804031372, 0.8117762804031372, 0.8117761611938477, 0.8117759823799133, 0.8117761015892029, 0.8117757439613342, 0.8117758631706238, 0.8106063604354858, 0.8105002641677856, 2.3934781551361084, 0.7633963823318481, 1.1579862833023071, 1.9253032207489014, 7.0262579917907715, 7.142208576202393, 58.51198196411133, 1.4087789058685303, 2.1469290256500244, 4.091282367706299, 1.4433081150054932, 43.62175369262695, 1.6606310606002808, 8.486618041992188, 7.300586700439453, 2.922849416732788, 2.0961101055145264, 4.790298938751221, 2.829094886779785, 3.960442066192627, 10.948650360107422, 6.308706760406494, 11.203341484069824, 7.760941982269287, 8.27159309387207, 13.90909481048584, 6.885088920593262, 5.291223526000977, 13.692399978637695, 10.101099014282227, 5.20505428314209, 8.110814094543457, 7.091318607330322, 6.708367347717285, 10.515682220458984, 7.021642684936523, 8.295713424682617, 6.973184108734131, 9.302064895629883, 11.659659385681152, 8.53135871887207, 7.8309149742126465, 8.239415168762207, 8.1150484085083, 9.004624366760254, 7.90889835357666, 8.759071350097656, 8.570353507995605, 7.354001998901367, 7.0797038078308105, 7.142654895782471, 3.7641360759735107, 3.5716512203216553, 2.9277729988098145, 3.4268553256988525, 4.294917106628418, 1.538528323173523, 2.540619134902954, 1.4716931581497192, 1.483056664466858, 1.459926724433899, 0.9802147150039673, 0.9795440435409546, 0.979412853717804, 0.9785435199737549, 1.4531726837158203, 0.9773821234703064, 0.9765099883079529, 0.9718881249427795, 1.418501853942871, 1.8643842935562134, 2.1324586868286133, 1.7562587261199951, 0.8313009738922119, 1.7090964317321777, 0.8158893585205078, 0.8160979151725769, 0.814700722694397, 1.2420117855072021, 0.8134863376617432, 0.8162610530853271, 2.4532487392425537, 3.2472519874572754, 2.3886947631835938, 1.9693872928619385, 1.1598743200302124, 3.6532154083251953, 1.8649252653121948, 10.032626152038574, 3.344670057296753, 15.446802139282227, 14.355305671691895, 53.74439239501953, 3.7686142921447754, 2.9161360263824463, 6.501465320587158, 12.00544261932373, 16.725751876831055, 7.214683532714844, 4.478266716003418, 4.2175421714782715, 4.001121520996094, 2.8454036712646484, 14.306319236755371, 7.479302883148193, 15.125014305114746, 8.552044868469238, 4.849119663238525, 10.280261993408203, 6.035959720611572, 6.8868513107299805, 8.68258285522461, 6.34290885925293, 17.569257736206055, 7.30789852142334, 6.4009175300598145, 8.056639671325684, 8.349560737609863, 6.078150749206543, 6.418431758880615, 8.38674545288086, 7.181415557861328, 7.281097412109375, 6.716674327850342, 6.318421840667725, 5.977049827575684, 6.34771203994751, 6.060221195220947, 2.0325517654418945, 1.9396849870681763, 0.9622824192047119, 0.9622809886932373, 2.4643356800079346, 1.922573447227478, 2.212230920791626, 1.9130243062973022, 3.885711908340454, 1.3706412315368652, 1.3559019565582275, 0.9148219227790833, 1.3152828216552734, 0.9011601209640503, 1.810495138168335, 0.8911792635917664, 0.8903254866600037, 0.8888128399848938, 0.8887921571731567, 0.8876259326934814, 1.221764087677002, 0.8843469619750977, 1.3112624883651733, 0.8750355839729309, 1.2718181610107422, 1.2445286512374878, 0.8664582967758179, 1.2948744297027588, 0.8522540330886841, 1.2583186626434326, 3.8937530517578125, 2.1658337116241455, 3.49794340133667, 2.591562509536743, 3.259732246398926, 3.4594361782073975, 11.011104583740234, 3.964285373687744, 2.5918359756469727, 2.2883918285369873, 3.8671178817749023, 6.021426677703857, 5.916601657867432, 7.256160736083984, 6.275543212890625, 15.056872367858887, 2.6962716579437256, 2.206496000289917, 3.9573588371276855, 8.584129333496094, 36.07453155517578, 11.87228775024414, 14.344168663024902, 14.715348243713379, 15.84843921661377, 9.306882858276367, 9.163678169250488, 8.976282119750977, 6.9642791748046875, 6.592859268188477, 13.416669845581055, 7.059476852416992, 9.843393325805664, 6.694632053375244, 6.622870445251465, 7.713860511779785, 21.155277252197266, 8.911378860473633, 10.720093727111816, 7.511014938354492, 8.317281723022461, 9.226744651794434, 6.513733386993408, 7.348076343536377, 6.830455303192139, 7.439665794372559, 6.883815765380859, 2.098778247833252, 1.2782108783721924, 1.3216190338134766, 4.290428161621094, 3.3657188415527344, 2.65579891204834, 1.2826460599899292, 1.2625449895858765, 3.3489632606506348, 0.7824482321739197, 1.2115718126296997, 0.7605460286140442, 0.746849536895752, 0.7458163499832153, 0.7452002763748169, 0.7585955262184143, 0.7415930032730103, 1.1710349321365356, 0.7490509152412415, 0.7476899027824402, 1.8751112222671509, 0.7457631230354309, 0.7455606460571289, 0.7272680997848511, 0.7417250871658325, 0.7415441274642944, 0.738968014717102, 0.7393311262130737, 0.7241615056991577, 1.1556068658828735, 5.779770851135254, 1.1026806831359863, 2.297433614730835, 5.875957012176514, 3.18405818939209, 1.113904595375061, 1.7552332878112793, 3.8736650943756104, 3.037501573562622, 1.3921705484390259, 1.4736334085464478, 1.4320423603057861, 4.856623649597168, 7.1805195808410645, 1.8210859298706055, 2.104226589202881, 2.0113940238952637, 34.11344909667969, 5.794913291931152, 3.364495038986206, 4.941989898681641, 12.808050155639648, 26.457971572875977, 9.51954174041748, 3.565995693206787, 7.746131896972656, 6.085977077484131, 6.703421115875244, 6.563668251037598, 6.557511329650879, 3.263897180557251, 4.974296569824219, 8.059259414672852, 5.360125541687012, 8.410431861877441, 6.372796058654785, 4.770700454711914, 5.7994537353515625, 5.448516845703125, 6.047839164733887, 6.831505298614502, 4.9018330574035645, 5.3080153465271, 5.211584091186523, 4.549069404602051, 4.708555221557617, 4.6131720542907715, 4.5244269371032715, 1.4998048543930054, 1.062342643737793, 1.0230504274368286, 0.9794856309890747, 0.9863114953041077, 1.1291087865829468, 1.5848331451416016, 0.9482377171516418, 0.9307165741920471, 0.8367971181869507, 1.2418866157531738, 0.9206870198249817, 0.9195730090141296, 0.8800415396690369, 0.5761014223098755, 1.1963286399841309, 0.572577953338623, 0.5791999101638794, 0.8776304721832275, 0.774359405040741, 0.5627105832099915, 0.5698444843292236, 0.5563651919364929, 0.5679312944412231, 0.8717934489250183, 0.5515561699867249, 1.3679521083831787, 1.4305639266967773, 0.5421651601791382, 2.2054617404937744, 1.401005744934082, 1.3065743446350098, 1.3249998092651367, 1.0913065671920776, 1.834165096282959, 1.057612419128418, 1.3672101497650146, 0.797862708568573, 2.8200161457061768, 2.5535011291503906, 3.868616819381714, 27.26691246032715, 12.213220596313477, 4.345498085021973, 2.2445244789123535, 2.4812076091766357, 9.28460693359375, 9.574522018432617, 5.119675636291504, 5.209259033203125, 4.679337978363037, 7.8947954177856445, 3.583940267562866, 17.707054138183594, 8.466001510620117, 6.283935070037842, 6.409621238708496, 7.430675029754639, 5.977190017700195, 4.359346389770508, 5.205411434173584, 4.549105644226074, 5.1855268478393555, 5.11199426651001, 4.398515701293945, 3.82291316986084, 3.9501607418060303, 3.522993564605713, 4.397462844848633, 4.395345687866211, 3.922207832336426, 4.103775978088379, 4.39385461807251, 4.01061487197876, 3.920762777328491, 1.5154742002487183, 0.8627715706825256, 0.5771186947822571, 0.5771180391311646, 0.5771178603172302, 0.5723438262939453, 0.570982038974762, 0.570804238319397, 0.5705899000167847, 0.5701861381530762, 0.5700658559799194, 0.5694261193275452, 0.5691280364990234, 0.5689666867256165, 0.56879061460495, 0.5679076910018921, 1.0218191146850586, 0.8107083439826965, 0.7993395924568176, 1.8430777788162231, 0.7311934232711792, 0.46936583518981934, 0.43291836977005005, 0.43092209100723267, 0.6883447766304016, 0.4296540915966034, 0.6869653463363647, 0.42835405468940735, 0.4153805077075958, 0.6690894961357117, 1.7374236583709717, 1.3874155282974243, 0.6540029048919678, 2.104555368423462, 1.2662596702575684, 2.050398349761963, 1.8206453323364258, 2.033923864364624, 1.4628630876541138, 2.7618248462677, 3.9868361949920654, 1.2889611721038818, 3.1844022274017334, 1.3757646083831787, 3.428771495819092, 1.9269047975540161, 1.3034541606903076, 2.1682562828063965, 2.427419900894165, 2.2243926525115967, 8.53116512298584, 3.0434155464172363, 2.4546260833740234, 3.530853509902954, 4.053511142730713, 2.814497470855713, 5.999294757843018, 3.646988868713379, 2.924255132675171, 3.380383014678955, 3.738398790359497, 1.8849730491638184, 1.9422554969787598, 2.493277072906494, 2.2021398544311523, 2.3363165855407715, 2.5773637294769287, 2.2775416374206543, 2.4320006370544434, 2.149526834487915, 2.0100886821746826, 0.8782828450202942, 0.8663455247879028, 0.8652147054672241, 1.6955060958862305, 0.48133736848831177, 0.48029085993766785, 0.473043829202652, 0.47208431363105774, 0.46920672059059143, 0.4740639328956604, 0.47252488136291504, 0.46399134397506714, 0.466208815574646, 0.464333176612854, 0.46358129382133484, 0.9240825176239014, 0.4551793336868286, 0.45832106471061707, 0.8776689171791077, 0.6284323334693909, 0.6080725789070129, 1.0340561866760254, 0.36887338757514954, 0.7494822144508362, 0.5703547596931458, 0.5461462140083313, 0.33852651715278625, 1.0257480144500732, 0.47404545545578003, 0.31888532638549805, 0.6572065949440002, 1.6116276979446411, 1.0320439338684082, 1.296072244644165, 1.3577133417129517, 3.314845323562622, 9.799871444702148, 2.5004825592041016, 2.649448871612549, 0.7549418807029724, 2.564523696899414, 6.2403788566589355, 2.1721136569976807, 3.639087200164795, 3.19787859916687, 1.3632965087890625, 1.5081980228424072, 2.155893564224243, 1.7565969228744507, 1.345698356628418, 2.851973295211792, 2.83546781539917, 1.8483525514602661, 1.7195085287094116, 1.830791711807251, 2.6507132053375244, 2.1597776412963867, 2.4750919342041016, 1.6808096170425415, 1.5602643489837646, 1.5033416748046875, 1.6494966745376587, 1.5939545631408691, 1.7875206470489502, 1.7466137409210205, 1.7414321899414062, 1.5987962484359741, 1.5925508737564087], \"Term\": [\"said\", \"says\", \"australia\", \"australian\", \"two\", \"international\", \"year\", \"best\", \"also\", \"hamas\", \"one\", \"per_cent\", \"virus\", \"sydney\", \"space\", \"force\", \"governor_general\", \"afghanistan\", \"time\", \"would\", \"say\", \"died\", \"cancer\", \"militants\", \"told\", \"power\", \"meeting\", \"child\", \"howard\", \"government\", \"friedli\", \"replied\", \"organised\", \"preventable\", \"unforeseeable\", \"potts\", \"dying\", \"arrivals\", \"defunct\", \"double\", \"elliot\", \"pursued\", \"northside\", \"old_boy\", \"tanami\", \"kerb\", \"freeman\", \"stephan\", \"inevitable\", \"ineffective\", \"grounding\", \"housed\", \"lavarch\", \"illegally\", \"analysis\", \"deterring\", \"abandon\", \"thick\", \"works\", \"port\", \"standing\", \"mistakes\", \"ruddock\", \"casinos\", \"mitsubishi\", \"governor_general\", \"child\", \"abuse\", \"people\", \"car\", \"trial\", \"woomera\", \"roof\", \"homeless\", \"afghan\", \"allegations\", \"government\", \"inside\", \"centre\", \"young\", \"hollingworth\", \"company\", \"fire\", \"said\", \"new\", \"says\", \"report\", \"police\", \"would\", \"responsibility\", \"could\", \"australian\", \"day\", \"injured\", \"four\", \"days\", \"match\", \"one\", \"united_states\", \"two\", \"first\", \"also\", \"security\", \"arafat\", \"australia\", \"year_old\", \"afghanistan\", \"killed\", \"power\", \"cow\", \"razor\", \"nelson\", \"habeel\", \"mohamad\", \"rehman\", \"mad\", \"fazalur\", \"nobel\", \"annan\", \"purpose\", \"gang\", \"spending\", \"waste\", \"brendan\", \"expenditure\", \"scrutiny\", \"slashing\", \"pejorative\", \"ultimately\", \"responsibly\", \"colleagues\", \"portfolio\", \"taxpayers\", \"incinerated\", \"organs\", \"draw\", \"outbreak\", \"zimbabwean\", \"keeper\", \"stoppage\", \"involve\", \"talk\", \"wicket\", \"cuts\", \"taliban_forces\", \"adam\", \"jackson\", \"fled\", \"third\", \"bank\", \"final\", \"prize\", \"henderson\", \"australia\", \"disease\", \"japan\", \"ministry\", \"says\", \"government\", \"say\", \"powers\", \"australian\", \"man\", \"supporters\", \"caught\", \"said\", \"defence\", \"today\", \"innings\", \"first\", \"match\", \"also\", \"information\", \"set\", \"afghanistan\", \"new_york\", \"could\", \"police\", \"three\", \"staff\", \"bin_laden\", \"good\", \"two\", \"one\", \"new\", \"four\", \"world\", \"united_states\", \"per_cent\", \"day\", \"people\", \"around\", \"security\", \"still\", \"palestinian\", \"israeli\", \"would\", \"crush\", \"rejects\", \"underfoot\", \"arbitrated\", \"reid\", \"baker\", \"sri\", \"tel\", \"private\", \"drug\", \"rich\", \"sanchez\", \"arbitration\", \"asic\", \"teamed\", \"vicario\", \"ablution\", \"channels\", \"aid\", \"meals\", \"volleyball\", \"sanitation\", \"catering\", \"practical\", \"rene\", \"bastion\", \"tribes\", \"ammunition\", \"salam\", \"persons\", \"alternative\", \"escalate\", \"abdul\", \"elders\", \"slam\", \"surrender\", \"accept\", \"industrial_action\", \"focus\", \"dfat\", \"prepared\", \"metres\", \"official\", \"said\", \"arafat\", \"israel\", \"play\", \"says\", \"israeli\", \"australia\", \"told\", \"authorities\", \"dispute\", \"world\", \"group\", \"take\", \"palestinian\", \"pakistan\", \"one\", \"good\", \"second\", \"yesterday\", \"australian\", \"people\", \"also\", \"would\", \"taliban\", \"hamas\", \"two\", \"first\", \"man\", \"today\", \"company\", \"could\", \"new\", \"day\", \"farmers\", \"truss\", \"products\", \"subsidies\", \"interrogated\", \"demonstrators\", \"modified\", \"mcgauran\", \"reactor\", \"mental\", \"ceasefire\", \"rodriguez\", \"hooke\", \"grocery\", \"lobbying\", \"agriculture\", \"usa\", \"mentality\", \"debated\", \"entrench\", \"boasted\", \"intent\", \"lobby\", \"obvious\", \"degenerated\", \"proudly\", \"arabian\", \"context\", \"farm\", \"robbards\", \"mcreddie\", \"hawthorne\", \"radio\", \"indian\", \"said\", \"gabriel\", \"kashmir\", \"forced\", \"guards\", \"says\", \"knop\", \"meeting\", \"war\", \"suharto\", \"custody\", \"held\", \"intelligence\", \"concerned\", \"today\", \"including\", \"israeli\", \"morning\", \"israel\", \"government\", \"new_south\", \"prime_minister\", \"one\", \"told\", \"minister\", \"sydney\", \"attack\", \"test\", \"first\", \"back\", \"four\", \"made\", \"new\", \"australian\", \"could\", \"company\", \"police\", \"afghanistan\", \"two\", \"palestinian\", \"australia\", \"people\", \"united_states\", \"day\", \"also\", \"hare\", \"ashes\", \"ganges\", \"benares\", \"krishna\", \"sect\", \"holy\", \"devotees\", \"hindu\", \"hindus\", \"hanum\", \"execution\", \"eyewitnesses\", \"bayt\", \"scatter\", \"township\", \"legitimate\", \"nobody\", \"devout\", \"fans\", \"almao\", \"slips\", \"widow\", \"terminal\", \"tightlipped\", \"platforms\", \"dhani\", \"inexperienced\", \"journalists\", \"pole\", \"launceston\", \"club\", \"launch\", \"gutnick\", \"nominate\", \"lockett\", \"swans\", \"north\", \"blake\", \"three\", \"told\", \"said\", \"harrison\", \"interlaken\", \"court\", \"killed\", \"two\", \"died\", \"guilty\", \"space\", \"guides\", \"twice\", \"one\", \"hamas\", \"people\", \"fire\", \"river\", \"would\", \"near\", \"morning\", \"police\", \"another\", \"says\", \"around\", \"attacks\", \"palestinian\", \"first\", \"since\", \"year_old\", \"also\", \"day\", \"israeli\", \"four\", \"sydney\", \"attack\", \"arafat\", \"time\", \"sinai\", \"alei\", \"klim\", \"bettering\", \"midwives\", \"engines\", \"suspension\", \"plant\", \"lines\", \"senator\", \"bourne\", \"tarpaulins\", \"kerry\", \"boonah\", \"utn\", \"landsborough\", \"uprooted\", \"protective\", \"nambour\", \"energex\", \"paddling\", \"blacked\", \"nettle\", \"voltage\", \"greens\", \"breach\", \"repairs\", \"oxide\", \"ergon\", \"tank\", \"zimbabwe\", \"restore\", \"service_says\", \"opened_fire\", \"record\", \"reserve_bank\", \"power\", \"tanks\", \"senate\", \"hiv\", \"gunmen\", \"winds\", \"fires\", \"west\", \"high\", \"afghanistan\", \"property\", \"vehicle\", \"commonwealth\", \"south\", \"says\", \"palestinian\", \"also\", \"two\", \"australian\", \"killed\", \"still\", \"fire\", \"north\", \"areas\", \"people\", \"called\", \"three\", \"wales\", \"new_south\", \"sydney\", \"said\", \"today\", \"one\", \"world\", \"new\", \"government\", \"per_cent\", \"israeli\", \"around\", \"australia\", \"would\", \"astronauts\", \"lubbers\", \"objected\", \"endeavour\", \"refugees\", \"rabbani\", \"illegal\", \"mentha\", \"lung\", \"openly\", \"shepherd\", \"immigrants\", \"ruud\", \"mistrust\", \"legalistic\", \"calculate\", \"alsosaid\", \"era\", \"orbits\", \"maneuver\", \"refugee\", \"tune\", \"trio\", \"geneva\", \"bon\", \"please\", \"located\", \"payload\", \"contributor\", \"farmer\", \"cancer\", \"stringer\", \"male\", \"space\", \"shuttle\", \"flowing\", \"fireworks\", \"inquiry\", \"russian\", \"appointment\", \"burden\", \"peru\", \"station\", \"tora_bora\", \"redundancy\", \"factions\", \"local_afghan\", \"says\", \"claims\", \"northern_alliance\", \"qaeda\", \"australia\", \"said\", \"would\", \"hih\", \"afghanistan\", \"think\", \"security\", \"fire\", \"say\", \"governor_general\", \"since\", \"government\", \"president\", \"people\", \"three\", \"report\", \"united_states\", \"around\", \"first\", \"australian\", \"pakistan\", \"man\", \"also\", \"force\", \"one\", \"could\", \"virus\", \"computer\", \"motorway\", \"belgium\", \"battlefield\", \"software\", \"musical\", \"imf\", \"mcafee\", \"users\", \"actress\", \"computers\", \"goner\", \"badtrans\", \"sustained\", \"ypres\", \"worm\", \"flemish\", \"commodity\", \"erase\", \"crowe\", \"bitumen\", \"projected\", \"flanders\", \"stimulus\", \"terminals\", \"ridge\", \"route\", \"user\", \"bypass\", \"outlook\", \"finish\", \"prices\", \"email\", \"emissions\", \"petrol\", \"gets\", \"embassy\", \"wolthuizen\", \"growth\", \"opening\", \"best\", \"says\", \"australian\", \"children\", \"address\", \"banks\", \"also\", \"two\", \"meeting\", \"back\", \"test\", \"would\", \"pay\", \"said\", \"australia\", \"palestinian\", \"new\", \"one\", \"israeli\", \"international\", \"security\", \"per_cent\", \"still\", \"arafat\", \"yesterday\", \"war\", \"attack\", \"melbourne\", \"company\", \"could\", \"time\", \"today\", \"government\", \"first\", \"people\", \"boje\", \"picton\", \"battles\", \"wings\", \"outlawed\", \"confusion\", \"translation\", \"kanooni\", \"conflicting\", \"signals\", \"suitable\", \"tandem\", \"patrolling\", \"emerged\", \"tantamount\", \"enlarge\", \"megawati\", \"motorists\", \"bulli\", \"world_heritage\", \"nicky\", \"afford\", \"limit\", \"wilton\", \"rainforest\", \"penrith\", \"schneiders\", \"wisemans\", \"tops\", \"abdullah\", \"peacekeepers\", \"legal_advice\", \"dempsey\", \"howard\", \"explanation\", \"management\", \"highway\", \"road\", \"closed\", \"best\", \"international\", \"costello\", \"hamas\", \"indonesia\", \"force\", \"kabul\", \"dozens\", \"arrest\", \"militants\", \"agreement\", \"said\", \"sydney\", \"commission\", \"police\", \"one\", \"think\", \"says\", \"two\", \"say\", \"would\", \"australia\", \"british\", \"child\", \"united_states\", \"military\", \"still\", \"also\", \"security\", \"australian\", \"first\", \"time\", \"dun\", \"sales\", \"bradstreet\", \"assa_abloy\", \"lined\", \"docks\", \"hobart\", \"spend\", \"derwent\", \"expectations\", \"goods\", \"sailed\", \"gst\", \"solid\", \"raising\", \"swedish\", \"spectator\", \"questioned\", \"projections\", \"gaming\", \"gambling\", \"casinos\", \"recommended\", \"profit\", \"shedding\", \"celebrating\", \"historian\", \"strachan\", \"racer\", \"delegates\", \"scarfe\", \"survey\", \"investment\", \"round\", \"powell\", \"year\", \"said\", \"state\", \"per_cent\", \"center\", \"time\", \"says\", \"five\", \"australian\", \"also\", \"large\", \"river\", \"world\", \"died\", \"head\", \"one\", \"two\", \"next\", \"team\", \"area\", \"people\", \"day\", \"australia\", \"going\", \"years\", \"metres\", \"well\", \"bin_laden\", \"first\", \"afghanistan\", \"new\", \"take\", \"still\"], \"Total\": [386.0, 346.0, 117.0, 118.0, 98.0, 36.0, 37.0, 19.0, 92.0, 35.0, 100.0, 41.0, 8.0, 46.0, 13.0, 42.0, 14.0, 67.0, 49.0, 84.0, 56.0, 28.0, 12.0, 25.0, 63.0, 32.0, 38.0, 20.0, 9.0, 99.0, 7.713803768157959, 5.675163745880127, 2.8152008056640625, 2.815030097961426, 2.81420636177063, 2.814431667327881, 3.6751368045806885, 3.650019884109497, 3.703575849533081, 4.666440010070801, 1.7994368076324463, 1.7993911504745483, 1.7991693019866943, 1.7991350889205933, 1.799046277999878, 1.7989145517349243, 2.6270689964294434, 3.627779960632324, 1.7922115325927734, 1.7740076780319214, 1.7897274494171143, 1.7660657167434692, 2.765972375869751, 1.7630059719085693, 4.342507362365723, 1.7620794773101807, 1.758440375328064, 3.68613862991333, 1.755920648574829, 4.389547824859619, 4.576955318450928, 4.34220027923584, 5.214425086975098, 3.6743264198303223, 3.73854923248291, 14.694978713989258, 20.44163703918457, 14.446515083312988, 115.14571380615234, 10.169830322265625, 6.1095499992370605, 7.931049346923828, 6.380836486816406, 4.4587578773498535, 30.675840377807617, 12.429163932800293, 99.82940673828125, 11.033431053161621, 36.142677307128906, 13.187216758728027, 15.537347793579102, 55.830745697021484, 53.048828125, 386.5955810546875, 73.35877227783203, 346.2359619140625, 34.37196731567383, 64.59412384033203, 84.42108917236328, 11.574496269226074, 66.50492858886719, 118.66526794433594, 60.9564094543457, 26.17020034790039, 54.46719741821289, 34.167354583740234, 30.146377563476562, 100.23030090332031, 59.68981170654297, 98.85374450683594, 76.13264465332031, 92.32669830322266, 53.069664001464844, 60.05799102783203, 117.27023315429688, 41.04534912109375, 67.3885498046875, 53.55377197265625, 32.41758346557617, 4.471356391906738, 3.573500633239746, 3.5714621543884277, 3.533885955810547, 3.532378673553467, 3.522362470626831, 2.632704257965088, 2.6072776317596436, 2.6080756187438965, 2.5885488986968994, 2.6260859966278076, 6.188362121582031, 4.263980865478516, 1.7144994735717773, 1.7142037153244019, 1.714187502861023, 1.7140790224075317, 1.7138382196426392, 1.7137478590011597, 1.7136645317077637, 1.713641881942749, 1.7128093242645264, 1.7127524614334106, 4.223824977874756, 1.7092416286468506, 1.7076572179794312, 1.7097307443618774, 1.7061859369277954, 1.7089381217956543, 2.6214849948883057, 2.6222758293151855, 2.532189130783081, 2.659449338912964, 12.350494384765625, 5.06174898147583, 5.170339584350586, 5.221873760223389, 3.314171314239502, 4.274836540222168, 23.73423957824707, 7.856099605560303, 15.355093955993652, 3.4119904041290283, 5.2669854164123535, 117.27023315429688, 12.896023750305176, 7.230335712432861, 6.659576892852783, 346.2359619140625, 99.82940673828125, 56.00063705444336, 8.517202377319336, 118.66526794433594, 54.4532585144043, 8.951817512512207, 13.27396011352539, 386.5955810546875, 18.719524383544922, 64.73635864257812, 14.02364444732666, 76.13264465332031, 30.146377563476562, 92.32669830322266, 20.048376083374023, 27.140230178833008, 67.3885498046875, 18.420372009277344, 66.50492858886719, 64.59412384033203, 70.3780746459961, 31.53620147705078, 32.2966194152832, 29.64012336730957, 98.85374450683594, 100.23030090332031, 73.35877227783203, 54.46719741821289, 46.23531723022461, 59.68981170654297, 41.12359619140625, 60.9564094543457, 115.14571380615234, 51.15633773803711, 53.069664001464844, 53.82522201538086, 67.90288543701172, 67.43946075439453, 84.42108917236328, 2.627422571182251, 2.6274218559265137, 2.6274220943450928, 2.6274220943450928, 8.48384952545166, 3.337054491043091, 2.6459357738494873, 2.6420841217041016, 7.965867519378662, 5.970382213592529, 2.647217035293579, 2.6047332286834717, 3.5527000427246094, 6.625342845916748, 2.600222587585449, 2.607991933822632, 1.7011409997940063, 1.700265645980835, 1.7002222537994385, 1.7001659870147705, 1.7001010179519653, 1.699021816253662, 1.6986209154129028, 1.6983643770217896, 1.6976702213287354, 1.7011364698410034, 1.7010743618011475, 1.7009400129318237, 1.700783371925354, 1.7001945972442627, 4.320816993713379, 3.4447953701019287, 4.286335468292236, 6.071330547332764, 2.607466697692871, 11.09383487701416, 7.544589519500732, 12.992238998413086, 5.063981533050537, 3.221632957458496, 11.929957389831543, 23.750656127929688, 24.547399520874023, 386.5955810546875, 60.05799102783203, 44.282012939453125, 21.376375198364258, 346.2359619140625, 67.43946075439453, 117.27023315429688, 63.82020568847656, 21.948484420776367, 13.687561988830566, 46.23531723022461, 33.036659240722656, 41.705352783203125, 67.90288543701172, 39.00360107421875, 100.23030090332031, 29.64012336730957, 32.09656524658203, 42.877647399902344, 118.66526794433594, 115.14571380615234, 92.32669830322266, 84.42108917236328, 41.24518966674805, 35.37565231323242, 98.85374450683594, 76.13264465332031, 54.4532585144043, 64.73635864257812, 55.830745697021484, 66.50492858886719, 73.35877227783203, 60.9564094543457, 5.212244033813477, 3.7362818717956543, 5.1233930587768555, 2.260319232940674, 2.2606711387634277, 2.3165245056152344, 2.233981132507324, 2.3402810096740723, 2.344142436981201, 2.2521469593048096, 2.3288300037384033, 2.256761074066162, 2.223229169845581, 2.2222962379455566, 1.5223380327224731, 1.5223380327224731, 1.5223382711410522, 1.5223379135131836, 1.5223381519317627, 1.5223380327224731, 1.5223383903503418, 1.5223381519317627, 1.5223381519317627, 1.5223383903503418, 1.5223382711410522, 1.5223383903503418, 1.5224708318710327, 1.5224794149398804, 4.7060322761535645, 1.508353590965271, 2.3011374473571777, 3.8822007179260254, 22.35455894470215, 23.807018280029297, 386.5955810546875, 3.1218385696411133, 5.562196254730225, 13.36076831817627, 3.3000242710113525, 346.2359619140625, 4.011133193969727, 38.46711730957031, 31.68280601501465, 8.917040824890137, 5.6366286277771, 18.503604888916016, 8.657186508178711, 14.262718200683594, 64.73635864257812, 28.612817764282227, 67.43946075439453, 39.80613327026367, 44.282012939453125, 99.82940673828125, 33.428245544433594, 22.501253128051758, 100.23030090332031, 63.82020568847656, 22.026216506958008, 46.17683029174805, 37.5361328125, 34.257423400878906, 76.13264465332031, 39.64659118652344, 54.46719741821289, 40.125545501708984, 73.35877227783203, 118.66526794433594, 66.50492858886719, 55.830745697021484, 64.59412384033203, 67.3885498046875, 98.85374450683594, 67.90288543701172, 117.27023315429688, 115.14571380615234, 59.68981170654297, 60.9564094543457, 92.32669830322266, 5.199254989624023, 5.1797285079956055, 4.275295257568359, 5.111485958099365, 6.897030830383301, 2.5413057804107666, 4.247847557067871, 2.51668381690979, 2.5527005195617676, 2.526618719100952, 1.6995608806610107, 1.6998347043991089, 1.7000550031661987, 1.7001084089279175, 2.5270426273345947, 1.6999566555023193, 1.699304223060608, 1.699097752571106, 2.5243375301361084, 3.4069762229919434, 4.1812663078308105, 3.449124574661255, 1.666379451751709, 3.47640061378479, 1.6602592468261719, 1.6652467250823975, 1.6630405187606812, 2.538140296936035, 1.6685367822647095, 1.6795032024383545, 5.073915481567383, 6.891920566558838, 5.10184383392334, 4.239760875701904, 2.41666841506958, 8.47067928314209, 4.170727252960205, 33.83632278442383, 8.835643768310547, 70.3780746459961, 63.82020568847656, 386.5955810546875, 10.586061477661133, 7.469357967376709, 22.62493133544922, 53.55377197265625, 98.85374450683594, 28.924840927124023, 14.302260398864746, 13.160791397094727, 12.446730613708496, 7.356769561767578, 100.23030090332031, 35.37565231323242, 115.14571380615234, 53.048828125, 19.536182403564453, 84.42108917236328, 30.62859344482422, 39.80613327026367, 64.59412384033203, 34.048973083496094, 346.2359619140625, 51.15633773803711, 38.22431564331055, 67.90288543701172, 76.13264465332031, 34.79092788696289, 41.04534912109375, 92.32669830322266, 60.9564094543457, 67.43946075439453, 54.46719741821289, 46.17683029174805, 37.5361328125, 60.05799102783203, 49.72755432128906, 3.348567008972168, 3.3400847911834717, 1.6591650247573853, 1.6591650247573853, 4.288393020629883, 3.4059338569641113, 3.931492567062378, 3.4008240699768066, 6.913848400115967, 2.439408540725708, 2.4612717628479004, 1.666849970817566, 2.422835350036621, 1.6690620183944702, 3.391838788986206, 1.6706782579421997, 1.67081618309021, 1.6710612773895264, 1.6710646152496338, 1.6712535619735718, 2.3056914806365967, 1.6717844009399414, 2.4948296546936035, 1.673291802406311, 2.43877911567688, 2.399785041809082, 1.6746803522109985, 2.5295233726501465, 1.676979899406433, 2.4919211864471436, 8.001914978027344, 4.45098352432251, 7.688521385192871, 5.710929870605469, 7.602500915527344, 8.203754425048828, 32.41758346557617, 9.963555335998535, 5.971624374389648, 5.161259651184082, 9.923770904541016, 18.022869110107422, 17.941761016845703, 23.816585540771484, 20.640708923339844, 67.3885498046875, 6.787387371063232, 5.211915016174316, 12.112998008728027, 39.590003967285156, 346.2359619140625, 67.90288543701172, 92.32669830322266, 98.85374450683594, 118.66526794433594, 53.55377197265625, 53.82522201538086, 53.048828125, 33.83632278442383, 31.243221282958984, 115.14571380615234, 36.232112884521484, 70.3780746459961, 34.00160598754883, 33.428245544433594, 46.17683029174805, 386.5955810546875, 64.73635864257812, 100.23030090332031, 46.23531723022461, 73.35877227783203, 99.82940673828125, 41.12359619140625, 67.43946075439453, 51.15633773803711, 117.27023315429688, 84.42108917236328, 3.1249282360076904, 2.2433760166168213, 2.4119369983673096, 7.832967281341553, 6.284273147583008, 4.97987174987793, 2.4104857444763184, 2.404860258102417, 6.626057147979736, 1.5487680435180664, 2.4199578762054443, 1.5420820713043213, 1.5368846654891968, 1.5366219282150269, 1.5358810424804688, 1.5641498565673828, 1.5352250337600708, 2.43723201751709, 1.5606836080551147, 1.560018539428711, 3.9128596782684326, 1.5608925819396973, 1.5661125183105469, 1.530398964881897, 1.5621143579483032, 1.563932180404663, 1.5589884519577026, 1.5607861280441284, 1.529018759727478, 2.448366403579712, 12.299581527709961, 2.338275671005249, 4.991824626922607, 13.160791397094727, 7.334001541137695, 2.4428837299346924, 4.245538711547852, 10.813569068908691, 8.175782203674316, 3.268969774246216, 3.5188095569610596, 3.4260716438293457, 15.716392517089844, 26.477235794067383, 4.767211437225342, 5.739064693450928, 5.5317840576171875, 346.2359619140625, 30.044809341430664, 13.160968780517578, 24.529714584350586, 117.27023315429688, 386.5955810546875, 84.42108917236328, 16.135278701782227, 67.3885498046875, 43.65122604370117, 53.069664001464844, 53.048828125, 56.00063705444336, 14.694978713989258, 34.79092788696289, 99.82940673828125, 42.97589874267578, 115.14571380615234, 70.3780746459961, 34.37196731567383, 59.68981170654297, 51.15633773803711, 76.13264465332031, 118.66526794433594, 39.00360107421875, 54.4532585144043, 92.32669830322266, 42.77565002441406, 100.23030090332031, 66.50492858886719, 8.104973793029785, 2.9489078521728516, 2.1435751914978027, 2.141512393951416, 2.137969970703125, 2.239551544189453, 2.618191719055176, 3.6860077381134033, 2.252164840698242, 2.257509469985962, 2.0344443321228027, 3.0325827598571777, 2.261056423187256, 2.2601804733276367, 2.203235387802124, 1.4605083465576172, 3.0498905181884766, 1.4645016193389893, 1.4864020347595215, 2.2753443717956543, 2.0185699462890625, 1.469346523284912, 1.492041826248169, 1.4619916677474976, 1.4933925867080688, 2.30709171295166, 1.4684299230575562, 3.669353723526001, 3.849877119064331, 1.4596681594848633, 6.056467533111572, 3.903627395629883, 3.748525619506836, 3.889782667160034, 3.1408932209014893, 5.709560871124268, 3.062760353088379, 4.203676700592041, 2.1978306770324707, 11.153319358825684, 10.383172035217285, 19.42292022705078, 346.2359619140625, 118.66526794433594, 24.9376220703125, 9.457246780395508, 11.175146102905273, 92.32669830322266, 98.85374450683594, 38.46711730957031, 39.64659118652344, 34.257423400878906, 84.42108917236328, 21.99679183959961, 386.5955810546875, 117.27023315429688, 67.90288543701172, 73.35877227783203, 100.23030090332031, 67.43946075439453, 36.607364654541016, 53.069664001464844, 41.12359619140625, 53.82522201538086, 60.05799102783203, 42.877647399902344, 31.68280601501465, 37.5361328125, 29.215173721313477, 55.830745697021484, 66.50492858886719, 49.72755432128906, 64.73635864257812, 99.82940673828125, 76.13264465332031, 115.14571380615234, 3.2317192554473877, 1.8957974910736084, 1.3090133666992188, 1.309013843536377, 1.309014081954956, 1.3126252889633179, 1.3136554956436157, 1.31378972530365, 1.3139516115188599, 1.3142575025558472, 1.3143479824066162, 1.314832329750061, 1.315057635307312, 1.315179705619812, 1.3153129816055298, 1.3159809112548828, 2.3716886043548584, 1.9093197584152222, 1.9123250246047974, 5.0051589012146, 2.0325894355773926, 1.4100158214569092, 1.3465017080307007, 1.3470011949539185, 2.1526153087615967, 1.3473386764526367, 2.1554641723632812, 1.3476766347885132, 1.3510724306106567, 2.1819674968719482, 5.677216529846191, 5.086463451385498, 2.182630777359009, 9.36340618133545, 5.094815254211426, 9.449397087097168, 8.123852729797363, 9.408282279968262, 6.490720748901367, 19.42292022705078, 36.607364654541016, 6.110515594482422, 35.37565231323242, 7.12220573425293, 42.77565002441406, 14.269637107849121, 6.7226362228393555, 19.969467163085938, 25.478595733642578, 21.421815872192383, 386.5955810546875, 46.17683029174805, 29.027318954467773, 64.59412384033203, 100.23030090332031, 43.65122604370117, 346.2359619140625, 98.85374450683594, 56.00063705444336, 84.42108917236328, 117.27023315429688, 18.081058502197266, 20.44163703918457, 59.68981170654297, 36.454811096191406, 53.82522201538086, 92.32669830322266, 53.069664001464844, 118.66526794433594, 76.13264465332031, 49.72755432128906, 1.8271355628967285, 1.840895414352417, 1.842519760131836, 4.352447509765625, 1.2696301937103271, 1.2703734636306763, 1.2755200862884521, 1.2762017250061035, 1.2782453298568726, 1.2917017936706543, 1.293633222579956, 1.2819492816925049, 1.3012027740478516, 1.3032376766204834, 1.3038599491119385, 2.6009016036987305, 1.2882075309753418, 1.310308814048767, 2.732623338699341, 2.1247525215148926, 2.149019479751587, 3.6743264198303223, 1.3258594274520874, 2.754443407058716, 2.125972270965576, 2.0989491939544678, 1.341475248336792, 4.231616020202637, 1.9851770401000977, 1.350537657737732, 2.819774866104126, 7.3445892333984375, 5.3427958488464355, 7.472221374511719, 8.473031044006348, 37.035491943359375, 386.5955810546875, 34.804710388183594, 41.12359619140625, 3.5990700721740723, 49.72755432128906, 346.2359619140625, 35.73508834838867, 118.66526794433594, 92.32669830322266, 15.065476417541504, 19.536182403564453, 46.23531723022461, 28.924840927124023, 15.121663093566895, 100.23030090332031, 98.85374450683594, 34.11820602416992, 29.946813583374023, 36.489044189453125, 115.14571380615234, 60.9564094543457, 117.27023315429688, 29.455141067504883, 25.379941940307617, 23.750656127929688, 37.21365737915039, 32.2966194152832, 76.13264465332031, 67.3885498046875, 73.35877227783203, 41.705352783203125, 53.82522201538086], \"loglift\": [30.0, 29.0, 28.0, 27.0, 26.0, 25.0, 24.0, 23.0, 22.0, 21.0, 20.0, 19.0, 18.0, 17.0, 16.0, 15.0, 14.0, 13.0, 12.0, 11.0, 10.0, 9.0, 8.0, 7.0, 6.0, 5.0, 4.0, 3.0, 2.0, 1.0, 1.6985000371932983, 1.621500015258789, 1.618399977684021, 1.6180000305175781, 1.6158000230789185, 1.6088999509811401, 1.5235999822616577, 1.5211000442504883, 1.4250999689102173, 1.420799970626831, 1.4107999801635742, 1.4103000164031982, 1.4079999923706055, 1.4076999425888062, 1.4068000316619873, 1.405400037765503, 1.399899959564209, 1.3871999979019165, 1.3727999925613403, 1.3669999837875366, 1.357100009918213, 1.3489999771118164, 1.3447999954223633, 1.3415000438690186, 1.3408000469207764, 1.3401000499725342, 1.3317999839782715, 1.3265999555587769, 1.326200008392334, 1.3224999904632568, 1.3138999938964844, 1.2942999601364136, 1.2793999910354614, 1.2877000570297241, 1.2834999561309814, 1.1375000476837158, 1.0292999744415283, 1.061400055885315, 0.670799970626831, 1.1045000553131104, 1.1845999956130981, 1.1226999759674072, 1.1649999618530273, 1.2316999435424805, 0.8148999810218811, 1.000100016593933, 0.5055999755859375, 1.0242999792099, 0.7350000143051147, 0.9810000061988831, 0.928600013256073, 0.5694000124931335, 0.5788999795913696, 0.0027000000700354576, 0.4681999981403351, -0.029600000008940697, 0.6197999715805054, 0.39480000734329224, 0.296999990940094, 0.9860000014305115, 0.29350000619888306, 0.0333000011742115, 0.30309998989105225, 0.6499999761581421, 0.26190000772476196, 0.47600001096725464, 0.5149000287055969, -0.09319999814033508, 0.16380000114440918, -0.12919999659061432, -0.004699999932199717, -0.13539999723434448, 0.18000000715255737, 0.0843999981880188, -0.34869998693466187, 0.3127000033855438, -0.07989999651908875, 0.07970000058412552, 0.4683000147342682, 1.7081999778747559, 1.6964999437332153, 1.694599986076355, 1.6483999490737915, 1.6390999555587769, 1.632200002670288, 1.5824999809265137, 1.530900001525879, 1.5269999504089355, 1.4797999858856201, 1.4365999698638916, 1.4154000282287598, 1.4082000255584717, 1.3966000080108643, 1.395799994468689, 1.395799994468689, 1.3954999446868896, 1.3947999477386475, 1.3945000171661377, 1.3942999839782715, 1.3941999673843384, 1.3918999433517456, 1.391700029373169, 1.3787000179290771, 1.3730000257492065, 1.3661999702453613, 1.3631000518798828, 1.3597999811172485, 1.3581000566482544, 1.3538999557495117, 1.347000002861023, 1.343400001525879, 1.3380999565124512, 1.218000054359436, 1.2755999565124512, 1.2604999542236328, 1.2483999729156494, 1.3040000200271606, 1.2644000053405762, 1.0044000148773193, 1.1617000102996826, 1.0541000366210938, 1.2862000465393066, 1.212499976158142, 0.6805999875068665, 1.0526000261306763, 1.1468000411987305, 1.159500002861023, 0.30219998955726624, 0.5665000081062317, 0.6855000257492065, 1.0956000089645386, 0.42289999127388, 0.5942000150680542, 1.0744999647140503, 0.9542999863624573, -0.11739999800920486, 0.8306000232696533, 0.3456999957561493, 0.8948000073432922, 0.24250000715255737, 0.6003999710083008, 0.16259999573230743, 0.7545999884605408, 0.6075000166893005, 0.21449999511241913, 0.7519999742507935, 0.1582999974489212, 0.1589999943971634, 0.09759999811649323, 0.49070000648498535, 0.47699999809265137, 0.5095000267028809, -0.14839999377727509, -0.1647000014781952, -0.004900000058114529, 0.1599999964237213, 0.25429999828338623, 0.09870000183582306, 0.3125, 0.0617000013589859, -0.38659998774528503, 0.15029999613761902, 0.12349999696016312, 0.09740000218153, -0.09440000355243683, -0.1298000067472458, -0.38769999146461487, 1.6124999523162842, 1.6124999523162842, 1.6124999523162842, 1.6124999523162842, 1.6039999723434448, 1.5771000385284424, 1.5078999996185303, 1.500100016593933, 1.4943000078201294, 1.4780999422073364, 1.4737000465393066, 1.4214999675750732, 1.401900053024292, 1.3954999446868896, 1.3849999904632568, 1.3845000267028809, 1.3838000297546387, 1.3812999725341797, 1.381100058555603, 1.38100004196167, 1.3808000087738037, 1.3775999546051025, 1.3763999938964844, 1.375599980354309, 1.3734999895095825, 1.368499994277954, 1.368399977684021, 1.3681000471115112, 1.3669999837875366, 1.3640999794006348, 1.3343000411987305, 1.341599941253662, 1.3284000158309937, 1.250100016593933, 1.3287999629974365, 1.1585999727249146, 1.1827000379562378, 1.111199975013733, 1.2239999771118164, 1.279099941253662, 1.0650999546051025, 0.9330000281333923, 0.9196000099182129, 0.3695000112056732, 0.7178000211715698, 0.7754999995231628, 0.8673999905586243, 0.09929999709129333, 0.46149998903274536, 0.27160000801086426, 0.4530999958515167, 0.7628999948501587, 0.9226999878883362, 0.48010000586509705, 0.5911999940872192, 0.4796999990940094, 0.28780001401901245, 0.4970000088214874, 0.10239999741315842, 0.5971999764442444, 0.5561000108718872, 0.4171999990940094, -0.04910000041127205, -0.04780000075697899, 0.04190000146627426, 0.06270000338554382, 0.4034999907016754, 0.4860999882221222, -0.1265999972820282, 0.004699999932199717, 0.16619999706745148, 0.0348999984562397, 0.1371999979019165, 0.0066999997943639755, -0.09889999777078629, -0.050999999046325684, 2.029099941253662, 1.9646999835968018, 1.837399959564209, 1.798200011253357, 1.7960000038146973, 1.6726000308990479, 1.6327999830245972, 1.6164000034332275, 1.607100009918213, 1.603600025177002, 1.572700023651123, 1.555799961090088, 1.555299997329712, 1.548200011253357, 1.5469000339508057, 1.5469000339508057, 1.5469000339508057, 1.5469000339508057, 1.5469000339508057, 1.5469000339508057, 1.5469000339508057, 1.5469000339508057, 1.5469000339508057, 1.5469000339508057, 1.5469000339508057, 1.5469000339508057, 1.545300006866455, 1.545199990272522, 1.4996000528335571, 1.4946999549865723, 1.4888999462127686, 1.4743000268936157, 1.0183000564575195, 0.9717000126838684, 0.2874999940395355, 1.3799999952316284, 1.2237000465393066, 0.9922000169754028, 1.3487000465393066, 0.10409999638795853, 1.2937999963760376, 0.6643000245094299, 0.7077999711036682, 1.0601999759674072, 1.186400055885315, 0.8242999911308289, 1.0571999549865723, 0.8944000005722046, 0.398499995470047, 0.6636999845504761, 0.3806000053882599, 0.5407000184059143, 0.49790000915527344, 0.20469999313354492, 0.5956000089645386, 0.7281000018119812, 0.1850000023841858, 0.33219999074935913, 0.7329999804496765, 0.43639999628067017, 0.5091999769210815, 0.5450999736785889, 0.19599999487400055, 0.444599986076355, 0.2937999963760376, 0.42570000886917114, 0.11050000041723251, -0.1445000022649765, 0.12210000306367874, 0.21140000224113464, 0.11649999767541885, 0.05889999866485596, -0.22030000388622284, 0.025599999353289604, -0.4187000095844269, -0.4221999943256378, 0.08169999718666077, 0.022700000554323196, -0.38359999656677246, 1.8890000581741333, 1.8401999473571777, 1.833400011062622, 1.8121000528335571, 1.7382999658584595, 1.7101000547409058, 1.6979999542236328, 1.6754000186920166, 1.6689000129699707, 1.6634999513626099, 1.6615999937057495, 1.6607999801635742, 1.6605000495910645, 1.659600019454956, 1.6586999893188477, 1.6584999561309814, 1.6579999923706055, 1.65339994430542, 1.635599970817566, 1.6090999841690063, 1.538599967956543, 1.5369999408721924, 1.5166000127792358, 1.5018999576568604, 1.5015000104904175, 1.4988000392913818, 1.4983999729156494, 1.4973000288009644, 1.4936000108718872, 1.4904999732971191, 1.4852999448776245, 1.4594000577926636, 1.4530999660491943, 1.445199966430664, 1.4779000282287598, 1.371000051498413, 1.407099962234497, 0.9962999820709229, 1.2404999732971191, 0.6955000162124634, 0.7200000286102295, 0.23880000412464142, 1.1791000366210938, 1.271399974822998, 0.964900016784668, 0.7166000008583069, 0.43529999256134033, 0.8234000205993652, 1.0507999658584595, 1.0740000009536743, 1.0771000385284424, 1.2620999813079834, 0.2651999890804291, 0.6581000089645386, 0.18209999799728394, 0.38690000772476196, 0.8184999823570251, 0.10639999806880951, 0.5878000259399414, 0.4575999975204468, 0.20520000159740448, 0.531499981880188, -0.7689999938011169, 0.26600000262260437, 0.42489999532699585, 0.0803999975323677, 0.0017000000225380063, 0.4672999978065491, 0.3564999997615814, -0.1867000013589859, 0.07329999655485153, -0.014000000432133675, 0.11900000274181366, 0.22300000488758087, 0.37459999322891235, -0.03519999980926514, 0.10719999670982361, 1.745300054550171, 1.7010999917984009, 1.6998000144958496, 1.6998000144958496, 1.690600037574768, 1.672700047492981, 1.669600009918213, 1.6691999435424805, 1.6683000326156616, 1.6680999994277954, 1.6483999490737915, 1.6446000337600708, 1.6337000131607056, 1.6282000541687012, 1.6167999505996704, 1.6160999536514282, 1.6151000261306763, 1.6131999492645264, 1.6131999492645264, 1.611799955368042, 1.6095000505447388, 1.607800006866455, 1.6013000011444092, 1.5963000059127808, 1.593500018119812, 1.5879000425338745, 1.5856000185012817, 1.5750000476837158, 1.5677000284194946, 1.5613000392913818, 1.5242999792099, 1.5241999626159668, 1.4570000171661377, 1.4543999433517456, 1.3976999521255493, 1.381100058555603, 1.1648000478744507, 1.3229999542236328, 1.4098999500274658, 1.4312000274658203, 1.3020999431610107, 1.148300051689148, 1.135200023651123, 1.055999994277954, 1.0540000200271606, 0.7458999752998352, 1.3214000463485718, 1.3849999904632568, 1.1259000301361084, 0.7159000039100647, -0.017000000923871994, 0.5006999969482422, 0.38260000944137573, 0.33980000019073486, 0.2312999963760376, 0.49459999799728394, 0.4740999937057495, 0.46790000796318054, 0.6638000011444092, 0.6887999773025513, 0.09489999711513519, 0.609000027179718, 0.2775000035762787, 0.6194999814033508, 0.6256999969482422, 0.45509999990463257, -0.6608999967575073, 0.26159998774528503, 0.009200000204145908, 0.42719998955726624, 0.06750000268220901, -0.13680000603199005, 0.4018999934196472, 0.027799999341368675, 0.23109999299049377, -0.5131000280380249, -0.2621000111103058, 2.043800115585327, 1.8794000148773193, 1.8402999639511108, 1.839900016784668, 1.8174999952316284, 1.8131999969482422, 1.8109999895095825, 1.7975000143051147, 1.7595000267028809, 1.7590999603271484, 1.750100016593933, 1.7350000143051147, 1.7201999425888062, 1.718999981880188, 1.7187000513076782, 1.7182999849319458, 1.7143000364303589, 1.708899974822998, 1.707800030708313, 1.7064000368118286, 1.7063000202178955, 1.7032999992370605, 1.6996999979019165, 1.6979000568389893, 1.697100043296814, 1.6957000494003296, 1.6952999830245972, 1.694700002670288, 1.6944999694824219, 1.691100001335144, 1.6866999864578247, 1.6901999711990356, 1.6658999919891357, 1.6354999542236328, 1.6074999570846558, 1.656599998474121, 1.5585999488830566, 1.4153000116348267, 1.45169997215271, 1.5882999897003174, 1.5714999437332153, 1.569599986076355, 1.2675000429153442, 1.1369999647140503, 1.479599952697754, 1.4385000467300415, 1.4301999807357788, 0.12449999898672104, 0.7961999773979187, 1.0779000520706177, 0.8398000001907349, 0.22750000655651093, -0.23989999294281006, 0.25940001010894775, 0.9322999715805054, 0.2786000072956085, 0.4715999960899353, 0.37290000915527344, 0.3522000014781952, 0.2971000075340271, 0.9373000264167786, 0.4968000054359436, -0.07479999959468842, 0.3601999878883362, -0.17479999363422394, 0.03999999910593033, 0.46709999442100525, 0.11050000041723251, 0.20229999721050262, -0.0908999964594841, -0.41290000081062317, 0.3677999973297119, 0.11379999667406082, -0.4325999915599823, 0.20080000162124634, -0.6161999702453613, -0.226500004529953, 2.0548999309539795, 1.9616999626159668, 1.9357999563217163, 1.8990999460220337, 1.857300043106079, 1.8178000450134277, 1.7968000173568726, 1.7937999963760376, 1.7727999687194824, 1.7517999410629272, 1.749500036239624, 1.7451000213623047, 1.739400029182434, 1.7386000156402588, 1.7201000452041626, 1.7075999975204468, 1.7020000219345093, 1.698699951171875, 1.6953999996185303, 1.6851999759674072, 1.6797000169754028, 1.6779999732971191, 1.6753000020980835, 1.6717000007629395, 1.6710000038146973, 1.6647000312805176, 1.6585999727249146, 1.6511000394821167, 1.6478999853134155, 1.6475000381469727, 1.6276999711990356, 1.6131000518798828, 1.583899974822998, 1.5608999729156494, 1.5807000398635864, 1.5023000240325928, 1.5744999647140503, 1.5147000551223755, 1.6246000528335571, 1.2628999948501587, 1.2351000308990479, 1.0242999792099, 0.09640000015497208, 0.36410000920295715, 0.8906000256538391, 1.1995999813079834, 1.1328999996185303, 0.3409000039100647, 0.30329999327659607, 0.6211000084877014, 0.608299970626831, 0.6470999717712402, 0.26820001006126404, 0.8234000205993652, -0.4456000030040741, 0.009399999864399433, 0.25780001282691956, 0.20029999315738678, 0.035999998450279236, 0.21459999680519104, 0.5098999738693237, 0.3158999979496002, 0.43619999289512634, 0.2980000078678131, 0.17409999668598175, 0.36079999804496765, 0.5231000185012817, 0.3862999975681305, 0.5224999785423279, 0.0966000035405159, -0.07890000194311142, 0.09790000319480896, -0.12060000002384186, -0.48539999127388, -0.30570000410079956, -0.7421000003814697, 2.5376999378204346, 2.507699966430664, 2.4760000705718994, 2.4760000705718994, 2.4760000705718994, 2.464900016784668, 2.461699962615967, 2.4612998962402344, 2.4607999324798584, 2.45989990234375, 2.4595999717712402, 2.4581000804901123, 2.45740008354187, 2.4570000171661377, 2.4565999507904053, 2.4546000957489014, 2.452899932861328, 2.4384000301361084, 2.4226999282836914, 2.2959001064300537, 2.272599935531616, 2.194999933242798, 2.1602001190185547, 2.1552000045776367, 2.1547999382019043, 2.1519999504089355, 2.1514999866485596, 2.1487998962402344, 2.115499973297119, 2.1129000186920166, 2.1108999252319336, 1.9958000183105469, 2.0897998809814453, 1.8021999597549438, 1.9027999639511108, 1.7669999599456787, 1.799299955368042, 1.7632999420166016, 1.8049999475479126, 1.3444000482559204, 1.0777000188827515, 1.738800048828125, 0.8871999979019165, 1.6506999731063843, 0.7712000012397766, 1.2927000522613525, 1.6545000076293945, 1.0746999979019165, 0.9438999891281128, 1.0299999713897705, -0.5187000036239624, 0.5753999948501587, 0.8246999979019165, 0.38839998841285706, 0.08709999918937683, 0.5534999966621399, -0.7605000138282776, -0.004800000227987766, 0.3425999879837036, 0.0771000012755394, -0.1509000062942505, 1.034000039100647, 0.9412000179290771, 0.11940000206232071, 0.48829999566078186, 0.15780000388622284, -0.28360000252723694, 0.14640000462532043, -0.5925999879837036, -0.27230000495910645, 0.08659999817609787, 2.7119998931884766, 2.6907999515533447, 2.6886000633239746, 2.501800060272217, 2.474600076675415, 2.47189998626709, 2.4526000022888184, 2.4500999450683594, 2.4423000812530518, 2.442199945449829, 2.4374001026153564, 2.428299903869629, 2.418100118637085, 2.4124999046325684, 2.410399913787842, 2.4096999168395996, 2.4042000770568848, 2.3940999507904053, 2.308799982070923, 2.2263998985290527, 2.1821000576019287, 2.1767001152038574, 2.1651999950408936, 2.1429998874664307, 2.1287999153137207, 2.0982000827789307, 2.0676000118255615, 2.027400016784668, 2.012399911880493, 2.0011000633239746, 1.9881000518798828, 1.9278000593185425, 1.8003000020980835, 1.6927000284194946, 1.6134999990463257, 1.0311000347137451, -0.2304999977350235, 0.8112999796867371, 0.7023000121116638, 1.8827999830245972, 0.4797999858856201, -0.5715000033378601, 0.64410001039505, -0.03999999910593033, 0.08169999718666077, 1.0420000553131104, 0.8831999897956848, 0.3790000081062317, 0.6431999802589417, 1.0253000259399414, -0.11490000039339066, -0.10689999908208847, 0.5289999842643738, 0.5871999859809875, 0.4523000121116638, -0.32679998874664307, 0.10440000146627426, -0.41370001435279846, 0.5809000134468079, 0.6553999781608582, 0.6845999956130981, 0.32829999923706055, 0.4357999861240387, -0.30709999799728394, -0.20829999446868896, -0.296099990606308, 0.18320000171661377, -0.07590000331401825], \"logprob\": [30.0, 29.0, 28.0, 27.0, 26.0, 25.0, 24.0, 23.0, 22.0, 21.0, 20.0, 19.0, 18.0, 17.0, 16.0, 15.0, 14.0, 13.0, 12.0, 11.0, 10.0, 9.0, 8.0, 7.0, 6.0, 5.0, 4.0, 3.0, 2.0, 1.0, -6.6356000900268555, -7.019499778747559, -7.723700046539307, -7.7241997718811035, -7.726600170135498, -7.733399868011475, -7.5518999099731445, -7.561299800872803, -7.6427001953125, -7.415999889373779, -8.378899574279785, -8.379400253295898, -8.381799697875977, -8.382100105285645, -8.383099555969238, -8.384499549865723, -8.01140022277832, -7.701300144195557, -8.420900344848633, -8.436800003051758, -8.437899589538574, -8.45930004119873, -8.014900207519531, -8.468600273132324, -7.567800045013428, -8.470499992370605, -8.480899810791016, -7.7459001541137695, -8.487899780273438, -7.575300216674805, -7.542099952697754, -7.614500045776367, -7.446300029754639, -7.788099765777588, -7.774899959564209, -6.55210018157959, -6.3302998542785645, -6.645199775695801, -4.960100173950195, -6.953199863433838, -7.382699966430664, -7.183599948883057, -7.358799934387207, -7.650599956512451, -6.138700008392334, -6.85699987411499, -5.26800012588501, -6.9517998695373535, -6.054699897766113, -6.81689977645874, -6.7052998542785645, -5.785399913787842, -5.827000141143799, -4.416999816894531, -5.61359977722168, -4.559599876403809, -6.220099925994873, -5.814199924468994, -5.6442999839782715, -6.942299842834473, -5.886300086975098, -5.567500114440918, -5.963900089263916, -6.462500095367432, -6.117599964141846, -6.369800090789795, -6.456099987030029, -5.862800121307373, -6.124199867248535, -5.912700176239014, -6.0493998527526855, -5.987199783325195, -6.225500106811523, -6.197400093078613, -5.961299896240234, -6.349699974060059, -6.246600151062012, -6.316699981689453, -6.430099964141846, -7.171199798583984, -7.407100200653076, -7.4095001220703125, -7.466300010681152, -7.47599983215332, -7.4857001304626465, -7.826600074768066, -7.887899875640869, -7.891499996185303, -7.946199893951416, -7.974999904632568, -7.138999938964844, -7.518700122833252, -8.441399574279785, -8.442399978637695, -8.442399978637695, -8.44279956817627, -8.443599700927734, -8.443900108337402, -8.444199562072754, -8.444299697875977, -8.447099685668945, -8.44729995727539, -7.557700157165527, -8.468099594116211, -8.475799560546875, -8.477700233459473, -8.482999801635742, -8.483200073242188, -8.059499740600586, -8.065999984741211, -8.104700088500977, -8.06089973449707, -6.645400047302246, -7.479800224304199, -7.473599910736084, -7.475900173187256, -7.874899864196777, -7.659900188446045, -6.2058000564575195, -7.154099941253662, -6.591599941253662, -7.86359977722168, -7.5030999183654785, -4.932000160217285, -6.767600059509277, -7.251999855041504, -7.321599960327148, -4.227799892425537, -5.207200050354004, -5.666200160980225, -7.139400005340576, -5.1778998374938965, -5.7855000495910645, -7.1107001304626465, -6.836999893188477, -4.537199974060059, -6.617000102996826, -5.861100196838379, -6.8414998054504395, -5.80210018157959, -6.37060022354126, -5.689199924468994, -6.624300003051758, -6.468599796295166, -5.952099800109863, -6.711599826812744, -6.021500110626221, -6.050000190734863, -6.025599956512451, -6.435200214385986, -6.425099849700928, -6.478400230407715, -5.9319000244140625, -5.934299945831299, -6.086699962615967, -6.2195000648498535, -6.289100170135498, -6.189199924468994, -6.3480000495910645, -6.2052001953125, -6.017499923706055, -6.291900157928467, -6.2820000648498535, -6.294000148773193, -6.253399848937988, -6.2957000732421875, -6.328999996185303, -7.798600196838379, -7.798600196838379, -7.798600196838379, -7.798600196838379, -6.635000228881836, -7.594900131225586, -7.896100044250488, -7.905399799346924, -6.807600021362305, -7.112199783325195, -7.929900169372559, -7.998300075531006, -7.707499980926514, -7.090799808502197, -8.036499977111816, -8.034000396728516, -8.461999893188477, -8.465100288391113, -8.465200424194336, -8.465399742126465, -8.465700149536133, -8.469499588012695, -8.47089958190918, -8.47189998626709, -8.474300384521484, -8.477299690246582, -8.477399826049805, -8.477800369262695, -8.479100227355957, -8.4822998046875, -7.579400062561035, -7.798600196838379, -7.593200206756592, -7.323400020599365, -8.089900016784668, -6.812099933624268, -7.173600196838379, -6.701600074768066, -7.530900001525879, -7.928100109100342, -6.833000183105469, -6.276500225067139, -6.256899833679199, -4.05019998550415, -5.564000129699707, -5.811100006103516, -6.447400093078613, -4.430699825286865, -5.704400062561035, -5.341000080108643, -5.76800012588501, -6.5254998207092285, -6.837900161743164, -6.063300132751465, -6.288300037384033, -6.166800022125244, -5.871300220489502, -6.2164998054504395, -5.667200088500977, -6.3907999992370605, -6.35230016708374, -6.201499938964844, -5.649899959564209, -5.678699970245361, -5.809899806976318, -5.878600120544434, -6.254000186920166, -6.324999809265137, -5.910099983215332, -6.039999961853027, -6.213500022888184, -6.171899795532227, -6.217599868774414, -6.173099994659424, -6.180699825286865, -6.317999839782715, -6.697000026702881, -7.094299793243408, -6.905900001525879, -7.763400077819824, -7.765500068664551, -7.8643999099731445, -7.940499782562256, -7.910399913787842, -7.918099880218506, -7.961599826812744, -7.959099769592285, -8.007399559020996, -8.022899627685547, -8.030400276184082, -8.40999984741211, -8.40999984741211, -8.40999984741211, -8.40999984741211, -8.40999984741211, -8.40999984741211, -8.40999984741211, -8.40999984741211, -8.40999984741211, -8.40999984741211, -8.40999984741211, -8.40999984741211, -8.411399841308594, -8.411600112915039, -7.328700065612793, -8.471400260925293, -8.054800033569336, -7.54640007019043, -6.251800060272217, -6.235400199890137, -4.132199764251709, -7.858699798583984, -7.437399864196777, -6.792600154876709, -7.834499835968018, -4.425899982452393, -7.694300174713135, -6.063000202178955, -6.213500022888184, -7.128900051116943, -7.461400032043457, -6.634900093078613, -7.161499977111816, -6.825099945068359, -5.808199882507324, -6.359499931335449, -5.785200119018555, -6.152400016784668, -6.088600158691406, -5.568900108337402, -6.27209997177124, -6.535399913787842, -5.58459997177124, -5.888800144195557, -6.551799774169922, -6.10830020904541, -6.242599964141846, -6.298099994659424, -5.848599910736084, -6.252500057220459, -6.085700035095215, -6.259399890899658, -5.971199989318848, -5.745299816131592, -6.057700157165527, -6.143400192260742, -6.09250020980835, -6.107699871063232, -6.003699779510498, -6.133500099182129, -6.031400203704834, -6.053199768066406, -6.206200122833252, -6.244200229644775, -6.235400199890137, -6.839600086212158, -6.892099857330322, -7.09089994430542, -6.933499813079834, -6.707699775695801, -7.734300136566162, -7.232699871063232, -7.77869987487793, -7.770999908447266, -7.786799907684326, -8.185099601745605, -8.185799598693848, -8.18589973449707, -8.186800003051758, -7.791399955749512, -8.187999725341797, -8.188899993896484, -8.193699836730957, -7.815499782562256, -7.542200088500977, -7.407899856567383, -7.6020002365112305, -8.349900245666504, -7.629199981689453, -8.368599891662598, -8.368399620056152, -8.370100021362305, -7.948400020599365, -8.371600151062012, -8.368200302124023, -7.2677001953125, -6.987299919128418, -7.294400215148926, -7.487400054931641, -8.016799926757812, -6.869500160217285, -7.541900157928467, -5.859300136566162, -6.957799911499023, -5.427700042724609, -5.500999927520752, -4.1809000968933105, -6.838399887084961, -7.094900131225586, -6.293099880218506, -5.679800033569336, -5.348199844360352, -6.189000129699707, -6.665900230407715, -6.725900173187256, -6.778600215911865, -7.1194000244140625, -5.50439977645874, -6.1529998779296875, -5.448800086975098, -6.019000053405762, -6.586299896240234, -5.83489990234375, -6.367400169372559, -6.235499858856201, -6.003799915313721, -6.317800045013428, -5.298999786376953, -6.176199913024902, -6.308700084686279, -6.07859992980957, -6.042900085449219, -6.360400199890137, -6.306000232696533, -6.03849983215332, -6.193600177764893, -6.179900169372559, -6.260499954223633, -6.321700096130371, -6.377200126647949, -6.316999912261963, -6.363399982452393, -7.4232001304626465, -7.46999979019165, -8.170999526977539, -8.170999526977539, -7.230599880218506, -7.478899955749512, -7.338500022888184, -7.48390007019043, -6.775199890136719, -7.817299842834473, -7.828100204467773, -8.221599578857422, -7.858500003814697, -8.236599922180176, -7.538899898529053, -8.24779987335205, -8.248700141906738, -8.250399589538574, -8.250399589538574, -8.251700401306152, -7.932199954986572, -8.255399703979492, -7.861599922180176, -8.265999794006348, -7.892099857330322, -7.91379976272583, -8.275899887084961, -7.874100208282471, -8.292400360107422, -7.9028000831604, -6.773200035095215, -7.3597002029418945, -6.88040018081665, -7.180300235748291, -6.950900077819824, -6.89139986038208, -5.73360013961792, -6.755199909210205, -7.180200099945068, -7.304699897766113, -6.78000020980835, -6.337200164794922, -6.354800224304199, -6.150700092315674, -6.295899868011475, -5.4207000732421875, -7.140699863433838, -7.341100215911865, -6.756999969482422, -5.982600212097168, -4.546999931335449, -5.658299922943115, -5.469200134277344, -5.443699836730957, -5.369500160217285, -5.901800155639648, -5.917300224304199, -5.938000202178955, -6.191699981689453, -6.246600151062012, -5.535999774932861, -6.178199768066406, -5.845699787139893, -6.231200218200684, -6.242000102996826, -6.0894999504089355, -5.080699920654297, -5.945199966430664, -5.76039981842041, -6.116199970245361, -6.014200210571289, -5.910399913787842, -6.258600234985352, -6.1381001472473145, -6.211100101470947, -6.125699996948242, -6.203400135040283, -7.193900108337402, -7.689799785614014, -7.656400203704834, -6.478799819946289, -6.72160005569458, -6.958499908447266, -7.686299800872803, -7.702099800109863, -6.726600170135498, -8.1806001663208, -7.743299961090088, -8.208900451660156, -8.227100372314453, -8.228500366210938, -8.229299545288086, -8.21150016784668, -8.234199523925781, -7.777299880981445, -8.224200248718262, -8.22599983215332, -7.306600093841553, -8.228599548339844, -8.228799819946289, -8.253700256347656, -8.234000205993652, -8.234199523925781, -8.237700462341309, -8.237199783325195, -8.258000373840332, -7.790599822998047, -6.1809000968933105, -7.837500095367432, -7.103400230407715, -6.164400100708008, -6.777100086212158, -7.827400207519531, -7.372600078582764, -6.580999851226807, -6.82420015335083, -7.604400157928467, -7.547500133514404, -7.576099872589111, -6.354899883270264, -5.963900089263916, -7.3358001708984375, -7.191299915313721, -7.236400127410889, -4.4054999351501465, -6.178199768066406, -6.72189998626709, -6.337500095367432, -5.385200023651123, -4.6596999168396, -5.6819000244140625, -6.66379976272583, -5.888000011444092, -6.129199981689453, -6.032599925994873, -6.053699970245361, -6.054599761962891, -6.752299785614014, -6.330900192260742, -5.848400115966797, -6.256199836730957, -5.805799961090088, -6.083199977874756, -6.372700214385986, -6.177499771118164, -6.2399001121521, -6.135499954223633, -6.013700008392334, -6.345600128173828, -6.265999794006348, -6.284299850463867, -6.420300006866455, -6.385799884796143, -6.406300067901611, -6.229800224304199, -7.333899974822998, -7.678800106048584, -7.7164998054504395, -7.760000228881836, -7.752999782562256, -7.617800235748291, -7.278800010681152, -7.792399883270264, -7.811100006103516, -7.917399883270264, -7.522600173950195, -7.821899890899658, -7.8231000900268555, -7.867000102996826, -8.29069995880127, -7.559999942779541, -8.296899795532227, -8.285400390625, -7.869800090789795, -7.994999885559082, -8.314299583435059, -8.3016996383667, -8.325599670410156, -8.305000305175781, -7.876500129699707, -8.33430004119873, -7.425899982452393, -7.381199836730957, -8.351400375366211, -6.948299884796143, -7.402100086212158, -7.47189998626709, -7.457799911499023, -7.651899814605713, -7.132699966430664, -7.683199882507324, -7.426499843597412, -7.965099811553955, -6.702499866485596, -6.801799774169922, -6.38640022277832, -4.433599948883057, -5.236700057983398, -6.270100116729736, -6.930799961090088, -6.83050012588501, -5.510900020599365, -5.480199813842773, -6.106200218200684, -6.088799953460693, -6.196100234985352, -5.673099994659424, -6.462800025939941, -4.865300178527832, -5.6031999588012695, -5.901299953460693, -5.881499767303467, -5.73360013961792, -5.951300144195557, -6.266900062561035, -6.089600086212158, -6.224299907684326, -6.093400001525879, -6.107699871063232, -6.257999897003174, -6.398200035095215, -6.365499973297119, -6.480000019073486, -6.258200168609619, -6.258699893951416, -6.372600078582764, -6.327400207519531, -6.259099960327148, -6.350299835205078, -6.373000144958496, -6.666399955749512, -7.229800224304199, -7.631899833679199, -7.631899833679199, -7.631899833679199, -7.640200138092041, -7.642600059509277, -7.642899990081787, -7.643199920654297, -7.644000053405762, -7.644199848175049, -7.645299911499023, -7.6458001136779785, -7.646100044250488, -7.646399974822998, -7.6479997634887695, -7.0605998039245605, -7.291999816894531, -7.306099891662598, -6.470699787139893, -7.395199775695801, -7.838500022888184, -7.919400215148926, -7.923999786376953, -7.455599784851074, -7.9268999099731445, -7.457600116729736, -7.929999828338623, -7.960700035095215, -7.484000205993652, -6.529799938201904, -6.754700183868408, -7.506800174713135, -6.338099956512451, -6.846099853515625, -6.364099979400635, -6.482999801635742, -6.372200012207031, -6.7017998695373535, -6.066299915313721, -5.69920015335083, -6.8282999992370605, -5.923900127410889, -6.763199806213379, -5.849999904632568, -6.426199913024902, -6.8171000480651855, -6.308199882507324, -6.195300102233887, -6.282700061798096, -4.938399791717529, -5.969200134277344, -6.184199810028076, -5.8206000328063965, -5.682600021362305, -6.047399997711182, -5.290500164031982, -5.788300037384033, -6.009099960327148, -5.864200115203857, -5.763500213623047, -6.448200225830078, -6.418300151824951, -6.168600082397461, -6.292699813842773, -6.23360013961792, -6.13539981842041, -6.259099960327148, -6.193399906158447, -6.31689977645874, -6.383999824523926, -7.062399864196777, -7.076000213623047, -7.077300071716309, -6.404600143432617, -7.66379976272583, -7.665900230407715, -7.681099891662598, -7.683199882507324, -7.689300060272217, -7.678999900817871, -7.682199954986572, -7.700500011444092, -7.695700168609619, -7.699699878692627, -7.701300144195557, -7.011499881744385, -7.719600200653076, -7.712800025939941, -7.0630998611450195, -7.39709997177124, -7.429999828338623, -6.899099826812744, -7.929900169372559, -7.220900058746338, -7.494100093841553, -7.537399768829346, -8.015700340270996, -6.907100200653076, -7.678999900817871, -8.075499534606934, -7.35230016708374, -6.4552998542785645, -6.901000022888184, -6.6732001304626465, -6.626800060272217, -5.7342000007629395, -4.650199890136719, -6.01609992980957, -5.958199977874756, -7.213699817657471, -5.990799903869629, -5.101500034332275, -6.156899929046631, -5.6407999992370605, -5.770100116729736, -6.622700214385986, -6.521699905395508, -6.164400100708008, -6.369200229644775, -6.635700225830078, -5.8846001625061035, -5.890399932861328, -6.318299770355225, -6.390500068664551, -6.3277997970581055, -5.957699775695801, -6.162600040435791, -6.026299953460693, -6.413300037384033, -6.48769998550415, -6.524899959564209, -6.43209981918335, -6.466400146484375, -6.3516998291015625, -6.374899864196777, -6.377900123596191, -6.4633002281188965, -6.467199802398682]}, \"token.table\": {\"Topic\": [1, 3, 9, 3, 1, 3, 4, 6, 7, 9, 1, 3, 7, 8, 1, 2, 3, 4, 1, 2, 3, 4, 5, 6, 8, 1, 2, 3, 4, 5, 6, 7, 8, 9, 1, 2, 3, 4, 5, 6, 7, 8, 9, 10, 1, 2, 3, 4, 5, 6, 7, 8, 9, 4, 3, 5, 6, 1, 2, 3, 4, 7, 4, 5, 1, 2, 3, 4, 5, 6, 7, 8, 9, 10, 7, 3, 5, 3, 1, 4, 2, 1, 2, 3, 4, 5, 6, 7, 8, 10, 6, 7, 4, 1, 2, 3, 4, 5, 6, 7, 8, 9, 10, 3, 1, 3, 1, 2, 3, 4, 5, 6, 7, 8, 9, 10, 1, 2, 3, 4, 5, 6, 7, 8, 9, 1, 2, 3, 4, 5, 6, 7, 8, 9, 10, 1, 2, 3, 4, 5, 6, 7, 8, 9, 1, 5, 1, 3, 8, 10, 7, 1, 2, 3, 4, 5, 6, 7, 8, 9, 1, 2, 3, 4, 5, 6, 7, 8, 9, 10, 1, 2, 3, 4, 5, 6, 7, 8, 9, 10, 1, 2, 3, 4, 5, 6, 7, 8, 9, 10, 1, 2, 3, 4, 5, 6, 7, 8, 9, 1, 2, 3, 4, 5, 6, 7, 8, 9, 10, 6, 8, 3, 2, 3, 5, 6, 8, 1, 2, 3, 4, 5, 6, 7, 8, 3, 8, 9, 5, 8, 5, 1, 2, 3, 4, 5, 6, 7, 8, 9, 6, 1, 2, 3, 4, 5, 6, 7, 8, 9, 10, 8, 6, 1, 3, 4, 5, 8, 10, 4, 3, 4, 9, 7, 6, 6, 10, 6, 2, 1, 2, 3, 4, 5, 6, 7, 8, 9, 9, 7, 8, 7, 1, 2, 3, 4, 5, 6, 7, 8, 9, 10, 2, 4, 5, 6, 7, 1, 2, 3, 5, 6, 7, 1, 10, 3, 1, 2, 3, 4, 6, 8, 4, 10, 4, 5, 10, 1, 2, 3, 4, 5, 6, 7, 8, 9, 10, 3, 1, 2, 3, 4, 5, 6, 7, 8, 9, 1, 2, 3, 4, 5, 6, 7, 8, 9, 10, 1, 2, 3, 4, 5, 6, 7, 8, 9, 5, 6, 8, 9, 3, 4, 5, 6, 2, 1, 2, 3, 4, 5, 6, 7, 8, 9, 8, 1, 2, 6, 8, 9, 1, 2, 3, 4, 5, 6, 7, 8, 9, 10, 6, 8, 6, 8, 1, 2, 3, 4, 5, 6, 7, 8, 9, 9, 4, 7, 1, 2, 3, 8, 9, 1, 2, 3, 4, 5, 6, 7, 8, 9, 10, 1, 2, 3, 4, 5, 6, 7, 8, 9, 10, 2, 8, 3, 2, 3, 4, 5, 2, 6, 1, 2, 3, 4, 5, 6, 7, 8, 9, 10, 1, 2, 3, 4, 5, 6, 7, 8, 9, 10, 4, 1, 2, 3, 4, 5, 6, 7, 8, 1, 3, 4, 4, 5, 9, 1, 5, 5, 3, 8, 5, 1, 2, 3, 4, 5, 6, 7, 8, 9, 10, 1, 2, 3, 6, 7, 8, 1, 2, 3, 6, 7, 1, 1, 3, 4, 5, 9, 2, 3, 4, 10, 1, 3, 6, 7, 1, 2, 6, 8, 4, 8, 9, 9, 2, 8, 5, 7, 8, 6, 6, 9, 4, 7, 6, 8, 6, 3, 5, 2, 1, 3, 7, 9, 5, 1, 3, 4, 7, 3, 5, 2, 4, 6, 7, 4, 2, 1, 2, 3, 4, 5, 6, 7, 8, 9, 10, 2, 8, 1, 2, 3, 4, 5, 6, 7, 8, 10, 1, 2, 3, 4, 5, 6, 7, 1, 5, 6, 7, 1, 2, 3, 4, 5, 6, 7, 8, 9, 10, 1, 2, 3, 4, 5, 6, 7, 8, 9, 10, 8, 2, 7, 8, 7, 3, 4, 1, 2, 3, 4, 5, 6, 7, 8, 9, 1, 2, 3, 4, 5, 6, 8, 9, 1, 2, 3, 4, 5, 6, 7, 8, 9, 10, 1, 1, 4, 5, 1, 10, 1, 10, 2, 5, 5, 7, 3, 6, 8, 1, 2, 3, 4, 5, 6, 7, 8, 9, 10, 6, 8, 1, 2, 3, 4, 5, 6, 7, 8, 1, 2, 3, 4, 5, 6, 7, 8, 9, 10, 1, 3, 7, 9, 6, 4, 1, 1, 2, 3, 4, 5, 6, 7, 8, 9, 10, 1, 2, 3, 6, 8, 1, 4, 1, 2, 3, 4, 5, 1, 2, 3, 4, 5, 8, 9, 1, 2, 3, 4, 5, 6, 8, 4, 5, 6, 2, 1, 2, 3, 4, 5, 6, 7, 8, 9, 10, 5, 5, 3, 4, 5, 6, 7, 8, 4, 6, 1, 2, 3, 4, 5, 7, 8, 9, 10, 1, 2, 3, 4, 5, 6, 7, 8, 9, 10, 2, 3, 1, 2, 3, 4, 5, 6, 7, 8, 9, 1, 4, 5, 6, 8, 9, 1, 3, 4, 6, 7, 5, 5, 1, 6, 7, 1, 2, 3, 4, 7, 9, 5, 1, 4, 1, 1, 2, 3, 4, 7, 9, 10, 7, 1, 1, 4, 8, 7, 2, 1, 2, 3, 4, 5, 6, 7, 8, 9, 1, 2, 3, 4, 5, 6, 7, 8, 9, 1, 2, 4, 5, 9, 10, 1, 2, 3, 4, 6, 8, 9, 1, 1, 5, 1, 2, 3, 4, 5, 6, 7, 8, 1, 2, 3, 4, 5, 6, 7, 8, 1, 2, 3, 4, 5, 6, 8, 1, 3, 4, 7, 1, 2, 3, 5, 6, 9, 2, 3, 4, 5, 6, 7, 8, 4, 1, 3, 4, 5, 1, 2, 3, 4, 5, 6, 7, 8, 9, 4, 1, 2, 3, 10, 2, 1, 2, 3, 4, 5, 6, 7, 8, 9, 10, 1, 2, 3, 4, 5, 6, 7, 8, 9, 10, 2, 4, 1, 2, 3, 5, 5, 1, 2, 3, 4, 5, 6, 7, 8, 9, 9, 4, 6, 2, 1, 6, 1, 2, 3, 4, 5, 6, 7, 8, 9, 10, 6, 3, 4, 3, 5, 6, 1, 2, 3, 4, 5, 6, 7, 10, 3, 5, 8, 5, 6, 7, 1, 3, 3, 4, 9, 7, 5, 5, 6, 7, 4, 4, 1, 2, 6, 7, 7, 3, 5, 7, 8, 7, 2, 5, 7, 2, 1, 2, 3, 4, 5, 6, 7, 8, 9, 2, 5, 6, 7, 1, 2, 3, 4, 5, 6, 7, 8, 9, 10, 1, 2, 4, 5, 8, 9, 7, 1, 2, 3, 4, 5, 6, 7, 8, 9, 10, 6, 8, 4, 4, 3, 1, 2, 3, 4, 5, 6, 7, 8, 9, 10, 9, 1, 2, 3, 4, 5, 6, 7, 8, 4, 4, 7, 1, 2, 3, 4, 5, 6, 7, 8, 10, 2, 6, 1, 2, 3, 4, 5, 6, 7, 8, 9, 1, 2, 3, 4, 5, 6, 7, 8, 9, 10, 1, 2, 3, 4, 5, 6, 7, 8, 9, 2, 3, 8, 1, 4, 5, 7, 1, 2, 4, 2, 1, 2, 3, 4, 5, 6, 7, 8, 9, 10, 9, 8, 8, 9, 6, 1, 2, 3, 4, 5, 6, 7, 8, 9, 10, 2, 6, 1, 2, 3, 4, 5, 6, 7, 8, 9, 10, 1, 2, 3, 4, 5, 6, 7, 8, 9, 10, 1, 2, 3, 4, 5, 6, 7, 8, 9, 10, 1, 2, 3, 4, 5, 6, 7, 8, 9, 10, 9, 2, 5, 5, 1, 2, 3, 4, 5, 6, 7, 8, 9, 10, 1, 2, 3, 4, 5, 6, 7, 8, 1, 7, 4, 1, 2, 3, 4, 5, 6, 7, 8, 10, 1, 1, 2, 3, 4, 5, 6, 7, 8, 9, 10, 5, 6, 8, 1, 2, 3, 4, 6, 7, 8, 7, 7, 1, 2, 2, 9, 1, 3, 6, 8, 6, 6, 1, 2, 3, 4, 5, 6, 7, 8, 9, 1, 2, 3, 4, 5, 6, 7, 8, 9, 10, 9, 1, 2, 3, 4, 5, 6, 7, 8, 9, 7, 1, 4, 6, 7, 9, 2, 1, 2, 3, 4, 5, 6, 7, 8, 9, 10, 1, 2, 3, 4, 5, 6, 7, 8, 9, 10, 3, 1, 7, 1, 2, 8, 9, 2, 6, 5, 1, 2, 3, 4, 5, 6, 7, 8, 9, 7, 5, 1, 2, 3, 4, 5, 6, 7, 8, 9, 10, 1, 2, 1, 2, 3, 4, 5, 6, 10, 1, 2, 3, 4, 5, 6, 7, 8, 9, 2, 3, 4, 5, 7, 3, 1, 2, 3, 4, 5, 7, 8, 1, 2, 3, 4, 5, 6, 7, 8, 9, 10, 1, 6, 8, 1, 2, 3, 4, 5, 6, 7, 8, 9, 2, 3, 2, 4, 8, 1, 7, 10, 8, 1, 10, 2, 3, 4, 5, 6, 6, 4, 2, 1, 1, 2, 3, 4, 5, 6, 7, 8, 9, 10, 1, 6, 7, 1, 2, 3, 4, 5, 6, 7, 8, 5, 9, 2, 4, 2, 3, 6, 7, 4, 7, 8, 1, 7, 1, 7, 8, 2, 1, 3, 3, 3, 6, 1, 1, 2, 3, 4, 5, 6, 7, 8, 9, 10, 2, 3, 6, 7, 8, 1, 2, 3, 4, 5, 6, 8, 2, 1, 6, 3, 8, 1, 2, 3, 4, 5, 6, 8, 10, 1, 2, 5, 6, 8, 9, 10, 4, 4, 1, 2, 3, 5, 2, 3, 4, 5, 10, 5, 8, 1, 7, 1, 3, 4, 5, 7, 7, 1, 2, 3, 4, 5, 6, 7, 8, 9, 10, 3, 10, 3, 3, 1, 2, 3, 4, 5, 6, 7, 8, 9, 10, 1, 2, 3, 4, 5, 6, 7, 8, 9, 10, 10, 5, 5, 9, 2, 1, 2, 3, 4, 5, 6, 7, 8, 9, 10, 5, 1, 2, 3, 4, 5, 6, 7, 8, 9, 1, 6, 7, 6, 2, 4, 5, 6, 1, 2, 3, 4, 5, 6, 7, 8, 9, 10, 2, 10, 1, 7, 5, 6, 7, 9, 5, 6, 1, 2, 3, 4, 5, 6, 7, 8, 9, 10, 3, 2, 3, 5, 6, 8, 1, 2, 3, 4, 5, 6, 7, 8, 9, 10, 3, 5, 6, 7, 2, 3, 1, 2, 3, 4, 5, 6, 7, 8, 9, 10, 1, 7, 1, 2, 3, 4, 5, 6, 7, 8, 10, 1, 2, 3, 4, 5, 6, 7, 8, 1, 1, 2, 3, 4, 5, 6, 7, 8, 9, 10, 8, 2, 3, 6, 7, 10, 4, 7, 4, 1, 2, 3, 4, 5, 6, 7, 8, 9, 1, 2, 3, 4, 5, 7, 9, 1, 2, 3, 4, 5, 6, 7, 1, 2, 3, 6, 10, 2, 6, 9, 4, 8, 3, 5, 8, 10, 1, 2, 3, 4, 5, 6, 7, 8, 9, 10, 1, 2, 3, 4, 5, 6, 7, 8, 9, 10, 1, 2, 3, 4, 5, 6, 7, 8, 10, 2, 4, 6, 2, 1, 9, 5, 6, 1, 2, 3, 4, 6, 8, 9, 6, 2, 4, 1, 2, 3, 4, 5, 6, 7, 8, 9, 10, 3, 3, 3, 5, 8, 1, 2, 3, 4, 5, 6, 7, 8, 9, 1, 2, 1, 2, 3, 4, 5, 6, 7, 8, 9, 10, 1, 2, 3, 4, 5, 6, 7, 8, 9, 1, 2, 3, 4, 5, 6, 7, 8, 9, 10, 5, 1, 2, 3, 4, 5, 6, 7, 8, 9, 10, 1, 2, 3, 4, 5, 6, 7, 8, 9, 10, 1, 2, 3, 4, 5, 6, 7, 8, 9, 10, 1, 2, 3, 4, 5, 6, 7, 8, 9, 10, 5, 9, 1, 4, 7, 3, 7, 4, 7, 2, 4, 5, 7, 1, 2, 3, 4, 5, 6, 7, 8, 9, 10, 2, 3, 1, 1, 2, 3, 4, 5, 6, 7, 8, 9, 10, 6, 4, 6, 8, 6, 8, 3, 6, 1, 2, 4, 6, 3, 6, 8, 3, 6, 1, 2, 3, 4, 5, 6, 7, 8, 10, 1, 2, 3, 4, 5, 6, 7, 8, 9, 2, 1, 2, 3, 4, 5, 6, 7, 8, 9, 10, 1, 2, 3, 4, 5, 6, 7, 8, 1, 2, 3, 4, 8, 5, 1, 2, 3, 4, 5, 6, 7, 10, 9, 7, 8, 1, 2, 5, 6, 1, 1, 2, 3, 4, 5, 6, 7, 8, 9, 10, 1, 5, 9, 6, 8, 1, 2, 3, 4, 5, 6, 7, 8, 9, 10, 1, 2, 3, 4, 5, 6, 7, 8, 9, 10, 1, 2, 3, 4, 5, 6, 7, 8, 9, 10, 1, 2, 3, 4, 5, 6, 7, 8, 10, 1, 2, 3, 4, 5, 6, 7, 8, 9, 10, 1, 2, 3, 4, 5, 6, 7, 8, 8, 2, 6, 9, 2], \"Freq\": [0.56868577003479, 0.4665990471839905, 0.45830196142196655, 0.587840735912323, 0.4153250753879547, 0.13844169676303864, 0.06922084838151932, 0.06922084838151932, 0.20766253769397736, 0.06922084838151932, 0.1325453221797943, 0.5301812887191772, 0.1325453221797943, 0.4915347099304199, 0.1915021389722824, 0.574506402015686, 0.1915021389722824, 0.1915021389722824, 0.10573901981115341, 0.10573901981115341, 0.10573901981115341, 0.10573901981115341, 0.10573901981115341, 0.10573901981115341, 0.21147803962230682, 0.32598942518234253, 0.03259894251823425, 0.130395770072937, 0.130395770072937, 0.09779683500528336, 0.0651978850364685, 0.130395770072937, 0.03259894251823425, 0.03259894251823425, 0.13355384767055511, 0.1780717968940735, 0.07419658452272415, 0.11871452629566193, 0.08903589844703674, 0.22258974611759186, 0.11871452629566193, 0.02967863157391548, 0.01483931578695774, 0.02967863157391548, 0.28008830547332764, 0.04668138176202774, 0.2334069162607193, 0.09336276352405548, 0.09336276352405548, 0.04668138176202774, 0.09336276352405548, 0.04668138176202774, 0.09336276352405548, 0.6568843126296997, 0.5881584286689758, 0.29939359426498413, 0.5987871885299683, 0.40227967500686646, 0.08045593649148941, 0.16091187298297882, 0.16091187298297882, 0.16091187298297882, 0.23916199803352356, 0.4783239960670471, 0.12997323274612427, 0.17329765856266022, 0.15163543820381165, 0.07581771910190582, 0.08664882928133011, 0.15163543820381165, 0.05415551736950874, 0.0974799320101738, 0.03249330818653107, 0.03249330818653107, 0.6513702869415283, 0.4628754258155823, 0.23143771290779114, 0.5879102349281311, 0.46056342124938965, 0.23028171062469482, 0.7726336717605591, 0.14684730768203735, 0.08810838311910629, 0.11747784912586212, 0.11747784912586212, 0.17621676623821259, 0.08810838311910629, 0.11747784912586212, 0.08810838311910629, 0.02936946228146553, 0.3059067726135254, 0.3059067726135254, 0.6568270325660706, 0.16650573909282684, 0.1332045942544937, 0.29971033334732056, 0.06660229712724686, 0.09990344196557999, 0.08325286954641342, 0.03330114856362343, 0.08325286954641342, 0.016650574281811714, 0.016650574281811714, 0.7612023949623108, 0.28147605061531067, 0.5629521012306213, 0.19183839857578278, 0.10962194204330444, 0.13702742755413055, 0.08221645653247833, 0.10962194204330444, 0.13702742755413055, 0.10962194204330444, 0.02740548551082611, 0.02740548551082611, 0.05481097102165222, 0.032006941735744476, 0.22404859960079193, 0.16003471612930298, 0.1280277669429779, 0.1280277669429779, 0.22404859960079193, 0.06401388347148895, 0.032006941735744476, 0.032006941735744476, 0.13683544099330902, 0.17593127489089966, 0.09773959964513779, 0.09773959964513779, 0.13683544099330902, 0.13683544099330902, 0.09773959964513779, 0.05864375829696655, 0.019547920674085617, 0.019547920674085617, 0.1001528948545456, 0.2003057897090912, 0.1001528948545456, 0.150229349732399, 0.0500764474272728, 0.1001528948545456, 0.1001528948545456, 0.0500764474272728, 0.1001528948545456, 0.5479422211647034, 0.7722412347793579, 0.1509355902671814, 0.6037423610687256, 0.22975578904151917, 0.45951157808303833, 0.6400147080421448, 0.07992298901081085, 0.1065639853477478, 0.13320498168468475, 0.18648697435855865, 0.1598459780216217, 0.1065639853477478, 0.07992298901081085, 0.1065639853477478, 0.02664099633693695, 0.1308067888021469, 0.1569681465625763, 0.20929086208343506, 0.1308067888021469, 0.1569681465625763, 0.052322715520858765, 0.052322715520858765, 0.026161357760429382, 0.026161357760429382, 0.026161357760429382, 0.10232775658369064, 0.2899286448955536, 0.19612820446491241, 0.07674581557512283, 0.04263656586408615, 0.05969119071960449, 0.11085507273674011, 0.06821850687265396, 0.03410925343632698, 0.01705462671816349, 0.15168717503547668, 0.22753077745437622, 0.14326012134552002, 0.10112478584051132, 0.03370826318860054, 0.13483305275440216, 0.05898945778608322, 0.10112478584051132, 0.01685413159430027, 0.03370826318860054, 0.09112246334552765, 0.09112246334552765, 0.31892862915992737, 0.13668370246887207, 0.09112246334552765, 0.13668370246887207, 0.09112246334552765, 0.045561231672763824, 0.045561231672763824, 0.07566855102777481, 0.20178279280662537, 0.12611424922943115, 0.1765599399805069, 0.10089139640331268, 0.07566855102777481, 0.07566855102777481, 0.12611424922943115, 0.02522284910082817, 0.02522284910082817, 0.44244253635406494, 0.44244253635406494, 0.5993309617042542, 0.5091584920883179, 0.12728962302207947, 0.12728962302207947, 0.25457924604415894, 0.12728962302207947, 0.08948428928852081, 0.17896857857704163, 0.08948428928852081, 0.08948428928852081, 0.08948428928852081, 0.08948428928852081, 0.08948428928852081, 0.17896857857704163, 0.5878422856330872, 0.4677334129810333, 0.7639341354370117, 0.5881977677345276, 0.46695971488952637, 0.5869134664535522, 0.051485564559698105, 0.25742781162261963, 0.10297112911939621, 0.051485564559698105, 0.051485564559698105, 0.051485564559698105, 0.051485564559698105, 0.20594225823879242, 0.15445668995380402, 0.6027128100395203, 0.1548149585723877, 0.2477039396762848, 0.0309629924595356, 0.1238519698381424, 0.0928889811038971, 0.1238519698381424, 0.1238519698381424, 0.0309629924595356, 0.0309629924595356, 0.0619259849190712, 0.6805746555328369, 0.5981632471084595, 0.11317794770002365, 0.11317794770002365, 0.11317794770002365, 0.33953383564949036, 0.11317794770002365, 0.11317794770002365, 0.6568841934204102, 0.3094328045845032, 0.3094328045845032, 0.6188656091690063, 0.6401579976081848, 0.5991389155387878, 0.4062940180301666, 0.5427350401878357, 0.416703999042511, 0.5833612084388733, 0.11061299592256546, 0.11061299592256546, 0.11061299592256546, 0.1659194827079773, 0.11061299592256546, 0.11061299592256546, 0.11061299592256546, 0.05530649796128273, 0.11061299592256546, 0.5229236483573914, 0.2841870188713074, 0.6850872039794922, 0.6393249034881592, 0.1931987851858139, 0.055199652910232544, 0.11039930582046509, 0.13799913227558136, 0.08279947936534882, 0.1931987851858139, 0.11039930582046509, 0.055199652910232544, 0.027599826455116272, 0.027599826455116272, 0.08130358159542084, 0.08130358159542084, 0.2439107447862625, 0.08130358159542084, 0.487821489572525, 0.4916502833366394, 0.098330058157444, 0.098330058157444, 0.098330058157444, 0.098330058157444, 0.098330058157444, 0.5443174242973328, 0.2721587121486664, 0.5887128710746765, 0.15067093074321747, 0.37667733430862427, 0.2260064035654068, 0.07533546537160873, 0.07533546537160873, 0.07533546537160873, 0.42940017580986023, 0.4764288663864136, 0.27784955501556396, 0.27784955501556396, 0.27784955501556396, 0.3043493330478668, 0.13834060728549957, 0.08300436288118362, 0.027668122202157974, 0.13834060728549957, 0.08300436288118362, 0.08300436288118362, 0.05533624440431595, 0.027668122202157974, 0.027668122202157974, 0.5881434082984924, 0.4402778446674347, 0.048919759690761566, 0.1467592865228653, 0.048919759690761566, 0.048919759690761566, 0.09783951938152313, 0.09783951938152313, 0.048919759690761566, 0.09783951938152313, 0.16040021181106567, 0.08020010590553284, 0.16040021181106567, 0.12030016630887985, 0.12030016630887985, 0.04010005295276642, 0.04010005295276642, 0.16040021181106567, 0.04010005295276642, 0.04010005295276642, 0.16641809046268463, 0.1997017115354538, 0.1997017115354538, 0.06656724214553833, 0.033283621072769165, 0.06656724214553833, 0.1997017115354538, 0.033283621072769165, 0.033283621072769165, 0.15406610071659088, 0.15406610071659088, 0.15406610071659088, 0.15406610071659088, 0.14509743452072144, 0.14509743452072144, 0.4352923035621643, 0.14509743452072144, 0.5838361382484436, 0.17225152254104614, 0.06890060752630234, 0.24115213751792908, 0.13780121505260468, 0.03445030376315117, 0.06890060752630234, 0.13780121505260468, 0.06890060752630234, 0.06890060752630234, 0.6727654933929443, 0.08255594223737717, 0.2476678341627121, 0.33022376894950867, 0.08255594223737717, 0.08255594223737717, 0.26866915822029114, 0.08955638855695724, 0.16120150685310364, 0.1432902216911316, 0.0716451108455658, 0.12537895143032074, 0.0358225554227829, 0.0716451108455658, 0.01791127771139145, 0.0358225554227829, 0.33910858631134033, 0.33910858631134033, 0.3297519385814667, 0.3297519385814667, 0.14022572338581085, 0.07011286169290543, 0.14022572338581085, 0.2804514467716217, 0.07011286169290543, 0.14022572338581085, 0.07011286169290543, 0.07011286169290543, 0.7610630393028259, 0.761832058429718, 0.6568233370780945, 0.6540142297744751, 0.16365231573581696, 0.3273046314716339, 0.16365231573581696, 0.16365231573581696, 0.16365231573581696, 0.19547423720359802, 0.16540127992630005, 0.15036480128765106, 0.13532832264900208, 0.07518240064382553, 0.09021887928247452, 0.07518240064382553, 0.060145918279886246, 0.030072959139943123, 0.015036479569971561, 0.22099514305591583, 0.044199030846357346, 0.08839806169271469, 0.13259708881378174, 0.3093931972980499, 0.044199030846357346, 0.044199030846357346, 0.044199030846357346, 0.044199030846357346, 0.044199030846357346, 0.8945831060409546, 0.49540022015571594, 0.7612022757530212, 0.1774110198020935, 0.1774110198020935, 0.354822039604187, 0.1774110198020935, 0.5926805138587952, 0.1975601762533188, 0.19686198234558105, 0.16405165195465088, 0.1476464867591858, 0.11483616381883621, 0.11483616381883621, 0.09843099117279053, 0.06562066078186035, 0.049215495586395264, 0.016405165195465088, 0.032810330390930176, 0.23414163291454315, 0.14633852243423462, 0.11707081645727158, 0.08780311048030853, 0.11707081645727158, 0.14633852243423462, 0.05853540822863579, 0.05853540822863579, 0.029267704114317894, 0.029267704114317894, 0.6568842530250549, 0.10684031993150711, 0.32052096724510193, 0.16026048362255096, 0.053420159965753555, 0.053420159965753555, 0.10684031993150711, 0.053420159965753555, 0.10684031993150711, 0.540018618106842, 0.270009309053421, 0.6568842530250549, 0.43168115615844727, 0.45816269516944885, 0.45816269516944885, 0.5675113201141357, 0.3973482847213745, 0.39614352583885193, 0.62080317735672, 0.31040158867836, 0.601308286190033, 0.06914471834897995, 0.06914471834897995, 0.17286179959774017, 0.17286179959774017, 0.24200651049613953, 0.06914471834897995, 0.10371708124876022, 0.034572359174489975, 0.034572359174489975, 0.06914471834897995, 0.15508656203746796, 0.3877164125442505, 0.07754328101873398, 0.15508656203746796, 0.07754328101873398, 0.07754328101873398, 0.3652951419353485, 0.07305902987718582, 0.3652951419353485, 0.07305902987718582, 0.07305902987718582, 0.6428883671760559, 0.1487511694431305, 0.1487511694431305, 0.1487511694431305, 0.1487511694431305, 0.1487511694431305, 0.5848874449729919, 0.6699738502502441, 0.16749346256256104, 0.5473047494888306, 0.8162961602210999, 0.494125634431839, 0.16470853984355927, 0.16470853984355927, 0.5557294487953186, 0.2570837736129761, 0.2570837736129761, 0.2570837736129761, 0.23788699507713318, 0.23788699507713318, 0.23788699507713318, 0.760352373123169, 0.31838077306747437, 0.31838077306747437, 0.12766553461551666, 0.5106621384620667, 0.12766553461551666, 0.5983532667160034, 0.587210476398468, 0.7598894238471985, 0.6568843126296997, 0.4103015065193176, 0.43949392437934875, 0.43949392437934875, 0.5963100790977478, 0.5805860161781311, 0.5882924795150757, 0.5833667516708374, 0.19627797603607178, 0.19627797603607178, 0.19627797603607178, 0.19627797603607178, 0.588216245174408, 0.17424441874027252, 0.17424441874027252, 0.17424441874027252, 0.34848883748054504, 0.2935154139995575, 0.587030827999115, 0.21249322593212128, 0.42498645186424255, 0.21249322593212128, 0.4084356129169464, 0.9592797160148621, 0.7670836448669434, 0.06512496620416641, 0.39074981212615967, 0.13024993240833282, 0.06512496620416641, 0.06512496620416641, 0.13024993240833282, 0.06512496620416641, 0.06512496620416641, 0.06512496620416641, 0.06512496620416641, 0.2561720013618469, 0.2561720013618469, 0.2639078199863434, 0.07540223002433777, 0.07540223002433777, 0.07540223002433777, 0.16965502500534058, 0.16965502500534058, 0.1319539099931717, 0.018850557506084442, 0.018850557506084442, 0.11147177964448929, 0.11147177964448929, 0.055735889822244644, 0.055735889822244644, 0.22294355928897858, 0.33441534638404846, 0.11147177964448929, 0.23554137349128723, 0.23554137349128723, 0.23554137349128723, 0.47108274698257446, 0.14448466897010803, 0.18388958275318146, 0.14448466897010803, 0.14448466897010803, 0.1050797626376152, 0.07880982011556625, 0.07880982011556625, 0.0525398813188076, 0.0262699406594038, 0.0262699406594038, 0.1399185061454773, 0.11193480342626572, 0.1399185061454773, 0.1399185061454773, 0.11193480342626572, 0.1399185061454773, 0.02798370085656643, 0.05596740171313286, 0.02798370085656643, 0.05596740171313286, 0.6839984059333801, 0.4678541421890259, 0.23392707109451294, 0.6828261613845825, 0.40935227274894714, 0.5924192070960999, 0.19747307896614075, 0.18702228367328644, 0.07013335824012756, 0.14026671648025513, 0.09351114183664322, 0.11688893288373947, 0.14026671648025513, 0.11688893288373947, 0.04675557091832161, 0.07013335824012756, 0.07484599202871323, 0.07484599202871323, 0.07484599202871323, 0.2993839681148529, 0.14969198405742645, 0.07484599202871323, 0.14969198405742645, 0.07484599202871323, 0.20195642113685608, 0.16523706912994385, 0.12851771712303162, 0.14687739312648773, 0.12851771712303162, 0.09179837256669998, 0.07343869656324387, 0.03671934828162193, 0.018359674140810966, 0.018359674140810966, 0.7613047361373901, 0.7778263688087463, 0.3203240633010864, 0.3203240633010864, 0.46532848477363586, 0.46532848477363586, 0.4706430435180664, 0.4706430435180664, 0.6463745832443237, 0.16159364581108093, 0.7017059326171875, 0.6534243822097778, 0.32650285959243774, 0.32650285959243774, 0.32650285959243774, 0.10184979438781738, 0.13579972088336945, 0.20369958877563477, 0.1697496473789215, 0.10184979438781738, 0.10184979438781738, 0.03394993022084236, 0.06789986044168472, 0.03394993022084236, 0.06789986044168472, 0.4422711431980133, 0.4422711431980133, 0.03373805060982704, 0.2361663579940796, 0.26990440487861633, 0.10121415555477142, 0.06747610121965408, 0.10121415555477142, 0.10121415555477142, 0.06747610121965408, 0.2504272162914276, 0.260444313287735, 0.07011961936950684, 0.14023923873901367, 0.03005126491189003, 0.09015379846096039, 0.08013670891523361, 0.040068354457616806, 0.020034177228808403, 0.010017088614404202, 0.4763531982898712, 0.1361009180545807, 0.20415136218070984, 0.06805045902729034, 0.4100412428379059, 0.44998499751091003, 0.5587443113327026, 0.12107761949300766, 0.06053880974650383, 0.2724246382713318, 0.06053880974650383, 0.0908082127571106, 0.15134702622890472, 0.0908082127571106, 0.06053880974650383, 0.06053880974650383, 0.030269404873251915, 0.08965940773487091, 0.17931881546974182, 0.08965940773487091, 0.26897820830345154, 0.26897820830345154, 0.30302807688713074, 0.30302807688713074, 0.1606847643852234, 0.0803423821926117, 0.0803423821926117, 0.24102714657783508, 0.3213695287704468, 0.13983803987503052, 0.20975705981254578, 0.06991901993751526, 0.13983803987503052, 0.27967607975006104, 0.06991901993751526, 0.06991901993751526, 0.10076814889907837, 0.10076814889907837, 0.10076814889907837, 0.10076814889907837, 0.10076814889907837, 0.4030725955963135, 0.10076814889907837, 0.2358623594045639, 0.4717247188091278, 0.2358623594045639, 0.8489238023757935, 0.05653605982661247, 0.11307211965322495, 0.2261442393064499, 0.11307211965322495, 0.1978762149810791, 0.05653605982661247, 0.05653605982661247, 0.05653605982661247, 0.08480408787727356, 0.028268029913306236, 0.5883872509002686, 0.769340991973877, 0.09446384012699127, 0.09446384012699127, 0.3778553605079651, 0.09446384012699127, 0.18892768025398254, 0.09446384012699127, 0.5151717066764832, 0.2575858533382416, 0.06613029539585114, 0.26452118158340454, 0.06613029539585114, 0.13226059079170227, 0.06613029539585114, 0.06613029539585114, 0.13226059079170227, 0.06613029539585114, 0.06613029539585114, 0.05404352396726608, 0.16213056445121765, 0.10808704793453217, 0.270217627286911, 0.10808704793453217, 0.10808704793453217, 0.05404352396726608, 0.05404352396726608, 0.05404352396726608, 0.05404352396726608, 0.5695858001708984, 0.18986192345619202, 0.09689589589834213, 0.048447947949171066, 0.09689589589834213, 0.048447947949171066, 0.1453438401222229, 0.2906876802444458, 0.1453438401222229, 0.09689589589834213, 0.048447947949171066, 0.24618861079216003, 0.12309430539608002, 0.12309430539608002, 0.12309430539608002, 0.12309430539608002, 0.24618861079216003, 0.18592798709869385, 0.30987998843193054, 0.06197599694132805, 0.06197599694132805, 0.2479039877653122, 0.3917419910430908, 0.3957858681678772, 0.19375115633010864, 0.3875023126602173, 0.19375115633010864, 0.3861663043498993, 0.06436105072498322, 0.25744420289993286, 0.06436105072498322, 0.19308315217494965, 0.06436105072498322, 0.7062400579452515, 0.4485554099082947, 0.449796199798584, 0.5662303566932678, 0.21359747648239136, 0.10679873824119568, 0.21359747648239136, 0.10679873824119568, 0.10679873824119568, 0.21359747648239136, 0.10679873824119568, 0.41485413908958435, 0.5672130584716797, 0.2712962329387665, 0.2712962329387665, 0.542592465877533, 0.6484739184379578, 0.5850548148155212, 0.13979747891426086, 0.13979747891426086, 0.17474685609340668, 0.2096962332725525, 0.06989873945713043, 0.034949369728565216, 0.10484811663627625, 0.06989873945713043, 0.034949369728565216, 0.0840088427066803, 0.04200442135334015, 0.1680176854133606, 0.29403093457221985, 0.0840088427066803, 0.0840088427066803, 0.0840088427066803, 0.12601326406002045, 0.04200442135334015, 0.14040593802928925, 0.14040593802928925, 0.14040593802928925, 0.14040593802928925, 0.14040593802928925, 0.14040593802928925, 0.15393805503845215, 0.15393805503845215, 0.46181416511535645, 0.07696902751922607, 0.07696902751922607, 0.07696902751922607, 0.07696902751922607, 0.5636954307556152, 0.557969868183136, 0.3939892649650574, 0.09975869953632355, 0.29927611351013184, 0.14963805675506592, 0.09975869953632355, 0.049879349768161774, 0.09975869953632355, 0.09975869953632355, 0.049879349768161774, 0.267479807138443, 0.0764228031039238, 0.1146342009305954, 0.0764228031039238, 0.1528456062078476, 0.1146342009305954, 0.0764228031039238, 0.0382114015519619, 0.14261628687381744, 0.356540709733963, 0.21392442286014557, 0.07130814343690872, 0.07130814343690872, 0.07130814343690872, 0.07130814343690872, 0.2774292230606079, 0.09247640520334244, 0.09247640520334244, 0.36990562081336975, 0.45316818356513977, 0.09063363820314407, 0.09063363820314407, 0.09063363820314407, 0.18126727640628815, 0.09063363820314407, 0.1155109703540802, 0.1155109703540802, 0.3465329110622406, 0.1155109703540802, 0.1155109703540802, 0.1155109703540802, 0.1155109703540802, 0.6568842530250549, 0.13388031721115112, 0.13388031721115112, 0.13388031721115112, 0.40164095163345337, 0.10926762968301773, 0.08195072412490845, 0.13658453524112701, 0.10926762968301773, 0.08195072412490845, 0.13658453524112701, 0.10926762968301773, 0.10926762968301773, 0.10926762968301773, 0.8846930265426636, 0.1871679276227951, 0.1871679276227951, 0.1871679276227951, 0.1871679276227951, 0.39491522312164307, 0.04516506567597389, 0.06774760037660599, 0.31615546345710754, 0.18066026270389557, 0.11291266232728958, 0.06774760037660599, 0.04516506567597389, 0.06774760037660599, 0.04516506567597389, 0.022582532837986946, 0.10379679501056671, 0.13345302641391754, 0.23724982142448425, 0.16310925781726837, 0.10379679501056671, 0.10379679501056671, 0.02965622767806053, 0.0889686793088913, 0.014828113839030266, 0.014828113839030266, 0.6034691333770752, 0.3017345666885376, 0.2766123414039612, 0.4149184823036194, 0.1383061707019806, 0.1383061707019806, 0.5993275046348572, 0.210236594080925, 0.07007886469364166, 0.07007886469364166, 0.210236594080925, 0.07007886469364166, 0.07007886469364166, 0.07007886469364166, 0.07007886469364166, 0.14015772938728333, 0.7611567974090576, 0.3595702052116394, 0.3595702052116394, 0.3814631700515747, 0.5558907985687256, 0.4127395749092102, 0.16805538535118103, 0.0746912807226181, 0.11203692853450775, 0.09336410462856293, 0.2240738570690155, 0.16805538535118103, 0.0746912807226181, 0.056018464267253876, 0.018672820180654526, 0.018672820180654526, 0.6027128100395203, 0.2493061125278473, 0.4986122250556946, 0.14498992264270782, 0.5799596905708313, 0.5985593199729919, 0.13275384902954102, 0.13275384902954102, 0.19913077354431152, 0.13275384902954102, 0.06637692451477051, 0.13275384902954102, 0.06637692451477051, 0.06637692451477051, 0.19708645343780518, 0.39417290687561035, 0.19708645343780518, 0.39201512932777405, 0.19600756466388702, 0.19600756466388702, 0.7230730056762695, 0.36153650283813477, 0.19660025835037231, 0.19660025835037231, 0.19660025835037231, 0.6510921120643616, 0.5884761214256287, 0.14463724195957184, 0.5785489678382874, 0.14463724195957184, 0.6568842530250549, 0.6568843126296997, 0.1807735115289688, 0.1807735115289688, 0.1807735115289688, 0.3615470230579376, 0.6414415836334229, 0.23610857129096985, 0.4722171425819397, 0.11805428564548492, 0.11805428564548492, 0.4457567632198334, 0.15091931819915771, 0.30183863639831543, 0.45275795459747314, 0.759675145149231, 0.17445245385169983, 0.17445245385169983, 0.14953067898750305, 0.17445245385169983, 0.07476533949375153, 0.04984356090426445, 0.0996871218085289, 0.07476533949375153, 0.024921780452132225, 0.2003275454044342, 0.2003275454044342, 0.2003275454044342, 0.4006550908088684, 0.11018624156713486, 0.27546560764312744, 0.165279358625412, 0.0734574943780899, 0.09182187169790268, 0.0734574943780899, 0.09182187169790268, 0.0734574943780899, 0.03672874718904495, 0.018364373594522476, 0.10582685470581055, 0.10582685470581055, 0.10582685470581055, 0.2116537094116211, 0.10582685470581055, 0.2116537094116211, 0.6410180330276489, 0.2653718590736389, 0.2653718590736389, 0.13268592953681946, 0.0995144471526146, 0.033171482384204865, 0.06634296476840973, 0.06634296476840973, 0.033171482384204865, 0.033171482384204865, 0.033171482384204865, 0.444017231464386, 0.444017231464386, 0.4272991120815277, 0.4345676898956299, 0.5881778597831726, 0.07798868417739868, 0.05199245736002922, 0.15597736835479736, 0.20796982944011688, 0.1299811452627182, 0.07798868417739868, 0.07798868417739868, 0.1299811452627182, 0.05199245736002922, 0.02599622868001461, 0.4216405153274536, 0.1369151473045349, 0.1369151473045349, 0.1369151473045349, 0.1369151473045349, 0.10268636792898178, 0.10268636792898178, 0.06845757365226746, 0.1369151473045349, 0.44402074813842773, 0.6568843722343445, 0.4158245623111725, 0.08420819789171219, 0.042104098945856094, 0.37893688678741455, 0.08420819789171219, 0.12631230056285858, 0.042104098945856094, 0.042104098945856094, 0.08420819789171219, 0.08420819789171219, 0.23318758606910706, 0.4663751721382141, 0.03924863040447235, 0.11774589121341705, 0.19624315202236176, 0.0784972608089447, 0.1569945216178894, 0.03924863040447235, 0.1569945216178894, 0.0784972608089447, 0.0784972608089447, 0.10972488671541214, 0.1645873337984085, 0.13715611398220062, 0.1645873337984085, 0.13715611398220062, 0.10972488671541214, 0.05486244335770607, 0.08229366689920425, 0.05486244335770607, 0.027431221678853035, 0.13620133697986603, 0.13620133697986603, 0.13620133697986603, 0.22700221836566925, 0.04540044441819191, 0.04540044441819191, 0.09080088883638382, 0.04540044441819191, 0.04540044441819191, 0.45047906041145325, 0.15015968680381775, 0.15015968680381775, 0.4605959951877594, 0.2302979975938797, 0.2302979975938797, 0.6507781744003296, 0.5349668860435486, 0.2674834430217743, 0.4476313591003418, 0.8492860794067383, 0.07536526769399643, 0.12560878694057465, 0.17585229873657227, 0.20097404718399048, 0.17585229873657227, 0.12560878694057465, 0.02512175589799881, 0.05024351179599762, 0.02512175589799881, 0.02512175589799881, 0.5237467288970947, 0.4665103554725647, 0.3819429874420166, 0.3819429874420166, 0.5984209179878235, 0.16324615478515625, 0.13059692084789276, 0.06529846042394638, 0.13059692084789276, 0.19589538872241974, 0.09794769436120987, 0.09794769436120987, 0.03264923021197319, 0.03264923021197319, 0.03264923021197319, 0.839992105960846, 0.4008289575576782, 0.24536943435668945, 0.14994798600673676, 0.13631634414196014, 0.12268471717834473, 0.054526541382074356, 0.10905308276414871, 0.054526541382074356, 0.08178980648517609, 0.013631635345518589, 0.027263270691037178, 0.0897444635629654, 0.0897444635629654, 0.0897444635629654, 0.20940375328063965, 0.11965928971767426, 0.20940375328063965, 0.0897444635629654, 0.05982964485883713, 0.029914822429418564, 0.029914822429418564, 0.21715088188648224, 0.32572633028030396, 0.05428772047162056, 0.05428772047162056, 0.10857544094324112, 0.05428772047162056, 0.05428772047162056, 0.05428772047162056, 0.05428772047162056, 0.05428772047162056, 0.11723946034908295, 0.17585918307304382, 0.14654932916164398, 0.08792959153652191, 0.05861973017454147, 0.17585918307304382, 0.05861973017454147, 0.08792959153652191, 0.029309865087270737, 0.05861973017454147, 0.4919832646846771, 0.7668489217758179, 0.5885476469993591, 0.41379281878471375, 0.08866211771965027, 0.11821615695953369, 0.08866211771965027, 0.059108078479766846, 0.29554039239883423, 0.20687827467918396, 0.059108078479766846, 0.029554039239883423, 0.029554039239883423, 0.029554039239883423, 0.15196450054645538, 0.15196450054645538, 0.07598225027322769, 0.15196450054645538, 0.07598225027322769, 0.07598225027322769, 0.22794674336910248, 0.07598225027322769, 0.5558120608329773, 0.414604514837265, 0.6568841934204102, 0.08147502690553665, 0.08147502690553665, 0.36663761734962463, 0.08147502690553665, 0.12221253663301468, 0.12221253663301468, 0.040737513452768326, 0.08147502690553665, 0.040737513452768326, 0.5558226108551025, 0.13967831432819366, 0.12970130145549774, 0.1596323698759079, 0.13967831432819366, 0.13967831432819366, 0.1097472533583641, 0.049885112792253494, 0.06983915716409683, 0.039908092468976974, 0.029931068420410156, 0.1751028299331665, 0.5253084897994995, 0.1751028299331665, 0.09630968421697617, 0.19261936843395233, 0.09630968421697617, 0.09630968421697617, 0.19261936843395233, 0.09630968421697617, 0.2889290452003479, 0.645674467086792, 0.6407448649406433, 0.7104288935661316, 0.5855976343154907, 0.5861026048660278, 0.7639337182044983, 0.16511274874210358, 0.16511274874210358, 0.16511274874210358, 0.33022549748420715, 0.39533138275146484, 0.43370938301086426, 0.07691597193479538, 0.17947061359882355, 0.23074792325496674, 0.10255463421344757, 0.07691597193479538, 0.051277317106723785, 0.12819328904151917, 0.07691597193479538, 0.051277317106723785, 0.073634572327137, 0.13254223763942719, 0.19144989550113678, 0.11781531572341919, 0.11781531572341919, 0.17672297358512878, 0.044180743396282196, 0.08836148679256439, 0.029453828930854797, 0.014726914465427399, 0.760422945022583, 0.09092234820127487, 0.22730587422847748, 0.045461174100637436, 0.09092234820127487, 0.18184469640254974, 0.045461174100637436, 0.136383518576622, 0.18184469640254974, 0.045461174100637436, 0.6407027840614319, 0.17614266276359558, 0.17614266276359558, 0.17614266276359558, 0.17614266276359558, 0.35228532552719116, 0.5835164189338684, 0.29527804255485535, 0.10421577841043472, 0.13895437121391296, 0.07816183567047119, 0.13026972115039825, 0.11290042847394943, 0.06947718560695648, 0.03473859280347824, 0.01736929640173912, 0.02605394460260868, 0.1459016352891922, 0.1945355087518692, 0.0972677543759346, 0.0486338771879673, 0.0729508176445961, 0.1702185720205307, 0.0729508176445961, 0.1215846985578537, 0.02431693859398365, 0.0729508176445961, 0.5881679654121399, 0.29187947511672974, 0.29187947511672974, 0.17514482140541077, 0.35028964281082153, 0.35028964281082153, 0.5274825096130371, 0.2940463721752167, 0.5880927443504333, 0.6005116105079651, 0.1403418481349945, 0.18712246417999268, 0.3274643123149872, 0.09356123208999634, 0.04678061604499817, 0.04678061604499817, 0.09356123208999634, 0.04678061604499817, 0.04678061604499817, 0.6394138932228088, 0.5954141616821289, 0.21673798561096191, 0.1702941209077835, 0.07740642130374908, 0.1238502785563469, 0.13933156430721283, 0.07740642130374908, 0.06192513927817345, 0.06192513927817345, 0.06192513927817345, 0.015481284819543362, 0.45562779903411865, 0.5838555097579956, 0.710623025894165, 0.2360430359840393, 0.11802151799201965, 0.11802151799201965, 0.11802151799201965, 0.11802151799201965, 0.11802151799201965, 0.2467796504497528, 0.1542372852563858, 0.0925423726439476, 0.0308474563062191, 0.0308474563062191, 0.339322030544281, 0.0616949126124382, 0.0308474563062191, 0.0308474563062191, 0.46963778138160706, 0.11740944534540176, 0.11740944534540176, 0.11740944534540176, 0.11740944534540176, 0.5888018012046814, 0.1676451861858368, 0.0838225930929184, 0.4191129803657532, 0.0838225930929184, 0.0838225930929184, 0.0838225930929184, 0.0838225930929184, 0.13961313664913177, 0.09307542443275452, 0.1628819853067398, 0.13961313664913177, 0.09307542443275452, 0.13961313664913177, 0.11634428054094315, 0.02326885610818863, 0.04653771221637726, 0.02326885610818863, 0.7104719877243042, 0.2667715549468994, 0.2667715549468994, 0.13332590460777283, 0.08888393640518188, 0.2222098410129547, 0.2222098410129547, 0.08888393640518188, 0.04444196820259094, 0.04444196820259094, 0.08888393640518188, 0.04444196820259094, 0.2510712146759033, 0.6276780366897583, 0.586168110370636, 0.7807326316833496, 0.1951831579208374, 0.3630497455596924, 0.3630497455596924, 0.3630497455596924, 0.6702225208282471, 0.36594870686531067, 0.36594870686531067, 0.147332102060318, 0.147332102060318, 0.147332102060318, 0.147332102060318, 0.4419962763786316, 0.598422110080719, 0.6568841934204102, 0.7615897059440613, 0.5557435154914856, 0.1223006471991539, 0.1223006471991539, 0.0815337672829628, 0.1630675345659256, 0.0815337672829628, 0.1223006471991539, 0.2038344144821167, 0.0407668836414814, 0.0407668836414814, 0.0407668836414814, 0.20080839097499847, 0.20080839097499847, 0.6024251580238342, 0.08946721255779266, 0.17893442511558533, 0.1342008113861084, 0.3131352365016937, 0.1342008113861084, 0.04473360627889633, 0.04473360627889633, 0.04473360627889633, 0.46455118060112, 0.46455118060112, 0.8395129442214966, 0.4265952408313751, 0.13153566420078278, 0.13153566420078278, 0.39460697770118713, 0.13153566420078278, 0.2097662389278412, 0.4195324778556824, 0.2097662389278412, 0.2555675506591797, 0.5111351013183594, 0.1591273993253708, 0.47738218307495117, 0.1591273993253708, 0.8517010807991028, 0.11787102371454239, 0.7072260975837708, 0.7612024545669556, 0.5890425443649292, 0.5971288681030273, 0.7048254609107971, 0.2909347712993622, 0.05818695202469826, 0.17456085979938507, 0.05818695202469826, 0.05818695202469826, 0.17456085979938507, 0.1454673856496811, 0.02909347601234913, 0.02909347601234913, 0.02909347601234913, 0.12189541012048721, 0.12189541012048721, 0.36568623781204224, 0.12189541012048721, 0.12189541012048721, 0.4319842457771301, 0.08639685064554214, 0.1727937012910843, 0.08639685064554214, 0.08639685064554214, 0.08639685064554214, 0.08639685064554214, 0.5835524797439575, 0.2246694415807724, 0.4493388831615448, 0.7555103898048401, 0.6809994578361511, 0.20474828779697418, 0.051187071949243546, 0.10237414389848709, 0.15356121957302094, 0.2559353709220886, 0.10237414389848709, 0.051187071949243546, 0.10237414389848709, 0.2125786542892456, 0.1062893271446228, 0.1062893271446228, 0.1062893271446228, 0.1062893271446228, 0.2125786542892456, 0.1062893271446228, 0.6629745364189148, 0.44311293959617615, 0.47015780210494995, 0.15671926736831665, 0.15671926736831665, 0.15671926736831665, 0.1338290125131607, 0.2676580250263214, 0.1338290125131607, 0.1338290125131607, 0.1338290125131607, 0.2725275456905365, 0.2725275456905365, 0.5753270983695984, 0.19177569448947906, 0.12231245636940002, 0.12231245636940002, 0.12231245636940002, 0.12231245636940002, 0.3669373691082001, 0.6506668925285339, 0.1500275880098343, 0.13192079961299896, 0.21210795640945435, 0.1526142656803131, 0.13968084752559662, 0.054320331662893295, 0.06725374609231949, 0.04656028375029564, 0.02328014187514782, 0.025866825133562088, 0.5879643559455872, 0.5432139039039612, 0.7678329348564148, 0.5885739326477051, 0.1071416363120079, 0.28571105003356934, 0.12499857693910599, 0.07142776250839233, 0.1071416363120079, 0.07142776250839233, 0.12499857693910599, 0.03571388125419617, 0.05357081815600395, 0.017856940627098083, 0.14441019296646118, 0.1992860585451126, 0.16173940896987915, 0.12708096206188202, 0.0519876666367054, 0.1039753332734108, 0.09819892793893814, 0.07798150181770325, 0.017329221591353416, 0.017329221591353416, 0.3546382486820221, 0.3957194685935974, 0.4639371931552887, 0.4639371931552887, 0.5834036469459534, 0.09346794337034225, 0.12462392449378967, 0.24924784898757935, 0.09346794337034225, 0.1557799130678177, 0.062311962246894836, 0.062311962246894836, 0.062311962246894836, 0.031155981123447418, 0.031155981123447418, 0.7869969606399536, 0.16958841681480408, 0.16958841681480408, 0.07537262886762619, 0.09421578049659729, 0.09421578049659729, 0.09421578049659729, 0.13190209865570068, 0.09421578049659729, 0.037686314433813095, 0.16745862364768982, 0.5023759007453918, 0.16745862364768982, 0.40993544459342957, 0.13006402552127838, 0.13006402552127838, 0.13006402552127838, 0.39019206166267395, 0.1473826915025711, 0.25791969895362854, 0.07369134575128555, 0.1473826915025711, 0.11053701490163803, 0.036845672875642776, 0.07369134575128555, 0.07369134575128555, 0.036845672875642776, 0.036845672875642776, 0.4703730344772339, 0.4703730344772339, 0.4132303297519684, 0.4132303297519684, 0.2727024257183075, 0.13635121285915375, 0.40905362367630005, 0.7608858942985535, 0.29863521456718445, 0.5972704291343689, 0.14371562004089355, 0.17245875298976898, 0.11497250199317932, 0.08622937649488449, 0.17245875298976898, 0.08622937649488449, 0.14371562004089355, 0.05748625099658966, 0.02874312549829483, 0.02874312549829483, 0.38351401686668396, 0.5834856629371643, 0.2899286448955536, 0.5798572897911072, 0.4465179741382599, 0.4465179741382599, 0.10103560239076614, 0.15155340731143951, 0.15155340731143951, 0.10103560239076614, 0.12629450857639313, 0.22733011841773987, 0.05051780119538307, 0.05051780119538307, 0.025258900597691536, 0.025258900597691536, 0.07598327100276947, 0.3039330840110779, 0.07598327100276947, 0.4558996260166168, 0.7035678625106812, 0.7558762431144714, 0.06341917812824249, 0.25367671251296997, 0.09512876719236374, 0.19025753438472748, 0.09512876719236374, 0.09512876719236374, 0.09512876719236374, 0.09512876719236374, 0.031709589064121246, 0.031709589064121246, 0.6554575562477112, 0.21848586201667786, 0.11492697149515152, 0.17239046096801758, 0.17239046096801758, 0.11492697149515152, 0.11492697149515152, 0.08619523048400879, 0.05746348574757576, 0.08619523048400879, 0.08619523048400879, 0.06362783163785934, 0.06362783163785934, 0.06362783163785934, 0.06362783163785934, 0.2545113265514374, 0.06362783163785934, 0.3181391656398773, 0.06362783163785934, 0.5513013601303101, 0.13005055487155914, 0.16720785200595856, 0.13005055487155914, 0.09289325028657913, 0.07431460171937943, 0.16720785200595856, 0.07431460171937943, 0.09289325028657913, 0.03715730085968971, 0.03715730085968971, 0.6696162819862366, 0.3813481330871582, 0.23631633818149567, 0.23631633818149567, 0.23631633818149567, 0.23631633818149567, 0.4276655614376068, 0.4276655614376068, 0.8848307728767395, 0.2242896556854248, 0.1121448278427124, 0.1121448278427124, 0.3364344835281372, 0.1121448278427124, 0.1121448278427124, 0.1121448278427124, 0.1121448278427124, 0.7608335018157959, 0.11170915514230728, 0.4468366205692291, 0.11170915514230728, 0.11170915514230728, 0.11170915514230728, 0.11170915514230728, 0.11170915514230728, 0.09014015644788742, 0.09014015644788742, 0.4507007896900177, 0.09014015644788742, 0.09014015644788742, 0.09014015644788742, 0.09014015644788742, 0.2723093032836914, 0.1361546516418457, 0.1361546516418457, 0.1361546516418457, 0.2723093032836914, 0.254356324672699, 0.508712649345398, 0.254356324672699, 0.4538779556751251, 0.4538779556751251, 0.23976634442806244, 0.4795326888561249, 0.23976634442806244, 0.3844820559024811, 0.10827941447496414, 0.08662352710962296, 0.10827941447496414, 0.1732470542192459, 0.12993529438972473, 0.1732470542192459, 0.06496764719486237, 0.06496764719486237, 0.06496764719486237, 0.02165588177740574, 0.1438664197921753, 0.0959109514951706, 0.2397773712873459, 0.07193320989608765, 0.1438664197921753, 0.0959109514951706, 0.0959109514951706, 0.07193320989608765, 0.02397773787379265, 0.0479554757475853, 0.1454715132713318, 0.1939620077610016, 0.21820726990699768, 0.0969810038805008, 0.0969810038805008, 0.0969810038805008, 0.0727357566356659, 0.0242452509701252, 0.0242452509701252, 0.5802326798439026, 0.19341088831424713, 0.19341088831424713, 0.376017689704895, 0.555850088596344, 0.760553240776062, 0.40129679441452026, 0.40129679441452026, 0.1003657802939415, 0.200731560587883, 0.1003657802939415, 0.1003657802939415, 0.401463121175766, 0.1003657802939415, 0.7602753043174744, 0.5999340415000916, 0.4735044538974762, 0.2367522269487381, 0.13357013463974, 0.13357013463974, 0.166962668299675, 0.166962668299675, 0.06678506731987, 0.13357013463974, 0.06678506731987, 0.033392533659935, 0.033392533659935, 0.06678506731987, 0.7691649198532104, 0.7569781541824341, 0.2876538336277008, 0.5753076672554016, 0.43344613909721375, 0.1751445233821869, 0.14595377445220947, 0.08757226169109344, 0.2043352723121643, 0.08757226169109344, 0.029190752655267715, 0.05838150531053543, 0.14595377445220947, 0.029190752655267715, 0.5425732135772705, 0.27128660678863525, 0.16036204993724823, 0.16036204993724823, 0.16036204993724823, 0.06872659176588058, 0.09163545817136765, 0.09163545817136765, 0.13745318353176117, 0.04581772908568382, 0.06872659176588058, 0.02290886454284191, 0.16853289306163788, 0.4213322401046753, 0.08426644653081894, 0.08426644653081894, 0.04213322326540947, 0.04213322326540947, 0.04213322326540947, 0.08426644653081894, 0.04213322326540947, 0.09946279227733612, 0.1562986820936203, 0.11367176473140717, 0.07104485481977463, 0.2131345570087433, 0.14208970963954926, 0.08525382727384567, 0.05683588236570358, 0.02841794118285179, 0.014208970591425896, 0.6023155450820923, 0.14076702296733856, 0.16087660193443298, 0.12065745145082474, 0.14076702296733856, 0.12065745145082474, 0.10054787993431091, 0.08043830096721649, 0.08043830096721649, 0.040219150483608246, 0.06032872572541237, 0.12357816100120544, 0.20081450045108795, 0.1544726938009262, 0.1699199676513672, 0.06178908050060272, 0.13902543485164642, 0.03089454025030136, 0.06178908050060272, 0.03089454025030136, 0.01544727012515068, 0.10968313366174698, 0.047007057815790176, 0.23503528535366058, 0.15669018030166626, 0.21936626732349396, 0.0626760721206665, 0.0626760721206665, 0.0626760721206665, 0.015669018030166626, 0.015669018030166626, 0.1510731726884842, 0.11330487579107285, 0.0755365863442421, 0.11330487579107285, 0.11330487579107285, 0.0755365863442421, 0.26437804102897644, 0.03776829317212105, 0.03776829317212105, 0.03776829317212105, 0.5882502794265747, 0.7612345814704895, 0.49103453755378723, 0.16367816925048828, 0.16367816925048828, 0.5878638029098511, 0.6385236978530884, 0.8029372692108154, 0.6406590938568115, 0.13592922687530518, 0.13592922687530518, 0.4077876806259155, 0.13592922687530518, 0.13150741159915924, 0.13150741159915924, 0.13150741159915924, 0.09104359149932861, 0.17197123169898987, 0.15173931419849396, 0.04046382009983063, 0.10115955024957657, 0.04046382009983063, 0.03034786321222782, 0.5835447907447815, 0.7612023949623108, 0.7106799483299255, 0.18428605794906616, 0.1675327718257904, 0.13402622938156128, 0.11727294325828552, 0.0837663859128952, 0.10051966458559036, 0.10051966458559036, 0.06701311469078064, 0.03350655734539032, 0.01675327867269516, 0.5985099077224731, 0.6568842530250549, 0.5194970965385437, 0.25974854826927185, 0.4429660141468048, 0.4429660141468048, 0.29482534527778625, 0.5896506905555725, 0.19186805188655853, 0.19186805188655853, 0.19186805188655853, 0.38373610377311707, 0.7668735384941101, 0.3701430857181549, 0.616905152797699, 0.5882003307342529, 0.5976244211196899, 0.11764150112867355, 0.11764150112867355, 0.08823112398386002, 0.1470518708229065, 0.1470518708229065, 0.20587262511253357, 0.08823112398386002, 0.05882075056433678, 0.02941037528216839, 0.09468857944011688, 0.18937715888023376, 0.15781430900096893, 0.2209400236606598, 0.09468857944011688, 0.03156286105513573, 0.06312572211027145, 0.1262514442205429, 0.03156286105513573, 0.5832605957984924, 0.161231130361557, 0.18810299038887024, 0.10748741775751114, 0.10748741775751114, 0.10748741775751114, 0.13435927033424377, 0.0806155651807785, 0.0806155651807785, 0.026871854439377785, 0.05374370887875557, 0.08397509157657623, 0.12596264481544495, 0.12596264481544495, 0.16795018315315247, 0.12596264481544495, 0.2939128279685974, 0.041987545788288116, 0.041987545788288116, 0.08096841722726822, 0.4858105182647705, 0.24290525913238525, 0.08096841722726822, 0.08096841722726822, 0.6001034379005432, 0.055485062301158905, 0.16645517945289612, 0.11097012460231781, 0.16645517945289612, 0.055485062301158905, 0.33291035890579224, 0.055485062301158905, 0.055485062301158905, 0.7639338374137878, 0.4549941122531891, 0.4549941122531891, 0.5043469071388245, 0.12608672678470612, 0.12608672678470612, 0.12608672678470612, 0.5695018172264099, 0.086513951420784, 0.1946563869714737, 0.2379133701324463, 0.086513951420784, 0.043256975710392, 0.173027902841568, 0.0648854672908783, 0.0648854672908783, 0.021628487855196, 0.043256975710392, 0.19979386031627655, 0.3995877206325531, 0.3995877206325531, 0.3278806209564209, 0.3278806209564209, 0.20137149095535278, 0.09476304799318314, 0.15398995578289032, 0.08291766792535782, 0.11845381557941437, 0.08291766792535782, 0.11845381557941437, 0.09476304799318314, 0.03553614392876625, 0.011845380999147892, 0.1350056380033493, 0.1350056380033493, 0.18900787830352783, 0.10800450295209885, 0.08100338280200958, 0.10800450295209885, 0.05400225147604942, 0.05400225147604942, 0.05400225147604942, 0.08100338280200958, 0.19490636885166168, 0.17054307460784912, 0.17054307460784912, 0.09745318442583084, 0.14617978036403656, 0.04872659221291542, 0.07308989018201828, 0.02436329610645771, 0.04872659221291542, 0.02436329610645771, 0.1970059722661972, 0.11820358037948608, 0.07880238443613052, 0.15760476887226105, 0.11820358037948608, 0.15760476887226105, 0.03940119221806526, 0.03940119221806526, 0.07880238443613052, 0.1632552295923233, 0.11661087721586227, 0.23322175443172455, 0.11661087721586227, 0.1399330496788025, 0.06996652483940125, 0.04664434865117073, 0.09328869730234146, 0.023322174325585365, 0.023322174325585365, 0.37915506958961487, 0.07583101093769073, 0.07583101093769073, 0.07583101093769073, 0.07583101093769073, 0.07583101093769073, 0.07583101093769073, 0.07583101093769073, 0.6846930980682373, 0.2499401718378067, 0.4998803436756134, 0.12497008591890335, 0.5851587057113647], \"Term\": [\"abandon\", \"abdul\", \"abdullah\", \"ablution\", \"abuse\", \"abuse\", \"abuse\", \"abuse\", \"abuse\", \"abuse\", \"accept\", \"accept\", \"accept\", \"actress\", \"adam\", \"adam\", \"adam\", \"adam\", \"address\", \"address\", \"address\", \"address\", \"address\", \"address\", \"address\", \"afghan\", \"afghan\", \"afghan\", \"afghan\", \"afghan\", \"afghan\", \"afghan\", \"afghan\", \"afghan\", \"afghanistan\", \"afghanistan\", \"afghanistan\", \"afghanistan\", \"afghanistan\", \"afghanistan\", \"afghanistan\", \"afghanistan\", \"afghanistan\", \"afghanistan\", \"agreement\", \"agreement\", \"agreement\", \"agreement\", \"agreement\", \"agreement\", \"agreement\", \"agreement\", \"agreement\", \"agriculture\", \"aid\", \"alei\", \"alei\", \"allegations\", \"allegations\", \"allegations\", \"allegations\", \"allegations\", \"almao\", \"almao\", \"also\", \"also\", \"also\", \"also\", \"also\", \"also\", \"also\", \"also\", \"also\", \"also\", \"alsosaid\", \"alternative\", \"alternative\", \"ammunition\", \"analysis\", \"analysis\", \"annan\", \"another\", \"another\", \"another\", \"another\", \"another\", \"another\", \"another\", \"another\", \"another\", \"appointment\", \"appointment\", \"arabian\", \"arafat\", \"arafat\", \"arafat\", \"arafat\", \"arafat\", \"arafat\", \"arafat\", \"arafat\", \"arafat\", \"arafat\", \"arbitrated\", \"arbitration\", \"arbitration\", \"area\", \"area\", \"area\", \"area\", \"area\", \"area\", \"area\", \"area\", \"area\", \"area\", \"areas\", \"areas\", \"areas\", \"areas\", \"areas\", \"areas\", \"areas\", \"areas\", \"areas\", \"around\", \"around\", \"around\", \"around\", \"around\", \"around\", \"around\", \"around\", \"around\", \"around\", \"arrest\", \"arrest\", \"arrest\", \"arrest\", \"arrest\", \"arrest\", \"arrest\", \"arrest\", \"arrest\", \"arrivals\", \"ashes\", \"asic\", \"asic\", \"assa_abloy\", \"assa_abloy\", \"astronauts\", \"attack\", \"attack\", \"attack\", \"attack\", \"attack\", \"attack\", \"attack\", \"attack\", \"attack\", \"attacks\", \"attacks\", \"attacks\", \"attacks\", \"attacks\", \"attacks\", \"attacks\", \"attacks\", \"attacks\", \"attacks\", \"australia\", \"australia\", \"australia\", \"australia\", \"australia\", \"australia\", \"australia\", \"australia\", \"australia\", \"australia\", \"australian\", \"australian\", \"australian\", \"australian\", \"australian\", \"australian\", \"australian\", \"australian\", \"australian\", \"australian\", \"authorities\", \"authorities\", \"authorities\", \"authorities\", \"authorities\", \"authorities\", \"authorities\", \"authorities\", \"authorities\", \"back\", \"back\", \"back\", \"back\", \"back\", \"back\", \"back\", \"back\", \"back\", \"back\", \"badtrans\", \"badtrans\", \"baker\", \"bank\", \"bank\", \"bank\", \"bank\", \"bank\", \"banks\", \"banks\", \"banks\", \"banks\", \"banks\", \"banks\", \"banks\", \"banks\", \"bastion\", \"battlefield\", \"battles\", \"bayt\", \"belgium\", \"benares\", \"best\", \"best\", \"best\", \"best\", \"best\", \"best\", \"best\", \"best\", \"best\", \"bettering\", \"bin_laden\", \"bin_laden\", \"bin_laden\", \"bin_laden\", \"bin_laden\", \"bin_laden\", \"bin_laden\", \"bin_laden\", \"bin_laden\", \"bin_laden\", \"bitumen\", \"blacked\", \"blake\", \"blake\", \"blake\", \"blake\", \"blake\", \"blake\", \"boasted\", \"boje\", \"boje\", \"boje\", \"bon\", \"boonah\", \"bourne\", \"bradstreet\", \"breach\", \"brendan\", \"british\", \"british\", \"british\", \"british\", \"british\", \"british\", \"british\", \"british\", \"british\", \"bulli\", \"burden\", \"bypass\", \"calculate\", \"called\", \"called\", \"called\", \"called\", \"called\", \"called\", \"called\", \"called\", \"called\", \"called\", \"cancer\", \"cancer\", \"cancer\", \"cancer\", \"cancer\", \"car\", \"car\", \"car\", \"car\", \"car\", \"car\", \"casinos\", \"casinos\", \"catering\", \"caught\", \"caught\", \"caught\", \"caught\", \"caught\", \"caught\", \"ceasefire\", \"celebrating\", \"center\", \"center\", \"center\", \"centre\", \"centre\", \"centre\", \"centre\", \"centre\", \"centre\", \"centre\", \"centre\", \"centre\", \"centre\", \"channels\", \"child\", \"child\", \"child\", \"child\", \"child\", \"child\", \"child\", \"child\", \"child\", \"children\", \"children\", \"children\", \"children\", \"children\", \"children\", \"children\", \"children\", \"children\", \"children\", \"claims\", \"claims\", \"claims\", \"claims\", \"claims\", \"claims\", \"claims\", \"claims\", \"claims\", \"closed\", \"closed\", \"closed\", \"closed\", \"club\", \"club\", \"club\", \"club\", \"colleagues\", \"commission\", \"commission\", \"commission\", \"commission\", \"commission\", \"commission\", \"commission\", \"commission\", \"commission\", \"commodity\", \"commonwealth\", \"commonwealth\", \"commonwealth\", \"commonwealth\", \"commonwealth\", \"company\", \"company\", \"company\", \"company\", \"company\", \"company\", \"company\", \"company\", \"company\", \"company\", \"computer\", \"computer\", \"computers\", \"computers\", \"concerned\", \"concerned\", \"concerned\", \"concerned\", \"concerned\", \"concerned\", \"concerned\", \"concerned\", \"conflicting\", \"confusion\", \"context\", \"contributor\", \"costello\", \"costello\", \"costello\", \"costello\", \"costello\", \"could\", \"could\", \"could\", \"could\", \"could\", \"could\", \"could\", \"could\", \"could\", \"could\", \"court\", \"court\", \"court\", \"court\", \"court\", \"court\", \"court\", \"court\", \"court\", \"court\", \"cow\", \"crowe\", \"crush\", \"custody\", \"custody\", \"custody\", \"custody\", \"cuts\", \"cuts\", \"day\", \"day\", \"day\", \"day\", \"day\", \"day\", \"day\", \"day\", \"day\", \"day\", \"days\", \"days\", \"days\", \"days\", \"days\", \"days\", \"days\", \"days\", \"days\", \"days\", \"debated\", \"defence\", \"defence\", \"defence\", \"defence\", \"defence\", \"defence\", \"defence\", \"defence\", \"defunct\", \"defunct\", \"degenerated\", \"demonstrators\", \"dempsey\", \"dempsey\", \"deterring\", \"devotees\", \"devout\", \"dfat\", \"dfat\", \"dhani\", \"died\", \"died\", \"died\", \"died\", \"died\", \"died\", \"died\", \"died\", \"died\", \"died\", \"disease\", \"disease\", \"disease\", \"disease\", \"disease\", \"disease\", \"dispute\", \"dispute\", \"dispute\", \"dispute\", \"dispute\", \"double\", \"dozens\", \"dozens\", \"dozens\", \"dozens\", \"dozens\", \"draw\", \"drug\", \"drug\", \"dun\", \"dying\", \"elders\", \"elders\", \"elders\", \"elliot\", \"email\", \"email\", \"email\", \"embassy\", \"embassy\", \"embassy\", \"emerged\", \"emissions\", \"emissions\", \"endeavour\", \"endeavour\", \"endeavour\", \"energex\", \"engines\", \"enlarge\", \"entrench\", \"era\", \"erase\", \"erase\", \"ergon\", \"escalate\", \"execution\", \"expenditure\", \"explanation\", \"explanation\", \"explanation\", \"explanation\", \"eyewitnesses\", \"factions\", \"factions\", \"factions\", \"factions\", \"fans\", \"fans\", \"farm\", \"farm\", \"farm\", \"farmer\", \"farmers\", \"fazalur\", \"final\", \"final\", \"final\", \"final\", \"final\", \"final\", \"final\", \"final\", \"final\", \"final\", \"finish\", \"finish\", \"fire\", \"fire\", \"fire\", \"fire\", \"fire\", \"fire\", \"fire\", \"fire\", \"fire\", \"fires\", \"fires\", \"fires\", \"fires\", \"fires\", \"fires\", \"fires\", \"fireworks\", \"fireworks\", \"fireworks\", \"fireworks\", \"first\", \"first\", \"first\", \"first\", \"first\", \"first\", \"first\", \"first\", \"first\", \"first\", \"five\", \"five\", \"five\", \"five\", \"five\", \"five\", \"five\", \"five\", \"five\", \"five\", \"flanders\", \"fled\", \"fled\", \"flemish\", \"flowing\", \"focus\", \"focus\", \"force\", \"force\", \"force\", \"force\", \"force\", \"force\", \"force\", \"force\", \"force\", \"forced\", \"forced\", \"forced\", \"forced\", \"forced\", \"forced\", \"forced\", \"forced\", \"four\", \"four\", \"four\", \"four\", \"four\", \"four\", \"four\", \"four\", \"four\", \"four\", \"freeman\", \"friedli\", \"gabriel\", \"gabriel\", \"gambling\", \"gambling\", \"gaming\", \"gaming\", \"gang\", \"gang\", \"ganges\", \"geneva\", \"gets\", \"gets\", \"gets\", \"going\", \"going\", \"going\", \"going\", \"going\", \"going\", \"going\", \"going\", \"going\", \"going\", \"goner\", \"goner\", \"good\", \"good\", \"good\", \"good\", \"good\", \"good\", \"good\", \"good\", \"government\", \"government\", \"government\", \"government\", \"government\", \"government\", \"government\", \"government\", \"government\", \"government\", \"governor_general\", \"governor_general\", \"governor_general\", \"governor_general\", \"greens\", \"grocery\", \"grounding\", \"group\", \"group\", \"group\", \"group\", \"group\", \"group\", \"group\", \"group\", \"group\", \"group\", \"growth\", \"growth\", \"growth\", \"growth\", \"growth\", \"guards\", \"guards\", \"guides\", \"guides\", \"guides\", \"guides\", \"guides\", \"guilty\", \"guilty\", \"guilty\", \"guilty\", \"guilty\", \"guilty\", \"guilty\", \"gunmen\", \"gunmen\", \"gunmen\", \"gunmen\", \"gunmen\", \"gunmen\", \"gunmen\", \"gutnick\", \"gutnick\", \"gutnick\", \"habeel\", \"hamas\", \"hamas\", \"hamas\", \"hamas\", \"hamas\", \"hamas\", \"hamas\", \"hamas\", \"hamas\", \"hamas\", \"hanum\", \"hare\", \"harrison\", \"harrison\", \"harrison\", \"harrison\", \"harrison\", \"harrison\", \"hawthorne\", \"hawthorne\", \"head\", \"head\", \"head\", \"head\", \"head\", \"head\", \"head\", \"head\", \"head\", \"held\", \"held\", \"held\", \"held\", \"held\", \"held\", \"held\", \"held\", \"held\", \"held\", \"henderson\", \"henderson\", \"high\", \"high\", \"high\", \"high\", \"high\", \"high\", \"high\", \"high\", \"high\", \"highway\", \"highway\", \"highway\", \"highway\", \"highway\", \"highway\", \"hih\", \"hih\", \"hih\", \"hih\", \"hih\", \"hindu\", \"hindus\", \"hiv\", \"hiv\", \"hiv\", \"hollingworth\", \"hollingworth\", \"hollingworth\", \"hollingworth\", \"hollingworth\", \"hollingworth\", \"holy\", \"homeless\", \"hooke\", \"housed\", \"howard\", \"howard\", \"howard\", \"howard\", \"howard\", \"howard\", \"howard\", \"illegal\", \"illegally\", \"imf\", \"imf\", \"imf\", \"immigrants\", \"incinerated\", \"including\", \"including\", \"including\", \"including\", \"including\", \"including\", \"including\", \"including\", \"including\", \"indian\", \"indian\", \"indian\", \"indian\", \"indian\", \"indian\", \"indian\", \"indian\", \"indian\", \"indonesia\", \"indonesia\", \"indonesia\", \"indonesia\", \"indonesia\", \"indonesia\", \"industrial_action\", \"industrial_action\", \"industrial_action\", \"industrial_action\", \"industrial_action\", \"industrial_action\", \"industrial_action\", \"ineffective\", \"inevitable\", \"inexperienced\", \"information\", \"information\", \"information\", \"information\", \"information\", \"information\", \"information\", \"information\", \"injured\", \"injured\", \"injured\", \"injured\", \"injured\", \"injured\", \"injured\", \"injured\", \"innings\", \"innings\", \"innings\", \"innings\", \"innings\", \"innings\", \"innings\", \"inquiry\", \"inquiry\", \"inquiry\", \"inquiry\", \"inside\", \"inside\", \"inside\", \"inside\", \"inside\", \"inside\", \"intelligence\", \"intelligence\", \"intelligence\", \"intelligence\", \"intelligence\", \"intelligence\", \"intelligence\", \"intent\", \"interlaken\", \"interlaken\", \"interlaken\", \"interlaken\", \"international\", \"international\", \"international\", \"international\", \"international\", \"international\", \"international\", \"international\", \"international\", \"interrogated\", \"investment\", \"investment\", \"investment\", \"investment\", \"involve\", \"israel\", \"israel\", \"israel\", \"israel\", \"israel\", \"israel\", \"israel\", \"israel\", \"israel\", \"israel\", \"israeli\", \"israeli\", \"israeli\", \"israeli\", \"israeli\", \"israeli\", \"israeli\", \"israeli\", \"israeli\", \"israeli\", \"jackson\", \"jackson\", \"japan\", \"japan\", \"japan\", \"japan\", \"journalists\", \"kabul\", \"kabul\", \"kabul\", \"kabul\", \"kabul\", \"kabul\", \"kabul\", \"kabul\", \"kabul\", \"kanooni\", \"kashmir\", \"kashmir\", \"keeper\", \"kerb\", \"kerry\", \"killed\", \"killed\", \"killed\", \"killed\", \"killed\", \"killed\", \"killed\", \"killed\", \"killed\", \"killed\", \"klim\", \"knop\", \"knop\", \"krishna\", \"krishna\", \"landsborough\", \"large\", \"large\", \"large\", \"large\", \"large\", \"large\", \"large\", \"large\", \"launceston\", \"launceston\", \"launceston\", \"launch\", \"launch\", \"launch\", \"lavarch\", \"lavarch\", \"legal_advice\", \"legal_advice\", \"legal_advice\", \"legalistic\", \"legitimate\", \"lines\", \"lines\", \"lines\", \"lobby\", \"lobbying\", \"local_afghan\", \"local_afghan\", \"local_afghan\", \"local_afghan\", \"located\", \"lockett\", \"lockett\", \"lockett\", \"lockett\", \"lubbers\", \"lung\", \"lung\", \"lung\", \"mad\", \"made\", \"made\", \"made\", \"made\", \"made\", \"made\", \"made\", \"made\", \"made\", \"male\", \"male\", \"male\", \"male\", \"man\", \"man\", \"man\", \"man\", \"man\", \"man\", \"man\", \"man\", \"man\", \"man\", \"management\", \"management\", \"management\", \"management\", \"management\", \"management\", \"maneuver\", \"match\", \"match\", \"match\", \"match\", \"match\", \"match\", \"match\", \"match\", \"match\", \"match\", \"mcafee\", \"mcafee\", \"mcgauran\", \"mcreddie\", \"meals\", \"meeting\", \"meeting\", \"meeting\", \"meeting\", \"meeting\", \"meeting\", \"meeting\", \"meeting\", \"meeting\", \"meeting\", \"megawati\", \"melbourne\", \"melbourne\", \"melbourne\", \"melbourne\", \"melbourne\", \"melbourne\", \"melbourne\", \"melbourne\", \"mental\", \"mentality\", \"mentha\", \"metres\", \"metres\", \"metres\", \"metres\", \"metres\", \"metres\", \"metres\", \"metres\", \"metres\", \"midwives\", \"midwives\", \"militants\", \"militants\", \"militants\", \"militants\", \"militants\", \"militants\", \"militants\", \"militants\", \"militants\", \"military\", \"military\", \"military\", \"military\", \"military\", \"military\", \"military\", \"military\", \"military\", \"military\", \"minister\", \"minister\", \"minister\", \"minister\", \"minister\", \"minister\", \"minister\", \"minister\", \"minister\", \"ministry\", \"ministry\", \"ministry\", \"mistakes\", \"mistakes\", \"mistakes\", \"mistrust\", \"mitsubishi\", \"mitsubishi\", \"modified\", \"mohamad\", \"morning\", \"morning\", \"morning\", \"morning\", \"morning\", \"morning\", \"morning\", \"morning\", \"morning\", \"morning\", \"motorists\", \"motorway\", \"musical\", \"musical\", \"nambour\", \"near\", \"near\", \"near\", \"near\", \"near\", \"near\", \"near\", \"near\", \"near\", \"near\", \"nelson\", \"nettle\", \"new\", \"new\", \"new\", \"new\", \"new\", \"new\", \"new\", \"new\", \"new\", \"new\", \"new_south\", \"new_south\", \"new_south\", \"new_south\", \"new_south\", \"new_south\", \"new_south\", \"new_south\", \"new_south\", \"new_south\", \"new_york\", \"new_york\", \"new_york\", \"new_york\", \"new_york\", \"new_york\", \"new_york\", \"new_york\", \"new_york\", \"new_york\", \"next\", \"next\", \"next\", \"next\", \"next\", \"next\", \"next\", \"next\", \"next\", \"next\", \"nicky\", \"nobel\", \"nobody\", \"nominate\", \"north\", \"north\", \"north\", \"north\", \"north\", \"north\", \"north\", \"north\", \"north\", \"north\", \"northern_alliance\", \"northern_alliance\", \"northern_alliance\", \"northern_alliance\", \"northern_alliance\", \"northern_alliance\", \"northern_alliance\", \"northern_alliance\", \"northside\", \"objected\", \"obvious\", \"official\", \"official\", \"official\", \"official\", \"official\", \"official\", \"official\", \"official\", \"official\", \"old_boy\", \"one\", \"one\", \"one\", \"one\", \"one\", \"one\", \"one\", \"one\", \"one\", \"one\", \"opened_fire\", \"opened_fire\", \"opened_fire\", \"opening\", \"opening\", \"opening\", \"opening\", \"opening\", \"opening\", \"opening\", \"openly\", \"orbits\", \"organised\", \"organs\", \"outbreak\", \"outlawed\", \"outlook\", \"outlook\", \"outlook\", \"outlook\", \"oxide\", \"paddling\", \"pakistan\", \"pakistan\", \"pakistan\", \"pakistan\", \"pakistan\", \"pakistan\", \"pakistan\", \"pakistan\", \"pakistan\", \"palestinian\", \"palestinian\", \"palestinian\", \"palestinian\", \"palestinian\", \"palestinian\", \"palestinian\", \"palestinian\", \"palestinian\", \"palestinian\", \"patrolling\", \"pay\", \"pay\", \"pay\", \"pay\", \"pay\", \"pay\", \"pay\", \"pay\", \"pay\", \"payload\", \"peacekeepers\", \"peacekeepers\", \"peacekeepers\", \"peacekeepers\", \"peacekeepers\", \"pejorative\", \"people\", \"people\", \"people\", \"people\", \"people\", \"people\", \"people\", \"people\", \"people\", \"people\", \"per_cent\", \"per_cent\", \"per_cent\", \"per_cent\", \"per_cent\", \"per_cent\", \"per_cent\", \"per_cent\", \"per_cent\", \"per_cent\", \"persons\", \"peru\", \"peru\", \"petrol\", \"petrol\", \"petrol\", \"picton\", \"plant\", \"plant\", \"platforms\", \"play\", \"play\", \"play\", \"play\", \"play\", \"play\", \"play\", \"play\", \"play\", \"please\", \"pole\", \"police\", \"police\", \"police\", \"police\", \"police\", \"police\", \"police\", \"police\", \"police\", \"police\", \"port\", \"portfolio\", \"potts\", \"powell\", \"powell\", \"powell\", \"powell\", \"powell\", \"powell\", \"power\", \"power\", \"power\", \"power\", \"power\", \"power\", \"power\", \"power\", \"power\", \"powers\", \"powers\", \"powers\", \"powers\", \"powers\", \"practical\", \"prepared\", \"prepared\", \"prepared\", \"prepared\", \"prepared\", \"prepared\", \"prepared\", \"president\", \"president\", \"president\", \"president\", \"president\", \"president\", \"president\", \"president\", \"president\", \"president\", \"preventable\", \"prices\", \"prices\", \"prime_minister\", \"prime_minister\", \"prime_minister\", \"prime_minister\", \"prime_minister\", \"prime_minister\", \"prime_minister\", \"prime_minister\", \"prime_minister\", \"private\", \"private\", \"prize\", \"products\", \"products\", \"profit\", \"profit\", \"profit\", \"projected\", \"projections\", \"projections\", \"property\", \"property\", \"property\", \"property\", \"property\", \"protective\", \"proudly\", \"purpose\", \"pursued\", \"qaeda\", \"qaeda\", \"qaeda\", \"qaeda\", \"qaeda\", \"qaeda\", \"qaeda\", \"qaeda\", \"qaeda\", \"qaeda\", \"rabbani\", \"rabbani\", \"rabbani\", \"radio\", \"radio\", \"radio\", \"radio\", \"radio\", \"radio\", \"radio\", \"radio\", \"rainforest\", \"rainforest\", \"razor\", \"reactor\", \"record\", \"record\", \"record\", \"record\", \"redundancy\", \"redundancy\", \"redundancy\", \"refugee\", \"refugee\", \"refugees\", \"refugees\", \"refugees\", \"rehman\", \"reid\", \"reid\", \"rejects\", \"rene\", \"repairs\", \"replied\", \"report\", \"report\", \"report\", \"report\", \"report\", \"report\", \"report\", \"report\", \"report\", \"report\", \"reserve_bank\", \"reserve_bank\", \"reserve_bank\", \"reserve_bank\", \"reserve_bank\", \"responsibility\", \"responsibility\", \"responsibility\", \"responsibility\", \"responsibility\", \"responsibility\", \"responsibility\", \"responsibly\", \"restore\", \"restore\", \"rich\", \"ridge\", \"river\", \"river\", \"river\", \"river\", \"river\", \"river\", \"river\", \"river\", \"road\", \"road\", \"road\", \"road\", \"road\", \"road\", \"road\", \"robbards\", \"rodriguez\", \"roof\", \"roof\", \"roof\", \"roof\", \"round\", \"round\", \"round\", \"round\", \"round\", \"route\", \"route\", \"ruddock\", \"ruddock\", \"russian\", \"russian\", \"russian\", \"russian\", \"russian\", \"ruud\", \"said\", \"said\", \"said\", \"said\", \"said\", \"said\", \"said\", \"said\", \"said\", \"said\", \"salam\", \"sales\", \"sanchez\", \"sanitation\", \"say\", \"say\", \"say\", \"say\", \"say\", \"say\", \"say\", \"say\", \"say\", \"say\", \"says\", \"says\", \"says\", \"says\", \"says\", \"says\", \"says\", \"says\", \"says\", \"says\", \"scarfe\", \"scatter\", \"schneiders\", \"schneiders\", \"scrutiny\", \"second\", \"second\", \"second\", \"second\", \"second\", \"second\", \"second\", \"second\", \"second\", \"second\", \"sect\", \"security\", \"security\", \"security\", \"security\", \"security\", \"security\", \"security\", \"security\", \"security\", \"senate\", \"senate\", \"senate\", \"senator\", \"service_says\", \"service_says\", \"service_says\", \"service_says\", \"set\", \"set\", \"set\", \"set\", \"set\", \"set\", \"set\", \"set\", \"set\", \"set\", \"shedding\", \"shedding\", \"shepherd\", \"shepherd\", \"shuttle\", \"shuttle\", \"shuttle\", \"signals\", \"sinai\", \"sinai\", \"since\", \"since\", \"since\", \"since\", \"since\", \"since\", \"since\", \"since\", \"since\", \"since\", \"slam\", \"slashing\", \"slips\", \"slips\", \"software\", \"software\", \"south\", \"south\", \"south\", \"south\", \"south\", \"south\", \"south\", \"south\", \"south\", \"south\", \"space\", \"space\", \"space\", \"space\", \"spending\", \"sri\", \"staff\", \"staff\", \"staff\", \"staff\", \"staff\", \"staff\", \"staff\", \"staff\", \"staff\", \"staff\", \"standing\", \"standing\", \"state\", \"state\", \"state\", \"state\", \"state\", \"state\", \"state\", \"state\", \"state\", \"station\", \"station\", \"station\", \"station\", \"station\", \"station\", \"station\", \"station\", \"stephan\", \"still\", \"still\", \"still\", \"still\", \"still\", \"still\", \"still\", \"still\", \"still\", \"still\", \"stimulus\", \"stoppage\", \"strachan\", \"strachan\", \"strachan\", \"strachan\", \"stringer\", \"stringer\", \"subsidies\", \"suharto\", \"suharto\", \"suharto\", \"suharto\", \"suharto\", \"suharto\", \"suharto\", \"suharto\", \"suitable\", \"supporters\", \"supporters\", \"supporters\", \"supporters\", \"supporters\", \"supporters\", \"supporters\", \"surrender\", \"surrender\", \"surrender\", \"surrender\", \"surrender\", \"surrender\", \"surrender\", \"survey\", \"survey\", \"survey\", \"survey\", \"survey\", \"suspension\", \"suspension\", \"suspension\", \"sustained\", \"sustained\", \"swans\", \"swans\", \"swans\", \"swedish\", \"sydney\", \"sydney\", \"sydney\", \"sydney\", \"sydney\", \"sydney\", \"sydney\", \"sydney\", \"sydney\", \"sydney\", \"take\", \"take\", \"take\", \"take\", \"take\", \"take\", \"take\", \"take\", \"take\", \"take\", \"taliban\", \"taliban\", \"taliban\", \"taliban\", \"taliban\", \"taliban\", \"taliban\", \"taliban\", \"taliban\", \"taliban_forces\", \"taliban_forces\", \"taliban_forces\", \"talk\", \"tanami\", \"tandem\", \"tank\", \"tank\", \"tanks\", \"tanks\", \"tanks\", \"tanks\", \"tanks\", \"tanks\", \"tantamount\", \"tarpaulins\", \"taxpayers\", \"taxpayers\", \"team\", \"team\", \"team\", \"team\", \"team\", \"team\", \"team\", \"team\", \"team\", \"team\", \"teamed\", \"tel\", \"terminal\", \"terminal\", \"terminals\", \"test\", \"test\", \"test\", \"test\", \"test\", \"test\", \"test\", \"test\", \"test\", \"thick\", \"thick\", \"think\", \"think\", \"think\", \"think\", \"think\", \"think\", \"think\", \"think\", \"think\", \"think\", \"third\", \"third\", \"third\", \"third\", \"third\", \"third\", \"third\", \"third\", \"third\", \"three\", \"three\", \"three\", \"three\", \"three\", \"three\", \"three\", \"three\", \"three\", \"three\", \"tightlipped\", \"time\", \"time\", \"time\", \"time\", \"time\", \"time\", \"time\", \"time\", \"time\", \"time\", \"today\", \"today\", \"today\", \"today\", \"today\", \"today\", \"today\", \"today\", \"today\", \"today\", \"told\", \"told\", \"told\", \"told\", \"told\", \"told\", \"told\", \"told\", \"told\", \"told\", \"tora_bora\", \"tora_bora\", \"tora_bora\", \"tora_bora\", \"tora_bora\", \"tora_bora\", \"tora_bora\", \"tora_bora\", \"tora_bora\", \"tora_bora\", \"township\", \"translation\", \"trial\", \"trial\", \"trial\", \"tribes\", \"trio\", \"truss\", \"tune\", \"twice\", \"twice\", \"twice\", \"twice\", \"two\", \"two\", \"two\", \"two\", \"two\", \"two\", \"two\", \"two\", \"two\", \"two\", \"ultimately\", \"underfoot\", \"unforeseeable\", \"united_states\", \"united_states\", \"united_states\", \"united_states\", \"united_states\", \"united_states\", \"united_states\", \"united_states\", \"united_states\", \"united_states\", \"uprooted\", \"usa\", \"user\", \"user\", \"users\", \"users\", \"utn\", \"utn\", \"vehicle\", \"vehicle\", \"vehicle\", \"vehicle\", \"vicario\", \"virus\", \"virus\", \"volleyball\", \"voltage\", \"wales\", \"wales\", \"wales\", \"wales\", \"wales\", \"wales\", \"wales\", \"wales\", \"wales\", \"war\", \"war\", \"war\", \"war\", \"war\", \"war\", \"war\", \"war\", \"war\", \"waste\", \"well\", \"well\", \"well\", \"well\", \"well\", \"well\", \"well\", \"well\", \"well\", \"well\", \"west\", \"west\", \"west\", \"west\", \"west\", \"west\", \"west\", \"west\", \"wicket\", \"wicket\", \"wicket\", \"wicket\", \"wicket\", \"widow\", \"winds\", \"winds\", \"winds\", \"winds\", \"winds\", \"winds\", \"winds\", \"winds\", \"wings\", \"wolthuizen\", \"wolthuizen\", \"woomera\", \"woomera\", \"woomera\", \"woomera\", \"works\", \"world\", \"world\", \"world\", \"world\", \"world\", \"world\", \"world\", \"world\", \"world\", \"world\", \"world_heritage\", \"world_heritage\", \"world_heritage\", \"worm\", \"worm\", \"would\", \"would\", \"would\", \"would\", \"would\", \"would\", \"would\", \"would\", \"would\", \"would\", \"year\", \"year\", \"year\", \"year\", \"year\", \"year\", \"year\", \"year\", \"year\", \"year\", \"year_old\", \"year_old\", \"year_old\", \"year_old\", \"year_old\", \"year_old\", \"year_old\", \"year_old\", \"year_old\", \"year_old\", \"years\", \"years\", \"years\", \"years\", \"years\", \"years\", \"years\", \"years\", \"years\", \"yesterday\", \"yesterday\", \"yesterday\", \"yesterday\", \"yesterday\", \"yesterday\", \"yesterday\", \"yesterday\", \"yesterday\", \"yesterday\", \"young\", \"young\", \"young\", \"young\", \"young\", \"young\", \"young\", \"young\", \"ypres\", \"zimbabwe\", \"zimbabwe\", \"zimbabwe\", \"zimbabwean\"]}, \"R\": 30, \"lambda.step\": 0.01, \"plot.opts\": {\"xlab\": \"PC1\", \"ylab\": \"PC2\"}, \"topic.order\": [10, 5, 1, 4, 3, 6, 9, 7, 8, 2]};\n",
       "\n",
       "function LDAvis_load_lib(url, callback){\n",
       "  var s = document.createElement('script');\n",
       "  s.src = url;\n",
       "  s.async = true;\n",
       "  s.onreadystatechange = s.onload = callback;\n",
       "  s.onerror = function(){console.warn(\"failed to load library \" + url);};\n",
       "  document.getElementsByTagName(\"head\")[0].appendChild(s);\n",
       "}\n",
       "\n",
       "if(typeof(LDAvis) !== \"undefined\"){\n",
       "   // already loaded: just create the visualization\n",
       "   !function(LDAvis){\n",
       "       new LDAvis(\"#\" + \"ldavis_el1723947109033843599366726\", ldavis_el1723947109033843599366726_data);\n",
       "   }(LDAvis);\n",
       "}else if(typeof define === \"function\" && define.amd){\n",
       "   // require.js is available: use it to load d3/LDAvis\n",
       "   require.config({paths: {d3: \"https://cdnjs.cloudflare.com/ajax/libs/d3/3.5.5/d3.min\"}});\n",
       "   require([\"d3\"], function(d3){\n",
       "      window.d3 = d3;\n",
       "      LDAvis_load_lib(\"https://cdn.rawgit.com/bmabey/pyLDAvis/files/ldavis.v1.0.0.js\", function(){\n",
       "        new LDAvis(\"#\" + \"ldavis_el1723947109033843599366726\", ldavis_el1723947109033843599366726_data);\n",
       "      });\n",
       "    });\n",
       "}else{\n",
       "    // require.js not available: dynamically load d3 & LDAvis\n",
       "    LDAvis_load_lib(\"https://cdnjs.cloudflare.com/ajax/libs/d3/3.5.5/d3.min.js\", function(){\n",
       "         LDAvis_load_lib(\"https://cdn.rawgit.com/bmabey/pyLDAvis/files/ldavis.v1.0.0.js\", function(){\n",
       "                 new LDAvis(\"#\" + \"ldavis_el1723947109033843599366726\", ldavis_el1723947109033843599366726_data);\n",
       "            })\n",
       "         });\n",
       "}\n",
       "</script>"
      ],
      "text/plain": [
       "PreparedData(topic_coordinates=            Freq  cluster  topics         x         y\n",
       "topic                                                \n",
       "9      14.937812        1       1 -0.030426 -0.018566\n",
       "4      14.726419        1       2  0.013321 -0.018077\n",
       "0      14.686404        1       3 -0.006274  0.002086\n",
       "3      11.353440        1       4  0.005066 -0.008713\n",
       "2      10.948476        1       5  0.016785  0.003390\n",
       "5      10.597322        1       6  0.030497 -0.038820\n",
       "8       8.699680        1       7 -0.060536 -0.017802\n",
       "6       7.151501        1       8  0.017973  0.015483\n",
       "7       3.707002        1       9 -0.019485  0.060418\n",
       "1       3.191944        1      10  0.033078  0.020600, topic_info=     Category        Freq              Term       Total  loglift  logprob\n",
       "term                                                                     \n",
       "98    Default  386.000000              said  386.000000  30.0000  30.0000\n",
       "99    Default  346.000000              says  346.000000  29.0000  29.0000\n",
       "356   Default  117.000000         australia  117.000000  28.0000  28.0000\n",
       "986   Default  118.000000        australian  118.000000  27.0000  27.0000\n",
       "200   Default   98.000000               two   98.000000  26.0000  26.0000\n",
       "260   Default   36.000000     international   36.000000  25.0000  25.0000\n",
       "126   Default   37.000000              year   37.000000  24.0000  24.0000\n",
       "1029  Default   19.000000              best   19.000000  23.0000  23.0000\n",
       "574   Default   92.000000              also   92.000000  22.0000  22.0000\n",
       "2564  Default   35.000000             hamas   35.000000  21.0000  21.0000\n",
       "329   Default  100.000000               one  100.000000  20.0000  20.0000\n",
       "1075  Default   41.000000          per_cent   41.000000  19.0000  19.0000\n",
       "6364  Default    8.000000             virus    8.000000  18.0000  18.0000\n",
       "110   Default   46.000000            sydney   46.000000  17.0000  17.0000\n",
       "4228  Default   13.000000             space   13.000000  16.0000  16.0000\n",
       "693   Default   42.000000             force   42.000000  15.0000  15.0000\n",
       "2713  Default   14.000000  governor_general   14.000000  14.0000  14.0000\n",
       "349   Default   67.000000       afghanistan   67.000000  13.0000  13.0000\n",
       "226   Default   49.000000              time   49.000000  12.0000  12.0000\n",
       "303   Default   84.000000             would   84.000000  11.0000  11.0000\n",
       "180   Default   56.000000               say   56.000000  10.0000  10.0000\n",
       "207   Default   28.000000              died   28.000000   9.0000   9.0000\n",
       "2115  Default   12.000000            cancer   12.000000   8.0000   8.0000\n",
       "165   Default   25.000000         militants   25.000000   7.0000   7.0000\n",
       "299   Default   63.000000              told   63.000000   6.0000   6.0000\n",
       "393   Default   32.000000             power   32.000000   5.0000   5.0000\n",
       "842   Default   38.000000           meeting   38.000000   4.0000   4.0000\n",
       "2408  Default   20.000000             child   20.000000   3.0000   3.0000\n",
       "2717  Default    9.000000            howard    9.000000   2.0000   2.0000\n",
       "258   Default   99.000000        government   99.000000   1.0000   1.0000\n",
       "...       ...         ...               ...         ...      ...      ...\n",
       "1075  Topic10    2.649449          per_cent   41.123596   0.7023  -5.9582\n",
       "4554  Topic10    0.754942            center    3.599070   1.8828  -7.2137\n",
       "226   Topic10    2.564524              time   49.727554   0.4798  -5.9908\n",
       "99    Topic10    6.240379              says  346.235962  -0.5715  -5.1015\n",
       "46    Topic10    2.172114              five   35.735088   0.6441  -6.1569\n",
       "986   Topic10    3.639087        australian  118.665268  -0.0400  -5.6408\n",
       "574   Topic10    3.197879              also   92.326698   0.0817  -5.7701\n",
       "618   Topic10    1.363297             large   15.065476   1.0420  -6.6227\n",
       "565   Topic10    1.508198             river   19.536182   0.8832  -6.5217\n",
       "537   Topic10    2.155894             world   46.235317   0.3790  -6.1644\n",
       "207   Topic10    1.756597              died   28.924841   0.6432  -6.3692\n",
       "1695  Topic10    1.345698              head   15.121663   1.0253  -6.6357\n",
       "329   Topic10    2.851973               one  100.230301  -0.1149  -5.8846\n",
       "200   Topic10    2.835468               two   98.853745  -0.1069  -5.8904\n",
       "325   Topic10    1.848353              next   34.118206   0.5290  -6.3183\n",
       "517   Topic10    1.719509              team   29.946814   0.5872  -6.3905\n",
       "2     Topic10    1.830792              area   36.489044   0.4523  -6.3278\n",
       "86    Topic10    2.650713            people  115.145714  -0.3268  -5.9577\n",
       "1735  Topic10    2.159778               day   60.956409   0.1044  -6.1626\n",
       "356   Topic10    2.475092         australia  117.270233  -0.4137  -6.0263\n",
       "1037  Topic10    1.680810             going   29.455141   0.5809  -6.4133\n",
       "304   Topic10    1.560264             years   25.379942   0.6554  -6.4877\n",
       "1556  Topic10    1.503342            metres   23.750656   0.6846  -6.5249\n",
       "203   Topic10    1.649497              well   37.213657   0.3283  -6.4321\n",
       "1683  Topic10    1.593955         bin_laden   32.296619   0.4358  -6.4664\n",
       "450   Topic10    1.787521             first   76.132645  -0.3071  -6.3517\n",
       "349   Topic10    1.746614       afghanistan   67.388550  -0.2083  -6.3749\n",
       "80    Topic10    1.741432               new   73.358772  -0.2961  -6.3779\n",
       "340   Topic10    1.598796              take   41.705353   0.1832  -6.4633\n",
       "106   Topic10    1.592551             still   53.825222  -0.0759  -6.4672\n",
       "\n",
       "[798 rows x 6 columns], token_table=      Topic      Freq        Term\n",
       "term                             \n",
       "5997      1  0.568686     abandon\n",
       "783       3  0.466599       abdul\n",
       "900       9  0.458302    abdullah\n",
       "5342      3  0.587841    ablution\n",
       "2693      1  0.415325       abuse\n",
       "2693      3  0.138442       abuse\n",
       "2693      4  0.069221       abuse\n",
       "2693      6  0.069221       abuse\n",
       "2693      7  0.207663       abuse\n",
       "2693      9  0.069221       abuse\n",
       "784       1  0.132545      accept\n",
       "784       3  0.530181      accept\n",
       "784       7  0.132545      accept\n",
       "2871      8  0.491535     actress\n",
       "2536      1  0.191502        adam\n",
       "2536      2  0.574506        adam\n",
       "2536      3  0.191502        adam\n",
       "2536      4  0.191502        adam\n",
       "4046      1  0.105739     address\n",
       "4046      2  0.105739     address\n",
       "4046      3  0.105739     address\n",
       "4046      4  0.105739     address\n",
       "4046      5  0.105739     address\n",
       "4046      6  0.105739     address\n",
       "4046      8  0.211478     address\n",
       "901       1  0.325989      afghan\n",
       "901       2  0.032599      afghan\n",
       "901       3  0.130396      afghan\n",
       "901       4  0.130396      afghan\n",
       "901       5  0.097797      afghan\n",
       "...     ...       ...         ...\n",
       "304       3  0.078802       years\n",
       "304       4  0.157605       years\n",
       "304       5  0.118204       years\n",
       "304       6  0.157605       years\n",
       "304       7  0.039401       years\n",
       "304       8  0.039401       years\n",
       "304      10  0.078802       years\n",
       "204       1  0.163255   yesterday\n",
       "204       2  0.116611   yesterday\n",
       "204       3  0.233222   yesterday\n",
       "204       4  0.116611   yesterday\n",
       "204       5  0.139933   yesterday\n",
       "204       6  0.069967   yesterday\n",
       "204       7  0.046644   yesterday\n",
       "204       8  0.093289   yesterday\n",
       "204       9  0.023322   yesterday\n",
       "204      10  0.023322   yesterday\n",
       "2639      1  0.379155       young\n",
       "2639      2  0.075831       young\n",
       "2639      3  0.075831       young\n",
       "2639      4  0.075831       young\n",
       "2639      5  0.075831       young\n",
       "2639      6  0.075831       young\n",
       "2639      7  0.075831       young\n",
       "2639      8  0.075831       young\n",
       "3508      8  0.684693       ypres\n",
       "3149      2  0.249940    zimbabwe\n",
       "3149      6  0.499880    zimbabwe\n",
       "3149      9  0.124970    zimbabwe\n",
       "6462      2  0.585159  zimbabwean\n",
       "\n",
       "[2072 rows x 3 columns], R=30, lambda_step=0.01, plot_opts={'xlab': 'PC1', 'ylab': 'PC2'}, topic_order=[10, 5, 1, 4, 3, 6, 9, 7, 8, 2])"
      ]
     },
     "execution_count": 23,
     "metadata": {},
     "output_type": "execute_result"
    }
   ],
   "source": [
    "pyLDAvis.gensim.prepare(ldamodel, corpus, dictionary)"
   ]
  },
  {
   "cell_type": "code",
   "execution_count": 24,
   "metadata": {
    "nbpresent": {
     "id": "13f462fd-b0c3-4a29-90f3-050e2317b72c"
    }
   },
   "outputs": [],
   "source": [
    "ldatopics = ldamodel.show_topics(formatted=False)"
   ]
  },
  {
   "cell_type": "markdown",
   "metadata": {
    "nbpresent": {
     "id": "68d38063-fb92-4d36-b3fb-f2d3cbff9eb5"
    }
   },
   "source": [
    "### Finding out the optimal number of topics\n",
    "__Introduction to topic coherence__:\n",
    "<img src=\"https://rare-technologies.com/wp-content/uploads/2016/06/pipeline.png\">\n",
    "Topic coherence in essence measures the human interpretability of a topic model. Traditionally [perplexity has been used](http://qpleple.com/perplexity-to-evaluate-topic-models/) to evaluate topic models however this does not correlate with human annotations at times. Topic coherence is another way to evaluate topic models with a much higher guarantee on human interpretability. Thus this can be used to compare different topic models among many other use-cases. Here's a short blog I wrote explaining topic coherence:\n",
    "[What is topic coherence?](https://rare-technologies.com/what-is-topic-coherence/)"
   ]
  },
  {
   "cell_type": "code",
   "execution_count": 25,
   "metadata": {
    "nbpresent": {
     "id": "45b1a641-1152-4364-ad25-62d1f8187317"
    }
   },
   "outputs": [],
   "source": [
    "def evaluate_graph(dictionary, corpus, texts, limit):\n",
    "    \"\"\"\n",
    "    Function to display num_topics - LDA graph using c_v coherence\n",
    "    \n",
    "    Parameters:\n",
    "    ----------\n",
    "    dictionary : Gensim dictionary\n",
    "    corpus : Gensim corpus\n",
    "    limit : topic limit\n",
    "    \n",
    "    Returns:\n",
    "    -------\n",
    "    lm_list : List of LDA topic models\n",
    "    c_v : Coherence values corresponding to the LDA model with respective number of topics\n",
    "    \"\"\"\n",
    "    c_v = []\n",
    "    lm_list = []\n",
    "    for num_topics in range(1, limit):\n",
    "        lm = LdaModel(corpus=corpus, num_topics=num_topics, id2word=dictionary)\n",
    "        lm_list.append(lm)\n",
    "        cm = CoherenceModel(model=lm, texts=texts, dictionary=dictionary, coherence='c_v')\n",
    "        c_v.append(cm.get_coherence())\n",
    "        \n",
    "    # Show graph\n",
    "    x = range(1, limit)\n",
    "    plt.plot(x, c_v)\n",
    "    plt.xlabel(\"num_topics\")\n",
    "    plt.ylabel(\"Coherence score\")\n",
    "    plt.legend((\"c_v\"), loc='best')\n",
    "    plt.show()\n",
    "    \n",
    "    return lm_list, c_v"
   ]
  },
  {
   "cell_type": "code",
   "execution_count": 26,
   "metadata": {
    "nbpresent": {
     "id": "e8936716-d06c-4cef-ae87-5c5da9a25a85"
    }
   },
   "outputs": [
    {
     "data": {
      "image/png": "[encoded data removed]",
      "text/plain": [
       "<matplotlib.figure.Figure at 0x107d29208>"
      ]
     },
     "metadata": {},
     "output_type": "display_data"
    },
    {
     "name": "stdout",
     "output_type": "stream",
     "text": [
      "CPU times: user 11.3 s, sys: 862 ms, total: 12.2 s\n",
      "Wall time: 14 s\n"
     ]
    }
   ],
   "source": [
    "%%time\n",
    "lmlist, c_v = evaluate_graph(dictionary=dictionary, corpus=corpus, texts=train_texts, limit=10)"
   ]
  },
  {
   "cell_type": "code",
   "execution_count": 27,
   "metadata": {
    "nbpresent": {
     "id": "c02b6f0a-801c-4a8f-aa8f-8c9d64df7a9a"
    }
   },
   "outputs": [
    {
     "data": {
      "text/html": [
       "\n",
       "<link rel=\"stylesheet\" type=\"text/css\" href=\"https://cdn.rawgit.com/bmabey/pyLDAvis/files/ldavis.v1.0.0.css\">\n",
       "\n",
       "\n",
       "<div id=\"ldavis_el1723948056053208486239710\"></div>\n",
       "<script type=\"text/javascript\">\n",
       "\n",
       "var ldavis_el1723948056053208486239710_data = {\"mdsDat\": {\"Freq\": [37.830291748046875, 35.02915954589844, 27.140552520751953], \"cluster\": [1, 1, 1], \"topics\": [1, 2, 3], \"x\": [0.015895861195568056, 0.002430604809070101, -0.01832646600463815], \"y\": [0.011064956246587107, -0.01824287041871977, 0.0071779141721326645]}, \"tinfo\": {\"Category\": [\"Default\", \"Default\", \"Default\", \"Default\", \"Default\", \"Default\", \"Default\", \"Default\", \"Default\", \"Default\", \"Default\", \"Default\", \"Default\", \"Default\", \"Default\", \"Default\", \"Default\", \"Default\", \"Default\", \"Default\", \"Default\", \"Default\", \"Default\", \"Default\", \"Default\", \"Default\", \"Default\", \"Default\", \"Default\", \"Default\", \"Topic1\", \"Topic1\", \"Topic1\", \"Topic1\", \"Topic1\", \"Topic1\", \"Topic1\", \"Topic1\", \"Topic1\", \"Topic1\", \"Topic1\", \"Topic1\", \"Topic1\", \"Topic1\", \"Topic1\", \"Topic1\", \"Topic1\", \"Topic1\", \"Topic1\", \"Topic1\", \"Topic1\", \"Topic1\", \"Topic1\", \"Topic1\", \"Topic1\", \"Topic1\", \"Topic1\", \"Topic1\", \"Topic1\", \"Topic1\", \"Topic1\", \"Topic1\", \"Topic1\", \"Topic1\", \"Topic1\", \"Topic1\", \"Topic1\", \"Topic1\", \"Topic1\", \"Topic1\", \"Topic1\", \"Topic1\", \"Topic1\", \"Topic1\", \"Topic1\", \"Topic1\", \"Topic1\", \"Topic1\", \"Topic1\", \"Topic1\", \"Topic1\", \"Topic1\", \"Topic1\", \"Topic1\", \"Topic1\", \"Topic1\", \"Topic1\", \"Topic1\", \"Topic1\", \"Topic1\", \"Topic1\", \"Topic1\", \"Topic1\", \"Topic1\", \"Topic1\", \"Topic1\", \"Topic1\", \"Topic1\", \"Topic1\", \"Topic1\", \"Topic1\", \"Topic1\", \"Topic1\", \"Topic1\", \"Topic1\", \"Topic1\", \"Topic1\", \"Topic1\", \"Topic1\", \"Topic2\", \"Topic2\", \"Topic2\", \"Topic2\", \"Topic2\", \"Topic2\", \"Topic2\", \"Topic2\", \"Topic2\", \"Topic2\", \"Topic2\", \"Topic2\", \"Topic2\", \"Topic2\", \"Topic2\", \"Topic2\", \"Topic2\", \"Topic2\", \"Topic2\", \"Topic2\", \"Topic2\", \"Topic2\", \"Topic2\", \"Topic2\", \"Topic2\", \"Topic2\", \"Topic2\", \"Topic2\", \"Topic2\", \"Topic2\", \"Topic2\", \"Topic2\", \"Topic2\", \"Topic2\", \"Topic2\", \"Topic2\", \"Topic2\", \"Topic2\", \"Topic2\", \"Topic2\", \"Topic2\", \"Topic2\", \"Topic2\", \"Topic2\", \"Topic2\", \"Topic2\", \"Topic2\", \"Topic2\", \"Topic2\", \"Topic2\", \"Topic2\", \"Topic2\", \"Topic2\", \"Topic2\", \"Topic2\", \"Topic2\", \"Topic2\", \"Topic2\", \"Topic2\", \"Topic2\", \"Topic2\", \"Topic2\", \"Topic2\", \"Topic2\", \"Topic2\", \"Topic2\", \"Topic2\", \"Topic2\", \"Topic2\", \"Topic2\", \"Topic2\", \"Topic2\", \"Topic2\", \"Topic2\", \"Topic2\", \"Topic2\", \"Topic2\", \"Topic2\", \"Topic2\", \"Topic2\", \"Topic2\", \"Topic3\", \"Topic3\", \"Topic3\", \"Topic3\", \"Topic3\", \"Topic3\", \"Topic3\", \"Topic3\", \"Topic3\", \"Topic3\", \"Topic3\", \"Topic3\", \"Topic3\", \"Topic3\", \"Topic3\", \"Topic3\", \"Topic3\", \"Topic3\", \"Topic3\", \"Topic3\", \"Topic3\", \"Topic3\", \"Topic3\", \"Topic3\", \"Topic3\", \"Topic3\", \"Topic3\", \"Topic3\", \"Topic3\", \"Topic3\", \"Topic3\", \"Topic3\", \"Topic3\", \"Topic3\", \"Topic3\", \"Topic3\", \"Topic3\", \"Topic3\", \"Topic3\", \"Topic3\", \"Topic3\", \"Topic3\", \"Topic3\", \"Topic3\", \"Topic3\", \"Topic3\", \"Topic3\", \"Topic3\", \"Topic3\", \"Topic3\", \"Topic3\", \"Topic3\", \"Topic3\", \"Topic3\", \"Topic3\", \"Topic3\", \"Topic3\", \"Topic3\", \"Topic3\", \"Topic3\", \"Topic3\", \"Topic3\", \"Topic3\", \"Topic3\", \"Topic3\", \"Topic3\", \"Topic3\", \"Topic3\", \"Topic3\", \"Topic3\", \"Topic3\", \"Topic3\", \"Topic3\", \"Topic3\", \"Topic3\", \"Topic3\", \"Topic3\", \"Topic3\", \"Topic3\", \"Topic3\", \"Topic3\"], \"Freq\": [337.0, 114.0, 29.0, 50.0, 11.0, 8.0, 97.0, 94.0, 24.0, 33.0, 22.0, 41.0, 38.0, 45.0, 28.0, 99.0, 14.0, 23.0, 35.0, 59.0, 6.0, 10.0, 25.0, 18.0, 28.0, 27.0, 11.0, 64.0, 33.0, 6.0, 3.541699171066284, 5.2465715408325195, 1.894879937171936, 1.8912148475646973, 1.8826746940612793, 1.8599512577056885, 1.839839220046997, 6.562419891357422, 1.8086661100387573, 1.8032780885696411, 4.093530654907227, 1.7685173749923706, 2.9313340187072754, 2.347534418106079, 2.8906121253967285, 5.741236209869385, 2.861191511154175, 1.1382384300231934, 1.1370561122894287, 1.1361550092697144, 2.794050931930542, 2.2822654247283936, 2.2869341373443604, 1.6931862831115723, 4.45521354675293, 2.225759744644165, 1.1204379796981812, 2.2646303176879883, 1.1160014867782593, 1.6813563108444214, 16.64152717590332, 7.230499744415283, 5.004663467407227, 7.190364837646484, 28.460548400878906, 11.613160133361816, 16.71511459350586, 25.936159133911133, 3.826427936553955, 5.352885723114014, 17.1093692779541, 21.254032135009766, 17.090227127075195, 7.2177252769470215, 171.75405883789062, 55.992919921875, 30.813289642333984, 9.080475807189941, 32.139190673828125, 15.68468952178955, 124.48129272460938, 19.36769676208496, 37.16372299194336, 11.410109519958496, 16.88308334350586, 40.92432403564453, 19.020910263061523, 25.052047729492188, 20.15745735168457, 26.776891708374023, 23.731496810913086, 18.343769073486328, 28.35312843322754, 36.942901611328125, 27.148866653442383, 37.99648666381836, 42.01222610473633, 23.13988494873047, 25.93238067626953, 26.39125633239746, 34.50779342651367, 21.578216552734375, 25.559886932373047, 25.736631393432617, 28.412954330444336, 22.28156089782715, 22.443042755126953, 20.51907730102539, 20.499235153198242, 2.837792158126831, 3.391512632369995, 1.9893110990524292, 1.9866288900375366, 2.622015953063965, 3.8469836711883545, 1.8984363079071045, 1.8600835800170898, 1.8570107221603394, 1.8530051708221436, 4.316205024719238, 2.4526541233062744, 3.050229787826538, 3.0245554447174072, 1.8065392971038818, 2.406032085418701, 8.44693660736084, 1.803242802619934, 4.172781467437744, 1.7928928136825562, 1.7785890102386475, 2.957227945327759, 2.350996971130371, 2.3596038818359375, 2.3463664054870605, 2.8865909576416016, 1.7383416891098022, 1.7398467063903809, 1.7374722957611084, 1.7337772846221924, 4.024064540863037, 6.599151134490967, 30.447093963623047, 4.9520463943481445, 14.267106056213379, 7.851142883300781, 10.64138126373291, 4.32211971282959, 5.26978063583374, 20.839508056640625, 6.587428092956543, 32.428260803222656, 16.112783432006836, 29.93474769592285, 25.409080505371094, 24.018356323242188, 22.76401138305664, 128.02301025390625, 14.810846328735352, 12.374211311340332, 43.98627471923828, 107.4957504272461, 37.11432647705078, 19.259702682495117, 15.93442153930664, 23.4288330078125, 28.044357299804688, 16.58698844909668, 11.896912574768066, 14.733597755432129, 24.184844970703125, 39.78330612182617, 21.93828773498535, 15.516623497009277, 25.566329956054688, 14.464911460876465, 16.433349609375, 22.80858612060547, 22.249496459960938, 16.941370010375977, 23.74354362487793, 22.221050262451172, 24.35463523864746, 28.6682071685791, 21.827733993530273, 21.901166915893555, 24.837997436523438, 25.311498641967773, 22.356107711791992, 24.331871032714844, 22.861482620239258, 2.4650936126708984, 2.426866054534912, 6.309817314147949, 4.502372741699219, 8.341683387756348, 2.2175936698913574, 2.1851887702941895, 2.183957099914551, 2.1448123455047607, 2.138932704925537, 2.1241304874420166, 2.6529767513275146, 2.6283040046691895, 1.5732786655426025, 2.6192214488983154, 3.6557819843292236, 1.5643093585968018, 2.593722343444824, 1.5194226503372192, 1.5190832614898682, 1.5151240825653076, 1.5017226934432983, 1.4958702325820923, 1.491292119026184, 1.4815739393234253, 0.9871084690093994, 0.9870690107345581, 0.9869465231895447, 0.9869449138641357, 0.9867831468582153, 3.938951015472412, 1.9705917835235596, 1.475365161895752, 3.8805203437805176, 1.4709908962249756, 2.419233798980713, 3.7257537841796875, 5.763181209564209, 3.2417492866516113, 7.604567050933838, 4.860065460205078, 11.025299072265625, 12.000349044799805, 3.588803768157959, 6.184565544128418, 105.5919418334961, 8.826133728027344, 5.4295172691345215, 17.13858413696289, 12.161471366882324, 32.16365051269531, 32.528533935546875, 32.799381256103516, 35.5814094543457, 12.200671195983887, 35.287803649902344, 21.892807006835938, 24.153099060058594, 81.74536895751953, 23.066823959350586, 29.994365692138672, 26.379898071289062, 10.061457633972168, 13.828789710998535, 8.742857933044434, 19.564889907836914, 11.930621147155762, 12.308860778808594, 12.493852615356445, 21.25221061706543, 15.82624340057373, 12.821649551391602, 15.236045837402344, 16.041748046875, 15.781265258789062, 12.52181625366211, 13.187923431396484, 13.908075332641602, 13.644944190979004, 13.05665111541748, 12.676040649414062], \"Term\": [\"says\", \"australia\", \"india\", \"fire\", \"cancer\", \"virus\", \"two\", \"government\", \"years\", \"new_south\", \"economy\", \"president\", \"pakistan\", \"israel\", \"melbourne\", \"one\", \"laws\", \"hospital\", \"state\", \"arafat\", \"lung\", \"argentina\", \"indian\", \"peter\", \"died\", \"tora_bora\", \"east_timor\", \"could\", \"wales\", \"club\", \"boje\", \"asic\", \"rich\", \"nicky\", \"tel\", \"southerly\", \"malaysian\", \"musharraf\", \"bradstreet\", \"sales\", \"farmers\", \"dun\", \"redmond\", \"aging\", \"pashtun\", \"survey\", \"dixon\", \"unresolved\", \"imposed\", \"stoppages\", \"truss\", \"confessed\", \"gibbons\", \"bethlehem\", \"new_delhi\", \"initially\", \"citizen\", \"ali\", \"coincides\", \"easier\", \"indian\", \"thousands\", \"pilot\", \"caves\", \"israel\", \"violence\", \"tora_bora\", \"force\", \"germany\", \"chairman\", \"india\", \"attacks\", \"commission\", \"williams\", \"said\", \"australia\", \"arafat\", \"parliament\", \"israeli\", \"number\", \"says\", \"pakistan\", \"would\", \"close\", \"group\", \"two\", \"year\", \"still\", \"per_cent\", \"united_states\", \"killed\", \"attack\", \"afghanistan\", \"government\", \"told\", \"one\", \"australian\", \"security\", \"police\", \"palestinian\", \"people\", \"time\", \"new\", \"first\", \"also\", \"say\", \"day\", \"could\", \"three\", \"palmerston\", \"darwin\", \"rosebury\", \"larrakia\", \"hectares\", \"hiv\", \"rejects\", \"arbitrated\", \"underfoot\", \"crush\", \"world_heritage\", \"utn\", \"aids\", \"develop\", \"nominate\", \"alei\", \"east_timor\", \"memorandum\", \"drug\", \"tenet\", \"mitchell\", \"reason\", \"delayed\", \"franklin\", \"sinai\", \"native\", \"romaszko\", \"locals\", \"implementing\", \"raft\", \"opened_fire\", \"gunmen\", \"fire\", \"rural_fire\", \"hospital\", \"industrial_action\", \"return\", \"lines\", \"explosives\", \"taliban\", \"killing\", \"palestinian\", \"qantas\", \"today\", \"man\", \"around\", \"sydney\", \"said\", \"match\", \"laden\", \"people\", \"says\", \"also\", \"take\", \"bin_laden\", \"company\", \"three\", \"state\", \"west\", \"areas\", \"day\", \"australian\", \"four\", \"new_south\", \"afghanistan\", \"team\", \"called\", \"united_states\", \"arafat\", \"south\", \"israeli\", \"told\", \"first\", \"one\", \"police\", \"could\", \"would\", \"government\", \"new\", \"two\", \"australia\", \"jackson\", \"alcohol\", \"virus\", \"lung\", \"cancer\", \"spills\", \"spill\", \"computers\", \"worm\", \"raduyev\", \"computer\", \"chechen\", \"gutnick\", \"salman\", \"user\", \"rates\", \"phillip\", \"ticket\", \"paddling\", \"dagestan\", \"erase\", \"prosecution\", \"goner\", \"accepting\", \"stoppage\", \"filming\", \"rings\", \"tolkien\", \"films\", \"rewarded\", \"club\", \"rfds\", \"mcafee\", \"refugees\", \"hostage\", \"cigarettes\", \"virgin\", \"argentina\", \"oil\", \"laws\", \"pacific\", \"economy\", \"years\", \"friedli\", \"wants\", \"says\", \"peter\", \"inquiry\", \"president\", \"melbourne\", \"government\", \"two\", \"one\", \"australia\", \"died\", \"australian\", \"could\", \"first\", \"said\", \"new\", \"people\", \"also\", \"six\", \"morning\", \"community\", \"three\", \"new_south\", \"national\", \"five\", \"would\", \"company\", \"pakistan\", \"security\", \"today\", \"police\", \"meeting\", \"world\", \"say\", \"told\", \"day\", \"afghanistan\"], \"Total\": [337.0, 114.0, 29.0, 50.0, 11.0, 8.0, 97.0, 94.0, 24.0, 33.0, 22.0, 41.0, 38.0, 45.0, 28.0, 99.0, 14.0, 23.0, 35.0, 59.0, 6.0, 10.0, 25.0, 18.0, 28.0, 27.0, 11.0, 64.0, 33.0, 6.0, 4.242247104644775, 6.7348504066467285, 2.5240678787231445, 2.530334711074829, 2.520869016647339, 2.5203189849853516, 2.5285286903381348, 9.153820037841797, 2.528831958770752, 2.5291082859039307, 5.779963970184326, 2.528515338897705, 4.201629638671875, 3.364928722381592, 4.19050407409668, 8.361963272094727, 4.184716701507568, 1.6746383905410767, 1.674627423286438, 1.6745549440383911, 4.121891498565674, 3.371060609817505, 3.382669448852539, 2.5121986865997314, 6.6233673095703125, 3.3121907711029053, 1.6744499206542969, 3.3878684043884277, 1.6731183528900146, 2.5241804122924805, 25.02347183227539, 10.894208908081055, 7.538877964019775, 10.961833953857422, 45.37821960449219, 18.403766632080078, 27.089969635009766, 43.35950469970703, 5.850971221923828, 8.373588562011719, 29.246196746826172, 37.596435546875, 29.917747497558594, 11.663254737854004, 381.5224304199219, 114.43580627441406, 59.05574417114258, 15.748600006103516, 67.59623718261719, 29.938732147216797, 337.5690002441406, 38.27964782714844, 83.2539291381836, 20.78321647644043, 33.4566764831543, 97.78472900390625, 39.04523849487305, 54.878822326660156, 42.00218963623047, 60.07674026489258, 52.434837341308594, 37.86192321777344, 66.59549713134766, 94.41805267333984, 63.014862060546875, 99.46408081054688, 117.08333587646484, 52.47932434082031, 63.5413818359375, 68.7450180053711, 108.48843383789062, 51.285797119140625, 70.98281860351562, 74.24436950683594, 91.90718078613281, 55.26227569580078, 59.684539794921875, 64.31304931640625, 68.10848236083984, 3.3914382457733154, 4.213554859161377, 2.5339484214782715, 2.5338828563690186, 3.377192497253418, 5.040768623352051, 2.5329129695892334, 2.5320940017700195, 2.5321762561798096, 2.5317864418029785, 5.898300647735596, 3.3581056594848633, 4.197623252868652, 4.203546524047852, 2.5161492824554443, 3.352015972137451, 11.810417175292969, 2.522757053375244, 5.859946250915527, 2.5219738483428955, 2.5196447372436523, 4.207204818725586, 3.34846830368042, 3.364436149597168, 3.347038984298706, 4.174582004547119, 2.5160696506500244, 2.5202808380126953, 2.5181314945220947, 2.515169382095337, 5.880756855010986, 10.042135238647461, 50.67088317871094, 7.522906303405762, 23.954774856567383, 12.533525466918945, 18.38726043701172, 6.6822309494018555, 8.357002258300781, 40.21281433105469, 10.902250289916992, 68.7450180053711, 31.190532684326172, 64.3736343383789, 53.47068786621094, 50.996978759765625, 48.03896713256836, 381.5224304199219, 29.166492462158203, 23.4996337890625, 108.48843383789062, 337.5690002441406, 91.90718078613281, 41.65748977661133, 32.89177703857422, 54.119441986083984, 68.10848236083984, 35.09587097167969, 23.040067672729492, 30.649898529052734, 59.684539794921875, 117.08333587646484, 52.995460510253906, 33.298404693603516, 66.59549713134766, 30.326820373535156, 36.58201217651367, 60.07674026489258, 59.05574417114258, 38.81272888183594, 67.59623718261719, 63.014862060546875, 74.24436950683594, 99.46408081054688, 63.5413818359375, 64.31304931640625, 83.2539291381836, 94.41805267333984, 70.98281860351562, 97.78472900390625, 114.43580627441406, 3.0458765029907227, 3.051853656768799, 8.450331687927246, 6.158134460449219, 11.562088966369629, 3.0840301513671875, 3.0890181064605713, 3.0897700786590576, 3.09588623046875, 3.096609115600586, 3.099116325378418, 3.874027729034424, 3.87794828414917, 2.327194929122925, 3.879645824432373, 5.433084487915039, 2.3283803462982178, 3.883479595184326, 2.335258960723877, 2.3356165885925293, 2.33638072013855, 2.338031768798828, 2.339388847351074, 2.3397932052612305, 2.3415298461914062, 1.5610063076019287, 1.5610129833221436, 1.5610315799713135, 1.5610320568084717, 1.5610568523406982, 6.246878623962402, 3.1228013038635254, 2.3425958156585693, 6.254541873931885, 2.3431239128112793, 3.910059690475464, 6.278463363647461, 10.24551010131836, 5.495794773101807, 14.249404907226562, 8.674652099609375, 22.28857421875, 24.705917358398438, 6.300243854522705, 11.89752197265625, 337.5690002441406, 18.342144012451172, 10.299089431762695, 41.907745361328125, 28.10544204711914, 94.41805267333984, 97.78472900390625, 99.46408081054688, 114.43580627441406, 28.96160888671875, 117.08333587646484, 64.31304931640625, 74.24436950683594, 381.5224304199219, 70.98281860351562, 108.48843383789062, 91.90718078613281, 24.148529052734375, 38.99074935913086, 20.068878173828125, 68.10848236083984, 33.298404693603516, 34.947532653808594, 35.77436828613281, 83.2539291381836, 54.119441986083984, 38.27964782714844, 52.47932434082031, 64.3736343383789, 63.5413818359375, 40.05390167236328, 45.948204040527344, 55.26227569580078, 63.014862060546875, 59.684539794921875, 66.59549713134766], \"loglift\": [30.0, 29.0, 28.0, 27.0, 26.0, 25.0, 24.0, 23.0, 22.0, 21.0, 20.0, 19.0, 18.0, 17.0, 16.0, 15.0, 14.0, 13.0, 12.0, 11.0, 10.0, 9.0, 8.0, 7.0, 6.0, 5.0, 4.0, 3.0, 2.0, 1.0, 0.7915999889373779, 0.7222999930381775, 0.6852999925613403, 0.680899977684021, 0.6801000237464905, 0.6682000160217285, 0.6541000008583069, 0.63919997215271, 0.636900007724762, 0.6338000297546387, 0.6270999908447266, 0.6146000027656555, 0.6119999885559082, 0.6119999885559082, 0.6007000207901001, 0.5960000157356262, 0.5918999910354614, 0.5859000086784363, 0.5849000215530396, 0.5842000246047974, 0.5831999778747559, 0.5820000171661377, 0.5806000232696533, 0.5774999856948853, 0.5755000114440918, 0.5745000243186951, 0.5702999830245972, 0.5692999958992004, 0.5670999884605408, 0.5656999945640564, 0.5641000270843506, 0.5620999932289124, 0.5623999834060669, 0.5504000186920166, 0.5055000185966492, 0.5116000175476074, 0.48919999599456787, 0.45820000767707825, 0.5473999977111816, 0.5246000289916992, 0.4359000027179718, 0.4016999900341034, 0.4120999872684479, 0.49219998717308044, 0.17399999499320984, 0.2572999894618988, 0.3215000033378601, 0.4214000105857849, 0.22859999537467957, 0.3255999982357025, -0.025599999353289604, 0.2906999886035919, 0.1655000001192093, 0.3723999857902527, 0.288100004196167, 0.10100000351667404, 0.25290000438690186, 0.18790000677108765, 0.2379000037908554, 0.164000004529953, 0.179299995303154, 0.24740000069141388, 0.11819999665021896, 0.03370000049471855, 0.12999999523162842, 0.009800000116229057, -0.05290000140666962, 0.15320000052452087, 0.07590000331401825, 0.014700000174343586, -0.17339999973773956, 0.1062999963760376, -0.049400001764297485, -0.08739999681711197, -0.20190000534057617, 0.06369999796152115, -0.006000000052154064, -0.17030000686645508, -0.22869999706745148, 0.8708000183105469, 0.8320000171661377, 0.8069999814033508, 0.8057000041007996, 0.7958999872207642, 0.7786999940872192, 0.7605999708175659, 0.7405999898910522, 0.7389000058174133, 0.7368999719619751, 0.7366999983787537, 0.7347999811172485, 0.7297000288963318, 0.7197999954223633, 0.7177000045776367, 0.7174000144004822, 0.7138000130653381, 0.7131999731063843, 0.7093999981880188, 0.7077999711036682, 0.7006999850273132, 0.696399986743927, 0.6952999830245972, 0.6941999793052673, 0.6937999725341797, 0.6801000237464905, 0.6791999936103821, 0.6783999800682068, 0.6779000163078308, 0.6769999861717224, 0.6696000099182129, 0.6291000247001648, 0.5396000146865845, 0.6308000087738037, 0.5307999849319458, 0.5812000036239624, 0.5020999908447266, 0.6133000254631042, 0.5878999829292297, 0.39169999957084656, 0.545199990272522, 0.29760000109672546, 0.38850000500679016, 0.2833000123500824, 0.3050000071525574, 0.29600000381469727, 0.30219998955726624, -0.0430000014603138, 0.37130001187324524, 0.4075999855995178, 0.1462000012397766, -0.09529999643564224, 0.14219999313354492, 0.2775000035762787, 0.32420000433921814, 0.2117999941110611, 0.16169999539852142, 0.2994999885559082, 0.3880000114440918, 0.3165000081062317, 0.14560000598430634, -0.030400000512599945, 0.16699999570846558, 0.28540000319480896, 0.09160000085830688, 0.30869999527931213, 0.24869999289512634, 0.08049999922513962, 0.07280000299215317, 0.2199999988079071, 0.0027000000700354576, 0.0066999997943639755, -0.065700002014637, -0.19499999284744263, -0.019500000402331352, -0.028200000524520874, -0.16050000488758087, -0.26750001311302185, -0.1062999963760376, -0.34200000762939453, -0.5616000294685364, 1.0925999879837036, 1.0750000476837158, 1.0119999647140503, 0.9909999966621399, 0.9776999950408936, 0.9743000268936157, 0.9580000042915344, 0.9571999907493591, 0.9370999932289124, 0.9340999722480774, 0.9264000058174133, 0.9254999756813049, 0.9151999950408936, 0.9125999808311462, 0.911300003528595, 0.9078999757766724, 0.9064000248908997, 0.9004999995231628, 0.8743000030517578, 0.8740000128746033, 0.8709999918937683, 0.8614000082015991, 0.8569999933242798, 0.8536999821662903, 0.8464000225067139, 0.84579998254776, 0.84579998254776, 0.8457000255584717, 0.8457000255584717, 0.8454999923706055, 0.8429999947547913, 0.8436999917030334, 0.8417999744415283, 0.8267999887466431, 0.8385999798774719, 0.8240000009536743, 0.7822999954223633, 0.7287999987602234, 0.7763000130653381, 0.6761999726295471, 0.7247999906539917, 0.6003000140190125, 0.5820000171661377, 0.7414000034332275, 0.6499000191688538, 0.1420000046491623, 0.572700023651123, 0.6639000177383423, 0.4099999964237213, 0.46650001406669617, 0.2272000014781952, 0.20350000262260437, 0.19480000436306, 0.13600000739097595, 0.43970000743865967, 0.10480000078678131, 0.226500004529953, 0.18119999766349792, -0.23639999330043793, 0.1800999939441681, 0.01850000023841858, 0.0560000017285347, 0.428600013256073, 0.26759999990463257, 0.4731999933719635, 0.0568000003695488, 0.2777000069618225, 0.2606000006198883, 0.25209999084472656, -0.06129999831318855, 0.07460000365972519, 0.21040000021457672, 0.0674000009894371, -0.08540000021457672, -0.08869999647140503, 0.14139999449253082, 0.05590000003576279, -0.0754999965429306, -0.22589999437332153, -0.21559999883174896, -0.3547999858856201], \"logprob\": [30.0, 29.0, 28.0, 27.0, 26.0, 25.0, 24.0, 23.0, 22.0, 21.0, 20.0, 19.0, 18.0, 17.0, 16.0, 15.0, 14.0, 13.0, 12.0, 11.0, 10.0, 9.0, 8.0, 7.0, 6.0, 5.0, 4.0, 3.0, 2.0, 1.0, -8.140399932861328, -7.747499942779541, -8.765899658203125, -8.767800331115723, -8.77239990234375, -8.784500122070312, -8.79539966583252, -7.52370023727417, -8.8125, -8.815400123596191, -7.99560022354126, -8.83489990234375, -8.32960033416748, -8.5516996383667, -8.343600273132324, -7.657400131225586, -8.353799819946289, -9.27560043334961, -9.276599884033203, -9.277400016784668, -8.377599716186523, -8.579899787902832, -8.577799797058105, -8.878399848937988, -7.910999774932861, -8.604999542236328, -9.291299819946289, -8.587599754333496, -9.295299530029297, -8.88539981842041, -6.593100070953369, -7.426700115203857, -7.7947001457214355, -7.432300090789795, -6.05649995803833, -6.952899932861328, -6.588699817657471, -6.149400234222412, -8.06309986114502, -7.727399826049805, -6.565400123596191, -6.348499774932861, -6.566500186920166, -7.428500175476074, -4.258999824523926, -5.379799842834473, -5.977099895477295, -7.19890022277832, -5.934999942779541, -6.652400016784668, -4.580900192260742, -6.441400051116943, -5.789700031280518, -6.9704999923706055, -6.578700065612793, -5.693299770355225, -6.459499835968018, -6.184100151062012, -6.401500225067139, -6.117499828338623, -6.2382001876831055, -6.495800018310547, -6.060299873352051, -5.7957000732421875, -6.103700160980225, -5.767600059509277, -5.667099952697754, -6.263500213623047, -6.149600028991699, -6.131999969482422, -5.863900184631348, -6.333399772644043, -6.164000034332275, -6.157100200653076, -6.058199882507324, -6.301300048828125, -6.294099807739258, -6.383699893951416, -6.384699821472168, -8.285099983215332, -8.106800079345703, -8.640299797058105, -8.64169979095459, -8.3641996383667, -7.980800151824951, -8.687100410461426, -8.707500457763672, -8.709199905395508, -8.711299896240234, -7.865699768066406, -8.430899620056152, -8.212900161743164, -8.221400260925293, -8.736700057983398, -8.45009994506836, -7.194300174713135, -8.738499641418457, -7.899499893188477, -8.74429988861084, -8.752300262451172, -8.243900299072266, -8.473299980163574, -8.469599723815918, -8.475299835205078, -8.267999649047852, -8.775199890136719, -8.774299621582031, -8.775699615478516, -8.777799606323242, -7.935800075531006, -7.441199779510498, -5.912099838256836, -7.728300094604492, -6.670199871063232, -7.267499923706055, -6.963399887084961, -7.8643999099731445, -7.666100025177002, -6.291299819946289, -7.442999839782715, -5.849100112915039, -6.548500061035156, -5.929100036621094, -6.0929999351501465, -6.1493000984191895, -6.202899932861328, -4.475900173187256, -6.632800102233887, -6.8125, -5.5441999435424805, -4.650700092315674, -5.714099884033203, -6.370100021362305, -6.559599876403809, -6.174200057983398, -5.99429988861084, -6.519499778747559, -6.851799964904785, -6.638000011444092, -6.142399787902832, -5.644700050354004, -6.2399001121521, -6.58620023727417, -6.0868000984191895, -6.656400203704834, -6.528800010681152, -6.201000213623047, -6.225800037384033, -6.4984002113342285, -6.160799980163574, -6.227099895477295, -6.13539981842041, -5.972300052642822, -6.244900226593018, -6.241600036621094, -6.115699768066406, -6.09689998626709, -6.2210001945495605, -6.136300086975098, -6.198699951171875, -8.170700073242188, -8.186400413513184, -7.230899810791016, -7.568399906158447, -6.951700210571289, -8.27649974822998, -8.291299819946289, -8.291799545288086, -8.309900283813477, -8.312700271606445, -8.319600105285645, -8.097299575805664, -8.106599807739258, -8.619799613952637, -8.110099792480469, -7.776700019836426, -8.625499725341797, -8.11989974975586, -8.654600143432617, -8.654899597167969, -8.657500267028809, -8.666399955749512, -8.670299530029297, -8.673299789428711, -8.679900169372559, -9.08590030670166, -9.086000442504883, -9.086099624633789, -9.086099624633789, -9.086299896240234, -7.702099800109863, -8.394599914550781, -8.684100151062012, -7.7170000076293945, -8.687000274658203, -8.189499855041504, -7.757699966430664, -7.321499824523926, -7.896900177001953, -7.0441999435424805, -7.4918999671936035, -6.672800064086914, -6.5879998207092285, -7.795100212097168, -7.250899791717529, -4.413400173187256, -6.895299911499023, -7.381100177764893, -6.231599807739258, -6.574699878692627, -5.602099895477295, -5.59089994430542, -5.582600116729736, -5.501100063323975, -6.571499824523926, -5.509399890899658, -5.986800193786621, -5.888599872589111, -4.669400215148926, -5.934599876403809, -5.671999931335449, -5.8003997802734375, -6.7642998695373535, -6.446199893951416, -6.904699802398682, -6.0991997718811035, -6.593900203704834, -6.562600135803223, -6.547699928283691, -6.016499996185303, -6.311299800872803, -6.5218000411987305, -6.349299907684326, -6.297800064086914, -6.3140997886657715, -6.545499801635742, -6.49370002746582, -6.440499782562256, -6.45959997177124, -6.503699779510498, -6.533299922943115]}, \"token.table\": {\"Topic\": [3, 1, 2, 3, 1, 2, 1, 2, 3, 3, 2, 3, 1, 2, 1, 2, 3, 1, 2, 3, 2, 1, 2, 3, 1, 2, 3, 1, 2, 3, 1, 2, 3, 1, 2, 3, 1, 2, 3, 1, 2, 3, 1, 2, 3, 1, 1, 2, 3, 1, 1, 1, 2, 3, 1, 2, 3, 1, 2, 3, 1, 2, 3, 2, 3, 1, 2, 3, 1, 1, 2, 3, 2, 3, 1, 1, 2, 3, 1, 2, 3, 1, 2, 3, 2, 3, 2, 3, 1, 2, 1, 2, 3, 2, 3, 2, 1, 2, 3, 2, 3, 1, 2, 3, 1, 2, 3, 1, 2, 3, 1, 2, 3, 1, 1, 2, 1, 2, 3, 1, 2, 3, 2, 3, 1, 2, 3, 1, 3, 3, 3, 1, 2, 3, 1, 2, 3, 1, 2, 3, 1, 2, 3, 1, 2, 3, 1, 2, 1, 2, 3, 1, 2, 3, 1, 2, 2, 3, 1, 2, 3, 1, 2, 3, 1, 2, 3, 2, 3, 2, 1, 2, 3, 1, 2, 3, 3, 2, 1, 1, 2, 3, 1, 2, 3, 1, 2, 3, 1, 3, 1, 2, 3, 1, 2, 3, 1, 2, 3, 3, 1, 2, 3, 1, 2, 3, 1, 2, 3, 2, 1, 2, 3, 1, 2, 3, 2, 1, 2, 3, 1, 1, 2, 3, 1, 2, 3, 2, 3, 1, 2, 3, 1, 2, 3, 2, 2, 1, 2, 3, 1, 2, 3, 1, 2, 3, 1, 2, 3, 1, 2, 3, 1, 2, 3, 1, 2, 3, 1, 2, 1, 2, 3, 1, 2, 3, 1, 2, 3, 1, 2, 3, 1, 2, 3, 1, 3, 1, 2, 3, 1, 2, 3, 2, 1, 2, 3, 1, 2, 3, 1, 2, 3, 1, 2, 3, 1, 2, 3, 3, 1, 2, 3, 1, 2, 3, 1, 2, 3, 1, 3, 1, 2, 3, 2, 3, 2, 1, 2, 3, 1, 2, 3, 1, 2, 3, 1, 2, 3, 2, 1, 2, 3, 3, 2, 3, 1, 3, 2, 2, 1, 2, 3, 1, 2, 3, 1, 3, 1, 2, 3, 1, 2, 3, 1, 2, 3, 2, 3, 1, 2, 3, 1, 2, 3, 1, 1, 3, 1, 3, 1, 2, 3, 1, 2, 3, 2, 3, 1, 1, 2, 3, 1, 2, 3, 1, 2, 3, 1, 2, 3, 1, 2, 3, 1, 2, 1, 2, 3, 1, 2, 3, 2, 3, 1, 2, 3, 1, 2, 3, 1, 2, 3, 3, 1, 2, 3, 1, 3, 1, 2, 3, 2, 1, 2, 3, 1, 2, 3, 2, 1, 2, 3, 1, 2, 3, 2, 3, 1, 2, 3, 1, 2, 3, 1, 2, 3, 1, 2, 3, 1, 2, 3, 1, 2, 3, 2, 3, 1, 2, 3, 1, 2, 3, 1, 2, 3], \"Freq\": [0.42738819122314453, 0.42044883966445923, 0.39041680097579956, 0.19520840048789978, 0.5943662524223328, 0.2971831262111664, 0.23823004961013794, 0.7146901488304138, 0.23823004961013794, 0.6553394198417664, 0.5966558456420898, 0.2983279228210449, 0.5903416872024536, 0.2951708436012268, 0.30465519428253174, 0.4025800824165344, 0.282894104719162, 0.5249277949333191, 0.37252938747406006, 0.10159892588853836, 0.7898600697517395, 0.29363882541656494, 0.4893980324268341, 0.22838574647903442, 0.29281118512153625, 0.09760373085737228, 0.5856223702430725, 0.37257108092308044, 0.47061610221862793, 0.15687203407287598, 0.742406964302063, 0.14848139882087708, 0.14848139882087708, 0.47541165351867676, 0.26411759853363037, 0.26411759853363037, 0.5585635900497437, 0.26598265767097473, 0.15958960354328156, 0.4893573224544525, 0.20098604261875153, 0.3145868480205536, 0.3587188422679901, 0.3416370153427124, 0.29893237352371216, 0.7961153984069824, 0.4256382882595062, 0.48644375801086426, 0.09120820462703705, 0.9428964853286743, 0.79087895154953, 0.35536590218544006, 0.43737342953681946, 0.19135087728500366, 0.17297911643981934, 0.17297911643981934, 0.6919164657592773, 0.638579249382019, 0.2736768424510956, 0.09122560918331146, 0.5971155762672424, 0.23884622752666473, 0.11942311376333237, 0.2581292688846588, 0.7743878364562988, 0.2557505667209625, 0.2557505667209625, 0.511501133441925, 0.5972110629081726, 0.5292732119560242, 0.24057874083518982, 0.1924629956483841, 0.3201598823070526, 0.6403197646141052, 0.5976863503456116, 0.5682246088981628, 0.23397482931613922, 0.20054985582828522, 0.29897037148475647, 0.24914197623729706, 0.4484555721282959, 0.2771647274494171, 0.4249859154224396, 0.2956423759460449, 0.32267263531684875, 0.6453452706336975, 0.32364869117736816, 0.6472973823547363, 0.593285083770752, 0.296642541885376, 0.32652783393859863, 0.34207677841186523, 0.34207677841186523, 0.7899560332298279, 0.856304943561554, 0.7119878530502319, 0.3686046600341797, 0.4021141827106476, 0.21781185269355774, 0.5972880125045776, 0.2986440062522888, 0.23789435625076294, 0.7136830687522888, 0.23789435625076294, 0.276227742433548, 0.276227742433548, 0.41434162855148315, 0.7168943881988525, 0.23896479606628418, 0.23896479606628418, 0.17065003514289856, 0.6826001405715942, 0.17065003514289856, 0.7909780144691467, 0.7923364043235779, 0.39616820216178894, 0.1693420261144638, 0.6773681044578552, 0.0846710130572319, 0.22433018684387207, 0.26919621229171753, 0.4935263991355896, 0.4280124306678772, 0.8560248613357544, 0.23932026326656342, 0.5983006358146667, 0.11966013163328171, 0.6920458078384399, 0.17301145195960999, 0.6406124234199524, 0.6406018137931824, 0.19735199213027954, 0.5920559763908386, 0.21708719432353973, 0.35019490122795105, 0.32325685024261475, 0.32325685024261475, 0.3074827194213867, 0.36338865756988525, 0.335435688495636, 0.5996378660202026, 0.23062993586063385, 0.1845039576292038, 0.3585212826728821, 0.4151298999786377, 0.22643448412418365, 0.2972266376018524, 0.5944532752037048, 0.15872400999069214, 0.3174480199813843, 0.6348960399627686, 0.6836471557617188, 0.1709117889404297, 0.1709117889404297, 0.5912490487098694, 0.2956245243549347, 0.42746207118034363, 0.42746207118034363, 0.391874223947525, 0.26477986574172974, 0.3389182388782501, 0.5081198215484619, 0.32878339290618896, 0.1494470089673996, 0.19916082918643951, 0.6970629096031189, 0.19916082918643951, 0.25786831974983215, 0.7736049294471741, 0.8883118033409119, 0.1983824372291565, 0.793529748916626, 0.1983824372291565, 0.16698132455348969, 0.5844346284866333, 0.25047197937965393, 0.42678067088127136, 0.7942396998405457, 0.5971477627754211, 0.5812721848487854, 0.06838496029376984, 0.341924786567688, 0.6793621778488159, 0.15984992682933807, 0.15984992682933807, 0.23935803771018982, 0.6382880806922913, 0.15957202017307281, 0.6038299798965454, 0.3019149899482727, 0.291287899017334, 0.19419191777706146, 0.48547980189323425, 0.6170361042022705, 0.24240703880786896, 0.1322220265865326, 0.4733991324901581, 0.35504934191703796, 0.17752467095851898, 0.6566254496574402, 0.45771095156669617, 0.3623545169830322, 0.19071289896965027, 0.27517256140708923, 0.6420692801475525, 0.18344835937023163, 0.3404308259487152, 0.5106462836265564, 0.1276615709066391, 0.7893024682998657, 0.14035673439502716, 0.2807134687900543, 0.5614269375801086, 0.14965061843395233, 0.5986024737358093, 0.14965061843395233, 0.7935623526573181, 0.16238683462142944, 0.16238683462142944, 0.811934232711792, 0.7909738421440125, 0.3553348779678345, 0.46754589676856995, 0.16831651329994202, 0.30857327580451965, 0.5142887830734253, 0.1714295893907547, 0.42687687277793884, 0.42687687277793884, 0.3495289981365204, 0.3495289981365204, 0.3245626389980316, 0.3913832902908325, 0.177901491522789, 0.42696356773376465, 0.7927834391593933, 0.7937626838684082, 0.35905951261520386, 0.28211820125579834, 0.35905951261520386, 0.7647080421447754, 0.10924401134252548, 0.21848802268505096, 0.2861432433128357, 0.3719862103462219, 0.3433718681335449, 0.23954494297504425, 0.718634843826294, 0.23954494297504425, 0.3662858307361603, 0.30993416905403137, 0.3240220844745636, 0.603922426700592, 0.150980606675148, 0.150980606675148, 0.18018881976604462, 0.48050349950790405, 0.36037763953208923, 0.7904092669487, 0.7948653697967529, 0.5344247817993164, 0.2672123908996582, 0.20040929317474365, 0.3639146089553833, 0.18195730447769165, 0.545871913433075, 0.38204747438430786, 0.2915625274181366, 0.33177804946899414, 0.1700461357831955, 0.680184543132782, 0.1700461357831955, 0.11527840048074722, 0.23055680096149445, 0.5763919949531555, 0.4282180368900299, 0.8564360737800598, 0.4963473081588745, 0.15674124658107758, 0.33960604667663574, 0.3782092332839966, 0.4654882848262787, 0.14546509087085724, 0.8845804333686829, 0.5714793801307678, 0.1904931217432022, 0.1904931217432022, 0.7159043550491333, 0.23863478004932404, 0.23863478004932404, 0.32261502742767334, 0.40557318925857544, 0.27652716636657715, 0.47616565227508545, 0.26189109683036804, 0.26189109683036804, 0.2725962698459625, 0.21807701885700226, 0.4906732738018036, 0.8589661717414856, 0.6632286906242371, 0.13264574110507965, 0.13264574110507965, 0.4091821610927582, 0.346231073141098, 0.2518044114112854, 0.3102051913738251, 0.2863432466983795, 0.4056529402732849, 0.4277101755142212, 0.8554203510284424, 0.38473212718963623, 0.5129761695861816, 0.09618303179740906, 0.3229338824748993, 0.6458677649497986, 0.7951750755310059, 0.18405750393867493, 0.18405750393867493, 0.7362300157546997, 0.23768749833106995, 0.7130625247955322, 0.23768749833106995, 0.7140086889266968, 0.23800289630889893, 0.23800289630889893, 0.15988381206989288, 0.15988381206989288, 0.6395352482795715, 0.7896047234535217, 0.2719274163246155, 0.598240315914154, 0.1631564497947693, 0.6405916810035706, 0.3202252984046936, 0.6404505968093872, 0.7923716902732849, 0.6406096816062927, 0.7948905825614929, 0.7892820239067078, 0.13292734324932098, 0.6646367311477661, 0.13292734324932098, 0.45082539319992065, 0.33549797534942627, 0.21492838859558105, 0.7907925248146057, 0.8594037294387817, 0.3981015980243683, 0.34381499886512756, 0.25333738327026367, 0.3673323094844818, 0.3169722259044647, 0.3140098750591278, 0.4382678270339966, 0.26677173376083374, 0.2858268618583679, 0.5975430607795715, 0.29877153038978577, 0.3312831223011017, 0.24846233427524567, 0.4141038954257965, 0.3091769218444824, 0.4380006492137909, 0.23188269138336182, 0.7935503721237183, 0.32372745871543884, 0.6474549174308777, 0.32425105571746826, 0.6485021114349365, 0.199453666806221, 0.48438745737075806, 0.3134271800518036, 0.45554912090301514, 0.3462173342704773, 0.2004416137933731, 0.427071213722229, 0.427071213722229, 0.5971735715866089, 0.7175348401069641, 0.11958914250135422, 0.11958914250135422, 0.2914300858974457, 0.4787779748439789, 0.22898077964782715, 0.3600793182849884, 0.4561004638671875, 0.1920422911643982, 0.3232800364494324, 0.522221565246582, 0.14920617640018463, 0.23081879317760468, 0.46163758635520935, 0.2967670261859894, 0.7933772206306458, 0.7930296063423157, 0.6425431966781616, 0.18358378112316132, 0.18358378112316132, 0.29364916682243347, 0.4111088514328003, 0.29364916682243347, 0.2575010359287262, 0.7725030779838562, 0.4289686679840088, 0.35097435116767883, 0.2339829057455063, 0.279617577791214, 0.4660293161869049, 0.2485489547252655, 0.42847034335136414, 0.3491239845752716, 0.22216981649398804, 0.6406020522117615, 0.6275385618209839, 0.2953122556209564, 0.0738280639052391, 0.7278211712837219, 0.24260707199573517, 0.41928836703300476, 0.24543710052967072, 0.3374760150909424, 0.7898344397544861, 0.44942519068717957, 0.38284367322921753, 0.1664537787437439, 0.597143828868866, 0.25775548815727234, 0.7732664346694946, 0.595573902130127, 0.652040421962738, 0.21734681725502014, 0.1630101054906845, 0.1592746376991272, 0.1592746376991272, 0.6370985507965088, 0.23667709529399872, 0.710031270980835, 0.2092898041009903, 0.44847816228866577, 0.32888397574424744, 0.1681022346019745, 0.25215333700180054, 0.5043066740036011, 0.21701325476169586, 0.520831823348999, 0.2604159116744995, 0.6001754999160767, 0.17147871851921082, 0.17147871851921082, 0.3699818253517151, 0.34821817278862, 0.2829272747039795, 0.16954036056995392, 0.6781614422798157, 0.16954036056995392, 0.32300928235054016, 0.6460185647010803, 0.44442346692085266, 0.30028611421585083, 0.2522403597831726, 0.48661503195762634, 0.30733582377433777, 0.20489053428173065, 0.2833329439163208, 0.24285680055618286, 0.4857136011123657], \"Term\": [\"accepting\", \"afghanistan\", \"afghanistan\", \"afghanistan\", \"aging\", \"aging\", \"aids\", \"aids\", \"aids\", \"alcohol\", \"alei\", \"alei\", \"ali\", \"ali\", \"also\", \"also\", \"also\", \"arafat\", \"arafat\", \"arafat\", \"arbitrated\", \"areas\", \"areas\", \"areas\", \"argentina\", \"argentina\", \"argentina\", \"around\", \"around\", \"around\", \"asic\", \"asic\", \"asic\", \"attack\", \"attack\", \"attack\", \"attacks\", \"attacks\", \"attacks\", \"australia\", \"australia\", \"australia\", \"australian\", \"australian\", \"australian\", \"bethlehem\", \"bin_laden\", \"bin_laden\", \"bin_laden\", \"boje\", \"bradstreet\", \"called\", \"called\", \"called\", \"cancer\", \"cancer\", \"cancer\", \"caves\", \"caves\", \"caves\", \"chairman\", \"chairman\", \"chairman\", \"chechen\", \"chechen\", \"cigarettes\", \"cigarettes\", \"cigarettes\", \"citizen\", \"close\", \"close\", \"close\", \"club\", \"club\", \"coincides\", \"commission\", \"commission\", \"commission\", \"community\", \"community\", \"community\", \"company\", \"company\", \"company\", \"computer\", \"computer\", \"computers\", \"computers\", \"confessed\", \"confessed\", \"could\", \"could\", \"could\", \"crush\", \"dagestan\", \"darwin\", \"day\", \"day\", \"day\", \"delayed\", \"delayed\", \"develop\", \"develop\", \"develop\", \"died\", \"died\", \"died\", \"dixon\", \"dixon\", \"dixon\", \"drug\", \"drug\", \"drug\", \"dun\", \"easier\", \"easier\", \"east_timor\", \"east_timor\", \"east_timor\", \"economy\", \"economy\", \"economy\", \"erase\", \"erase\", \"explosives\", \"explosives\", \"explosives\", \"farmers\", \"farmers\", \"filming\", \"films\", \"fire\", \"fire\", \"fire\", \"first\", \"first\", \"first\", \"five\", \"five\", \"five\", \"force\", \"force\", \"force\", \"four\", \"four\", \"four\", \"franklin\", \"franklin\", \"friedli\", \"friedli\", \"friedli\", \"germany\", \"germany\", \"germany\", \"gibbons\", \"gibbons\", \"goner\", \"goner\", \"government\", \"government\", \"government\", \"group\", \"group\", \"group\", \"gunmen\", \"gunmen\", \"gunmen\", \"gutnick\", \"gutnick\", \"hectares\", \"hiv\", \"hiv\", \"hiv\", \"hospital\", \"hospital\", \"hospital\", \"hostage\", \"implementing\", \"imposed\", \"india\", \"india\", \"india\", \"indian\", \"indian\", \"indian\", \"industrial_action\", \"industrial_action\", \"industrial_action\", \"initially\", \"initially\", \"inquiry\", \"inquiry\", \"inquiry\", \"israel\", \"israel\", \"israel\", \"israeli\", \"israeli\", \"israeli\", \"jackson\", \"killed\", \"killed\", \"killed\", \"killing\", \"killing\", \"killing\", \"laden\", \"laden\", \"laden\", \"larrakia\", \"laws\", \"laws\", \"laws\", \"lines\", \"lines\", \"lines\", \"locals\", \"lung\", \"lung\", \"lung\", \"malaysian\", \"man\", \"man\", \"man\", \"match\", \"match\", \"match\", \"mcafee\", \"mcafee\", \"meeting\", \"meeting\", \"meeting\", \"melbourne\", \"melbourne\", \"melbourne\", \"memorandum\", \"mitchell\", \"morning\", \"morning\", \"morning\", \"musharraf\", \"musharraf\", \"musharraf\", \"national\", \"national\", \"national\", \"native\", \"native\", \"native\", \"new\", \"new\", \"new\", \"new_delhi\", \"new_delhi\", \"new_delhi\", \"new_south\", \"new_south\", \"new_south\", \"nicky\", \"nominate\", \"number\", \"number\", \"number\", \"oil\", \"oil\", \"oil\", \"one\", \"one\", \"one\", \"opened_fire\", \"opened_fire\", \"opened_fire\", \"pacific\", \"pacific\", \"pacific\", \"paddling\", \"paddling\", \"pakistan\", \"pakistan\", \"pakistan\", \"palestinian\", \"palestinian\", \"palestinian\", \"palmerston\", \"parliament\", \"parliament\", \"parliament\", \"pashtun\", \"pashtun\", \"pashtun\", \"people\", \"people\", \"people\", \"per_cent\", \"per_cent\", \"per_cent\", \"peter\", \"peter\", \"peter\", \"phillip\", \"pilot\", \"pilot\", \"pilot\", \"police\", \"police\", \"police\", \"president\", \"president\", \"president\", \"prosecution\", \"prosecution\", \"qantas\", \"qantas\", \"qantas\", \"raduyev\", \"raduyev\", \"raft\", \"rates\", \"rates\", \"rates\", \"reason\", \"reason\", \"reason\", \"redmond\", \"redmond\", \"redmond\", \"refugees\", \"refugees\", \"refugees\", \"rejects\", \"return\", \"return\", \"return\", \"rewarded\", \"rfds\", \"rfds\", \"rich\", \"rings\", \"romaszko\", \"rosebury\", \"rural_fire\", \"rural_fire\", \"rural_fire\", \"said\", \"said\", \"said\", \"sales\", \"salman\", \"say\", \"say\", \"say\", \"says\", \"says\", \"says\", \"security\", \"security\", \"security\", \"sinai\", \"sinai\", \"six\", \"six\", \"six\", \"south\", \"south\", \"south\", \"southerly\", \"spill\", \"spill\", \"spills\", \"spills\", \"state\", \"state\", \"state\", \"still\", \"still\", \"still\", \"stoppage\", \"stoppage\", \"stoppages\", \"survey\", \"survey\", \"survey\", \"sydney\", \"sydney\", \"sydney\", \"take\", \"take\", \"take\", \"taliban\", \"taliban\", \"taliban\", \"team\", \"team\", \"team\", \"tel\", \"tenet\", \"thousands\", \"thousands\", \"thousands\", \"three\", \"three\", \"three\", \"ticket\", \"ticket\", \"time\", \"time\", \"time\", \"today\", \"today\", \"today\", \"told\", \"told\", \"told\", \"tolkien\", \"tora_bora\", \"tora_bora\", \"tora_bora\", \"truss\", \"truss\", \"two\", \"two\", \"two\", \"underfoot\", \"united_states\", \"united_states\", \"united_states\", \"unresolved\", \"user\", \"user\", \"utn\", \"violence\", \"violence\", \"violence\", \"virgin\", \"virgin\", \"virgin\", \"virus\", \"virus\", \"wales\", \"wales\", \"wales\", \"wants\", \"wants\", \"wants\", \"west\", \"west\", \"west\", \"williams\", \"williams\", \"williams\", \"world\", \"world\", \"world\", \"world_heritage\", \"world_heritage\", \"world_heritage\", \"worm\", \"worm\", \"would\", \"would\", \"would\", \"year\", \"year\", \"year\", \"years\", \"years\", \"years\"]}, \"R\": 30, \"lambda.step\": 0.01, \"plot.opts\": {\"xlab\": \"PC1\", \"ylab\": \"PC2\"}, \"topic.order\": [2, 1, 3]};\n",
       "\n",
       "function LDAvis_load_lib(url, callback){\n",
       "  var s = document.createElement('script');\n",
       "  s.src = url;\n",
       "  s.async = true;\n",
       "  s.onreadystatechange = s.onload = callback;\n",
       "  s.onerror = function(){console.warn(\"failed to load library \" + url);};\n",
       "  document.getElementsByTagName(\"head\")[0].appendChild(s);\n",
       "}\n",
       "\n",
       "if(typeof(LDAvis) !== \"undefined\"){\n",
       "   // already loaded: just create the visualization\n",
       "   !function(LDAvis){\n",
       "       new LDAvis(\"#\" + \"ldavis_el1723948056053208486239710\", ldavis_el1723948056053208486239710_data);\n",
       "   }(LDAvis);\n",
       "}else if(typeof define === \"function\" && define.amd){\n",
       "   // require.js is available: use it to load d3/LDAvis\n",
       "   require.config({paths: {d3: \"https://cdnjs.cloudflare.com/ajax/libs/d3/3.5.5/d3.min\"}});\n",
       "   require([\"d3\"], function(d3){\n",
       "      window.d3 = d3;\n",
       "      LDAvis_load_lib(\"https://cdn.rawgit.com/bmabey/pyLDAvis/files/ldavis.v1.0.0.js\", function(){\n",
       "        new LDAvis(\"#\" + \"ldavis_el1723948056053208486239710\", ldavis_el1723948056053208486239710_data);\n",
       "      });\n",
       "    });\n",
       "}else{\n",
       "    // require.js not available: dynamically load d3 & LDAvis\n",
       "    LDAvis_load_lib(\"https://cdnjs.cloudflare.com/ajax/libs/d3/3.5.5/d3.min.js\", function(){\n",
       "         LDAvis_load_lib(\"https://cdn.rawgit.com/bmabey/pyLDAvis/files/ldavis.v1.0.0.js\", function(){\n",
       "                 new LDAvis(\"#\" + \"ldavis_el1723948056053208486239710\", ldavis_el1723948056053208486239710_data);\n",
       "            })\n",
       "         });\n",
       "}\n",
       "</script>"
      ],
      "text/plain": [
       "PreparedData(topic_coordinates=            Freq  cluster  topics         x         y\n",
       "topic                                                \n",
       "1      37.830292        1       1  0.015896  0.011065\n",
       "0      35.029160        1       2  0.002431 -0.018243\n",
       "2      27.140553        1       3 -0.018326  0.007178, topic_info=     Category        Freq         Term       Total  loglift  logprob\n",
       "term                                                                \n",
       "99    Default  337.000000         says  337.000000  30.0000  30.0000\n",
       "356   Default  114.000000    australia  114.000000  29.0000  29.0000\n",
       "150   Default   29.000000        india   29.000000  28.0000  28.0000\n",
       "43    Default   50.000000         fire   50.000000  27.0000  27.0000\n",
       "2115  Default   11.000000       cancer   11.000000  26.0000  26.0000\n",
       "6364  Default    8.000000        virus    8.000000  25.0000  25.0000\n",
       "200   Default   97.000000          two   97.000000  24.0000  24.0000\n",
       "258   Default   94.000000   government   94.000000  23.0000  23.0000\n",
       "304   Default   24.000000        years   24.000000  22.0000  22.0000\n",
       "81    Default   33.000000    new_south   33.000000  21.0000  21.0000\n",
       "2486  Default   22.000000      economy   22.000000  20.0000  20.0000\n",
       "278   Default   41.000000    president   41.000000  19.0000  19.0000\n",
       "171   Default   38.000000     pakistan   38.000000  18.0000  18.0000\n",
       "2082  Default   45.000000       israel   45.000000  17.0000  17.0000\n",
       "559   Default   28.000000    melbourne   28.000000  16.0000  16.0000\n",
       "329   Default   99.000000          one   99.000000  15.0000  15.0000\n",
       "1193  Default   14.000000         laws   14.000000  14.0000  14.0000\n",
       "317   Default   23.000000     hospital   23.000000  13.0000  13.0000\n",
       "105   Default   35.000000        state   35.000000  12.0000  12.0000\n",
       "2551  Default   59.000000       arafat   59.000000  11.0000  11.0000\n",
       "5478  Default    6.000000         lung    6.000000  10.0000  10.0000\n",
       "236   Default   10.000000    argentina   10.000000   9.0000   9.0000\n",
       "151   Default   25.000000       indian   25.000000   8.0000   8.0000\n",
       "1112  Default   18.000000        peter   18.000000   7.0000   7.0000\n",
       "207   Default   28.000000         died   28.000000   6.0000   6.0000\n",
       "2533  Default   27.000000    tora_bora   27.000000   5.0000   5.0000\n",
       "2743  Default   11.000000   east_timor   11.000000   4.0000   4.0000\n",
       "241   Default   64.000000        could   64.000000   3.0000   3.0000\n",
       "120   Default   33.000000        wales   33.000000   2.0000   2.0000\n",
       "3975  Default    6.000000         club    6.000000   1.0000   1.0000\n",
       "...       ...         ...          ...         ...      ...      ...\n",
       "200    Topic3   32.528534          two   97.784729   0.2035  -5.5909\n",
       "329    Topic3   32.799381          one   99.464081   0.1948  -5.5826\n",
       "356    Topic3   35.581409    australia  114.435806   0.1360  -5.5011\n",
       "207    Topic3   12.200671         died   28.961609   0.4397  -6.5715\n",
       "986    Topic3   35.287804   australian  117.083336   0.1048  -5.5094\n",
       "241    Topic3   21.892807        could   64.313049   0.2265  -5.9868\n",
       "450    Topic3   24.153099        first   74.244370   0.1812  -5.8886\n",
       "98     Topic3   81.745369         said  381.522430  -0.2364  -4.6694\n",
       "80     Topic3   23.066824          new   70.982819   0.1801  -5.9346\n",
       "86     Topic3   29.994366       people  108.488434   0.0185  -5.6720\n",
       "574    Topic3   26.379898         also   91.907181   0.0560  -5.8004\n",
       "336    Topic3   10.061458          six   24.148529   0.4286  -6.7643\n",
       "628    Topic3   13.828790      morning   38.990749   0.2676  -6.4462\n",
       "798    Topic3    8.742858    community   20.068878   0.4732  -6.9047\n",
       "225    Topic3   19.564890        three   68.108482   0.0568  -6.0992\n",
       "81     Topic3   11.930621    new_south   33.298405   0.2777  -6.5939\n",
       "214    Topic3   12.308861     national   34.947533   0.2606  -6.5626\n",
       "46     Topic3   12.493853         five   35.774368   0.2521  -6.5477\n",
       "303    Topic3   21.252211        would   83.253929  -0.0613  -6.0165\n",
       "2738   Topic3   15.826243      company   54.119442   0.0746  -6.3113\n",
       "171    Topic3   12.821650     pakistan   38.279648   0.2104  -6.5218\n",
       "933    Topic3   15.236046     security   52.479324   0.0674  -6.3493\n",
       "113    Topic3   16.041748        today   64.373634  -0.0854  -6.2978\n",
       "175    Topic3   15.781265       police   63.541382  -0.0887  -6.3141\n",
       "842    Topic3   12.521816      meeting   40.053902   0.1414  -6.5455\n",
       "537    Topic3   13.187923        world   45.948204   0.0559  -6.4937\n",
       "180    Topic3   13.908075          say   55.262276  -0.0755  -6.4405\n",
       "299    Topic3   13.644944         told   63.014862  -0.2259  -6.4596\n",
       "1735   Topic3   13.056651          day   59.684540  -0.2156  -6.5037\n",
       "349    Topic3   12.676041  afghanistan   66.595497  -0.3548  -6.5333\n",
       "\n",
       "[271 rows x 6 columns], token_table=      Topic      Freq            Term\n",
       "term                                 \n",
       "5879      3  0.427388       accepting\n",
       "349       1  0.420449     afghanistan\n",
       "349       2  0.390417     afghanistan\n",
       "349       3  0.195208     afghanistan\n",
       "4456      1  0.594366           aging\n",
       "4456      2  0.297183           aging\n",
       "1473      1  0.238230            aids\n",
       "1473      2  0.714690            aids\n",
       "1473      3  0.238230            aids\n",
       "5532      3  0.655339         alcohol\n",
       "945       2  0.596656            alei\n",
       "945       3  0.298328            alei\n",
       "5378      1  0.590342             ali\n",
       "5378      2  0.295171             ali\n",
       "574       1  0.304655            also\n",
       "574       2  0.402580            also\n",
       "574       3  0.282894            also\n",
       "2551      1  0.524928          arafat\n",
       "2551      2  0.372529          arafat\n",
       "2551      3  0.101599          arafat\n",
       "4083      2  0.789860      arbitrated\n",
       "3         1  0.293639           areas\n",
       "3         2  0.489398           areas\n",
       "3         3  0.228386           areas\n",
       "236       1  0.292811       argentina\n",
       "236       2  0.097604       argentina\n",
       "236       3  0.585622       argentina\n",
       "4         1  0.372571          around\n",
       "4         2  0.470616          around\n",
       "4         3  0.156872          around\n",
       "...     ...       ...             ...\n",
       "6364      3  0.710031           virus\n",
       "120       1  0.209290           wales\n",
       "120       2  0.448478           wales\n",
       "120       3  0.328884           wales\n",
       "895       1  0.168102           wants\n",
       "895       2  0.252153           wants\n",
       "895       3  0.504307           wants\n",
       "123       1  0.217013            west\n",
       "123       2  0.520832            west\n",
       "123       3  0.260416            west\n",
       "1141      1  0.600175        williams\n",
       "1141      2  0.171479        williams\n",
       "1141      3  0.171479        williams\n",
       "537       1  0.369982           world\n",
       "537       2  0.348218           world\n",
       "537       3  0.282927           world\n",
       "5503      1  0.169540  world_heritage\n",
       "5503      2  0.678161  world_heritage\n",
       "5503      3  0.169540  world_heritage\n",
       "6366      2  0.323009            worm\n",
       "6366      3  0.646019            worm\n",
       "303       1  0.444423           would\n",
       "303       2  0.300286           would\n",
       "303       3  0.252240           would\n",
       "126       1  0.486615            year\n",
       "126       2  0.307336            year\n",
       "126       3  0.204891            year\n",
       "304       1  0.283333           years\n",
       "304       2  0.242857           years\n",
       "304       3  0.485714           years\n",
       "\n",
       "[467 rows x 3 columns], R=30, lambda_step=0.01, plot_opts={'xlab': 'PC1', 'ylab': 'PC2'}, topic_order=[2, 1, 3])"
      ]
     },
     "execution_count": 27,
     "metadata": {},
     "output_type": "execute_result"
    }
   ],
   "source": [
    "pyLDAvis.gensim.prepare(lmlist[2], corpus, dictionary)"
   ]
  },
  {
   "cell_type": "code",
   "execution_count": 28,
   "metadata": {
    "nbpresent": {
     "id": "699e2ddb-add6-4134-a723-1bb37029f013"
    }
   },
   "outputs": [],
   "source": [
    "lmtopics = lmlist[5].show_topics(formatted=False)"
   ]
  },
  {
   "cell_type": "markdown",
   "metadata": {
    "nbpresent": {
     "id": "caa35df4-b625-4246-bc1f-42c561f31486"
    }
   },
   "source": [
    "### LDA as LSI"
   ]
  },
  {
   "cell_type": "markdown",
   "metadata": {
    "nbpresent": {
     "id": "d2aa5aac-acc7-41c9-96d4-5410c0d8a14b"
    }
   },
   "source": [
    "One of the problem with LDA is that if we train it on a large number of topics, the topics get \"lost\" among the numbers. Let us see if we can dig out the best topics from the best LDA model we can produce. The function below can be used to control the quality of the LDA model we produce."
   ]
  },
  {
   "cell_type": "code",
   "execution_count": 29,
   "metadata": {
    "nbpresent": {
     "id": "c39406c8-1e69-4249-91ac-894338d4053b"
    }
   },
   "outputs": [],
   "source": [
    "def ret_top_model():\n",
    "    \"\"\"\n",
    "    Since LDAmodel is a probabilistic model, it comes up different topics each time we run it. To control the\n",
    "    quality of the topic model we produce, we can see what the interpretability of the best topic is and keep\n",
    "    evaluating the topic model until this threshold is crossed. \n",
    "    \n",
    "    Returns:\n",
    "    -------\n",
    "    lm: Final evaluated topic model\n",
    "    top_topics: ranked topics in decreasing order. List of tuples\n",
    "    \"\"\"\n",
    "    top_topics = [(0, 0)]\n",
    "    while top_topics[0][1] < 0.97:\n",
    "        lm = LdaModel(corpus=corpus, id2word=dictionary)\n",
    "        coherence_values = {}\n",
    "        for n, topic in lm.show_topics(num_topics=-1, formatted=False):\n",
    "            topic = [word for word, _ in topic]\n",
    "            cm = CoherenceModel(topics=[topic], texts=train_texts, dictionary=dictionary, window_size=10)\n",
    "            coherence_values[n] = cm.get_coherence()\n",
    "        top_topics = sorted(coherence_values.items(), key=operator.itemgetter(1), reverse=True)\n",
    "    return lm, top_topics"
   ]
  },
  {
   "cell_type": "code",
   "execution_count": null,
   "metadata": {
    "nbpresent": {
     "id": "6b8eef4a-a87d-42bd-84dd-586610828698"
    }
   },
   "outputs": [],
   "source": [
    "lm, top_topics = ret_top_model()"
   ]
  },
  {
   "cell_type": "code",
   "execution_count": null,
   "metadata": {
    "nbpresent": {
     "id": "43870992-c2ff-47cf-8b6b-f62855673b42"
    }
   },
   "outputs": [],
   "source": [
    "print(top_topics[:5])"
   ]
  },
  {
   "cell_type": "markdown",
   "metadata": {},
   "source": [
    "### Inference\n",
    "We can clearly see below that the first topic is about __cinema__, second is about __email malware__, third is about the land which was given back to the __Larrakia aboriginal community of Australia__ in 2000. Then there's one about __Australian cricket__. LDA as LSI has worked wonderfully in finding out the best topics from within LDA."
   ]
  },
  {
   "cell_type": "code",
   "execution_count": null,
   "metadata": {
    "nbpresent": {
     "id": "281d1434-ce22-46c6-ba53-71a24a476568"
    }
   },
   "outputs": [],
   "source": [
    "pprint([lm.show_topic(topicid) for topicid, c_v in top_topics[:10]])"
   ]
  },
  {
   "cell_type": "code",
   "execution_count": null,
   "metadata": {
    "nbpresent": {
     "id": "ada914a2-bacb-4300-8ce3-f1332843d24c"
    }
   },
   "outputs": [],
   "source": [
    "lda_lsi_topics = [[word for word, prob in lm.show_topic(topicid)] for topicid, c_v in top_topics]"
   ]
  },
  {
   "cell_type": "markdown",
   "metadata": {
    "nbpresent": {
     "id": "4f313370-b5f0-4754-9744-157da0447fc4"
    }
   },
   "source": [
    "### Evaluating all the topic models\n",
    "Any topic model which can come up with topic terms can be plugged into the coherence pipeline. You can even plug in an [NMF topic model](http://derekgreene.com/nmf-topic/) created with scikit-learn."
   ]
  },
  {
   "cell_type": "code",
   "execution_count": null,
   "metadata": {
    "nbpresent": {
     "id": "4329af31-21b4-4570-903a-6df3715244c7"
    }
   },
   "outputs": [],
   "source": [
    "lsitopics = [[word for word, prob in topic] for topicid, topic in lsitopics]\n",
    "\n",
    "hdptopics = [[word for word, prob in topic] for topicid, topic in hdptopics]\n",
    "\n",
    "ldatopics = [[word for word, prob in topic] for topicid, topic in ldatopics]\n",
    "\n",
    "lmtopics = [[word for word, prob in topic] for topicid, topic in lmtopics]"
   ]
  },
  {
   "cell_type": "code",
   "execution_count": null,
   "metadata": {
    "nbpresent": {
     "id": "0924faf0-a957-4d12-b35c-b50ebb30f370"
    }
   },
   "outputs": [],
   "source": [
    "lsi_coherence = CoherenceModel(topics=lsitopics[:10], texts=train_texts, dictionary=dictionary, window_size=10).get_coherence()\n",
    "\n",
    "hdp_coherence = CoherenceModel(topics=hdptopics[:10], texts=train_texts, dictionary=dictionary, window_size=10).get_coherence()\n",
    "\n",
    "lda_coherence = CoherenceModel(topics=ldatopics, texts=train_texts, dictionary=dictionary, window_size=10).get_coherence()\n",
    "\n",
    "lm_coherence = CoherenceModel(topics=lmtopics, texts=train_texts, dictionary=dictionary, window_size=10).get_coherence()\n",
    "\n",
    "lda_lsi_coherence = CoherenceModel(topics=lda_lsi_topics[:10], texts=train_texts, dictionary=dictionary, window_size=10).get_coherence()"
   ]
  },
  {
   "cell_type": "code",
   "execution_count": null,
   "metadata": {
    "nbpresent": {
     "id": "59cc671f-041a-4d6f-a609-f1b9855aa05c"
    }
   },
   "outputs": [],
   "source": [
    "def evaluate_bar_graph(coherences, indices):\n",
    "    \"\"\"\n",
    "    Function to plot bar graph.\n",
    "    \n",
    "    coherences: list of coherence values\n",
    "    indices: Indices to be used to mark bars. Length of this and coherences should be equal.\n",
    "    \"\"\"\n",
    "    assert len(coherences) == len(indices)\n",
    "    n = len(coherences)\n",
    "    x = np.arange(n)\n",
    "    plt.bar(x, coherences, width=0.2, tick_label=indices, align='center')\n",
    "    plt.xlabel('Models')\n",
    "    plt.ylabel('Coherence Value')"
   ]
  },
  {
   "cell_type": "code",
   "execution_count": null,
   "metadata": {
    "nbpresent": {
     "id": "b86ba0c1-c7c4-43a5-a9f5-8dfe7967be6c"
    }
   },
   "outputs": [],
   "source": [
    "evaluate_bar_graph([lsi_coherence, hdp_coherence, lda_coherence, lm_coherence, lda_lsi_coherence],\n",
    "                   ['LSI', 'HDP', 'LDA', 'LDA_Mod', 'LDA_LSI'])"
   ]
  },
  {
   "cell_type": "markdown",
   "metadata": {
    "nbpresent": {
     "id": "df6cc31a-0b01-4700-b210-836dd510007a"
    }
   },
   "source": [
    "### Customizing the topic coherence measure\n",
    "Till now we only used the `c_v` coherence measure. There are others such as `u_mass`, `c_uci`, `c_npmi`. All of these calculate coherence in a different way. `c_v` is found to be most in line with human ratings but can be much slower than `u_mass` since it uses a sliding window over the texts."
   ]
  },
  {
   "cell_type": "markdown",
   "metadata": {
    "nbpresent": {
     "id": "664fa23d-ba6e-4a30-9287-e4fef1cc093e"
    }
   },
   "source": [
    "### Making your own coherence measure\n",
    "Let's modify `c_uci` to use `s_one_pre` instead of `s_one_one` segmentation"
   ]
  },
  {
   "cell_type": "code",
   "execution_count": null,
   "metadata": {
    "nbpresent": {
     "id": "b3652f43-da03-4027-9170-83e1679dfa2b"
    }
   },
   "outputs": [],
   "source": [
    "from gensim.topic_coherence import (segmentation, probability_estimation,\n",
    "                                    direct_confirmation_measure, indirect_confirmation_measure,\n",
    "                                    aggregation)\n",
    "from gensim.matutils import argsort\n",
    "from collections import namedtuple"
   ]
  },
  {
   "cell_type": "code",
   "execution_count": null,
   "metadata": {
    "nbpresent": {
     "id": "8ce2b802-f0c1-4ffc-9ce5-c2792856b5b4"
    }
   },
   "outputs": [],
   "source": [
    "make_pipeline = namedtuple('Coherence_Measure', 'seg, prob, conf, aggr')"
   ]
  },
  {
   "cell_type": "code",
   "execution_count": null,
   "metadata": {
    "nbpresent": {
     "id": "9994e7f0-f366-40da-9c14-76e8142ee46e"
    }
   },
   "outputs": [],
   "source": [
    "measure = make_pipeline(segmentation.s_one_one,\n",
    "                        probability_estimation.p_boolean_sliding_window,\n",
    "                        direct_confirmation_measure.log_ratio_measure,\n",
    "                        aggregation.arithmetic_mean)"
   ]
  },
  {
   "cell_type": "markdown",
   "metadata": {
    "nbpresent": {
     "id": "416f5820-1538-4483-a77f-5211c8179891"
    }
   },
   "source": [
    "To get topics out of the topic model:"
   ]
  },
  {
   "cell_type": "code",
   "execution_count": null,
   "metadata": {
    "nbpresent": {
     "id": "aa9d35ae-c458-49d2-bdbe-d93d5cb3ba9c"
    }
   },
   "outputs": [],
   "source": [
    "topics = []\n",
    "for topic in lm.state.get_lambda():\n",
    "    bestn = argsort(topic, topn=10, reverse=True)\n",
    "topics.append(bestn)"
   ]
  },
  {
   "cell_type": "markdown",
   "metadata": {
    "nbpresent": {
     "id": "13f246a0-918e-44c1-ae19-7af118d83585"
    }
   },
   "source": [
    "__Step 1__: Segmentation"
   ]
  },
  {
   "cell_type": "code",
   "execution_count": null,
   "metadata": {
    "nbpresent": {
     "id": "821ab68b-c377-40b1-bdf3-b92d66414383"
    }
   },
   "outputs": [],
   "source": [
    "# Perform segmentation\n",
    "segmented_topics = measure.seg(topics)"
   ]
  },
  {
   "cell_type": "markdown",
   "metadata": {
    "nbpresent": {
     "id": "e4b50714-b644-4213-b3cb-bdac9fe22476"
    }
   },
   "source": [
    "__Step 2__: Probability estimation"
   ]
  },
  {
   "cell_type": "code",
   "execution_count": null,
   "metadata": {
    "nbpresent": {
     "id": "d8a8bcc6-8b37-4d4f-ad06-903804776078"
    }
   },
   "outputs": [],
   "source": [
    "# Since this is a window-based coherence measure we will perform window based prob estimation\n",
    "per_topic_postings, num_windows = measure.prob(texts=train_texts, segmented_topics=segmented_topics,\n",
    "                                               dictionary=dictionary, window_size=2)"
   ]
  },
  {
   "cell_type": "markdown",
   "metadata": {
    "nbpresent": {
     "id": "6f302dcb-787b-42b0-98f0-1df0a163a818"
    }
   },
   "source": [
    "__Step 3__: Confirmation Measure"
   ]
  },
  {
   "cell_type": "code",
   "execution_count": null,
   "metadata": {
    "nbpresent": {
     "id": "ffb5aaa9-5fa1-4b28-ba2f-e23525caa392"
    }
   },
   "outputs": [],
   "source": [
    "confirmed_measures = measure.conf(segmented_topics, per_topic_postings, num_windows, normalize=False)"
   ]
  },
  {
   "cell_type": "markdown",
   "metadata": {
    "nbpresent": {
     "id": "3544f061-6870-4630-bd54-79f75decf8b6"
    }
   },
   "source": [
    "__Step 4__: Aggregation"
   ]
  },
  {
   "cell_type": "code",
   "execution_count": null,
   "metadata": {
    "nbpresent": {
     "id": "31c64f41-a499-4f80-8ccd-1364940f7383"
    }
   },
   "outputs": [],
   "source": [
    "print(measure.aggr(confirmed_measures))"
   ]
  },
  {
   "cell_type": "markdown",
   "metadata": {},
   "source": [
    "# How this topic model can be used further\n",
    "The best topic model here can be used as a standalone for news article classification. However a topic model can also be used as a dimensionality reduction algorithm to feed into a classifier. A good topic model should be able to extract the signal from the noise efficiently, hence improving the performance of the classifier."
   ]
  }
 ],
 "metadata": {
  "anaconda-cloud": {},
  "kernelspec": {
   "display_name": "Python 3",
   "language": "python",
   "name": "python3"
  },
  "language_info": {
   "codemirror_mode": {
    "name": "ipython",
    "version": 3
   },
   "file_extension": ".py",
   "mimetype": "text/x-python",
   "name": "python",
   "nbconvert_exporter": "python",
   "pygments_lexer": "ipython3",
   "version": "3.6.4"
  },
  "nbpresent": {
   "slides": {
    "04abaf09-1754-419e-9cf8-3c4f0accfc5f": {
     "id": "04abaf09-1754-419e-9cf8-3c4f0accfc5f",
     "prev": "67c9421a-0e61-4346-873f-bf3769d00c97",
     "regions": {
      "48b5cd39-b89b-4e2f-be2a-47a0fccafd3b": {
       "attrs": {
        "height": 0.8,
        "width": 0.8,
        "x": 0.1,
        "y": 0.1
       },
       "content": {
        "cell": "862c087b-b918-47b9-b0cf-42b71996e061",
        "part": "whole"
       },
       "id": "48b5cd39-b89b-4e2f-be2a-47a0fccafd3b"
      }
     }
    },
    "0527f44a-39b6-4cf8-9802-d16b8cd34754": {
     "id": "0527f44a-39b6-4cf8-9802-d16b8cd34754",
     "prev": "103c32ed-02bc-4365-a431-5acd77fe6585",
     "regions": {
      "ed3805ae-4076-41ad-a578-69a0b2356f95": {
       "attrs": {
        "height": 0.8,
        "width": 0.8,
        "x": 0.1,
        "y": 0.1
       },
       "content": {
        "cell": "b3652f43-da03-4027-9170-83e1679dfa2b",
        "part": "whole"
       },
       "id": "ed3805ae-4076-41ad-a578-69a0b2356f95"
      }
     }
    },
    "05fa6235-ac93-41b7-9975-3fee534b0c94": {
     "id": "05fa6235-ac93-41b7-9975-3fee534b0c94",
     "prev": "e44d6d8f-7236-458f-a308-36142bc72ff4",
     "regions": {
      "3e316a57-509e-404e-a89b-bde56696b966": {
       "attrs": {
        "height": 0.8,
        "width": 0.8,
        "x": 0.1,
        "y": 0.1
       },
       "content": {
        "cell": "c39406c8-1e69-4249-91ac-894338d4053b",
        "part": "whole"
       },
       "id": "3e316a57-509e-404e-a89b-bde56696b966"
      }
     }
    },
    "0e2565e0-a21d-4dbb-a4b3-8698e797c45d": {
     "id": "0e2565e0-a21d-4dbb-a4b3-8698e797c45d",
     "prev": "11baa747-dc0e-430a-8f38-65331394d2fd",
     "regions": {
      "2e423579-bece-40ca-ba30-122f49d93655": {
       "attrs": {
        "height": 0.8,
        "width": 0.8,
        "x": 0.1,
        "y": 0.1
       },
       "content": {
        "cell": "e4b50714-b644-4213-b3cb-bdac9fe22476",
        "part": "whole"
       },
       "id": "2e423579-bece-40ca-ba30-122f49d93655"
      }
     }
    },
    "103c32ed-02bc-4365-a431-5acd77fe6585": {
     "id": "103c32ed-02bc-4365-a431-5acd77fe6585",
     "prev": "23b717ee-a57c-42c5-9959-c8a314a329c6",
     "regions": {
      "aa966e74-db8d-473a-9ee6-8cad8e7407f3": {
       "attrs": {
        "height": 0.8,
        "width": 0.8,
        "x": 0.1,
        "y": 0.1
       },
       "content": {
        "cell": "664fa23d-ba6e-4a30-9287-e4fef1cc093e",
        "part": "whole"
       },
       "id": "aa966e74-db8d-473a-9ee6-8cad8e7407f3"
      }
     }
    },
    "10763d44-d64e-46c7-a164-8b92d219e71d": {
     "id": "10763d44-d64e-46c7-a164-8b92d219e71d",
     "prev": "d84b78ed-e79f-4657-b62b-eeff30c4fe8d",
     "regions": {
      "a27ddbe9-cfa8-49fe-b284-3567ebbfb1c7": {
       "attrs": {
        "height": 0.8,
        "width": 0.8,
        "x": 0.1,
        "y": 0.1
       },
       "content": {
        "cell": "43870992-c2ff-47cf-8b6b-f62855673b42",
        "part": "whole"
       },
       "id": "a27ddbe9-cfa8-49fe-b284-3567ebbfb1c7"
      }
     }
    },
    "11baa747-dc0e-430a-8f38-65331394d2fd": {
     "id": "11baa747-dc0e-430a-8f38-65331394d2fd",
     "prev": "a2c51720-8844-4953-94a8-55d723ec2499",
     "regions": {
      "6d7e8f18-6703-4c31-8353-4a714df2d33f": {
       "attrs": {
        "height": 0.8,
        "width": 0.8,
        "x": 0.1,
        "y": 0.1
       },
       "content": {
        "cell": "821ab68b-c377-40b1-bdf3-b92d66414383",
        "part": "whole"
       },
       "id": "6d7e8f18-6703-4c31-8353-4a714df2d33f"
      }
     }
    },
    "12513a0d-3e80-464d-9285-3bdd87e0b9c0": {
     "id": "12513a0d-3e80-464d-9285-3bdd87e0b9c0",
     "prev": "e71a7d3a-c9bb-4db0-9597-95b9b3233d3b",
     "regions": {
      "5fb06a62-1d61-417a-9c02-3fa7fa00fee1": {
       "attrs": {
        "height": 0.8,
        "width": 0.8,
        "x": 0.1,
        "y": 0.1
       },
       "content": {
        "cell": "416f5820-1538-4483-a77f-5211c8179891",
        "part": "whole"
       },
       "id": "5fb06a62-1d61-417a-9c02-3fa7fa00fee1"
      }
     }
    },
    "13c7e576-8024-4b19-8874-d65c24a9ee0f": {
     "id": "13c7e576-8024-4b19-8874-d65c24a9ee0f",
     "prev": "b6050bf2-3f03-47ef-9510-80c01755a79e",
     "regions": {
      "45c58bb7-75a4-4434-b5fa-59f7ad56e7d6": {
       "attrs": {
        "height": 0.8,
        "width": 0.8,
        "x": 0.1,
        "y": 0.1
       },
       "content": {
        "cell": "2c5b03e0-ce0f-4999-8fe1-820a9fe06873",
        "part": "whole"
       },
       "id": "45c58bb7-75a4-4434-b5fa-59f7ad56e7d6"
      }
     }
    },
    "23b717ee-a57c-42c5-9959-c8a314a329c6": {
     "id": "23b717ee-a57c-42c5-9959-c8a314a329c6",
     "prev": "4033c3a0-0021-4cbc-a589-50c63550217b",
     "regions": {
      "ca7e045e-962d-47e3-a594-eafdf7424671": {
       "attrs": {
        "height": 0.8,
        "width": 0.8,
        "x": 0.1,
        "y": 0.1
       },
       "content": {
        "cell": "df6cc31a-0b01-4700-b210-836dd510007a",
        "part": "whole"
       },
       "id": "ca7e045e-962d-47e3-a594-eafdf7424671"
      }
     }
    },
    "257bf09e-bd55-4957-97ea-4d3c8b85016a": {
     "id": "257bf09e-bd55-4957-97ea-4d3c8b85016a",
     "prev": null,
     "regions": {
      "cf220469-7ef0-4fb9-80b4-cbdb55aa86db": {
       "attrs": {
        "height": 0.8,
        "width": 0.8,
        "x": 0.1,
        "y": 0.1
       },
       "content": {
        "cell": "e0085648-0300-4087-9b12-ee7d2392ce4f",
        "part": "whole"
       },
       "id": "cf220469-7ef0-4fb9-80b4-cbdb55aa86db"
      }
     }
    },
    "280f0473-61ec-4b88-b9d4-172e734fd0a5": {
     "id": "280f0473-61ec-4b88-b9d4-172e734fd0a5",
     "prev": "d7495fd8-cfb5-42ee-a0eb-86679c419bae",
     "regions": {
      "c58169da-ccea-4657-95a3-fc1e5fba3ac3": {
       "attrs": {
        "height": 0.8,
        "width": 0.8,
        "x": 0.1,
        "y": 0.1
       },
       "content": {
        "cell": "f4d505e5-5e90-4770-aaae-04ae05d697b5",
        "part": "whole"
       },
       "id": "c58169da-ccea-4657-95a3-fc1e5fba3ac3"
      }
     }
    },
    "2e4a9702-f7a2-48a5-bd13-2087e9216b38": {
     "id": "2e4a9702-f7a2-48a5-bd13-2087e9216b38",
     "prev": "04abaf09-1754-419e-9cf8-3c4f0accfc5f",
     "regions": {
      "b31a05d5-a8fe-40d2-a368-cc39f50ee938": {
       "attrs": {
        "height": 0.8,
        "width": 0.8,
        "x": 0.1,
        "y": 0.1
       },
       "content": {
        "cell": "1181e3a8-6803-4f41-9d55-397f3d700c28",
        "part": "whole"
       },
       "id": "b31a05d5-a8fe-40d2-a368-cc39f50ee938"
      }
     }
    },
    "4033c3a0-0021-4cbc-a589-50c63550217b": {
     "id": "4033c3a0-0021-4cbc-a589-50c63550217b",
     "prev": "c68aae9d-645c-4cbf-9dc1-92ed9aa0f5d3",
     "regions": {
      "55173d13-adca-4e7f-a760-92bd299e6c40": {
       "attrs": {
        "height": 0.8,
        "width": 0.8,
        "x": 0.1,
        "y": 0.1
       },
       "content": {
        "cell": "b86ba0c1-c7c4-43a5-a9f5-8dfe7967be6c",
        "part": "whole"
       },
       "id": "55173d13-adca-4e7f-a760-92bd299e6c40"
      }
     }
    },
    "479d81b5-3b8b-4ddf-bbfe-6ae6ff33c2fa": {
     "id": "479d81b5-3b8b-4ddf-bbfe-6ae6ff33c2fa",
     "prev": "280f0473-61ec-4b88-b9d4-172e734fd0a5",
     "regions": {
      "6c334c87-c8a0-4328-b310-6be0e9a89532": {
       "attrs": {
        "height": 0.8,
        "width": 0.8,
        "x": 0.1,
        "y": 0.1
       },
       "content": {
        "cell": "4dbde9d2-3a9d-4677-8dd4-90066c0cb7c4",
        "part": "whole"
       },
       "id": "6c334c87-c8a0-4328-b310-6be0e9a89532"
      }
     }
    },
    "488af944-ad92-49c5-9d1d-ccdb1e929dce": {
     "id": "488af944-ad92-49c5-9d1d-ccdb1e929dce",
     "prev": "13c7e576-8024-4b19-8874-d65c24a9ee0f",
     "regions": {
      "fb1eddce-8820-408b-8b73-3a1654b93816": {
       "attrs": {
        "height": 0.8,
        "width": 0.8,
        "x": 0.1,
        "y": 0.1
       },
       "content": {
        "cell": "7da56259-bbf2-4f63-93f6-033833ae4494",
        "part": "whole"
       },
       "id": "fb1eddce-8820-408b-8b73-3a1654b93816"
      }
     }
    },
    "4af127dc-0330-4f8e-b907-3e409ba31a06": {
     "id": "4af127dc-0330-4f8e-b907-3e409ba31a06",
     "prev": "fbd9f3b3-f9b0-4886-b987-3f9d0ca983bc",
     "regions": {
      "1f9e4115-c1c7-4e4c-a262-648adc28ad2a": {
       "attrs": {
        "height": 0.8,
        "width": 0.8,
        "x": 0.1,
        "y": 0.1
       },
       "content": {
        "cell": "3d784001-6875-4be5-b8e8-e6c490f5b7b4",
        "part": "whole"
       },
       "id": "1f9e4115-c1c7-4e4c-a262-648adc28ad2a"
      }
     }
    },
    "67c9421a-0e61-4346-873f-bf3769d00c97": {
     "id": "67c9421a-0e61-4346-873f-bf3769d00c97",
     "prev": "efc03832-2e6d-4250-8ac5-f4c13cfdb733",
     "regions": {
      "d9b839cd-46ac-451d-bb1b-3edd613c0ba3": {
       "attrs": {
        "height": 0.8,
        "width": 0.8,
        "x": 0.1,
        "y": 0.1
       },
       "content": {
        "cell": "3ca3d45b-a28b-41c7-b5de-4c124c50d13d",
        "part": "whole"
       },
       "id": "d9b839cd-46ac-451d-bb1b-3edd613c0ba3"
      }
     }
    },
    "78837f0a-d7b6-48ae-b64e-3a2af8286ccc": {
     "id": "78837f0a-d7b6-48ae-b64e-3a2af8286ccc",
     "prev": "bb7417b1-270b-4977-bbf3-606a574c38ec",
     "regions": {
      "37ced915-20bf-49cd-9691-82e9fdcfe211": {
       "attrs": {
        "height": 0.8,
        "width": 0.8,
        "x": 0.1,
        "y": 0.1
       },
       "content": {
        "cell": "b1a8c7b4-dc46-4bfe-b17b-d604f212b389",
        "part": "whole"
       },
       "id": "37ced915-20bf-49cd-9691-82e9fdcfe211"
      }
     }
    },
    "7f7b5da4-7345-442b-8cd5-662cfba97db9": {
     "id": "7f7b5da4-7345-442b-8cd5-662cfba97db9",
     "prev": "f6d5269c-54db-4887-b274-d00572aead72",
     "regions": {
      "5fcadbcf-4f67-4bd7-bc4c-0e9db215581c": {
       "attrs": {
        "height": 0.8,
        "width": 0.8,
        "x": 0.1,
        "y": 0.1
       },
       "content": {
        "cell": "a02b72fb-0049-4ec3-825f-179e396f3904",
        "part": "whole"
       },
       "id": "5fcadbcf-4f67-4bd7-bc4c-0e9db215581c"
      }
     }
    },
    "823091e1-74b1-44e3-af50-388881c30968": {
     "id": "823091e1-74b1-44e3-af50-388881c30968",
     "prev": "e24d4b0b-34e2-46de-a99d-a4be39ca2951",
     "regions": {
      "cd97517e-4f86-48bd-9496-92ebad8c97cf": {
       "attrs": {
        "height": 0.8,
        "width": 0.8,
        "x": 0.1,
        "y": 0.1
       },
       "content": {
        "cell": "ffb5aaa9-5fa1-4b28-ba2f-e23525caa392",
        "part": "whole"
       },
       "id": "cd97517e-4f86-48bd-9496-92ebad8c97cf"
      }
     }
    },
    "845fbe01-dd28-4ad8-9eb5-d13c49f6772c": {
     "id": "845fbe01-dd28-4ad8-9eb5-d13c49f6772c",
     "prev": "87040bd6-a3e9-4785-97e0-08d7e7c5b8ef",
     "regions": {
      "1b5a1350-c3d1-43d8-bbc3-90ac260b5a8b": {
       "attrs": {
        "height": 0.8,
        "width": 0.8,
        "x": 0.1,
        "y": 0.1
       },
       "content": {
        "cell": "bcbc3313-3a57-4923-b330-69691eaf7535",
        "part": "whole"
       },
       "id": "1b5a1350-c3d1-43d8-bbc3-90ac260b5a8b"
      }
     }
    },
    "8541226b-6ff1-4700-a399-71e3cf68d91b": {
     "id": "8541226b-6ff1-4700-a399-71e3cf68d91b",
     "prev": "10763d44-d64e-46c7-a164-8b92d219e71d",
     "regions": {
      "7c4c47d8-a698-4e96-a411-556d9ad6b15b": {
       "attrs": {
        "height": 0.8,
        "width": 0.8,
        "x": 0.1,
        "y": 0.1
       },
       "content": {
        "cell": "281d1434-ce22-46c6-ba53-71a24a476568",
        "part": "whole"
       },
       "id": "7c4c47d8-a698-4e96-a411-556d9ad6b15b"
      }
     }
    },
    "87040bd6-a3e9-4785-97e0-08d7e7c5b8ef": {
     "id": "87040bd6-a3e9-4785-97e0-08d7e7c5b8ef",
     "prev": "ad16016c-8a9e-49da-a3d2-5ab56ca11579",
     "regions": {
      "cc35a589-c8c7-459f-893d-102c0d77bee3": {
       "attrs": {
        "height": 0.8,
        "width": 0.8,
        "x": 0.1,
        "y": 0.1
       },
       "content": {
        "cell": "8778b874-a6d1-4f2f-ba02-35dc0fa10f0c",
        "part": "whole"
       },
       "id": "cc35a589-c8c7-459f-893d-102c0d77bee3"
      }
     }
    },
    "8aa83fc2-d106-4c85-8b7f-1116db7ee9d4": {
     "id": "8aa83fc2-d106-4c85-8b7f-1116db7ee9d4",
     "prev": "f870a325-581b-4d8e-a4c0-095972e4cc21",
     "regions": {
      "9f7afc1f-6e9d-47bf-98e0-7e0350e1f516": {
       "attrs": {
        "height": 0.8,
        "width": 0.8,
        "x": 0.1,
        "y": 0.1
       },
       "content": {
        "cell": "45b1a641-1152-4364-ad25-62d1f8187317",
        "part": "whole"
       },
       "id": "9f7afc1f-6e9d-47bf-98e0-7e0350e1f516"
      }
     }
    },
    "944a5639-4b22-4f7f-b836-5ac3bf1cb21e": {
     "id": "944a5639-4b22-4f7f-b836-5ac3bf1cb21e",
     "prev": "d30e098d-5b03-4087-bb2e-fe706d78fae9",
     "regions": {
      "c32c5800-6b61-4a15-b909-b1163c6ffe62": {
       "attrs": {
        "height": 0.8,
        "width": 0.8,
        "x": 0.1,
        "y": 0.1
       },
       "content": {
        "cell": "4329af31-21b4-4570-903a-6df3715244c7",
        "part": "whole"
       },
       "id": "c32c5800-6b61-4a15-b909-b1163c6ffe62"
      }
     }
    },
    "951ea1a1-a91e-41a8-827e-fc3624ae3250": {
     "id": "951ea1a1-a91e-41a8-827e-fc3624ae3250",
     "prev": "d46a6bb8-e8dc-42dd-ac78-33a9cc66fcaa",
     "regions": {
      "bc84fb60-e322-4e23-8b12-21f7fbfd11be": {
       "attrs": {
        "height": 0.8,
        "width": 0.8,
        "x": 0.1,
        "y": 0.1
       },
       "content": {
        "cell": "caa35df4-b625-4246-bc1f-42c561f31486",
        "part": "whole"
       },
       "id": "bc84fb60-e322-4e23-8b12-21f7fbfd11be"
      }
     }
    },
    "96f08da8-8b76-4bf1-829e-50dc77b96f23": {
     "id": "96f08da8-8b76-4bf1-829e-50dc77b96f23",
     "prev": "7f7b5da4-7345-442b-8cd5-662cfba97db9",
     "regions": {
      "ee8f45c8-aaa8-4c02-8067-bee120c4685d": {
       "attrs": {
        "height": 0.8,
        "width": 0.8,
        "x": 0.1,
        "y": 0.1
       },
       "content": {
        "cell": "672c009d-3dbc-4a1f-a789-2a0fe78729b9",
        "part": "whole"
       },
       "id": "ee8f45c8-aaa8-4c02-8067-bee120c4685d"
      }
     }
    },
    "9d28ba7f-c1e5-4ac3-ae0d-08721cddf897": {
     "id": "9d28ba7f-c1e5-4ac3-ae0d-08721cddf897",
     "prev": "b758d6c7-7c92-4aba-a50f-4ea841c3bbd5",
     "regions": {
      "f1d84675-1d92-48aa-b454-b5cfd4919f9c": {
       "attrs": {
        "height": 0.8,
        "width": 0.8,
        "x": 0.1,
        "y": 0.1
       },
       "content": {
        "cell": "85e46481-0245-448c-b4e2-e0c6e175357c",
        "part": "whole"
       },
       "id": "f1d84675-1d92-48aa-b454-b5cfd4919f9c"
      }
     }
    },
    "a2c51720-8844-4953-94a8-55d723ec2499": {
     "id": "a2c51720-8844-4953-94a8-55d723ec2499",
     "prev": "ec5e5d0b-4635-44cc-acc2-f4a52d49a309",
     "regions": {
      "8e52be0c-e63e-434c-b1ca-9c69b58557a6": {
       "attrs": {
        "height": 0.8,
        "width": 0.8,
        "x": 0.1,
        "y": 0.1
       },
       "content": {
        "cell": "13f246a0-918e-44c1-ae19-7af118d83585",
        "part": "whole"
       },
       "id": "8e52be0c-e63e-434c-b1ca-9c69b58557a6"
      }
     }
    },
    "ad16016c-8a9e-49da-a3d2-5ab56ca11579": {
     "id": "ad16016c-8a9e-49da-a3d2-5ab56ca11579",
     "prev": "257bf09e-bd55-4957-97ea-4d3c8b85016a",
     "regions": {
      "ba9b7c66-e2b9-4e94-a595-b6e1e9c8ba3a": {
       "attrs": {
        "height": 0.8,
        "width": 0.8,
        "x": 0.1,
        "y": 0.1
       },
       "content": {
        "cell": "25997dab-04e3-4abc-b22f-b36944b208c2",
        "part": "whole"
       },
       "id": "ba9b7c66-e2b9-4e94-a595-b6e1e9c8ba3a"
      }
     }
    },
    "aea4c7d8-d448-4c6e-b98a-aee48ab874f3": {
     "id": "aea4c7d8-d448-4c6e-b98a-aee48ab874f3",
     "prev": "823091e1-74b1-44e3-af50-388881c30968",
     "regions": {
      "c9f42ad3-4f13-490e-98af-ba7f90c04c7e": {
       "attrs": {
        "height": 0.8,
        "width": 0.8,
        "x": 0.1,
        "y": 0.1
       },
       "content": {
        "cell": "3544f061-6870-4630-bd54-79f75decf8b6",
        "part": "whole"
       },
       "id": "c9f42ad3-4f13-490e-98af-ba7f90c04c7e"
      }
     }
    },
    "aedf0537-c77a-45f0-9d07-af274cfcc254": {
     "id": "aedf0537-c77a-45f0-9d07-af274cfcc254",
     "prev": "e6ae4652-4831-456f-a99c-275d5a367c31",
     "regions": {
      "6b39b1f4-a8eb-48a7-abe6-34f074ddfffe": {
       "attrs": {
        "height": 0.8,
        "width": 0.8,
        "x": 0.1,
        "y": 0.1
       },
       "content": {
        "cell": "58e7dda6-0dd2-4e4f-b81a-0b530c66b20b",
        "part": "whole"
       },
       "id": "6b39b1f4-a8eb-48a7-abe6-34f074ddfffe"
      }
     }
    },
    "b225aeee-0655-46cd-b065-53ac161542e1": {
     "id": "b225aeee-0655-46cd-b065-53ac161542e1",
     "prev": "944a5639-4b22-4f7f-b836-5ac3bf1cb21e",
     "regions": {
      "3fb9131f-b513-4608-88e3-1829aab4af80": {
       "attrs": {
        "height": 0.8,
        "width": 0.8,
        "x": 0.1,
        "y": 0.1
       },
       "content": {
        "cell": "0924faf0-a957-4d12-b35c-b50ebb30f370",
        "part": "whole"
       },
       "id": "3fb9131f-b513-4608-88e3-1829aab4af80"
      }
     }
    },
    "b6050bf2-3f03-47ef-9510-80c01755a79e": {
     "id": "b6050bf2-3f03-47ef-9510-80c01755a79e",
     "prev": "96f08da8-8b76-4bf1-829e-50dc77b96f23",
     "regions": {
      "35a04fb6-5997-463a-b71f-8ad41ce5def6": {
       "attrs": {
        "height": 0.8,
        "width": 0.8,
        "x": 0.1,
        "y": 0.1
       },
       "content": {
        "cell": "f7724653-52ef-41e8-aa22-6232be216b08",
        "part": "whole"
       },
       "id": "35a04fb6-5997-463a-b71f-8ad41ce5def6"
      }
     }
    },
    "b758d6c7-7c92-4aba-a50f-4ea841c3bbd5": {
     "id": "b758d6c7-7c92-4aba-a50f-4ea841c3bbd5",
     "prev": "f2b5f77b-2cf3-4728-901e-453b1ee328e4",
     "regions": {
      "3907d293-429a-446b-aa7b-d48636df66de": {
       "attrs": {
        "height": 0.8,
        "width": 0.8,
        "x": 0.1,
        "y": 0.1
       },
       "content": {
        "cell": "92dbb672-adca-4535-8089-de23712828d8",
        "part": "whole"
       },
       "id": "3907d293-429a-446b-aa7b-d48636df66de"
      }
     }
    },
    "b78b6f6e-aa16-462e-8f65-fcb552b32c31": {
     "id": "b78b6f6e-aa16-462e-8f65-fcb552b32c31",
     "prev": "de9edf29-6b79-4254-9128-e8e5339d95b7",
     "regions": {
      "7907113d-9b89-4a1c-9b8e-9ccf0f800218": {
       "attrs": {
        "height": 0.8,
        "width": 0.8,
        "x": 0.1,
        "y": 0.1
       },
       "content": {
        "cell": "0e5ca1a8-9c78-412a-9ab4-a4d0be5afd34",
        "part": "whole"
       },
       "id": "7907113d-9b89-4a1c-9b8e-9ccf0f800218"
      }
     }
    },
    "bb7417b1-270b-4977-bbf3-606a574c38ec": {
     "id": "bb7417b1-270b-4977-bbf3-606a574c38ec",
     "prev": "aedf0537-c77a-45f0-9d07-af274cfcc254",
     "regions": {
      "4186cf60-3730-4fac-9b82-c178d043465c": {
       "attrs": {
        "height": 0.8,
        "width": 0.8,
        "x": 0.1,
        "y": 0.1
       },
       "content": {
        "cell": "6b5572c0-2ab0-4b13-a08f-3db21b4c4f21",
        "part": "whole"
       },
       "id": "4186cf60-3730-4fac-9b82-c178d043465c"
      }
     }
    },
    "bc583748-3efc-4990-a121-5c23ddd1cf76": {
     "id": "bc583748-3efc-4990-a121-5c23ddd1cf76",
     "prev": "b78b6f6e-aa16-462e-8f65-fcb552b32c31",
     "regions": {
      "1fe1815a-69fc-439e-9943-115c788d87de": {
       "attrs": {
        "height": 0.8,
        "width": 0.8,
        "x": 0.1,
        "y": 0.1
       },
       "content": {
        "cell": "161e8770-8bc2-41ae-98f4-08d1c9311e82",
        "part": "whole"
       },
       "id": "1fe1815a-69fc-439e-9943-115c788d87de"
      }
     }
    },
    "bebeb5ec-eea2-4353-b2e1-ba7cdb847132": {
     "id": "bebeb5ec-eea2-4353-b2e1-ba7cdb847132",
     "prev": "aea4c7d8-d448-4c6e-b98a-aee48ab874f3",
     "regions": {
      "acd4706d-0fa8-4d2c-93b1-e01bcddce185": {
       "attrs": {
        "height": 0.8,
        "width": 0.8,
        "x": 0.1,
        "y": 0.1
       },
       "content": {
        "cell": "31c64f41-a499-4f80-8ccd-1364940f7383",
        "part": "whole"
       },
       "id": "acd4706d-0fa8-4d2c-93b1-e01bcddce185"
      }
     }
    },
    "c68aae9d-645c-4cbf-9dc1-92ed9aa0f5d3": {
     "id": "c68aae9d-645c-4cbf-9dc1-92ed9aa0f5d3",
     "prev": "b225aeee-0655-46cd-b065-53ac161542e1",
     "regions": {
      "18e9a755-775e-407c-adec-19d9d2553aa3": {
       "attrs": {
        "height": 0.8,
        "width": 0.8,
        "x": 0.1,
        "y": 0.1
       },
       "content": {
        "cell": "59cc671f-041a-4d6f-a609-f1b9855aa05c",
        "part": "whole"
       },
       "id": "18e9a755-775e-407c-adec-19d9d2553aa3"
      }
     }
    },
    "c86c2c29-3931-4f32-b9b8-2927bd48a5d2": {
     "id": "c86c2c29-3931-4f32-b9b8-2927bd48a5d2",
     "prev": "8541226b-6ff1-4700-a399-71e3cf68d91b",
     "regions": {
      "98d1caf9-aaab-4a6a-8d39-875e61f4b508": {
       "attrs": {
        "height": 0.8,
        "width": 0.8,
        "x": 0.1,
        "y": 0.1
       },
       "content": {
        "cell": "ada914a2-bacb-4300-8ce3-f1332843d24c",
        "part": "whole"
       },
       "id": "98d1caf9-aaab-4a6a-8d39-875e61f4b508"
      }
     }
    },
    "ca688a20-d25d-4266-8f63-967e003c1f2f": {
     "id": "ca688a20-d25d-4266-8f63-967e003c1f2f",
     "prev": "78837f0a-d7b6-48ae-b64e-3a2af8286ccc",
     "regions": {
      "3b6c70c9-c6b9-4505-aefb-c64c0d183b96": {
       "attrs": {
        "height": 0.8,
        "width": 0.8,
        "x": 0.1,
        "y": 0.1
       },
       "content": {
        "cell": "943a5fcd-7c2e-4c16-9879-34882a7a74d4",
        "part": "whole"
       },
       "id": "3b6c70c9-c6b9-4505-aefb-c64c0d183b96"
      }
     }
    },
    "d30e098d-5b03-4087-bb2e-fe706d78fae9": {
     "id": "d30e098d-5b03-4087-bb2e-fe706d78fae9",
     "prev": "c86c2c29-3931-4f32-b9b8-2927bd48a5d2",
     "regions": {
      "ce2693da-705b-4afd-9284-d04c8e1b2ff4": {
       "attrs": {
        "height": 0.8,
        "width": 0.8,
        "x": 0.1,
        "y": 0.1
       },
       "content": {
        "cell": "4f313370-b5f0-4754-9744-157da0447fc4",
        "part": "whole"
       },
       "id": "ce2693da-705b-4afd-9284-d04c8e1b2ff4"
      }
     }
    },
    "d386ac9f-a3fc-4b7e-8171-72c5de5bcd6b": {
     "id": "d386ac9f-a3fc-4b7e-8171-72c5de5bcd6b",
     "prev": "488af944-ad92-49c5-9d1d-ccdb1e929dce",
     "regions": {
      "742b6acb-94bd-40bc-95c5-45686415a4d2": {
       "attrs": {
        "height": 0.8,
        "width": 0.8,
        "x": 0.1,
        "y": 0.1
       },
       "content": {
        "cell": "13f462fd-b0c3-4a29-90f3-050e2317b72c",
        "part": "whole"
       },
       "id": "742b6acb-94bd-40bc-95c5-45686415a4d2"
      }
     }
    },
    "d46a6bb8-e8dc-42dd-ac78-33a9cc66fcaa": {
     "id": "d46a6bb8-e8dc-42dd-ac78-33a9cc66fcaa",
     "prev": "e1b1494f-f764-4c7c-9b18-9c4117ac6b1a",
     "regions": {
      "46818eb4-db41-4ae4-ab4a-fb8aa8381df4": {
       "attrs": {
        "height": 0.8,
        "width": 0.8,
        "x": 0.1,
        "y": 0.1
       },
       "content": {
        "cell": "699e2ddb-add6-4134-a723-1bb37029f013",
        "part": "whole"
       },
       "id": "46818eb4-db41-4ae4-ab4a-fb8aa8381df4"
      }
     }
    },
    "d7495fd8-cfb5-42ee-a0eb-86679c419bae": {
     "id": "d7495fd8-cfb5-42ee-a0eb-86679c419bae",
     "prev": "845fbe01-dd28-4ad8-9eb5-d13c49f6772c",
     "regions": {
      "1b6fb9c6-e9e8-48d0-8879-43681a10b003": {
       "attrs": {
        "height": 0.8,
        "width": 0.8,
        "x": 0.1,
        "y": 0.1
       },
       "content": {
        "cell": "d447e236-b1b9-4cf7-bc39-8bfb499d4730",
        "part": "whole"
       },
       "id": "1b6fb9c6-e9e8-48d0-8879-43681a10b003"
      }
     }
    },
    "d84b78ed-e79f-4657-b62b-eeff30c4fe8d": {
     "id": "d84b78ed-e79f-4657-b62b-eeff30c4fe8d",
     "prev": "05fa6235-ac93-41b7-9975-3fee534b0c94",
     "regions": {
      "2dc757c4-cd6f-4663-b3ed-16873bd59e53": {
       "attrs": {
        "height": 0.8,
        "width": 0.8,
        "x": 0.1,
        "y": 0.1
       },
       "content": {
        "cell": "6b8eef4a-a87d-42bd-84dd-586610828698",
        "part": "whole"
       },
       "id": "2dc757c4-cd6f-4663-b3ed-16873bd59e53"
      }
     }
    },
    "de9edf29-6b79-4254-9128-e8e5339d95b7": {
     "id": "de9edf29-6b79-4254-9128-e8e5339d95b7",
     "prev": "4af127dc-0330-4f8e-b907-3e409ba31a06",
     "regions": {
      "ef8b9aae-46b3-45ae-8ddf-d951cecabb16": {
       "attrs": {
        "height": 0.8,
        "width": 0.8,
        "x": 0.1,
        "y": 0.1
       },
       "content": {
        "cell": "d8cfc39f-aa3b-469f-ae34-1ef99ef51a25",
        "part": "whole"
       },
       "id": "ef8b9aae-46b3-45ae-8ddf-d951cecabb16"
      }
     }
    },
    "deebcf04-3780-4222-bac9-4ec42c55e64e": {
     "id": "deebcf04-3780-4222-bac9-4ec42c55e64e",
     "prev": "479d81b5-3b8b-4ddf-bbfe-6ae6ff33c2fa",
     "regions": {
      "41284583-e45d-4b58-80b1-9aa982c35d62": {
       "attrs": {
        "height": 0.8,
        "width": 0.8,
        "x": 0.1,
        "y": 0.1
       },
       "content": {
        "cell": "e7995c4c-f483-4cb5-9f53-3b8c5fef39c3",
        "part": "whole"
       },
       "id": "41284583-e45d-4b58-80b1-9aa982c35d62"
      }
     }
    },
    "e1226821-9a12-4537-a8af-79cc88d3d16a": {
     "id": "e1226821-9a12-4537-a8af-79cc88d3d16a",
     "prev": "0e2565e0-a21d-4dbb-a4b3-8698e797c45d",
     "regions": {
      "a85036ed-bcf3-498f-bcbf-d29b7ba22e33": {
       "attrs": {
        "height": 0.8,
        "width": 0.8,
        "x": 0.1,
        "y": 0.1
       },
       "content": {
        "cell": "d8a8bcc6-8b37-4d4f-ad06-903804776078",
        "part": "whole"
       },
       "id": "a85036ed-bcf3-498f-bcbf-d29b7ba22e33"
      }
     }
    },
    "e1b1494f-f764-4c7c-9b18-9c4117ac6b1a": {
     "id": "e1b1494f-f764-4c7c-9b18-9c4117ac6b1a",
     "prev": "e975c742-3e8e-42fb-992f-68889dc8eacf",
     "regions": {
      "4481842a-f6a3-4783-8056-761d3ff7903c": {
       "attrs": {
        "height": 0.8,
        "width": 0.8,
        "x": 0.1,
        "y": 0.1
       },
       "content": {
        "cell": "c02b6f0a-801c-4a8f-aa8f-8c9d64df7a9a",
        "part": "whole"
       },
       "id": "4481842a-f6a3-4783-8056-761d3ff7903c"
      }
     }
    },
    "e24d4b0b-34e2-46de-a99d-a4be39ca2951": {
     "id": "e24d4b0b-34e2-46de-a99d-a4be39ca2951",
     "prev": "e1226821-9a12-4537-a8af-79cc88d3d16a",
     "regions": {
      "8a097e4f-9443-46a4-9b0f-84d5e12c50e7": {
       "attrs": {
        "height": 0.8,
        "width": 0.8,
        "x": 0.1,
        "y": 0.1
       },
       "content": {
        "cell": "6f302dcb-787b-42b0-98f0-1df0a163a818",
        "part": "whole"
       },
       "id": "8a097e4f-9443-46a4-9b0f-84d5e12c50e7"
      }
     }
    },
    "e44d6d8f-7236-458f-a308-36142bc72ff4": {
     "id": "e44d6d8f-7236-458f-a308-36142bc72ff4",
     "prev": "951ea1a1-a91e-41a8-827e-fc3624ae3250",
     "regions": {
      "cc091066-cdf1-4dd5-bf80-5c7c94722472": {
       "attrs": {
        "height": 0.8,
        "width": 0.8,
        "x": 0.1,
        "y": 0.1
       },
       "content": {
        "cell": "d2aa5aac-acc7-41c9-96d4-5410c0d8a14b",
        "part": "whole"
       },
       "id": "cc091066-cdf1-4dd5-bf80-5c7c94722472"
      }
     }
    },
    "e6ae4652-4831-456f-a99c-275d5a367c31": {
     "id": "e6ae4652-4831-456f-a99c-275d5a367c31",
     "prev": "bc583748-3efc-4990-a121-5c23ddd1cf76",
     "regions": {
      "fc109e55-75c1-42c7-a13b-68d9feb3aad7": {
       "attrs": {
        "height": 0.8,
        "width": 0.8,
        "x": 0.1,
        "y": 0.1
       },
       "content": {
        "cell": "fe809373-e88b-44eb-9cb9-08be3dc5949a",
        "part": "whole"
       },
       "id": "fc109e55-75c1-42c7-a13b-68d9feb3aad7"
      }
     }
    },
    "e71a7d3a-c9bb-4db0-9597-95b9b3233d3b": {
     "id": "e71a7d3a-c9bb-4db0-9597-95b9b3233d3b",
     "prev": "f6887642-4c01-4304-bedb-6e6bf5f5c45e",
     "regions": {
      "88ed165d-ed0c-4d77-a642-afc80f335c88": {
       "attrs": {
        "height": 0.8,
        "width": 0.8,
        "x": 0.1,
        "y": 0.1
       },
       "content": {
        "cell": "9994e7f0-f366-40da-9c14-76e8142ee46e",
        "part": "whole"
       },
       "id": "88ed165d-ed0c-4d77-a642-afc80f335c88"
      }
     }
    },
    "e975c742-3e8e-42fb-992f-68889dc8eacf": {
     "id": "e975c742-3e8e-42fb-992f-68889dc8eacf",
     "prev": "8aa83fc2-d106-4c85-8b7f-1116db7ee9d4",
     "regions": {
      "6f8253e7-9544-4503-84a2-5dd528b2b98c": {
       "attrs": {
        "height": 0.8,
        "width": 0.8,
        "x": 0.1,
        "y": 0.1
       },
       "content": {
        "cell": "e8936716-d06c-4cef-ae87-5c5da9a25a85",
        "part": "whole"
       },
       "id": "6f8253e7-9544-4503-84a2-5dd528b2b98c"
      }
     }
    },
    "ec5e5d0b-4635-44cc-acc2-f4a52d49a309": {
     "id": "ec5e5d0b-4635-44cc-acc2-f4a52d49a309",
     "prev": "12513a0d-3e80-464d-9285-3bdd87e0b9c0",
     "regions": {
      "007395dd-4907-4340-9391-024482d674f4": {
       "attrs": {
        "height": 0.8,
        "width": 0.8,
        "x": 0.1,
        "y": 0.1
       },
       "content": {
        "cell": "aa9d35ae-c458-49d2-bdbe-d93d5cb3ba9c",
        "part": "whole"
       },
       "id": "007395dd-4907-4340-9391-024482d674f4"
      }
     }
    },
    "efc03832-2e6d-4250-8ac5-f4c13cfdb733": {
     "id": "efc03832-2e6d-4250-8ac5-f4c13cfdb733",
     "prev": "deebcf04-3780-4222-bac9-4ec42c55e64e",
     "regions": {
      "ece43b16-b994-439a-a683-911e322998be": {
       "attrs": {
        "height": 0.8,
        "width": 0.8,
        "x": 0.1,
        "y": 0.1
       },
       "content": {
        "cell": "a6d40ad7-2abd-44e5-8839-62731fb5eab7",
        "part": "whole"
       },
       "id": "ece43b16-b994-439a-a683-911e322998be"
      }
     }
    },
    "f2b5f77b-2cf3-4728-901e-453b1ee328e4": {
     "id": "f2b5f77b-2cf3-4728-901e-453b1ee328e4",
     "prev": "ca688a20-d25d-4266-8f63-967e003c1f2f",
     "regions": {
      "fd2525a2-6271-4119-a693-9ebaa319233e": {
       "attrs": {
        "height": 0.8,
        "width": 0.8,
        "x": 0.1,
        "y": 0.1
       },
       "content": {
        "cell": "b492de13-0053-416c-b314-1bbae21ca828",
        "part": "whole"
       },
       "id": "fd2525a2-6271-4119-a693-9ebaa319233e"
      }
     }
    },
    "f6887642-4c01-4304-bedb-6e6bf5f5c45e": {
     "id": "f6887642-4c01-4304-bedb-6e6bf5f5c45e",
     "prev": "0527f44a-39b6-4cf8-9802-d16b8cd34754",
     "regions": {
      "22ac5030-534d-4372-b64f-11254caef474": {
       "attrs": {
        "height": 0.8,
        "width": 0.8,
        "x": 0.1,
        "y": 0.1
       },
       "content": {
        "cell": "8ce2b802-f0c1-4ffc-9ce5-c2792856b5b4",
        "part": "whole"
       },
       "id": "22ac5030-534d-4372-b64f-11254caef474"
      }
     }
    },
    "f6d5269c-54db-4887-b274-d00572aead72": {
     "id": "f6d5269c-54db-4887-b274-d00572aead72",
     "prev": "9d28ba7f-c1e5-4ac3-ae0d-08721cddf897",
     "regions": {
      "4adeafcb-a40e-4001-9cea-ced25a006c2a": {
       "attrs": {
        "height": 0.8,
        "width": 0.8,
        "x": 0.1,
        "y": 0.1
       },
       "content": {
        "cell": "380ef8b7-6de1-4822-ae30-7120e12b5955",
        "part": "whole"
       },
       "id": "4adeafcb-a40e-4001-9cea-ced25a006c2a"
      }
     }
    },
    "f870a325-581b-4d8e-a4c0-095972e4cc21": {
     "id": "f870a325-581b-4d8e-a4c0-095972e4cc21",
     "prev": "d386ac9f-a3fc-4b7e-8171-72c5de5bcd6b",
     "regions": {
      "6923b170-3e50-4538-a408-f2032324357e": {
       "attrs": {
        "height": 0.8,
        "width": 0.8,
        "x": 0.1,
        "y": 0.1
       },
       "content": {
        "cell": "68d38063-fb92-4d36-b3fb-f2d3cbff9eb5",
        "part": "whole"
       },
       "id": "6923b170-3e50-4538-a408-f2032324357e"
      }
     }
    },
    "fbd9f3b3-f9b0-4886-b987-3f9d0ca983bc": {
     "id": "fbd9f3b3-f9b0-4886-b987-3f9d0ca983bc",
     "prev": "2e4a9702-f7a2-48a5-bd13-2087e9216b38",
     "regions": {
      "b1150180-2e0b-444f-956f-2dd4cf1f3d4a": {
       "attrs": {
        "height": 0.8,
        "width": 0.8,
        "x": 0.1,
        "y": 0.1
       },
       "content": {
        "cell": "dbeeeabe-b6dd-477c-a798-fb7b39302ba9",
        "part": "whole"
       },
       "id": "b1150180-2e0b-444f-956f-2dd4cf1f3d4a"
      }
     }
    }
   },
   "themes": {}
  }
 },
 "nbformat": 4,
 "nbformat_minor": 1
}
