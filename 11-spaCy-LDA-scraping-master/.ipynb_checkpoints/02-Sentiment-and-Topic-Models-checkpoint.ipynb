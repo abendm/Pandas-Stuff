{
 "cells": [
  {
   "cell_type": "markdown",
   "metadata": {},
   "source": [
    "# Sentiment Analysis and Topic Models\n",
    "\n",
    "\n",
    "Consider the sentiment of the following statements:\n",
    "\n",
    "- Coronet has the best lines of all day cruisers.\n",
    "- Bertram has a deep V hull and runs easily through seas.\n",
    "- Pastel-colored 1980s day cruisers from Florida are ugly.\n",
    "- I dislike old cabin cruisers.\n",
    "\n",
    "Are they positive, negative, or neutral?  Why?"
   ]
  },
  {
   "cell_type": "code",
   "execution_count": 2,
   "metadata": {},
   "outputs": [],
   "source": [
    "%matplotlib inline \n",
    "import matplotlib.pyplot as plt\n",
    "import numpy as np\n",
    "import pandas as pd\n",
    "\n",
    "from textblob import TextBlob"
   ]
  },
  {
   "cell_type": "markdown",
   "metadata": {},
   "source": [
    "### Sentiment Analysis"
   ]
  },
  {
   "cell_type": "code",
   "execution_count": 3,
   "metadata": {},
   "outputs": [],
   "source": [
    "text = 'Hi, I thought the speech you gave was awful, your hair looked terrible, and your mom would be ashamed.'"
   ]
  },
  {
   "cell_type": "code",
   "execution_count": 4,
   "metadata": {},
   "outputs": [],
   "source": [
    "analysis = TextBlob(text)"
   ]
  },
  {
   "cell_type": "code",
   "execution_count": 5,
   "metadata": {},
   "outputs": [],
   "source": [
    "pos_or_neg = analysis.sentiment.polarity"
   ]
  },
  {
   "cell_type": "code",
   "execution_count": 13,
   "metadata": {},
   "outputs": [
    {
     "data": {
      "text/plain": [
       "-0.6999999999999998"
      ]
     },
     "execution_count": 13,
     "metadata": {},
     "output_type": "execute_result"
    }
   ],
   "source": [
    "pos_or_neg"
   ]
  },
  {
   "cell_type": "code",
   "execution_count": 113,
   "metadata": {},
   "outputs": [],
   "source": [
    "ny = pd.read_csv('data/ny_donors.csv')"
   ]
  },
  {
   "cell_type": "code",
   "execution_count": 114,
   "metadata": {},
   "outputs": [],
   "source": [
    "sent = ny.project_essay_2[30]"
   ]
  },
  {
   "cell_type": "code",
   "execution_count": 115,
   "metadata": {},
   "outputs": [
    {
     "data": {
      "text/plain": [
       "\"We currently have 3 outdated desktop computers in our classroom that still run on Windows XP! We like to use reading websites, like Raz Kids, Starfall and News-O-Matic to practice our reading skills. It's difficult to make sure everyone gets a fair turn when there are 24 students sharing 3 computers. Most of them don't have access to technology at home either. \\\\r\\\\nThese new Kindle Fires will allow more students to have access to technology at the same time. Students will be able to read ebooks, as well as use other reading apps to practice reading on their own level. They can also use them for research for their writing, publishing their work, and learning how to use different types of  technology. It will encourage reluctant readers to practice reading more if they can have access to different kinds of books on technology.\""
      ]
     },
     "execution_count": 115,
     "metadata": {},
     "output_type": "execute_result"
    }
   ],
   "source": [
    "sent"
   ]
  },
  {
   "cell_type": "code",
   "execution_count": 116,
   "metadata": {},
   "outputs": [],
   "source": [
    "analysis = TextBlob(sent)"
   ]
  },
  {
   "cell_type": "code",
   "execution_count": 117,
   "metadata": {},
   "outputs": [
    {
     "data": {
      "text/plain": [
       "0.18742424242424244"
      ]
     },
     "execution_count": 117,
     "metadata": {},
     "output_type": "execute_result"
    }
   ],
   "source": [
    "analysis.sentiment.polarity"
   ]
  },
  {
   "cell_type": "code",
   "execution_count": 118,
   "metadata": {},
   "outputs": [
    {
     "data": {
      "text/plain": [
       "0.6067845117845116"
      ]
     },
     "execution_count": 118,
     "metadata": {},
     "output_type": "execute_result"
    }
   ],
   "source": [
    "analysis.sentiment.subjectivity"
   ]
  },
  {
   "cell_type": "code",
   "execution_count": 119,
   "metadata": {},
   "outputs": [],
   "source": [
    "import spacy"
   ]
  },
  {
   "cell_type": "code",
   "execution_count": 120,
   "metadata": {},
   "outputs": [],
   "source": [
    "nlp = spacy.load('en')"
   ]
  },
  {
   "cell_type": "code",
   "execution_count": 10,
   "metadata": {},
   "outputs": [],
   "source": [
    "doc = nlp(sent)"
   ]
  },
  {
   "cell_type": "code",
   "execution_count": 11,
   "metadata": {},
   "outputs": [
    {
     "name": "stdout",
     "output_type": "stream",
     "text": [
      "We currently have 3 outdated desktop computers in our classroom that still run on Windows XP!\n",
      "We like to use reading websites, like Raz Kids, Starfall and News-O-Matic to practice our reading skills.\n",
      "It's difficult to make sure everyone gets a fair turn when there are 24 students sharing 3 computers.\n",
      "Most of them don't have access to technology at home either.\n",
      "\\r\\nThese new Kindle Fires will allow more students to have access to technology at the same time.\n",
      "Students will be able to read ebooks, as well as use other reading apps to practice reading on their own level.\n",
      "They can also use them for research for their writing, publishing their work, and learning how to use different types of  technology.\n",
      "It will encourage reluctant readers to practice reading more if they can have access to different kinds of books on technology.\n"
     ]
    }
   ],
   "source": [
    "for sent in doc.sents:\n",
    "    print(sent)"
   ]
  },
  {
   "cell_type": "code",
   "execution_count": 21,
   "metadata": {},
   "outputs": [],
   "source": [
    "from spacy import displacy"
   ]
  },
  {
   "cell_type": "code",
   "execution_count": 26,
   "metadata": {},
   "outputs": [
    {
     "data": {
      "text/html": [
       "<div class=\"entities\" style=\"line-height: 2.5\">We currently have \n",
       "<mark class=\"entity\" style=\"background: #e4e7d2; padding: 0.45em 0.6em; margin: 0 0.25em; line-height: 1; border-radius: 0.35em; box-decoration-break: clone; -webkit-box-decoration-break: clone\">\n",
       "    3\n",
       "    <span style=\"font-size: 0.8em; font-weight: bold; line-height: 1; border-radius: 0.35em; text-transform: uppercase; vertical-align: middle; margin-left: 0.5rem\">CARDINAL</span>\n",
       "</mark>\n",
       " outdated desktop computers in our classroom that still run on \n",
       "<mark class=\"entity\" style=\"background: #aa9cfc; padding: 0.45em 0.6em; margin: 0 0.25em; line-height: 1; border-radius: 0.35em; box-decoration-break: clone; -webkit-box-decoration-break: clone\">\n",
       "    Windows XP\n",
       "    <span style=\"font-size: 0.8em; font-weight: bold; line-height: 1; border-radius: 0.35em; text-transform: uppercase; vertical-align: middle; margin-left: 0.5rem\">PERSON</span>\n",
       "</mark>\n",
       "! We like to use reading websites, like \n",
       "<mark class=\"entity\" style=\"background: #aa9cfc; padding: 0.45em 0.6em; margin: 0 0.25em; line-height: 1; border-radius: 0.35em; box-decoration-break: clone; -webkit-box-decoration-break: clone\">\n",
       "    Raz Kids\n",
       "    <span style=\"font-size: 0.8em; font-weight: bold; line-height: 1; border-radius: 0.35em; text-transform: uppercase; vertical-align: middle; margin-left: 0.5rem\">PERSON</span>\n",
       "</mark>\n",
       ", \n",
       "<mark class=\"entity\" style=\"background: #aa9cfc; padding: 0.45em 0.6em; margin: 0 0.25em; line-height: 1; border-radius: 0.35em; box-decoration-break: clone; -webkit-box-decoration-break: clone\">\n",
       "    Starfall\n",
       "    <span style=\"font-size: 0.8em; font-weight: bold; line-height: 1; border-radius: 0.35em; text-transform: uppercase; vertical-align: middle; margin-left: 0.5rem\">PERSON</span>\n",
       "</mark>\n",
       " and News-O-Matic to practice our reading skills. It's difficult to make sure everyone gets a fair turn when there are \n",
       "<mark class=\"entity\" style=\"background: #e4e7d2; padding: 0.45em 0.6em; margin: 0 0.25em; line-height: 1; border-radius: 0.35em; box-decoration-break: clone; -webkit-box-decoration-break: clone\">\n",
       "    24\n",
       "    <span style=\"font-size: 0.8em; font-weight: bold; line-height: 1; border-radius: 0.35em; text-transform: uppercase; vertical-align: middle; margin-left: 0.5rem\">CARDINAL</span>\n",
       "</mark>\n",
       " students sharing \n",
       "<mark class=\"entity\" style=\"background: #e4e7d2; padding: 0.45em 0.6em; margin: 0 0.25em; line-height: 1; border-radius: 0.35em; box-decoration-break: clone; -webkit-box-decoration-break: clone\">\n",
       "    3\n",
       "    <span style=\"font-size: 0.8em; font-weight: bold; line-height: 1; border-radius: 0.35em; text-transform: uppercase; vertical-align: middle; margin-left: 0.5rem\">CARDINAL</span>\n",
       "</mark>\n",
       " computers. Most of them don't have access to technology at home either. \\r\\nThese new \n",
       "<mark class=\"entity\" style=\"background: #7aecec; padding: 0.45em 0.6em; margin: 0 0.25em; line-height: 1; border-radius: 0.35em; box-decoration-break: clone; -webkit-box-decoration-break: clone\">\n",
       "    Kindle Fires\n",
       "    <span style=\"font-size: 0.8em; font-weight: bold; line-height: 1; border-radius: 0.35em; text-transform: uppercase; vertical-align: middle; margin-left: 0.5rem\">ORG</span>\n",
       "</mark>\n",
       " will allow more students to have access to technology at the same time. Students will be able to read ebooks, as well as use other reading apps to practice reading on their own level. They can also use them for research for their writing, publishing their work, and learning how to use different types of \n",
       "<mark class=\"entity\" style=\"background: #c887fb; padding: 0.45em 0.6em; margin: 0 0.25em; line-height: 1; border-radius: 0.35em; box-decoration-break: clone; -webkit-box-decoration-break: clone\">\n",
       "     \n",
       "    <span style=\"font-size: 0.8em; font-weight: bold; line-height: 1; border-radius: 0.35em; text-transform: uppercase; vertical-align: middle; margin-left: 0.5rem\">NORP</span>\n",
       "</mark>\n",
       "technology. It will encourage reluctant readers to practice reading more if they can have access to different kinds of books on technology.</div>"
      ],
      "text/plain": [
       "<IPython.core.display.HTML object>"
      ]
     },
     "metadata": {},
     "output_type": "display_data"
    }
   ],
   "source": [
    "displacy.render(doc, style = 'ent', jupyter = True)"
   ]
  },
  {
   "cell_type": "code",
   "execution_count": 33,
   "metadata": {},
   "outputs": [],
   "source": [
    "from textblob import TextBlob"
   ]
  },
  {
   "cell_type": "code",
   "execution_count": 40,
   "metadata": {},
   "outputs": [],
   "source": [
    "text = ny.project_essay_2[10]"
   ]
  },
  {
   "cell_type": "code",
   "execution_count": 41,
   "metadata": {},
   "outputs": [],
   "source": [
    "blob = TextBlob(text)"
   ]
  },
  {
   "cell_type": "code",
   "execution_count": 42,
   "metadata": {},
   "outputs": [
    {
     "data": {
      "text/plain": [
       "[('We', 'PRP'),\n",
       " ('are', 'VBP'),\n",
       " ('looking', 'VBG'),\n",
       " ('to', 'TO'),\n",
       " ('add', 'VB')]"
      ]
     },
     "execution_count": 42,
     "metadata": {},
     "output_type": "execute_result"
    }
   ],
   "source": [
    "blob.tags[:5]"
   ]
  },
  {
   "cell_type": "code",
   "execution_count": 121,
   "metadata": {},
   "outputs": [
    {
     "data": {
      "text/plain": [
       "'We'"
      ]
     },
     "execution_count": 121,
     "metadata": {},
     "output_type": "execute_result"
    }
   ],
   "source": [
    "blob.tags[0][0]"
   ]
  },
  {
   "cell_type": "code",
   "execution_count": 122,
   "metadata": {},
   "outputs": [
    {
     "data": {
      "text/plain": [
       "'PRP'"
      ]
     },
     "execution_count": 122,
     "metadata": {},
     "output_type": "execute_result"
    }
   ],
   "source": [
    "blob.tags[0][1]"
   ]
  },
  {
   "cell_type": "code",
   "execution_count": 123,
   "metadata": {},
   "outputs": [
    {
     "name": "stdout",
     "output_type": "stream",
     "text": [
      "0.0 We are loo\n",
      "0.0 But, we ar\n",
      "0.7 We believe\n",
      "0.0 \\r\\n\\r\\nA \n",
      "0.0 For exampl\n",
      "0.5 More stude\n",
      "0.0 We could t\n",
      "0.3181818181818182 Our robot \n",
      "0.0 The possib\n",
      "0.0 Robotics c\n",
      "0.0 It allows \n",
      "0.08333333333333333 This will \n",
      "0.0 Thank you!\n"
     ]
    }
   ],
   "source": [
    "for sent in blob.sentences:\n",
    "    print(sent.sentiment.polarity, sent[:10])"
   ]
  },
  {
   "cell_type": "code",
   "execution_count": 44,
   "metadata": {},
   "outputs": [
    {
     "data": {
      "text/plain": [
       "WordList(['We', 'are', 'looking', 'to', 'add', 'robotics', 'coding', 'and', 'programming', 'to', 'our', 'STEM', 'lab', 'in', 'a', 'rural', 'school', 'But', 'we', 'are', 'currently', 'lacking', 'the', 'technology', 'to', 'accomplish', 'this', 'with', 'our', 'students', 'We', 'believe', 'a', 'set', 'of', 'three', 'GoPiGo', 'Robot', 'Starter', 'Kits', 'and', 'Raspberry', 'Pi', 'computers', 'would', 'be', 'the', 'perfect', 'fit', 'to', 'introduce', 'hands-on', 'innovation', 'r\\\\n\\\\r\\\\nA', 'set', 'of', 'three', 'Raspberry', 'Pi', 'computers', 'to', 'program', 'three', 'GoPiGo', 'Robots', 'can', 'engage', 'a', 'variety', 'of', 'grade', 'levels', 'covering', 'a', 'variety', 'of', 'STEAM', 'topics', 'and', 'disciplines', 'For', 'example', 'younger', 'programmers', 'can', 'be', 'introduced', 'to', 'coding', 'by', 'moving', 'the', 'robots', 'through', 'a', 'maze', 'or', 'competing', 'in', 'a', 'robot', 'soccer', 'match', 'More', 'students', 'can', 'learn', 'about', 'planets', 'and', 'program', 'the', 'GoPiGo', 'to', 'explore', 'as', 'a', 'planetary', 'rover', 'We', 'could', 'transform', 'our', 'robots', 'to', 'become', 'reptiles', 'and', 'utilize', 'heat', 'sensors', 'to', 'explain', 'cold-blooded', 'tendencies', 'of', 'different', 'animal', 'species', 'Our', 'robot', 'platform', 'can', 'even', 'spark', 'a', 'new', 'innovative', 'invention', 'to', 'help', 'people', 'The', 'possibilities', 'to', 'engage', 'our', 'students', 'through', 'collaboration', 'are', 'endless', 'r\\\\n\\\\r\\\\nPlease', 'consider', 'helping', 'us', 'utilize', 'the', 'GoPiGo', 'robot', 'kits', 'as', 'a', 'medium', 'to', 'learn', 'STEM', 'content', 'Robotics', 'cultivates', 'creativity', 'and', 'provides', 'authenticity', 'to', 'a', 'curriculum', 'It', 'allows', 'ideas', 'to', 'become', 'reality', 'through', 'brainstorming', 'and', 'constructing', 'a', 'robot', 'or', 'program', 'This', 'will', 'prepare', 'our', 'students', 'to', 'become', 'highly-skilled', 'learners', 'that', 'will', 'contribute', 'to', 'a', 'vibrant', 'future', 'Thank', 'you'])"
      ]
     },
     "execution_count": 44,
     "metadata": {},
     "output_type": "execute_result"
    }
   ],
   "source": [
    "blob.words"
   ]
  },
  {
   "cell_type": "code",
   "execution_count": 46,
   "metadata": {},
   "outputs": [
    {
     "data": {
      "text/plain": [
       "2"
      ]
     },
     "execution_count": 46,
     "metadata": {},
     "output_type": "execute_result"
    }
   ],
   "source": [
    "blob.words.count('robotics')"
   ]
  },
  {
   "cell_type": "code",
   "execution_count": 48,
   "metadata": {},
   "outputs": [
    {
     "data": {
      "text/plain": [
       "2"
      ]
     },
     "execution_count": 48,
     "metadata": {},
     "output_type": "execute_result"
    }
   ],
   "source": [
    "blob.words.count('STEM')"
   ]
  },
  {
   "cell_type": "code",
   "execution_count": 49,
   "metadata": {},
   "outputs": [
    {
     "data": {
      "text/plain": [
       "1"
      ]
     },
     "execution_count": 49,
     "metadata": {},
     "output_type": "execute_result"
    }
   ],
   "source": [
    "blob.words.count('technology')"
   ]
  },
  {
   "cell_type": "code",
   "execution_count": 50,
   "metadata": {},
   "outputs": [
    {
     "data": {
      "text/plain": [
       "5"
      ]
     },
     "execution_count": 50,
     "metadata": {},
     "output_type": "execute_result"
    }
   ],
   "source": [
    "blob.words.count('robot')"
   ]
  },
  {
   "cell_type": "markdown",
   "metadata": {},
   "source": [
    "### Problem\n",
    "\n",
    "Add columns to our dataframe `ny_donors` that contain scores for sentiment and polarity of the `project_essay_1` and `project_essay_2`."
   ]
  },
  {
   "cell_type": "code",
   "execution_count": null,
   "metadata": {},
   "outputs": [],
   "source": []
  },
  {
   "cell_type": "code",
   "execution_count": null,
   "metadata": {},
   "outputs": [],
   "source": []
  },
  {
   "cell_type": "code",
   "execution_count": null,
   "metadata": {},
   "outputs": [],
   "source": []
  },
  {
   "cell_type": "code",
   "execution_count": null,
   "metadata": {},
   "outputs": [],
   "source": []
  },
  {
   "cell_type": "code",
   "execution_count": null,
   "metadata": {},
   "outputs": [],
   "source": []
  },
  {
   "cell_type": "markdown",
   "metadata": {},
   "source": [
    "### Topic Models\n",
    "\n",
    "Below, we explore two approaches to modeling topics with `scikitlearn`: NMF and LDA.  Before we can use these models, we have to preprocess our data.  Below, we do so for both a basic `CountVectorizer` and a `TfidfVectorizer`."
   ]
  },
  {
   "cell_type": "code",
   "execution_count": 52,
   "metadata": {},
   "outputs": [],
   "source": [
    "from sklearn.feature_extraction.text import CountVectorizer"
   ]
  },
  {
   "cell_type": "code",
   "execution_count": 54,
   "metadata": {},
   "outputs": [],
   "source": [
    "vect = CountVectorizer()"
   ]
  },
  {
   "cell_type": "code",
   "execution_count": 55,
   "metadata": {},
   "outputs": [],
   "source": [
    "X = vect.fit_transform(ny.project_essay_2)"
   ]
  },
  {
   "cell_type": "code",
   "execution_count": 56,
   "metadata": {},
   "outputs": [
    {
     "data": {
      "text/plain": [
       "<12157x20418 sparse matrix of type '<class 'numpy.int64'>'\n",
       "\twith 1056010 stored elements in Compressed Sparse Row format>"
      ]
     },
     "execution_count": 56,
     "metadata": {},
     "output_type": "execute_result"
    }
   ],
   "source": [
    "X"
   ]
  },
  {
   "cell_type": "code",
   "execution_count": 57,
   "metadata": {},
   "outputs": [],
   "source": [
    "X2 = X.toarray()"
   ]
  },
  {
   "cell_type": "code",
   "execution_count": 59,
   "metadata": {},
   "outputs": [],
   "source": [
    "names = vect.get_feature_names()\n",
    "words = pd.DataFrame(X2, columns=names)"
   ]
  },
  {
   "cell_type": "code",
   "execution_count": 60,
   "metadata": {},
   "outputs": [
    {
     "data": {
      "text/html": [
       "<div>\n",
       "<style scoped>\n",
       "    .dataframe tbody tr th:only-of-type {\n",
       "        vertical-align: middle;\n",
       "    }\n",
       "\n",
       "    .dataframe tbody tr th {\n",
       "        vertical-align: top;\n",
       "    }\n",
       "\n",
       "    .dataframe thead th {\n",
       "        text-align: right;\n",
       "    }\n",
       "</style>\n",
       "<table border=\"1\" class=\"dataframe\">\n",
       "  <thead>\n",
       "    <tr style=\"text-align: right;\">\n",
       "      <th></th>\n",
       "      <th>00</th>\n",
       "      <th>000</th>\n",
       "      <th>00am</th>\n",
       "      <th>00pm</th>\n",
       "      <th>021</th>\n",
       "      <th>04</th>\n",
       "      <th>05a</th>\n",
       "      <th>06</th>\n",
       "      <th>08</th>\n",
       "      <th>10</th>\n",
       "      <th>...</th>\n",
       "      <th>zoo</th>\n",
       "      <th>zoob</th>\n",
       "      <th>zoology</th>\n",
       "      <th>zoom</th>\n",
       "      <th>zooms</th>\n",
       "      <th>zooplankton</th>\n",
       "      <th>zoos</th>\n",
       "      <th>zucchini</th>\n",
       "      <th>zuma</th>\n",
       "      <th>zumba</th>\n",
       "    </tr>\n",
       "  </thead>\n",
       "  <tbody>\n",
       "    <tr>\n",
       "      <th>0</th>\n",
       "      <td>0</td>\n",
       "      <td>0</td>\n",
       "      <td>0</td>\n",
       "      <td>0</td>\n",
       "      <td>0</td>\n",
       "      <td>0</td>\n",
       "      <td>0</td>\n",
       "      <td>0</td>\n",
       "      <td>0</td>\n",
       "      <td>0</td>\n",
       "      <td>...</td>\n",
       "      <td>0</td>\n",
       "      <td>0</td>\n",
       "      <td>0</td>\n",
       "      <td>0</td>\n",
       "      <td>0</td>\n",
       "      <td>0</td>\n",
       "      <td>0</td>\n",
       "      <td>0</td>\n",
       "      <td>0</td>\n",
       "      <td>0</td>\n",
       "    </tr>\n",
       "    <tr>\n",
       "      <th>1</th>\n",
       "      <td>0</td>\n",
       "      <td>0</td>\n",
       "      <td>0</td>\n",
       "      <td>0</td>\n",
       "      <td>0</td>\n",
       "      <td>0</td>\n",
       "      <td>0</td>\n",
       "      <td>0</td>\n",
       "      <td>0</td>\n",
       "      <td>0</td>\n",
       "      <td>...</td>\n",
       "      <td>0</td>\n",
       "      <td>0</td>\n",
       "      <td>0</td>\n",
       "      <td>0</td>\n",
       "      <td>0</td>\n",
       "      <td>0</td>\n",
       "      <td>0</td>\n",
       "      <td>0</td>\n",
       "      <td>0</td>\n",
       "      <td>0</td>\n",
       "    </tr>\n",
       "    <tr>\n",
       "      <th>2</th>\n",
       "      <td>0</td>\n",
       "      <td>0</td>\n",
       "      <td>0</td>\n",
       "      <td>0</td>\n",
       "      <td>0</td>\n",
       "      <td>0</td>\n",
       "      <td>0</td>\n",
       "      <td>0</td>\n",
       "      <td>0</td>\n",
       "      <td>0</td>\n",
       "      <td>...</td>\n",
       "      <td>0</td>\n",
       "      <td>0</td>\n",
       "      <td>0</td>\n",
       "      <td>0</td>\n",
       "      <td>0</td>\n",
       "      <td>0</td>\n",
       "      <td>0</td>\n",
       "      <td>0</td>\n",
       "      <td>0</td>\n",
       "      <td>0</td>\n",
       "    </tr>\n",
       "    <tr>\n",
       "      <th>3</th>\n",
       "      <td>0</td>\n",
       "      <td>0</td>\n",
       "      <td>0</td>\n",
       "      <td>0</td>\n",
       "      <td>0</td>\n",
       "      <td>0</td>\n",
       "      <td>0</td>\n",
       "      <td>0</td>\n",
       "      <td>0</td>\n",
       "      <td>0</td>\n",
       "      <td>...</td>\n",
       "      <td>0</td>\n",
       "      <td>0</td>\n",
       "      <td>0</td>\n",
       "      <td>0</td>\n",
       "      <td>0</td>\n",
       "      <td>0</td>\n",
       "      <td>0</td>\n",
       "      <td>0</td>\n",
       "      <td>0</td>\n",
       "      <td>0</td>\n",
       "    </tr>\n",
       "    <tr>\n",
       "      <th>4</th>\n",
       "      <td>0</td>\n",
       "      <td>0</td>\n",
       "      <td>0</td>\n",
       "      <td>0</td>\n",
       "      <td>0</td>\n",
       "      <td>0</td>\n",
       "      <td>0</td>\n",
       "      <td>0</td>\n",
       "      <td>0</td>\n",
       "      <td>0</td>\n",
       "      <td>...</td>\n",
       "      <td>0</td>\n",
       "      <td>0</td>\n",
       "      <td>0</td>\n",
       "      <td>0</td>\n",
       "      <td>0</td>\n",
       "      <td>0</td>\n",
       "      <td>0</td>\n",
       "      <td>0</td>\n",
       "      <td>0</td>\n",
       "      <td>0</td>\n",
       "    </tr>\n",
       "  </tbody>\n",
       "</table>\n",
       "<p>5 rows × 20418 columns</p>\n",
       "</div>"
      ],
      "text/plain": [
       "   00  000  00am  00pm  021  04  05a  06  08  10  ...    zoo  zoob  zoology  \\\n",
       "0   0    0     0     0    0   0    0   0   0   0  ...      0     0        0   \n",
       "1   0    0     0     0    0   0    0   0   0   0  ...      0     0        0   \n",
       "2   0    0     0     0    0   0    0   0   0   0  ...      0     0        0   \n",
       "3   0    0     0     0    0   0    0   0   0   0  ...      0     0        0   \n",
       "4   0    0     0     0    0   0    0   0   0   0  ...      0     0        0   \n",
       "\n",
       "   zoom  zooms  zooplankton  zoos  zucchini  zuma  zumba  \n",
       "0     0      0            0     0         0     0      0  \n",
       "1     0      0            0     0         0     0      0  \n",
       "2     0      0            0     0         0     0      0  \n",
       "3     0      0            0     0         0     0      0  \n",
       "4     0      0            0     0         0     0      0  \n",
       "\n",
       "[5 rows x 20418 columns]"
      ]
     },
     "execution_count": 60,
     "metadata": {},
     "output_type": "execute_result"
    }
   ],
   "source": [
    "words.head()"
   ]
  },
  {
   "cell_type": "code",
   "execution_count": 72,
   "metadata": {},
   "outputs": [],
   "source": [
    "vect = CountVectorizer(min_df = 15, stop_words = 'english')\n",
    "X = vect.fit_transform(ny.project_essay_2)\n",
    "X2 = X.toarray()\n",
    "names = vect.get_feature_names()\n",
    "words = pd.DataFrame(X2, columns=names)"
   ]
  },
  {
   "cell_type": "code",
   "execution_count": 73,
   "metadata": {},
   "outputs": [
    {
     "data": {
      "text/html": [
       "<div>\n",
       "<style scoped>\n",
       "    .dataframe tbody tr th:only-of-type {\n",
       "        vertical-align: middle;\n",
       "    }\n",
       "\n",
       "    .dataframe tbody tr th {\n",
       "        vertical-align: top;\n",
       "    }\n",
       "\n",
       "    .dataframe thead th {\n",
       "        text-align: right;\n",
       "    }\n",
       "</style>\n",
       "<table border=\"1\" class=\"dataframe\">\n",
       "  <thead>\n",
       "    <tr style=\"text-align: right;\">\n",
       "      <th></th>\n",
       "      <th>00</th>\n",
       "      <th>000</th>\n",
       "      <th>10</th>\n",
       "      <th>100</th>\n",
       "      <th>11</th>\n",
       "      <th>11th</th>\n",
       "      <th>12</th>\n",
       "      <th>13</th>\n",
       "      <th>14</th>\n",
       "      <th>15</th>\n",
       "      <th>...</th>\n",
       "      <th>yes</th>\n",
       "      <th>yoga</th>\n",
       "      <th>york</th>\n",
       "      <th>young</th>\n",
       "      <th>younger</th>\n",
       "      <th>youngest</th>\n",
       "      <th>youngsters</th>\n",
       "      <th>youth</th>\n",
       "      <th>yummy</th>\n",
       "      <th>zone</th>\n",
       "    </tr>\n",
       "  </thead>\n",
       "  <tbody>\n",
       "    <tr>\n",
       "      <th>0</th>\n",
       "      <td>0</td>\n",
       "      <td>0</td>\n",
       "      <td>0</td>\n",
       "      <td>0</td>\n",
       "      <td>0</td>\n",
       "      <td>0</td>\n",
       "      <td>0</td>\n",
       "      <td>0</td>\n",
       "      <td>0</td>\n",
       "      <td>0</td>\n",
       "      <td>...</td>\n",
       "      <td>0</td>\n",
       "      <td>0</td>\n",
       "      <td>0</td>\n",
       "      <td>0</td>\n",
       "      <td>0</td>\n",
       "      <td>0</td>\n",
       "      <td>0</td>\n",
       "      <td>0</td>\n",
       "      <td>0</td>\n",
       "      <td>0</td>\n",
       "    </tr>\n",
       "    <tr>\n",
       "      <th>1</th>\n",
       "      <td>0</td>\n",
       "      <td>0</td>\n",
       "      <td>0</td>\n",
       "      <td>0</td>\n",
       "      <td>0</td>\n",
       "      <td>0</td>\n",
       "      <td>0</td>\n",
       "      <td>0</td>\n",
       "      <td>0</td>\n",
       "      <td>0</td>\n",
       "      <td>...</td>\n",
       "      <td>0</td>\n",
       "      <td>0</td>\n",
       "      <td>0</td>\n",
       "      <td>0</td>\n",
       "      <td>0</td>\n",
       "      <td>0</td>\n",
       "      <td>0</td>\n",
       "      <td>0</td>\n",
       "      <td>0</td>\n",
       "      <td>0</td>\n",
       "    </tr>\n",
       "    <tr>\n",
       "      <th>2</th>\n",
       "      <td>0</td>\n",
       "      <td>0</td>\n",
       "      <td>0</td>\n",
       "      <td>0</td>\n",
       "      <td>0</td>\n",
       "      <td>0</td>\n",
       "      <td>0</td>\n",
       "      <td>0</td>\n",
       "      <td>0</td>\n",
       "      <td>0</td>\n",
       "      <td>...</td>\n",
       "      <td>0</td>\n",
       "      <td>1</td>\n",
       "      <td>0</td>\n",
       "      <td>0</td>\n",
       "      <td>0</td>\n",
       "      <td>0</td>\n",
       "      <td>0</td>\n",
       "      <td>0</td>\n",
       "      <td>0</td>\n",
       "      <td>0</td>\n",
       "    </tr>\n",
       "    <tr>\n",
       "      <th>3</th>\n",
       "      <td>0</td>\n",
       "      <td>0</td>\n",
       "      <td>0</td>\n",
       "      <td>0</td>\n",
       "      <td>0</td>\n",
       "      <td>0</td>\n",
       "      <td>0</td>\n",
       "      <td>0</td>\n",
       "      <td>0</td>\n",
       "      <td>0</td>\n",
       "      <td>...</td>\n",
       "      <td>0</td>\n",
       "      <td>0</td>\n",
       "      <td>0</td>\n",
       "      <td>0</td>\n",
       "      <td>0</td>\n",
       "      <td>0</td>\n",
       "      <td>0</td>\n",
       "      <td>0</td>\n",
       "      <td>0</td>\n",
       "      <td>0</td>\n",
       "    </tr>\n",
       "    <tr>\n",
       "      <th>4</th>\n",
       "      <td>0</td>\n",
       "      <td>0</td>\n",
       "      <td>0</td>\n",
       "      <td>0</td>\n",
       "      <td>0</td>\n",
       "      <td>0</td>\n",
       "      <td>0</td>\n",
       "      <td>0</td>\n",
       "      <td>0</td>\n",
       "      <td>0</td>\n",
       "      <td>...</td>\n",
       "      <td>0</td>\n",
       "      <td>0</td>\n",
       "      <td>0</td>\n",
       "      <td>0</td>\n",
       "      <td>0</td>\n",
       "      <td>0</td>\n",
       "      <td>0</td>\n",
       "      <td>0</td>\n",
       "      <td>0</td>\n",
       "      <td>0</td>\n",
       "    </tr>\n",
       "  </tbody>\n",
       "</table>\n",
       "<p>5 rows × 4175 columns</p>\n",
       "</div>"
      ],
      "text/plain": [
       "   00  000  10  100  11  11th  12  13  14  15  ...   yes  yoga  york  young  \\\n",
       "0   0    0   0    0   0     0   0   0   0   0  ...     0     0     0      0   \n",
       "1   0    0   0    0   0     0   0   0   0   0  ...     0     0     0      0   \n",
       "2   0    0   0    0   0     0   0   0   0   0  ...     0     1     0      0   \n",
       "3   0    0   0    0   0     0   0   0   0   0  ...     0     0     0      0   \n",
       "4   0    0   0    0   0     0   0   0   0   0  ...     0     0     0      0   \n",
       "\n",
       "   younger  youngest  youngsters  youth  yummy  zone  \n",
       "0        0         0           0      0      0     0  \n",
       "1        0         0           0      0      0     0  \n",
       "2        0         0           0      0      0     0  \n",
       "3        0         0           0      0      0     0  \n",
       "4        0         0           0      0      0     0  \n",
       "\n",
       "[5 rows x 4175 columns]"
      ]
     },
     "execution_count": 73,
     "metadata": {},
     "output_type": "execute_result"
    }
   ],
   "source": [
    "words.head()"
   ]
  },
  {
   "cell_type": "code",
   "execution_count": 74,
   "metadata": {},
   "outputs": [],
   "source": [
    "from sklearn.feature_extraction.text import TfidfTransformer"
   ]
  },
  {
   "cell_type": "code",
   "execution_count": 75,
   "metadata": {},
   "outputs": [
    {
     "data": {
      "text/plain": [
       "TfidfTransformer(norm='l2', smooth_idf=True, sublinear_tf=False, use_idf=True)"
      ]
     },
     "execution_count": 75,
     "metadata": {},
     "output_type": "execute_result"
    }
   ],
   "source": [
    "transformer = TfidfTransformer()\n",
    "transformer"
   ]
  },
  {
   "cell_type": "code",
   "execution_count": 76,
   "metadata": {},
   "outputs": [],
   "source": [
    "tfidf = transformer.fit_transform(words)"
   ]
  },
  {
   "cell_type": "code",
   "execution_count": 77,
   "metadata": {},
   "outputs": [
    {
     "data": {
      "text/plain": [
       "<12157x4175 sparse matrix of type '<class 'numpy.float64'>'\n",
       "\twith 608648 stored elements in Compressed Sparse Row format>"
      ]
     },
     "execution_count": 77,
     "metadata": {},
     "output_type": "execute_result"
    }
   ],
   "source": [
    "tfidf"
   ]
  },
  {
   "cell_type": "code",
   "execution_count": 78,
   "metadata": {},
   "outputs": [
    {
     "data": {
      "text/plain": [
       "array([[0.        , 0.        , 0.        , ..., 0.        , 0.        ,\n",
       "        0.        ],\n",
       "       [0.        , 0.        , 0.        , ..., 0.        , 0.        ,\n",
       "        0.        ],\n",
       "       [0.        , 0.        , 0.        , ..., 0.        , 0.        ,\n",
       "        0.        ],\n",
       "       ...,\n",
       "       [0.        , 0.        , 0.        , ..., 0.        , 0.        ,\n",
       "        0.        ],\n",
       "       [0.        , 0.        , 0.10751966, ..., 0.        , 0.        ,\n",
       "        0.        ],\n",
       "       [0.        , 0.        , 0.        , ..., 0.        , 0.        ,\n",
       "        0.        ]])"
      ]
     },
     "execution_count": 78,
     "metadata": {},
     "output_type": "execute_result"
    }
   ],
   "source": [
    "transformer.fit_transform(words[:10]).toarray()"
   ]
  },
  {
   "cell_type": "code",
   "execution_count": 83,
   "metadata": {},
   "outputs": [
    {
     "data": {
      "text/plain": [
       "Index(['00', '000', '10', '100', '11', '11th', '12', '13', '14', '15'], dtype='object')"
      ]
     },
     "execution_count": 83,
     "metadata": {},
     "output_type": "execute_result"
    }
   ],
   "source": [
    "words.columns[:10]"
   ]
  },
  {
   "cell_type": "code",
   "execution_count": 79,
   "metadata": {},
   "outputs": [],
   "source": [
    "from sklearn.decomposition import NMF, LatentDirichletAllocation\n",
    "\n",
    "no_topic = 10\n",
    "\n",
    "nmf = NMF(n_components=no_topic).fit(tfidf) \n",
    "\n",
    "lda = LatentDirichletAllocation(n_topics=5).fit(tfidf) "
   ]
  },
  {
   "cell_type": "code",
   "execution_count": 81,
   "metadata": {},
   "outputs": [],
   "source": [
    "def display_topics(model, feature_names, no_top_words): \n",
    "    for topic_idx, topic in enumerate(model.components_): \n",
    "        print (\"Topic %d:\" % (topic_idx) )\n",
    "        print( \" \".join([feature_names[i] \n",
    "                        for i in topic.argsort()[:-no_top_words - 1:-1]]) )"
   ]
  },
  {
   "cell_type": "code",
   "execution_count": 84,
   "metadata": {},
   "outputs": [
    {
     "name": "stdout",
     "output_type": "stream",
     "text": [
      "Topic 0:\n",
      "supplies need students paper year materials pencils classroom school help\n",
      "Topic 1:\n",
      "books reading read library book students readers level love classroom\n",
      "Topic 2:\n",
      "technology students access chromebooks use computer research computers classroom able\n",
      "Topic 3:\n",
      "seating students chairs sit classroom work sitting flexible stools comfortable\n",
      "Topic 4:\n",
      "math skills students learning games materials help fun centers practice\n",
      "Topic 5:\n",
      "school students healthy snacks day children play music equipment snack\n",
      "Topic 6:\n",
      "art create projects paint express creative artists students creativity arts\n",
      "Topic 7:\n",
      "printer print ink color work students classroom projects able pictures\n",
      "Topic 8:\n",
      "science stem students world hands explore learn learning kits life\n",
      "Topic 9:\n",
      "ipad ipads apps use technology students able classroom learning reading\n"
     ]
    }
   ],
   "source": [
    "no_top_words = 10\n",
    "\n",
    "display_topics(nmf, words.columns, no_top_words) "
   ]
  },
  {
   "cell_type": "code",
   "execution_count": 85,
   "metadata": {},
   "outputs": [
    {
     "name": "stdout",
     "output_type": "stream",
     "text": [
      "Topic 0:\n",
      "calculators cd athletes theater puppets graphing debate dna voices calculator\n",
      "Topic 1:\n",
      "students help classroom learning reading books school use able work\n",
      "Topic 2:\n",
      "fitness physical exercise weight gym equipment health strength active activity\n",
      "Topic 3:\n",
      "supplies paper pencils markers art easel erase dry notebooks folders\n",
      "Topic 4:\n",
      "basketball soccer basketballs dot privacy dash hoops magna equip engineer\n"
     ]
    }
   ],
   "source": [
    "display_topics(lda, words.columns, no_top_words) "
   ]
  },
  {
   "cell_type": "code",
   "execution_count": 96,
   "metadata": {},
   "outputs": [
    {
     "name": "stdout",
     "output_type": "stream",
     "text": [
      "(12157, 3827)\n"
     ]
    }
   ],
   "source": [
    "tf_vectorizer = CountVectorizer(strip_accents = 'unicode',\n",
    "                                stop_words = 'english',\n",
    "                                lowercase = True,\n",
    "                                token_pattern = r'\\b[a-zA-Z]{3,}\\b',\n",
    "                                max_df = 0.5, \n",
    "                                min_df = 10)\n",
    "dtm_tf = tf_vectorizer.fit_transform(ny.project_essay_1)\n",
    "print(dtm_tf.shape)"
   ]
  },
  {
   "cell_type": "code",
   "execution_count": 100,
   "metadata": {},
   "outputs": [
    {
     "name": "stdout",
     "output_type": "stream",
     "text": [
      "(12157, 3827)\n"
     ]
    }
   ],
   "source": [
    "from sklearn.feature_extraction.text import CountVectorizer, TfidfVectorizer\n",
    "tfidf_vectorizer = TfidfVectorizer(**tf_vectorizer.get_params())\n",
    "dtm_tfidf = tfidf_vectorizer.fit_transform(ny.project_essay_1)\n",
    "print(dtm_tfidf.shape)"
   ]
  },
  {
   "cell_type": "code",
   "execution_count": 101,
   "metadata": {},
   "outputs": [
    {
     "data": {
      "text/plain": [
       "LatentDirichletAllocation(batch_size=128, doc_topic_prior=None,\n",
       "             evaluate_every=-1, learning_decay=0.7, learning_method=None,\n",
       "             learning_offset=10.0, max_doc_update_iter=100, max_iter=10,\n",
       "             mean_change_tol=0.001, n_components=10, n_jobs=1, n_topics=20,\n",
       "             perp_tol=0.1, random_state=0, topic_word_prior=None,\n",
       "             total_samples=1000000.0, verbose=0)"
      ]
     },
     "execution_count": 101,
     "metadata": {},
     "output_type": "execute_result"
    }
   ],
   "source": [
    "# for TF DTM# for T \n",
    "lda_tf = LatentDirichletAllocation(n_topics=20, random_state=0)\n",
    "lda_tf.fit(dtm_tf)\n",
    "# for TFIDF DTM\n",
    "lda_tfidf = LatentDirichletAllocation(n_topics=20, random_state=0)\n",
    "lda_tfidf.fit(dtm_tfidf)"
   ]
  },
  {
   "cell_type": "markdown",
   "metadata": {},
   "source": [
    "### Visualizing Topic Models"
   ]
  },
  {
   "cell_type": "code",
   "execution_count": 109,
   "metadata": {
    "scrolled": false
   },
   "outputs": [],
   "source": [
    "import pyLDAvis.sklearn\n",
    "pyLDAvis.enable_notebook()"
   ]
  },
  {
   "cell_type": "code",
   "execution_count": 110,
   "metadata": {},
   "outputs": [
    {
     "data": {
      "text/html": [
       "\n",
       "<link rel=\"stylesheet\" type=\"text/css\" href=\"https://cdn.rawgit.com/bmabey/pyLDAvis/files/ldavis.v1.0.0.css\">\n",
       "\n",
       "\n",
       "<div id=\"ldavis_el5847182753561927356678298\"></div>\n",
       "<script type=\"text/javascript\">\n",
       "\n",
       "var ldavis_el5847182753561927356678298_data = {\"mdsDat\": {\"Freq\": [67.91372910632329, 8.216426396513233, 4.351058314636357, 2.5380070711471294, 2.0670904540047674, 1.4531674913052852, 1.2020264655762252, 1.1957606290755867, 1.1333522934987457, 1.0872169151908522, 1.071230919309963, 1.0017891983742402, 0.9989386183794743, 0.8991383007545468, 0.8946135774371289, 0.8478398045798495, 0.8069984030737372, 0.8046920734362827, 0.7928663904484842, 0.7240575769348276], \"cluster\": [1, 1, 1, 1, 1, 1, 1, 1, 1, 1, 1, 1, 1, 1, 1, 1, 1, 1, 1, 1], \"topics\": [1, 2, 3, 4, 5, 6, 7, 8, 9, 10, 11, 12, 13, 14, 15, 16, 17, 18, 19, 20], \"x\": [0.11177751866980698, 0.21152149802317569, 0.2665066593575287, 0.23254674052226731, 0.12510507924568, -0.00041095349643053284, 0.027031333030747402, -0.04030723568213905, -0.0436199642590517, -0.06927485000476095, -0.060168255651682094, -0.017959240619080136, -0.0782851974780564, -0.10598853316102042, -0.07037961644479769, -0.10566795345029134, -0.10190643060285966, -0.10169713728916871, -0.09895793313559327, -0.07986552757427383], \"y\": [0.034816947146136076, 0.07378568803739163, 0.14052029108506423, -0.307049984460299, 0.06438138917780908, -0.002914001850730074, 0.0592329128197704, -0.05504948094605799, 0.023259329861031672, -0.022619879522434116, 0.010666774776491278, 0.021248765252370464, -0.013939993220241661, -0.0009512983443077849, -0.029517394118839232, -0.006175067024549885, 0.00047009842584328296, -5.157498140039755e-05, 0.002074706498666047, 0.007811771388285334]}, \"tinfo\": {\"Category\": [\"Default\", \"Default\", \"Default\", \"Default\", \"Default\", \"Default\", \"Default\", \"Default\", \"Default\", \"Default\", \"Default\", \"Default\", \"Default\", \"Default\", \"Default\", \"Default\", \"Default\", \"Default\", \"Default\", \"Default\", \"Default\", \"Default\", \"Default\", \"Default\", \"Default\", \"Default\", \"Default\", \"Default\", \"Default\", \"Default\", \"Topic1\", \"Topic1\", \"Topic1\", \"Topic1\", \"Topic1\", \"Topic1\", \"Topic1\", \"Topic1\", \"Topic1\", \"Topic1\", \"Topic1\", \"Topic1\", \"Topic1\", \"Topic1\", \"Topic1\", \"Topic1\", \"Topic1\", \"Topic1\", \"Topic1\", \"Topic1\", \"Topic1\", \"Topic1\", \"Topic1\", \"Topic1\", \"Topic1\", \"Topic1\", \"Topic1\", \"Topic1\", \"Topic1\", \"Topic1\", \"Topic1\", \"Topic1\", \"Topic1\", \"Topic1\", \"Topic1\", \"Topic1\", \"Topic1\", \"Topic1\", \"Topic1\", \"Topic1\", \"Topic1\", \"Topic1\", \"Topic1\", \"Topic1\", \"Topic1\", \"Topic1\", \"Topic1\", \"Topic1\", \"Topic1\", \"Topic1\", \"Topic1\", \"Topic1\", \"Topic1\", \"Topic1\", \"Topic1\", \"Topic1\", \"Topic1\", \"Topic1\", \"Topic1\", \"Topic1\", \"Topic1\", \"Topic1\", \"Topic1\", \"Topic1\", \"Topic1\", \"Topic1\", \"Topic1\", \"Topic1\", \"Topic1\", \"Topic1\", \"Topic1\", \"Topic1\", \"Topic1\", \"Topic1\", \"Topic1\", \"Topic1\", \"Topic1\", \"Topic1\", \"Topic1\", \"Topic1\", \"Topic1\", \"Topic1\", \"Topic2\", \"Topic2\", \"Topic2\", \"Topic2\", \"Topic2\", \"Topic2\", \"Topic2\", \"Topic2\", \"Topic2\", \"Topic2\", \"Topic2\", \"Topic2\", \"Topic2\", \"Topic2\", \"Topic2\", \"Topic2\", \"Topic2\", \"Topic2\", \"Topic2\", \"Topic2\", \"Topic2\", \"Topic2\", \"Topic2\", \"Topic2\", \"Topic2\", \"Topic2\", \"Topic2\", \"Topic2\", \"Topic2\", \"Topic2\", \"Topic2\", \"Topic2\", \"Topic2\", \"Topic2\", \"Topic2\", \"Topic2\", \"Topic2\", \"Topic2\", \"Topic2\", \"Topic2\", \"Topic2\", \"Topic2\", \"Topic2\", \"Topic2\", \"Topic2\", \"Topic2\", \"Topic2\", \"Topic2\", \"Topic2\", \"Topic2\", \"Topic2\", \"Topic2\", \"Topic2\", \"Topic2\", \"Topic2\", \"Topic2\", \"Topic2\", \"Topic2\", \"Topic2\", \"Topic2\", \"Topic2\", \"Topic2\", \"Topic2\", \"Topic2\", \"Topic2\", \"Topic2\", \"Topic2\", \"Topic2\", \"Topic2\", \"Topic2\", \"Topic2\", \"Topic2\", \"Topic3\", \"Topic3\", \"Topic3\", \"Topic3\", \"Topic3\", \"Topic3\", \"Topic3\", \"Topic3\", \"Topic3\", \"Topic3\", \"Topic3\", \"Topic3\", \"Topic3\", \"Topic3\", \"Topic3\", \"Topic3\", \"Topic3\", \"Topic3\", \"Topic3\", \"Topic3\", \"Topic3\", \"Topic3\", \"Topic3\", \"Topic3\", \"Topic3\", \"Topic3\", \"Topic3\", \"Topic3\", \"Topic3\", \"Topic3\", \"Topic3\", \"Topic3\", \"Topic3\", \"Topic3\", \"Topic3\", \"Topic3\", \"Topic3\", \"Topic3\", \"Topic3\", \"Topic3\", \"Topic3\", \"Topic3\", \"Topic3\", \"Topic3\", \"Topic3\", \"Topic3\", \"Topic3\", \"Topic3\", \"Topic3\", \"Topic3\", \"Topic3\", \"Topic3\", \"Topic3\", \"Topic3\", \"Topic3\", \"Topic3\", \"Topic3\", \"Topic3\", \"Topic3\", \"Topic3\", \"Topic3\", \"Topic3\", \"Topic3\", \"Topic3\", \"Topic4\", \"Topic4\", \"Topic4\", \"Topic4\", \"Topic4\", \"Topic4\", \"Topic4\", \"Topic4\", \"Topic4\", \"Topic4\", \"Topic4\", \"Topic4\", \"Topic4\", \"Topic4\", \"Topic4\", \"Topic4\", \"Topic4\", \"Topic4\", \"Topic4\", \"Topic4\", \"Topic4\", \"Topic4\", \"Topic4\", \"Topic4\", \"Topic4\", \"Topic4\", \"Topic4\", \"Topic4\", \"Topic4\", \"Topic4\", \"Topic4\", \"Topic4\", \"Topic4\", \"Topic4\", \"Topic4\", \"Topic4\", \"Topic4\", \"Topic4\", \"Topic4\", \"Topic4\", \"Topic4\", \"Topic4\", \"Topic4\", \"Topic4\", \"Topic4\", \"Topic4\", \"Topic4\", \"Topic4\", \"Topic4\", \"Topic4\", \"Topic4\", \"Topic4\", \"Topic4\", \"Topic4\", \"Topic4\", \"Topic4\", \"Topic4\", \"Topic4\", \"Topic4\", \"Topic4\", \"Topic5\", \"Topic5\", \"Topic5\", \"Topic5\", \"Topic5\", \"Topic5\", \"Topic5\", \"Topic5\", \"Topic5\", \"Topic5\", \"Topic5\", \"Topic5\", \"Topic5\", \"Topic5\", \"Topic5\", \"Topic5\", \"Topic5\", \"Topic5\", \"Topic5\", \"Topic5\", \"Topic5\", \"Topic5\", \"Topic5\", \"Topic5\", \"Topic5\", \"Topic5\", \"Topic5\", \"Topic5\", \"Topic5\", \"Topic5\", \"Topic5\", \"Topic5\", \"Topic5\", \"Topic5\", \"Topic5\", \"Topic5\", \"Topic5\", \"Topic5\", \"Topic5\", \"Topic5\", \"Topic5\", \"Topic5\", \"Topic5\", \"Topic5\", \"Topic5\", \"Topic5\", \"Topic5\", \"Topic5\", \"Topic5\", \"Topic5\", \"Topic5\", \"Topic5\", \"Topic6\", \"Topic6\", \"Topic6\", \"Topic6\", \"Topic6\", \"Topic6\", \"Topic6\", \"Topic6\", \"Topic6\", \"Topic6\", \"Topic6\", \"Topic6\", \"Topic6\", \"Topic6\", \"Topic6\", \"Topic6\", \"Topic6\", \"Topic6\", \"Topic6\", \"Topic6\", \"Topic6\", \"Topic6\", \"Topic6\", \"Topic6\", \"Topic6\", \"Topic6\", \"Topic6\", \"Topic6\", \"Topic6\", \"Topic6\", \"Topic6\", \"Topic6\", \"Topic6\", \"Topic6\", \"Topic6\", \"Topic6\", \"Topic6\", \"Topic6\", \"Topic6\", \"Topic6\", \"Topic6\", \"Topic7\", \"Topic7\", \"Topic7\", \"Topic7\", \"Topic7\", \"Topic7\", \"Topic7\", \"Topic7\", \"Topic7\", \"Topic7\", \"Topic7\", \"Topic7\", \"Topic7\", \"Topic7\", \"Topic7\", \"Topic7\", \"Topic7\", \"Topic7\", \"Topic7\", \"Topic7\", \"Topic7\", \"Topic7\", \"Topic7\", \"Topic7\", \"Topic7\", \"Topic7\", \"Topic7\", \"Topic7\", \"Topic7\", \"Topic7\", \"Topic7\", \"Topic7\", \"Topic7\", \"Topic7\", \"Topic7\", \"Topic7\", \"Topic7\", \"Topic7\", \"Topic7\", \"Topic7\", \"Topic7\", \"Topic7\", \"Topic7\", \"Topic7\", \"Topic7\", \"Topic7\", \"Topic7\", \"Topic8\", \"Topic8\", \"Topic8\", \"Topic8\", \"Topic8\", \"Topic8\", \"Topic8\", \"Topic8\", \"Topic8\", \"Topic8\", \"Topic8\", \"Topic8\", \"Topic8\", \"Topic8\", \"Topic8\", \"Topic8\", \"Topic8\", \"Topic8\", \"Topic8\", \"Topic8\", \"Topic8\", \"Topic8\", \"Topic8\", \"Topic8\", \"Topic8\", \"Topic8\", \"Topic8\", \"Topic8\", \"Topic8\", \"Topic8\", \"Topic8\", \"Topic8\", \"Topic8\", \"Topic8\", \"Topic8\", \"Topic8\", \"Topic8\", \"Topic8\", \"Topic8\", \"Topic8\", \"Topic8\", \"Topic8\", \"Topic8\", \"Topic8\", \"Topic8\", \"Topic8\", \"Topic8\", \"Topic8\", \"Topic8\", \"Topic9\", \"Topic9\", \"Topic9\", \"Topic9\", \"Topic9\", \"Topic9\", \"Topic9\", \"Topic9\", \"Topic9\", \"Topic9\", \"Topic9\", \"Topic9\", \"Topic9\", \"Topic9\", \"Topic9\", \"Topic9\", \"Topic9\", \"Topic9\", \"Topic9\", \"Topic9\", \"Topic9\", \"Topic9\", \"Topic9\", \"Topic9\", \"Topic9\", \"Topic9\", \"Topic9\", \"Topic9\", \"Topic9\", \"Topic9\", \"Topic9\", \"Topic9\", \"Topic9\", \"Topic9\", \"Topic9\", \"Topic9\", \"Topic9\", \"Topic9\", \"Topic9\", \"Topic9\", \"Topic9\", \"Topic9\", \"Topic9\", \"Topic9\", \"Topic9\", \"Topic9\", \"Topic9\", \"Topic9\", \"Topic9\", \"Topic9\", \"Topic9\", \"Topic10\", \"Topic10\", \"Topic10\", \"Topic10\", \"Topic10\", \"Topic10\", \"Topic10\", \"Topic10\", \"Topic10\", \"Topic10\", \"Topic10\", \"Topic10\", \"Topic10\", \"Topic10\", \"Topic10\", \"Topic10\", \"Topic10\", \"Topic10\", \"Topic10\", \"Topic10\", \"Topic10\", \"Topic10\", \"Topic10\", \"Topic10\", \"Topic10\", \"Topic10\", \"Topic10\", \"Topic10\", \"Topic10\", \"Topic10\", \"Topic10\", \"Topic10\", \"Topic10\", \"Topic10\", \"Topic10\", \"Topic10\", \"Topic10\", \"Topic10\", \"Topic10\", \"Topic10\", \"Topic10\", \"Topic10\", \"Topic10\", \"Topic10\", \"Topic11\", \"Topic11\", \"Topic11\", \"Topic11\", \"Topic11\", \"Topic11\", \"Topic11\", \"Topic11\", \"Topic11\", \"Topic11\", \"Topic11\", \"Topic11\", \"Topic11\", \"Topic11\", \"Topic11\", \"Topic11\", \"Topic11\", \"Topic11\", \"Topic11\", \"Topic11\", \"Topic11\", \"Topic11\", \"Topic11\", \"Topic11\", \"Topic11\", \"Topic11\", \"Topic11\", \"Topic11\", \"Topic11\", \"Topic11\", \"Topic11\", \"Topic11\", \"Topic11\", \"Topic11\", \"Topic11\", \"Topic11\", \"Topic11\", \"Topic11\", \"Topic11\", \"Topic11\", \"Topic11\", \"Topic11\", \"Topic11\", \"Topic11\", \"Topic12\", \"Topic12\", \"Topic12\", \"Topic12\", \"Topic12\", \"Topic12\", \"Topic12\", \"Topic12\", \"Topic12\", \"Topic12\", \"Topic12\", \"Topic12\", \"Topic12\", \"Topic12\", \"Topic12\", \"Topic12\", \"Topic12\", \"Topic12\", \"Topic12\", \"Topic12\", \"Topic12\", \"Topic12\", \"Topic12\", \"Topic12\", \"Topic12\", \"Topic12\", \"Topic12\", \"Topic12\", \"Topic12\", \"Topic12\", \"Topic12\", \"Topic12\", \"Topic12\", \"Topic12\", \"Topic12\", \"Topic12\", \"Topic12\", \"Topic12\", \"Topic12\", \"Topic12\", \"Topic12\", \"Topic12\", \"Topic12\", \"Topic12\", \"Topic12\", \"Topic12\", \"Topic12\", \"Topic13\", \"Topic13\", \"Topic13\", \"Topic13\", \"Topic13\", \"Topic13\", \"Topic13\", \"Topic13\", \"Topic13\", \"Topic13\", \"Topic13\", \"Topic13\", \"Topic13\", \"Topic13\", \"Topic13\", \"Topic13\", \"Topic13\", \"Topic13\", \"Topic13\", \"Topic13\", \"Topic13\", \"Topic13\", \"Topic13\", \"Topic13\", \"Topic13\", \"Topic13\", \"Topic13\", \"Topic13\", \"Topic13\", \"Topic13\", \"Topic13\", \"Topic13\", \"Topic13\", \"Topic13\", \"Topic13\", \"Topic13\", \"Topic13\", \"Topic13\", \"Topic13\", \"Topic14\", \"Topic14\", \"Topic14\", \"Topic14\", \"Topic14\", \"Topic14\", \"Topic14\", \"Topic14\", \"Topic14\", \"Topic14\", \"Topic14\", \"Topic14\", \"Topic14\", \"Topic14\", \"Topic14\", \"Topic14\", \"Topic14\", \"Topic14\", \"Topic14\", \"Topic14\", \"Topic14\", \"Topic14\", \"Topic14\", \"Topic14\", \"Topic14\", \"Topic14\", \"Topic14\", \"Topic14\", \"Topic14\", \"Topic14\", \"Topic14\", \"Topic14\", \"Topic14\", \"Topic14\", \"Topic14\", \"Topic14\", \"Topic15\", \"Topic15\", \"Topic15\", \"Topic15\", \"Topic15\", \"Topic15\", \"Topic15\", \"Topic15\", \"Topic15\", \"Topic15\", \"Topic15\", \"Topic15\", \"Topic15\", \"Topic15\", \"Topic15\", \"Topic15\", \"Topic15\", \"Topic15\", \"Topic15\", \"Topic15\", \"Topic15\", \"Topic15\", \"Topic15\", \"Topic15\", \"Topic15\", \"Topic15\", \"Topic15\", \"Topic15\", \"Topic15\", \"Topic15\", \"Topic15\", \"Topic15\", \"Topic15\", \"Topic15\", \"Topic15\", \"Topic15\", \"Topic16\", \"Topic16\", \"Topic16\", \"Topic16\", \"Topic16\", \"Topic16\", \"Topic16\", \"Topic16\", \"Topic16\", \"Topic16\", \"Topic16\", \"Topic16\", \"Topic16\", \"Topic16\", \"Topic16\", \"Topic16\", \"Topic16\", \"Topic16\", \"Topic16\", \"Topic16\", \"Topic16\", \"Topic16\", \"Topic16\", \"Topic16\", \"Topic16\", \"Topic16\", \"Topic16\", \"Topic16\", \"Topic16\", \"Topic16\", \"Topic16\", \"Topic16\", \"Topic16\", \"Topic17\", \"Topic17\", \"Topic17\", \"Topic17\", \"Topic17\", \"Topic17\", \"Topic17\", \"Topic17\", \"Topic17\", \"Topic17\", \"Topic17\", \"Topic17\", \"Topic17\", \"Topic17\", \"Topic17\", \"Topic17\", \"Topic17\", \"Topic17\", \"Topic17\", \"Topic17\", \"Topic17\", \"Topic17\", \"Topic17\", \"Topic17\", \"Topic17\", \"Topic17\", \"Topic17\", \"Topic17\", \"Topic17\", \"Topic17\", \"Topic17\", \"Topic17\", \"Topic17\", \"Topic17\", \"Topic17\", \"Topic17\", \"Topic17\", \"Topic17\", \"Topic17\", \"Topic17\", \"Topic18\", \"Topic18\", \"Topic18\", \"Topic18\", \"Topic18\", \"Topic18\", \"Topic18\", \"Topic18\", \"Topic18\", \"Topic18\", \"Topic18\", \"Topic18\", \"Topic18\", \"Topic18\", \"Topic18\", \"Topic18\", \"Topic18\", \"Topic18\", \"Topic18\", \"Topic18\", \"Topic18\", \"Topic18\", \"Topic18\", \"Topic18\", \"Topic18\", \"Topic18\", \"Topic18\", \"Topic18\", \"Topic18\", \"Topic18\", \"Topic18\", \"Topic18\", \"Topic19\", \"Topic19\", \"Topic19\", \"Topic19\", \"Topic19\", \"Topic19\", \"Topic19\", \"Topic19\", \"Topic19\", \"Topic19\", \"Topic19\", \"Topic19\", \"Topic19\", \"Topic19\", \"Topic19\", \"Topic19\", \"Topic19\", \"Topic19\", \"Topic19\", \"Topic19\", \"Topic19\", \"Topic19\", \"Topic19\", \"Topic19\", \"Topic19\", \"Topic19\", \"Topic19\", \"Topic19\", \"Topic19\", \"Topic19\", \"Topic19\", \"Topic19\", \"Topic19\", \"Topic19\", \"Topic19\", \"Topic19\", \"Topic19\", \"Topic19\", \"Topic19\", \"Topic19\", \"Topic19\", \"Topic19\", \"Topic19\", \"Topic19\", \"Topic19\", \"Topic20\", \"Topic20\", \"Topic20\", \"Topic20\", \"Topic20\", \"Topic20\", \"Topic20\", \"Topic20\", \"Topic20\", \"Topic20\", \"Topic20\", \"Topic20\", \"Topic20\", \"Topic20\", \"Topic20\", \"Topic20\", \"Topic20\", \"Topic20\", \"Topic20\", \"Topic20\", \"Topic20\", \"Topic20\", \"Topic20\", \"Topic20\", \"Topic20\", \"Topic20\", \"Topic20\", \"Topic20\", \"Topic20\", \"Topic20\", \"Topic20\", \"Topic20\", \"Topic20\", \"Topic20\", \"Topic20\", \"Topic20\", \"Topic20\", \"Topic20\", \"Topic20\", \"Topic20\", \"Topic20\", \"Topic20\", \"Topic20\", \"Topic20\", \"Topic20\", \"Topic20\", \"Topic20\", \"Topic20\", \"Topic20\", \"Topic20\", \"Topic20\", \"Topic20\", \"Topic20\", \"Topic20\", \"Topic20\", \"Topic20\", \"Topic20\", \"Topic20\", \"Topic20\", \"Topic20\"], \"Freq\": [361.0, 403.0, 199.0, 400.0, 336.0, 244.0, 231.0, 314.0, 243.0, 424.0, 201.0, 190.0, 280.0, 269.0, 248.0, 286.0, 183.0, 286.0, 161.0, 244.0, 139.0, 155.0, 171.0, 161.0, 136.0, 242.0, 181.0, 140.0, 212.0, 203.0, 98.31107699102375, 81.83776065925632, 60.276328231704795, 52.11807556106197, 50.43945639107535, 45.36355680331896, 44.861400870513, 43.97635521517909, 72.03311356256621, 144.80438370101123, 40.997135822119624, 39.20198561714165, 38.92581188776028, 36.89223379804491, 37.52564102299268, 62.103170967090904, 35.72099929347745, 35.594773507974324, 35.5577997054545, 35.21766880527595, 84.52821820936178, 34.57971758279581, 34.2039142242843, 34.12789254281374, 33.93466882756667, 33.76810565640287, 33.707917402772416, 33.50241985836324, 33.41743477815521, 33.342002362346484, 89.28377088440045, 94.98118703211463, 171.13942666594238, 103.94720226194639, 140.96273447830956, 58.478400037485144, 48.653144569380146, 50.67881038537847, 84.24898105006642, 119.58913631676016, 92.00279045325254, 220.82046112974243, 170.66467776434604, 79.27364167599501, 78.0015346492784, 223.82643487287623, 106.22575636321451, 210.05032104953077, 104.4430590727637, 103.36349758294034, 215.85801257755233, 92.07188815020884, 111.42907236543113, 127.32121459100443, 114.74538256505352, 331.6872397892509, 284.83562308142973, 250.25597910501097, 157.56711814076849, 227.58771171477215, 219.34210971401976, 142.55156829668158, 296.0247915690078, 164.65996678077022, 161.26509313859452, 285.5209694118675, 206.4513066634625, 135.67061748604925, 171.99166294867314, 181.19073346353557, 183.59243650887552, 203.810366325389, 217.52726692095257, 185.31772208151827, 176.33875245313814, 199.15813480950095, 152.82447987753886, 156.69273048741601, 205.29657978035146, 171.41369290887664, 164.51257473334687, 153.13129960371822, 19.566445731297335, 16.881367419942322, 12.613003971231239, 11.880640159925049, 11.673432765237305, 10.807731249805018, 10.472872386600573, 10.046253418948693, 9.902777747022197, 9.595751303409045, 9.55967861052997, 9.536276566737133, 9.164201079365283, 8.994583930533393, 8.901654173038532, 8.806058580032163, 8.72921823552844, 8.721020228628133, 8.634527907623013, 8.628944875437064, 8.565821826220848, 8.267272442516859, 8.171935635634991, 7.981837985543565, 7.852897194001901, 7.775602016337091, 7.760103333841351, 7.757124934028944, 9.65074951070001, 7.560987599945333, 10.906115739828786, 11.100657594683764, 14.450211495167181, 13.341572178742219, 17.68649449402459, 11.244794687200061, 9.718701836375644, 60.862799410493366, 24.307305180268106, 33.038512435842954, 28.690521995544227, 19.853927521887513, 22.888864154549907, 58.984534729792266, 44.659070595784435, 23.558376740609862, 15.821428104437235, 45.80628267707948, 28.788651890792018, 48.78880321901668, 36.5709046101525, 18.368256176324156, 18.043605873755443, 23.5858307910242, 28.516706700154497, 39.23810633565463, 29.016879676838176, 25.454175860283573, 31.523710790327208, 29.846353341192945, 32.766932516797034, 31.502675275067595, 25.721139457442, 27.48429315189769, 26.66361311723741, 32.950704964040035, 26.4111453194565, 27.69059251701221, 25.267808458923938, 24.755986521900162, 24.578300796800633, 23.82127226515393, 21.914566453336842, 18.943504101235998, 17.941818712615753, 17.838457192745487, 15.221075532537045, 14.55123768821154, 13.415185771065428, 11.414422289201044, 18.745621215243435, 10.22813795456317, 9.695154505820172, 9.441698524559776, 8.897984514235672, 8.616456352641448, 8.432390968443547, 8.355935432922282, 8.314050023595843, 7.981848847522038, 7.813490891819896, 7.503221632123595, 7.198853404860895, 6.719859584506245, 6.674613640851388, 6.388602214150478, 6.1932030652425, 6.058872954949913, 6.020471524248535, 5.911516121810777, 5.818951899438698, 5.689938544966268, 26.215649797254144, 13.040547963454117, 14.494264220768095, 18.473159400795264, 50.364523719177875, 10.233045839065866, 44.31427504388182, 10.704779132210922, 21.455991591689298, 18.691155848023197, 12.706426272730543, 23.501917441941963, 18.699539633637396, 54.97774676095666, 22.97970532782278, 27.36177696920329, 12.734791458394488, 41.184032110007315, 38.69743992142421, 19.25207374113873, 13.062413730119301, 14.314911145784881, 33.11113209085517, 17.179778426909092, 27.246071227819357, 27.255136215677275, 21.56934537227382, 19.99033894876723, 17.539720144112568, 25.292247001167755, 24.394680123173302, 20.087994928833037, 20.045699687555654, 17.824221615271018, 21.436614646874556, 15.557082314675117, 8.532180938145252, 8.17513969474747, 6.8708094940749245, 6.805093385666588, 37.88508782943983, 6.2380754901314885, 5.933481898907204, 5.787546357131784, 34.1479129580975, 18.844985545668884, 5.260602434275374, 4.871977707669027, 19.93936394993686, 4.578179705995406, 4.492744333543929, 4.393095989691062, 4.390326701798658, 3.9809002178721937, 3.7582503309036452, 3.7238927926932157, 3.614279904278056, 3.6060057372772705, 3.5735537181376587, 14.159834393233487, 3.2713568595147247, 12.467525489043023, 3.20204922296267, 3.1785535586851554, 41.64260052671777, 15.448969837356755, 47.51554830684048, 9.330933081060182, 17.431964694790246, 17.93007629647865, 7.112027620613612, 18.301468186161962, 70.33870902974287, 34.43342570926812, 8.803624155144748, 45.27772882082706, 43.82321428374289, 15.768853091630417, 27.476873727237166, 33.903440487984554, 18.85538186778826, 35.233461949099706, 31.533328153960174, 29.717717251966647, 33.31212558239366, 18.460825343747434, 26.057116866784188, 17.671724640407092, 26.262029537354433, 24.184137311660475, 22.758748979419956, 27.574429507589297, 16.93037353899382, 18.2787627104421, 14.903622360326752, 11.40638815912743, 10.959155713680635, 10.726413398997785, 28.00198314006747, 9.274929661662211, 12.692880808613529, 8.760020992117338, 7.279652824431256, 7.260414750365796, 6.889357658475686, 6.871936475860007, 15.0098742804654, 6.811801710334508, 6.426366182104433, 12.542382080803392, 6.185244374810691, 5.848213546442117, 5.792288009408842, 5.613708107766627, 5.46724869921978, 5.463683771101756, 5.398711502053716, 5.3746446843544105, 15.752116428231549, 5.17277071521346, 5.164511871594129, 10.664639201406791, 5.124409358691059, 4.896596864534882, 11.201512161174243, 17.36587544043998, 8.87880845021235, 11.114539345216848, 15.4937475662306, 6.750298298257316, 13.27955011557566, 11.814465972900933, 6.92675744815559, 8.36140526532004, 7.024512944881239, 12.856283484134803, 8.233102917363821, 8.155639982582361, 11.196171181918587, 8.827846478812928, 9.1342645539576, 9.232615536915398, 8.272274534388025, 7.609240157571224, 7.702660281703944, 7.62898545515713, 14.486430262210371, 12.59920133805887, 11.83147772273849, 11.399502518163324, 11.1633670480882, 10.187300788288308, 8.820360257504433, 8.229071766745083, 7.3640740534051945, 7.275930830654002, 7.15436288027024, 7.055692733394574, 6.732377247530181, 6.703978454525103, 6.516923744248187, 6.362849280336599, 10.879448937382532, 6.242283308106588, 6.175865731940829, 6.150820768578416, 5.957550072573202, 5.947682208456715, 5.930037062327799, 5.9254017017861145, 12.757606992643302, 5.6779176232871515, 5.674590576671901, 5.664931356002873, 5.332792606314576, 5.285764599489921, 8.689344696560386, 7.928561839093087, 10.47572229307071, 10.401427978988524, 11.239758762449341, 7.436940339648172, 7.011492168329919, 8.97316645398716, 8.529179958845164, 8.873455150505611, 6.348159782616298, 11.198780944808203, 10.451497344031694, 9.710878510212702, 8.777375610943585, 8.353898577307282, 8.128363707076545, 7.6141008608442755, 7.169059072114593, 6.410493466913485, 6.22058020937735, 5.873558058202421, 11.575657893216915, 11.398985978608192, 5.380875004740367, 5.085386740818929, 4.99083414168254, 4.593349078598721, 4.329567800003398, 4.277644577192606, 4.250991693757591, 4.2134793172425065, 4.117746008024361, 4.0339374813834965, 4.032680137963603, 3.9161313584763975, 3.710607147010005, 3.6372218000724432, 3.3865447920599565, 10.052813896400538, 8.7070875883069, 7.773794388215894, 23.51803599980192, 12.060424707761872, 7.943375309479739, 5.780304858403482, 8.732946630477787, 8.805965367612538, 7.854942442476615, 8.069646726203066, 8.148146334619996, 7.969507200933235, 6.6668242244149445, 8.428058265071451, 6.525633030119691, 6.66532029635249, 6.483643876635006, 5.943647076849213, 12.031572263355471, 9.908655844037725, 9.709402435887542, 9.198960575113345, 7.4738019716869974, 7.321078494228608, 13.274804226500772, 7.095523916432599, 6.179238875678181, 6.049066455044001, 5.758015577330505, 5.488806029040109, 5.344543600618654, 5.163549446704862, 5.068392920708048, 4.804943105068274, 4.803082041107464, 4.706326610697581, 4.549364144774271, 4.185733598031108, 4.148644057766305, 4.137583580571193, 4.096201115123535, 4.082784632943815, 3.7129856931020577, 3.539761874625466, 3.539761877808024, 3.5397618669798754, 3.5076910421927328, 3.434243635586393, 7.208059353862557, 5.142544879873431, 9.58140127479151, 4.096761703513337, 5.482579324805149, 10.874853698123102, 14.595490787035589, 8.126656922534988, 8.388981714767722, 7.4520213393660235, 6.808618188368368, 5.54211349830271, 7.226062815164373, 8.232348789014555, 7.345786919854972, 5.266938474452608, 6.444921619129893, 6.068846574534643, 5.9458822750013365, 16.875716394058543, 16.216444574369966, 8.131169588856965, 7.63351872927628, 7.253313181062548, 6.8159051156225114, 6.736242153627908, 6.736242153487816, 6.294252357718937, 6.195957390683337, 5.459953456614531, 5.242790890457535, 5.212944134367054, 5.038045543331754, 4.991625261208794, 4.99067700644906, 4.8463413958861405, 4.409176531640954, 4.164606702510433, 4.157840984642419, 3.936182755864993, 6.697493965241489, 3.494607924514501, 3.2582610067882314, 15.06720916933241, 3.019111270504597, 6.168549784427801, 14.586500046846925, 15.49680467417394, 12.865234036237409, 13.690746018171582, 7.1953265918753875, 21.47755215535009, 15.02709217374684, 11.038389464182583, 10.907694365399017, 17.23886164672194, 14.845290518891655, 9.871967120682523, 10.10477141591201, 10.129023352171236, 12.054649900713578, 9.380640710552507, 9.087412552944407, 10.50063172752672, 9.119627815489658, 8.108694045818227, 8.748953746358163, 7.830175648198181, 7.1824742915909825, 6.936967458123003, 11.779415298724686, 11.573281296425693, 11.504961079365675, 9.590186624518546, 9.11234982773765, 7.787752828495292, 7.528956168185596, 7.452152559719411, 6.697353049988777, 6.356731219260696, 6.260999478878653, 6.232343471052896, 5.674566484991321, 4.9296568416529265, 4.4620314790563915, 4.429394274754116, 4.329033584601654, 3.7353876992777133, 3.575644461110204, 3.5503179170363492, 3.3978051702317007, 2.7542843427489845, 9.11559377249319, 5.158563804022511, 5.935253822095072, 5.286262363617585, 6.438000457011048, 6.075575424413577, 6.041419500054011, 2.493576090817758, 7.066262005665247, 10.00158672035493, 13.008017080492577, 9.032992389814254, 11.373260782376306, 9.692377752897396, 6.404756376252754, 5.788278589304557, 6.126450574239151, 8.82847781375105, 9.069283991778203, 7.054843137627534, 7.3803494301264365, 6.001371775227184, 18.54296347757978, 16.1446693393189, 13.965727477859078, 13.656555391038221, 12.078122182108626, 11.69137274608771, 8.915725154443766, 8.578407066582068, 7.6725113133226195, 7.664826855416191, 7.663815016943802, 7.08912750040772, 7.044793453566902, 5.7570227567857755, 5.704142752531254, 5.687143121230948, 5.4698183732889465, 14.471583974567846, 4.899314080018147, 4.766933219308803, 3.841955616021361, 3.6908915835716054, 5.324553836005433, 16.34912566587354, 5.561232854683278, 10.994217775869418, 10.852191188527755, 6.137134863864028, 4.940651484605228, 5.352607627454249, 15.66628793063374, 11.400943054707449, 10.180563576144108, 11.568924307728912, 9.450809387471706, 10.417923331490632, 9.98791297478643, 8.426719510081115, 8.076901478574499, 7.868318285282629, 7.701694587432812, 7.655326172868218, 6.386338506436924, 7.221311471733408, 14.589240943980123, 8.24548799522542, 7.281474933283679, 6.9349721548499925, 6.932455700214266, 5.396964144193869, 5.152421661198776, 5.051295311755107, 4.889741682715903, 4.018003367095948, 3.9790130221172335, 17.552397026289327, 2.99233461125205, 11.100586449700085, 2.8456099076394152, 3.4363955597882923, 3.937615332997777, 10.708758711633303, 5.628451692146977, 4.033837384313644, 3.8362355285017804, 2.160838693458168, 14.118995612254341, 4.269609633833152, 3.5067148486283517, 5.15620200092371, 11.568019564035312, 11.540358902556765, 5.024133581846172, 1.894639768854215, 13.000222913466187, 8.331954049932403, 8.71563295215726, 10.610450771571974, 11.24553871333209, 7.865959197798511, 7.690138012050496, 11.415663116683413, 7.4557583871564015, 6.966509261355929, 6.143672485625061, 5.946465623983266, 5.5332357196233675, 5.466286592257314, 5.409995188451637, 5.310556794504598, 5.237969621008691, 16.065258715476062, 13.189725951200609, 11.023489475752813, 10.23192471450173, 7.589273236220974, 7.319026737065136, 6.714165417411162, 6.6442807602862874, 6.374589717707942, 6.3453880010685015, 6.244742152318358, 6.239281689873071, 6.049981280933442, 5.918093541673832, 5.757509238927587, 5.560607424055403, 5.325207195079602, 4.830465306930775, 4.526394643857443, 6.350758218277407, 7.871486058575069, 5.840487468460611, 4.071059479746648, 5.264707166262035, 4.603976610152172, 4.996408069973085, 5.436913180078179, 2.855242925463509, 4.867867247965418, 4.606413652496675, 5.239429762728674, 5.234830595136395, 4.798553073233511, 5.809882254732514, 6.552898033537714, 5.742746713722875, 5.469140351957001, 5.260868380966882, 5.266133968592939, 16.214697731407583, 13.187176321096066, 12.55082573576981, 11.492005613575138, 8.367464534503632, 7.994918493506538, 7.679827476235717, 7.289768470658584, 7.014676479250384, 6.4160703532362335, 5.965816364628992, 5.824834734229962, 5.572459407707327, 5.1622611355552825, 5.147772564683053, 5.105562942786954, 5.054327946108945, 5.054327929108135, 4.756523698791346, 4.60243776024112, 4.227123001675059, 4.227122983302087, 4.227122979802449, 3.794548041385594, 3.634943258535784, 3.1189439472344733, 5.843131314573715, 4.479417689270562, 5.733786533741699, 5.9972072559405065, 5.495072635832111, 8.705846417459073, 4.738779660093455, 5.397779962644008, 4.323842721521119, 4.297162877098415, 13.68187874897317, 20.390216791702297, 10.010191771357537, 8.850882846233722, 8.204816909913637, 5.245131294555874, 9.482147564583459, 9.51821555520116, 9.34064445219988, 4.604507183438848, 9.157191685706875, 3.7385078523070807, 8.075912189936364, 7.9931776626944195, 4.173907182717997, 7.825144316527922, 4.2652111447894425, 7.6864600717060725, 7.30047953740804, 7.3720466738623855, 3.824565331448464, 6.795836537754115, 1.1591087836476743, 6.577984136153448, 6.0677733472209185, 5.979401636397459, 5.5126372518711, 5.470170677307379, 8.817000022079636, 5.462108669532978, 7.1561407611440435, 5.470148226829774, 5.1515570392681385, 5.126766110555774, 4.990171057964396, 4.855823330748127, 13.575159470042623, 13.515561514937751, 10.808887495196952, 10.494730054879856, 10.442942800605165, 9.809419800388802, 7.966445749645863, 6.519264571707529, 6.488046994364316, 5.9954498378831, 5.099968991010438, 4.425628831825426, 4.42529289686409, 8.232883207160167, 8.05894883910549, 4.844334708352351, 4.318305544270069, 4.817027183244995, 4.8871473545983815, 4.196371934684102, 5.773455870549764, 5.2986015687535, 4.82281833210185, 3.8994985328708323, 6.456641170350132, 3.7920368309482706, 2.5414488124867964, 3.4462596644966705, 3.2141042504374453, 1.2840560108421706, 4.3256256789867855, 4.370635968722468, 3.319947740794894, 28.769716919824937, 13.02168266144767, 11.970923788147804, 9.878231670807436, 8.617343402537324, 6.886612487443491, 6.8616522391134716, 6.4216377267933895, 6.019365581641044, 11.851250750361283, 5.079370393798549, 4.442851605358404, 3.528999583987254, 5.74937272913498, 5.3669350640846, 3.9379703494905014, 3.9473948499863685, 2.3723561851896715, 3.4410566822419137, 5.531037277078225, 0.11126146244147941, 0.11126146279353367, 0.11126146309737275, 0.11126146298175806, 0.11126146381735887, 0.11126146398670703, 0.11126146338353105, 0.11126146349697891, 0.11126146277839384, 0.11126146358321162, 0.1116563533574088, 0.11126373920115713, 0.11126285060791863, 0.1112623370508626, 0.11126211145329251, 0.11126209586742952, 0.11126203144438503, 0.1112620103025652, 0.1112619237008957, 0.11126190447385934, 10.289694166547385, 8.960407258259426, 8.835245970051872, 8.813853254243686, 8.676780124118435, 8.05409418107316, 7.375486615460352, 7.224980254080147, 7.224980250138982, 7.2087334661561036, 6.11095734245888, 6.020865868551392, 4.410552692718728, 6.796545887071253, 7.809188935681849, 6.789287814330658, 1.9695225092052424, 3.332831473038852, 3.0053581170053523, 1.827312552383094, 1.799070801497262, 1.680594246944517, 3.0455889881761755, 1.5587362731069876, 3.169143054790381, 1.5584490744113695, 2.0038614373076578, 1.5367271747921285, 0.1128006983808585, 0.11280069893130233, 0.11281305540042613, 0.11281274258758256, 13.434474743183817, 11.669308694415825, 11.019541934770972, 8.956733776786985, 7.250672068132506, 6.020045577394983, 9.099329088426813, 9.592081620136875, 9.050458263930555, 8.66070459116001, 8.989158776418831, 9.417540744967452, 9.983056561555552, 9.03808371062997, 7.923627925357402, 0.1120290455079052, 0.11202904509517096, 0.11202904509097529, 0.11202904571168727, 0.11202904632880539, 0.11202904522884806, 0.1120290463339226, 0.11202904617836965, 0.11202904604003594, 0.11202904576920131, 0.11202904517715476, 0.11202904543664527, 0.11202904562437802, 0.11202904676860874, 0.11202904528156873, 0.11203020699436375, 0.11202952473081905, 0.11202941016217256, 0.11202936372326733, 0.11202927781880156, 0.11202926819201584, 0.11202925580823436, 0.11202924744545986, 0.11202922203677768, 0.1120291976060094, 0.11202919263946799, 0.1120291784503544, 0.11202917294526285, 0.11202916952225817, 0.11202916891229811, 0.1353380389509755, 0.13533803786480397, 0.13533803799035155, 0.13533803764950872, 0.13533803903094332, 0.1353380370051518, 0.13533803719369353, 0.13533803851424414, 0.13533803919521767, 0.13533803802384708, 0.1353380382630734, 0.1353380382179286, 0.1353380380281375, 0.1353380373443218, 0.13533803810442255, 0.13533803874679504, 0.13533803774177436, 0.1353380387678109, 0.13533803798864863, 0.13533803717221024, 0.13533803866655233, 0.13533803834610192, 0.1353380380545171, 0.13533803774000688, 0.13533803773315595, 0.13533803859631063, 0.13533803832239763, 0.13533803723572208, 0.135338037797542, 0.13533803741573083, 0.13533813404025274, 0.13533811114776756, 0.13533809917263032, 0.13533809398473978, 0.13533809023038934, 0.13533808923566462, 0.13533808579415782, 0.135338080610571, 0.13533808016697252, 0.13533807875732862, 0.1353380769580552, 0.1353380758597537, 0.13533807471358833, 0.13533807437539447, 0.13533807420704727, 0.1353380739368632, 0.13533807329742495, 0.13533807319431415, 0.13533807204027554, 0.13533807185245095, 0.13533807090782893, 0.13533807089507088, 0.13533807026418945, 0.13533807002999665, 0.1353380692587305, 0.13533806869223874, 0.1353380685936348, 0.13533806827385783, 0.135338068138047, 0.13533806780255564], \"Term\": [\"come\", \"learn\", \"challenges\", \"classroom\", \"day\", \"english\", \"want\", \"new\", \"learners\", \"learning\", \"best\", \"low\", \"education\", \"children\", \"year\", \"work\", \"poverty\", \"grade\", \"families\", \"needs\", \"creative\", \"excited\", \"provide\", \"city\", \"experiences\", \"special\", \"technology\", \"kindergarten\", \"eager\", \"free\", \"small\", \"music\", \"schools\", \"spanish\", \"computer\", \"engage\", \"american\", \"providing\", \"college\", \"skills\", \"improve\", \"united\", \"states\", \"leaders\", \"concepts\", \"basic\", \"express\", \"stem\", \"sense\", \"studies\", \"access\", \"end\", \"research\", \"creativity\", \"addition\", \"growing\", \"background\", \"prepare\", \"overcome\", \"speaking\", \"opportunities\", \"succeed\", \"technology\", \"art\", \"student\", \"instruction\", \"age\", \"build\", \"variety\", \"science\", \"create\", \"help\", \"community\", \"tools\", \"success\", \"need\", \"math\", \"english\", \"just\", \"use\", \"language\", \"parents\", \"live\", \"backgrounds\", \"support\", \"learning\", \"come\", \"new\", \"reading\", \"work\", \"class\", \"world\", \"learn\", \"diverse\", \"different\", \"classroom\", \"children\", \"resources\", \"teach\", \"high\", \"learners\", \"education\", \"love\", \"year\", \"want\", \"grade\", \"make\", \"nmy\", \"day\", \"needs\", \"special\", \"eager\", \"learns\", \"isn\", \"adventure\", \"mistakes\", \"fund\", \"succeeds\", \"visit\", \"hunger\", \"structure\", \"adventures\", \"washington\", \"central\", \"thrilled\", \"poetry\", \"animals\", \"barely\", \"appreciative\", \"underprivileged\", \"basics\", \"acquired\", \"expressing\", \"continually\", \"respond\", \"aloud\", \"rug\", \"afraid\", \"got\", \"fabulous\", \"gift\", \"page\", \"easily\", \"moment\", \"watching\", \"singing\", \"favorite\", \"upcoming\", \"late\", \"day\", \"exciting\", \"wonderful\", \"energetic\", \"boys\", \"girls\", \"learn\", \"year\", \"old\", \"seeing\", \"love\", \"ready\", \"classroom\", \"eager\", \"ensure\", \"faces\", \"curious\", \"excited\", \"come\", \"group\", \"kindergarten\", \"children\", \"want\", \"new\", \"work\", \"amazing\", \"make\", \"hard\", \"learning\", \"best\", \"education\", \"poverty\", \"title\", \"grade\", \"teacher\", \"disorders\", \"disorder\", \"impairments\", \"tactile\", \"improvements\", \"occupational\", \"disturbance\", \"auditory\", \"verbal\", \"figuring\", \"impaired\", \"therapist\", \"wrong\", \"parental\", \"nice\", \"happiest\", \"staying\", \"praise\", \"online\", \"reads\", \"pocket\", \"nalmost\", \"restrictive\", \"syndrome\", \"quick\", \"affecting\", \"frustration\", \"input\", \"impairment\", \"dollars\", \"sensory\", \"array\", \"mixture\", \"adhd\", \"autism\", \"function\", \"speech\", \"passions\", \"therapy\", \"intervention\", \"cognitive\", \"spectrum\", \"delays\", \"disabilities\", \"services\", \"emotional\", \"severe\", \"needs\", \"special\", \"integrated\", \"intellectual\", \"behavior\", \"education\", \"including\", \"class\", \"grade\", \"academic\", \"general\", \"fourth\", \"classroom\", \"learning\", \"love\", \"learn\", \"environment\", \"certainly\", \"earliest\", \"spontaneous\", \"acquiring\", \"smartboard\", \"loud\", \"control\", \"socialization\", \"hinder\", \"roots\", \"simple\", \"hopeful\", \"vivacious\", \"ease\", \"minute\", \"virtually\", \"witty\", \"position\", \"presence\", \"spunky\", \"organizational\", \"mobility\", \"statement\", \"injury\", \"foundations\", \"ahead\", \"traumatic\", \"prevent\", \"solely\", \"upward\", \"meaningful\", \"raised\", \"faced\", \"memorable\", \"path\", \"excellence\", \"gone\", \"door\", \"challenges\", \"looking\", \"clever\", \"creative\", \"experiences\", \"status\", \"positive\", \"despite\", \"growth\", \"face\", \"district\", \"things\", \"provide\", \"inspire\", \"income\", \"focus\", \"low\", \"teacher\", \"poverty\", \"classroom\", \"continue\", \"high\", \"chairs\", \"gym\", \"clay\", \"excitable\", \"seating\", \"explosion\", \"exercise\", \"enrollments\", \"friend\", \"dozen\", \"balls\", \"mache\", \"minutes\", \"chair\", \"transform\", \"seats\", \"stools\", \"choosing\", \"fly\", \"nonfiction\", \"volleyball\", \"playground\", \"formation\", \"par\", \"flexible\", \"montessori\", \"einstein\", \"alternative\", \"absorbing\", \"unsafe\", \"overcrowded\", \"laughter\", \"nyou\", \"options\", \"sit\", \"simplest\", \"elementary\", \"long\", \"friendships\", \"hear\", \"sitting\", \"children\", \"appreciate\", \"movement\", \"work\", \"play\", \"hard\", \"grade\", \"child\", \"awesome\", \"physical\", \"learning\", \"standing\", \"carpet\", \"desk\", \"site\", \"floor\", \"successfully\", \"tone\", \"relationship\", \"twice\", \"source\", \"gathering\", \"understands\", \"empowers\", \"court\", \"station\", \"miracle\", \"seuss\", \"steer\", \"metamorphosis\", \"heads\", \"cooking\", \"memory\", \"zone\", \"recognized\", \"nwhen\", \"culinary\", \"fingertips\", \"arctic\", \"improved\", \"fits\", \"units\", \"shoes\", \"feet\", \"meeting\", \"choose\", \"brains\", \"quote\", \"morning\", \"technology\", \"day\", \"explore\", \"gangs\", \"discovering\", \"studio\", \"disadvantages\", \"nest\", \"overrun\", \"belonging\", \"kits\", \"spaces\", \"physics\", \"addressed\", \"pathologist\", \"sessions\", \"compliment\", \"response\", \"monetary\", \"calmer\", \"cabs\", \"insecurities\", \"wow\", \"sensitive\", \"selected\", \"creators\", \"exterior\", \"dna\", \"complain\", \"carefully\", \"patient\", \"pull\", \"gymnasium\", \"reasons\", \"speech\", \"works\", \"authentic\", \"sections\", \"delays\", \"therapy\", \"regular\", \"sixth\", \"hardships\", \"classes\", \"set\", \"education\", \"nwe\", \"city\", \"want\", \"goals\", \"prouder\", \"regards\", \"existent\", \"mountains\", \"adirondack\", \"brooklynite\", \"beings\", \"unfortunate\", \"grape\", \"arriving\", \"intelligences\", \"condition\", \"lies\", \"defy\", \"usa\", \"hooks\", \"poster\", \"cold\", \"lake\", \"capitalize\", \"admirable\", \"carrying\", \"journals\", \"species\", \"wildlife\", \"peril\", \"defying\", \"conservation\", \"tad\", \"gotten\", \"phenomenal\", \"supposed\", \"human\", \"exemplary\", \"impacts\", \"determination\", \"beautiful\", \"odds\", \"districts\", \"lifelong\", \"constant\", \"outdated\", \"poorest\", \"little\", \"better\", \"harder\", \"daily\", \"day\", \"work\", \"flowing\", \"charismatic\", \"mothers\", \"organizations\", \"occur\", \"popular\", \"fathers\", \"errands\", \"follows\", \"sample\", \"chromebook\", \"joys\", \"kindle\", \"innovation\", \"fuel\", \"obesity\", \"outcomes\", \"sparks\", \"teen\", \"flash\", \"stopping\", \"counselor\", \"facilitates\", \"dreaming\", \"alphabet\", \"eclipse\", \"select\", \"colorful\", \"digital\", \"numbers\", \"inviting\", \"photography\", \"passion\", \"remember\", \"nmost\", \"olds\", \"kindergarten\", \"excited\", \"bright\", \"speak\", \"room\", \"amazing\", \"hope\", \"place\", \"day\", \"learn\", \"like\", \"come\", \"families\", \"teacher\", \"english\", \"mom\", \"influence\", \"grandparent\", \"dad\", \"blossom\", \"abused\", \"bleak\", \"aunt\", \"bettering\", \"luxury\", \"dark\", \"suggestions\", \"cloud\", \"characteristics\", \"handicapped\", \"ordinary\", \"heroes\", \"devotion\", \"worse\", \"buses\", \"wholehearted\", \"treasures\", \"crowded\", \"translate\", \"portion\", \"begins\", \"endeavors\", \"outlook\", \"instead\", \"corners\", \"broken\", \"shelters\", \"lives\", \"chance\", \"homes\", \"hope\", \"homeless\", \"power\", \"line\", \"want\", \"come\", \"future\", \"poverty\", \"don\", \"perseverance\", \"lingual\", \"mono\", \"lastly\", \"magnet\", \"business\", \"embracing\", \"gross\", \"rainbow\", \"isolated\", \"polite\", \"junior\", \"developments\", \"routes\", \"prefer\", \"museum\", \"symbols\", \"latin\", \"europe\", \"courageous\", \"shopping\", \"handle\", \"geographic\", \"largest\", \"trains\", \"prek\", \"wanting\", \"servicing\", \"location\", \"contains\", \"america\", \"major\", \"huge\", \"fourth\", \"state\", \"city\", \"york\", \"lack\", \"old\", \"really\", \"classes\", \"program\", \"reside\", \"lunch\", \"expressed\", \"combine\", \"lego\", \"sum\", \"frustrating\", \"classics\", \"intensely\", \"pushes\", \"notoriously\", \"energize\", \"directing\", \"thoughtful\", \"keys\", \"collaboration\", \"kennedy\", \"john\", \"vision\", \"fully\", \"brilliant\", \"quiet\", \"physically\", \"libraries\", \"price\", \"inquiry\", \"thought\", \"nall\", \"girls\", \"qualify\", \"activity\", \"bodies\", \"play\", \"peers\", \"exciting\", \"reduced\", \"creative\", \"engaged\", \"knowledge\", \"learners\", \"lunch\", \"free\", \"needs\", \"special\", \"english\", \"teach\", \"eager\", \"language\", \"children\", \"enriching\", \"clip\", \"june\", \"resides\", \"disciplined\", \"mentally\", \"classmate\", \"treasure\", \"rewarded\", \"trade\", \"humanities\", \"bonded\", \"bins\", \"venues\", \"whopping\", \"teammates\", \"reached\", \"competent\", \"favor\", \"ups\", \"witness\", \"scholarship\", \"chart\", \"professional\", \"empowering\", \"neven\", \"exam\", \"algebra\", \"solid\", \"reward\", \"fulfilling\", \"empower\", \"developed\", \"warm\", \"goal\", \"place\", \"order\", \"strong\", \"majority\", \"races\", \"forever\", \"fundamental\", \"craving\", \"pens\", \"adolescents\", \"impulsive\", \"jazz\", \"goofy\", \"compare\", \"universities\", \"volunteer\", \"civic\", \"borders\", \"gusto\", \"citywide\", \"pacific\", \"islander\", \"oftentimes\", \"prizes\", \"fingerprints\", \"nuclear\", \"brick\", \"extends\", \"profit\", \"political\", \"optimal\", \"plentiful\", \"debate\", \"silly\", \"frustrated\", \"chance\", \"mixed\", \"meet\", \"funny\", \"consists\", \"deprived\", \"cool\", \"cope\", \"tenth\", \"geography\", \"interfere\", \"offered\", \"aren\", \"doesn\", \"remain\", \"eagerness\", \"mean\", \"curiosity\", \"exposed\", \"resilient\", \"neighborhoods\", \"willingness\", \"offer\", \"minds\", \"filled\", \"circumstances\", \"allow\", \"similar\", \"engaged\", \"ways\", \"little\", \"just\", \"hands\", \"best\", \"things\", \"low\", \"experiences\", \"materials\", \"amazing\", \"families\", \"world\", \"entrepreneurs\", \"questioners\", \"talkers\", \"decreased\", \"inspirations\", \"sake\", \"rewards\", \"travelers\", \"redirecting\", \"ambassadors\", \"poses\", \"criteria\", \"refuse\", \"dreamers\", \"mini\", \"budding\", \"demanding\", \"dealing\", \"similar\", \"stimulating\", \"behaviors\", \"crowded\", \"spent\", \"nearly\", \"thinkers\", \"scientists\", \"feet\", \"poor\", \"days\", \"breaks\", \"contained\", \"constantly\", \"circumstances\", \"guide\", \"discovered\", \"suffer\", \"uncommon\", \"bubbly\", \"folders\", \"operate\", \"efficient\", \"notebook\", \"magical\", \"percentages\", \"ensures\", \"superheroes\", \"capture\", \"magic\", \"imaginations\", \"happens\", \"surround\", \"fall\", \"books\", \"humanity\", \"nlast\", \"bridging\", \"ensuring\", \"producing\", \"relies\", \"japanese\", \"commit\", \"facilitator\", \"rank\", \"nmany\", \"academics\", \"opinions\", \"views\", \"year\", \"supplies\", \"home\", \"fantastic\", \"nalthough\", \"minute\", \"assigned\", \"thrown\", \"pregnancies\", \"freely\", \"bounce\", \"persevering\", \"luckiest\", \"sexual\", \"orientation\", \"tied\", \"flowers\", \"sat\", \"switch\", \"religion\", \"domestic\", \"mental\", \"setup\", \"stretch\", \"knows\", \"bands\", \"went\", \"tables\", \"allowing\", \"considering\", \"desks\", \"professional\", \"feet\", \"stand\", \"humanity\", \"nlast\", \"coming\", \"moving\", \"extraordinary\", \"indies\", \"descendants\", \"ntechnology\", \"partnership\", \"smoothly\", \"flatbush\", \"melting\", \"west\", \"pot\", \"enrich\", \"eighth\", \"includes\", \"cuts\", \"budget\", \"humanity\", \"nlast\", \"bridging\", \"ensuring\", \"producing\", \"relies\", \"japanese\", \"commit\", \"facilitator\", \"rank\", \"flow\", \"traits\", \"presenting\", \"peoples\", \"institutions\", \"funds\", \"nthere\", \"financially\", \"heart\", \"lot\", \"pre\", \"old\", \"brooklyn\", \"energetic\", \"area\", \"east\", \"receive\", \"children\", \"nthe\", \"poverty\", \"humanity\", \"nlast\", \"bridging\", \"ensuring\", \"producing\", \"relies\", \"japanese\", \"commit\", \"facilitator\", \"rank\", \"flow\", \"traits\", \"presenting\", \"peoples\", \"institutions\", \"bonus\", \"unfair\", \"nno\", \"solution\", \"broadway\", \"mott\", \"afternoon\", \"advances\", \"trial\", \"card\", \"tradition\", \"richly\", \"forgetting\", \"routinely\", \"yemeni\", \"communication\", \"resourceful\", \"training\", \"methods\", \"verbal\", \"amazing\", \"require\", \"non\", \"teach\", \"books\", \"opportunity\", \"yearning\", \"exactly\", \"actions\", \"savvy\", \"tech\", \"resource\", \"autistic\", \"imagination\", \"creativity\", \"type\", \"inspiration\", \"reside\", \"film\", \"challenges\", \"engagement\", \"learning\", \"sixth\", \"intelligent\", \"entire\"], \"Total\": [361.0, 403.0, 199.0, 400.0, 336.0, 244.0, 231.0, 314.0, 243.0, 424.0, 201.0, 190.0, 280.0, 269.0, 248.0, 286.0, 183.0, 286.0, 161.0, 244.0, 139.0, 155.0, 171.0, 161.0, 136.0, 242.0, 181.0, 140.0, 212.0, 203.0, 99.90419458328813, 83.42666321680697, 61.8655075435249, 53.70697815766987, 52.02835957862592, 46.95247420290499, 46.450304576772155, 45.56525833621425, 74.75673708238696, 150.2880725242072, 42.58661358570481, 40.790887914914286, 40.514714182435945, 38.481136169070126, 39.142196856451626, 64.81437871381317, 37.30993332546057, 37.18367616314784, 37.15806495420975, 36.80657469511823, 88.34347058015425, 36.168987459864034, 35.79281754496111, 35.71683410665201, 35.523571319183176, 35.357070926728866, 35.29682334356769, 35.09132225214135, 35.00633779558877, 34.93090576847283, 93.80879375974904, 99.89304485350794, 181.19541812244256, 109.93162858572991, 150.51517235858825, 61.67645938747681, 51.14524852505926, 53.47507469905162, 90.34520446737004, 129.97003584851822, 99.06226070236032, 247.40283665879403, 190.44673726473823, 85.60574165007593, 84.33212508867273, 256.33905309133326, 117.09287432412987, 244.0874930843996, 115.51302871068357, 114.4472953211417, 255.45909954969812, 101.21971635238141, 125.37446444285354, 145.34115004660575, 129.675649863416, 424.38656612155853, 361.3940642079719, 314.17150115106796, 187.38682495202, 286.2866300122299, 275.2636581443452, 167.21727716813237, 403.0770473304218, 200.29012801902908, 195.45147958751195, 400.72321221458947, 269.62516386112173, 160.1321061292425, 217.31673940624776, 237.95949387884136, 243.12807065479763, 280.0129508259523, 307.3154880971925, 248.0052428013218, 231.281064617539, 286.53207808390425, 196.2068294432847, 205.04828485298322, 336.9401080233323, 244.9554761202486, 242.02880525292642, 212.64944161761997, 21.152963948101995, 18.467885734441637, 14.199521666583284, 13.467158029761762, 13.259957423860056, 12.394248935123017, 12.05939013108125, 11.632771522499162, 11.489295532041005, 11.182269116443482, 11.14619631173778, 11.122794288415525, 10.750718890518248, 10.58110161199669, 10.488171962972599, 10.392576263741885, 10.315735949563383, 10.30753794473709, 10.221045622882174, 10.215462819092723, 10.152339715911966, 9.85379103629855, 9.758453347017037, 9.56835595901097, 9.439414861324757, 9.362119693907255, 9.346621039804546, 9.343642670313747, 11.653032625470424, 9.147505301896416, 13.46808472532809, 13.971332977250356, 21.360731481069468, 19.59808988211398, 29.184985140840563, 15.606613348203513, 12.918463622441505, 336.9401080233323, 65.55976690796368, 118.42754183025157, 93.65260156229415, 49.067523947236516, 64.54021701882658, 403.0770473304218, 248.0052428013218, 71.30009602383429, 33.49360524922712, 307.3154880971925, 122.53943464290694, 400.72321221458947, 212.64944161761997, 46.47837686576917, 46.87705047092029, 91.57096393585407, 155.58245446541457, 361.3940642079719, 186.15195544902443, 140.47633197193056, 269.62516386112173, 231.281064617539, 314.17150115106796, 286.2866300122299, 157.92814641867454, 196.2068294432847, 191.50962443475882, 424.38656612155853, 201.42721379276554, 280.0129508259523, 183.60655635838685, 167.5530152855943, 286.53207808390425, 205.28887147198867, 23.498418699972852, 20.527356620088653, 19.525671012208345, 19.42230939914594, 16.804953619023514, 16.13508989592416, 14.999037992733632, 12.998274847663572, 21.491498230901428, 11.811990128301792, 11.27900678317954, 11.025550877574613, 10.481836717876911, 10.200308932383335, 10.016243409308238, 9.939792130706161, 9.897926333669007, 9.565701330024611, 9.39734309825784, 9.087073890996349, 8.782705639070768, 8.303711751292427, 8.258465912306152, 7.972454386544935, 7.777055251433261, 7.642725155092413, 7.6043239313043935, 7.495368374500973, 7.402804138840519, 7.273790719756, 34.051737041770586, 16.916181342072306, 18.919835867177127, 25.55057792814876, 77.00789540160095, 13.568451119888099, 77.27747788986802, 14.566886250617587, 33.922399570317545, 29.563225422827053, 18.18597697864616, 40.746634990598, 31.228526015312024, 146.35249212115954, 53.21396463736486, 74.17628728471641, 22.199998448989952, 244.9554761202486, 242.02880525292642, 56.45237812960846, 23.953367678600685, 30.135867232584598, 280.0129508259523, 52.251724717180046, 275.2636581443452, 286.53207808390425, 139.77047430066082, 104.79910122990424, 67.88079400152868, 400.72321221458947, 424.38656612155853, 307.3154880971925, 403.0770473304218, 136.1877178046304, 23.0146266750627, 17.135094280911257, 10.110192905875959, 9.753151911851228, 8.448821476143241, 8.38310548929509, 46.95730179663259, 7.816087512956041, 7.5114939333757205, 7.365558367951609, 43.6986068810326, 24.413558492772854, 6.838614437518684, 6.44998973449002, 26.56872798215316, 6.156191700879491, 6.070756342302951, 5.971107997245539, 5.968338687449117, 5.558912203056501, 5.336262336963671, 5.301904805710699, 5.19229189603675, 5.184017720347226, 5.151565703014189, 20.98146230776914, 4.849368837530329, 18.487934764988125, 4.780061207277844, 4.756565535172075, 66.28740751400817, 24.347603938771577, 79.27257486857701, 14.749895992848769, 31.69839187357046, 33.532220178893084, 11.528390606071195, 37.51647389083053, 199.7997212338758, 82.86337923210455, 15.247950639458052, 139.57069963147526, 136.76268331365378, 37.039383861135796, 86.81849135763001, 120.05442871169092, 50.004790912649185, 152.3886208826111, 139.72908113924484, 135.30679107315262, 171.4796868678595, 57.04106582979644, 165.9170381315315, 67.31698317171066, 190.30612391261835, 205.28887147198867, 183.60655635838685, 400.72321221458947, 71.28321865118369, 237.95949387884136, 16.47881760144759, 12.981583493475874, 12.53435094996161, 12.301608638823527, 32.535609024514365, 10.850124901339143, 14.904778413176693, 10.335216206595751, 8.854848549646453, 8.835609979914638, 8.464552920085014, 8.447131712699935, 18.45239514187664, 8.386997424381098, 8.001561400661075, 15.684741924953784, 7.760439594416352, 7.423408785247758, 7.367483229656576, 7.188903369460235, 7.042443967961706, 7.038879003581416, 6.973906727570718, 6.949839907206393, 20.517848458133592, 6.747965958035703, 6.739707090773055, 13.928458451402243, 6.699604577781181, 6.471792119992908, 15.400008086166192, 27.049142336982932, 13.978643572833438, 19.06208266365418, 33.37195533631628, 11.061596210576944, 78.66168416496926, 68.51696234277298, 14.471654271525555, 33.05739422655046, 16.39754123694457, 269.62516386112173, 33.790838175999255, 33.619659717592455, 286.2866300122299, 89.7316656510576, 191.50962443475882, 286.53207808390425, 86.55143412936478, 35.3187750025003, 54.825105629785234, 424.38656612155853, 16.052563524019106, 14.165320363521406, 13.397596969621082, 12.96562157134448, 12.72948611662946, 11.753419872390582, 10.386479357183827, 9.7951908124284, 8.930193098711667, 8.842049873402688, 8.720481915372194, 8.621811815777141, 8.298496473691577, 8.270097518595975, 8.083042773426326, 7.928968309804146, 13.587437948908585, 7.80840233947784, 7.741984760204727, 7.7169398089048045, 7.523669105324355, 7.513801249654182, 7.496156139455321, 7.491520744352348, 16.13718606251972, 7.244036697032895, 7.240709676528501, 7.231050384467224, 6.898911687913986, 6.8518836462315695, 11.701384842656275, 11.098302071261273, 16.370540245371366, 27.08666278147772, 36.81924172577953, 16.553073245111506, 15.105609596303514, 49.39823935841195, 181.19541812244256, 336.9401080233323, 84.82408901416687, 12.757059864154392, 12.009776260774553, 11.26915742852588, 10.335654558261204, 9.912177493155774, 9.686642620483102, 9.172379783050975, 8.727338200378457, 7.968772395855972, 7.778859123180427, 7.431836981988864, 14.861338013990625, 14.679267960197395, 6.9391542985496715, 6.643665681090086, 6.549113101862793, 6.151627989572283, 5.887846756357996, 5.8359234909116715, 5.809270643626759, 5.771758278162953, 5.676024960656634, 5.5922164136746995, 5.59095998021686, 5.4744102815173425, 5.268886162884323, 5.195500730126832, 4.9448237147502, 15.31508151385903, 13.381279669989707, 14.881052009713013, 77.27747788986802, 34.03834739009312, 18.404134480909867, 11.980202287505112, 31.228526015312024, 33.922399570317545, 28.369970311317555, 33.86619950766333, 44.63095738458511, 98.09195361041861, 48.03961222608483, 280.0129508259523, 68.5928190411045, 161.17098291474574, 231.281064617539, 83.30662813629327, 13.5903410269882, 11.467424964280557, 11.268171219802651, 10.757729396208335, 9.03257073610313, 8.879847249663491, 16.1875497436078, 8.654294248137584, 7.738007646289802, 7.6078352315149775, 7.3167843343448755, 7.047574812683748, 6.90331238463633, 6.722318242038593, 6.627161685773074, 6.363711867266672, 6.361850847680815, 6.265095400564075, 6.1081329065229655, 5.744502392180179, 5.707412873433382, 5.6963523471082675, 5.654969940689362, 5.641553415163787, 5.271754457347512, 5.09853063611, 5.0985306407447295, 5.098530635385649, 5.066459809900573, 4.993012401911797, 10.648993241865748, 7.659093080215392, 15.746891912771096, 6.011123067279703, 9.239023067119849, 25.0446139868369, 45.20629485221477, 21.66137342731384, 23.483103979525726, 28.76130385795739, 25.203945645683405, 13.599189217169894, 45.037721336181455, 103.87681969743576, 93.16481036533112, 12.721607470227228, 113.20755641200918, 336.9401080233323, 286.2866300122299, 18.431553465511985, 17.77228168247006, 9.68700666078533, 9.189355862066346, 8.809150278563022, 8.371742240982957, 8.292079222912196, 8.292079224285786, 7.850089450220693, 7.751794475153433, 7.015790526474715, 6.798627968584269, 6.768781209187059, 6.5938826324313675, 6.547462338381801, 6.546514117343798, 6.402178493690809, 5.965014539531242, 5.720443786775387, 5.713678055850402, 5.492019830034053, 9.662006124148885, 5.050445157777071, 4.8140981108927265, 22.785002654952613, 4.574948344178552, 9.376997207814487, 25.604823528655135, 27.869524850593322, 23.52476421549084, 27.038482019043528, 13.295229318872435, 55.63079237119724, 38.46075553069048, 28.315016842351458, 42.9281329449393, 140.47633197193056, 155.58245446541457, 66.03176654906834, 76.23501046513502, 81.08960603306393, 157.92814641867454, 72.22006343133354, 116.9161728555297, 336.9401080233323, 403.0770473304218, 129.99582461468142, 361.3940642079719, 161.4712133372596, 205.28887147198867, 244.0874930843996, 13.331493851808807, 13.125364110142653, 13.057039633995677, 11.142265176733464, 10.664428377496874, 9.339831410056066, 9.08103470840575, 9.0042311103236, 8.249431666199477, 7.90880996328009, 7.813078026039122, 7.784422079406175, 7.226645029785077, 6.481735400138897, 6.014110030700648, 5.981472869649473, 5.881112125757108, 5.287466243591701, 5.127723041994365, 5.102396505702694, 4.9498837128912125, 4.306362932098934, 15.862463259776831, 10.10639096135643, 12.647245096894903, 11.547788836658794, 14.641988019176152, 13.987937313112148, 16.78691346023277, 6.968795443350414, 21.002010026154316, 50.705911008784454, 118.9145919120278, 54.817400689638, 101.26653837539804, 72.22006343133354, 27.621040134812308, 19.47333414813712, 26.12604438774792, 231.281064617539, 361.3940642079719, 89.1732988565867, 183.60655635838685, 86.04796844813497, 20.096820392921515, 17.69852625172326, 15.51958438308323, 15.210412456478412, 13.631979183974119, 13.245229658534535, 10.469582083230756, 10.132263972004147, 9.226368231983168, 9.21868377221362, 9.217671941757768, 8.642984451134202, 8.598650355355455, 7.310879655921288, 7.257999671123544, 7.241000038062306, 7.023675352840468, 18.958271423334775, 6.453170991176776, 6.320790181220411, 5.395812529082687, 5.24474848893183, 8.51229201794011, 26.15359377630722, 9.629531807700868, 23.119198330508375, 23.36408402682681, 13.219823830695749, 10.769361647904669, 11.717906603783781, 37.24901083540388, 28.656640897298256, 27.01179319965787, 67.88079400152868, 45.71197716801703, 161.17098291474574, 164.72824790857, 74.62604022990016, 71.30009602383429, 74.87955342540032, 98.09195361041861, 106.82309957132478, 21.42007459471043, 187.94215378950588, 16.13686332391504, 9.793110415264268, 8.829097358104997, 8.48259454044733, 8.480078128821345, 6.944586534061267, 6.70004487890304, 6.598917701849358, 6.437364068179198, 5.565625744499697, 5.526635462062965, 32.6454949949662, 5.8784531528898, 23.491857442646833, 6.921489625227968, 9.130761854310363, 10.864725196416813, 30.16277605585639, 16.389437259431073, 12.106393043567383, 13.063315466263635, 7.575526907825957, 58.08139047735287, 20.623927834543682, 19.043680098508386, 28.373592637138014, 64.54021701882658, 66.83755530168, 33.20566549369941, 12.893032925974195, 89.7316656510576, 58.679903775786315, 65.55976690796368, 102.80300762788745, 139.57069963147526, 75.89454211329937, 82.32594986382148, 243.12807065479763, 187.94215378950588, 203.13038462541576, 244.9554761202486, 242.02880525292642, 244.0874930843996, 217.31673940624776, 212.64944161761997, 255.45909954969812, 269.62516386112173, 17.61183595946517, 14.736303210241626, 12.570066716913361, 11.778501955378633, 9.135850468461268, 8.86560398226749, 8.260742686548213, 8.190858197677466, 7.921173528208642, 7.891965237397852, 7.79131942092246, 7.785858919661157, 7.596558597028884, 7.46467081325237, 7.304086469918779, 7.1071846592959345, 6.871784438285503, 6.377042575998645, 6.07297188099641, 8.651172238542182, 11.613302752963799, 9.206726170791725, 8.012829156710978, 11.179155555801959, 9.924644147717002, 10.910623238909757, 12.825814503085502, 6.863781102259227, 11.936046654319489, 11.501247776881225, 13.106023937974804, 17.184678348305816, 13.29419510935885, 33.25259326271185, 95.01908051678363, 116.9161728555297, 88.51604439853823, 56.40007109886449, 79.43352035610059, 17.751047665829066, 14.723547127479815, 14.087175634762424, 13.028355512096514, 9.903814459901103, 9.531268487350212, 9.216177372726824, 8.826118412268423, 8.551026373641522, 7.9524202503566235, 7.502166273827768, 7.361219979201852, 7.108809311567071, 6.6986110350460475, 6.684122478907728, 6.64191284843854, 6.59067784927973, 6.590677837726241, 6.2928736035281645, 6.138787670392461, 5.763472905119018, 5.763472894678197, 5.763472890773248, 5.330898503807558, 5.171293160488059, 5.357132188128548, 10.355450219457676, 9.399036816541962, 12.598662048647011, 13.565760920199079, 14.712304229722873, 54.817400689638, 19.839542679174787, 95.71409008851973, 36.364369597795005, 44.13359051190789, 15.216345711245655, 22.714123665844888, 11.544658098839054, 10.385349212756438, 9.739283239915917, 8.749977613794357, 19.591501195565893, 20.565316555626374, 25.675336945313582, 13.954057549953712, 28.661718273257932, 14.413837056523622, 36.76542198909589, 38.52485032063687, 20.904739526828497, 39.53277010190689, 22.396453129190725, 43.89504854198232, 53.228612637423474, 55.31926048960365, 31.712781251492704, 61.759142468076305, 12.561026392979066, 75.89454211329937, 94.33506422612734, 103.87681969743576, 115.51302871068357, 124.42517603181953, 201.42721379276554, 135.30679107315262, 190.30612391261835, 136.76268331365378, 157.0293000587706, 157.92814641867454, 161.4712133372596, 167.21727716813237, 15.103291278242207, 15.043693326122218, 12.337019304220108, 12.022861867510622, 11.971074636255207, 11.337551650141586, 9.494577545114812, 8.0473963705762, 8.016178816899195, 7.52358163577829, 6.628100821238785, 5.953760634751093, 5.953424717679662, 12.156998556341632, 12.437999399740933, 9.066981426414522, 9.089943125233578, 11.045879887718058, 12.561026392979066, 11.299923548177247, 15.896327379078578, 15.862463259776831, 15.753953580302682, 18.181638640045936, 34.36066307611014, 23.786866146664988, 16.370540245371366, 26.857474649229086, 25.29850215282912, 10.819390787002403, 40.36092886375959, 47.54251435634793, 31.712781251492704, 30.290397930247682, 14.542363662704076, 13.491604795628266, 11.398912666282769, 10.138024426377068, 8.40729348348036, 8.382333249560055, 7.942318731623185, 7.54004693459029, 15.15155772327345, 6.600051425110422, 5.963532610827375, 7.190535540024977, 12.057384571697442, 12.336066608103792, 14.095082531013583, 15.16819020857373, 9.270887373176182, 24.15608860943876, 120.1898501583253, 3.045632005164547, 3.1998223240921577, 3.2142093538840784, 3.218670762359506, 3.2339146163279704, 3.244481527703351, 3.2457175719914324, 3.2647169021640092, 3.2682432490236657, 3.2724316412954058, 46.71657267202185, 31.17326227085623, 7.082189545678362, 8.110959056401947, 248.0052428013218, 133.25004906691095, 167.01347808165988, 19.876836218806158, 10.653025901928578, 26.56872798215316, 11.80883594092751, 10.479549170857736, 10.354388075944595, 10.332995018979444, 10.195921996177876, 9.57323613765085, 8.89462839742478, 8.744122072423316, 8.744122077090898, 8.727875248118764, 7.630104886133396, 7.5400076524442134, 5.929694454581843, 9.646682198880034, 11.4924713011123, 15.801260215265259, 4.858883121116548, 8.652730214644864, 9.543586464462138, 5.961999570145682, 6.420350269553365, 6.317371728189457, 13.937723306546106, 7.674176883859773, 18.298053284641572, 11.179155555801959, 16.370540245371366, 14.17780773872342, 3.045632005164547, 3.1998223240921577, 96.51635360984505, 27.29241044801435, 14.954388178073406, 13.189222101517586, 12.539455343961063, 10.47664719669439, 8.770585494991352, 7.5399589900610975, 15.897349670411769, 17.961886935007076, 19.684733963639225, 20.56066588101832, 23.94228041400945, 27.610383712264113, 31.41599137418602, 28.454513918620282, 40.92725732378329, 3.045632005164547, 3.1998223240921577, 3.2142093538840784, 3.218670762359506, 3.2339146163279704, 3.244481527703351, 3.2457175719914324, 3.2647169021640092, 3.2682432490236657, 3.2724316412954058, 3.2802603227444633, 3.3062418389841843, 3.309471609210139, 3.313087986719163, 3.3142907784793407, 29.098322073262704, 14.15055567639182, 15.399650886172877, 40.00889287032977, 71.78354688836538, 86.3100732489045, 71.30009602383429, 82.90183927345932, 93.65260156229415, 122.84324848945369, 43.81181292946412, 156.99591052709596, 269.62516386112173, 70.6268222093072, 183.60655635838685, 3.045632005164547, 3.1998223240921577, 3.2142093538840784, 3.218670762359506, 3.2339146163279704, 3.244481527703351, 3.2457175719914324, 3.2647169021640092, 3.2682432490236657, 3.2724316412954058, 3.2802603227444633, 3.3062418389841843, 3.309471609210139, 3.313087986719163, 3.3142907784793407, 3.314466202070455, 3.323987569953802, 3.3361469449915986, 3.3401569512211364, 3.3403024862308586, 3.3460727490299176, 3.3511141529348545, 3.3542866969116756, 3.3666911385937444, 3.377701198432091, 3.382086425684659, 3.3824352353463327, 3.3831444973251203, 3.397514969002622, 3.3982665677003863, 28.618882644316688, 3.857738896098512, 8.280720632997081, 11.342974299566373, 21.491498230901428, 157.92814641867454, 51.530899313541916, 34.88009437451669, 217.31673940624776, 120.1898501583253, 98.58929597678926, 6.873853323768264, 10.898836925737449, 9.106366429331286, 11.809126909481517, 11.055270878101156, 10.301746802081661, 11.834468939954057, 12.377407189507625, 35.71683410665201, 15.498469994519688, 13.777629452716669, 21.42007459471043, 5.498733503719177, 199.7997212338758, 18.019871063799958, 424.38656612155853, 33.86619950766333, 21.663606175761835, 24.36464933367803], \"loglift\": [30.0, 29.0, 28.0, 27.0, 26.0, 25.0, 24.0, 23.0, 22.0, 21.0, 20.0, 19.0, 18.0, 17.0, 16.0, 15.0, 14.0, 13.0, 12.0, 11.0, 10.0, 9.0, 8.0, 7.0, 6.0, 5.0, 4.0, 3.0, 2.0, 1.0, 0.3709, 0.3677, 0.3609, 0.3569, 0.3559, 0.3525, 0.3521, 0.3514, 0.3498, 0.3498, 0.3489, 0.3472, 0.3469, 0.3448, 0.3448, 0.3442, 0.3434, 0.3433, 0.3429, 0.3428, 0.3428, 0.342, 0.3415, 0.3414, 0.3412, 0.341, 0.3409, 0.3406, 0.3405, 0.3404, 0.3375, 0.3365, 0.3298, 0.331, 0.3214, 0.3337, 0.337, 0.3332, 0.3171, 0.3037, 0.313, 0.2733, 0.2773, 0.3101, 0.3089, 0.2513, 0.2895, 0.2368, 0.2862, 0.2851, 0.2185, 0.2922, 0.269, 0.2546, 0.2646, 0.1405, 0.1489, 0.1595, 0.2136, 0.1575, 0.1598, 0.2273, 0.0782, 0.191, 0.1947, 0.048, 0.12, 0.2212, 0.153, 0.1144, 0.1061, 0.0693, 0.0414, 0.0956, 0.1157, 0.0232, 0.1371, 0.118, -0.1085, 0.0299, 0.0009, 0.0586, 2.4211, 2.4092, 2.3806, 2.3737, 2.3716, 2.3621, 2.358, 2.3524, 2.3504, 2.346, 2.3455, 2.3451, 2.3394, 2.3366, 2.335, 2.3334, 2.332, 2.3319, 2.3304, 2.3303, 2.3291, 2.3235, 2.3216, 2.3177, 2.315, 2.3134, 2.313, 2.313, 2.3105, 2.3086, 2.288, 2.269, 2.1082, 2.1145, 1.9982, 2.1712, 2.2144, 0.7878, 1.5068, 1.2224, 1.316, 1.5942, 1.4624, 0.5772, 0.7846, 1.3916, 1.749, 0.5956, 1.0506, 0.3933, 0.7386, 1.5707, 1.5443, 1.1426, 0.8023, 0.2787, 0.6403, 0.7909, 0.3527, 0.4515, 0.2385, 0.2921, 0.6842, 0.5335, 0.5274, -0.0566, 0.4674, 0.1853, 0.5158, 0.5868, 0.043, 0.3452, 3.065, 3.0545, 3.0502, 3.0497, 3.0358, 3.0314, 3.0232, 3.0048, 2.9981, 2.9908, 2.9834, 2.9797, 2.9709, 2.966, 2.9626, 2.9612, 2.9604, 2.9537, 2.9502, 2.9432, 2.9359, 2.9231, 2.9218, 2.9133, 2.907, 2.9025, 2.9012, 2.8974, 2.894, 2.8892, 2.8732, 2.8745, 2.8683, 2.8104, 2.7101, 2.8526, 2.5787, 2.8267, 2.6767, 2.6763, 2.7762, 2.5845, 2.6219, 2.1557, 2.295, 2.1375, 2.579, 1.3517, 1.3015, 2.059, 2.5284, 2.3903, 0.9998, 2.0224, 0.8219, 0.7821, 1.266, 1.478, 1.7815, 0.372, 0.2785, 0.407, 0.1336, 1.1013, 3.6028, 3.5772, 3.5041, 3.4973, 3.467, 3.4652, 3.4591, 3.4483, 3.438, 3.4327, 3.4272, 3.4149, 3.4115, 3.3932, 3.3868, 3.3776, 3.3728, 3.3669, 3.3667, 3.3399, 3.3232, 3.3205, 3.3115, 3.3108, 3.3081, 3.2806, 3.2801, 3.2798, 3.2731, 3.2707, 3.2089, 3.2189, 3.162, 3.2159, 3.0758, 3.0478, 3.1908, 2.956, 2.6298, 2.7956, 3.1245, 2.548, 2.5357, 2.8198, 2.5233, 2.4094, 2.6985, 2.2094, 2.1851, 2.158, 2.0352, 2.5457, 1.8226, 2.3363, 1.6933, 1.5351, 1.5859, 0.9974, 2.2362, 1.1074, 3.7786, 3.7497, 3.7447, 3.742, 3.729, 3.7222, 3.7184, 3.7137, 3.6831, 3.6827, 3.6731, 3.6726, 3.6725, 3.671, 3.6598, 3.6555, 3.6522, 3.6405, 3.6385, 3.6317, 3.6258, 3.6257, 3.623, 3.622, 3.6147, 3.6132, 3.6128, 3.612, 3.611, 3.6001, 3.5607, 3.4359, 3.4252, 3.3396, 3.1117, 3.3851, 2.1001, 2.1213, 3.1422, 2.5044, 3.0313, 0.8358, 2.467, 2.4626, 0.6376, 1.5601, 0.8361, 0.4439, 1.5312, 2.344, 1.9164, -0.1397, 4.1288, 4.1143, 4.1071, 4.1027, 4.1001, 4.0884, 4.068, 4.0572, 4.0386, 4.0365, 4.0335, 4.031, 4.0223, 4.0215, 4.0161, 4.0114, 4.0092, 4.0076, 4.0054, 4.0046, 3.998, 3.9977, 3.9971, 3.9969, 3.9964, 3.9878, 3.9877, 3.9873, 3.9739, 3.9719, 3.9338, 3.8951, 3.785, 3.2743, 3.0449, 3.4313, 3.4639, 2.5257, 1.1753, 0.5946, 1.639, 4.2909, 4.2822, 4.2723, 4.2577, 4.2501, 4.2458, 4.235, 4.2245, 4.2036, 4.1976, 4.1858, 4.1713, 4.1682, 4.1668, 4.1539, 4.1494, 4.1291, 4.1137, 4.1105, 4.1089, 4.1065, 4.1002, 4.0945, 4.0944, 4.0862, 4.0705, 4.0646, 4.0426, 4.0002, 3.9914, 3.7718, 3.2315, 3.3836, 3.5809, 3.6924, 3.1469, 3.0725, 3.137, 2.9869, 2.7205, 1.9109, 2.4463, 0.9179, 2.0687, 1.2356, 0.8468, 1.781, 4.3046, 4.2803, 4.2775, 4.2699, 4.237, 4.2334, 4.228, 4.2278, 4.2014, 4.1971, 4.1868, 4.1764, 4.1705, 4.1626, 4.1582, 4.1454, 4.1453, 4.1403, 4.1318, 4.1098, 4.1074, 4.1067, 4.1039, 4.103, 4.0759, 4.0615, 4.0615, 4.0615, 4.0587, 4.0521, 4.0361, 4.028, 3.9296, 4.043, 3.9045, 3.5922, 3.2959, 3.446, 3.397, 3.0758, 3.1176, 3.5288, 2.5966, 1.8913, 1.8861, 3.5445, 1.5605, 0.4097, 0.5521, 4.3918, 4.3884, 4.3049, 4.2945, 4.2857, 4.2744, 4.2722, 4.2722, 4.2591, 4.256, 4.2293, 4.2201, 4.2188, 4.2109, 4.2087, 4.2086, 4.2016, 4.1778, 4.1626, 4.1621, 4.1469, 4.1135, 4.1117, 4.0896, 4.0664, 4.0644, 4.0612, 3.9173, 3.8931, 3.8765, 3.7994, 3.866, 3.5283, 3.5402, 3.538, 3.1099, 2.3821, 2.1305, 2.5796, 2.4592, 2.3998, 1.9073, 2.4389, 1.9254, 1.0115, 0.6913, 1.7054, 0.759, 1.4536, 1.1272, 0.9193, 4.3978, 4.3957, 4.395, 4.3715, 4.3643, 4.3398, 4.3341, 4.3324, 4.3131, 4.3031, 4.3001, 4.2992, 4.2798, 4.2478, 4.223, 4.2211, 4.2151, 4.1741, 4.161, 4.1589, 4.1453, 4.0746, 3.9676, 3.849, 3.765, 3.7402, 3.6999, 3.6876, 3.4996, 3.4938, 3.4323, 2.8983, 2.3087, 2.7184, 2.3351, 2.5132, 3.06, 3.3083, 3.0712, 1.2559, 0.8365, 1.9847, 1.3076, 1.8586, 4.4559, 4.4445, 4.4309, 4.4286, 4.4153, 4.4116, 4.3757, 4.3699, 4.3519, 4.3518, 4.3517, 4.3382, 4.337, 4.2974, 4.2955, 4.2948, 4.2863, 4.2663, 4.2609, 4.2542, 4.1967, 4.185, 4.0672, 4.0665, 3.9873, 3.7931, 3.7695, 3.769, 3.7572, 3.7528, 3.6702, 3.6147, 3.5606, 2.7669, 2.9601, 1.7974, 1.7334, 2.3553, 2.3585, 2.2833, 1.9919, 1.9006, 3.3262, 1.2773, 4.5026, 4.4314, 4.4107, 4.4019, 4.4019, 4.3513, 4.3407, 4.3361, 4.3284, 4.2776, 4.2748, 3.9829, 3.9281, 3.8537, 3.7145, 3.6262, 3.5884, 3.5678, 3.5346, 3.5044, 3.3781, 3.349, 3.1891, 3.0285, 2.9113, 2.8981, 2.8843, 2.847, 2.7149, 2.6857, 2.6715, 2.6514, 2.5855, 2.3324, 2.0848, 2.3366, 2.2326, 1.5448, 1.3762, 1.2306, 0.9177, 0.8971, 0.8166, 0.9206, 0.932, 0.73, 0.6623, 4.5143, 4.4954, 4.4749, 4.4655, 4.4208, 4.4145, 4.3989, 4.397, 4.389, 4.3881, 4.385, 4.3848, 4.3786, 4.3741, 4.3683, 4.3608, 4.3513, 4.3285, 4.3123, 4.2971, 4.2173, 4.1511, 3.9291, 3.8532, 3.8381, 3.8252, 3.748, 3.7291, 3.7093, 3.6912, 3.6894, 3.4175, 3.5872, 2.8617, 1.9321, 1.5927, 1.8222, 2.2341, 1.8926, 4.621, 4.6013, 4.596, 4.586, 4.5429, 4.5357, 4.5291, 4.5202, 4.5134, 4.4968, 4.4823, 4.4774, 4.468, 4.451, 4.4503, 4.4484, 4.4461, 4.4461, 4.4316, 4.4234, 4.4015, 4.4015, 4.4015, 4.3715, 4.359, 4.1706, 4.1392, 3.9704, 3.9243, 3.8952, 3.7267, 2.8715, 3.2796, 1.8361, 2.582, 2.3822, 4.6102, 4.6086, 4.5739, 4.5567, 4.5451, 4.2048, 3.9908, 3.9461, 3.7054, 3.6078, 3.5755, 3.367, 3.2009, 3.1438, 3.1054, 3.0967, 3.0581, 2.9742, 2.7299, 2.7011, 2.6013, 2.5096, 2.3336, 2.2709, 1.9727, 1.8616, 1.6742, 1.5921, 1.5878, 1.5068, 1.4359, 1.4976, 1.2994, 1.2889, 1.2397, 1.1774, 4.6636, 4.6631, 4.638, 4.6343, 4.6337, 4.6255, 4.5948, 4.5596, 4.5587, 4.5432, 4.5081, 4.4736, 4.4736, 4.3805, 4.3363, 4.1434, 4.0259, 3.9403, 3.8262, 3.7797, 3.7574, 3.6737, 3.5865, 3.2307, 3.0984, 2.934, 2.9075, 2.717, 2.707, 2.6389, 2.5369, 2.3835, 2.5135, 4.7681, 4.7092, 4.7, 4.6764, 4.6571, 4.6201, 4.6194, 4.6071, 4.5944, 4.5739, 4.5577, 4.5252, 4.1079, 4.079, 3.9873, 3.5444, 3.4735, 3.4566, 2.8708, 1.7409, 1.51, 1.4606, 1.4562, 1.4548, 1.45, 1.4468, 1.4464, 1.4406, 1.4395, 1.4382, -1.2168, -0.8158, 0.6662, 0.5305, -2.8897, -2.2685, -2.4943, -0.3658, 0.2579, -0.656, 4.6848, 4.6659, 4.6638, 4.6634, 4.6611, 4.6497, 4.6352, 4.6316, 4.6316, 4.6312, 4.6004, 4.5975, 4.5265, 4.4723, 4.4361, 3.9777, 3.9194, 3.8684, 3.667, 3.6399, 3.5503, 3.4983, 3.3016, 3.2285, 3.0691, 2.8521, 2.7221, 2.6004, 1.5266, 1.4772, -1.9293, -0.6662, 4.7301, 4.7148, 4.7081, 4.6805, 4.647, 4.6121, 4.2793, 4.21, 4.0602, 3.9727, 3.8576, 3.7617, 3.6908, 3.6904, 3.1953, 1.5346, 1.4852, 1.4807, 1.4793, 1.4746, 1.4713, 1.4709, 1.4651, 1.464, 1.4627, 1.4604, 1.4525, 1.4515, 1.4504, 1.45, -0.7224, -0.0015, -0.0861, -1.0408, -1.6254, -1.8097, -1.6186, -1.7694, -1.8913, -2.1626, -1.1316, -2.4079, -2.9488, -1.6091, -2.5645, 1.8144, 1.765, 1.7605, 1.7591, 1.7544, 1.7511, 1.7507, 1.7449, 1.7438, 1.7425, 1.7402, 1.7323, 1.7313, 1.7302, 1.7298, 1.7298, 1.7269, 1.7233, 1.7221, 1.722, 1.7203, 1.7188, 1.7178, 1.7141, 1.7109, 1.7096, 1.7095, 1.7093, 1.705, 1.7048, -0.426, 1.578, 0.8141, 0.4995, -0.1396, -2.1341, -1.0141, -0.6238, -2.4533, -1.861, -1.6629, 1.0004, 0.5394, 0.7191, 0.4592, 0.5252, 0.5958, 0.4571, 0.4122, -0.6475, 0.1873, 0.305, -0.1363, 1.2236, -2.3692, 0.0366, -3.1226, -0.5943, -0.1476, -0.2651], \"logprob\": [30.0, 29.0, 28.0, 27.0, 26.0, 25.0, 24.0, 23.0, 22.0, 21.0, 20.0, 19.0, 18.0, 17.0, 16.0, 15.0, 14.0, 13.0, 12.0, 11.0, 10.0, 9.0, 8.0, 7.0, 6.0, 5.0, 4.0, 3.0, 2.0, 1.0, -6.2028, -6.3862, -6.692, -6.8375, -6.8702, -6.9763, -6.9874, -7.0073, -6.5139, -5.8156, -7.0775, -7.1223, -7.1293, -7.183, -7.166, -6.6622, -7.2152, -7.2188, -7.2198, -7.2294, -6.3539, -7.2477, -7.2586, -7.2609, -7.2665, -7.2715, -7.2732, -7.2794, -7.2819, -7.2842, -6.2992, -6.2373, -5.6485, -6.1471, -5.8425, -6.7223, -6.9063, -6.8655, -6.3572, -6.0069, -6.2692, -5.3936, -5.6513, -6.4181, -6.4343, -5.3801, -6.1254, -5.4436, -6.1423, -6.1527, -5.4164, -6.2684, -6.0776, -5.9443, -6.0483, -4.9868, -5.1391, -5.2685, -5.7311, -5.3634, -5.4003, -5.8313, -5.1005, -5.6871, -5.7079, -5.1367, -5.4609, -5.8807, -5.6435, -5.5914, -5.5783, -5.4738, -5.4087, -5.5689, -5.6186, -5.4969, -5.7617, -5.7367, -5.4665, -5.6469, -5.688, -5.7597, -5.7051, -5.8527, -6.1441, -6.204, -6.2216, -6.2986, -6.3301, -6.3717, -6.3861, -6.4176, -6.4213, -6.4238, -6.4636, -6.4823, -6.4926, -6.5034, -6.5122, -6.5131, -6.5231, -6.5238, -6.5311, -6.5666, -6.5782, -6.6017, -6.618, -6.6279, -6.6299, -6.6303, -6.4118, -6.6559, -6.2896, -6.2719, -6.0082, -6.088, -5.8061, -6.259, -6.4048, -4.5703, -5.4881, -5.1812, -5.3223, -5.6905, -5.5482, -4.6016, -4.8798, -5.5194, -5.9175, -4.8545, -5.3189, -4.7914, -5.0796, -5.7683, -5.7861, -5.5182, -5.3284, -5.0092, -5.311, -5.442, -5.2281, -5.2828, -5.1895, -5.2288, -5.4316, -5.3653, -5.3956, -5.1839, -5.4051, -5.3578, -5.4493, -5.4698, -5.477, -5.5083, -4.956, -5.1017, -5.156, -5.1618, -5.3205, -5.3655, -5.4468, -5.6083, -5.1122, -5.718, -5.7715, -5.798, -5.8573, -5.8895, -5.9111, -5.9202, -5.9252, -5.966, -5.9873, -6.0278, -6.0692, -6.1381, -6.1448, -6.1886, -6.2197, -6.2416, -6.248, -6.2663, -6.282, -6.3045, -4.7768, -5.4751, -5.3694, -5.1268, -4.1239, -5.7175, -4.2519, -5.6725, -4.9772, -5.1151, -5.5011, -4.8861, -5.1147, -4.0362, -4.9085, -4.734, -5.4988, -4.3251, -4.3874, -5.0855, -5.4734, -5.3819, -4.5433, -5.1994, -4.7383, -4.7379, -4.9719, -5.0479, -5.1787, -4.8127, -4.8488, -5.043, -5.0451, -5.1626, -4.439, -4.7596, -5.3603, -5.403, -5.5768, -5.5864, -3.8696, -5.6734, -5.7235, -5.7484, -3.9734, -4.5679, -5.8439, -5.9206, -4.5114, -5.9828, -6.0017, -6.0241, -6.0247, -6.1226, -6.1802, -6.1894, -6.2192, -6.2215, -6.2306, -4.8537, -6.3189, -4.981, -6.3403, -6.3477, -3.775, -4.7666, -3.6431, -5.2708, -4.6458, -4.6176, -5.5423, -4.5971, -3.2508, -3.9651, -5.329, -3.6913, -3.724, -4.7461, -4.1908, -3.9806, -4.5673, -3.9421, -4.0531, -4.1124, -3.9982, -4.5885, -4.2438, -4.6322, -4.236, -4.3184, -4.3792, -4.1872, -4.675, -4.5984, -4.5973, -4.8647, -4.9047, -4.9262, -3.9666, -5.0716, -4.7578, -5.1287, -5.3138, -5.3164, -5.3689, -5.3714, -4.5902, -5.3802, -5.4385, -4.7698, -5.4767, -5.5327, -5.5424, -5.5737, -5.6001, -5.6008, -5.6127, -5.6172, -4.5419, -5.6555, -5.6571, -4.9319, -5.6649, -5.7103, -4.8828, -4.4444, -5.1152, -4.8906, -4.5584, -5.3893, -4.7127, -4.8296, -5.3635, -5.1753, -5.3495, -4.7451, -5.1907, -5.2002, -4.8833, -5.121, -5.0869, -5.0761, -5.186, -5.2695, -5.2573, -5.2669, -4.2733, -4.4129, -4.4757, -4.5129, -4.5338, -4.6253, -4.7694, -4.8388, -4.9499, -4.9619, -4.9788, -4.9927, -5.0396, -5.0438, -5.0721, -5.096, -4.5596, -5.1151, -5.1258, -5.1299, -5.1618, -5.1635, -5.1665, -5.1672, -4.4004, -5.2099, -5.2105, -5.2122, -5.2726, -5.2815, -4.7844, -4.876, -4.5974, -4.6045, -4.527, -4.94, -4.9989, -4.7522, -4.803, -4.7634, -5.0983, -4.3409, -4.41, -4.4835, -4.5846, -4.634, -4.6614, -4.7267, -4.787, -4.8988, -4.9289, -4.9863, -4.3078, -4.3232, -5.0739, -5.1304, -5.1491, -5.2321, -5.2913, -5.3033, -5.3096, -5.3185, -5.3414, -5.362, -5.3623, -5.3916, -5.4456, -5.4655, -5.5369, -4.4489, -4.5926, -4.706, -3.599, -4.2668, -4.6844, -5.0023, -4.5896, -4.5813, -4.6956, -4.6686, -4.659, -4.6811, -4.8596, -4.6252, -4.881, -4.8598, -4.8875, -4.9744, -4.264, -4.4581, -4.4784, -4.5324, -4.7401, -4.7608, -4.1657, -4.7921, -4.9303, -4.9516, -5.0009, -5.0488, -5.0754, -5.1099, -5.1285, -5.1819, -5.1823, -5.2026, -5.2365, -5.3198, -5.3287, -5.3314, -5.3415, -5.3447, -5.4397, -5.4875, -5.4875, -5.4875, -5.4966, -5.5177, -4.7763, -5.114, -4.4917, -5.3413, -5.0499, -4.3651, -4.0708, -4.6564, -4.6246, -4.743, -4.8333, -5.0391, -4.7738, -4.6435, -4.7574, -5.0901, -4.8882, -4.9484, -4.9688, -3.872, -3.9119, -4.6022, -4.6654, -4.7165, -4.7787, -4.7904, -4.7904, -4.8583, -4.874, -5.0005, -5.0411, -5.0468, -5.0809, -5.0902, -5.0903, -5.1197, -5.2142, -5.2713, -5.2729, -5.3277, -4.7962, -5.4467, -5.5167, -3.9854, -5.593, -4.8785, -4.0178, -3.9573, -4.1434, -4.0812, -4.7245, -3.6309, -3.9881, -4.2965, -4.3085, -3.8508, -4.0002, -4.4082, -4.3849, -4.3825, -4.2085, -4.4593, -4.491, -4.3465, -4.4875, -4.605, -4.529, -4.6399, -4.7263, -4.7611, -4.19, -4.2077, -4.2136, -4.3956, -4.4467, -4.6038, -4.6376, -4.6479, -4.7546, -4.8068, -4.822, -4.8266, -4.9204, -5.0611, -5.1608, -5.1681, -5.191, -5.3385, -5.3822, -5.3893, -5.4332, -5.6432, -4.4464, -5.0157, -4.8755, -4.9913, -4.7941, -4.8521, -4.8577, -5.7426, -4.701, -4.3536, -4.0908, -4.4555, -4.2251, -4.385, -4.7993, -4.9005, -4.8437, -4.4784, -4.4515, -4.7026, -4.6575, -4.8644, -3.7215, -3.86, -4.0049, -4.0273, -4.1502, -4.1827, -4.4537, -4.4923, -4.6039, -4.6049, -4.605, -4.683, -4.6893, -4.8911, -4.9004, -4.9033, -4.9423, -3.9694, -5.0525, -5.0798, -5.2956, -5.3357, -4.9692, -3.8474, -4.9257, -4.2442, -4.2572, -4.8272, -5.0441, -4.964, -3.89, -4.2079, -4.3211, -4.1932, -4.3954, -4.298, -4.3402, -4.5101, -4.5525, -4.5787, -4.6001, -4.6061, -4.7874, -4.6645, -3.8942, -4.4649, -4.5892, -4.638, -4.6383, -4.8887, -4.9351, -4.9549, -4.9874, -5.1837, -5.1935, -3.7093, -5.4785, -4.1675, -5.5288, -5.3401, -5.204, -4.2035, -4.8467, -5.1798, -5.23, -5.804, -3.927, -5.123, -5.3198, -4.9343, -4.1263, -4.1287, -4.9603, -5.9355, -4.0096, -4.4544, -4.4094, -4.2127, -4.1546, -4.512, -4.5346, -4.1395, -4.5655, -4.6334, -4.7591, -4.7917, -4.8638, -4.8759, -4.8863, -4.9048, -4.9186, -3.795, -3.9922, -4.1717, -4.2462, -4.5449, -4.5812, -4.6675, -4.6779, -4.7194, -4.724, -4.7399, -4.7408, -4.7716, -4.7937, -4.8212, -4.856, -4.8992, -4.9967, -5.0618, -4.7231, -4.5084, -4.8069, -5.1678, -4.9107, -5.0448, -4.963, -4.8785, -5.5225, -4.989, -5.0442, -4.9155, -4.9163, -5.0034, -4.8121, -4.6918, -4.8237, -4.8726, -4.9114, -4.9104, -3.6805, -3.8872, -3.9366, -4.0248, -4.3421, -4.3876, -4.4278, -4.48, -4.5184, -4.6076, -4.6804, -4.7043, -4.7486, -4.825, -4.8279, -4.8361, -4.8462, -4.8462, -4.9069, -4.9398, -5.0249, -5.0249, -5.0249, -5.1329, -5.1758, -5.3289, -4.7012, -4.9669, -4.72, -4.6751, -4.7626, -4.3024, -4.9106, -4.7804, -5.0023, -5.0085, -3.8453, -3.4463, -4.1578, -4.2809, -4.3567, -4.8041, -4.212, -4.2082, -4.227, -4.9343, -4.2468, -5.1427, -4.3725, -4.3828, -5.0325, -4.404, -5.0109, -4.4219, -4.4734, -4.4637, -5.1199, -4.5451, -6.3137, -4.5776, -4.6584, -4.6731, -4.7543, -4.7621, -4.2847, -4.7635, -4.4934, -4.7621, -4.8221, -4.8269, -4.8539, -4.8812, -3.7994, -3.8038, -4.0273, -4.0568, -4.0618, -4.1243, -4.3324, -4.5329, -4.5377, -4.6167, -4.7784, -4.9203, -4.9203, -4.2995, -4.3209, -4.8299, -4.9448, -4.8355, -4.8211, -4.9735, -4.6544, -4.7402, -4.8343, -5.0468, -4.5426, -5.0748, -5.4749, -5.1704, -5.2401, -6.1577, -4.9431, -4.9328, -5.2077, -2.999, -3.7917, -3.8758, -4.068, -4.2045, -4.4287, -4.4324, -4.4986, -4.5633, -3.8859, -4.7331, -4.867, -5.0973, -4.6092, -4.6781, -4.9876, -4.9853, -5.4944, -5.1225, -4.6479, -8.5542, -8.5542, -8.5542, -8.5542, -8.5542, -8.5542, -8.5542, -8.5542, -8.5542, -8.5542, -8.5506, -8.5542, -8.5542, -8.5542, -8.5542, -8.5542, -8.5542, -8.5542, -8.5542, -8.5542, -4.0243, -4.1626, -4.1767, -4.1791, -4.1948, -4.2693, -4.3573, -4.3779, -4.3779, -4.3802, -4.5454, -4.5602, -4.8714, -4.439, -4.3001, -4.4401, -5.6777, -5.1516, -5.255, -5.7526, -5.7682, -5.8363, -5.2418, -5.9116, -5.202, -5.9118, -5.6604, -5.9258, -8.5376, -8.5376, -8.5375, -8.5375, -3.7428, -3.8837, -3.941, -4.1482, -4.3595, -4.5455, -4.1324, -4.0797, -4.1378, -4.1818, -4.1446, -4.0981, -4.0398, -4.1392, -4.2708, -8.5296, -8.5296, -8.5296, -8.5296, -8.5296, -8.5296, -8.5296, -8.5296, -8.5296, -8.5296, -8.5296, -8.5296, -8.5296, -8.5296, -8.5296, -8.5296, -8.5296, -8.5296, -8.5296, -8.5296, -8.5296, -8.5296, -8.5296, -8.5296, -8.5296, -8.5296, -8.5296, -8.5296, -8.5296, -8.5296, -8.2498, -8.2498, -8.2498, -8.2498, -8.2498, -8.2498, -8.2498, -8.2498, -8.2498, -8.2498, -8.2498, -8.2498, -8.2498, -8.2498, -8.2498, -8.2498, -8.2498, -8.2498, -8.2498, -8.2498, -8.2498, -8.2498, -8.2498, -8.2498, -8.2498, -8.2498, -8.2498, -8.2498, -8.2498, -8.2498, -8.2498, -8.2498, -8.2498, -8.2498, -8.2498, -8.2498, -8.2498, -8.2498, -8.2498, -8.2498, -8.2498, -8.2498, -8.2498, -8.2498, -8.2498, -8.2498, -8.2498, -8.2498, -8.2498, -8.2498, -8.2498, -8.2498, -8.2498, -8.2498, -8.2498, -8.2498, -8.2498, -8.2498, -8.2498, -8.2498]}, \"token.table\": {\"Topic\": [5, 10, 1, 3, 4, 5, 13, 1, 1, 10, 2, 4, 2, 3, 1, 12, 1, 7, 2, 3, 5, 8, 8, 14, 1, 2, 2, 3, 2, 1, 1, 2, 1, 4, 1, 13, 1, 5, 15, 1, 18, 2, 2, 9, 2, 5, 1, 2, 5, 6, 8, 9, 11, 12, 15, 16, 1, 2, 11, 1, 2, 1, 2, 5, 2, 6, 1, 2, 7, 1, 15, 2, 3, 8, 1, 2, 18, 3, 10, 1, 4, 7, 1, 3, 2, 3, 1, 2, 5, 13, 1, 1, 2, 3, 10, 5, 5, 6, 18, 2, 1, 2, 2, 1, 2, 8, 1, 10, 1, 3, 1, 3, 16, 1, 8, 7, 1, 2, 3, 6, 7, 15, 1, 2, 8, 10, 10, 13, 10, 10, 1, 12, 13, 1, 1, 2, 5, 17, 14, 18, 1, 2, 3, 2, 6, 3, 5, 16, 14, 1, 1, 2, 7, 9, 1, 12, 1, 1, 3, 10, 1, 2, 8, 8, 17, 1, 16, 1, 19, 1, 2, 10, 11, 7, 7, 8, 1, 17, 1, 7, 6, 8, 2, 4, 5, 5, 1, 2, 3, 4, 5, 8, 1, 10, 14, 10, 9, 2, 13, 1, 3, 5, 6, 14, 1, 2, 3, 5, 12, 1, 2, 6, 5, 9, 1, 15, 16, 1, 2, 5, 7, 11, 12, 14, 14, 1, 2, 3, 5, 7, 12, 1, 2, 4, 6, 7, 11, 12, 12, 13, 1, 2, 3, 4, 5, 6, 7, 5, 1, 2, 4, 13, 10, 1, 3, 8, 1, 12, 1, 2, 1, 2, 9, 12, 1, 2, 3, 9, 10, 15, 1, 2, 5, 7, 1, 1, 2, 1, 2, 3, 7, 14, 13, 7, 7, 1, 1, 8, 8, 1, 18, 1, 2, 6, 14, 2, 3, 4, 8, 1, 2, 16, 1, 3, 16, 1, 11, 2, 1, 2, 4, 5, 1, 4, 6, 2, 15, 15, 3, 10, 3, 9, 11, 6, 14, 1, 2, 1, 2, 4, 6, 12, 1, 7, 16, 10, 16, 6, 1, 15, 1, 2, 4, 1, 19, 10, 1, 2, 3, 4, 6, 8, 10, 1, 2, 3, 4, 5, 6, 7, 8, 9, 12, 13, 1, 16, 1, 16, 1, 14, 16, 8, 8, 1, 3, 7, 1, 16, 15, 19, 6, 2, 5, 6, 18, 1, 2, 3, 4, 1, 8, 1, 13, 11, 10, 1, 2, 3, 12, 1, 9, 12, 1, 2, 3, 5, 7, 7, 13, 17, 7, 3, 3, 1, 2, 4, 7, 1, 8, 3, 1, 2, 3, 6, 10, 7, 1, 2, 15, 3, 1, 18, 1, 2, 5, 10, 1, 2, 4, 5, 1, 16, 9, 1, 2, 3, 5, 6, 9, 12, 1, 15, 4, 4, 2, 4, 1, 2, 9, 1, 2, 3, 5, 6, 7, 10, 17, 1, 3, 19, 5, 1, 2, 5, 11, 1, 2, 3, 1, 13, 1, 13, 6, 1, 1, 4, 10, 1, 2, 6, 14, 12, 1, 1, 2, 6, 12, 15, 1, 1, 2, 5, 9, 12, 14, 1, 19, 13, 5, 1, 2, 17, 1, 1, 2, 16, 1, 2, 3, 4, 9, 11, 1, 2, 1, 13, 1, 4, 8, 5, 1, 2, 3, 6, 9, 1, 2, 12, 8, 2, 5, 8, 1, 2, 4, 15, 1, 2, 3, 6, 5, 1, 3, 10, 15, 1, 12, 2, 14, 7, 19, 2, 1, 2, 3, 4, 5, 7, 8, 1, 2, 4, 1, 2, 9, 1, 1, 10, 17, 1, 2, 9, 10, 15, 1, 2, 9, 13, 2, 5, 6, 6, 16, 18, 3, 1, 2, 15, 1, 1, 14, 6, 6, 9, 1, 19, 2, 5, 6, 1, 18, 9, 5, 1, 4, 17, 9, 14, 2, 5, 4, 1, 2, 3, 11, 1, 2, 3, 4, 5, 11, 12, 18, 5, 5, 6, 3, 14, 12, 3, 9, 2, 13, 1, 12, 13, 2, 3, 2, 14, 1, 2, 1, 2, 14, 1, 2, 8, 10, 7, 6, 1, 2, 3, 1, 11, 15, 2, 1, 2, 12, 1, 3, 13, 1, 2, 4, 5, 7, 8, 2, 4, 14, 2, 8, 1, 2, 3, 4, 5, 6, 7, 11, 12, 13, 10, 8, 11, 1, 2, 3, 5, 8, 1, 1, 4, 17, 14, 5, 5, 7, 10, 11, 1, 2, 5, 15, 3, 7, 17, 3, 1, 2, 3, 5, 7, 8, 2, 8, 1, 2, 5, 7, 6, 1, 2, 5, 1, 2, 1, 2, 3, 6, 10, 10, 1, 2, 3, 4, 13, 4, 1, 2, 4, 5, 10, 1, 2, 10, 1, 2, 3, 10, 8, 1, 9, 10, 1, 4, 1, 11, 1, 8, 13, 1, 2, 1, 2, 1, 17, 6, 8, 3, 3, 3, 1, 6, 3, 14, 1, 3, 19, 1, 3, 1, 2, 3, 4, 15, 19, 10, 4, 9, 3, 1, 12, 7, 1, 16, 1, 2, 3, 4, 1, 10, 1, 1, 3, 1, 2, 3, 1, 3, 8, 1, 4, 12, 1, 15, 1, 3, 1, 2, 9, 14, 2, 11, 1, 14, 1, 12, 8, 9, 13, 11, 1, 2, 15, 1, 12, 1, 12, 1, 2, 3, 6, 7, 9, 9, 7, 1, 2, 12, 2, 18, 1, 2, 11, 8, 1, 2, 3, 4, 5, 7, 8, 12, 1, 5, 11, 11, 2, 13, 1, 11, 1, 2, 5, 1, 1, 2, 3, 5, 6, 7, 9, 11, 12, 15, 1, 2, 3, 4, 5, 6, 12, 1, 2, 3, 4, 5, 6, 7, 9, 11, 13, 2, 12, 1, 12, 8, 1, 2, 8, 1, 2, 4, 5, 6, 9, 1, 2, 10, 11, 1, 2, 5, 6, 8, 10, 15, 1, 2, 1, 2, 3, 4, 10, 13, 1, 11, 1, 2, 5, 1, 2, 4, 8, 1, 2, 7, 4, 1, 2, 3, 4, 5, 6, 7, 1, 2, 3, 4, 15, 18, 1, 2, 3, 4, 5, 11, 12, 10, 5, 1, 2, 17, 6, 17, 11, 1, 9, 11, 1, 2, 3, 7, 13, 1, 2, 3, 6, 8, 10, 1, 2, 15, 1, 2, 5, 1, 15, 1, 4, 5, 1, 3, 5, 8, 13, 14, 1, 6, 1, 19, 2, 4, 6, 1, 18, 13, 6, 1, 1, 2, 3, 15, 1, 16, 1, 3, 4, 5, 6, 6, 2, 1, 3, 14, 2, 3, 4, 10, 2, 6, 7, 11, 5, 1, 2, 6, 9, 1, 8, 1, 5, 1, 2, 11, 1, 1, 2, 12, 3, 1, 2, 1, 4, 16, 1, 2, 3, 5, 6, 10, 1, 2, 3, 4, 5, 8, 12, 1, 2, 15, 7, 1, 13, 1, 2, 3, 5, 8, 9, 11, 12, 3, 1, 1, 3, 4, 1, 9, 1, 2, 3, 4, 5, 6, 9, 1, 1, 3, 5, 5, 17, 12, 19, 1, 2, 7, 1, 5, 14, 1, 9, 1, 2, 3, 7, 13, 6, 14, 1, 5, 9, 3, 9, 1, 2, 8, 1, 2, 10, 15, 1, 2, 15, 14, 1, 2, 11, 1, 2, 6, 9, 3, 17, 1, 1, 2, 3, 1, 2, 5, 14, 1, 14, 1, 5, 1, 2, 3, 13, 10, 4, 9, 18, 9, 1, 8, 1, 10, 1, 1, 5, 7, 14, 2, 5, 3, 1, 2, 5, 19, 1, 7, 9, 1, 3, 1, 4, 6, 1, 7, 7, 1, 2, 12, 14, 1, 17, 8, 11, 18, 1, 8, 1, 9, 1, 3, 5, 7, 1, 12, 7, 1, 2, 3, 5, 7, 8, 9, 13, 1, 2, 5, 12, 5, 1, 14, 3, 2, 11, 1, 14, 1, 16, 1, 8, 9, 1, 10, 16, 4, 1, 2, 4, 6, 7, 8, 1, 2, 19, 1, 2, 4, 10, 15, 1, 6, 10, 3, 1, 2, 6, 11, 18, 1, 11, 1, 4, 1, 1, 4, 1, 2, 3, 12, 14, 1, 1, 13, 18, 14, 1, 2, 4, 5, 11, 8, 1, 2, 3, 4, 1, 1, 7, 12, 1, 2, 3, 12, 16, 3, 1, 2, 12, 1, 2, 6, 14, 11, 1, 4, 1, 13, 1, 2, 8, 12, 13, 3, 1, 2, 5, 6, 1, 2, 3, 5, 6, 11, 1, 7, 1, 2, 3, 4, 7, 6, 16, 1, 2, 3, 12, 16, 8, 1, 7, 6, 1, 1, 18, 1, 15, 1, 2, 9, 1, 2, 3, 1, 1, 2, 11, 13, 1, 15, 1, 1, 1, 2, 6, 11, 2, 7, 3, 2, 3, 7, 13, 13, 16, 1, 1, 2, 3, 7, 9, 4, 11, 1, 2, 16, 9, 18, 1, 6, 1, 13, 1, 1, 2, 5, 1, 2, 16, 1, 5, 1, 5, 1, 7, 1, 2, 6, 1, 9, 7, 1, 7, 1, 3, 1, 2, 3, 1, 3, 11, 1, 7, 1, 7, 13, 2, 18, 2, 6, 1, 3, 18, 1, 2, 10, 14, 2, 6, 11, 2, 14, 1, 15, 16, 1, 4, 5, 10, 1, 2, 1, 5, 12, 6, 1, 5, 1, 3, 7, 1, 2, 1, 4, 19, 4, 4, 1, 13, 1, 6, 7, 1, 9, 1, 2, 5, 9, 1, 1, 2, 3, 4, 5, 6, 7, 12, 8, 1, 3, 1, 3, 7, 1, 16, 4, 4, 2, 6, 18, 6, 1, 2, 11, 4, 1, 6, 1, 4, 3, 6, 1, 1, 16, 5, 9, 1, 18, 1, 2, 7, 13, 2, 1, 2, 3, 5, 7, 1, 7, 1, 2, 3, 2, 1, 2, 10, 6, 17, 10, 12, 13, 17, 1, 2, 5, 6, 8, 10, 1, 2, 3, 2, 8, 1, 17, 18, 11, 3, 1, 18, 3, 8, 16, 1, 2, 3, 4, 5, 6, 8, 11, 12, 1, 2, 3, 4, 5, 9, 13, 1, 1, 6, 9, 15, 3, 1, 3, 7, 1, 2, 4, 5, 10, 15, 1, 2, 16, 1, 12, 1, 2, 12, 2, 18, 18, 1, 2, 3, 5, 7, 8, 6, 1, 2, 13, 1, 1, 10, 11, 1, 5, 1, 10, 4, 16, 13, 10, 1, 6, 1, 17, 2, 6, 1, 8, 1, 2, 6, 14, 5, 2, 3, 2, 13, 4, 8, 1, 2, 5, 1, 2, 13, 2, 3, 1, 4, 1, 12, 2, 4, 5, 14, 1, 2, 3, 6, 7, 10, 11, 2, 11, 1, 2, 13, 2, 2, 9, 1, 2, 3, 7, 15, 2, 18, 1, 19, 10, 13, 8, 1, 8, 15, 7, 13, 4, 1, 2, 3, 6, 1, 2, 3, 5, 8, 1, 7, 1, 2, 5, 8, 15, 10, 7, 3, 1, 2, 5, 6, 9, 12, 1, 1, 1, 2, 5, 8, 11, 12, 6], \"Freq\": [0.7463127027798308, 0.8565465101850246, 0.7297678605610752, 0.1574009111014084, 0.0787004555507042, 0.014309173736491671, 0.014309173736491671, 0.9623631860964033, 0.962153732944862, 0.022638911363408516, 0.881017351771765, 0.8202476565836176, 0.10981328368019928, 0.768692985761395, 0.8131142562139916, 0.15057671411370216, 0.9571109755408959, 0.8073374072306838, 0.03913805796534693, 0.7044850433762447, 0.19569028982673464, 0.7749731725898412, 0.7008429368442971, 0.8393426342587564, 0.5962519548020208, 0.9155237975793086, 0.894272879311681, 0.7850602865133974, 0.8545073403842823, 0.5968164343934481, 0.9580557610545549, 0.01955215838886847, 0.23830560170958964, 0.667255684786851, 0.43707687574892856, 0.43707687574892856, 0.8095967334042133, 0.0485758040042528, 0.11334354267658986, 0.6457295644384751, 0.21524318814615837, 0.8360892962459265, 0.26333110822332173, 0.6583277705583044, 0.1435909082816448, 0.7897499955490465, 0.5888753975080089, 0.16463183156137884, 0.025327974086365973, 0.012663987043182987, 0.031659967607957466, 0.07598392225909792, 0.03799196112954896, 0.025327974086365973, 0.031659967607957466, 0.7974925096136503, 0.5100806591605156, 0.0268463504821324, 0.4295416077141184, 0.9687772859621379, 0.8581095000895833, 0.5918764102811003, 0.11837528205622005, 0.2367505641124401, 0.8724535063715865, 0.8297549707146832, 0.8221860073056521, 0.16280911035755485, 0.008140455517877744, 0.48625558342130865, 0.48625558342130865, 0.1182299929018727, 0.7684949538621725, 0.7886606133562644, 0.9460425660745656, 0.03638625254132945, 0.8468235184250145, 0.8462661490787942, 0.7774122980888736, 0.380349318098111, 0.10867123374231742, 0.4346849349692697, 0.324642036633042, 0.649284073266084, 0.08449893316496229, 0.7604903984846606, 0.42470329163279624, 0.226508422204158, 0.226508422204158, 0.08494065832655925, 0.9632594885113361, 0.8738062135828402, 0.08256436663774867, 0.02064109165943717, 0.013760727772958113, 0.8269781128534424, 0.33545792421973114, 0.16772896210986557, 0.33545792421973114, 0.8660027861810963, 0.9565778648247172, 0.015428675239108342, 0.8805361341751003, 0.5530203278487705, 0.0884832524558033, 0.3318121967092623, 0.4329833244029674, 0.4329833244029674, 0.4645627050301845, 0.4645627050301845, 0.37744567389173805, 0.18872283694586903, 0.37744567389173805, 0.06177587194101959, 0.8030863352332547, 0.8721836850653157, 0.7446858702733414, 0.1290788841807125, 0.049645724684889425, 0.01985828987395577, 0.0049645724684889425, 0.04468115221640048, 0.7835576513679575, 0.053668332285476544, 0.07513566519966716, 0.06440199874257185, 0.8485433037382693, 0.7898313326177304, 0.8809568795717625, 0.8439270893310136, 0.6980514244921128, 0.15512253877602508, 0.7706278860060723, 0.6034154153542599, 0.865297692467388, 0.05824119083915111, 0.01664034023975746, 0.04992102071927238, 0.7464233964087197, 0.8827058507679649, 0.4687418102599277, 0.4076015741390676, 0.08152031482781352, 0.48329394074073706, 0.4228821981481449, 0.27727993738833917, 0.5545598747766783, 0.09242664579611305, 0.6940259936684365, 0.6222370044388, 0.7269228510542892, 0.045432678190893076, 0.045432678190893076, 0.15144226063631025, 0.5491341683998989, 0.36608944559993256, 0.598748169737396, 0.3809159213826393, 0.23807245086414958, 0.3333014312098094, 0.8443720985381107, 0.08443720985381106, 0.04824983420217775, 0.788301848352771, 0.8877469240046254, 0.3308708663789918, 0.5514514439649864, 0.7818750166140364, 0.1954687541535091, 0.9537153578002292, 0.01870030113333783, 0.7839453471578306, 0.9059865558667626, 0.6793655075483405, 0.8127929726042561, 0.696317927457926, 0.4146836297928663, 0.4976203557514396, 0.5921186873866724, 0.7698969180786455, 0.9177342740145613, 0.7022037536056887, 0.8990546566535962, 0.9124632042263092, 0.8346252712145731, 0.9102594835859046, 0.5355362827295991, 0.05005011988127095, 0.025025059940635475, 0.35035083916889664, 0.010010023976254188, 0.020020047952508377, 0.6567257758867978, 0.16418144397169945, 0.16418144397169945, 0.7713983511102375, 0.9002783258708884, 0.24959973074241096, 0.4991994614848219, 0.7625523558783853, 0.06932294144348958, 0.09243058859131943, 0.023107647147829858, 0.023107647147829858, 0.7640236432312612, 0.11868328438543863, 0.044506231644539485, 0.04821508428158444, 0.018544263185224785, 0.6246733751688378, 0.02715971196386251, 0.2987568316024876, 0.8082540209726237, 0.7126780625978001, 0.7252596301031592, 0.12613210958315813, 0.0945990821873686, 0.7631646700638604, 0.09927345301643711, 0.01240918162705464, 0.04343213569469124, 0.0620459081352732, 0.01240918162705464, 0.7527951832694492, 0.8440232023437629, 0.7956008485695516, 0.06902473115443598, 0.09808777585104062, 0.007265761174151156, 0.014531522348302312, 0.007265761174151156, 0.7034216106454558, 0.030583548288932862, 0.030583548288932862, 0.02038903219262191, 0.08155612877048764, 0.08155612877048764, 0.030583548288932862, 0.7199852684499486, 0.8473814359813913, 0.713709591264819, 0.12227891598593053, 0.06238720203363803, 0.06987366627767459, 0.014972928488073127, 0.002495488081345521, 0.012477440406727606, 0.8775883206009715, 0.13116516752254417, 0.19674775128381627, 0.5902432538514488, 0.8821751164135312, 0.8302607884115822, 0.21994969006596515, 0.7148364927143868, 0.7980724442839014, 0.4682473502512719, 0.4682473502512719, 0.9631238977251126, 0.013376720801737676, 0.23433084759538444, 0.1562205650635896, 0.5858271189884611, 0.8169008272928903, 0.788612841842335, 0.1079154415152669, 0.041505939044333424, 0.024903563426600054, 0.024903563426600054, 0.008301187808866684, 0.6631000613503466, 0.18649689225478497, 0.07252656921019415, 0.062165630751594994, 0.6126105447839306, 0.9084910939093996, 0.03494196515036153, 0.8978888399767884, 0.06300974315626585, 0.03150487157813293, 0.005250811929688821, 0.7544872895431969, 0.7840625086648414, 0.7591737373597568, 0.7205489004683225, 0.9610143468859395, 0.9708192961003066, 0.7094639124655107, 0.7845397597963913, 0.6515356729027101, 0.26061426916108404, 0.6570958687844665, 0.1359508694036827, 0.09063391293578847, 0.09063391293578847, 0.3570869468821204, 0.19838163715673357, 0.11902898229404014, 0.277734292019427, 0.7572169980360587, 0.10516902750500814, 0.08413522200400651, 0.545081607865422, 0.32209367737502215, 0.09910574688462219, 0.4266973759959369, 0.4266973759959369, 0.8118702710997511, 0.5611418894499622, 0.1543140195987396, 0.23848530301623394, 0.042085641708747165, 0.17036754016760172, 0.8092458157961082, 0.7974832380326131, 0.04402547131957791, 0.8805094263915583, 0.8662014859500787, 0.43049046630613663, 0.28699364420409107, 0.10349817492876914, 0.724487224501384, 0.7910403377817243, 0.8464229090721047, 0.8443122380093762, 0.9287088680160511, 0.06056796965322073, 0.5087027591569688, 0.07164827593760124, 0.3224172417192056, 0.007164827593760125, 0.07881310353136137, 0.9519320748998786, 0.7152799005093512, 0.6718442754740049, 0.5673772006660346, 0.31520955592557476, 0.8282674772282085, 0.7343856955594804, 0.21759576164725344, 0.6770705181549833, 0.26209181347934835, 0.04368196891322473, 0.6325885605173183, 0.31629428025865913, 0.8974835763989296, 0.7066666089748185, 0.07066666089748184, 0.08833332612185231, 0.044166663060926155, 0.01766666522437046, 0.05299999567311139, 0.7679431819320675, 0.6084167337709889, 0.18104107687819668, 0.050454070605399075, 0.03561463807439935, 0.02077520554339962, 0.02671097855579951, 0.008903659518599838, 0.017807319037199676, 0.032646751568199406, 0.011871546024799782, 0.005935773012399891, 0.8300886698010135, 0.11858409568585908, 0.4526574660258177, 0.4526574660258177, 0.3968675388460759, 0.4762410466152911, 0.8317487225751964, 0.7437910286264151, 0.7845397589717594, 0.06404400896216993, 0.6084180851406144, 0.28819804032976465, 0.33003506828024415, 0.4400467577069922, 0.9200632179152769, 0.8772310836688408, 0.8956830114542094, 0.2732531118048901, 0.2732531118048901, 0.16395186708293405, 0.16395186708293405, 0.5164324270693267, 0.12494332912967582, 0.06663644220249376, 0.2832048793605985, 0.479144937362861, 0.4392161925826226, 0.5265456044850838, 0.3761040032036313, 0.8140812465575165, 0.7565060117117375, 0.8237338511828121, 0.08697810850998637, 0.06651267121351899, 0.015349077972350534, 0.3946963595170808, 0.538222308432383, 0.7237676570958224, 0.49879574267560906, 0.0546625471425325, 0.3758050116049109, 0.02733127357126625, 0.034164091964082814, 0.8707721363236133, 0.875671074917169, 0.8939399606227918, 0.8326549789825197, 0.9255940914187685, 0.9362332113022319, 0.7156706333762157, 0.02862682533504863, 0.22901460268038903, 0.021470119001286474, 0.596173317301078, 0.34067046702918746, 0.8667222528736792, 0.8238049555009708, 0.08986963150919682, 0.06490584497886437, 0.0049927573060664894, 0.009985514612132979, 0.7306723088521089, 0.545270351459024, 0.03894788224707314, 0.35053094022365827, 0.8248793828647947, 0.17402697362458758, 0.6961078944983503, 0.708906916689933, 0.16269994809277152, 0.04648569945507758, 0.06972854918261637, 0.34651444157115613, 0.10661982817574034, 0.4797892267908315, 0.7922486411139243, 0.16451429114933233, 0.6580571645973293, 0.623169684309504, 0.7194940124748606, 0.173995284062548, 0.009405150489867458, 0.023512876224668647, 0.014107725734801188, 0.028215451469602377, 0.023512876224668647, 0.6280153837390283, 0.31400769186951416, 0.9337561695137114, 0.7751950322127658, 0.8167456787165432, 0.07424960715604939, 0.7532215124977627, 0.22824894318114022, 0.6557451088638817, 0.7285377315522821, 0.09999537491894067, 0.11785169186875151, 0.007142526779924334, 0.007142526779924334, 0.028570107119697336, 0.007142526779924334, 0.7554468918642566, 0.32596432174907936, 0.28974606377695944, 0.32596432174907936, 0.7418720031387139, 0.7881855144364011, 0.025425339175367778, 0.16526470463989054, 0.8596331666777223, 0.5797000844077013, 0.040444191935421016, 0.36399772741878916, 0.5819137139093365, 0.2909568569546683, 0.40303712057224067, 0.5037964007153009, 0.8435262968649618, 0.9676798400518888, 0.40978041999091847, 0.06829673666515308, 0.40978041999091847, 0.5872767983216792, 0.3096550391150672, 0.05338879984742538, 0.0427110398779403, 0.7186972648947969, 0.9584159464213243, 0.6719850806117852, 0.07905706830726884, 0.03952853415363442, 0.1054094244096918, 0.09223324635848032, 0.8879086838830014, 0.8603472359289914, 0.05325959079560423, 0.020484457998309318, 0.028678241197633045, 0.024581349597971182, 0.008193783199323727, 0.5429725061775341, 0.37590404273829287, 0.9084799584112117, 0.8708090687310789, 0.5809152948257368, 0.3872768632171578, 0.6707433766250578, 0.6213745200002572, 0.6156460449962747, 0.32834455733134654, 0.926950274750272, 0.7930230548024352, 0.044056836377913064, 0.1321705091337392, 0.022028418188956532, 0.8441791028115659, 0.7748128798750796, 0.4587645483705303, 0.4587645483705303, 0.4678065473780696, 0.3898387894817247, 0.32804269867355723, 0.5367971432840027, 0.08946619054733379, 0.8941919974014059, 0.662028378160704, 0.18639633948214, 0.02570983992857103, 0.02570983992857103, 0.09641189973214137, 0.4728509795271155, 0.36607817769841206, 0.1372793166369045, 0.6654330572223961, 0.0670925774458976, 0.8722035067966688, 0.8874554535012771, 0.5776429511756515, 0.051183552635817225, 0.3217251879965654, 0.03655968045415516, 0.7191353388989783, 0.10610193524739024, 0.08252372741463686, 0.07073462349826017, 0.8294835388382674, 0.5451027018981248, 0.05191454303791665, 0.12978635759479162, 0.2076581721516666, 0.9648904940667192, 0.9295486798707532, 0.8864951579480855, 0.7503425542885552, 0.7154406424216346, 0.8693100543598974, 0.8561971259257682, 0.5380979204685284, 0.10499471618898117, 0.04593518833267926, 0.2296759416633963, 0.013124339523622646, 0.03281084880905662, 0.02624867904724529, 0.3279822819317325, 0.05045881260488193, 0.6055057512585832, 0.5759748049154496, 0.38398320327696644, 0.5940070441870584, 0.6119495544272806, 0.5795640273702934, 0.2483845831586972, 0.1241922915793486, 0.7927109566746775, 0.08670276088629285, 0.049544434792167344, 0.030965271745104588, 0.030965271745104588, 0.7043374431366557, 0.2012392694676159, 0.8441791029514049, 0.8233201302390413, 0.6167554964697021, 0.1713209712415839, 0.1713209712415839, 0.6108533896935635, 0.18325601690806906, 0.12217067793871271, 0.846597388871819, 0.5603834853473131, 0.2711532993616031, 0.1265382063687481, 0.7274402364279922, 0.909111518402693, 0.6940259919409474, 0.8286480563430975, 0.7297263436091654, 0.7000744460749382, 0.3145178349637755, 0.566132102934796, 0.14621416110570568, 0.7798088592304303, 0.864135433215163, 0.6097077070781625, 0.7863587839931435, 0.9223313722204359, 0.8143893664865092, 0.7130444315599033, 0.2673916618349637, 0.8326104011658952, 0.7643225007877228, 0.8829394090597223, 0.5911660000278729, 0.7169582552965537, 0.7764629688522838, 0.4861463464799312, 0.0589268298763553, 0.26517073444359884, 0.1767804896290659, 0.699058391790358, 0.11322776768435376, 0.05415241063164745, 0.03446062494741201, 0.019691785684235436, 0.03446062494741201, 0.03446062494741201, 0.8709962584390077, 0.7905273546750259, 0.48370420331096553, 0.4146036028379705, 0.5437625456274765, 0.3398515910171728, 0.8254640928612454, 0.7890247777715068, 0.7636546407742675, 0.4578047490524532, 0.381503957543711, 0.46414825923430764, 0.36468791796981315, 0.13261378835265933, 0.1474007594771432, 0.737003797385716, 0.9049802813399023, 0.9228251522555281, 0.7216910977590721, 0.20619745650259202, 0.49499001905127077, 0.3574927915370289, 0.1099977820113935, 0.8074165801109845, 0.05607059584104059, 0.044856476672832477, 0.07849883417745683, 0.8622676476504204, 0.8027079315032599, 0.6202343267945161, 0.17175719818925061, 0.19084133132138958, 0.23495434552584582, 0.5873858638146146, 0.8214156835702693, 0.8581457137726247, 0.4493322356127283, 0.3563669454859569, 0.18593058025354273, 0.8524603643758962, 0.06314521217599231, 0.07366941420532437, 0.732234653648463, 0.024007693562244685, 0.060019233905611716, 0.07202308068673406, 0.07202308068673406, 0.024007693562244685, 0.26022712991873387, 0.6071966364770457, 0.8186151806966063, 0.8559242924186529, 0.6008396852471899, 0.6945121165167674, 0.08725026589406626, 0.09423028716559155, 0.02443007445033855, 0.03141009572186385, 0.01047003190728795, 0.0139600425430506, 0.0209400638145759, 0.01047003190728795, 0.01047003190728795, 0.9190444646240072, 0.7753933924938499, 0.8882516311129834, 0.7359578881110163, 0.1557867062424779, 0.059091509264388165, 0.026859776938358258, 0.016115866163014955, 0.9616181179277788, 0.5999425145563646, 0.3799635925523642, 0.9573991093408811, 0.7480413495979302, 0.8473542542424232, 0.22419380462752914, 0.6725814138825874, 0.6651025637344379, 0.7626676490667447, 0.8036958691899039, 0.12055438037848559, 0.02411087607569712, 0.040184793459495195, 0.39556465982398714, 0.19778232991199357, 0.2637097732159914, 0.8048458051035369, 0.7571421041003443, 0.14098508145316754, 0.0208866787338026, 0.04699502715105585, 0.0104433393669013, 0.015665009050351952, 0.47163851062391177, 0.39303209218659313, 0.4481194482937019, 0.26887166897622117, 0.06721791724405529, 0.17924777931748076, 0.7775102759096841, 0.6352587822283218, 0.060500836402697315, 0.24200334561078926, 0.7498332957433004, 0.2249499887229901, 0.8932799760287004, 0.06871384430990003, 0.0040419908417588255, 0.016167963367035302, 0.008083981683517651, 0.6801434685255313, 0.7606336568027723, 0.09665510556057327, 0.05042875072725562, 0.07564312609088343, 0.008404791787875936, 0.7987758564698136, 0.7783802929751428, 0.07783802929751428, 0.08382557001270768, 0.03592524429116043, 0.017962622145580216, 0.6154728394378592, 0.10861285401844574, 0.21722570803689148, 0.6616203246883884, 0.06912451153460775, 0.1382490230692155, 0.10862423241152645, 0.7857049634378857, 0.7200215221278686, 0.12461910959905419, 0.13846567733228243, 0.16384338240507298, 0.7782560664240967, 0.5553130030697107, 0.37020866871314045, 0.317522977086347, 0.635045954172694, 0.7700877958985828, 0.32833907652148303, 0.8596403686480742, 0.8079236504780288, 0.08079236504780288, 0.6385205606421381, 0.2837869158409503, 0.21647310386286062, 0.5411827596571516, 0.8866028890871019, 0.8105036804255857, 0.9218633248888386, 0.9627438424397897, 0.7247519936745042, 0.892593954143362, 0.8680388491300283, 0.541125689701093, 0.09549276877078113, 0.3183092292359371, 0.6506962245558376, 0.3253481122779188, 0.7051717009753254, 0.07232530266413593, 0.03013554277672331, 0.1567048224389612, 0.03013554277672331, 0.9098337951727455, 0.9142603511263336, 0.7716023007213176, 0.7582785861865342, 0.8004943453362248, 0.7273105356233848, 0.19394947616623595, 0.6854099451833512, 0.8709771184645878, 0.8353468927271012, 0.43828073049330707, 0.017531229219732283, 0.1928435214170551, 0.31556212595518107, 0.5361319114035156, 0.35742127426901044, 0.603447353800875, 0.940391205591427, 0.032427282951428514, 0.42513709422300394, 0.19485450151887682, 0.33656686625987814, 0.37573004851590724, 0.5427211811896439, 0.8200323702088759, 0.8770469628116675, 0.046160366463771973, 0.746263657985918, 0.22857201335543945, 0.5714300333885987, 0.3044322759535808, 0.6426903603464483, 0.3328589228367625, 0.11095297427892084, 0.5177805466349639, 0.7586473080779474, 0.9205168498685203, 0.8678028444920847, 0.6161965592012019, 0.7931006217036366, 0.4380795451489865, 0.3285596588617399, 0.7073423982714194, 0.7354425073859702, 0.8750947984388345, 0.8099054255595014, 0.9003313406358745, 0.034628128485995176, 0.05194219272899276, 0.4334327092054539, 0.4334327092054539, 0.17011277864967048, 0.5103383359490115, 0.6122027731844834, 0.17796592243734982, 0.02135591069248198, 0.014237273794987987, 0.03559318448746997, 0.12101682725739789, 0.7386854214188003, 0.8020773160476866, 0.8381318419542751, 0.06073419144596196, 0.09717470631353914, 0.5239120553492876, 0.3143472332095726, 0.844209337731389, 0.02680029643591711, 0.10720118574366844, 0.8185807474261777, 0.8455365276897424, 0.03914520961526585, 0.04305973057679244, 0.011743562884579756, 0.011743562884579756, 0.01565808384610634, 0.011743562884579756, 0.019572604807632926, 0.15294265232580148, 0.15294265232580148, 0.6117706093032059, 0.9204221147886839, 0.7740858582152407, 0.15481717164304815, 0.15824227499493715, 0.7384639499763733, 0.11090924668240777, 0.22181849336481554, 0.6284857312003107, 0.9615100717774384, 0.7343509186653202, 0.1463740006799118, 0.049618305315224334, 0.002480915265761217, 0.009923661063044868, 0.00744274579728365, 0.022328237391850952, 0.009923661063044868, 0.00744274579728365, 0.00744274579728365, 0.7568027809559272, 0.09048728902733912, 0.057582820290124896, 0.032904468737214226, 0.008226117184303557, 0.004113058592151778, 0.04524364451366956, 0.7823056300630027, 0.07775929455445509, 0.056552214221421884, 0.035345133888388676, 0.018850738073807292, 0.009425369036903646, 0.004712684518451823, 0.009425369036903646, 0.0023563422592259116, 0.0023563422592259116, 0.9454939765920867, 0.7928330288004006, 0.528016077121681, 0.2640080385608405, 0.7242899815931483, 0.6258408898600729, 0.06953787665111921, 0.24338256827891722, 0.7692554764463276, 0.06923299288016949, 0.030770219057853102, 0.03846277382231638, 0.023077664293389828, 0.061540438115706204, 0.5358637454725234, 0.15310392727786382, 0.22965589091679572, 0.9040300741674535, 0.7412625860541316, 0.01925357366374368, 0.01925357366374368, 0.01925357366374368, 0.07701429465497472, 0.0481339341593592, 0.05776072099123104, 0.8853477499845632, 0.09571327026860142, 0.6475235609181089, 0.016818793790080753, 0.05886577826528263, 0.12614095342560563, 0.10932215963552488, 0.025228190685121128, 0.3714240575046764, 0.46428007188084547, 0.671366599264481, 0.1313543346387028, 0.17513911285160372, 0.5068584022183775, 0.012068057195675656, 0.4103139446529723, 0.048272228782702625, 0.7661922875660294, 0.19503076410771658, 0.013930768864836898, 0.8350127537985459, 0.7093687381322438, 0.14968331171597804, 0.06507970074607741, 0.032539850373038706, 0.02277789526112709, 0.00650797007460774, 0.016269925186519353, 0.7041286809116449, 0.06305629978313237, 0.05254691648594365, 0.13662198286345348, 0.03678284154016055, 0.7869918435295933, 0.7023437655601161, 0.11705729426001935, 0.037245502719097066, 0.04256628882182522, 0.015962358308184457, 0.037245502719097066, 0.037245502719097066, 0.7586476382486712, 0.8286836571372235, 0.1621262322534934, 0.3242524645069868, 0.4053155806337335, 0.13199962911588378, 0.7919977746953027, 0.880283034330577, 0.4187511035576873, 0.13958370118589578, 0.3838551782612134, 0.7553486202175091, 0.05035657468116727, 0.07553486202175091, 0.025178287340583635, 0.0629457183514591, 0.7797893704012274, 0.13760988889433426, 0.030579975309852056, 0.01019332510328402, 0.02038665020656804, 0.015289987654926028, 0.8406074531988426, 0.12099652735437885, 0.031841191409047065, 0.9052643093086672, 0.05124137599860381, 0.025620687999301905, 0.6244000098451682, 0.2775111154867414, 0.3168022523065513, 0.6336045046131026, 0.045257464615221614, 0.7731359085330302, 0.07313447783420556, 0.031343347643230955, 0.031343347643230955, 0.031343347643230955, 0.05223891273871826, 0.5537780759856926, 0.3691853839904617, 0.38971406653035157, 0.556734380757645, 0.2711883529171548, 0.6101737940635984, 0.7985305706983062, 0.5062887321019732, 0.44300264058922656, 0.7895683152553428, 0.7749950672650688, 0.8816029848875075, 0.7139017554119627, 0.05636066490094442, 0.07514755320125924, 0.13150821810220364, 0.24119634545588464, 0.6431902545490257, 0.11291470190124159, 0.07527646793416105, 0.7527646793416106, 0.8129026007013241, 0.10838701342684322, 0.7567188776099681, 0.8910565966093652, 0.6048526518000934, 0.10080877530001557, 0.25202193825003893, 0.15856374342044466, 0.739964135962075, 0.7544458353329141, 0.9001241821352113, 0.7873264503760233, 0.07157513185236576, 0.7634621546813458, 0.9020860130288272, 0.7409640225060462, 0.526334548309615, 0.2631672741548075, 0.1821927282610206, 0.8258485082275597, 0.5977156356148663, 0.8366077699604655, 0.7138680225083096, 0.23795600750276985, 0.7694446791352519, 0.1832011140798219, 0.8286148278498838, 0.9828991935935469, 0.5286605821064265, 0.24670827164966572, 0.1762201940354755, 0.8429965068224446, 0.6570903013323895, 0.28161012914245265, 0.6050059743114666, 0.11000108623844847, 0.22000217247689693, 0.8738426599406572, 0.0741205827628236, 0.02340649981983903, 0.007802166606613011, 0.007802166606613011, 0.007802166606613011, 0.6980860469355505, 0.07348274178268954, 0.16737735628279282, 0.012247123630448256, 0.008164749086965503, 0.008164749086965503, 0.024494247260896513, 0.6829776899114296, 0.10118187998687846, 0.2023637599737569, 0.8070880495757762, 0.3666151705921888, 0.45826896324023597, 0.7957437230431306, 0.10503817144169324, 0.019097849353035132, 0.02546379913738018, 0.006365949784345045, 0.01591487446086261, 0.022280824245207657, 0.006365949784345045, 0.7987026346190315, 0.6250347042526597, 0.8348215155637212, 0.08562271954499705, 0.042811359772498524, 0.5650711807477512, 0.38848643676407896, 0.7656733150075692, 0.08778420172061303, 0.05852280114707535, 0.0390152007647169, 0.004876900095589613, 0.004876900095589613, 0.03413830066912729, 0.599493977027153, 0.8027501215838663, 0.11467858879769517, 0.028669647199423793, 0.8346196480382653, 0.7957510148212396, 0.7767154299561381, 0.8590534577550436, 0.8636945298094045, 0.0707946335909348, 0.042476780154560884, 0.4240116174384687, 0.4240116174384687, 0.6940259931982103, 0.3825755666479149, 0.552609151824766, 0.8018332059955291, 0.014578785563555074, 0.02915757112711015, 0.10205149894488552, 0.04373635669066522, 0.8055927439663003, 0.12393734522558467, 0.28615079704684176, 0.6438392933553939, 0.7637652513042643, 0.9296508477333683, 0.7946282874790351, 0.3693209955889697, 0.18466049779448485, 0.3693209955889697, 0.6151035457718318, 0.06834483841909242, 0.1139080640318207, 0.18225290245091313, 0.3062552450732039, 0.15312762253660195, 0.45938286760980584, 0.7945495674975417, 0.5329586090220315, 0.33660543727707254, 0.11220181242569084, 0.41930544762073046, 0.20965272381036523, 0.09317898836016233, 0.2562422179904464, 0.8513044502422294, 0.8350896810702907, 0.7059963543408777, 0.9487383477921623, 0.01065998143586699, 0.02131996287173398, 0.8723056509121118, 0.05071544482047162, 0.020286177928188646, 0.03042926689228297, 0.2897025176523047, 0.5794050353046094, 0.31476098944005976, 0.5770618139734429, 0.8360066302423027, 0.011297386895166253, 0.07908170826616377, 0.056486934475831266, 0.6687316129604729, 0.7495883349460658, 0.8705724449113995, 0.800537771349236, 0.7809841610831966, 0.5147365690861944, 0.4412027735024523, 0.42894101293803066, 0.42894101293803066, 0.9426864413151611, 0.19480509251776928, 0.7142853392318207, 0.8258795450018384, 0.7586473067480352, 0.8745553826945013, 0.7194410327085988, 0.8823262177312429, 0.9089138293938274, 0.05927698887351048, 0.019758996291170162, 0.7981223150948719, 0.5572453434269292, 0.017975656239578364, 0.37748878103114564, 0.13729770148477727, 0.755137358166275, 0.3154734170706564, 0.5363048090201159, 0.09464202512119692, 0.1345773844937231, 0.8074643069623387, 0.6066950356695481, 0.8009556419789851, 0.03408321880761639, 0.13633287523046556, 0.807769575287448, 0.6036664308395054, 0.7575698548312974, 0.7845397596849315, 0.9454231877741299, 0.8356630803805805, 0.18781118126144963, 0.6573391344150736, 0.3760747468193387, 0.5265046455470742, 0.6201538439267242, 0.1459185515121704, 0.1459185515121704, 0.0729592757560852, 0.6124019603338996, 0.3062009801669498, 0.7713213345284069, 0.7099103398001315, 0.01710627324819594, 0.01710627324819594, 0.04276568312048985, 0.04276568312048985, 0.03421254649639188, 0.07697822961688174, 0.051318819744587824, 0.7020932860534442, 0.04457735149545678, 0.10029904086477776, 0.14487639236023453, 0.7103403819636587, 0.319181641540132, 0.42557552205350935, 0.7970209053642628, 0.850573062241075, 0.8678981038323259, 0.1866670384232834, 0.5600011152698502, 0.8191388165615, 0.11170074771293181, 0.7993299601300894, 0.15542527002529516, 0.836146144793166, 0.3953430143634663, 0.47441161723615954, 0.754363902247568, 0.6698924222849749, 0.518322759314398, 0.06910970124191973, 0.3109936555886388, 0.05759141770159978, 0.02303656708063991, 0.7859348041494447, 0.29181934256026315, 0.19454622837350877, 0.43772901384039475, 0.6644642894007812, 0.1361607150411437, 0.1252678578378522, 0.03812500021152023, 0.027232143008228737, 0.46217047022022, 0.15405682340674, 0.30811364681348, 0.8363213238625565, 0.7415125209711524, 0.19696426338296236, 0.046344532560697024, 0.8266740523386101, 0.8691967052025874, 0.4757950445662411, 0.4757950445662411, 0.968900509239866, 0.6702032524413607, 0.6043260786507649, 0.21635731902165056, 0.6490719570649517, 0.48208212251595073, 0.15495496795155558, 0.08608609330641977, 0.24104106125797536, 0.8144930674366105, 0.6184455179806047, 0.2683565842719673, 0.44726097378661217, 0.17890438951464488, 0.7735009166686821, 0.8425144033562502, 0.02808381344520834, 0.02808381344520834, 0.01872254229680556, 0.07489016918722224, 0.8829800500347973, 0.7231177188675014, 0.04665275605596783, 0.029157972534979894, 0.19244261873086732, 0.965647987230433, 0.26118045773248366, 0.6529511443312092, 0.7577000086845668, 0.628389231330014, 0.02992329673000067, 0.16457813201500368, 0.179539780380004, 0.9306225337424338, 0.7715002409034241, 0.4956059148590127, 0.08260098580983545, 0.3304039432393418, 0.3310028614286144, 0.06620057228572288, 0.46340400600006015, 0.9013552496284571, 0.8670800686523689, 0.28750262315763525, 0.6160770496235041, 0.6111663188809321, 0.7276130450400872, 0.843175607679225, 0.09605798062168384, 0.01600966343694731, 0.01600966343694731, 0.021346217915929746, 0.8803714040365136, 0.7099755295389385, 0.23665850984631284, 0.024481914811687534, 0.016321276541125022, 0.614319903040395, 0.13354780500878152, 0.026709561001756303, 0.06677390250439076, 0.04006434150263446, 0.10683824400702521, 0.40319730057281833, 0.5375964007637578, 0.6751768224033162, 0.14650063127619126, 0.08917429729855121, 0.05732633397764006, 0.025478370656728914, 0.8009054776392678, 0.7484862971558448, 0.7003686143173549, 0.07781873492415055, 0.10700076052070699, 0.10700076052070699, 0.6718821837322222, 0.8720353550294523, 0.6697222376866705, 0.28198831060491386, 0.8167273260107794, 0.6164313104953093, 0.10366258360994815, 0.725638085269637, 0.573309947401395, 0.3583187171258718, 0.5200105854405441, 0.05200105854405441, 0.3900079390804081, 0.7762332994931511, 0.07762332994931512, 0.11643499492397268, 0.9499112484590221, 0.5602221386737529, 0.04668517822281275, 0.28011106933687646, 0.8490044012289285, 0.7175406314319039, 0.19134416838184104, 0.8736382453295573, 0.5184384049482149, 0.8492987651722667, 0.09367265792341177, 0.012489687723121569, 0.03746906316936471, 0.8198020439832752, 0.7525965694257518, 0.8476150503411439, 0.173894175553736, 0.173894175553736, 0.086947087776868, 0.4347354388843401, 0.7574635221199211, 0.8425861984892832, 0.5912899614751136, 0.6659299834060328, 0.036996110189224045, 0.12332036729741348, 0.024664073459482697, 0.12332036729741348, 0.8146021931082225, 0.8206946745649726, 0.5886655447428749, 0.8475101600606264, 0.8820246477002923, 0.7740143290991007, 0.7957551605474836, 0.4234013266455383, 0.4234013266455383, 0.21723248447911767, 0.6516974534373531, 0.9698457570688733, 0.9232897353345472, 0.03847040563893946, 0.030776324511151573, 0.6726400990087239, 0.12612001856413574, 0.16816002475218098, 0.0922066649417754, 0.8605955394565704, 0.12751245825843532, 0.8288309786798297, 0.41735522322647317, 0.5008262678717678, 0.38813379160787653, 0.4777031281327711, 0.08956933652489459, 0.21328789543983917, 0.6398636863195175, 0.7047185358989785, 0.968834088760089, 0.6930297159417993, 0.17620246487396282, 0.7635440144538388, 0.45100943264708554, 0.07516823877451426, 0.432217372953457, 0.2269319197003333, 0.2269319197003333, 0.4538638394006666, 0.1362465761523646, 0.7493561688380053, 0.7701977240338657, 0.14571308292532592, 0.062448464110853974, 0.20580861384667445, 0.4116172276933489, 0.07359739222068169, 0.8095713144274987, 0.36036038553705313, 0.5855856264977113, 0.8005377717765603, 0.6310901305856869, 0.07888626632321086, 0.19721566580802716, 0.07888626632321086, 0.18020774593790714, 0.7208309837516286, 0.7413155995395596, 0.44228997070604054, 0.44228997070604054, 0.3980566431095734, 0.07961132862191468, 0.3980566431095734, 0.1830721977425876, 0.7780568404059973, 0.6328200620184181, 0.27120859800789343, 0.2551269042072924, 0.6633299509389602, 0.38954864553150836, 0.4494792063825096, 0.08989584127650192, 0.8483974284974714, 0.48787802295478033, 0.4268932700854328, 0.5019754282187228, 0.2362237309264578, 0.2362237309264578, 0.9648137577693969, 0.026615551938466122, 0.9809397934568138, 0.8285179204893549, 0.7957602962972324, 0.7676474949972513, 0.6276070263352223, 0.5026790003228316, 0.41889916693569307, 0.5987742579787501, 0.7916716259491294, 0.7529390603652076, 0.9682168273802592, 0.6705767393342076, 0.8001572981733566, 0.026234665513880543, 0.026234665513880543, 0.13117332756940273, 0.9447221385763324, 0.6817370346788709, 0.09089827129051613, 0.1611378445604604, 0.012395218812343109, 0.008263479208228739, 0.008263479208228739, 0.016526958416457477, 0.024790437624686218, 0.7090245727796359, 0.3926704623263219, 0.5890056934894828, 0.10352304731530185, 0.5693767602341602, 0.31056914194590557, 0.5712851668709235, 0.31738064826162415, 0.8901907296713673, 0.7195652411636666, 0.6347948967750896, 0.14106553261668658, 0.14106553261668658, 0.8721348449456126, 0.7437875608624633, 0.021876104731248923, 0.19688494258124029, 0.7703727140327338, 0.962613232920384, 0.8660105106721792, 0.539965785472618, 0.43197262837809436, 0.8082501051545535, 0.7684030278082763, 0.9681667794772546, 0.5309770437312241, 0.3539846958208161, 0.7731520781782787, 0.7283294896579422, 0.46228183483982266, 0.34671137612986697, 0.8333322828195204, 0.035460948205085975, 0.017730474102542988, 0.08865237051271493, 0.8703753830783009, 0.9367826365310253, 0.013287696972071281, 0.013287696972071281, 0.019931545458106922, 0.0066438484860356405, 0.9509170654948818, 0.8873777887499174, 0.9510171617985662, 0.020021413932601394, 0.010010706966300697, 0.8875083966425773, 0.9249144370307912, 0.023715754795661313, 0.03557363219349197, 0.8508161972066138, 0.8894420035108354, 0.7707701276724325, 0.8252192140767882, 0.27814339959344014, 0.5562867991868803, 0.8480297064900706, 0.08255156434859094, 0.02251406300416117, 0.007504687668053722, 0.015009375336107444, 0.007504687668053722, 0.8868280214606714, 0.030846192050805965, 0.07711548012701491, 0.13056376120864138, 0.6528188060432069, 0.5393226989755796, 0.21572907959023185, 0.6745710138419058, 0.7118780052921913, 0.7525913237115743, 0.4748810310802769, 0.31658735405351796, 0.9267692955602651, 0.7895059173633311, 0.891625418486396, 0.7914714737113117, 0.10123472338167941, 0.004601578335530882, 0.013804735006592645, 0.009203156671061764, 0.013804735006592645, 0.013804735006592645, 0.02300789167765441, 0.02300789167765441, 0.6235116354929419, 0.1169084316549266, 0.07793895443661773, 0.1169084316549266, 0.024355923261443042, 0.03409829256602026, 0.8442161400931412, 0.8140913143817813, 0.9437324727739361, 0.04967013014599664, 0.6992464481946775, 0.8666054280529346, 0.816285743899248, 0.058958093334588894, 0.6190599800131834, 0.26531142000565, 0.6282020239031859, 0.07390612045919834, 0.221718361377595, 0.022171836137759502, 0.0073906120459198334, 0.03695306022959917, 0.6984731332698414, 0.08730914165873017, 0.17461828331746035, 0.7351520256369232, 0.21004343589626376, 0.30632097940441577, 0.12252839176176632, 0.5513777629279484, 0.8371533189224843, 0.8588155705235708, 0.8020279622476048, 0.7340960100917692, 0.14920650611621325, 0.03580956146789118, 0.02984130122324265, 0.02984130122324265, 0.01790478073394559, 0.8665111334164578, 0.9228352967599099, 0.05840729726328544, 0.760266906849469, 0.5913509438467783, 0.8453370558241446, 0.3115416263125959, 0.6230832526251918, 0.6049164269890444, 0.7498536472524339, 0.2968418707994802, 0.494736451332467, 0.6186372083687144, 0.8698465537989643, 0.8546113033656063, 0.6966435591479028, 0.5940550878199636, 0.7838576302465251, 0.9033149727005599, 0.8772766572358555, 0.8731474041863989, 0.8118943152053758, 0.6016869672072199, 0.8088470069649423, 0.9560958830155917, 0.08545997020409038, 0.7691397318368134, 0.7997689975136567, 0.7725835297697231, 0.7048294049821011, 0.19222620135875487, 0.11559127161344218, 0.6935476296806531, 0.630707172605259, 0.7544708031997771, 0.8999775810426945, 0.017475292835780476, 0.0699011713431219, 0.9297671137635011, 0.055343280581160774, 0.8037862820886792, 0.046530027327836815, 0.8840705192288995, 0.8630298773946995, 0.8121904324853441, 0.4602049209352299, 0.36816393674818393, 0.8292293301156678, 0.731142257789605, 0.709980799669344, 0.8150822848593307, 0.7609788561421781, 0.1297123050242349, 0.00864748700161566, 0.00864748700161566, 0.02594246100484698, 0.03891369150727047, 0.02161871750403915, 0.47080809961861636, 0.47080809961861636, 0.5413111650508321, 0.24058274002259203, 0.18043705501694401, 0.8971670442830125, 0.6554082669129204, 0.2340743810403287, 0.8268399522475426, 0.05300256104150914, 0.021201024416603657, 0.010600512208301828, 0.06360307324981097, 0.46726422610096885, 0.31150948406731255, 0.45720709340671833, 0.45720709340671833, 0.6060748441800684, 0.8214579639370999, 0.7587606805975184, 0.535799125458827, 0.17859970848627568, 0.17859970848627568, 0.17221629733966812, 0.6888651893586725, 0.6588964824904493, 0.599522703103709, 0.2786513972172169, 0.08443981733855058, 0.016887963467710116, 0.7964046382126194, 0.11177608957370097, 0.0314370251926034, 0.03842303079095971, 0.02095801679506893, 0.5875725919003051, 0.35254355514018304, 0.8551747906779839, 0.06578267620599876, 0.02392097316581773, 0.02392097316581773, 0.029901216457272162, 0.780073332206384, 0.6885545958145924, 0.8586281433530042, 0.7459519722661847, 0.1814477770377206, 0.016128691292241832, 0.008064345646120916, 0.024193036938362746, 0.02016086411530229, 0.7273940487951795, 0.5885353488774143, 0.7831079468021753, 0.08498845934287175, 0.030353021193882765, 0.01821181271632966, 0.06070604238776553, 0.012141208477553107, 0.8004102220362724], \"Term\": [\"absorbing\", \"abused\", \"academic\", \"academic\", \"academic\", \"academic\", \"academic\", \"academics\", \"access\", \"access\", \"acquired\", \"acquiring\", \"actions\", \"actions\", \"activity\", \"activity\", \"addition\", \"addressed\", \"adhd\", \"adhd\", \"adhd\", \"adirondack\", \"admirable\", \"adolescents\", \"advances\", \"adventure\", \"adventures\", \"affecting\", \"afraid\", \"afternoon\", \"age\", \"age\", \"ahead\", \"ahead\", \"algebra\", \"algebra\", \"allow\", \"allow\", \"allow\", \"allowing\", \"allowing\", \"aloud\", \"alphabet\", \"alphabet\", \"alternative\", \"alternative\", \"amazing\", \"amazing\", \"amazing\", \"amazing\", \"amazing\", \"amazing\", \"amazing\", \"amazing\", \"amazing\", \"ambassadors\", \"america\", \"america\", \"america\", \"american\", \"animals\", \"appreciate\", \"appreciate\", \"appreciate\", \"appreciative\", \"arctic\", \"area\", \"area\", \"area\", \"aren\", \"aren\", \"array\", \"array\", \"arriving\", \"art\", \"art\", \"assigned\", \"auditory\", \"aunt\", \"authentic\", \"authentic\", \"authentic\", \"autism\", \"autism\", \"autistic\", \"autistic\", \"awesome\", \"awesome\", \"awesome\", \"awesome\", \"background\", \"backgrounds\", \"backgrounds\", \"backgrounds\", \"backgrounds\", \"balls\", \"bands\", \"bands\", \"bands\", \"barely\", \"basic\", \"basic\", \"basics\", \"beautiful\", \"beautiful\", \"beautiful\", \"begins\", \"begins\", \"behavior\", \"behavior\", \"behaviors\", \"behaviors\", \"behaviors\", \"beings\", \"beings\", \"belonging\", \"best\", \"best\", \"best\", \"best\", \"best\", \"best\", \"better\", \"better\", \"better\", \"better\", \"bettering\", \"bins\", \"bleak\", \"blossom\", \"bodies\", \"bodies\", \"bonded\", \"bonus\", \"books\", \"books\", \"books\", \"books\", \"borders\", \"bounce\", \"boys\", \"boys\", \"boys\", \"brains\", \"brains\", \"breaks\", \"breaks\", \"breaks\", \"brick\", \"bridging\", \"bright\", \"bright\", \"bright\", \"bright\", \"brilliant\", \"brilliant\", \"broadway\", \"broken\", \"broken\", \"broken\", \"brooklyn\", \"brooklyn\", \"brooklyn\", \"brooklynite\", \"bubbly\", \"budding\", \"budding\", \"budget\", \"budget\", \"build\", \"build\", \"buses\", \"business\", \"cabs\", \"calmer\", \"capitalize\", \"capture\", \"capture\", \"card\", \"carefully\", \"carpet\", \"carrying\", \"central\", \"certainly\", \"chair\", \"chairs\", \"challenges\", \"challenges\", \"challenges\", \"challenges\", \"challenges\", \"challenges\", \"chance\", \"chance\", \"chance\", \"characteristics\", \"charismatic\", \"chart\", \"chart\", \"child\", \"child\", \"child\", \"child\", \"child\", \"children\", \"children\", \"children\", \"children\", \"children\", \"choose\", \"choose\", \"choose\", \"choosing\", \"chromebook\", \"circumstances\", \"circumstances\", \"circumstances\", \"city\", \"city\", \"city\", \"city\", \"city\", \"city\", \"citywide\", \"civic\", \"class\", \"class\", \"class\", \"class\", \"class\", \"class\", \"classes\", \"classes\", \"classes\", \"classes\", \"classes\", \"classes\", \"classes\", \"classics\", \"classmate\", \"classroom\", \"classroom\", \"classroom\", \"classroom\", \"classroom\", \"classroom\", \"classroom\", \"clay\", \"clever\", \"clever\", \"clever\", \"clip\", \"cloud\", \"cognitive\", \"cognitive\", \"cold\", \"collaboration\", \"collaboration\", \"college\", \"college\", \"colorful\", \"colorful\", \"colorful\", \"combine\", \"come\", \"come\", \"come\", \"come\", \"come\", \"come\", \"coming\", \"coming\", \"coming\", \"coming\", \"commit\", \"communication\", \"communication\", \"community\", \"community\", \"community\", \"community\", \"compare\", \"competent\", \"complain\", \"compliment\", \"computer\", \"concepts\", \"condition\", \"conservation\", \"considering\", \"considering\", \"consists\", \"consists\", \"consists\", \"consists\", \"constant\", \"constant\", \"constant\", \"constant\", \"constantly\", \"constantly\", \"constantly\", \"contained\", \"contained\", \"contained\", \"contains\", \"contains\", \"continually\", \"continue\", \"continue\", \"continue\", \"continue\", \"control\", \"control\", \"cooking\", \"cool\", \"cool\", \"cope\", \"corners\", \"corners\", \"counselor\", \"counselor\", \"courageous\", \"court\", \"craving\", \"create\", \"create\", \"creative\", \"creative\", \"creative\", \"creative\", \"creative\", \"creativity\", \"creators\", \"criteria\", \"crowded\", \"crowded\", \"culinary\", \"curiosity\", \"curiosity\", \"curious\", \"curious\", \"curious\", \"cuts\", \"cuts\", \"dad\", \"daily\", \"daily\", \"daily\", \"daily\", \"daily\", \"daily\", \"dark\", \"day\", \"day\", \"day\", \"day\", \"day\", \"day\", \"day\", \"day\", \"day\", \"day\", \"day\", \"days\", \"days\", \"dealing\", \"dealing\", \"debate\", \"debate\", \"decreased\", \"defy\", \"defying\", \"delays\", \"delays\", \"delays\", \"demanding\", \"demanding\", \"deprived\", \"descendants\", \"desk\", \"desks\", \"desks\", \"desks\", \"desks\", \"despite\", \"despite\", \"despite\", \"despite\", \"determination\", \"determination\", \"developed\", \"developed\", \"developments\", \"devotion\", \"different\", \"different\", \"different\", \"different\", \"digital\", \"digital\", \"directing\", \"disabilities\", \"disabilities\", \"disabilities\", \"disabilities\", \"disabilities\", \"disadvantages\", \"disciplined\", \"discovered\", \"discovering\", \"disorder\", \"disorders\", \"district\", \"district\", \"district\", \"district\", \"districts\", \"districts\", \"disturbance\", \"diverse\", \"diverse\", \"diverse\", \"diverse\", \"diverse\", \"dna\", \"doesn\", \"doesn\", \"doesn\", \"dollars\", \"domestic\", \"domestic\", \"don\", \"don\", \"don\", \"don\", \"door\", \"door\", \"door\", \"dozen\", \"dreamers\", \"dreamers\", \"dreaming\", \"eager\", \"eager\", \"eager\", \"eager\", \"eager\", \"eager\", \"eager\", \"eagerness\", \"eagerness\", \"earliest\", \"ease\", \"easily\", \"easily\", \"east\", \"east\", \"eclipse\", \"education\", \"education\", \"education\", \"education\", \"education\", \"education\", \"education\", \"efficient\", \"eighth\", \"eighth\", \"eighth\", \"einstein\", \"elementary\", \"elementary\", \"elementary\", \"embracing\", \"emotional\", \"emotional\", \"emotional\", \"empower\", \"empower\", \"empowering\", \"empowering\", \"empowers\", \"end\", \"endeavors\", \"endeavors\", \"endeavors\", \"energetic\", \"energetic\", \"energetic\", \"energetic\", \"energize\", \"engage\", \"engaged\", \"engaged\", \"engaged\", \"engaged\", \"engaged\", \"engagement\", \"english\", \"english\", \"english\", \"english\", \"english\", \"english\", \"enrich\", \"enrich\", \"enriching\", \"enrollments\", \"ensure\", \"ensure\", \"ensures\", \"ensuring\", \"entire\", \"entire\", \"entrepreneurs\", \"environment\", \"environment\", \"environment\", \"environment\", \"errands\", \"europe\", \"exactly\", \"exactly\", \"exam\", \"exam\", \"excellence\", \"excellence\", \"excellence\", \"excitable\", \"excited\", \"excited\", \"excited\", \"excited\", \"excited\", \"exciting\", \"exciting\", \"exciting\", \"exemplary\", \"exercise\", \"exercise\", \"existent\", \"experiences\", \"experiences\", \"experiences\", \"experiences\", \"explore\", \"explore\", \"explore\", \"explore\", \"explosion\", \"exposed\", \"exposed\", \"exposed\", \"exposed\", \"express\", \"expressed\", \"expressing\", \"extends\", \"exterior\", \"extraordinary\", \"fabulous\", \"face\", \"face\", \"face\", \"face\", \"face\", \"face\", \"face\", \"faced\", \"faced\", \"faced\", \"faces\", \"faces\", \"facilitates\", \"facilitator\", \"fall\", \"fall\", \"fall\", \"families\", \"families\", \"families\", \"families\", \"families\", \"fantastic\", \"fantastic\", \"fathers\", \"favor\", \"favorite\", \"favorite\", \"favorite\", \"feet\", \"feet\", \"feet\", \"figuring\", \"filled\", \"filled\", \"filled\", \"film\", \"financially\", \"fingerprints\", \"fingertips\", \"fits\", \"flash\", \"flatbush\", \"flatbush\", \"flexible\", \"flexible\", \"floor\", \"flow\", \"flowers\", \"flowing\", \"fly\", \"focus\", \"focus\", \"folders\", \"follows\", \"forever\", \"forgetting\", \"formation\", \"foundations\", \"fourth\", \"fourth\", \"fourth\", \"fourth\", \"free\", \"free\", \"free\", \"free\", \"free\", \"free\", \"free\", \"freely\", \"friend\", \"friendships\", \"friendships\", \"frustrated\", \"frustrated\", \"frustrating\", \"frustration\", \"fuel\", \"fulfilling\", \"fulfilling\", \"fully\", \"fully\", \"fully\", \"function\", \"function\", \"fund\", \"fundamental\", \"funds\", \"funds\", \"funny\", \"funny\", \"funny\", \"future\", \"future\", \"future\", \"future\", \"gangs\", \"gathering\", \"general\", \"general\", \"general\", \"geographic\", \"geographic\", \"geography\", \"gift\", \"girls\", \"girls\", \"girls\", \"goal\", \"goal\", \"goal\", \"goals\", \"goals\", \"goals\", \"goals\", \"goals\", \"goals\", \"gone\", \"gone\", \"goofy\", \"got\", \"gotten\", \"grade\", \"grade\", \"grade\", \"grade\", \"grade\", \"grade\", \"grade\", \"grade\", \"grade\", \"grade\", \"grandparent\", \"grape\", \"gross\", \"group\", \"group\", \"group\", \"group\", \"group\", \"growing\", \"growth\", \"growth\", \"guide\", \"gusto\", \"gym\", \"gymnasium\", \"gymnasium\", \"handicapped\", \"handle\", \"hands\", \"hands\", \"hands\", \"hands\", \"happens\", \"happens\", \"happens\", \"happiest\", \"hard\", \"hard\", \"hard\", \"hard\", \"hard\", \"hard\", \"harder\", \"harder\", \"hardships\", \"hardships\", \"hardships\", \"hardships\", \"heads\", \"hear\", \"hear\", \"hear\", \"heart\", \"heart\", \"help\", \"help\", \"help\", \"help\", \"help\", \"heroes\", \"high\", \"high\", \"high\", \"high\", \"high\", \"hinder\", \"home\", \"home\", \"home\", \"home\", \"home\", \"homeless\", \"homeless\", \"homeless\", \"homes\", \"homes\", \"homes\", \"homes\", \"hooks\", \"hope\", \"hope\", \"hope\", \"hopeful\", \"hopeful\", \"huge\", \"huge\", \"human\", \"human\", \"humanities\", \"humanity\", \"hunger\", \"imagination\", \"imagination\", \"imaginations\", \"imaginations\", \"impacts\", \"impacts\", \"impaired\", \"impairment\", \"impairments\", \"improve\", \"improved\", \"improvements\", \"impulsive\", \"includes\", \"includes\", \"includes\", \"including\", \"including\", \"income\", \"income\", \"income\", \"income\", \"income\", \"indies\", \"influence\", \"injury\", \"innovation\", \"input\", \"inquiry\", \"inquiry\", \"insecurities\", \"inspiration\", \"inspirations\", \"inspire\", \"inspire\", \"inspire\", \"inspire\", \"instead\", \"instead\", \"institutions\", \"instruction\", \"instruction\", \"integrated\", \"integrated\", \"integrated\", \"intellectual\", \"intellectual\", \"intelligences\", \"intelligent\", \"intelligent\", \"intensely\", \"interfere\", \"interfere\", \"intervention\", \"intervention\", \"inviting\", \"inviting\", \"inviting\", \"islander\", \"isn\", \"isolated\", \"japanese\", \"jazz\", \"john\", \"john\", \"journals\", \"joys\", \"june\", \"junior\", \"just\", \"just\", \"just\", \"kennedy\", \"kennedy\", \"keys\", \"keys\", \"kindergarten\", \"kindergarten\", \"kindergarten\", \"kindergarten\", \"kindergarten\", \"kindergarten\", \"kindle\", \"kits\", \"knowledge\", \"knowledge\", \"knowledge\", \"knows\", \"knows\", \"lack\", \"lack\", \"lack\", \"lake\", \"language\", \"language\", \"language\", \"language\", \"language\", \"language\", \"language\", \"language\", \"largest\", \"largest\", \"largest\", \"lastly\", \"late\", \"late\", \"latin\", \"latin\", \"laughter\", \"laughter\", \"laughter\", \"leaders\", \"learn\", \"learn\", \"learn\", \"learn\", \"learn\", \"learn\", \"learn\", \"learn\", \"learn\", \"learn\", \"learners\", \"learners\", \"learners\", \"learners\", \"learners\", \"learners\", \"learners\", \"learning\", \"learning\", \"learning\", \"learning\", \"learning\", \"learning\", \"learning\", \"learning\", \"learning\", \"learning\", \"learns\", \"lego\", \"libraries\", \"libraries\", \"lies\", \"lifelong\", \"lifelong\", \"lifelong\", \"like\", \"like\", \"like\", \"like\", \"like\", \"like\", \"line\", \"line\", \"line\", \"lingual\", \"little\", \"little\", \"little\", \"little\", \"little\", \"little\", \"little\", \"live\", \"live\", \"lives\", \"lives\", \"lives\", \"lives\", \"lives\", \"lives\", \"location\", \"location\", \"long\", \"long\", \"long\", \"looking\", \"looking\", \"looking\", \"looking\", \"lot\", \"lot\", \"lot\", \"loud\", \"love\", \"love\", \"love\", \"love\", \"love\", \"love\", \"love\", \"low\", \"low\", \"low\", \"low\", \"low\", \"luckiest\", \"lunch\", \"lunch\", \"lunch\", \"lunch\", \"lunch\", \"lunch\", \"lunch\", \"luxury\", \"mache\", \"magic\", \"magic\", \"magic\", \"magical\", \"magical\", \"magnet\", \"major\", \"major\", \"major\", \"majority\", \"majority\", \"majority\", \"majority\", \"majority\", \"make\", \"make\", \"make\", \"make\", \"make\", \"make\", \"materials\", \"materials\", \"materials\", \"math\", \"math\", \"math\", \"mean\", \"mean\", \"meaningful\", \"meaningful\", \"meaningful\", \"meet\", \"meet\", \"meet\", \"meet\", \"meet\", \"meet\", \"meeting\", \"meeting\", \"melting\", \"melting\", \"memorable\", \"memorable\", \"memory\", \"mental\", \"mental\", \"mentally\", \"metamorphosis\", \"methods\", \"minds\", \"minds\", \"minds\", \"minds\", \"mini\", \"mini\", \"minute\", \"minute\", \"minute\", \"minutes\", \"minutes\", \"miracle\", \"mistakes\", \"mixed\", \"mixed\", \"mixed\", \"mixture\", \"mixture\", \"mobility\", \"mom\", \"moment\", \"moment\", \"monetary\", \"mono\", \"montessori\", \"morning\", \"morning\", \"morning\", \"mothers\", \"mott\", \"mountains\", \"movement\", \"movement\", \"moving\", \"moving\", \"museum\", \"music\", \"nall\", \"nall\", \"nall\", \"nalmost\", \"nalthough\", \"nalthough\", \"nearly\", \"nearly\", \"nearly\", \"need\", \"need\", \"need\", \"need\", \"need\", \"need\", \"needs\", \"needs\", \"needs\", \"needs\", \"needs\", \"needs\", \"needs\", \"neighborhoods\", \"neighborhoods\", \"neighborhoods\", \"nest\", \"neven\", \"neven\", \"new\", \"new\", \"new\", \"new\", \"new\", \"new\", \"new\", \"new\", \"nice\", \"nlast\", \"nmany\", \"nmany\", \"nmany\", \"nmost\", \"nmost\", \"nmy\", \"nmy\", \"nmy\", \"nmy\", \"nmy\", \"nmy\", \"nmy\", \"nno\", \"non\", \"non\", \"non\", \"nonfiction\", \"notebook\", \"notoriously\", \"ntechnology\", \"nthe\", \"nthe\", \"nthe\", \"nthere\", \"nthere\", \"nuclear\", \"numbers\", \"numbers\", \"nwe\", \"nwe\", \"nwe\", \"nwe\", \"nwe\", \"nwhen\", \"nwhen\", \"nyou\", \"nyou\", \"obesity\", \"occupational\", \"occur\", \"odds\", \"odds\", \"odds\", \"offer\", \"offer\", \"offer\", \"offer\", \"offered\", \"offered\", \"offered\", \"oftentimes\", \"old\", \"old\", \"old\", \"olds\", \"olds\", \"olds\", \"olds\", \"online\", \"operate\", \"opinions\", \"opportunities\", \"opportunities\", \"opportunities\", \"opportunity\", \"opportunity\", \"opportunity\", \"opportunity\", \"optimal\", \"optimal\", \"options\", \"options\", \"order\", \"order\", \"order\", \"order\", \"ordinary\", \"organizational\", \"organizations\", \"orientation\", \"outcomes\", \"outdated\", \"outdated\", \"outlook\", \"outlook\", \"overcome\", \"overcrowded\", \"overcrowded\", \"overrun\", \"pacific\", \"page\", \"par\", \"parental\", \"parents\", \"parents\", \"parents\", \"partnership\", \"passion\", \"passion\", \"passion\", \"passions\", \"passions\", \"path\", \"path\", \"path\", \"pathologist\", \"pathologist\", \"patient\", \"peers\", \"peers\", \"peers\", \"pens\", \"peoples\", \"percentages\", \"peril\", \"perseverance\", \"persevering\", \"phenomenal\", \"phenomenal\", \"photography\", \"photography\", \"physical\", \"physical\", \"physical\", \"physical\", \"physically\", \"physically\", \"physics\", \"place\", \"place\", \"place\", \"place\", \"place\", \"place\", \"place\", \"place\", \"play\", \"play\", \"play\", \"play\", \"playground\", \"plentiful\", \"plentiful\", \"pocket\", \"poetry\", \"polite\", \"political\", \"political\", \"poor\", \"poor\", \"poorest\", \"poorest\", \"popular\", \"portion\", \"portion\", \"poses\", \"position\", \"positive\", \"positive\", \"positive\", \"positive\", \"positive\", \"poster\", \"pot\", \"pot\", \"pot\", \"poverty\", \"poverty\", \"poverty\", \"poverty\", \"poverty\", \"power\", \"power\", \"power\", \"praise\", \"pre\", \"pre\", \"pre\", \"prefer\", \"pregnancies\", \"prek\", \"prek\", \"prepare\", \"presence\", \"presenting\", \"prevent\", \"prevent\", \"price\", \"price\", \"price\", \"price\", \"prizes\", \"producing\", \"professional\", \"professional\", \"professional\", \"profit\", \"program\", \"program\", \"program\", \"program\", \"program\", \"prouder\", \"provide\", \"provide\", \"provide\", \"provide\", \"providing\", \"pull\", \"pull\", \"pushes\", \"qualify\", \"qualify\", \"qualify\", \"qualify\", \"questioners\", \"quick\", \"quiet\", \"quiet\", \"quiet\", \"quote\", \"quote\", \"quote\", \"races\", \"rainbow\", \"raised\", \"raised\", \"rank\", \"reached\", \"reading\", \"reading\", \"reading\", \"reading\", \"reading\", \"reads\", \"ready\", \"ready\", \"ready\", \"ready\", \"really\", \"really\", \"really\", \"really\", \"really\", \"really\", \"reasons\", \"reasons\", \"receive\", \"receive\", \"receive\", \"receive\", \"receive\", \"recognized\", \"redirecting\", \"reduced\", \"reduced\", \"reduced\", \"reduced\", \"refuse\", \"regards\", \"regular\", \"regular\", \"relationship\", \"relies\", \"religion\", \"religion\", \"remain\", \"remain\", \"remember\", \"remember\", \"remember\", \"require\", \"require\", \"require\", \"research\", \"reside\", \"reside\", \"reside\", \"resides\", \"resilient\", \"resilient\", \"resource\", \"resourceful\", \"resources\", \"resources\", \"resources\", \"resources\", \"respond\", \"response\", \"restrictive\", \"reward\", \"reward\", \"reward\", \"reward\", \"rewarded\", \"rewards\", \"richly\", \"room\", \"room\", \"room\", \"room\", \"room\", \"roots\", \"routes\", \"routinely\", \"rug\", \"sake\", \"sample\", \"sat\", \"savvy\", \"savvy\", \"scholarship\", \"scholarship\", \"schools\", \"science\", \"science\", \"science\", \"scientists\", \"scientists\", \"scientists\", \"seating\", \"seating\", \"seats\", \"seats\", \"sections\", \"sections\", \"seeing\", \"seeing\", \"seeing\", \"select\", \"select\", \"selected\", \"sense\", \"sensitive\", \"sensory\", \"sensory\", \"services\", \"services\", \"services\", \"servicing\", \"servicing\", \"servicing\", \"sessions\", \"sessions\", \"set\", \"set\", \"set\", \"setup\", \"setup\", \"seuss\", \"seuss\", \"severe\", \"severe\", \"sexual\", \"shelters\", \"shelters\", \"shelters\", \"shelters\", \"shoes\", \"shoes\", \"shopping\", \"silly\", \"silly\", \"similar\", \"similar\", \"similar\", \"simple\", \"simple\", \"simplest\", \"simplest\", \"singing\", \"singing\", \"sit\", \"sit\", \"sit\", \"site\", \"sitting\", \"sitting\", \"sixth\", \"sixth\", \"sixth\", \"skills\", \"skills\", \"small\", \"smartboard\", \"smoothly\", \"socialization\", \"solely\", \"solid\", \"solid\", \"solution\", \"source\", \"spaces\", \"spanish\", \"sparks\", \"speak\", \"speak\", \"speak\", \"speak\", \"speaking\", \"special\", \"special\", \"special\", \"special\", \"special\", \"special\", \"special\", \"special\", \"species\", \"spectrum\", \"spectrum\", \"speech\", \"speech\", \"speech\", \"spent\", \"spent\", \"spontaneous\", \"spunky\", \"stand\", \"stand\", \"stand\", \"standing\", \"state\", \"state\", \"state\", \"statement\", \"states\", \"station\", \"status\", \"status\", \"staying\", \"steer\", \"stem\", \"stimulating\", \"stimulating\", \"stools\", \"stopping\", \"stretch\", \"stretch\", \"strong\", \"strong\", \"strong\", \"strong\", \"structure\", \"student\", \"student\", \"student\", \"student\", \"student\", \"studies\", \"studio\", \"succeed\", \"succeed\", \"succeed\", \"succeeds\", \"success\", \"success\", \"success\", \"successfully\", \"suffer\", \"suggestions\", \"sum\", \"superheroes\", \"superheroes\", \"supplies\", \"supplies\", \"supplies\", \"supplies\", \"supplies\", \"supplies\", \"support\", \"support\", \"support\", \"supposed\", \"supposed\", \"surround\", \"surround\", \"switch\", \"symbols\", \"syndrome\", \"tables\", \"tables\", \"tactile\", \"tad\", \"talkers\", \"teach\", \"teach\", \"teach\", \"teach\", \"teach\", \"teach\", \"teach\", \"teach\", \"teach\", \"teacher\", \"teacher\", \"teacher\", \"teacher\", \"teacher\", \"teacher\", \"teammates\", \"tech\", \"technology\", \"technology\", \"teen\", \"tenth\", \"therapist\", \"therapy\", \"therapy\", \"therapy\", \"things\", \"things\", \"things\", \"things\", \"things\", \"things\", \"thinkers\", \"thinkers\", \"thinkers\", \"thought\", \"thought\", \"thoughtful\", \"thoughtful\", \"thoughtful\", \"thrilled\", \"thrown\", \"tied\", \"title\", \"title\", \"title\", \"title\", \"title\", \"title\", \"tone\", \"tools\", \"tools\", \"trade\", \"tradition\", \"training\", \"trains\", \"trains\", \"traits\", \"transform\", \"translate\", \"translate\", \"traumatic\", \"travelers\", \"treasure\", \"treasures\", \"trial\", \"twice\", \"type\", \"uncommon\", \"underprivileged\", \"understands\", \"unfair\", \"unfortunate\", \"united\", \"units\", \"units\", \"universities\", \"unsafe\", \"upcoming\", \"upcoming\", \"ups\", \"ups\", \"upward\", \"usa\", \"use\", \"use\", \"use\", \"variety\", \"variety\", \"venues\", \"verbal\", \"verbal\", \"views\", \"virtually\", \"vision\", \"vision\", \"visit\", \"vivacious\", \"volleyball\", \"volunteer\", \"want\", \"want\", \"want\", \"want\", \"want\", \"want\", \"want\", \"wanting\", \"wanting\", \"warm\", \"warm\", \"warm\", \"washington\", \"watching\", \"watching\", \"ways\", \"ways\", \"ways\", \"ways\", \"ways\", \"went\", \"went\", \"west\", \"west\", \"wholehearted\", \"whopping\", \"wildlife\", \"willingness\", \"willingness\", \"willingness\", \"witness\", \"witness\", \"witty\", \"wonderful\", \"wonderful\", \"wonderful\", \"wonderful\", \"work\", \"work\", \"work\", \"work\", \"work\", \"works\", \"works\", \"world\", \"world\", \"world\", \"world\", \"world\", \"worse\", \"wow\", \"wrong\", \"year\", \"year\", \"year\", \"year\", \"year\", \"year\", \"yearning\", \"yemeni\", \"york\", \"york\", \"york\", \"york\", \"york\", \"york\", \"zone\"]}, \"R\": 30, \"lambda.step\": 0.01, \"plot.opts\": {\"xlab\": \"PC1\", \"ylab\": \"PC2\"}, \"topic.order\": [13, 10, 2, 1, 19, 3, 9, 14, 12, 16, 4, 18, 7, 17, 20, 11, 15, 5, 8, 6]};\n",
       "\n",
       "function LDAvis_load_lib(url, callback){\n",
       "  var s = document.createElement('script');\n",
       "  s.src = url;\n",
       "  s.async = true;\n",
       "  s.onreadystatechange = s.onload = callback;\n",
       "  s.onerror = function(){console.warn(\"failed to load library \" + url);};\n",
       "  document.getElementsByTagName(\"head\")[0].appendChild(s);\n",
       "}\n",
       "\n",
       "if(typeof(LDAvis) !== \"undefined\"){\n",
       "   // already loaded: just create the visualization\n",
       "   !function(LDAvis){\n",
       "       new LDAvis(\"#\" + \"ldavis_el5847182753561927356678298\", ldavis_el5847182753561927356678298_data);\n",
       "   }(LDAvis);\n",
       "}else if(typeof define === \"function\" && define.amd){\n",
       "   // require.js is available: use it to load d3/LDAvis\n",
       "   require.config({paths: {d3: \"https://cdnjs.cloudflare.com/ajax/libs/d3/3.5.5/d3.min\"}});\n",
       "   require([\"d3\"], function(d3){\n",
       "      window.d3 = d3;\n",
       "      LDAvis_load_lib(\"https://cdn.rawgit.com/bmabey/pyLDAvis/files/ldavis.v1.0.0.js\", function(){\n",
       "        new LDAvis(\"#\" + \"ldavis_el5847182753561927356678298\", ldavis_el5847182753561927356678298_data);\n",
       "      });\n",
       "    });\n",
       "}else{\n",
       "    // require.js not available: dynamically load d3 & LDAvis\n",
       "    LDAvis_load_lib(\"https://cdnjs.cloudflare.com/ajax/libs/d3/3.5.5/d3.min.js\", function(){\n",
       "         LDAvis_load_lib(\"https://cdn.rawgit.com/bmabey/pyLDAvis/files/ldavis.v1.0.0.js\", function(){\n",
       "                 new LDAvis(\"#\" + \"ldavis_el5847182753561927356678298\", ldavis_el5847182753561927356678298_data);\n",
       "            })\n",
       "         });\n",
       "}\n",
       "</script>"
      ],
      "text/plain": [
       "PreparedData(topic_coordinates=            Freq  cluster  topics         x         y\n",
       "topic                                                \n",
       "12     67.913729        1       1  0.111778  0.034817\n",
       "9       8.216426        1       2  0.211521  0.073786\n",
       "1       4.351058        1       3  0.266507  0.140520\n",
       "0       2.538007        1       4  0.232547 -0.307050\n",
       "18      2.067090        1       5  0.125105  0.064381\n",
       "2       1.453167        1       6 -0.000411 -0.002914\n",
       "8       1.202026        1       7  0.027031  0.059233\n",
       "13      1.195761        1       8 -0.040307 -0.055049\n",
       "11      1.133352        1       9 -0.043620  0.023259\n",
       "15      1.087217        1      10 -0.069275 -0.022620\n",
       "3       1.071231        1      11 -0.060168  0.010667\n",
       "17      1.001789        1      12 -0.017959  0.021249\n",
       "6       0.998939        1      13 -0.078285 -0.013940\n",
       "16      0.899138        1      14 -0.105989 -0.000951\n",
       "19      0.894614        1      15 -0.070380 -0.029517\n",
       "10      0.847840        1      16 -0.105668 -0.006175\n",
       "14      0.806998        1      17 -0.101906  0.000470\n",
       "4       0.804692        1      18 -0.101697 -0.000052\n",
       "7       0.792866        1      19 -0.098958  0.002075\n",
       "5       0.724058        1      20 -0.079866  0.007812, topic_info=     Category        Freq           Term       Total  loglift  logprob\n",
       "term                                                                  \n",
       "598   Default  361.000000           come  361.000000  30.0000  30.0000\n",
       "1987  Default  403.000000          learn  403.000000  29.0000  29.0000\n",
       "492   Default  199.000000     challenges  199.000000  28.0000  28.0000\n",
       "552   Default  400.000000      classroom  400.000000  27.0000  27.0000\n",
       "806   Default  336.000000            day  336.000000  26.0000  26.0000\n",
       "1127  Default  244.000000        english  244.000000  25.0000  25.0000\n",
       "3710  Default  231.000000           want  231.000000  24.0000  24.0000\n",
       "2319  Default  314.000000            new  314.000000  23.0000  23.0000\n",
       "1990  Default  243.000000       learners  243.000000  22.0000  22.0000\n",
       "1991  Default  424.000000       learning  424.000000  21.0000  21.0000\n",
       "325   Default  201.000000           best  201.000000  20.0000  20.0000\n",
       "2082  Default  190.000000            low  190.000000  19.0000  19.0000\n",
       "1049  Default  280.000000      education  280.000000  18.0000  18.0000\n",
       "523   Default  269.000000       children  269.000000  17.0000  17.0000\n",
       "3808  Default  248.000000           year  248.000000  16.0000  16.0000\n",
       "3781  Default  286.000000           work  286.000000  15.0000  15.0000\n",
       "2648  Default  183.000000        poverty  183.000000  14.0000  14.0000\n",
       "1506  Default  286.000000          grade  286.000000  13.0000  13.0000\n",
       "1297  Default  161.000000       families  161.000000  12.0000  12.0000\n",
       "2304  Default  244.000000          needs  244.000000  11.0000  11.0000\n",
       "757   Default  139.000000       creative  139.000000  10.0000  10.0000\n",
       "1214  Default  155.000000        excited  155.000000   9.0000   9.0000\n",
       "2748  Default  171.000000        provide  171.000000   8.0000   8.0000\n",
       "540   Default  161.000000           city  161.000000   7.0000   7.0000\n",
       "1236  Default  136.000000    experiences  136.000000   6.0000   6.0000\n",
       "3231  Default  242.000000        special  242.000000   5.0000   5.0000\n",
       "3450  Default  181.000000     technology  181.000000   4.0000   4.0000\n",
       "1932  Default  140.000000   kindergarten  140.000000   3.0000   3.0000\n",
       "1020  Default  212.000000          eager  212.000000   2.0000   2.0000\n",
       "1412  Default  203.000000           free  203.000000   1.0000   1.0000\n",
       "...       ...         ...            ...         ...      ...      ...\n",
       "613   Topic20    0.135338  communication   28.618883  -0.4260  -8.2498\n",
       "2942  Topic20    0.135338    resourceful    3.857739   1.5780  -8.2498\n",
       "3547  Topic20    0.135338       training    8.280721   0.8141  -8.2498\n",
       "2178  Topic20    0.135338        methods   11.342974   0.4995  -8.2498\n",
       "3670  Topic20    0.135338         verbal   21.491498  -0.1396  -8.2498\n",
       "138   Topic20    0.135338        amazing  157.928146  -2.1341  -8.2498\n",
       "2923  Topic20    0.135338        require   51.530899  -1.0141  -8.2498\n",
       "2353  Topic20    0.135338            non   34.880094  -0.6238  -8.2498\n",
       "3434  Topic20    0.135338          teach  217.316739  -2.4533  -8.2498\n",
       "358   Topic20    0.135338          books  120.189850  -1.8610  -8.2498\n",
       "2445  Topic20    0.135338    opportunity   98.589296  -1.6629  -8.2498\n",
       "3811  Topic20    0.135338       yearning    6.873853   1.0004  -8.2498\n",
       "1199  Topic20    0.135338        exactly   10.898837   0.5394  -8.2498\n",
       "46    Topic20    0.135338        actions    9.106366   0.7191  -8.2498\n",
       "3027  Topic20    0.135338          savvy   11.809127   0.4592  -8.2498\n",
       "3444  Topic20    0.135338           tech   11.055271   0.5252  -8.2498\n",
       "2940  Topic20    0.135338       resource   10.301747   0.5958  -8.2498\n",
       "250   Topic20    0.135338       autistic   11.834469   0.4571  -8.2498\n",
       "1705  Topic20    0.135338    imagination   12.377407   0.4122  -8.2498\n",
       "759   Topic20    0.135338     creativity   35.716834  -0.6475  -8.2498\n",
       "3589  Topic20    0.135338           type   15.498470   0.1873  -8.2498\n",
       "1815  Topic20    0.135338    inspiration   13.777629   0.3050  -8.2498\n",
       "2932  Topic20    0.135338         reside   21.420075  -0.1363  -8.2498\n",
       "1338  Topic20    0.135338           film    5.498734   1.2236  -8.2498\n",
       "492   Topic20    0.135338     challenges  199.799721  -2.3692  -8.2498\n",
       "1122  Topic20    0.135338     engagement   18.019871   0.0366  -8.2498\n",
       "1991  Topic20    0.135338       learning  424.386566  -3.1226  -8.2498\n",
       "3163  Topic20    0.135338          sixth   33.866200  -0.5943  -8.2498\n",
       "1845  Topic20    0.135338    intelligent   21.663606  -0.1476  -8.2498\n",
       "1158  Topic20    0.135338         entire   24.364649  -0.2651  -8.2498\n",
       "\n",
       "[1004 rows x 6 columns], token_table=      Topic      Freq         Term\n",
       "term                              \n",
       "6         5  0.746313    absorbing\n",
       "8        10  0.856547       abused\n",
       "9         1  0.729768     academic\n",
       "9         3  0.157401     academic\n",
       "9         4  0.078700     academic\n",
       "9         5  0.014309     academic\n",
       "9        13  0.014309     academic\n",
       "11        1  0.962363    academics\n",
       "19        1  0.962154       access\n",
       "19       10  0.022639       access\n",
       "40        2  0.881017     acquired\n",
       "41        4  0.820248    acquiring\n",
       "46        2  0.109813      actions\n",
       "46        3  0.768693      actions\n",
       "50        1  0.813114     activity\n",
       "50       12  0.150577     activity\n",
       "60        1  0.957111     addition\n",
       "64        7  0.807337    addressed\n",
       "69        2  0.039138         adhd\n",
       "69        3  0.704485         adhd\n",
       "69        5  0.195690         adhd\n",
       "70        8  0.774973   adirondack\n",
       "75        8  0.700843    admirable\n",
       "78       14  0.839343  adolescents\n",
       "87        1  0.596252     advances\n",
       "89        2  0.915524    adventure\n",
       "90        2  0.894273   adventures\n",
       "97        3  0.785060    affecting\n",
       "102       2  0.854507       afraid\n",
       "105       1  0.596816    afternoon\n",
       "...     ...       ...          ...\n",
       "3781      1  0.796405         work\n",
       "3781      2  0.111776         work\n",
       "3781      3  0.031437         work\n",
       "3781      5  0.038423         work\n",
       "3781      8  0.020958         work\n",
       "3787      1  0.587573        works\n",
       "3787      7  0.352544        works\n",
       "3791      1  0.855175        world\n",
       "3791      2  0.065783        world\n",
       "3791      5  0.023921        world\n",
       "3791      8  0.023921        world\n",
       "3791     15  0.029901        world\n",
       "3794     10  0.780073        worse\n",
       "3799      7  0.688555          wow\n",
       "3805      3  0.858628        wrong\n",
       "3808      1  0.745952         year\n",
       "3808      2  0.181448         year\n",
       "3808      5  0.016129         year\n",
       "3808      6  0.008064         year\n",
       "3808      9  0.024193         year\n",
       "3808     12  0.020161         year\n",
       "3811      1  0.727394     yearning\n",
       "3814      1  0.588535       yemeni\n",
       "3818      1  0.783108         york\n",
       "3818      2  0.084988         york\n",
       "3818      5  0.030353         york\n",
       "3818      8  0.018212         york\n",
       "3818     11  0.060706         york\n",
       "3818     12  0.012141         york\n",
       "3826      6  0.800410         zone\n",
       "\n",
       "[1759 rows x 3 columns], R=30, lambda_step=0.01, plot_opts={'xlab': 'PC1', 'ylab': 'PC2'}, topic_order=[13, 10, 2, 1, 19, 3, 9, 14, 12, 16, 4, 18, 7, 17, 20, 11, 15, 5, 8, 6])"
      ]
     },
     "execution_count": 110,
     "metadata": {},
     "output_type": "execute_result"
    }
   ],
   "source": [
    "pyLDAvis.sklearn.prepare(lda_tfidf, dtm_tfidf, tfidf_vectorizer)"
   ]
  },
  {
   "cell_type": "code",
   "execution_count": 111,
   "metadata": {},
   "outputs": [
    {
     "data": {
      "text/html": [
       "\n",
       "<link rel=\"stylesheet\" type=\"text/css\" href=\"https://cdn.rawgit.com/bmabey/pyLDAvis/files/ldavis.v1.0.0.css\">\n",
       "\n",
       "\n",
       "<div id=\"ldavis_el5847182716128081468623207\"></div>\n",
       "<script type=\"text/javascript\">\n",
       "\n",
       "var ldavis_el5847182716128081468623207_data = {\"mdsDat\": {\"Freq\": [67.91372910632329, 8.216426396513233, 4.351058314636357, 2.5380070711471294, 2.0670904540047674, 1.4531674913052852, 1.2020264655762252, 1.1957606290755867, 1.1333522934987457, 1.0872169151908522, 1.071230919309963, 1.0017891983742402, 0.9989386183794743, 0.8991383007545468, 0.8946135774371289, 0.8478398045798495, 0.8069984030737372, 0.8046920734362827, 0.7928663904484842, 0.7240575769348276], \"cluster\": [1, 1, 1, 1, 1, 1, 1, 1, 1, 1, 1, 1, 1, 1, 1, 1, 1, 1, 1, 1], \"topics\": [1, 2, 3, 4, 5, 6, 7, 8, 9, 10, 11, 12, 13, 14, 15, 16, 17, 18, 19, 20], \"x\": [0.11177751866980698, 0.21152149802317569, 0.2665066593575287, 0.23254674052226731, 0.12510507924568, -0.00041095349643053284, 0.027031333030747402, -0.04030723568213905, -0.0436199642590517, -0.06927485000476095, -0.060168255651682094, -0.017959240619080136, -0.0782851974780564, -0.10598853316102042, -0.07037961644479769, -0.10566795345029134, -0.10190643060285966, -0.10169713728916871, -0.09895793313559327, -0.07986552757427383], \"y\": [0.034816947146136076, 0.07378568803739163, 0.14052029108506423, -0.307049984460299, 0.06438138917780908, -0.002914001850730074, 0.0592329128197704, -0.05504948094605799, 0.023259329861031672, -0.022619879522434116, 0.010666774776491278, 0.021248765252370464, -0.013939993220241661, -0.0009512983443077849, -0.029517394118839232, -0.006175067024549885, 0.00047009842584328296, -5.157498140039755e-05, 0.002074706498666047, 0.007811771388285334]}, \"tinfo\": {\"Category\": [\"Default\", \"Default\", \"Default\", \"Default\", \"Default\", \"Default\", \"Default\", \"Default\", \"Default\", \"Default\", \"Default\", \"Default\", \"Default\", \"Default\", \"Default\", \"Default\", \"Default\", \"Default\", \"Default\", \"Default\", \"Default\", \"Default\", \"Default\", \"Default\", \"Default\", \"Default\", \"Default\", \"Default\", \"Default\", \"Default\", \"Topic1\", \"Topic1\", \"Topic1\", \"Topic1\", \"Topic1\", \"Topic1\", \"Topic1\", \"Topic1\", \"Topic1\", \"Topic1\", \"Topic1\", \"Topic1\", \"Topic1\", \"Topic1\", \"Topic1\", \"Topic1\", \"Topic1\", \"Topic1\", \"Topic1\", \"Topic1\", \"Topic1\", \"Topic1\", \"Topic1\", \"Topic1\", \"Topic1\", \"Topic1\", \"Topic1\", \"Topic1\", \"Topic1\", \"Topic1\", \"Topic1\", \"Topic1\", \"Topic1\", \"Topic1\", \"Topic1\", \"Topic1\", \"Topic1\", \"Topic1\", \"Topic1\", \"Topic1\", \"Topic1\", \"Topic1\", \"Topic1\", \"Topic1\", \"Topic1\", \"Topic1\", \"Topic1\", \"Topic1\", \"Topic1\", \"Topic1\", \"Topic1\", \"Topic1\", \"Topic1\", \"Topic1\", \"Topic1\", \"Topic1\", \"Topic1\", \"Topic1\", \"Topic1\", \"Topic1\", \"Topic1\", \"Topic1\", \"Topic1\", \"Topic1\", \"Topic1\", \"Topic1\", \"Topic1\", \"Topic1\", \"Topic1\", \"Topic1\", \"Topic1\", \"Topic1\", \"Topic1\", \"Topic1\", \"Topic1\", \"Topic1\", \"Topic1\", \"Topic1\", \"Topic1\", \"Topic1\", \"Topic1\", \"Topic1\", \"Topic2\", \"Topic2\", \"Topic2\", \"Topic2\", \"Topic2\", \"Topic2\", \"Topic2\", \"Topic2\", \"Topic2\", \"Topic2\", \"Topic2\", \"Topic2\", \"Topic2\", \"Topic2\", \"Topic2\", \"Topic2\", \"Topic2\", \"Topic2\", \"Topic2\", \"Topic2\", \"Topic2\", \"Topic2\", \"Topic2\", \"Topic2\", \"Topic2\", \"Topic2\", \"Topic2\", \"Topic2\", \"Topic2\", \"Topic2\", \"Topic2\", \"Topic2\", \"Topic2\", \"Topic2\", \"Topic2\", \"Topic2\", \"Topic2\", \"Topic2\", \"Topic2\", \"Topic2\", \"Topic2\", \"Topic2\", \"Topic2\", \"Topic2\", \"Topic2\", \"Topic2\", \"Topic2\", \"Topic2\", \"Topic2\", \"Topic2\", \"Topic2\", \"Topic2\", \"Topic2\", \"Topic2\", \"Topic2\", \"Topic2\", \"Topic2\", \"Topic2\", \"Topic2\", \"Topic2\", \"Topic2\", \"Topic2\", \"Topic2\", \"Topic2\", \"Topic2\", \"Topic2\", \"Topic2\", \"Topic2\", \"Topic2\", \"Topic2\", \"Topic2\", \"Topic2\", \"Topic3\", \"Topic3\", \"Topic3\", \"Topic3\", \"Topic3\", \"Topic3\", \"Topic3\", \"Topic3\", \"Topic3\", \"Topic3\", \"Topic3\", \"Topic3\", \"Topic3\", \"Topic3\", \"Topic3\", \"Topic3\", \"Topic3\", \"Topic3\", \"Topic3\", \"Topic3\", \"Topic3\", \"Topic3\", \"Topic3\", \"Topic3\", \"Topic3\", \"Topic3\", \"Topic3\", \"Topic3\", \"Topic3\", \"Topic3\", \"Topic3\", \"Topic3\", \"Topic3\", \"Topic3\", \"Topic3\", \"Topic3\", \"Topic3\", \"Topic3\", \"Topic3\", \"Topic3\", \"Topic3\", \"Topic3\", \"Topic3\", \"Topic3\", \"Topic3\", \"Topic3\", \"Topic3\", \"Topic3\", \"Topic3\", \"Topic3\", \"Topic3\", \"Topic3\", \"Topic3\", \"Topic3\", \"Topic3\", \"Topic3\", \"Topic3\", \"Topic3\", \"Topic3\", \"Topic3\", \"Topic3\", \"Topic3\", \"Topic3\", \"Topic3\", \"Topic4\", \"Topic4\", \"Topic4\", \"Topic4\", \"Topic4\", \"Topic4\", \"Topic4\", \"Topic4\", \"Topic4\", \"Topic4\", \"Topic4\", \"Topic4\", \"Topic4\", \"Topic4\", \"Topic4\", \"Topic4\", \"Topic4\", \"Topic4\", \"Topic4\", \"Topic4\", \"Topic4\", \"Topic4\", \"Topic4\", \"Topic4\", \"Topic4\", \"Topic4\", \"Topic4\", \"Topic4\", \"Topic4\", \"Topic4\", \"Topic4\", \"Topic4\", \"Topic4\", \"Topic4\", \"Topic4\", \"Topic4\", \"Topic4\", \"Topic4\", \"Topic4\", \"Topic4\", \"Topic4\", \"Topic4\", \"Topic4\", \"Topic4\", \"Topic4\", \"Topic4\", \"Topic4\", \"Topic4\", \"Topic4\", \"Topic4\", \"Topic4\", \"Topic4\", \"Topic4\", \"Topic4\", \"Topic4\", \"Topic4\", \"Topic4\", \"Topic4\", \"Topic4\", \"Topic4\", \"Topic5\", \"Topic5\", \"Topic5\", \"Topic5\", \"Topic5\", \"Topic5\", \"Topic5\", \"Topic5\", \"Topic5\", \"Topic5\", \"Topic5\", \"Topic5\", \"Topic5\", \"Topic5\", \"Topic5\", \"Topic5\", \"Topic5\", \"Topic5\", \"Topic5\", \"Topic5\", \"Topic5\", \"Topic5\", \"Topic5\", \"Topic5\", \"Topic5\", \"Topic5\", \"Topic5\", \"Topic5\", \"Topic5\", \"Topic5\", \"Topic5\", \"Topic5\", \"Topic5\", \"Topic5\", \"Topic5\", \"Topic5\", \"Topic5\", \"Topic5\", \"Topic5\", \"Topic5\", \"Topic5\", \"Topic5\", \"Topic5\", \"Topic5\", \"Topic5\", \"Topic5\", \"Topic5\", \"Topic5\", \"Topic5\", \"Topic5\", \"Topic5\", \"Topic5\", \"Topic6\", \"Topic6\", \"Topic6\", \"Topic6\", \"Topic6\", \"Topic6\", \"Topic6\", \"Topic6\", \"Topic6\", \"Topic6\", \"Topic6\", \"Topic6\", \"Topic6\", \"Topic6\", \"Topic6\", \"Topic6\", \"Topic6\", \"Topic6\", \"Topic6\", \"Topic6\", \"Topic6\", \"Topic6\", \"Topic6\", \"Topic6\", \"Topic6\", \"Topic6\", \"Topic6\", \"Topic6\", \"Topic6\", \"Topic6\", \"Topic6\", \"Topic6\", \"Topic6\", \"Topic6\", \"Topic6\", \"Topic6\", \"Topic6\", \"Topic6\", \"Topic6\", \"Topic6\", \"Topic6\", \"Topic7\", \"Topic7\", \"Topic7\", \"Topic7\", \"Topic7\", \"Topic7\", \"Topic7\", \"Topic7\", \"Topic7\", \"Topic7\", \"Topic7\", \"Topic7\", \"Topic7\", \"Topic7\", \"Topic7\", \"Topic7\", \"Topic7\", \"Topic7\", \"Topic7\", \"Topic7\", \"Topic7\", \"Topic7\", \"Topic7\", \"Topic7\", \"Topic7\", \"Topic7\", \"Topic7\", \"Topic7\", \"Topic7\", \"Topic7\", \"Topic7\", \"Topic7\", \"Topic7\", \"Topic7\", \"Topic7\", \"Topic7\", \"Topic7\", \"Topic7\", \"Topic7\", \"Topic7\", \"Topic7\", \"Topic7\", \"Topic7\", \"Topic7\", \"Topic7\", \"Topic7\", \"Topic7\", \"Topic8\", \"Topic8\", \"Topic8\", \"Topic8\", \"Topic8\", \"Topic8\", \"Topic8\", \"Topic8\", \"Topic8\", \"Topic8\", \"Topic8\", \"Topic8\", \"Topic8\", \"Topic8\", \"Topic8\", \"Topic8\", \"Topic8\", \"Topic8\", \"Topic8\", \"Topic8\", \"Topic8\", \"Topic8\", \"Topic8\", \"Topic8\", \"Topic8\", \"Topic8\", \"Topic8\", \"Topic8\", \"Topic8\", \"Topic8\", \"Topic8\", \"Topic8\", \"Topic8\", \"Topic8\", \"Topic8\", \"Topic8\", \"Topic8\", \"Topic8\", \"Topic8\", \"Topic8\", \"Topic8\", \"Topic8\", \"Topic8\", \"Topic8\", \"Topic8\", \"Topic8\", \"Topic8\", \"Topic8\", \"Topic8\", \"Topic9\", \"Topic9\", \"Topic9\", \"Topic9\", \"Topic9\", \"Topic9\", \"Topic9\", \"Topic9\", \"Topic9\", \"Topic9\", \"Topic9\", \"Topic9\", \"Topic9\", \"Topic9\", \"Topic9\", \"Topic9\", \"Topic9\", \"Topic9\", \"Topic9\", \"Topic9\", \"Topic9\", \"Topic9\", \"Topic9\", \"Topic9\", \"Topic9\", \"Topic9\", \"Topic9\", \"Topic9\", \"Topic9\", \"Topic9\", \"Topic9\", \"Topic9\", \"Topic9\", \"Topic9\", \"Topic9\", \"Topic9\", \"Topic9\", \"Topic9\", \"Topic9\", \"Topic9\", \"Topic9\", \"Topic9\", \"Topic9\", \"Topic9\", \"Topic9\", \"Topic9\", \"Topic9\", \"Topic9\", \"Topic9\", \"Topic9\", \"Topic9\", \"Topic10\", \"Topic10\", \"Topic10\", \"Topic10\", \"Topic10\", \"Topic10\", \"Topic10\", \"Topic10\", \"Topic10\", \"Topic10\", \"Topic10\", \"Topic10\", \"Topic10\", \"Topic10\", \"Topic10\", \"Topic10\", \"Topic10\", \"Topic10\", \"Topic10\", \"Topic10\", \"Topic10\", \"Topic10\", \"Topic10\", \"Topic10\", \"Topic10\", \"Topic10\", \"Topic10\", \"Topic10\", \"Topic10\", \"Topic10\", \"Topic10\", \"Topic10\", \"Topic10\", \"Topic10\", \"Topic10\", \"Topic10\", \"Topic10\", \"Topic10\", \"Topic10\", \"Topic10\", \"Topic10\", \"Topic10\", \"Topic10\", \"Topic10\", \"Topic11\", \"Topic11\", \"Topic11\", \"Topic11\", \"Topic11\", \"Topic11\", \"Topic11\", \"Topic11\", \"Topic11\", \"Topic11\", \"Topic11\", \"Topic11\", \"Topic11\", \"Topic11\", \"Topic11\", \"Topic11\", \"Topic11\", \"Topic11\", \"Topic11\", \"Topic11\", \"Topic11\", \"Topic11\", \"Topic11\", \"Topic11\", \"Topic11\", \"Topic11\", \"Topic11\", \"Topic11\", \"Topic11\", \"Topic11\", \"Topic11\", \"Topic11\", \"Topic11\", \"Topic11\", \"Topic11\", \"Topic11\", \"Topic11\", \"Topic11\", \"Topic11\", \"Topic11\", \"Topic11\", \"Topic11\", \"Topic11\", \"Topic11\", \"Topic12\", \"Topic12\", \"Topic12\", \"Topic12\", \"Topic12\", \"Topic12\", \"Topic12\", \"Topic12\", \"Topic12\", \"Topic12\", \"Topic12\", \"Topic12\", \"Topic12\", \"Topic12\", \"Topic12\", \"Topic12\", \"Topic12\", \"Topic12\", \"Topic12\", \"Topic12\", \"Topic12\", \"Topic12\", \"Topic12\", \"Topic12\", \"Topic12\", \"Topic12\", \"Topic12\", \"Topic12\", \"Topic12\", \"Topic12\", \"Topic12\", \"Topic12\", \"Topic12\", \"Topic12\", \"Topic12\", \"Topic12\", \"Topic12\", \"Topic12\", \"Topic12\", \"Topic12\", \"Topic12\", \"Topic12\", \"Topic12\", \"Topic12\", \"Topic12\", \"Topic12\", \"Topic12\", \"Topic13\", \"Topic13\", \"Topic13\", \"Topic13\", \"Topic13\", \"Topic13\", \"Topic13\", \"Topic13\", \"Topic13\", \"Topic13\", \"Topic13\", \"Topic13\", \"Topic13\", \"Topic13\", \"Topic13\", \"Topic13\", \"Topic13\", \"Topic13\", \"Topic13\", \"Topic13\", \"Topic13\", \"Topic13\", \"Topic13\", \"Topic13\", \"Topic13\", \"Topic13\", \"Topic13\", \"Topic13\", \"Topic13\", \"Topic13\", \"Topic13\", \"Topic13\", \"Topic13\", \"Topic13\", \"Topic13\", \"Topic13\", \"Topic13\", \"Topic13\", \"Topic13\", \"Topic14\", \"Topic14\", \"Topic14\", \"Topic14\", \"Topic14\", \"Topic14\", \"Topic14\", \"Topic14\", \"Topic14\", \"Topic14\", \"Topic14\", \"Topic14\", \"Topic14\", \"Topic14\", \"Topic14\", \"Topic14\", \"Topic14\", \"Topic14\", \"Topic14\", \"Topic14\", \"Topic14\", \"Topic14\", \"Topic14\", \"Topic14\", \"Topic14\", \"Topic14\", \"Topic14\", \"Topic14\", \"Topic14\", \"Topic14\", \"Topic14\", \"Topic14\", \"Topic14\", \"Topic14\", \"Topic14\", \"Topic14\", \"Topic15\", \"Topic15\", \"Topic15\", \"Topic15\", \"Topic15\", \"Topic15\", \"Topic15\", \"Topic15\", \"Topic15\", \"Topic15\", \"Topic15\", \"Topic15\", \"Topic15\", \"Topic15\", \"Topic15\", \"Topic15\", \"Topic15\", \"Topic15\", \"Topic15\", \"Topic15\", \"Topic15\", \"Topic15\", \"Topic15\", \"Topic15\", \"Topic15\", \"Topic15\", \"Topic15\", \"Topic15\", \"Topic15\", \"Topic15\", \"Topic15\", \"Topic15\", \"Topic15\", \"Topic15\", \"Topic15\", \"Topic15\", \"Topic16\", \"Topic16\", \"Topic16\", \"Topic16\", \"Topic16\", \"Topic16\", \"Topic16\", \"Topic16\", \"Topic16\", \"Topic16\", \"Topic16\", \"Topic16\", \"Topic16\", \"Topic16\", \"Topic16\", \"Topic16\", \"Topic16\", \"Topic16\", \"Topic16\", \"Topic16\", \"Topic16\", \"Topic16\", \"Topic16\", \"Topic16\", \"Topic16\", \"Topic16\", \"Topic16\", \"Topic16\", \"Topic16\", \"Topic16\", \"Topic16\", \"Topic16\", \"Topic16\", \"Topic17\", \"Topic17\", \"Topic17\", \"Topic17\", \"Topic17\", \"Topic17\", \"Topic17\", \"Topic17\", \"Topic17\", \"Topic17\", \"Topic17\", \"Topic17\", \"Topic17\", \"Topic17\", \"Topic17\", \"Topic17\", \"Topic17\", \"Topic17\", \"Topic17\", \"Topic17\", \"Topic17\", \"Topic17\", \"Topic17\", \"Topic17\", \"Topic17\", \"Topic17\", \"Topic17\", \"Topic17\", \"Topic17\", \"Topic17\", \"Topic17\", \"Topic17\", \"Topic17\", \"Topic17\", \"Topic17\", \"Topic17\", \"Topic17\", \"Topic17\", \"Topic17\", \"Topic17\", \"Topic18\", \"Topic18\", \"Topic18\", \"Topic18\", \"Topic18\", \"Topic18\", \"Topic18\", \"Topic18\", \"Topic18\", \"Topic18\", \"Topic18\", \"Topic18\", \"Topic18\", \"Topic18\", \"Topic18\", \"Topic18\", \"Topic18\", \"Topic18\", \"Topic18\", \"Topic18\", \"Topic18\", \"Topic18\", \"Topic18\", \"Topic18\", \"Topic18\", \"Topic18\", \"Topic18\", \"Topic18\", \"Topic18\", \"Topic18\", \"Topic18\", \"Topic18\", \"Topic19\", \"Topic19\", \"Topic19\", \"Topic19\", \"Topic19\", \"Topic19\", \"Topic19\", \"Topic19\", \"Topic19\", \"Topic19\", \"Topic19\", \"Topic19\", \"Topic19\", \"Topic19\", \"Topic19\", \"Topic19\", \"Topic19\", \"Topic19\", \"Topic19\", \"Topic19\", \"Topic19\", \"Topic19\", \"Topic19\", \"Topic19\", \"Topic19\", \"Topic19\", \"Topic19\", \"Topic19\", \"Topic19\", \"Topic19\", \"Topic19\", \"Topic19\", \"Topic19\", \"Topic19\", \"Topic19\", \"Topic19\", \"Topic19\", \"Topic19\", \"Topic19\", \"Topic19\", \"Topic19\", \"Topic19\", \"Topic19\", \"Topic19\", \"Topic19\", \"Topic20\", \"Topic20\", \"Topic20\", \"Topic20\", \"Topic20\", \"Topic20\", \"Topic20\", \"Topic20\", \"Topic20\", \"Topic20\", \"Topic20\", \"Topic20\", \"Topic20\", \"Topic20\", \"Topic20\", \"Topic20\", \"Topic20\", \"Topic20\", \"Topic20\", \"Topic20\", \"Topic20\", \"Topic20\", \"Topic20\", \"Topic20\", \"Topic20\", \"Topic20\", \"Topic20\", \"Topic20\", \"Topic20\", \"Topic20\", \"Topic20\", \"Topic20\", \"Topic20\", \"Topic20\", \"Topic20\", \"Topic20\", \"Topic20\", \"Topic20\", \"Topic20\", \"Topic20\", \"Topic20\", \"Topic20\", \"Topic20\", \"Topic20\", \"Topic20\", \"Topic20\", \"Topic20\", \"Topic20\", \"Topic20\", \"Topic20\", \"Topic20\", \"Topic20\", \"Topic20\", \"Topic20\", \"Topic20\", \"Topic20\", \"Topic20\", \"Topic20\", \"Topic20\", \"Topic20\"], \"Freq\": [361.0, 403.0, 199.0, 400.0, 336.0, 244.0, 231.0, 314.0, 243.0, 424.0, 201.0, 190.0, 280.0, 269.0, 248.0, 286.0, 183.0, 286.0, 161.0, 244.0, 139.0, 155.0, 171.0, 161.0, 136.0, 242.0, 181.0, 140.0, 212.0, 203.0, 98.31107699102375, 81.83776065925632, 60.276328231704795, 52.11807556106197, 50.43945639107535, 45.36355680331896, 44.861400870513, 43.97635521517909, 72.03311356256621, 144.80438370101123, 40.997135822119624, 39.20198561714165, 38.92581188776028, 36.89223379804491, 37.52564102299268, 62.103170967090904, 35.72099929347745, 35.594773507974324, 35.5577997054545, 35.21766880527595, 84.52821820936178, 34.57971758279581, 34.2039142242843, 34.12789254281374, 33.93466882756667, 33.76810565640287, 33.707917402772416, 33.50241985836324, 33.41743477815521, 33.342002362346484, 89.28377088440045, 94.98118703211463, 171.13942666594238, 103.94720226194639, 140.96273447830956, 58.478400037485144, 48.653144569380146, 50.67881038537847, 84.24898105006642, 119.58913631676016, 92.00279045325254, 220.82046112974243, 170.66467776434604, 79.27364167599501, 78.0015346492784, 223.82643487287623, 106.22575636321451, 210.05032104953077, 104.4430590727637, 103.36349758294034, 215.85801257755233, 92.07188815020884, 111.42907236543113, 127.32121459100443, 114.74538256505352, 331.6872397892509, 284.83562308142973, 250.25597910501097, 157.56711814076849, 227.58771171477215, 219.34210971401976, 142.55156829668158, 296.0247915690078, 164.65996678077022, 161.26509313859452, 285.5209694118675, 206.4513066634625, 135.67061748604925, 171.99166294867314, 181.19073346353557, 183.59243650887552, 203.810366325389, 217.52726692095257, 185.31772208151827, 176.33875245313814, 199.15813480950095, 152.82447987753886, 156.69273048741601, 205.29657978035146, 171.41369290887664, 164.51257473334687, 153.13129960371822, 19.566445731297335, 16.881367419942322, 12.613003971231239, 11.880640159925049, 11.673432765237305, 10.807731249805018, 10.472872386600573, 10.046253418948693, 9.902777747022197, 9.595751303409045, 9.55967861052997, 9.536276566737133, 9.164201079365283, 8.994583930533393, 8.901654173038532, 8.806058580032163, 8.72921823552844, 8.721020228628133, 8.634527907623013, 8.628944875437064, 8.565821826220848, 8.267272442516859, 8.171935635634991, 7.981837985543565, 7.852897194001901, 7.775602016337091, 7.760103333841351, 7.757124934028944, 9.65074951070001, 7.560987599945333, 10.906115739828786, 11.100657594683764, 14.450211495167181, 13.341572178742219, 17.68649449402459, 11.244794687200061, 9.718701836375644, 60.862799410493366, 24.307305180268106, 33.038512435842954, 28.690521995544227, 19.853927521887513, 22.888864154549907, 58.984534729792266, 44.659070595784435, 23.558376740609862, 15.821428104437235, 45.80628267707948, 28.788651890792018, 48.78880321901668, 36.5709046101525, 18.368256176324156, 18.043605873755443, 23.5858307910242, 28.516706700154497, 39.23810633565463, 29.016879676838176, 25.454175860283573, 31.523710790327208, 29.846353341192945, 32.766932516797034, 31.502675275067595, 25.721139457442, 27.48429315189769, 26.66361311723741, 32.950704964040035, 26.4111453194565, 27.69059251701221, 25.267808458923938, 24.755986521900162, 24.578300796800633, 23.82127226515393, 21.914566453336842, 18.943504101235998, 17.941818712615753, 17.838457192745487, 15.221075532537045, 14.55123768821154, 13.415185771065428, 11.414422289201044, 18.745621215243435, 10.22813795456317, 9.695154505820172, 9.441698524559776, 8.897984514235672, 8.616456352641448, 8.432390968443547, 8.355935432922282, 8.314050023595843, 7.981848847522038, 7.813490891819896, 7.503221632123595, 7.198853404860895, 6.719859584506245, 6.674613640851388, 6.388602214150478, 6.1932030652425, 6.058872954949913, 6.020471524248535, 5.911516121810777, 5.818951899438698, 5.689938544966268, 26.215649797254144, 13.040547963454117, 14.494264220768095, 18.473159400795264, 50.364523719177875, 10.233045839065866, 44.31427504388182, 10.704779132210922, 21.455991591689298, 18.691155848023197, 12.706426272730543, 23.501917441941963, 18.699539633637396, 54.97774676095666, 22.97970532782278, 27.36177696920329, 12.734791458394488, 41.184032110007315, 38.69743992142421, 19.25207374113873, 13.062413730119301, 14.314911145784881, 33.11113209085517, 17.179778426909092, 27.246071227819357, 27.255136215677275, 21.56934537227382, 19.99033894876723, 17.539720144112568, 25.292247001167755, 24.394680123173302, 20.087994928833037, 20.045699687555654, 17.824221615271018, 21.436614646874556, 15.557082314675117, 8.532180938145252, 8.17513969474747, 6.8708094940749245, 6.805093385666588, 37.88508782943983, 6.2380754901314885, 5.933481898907204, 5.787546357131784, 34.1479129580975, 18.844985545668884, 5.260602434275374, 4.871977707669027, 19.93936394993686, 4.578179705995406, 4.492744333543929, 4.393095989691062, 4.390326701798658, 3.9809002178721937, 3.7582503309036452, 3.7238927926932157, 3.614279904278056, 3.6060057372772705, 3.5735537181376587, 14.159834393233487, 3.2713568595147247, 12.467525489043023, 3.20204922296267, 3.1785535586851554, 41.64260052671777, 15.448969837356755, 47.51554830684048, 9.330933081060182, 17.431964694790246, 17.93007629647865, 7.112027620613612, 18.301468186161962, 70.33870902974287, 34.43342570926812, 8.803624155144748, 45.27772882082706, 43.82321428374289, 15.768853091630417, 27.476873727237166, 33.903440487984554, 18.85538186778826, 35.233461949099706, 31.533328153960174, 29.717717251966647, 33.31212558239366, 18.460825343747434, 26.057116866784188, 17.671724640407092, 26.262029537354433, 24.184137311660475, 22.758748979419956, 27.574429507589297, 16.93037353899382, 18.2787627104421, 14.903622360326752, 11.40638815912743, 10.959155713680635, 10.726413398997785, 28.00198314006747, 9.274929661662211, 12.692880808613529, 8.760020992117338, 7.279652824431256, 7.260414750365796, 6.889357658475686, 6.871936475860007, 15.0098742804654, 6.811801710334508, 6.426366182104433, 12.542382080803392, 6.185244374810691, 5.848213546442117, 5.792288009408842, 5.613708107766627, 5.46724869921978, 5.463683771101756, 5.398711502053716, 5.3746446843544105, 15.752116428231549, 5.17277071521346, 5.164511871594129, 10.664639201406791, 5.124409358691059, 4.896596864534882, 11.201512161174243, 17.36587544043998, 8.87880845021235, 11.114539345216848, 15.4937475662306, 6.750298298257316, 13.27955011557566, 11.814465972900933, 6.92675744815559, 8.36140526532004, 7.024512944881239, 12.856283484134803, 8.233102917363821, 8.155639982582361, 11.196171181918587, 8.827846478812928, 9.1342645539576, 9.232615536915398, 8.272274534388025, 7.609240157571224, 7.702660281703944, 7.62898545515713, 14.486430262210371, 12.59920133805887, 11.83147772273849, 11.399502518163324, 11.1633670480882, 10.187300788288308, 8.820360257504433, 8.229071766745083, 7.3640740534051945, 7.275930830654002, 7.15436288027024, 7.055692733394574, 6.732377247530181, 6.703978454525103, 6.516923744248187, 6.362849280336599, 10.879448937382532, 6.242283308106588, 6.175865731940829, 6.150820768578416, 5.957550072573202, 5.947682208456715, 5.930037062327799, 5.9254017017861145, 12.757606992643302, 5.6779176232871515, 5.674590576671901, 5.664931356002873, 5.332792606314576, 5.285764599489921, 8.689344696560386, 7.928561839093087, 10.47572229307071, 10.401427978988524, 11.239758762449341, 7.436940339648172, 7.011492168329919, 8.97316645398716, 8.529179958845164, 8.873455150505611, 6.348159782616298, 11.198780944808203, 10.451497344031694, 9.710878510212702, 8.777375610943585, 8.353898577307282, 8.128363707076545, 7.6141008608442755, 7.169059072114593, 6.410493466913485, 6.22058020937735, 5.873558058202421, 11.575657893216915, 11.398985978608192, 5.380875004740367, 5.085386740818929, 4.99083414168254, 4.593349078598721, 4.329567800003398, 4.277644577192606, 4.250991693757591, 4.2134793172425065, 4.117746008024361, 4.0339374813834965, 4.032680137963603, 3.9161313584763975, 3.710607147010005, 3.6372218000724432, 3.3865447920599565, 10.052813896400538, 8.7070875883069, 7.773794388215894, 23.51803599980192, 12.060424707761872, 7.943375309479739, 5.780304858403482, 8.732946630477787, 8.805965367612538, 7.854942442476615, 8.069646726203066, 8.148146334619996, 7.969507200933235, 6.6668242244149445, 8.428058265071451, 6.525633030119691, 6.66532029635249, 6.483643876635006, 5.943647076849213, 12.031572263355471, 9.908655844037725, 9.709402435887542, 9.198960575113345, 7.4738019716869974, 7.321078494228608, 13.274804226500772, 7.095523916432599, 6.179238875678181, 6.049066455044001, 5.758015577330505, 5.488806029040109, 5.344543600618654, 5.163549446704862, 5.068392920708048, 4.804943105068274, 4.803082041107464, 4.706326610697581, 4.549364144774271, 4.185733598031108, 4.148644057766305, 4.137583580571193, 4.096201115123535, 4.082784632943815, 3.7129856931020577, 3.539761874625466, 3.539761877808024, 3.5397618669798754, 3.5076910421927328, 3.434243635586393, 7.208059353862557, 5.142544879873431, 9.58140127479151, 4.096761703513337, 5.482579324805149, 10.874853698123102, 14.595490787035589, 8.126656922534988, 8.388981714767722, 7.4520213393660235, 6.808618188368368, 5.54211349830271, 7.226062815164373, 8.232348789014555, 7.345786919854972, 5.266938474452608, 6.444921619129893, 6.068846574534643, 5.9458822750013365, 16.875716394058543, 16.216444574369966, 8.131169588856965, 7.63351872927628, 7.253313181062548, 6.8159051156225114, 6.736242153627908, 6.736242153487816, 6.294252357718937, 6.195957390683337, 5.459953456614531, 5.242790890457535, 5.212944134367054, 5.038045543331754, 4.991625261208794, 4.99067700644906, 4.8463413958861405, 4.409176531640954, 4.164606702510433, 4.157840984642419, 3.936182755864993, 6.697493965241489, 3.494607924514501, 3.2582610067882314, 15.06720916933241, 3.019111270504597, 6.168549784427801, 14.586500046846925, 15.49680467417394, 12.865234036237409, 13.690746018171582, 7.1953265918753875, 21.47755215535009, 15.02709217374684, 11.038389464182583, 10.907694365399017, 17.23886164672194, 14.845290518891655, 9.871967120682523, 10.10477141591201, 10.129023352171236, 12.054649900713578, 9.380640710552507, 9.087412552944407, 10.50063172752672, 9.119627815489658, 8.108694045818227, 8.748953746358163, 7.830175648198181, 7.1824742915909825, 6.936967458123003, 11.779415298724686, 11.573281296425693, 11.504961079365675, 9.590186624518546, 9.11234982773765, 7.787752828495292, 7.528956168185596, 7.452152559719411, 6.697353049988777, 6.356731219260696, 6.260999478878653, 6.232343471052896, 5.674566484991321, 4.9296568416529265, 4.4620314790563915, 4.429394274754116, 4.329033584601654, 3.7353876992777133, 3.575644461110204, 3.5503179170363492, 3.3978051702317007, 2.7542843427489845, 9.11559377249319, 5.158563804022511, 5.935253822095072, 5.286262363617585, 6.438000457011048, 6.075575424413577, 6.041419500054011, 2.493576090817758, 7.066262005665247, 10.00158672035493, 13.008017080492577, 9.032992389814254, 11.373260782376306, 9.692377752897396, 6.404756376252754, 5.788278589304557, 6.126450574239151, 8.82847781375105, 9.069283991778203, 7.054843137627534, 7.3803494301264365, 6.001371775227184, 18.54296347757978, 16.1446693393189, 13.965727477859078, 13.656555391038221, 12.078122182108626, 11.69137274608771, 8.915725154443766, 8.578407066582068, 7.6725113133226195, 7.664826855416191, 7.663815016943802, 7.08912750040772, 7.044793453566902, 5.7570227567857755, 5.704142752531254, 5.687143121230948, 5.4698183732889465, 14.471583974567846, 4.899314080018147, 4.766933219308803, 3.841955616021361, 3.6908915835716054, 5.324553836005433, 16.34912566587354, 5.561232854683278, 10.994217775869418, 10.852191188527755, 6.137134863864028, 4.940651484605228, 5.352607627454249, 15.66628793063374, 11.400943054707449, 10.180563576144108, 11.568924307728912, 9.450809387471706, 10.417923331490632, 9.98791297478643, 8.426719510081115, 8.076901478574499, 7.868318285282629, 7.701694587432812, 7.655326172868218, 6.386338506436924, 7.221311471733408, 14.589240943980123, 8.24548799522542, 7.281474933283679, 6.9349721548499925, 6.932455700214266, 5.396964144193869, 5.152421661198776, 5.051295311755107, 4.889741682715903, 4.018003367095948, 3.9790130221172335, 17.552397026289327, 2.99233461125205, 11.100586449700085, 2.8456099076394152, 3.4363955597882923, 3.937615332997777, 10.708758711633303, 5.628451692146977, 4.033837384313644, 3.8362355285017804, 2.160838693458168, 14.118995612254341, 4.269609633833152, 3.5067148486283517, 5.15620200092371, 11.568019564035312, 11.540358902556765, 5.024133581846172, 1.894639768854215, 13.000222913466187, 8.331954049932403, 8.71563295215726, 10.610450771571974, 11.24553871333209, 7.865959197798511, 7.690138012050496, 11.415663116683413, 7.4557583871564015, 6.966509261355929, 6.143672485625061, 5.946465623983266, 5.5332357196233675, 5.466286592257314, 5.409995188451637, 5.310556794504598, 5.237969621008691, 16.065258715476062, 13.189725951200609, 11.023489475752813, 10.23192471450173, 7.589273236220974, 7.319026737065136, 6.714165417411162, 6.6442807602862874, 6.374589717707942, 6.3453880010685015, 6.244742152318358, 6.239281689873071, 6.049981280933442, 5.918093541673832, 5.757509238927587, 5.560607424055403, 5.325207195079602, 4.830465306930775, 4.526394643857443, 6.350758218277407, 7.871486058575069, 5.840487468460611, 4.071059479746648, 5.264707166262035, 4.603976610152172, 4.996408069973085, 5.436913180078179, 2.855242925463509, 4.867867247965418, 4.606413652496675, 5.239429762728674, 5.234830595136395, 4.798553073233511, 5.809882254732514, 6.552898033537714, 5.742746713722875, 5.469140351957001, 5.260868380966882, 5.266133968592939, 16.214697731407583, 13.187176321096066, 12.55082573576981, 11.492005613575138, 8.367464534503632, 7.994918493506538, 7.679827476235717, 7.289768470658584, 7.014676479250384, 6.4160703532362335, 5.965816364628992, 5.824834734229962, 5.572459407707327, 5.1622611355552825, 5.147772564683053, 5.105562942786954, 5.054327946108945, 5.054327929108135, 4.756523698791346, 4.60243776024112, 4.227123001675059, 4.227122983302087, 4.227122979802449, 3.794548041385594, 3.634943258535784, 3.1189439472344733, 5.843131314573715, 4.479417689270562, 5.733786533741699, 5.9972072559405065, 5.495072635832111, 8.705846417459073, 4.738779660093455, 5.397779962644008, 4.323842721521119, 4.297162877098415, 13.68187874897317, 20.390216791702297, 10.010191771357537, 8.850882846233722, 8.204816909913637, 5.245131294555874, 9.482147564583459, 9.51821555520116, 9.34064445219988, 4.604507183438848, 9.157191685706875, 3.7385078523070807, 8.075912189936364, 7.9931776626944195, 4.173907182717997, 7.825144316527922, 4.2652111447894425, 7.6864600717060725, 7.30047953740804, 7.3720466738623855, 3.824565331448464, 6.795836537754115, 1.1591087836476743, 6.577984136153448, 6.0677733472209185, 5.979401636397459, 5.5126372518711, 5.470170677307379, 8.817000022079636, 5.462108669532978, 7.1561407611440435, 5.470148226829774, 5.1515570392681385, 5.126766110555774, 4.990171057964396, 4.855823330748127, 13.575159470042623, 13.515561514937751, 10.808887495196952, 10.494730054879856, 10.442942800605165, 9.809419800388802, 7.966445749645863, 6.519264571707529, 6.488046994364316, 5.9954498378831, 5.099968991010438, 4.425628831825426, 4.42529289686409, 8.232883207160167, 8.05894883910549, 4.844334708352351, 4.318305544270069, 4.817027183244995, 4.8871473545983815, 4.196371934684102, 5.773455870549764, 5.2986015687535, 4.82281833210185, 3.8994985328708323, 6.456641170350132, 3.7920368309482706, 2.5414488124867964, 3.4462596644966705, 3.2141042504374453, 1.2840560108421706, 4.3256256789867855, 4.370635968722468, 3.319947740794894, 28.769716919824937, 13.02168266144767, 11.970923788147804, 9.878231670807436, 8.617343402537324, 6.886612487443491, 6.8616522391134716, 6.4216377267933895, 6.019365581641044, 11.851250750361283, 5.079370393798549, 4.442851605358404, 3.528999583987254, 5.74937272913498, 5.3669350640846, 3.9379703494905014, 3.9473948499863685, 2.3723561851896715, 3.4410566822419137, 5.531037277078225, 0.11126146244147941, 0.11126146279353367, 0.11126146309737275, 0.11126146298175806, 0.11126146381735887, 0.11126146398670703, 0.11126146338353105, 0.11126146349697891, 0.11126146277839384, 0.11126146358321162, 0.1116563533574088, 0.11126373920115713, 0.11126285060791863, 0.1112623370508626, 0.11126211145329251, 0.11126209586742952, 0.11126203144438503, 0.1112620103025652, 0.1112619237008957, 0.11126190447385934, 10.289694166547385, 8.960407258259426, 8.835245970051872, 8.813853254243686, 8.676780124118435, 8.05409418107316, 7.375486615460352, 7.224980254080147, 7.224980250138982, 7.2087334661561036, 6.11095734245888, 6.020865868551392, 4.410552692718728, 6.796545887071253, 7.809188935681849, 6.789287814330658, 1.9695225092052424, 3.332831473038852, 3.0053581170053523, 1.827312552383094, 1.799070801497262, 1.680594246944517, 3.0455889881761755, 1.5587362731069876, 3.169143054790381, 1.5584490744113695, 2.0038614373076578, 1.5367271747921285, 0.1128006983808585, 0.11280069893130233, 0.11281305540042613, 0.11281274258758256, 13.434474743183817, 11.669308694415825, 11.019541934770972, 8.956733776786985, 7.250672068132506, 6.020045577394983, 9.099329088426813, 9.592081620136875, 9.050458263930555, 8.66070459116001, 8.989158776418831, 9.417540744967452, 9.983056561555552, 9.03808371062997, 7.923627925357402, 0.1120290455079052, 0.11202904509517096, 0.11202904509097529, 0.11202904571168727, 0.11202904632880539, 0.11202904522884806, 0.1120290463339226, 0.11202904617836965, 0.11202904604003594, 0.11202904576920131, 0.11202904517715476, 0.11202904543664527, 0.11202904562437802, 0.11202904676860874, 0.11202904528156873, 0.11203020699436375, 0.11202952473081905, 0.11202941016217256, 0.11202936372326733, 0.11202927781880156, 0.11202926819201584, 0.11202925580823436, 0.11202924744545986, 0.11202922203677768, 0.1120291976060094, 0.11202919263946799, 0.1120291784503544, 0.11202917294526285, 0.11202916952225817, 0.11202916891229811, 0.1353380389509755, 0.13533803786480397, 0.13533803799035155, 0.13533803764950872, 0.13533803903094332, 0.1353380370051518, 0.13533803719369353, 0.13533803851424414, 0.13533803919521767, 0.13533803802384708, 0.1353380382630734, 0.1353380382179286, 0.1353380380281375, 0.1353380373443218, 0.13533803810442255, 0.13533803874679504, 0.13533803774177436, 0.1353380387678109, 0.13533803798864863, 0.13533803717221024, 0.13533803866655233, 0.13533803834610192, 0.1353380380545171, 0.13533803774000688, 0.13533803773315595, 0.13533803859631063, 0.13533803832239763, 0.13533803723572208, 0.135338037797542, 0.13533803741573083, 0.13533813404025274, 0.13533811114776756, 0.13533809917263032, 0.13533809398473978, 0.13533809023038934, 0.13533808923566462, 0.13533808579415782, 0.135338080610571, 0.13533808016697252, 0.13533807875732862, 0.1353380769580552, 0.1353380758597537, 0.13533807471358833, 0.13533807437539447, 0.13533807420704727, 0.1353380739368632, 0.13533807329742495, 0.13533807319431415, 0.13533807204027554, 0.13533807185245095, 0.13533807090782893, 0.13533807089507088, 0.13533807026418945, 0.13533807002999665, 0.1353380692587305, 0.13533806869223874, 0.1353380685936348, 0.13533806827385783, 0.135338068138047, 0.13533806780255564], \"Term\": [\"come\", \"learn\", \"challenges\", \"classroom\", \"day\", \"english\", \"want\", \"new\", \"learners\", \"learning\", \"best\", \"low\", \"education\", \"children\", \"year\", \"work\", \"poverty\", \"grade\", \"families\", \"needs\", \"creative\", \"excited\", \"provide\", \"city\", \"experiences\", \"special\", \"technology\", \"kindergarten\", \"eager\", \"free\", \"small\", \"music\", \"schools\", \"spanish\", \"computer\", \"engage\", \"american\", \"providing\", \"college\", \"skills\", \"improve\", \"united\", \"states\", \"leaders\", \"concepts\", \"basic\", \"express\", \"stem\", \"sense\", \"studies\", \"access\", \"end\", \"research\", \"creativity\", \"addition\", \"growing\", \"background\", \"prepare\", \"overcome\", \"speaking\", \"opportunities\", \"succeed\", \"technology\", \"art\", \"student\", \"instruction\", \"age\", \"build\", \"variety\", \"science\", \"create\", \"help\", \"community\", \"tools\", \"success\", \"need\", \"math\", \"english\", \"just\", \"use\", \"language\", \"parents\", \"live\", \"backgrounds\", \"support\", \"learning\", \"come\", \"new\", \"reading\", \"work\", \"class\", \"world\", \"learn\", \"diverse\", \"different\", \"classroom\", \"children\", \"resources\", \"teach\", \"high\", \"learners\", \"education\", \"love\", \"year\", \"want\", \"grade\", \"make\", \"nmy\", \"day\", \"needs\", \"special\", \"eager\", \"learns\", \"isn\", \"adventure\", \"mistakes\", \"fund\", \"succeeds\", \"visit\", \"hunger\", \"structure\", \"adventures\", \"washington\", \"central\", \"thrilled\", \"poetry\", \"animals\", \"barely\", \"appreciative\", \"underprivileged\", \"basics\", \"acquired\", \"expressing\", \"continually\", \"respond\", \"aloud\", \"rug\", \"afraid\", \"got\", \"fabulous\", \"gift\", \"page\", \"easily\", \"moment\", \"watching\", \"singing\", \"favorite\", \"upcoming\", \"late\", \"day\", \"exciting\", \"wonderful\", \"energetic\", \"boys\", \"girls\", \"learn\", \"year\", \"old\", \"seeing\", \"love\", \"ready\", \"classroom\", \"eager\", \"ensure\", \"faces\", \"curious\", \"excited\", \"come\", \"group\", \"kindergarten\", \"children\", \"want\", \"new\", \"work\", \"amazing\", \"make\", \"hard\", \"learning\", \"best\", \"education\", \"poverty\", \"title\", \"grade\", \"teacher\", \"disorders\", \"disorder\", \"impairments\", \"tactile\", \"improvements\", \"occupational\", \"disturbance\", \"auditory\", \"verbal\", \"figuring\", \"impaired\", \"therapist\", \"wrong\", \"parental\", \"nice\", \"happiest\", \"staying\", \"praise\", \"online\", \"reads\", \"pocket\", \"nalmost\", \"restrictive\", \"syndrome\", \"quick\", \"affecting\", \"frustration\", \"input\", \"impairment\", \"dollars\", \"sensory\", \"array\", \"mixture\", \"adhd\", \"autism\", \"function\", \"speech\", \"passions\", \"therapy\", \"intervention\", \"cognitive\", \"spectrum\", \"delays\", \"disabilities\", \"services\", \"emotional\", \"severe\", \"needs\", \"special\", \"integrated\", \"intellectual\", \"behavior\", \"education\", \"including\", \"class\", \"grade\", \"academic\", \"general\", \"fourth\", \"classroom\", \"learning\", \"love\", \"learn\", \"environment\", \"certainly\", \"earliest\", \"spontaneous\", \"acquiring\", \"smartboard\", \"loud\", \"control\", \"socialization\", \"hinder\", \"roots\", \"simple\", \"hopeful\", \"vivacious\", \"ease\", \"minute\", \"virtually\", \"witty\", \"position\", \"presence\", \"spunky\", \"organizational\", \"mobility\", \"statement\", \"injury\", \"foundations\", \"ahead\", \"traumatic\", \"prevent\", \"solely\", \"upward\", \"meaningful\", \"raised\", \"faced\", \"memorable\", \"path\", \"excellence\", \"gone\", \"door\", \"challenges\", \"looking\", \"clever\", \"creative\", \"experiences\", \"status\", \"positive\", \"despite\", \"growth\", \"face\", \"district\", \"things\", \"provide\", \"inspire\", \"income\", \"focus\", \"low\", \"teacher\", \"poverty\", \"classroom\", \"continue\", \"high\", \"chairs\", \"gym\", \"clay\", \"excitable\", \"seating\", \"explosion\", \"exercise\", \"enrollments\", \"friend\", \"dozen\", \"balls\", \"mache\", \"minutes\", \"chair\", \"transform\", \"seats\", \"stools\", \"choosing\", \"fly\", \"nonfiction\", \"volleyball\", \"playground\", \"formation\", \"par\", \"flexible\", \"montessori\", \"einstein\", \"alternative\", \"absorbing\", \"unsafe\", \"overcrowded\", \"laughter\", \"nyou\", \"options\", \"sit\", \"simplest\", \"elementary\", \"long\", \"friendships\", \"hear\", \"sitting\", \"children\", \"appreciate\", \"movement\", \"work\", \"play\", \"hard\", \"grade\", \"child\", \"awesome\", \"physical\", \"learning\", \"standing\", \"carpet\", \"desk\", \"site\", \"floor\", \"successfully\", \"tone\", \"relationship\", \"twice\", \"source\", \"gathering\", \"understands\", \"empowers\", \"court\", \"station\", \"miracle\", \"seuss\", \"steer\", \"metamorphosis\", \"heads\", \"cooking\", \"memory\", \"zone\", \"recognized\", \"nwhen\", \"culinary\", \"fingertips\", \"arctic\", \"improved\", \"fits\", \"units\", \"shoes\", \"feet\", \"meeting\", \"choose\", \"brains\", \"quote\", \"morning\", \"technology\", \"day\", \"explore\", \"gangs\", \"discovering\", \"studio\", \"disadvantages\", \"nest\", \"overrun\", \"belonging\", \"kits\", \"spaces\", \"physics\", \"addressed\", \"pathologist\", \"sessions\", \"compliment\", \"response\", \"monetary\", \"calmer\", \"cabs\", \"insecurities\", \"wow\", \"sensitive\", \"selected\", \"creators\", \"exterior\", \"dna\", \"complain\", \"carefully\", \"patient\", \"pull\", \"gymnasium\", \"reasons\", \"speech\", \"works\", \"authentic\", \"sections\", \"delays\", \"therapy\", \"regular\", \"sixth\", \"hardships\", \"classes\", \"set\", \"education\", \"nwe\", \"city\", \"want\", \"goals\", \"prouder\", \"regards\", \"existent\", \"mountains\", \"adirondack\", \"brooklynite\", \"beings\", \"unfortunate\", \"grape\", \"arriving\", \"intelligences\", \"condition\", \"lies\", \"defy\", \"usa\", \"hooks\", \"poster\", \"cold\", \"lake\", \"capitalize\", \"admirable\", \"carrying\", \"journals\", \"species\", \"wildlife\", \"peril\", \"defying\", \"conservation\", \"tad\", \"gotten\", \"phenomenal\", \"supposed\", \"human\", \"exemplary\", \"impacts\", \"determination\", \"beautiful\", \"odds\", \"districts\", \"lifelong\", \"constant\", \"outdated\", \"poorest\", \"little\", \"better\", \"harder\", \"daily\", \"day\", \"work\", \"flowing\", \"charismatic\", \"mothers\", \"organizations\", \"occur\", \"popular\", \"fathers\", \"errands\", \"follows\", \"sample\", \"chromebook\", \"joys\", \"kindle\", \"innovation\", \"fuel\", \"obesity\", \"outcomes\", \"sparks\", \"teen\", \"flash\", \"stopping\", \"counselor\", \"facilitates\", \"dreaming\", \"alphabet\", \"eclipse\", \"select\", \"colorful\", \"digital\", \"numbers\", \"inviting\", \"photography\", \"passion\", \"remember\", \"nmost\", \"olds\", \"kindergarten\", \"excited\", \"bright\", \"speak\", \"room\", \"amazing\", \"hope\", \"place\", \"day\", \"learn\", \"like\", \"come\", \"families\", \"teacher\", \"english\", \"mom\", \"influence\", \"grandparent\", \"dad\", \"blossom\", \"abused\", \"bleak\", \"aunt\", \"bettering\", \"luxury\", \"dark\", \"suggestions\", \"cloud\", \"characteristics\", \"handicapped\", \"ordinary\", \"heroes\", \"devotion\", \"worse\", \"buses\", \"wholehearted\", \"treasures\", \"crowded\", \"translate\", \"portion\", \"begins\", \"endeavors\", \"outlook\", \"instead\", \"corners\", \"broken\", \"shelters\", \"lives\", \"chance\", \"homes\", \"hope\", \"homeless\", \"power\", \"line\", \"want\", \"come\", \"future\", \"poverty\", \"don\", \"perseverance\", \"lingual\", \"mono\", \"lastly\", \"magnet\", \"business\", \"embracing\", \"gross\", \"rainbow\", \"isolated\", \"polite\", \"junior\", \"developments\", \"routes\", \"prefer\", \"museum\", \"symbols\", \"latin\", \"europe\", \"courageous\", \"shopping\", \"handle\", \"geographic\", \"largest\", \"trains\", \"prek\", \"wanting\", \"servicing\", \"location\", \"contains\", \"america\", \"major\", \"huge\", \"fourth\", \"state\", \"city\", \"york\", \"lack\", \"old\", \"really\", \"classes\", \"program\", \"reside\", \"lunch\", \"expressed\", \"combine\", \"lego\", \"sum\", \"frustrating\", \"classics\", \"intensely\", \"pushes\", \"notoriously\", \"energize\", \"directing\", \"thoughtful\", \"keys\", \"collaboration\", \"kennedy\", \"john\", \"vision\", \"fully\", \"brilliant\", \"quiet\", \"physically\", \"libraries\", \"price\", \"inquiry\", \"thought\", \"nall\", \"girls\", \"qualify\", \"activity\", \"bodies\", \"play\", \"peers\", \"exciting\", \"reduced\", \"creative\", \"engaged\", \"knowledge\", \"learners\", \"lunch\", \"free\", \"needs\", \"special\", \"english\", \"teach\", \"eager\", \"language\", \"children\", \"enriching\", \"clip\", \"june\", \"resides\", \"disciplined\", \"mentally\", \"classmate\", \"treasure\", \"rewarded\", \"trade\", \"humanities\", \"bonded\", \"bins\", \"venues\", \"whopping\", \"teammates\", \"reached\", \"competent\", \"favor\", \"ups\", \"witness\", \"scholarship\", \"chart\", \"professional\", \"empowering\", \"neven\", \"exam\", \"algebra\", \"solid\", \"reward\", \"fulfilling\", \"empower\", \"developed\", \"warm\", \"goal\", \"place\", \"order\", \"strong\", \"majority\", \"races\", \"forever\", \"fundamental\", \"craving\", \"pens\", \"adolescents\", \"impulsive\", \"jazz\", \"goofy\", \"compare\", \"universities\", \"volunteer\", \"civic\", \"borders\", \"gusto\", \"citywide\", \"pacific\", \"islander\", \"oftentimes\", \"prizes\", \"fingerprints\", \"nuclear\", \"brick\", \"extends\", \"profit\", \"political\", \"optimal\", \"plentiful\", \"debate\", \"silly\", \"frustrated\", \"chance\", \"mixed\", \"meet\", \"funny\", \"consists\", \"deprived\", \"cool\", \"cope\", \"tenth\", \"geography\", \"interfere\", \"offered\", \"aren\", \"doesn\", \"remain\", \"eagerness\", \"mean\", \"curiosity\", \"exposed\", \"resilient\", \"neighborhoods\", \"willingness\", \"offer\", \"minds\", \"filled\", \"circumstances\", \"allow\", \"similar\", \"engaged\", \"ways\", \"little\", \"just\", \"hands\", \"best\", \"things\", \"low\", \"experiences\", \"materials\", \"amazing\", \"families\", \"world\", \"entrepreneurs\", \"questioners\", \"talkers\", \"decreased\", \"inspirations\", \"sake\", \"rewards\", \"travelers\", \"redirecting\", \"ambassadors\", \"poses\", \"criteria\", \"refuse\", \"dreamers\", \"mini\", \"budding\", \"demanding\", \"dealing\", \"similar\", \"stimulating\", \"behaviors\", \"crowded\", \"spent\", \"nearly\", \"thinkers\", \"scientists\", \"feet\", \"poor\", \"days\", \"breaks\", \"contained\", \"constantly\", \"circumstances\", \"guide\", \"discovered\", \"suffer\", \"uncommon\", \"bubbly\", \"folders\", \"operate\", \"efficient\", \"notebook\", \"magical\", \"percentages\", \"ensures\", \"superheroes\", \"capture\", \"magic\", \"imaginations\", \"happens\", \"surround\", \"fall\", \"books\", \"humanity\", \"nlast\", \"bridging\", \"ensuring\", \"producing\", \"relies\", \"japanese\", \"commit\", \"facilitator\", \"rank\", \"nmany\", \"academics\", \"opinions\", \"views\", \"year\", \"supplies\", \"home\", \"fantastic\", \"nalthough\", \"minute\", \"assigned\", \"thrown\", \"pregnancies\", \"freely\", \"bounce\", \"persevering\", \"luckiest\", \"sexual\", \"orientation\", \"tied\", \"flowers\", \"sat\", \"switch\", \"religion\", \"domestic\", \"mental\", \"setup\", \"stretch\", \"knows\", \"bands\", \"went\", \"tables\", \"allowing\", \"considering\", \"desks\", \"professional\", \"feet\", \"stand\", \"humanity\", \"nlast\", \"coming\", \"moving\", \"extraordinary\", \"indies\", \"descendants\", \"ntechnology\", \"partnership\", \"smoothly\", \"flatbush\", \"melting\", \"west\", \"pot\", \"enrich\", \"eighth\", \"includes\", \"cuts\", \"budget\", \"humanity\", \"nlast\", \"bridging\", \"ensuring\", \"producing\", \"relies\", \"japanese\", \"commit\", \"facilitator\", \"rank\", \"flow\", \"traits\", \"presenting\", \"peoples\", \"institutions\", \"funds\", \"nthere\", \"financially\", \"heart\", \"lot\", \"pre\", \"old\", \"brooklyn\", \"energetic\", \"area\", \"east\", \"receive\", \"children\", \"nthe\", \"poverty\", \"humanity\", \"nlast\", \"bridging\", \"ensuring\", \"producing\", \"relies\", \"japanese\", \"commit\", \"facilitator\", \"rank\", \"flow\", \"traits\", \"presenting\", \"peoples\", \"institutions\", \"bonus\", \"unfair\", \"nno\", \"solution\", \"broadway\", \"mott\", \"afternoon\", \"advances\", \"trial\", \"card\", \"tradition\", \"richly\", \"forgetting\", \"routinely\", \"yemeni\", \"communication\", \"resourceful\", \"training\", \"methods\", \"verbal\", \"amazing\", \"require\", \"non\", \"teach\", \"books\", \"opportunity\", \"yearning\", \"exactly\", \"actions\", \"savvy\", \"tech\", \"resource\", \"autistic\", \"imagination\", \"creativity\", \"type\", \"inspiration\", \"reside\", \"film\", \"challenges\", \"engagement\", \"learning\", \"sixth\", \"intelligent\", \"entire\"], \"Total\": [361.0, 403.0, 199.0, 400.0, 336.0, 244.0, 231.0, 314.0, 243.0, 424.0, 201.0, 190.0, 280.0, 269.0, 248.0, 286.0, 183.0, 286.0, 161.0, 244.0, 139.0, 155.0, 171.0, 161.0, 136.0, 242.0, 181.0, 140.0, 212.0, 203.0, 99.90419458328813, 83.42666321680697, 61.8655075435249, 53.70697815766987, 52.02835957862592, 46.95247420290499, 46.450304576772155, 45.56525833621425, 74.75673708238696, 150.2880725242072, 42.58661358570481, 40.790887914914286, 40.514714182435945, 38.481136169070126, 39.142196856451626, 64.81437871381317, 37.30993332546057, 37.18367616314784, 37.15806495420975, 36.80657469511823, 88.34347058015425, 36.168987459864034, 35.79281754496111, 35.71683410665201, 35.523571319183176, 35.357070926728866, 35.29682334356769, 35.09132225214135, 35.00633779558877, 34.93090576847283, 93.80879375974904, 99.89304485350794, 181.19541812244256, 109.93162858572991, 150.51517235858825, 61.67645938747681, 51.14524852505926, 53.47507469905162, 90.34520446737004, 129.97003584851822, 99.06226070236032, 247.40283665879403, 190.44673726473823, 85.60574165007593, 84.33212508867273, 256.33905309133326, 117.09287432412987, 244.0874930843996, 115.51302871068357, 114.4472953211417, 255.45909954969812, 101.21971635238141, 125.37446444285354, 145.34115004660575, 129.675649863416, 424.38656612155853, 361.3940642079719, 314.17150115106796, 187.38682495202, 286.2866300122299, 275.2636581443452, 167.21727716813237, 403.0770473304218, 200.29012801902908, 195.45147958751195, 400.72321221458947, 269.62516386112173, 160.1321061292425, 217.31673940624776, 237.95949387884136, 243.12807065479763, 280.0129508259523, 307.3154880971925, 248.0052428013218, 231.281064617539, 286.53207808390425, 196.2068294432847, 205.04828485298322, 336.9401080233323, 244.9554761202486, 242.02880525292642, 212.64944161761997, 21.152963948101995, 18.467885734441637, 14.199521666583284, 13.467158029761762, 13.259957423860056, 12.394248935123017, 12.05939013108125, 11.632771522499162, 11.489295532041005, 11.182269116443482, 11.14619631173778, 11.122794288415525, 10.750718890518248, 10.58110161199669, 10.488171962972599, 10.392576263741885, 10.315735949563383, 10.30753794473709, 10.221045622882174, 10.215462819092723, 10.152339715911966, 9.85379103629855, 9.758453347017037, 9.56835595901097, 9.439414861324757, 9.362119693907255, 9.346621039804546, 9.343642670313747, 11.653032625470424, 9.147505301896416, 13.46808472532809, 13.971332977250356, 21.360731481069468, 19.59808988211398, 29.184985140840563, 15.606613348203513, 12.918463622441505, 336.9401080233323, 65.55976690796368, 118.42754183025157, 93.65260156229415, 49.067523947236516, 64.54021701882658, 403.0770473304218, 248.0052428013218, 71.30009602383429, 33.49360524922712, 307.3154880971925, 122.53943464290694, 400.72321221458947, 212.64944161761997, 46.47837686576917, 46.87705047092029, 91.57096393585407, 155.58245446541457, 361.3940642079719, 186.15195544902443, 140.47633197193056, 269.62516386112173, 231.281064617539, 314.17150115106796, 286.2866300122299, 157.92814641867454, 196.2068294432847, 191.50962443475882, 424.38656612155853, 201.42721379276554, 280.0129508259523, 183.60655635838685, 167.5530152855943, 286.53207808390425, 205.28887147198867, 23.498418699972852, 20.527356620088653, 19.525671012208345, 19.42230939914594, 16.804953619023514, 16.13508989592416, 14.999037992733632, 12.998274847663572, 21.491498230901428, 11.811990128301792, 11.27900678317954, 11.025550877574613, 10.481836717876911, 10.200308932383335, 10.016243409308238, 9.939792130706161, 9.897926333669007, 9.565701330024611, 9.39734309825784, 9.087073890996349, 8.782705639070768, 8.303711751292427, 8.258465912306152, 7.972454386544935, 7.777055251433261, 7.642725155092413, 7.6043239313043935, 7.495368374500973, 7.402804138840519, 7.273790719756, 34.051737041770586, 16.916181342072306, 18.919835867177127, 25.55057792814876, 77.00789540160095, 13.568451119888099, 77.27747788986802, 14.566886250617587, 33.922399570317545, 29.563225422827053, 18.18597697864616, 40.746634990598, 31.228526015312024, 146.35249212115954, 53.21396463736486, 74.17628728471641, 22.199998448989952, 244.9554761202486, 242.02880525292642, 56.45237812960846, 23.953367678600685, 30.135867232584598, 280.0129508259523, 52.251724717180046, 275.2636581443452, 286.53207808390425, 139.77047430066082, 104.79910122990424, 67.88079400152868, 400.72321221458947, 424.38656612155853, 307.3154880971925, 403.0770473304218, 136.1877178046304, 23.0146266750627, 17.135094280911257, 10.110192905875959, 9.753151911851228, 8.448821476143241, 8.38310548929509, 46.95730179663259, 7.816087512956041, 7.5114939333757205, 7.365558367951609, 43.6986068810326, 24.413558492772854, 6.838614437518684, 6.44998973449002, 26.56872798215316, 6.156191700879491, 6.070756342302951, 5.971107997245539, 5.968338687449117, 5.558912203056501, 5.336262336963671, 5.301904805710699, 5.19229189603675, 5.184017720347226, 5.151565703014189, 20.98146230776914, 4.849368837530329, 18.487934764988125, 4.780061207277844, 4.756565535172075, 66.28740751400817, 24.347603938771577, 79.27257486857701, 14.749895992848769, 31.69839187357046, 33.532220178893084, 11.528390606071195, 37.51647389083053, 199.7997212338758, 82.86337923210455, 15.247950639458052, 139.57069963147526, 136.76268331365378, 37.039383861135796, 86.81849135763001, 120.05442871169092, 50.004790912649185, 152.3886208826111, 139.72908113924484, 135.30679107315262, 171.4796868678595, 57.04106582979644, 165.9170381315315, 67.31698317171066, 190.30612391261835, 205.28887147198867, 183.60655635838685, 400.72321221458947, 71.28321865118369, 237.95949387884136, 16.47881760144759, 12.981583493475874, 12.53435094996161, 12.301608638823527, 32.535609024514365, 10.850124901339143, 14.904778413176693, 10.335216206595751, 8.854848549646453, 8.835609979914638, 8.464552920085014, 8.447131712699935, 18.45239514187664, 8.386997424381098, 8.001561400661075, 15.684741924953784, 7.760439594416352, 7.423408785247758, 7.367483229656576, 7.188903369460235, 7.042443967961706, 7.038879003581416, 6.973906727570718, 6.949839907206393, 20.517848458133592, 6.747965958035703, 6.739707090773055, 13.928458451402243, 6.699604577781181, 6.471792119992908, 15.400008086166192, 27.049142336982932, 13.978643572833438, 19.06208266365418, 33.37195533631628, 11.061596210576944, 78.66168416496926, 68.51696234277298, 14.471654271525555, 33.05739422655046, 16.39754123694457, 269.62516386112173, 33.790838175999255, 33.619659717592455, 286.2866300122299, 89.7316656510576, 191.50962443475882, 286.53207808390425, 86.55143412936478, 35.3187750025003, 54.825105629785234, 424.38656612155853, 16.052563524019106, 14.165320363521406, 13.397596969621082, 12.96562157134448, 12.72948611662946, 11.753419872390582, 10.386479357183827, 9.7951908124284, 8.930193098711667, 8.842049873402688, 8.720481915372194, 8.621811815777141, 8.298496473691577, 8.270097518595975, 8.083042773426326, 7.928968309804146, 13.587437948908585, 7.80840233947784, 7.741984760204727, 7.7169398089048045, 7.523669105324355, 7.513801249654182, 7.496156139455321, 7.491520744352348, 16.13718606251972, 7.244036697032895, 7.240709676528501, 7.231050384467224, 6.898911687913986, 6.8518836462315695, 11.701384842656275, 11.098302071261273, 16.370540245371366, 27.08666278147772, 36.81924172577953, 16.553073245111506, 15.105609596303514, 49.39823935841195, 181.19541812244256, 336.9401080233323, 84.82408901416687, 12.757059864154392, 12.009776260774553, 11.26915742852588, 10.335654558261204, 9.912177493155774, 9.686642620483102, 9.172379783050975, 8.727338200378457, 7.968772395855972, 7.778859123180427, 7.431836981988864, 14.861338013990625, 14.679267960197395, 6.9391542985496715, 6.643665681090086, 6.549113101862793, 6.151627989572283, 5.887846756357996, 5.8359234909116715, 5.809270643626759, 5.771758278162953, 5.676024960656634, 5.5922164136746995, 5.59095998021686, 5.4744102815173425, 5.268886162884323, 5.195500730126832, 4.9448237147502, 15.31508151385903, 13.381279669989707, 14.881052009713013, 77.27747788986802, 34.03834739009312, 18.404134480909867, 11.980202287505112, 31.228526015312024, 33.922399570317545, 28.369970311317555, 33.86619950766333, 44.63095738458511, 98.09195361041861, 48.03961222608483, 280.0129508259523, 68.5928190411045, 161.17098291474574, 231.281064617539, 83.30662813629327, 13.5903410269882, 11.467424964280557, 11.268171219802651, 10.757729396208335, 9.03257073610313, 8.879847249663491, 16.1875497436078, 8.654294248137584, 7.738007646289802, 7.6078352315149775, 7.3167843343448755, 7.047574812683748, 6.90331238463633, 6.722318242038593, 6.627161685773074, 6.363711867266672, 6.361850847680815, 6.265095400564075, 6.1081329065229655, 5.744502392180179, 5.707412873433382, 5.6963523471082675, 5.654969940689362, 5.641553415163787, 5.271754457347512, 5.09853063611, 5.0985306407447295, 5.098530635385649, 5.066459809900573, 4.993012401911797, 10.648993241865748, 7.659093080215392, 15.746891912771096, 6.011123067279703, 9.239023067119849, 25.0446139868369, 45.20629485221477, 21.66137342731384, 23.483103979525726, 28.76130385795739, 25.203945645683405, 13.599189217169894, 45.037721336181455, 103.87681969743576, 93.16481036533112, 12.721607470227228, 113.20755641200918, 336.9401080233323, 286.2866300122299, 18.431553465511985, 17.77228168247006, 9.68700666078533, 9.189355862066346, 8.809150278563022, 8.371742240982957, 8.292079222912196, 8.292079224285786, 7.850089450220693, 7.751794475153433, 7.015790526474715, 6.798627968584269, 6.768781209187059, 6.5938826324313675, 6.547462338381801, 6.546514117343798, 6.402178493690809, 5.965014539531242, 5.720443786775387, 5.713678055850402, 5.492019830034053, 9.662006124148885, 5.050445157777071, 4.8140981108927265, 22.785002654952613, 4.574948344178552, 9.376997207814487, 25.604823528655135, 27.869524850593322, 23.52476421549084, 27.038482019043528, 13.295229318872435, 55.63079237119724, 38.46075553069048, 28.315016842351458, 42.9281329449393, 140.47633197193056, 155.58245446541457, 66.03176654906834, 76.23501046513502, 81.08960603306393, 157.92814641867454, 72.22006343133354, 116.9161728555297, 336.9401080233323, 403.0770473304218, 129.99582461468142, 361.3940642079719, 161.4712133372596, 205.28887147198867, 244.0874930843996, 13.331493851808807, 13.125364110142653, 13.057039633995677, 11.142265176733464, 10.664428377496874, 9.339831410056066, 9.08103470840575, 9.0042311103236, 8.249431666199477, 7.90880996328009, 7.813078026039122, 7.784422079406175, 7.226645029785077, 6.481735400138897, 6.014110030700648, 5.981472869649473, 5.881112125757108, 5.287466243591701, 5.127723041994365, 5.102396505702694, 4.9498837128912125, 4.306362932098934, 15.862463259776831, 10.10639096135643, 12.647245096894903, 11.547788836658794, 14.641988019176152, 13.987937313112148, 16.78691346023277, 6.968795443350414, 21.002010026154316, 50.705911008784454, 118.9145919120278, 54.817400689638, 101.26653837539804, 72.22006343133354, 27.621040134812308, 19.47333414813712, 26.12604438774792, 231.281064617539, 361.3940642079719, 89.1732988565867, 183.60655635838685, 86.04796844813497, 20.096820392921515, 17.69852625172326, 15.51958438308323, 15.210412456478412, 13.631979183974119, 13.245229658534535, 10.469582083230756, 10.132263972004147, 9.226368231983168, 9.21868377221362, 9.217671941757768, 8.642984451134202, 8.598650355355455, 7.310879655921288, 7.257999671123544, 7.241000038062306, 7.023675352840468, 18.958271423334775, 6.453170991176776, 6.320790181220411, 5.395812529082687, 5.24474848893183, 8.51229201794011, 26.15359377630722, 9.629531807700868, 23.119198330508375, 23.36408402682681, 13.219823830695749, 10.769361647904669, 11.717906603783781, 37.24901083540388, 28.656640897298256, 27.01179319965787, 67.88079400152868, 45.71197716801703, 161.17098291474574, 164.72824790857, 74.62604022990016, 71.30009602383429, 74.87955342540032, 98.09195361041861, 106.82309957132478, 21.42007459471043, 187.94215378950588, 16.13686332391504, 9.793110415264268, 8.829097358104997, 8.48259454044733, 8.480078128821345, 6.944586534061267, 6.70004487890304, 6.598917701849358, 6.437364068179198, 5.565625744499697, 5.526635462062965, 32.6454949949662, 5.8784531528898, 23.491857442646833, 6.921489625227968, 9.130761854310363, 10.864725196416813, 30.16277605585639, 16.389437259431073, 12.106393043567383, 13.063315466263635, 7.575526907825957, 58.08139047735287, 20.623927834543682, 19.043680098508386, 28.373592637138014, 64.54021701882658, 66.83755530168, 33.20566549369941, 12.893032925974195, 89.7316656510576, 58.679903775786315, 65.55976690796368, 102.80300762788745, 139.57069963147526, 75.89454211329937, 82.32594986382148, 243.12807065479763, 187.94215378950588, 203.13038462541576, 244.9554761202486, 242.02880525292642, 244.0874930843996, 217.31673940624776, 212.64944161761997, 255.45909954969812, 269.62516386112173, 17.61183595946517, 14.736303210241626, 12.570066716913361, 11.778501955378633, 9.135850468461268, 8.86560398226749, 8.260742686548213, 8.190858197677466, 7.921173528208642, 7.891965237397852, 7.79131942092246, 7.785858919661157, 7.596558597028884, 7.46467081325237, 7.304086469918779, 7.1071846592959345, 6.871784438285503, 6.377042575998645, 6.07297188099641, 8.651172238542182, 11.613302752963799, 9.206726170791725, 8.012829156710978, 11.179155555801959, 9.924644147717002, 10.910623238909757, 12.825814503085502, 6.863781102259227, 11.936046654319489, 11.501247776881225, 13.106023937974804, 17.184678348305816, 13.29419510935885, 33.25259326271185, 95.01908051678363, 116.9161728555297, 88.51604439853823, 56.40007109886449, 79.43352035610059, 17.751047665829066, 14.723547127479815, 14.087175634762424, 13.028355512096514, 9.903814459901103, 9.531268487350212, 9.216177372726824, 8.826118412268423, 8.551026373641522, 7.9524202503566235, 7.502166273827768, 7.361219979201852, 7.108809311567071, 6.6986110350460475, 6.684122478907728, 6.64191284843854, 6.59067784927973, 6.590677837726241, 6.2928736035281645, 6.138787670392461, 5.763472905119018, 5.763472894678197, 5.763472890773248, 5.330898503807558, 5.171293160488059, 5.357132188128548, 10.355450219457676, 9.399036816541962, 12.598662048647011, 13.565760920199079, 14.712304229722873, 54.817400689638, 19.839542679174787, 95.71409008851973, 36.364369597795005, 44.13359051190789, 15.216345711245655, 22.714123665844888, 11.544658098839054, 10.385349212756438, 9.739283239915917, 8.749977613794357, 19.591501195565893, 20.565316555626374, 25.675336945313582, 13.954057549953712, 28.661718273257932, 14.413837056523622, 36.76542198909589, 38.52485032063687, 20.904739526828497, 39.53277010190689, 22.396453129190725, 43.89504854198232, 53.228612637423474, 55.31926048960365, 31.712781251492704, 61.759142468076305, 12.561026392979066, 75.89454211329937, 94.33506422612734, 103.87681969743576, 115.51302871068357, 124.42517603181953, 201.42721379276554, 135.30679107315262, 190.30612391261835, 136.76268331365378, 157.0293000587706, 157.92814641867454, 161.4712133372596, 167.21727716813237, 15.103291278242207, 15.043693326122218, 12.337019304220108, 12.022861867510622, 11.971074636255207, 11.337551650141586, 9.494577545114812, 8.0473963705762, 8.016178816899195, 7.52358163577829, 6.628100821238785, 5.953760634751093, 5.953424717679662, 12.156998556341632, 12.437999399740933, 9.066981426414522, 9.089943125233578, 11.045879887718058, 12.561026392979066, 11.299923548177247, 15.896327379078578, 15.862463259776831, 15.753953580302682, 18.181638640045936, 34.36066307611014, 23.786866146664988, 16.370540245371366, 26.857474649229086, 25.29850215282912, 10.819390787002403, 40.36092886375959, 47.54251435634793, 31.712781251492704, 30.290397930247682, 14.542363662704076, 13.491604795628266, 11.398912666282769, 10.138024426377068, 8.40729348348036, 8.382333249560055, 7.942318731623185, 7.54004693459029, 15.15155772327345, 6.600051425110422, 5.963532610827375, 7.190535540024977, 12.057384571697442, 12.336066608103792, 14.095082531013583, 15.16819020857373, 9.270887373176182, 24.15608860943876, 120.1898501583253, 3.045632005164547, 3.1998223240921577, 3.2142093538840784, 3.218670762359506, 3.2339146163279704, 3.244481527703351, 3.2457175719914324, 3.2647169021640092, 3.2682432490236657, 3.2724316412954058, 46.71657267202185, 31.17326227085623, 7.082189545678362, 8.110959056401947, 248.0052428013218, 133.25004906691095, 167.01347808165988, 19.876836218806158, 10.653025901928578, 26.56872798215316, 11.80883594092751, 10.479549170857736, 10.354388075944595, 10.332995018979444, 10.195921996177876, 9.57323613765085, 8.89462839742478, 8.744122072423316, 8.744122077090898, 8.727875248118764, 7.630104886133396, 7.5400076524442134, 5.929694454581843, 9.646682198880034, 11.4924713011123, 15.801260215265259, 4.858883121116548, 8.652730214644864, 9.543586464462138, 5.961999570145682, 6.420350269553365, 6.317371728189457, 13.937723306546106, 7.674176883859773, 18.298053284641572, 11.179155555801959, 16.370540245371366, 14.17780773872342, 3.045632005164547, 3.1998223240921577, 96.51635360984505, 27.29241044801435, 14.954388178073406, 13.189222101517586, 12.539455343961063, 10.47664719669439, 8.770585494991352, 7.5399589900610975, 15.897349670411769, 17.961886935007076, 19.684733963639225, 20.56066588101832, 23.94228041400945, 27.610383712264113, 31.41599137418602, 28.454513918620282, 40.92725732378329, 3.045632005164547, 3.1998223240921577, 3.2142093538840784, 3.218670762359506, 3.2339146163279704, 3.244481527703351, 3.2457175719914324, 3.2647169021640092, 3.2682432490236657, 3.2724316412954058, 3.2802603227444633, 3.3062418389841843, 3.309471609210139, 3.313087986719163, 3.3142907784793407, 29.098322073262704, 14.15055567639182, 15.399650886172877, 40.00889287032977, 71.78354688836538, 86.3100732489045, 71.30009602383429, 82.90183927345932, 93.65260156229415, 122.84324848945369, 43.81181292946412, 156.99591052709596, 269.62516386112173, 70.6268222093072, 183.60655635838685, 3.045632005164547, 3.1998223240921577, 3.2142093538840784, 3.218670762359506, 3.2339146163279704, 3.244481527703351, 3.2457175719914324, 3.2647169021640092, 3.2682432490236657, 3.2724316412954058, 3.2802603227444633, 3.3062418389841843, 3.309471609210139, 3.313087986719163, 3.3142907784793407, 3.314466202070455, 3.323987569953802, 3.3361469449915986, 3.3401569512211364, 3.3403024862308586, 3.3460727490299176, 3.3511141529348545, 3.3542866969116756, 3.3666911385937444, 3.377701198432091, 3.382086425684659, 3.3824352353463327, 3.3831444973251203, 3.397514969002622, 3.3982665677003863, 28.618882644316688, 3.857738896098512, 8.280720632997081, 11.342974299566373, 21.491498230901428, 157.92814641867454, 51.530899313541916, 34.88009437451669, 217.31673940624776, 120.1898501583253, 98.58929597678926, 6.873853323768264, 10.898836925737449, 9.106366429331286, 11.809126909481517, 11.055270878101156, 10.301746802081661, 11.834468939954057, 12.377407189507625, 35.71683410665201, 15.498469994519688, 13.777629452716669, 21.42007459471043, 5.498733503719177, 199.7997212338758, 18.019871063799958, 424.38656612155853, 33.86619950766333, 21.663606175761835, 24.36464933367803], \"loglift\": [30.0, 29.0, 28.0, 27.0, 26.0, 25.0, 24.0, 23.0, 22.0, 21.0, 20.0, 19.0, 18.0, 17.0, 16.0, 15.0, 14.0, 13.0, 12.0, 11.0, 10.0, 9.0, 8.0, 7.0, 6.0, 5.0, 4.0, 3.0, 2.0, 1.0, 0.3709, 0.3677, 0.3609, 0.3569, 0.3559, 0.3525, 0.3521, 0.3514, 0.3498, 0.3498, 0.3489, 0.3472, 0.3469, 0.3448, 0.3448, 0.3442, 0.3434, 0.3433, 0.3429, 0.3428, 0.3428, 0.342, 0.3415, 0.3414, 0.3412, 0.341, 0.3409, 0.3406, 0.3405, 0.3404, 0.3375, 0.3365, 0.3298, 0.331, 0.3214, 0.3337, 0.337, 0.3332, 0.3171, 0.3037, 0.313, 0.2733, 0.2773, 0.3101, 0.3089, 0.2513, 0.2895, 0.2368, 0.2862, 0.2851, 0.2185, 0.2922, 0.269, 0.2546, 0.2646, 0.1405, 0.1489, 0.1595, 0.2136, 0.1575, 0.1598, 0.2273, 0.0782, 0.191, 0.1947, 0.048, 0.12, 0.2212, 0.153, 0.1144, 0.1061, 0.0693, 0.0414, 0.0956, 0.1157, 0.0232, 0.1371, 0.118, -0.1085, 0.0299, 0.0009, 0.0586, 2.4211, 2.4092, 2.3806, 2.3737, 2.3716, 2.3621, 2.358, 2.3524, 2.3504, 2.346, 2.3455, 2.3451, 2.3394, 2.3366, 2.335, 2.3334, 2.332, 2.3319, 2.3304, 2.3303, 2.3291, 2.3235, 2.3216, 2.3177, 2.315, 2.3134, 2.313, 2.313, 2.3105, 2.3086, 2.288, 2.269, 2.1082, 2.1145, 1.9982, 2.1712, 2.2144, 0.7878, 1.5068, 1.2224, 1.316, 1.5942, 1.4624, 0.5772, 0.7846, 1.3916, 1.749, 0.5956, 1.0506, 0.3933, 0.7386, 1.5707, 1.5443, 1.1426, 0.8023, 0.2787, 0.6403, 0.7909, 0.3527, 0.4515, 0.2385, 0.2921, 0.6842, 0.5335, 0.5274, -0.0566, 0.4674, 0.1853, 0.5158, 0.5868, 0.043, 0.3452, 3.065, 3.0545, 3.0502, 3.0497, 3.0358, 3.0314, 3.0232, 3.0048, 2.9981, 2.9908, 2.9834, 2.9797, 2.9709, 2.966, 2.9626, 2.9612, 2.9604, 2.9537, 2.9502, 2.9432, 2.9359, 2.9231, 2.9218, 2.9133, 2.907, 2.9025, 2.9012, 2.8974, 2.894, 2.8892, 2.8732, 2.8745, 2.8683, 2.8104, 2.7101, 2.8526, 2.5787, 2.8267, 2.6767, 2.6763, 2.7762, 2.5845, 2.6219, 2.1557, 2.295, 2.1375, 2.579, 1.3517, 1.3015, 2.059, 2.5284, 2.3903, 0.9998, 2.0224, 0.8219, 0.7821, 1.266, 1.478, 1.7815, 0.372, 0.2785, 0.407, 0.1336, 1.1013, 3.6028, 3.5772, 3.5041, 3.4973, 3.467, 3.4652, 3.4591, 3.4483, 3.438, 3.4327, 3.4272, 3.4149, 3.4115, 3.3932, 3.3868, 3.3776, 3.3728, 3.3669, 3.3667, 3.3399, 3.3232, 3.3205, 3.3115, 3.3108, 3.3081, 3.2806, 3.2801, 3.2798, 3.2731, 3.2707, 3.2089, 3.2189, 3.162, 3.2159, 3.0758, 3.0478, 3.1908, 2.956, 2.6298, 2.7956, 3.1245, 2.548, 2.5357, 2.8198, 2.5233, 2.4094, 2.6985, 2.2094, 2.1851, 2.158, 2.0352, 2.5457, 1.8226, 2.3363, 1.6933, 1.5351, 1.5859, 0.9974, 2.2362, 1.1074, 3.7786, 3.7497, 3.7447, 3.742, 3.729, 3.7222, 3.7184, 3.7137, 3.6831, 3.6827, 3.6731, 3.6726, 3.6725, 3.671, 3.6598, 3.6555, 3.6522, 3.6405, 3.6385, 3.6317, 3.6258, 3.6257, 3.623, 3.622, 3.6147, 3.6132, 3.6128, 3.612, 3.611, 3.6001, 3.5607, 3.4359, 3.4252, 3.3396, 3.1117, 3.3851, 2.1001, 2.1213, 3.1422, 2.5044, 3.0313, 0.8358, 2.467, 2.4626, 0.6376, 1.5601, 0.8361, 0.4439, 1.5312, 2.344, 1.9164, -0.1397, 4.1288, 4.1143, 4.1071, 4.1027, 4.1001, 4.0884, 4.068, 4.0572, 4.0386, 4.0365, 4.0335, 4.031, 4.0223, 4.0215, 4.0161, 4.0114, 4.0092, 4.0076, 4.0054, 4.0046, 3.998, 3.9977, 3.9971, 3.9969, 3.9964, 3.9878, 3.9877, 3.9873, 3.9739, 3.9719, 3.9338, 3.8951, 3.785, 3.2743, 3.0449, 3.4313, 3.4639, 2.5257, 1.1753, 0.5946, 1.639, 4.2909, 4.2822, 4.2723, 4.2577, 4.2501, 4.2458, 4.235, 4.2245, 4.2036, 4.1976, 4.1858, 4.1713, 4.1682, 4.1668, 4.1539, 4.1494, 4.1291, 4.1137, 4.1105, 4.1089, 4.1065, 4.1002, 4.0945, 4.0944, 4.0862, 4.0705, 4.0646, 4.0426, 4.0002, 3.9914, 3.7718, 3.2315, 3.3836, 3.5809, 3.6924, 3.1469, 3.0725, 3.137, 2.9869, 2.7205, 1.9109, 2.4463, 0.9179, 2.0687, 1.2356, 0.8468, 1.781, 4.3046, 4.2803, 4.2775, 4.2699, 4.237, 4.2334, 4.228, 4.2278, 4.2014, 4.1971, 4.1868, 4.1764, 4.1705, 4.1626, 4.1582, 4.1454, 4.1453, 4.1403, 4.1318, 4.1098, 4.1074, 4.1067, 4.1039, 4.103, 4.0759, 4.0615, 4.0615, 4.0615, 4.0587, 4.0521, 4.0361, 4.028, 3.9296, 4.043, 3.9045, 3.5922, 3.2959, 3.446, 3.397, 3.0758, 3.1176, 3.5288, 2.5966, 1.8913, 1.8861, 3.5445, 1.5605, 0.4097, 0.5521, 4.3918, 4.3884, 4.3049, 4.2945, 4.2857, 4.2744, 4.2722, 4.2722, 4.2591, 4.256, 4.2293, 4.2201, 4.2188, 4.2109, 4.2087, 4.2086, 4.2016, 4.1778, 4.1626, 4.1621, 4.1469, 4.1135, 4.1117, 4.0896, 4.0664, 4.0644, 4.0612, 3.9173, 3.8931, 3.8765, 3.7994, 3.866, 3.5283, 3.5402, 3.538, 3.1099, 2.3821, 2.1305, 2.5796, 2.4592, 2.3998, 1.9073, 2.4389, 1.9254, 1.0115, 0.6913, 1.7054, 0.759, 1.4536, 1.1272, 0.9193, 4.3978, 4.3957, 4.395, 4.3715, 4.3643, 4.3398, 4.3341, 4.3324, 4.3131, 4.3031, 4.3001, 4.2992, 4.2798, 4.2478, 4.223, 4.2211, 4.2151, 4.1741, 4.161, 4.1589, 4.1453, 4.0746, 3.9676, 3.849, 3.765, 3.7402, 3.6999, 3.6876, 3.4996, 3.4938, 3.4323, 2.8983, 2.3087, 2.7184, 2.3351, 2.5132, 3.06, 3.3083, 3.0712, 1.2559, 0.8365, 1.9847, 1.3076, 1.8586, 4.4559, 4.4445, 4.4309, 4.4286, 4.4153, 4.4116, 4.3757, 4.3699, 4.3519, 4.3518, 4.3517, 4.3382, 4.337, 4.2974, 4.2955, 4.2948, 4.2863, 4.2663, 4.2609, 4.2542, 4.1967, 4.185, 4.0672, 4.0665, 3.9873, 3.7931, 3.7695, 3.769, 3.7572, 3.7528, 3.6702, 3.6147, 3.5606, 2.7669, 2.9601, 1.7974, 1.7334, 2.3553, 2.3585, 2.2833, 1.9919, 1.9006, 3.3262, 1.2773, 4.5026, 4.4314, 4.4107, 4.4019, 4.4019, 4.3513, 4.3407, 4.3361, 4.3284, 4.2776, 4.2748, 3.9829, 3.9281, 3.8537, 3.7145, 3.6262, 3.5884, 3.5678, 3.5346, 3.5044, 3.3781, 3.349, 3.1891, 3.0285, 2.9113, 2.8981, 2.8843, 2.847, 2.7149, 2.6857, 2.6715, 2.6514, 2.5855, 2.3324, 2.0848, 2.3366, 2.2326, 1.5448, 1.3762, 1.2306, 0.9177, 0.8971, 0.8166, 0.9206, 0.932, 0.73, 0.6623, 4.5143, 4.4954, 4.4749, 4.4655, 4.4208, 4.4145, 4.3989, 4.397, 4.389, 4.3881, 4.385, 4.3848, 4.3786, 4.3741, 4.3683, 4.3608, 4.3513, 4.3285, 4.3123, 4.2971, 4.2173, 4.1511, 3.9291, 3.8532, 3.8381, 3.8252, 3.748, 3.7291, 3.7093, 3.6912, 3.6894, 3.4175, 3.5872, 2.8617, 1.9321, 1.5927, 1.8222, 2.2341, 1.8926, 4.621, 4.6013, 4.596, 4.586, 4.5429, 4.5357, 4.5291, 4.5202, 4.5134, 4.4968, 4.4823, 4.4774, 4.468, 4.451, 4.4503, 4.4484, 4.4461, 4.4461, 4.4316, 4.4234, 4.4015, 4.4015, 4.4015, 4.3715, 4.359, 4.1706, 4.1392, 3.9704, 3.9243, 3.8952, 3.7267, 2.8715, 3.2796, 1.8361, 2.582, 2.3822, 4.6102, 4.6086, 4.5739, 4.5567, 4.5451, 4.2048, 3.9908, 3.9461, 3.7054, 3.6078, 3.5755, 3.367, 3.2009, 3.1438, 3.1054, 3.0967, 3.0581, 2.9742, 2.7299, 2.7011, 2.6013, 2.5096, 2.3336, 2.2709, 1.9727, 1.8616, 1.6742, 1.5921, 1.5878, 1.5068, 1.4359, 1.4976, 1.2994, 1.2889, 1.2397, 1.1774, 4.6636, 4.6631, 4.638, 4.6343, 4.6337, 4.6255, 4.5948, 4.5596, 4.5587, 4.5432, 4.5081, 4.4736, 4.4736, 4.3805, 4.3363, 4.1434, 4.0259, 3.9403, 3.8262, 3.7797, 3.7574, 3.6737, 3.5865, 3.2307, 3.0984, 2.934, 2.9075, 2.717, 2.707, 2.6389, 2.5369, 2.3835, 2.5135, 4.7681, 4.7092, 4.7, 4.6764, 4.6571, 4.6201, 4.6194, 4.6071, 4.5944, 4.5739, 4.5577, 4.5252, 4.1079, 4.079, 3.9873, 3.5444, 3.4735, 3.4566, 2.8708, 1.7409, 1.51, 1.4606, 1.4562, 1.4548, 1.45, 1.4468, 1.4464, 1.4406, 1.4395, 1.4382, -1.2168, -0.8158, 0.6662, 0.5305, -2.8897, -2.2685, -2.4943, -0.3658, 0.2579, -0.656, 4.6848, 4.6659, 4.6638, 4.6634, 4.6611, 4.6497, 4.6352, 4.6316, 4.6316, 4.6312, 4.6004, 4.5975, 4.5265, 4.4723, 4.4361, 3.9777, 3.9194, 3.8684, 3.667, 3.6399, 3.5503, 3.4983, 3.3016, 3.2285, 3.0691, 2.8521, 2.7221, 2.6004, 1.5266, 1.4772, -1.9293, -0.6662, 4.7301, 4.7148, 4.7081, 4.6805, 4.647, 4.6121, 4.2793, 4.21, 4.0602, 3.9727, 3.8576, 3.7617, 3.6908, 3.6904, 3.1953, 1.5346, 1.4852, 1.4807, 1.4793, 1.4746, 1.4713, 1.4709, 1.4651, 1.464, 1.4627, 1.4604, 1.4525, 1.4515, 1.4504, 1.45, -0.7224, -0.0015, -0.0861, -1.0408, -1.6254, -1.8097, -1.6186, -1.7694, -1.8913, -2.1626, -1.1316, -2.4079, -2.9488, -1.6091, -2.5645, 1.8144, 1.765, 1.7605, 1.7591, 1.7544, 1.7511, 1.7507, 1.7449, 1.7438, 1.7425, 1.7402, 1.7323, 1.7313, 1.7302, 1.7298, 1.7298, 1.7269, 1.7233, 1.7221, 1.722, 1.7203, 1.7188, 1.7178, 1.7141, 1.7109, 1.7096, 1.7095, 1.7093, 1.705, 1.7048, -0.426, 1.578, 0.8141, 0.4995, -0.1396, -2.1341, -1.0141, -0.6238, -2.4533, -1.861, -1.6629, 1.0004, 0.5394, 0.7191, 0.4592, 0.5252, 0.5958, 0.4571, 0.4122, -0.6475, 0.1873, 0.305, -0.1363, 1.2236, -2.3692, 0.0366, -3.1226, -0.5943, -0.1476, -0.2651], \"logprob\": [30.0, 29.0, 28.0, 27.0, 26.0, 25.0, 24.0, 23.0, 22.0, 21.0, 20.0, 19.0, 18.0, 17.0, 16.0, 15.0, 14.0, 13.0, 12.0, 11.0, 10.0, 9.0, 8.0, 7.0, 6.0, 5.0, 4.0, 3.0, 2.0, 1.0, -6.2028, -6.3862, -6.692, -6.8375, -6.8702, -6.9763, -6.9874, -7.0073, -6.5139, -5.8156, -7.0775, -7.1223, -7.1293, -7.183, -7.166, -6.6622, -7.2152, -7.2188, -7.2198, -7.2294, -6.3539, -7.2477, -7.2586, -7.2609, -7.2665, -7.2715, -7.2732, -7.2794, -7.2819, -7.2842, -6.2992, -6.2373, -5.6485, -6.1471, -5.8425, -6.7223, -6.9063, -6.8655, -6.3572, -6.0069, -6.2692, -5.3936, -5.6513, -6.4181, -6.4343, -5.3801, -6.1254, -5.4436, -6.1423, -6.1527, -5.4164, -6.2684, -6.0776, -5.9443, -6.0483, -4.9868, -5.1391, -5.2685, -5.7311, -5.3634, -5.4003, -5.8313, -5.1005, -5.6871, -5.7079, -5.1367, -5.4609, -5.8807, -5.6435, -5.5914, -5.5783, -5.4738, -5.4087, -5.5689, -5.6186, -5.4969, -5.7617, -5.7367, -5.4665, -5.6469, -5.688, -5.7597, -5.7051, -5.8527, -6.1441, -6.204, -6.2216, -6.2986, -6.3301, -6.3717, -6.3861, -6.4176, -6.4213, -6.4238, -6.4636, -6.4823, -6.4926, -6.5034, -6.5122, -6.5131, -6.5231, -6.5238, -6.5311, -6.5666, -6.5782, -6.6017, -6.618, -6.6279, -6.6299, -6.6303, -6.4118, -6.6559, -6.2896, -6.2719, -6.0082, -6.088, -5.8061, -6.259, -6.4048, -4.5703, -5.4881, -5.1812, -5.3223, -5.6905, -5.5482, -4.6016, -4.8798, -5.5194, -5.9175, -4.8545, -5.3189, -4.7914, -5.0796, -5.7683, -5.7861, -5.5182, -5.3284, -5.0092, -5.311, -5.442, -5.2281, -5.2828, -5.1895, -5.2288, -5.4316, -5.3653, -5.3956, -5.1839, -5.4051, -5.3578, -5.4493, -5.4698, -5.477, -5.5083, -4.956, -5.1017, -5.156, -5.1618, -5.3205, -5.3655, -5.4468, -5.6083, -5.1122, -5.718, -5.7715, -5.798, -5.8573, -5.8895, -5.9111, -5.9202, -5.9252, -5.966, -5.9873, -6.0278, -6.0692, -6.1381, -6.1448, -6.1886, -6.2197, -6.2416, -6.248, -6.2663, -6.282, -6.3045, -4.7768, -5.4751, -5.3694, -5.1268, -4.1239, -5.7175, -4.2519, -5.6725, -4.9772, -5.1151, -5.5011, -4.8861, -5.1147, -4.0362, -4.9085, -4.734, -5.4988, -4.3251, -4.3874, -5.0855, -5.4734, -5.3819, -4.5433, -5.1994, -4.7383, -4.7379, -4.9719, -5.0479, -5.1787, -4.8127, -4.8488, -5.043, -5.0451, -5.1626, -4.439, -4.7596, -5.3603, -5.403, -5.5768, -5.5864, -3.8696, -5.6734, -5.7235, -5.7484, -3.9734, -4.5679, -5.8439, -5.9206, -4.5114, -5.9828, -6.0017, -6.0241, -6.0247, -6.1226, -6.1802, -6.1894, -6.2192, -6.2215, -6.2306, -4.8537, -6.3189, -4.981, -6.3403, -6.3477, -3.775, -4.7666, -3.6431, -5.2708, -4.6458, -4.6176, -5.5423, -4.5971, -3.2508, -3.9651, -5.329, -3.6913, -3.724, -4.7461, -4.1908, -3.9806, -4.5673, -3.9421, -4.0531, -4.1124, -3.9982, -4.5885, -4.2438, -4.6322, -4.236, -4.3184, -4.3792, -4.1872, -4.675, -4.5984, -4.5973, -4.8647, -4.9047, -4.9262, -3.9666, -5.0716, -4.7578, -5.1287, -5.3138, -5.3164, -5.3689, -5.3714, -4.5902, -5.3802, -5.4385, -4.7698, -5.4767, -5.5327, -5.5424, -5.5737, -5.6001, -5.6008, -5.6127, -5.6172, -4.5419, -5.6555, -5.6571, -4.9319, -5.6649, -5.7103, -4.8828, -4.4444, -5.1152, -4.8906, -4.5584, -5.3893, -4.7127, -4.8296, -5.3635, -5.1753, -5.3495, -4.7451, -5.1907, -5.2002, -4.8833, -5.121, -5.0869, -5.0761, -5.186, -5.2695, -5.2573, -5.2669, -4.2733, -4.4129, -4.4757, -4.5129, -4.5338, -4.6253, -4.7694, -4.8388, -4.9499, -4.9619, -4.9788, -4.9927, -5.0396, -5.0438, -5.0721, -5.096, -4.5596, -5.1151, -5.1258, -5.1299, -5.1618, -5.1635, -5.1665, -5.1672, -4.4004, -5.2099, -5.2105, -5.2122, -5.2726, -5.2815, -4.7844, -4.876, -4.5974, -4.6045, -4.527, -4.94, -4.9989, -4.7522, -4.803, -4.7634, -5.0983, -4.3409, -4.41, -4.4835, -4.5846, -4.634, -4.6614, -4.7267, -4.787, -4.8988, -4.9289, -4.9863, -4.3078, -4.3232, -5.0739, -5.1304, -5.1491, -5.2321, -5.2913, -5.3033, -5.3096, -5.3185, -5.3414, -5.362, -5.3623, -5.3916, -5.4456, -5.4655, -5.5369, -4.4489, -4.5926, -4.706, -3.599, -4.2668, -4.6844, -5.0023, -4.5896, -4.5813, -4.6956, -4.6686, -4.659, -4.6811, -4.8596, -4.6252, -4.881, -4.8598, -4.8875, -4.9744, -4.264, -4.4581, -4.4784, -4.5324, -4.7401, -4.7608, -4.1657, -4.7921, -4.9303, -4.9516, -5.0009, -5.0488, -5.0754, -5.1099, -5.1285, -5.1819, -5.1823, -5.2026, -5.2365, -5.3198, -5.3287, -5.3314, -5.3415, -5.3447, -5.4397, -5.4875, -5.4875, -5.4875, -5.4966, -5.5177, -4.7763, -5.114, -4.4917, -5.3413, -5.0499, -4.3651, -4.0708, -4.6564, -4.6246, -4.743, -4.8333, -5.0391, -4.7738, -4.6435, -4.7574, -5.0901, -4.8882, -4.9484, -4.9688, -3.872, -3.9119, -4.6022, -4.6654, -4.7165, -4.7787, -4.7904, -4.7904, -4.8583, -4.874, -5.0005, -5.0411, -5.0468, -5.0809, -5.0902, -5.0903, -5.1197, -5.2142, -5.2713, -5.2729, -5.3277, -4.7962, -5.4467, -5.5167, -3.9854, -5.593, -4.8785, -4.0178, -3.9573, -4.1434, -4.0812, -4.7245, -3.6309, -3.9881, -4.2965, -4.3085, -3.8508, -4.0002, -4.4082, -4.3849, -4.3825, -4.2085, -4.4593, -4.491, -4.3465, -4.4875, -4.605, -4.529, -4.6399, -4.7263, -4.7611, -4.19, -4.2077, -4.2136, -4.3956, -4.4467, -4.6038, -4.6376, -4.6479, -4.7546, -4.8068, -4.822, -4.8266, -4.9204, -5.0611, -5.1608, -5.1681, -5.191, -5.3385, -5.3822, -5.3893, -5.4332, -5.6432, -4.4464, -5.0157, -4.8755, -4.9913, -4.7941, -4.8521, -4.8577, -5.7426, -4.701, -4.3536, -4.0908, -4.4555, -4.2251, -4.385, -4.7993, -4.9005, -4.8437, -4.4784, -4.4515, -4.7026, -4.6575, -4.8644, -3.7215, -3.86, -4.0049, -4.0273, -4.1502, -4.1827, -4.4537, -4.4923, -4.6039, -4.6049, -4.605, -4.683, -4.6893, -4.8911, -4.9004, -4.9033, -4.9423, -3.9694, -5.0525, -5.0798, -5.2956, -5.3357, -4.9692, -3.8474, -4.9257, -4.2442, -4.2572, -4.8272, -5.0441, -4.964, -3.89, -4.2079, -4.3211, -4.1932, -4.3954, -4.298, -4.3402, -4.5101, -4.5525, -4.5787, -4.6001, -4.6061, -4.7874, -4.6645, -3.8942, -4.4649, -4.5892, -4.638, -4.6383, -4.8887, -4.9351, -4.9549, -4.9874, -5.1837, -5.1935, -3.7093, -5.4785, -4.1675, -5.5288, -5.3401, -5.204, -4.2035, -4.8467, -5.1798, -5.23, -5.804, -3.927, -5.123, -5.3198, -4.9343, -4.1263, -4.1287, -4.9603, -5.9355, -4.0096, -4.4544, -4.4094, -4.2127, -4.1546, -4.512, -4.5346, -4.1395, -4.5655, -4.6334, -4.7591, -4.7917, -4.8638, -4.8759, -4.8863, -4.9048, -4.9186, -3.795, -3.9922, -4.1717, -4.2462, -4.5449, -4.5812, -4.6675, -4.6779, -4.7194, -4.724, -4.7399, -4.7408, -4.7716, -4.7937, -4.8212, -4.856, -4.8992, -4.9967, -5.0618, -4.7231, -4.5084, -4.8069, -5.1678, -4.9107, -5.0448, -4.963, -4.8785, -5.5225, -4.989, -5.0442, -4.9155, -4.9163, -5.0034, -4.8121, -4.6918, -4.8237, -4.8726, -4.9114, -4.9104, -3.6805, -3.8872, -3.9366, -4.0248, -4.3421, -4.3876, -4.4278, -4.48, -4.5184, -4.6076, -4.6804, -4.7043, -4.7486, -4.825, -4.8279, -4.8361, -4.8462, -4.8462, -4.9069, -4.9398, -5.0249, -5.0249, -5.0249, -5.1329, -5.1758, -5.3289, -4.7012, -4.9669, -4.72, -4.6751, -4.7626, -4.3024, -4.9106, -4.7804, -5.0023, -5.0085, -3.8453, -3.4463, -4.1578, -4.2809, -4.3567, -4.8041, -4.212, -4.2082, -4.227, -4.9343, -4.2468, -5.1427, -4.3725, -4.3828, -5.0325, -4.404, -5.0109, -4.4219, -4.4734, -4.4637, -5.1199, -4.5451, -6.3137, -4.5776, -4.6584, -4.6731, -4.7543, -4.7621, -4.2847, -4.7635, -4.4934, -4.7621, -4.8221, -4.8269, -4.8539, -4.8812, -3.7994, -3.8038, -4.0273, -4.0568, -4.0618, -4.1243, -4.3324, -4.5329, -4.5377, -4.6167, -4.7784, -4.9203, -4.9203, -4.2995, -4.3209, -4.8299, -4.9448, -4.8355, -4.8211, -4.9735, -4.6544, -4.7402, -4.8343, -5.0468, -4.5426, -5.0748, -5.4749, -5.1704, -5.2401, -6.1577, -4.9431, -4.9328, -5.2077, -2.999, -3.7917, -3.8758, -4.068, -4.2045, -4.4287, -4.4324, -4.4986, -4.5633, -3.8859, -4.7331, -4.867, -5.0973, -4.6092, -4.6781, -4.9876, -4.9853, -5.4944, -5.1225, -4.6479, -8.5542, -8.5542, -8.5542, -8.5542, -8.5542, -8.5542, -8.5542, -8.5542, -8.5542, -8.5542, -8.5506, -8.5542, -8.5542, -8.5542, -8.5542, -8.5542, -8.5542, -8.5542, -8.5542, -8.5542, -4.0243, -4.1626, -4.1767, -4.1791, -4.1948, -4.2693, -4.3573, -4.3779, -4.3779, -4.3802, -4.5454, -4.5602, -4.8714, -4.439, -4.3001, -4.4401, -5.6777, -5.1516, -5.255, -5.7526, -5.7682, -5.8363, -5.2418, -5.9116, -5.202, -5.9118, -5.6604, -5.9258, -8.5376, -8.5376, -8.5375, -8.5375, -3.7428, -3.8837, -3.941, -4.1482, -4.3595, -4.5455, -4.1324, -4.0797, -4.1378, -4.1818, -4.1446, -4.0981, -4.0398, -4.1392, -4.2708, -8.5296, -8.5296, -8.5296, -8.5296, -8.5296, -8.5296, -8.5296, -8.5296, -8.5296, -8.5296, -8.5296, -8.5296, -8.5296, -8.5296, -8.5296, -8.5296, -8.5296, -8.5296, -8.5296, -8.5296, -8.5296, -8.5296, -8.5296, -8.5296, -8.5296, -8.5296, -8.5296, -8.5296, -8.5296, -8.5296, -8.2498, -8.2498, -8.2498, -8.2498, -8.2498, -8.2498, -8.2498, -8.2498, -8.2498, -8.2498, -8.2498, -8.2498, -8.2498, -8.2498, -8.2498, -8.2498, -8.2498, -8.2498, -8.2498, -8.2498, -8.2498, -8.2498, -8.2498, -8.2498, -8.2498, -8.2498, -8.2498, -8.2498, -8.2498, -8.2498, -8.2498, -8.2498, -8.2498, -8.2498, -8.2498, -8.2498, -8.2498, -8.2498, -8.2498, -8.2498, -8.2498, -8.2498, -8.2498, -8.2498, -8.2498, -8.2498, -8.2498, -8.2498, -8.2498, -8.2498, -8.2498, -8.2498, -8.2498, -8.2498, -8.2498, -8.2498, -8.2498, -8.2498, -8.2498, -8.2498]}, \"token.table\": {\"Topic\": [5, 10, 1, 3, 4, 5, 13, 1, 1, 10, 2, 4, 2, 3, 1, 12, 1, 7, 2, 3, 5, 8, 8, 14, 1, 2, 2, 3, 2, 1, 1, 2, 1, 4, 1, 13, 1, 5, 15, 1, 18, 2, 2, 9, 2, 5, 1, 2, 5, 6, 8, 9, 11, 12, 15, 16, 1, 2, 11, 1, 2, 1, 2, 5, 2, 6, 1, 2, 7, 1, 15, 2, 3, 8, 1, 2, 18, 3, 10, 1, 4, 7, 1, 3, 2, 3, 1, 2, 5, 13, 1, 1, 2, 3, 10, 5, 5, 6, 18, 2, 1, 2, 2, 1, 2, 8, 1, 10, 1, 3, 1, 3, 16, 1, 8, 7, 1, 2, 3, 6, 7, 15, 1, 2, 8, 10, 10, 13, 10, 10, 1, 12, 13, 1, 1, 2, 5, 17, 14, 18, 1, 2, 3, 2, 6, 3, 5, 16, 14, 1, 1, 2, 7, 9, 1, 12, 1, 1, 3, 10, 1, 2, 8, 8, 17, 1, 16, 1, 19, 1, 2, 10, 11, 7, 7, 8, 1, 17, 1, 7, 6, 8, 2, 4, 5, 5, 1, 2, 3, 4, 5, 8, 1, 10, 14, 10, 9, 2, 13, 1, 3, 5, 6, 14, 1, 2, 3, 5, 12, 1, 2, 6, 5, 9, 1, 15, 16, 1, 2, 5, 7, 11, 12, 14, 14, 1, 2, 3, 5, 7, 12, 1, 2, 4, 6, 7, 11, 12, 12, 13, 1, 2, 3, 4, 5, 6, 7, 5, 1, 2, 4, 13, 10, 1, 3, 8, 1, 12, 1, 2, 1, 2, 9, 12, 1, 2, 3, 9, 10, 15, 1, 2, 5, 7, 1, 1, 2, 1, 2, 3, 7, 14, 13, 7, 7, 1, 1, 8, 8, 1, 18, 1, 2, 6, 14, 2, 3, 4, 8, 1, 2, 16, 1, 3, 16, 1, 11, 2, 1, 2, 4, 5, 1, 4, 6, 2, 15, 15, 3, 10, 3, 9, 11, 6, 14, 1, 2, 1, 2, 4, 6, 12, 1, 7, 16, 10, 16, 6, 1, 15, 1, 2, 4, 1, 19, 10, 1, 2, 3, 4, 6, 8, 10, 1, 2, 3, 4, 5, 6, 7, 8, 9, 12, 13, 1, 16, 1, 16, 1, 14, 16, 8, 8, 1, 3, 7, 1, 16, 15, 19, 6, 2, 5, 6, 18, 1, 2, 3, 4, 1, 8, 1, 13, 11, 10, 1, 2, 3, 12, 1, 9, 12, 1, 2, 3, 5, 7, 7, 13, 17, 7, 3, 3, 1, 2, 4, 7, 1, 8, 3, 1, 2, 3, 6, 10, 7, 1, 2, 15, 3, 1, 18, 1, 2, 5, 10, 1, 2, 4, 5, 1, 16, 9, 1, 2, 3, 5, 6, 9, 12, 1, 15, 4, 4, 2, 4, 1, 2, 9, 1, 2, 3, 5, 6, 7, 10, 17, 1, 3, 19, 5, 1, 2, 5, 11, 1, 2, 3, 1, 13, 1, 13, 6, 1, 1, 4, 10, 1, 2, 6, 14, 12, 1, 1, 2, 6, 12, 15, 1, 1, 2, 5, 9, 12, 14, 1, 19, 13, 5, 1, 2, 17, 1, 1, 2, 16, 1, 2, 3, 4, 9, 11, 1, 2, 1, 13, 1, 4, 8, 5, 1, 2, 3, 6, 9, 1, 2, 12, 8, 2, 5, 8, 1, 2, 4, 15, 1, 2, 3, 6, 5, 1, 3, 10, 15, 1, 12, 2, 14, 7, 19, 2, 1, 2, 3, 4, 5, 7, 8, 1, 2, 4, 1, 2, 9, 1, 1, 10, 17, 1, 2, 9, 10, 15, 1, 2, 9, 13, 2, 5, 6, 6, 16, 18, 3, 1, 2, 15, 1, 1, 14, 6, 6, 9, 1, 19, 2, 5, 6, 1, 18, 9, 5, 1, 4, 17, 9, 14, 2, 5, 4, 1, 2, 3, 11, 1, 2, 3, 4, 5, 11, 12, 18, 5, 5, 6, 3, 14, 12, 3, 9, 2, 13, 1, 12, 13, 2, 3, 2, 14, 1, 2, 1, 2, 14, 1, 2, 8, 10, 7, 6, 1, 2, 3, 1, 11, 15, 2, 1, 2, 12, 1, 3, 13, 1, 2, 4, 5, 7, 8, 2, 4, 14, 2, 8, 1, 2, 3, 4, 5, 6, 7, 11, 12, 13, 10, 8, 11, 1, 2, 3, 5, 8, 1, 1, 4, 17, 14, 5, 5, 7, 10, 11, 1, 2, 5, 15, 3, 7, 17, 3, 1, 2, 3, 5, 7, 8, 2, 8, 1, 2, 5, 7, 6, 1, 2, 5, 1, 2, 1, 2, 3, 6, 10, 10, 1, 2, 3, 4, 13, 4, 1, 2, 4, 5, 10, 1, 2, 10, 1, 2, 3, 10, 8, 1, 9, 10, 1, 4, 1, 11, 1, 8, 13, 1, 2, 1, 2, 1, 17, 6, 8, 3, 3, 3, 1, 6, 3, 14, 1, 3, 19, 1, 3, 1, 2, 3, 4, 15, 19, 10, 4, 9, 3, 1, 12, 7, 1, 16, 1, 2, 3, 4, 1, 10, 1, 1, 3, 1, 2, 3, 1, 3, 8, 1, 4, 12, 1, 15, 1, 3, 1, 2, 9, 14, 2, 11, 1, 14, 1, 12, 8, 9, 13, 11, 1, 2, 15, 1, 12, 1, 12, 1, 2, 3, 6, 7, 9, 9, 7, 1, 2, 12, 2, 18, 1, 2, 11, 8, 1, 2, 3, 4, 5, 7, 8, 12, 1, 5, 11, 11, 2, 13, 1, 11, 1, 2, 5, 1, 1, 2, 3, 5, 6, 7, 9, 11, 12, 15, 1, 2, 3, 4, 5, 6, 12, 1, 2, 3, 4, 5, 6, 7, 9, 11, 13, 2, 12, 1, 12, 8, 1, 2, 8, 1, 2, 4, 5, 6, 9, 1, 2, 10, 11, 1, 2, 5, 6, 8, 10, 15, 1, 2, 1, 2, 3, 4, 10, 13, 1, 11, 1, 2, 5, 1, 2, 4, 8, 1, 2, 7, 4, 1, 2, 3, 4, 5, 6, 7, 1, 2, 3, 4, 15, 18, 1, 2, 3, 4, 5, 11, 12, 10, 5, 1, 2, 17, 6, 17, 11, 1, 9, 11, 1, 2, 3, 7, 13, 1, 2, 3, 6, 8, 10, 1, 2, 15, 1, 2, 5, 1, 15, 1, 4, 5, 1, 3, 5, 8, 13, 14, 1, 6, 1, 19, 2, 4, 6, 1, 18, 13, 6, 1, 1, 2, 3, 15, 1, 16, 1, 3, 4, 5, 6, 6, 2, 1, 3, 14, 2, 3, 4, 10, 2, 6, 7, 11, 5, 1, 2, 6, 9, 1, 8, 1, 5, 1, 2, 11, 1, 1, 2, 12, 3, 1, 2, 1, 4, 16, 1, 2, 3, 5, 6, 10, 1, 2, 3, 4, 5, 8, 12, 1, 2, 15, 7, 1, 13, 1, 2, 3, 5, 8, 9, 11, 12, 3, 1, 1, 3, 4, 1, 9, 1, 2, 3, 4, 5, 6, 9, 1, 1, 3, 5, 5, 17, 12, 19, 1, 2, 7, 1, 5, 14, 1, 9, 1, 2, 3, 7, 13, 6, 14, 1, 5, 9, 3, 9, 1, 2, 8, 1, 2, 10, 15, 1, 2, 15, 14, 1, 2, 11, 1, 2, 6, 9, 3, 17, 1, 1, 2, 3, 1, 2, 5, 14, 1, 14, 1, 5, 1, 2, 3, 13, 10, 4, 9, 18, 9, 1, 8, 1, 10, 1, 1, 5, 7, 14, 2, 5, 3, 1, 2, 5, 19, 1, 7, 9, 1, 3, 1, 4, 6, 1, 7, 7, 1, 2, 12, 14, 1, 17, 8, 11, 18, 1, 8, 1, 9, 1, 3, 5, 7, 1, 12, 7, 1, 2, 3, 5, 7, 8, 9, 13, 1, 2, 5, 12, 5, 1, 14, 3, 2, 11, 1, 14, 1, 16, 1, 8, 9, 1, 10, 16, 4, 1, 2, 4, 6, 7, 8, 1, 2, 19, 1, 2, 4, 10, 15, 1, 6, 10, 3, 1, 2, 6, 11, 18, 1, 11, 1, 4, 1, 1, 4, 1, 2, 3, 12, 14, 1, 1, 13, 18, 14, 1, 2, 4, 5, 11, 8, 1, 2, 3, 4, 1, 1, 7, 12, 1, 2, 3, 12, 16, 3, 1, 2, 12, 1, 2, 6, 14, 11, 1, 4, 1, 13, 1, 2, 8, 12, 13, 3, 1, 2, 5, 6, 1, 2, 3, 5, 6, 11, 1, 7, 1, 2, 3, 4, 7, 6, 16, 1, 2, 3, 12, 16, 8, 1, 7, 6, 1, 1, 18, 1, 15, 1, 2, 9, 1, 2, 3, 1, 1, 2, 11, 13, 1, 15, 1, 1, 1, 2, 6, 11, 2, 7, 3, 2, 3, 7, 13, 13, 16, 1, 1, 2, 3, 7, 9, 4, 11, 1, 2, 16, 9, 18, 1, 6, 1, 13, 1, 1, 2, 5, 1, 2, 16, 1, 5, 1, 5, 1, 7, 1, 2, 6, 1, 9, 7, 1, 7, 1, 3, 1, 2, 3, 1, 3, 11, 1, 7, 1, 7, 13, 2, 18, 2, 6, 1, 3, 18, 1, 2, 10, 14, 2, 6, 11, 2, 14, 1, 15, 16, 1, 4, 5, 10, 1, 2, 1, 5, 12, 6, 1, 5, 1, 3, 7, 1, 2, 1, 4, 19, 4, 4, 1, 13, 1, 6, 7, 1, 9, 1, 2, 5, 9, 1, 1, 2, 3, 4, 5, 6, 7, 12, 8, 1, 3, 1, 3, 7, 1, 16, 4, 4, 2, 6, 18, 6, 1, 2, 11, 4, 1, 6, 1, 4, 3, 6, 1, 1, 16, 5, 9, 1, 18, 1, 2, 7, 13, 2, 1, 2, 3, 5, 7, 1, 7, 1, 2, 3, 2, 1, 2, 10, 6, 17, 10, 12, 13, 17, 1, 2, 5, 6, 8, 10, 1, 2, 3, 2, 8, 1, 17, 18, 11, 3, 1, 18, 3, 8, 16, 1, 2, 3, 4, 5, 6, 8, 11, 12, 1, 2, 3, 4, 5, 9, 13, 1, 1, 6, 9, 15, 3, 1, 3, 7, 1, 2, 4, 5, 10, 15, 1, 2, 16, 1, 12, 1, 2, 12, 2, 18, 18, 1, 2, 3, 5, 7, 8, 6, 1, 2, 13, 1, 1, 10, 11, 1, 5, 1, 10, 4, 16, 13, 10, 1, 6, 1, 17, 2, 6, 1, 8, 1, 2, 6, 14, 5, 2, 3, 2, 13, 4, 8, 1, 2, 5, 1, 2, 13, 2, 3, 1, 4, 1, 12, 2, 4, 5, 14, 1, 2, 3, 6, 7, 10, 11, 2, 11, 1, 2, 13, 2, 2, 9, 1, 2, 3, 7, 15, 2, 18, 1, 19, 10, 13, 8, 1, 8, 15, 7, 13, 4, 1, 2, 3, 6, 1, 2, 3, 5, 8, 1, 7, 1, 2, 5, 8, 15, 10, 7, 3, 1, 2, 5, 6, 9, 12, 1, 1, 1, 2, 5, 8, 11, 12, 6], \"Freq\": [0.7463127027798308, 0.8565465101850246, 0.7297678605610752, 0.1574009111014084, 0.0787004555507042, 0.014309173736491671, 0.014309173736491671, 0.9623631860964033, 0.962153732944862, 0.022638911363408516, 0.881017351771765, 0.8202476565836176, 0.10981328368019928, 0.768692985761395, 0.8131142562139916, 0.15057671411370216, 0.9571109755408959, 0.8073374072306838, 0.03913805796534693, 0.7044850433762447, 0.19569028982673464, 0.7749731725898412, 0.7008429368442971, 0.8393426342587564, 0.5962519548020208, 0.9155237975793086, 0.894272879311681, 0.7850602865133974, 0.8545073403842823, 0.5968164343934481, 0.9580557610545549, 0.01955215838886847, 0.23830560170958964, 0.667255684786851, 0.43707687574892856, 0.43707687574892856, 0.8095967334042133, 0.0485758040042528, 0.11334354267658986, 0.6457295644384751, 0.21524318814615837, 0.8360892962459265, 0.26333110822332173, 0.6583277705583044, 0.1435909082816448, 0.7897499955490465, 0.5888753975080089, 0.16463183156137884, 0.025327974086365973, 0.012663987043182987, 0.031659967607957466, 0.07598392225909792, 0.03799196112954896, 0.025327974086365973, 0.031659967607957466, 0.7974925096136503, 0.5100806591605156, 0.0268463504821324, 0.4295416077141184, 0.9687772859621379, 0.8581095000895833, 0.5918764102811003, 0.11837528205622005, 0.2367505641124401, 0.8724535063715865, 0.8297549707146832, 0.8221860073056521, 0.16280911035755485, 0.008140455517877744, 0.48625558342130865, 0.48625558342130865, 0.1182299929018727, 0.7684949538621725, 0.7886606133562644, 0.9460425660745656, 0.03638625254132945, 0.8468235184250145, 0.8462661490787942, 0.7774122980888736, 0.380349318098111, 0.10867123374231742, 0.4346849349692697, 0.324642036633042, 0.649284073266084, 0.08449893316496229, 0.7604903984846606, 0.42470329163279624, 0.226508422204158, 0.226508422204158, 0.08494065832655925, 0.9632594885113361, 0.8738062135828402, 0.08256436663774867, 0.02064109165943717, 0.013760727772958113, 0.8269781128534424, 0.33545792421973114, 0.16772896210986557, 0.33545792421973114, 0.8660027861810963, 0.9565778648247172, 0.015428675239108342, 0.8805361341751003, 0.5530203278487705, 0.0884832524558033, 0.3318121967092623, 0.4329833244029674, 0.4329833244029674, 0.4645627050301845, 0.4645627050301845, 0.37744567389173805, 0.18872283694586903, 0.37744567389173805, 0.06177587194101959, 0.8030863352332547, 0.8721836850653157, 0.7446858702733414, 0.1290788841807125, 0.049645724684889425, 0.01985828987395577, 0.0049645724684889425, 0.04468115221640048, 0.7835576513679575, 0.053668332285476544, 0.07513566519966716, 0.06440199874257185, 0.8485433037382693, 0.7898313326177304, 0.8809568795717625, 0.8439270893310136, 0.6980514244921128, 0.15512253877602508, 0.7706278860060723, 0.6034154153542599, 0.865297692467388, 0.05824119083915111, 0.01664034023975746, 0.04992102071927238, 0.7464233964087197, 0.8827058507679649, 0.4687418102599277, 0.4076015741390676, 0.08152031482781352, 0.48329394074073706, 0.4228821981481449, 0.27727993738833917, 0.5545598747766783, 0.09242664579611305, 0.6940259936684365, 0.6222370044388, 0.7269228510542892, 0.045432678190893076, 0.045432678190893076, 0.15144226063631025, 0.5491341683998989, 0.36608944559993256, 0.598748169737396, 0.3809159213826393, 0.23807245086414958, 0.3333014312098094, 0.8443720985381107, 0.08443720985381106, 0.04824983420217775, 0.788301848352771, 0.8877469240046254, 0.3308708663789918, 0.5514514439649864, 0.7818750166140364, 0.1954687541535091, 0.9537153578002292, 0.01870030113333783, 0.7839453471578306, 0.9059865558667626, 0.6793655075483405, 0.8127929726042561, 0.696317927457926, 0.4146836297928663, 0.4976203557514396, 0.5921186873866724, 0.7698969180786455, 0.9177342740145613, 0.7022037536056887, 0.8990546566535962, 0.9124632042263092, 0.8346252712145731, 0.9102594835859046, 0.5355362827295991, 0.05005011988127095, 0.025025059940635475, 0.35035083916889664, 0.010010023976254188, 0.020020047952508377, 0.6567257758867978, 0.16418144397169945, 0.16418144397169945, 0.7713983511102375, 0.9002783258708884, 0.24959973074241096, 0.4991994614848219, 0.7625523558783853, 0.06932294144348958, 0.09243058859131943, 0.023107647147829858, 0.023107647147829858, 0.7640236432312612, 0.11868328438543863, 0.044506231644539485, 0.04821508428158444, 0.018544263185224785, 0.6246733751688378, 0.02715971196386251, 0.2987568316024876, 0.8082540209726237, 0.7126780625978001, 0.7252596301031592, 0.12613210958315813, 0.0945990821873686, 0.7631646700638604, 0.09927345301643711, 0.01240918162705464, 0.04343213569469124, 0.0620459081352732, 0.01240918162705464, 0.7527951832694492, 0.8440232023437629, 0.7956008485695516, 0.06902473115443598, 0.09808777585104062, 0.007265761174151156, 0.014531522348302312, 0.007265761174151156, 0.7034216106454558, 0.030583548288932862, 0.030583548288932862, 0.02038903219262191, 0.08155612877048764, 0.08155612877048764, 0.030583548288932862, 0.7199852684499486, 0.8473814359813913, 0.713709591264819, 0.12227891598593053, 0.06238720203363803, 0.06987366627767459, 0.014972928488073127, 0.002495488081345521, 0.012477440406727606, 0.8775883206009715, 0.13116516752254417, 0.19674775128381627, 0.5902432538514488, 0.8821751164135312, 0.8302607884115822, 0.21994969006596515, 0.7148364927143868, 0.7980724442839014, 0.4682473502512719, 0.4682473502512719, 0.9631238977251126, 0.013376720801737676, 0.23433084759538444, 0.1562205650635896, 0.5858271189884611, 0.8169008272928903, 0.788612841842335, 0.1079154415152669, 0.041505939044333424, 0.024903563426600054, 0.024903563426600054, 0.008301187808866684, 0.6631000613503466, 0.18649689225478497, 0.07252656921019415, 0.062165630751594994, 0.6126105447839306, 0.9084910939093996, 0.03494196515036153, 0.8978888399767884, 0.06300974315626585, 0.03150487157813293, 0.005250811929688821, 0.7544872895431969, 0.7840625086648414, 0.7591737373597568, 0.7205489004683225, 0.9610143468859395, 0.9708192961003066, 0.7094639124655107, 0.7845397597963913, 0.6515356729027101, 0.26061426916108404, 0.6570958687844665, 0.1359508694036827, 0.09063391293578847, 0.09063391293578847, 0.3570869468821204, 0.19838163715673357, 0.11902898229404014, 0.277734292019427, 0.7572169980360587, 0.10516902750500814, 0.08413522200400651, 0.545081607865422, 0.32209367737502215, 0.09910574688462219, 0.4266973759959369, 0.4266973759959369, 0.8118702710997511, 0.5611418894499622, 0.1543140195987396, 0.23848530301623394, 0.042085641708747165, 0.17036754016760172, 0.8092458157961082, 0.7974832380326131, 0.04402547131957791, 0.8805094263915583, 0.8662014859500787, 0.43049046630613663, 0.28699364420409107, 0.10349817492876914, 0.724487224501384, 0.7910403377817243, 0.8464229090721047, 0.8443122380093762, 0.9287088680160511, 0.06056796965322073, 0.5087027591569688, 0.07164827593760124, 0.3224172417192056, 0.007164827593760125, 0.07881310353136137, 0.9519320748998786, 0.7152799005093512, 0.6718442754740049, 0.5673772006660346, 0.31520955592557476, 0.8282674772282085, 0.7343856955594804, 0.21759576164725344, 0.6770705181549833, 0.26209181347934835, 0.04368196891322473, 0.6325885605173183, 0.31629428025865913, 0.8974835763989296, 0.7066666089748185, 0.07066666089748184, 0.08833332612185231, 0.044166663060926155, 0.01766666522437046, 0.05299999567311139, 0.7679431819320675, 0.6084167337709889, 0.18104107687819668, 0.050454070605399075, 0.03561463807439935, 0.02077520554339962, 0.02671097855579951, 0.008903659518599838, 0.017807319037199676, 0.032646751568199406, 0.011871546024799782, 0.005935773012399891, 0.8300886698010135, 0.11858409568585908, 0.4526574660258177, 0.4526574660258177, 0.3968675388460759, 0.4762410466152911, 0.8317487225751964, 0.7437910286264151, 0.7845397589717594, 0.06404400896216993, 0.6084180851406144, 0.28819804032976465, 0.33003506828024415, 0.4400467577069922, 0.9200632179152769, 0.8772310836688408, 0.8956830114542094, 0.2732531118048901, 0.2732531118048901, 0.16395186708293405, 0.16395186708293405, 0.5164324270693267, 0.12494332912967582, 0.06663644220249376, 0.2832048793605985, 0.479144937362861, 0.4392161925826226, 0.5265456044850838, 0.3761040032036313, 0.8140812465575165, 0.7565060117117375, 0.8237338511828121, 0.08697810850998637, 0.06651267121351899, 0.015349077972350534, 0.3946963595170808, 0.538222308432383, 0.7237676570958224, 0.49879574267560906, 0.0546625471425325, 0.3758050116049109, 0.02733127357126625, 0.034164091964082814, 0.8707721363236133, 0.875671074917169, 0.8939399606227918, 0.8326549789825197, 0.9255940914187685, 0.9362332113022319, 0.7156706333762157, 0.02862682533504863, 0.22901460268038903, 0.021470119001286474, 0.596173317301078, 0.34067046702918746, 0.8667222528736792, 0.8238049555009708, 0.08986963150919682, 0.06490584497886437, 0.0049927573060664894, 0.009985514612132979, 0.7306723088521089, 0.545270351459024, 0.03894788224707314, 0.35053094022365827, 0.8248793828647947, 0.17402697362458758, 0.6961078944983503, 0.708906916689933, 0.16269994809277152, 0.04648569945507758, 0.06972854918261637, 0.34651444157115613, 0.10661982817574034, 0.4797892267908315, 0.7922486411139243, 0.16451429114933233, 0.6580571645973293, 0.623169684309504, 0.7194940124748606, 0.173995284062548, 0.009405150489867458, 0.023512876224668647, 0.014107725734801188, 0.028215451469602377, 0.023512876224668647, 0.6280153837390283, 0.31400769186951416, 0.9337561695137114, 0.7751950322127658, 0.8167456787165432, 0.07424960715604939, 0.7532215124977627, 0.22824894318114022, 0.6557451088638817, 0.7285377315522821, 0.09999537491894067, 0.11785169186875151, 0.007142526779924334, 0.007142526779924334, 0.028570107119697336, 0.007142526779924334, 0.7554468918642566, 0.32596432174907936, 0.28974606377695944, 0.32596432174907936, 0.7418720031387139, 0.7881855144364011, 0.025425339175367778, 0.16526470463989054, 0.8596331666777223, 0.5797000844077013, 0.040444191935421016, 0.36399772741878916, 0.5819137139093365, 0.2909568569546683, 0.40303712057224067, 0.5037964007153009, 0.8435262968649618, 0.9676798400518888, 0.40978041999091847, 0.06829673666515308, 0.40978041999091847, 0.5872767983216792, 0.3096550391150672, 0.05338879984742538, 0.0427110398779403, 0.7186972648947969, 0.9584159464213243, 0.6719850806117852, 0.07905706830726884, 0.03952853415363442, 0.1054094244096918, 0.09223324635848032, 0.8879086838830014, 0.8603472359289914, 0.05325959079560423, 0.020484457998309318, 0.028678241197633045, 0.024581349597971182, 0.008193783199323727, 0.5429725061775341, 0.37590404273829287, 0.9084799584112117, 0.8708090687310789, 0.5809152948257368, 0.3872768632171578, 0.6707433766250578, 0.6213745200002572, 0.6156460449962747, 0.32834455733134654, 0.926950274750272, 0.7930230548024352, 0.044056836377913064, 0.1321705091337392, 0.022028418188956532, 0.8441791028115659, 0.7748128798750796, 0.4587645483705303, 0.4587645483705303, 0.4678065473780696, 0.3898387894817247, 0.32804269867355723, 0.5367971432840027, 0.08946619054733379, 0.8941919974014059, 0.662028378160704, 0.18639633948214, 0.02570983992857103, 0.02570983992857103, 0.09641189973214137, 0.4728509795271155, 0.36607817769841206, 0.1372793166369045, 0.6654330572223961, 0.0670925774458976, 0.8722035067966688, 0.8874554535012771, 0.5776429511756515, 0.051183552635817225, 0.3217251879965654, 0.03655968045415516, 0.7191353388989783, 0.10610193524739024, 0.08252372741463686, 0.07073462349826017, 0.8294835388382674, 0.5451027018981248, 0.05191454303791665, 0.12978635759479162, 0.2076581721516666, 0.9648904940667192, 0.9295486798707532, 0.8864951579480855, 0.7503425542885552, 0.7154406424216346, 0.8693100543598974, 0.8561971259257682, 0.5380979204685284, 0.10499471618898117, 0.04593518833267926, 0.2296759416633963, 0.013124339523622646, 0.03281084880905662, 0.02624867904724529, 0.3279822819317325, 0.05045881260488193, 0.6055057512585832, 0.5759748049154496, 0.38398320327696644, 0.5940070441870584, 0.6119495544272806, 0.5795640273702934, 0.2483845831586972, 0.1241922915793486, 0.7927109566746775, 0.08670276088629285, 0.049544434792167344, 0.030965271745104588, 0.030965271745104588, 0.7043374431366557, 0.2012392694676159, 0.8441791029514049, 0.8233201302390413, 0.6167554964697021, 0.1713209712415839, 0.1713209712415839, 0.6108533896935635, 0.18325601690806906, 0.12217067793871271, 0.846597388871819, 0.5603834853473131, 0.2711532993616031, 0.1265382063687481, 0.7274402364279922, 0.909111518402693, 0.6940259919409474, 0.8286480563430975, 0.7297263436091654, 0.7000744460749382, 0.3145178349637755, 0.566132102934796, 0.14621416110570568, 0.7798088592304303, 0.864135433215163, 0.6097077070781625, 0.7863587839931435, 0.9223313722204359, 0.8143893664865092, 0.7130444315599033, 0.2673916618349637, 0.8326104011658952, 0.7643225007877228, 0.8829394090597223, 0.5911660000278729, 0.7169582552965537, 0.7764629688522838, 0.4861463464799312, 0.0589268298763553, 0.26517073444359884, 0.1767804896290659, 0.699058391790358, 0.11322776768435376, 0.05415241063164745, 0.03446062494741201, 0.019691785684235436, 0.03446062494741201, 0.03446062494741201, 0.8709962584390077, 0.7905273546750259, 0.48370420331096553, 0.4146036028379705, 0.5437625456274765, 0.3398515910171728, 0.8254640928612454, 0.7890247777715068, 0.7636546407742675, 0.4578047490524532, 0.381503957543711, 0.46414825923430764, 0.36468791796981315, 0.13261378835265933, 0.1474007594771432, 0.737003797385716, 0.9049802813399023, 0.9228251522555281, 0.7216910977590721, 0.20619745650259202, 0.49499001905127077, 0.3574927915370289, 0.1099977820113935, 0.8074165801109845, 0.05607059584104059, 0.044856476672832477, 0.07849883417745683, 0.8622676476504204, 0.8027079315032599, 0.6202343267945161, 0.17175719818925061, 0.19084133132138958, 0.23495434552584582, 0.5873858638146146, 0.8214156835702693, 0.8581457137726247, 0.4493322356127283, 0.3563669454859569, 0.18593058025354273, 0.8524603643758962, 0.06314521217599231, 0.07366941420532437, 0.732234653648463, 0.024007693562244685, 0.060019233905611716, 0.07202308068673406, 0.07202308068673406, 0.024007693562244685, 0.26022712991873387, 0.6071966364770457, 0.8186151806966063, 0.8559242924186529, 0.6008396852471899, 0.6945121165167674, 0.08725026589406626, 0.09423028716559155, 0.02443007445033855, 0.03141009572186385, 0.01047003190728795, 0.0139600425430506, 0.0209400638145759, 0.01047003190728795, 0.01047003190728795, 0.9190444646240072, 0.7753933924938499, 0.8882516311129834, 0.7359578881110163, 0.1557867062424779, 0.059091509264388165, 0.026859776938358258, 0.016115866163014955, 0.9616181179277788, 0.5999425145563646, 0.3799635925523642, 0.9573991093408811, 0.7480413495979302, 0.8473542542424232, 0.22419380462752914, 0.6725814138825874, 0.6651025637344379, 0.7626676490667447, 0.8036958691899039, 0.12055438037848559, 0.02411087607569712, 0.040184793459495195, 0.39556465982398714, 0.19778232991199357, 0.2637097732159914, 0.8048458051035369, 0.7571421041003443, 0.14098508145316754, 0.0208866787338026, 0.04699502715105585, 0.0104433393669013, 0.015665009050351952, 0.47163851062391177, 0.39303209218659313, 0.4481194482937019, 0.26887166897622117, 0.06721791724405529, 0.17924777931748076, 0.7775102759096841, 0.6352587822283218, 0.060500836402697315, 0.24200334561078926, 0.7498332957433004, 0.2249499887229901, 0.8932799760287004, 0.06871384430990003, 0.0040419908417588255, 0.016167963367035302, 0.008083981683517651, 0.6801434685255313, 0.7606336568027723, 0.09665510556057327, 0.05042875072725562, 0.07564312609088343, 0.008404791787875936, 0.7987758564698136, 0.7783802929751428, 0.07783802929751428, 0.08382557001270768, 0.03592524429116043, 0.017962622145580216, 0.6154728394378592, 0.10861285401844574, 0.21722570803689148, 0.6616203246883884, 0.06912451153460775, 0.1382490230692155, 0.10862423241152645, 0.7857049634378857, 0.7200215221278686, 0.12461910959905419, 0.13846567733228243, 0.16384338240507298, 0.7782560664240967, 0.5553130030697107, 0.37020866871314045, 0.317522977086347, 0.635045954172694, 0.7700877958985828, 0.32833907652148303, 0.8596403686480742, 0.8079236504780288, 0.08079236504780288, 0.6385205606421381, 0.2837869158409503, 0.21647310386286062, 0.5411827596571516, 0.8866028890871019, 0.8105036804255857, 0.9218633248888386, 0.9627438424397897, 0.7247519936745042, 0.892593954143362, 0.8680388491300283, 0.541125689701093, 0.09549276877078113, 0.3183092292359371, 0.6506962245558376, 0.3253481122779188, 0.7051717009753254, 0.07232530266413593, 0.03013554277672331, 0.1567048224389612, 0.03013554277672331, 0.9098337951727455, 0.9142603511263336, 0.7716023007213176, 0.7582785861865342, 0.8004943453362248, 0.7273105356233848, 0.19394947616623595, 0.6854099451833512, 0.8709771184645878, 0.8353468927271012, 0.43828073049330707, 0.017531229219732283, 0.1928435214170551, 0.31556212595518107, 0.5361319114035156, 0.35742127426901044, 0.603447353800875, 0.940391205591427, 0.032427282951428514, 0.42513709422300394, 0.19485450151887682, 0.33656686625987814, 0.37573004851590724, 0.5427211811896439, 0.8200323702088759, 0.8770469628116675, 0.046160366463771973, 0.746263657985918, 0.22857201335543945, 0.5714300333885987, 0.3044322759535808, 0.6426903603464483, 0.3328589228367625, 0.11095297427892084, 0.5177805466349639, 0.7586473080779474, 0.9205168498685203, 0.8678028444920847, 0.6161965592012019, 0.7931006217036366, 0.4380795451489865, 0.3285596588617399, 0.7073423982714194, 0.7354425073859702, 0.8750947984388345, 0.8099054255595014, 0.9003313406358745, 0.034628128485995176, 0.05194219272899276, 0.4334327092054539, 0.4334327092054539, 0.17011277864967048, 0.5103383359490115, 0.6122027731844834, 0.17796592243734982, 0.02135591069248198, 0.014237273794987987, 0.03559318448746997, 0.12101682725739789, 0.7386854214188003, 0.8020773160476866, 0.8381318419542751, 0.06073419144596196, 0.09717470631353914, 0.5239120553492876, 0.3143472332095726, 0.844209337731389, 0.02680029643591711, 0.10720118574366844, 0.8185807474261777, 0.8455365276897424, 0.03914520961526585, 0.04305973057679244, 0.011743562884579756, 0.011743562884579756, 0.01565808384610634, 0.011743562884579756, 0.019572604807632926, 0.15294265232580148, 0.15294265232580148, 0.6117706093032059, 0.9204221147886839, 0.7740858582152407, 0.15481717164304815, 0.15824227499493715, 0.7384639499763733, 0.11090924668240777, 0.22181849336481554, 0.6284857312003107, 0.9615100717774384, 0.7343509186653202, 0.1463740006799118, 0.049618305315224334, 0.002480915265761217, 0.009923661063044868, 0.00744274579728365, 0.022328237391850952, 0.009923661063044868, 0.00744274579728365, 0.00744274579728365, 0.7568027809559272, 0.09048728902733912, 0.057582820290124896, 0.032904468737214226, 0.008226117184303557, 0.004113058592151778, 0.04524364451366956, 0.7823056300630027, 0.07775929455445509, 0.056552214221421884, 0.035345133888388676, 0.018850738073807292, 0.009425369036903646, 0.004712684518451823, 0.009425369036903646, 0.0023563422592259116, 0.0023563422592259116, 0.9454939765920867, 0.7928330288004006, 0.528016077121681, 0.2640080385608405, 0.7242899815931483, 0.6258408898600729, 0.06953787665111921, 0.24338256827891722, 0.7692554764463276, 0.06923299288016949, 0.030770219057853102, 0.03846277382231638, 0.023077664293389828, 0.061540438115706204, 0.5358637454725234, 0.15310392727786382, 0.22965589091679572, 0.9040300741674535, 0.7412625860541316, 0.01925357366374368, 0.01925357366374368, 0.01925357366374368, 0.07701429465497472, 0.0481339341593592, 0.05776072099123104, 0.8853477499845632, 0.09571327026860142, 0.6475235609181089, 0.016818793790080753, 0.05886577826528263, 0.12614095342560563, 0.10932215963552488, 0.025228190685121128, 0.3714240575046764, 0.46428007188084547, 0.671366599264481, 0.1313543346387028, 0.17513911285160372, 0.5068584022183775, 0.012068057195675656, 0.4103139446529723, 0.048272228782702625, 0.7661922875660294, 0.19503076410771658, 0.013930768864836898, 0.8350127537985459, 0.7093687381322438, 0.14968331171597804, 0.06507970074607741, 0.032539850373038706, 0.02277789526112709, 0.00650797007460774, 0.016269925186519353, 0.7041286809116449, 0.06305629978313237, 0.05254691648594365, 0.13662198286345348, 0.03678284154016055, 0.7869918435295933, 0.7023437655601161, 0.11705729426001935, 0.037245502719097066, 0.04256628882182522, 0.015962358308184457, 0.037245502719097066, 0.037245502719097066, 0.7586476382486712, 0.8286836571372235, 0.1621262322534934, 0.3242524645069868, 0.4053155806337335, 0.13199962911588378, 0.7919977746953027, 0.880283034330577, 0.4187511035576873, 0.13958370118589578, 0.3838551782612134, 0.7553486202175091, 0.05035657468116727, 0.07553486202175091, 0.025178287340583635, 0.0629457183514591, 0.7797893704012274, 0.13760988889433426, 0.030579975309852056, 0.01019332510328402, 0.02038665020656804, 0.015289987654926028, 0.8406074531988426, 0.12099652735437885, 0.031841191409047065, 0.9052643093086672, 0.05124137599860381, 0.025620687999301905, 0.6244000098451682, 0.2775111154867414, 0.3168022523065513, 0.6336045046131026, 0.045257464615221614, 0.7731359085330302, 0.07313447783420556, 0.031343347643230955, 0.031343347643230955, 0.031343347643230955, 0.05223891273871826, 0.5537780759856926, 0.3691853839904617, 0.38971406653035157, 0.556734380757645, 0.2711883529171548, 0.6101737940635984, 0.7985305706983062, 0.5062887321019732, 0.44300264058922656, 0.7895683152553428, 0.7749950672650688, 0.8816029848875075, 0.7139017554119627, 0.05636066490094442, 0.07514755320125924, 0.13150821810220364, 0.24119634545588464, 0.6431902545490257, 0.11291470190124159, 0.07527646793416105, 0.7527646793416106, 0.8129026007013241, 0.10838701342684322, 0.7567188776099681, 0.8910565966093652, 0.6048526518000934, 0.10080877530001557, 0.25202193825003893, 0.15856374342044466, 0.739964135962075, 0.7544458353329141, 0.9001241821352113, 0.7873264503760233, 0.07157513185236576, 0.7634621546813458, 0.9020860130288272, 0.7409640225060462, 0.526334548309615, 0.2631672741548075, 0.1821927282610206, 0.8258485082275597, 0.5977156356148663, 0.8366077699604655, 0.7138680225083096, 0.23795600750276985, 0.7694446791352519, 0.1832011140798219, 0.8286148278498838, 0.9828991935935469, 0.5286605821064265, 0.24670827164966572, 0.1762201940354755, 0.8429965068224446, 0.6570903013323895, 0.28161012914245265, 0.6050059743114666, 0.11000108623844847, 0.22000217247689693, 0.8738426599406572, 0.0741205827628236, 0.02340649981983903, 0.007802166606613011, 0.007802166606613011, 0.007802166606613011, 0.6980860469355505, 0.07348274178268954, 0.16737735628279282, 0.012247123630448256, 0.008164749086965503, 0.008164749086965503, 0.024494247260896513, 0.6829776899114296, 0.10118187998687846, 0.2023637599737569, 0.8070880495757762, 0.3666151705921888, 0.45826896324023597, 0.7957437230431306, 0.10503817144169324, 0.019097849353035132, 0.02546379913738018, 0.006365949784345045, 0.01591487446086261, 0.022280824245207657, 0.006365949784345045, 0.7987026346190315, 0.6250347042526597, 0.8348215155637212, 0.08562271954499705, 0.042811359772498524, 0.5650711807477512, 0.38848643676407896, 0.7656733150075692, 0.08778420172061303, 0.05852280114707535, 0.0390152007647169, 0.004876900095589613, 0.004876900095589613, 0.03413830066912729, 0.599493977027153, 0.8027501215838663, 0.11467858879769517, 0.028669647199423793, 0.8346196480382653, 0.7957510148212396, 0.7767154299561381, 0.8590534577550436, 0.8636945298094045, 0.0707946335909348, 0.042476780154560884, 0.4240116174384687, 0.4240116174384687, 0.6940259931982103, 0.3825755666479149, 0.552609151824766, 0.8018332059955291, 0.014578785563555074, 0.02915757112711015, 0.10205149894488552, 0.04373635669066522, 0.8055927439663003, 0.12393734522558467, 0.28615079704684176, 0.6438392933553939, 0.7637652513042643, 0.9296508477333683, 0.7946282874790351, 0.3693209955889697, 0.18466049779448485, 0.3693209955889697, 0.6151035457718318, 0.06834483841909242, 0.1139080640318207, 0.18225290245091313, 0.3062552450732039, 0.15312762253660195, 0.45938286760980584, 0.7945495674975417, 0.5329586090220315, 0.33660543727707254, 0.11220181242569084, 0.41930544762073046, 0.20965272381036523, 0.09317898836016233, 0.2562422179904464, 0.8513044502422294, 0.8350896810702907, 0.7059963543408777, 0.9487383477921623, 0.01065998143586699, 0.02131996287173398, 0.8723056509121118, 0.05071544482047162, 0.020286177928188646, 0.03042926689228297, 0.2897025176523047, 0.5794050353046094, 0.31476098944005976, 0.5770618139734429, 0.8360066302423027, 0.011297386895166253, 0.07908170826616377, 0.056486934475831266, 0.6687316129604729, 0.7495883349460658, 0.8705724449113995, 0.800537771349236, 0.7809841610831966, 0.5147365690861944, 0.4412027735024523, 0.42894101293803066, 0.42894101293803066, 0.9426864413151611, 0.19480509251776928, 0.7142853392318207, 0.8258795450018384, 0.7586473067480352, 0.8745553826945013, 0.7194410327085988, 0.8823262177312429, 0.9089138293938274, 0.05927698887351048, 0.019758996291170162, 0.7981223150948719, 0.5572453434269292, 0.017975656239578364, 0.37748878103114564, 0.13729770148477727, 0.755137358166275, 0.3154734170706564, 0.5363048090201159, 0.09464202512119692, 0.1345773844937231, 0.8074643069623387, 0.6066950356695481, 0.8009556419789851, 0.03408321880761639, 0.13633287523046556, 0.807769575287448, 0.6036664308395054, 0.7575698548312974, 0.7845397596849315, 0.9454231877741299, 0.8356630803805805, 0.18781118126144963, 0.6573391344150736, 0.3760747468193387, 0.5265046455470742, 0.6201538439267242, 0.1459185515121704, 0.1459185515121704, 0.0729592757560852, 0.6124019603338996, 0.3062009801669498, 0.7713213345284069, 0.7099103398001315, 0.01710627324819594, 0.01710627324819594, 0.04276568312048985, 0.04276568312048985, 0.03421254649639188, 0.07697822961688174, 0.051318819744587824, 0.7020932860534442, 0.04457735149545678, 0.10029904086477776, 0.14487639236023453, 0.7103403819636587, 0.319181641540132, 0.42557552205350935, 0.7970209053642628, 0.850573062241075, 0.8678981038323259, 0.1866670384232834, 0.5600011152698502, 0.8191388165615, 0.11170074771293181, 0.7993299601300894, 0.15542527002529516, 0.836146144793166, 0.3953430143634663, 0.47441161723615954, 0.754363902247568, 0.6698924222849749, 0.518322759314398, 0.06910970124191973, 0.3109936555886388, 0.05759141770159978, 0.02303656708063991, 0.7859348041494447, 0.29181934256026315, 0.19454622837350877, 0.43772901384039475, 0.6644642894007812, 0.1361607150411437, 0.1252678578378522, 0.03812500021152023, 0.027232143008228737, 0.46217047022022, 0.15405682340674, 0.30811364681348, 0.8363213238625565, 0.7415125209711524, 0.19696426338296236, 0.046344532560697024, 0.8266740523386101, 0.8691967052025874, 0.4757950445662411, 0.4757950445662411, 0.968900509239866, 0.6702032524413607, 0.6043260786507649, 0.21635731902165056, 0.6490719570649517, 0.48208212251595073, 0.15495496795155558, 0.08608609330641977, 0.24104106125797536, 0.8144930674366105, 0.6184455179806047, 0.2683565842719673, 0.44726097378661217, 0.17890438951464488, 0.7735009166686821, 0.8425144033562502, 0.02808381344520834, 0.02808381344520834, 0.01872254229680556, 0.07489016918722224, 0.8829800500347973, 0.7231177188675014, 0.04665275605596783, 0.029157972534979894, 0.19244261873086732, 0.965647987230433, 0.26118045773248366, 0.6529511443312092, 0.7577000086845668, 0.628389231330014, 0.02992329673000067, 0.16457813201500368, 0.179539780380004, 0.9306225337424338, 0.7715002409034241, 0.4956059148590127, 0.08260098580983545, 0.3304039432393418, 0.3310028614286144, 0.06620057228572288, 0.46340400600006015, 0.9013552496284571, 0.8670800686523689, 0.28750262315763525, 0.6160770496235041, 0.6111663188809321, 0.7276130450400872, 0.843175607679225, 0.09605798062168384, 0.01600966343694731, 0.01600966343694731, 0.021346217915929746, 0.8803714040365136, 0.7099755295389385, 0.23665850984631284, 0.024481914811687534, 0.016321276541125022, 0.614319903040395, 0.13354780500878152, 0.026709561001756303, 0.06677390250439076, 0.04006434150263446, 0.10683824400702521, 0.40319730057281833, 0.5375964007637578, 0.6751768224033162, 0.14650063127619126, 0.08917429729855121, 0.05732633397764006, 0.025478370656728914, 0.8009054776392678, 0.7484862971558448, 0.7003686143173549, 0.07781873492415055, 0.10700076052070699, 0.10700076052070699, 0.6718821837322222, 0.8720353550294523, 0.6697222376866705, 0.28198831060491386, 0.8167273260107794, 0.6164313104953093, 0.10366258360994815, 0.725638085269637, 0.573309947401395, 0.3583187171258718, 0.5200105854405441, 0.05200105854405441, 0.3900079390804081, 0.7762332994931511, 0.07762332994931512, 0.11643499492397268, 0.9499112484590221, 0.5602221386737529, 0.04668517822281275, 0.28011106933687646, 0.8490044012289285, 0.7175406314319039, 0.19134416838184104, 0.8736382453295573, 0.5184384049482149, 0.8492987651722667, 0.09367265792341177, 0.012489687723121569, 0.03746906316936471, 0.8198020439832752, 0.7525965694257518, 0.8476150503411439, 0.173894175553736, 0.173894175553736, 0.086947087776868, 0.4347354388843401, 0.7574635221199211, 0.8425861984892832, 0.5912899614751136, 0.6659299834060328, 0.036996110189224045, 0.12332036729741348, 0.024664073459482697, 0.12332036729741348, 0.8146021931082225, 0.8206946745649726, 0.5886655447428749, 0.8475101600606264, 0.8820246477002923, 0.7740143290991007, 0.7957551605474836, 0.4234013266455383, 0.4234013266455383, 0.21723248447911767, 0.6516974534373531, 0.9698457570688733, 0.9232897353345472, 0.03847040563893946, 0.030776324511151573, 0.6726400990087239, 0.12612001856413574, 0.16816002475218098, 0.0922066649417754, 0.8605955394565704, 0.12751245825843532, 0.8288309786798297, 0.41735522322647317, 0.5008262678717678, 0.38813379160787653, 0.4777031281327711, 0.08956933652489459, 0.21328789543983917, 0.6398636863195175, 0.7047185358989785, 0.968834088760089, 0.6930297159417993, 0.17620246487396282, 0.7635440144538388, 0.45100943264708554, 0.07516823877451426, 0.432217372953457, 0.2269319197003333, 0.2269319197003333, 0.4538638394006666, 0.1362465761523646, 0.7493561688380053, 0.7701977240338657, 0.14571308292532592, 0.062448464110853974, 0.20580861384667445, 0.4116172276933489, 0.07359739222068169, 0.8095713144274987, 0.36036038553705313, 0.5855856264977113, 0.8005377717765603, 0.6310901305856869, 0.07888626632321086, 0.19721566580802716, 0.07888626632321086, 0.18020774593790714, 0.7208309837516286, 0.7413155995395596, 0.44228997070604054, 0.44228997070604054, 0.3980566431095734, 0.07961132862191468, 0.3980566431095734, 0.1830721977425876, 0.7780568404059973, 0.6328200620184181, 0.27120859800789343, 0.2551269042072924, 0.6633299509389602, 0.38954864553150836, 0.4494792063825096, 0.08989584127650192, 0.8483974284974714, 0.48787802295478033, 0.4268932700854328, 0.5019754282187228, 0.2362237309264578, 0.2362237309264578, 0.9648137577693969, 0.026615551938466122, 0.9809397934568138, 0.8285179204893549, 0.7957602962972324, 0.7676474949972513, 0.6276070263352223, 0.5026790003228316, 0.41889916693569307, 0.5987742579787501, 0.7916716259491294, 0.7529390603652076, 0.9682168273802592, 0.6705767393342076, 0.8001572981733566, 0.026234665513880543, 0.026234665513880543, 0.13117332756940273, 0.9447221385763324, 0.6817370346788709, 0.09089827129051613, 0.1611378445604604, 0.012395218812343109, 0.008263479208228739, 0.008263479208228739, 0.016526958416457477, 0.024790437624686218, 0.7090245727796359, 0.3926704623263219, 0.5890056934894828, 0.10352304731530185, 0.5693767602341602, 0.31056914194590557, 0.5712851668709235, 0.31738064826162415, 0.8901907296713673, 0.7195652411636666, 0.6347948967750896, 0.14106553261668658, 0.14106553261668658, 0.8721348449456126, 0.7437875608624633, 0.021876104731248923, 0.19688494258124029, 0.7703727140327338, 0.962613232920384, 0.8660105106721792, 0.539965785472618, 0.43197262837809436, 0.8082501051545535, 0.7684030278082763, 0.9681667794772546, 0.5309770437312241, 0.3539846958208161, 0.7731520781782787, 0.7283294896579422, 0.46228183483982266, 0.34671137612986697, 0.8333322828195204, 0.035460948205085975, 0.017730474102542988, 0.08865237051271493, 0.8703753830783009, 0.9367826365310253, 0.013287696972071281, 0.013287696972071281, 0.019931545458106922, 0.0066438484860356405, 0.9509170654948818, 0.8873777887499174, 0.9510171617985662, 0.020021413932601394, 0.010010706966300697, 0.8875083966425773, 0.9249144370307912, 0.023715754795661313, 0.03557363219349197, 0.8508161972066138, 0.8894420035108354, 0.7707701276724325, 0.8252192140767882, 0.27814339959344014, 0.5562867991868803, 0.8480297064900706, 0.08255156434859094, 0.02251406300416117, 0.007504687668053722, 0.015009375336107444, 0.007504687668053722, 0.8868280214606714, 0.030846192050805965, 0.07711548012701491, 0.13056376120864138, 0.6528188060432069, 0.5393226989755796, 0.21572907959023185, 0.6745710138419058, 0.7118780052921913, 0.7525913237115743, 0.4748810310802769, 0.31658735405351796, 0.9267692955602651, 0.7895059173633311, 0.891625418486396, 0.7914714737113117, 0.10123472338167941, 0.004601578335530882, 0.013804735006592645, 0.009203156671061764, 0.013804735006592645, 0.013804735006592645, 0.02300789167765441, 0.02300789167765441, 0.6235116354929419, 0.1169084316549266, 0.07793895443661773, 0.1169084316549266, 0.024355923261443042, 0.03409829256602026, 0.8442161400931412, 0.8140913143817813, 0.9437324727739361, 0.04967013014599664, 0.6992464481946775, 0.8666054280529346, 0.816285743899248, 0.058958093334588894, 0.6190599800131834, 0.26531142000565, 0.6282020239031859, 0.07390612045919834, 0.221718361377595, 0.022171836137759502, 0.0073906120459198334, 0.03695306022959917, 0.6984731332698414, 0.08730914165873017, 0.17461828331746035, 0.7351520256369232, 0.21004343589626376, 0.30632097940441577, 0.12252839176176632, 0.5513777629279484, 0.8371533189224843, 0.8588155705235708, 0.8020279622476048, 0.7340960100917692, 0.14920650611621325, 0.03580956146789118, 0.02984130122324265, 0.02984130122324265, 0.01790478073394559, 0.8665111334164578, 0.9228352967599099, 0.05840729726328544, 0.760266906849469, 0.5913509438467783, 0.8453370558241446, 0.3115416263125959, 0.6230832526251918, 0.6049164269890444, 0.7498536472524339, 0.2968418707994802, 0.494736451332467, 0.6186372083687144, 0.8698465537989643, 0.8546113033656063, 0.6966435591479028, 0.5940550878199636, 0.7838576302465251, 0.9033149727005599, 0.8772766572358555, 0.8731474041863989, 0.8118943152053758, 0.6016869672072199, 0.8088470069649423, 0.9560958830155917, 0.08545997020409038, 0.7691397318368134, 0.7997689975136567, 0.7725835297697231, 0.7048294049821011, 0.19222620135875487, 0.11559127161344218, 0.6935476296806531, 0.630707172605259, 0.7544708031997771, 0.8999775810426945, 0.017475292835780476, 0.0699011713431219, 0.9297671137635011, 0.055343280581160774, 0.8037862820886792, 0.046530027327836815, 0.8840705192288995, 0.8630298773946995, 0.8121904324853441, 0.4602049209352299, 0.36816393674818393, 0.8292293301156678, 0.731142257789605, 0.709980799669344, 0.8150822848593307, 0.7609788561421781, 0.1297123050242349, 0.00864748700161566, 0.00864748700161566, 0.02594246100484698, 0.03891369150727047, 0.02161871750403915, 0.47080809961861636, 0.47080809961861636, 0.5413111650508321, 0.24058274002259203, 0.18043705501694401, 0.8971670442830125, 0.6554082669129204, 0.2340743810403287, 0.8268399522475426, 0.05300256104150914, 0.021201024416603657, 0.010600512208301828, 0.06360307324981097, 0.46726422610096885, 0.31150948406731255, 0.45720709340671833, 0.45720709340671833, 0.6060748441800684, 0.8214579639370999, 0.7587606805975184, 0.535799125458827, 0.17859970848627568, 0.17859970848627568, 0.17221629733966812, 0.6888651893586725, 0.6588964824904493, 0.599522703103709, 0.2786513972172169, 0.08443981733855058, 0.016887963467710116, 0.7964046382126194, 0.11177608957370097, 0.0314370251926034, 0.03842303079095971, 0.02095801679506893, 0.5875725919003051, 0.35254355514018304, 0.8551747906779839, 0.06578267620599876, 0.02392097316581773, 0.02392097316581773, 0.029901216457272162, 0.780073332206384, 0.6885545958145924, 0.8586281433530042, 0.7459519722661847, 0.1814477770377206, 0.016128691292241832, 0.008064345646120916, 0.024193036938362746, 0.02016086411530229, 0.7273940487951795, 0.5885353488774143, 0.7831079468021753, 0.08498845934287175, 0.030353021193882765, 0.01821181271632966, 0.06070604238776553, 0.012141208477553107, 0.8004102220362724], \"Term\": [\"absorbing\", \"abused\", \"academic\", \"academic\", \"academic\", \"academic\", \"academic\", \"academics\", \"access\", \"access\", \"acquired\", \"acquiring\", \"actions\", \"actions\", \"activity\", \"activity\", \"addition\", \"addressed\", \"adhd\", \"adhd\", \"adhd\", \"adirondack\", \"admirable\", \"adolescents\", \"advances\", \"adventure\", \"adventures\", \"affecting\", \"afraid\", \"afternoon\", \"age\", \"age\", \"ahead\", \"ahead\", \"algebra\", \"algebra\", \"allow\", \"allow\", \"allow\", \"allowing\", \"allowing\", \"aloud\", \"alphabet\", \"alphabet\", \"alternative\", \"alternative\", \"amazing\", \"amazing\", \"amazing\", \"amazing\", \"amazing\", \"amazing\", \"amazing\", \"amazing\", \"amazing\", \"ambassadors\", \"america\", \"america\", \"america\", \"american\", \"animals\", \"appreciate\", \"appreciate\", \"appreciate\", \"appreciative\", \"arctic\", \"area\", \"area\", \"area\", \"aren\", \"aren\", \"array\", \"array\", \"arriving\", \"art\", \"art\", \"assigned\", \"auditory\", \"aunt\", \"authentic\", \"authentic\", \"authentic\", \"autism\", \"autism\", \"autistic\", \"autistic\", \"awesome\", \"awesome\", \"awesome\", \"awesome\", \"background\", \"backgrounds\", \"backgrounds\", \"backgrounds\", \"backgrounds\", \"balls\", \"bands\", \"bands\", \"bands\", \"barely\", \"basic\", \"basic\", \"basics\", \"beautiful\", \"beautiful\", \"beautiful\", \"begins\", \"begins\", \"behavior\", \"behavior\", \"behaviors\", \"behaviors\", \"behaviors\", \"beings\", \"beings\", \"belonging\", \"best\", \"best\", \"best\", \"best\", \"best\", \"best\", \"better\", \"better\", \"better\", \"better\", \"bettering\", \"bins\", \"bleak\", \"blossom\", \"bodies\", \"bodies\", \"bonded\", \"bonus\", \"books\", \"books\", \"books\", \"books\", \"borders\", \"bounce\", \"boys\", \"boys\", \"boys\", \"brains\", \"brains\", \"breaks\", \"breaks\", \"breaks\", \"brick\", \"bridging\", \"bright\", \"bright\", \"bright\", \"bright\", \"brilliant\", \"brilliant\", \"broadway\", \"broken\", \"broken\", \"broken\", \"brooklyn\", \"brooklyn\", \"brooklyn\", \"brooklynite\", \"bubbly\", \"budding\", \"budding\", \"budget\", \"budget\", \"build\", \"build\", \"buses\", \"business\", \"cabs\", \"calmer\", \"capitalize\", \"capture\", \"capture\", \"card\", \"carefully\", \"carpet\", \"carrying\", \"central\", \"certainly\", \"chair\", \"chairs\", \"challenges\", \"challenges\", \"challenges\", \"challenges\", \"challenges\", \"challenges\", \"chance\", \"chance\", \"chance\", \"characteristics\", \"charismatic\", \"chart\", \"chart\", \"child\", \"child\", \"child\", \"child\", \"child\", \"children\", \"children\", \"children\", \"children\", \"children\", \"choose\", \"choose\", \"choose\", \"choosing\", \"chromebook\", \"circumstances\", \"circumstances\", \"circumstances\", \"city\", \"city\", \"city\", \"city\", \"city\", \"city\", \"citywide\", \"civic\", \"class\", \"class\", \"class\", \"class\", \"class\", \"class\", \"classes\", \"classes\", \"classes\", \"classes\", \"classes\", \"classes\", \"classes\", \"classics\", \"classmate\", \"classroom\", \"classroom\", \"classroom\", \"classroom\", \"classroom\", \"classroom\", \"classroom\", \"clay\", \"clever\", \"clever\", \"clever\", \"clip\", \"cloud\", \"cognitive\", \"cognitive\", \"cold\", \"collaboration\", \"collaboration\", \"college\", \"college\", \"colorful\", \"colorful\", \"colorful\", \"combine\", \"come\", \"come\", \"come\", \"come\", \"come\", \"come\", \"coming\", \"coming\", \"coming\", \"coming\", \"commit\", \"communication\", \"communication\", \"community\", \"community\", \"community\", \"community\", \"compare\", \"competent\", \"complain\", \"compliment\", \"computer\", \"concepts\", \"condition\", \"conservation\", \"considering\", \"considering\", \"consists\", \"consists\", \"consists\", \"consists\", \"constant\", \"constant\", \"constant\", \"constant\", \"constantly\", \"constantly\", \"constantly\", \"contained\", \"contained\", \"contained\", \"contains\", \"contains\", \"continually\", \"continue\", \"continue\", \"continue\", \"continue\", \"control\", \"control\", \"cooking\", \"cool\", \"cool\", \"cope\", \"corners\", \"corners\", \"counselor\", \"counselor\", \"courageous\", \"court\", \"craving\", \"create\", \"create\", \"creative\", \"creative\", \"creative\", \"creative\", \"creative\", \"creativity\", \"creators\", \"criteria\", \"crowded\", \"crowded\", \"culinary\", \"curiosity\", \"curiosity\", \"curious\", \"curious\", \"curious\", \"cuts\", \"cuts\", \"dad\", \"daily\", \"daily\", \"daily\", \"daily\", \"daily\", \"daily\", \"dark\", \"day\", \"day\", \"day\", \"day\", \"day\", \"day\", \"day\", \"day\", \"day\", \"day\", \"day\", \"days\", \"days\", \"dealing\", \"dealing\", \"debate\", \"debate\", \"decreased\", \"defy\", \"defying\", \"delays\", \"delays\", \"delays\", \"demanding\", \"demanding\", \"deprived\", \"descendants\", \"desk\", \"desks\", \"desks\", \"desks\", \"desks\", \"despite\", \"despite\", \"despite\", \"despite\", \"determination\", \"determination\", \"developed\", \"developed\", \"developments\", \"devotion\", \"different\", \"different\", \"different\", \"different\", \"digital\", \"digital\", \"directing\", \"disabilities\", \"disabilities\", \"disabilities\", \"disabilities\", \"disabilities\", \"disadvantages\", \"disciplined\", \"discovered\", \"discovering\", \"disorder\", \"disorders\", \"district\", \"district\", \"district\", \"district\", \"districts\", \"districts\", \"disturbance\", \"diverse\", \"diverse\", \"diverse\", \"diverse\", \"diverse\", \"dna\", \"doesn\", \"doesn\", \"doesn\", \"dollars\", \"domestic\", \"domestic\", \"don\", \"don\", \"don\", \"don\", \"door\", \"door\", \"door\", \"dozen\", \"dreamers\", \"dreamers\", \"dreaming\", \"eager\", \"eager\", \"eager\", \"eager\", \"eager\", \"eager\", \"eager\", \"eagerness\", \"eagerness\", \"earliest\", \"ease\", \"easily\", \"easily\", \"east\", \"east\", \"eclipse\", \"education\", \"education\", \"education\", \"education\", \"education\", \"education\", \"education\", \"efficient\", \"eighth\", \"eighth\", \"eighth\", \"einstein\", \"elementary\", \"elementary\", \"elementary\", \"embracing\", \"emotional\", \"emotional\", \"emotional\", \"empower\", \"empower\", \"empowering\", \"empowering\", \"empowers\", \"end\", \"endeavors\", \"endeavors\", \"endeavors\", \"energetic\", \"energetic\", \"energetic\", \"energetic\", \"energize\", \"engage\", \"engaged\", \"engaged\", \"engaged\", \"engaged\", \"engaged\", \"engagement\", \"english\", \"english\", \"english\", \"english\", \"english\", \"english\", \"enrich\", \"enrich\", \"enriching\", \"enrollments\", \"ensure\", \"ensure\", \"ensures\", \"ensuring\", \"entire\", \"entire\", \"entrepreneurs\", \"environment\", \"environment\", \"environment\", \"environment\", \"errands\", \"europe\", \"exactly\", \"exactly\", \"exam\", \"exam\", \"excellence\", \"excellence\", \"excellence\", \"excitable\", \"excited\", \"excited\", \"excited\", \"excited\", \"excited\", \"exciting\", \"exciting\", \"exciting\", \"exemplary\", \"exercise\", \"exercise\", \"existent\", \"experiences\", \"experiences\", \"experiences\", \"experiences\", \"explore\", \"explore\", \"explore\", \"explore\", \"explosion\", \"exposed\", \"exposed\", \"exposed\", \"exposed\", \"express\", \"expressed\", \"expressing\", \"extends\", \"exterior\", \"extraordinary\", \"fabulous\", \"face\", \"face\", \"face\", \"face\", \"face\", \"face\", \"face\", \"faced\", \"faced\", \"faced\", \"faces\", \"faces\", \"facilitates\", \"facilitator\", \"fall\", \"fall\", \"fall\", \"families\", \"families\", \"families\", \"families\", \"families\", \"fantastic\", \"fantastic\", \"fathers\", \"favor\", \"favorite\", \"favorite\", \"favorite\", \"feet\", \"feet\", \"feet\", \"figuring\", \"filled\", \"filled\", \"filled\", \"film\", \"financially\", \"fingerprints\", \"fingertips\", \"fits\", \"flash\", \"flatbush\", \"flatbush\", \"flexible\", \"flexible\", \"floor\", \"flow\", \"flowers\", \"flowing\", \"fly\", \"focus\", \"focus\", \"folders\", \"follows\", \"forever\", \"forgetting\", \"formation\", \"foundations\", \"fourth\", \"fourth\", \"fourth\", \"fourth\", \"free\", \"free\", \"free\", \"free\", \"free\", \"free\", \"free\", \"freely\", \"friend\", \"friendships\", \"friendships\", \"frustrated\", \"frustrated\", \"frustrating\", \"frustration\", \"fuel\", \"fulfilling\", \"fulfilling\", \"fully\", \"fully\", \"fully\", \"function\", \"function\", \"fund\", \"fundamental\", \"funds\", \"funds\", \"funny\", \"funny\", \"funny\", \"future\", \"future\", \"future\", \"future\", \"gangs\", \"gathering\", \"general\", \"general\", \"general\", \"geographic\", \"geographic\", \"geography\", \"gift\", \"girls\", \"girls\", \"girls\", \"goal\", \"goal\", \"goal\", \"goals\", \"goals\", \"goals\", \"goals\", \"goals\", \"goals\", \"gone\", \"gone\", \"goofy\", \"got\", \"gotten\", \"grade\", \"grade\", \"grade\", \"grade\", \"grade\", \"grade\", \"grade\", \"grade\", \"grade\", \"grade\", \"grandparent\", \"grape\", \"gross\", \"group\", \"group\", \"group\", \"group\", \"group\", \"growing\", \"growth\", \"growth\", \"guide\", \"gusto\", \"gym\", \"gymnasium\", \"gymnasium\", \"handicapped\", \"handle\", \"hands\", \"hands\", \"hands\", \"hands\", \"happens\", \"happens\", \"happens\", \"happiest\", \"hard\", \"hard\", \"hard\", \"hard\", \"hard\", \"hard\", \"harder\", \"harder\", \"hardships\", \"hardships\", \"hardships\", \"hardships\", \"heads\", \"hear\", \"hear\", \"hear\", \"heart\", \"heart\", \"help\", \"help\", \"help\", \"help\", \"help\", \"heroes\", \"high\", \"high\", \"high\", \"high\", \"high\", \"hinder\", \"home\", \"home\", \"home\", \"home\", \"home\", \"homeless\", \"homeless\", \"homeless\", \"homes\", \"homes\", \"homes\", \"homes\", \"hooks\", \"hope\", \"hope\", \"hope\", \"hopeful\", \"hopeful\", \"huge\", \"huge\", \"human\", \"human\", \"humanities\", \"humanity\", \"hunger\", \"imagination\", \"imagination\", \"imaginations\", \"imaginations\", \"impacts\", \"impacts\", \"impaired\", \"impairment\", \"impairments\", \"improve\", \"improved\", \"improvements\", \"impulsive\", \"includes\", \"includes\", \"includes\", \"including\", \"including\", \"income\", \"income\", \"income\", \"income\", \"income\", \"indies\", \"influence\", \"injury\", \"innovation\", \"input\", \"inquiry\", \"inquiry\", \"insecurities\", \"inspiration\", \"inspirations\", \"inspire\", \"inspire\", \"inspire\", \"inspire\", \"instead\", \"instead\", \"institutions\", \"instruction\", \"instruction\", \"integrated\", \"integrated\", \"integrated\", \"intellectual\", \"intellectual\", \"intelligences\", \"intelligent\", \"intelligent\", \"intensely\", \"interfere\", \"interfere\", \"intervention\", \"intervention\", \"inviting\", \"inviting\", \"inviting\", \"islander\", \"isn\", \"isolated\", \"japanese\", \"jazz\", \"john\", \"john\", \"journals\", \"joys\", \"june\", \"junior\", \"just\", \"just\", \"just\", \"kennedy\", \"kennedy\", \"keys\", \"keys\", \"kindergarten\", \"kindergarten\", \"kindergarten\", \"kindergarten\", \"kindergarten\", \"kindergarten\", \"kindle\", \"kits\", \"knowledge\", \"knowledge\", \"knowledge\", \"knows\", \"knows\", \"lack\", \"lack\", \"lack\", \"lake\", \"language\", \"language\", \"language\", \"language\", \"language\", \"language\", \"language\", \"language\", \"largest\", \"largest\", \"largest\", \"lastly\", \"late\", \"late\", \"latin\", \"latin\", \"laughter\", \"laughter\", \"laughter\", \"leaders\", \"learn\", \"learn\", \"learn\", \"learn\", \"learn\", \"learn\", \"learn\", \"learn\", \"learn\", \"learn\", \"learners\", \"learners\", \"learners\", \"learners\", \"learners\", \"learners\", \"learners\", \"learning\", \"learning\", \"learning\", \"learning\", \"learning\", \"learning\", \"learning\", \"learning\", \"learning\", \"learning\", \"learns\", \"lego\", \"libraries\", \"libraries\", \"lies\", \"lifelong\", \"lifelong\", \"lifelong\", \"like\", \"like\", \"like\", \"like\", \"like\", \"like\", \"line\", \"line\", \"line\", \"lingual\", \"little\", \"little\", \"little\", \"little\", \"little\", \"little\", \"little\", \"live\", \"live\", \"lives\", \"lives\", \"lives\", \"lives\", \"lives\", \"lives\", \"location\", \"location\", \"long\", \"long\", \"long\", \"looking\", \"looking\", \"looking\", \"looking\", \"lot\", \"lot\", \"lot\", \"loud\", \"love\", \"love\", \"love\", \"love\", \"love\", \"love\", \"love\", \"low\", \"low\", \"low\", \"low\", \"low\", \"luckiest\", \"lunch\", \"lunch\", \"lunch\", \"lunch\", \"lunch\", \"lunch\", \"lunch\", \"luxury\", \"mache\", \"magic\", \"magic\", \"magic\", \"magical\", \"magical\", \"magnet\", \"major\", \"major\", \"major\", \"majority\", \"majority\", \"majority\", \"majority\", \"majority\", \"make\", \"make\", \"make\", \"make\", \"make\", \"make\", \"materials\", \"materials\", \"materials\", \"math\", \"math\", \"math\", \"mean\", \"mean\", \"meaningful\", \"meaningful\", \"meaningful\", \"meet\", \"meet\", \"meet\", \"meet\", \"meet\", \"meet\", \"meeting\", \"meeting\", \"melting\", \"melting\", \"memorable\", \"memorable\", \"memory\", \"mental\", \"mental\", \"mentally\", \"metamorphosis\", \"methods\", \"minds\", \"minds\", \"minds\", \"minds\", \"mini\", \"mini\", \"minute\", \"minute\", \"minute\", \"minutes\", \"minutes\", \"miracle\", \"mistakes\", \"mixed\", \"mixed\", \"mixed\", \"mixture\", \"mixture\", \"mobility\", \"mom\", \"moment\", \"moment\", \"monetary\", \"mono\", \"montessori\", \"morning\", \"morning\", \"morning\", \"mothers\", \"mott\", \"mountains\", \"movement\", \"movement\", \"moving\", \"moving\", \"museum\", \"music\", \"nall\", \"nall\", \"nall\", \"nalmost\", \"nalthough\", \"nalthough\", \"nearly\", \"nearly\", \"nearly\", \"need\", \"need\", \"need\", \"need\", \"need\", \"need\", \"needs\", \"needs\", \"needs\", \"needs\", \"needs\", \"needs\", \"needs\", \"neighborhoods\", \"neighborhoods\", \"neighborhoods\", \"nest\", \"neven\", \"neven\", \"new\", \"new\", \"new\", \"new\", \"new\", \"new\", \"new\", \"new\", \"nice\", \"nlast\", \"nmany\", \"nmany\", \"nmany\", \"nmost\", \"nmost\", \"nmy\", \"nmy\", \"nmy\", \"nmy\", \"nmy\", \"nmy\", \"nmy\", \"nno\", \"non\", \"non\", \"non\", \"nonfiction\", \"notebook\", \"notoriously\", \"ntechnology\", \"nthe\", \"nthe\", \"nthe\", \"nthere\", \"nthere\", \"nuclear\", \"numbers\", \"numbers\", \"nwe\", \"nwe\", \"nwe\", \"nwe\", \"nwe\", \"nwhen\", \"nwhen\", \"nyou\", \"nyou\", \"obesity\", \"occupational\", \"occur\", \"odds\", \"odds\", \"odds\", \"offer\", \"offer\", \"offer\", \"offer\", \"offered\", \"offered\", \"offered\", \"oftentimes\", \"old\", \"old\", \"old\", \"olds\", \"olds\", \"olds\", \"olds\", \"online\", \"operate\", \"opinions\", \"opportunities\", \"opportunities\", \"opportunities\", \"opportunity\", \"opportunity\", \"opportunity\", \"opportunity\", \"optimal\", \"optimal\", \"options\", \"options\", \"order\", \"order\", \"order\", \"order\", \"ordinary\", \"organizational\", \"organizations\", \"orientation\", \"outcomes\", \"outdated\", \"outdated\", \"outlook\", \"outlook\", \"overcome\", \"overcrowded\", \"overcrowded\", \"overrun\", \"pacific\", \"page\", \"par\", \"parental\", \"parents\", \"parents\", \"parents\", \"partnership\", \"passion\", \"passion\", \"passion\", \"passions\", \"passions\", \"path\", \"path\", \"path\", \"pathologist\", \"pathologist\", \"patient\", \"peers\", \"peers\", \"peers\", \"pens\", \"peoples\", \"percentages\", \"peril\", \"perseverance\", \"persevering\", \"phenomenal\", \"phenomenal\", \"photography\", \"photography\", \"physical\", \"physical\", \"physical\", \"physical\", \"physically\", \"physically\", \"physics\", \"place\", \"place\", \"place\", \"place\", \"place\", \"place\", \"place\", \"place\", \"play\", \"play\", \"play\", \"play\", \"playground\", \"plentiful\", \"plentiful\", \"pocket\", \"poetry\", \"polite\", \"political\", \"political\", \"poor\", \"poor\", \"poorest\", \"poorest\", \"popular\", \"portion\", \"portion\", \"poses\", \"position\", \"positive\", \"positive\", \"positive\", \"positive\", \"positive\", \"poster\", \"pot\", \"pot\", \"pot\", \"poverty\", \"poverty\", \"poverty\", \"poverty\", \"poverty\", \"power\", \"power\", \"power\", \"praise\", \"pre\", \"pre\", \"pre\", \"prefer\", \"pregnancies\", \"prek\", \"prek\", \"prepare\", \"presence\", \"presenting\", \"prevent\", \"prevent\", \"price\", \"price\", \"price\", \"price\", \"prizes\", \"producing\", \"professional\", \"professional\", \"professional\", \"profit\", \"program\", \"program\", \"program\", \"program\", \"program\", \"prouder\", \"provide\", \"provide\", \"provide\", \"provide\", \"providing\", \"pull\", \"pull\", \"pushes\", \"qualify\", \"qualify\", \"qualify\", \"qualify\", \"questioners\", \"quick\", \"quiet\", \"quiet\", \"quiet\", \"quote\", \"quote\", \"quote\", \"races\", \"rainbow\", \"raised\", \"raised\", \"rank\", \"reached\", \"reading\", \"reading\", \"reading\", \"reading\", \"reading\", \"reads\", \"ready\", \"ready\", \"ready\", \"ready\", \"really\", \"really\", \"really\", \"really\", \"really\", \"really\", \"reasons\", \"reasons\", \"receive\", \"receive\", \"receive\", \"receive\", \"receive\", \"recognized\", \"redirecting\", \"reduced\", \"reduced\", \"reduced\", \"reduced\", \"refuse\", \"regards\", \"regular\", \"regular\", \"relationship\", \"relies\", \"religion\", \"religion\", \"remain\", \"remain\", \"remember\", \"remember\", \"remember\", \"require\", \"require\", \"require\", \"research\", \"reside\", \"reside\", \"reside\", \"resides\", \"resilient\", \"resilient\", \"resource\", \"resourceful\", \"resources\", \"resources\", \"resources\", \"resources\", \"respond\", \"response\", \"restrictive\", \"reward\", \"reward\", \"reward\", \"reward\", \"rewarded\", \"rewards\", \"richly\", \"room\", \"room\", \"room\", \"room\", \"room\", \"roots\", \"routes\", \"routinely\", \"rug\", \"sake\", \"sample\", \"sat\", \"savvy\", \"savvy\", \"scholarship\", \"scholarship\", \"schools\", \"science\", \"science\", \"science\", \"scientists\", \"scientists\", \"scientists\", \"seating\", \"seating\", \"seats\", \"seats\", \"sections\", \"sections\", \"seeing\", \"seeing\", \"seeing\", \"select\", \"select\", \"selected\", \"sense\", \"sensitive\", \"sensory\", \"sensory\", \"services\", \"services\", \"services\", \"servicing\", \"servicing\", \"servicing\", \"sessions\", \"sessions\", \"set\", \"set\", \"set\", \"setup\", \"setup\", \"seuss\", \"seuss\", \"severe\", \"severe\", \"sexual\", \"shelters\", \"shelters\", \"shelters\", \"shelters\", \"shoes\", \"shoes\", \"shopping\", \"silly\", \"silly\", \"similar\", \"similar\", \"similar\", \"simple\", \"simple\", \"simplest\", \"simplest\", \"singing\", \"singing\", \"sit\", \"sit\", \"sit\", \"site\", \"sitting\", \"sitting\", \"sixth\", \"sixth\", \"sixth\", \"skills\", \"skills\", \"small\", \"smartboard\", \"smoothly\", \"socialization\", \"solely\", \"solid\", \"solid\", \"solution\", \"source\", \"spaces\", \"spanish\", \"sparks\", \"speak\", \"speak\", \"speak\", \"speak\", \"speaking\", \"special\", \"special\", \"special\", \"special\", \"special\", \"special\", \"special\", \"special\", \"species\", \"spectrum\", \"spectrum\", \"speech\", \"speech\", \"speech\", \"spent\", \"spent\", \"spontaneous\", \"spunky\", \"stand\", \"stand\", \"stand\", \"standing\", \"state\", \"state\", \"state\", \"statement\", \"states\", \"station\", \"status\", \"status\", \"staying\", \"steer\", \"stem\", \"stimulating\", \"stimulating\", \"stools\", \"stopping\", \"stretch\", \"stretch\", \"strong\", \"strong\", \"strong\", \"strong\", \"structure\", \"student\", \"student\", \"student\", \"student\", \"student\", \"studies\", \"studio\", \"succeed\", \"succeed\", \"succeed\", \"succeeds\", \"success\", \"success\", \"success\", \"successfully\", \"suffer\", \"suggestions\", \"sum\", \"superheroes\", \"superheroes\", \"supplies\", \"supplies\", \"supplies\", \"supplies\", \"supplies\", \"supplies\", \"support\", \"support\", \"support\", \"supposed\", \"supposed\", \"surround\", \"surround\", \"switch\", \"symbols\", \"syndrome\", \"tables\", \"tables\", \"tactile\", \"tad\", \"talkers\", \"teach\", \"teach\", \"teach\", \"teach\", \"teach\", \"teach\", \"teach\", \"teach\", \"teach\", \"teacher\", \"teacher\", \"teacher\", \"teacher\", \"teacher\", \"teacher\", \"teammates\", \"tech\", \"technology\", \"technology\", \"teen\", \"tenth\", \"therapist\", \"therapy\", \"therapy\", \"therapy\", \"things\", \"things\", \"things\", \"things\", \"things\", \"things\", \"thinkers\", \"thinkers\", \"thinkers\", \"thought\", \"thought\", \"thoughtful\", \"thoughtful\", \"thoughtful\", \"thrilled\", \"thrown\", \"tied\", \"title\", \"title\", \"title\", \"title\", \"title\", \"title\", \"tone\", \"tools\", \"tools\", \"trade\", \"tradition\", \"training\", \"trains\", \"trains\", \"traits\", \"transform\", \"translate\", \"translate\", \"traumatic\", \"travelers\", \"treasure\", \"treasures\", \"trial\", \"twice\", \"type\", \"uncommon\", \"underprivileged\", \"understands\", \"unfair\", \"unfortunate\", \"united\", \"units\", \"units\", \"universities\", \"unsafe\", \"upcoming\", \"upcoming\", \"ups\", \"ups\", \"upward\", \"usa\", \"use\", \"use\", \"use\", \"variety\", \"variety\", \"venues\", \"verbal\", \"verbal\", \"views\", \"virtually\", \"vision\", \"vision\", \"visit\", \"vivacious\", \"volleyball\", \"volunteer\", \"want\", \"want\", \"want\", \"want\", \"want\", \"want\", \"want\", \"wanting\", \"wanting\", \"warm\", \"warm\", \"warm\", \"washington\", \"watching\", \"watching\", \"ways\", \"ways\", \"ways\", \"ways\", \"ways\", \"went\", \"went\", \"west\", \"west\", \"wholehearted\", \"whopping\", \"wildlife\", \"willingness\", \"willingness\", \"willingness\", \"witness\", \"witness\", \"witty\", \"wonderful\", \"wonderful\", \"wonderful\", \"wonderful\", \"work\", \"work\", \"work\", \"work\", \"work\", \"works\", \"works\", \"world\", \"world\", \"world\", \"world\", \"world\", \"worse\", \"wow\", \"wrong\", \"year\", \"year\", \"year\", \"year\", \"year\", \"year\", \"yearning\", \"yemeni\", \"york\", \"york\", \"york\", \"york\", \"york\", \"york\", \"zone\"]}, \"R\": 30, \"lambda.step\": 0.01, \"plot.opts\": {\"xlab\": \"PC1\", \"ylab\": \"PC2\"}, \"topic.order\": [13, 10, 2, 1, 19, 3, 9, 14, 12, 16, 4, 18, 7, 17, 20, 11, 15, 5, 8, 6]};\n",
       "\n",
       "function LDAvis_load_lib(url, callback){\n",
       "  var s = document.createElement('script');\n",
       "  s.src = url;\n",
       "  s.async = true;\n",
       "  s.onreadystatechange = s.onload = callback;\n",
       "  s.onerror = function(){console.warn(\"failed to load library \" + url);};\n",
       "  document.getElementsByTagName(\"head\")[0].appendChild(s);\n",
       "}\n",
       "\n",
       "if(typeof(LDAvis) !== \"undefined\"){\n",
       "   // already loaded: just create the visualization\n",
       "   !function(LDAvis){\n",
       "       new LDAvis(\"#\" + \"ldavis_el5847182716128081468623207\", ldavis_el5847182716128081468623207_data);\n",
       "   }(LDAvis);\n",
       "}else if(typeof define === \"function\" && define.amd){\n",
       "   // require.js is available: use it to load d3/LDAvis\n",
       "   require.config({paths: {d3: \"https://cdnjs.cloudflare.com/ajax/libs/d3/3.5.5/d3.min\"}});\n",
       "   require([\"d3\"], function(d3){\n",
       "      window.d3 = d3;\n",
       "      LDAvis_load_lib(\"https://cdn.rawgit.com/bmabey/pyLDAvis/files/ldavis.v1.0.0.js\", function(){\n",
       "        new LDAvis(\"#\" + \"ldavis_el5847182716128081468623207\", ldavis_el5847182716128081468623207_data);\n",
       "      });\n",
       "    });\n",
       "}else{\n",
       "    // require.js not available: dynamically load d3 & LDAvis\n",
       "    LDAvis_load_lib(\"https://cdnjs.cloudflare.com/ajax/libs/d3/3.5.5/d3.min.js\", function(){\n",
       "         LDAvis_load_lib(\"https://cdn.rawgit.com/bmabey/pyLDAvis/files/ldavis.v1.0.0.js\", function(){\n",
       "                 new LDAvis(\"#\" + \"ldavis_el5847182716128081468623207\", ldavis_el5847182716128081468623207_data);\n",
       "            })\n",
       "         });\n",
       "}\n",
       "</script>"
      ],
      "text/plain": [
       "PreparedData(topic_coordinates=            Freq  cluster  topics         x         y\n",
       "topic                                                \n",
       "12     67.913729        1       1  0.111778  0.034817\n",
       "9       8.216426        1       2  0.211521  0.073786\n",
       "1       4.351058        1       3  0.266507  0.140520\n",
       "0       2.538007        1       4  0.232547 -0.307050\n",
       "18      2.067090        1       5  0.125105  0.064381\n",
       "2       1.453167        1       6 -0.000411 -0.002914\n",
       "8       1.202026        1       7  0.027031  0.059233\n",
       "13      1.195761        1       8 -0.040307 -0.055049\n",
       "11      1.133352        1       9 -0.043620  0.023259\n",
       "15      1.087217        1      10 -0.069275 -0.022620\n",
       "3       1.071231        1      11 -0.060168  0.010667\n",
       "17      1.001789        1      12 -0.017959  0.021249\n",
       "6       0.998939        1      13 -0.078285 -0.013940\n",
       "16      0.899138        1      14 -0.105989 -0.000951\n",
       "19      0.894614        1      15 -0.070380 -0.029517\n",
       "10      0.847840        1      16 -0.105668 -0.006175\n",
       "14      0.806998        1      17 -0.101906  0.000470\n",
       "4       0.804692        1      18 -0.101697 -0.000052\n",
       "7       0.792866        1      19 -0.098958  0.002075\n",
       "5       0.724058        1      20 -0.079866  0.007812, topic_info=     Category        Freq           Term       Total  loglift  logprob\n",
       "term                                                                  \n",
       "598   Default  361.000000           come  361.000000  30.0000  30.0000\n",
       "1987  Default  403.000000          learn  403.000000  29.0000  29.0000\n",
       "492   Default  199.000000     challenges  199.000000  28.0000  28.0000\n",
       "552   Default  400.000000      classroom  400.000000  27.0000  27.0000\n",
       "806   Default  336.000000            day  336.000000  26.0000  26.0000\n",
       "1127  Default  244.000000        english  244.000000  25.0000  25.0000\n",
       "3710  Default  231.000000           want  231.000000  24.0000  24.0000\n",
       "2319  Default  314.000000            new  314.000000  23.0000  23.0000\n",
       "1990  Default  243.000000       learners  243.000000  22.0000  22.0000\n",
       "1991  Default  424.000000       learning  424.000000  21.0000  21.0000\n",
       "325   Default  201.000000           best  201.000000  20.0000  20.0000\n",
       "2082  Default  190.000000            low  190.000000  19.0000  19.0000\n",
       "1049  Default  280.000000      education  280.000000  18.0000  18.0000\n",
       "523   Default  269.000000       children  269.000000  17.0000  17.0000\n",
       "3808  Default  248.000000           year  248.000000  16.0000  16.0000\n",
       "3781  Default  286.000000           work  286.000000  15.0000  15.0000\n",
       "2648  Default  183.000000        poverty  183.000000  14.0000  14.0000\n",
       "1506  Default  286.000000          grade  286.000000  13.0000  13.0000\n",
       "1297  Default  161.000000       families  161.000000  12.0000  12.0000\n",
       "2304  Default  244.000000          needs  244.000000  11.0000  11.0000\n",
       "757   Default  139.000000       creative  139.000000  10.0000  10.0000\n",
       "1214  Default  155.000000        excited  155.000000   9.0000   9.0000\n",
       "2748  Default  171.000000        provide  171.000000   8.0000   8.0000\n",
       "540   Default  161.000000           city  161.000000   7.0000   7.0000\n",
       "1236  Default  136.000000    experiences  136.000000   6.0000   6.0000\n",
       "3231  Default  242.000000        special  242.000000   5.0000   5.0000\n",
       "3450  Default  181.000000     technology  181.000000   4.0000   4.0000\n",
       "1932  Default  140.000000   kindergarten  140.000000   3.0000   3.0000\n",
       "1020  Default  212.000000          eager  212.000000   2.0000   2.0000\n",
       "1412  Default  203.000000           free  203.000000   1.0000   1.0000\n",
       "...       ...         ...            ...         ...      ...      ...\n",
       "613   Topic20    0.135338  communication   28.618883  -0.4260  -8.2498\n",
       "2942  Topic20    0.135338    resourceful    3.857739   1.5780  -8.2498\n",
       "3547  Topic20    0.135338       training    8.280721   0.8141  -8.2498\n",
       "2178  Topic20    0.135338        methods   11.342974   0.4995  -8.2498\n",
       "3670  Topic20    0.135338         verbal   21.491498  -0.1396  -8.2498\n",
       "138   Topic20    0.135338        amazing  157.928146  -2.1341  -8.2498\n",
       "2923  Topic20    0.135338        require   51.530899  -1.0141  -8.2498\n",
       "2353  Topic20    0.135338            non   34.880094  -0.6238  -8.2498\n",
       "3434  Topic20    0.135338          teach  217.316739  -2.4533  -8.2498\n",
       "358   Topic20    0.135338          books  120.189850  -1.8610  -8.2498\n",
       "2445  Topic20    0.135338    opportunity   98.589296  -1.6629  -8.2498\n",
       "3811  Topic20    0.135338       yearning    6.873853   1.0004  -8.2498\n",
       "1199  Topic20    0.135338        exactly   10.898837   0.5394  -8.2498\n",
       "46    Topic20    0.135338        actions    9.106366   0.7191  -8.2498\n",
       "3027  Topic20    0.135338          savvy   11.809127   0.4592  -8.2498\n",
       "3444  Topic20    0.135338           tech   11.055271   0.5252  -8.2498\n",
       "2940  Topic20    0.135338       resource   10.301747   0.5958  -8.2498\n",
       "250   Topic20    0.135338       autistic   11.834469   0.4571  -8.2498\n",
       "1705  Topic20    0.135338    imagination   12.377407   0.4122  -8.2498\n",
       "759   Topic20    0.135338     creativity   35.716834  -0.6475  -8.2498\n",
       "3589  Topic20    0.135338           type   15.498470   0.1873  -8.2498\n",
       "1815  Topic20    0.135338    inspiration   13.777629   0.3050  -8.2498\n",
       "2932  Topic20    0.135338         reside   21.420075  -0.1363  -8.2498\n",
       "1338  Topic20    0.135338           film    5.498734   1.2236  -8.2498\n",
       "492   Topic20    0.135338     challenges  199.799721  -2.3692  -8.2498\n",
       "1122  Topic20    0.135338     engagement   18.019871   0.0366  -8.2498\n",
       "1991  Topic20    0.135338       learning  424.386566  -3.1226  -8.2498\n",
       "3163  Topic20    0.135338          sixth   33.866200  -0.5943  -8.2498\n",
       "1845  Topic20    0.135338    intelligent   21.663606  -0.1476  -8.2498\n",
       "1158  Topic20    0.135338         entire   24.364649  -0.2651  -8.2498\n",
       "\n",
       "[1004 rows x 6 columns], token_table=      Topic      Freq         Term\n",
       "term                              \n",
       "6         5  0.746313    absorbing\n",
       "8        10  0.856547       abused\n",
       "9         1  0.729768     academic\n",
       "9         3  0.157401     academic\n",
       "9         4  0.078700     academic\n",
       "9         5  0.014309     academic\n",
       "9        13  0.014309     academic\n",
       "11        1  0.962363    academics\n",
       "19        1  0.962154       access\n",
       "19       10  0.022639       access\n",
       "40        2  0.881017     acquired\n",
       "41        4  0.820248    acquiring\n",
       "46        2  0.109813      actions\n",
       "46        3  0.768693      actions\n",
       "50        1  0.813114     activity\n",
       "50       12  0.150577     activity\n",
       "60        1  0.957111     addition\n",
       "64        7  0.807337    addressed\n",
       "69        2  0.039138         adhd\n",
       "69        3  0.704485         adhd\n",
       "69        5  0.195690         adhd\n",
       "70        8  0.774973   adirondack\n",
       "75        8  0.700843    admirable\n",
       "78       14  0.839343  adolescents\n",
       "87        1  0.596252     advances\n",
       "89        2  0.915524    adventure\n",
       "90        2  0.894273   adventures\n",
       "97        3  0.785060    affecting\n",
       "102       2  0.854507       afraid\n",
       "105       1  0.596816    afternoon\n",
       "...     ...       ...          ...\n",
       "3781      1  0.796405         work\n",
       "3781      2  0.111776         work\n",
       "3781      3  0.031437         work\n",
       "3781      5  0.038423         work\n",
       "3781      8  0.020958         work\n",
       "3787      1  0.587573        works\n",
       "3787      7  0.352544        works\n",
       "3791      1  0.855175        world\n",
       "3791      2  0.065783        world\n",
       "3791      5  0.023921        world\n",
       "3791      8  0.023921        world\n",
       "3791     15  0.029901        world\n",
       "3794     10  0.780073        worse\n",
       "3799      7  0.688555          wow\n",
       "3805      3  0.858628        wrong\n",
       "3808      1  0.745952         year\n",
       "3808      2  0.181448         year\n",
       "3808      5  0.016129         year\n",
       "3808      6  0.008064         year\n",
       "3808      9  0.024193         year\n",
       "3808     12  0.020161         year\n",
       "3811      1  0.727394     yearning\n",
       "3814      1  0.588535       yemeni\n",
       "3818      1  0.783108         york\n",
       "3818      2  0.084988         york\n",
       "3818      5  0.030353         york\n",
       "3818      8  0.018212         york\n",
       "3818     11  0.060706         york\n",
       "3818     12  0.012141         york\n",
       "3826      6  0.800410         zone\n",
       "\n",
       "[1759 rows x 3 columns], R=30, lambda_step=0.01, plot_opts={'xlab': 'PC1', 'ylab': 'PC2'}, topic_order=[13, 10, 2, 1, 19, 3, 9, 14, 12, 16, 4, 18, 7, 17, 20, 11, 15, 5, 8, 6])"
      ]
     },
     "execution_count": 111,
     "metadata": {},
     "output_type": "execute_result"
    }
   ],
   "source": [
    "pyLDAvis.sklearn.prepare(lda_tfidf, dtm_tfidf, tfidf_vectorizer)"
   ]
  },
  {
   "cell_type": "markdown",
   "metadata": {},
   "source": [
    "### Project Essay Visualizations\n",
    "\n",
    "What are some topics in the `project_essay_2` column?  Can you determine a way to incorporate these into a `LogisticRegression` model?"
   ]
  },
  {
   "cell_type": "code",
   "execution_count": null,
   "metadata": {},
   "outputs": [],
   "source": []
  },
  {
   "cell_type": "code",
   "execution_count": null,
   "metadata": {},
   "outputs": [],
   "source": []
  },
  {
   "cell_type": "code",
   "execution_count": null,
   "metadata": {},
   "outputs": [],
   "source": []
  },
  {
   "cell_type": "code",
   "execution_count": null,
   "metadata": {},
   "outputs": [],
   "source": []
  },
  {
   "cell_type": "code",
   "execution_count": null,
   "metadata": {},
   "outputs": [],
   "source": []
  }
 ],
 "metadata": {
  "kernelspec": {
   "display_name": "Python 3",
   "language": "python",
   "name": "python3"
  },
  "language_info": {
   "codemirror_mode": {
    "name": "ipython",
    "version": 3
   },
   "file_extension": ".py",
   "mimetype": "text/x-python",
   "name": "python",
   "nbconvert_exporter": "python",
   "pygments_lexer": "ipython3",
   "version": "3.6.4"
  }
 },
 "nbformat": 4,
 "nbformat_minor": 2
}
