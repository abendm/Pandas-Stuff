{
 "cells": [
  {
   "cell_type": "markdown",
   "metadata": {},
   "source": [
    "# Sentiment Analysis and Topic Models\n",
    "\n",
    "\n",
    "Consider the sentiment of the following statements:\n",
    "\n",
    "- Coronet has the best lines of all day cruisers.\n",
    "- Bertram has a deep V hull and runs easily through seas.\n",
    "- Pastel-colored 1980s day cruisers from Florida are ugly.\n",
    "- I dislike old cabin cruisers.\n",
    "\n",
    "Are they positive, negative, or neutral?  Why?"
   ]
  },
  {
   "cell_type": "code",
   "execution_count": 1,
   "metadata": {},
   "outputs": [],
   "source": [
    "%matplotlib inline \n",
    "import matplotlib.pyplot as plt\n",
    "import numpy as np\n",
    "import pandas as pd\n",
    "\n",
    "from textblob import TextBlob"
   ]
  },
  {
   "cell_type": "markdown",
   "metadata": {},
   "source": [
    "### Sentiment Analysis"
   ]
  },
  {
   "cell_type": "code",
   "execution_count": 2,
   "metadata": {},
   "outputs": [],
   "source": [
    "text = 'Hi, I thought the speech you gave was awful, your hair looked terrible, and your mom would be ashamed.'"
   ]
  },
  {
   "cell_type": "code",
   "execution_count": 4,
   "metadata": {},
   "outputs": [],
   "source": [
    "analysis = TextBlob(text)"
   ]
  },
  {
   "cell_type": "code",
   "execution_count": 5,
   "metadata": {},
   "outputs": [],
   "source": [
    "pos_or_neg = analysis.sentiment.polarity"
   ]
  },
  {
   "cell_type": "code",
   "execution_count": 6,
   "metadata": {},
   "outputs": [
    {
     "data": {
      "text/plain": [
       "-1.0"
      ]
     },
     "execution_count": 6,
     "metadata": {},
     "output_type": "execute_result"
    }
   ],
   "source": [
    "pos_or_neg"
   ]
  },
  {
   "cell_type": "code",
   "execution_count": 7,
   "metadata": {},
   "outputs": [],
   "source": [
    "ny = pd.read_csv('data/ny_donors.csv')"
   ]
  },
  {
   "cell_type": "code",
   "execution_count": 8,
   "metadata": {},
   "outputs": [],
   "source": [
    "sent = ny.project_essay_2[30]"
   ]
  },
  {
   "cell_type": "code",
   "execution_count": 9,
   "metadata": {},
   "outputs": [
    {
     "data": {
      "text/plain": [
       "\"We currently have 3 outdated desktop computers in our classroom that still run on Windows XP! We like to use reading websites, like Raz Kids, Starfall and News-O-Matic to practice our reading skills. It's difficult to make sure everyone gets a fair turn when there are 24 students sharing 3 computers. Most of them don't have access to technology at home either. \\\\r\\\\nThese new Kindle Fires will allow more students to have access to technology at the same time. Students will be able to read ebooks, as well as use other reading apps to practice reading on their own level. They can also use them for research for their writing, publishing their work, and learning how to use different types of  technology. It will encourage reluctant readers to practice reading more if they can have access to different kinds of books on technology.\""
      ]
     },
     "execution_count": 9,
     "metadata": {},
     "output_type": "execute_result"
    }
   ],
   "source": [
    "sent"
   ]
  },
  {
   "cell_type": "code",
   "execution_count": 10,
   "metadata": {},
   "outputs": [],
   "source": [
    "analysis = TextBlob(sent)"
   ]
  },
  {
   "cell_type": "code",
   "execution_count": 11,
   "metadata": {},
   "outputs": [
    {
     "data": {
      "text/plain": [
       "0.18742424242424244"
      ]
     },
     "execution_count": 11,
     "metadata": {},
     "output_type": "execute_result"
    }
   ],
   "source": [
    "analysis.sentiment.polarity"
   ]
  },
  {
   "cell_type": "code",
   "execution_count": 12,
   "metadata": {},
   "outputs": [
    {
     "data": {
      "text/plain": [
       "0.6067845117845116"
      ]
     },
     "execution_count": 12,
     "metadata": {},
     "output_type": "execute_result"
    }
   ],
   "source": [
    "analysis.sentiment.subjectivity"
   ]
  },
  {
   "cell_type": "code",
   "execution_count": 13,
   "metadata": {},
   "outputs": [],
   "source": [
    "import spacy"
   ]
  },
  {
   "cell_type": "code",
   "execution_count": 14,
   "metadata": {},
   "outputs": [],
   "source": [
    "nlp = spacy.load('en')"
   ]
  },
  {
   "cell_type": "code",
   "execution_count": 15,
   "metadata": {},
   "outputs": [],
   "source": [
    "doc = nlp(sent)"
   ]
  },
  {
   "cell_type": "code",
   "execution_count": 16,
   "metadata": {},
   "outputs": [
    {
     "name": "stdout",
     "output_type": "stream",
     "text": [
      "We currently have 3 outdated desktop computers in our classroom that still run on Windows XP!\n",
      "We like to use reading websites, like Raz Kids, Starfall and News-O-Matic to practice our reading skills.\n",
      "It's difficult to make sure everyone gets a fair turn when there are 24 students sharing 3 computers.\n",
      "Most of them don't have access to technology at home either.\n",
      "\\r\\nThese new Kindle Fires will allow more students to have access to technology at the same time.\n",
      "Students will be able to read ebooks, as well as use other reading apps to practice reading on their own level.\n",
      "They can also use them for research for their writing, publishing their work, and learning how to use different types of  technology.\n",
      "It will encourage reluctant readers to practice reading more if they can have access to different kinds of books on technology.\n"
     ]
    }
   ],
   "source": [
    "for sent in doc.sents:\n",
    "    print(sent)"
   ]
  },
  {
   "cell_type": "code",
   "execution_count": 17,
   "metadata": {},
   "outputs": [],
   "source": [
    "from spacy import displacy"
   ]
  },
  {
   "cell_type": "code",
   "execution_count": 18,
   "metadata": {},
   "outputs": [
    {
     "data": {
      "text/html": [
       "<div class=\"entities\" style=\"line-height: 2.5\">We currently have \n",
       "<mark class=\"entity\" style=\"background: #e4e7d2; padding: 0.45em 0.6em; margin: 0 0.25em; line-height: 1; border-radius: 0.35em; box-decoration-break: clone; -webkit-box-decoration-break: clone\">\n",
       "    3\n",
       "    <span style=\"font-size: 0.8em; font-weight: bold; line-height: 1; border-radius: 0.35em; text-transform: uppercase; vertical-align: middle; margin-left: 0.5rem\">CARDINAL</span>\n",
       "</mark>\n",
       " outdated desktop computers in our classroom that still run on \n",
       "<mark class=\"entity\" style=\"background: #aa9cfc; padding: 0.45em 0.6em; margin: 0 0.25em; line-height: 1; border-radius: 0.35em; box-decoration-break: clone; -webkit-box-decoration-break: clone\">\n",
       "    Windows XP\n",
       "    <span style=\"font-size: 0.8em; font-weight: bold; line-height: 1; border-radius: 0.35em; text-transform: uppercase; vertical-align: middle; margin-left: 0.5rem\">PERSON</span>\n",
       "</mark>\n",
       "! We like to use reading websites, like \n",
       "<mark class=\"entity\" style=\"background: #aa9cfc; padding: 0.45em 0.6em; margin: 0 0.25em; line-height: 1; border-radius: 0.35em; box-decoration-break: clone; -webkit-box-decoration-break: clone\">\n",
       "    Raz Kids\n",
       "    <span style=\"font-size: 0.8em; font-weight: bold; line-height: 1; border-radius: 0.35em; text-transform: uppercase; vertical-align: middle; margin-left: 0.5rem\">PERSON</span>\n",
       "</mark>\n",
       ", \n",
       "<mark class=\"entity\" style=\"background: #aa9cfc; padding: 0.45em 0.6em; margin: 0 0.25em; line-height: 1; border-radius: 0.35em; box-decoration-break: clone; -webkit-box-decoration-break: clone\">\n",
       "    Starfall\n",
       "    <span style=\"font-size: 0.8em; font-weight: bold; line-height: 1; border-radius: 0.35em; text-transform: uppercase; vertical-align: middle; margin-left: 0.5rem\">PERSON</span>\n",
       "</mark>\n",
       " and News-O-Matic to practice our reading skills. It's difficult to make sure everyone gets a fair turn when there are \n",
       "<mark class=\"entity\" style=\"background: #e4e7d2; padding: 0.45em 0.6em; margin: 0 0.25em; line-height: 1; border-radius: 0.35em; box-decoration-break: clone; -webkit-box-decoration-break: clone\">\n",
       "    24\n",
       "    <span style=\"font-size: 0.8em; font-weight: bold; line-height: 1; border-radius: 0.35em; text-transform: uppercase; vertical-align: middle; margin-left: 0.5rem\">CARDINAL</span>\n",
       "</mark>\n",
       " students sharing \n",
       "<mark class=\"entity\" style=\"background: #e4e7d2; padding: 0.45em 0.6em; margin: 0 0.25em; line-height: 1; border-radius: 0.35em; box-decoration-break: clone; -webkit-box-decoration-break: clone\">\n",
       "    3\n",
       "    <span style=\"font-size: 0.8em; font-weight: bold; line-height: 1; border-radius: 0.35em; text-transform: uppercase; vertical-align: middle; margin-left: 0.5rem\">CARDINAL</span>\n",
       "</mark>\n",
       " computers. Most of them don't have access to technology at home either. \\r\\nThese new \n",
       "<mark class=\"entity\" style=\"background: #7aecec; padding: 0.45em 0.6em; margin: 0 0.25em; line-height: 1; border-radius: 0.35em; box-decoration-break: clone; -webkit-box-decoration-break: clone\">\n",
       "    Kindle Fires\n",
       "    <span style=\"font-size: 0.8em; font-weight: bold; line-height: 1; border-radius: 0.35em; text-transform: uppercase; vertical-align: middle; margin-left: 0.5rem\">ORG</span>\n",
       "</mark>\n",
       " will allow more students to have access to technology at the same time. Students will be able to read ebooks, as well as use other reading apps to practice reading on their own level. They can also use them for research for their writing, publishing their work, and learning how to use different types of \n",
       "<mark class=\"entity\" style=\"background: #c887fb; padding: 0.45em 0.6em; margin: 0 0.25em; line-height: 1; border-radius: 0.35em; box-decoration-break: clone; -webkit-box-decoration-break: clone\">\n",
       "     \n",
       "    <span style=\"font-size: 0.8em; font-weight: bold; line-height: 1; border-radius: 0.35em; text-transform: uppercase; vertical-align: middle; margin-left: 0.5rem\">NORP</span>\n",
       "</mark>\n",
       "technology. It will encourage reluctant readers to practice reading more if they can have access to different kinds of books on technology.</div>"
      ],
      "text/plain": [
       "<IPython.core.display.HTML object>"
      ]
     },
     "metadata": {},
     "output_type": "display_data"
    }
   ],
   "source": [
    "displacy.render(doc, style = 'ent', jupyter = True)"
   ]
  },
  {
   "cell_type": "code",
   "execution_count": 19,
   "metadata": {},
   "outputs": [],
   "source": [
    "from textblob import TextBlob"
   ]
  },
  {
   "cell_type": "code",
   "execution_count": 20,
   "metadata": {},
   "outputs": [],
   "source": [
    "text = ny.project_essay_2[10]"
   ]
  },
  {
   "cell_type": "code",
   "execution_count": 21,
   "metadata": {},
   "outputs": [],
   "source": [
    "blob = TextBlob(text)"
   ]
  },
  {
   "cell_type": "code",
   "execution_count": 42,
   "metadata": {},
   "outputs": [
    {
     "data": {
      "text/plain": [
       "[('We', 'PRP'),\n",
       " ('are', 'VBP'),\n",
       " ('looking', 'VBG'),\n",
       " ('to', 'TO'),\n",
       " ('add', 'VB')]"
      ]
     },
     "execution_count": 42,
     "metadata": {},
     "output_type": "execute_result"
    }
   ],
   "source": [
    "blob.tags[:5]"
   ]
  },
  {
   "cell_type": "code",
   "execution_count": 121,
   "metadata": {},
   "outputs": [
    {
     "data": {
      "text/plain": [
       "'We'"
      ]
     },
     "execution_count": 121,
     "metadata": {},
     "output_type": "execute_result"
    }
   ],
   "source": [
    "blob.tags[0][0]"
   ]
  },
  {
   "cell_type": "code",
   "execution_count": 122,
   "metadata": {},
   "outputs": [
    {
     "data": {
      "text/plain": [
       "'PRP'"
      ]
     },
     "execution_count": 122,
     "metadata": {},
     "output_type": "execute_result"
    }
   ],
   "source": [
    "blob.tags[0][1]"
   ]
  },
  {
   "cell_type": "code",
   "execution_count": 123,
   "metadata": {},
   "outputs": [
    {
     "name": "stdout",
     "output_type": "stream",
     "text": [
      "0.0 We are loo\n",
      "0.0 But, we ar\n",
      "0.7 We believe\n",
      "0.0 \\r\\n\\r\\nA \n",
      "0.0 For exampl\n",
      "0.5 More stude\n",
      "0.0 We could t\n",
      "0.3181818181818182 Our robot \n",
      "0.0 The possib\n",
      "0.0 Robotics c\n",
      "0.0 It allows \n",
      "0.08333333333333333 This will \n",
      "0.0 Thank you!\n"
     ]
    }
   ],
   "source": [
    "for sent in blob.sentences:\n",
    "    print(sent.sentiment.polarity, sent[:10])"
   ]
  },
  {
   "cell_type": "code",
   "execution_count": 44,
   "metadata": {},
   "outputs": [
    {
     "data": {
      "text/plain": [
       "WordList(['We', 'are', 'looking', 'to', 'add', 'robotics', 'coding', 'and', 'programming', 'to', 'our', 'STEM', 'lab', 'in', 'a', 'rural', 'school', 'But', 'we', 'are', 'currently', 'lacking', 'the', 'technology', 'to', 'accomplish', 'this', 'with', 'our', 'students', 'We', 'believe', 'a', 'set', 'of', 'three', 'GoPiGo', 'Robot', 'Starter', 'Kits', 'and', 'Raspberry', 'Pi', 'computers', 'would', 'be', 'the', 'perfect', 'fit', 'to', 'introduce', 'hands-on', 'innovation', 'r\\\\n\\\\r\\\\nA', 'set', 'of', 'three', 'Raspberry', 'Pi', 'computers', 'to', 'program', 'three', 'GoPiGo', 'Robots', 'can', 'engage', 'a', 'variety', 'of', 'grade', 'levels', 'covering', 'a', 'variety', 'of', 'STEAM', 'topics', 'and', 'disciplines', 'For', 'example', 'younger', 'programmers', 'can', 'be', 'introduced', 'to', 'coding', 'by', 'moving', 'the', 'robots', 'through', 'a', 'maze', 'or', 'competing', 'in', 'a', 'robot', 'soccer', 'match', 'More', 'students', 'can', 'learn', 'about', 'planets', 'and', 'program', 'the', 'GoPiGo', 'to', 'explore', 'as', 'a', 'planetary', 'rover', 'We', 'could', 'transform', 'our', 'robots', 'to', 'become', 'reptiles', 'and', 'utilize', 'heat', 'sensors', 'to', 'explain', 'cold-blooded', 'tendencies', 'of', 'different', 'animal', 'species', 'Our', 'robot', 'platform', 'can', 'even', 'spark', 'a', 'new', 'innovative', 'invention', 'to', 'help', 'people', 'The', 'possibilities', 'to', 'engage', 'our', 'students', 'through', 'collaboration', 'are', 'endless', 'r\\\\n\\\\r\\\\nPlease', 'consider', 'helping', 'us', 'utilize', 'the', 'GoPiGo', 'robot', 'kits', 'as', 'a', 'medium', 'to', 'learn', 'STEM', 'content', 'Robotics', 'cultivates', 'creativity', 'and', 'provides', 'authenticity', 'to', 'a', 'curriculum', 'It', 'allows', 'ideas', 'to', 'become', 'reality', 'through', 'brainstorming', 'and', 'constructing', 'a', 'robot', 'or', 'program', 'This', 'will', 'prepare', 'our', 'students', 'to', 'become', 'highly-skilled', 'learners', 'that', 'will', 'contribute', 'to', 'a', 'vibrant', 'future', 'Thank', 'you'])"
      ]
     },
     "execution_count": 44,
     "metadata": {},
     "output_type": "execute_result"
    }
   ],
   "source": [
    "blob.words"
   ]
  },
  {
   "cell_type": "code",
   "execution_count": 46,
   "metadata": {},
   "outputs": [
    {
     "data": {
      "text/plain": [
       "2"
      ]
     },
     "execution_count": 46,
     "metadata": {},
     "output_type": "execute_result"
    }
   ],
   "source": [
    "blob.words.count('robotics')"
   ]
  },
  {
   "cell_type": "code",
   "execution_count": 48,
   "metadata": {},
   "outputs": [
    {
     "data": {
      "text/plain": [
       "2"
      ]
     },
     "execution_count": 48,
     "metadata": {},
     "output_type": "execute_result"
    }
   ],
   "source": [
    "blob.words.count('STEM')"
   ]
  },
  {
   "cell_type": "code",
   "execution_count": 49,
   "metadata": {},
   "outputs": [
    {
     "data": {
      "text/plain": [
       "1"
      ]
     },
     "execution_count": 49,
     "metadata": {},
     "output_type": "execute_result"
    }
   ],
   "source": [
    "blob.words.count('technology')"
   ]
  },
  {
   "cell_type": "code",
   "execution_count": 50,
   "metadata": {},
   "outputs": [
    {
     "data": {
      "text/plain": [
       "5"
      ]
     },
     "execution_count": 50,
     "metadata": {},
     "output_type": "execute_result"
    }
   ],
   "source": [
    "blob.words.count('robot')"
   ]
  },
  {
   "cell_type": "markdown",
   "metadata": {},
   "source": [
    "### Problem\n",
    "\n",
    "Add columns to our dataframe `ny_donors` that contain scores for sentiment and polarity of the `project_essay_1` and `project_essay_2`."
   ]
  },
  {
   "cell_type": "code",
   "execution_count": 23,
   "metadata": {},
   "outputs": [],
   "source": [
    "subj = []\n",
    "pol = []\n",
    "for essay in ny.project_essay_1:\n",
    "    blob = TextBlob(essay)\n",
    "    subj.append(blob.sentiment.subjectivity)\n",
    "    pol.append(blob.sentiment.polarity)"
   ]
  },
  {
   "cell_type": "code",
   "execution_count": 24,
   "metadata": {},
   "outputs": [],
   "source": [
    "ny['project_1_subjectivity'] = subj\n",
    "ny['project_1_polarity'] = pol"
   ]
  },
  {
   "cell_type": "code",
   "execution_count": 25,
   "metadata": {},
   "outputs": [
    {
     "data": {
      "text/plain": [
       "0.22643673094532038"
      ]
     },
     "execution_count": 25,
     "metadata": {},
     "output_type": "execute_result"
    }
   ],
   "source": [
    "ny.project_1_polarity.mean()"
   ]
  },
  {
   "cell_type": "code",
   "execution_count": 26,
   "metadata": {},
   "outputs": [
    {
     "data": {
      "text/plain": [
       "0.4964650271438464"
      ]
     },
     "execution_count": 26,
     "metadata": {},
     "output_type": "execute_result"
    }
   ],
   "source": [
    "ny.project_1_subjectivity.mean()"
   ]
  },
  {
   "cell_type": "code",
   "execution_count": 29,
   "metadata": {},
   "outputs": [],
   "source": [
    "subj2 = []\n",
    "pol2 = []\n",
    "for essay in ny.project_essay_2:\n",
    "    blob = TextBlob(essay)\n",
    "    subj2.append(blob.sentiment.subjectivity)\n",
    "    pol2.append(blob.sentiment.polarity)"
   ]
  },
  {
   "cell_type": "code",
   "execution_count": 30,
   "metadata": {},
   "outputs": [],
   "source": [
    "ny['project_2_subjectivity'] = subj2\n",
    "ny['project_2_polarity'] = pol2"
   ]
  },
  {
   "cell_type": "code",
   "execution_count": 32,
   "metadata": {},
   "outputs": [
    {
     "data": {
      "text/html": [
       "<div>\n",
       "<style scoped>\n",
       "    .dataframe tbody tr th:only-of-type {\n",
       "        vertical-align: middle;\n",
       "    }\n",
       "\n",
       "    .dataframe tbody tr th {\n",
       "        vertical-align: top;\n",
       "    }\n",
       "\n",
       "    .dataframe thead th {\n",
       "        text-align: right;\n",
       "    }\n",
       "</style>\n",
       "<table border=\"1\" class=\"dataframe\">\n",
       "  <thead>\n",
       "    <tr style=\"text-align: right;\">\n",
       "      <th></th>\n",
       "      <th>project_1_polarity</th>\n",
       "      <th>project_1_subjectivity</th>\n",
       "      <th>project_2_polarity</th>\n",
       "      <th>project_2_subjectivity</th>\n",
       "    </tr>\n",
       "  </thead>\n",
       "  <tbody>\n",
       "    <tr>\n",
       "      <th>0</th>\n",
       "      <td>0.463889</td>\n",
       "      <td>0.686111</td>\n",
       "      <td>0.477778</td>\n",
       "      <td>0.597222</td>\n",
       "    </tr>\n",
       "    <tr>\n",
       "      <th>1</th>\n",
       "      <td>0.215783</td>\n",
       "      <td>0.411869</td>\n",
       "      <td>-0.142551</td>\n",
       "      <td>0.666035</td>\n",
       "    </tr>\n",
       "    <tr>\n",
       "      <th>2</th>\n",
       "      <td>0.332481</td>\n",
       "      <td>0.450631</td>\n",
       "      <td>0.227692</td>\n",
       "      <td>0.506923</td>\n",
       "    </tr>\n",
       "    <tr>\n",
       "      <th>3</th>\n",
       "      <td>0.287773</td>\n",
       "      <td>0.572455</td>\n",
       "      <td>0.206151</td>\n",
       "      <td>0.535119</td>\n",
       "    </tr>\n",
       "    <tr>\n",
       "      <th>4</th>\n",
       "      <td>0.430592</td>\n",
       "      <td>0.580014</td>\n",
       "      <td>0.113462</td>\n",
       "      <td>0.427564</td>\n",
       "    </tr>\n",
       "  </tbody>\n",
       "</table>\n",
       "</div>"
      ],
      "text/plain": [
       "   project_1_polarity  project_1_subjectivity  project_2_polarity  \\\n",
       "0            0.463889                0.686111            0.477778   \n",
       "1            0.215783                0.411869           -0.142551   \n",
       "2            0.332481                0.450631            0.227692   \n",
       "3            0.287773                0.572455            0.206151   \n",
       "4            0.430592                0.580014            0.113462   \n",
       "\n",
       "   project_2_subjectivity  \n",
       "0                0.597222  \n",
       "1                0.666035  \n",
       "2                0.506923  \n",
       "3                0.535119  \n",
       "4                0.427564  "
      ]
     },
     "execution_count": 32,
     "metadata": {},
     "output_type": "execute_result"
    }
   ],
   "source": [
    "ny[['project_1_polarity', 'project_1_subjectivity', 'project_2_polarity', 'project_2_subjectivity']].head()"
   ]
  },
  {
   "cell_type": "markdown",
   "metadata": {},
   "source": [
    "### Topic Models\n",
    "\n",
    "Below, we explore two approaches to modeling topics with `scikitlearn`: NMF and LDA.  Before we can use these models, we have to preprocess our data.  Below, we do so for both a basic `CountVectorizer` and a `TfidfVectorizer`."
   ]
  },
  {
   "cell_type": "code",
   "execution_count": 33,
   "metadata": {},
   "outputs": [],
   "source": [
    "from sklearn.feature_extraction.text import CountVectorizer"
   ]
  },
  {
   "cell_type": "code",
   "execution_count": 34,
   "metadata": {},
   "outputs": [],
   "source": [
    "vect = CountVectorizer()"
   ]
  },
  {
   "cell_type": "code",
   "execution_count": 35,
   "metadata": {},
   "outputs": [],
   "source": [
    "X = vect.fit_transform(ny.project_essay_2)"
   ]
  },
  {
   "cell_type": "code",
   "execution_count": 36,
   "metadata": {},
   "outputs": [
    {
     "data": {
      "text/plain": [
       "<12157x20418 sparse matrix of type '<class 'numpy.int64'>'\n",
       "\twith 1056010 stored elements in Compressed Sparse Row format>"
      ]
     },
     "execution_count": 36,
     "metadata": {},
     "output_type": "execute_result"
    }
   ],
   "source": [
    "X"
   ]
  },
  {
   "cell_type": "code",
   "execution_count": 37,
   "metadata": {},
   "outputs": [],
   "source": [
    "X2 = X.toarray()"
   ]
  },
  {
   "cell_type": "code",
   "execution_count": 38,
   "metadata": {},
   "outputs": [],
   "source": [
    "names = vect.get_feature_names()\n",
    "words = pd.DataFrame(X2, columns=names)"
   ]
  },
  {
   "cell_type": "code",
   "execution_count": 40,
   "metadata": {},
   "outputs": [
    {
     "data": {
      "text/html": [
       "<div>\n",
       "<style scoped>\n",
       "    .dataframe tbody tr th:only-of-type {\n",
       "        vertical-align: middle;\n",
       "    }\n",
       "\n",
       "    .dataframe tbody tr th {\n",
       "        vertical-align: top;\n",
       "    }\n",
       "\n",
       "    .dataframe thead th {\n",
       "        text-align: right;\n",
       "    }\n",
       "</style>\n",
       "<table border=\"1\" class=\"dataframe\">\n",
       "  <thead>\n",
       "    <tr style=\"text-align: right;\">\n",
       "      <th></th>\n",
       "      <th>00</th>\n",
       "      <th>000</th>\n",
       "      <th>00am</th>\n",
       "      <th>00pm</th>\n",
       "      <th>021</th>\n",
       "      <th>04</th>\n",
       "      <th>05a</th>\n",
       "      <th>06</th>\n",
       "      <th>08</th>\n",
       "      <th>10</th>\n",
       "      <th>...</th>\n",
       "      <th>zoo</th>\n",
       "      <th>zoob</th>\n",
       "      <th>zoology</th>\n",
       "      <th>zoom</th>\n",
       "      <th>zooms</th>\n",
       "      <th>zooplankton</th>\n",
       "      <th>zoos</th>\n",
       "      <th>zucchini</th>\n",
       "      <th>zuma</th>\n",
       "      <th>zumba</th>\n",
       "    </tr>\n",
       "  </thead>\n",
       "  <tbody>\n",
       "    <tr>\n",
       "      <th>0</th>\n",
       "      <td>0</td>\n",
       "      <td>0</td>\n",
       "      <td>0</td>\n",
       "      <td>0</td>\n",
       "      <td>0</td>\n",
       "      <td>0</td>\n",
       "      <td>0</td>\n",
       "      <td>0</td>\n",
       "      <td>0</td>\n",
       "      <td>0</td>\n",
       "      <td>...</td>\n",
       "      <td>0</td>\n",
       "      <td>0</td>\n",
       "      <td>0</td>\n",
       "      <td>0</td>\n",
       "      <td>0</td>\n",
       "      <td>0</td>\n",
       "      <td>0</td>\n",
       "      <td>0</td>\n",
       "      <td>0</td>\n",
       "      <td>0</td>\n",
       "    </tr>\n",
       "    <tr>\n",
       "      <th>1</th>\n",
       "      <td>0</td>\n",
       "      <td>0</td>\n",
       "      <td>0</td>\n",
       "      <td>0</td>\n",
       "      <td>0</td>\n",
       "      <td>0</td>\n",
       "      <td>0</td>\n",
       "      <td>0</td>\n",
       "      <td>0</td>\n",
       "      <td>0</td>\n",
       "      <td>...</td>\n",
       "      <td>0</td>\n",
       "      <td>0</td>\n",
       "      <td>0</td>\n",
       "      <td>0</td>\n",
       "      <td>0</td>\n",
       "      <td>0</td>\n",
       "      <td>0</td>\n",
       "      <td>0</td>\n",
       "      <td>0</td>\n",
       "      <td>0</td>\n",
       "    </tr>\n",
       "    <tr>\n",
       "      <th>2</th>\n",
       "      <td>0</td>\n",
       "      <td>0</td>\n",
       "      <td>0</td>\n",
       "      <td>0</td>\n",
       "      <td>0</td>\n",
       "      <td>0</td>\n",
       "      <td>0</td>\n",
       "      <td>0</td>\n",
       "      <td>0</td>\n",
       "      <td>0</td>\n",
       "      <td>...</td>\n",
       "      <td>0</td>\n",
       "      <td>0</td>\n",
       "      <td>0</td>\n",
       "      <td>0</td>\n",
       "      <td>0</td>\n",
       "      <td>0</td>\n",
       "      <td>0</td>\n",
       "      <td>0</td>\n",
       "      <td>0</td>\n",
       "      <td>0</td>\n",
       "    </tr>\n",
       "    <tr>\n",
       "      <th>3</th>\n",
       "      <td>0</td>\n",
       "      <td>0</td>\n",
       "      <td>0</td>\n",
       "      <td>0</td>\n",
       "      <td>0</td>\n",
       "      <td>0</td>\n",
       "      <td>0</td>\n",
       "      <td>0</td>\n",
       "      <td>0</td>\n",
       "      <td>0</td>\n",
       "      <td>...</td>\n",
       "      <td>0</td>\n",
       "      <td>0</td>\n",
       "      <td>0</td>\n",
       "      <td>0</td>\n",
       "      <td>0</td>\n",
       "      <td>0</td>\n",
       "      <td>0</td>\n",
       "      <td>0</td>\n",
       "      <td>0</td>\n",
       "      <td>0</td>\n",
       "    </tr>\n",
       "    <tr>\n",
       "      <th>4</th>\n",
       "      <td>0</td>\n",
       "      <td>0</td>\n",
       "      <td>0</td>\n",
       "      <td>0</td>\n",
       "      <td>0</td>\n",
       "      <td>0</td>\n",
       "      <td>0</td>\n",
       "      <td>0</td>\n",
       "      <td>0</td>\n",
       "      <td>0</td>\n",
       "      <td>...</td>\n",
       "      <td>0</td>\n",
       "      <td>0</td>\n",
       "      <td>0</td>\n",
       "      <td>0</td>\n",
       "      <td>0</td>\n",
       "      <td>0</td>\n",
       "      <td>0</td>\n",
       "      <td>0</td>\n",
       "      <td>0</td>\n",
       "      <td>0</td>\n",
       "    </tr>\n",
       "  </tbody>\n",
       "</table>\n",
       "<p>5 rows × 20418 columns</p>\n",
       "</div>"
      ],
      "text/plain": [
       "   00  000  00am  00pm  021  04  05a  06  08  10  ...    zoo  zoob  zoology  \\\n",
       "0   0    0     0     0    0   0    0   0   0   0  ...      0     0        0   \n",
       "1   0    0     0     0    0   0    0   0   0   0  ...      0     0        0   \n",
       "2   0    0     0     0    0   0    0   0   0   0  ...      0     0        0   \n",
       "3   0    0     0     0    0   0    0   0   0   0  ...      0     0        0   \n",
       "4   0    0     0     0    0   0    0   0   0   0  ...      0     0        0   \n",
       "\n",
       "   zoom  zooms  zooplankton  zoos  zucchini  zuma  zumba  \n",
       "0     0      0            0     0         0     0      0  \n",
       "1     0      0            0     0         0     0      0  \n",
       "2     0      0            0     0         0     0      0  \n",
       "3     0      0            0     0         0     0      0  \n",
       "4     0      0            0     0         0     0      0  \n",
       "\n",
       "[5 rows x 20418 columns]"
      ]
     },
     "execution_count": 40,
     "metadata": {},
     "output_type": "execute_result"
    }
   ],
   "source": [
    "words.head()"
   ]
  },
  {
   "cell_type": "code",
   "execution_count": 41,
   "metadata": {},
   "outputs": [
    {
     "data": {
      "text/html": [
       "<div>\n",
       "<style scoped>\n",
       "    .dataframe tbody tr th:only-of-type {\n",
       "        vertical-align: middle;\n",
       "    }\n",
       "\n",
       "    .dataframe tbody tr th {\n",
       "        vertical-align: top;\n",
       "    }\n",
       "\n",
       "    .dataframe thead th {\n",
       "        text-align: right;\n",
       "    }\n",
       "</style>\n",
       "<table border=\"1\" class=\"dataframe\">\n",
       "  <thead>\n",
       "    <tr style=\"text-align: right;\">\n",
       "      <th></th>\n",
       "      <th>00</th>\n",
       "      <th>000</th>\n",
       "      <th>00am</th>\n",
       "      <th>00pm</th>\n",
       "      <th>021</th>\n",
       "      <th>04</th>\n",
       "      <th>05a</th>\n",
       "      <th>06</th>\n",
       "      <th>08</th>\n",
       "      <th>10</th>\n",
       "      <th>...</th>\n",
       "      <th>zoo</th>\n",
       "      <th>zoob</th>\n",
       "      <th>zoology</th>\n",
       "      <th>zoom</th>\n",
       "      <th>zooms</th>\n",
       "      <th>zooplankton</th>\n",
       "      <th>zoos</th>\n",
       "      <th>zucchini</th>\n",
       "      <th>zuma</th>\n",
       "      <th>zumba</th>\n",
       "    </tr>\n",
       "  </thead>\n",
       "  <tbody>\n",
       "    <tr>\n",
       "      <th>200</th>\n",
       "      <td>0</td>\n",
       "      <td>0</td>\n",
       "      <td>0</td>\n",
       "      <td>0</td>\n",
       "      <td>0</td>\n",
       "      <td>0</td>\n",
       "      <td>0</td>\n",
       "      <td>0</td>\n",
       "      <td>0</td>\n",
       "      <td>0</td>\n",
       "      <td>...</td>\n",
       "      <td>0</td>\n",
       "      <td>0</td>\n",
       "      <td>0</td>\n",
       "      <td>0</td>\n",
       "      <td>0</td>\n",
       "      <td>0</td>\n",
       "      <td>0</td>\n",
       "      <td>0</td>\n",
       "      <td>0</td>\n",
       "      <td>1</td>\n",
       "    </tr>\n",
       "    <tr>\n",
       "      <th>1008</th>\n",
       "      <td>0</td>\n",
       "      <td>0</td>\n",
       "      <td>0</td>\n",
       "      <td>0</td>\n",
       "      <td>0</td>\n",
       "      <td>0</td>\n",
       "      <td>0</td>\n",
       "      <td>0</td>\n",
       "      <td>0</td>\n",
       "      <td>1</td>\n",
       "      <td>...</td>\n",
       "      <td>0</td>\n",
       "      <td>0</td>\n",
       "      <td>0</td>\n",
       "      <td>0</td>\n",
       "      <td>0</td>\n",
       "      <td>0</td>\n",
       "      <td>0</td>\n",
       "      <td>0</td>\n",
       "      <td>0</td>\n",
       "      <td>1</td>\n",
       "    </tr>\n",
       "    <tr>\n",
       "      <th>8967</th>\n",
       "      <td>0</td>\n",
       "      <td>0</td>\n",
       "      <td>0</td>\n",
       "      <td>0</td>\n",
       "      <td>0</td>\n",
       "      <td>0</td>\n",
       "      <td>0</td>\n",
       "      <td>0</td>\n",
       "      <td>0</td>\n",
       "      <td>0</td>\n",
       "      <td>...</td>\n",
       "      <td>0</td>\n",
       "      <td>0</td>\n",
       "      <td>0</td>\n",
       "      <td>0</td>\n",
       "      <td>0</td>\n",
       "      <td>0</td>\n",
       "      <td>0</td>\n",
       "      <td>0</td>\n",
       "      <td>0</td>\n",
       "      <td>2</td>\n",
       "    </tr>\n",
       "  </tbody>\n",
       "</table>\n",
       "<p>3 rows × 20418 columns</p>\n",
       "</div>"
      ],
      "text/plain": [
       "      00  000  00am  00pm  021  04  05a  06  08  10  ...    zoo  zoob  \\\n",
       "200    0    0     0     0    0   0    0   0   0   0  ...      0     0   \n",
       "1008   0    0     0     0    0   0    0   0   0   1  ...      0     0   \n",
       "8967   0    0     0     0    0   0    0   0   0   0  ...      0     0   \n",
       "\n",
       "      zoology  zoom  zooms  zooplankton  zoos  zucchini  zuma  zumba  \n",
       "200         0     0      0            0     0         0     0      1  \n",
       "1008        0     0      0            0     0         0     0      1  \n",
       "8967        0     0      0            0     0         0     0      2  \n",
       "\n",
       "[3 rows x 20418 columns]"
      ]
     },
     "execution_count": 41,
     "metadata": {},
     "output_type": "execute_result"
    }
   ],
   "source": [
    "words[words['zumba'] >= 1]"
   ]
  },
  {
   "cell_type": "code",
   "execution_count": 42,
   "metadata": {},
   "outputs": [
    {
     "data": {
      "text/plain": [
       "'We are asking for a projector for the physical education classes. \\\\r\\\\nWe are going to use the projector to introduce students to ways of working out that can be found on YouTube and other sites.  With our new dance room, we can do so many new activities. We plan on doing new units which teach the students zumba and step classes. We also want to show the students different yoga techniques for stress relief.  Also, crossfit and boot camp training is popular so when our students ask about it, we can now show them.  After reviewing the sites, we will be able to show the students how to do the moves and show them new ways to workout and be fit.  \\\\r\\\\n'"
      ]
     },
     "execution_count": 42,
     "metadata": {},
     "output_type": "execute_result"
    }
   ],
   "source": [
    "ny.project_essay_2[200]"
   ]
  },
  {
   "cell_type": "code",
   "execution_count": 45,
   "metadata": {},
   "outputs": [],
   "source": [
    "vect = CountVectorizer(min_df = 3, stop_words = 'english')\n",
    "X = vect.fit_transform(ny.project_essay_2)\n",
    "X2 = X.toarray()\n",
    "names = vect.get_feature_names()\n",
    "words = pd.DataFrame(X2, columns=names)"
   ]
  },
  {
   "cell_type": "code",
   "execution_count": 46,
   "metadata": {},
   "outputs": [
    {
     "data": {
      "text/html": [
       "<div>\n",
       "<style scoped>\n",
       "    .dataframe tbody tr th:only-of-type {\n",
       "        vertical-align: middle;\n",
       "    }\n",
       "\n",
       "    .dataframe tbody tr th {\n",
       "        vertical-align: top;\n",
       "    }\n",
       "\n",
       "    .dataframe thead th {\n",
       "        text-align: right;\n",
       "    }\n",
       "</style>\n",
       "<table border=\"1\" class=\"dataframe\">\n",
       "  <thead>\n",
       "    <tr style=\"text-align: right;\">\n",
       "      <th></th>\n",
       "      <th>00</th>\n",
       "      <th>000</th>\n",
       "      <th>00am</th>\n",
       "      <th>10</th>\n",
       "      <th>100</th>\n",
       "      <th>1000</th>\n",
       "      <th>100th</th>\n",
       "      <th>101</th>\n",
       "      <th>10s</th>\n",
       "      <th>10th</th>\n",
       "      <th>...</th>\n",
       "      <th>zippers</th>\n",
       "      <th>zipping</th>\n",
       "      <th>zombie</th>\n",
       "      <th>zone</th>\n",
       "      <th>zones</th>\n",
       "      <th>zoo</th>\n",
       "      <th>zoob</th>\n",
       "      <th>zoom</th>\n",
       "      <th>zoos</th>\n",
       "      <th>zumba</th>\n",
       "    </tr>\n",
       "  </thead>\n",
       "  <tbody>\n",
       "    <tr>\n",
       "      <th>0</th>\n",
       "      <td>0</td>\n",
       "      <td>0</td>\n",
       "      <td>0</td>\n",
       "      <td>0</td>\n",
       "      <td>0</td>\n",
       "      <td>0</td>\n",
       "      <td>0</td>\n",
       "      <td>0</td>\n",
       "      <td>0</td>\n",
       "      <td>0</td>\n",
       "      <td>...</td>\n",
       "      <td>0</td>\n",
       "      <td>0</td>\n",
       "      <td>0</td>\n",
       "      <td>0</td>\n",
       "      <td>0</td>\n",
       "      <td>0</td>\n",
       "      <td>0</td>\n",
       "      <td>0</td>\n",
       "      <td>0</td>\n",
       "      <td>0</td>\n",
       "    </tr>\n",
       "    <tr>\n",
       "      <th>1</th>\n",
       "      <td>0</td>\n",
       "      <td>0</td>\n",
       "      <td>0</td>\n",
       "      <td>0</td>\n",
       "      <td>0</td>\n",
       "      <td>0</td>\n",
       "      <td>0</td>\n",
       "      <td>0</td>\n",
       "      <td>0</td>\n",
       "      <td>0</td>\n",
       "      <td>...</td>\n",
       "      <td>0</td>\n",
       "      <td>0</td>\n",
       "      <td>0</td>\n",
       "      <td>0</td>\n",
       "      <td>0</td>\n",
       "      <td>0</td>\n",
       "      <td>0</td>\n",
       "      <td>0</td>\n",
       "      <td>0</td>\n",
       "      <td>0</td>\n",
       "    </tr>\n",
       "    <tr>\n",
       "      <th>2</th>\n",
       "      <td>0</td>\n",
       "      <td>0</td>\n",
       "      <td>0</td>\n",
       "      <td>0</td>\n",
       "      <td>0</td>\n",
       "      <td>0</td>\n",
       "      <td>0</td>\n",
       "      <td>0</td>\n",
       "      <td>0</td>\n",
       "      <td>0</td>\n",
       "      <td>...</td>\n",
       "      <td>0</td>\n",
       "      <td>0</td>\n",
       "      <td>0</td>\n",
       "      <td>0</td>\n",
       "      <td>0</td>\n",
       "      <td>0</td>\n",
       "      <td>0</td>\n",
       "      <td>0</td>\n",
       "      <td>0</td>\n",
       "      <td>0</td>\n",
       "    </tr>\n",
       "    <tr>\n",
       "      <th>3</th>\n",
       "      <td>0</td>\n",
       "      <td>0</td>\n",
       "      <td>0</td>\n",
       "      <td>0</td>\n",
       "      <td>0</td>\n",
       "      <td>0</td>\n",
       "      <td>0</td>\n",
       "      <td>0</td>\n",
       "      <td>0</td>\n",
       "      <td>0</td>\n",
       "      <td>...</td>\n",
       "      <td>0</td>\n",
       "      <td>0</td>\n",
       "      <td>0</td>\n",
       "      <td>0</td>\n",
       "      <td>0</td>\n",
       "      <td>0</td>\n",
       "      <td>0</td>\n",
       "      <td>0</td>\n",
       "      <td>0</td>\n",
       "      <td>0</td>\n",
       "    </tr>\n",
       "    <tr>\n",
       "      <th>4</th>\n",
       "      <td>0</td>\n",
       "      <td>0</td>\n",
       "      <td>0</td>\n",
       "      <td>0</td>\n",
       "      <td>0</td>\n",
       "      <td>0</td>\n",
       "      <td>0</td>\n",
       "      <td>0</td>\n",
       "      <td>0</td>\n",
       "      <td>0</td>\n",
       "      <td>...</td>\n",
       "      <td>0</td>\n",
       "      <td>0</td>\n",
       "      <td>0</td>\n",
       "      <td>0</td>\n",
       "      <td>0</td>\n",
       "      <td>0</td>\n",
       "      <td>0</td>\n",
       "      <td>0</td>\n",
       "      <td>0</td>\n",
       "      <td>0</td>\n",
       "    </tr>\n",
       "  </tbody>\n",
       "</table>\n",
       "<p>5 rows × 10133 columns</p>\n",
       "</div>"
      ],
      "text/plain": [
       "   00  000  00am  10  100  1000  100th  101  10s  10th  ...    zippers  \\\n",
       "0   0    0     0   0    0     0      0    0    0     0  ...          0   \n",
       "1   0    0     0   0    0     0      0    0    0     0  ...          0   \n",
       "2   0    0     0   0    0     0      0    0    0     0  ...          0   \n",
       "3   0    0     0   0    0     0      0    0    0     0  ...          0   \n",
       "4   0    0     0   0    0     0      0    0    0     0  ...          0   \n",
       "\n",
       "   zipping  zombie  zone  zones  zoo  zoob  zoom  zoos  zumba  \n",
       "0        0       0     0      0    0     0     0     0      0  \n",
       "1        0       0     0      0    0     0     0     0      0  \n",
       "2        0       0     0      0    0     0     0     0      0  \n",
       "3        0       0     0      0    0     0     0     0      0  \n",
       "4        0       0     0      0    0     0     0     0      0  \n",
       "\n",
       "[5 rows x 10133 columns]"
      ]
     },
     "execution_count": 46,
     "metadata": {},
     "output_type": "execute_result"
    }
   ],
   "source": [
    "words.head()"
   ]
  },
  {
   "cell_type": "code",
   "execution_count": 47,
   "metadata": {},
   "outputs": [],
   "source": [
    "from sklearn.feature_extraction.text import TfidfTransformer"
   ]
  },
  {
   "cell_type": "code",
   "execution_count": 48,
   "metadata": {},
   "outputs": [
    {
     "data": {
      "text/plain": [
       "TfidfTransformer(norm='l2', smooth_idf=True, sublinear_tf=False, use_idf=True)"
      ]
     },
     "execution_count": 48,
     "metadata": {},
     "output_type": "execute_result"
    }
   ],
   "source": [
    "transformer = TfidfTransformer()\n",
    "transformer"
   ]
  },
  {
   "cell_type": "code",
   "execution_count": 49,
   "metadata": {},
   "outputs": [],
   "source": [
    "tfidf = transformer.fit_transform(words)"
   ]
  },
  {
   "cell_type": "code",
   "execution_count": 50,
   "metadata": {},
   "outputs": [
    {
     "data": {
      "text/plain": [
       "<12157x10133 sparse matrix of type '<class 'numpy.float64'>'\n",
       "\twith 645697 stored elements in Compressed Sparse Row format>"
      ]
     },
     "execution_count": 50,
     "metadata": {},
     "output_type": "execute_result"
    }
   ],
   "source": [
    "tfidf"
   ]
  },
  {
   "cell_type": "code",
   "execution_count": 78,
   "metadata": {},
   "outputs": [
    {
     "data": {
      "text/plain": [
       "array([[0.        , 0.        , 0.        , ..., 0.        , 0.        ,\n",
       "        0.        ],\n",
       "       [0.        , 0.        , 0.        , ..., 0.        , 0.        ,\n",
       "        0.        ],\n",
       "       [0.        , 0.        , 0.        , ..., 0.        , 0.        ,\n",
       "        0.        ],\n",
       "       ...,\n",
       "       [0.        , 0.        , 0.        , ..., 0.        , 0.        ,\n",
       "        0.        ],\n",
       "       [0.        , 0.        , 0.10751966, ..., 0.        , 0.        ,\n",
       "        0.        ],\n",
       "       [0.        , 0.        , 0.        , ..., 0.        , 0.        ,\n",
       "        0.        ]])"
      ]
     },
     "execution_count": 78,
     "metadata": {},
     "output_type": "execute_result"
    }
   ],
   "source": [
    "transformer.fit_transform(words[:10]).toarray()"
   ]
  },
  {
   "cell_type": "code",
   "execution_count": 83,
   "metadata": {},
   "outputs": [
    {
     "data": {
      "text/plain": [
       "Index(['00', '000', '10', '100', '11', '11th', '12', '13', '14', '15'], dtype='object')"
      ]
     },
     "execution_count": 83,
     "metadata": {},
     "output_type": "execute_result"
    }
   ],
   "source": [
    "words.columns[:10]"
   ]
  },
  {
   "cell_type": "code",
   "execution_count": 51,
   "metadata": {},
   "outputs": [
    {
     "name": "stderr",
     "output_type": "stream",
     "text": [
      "/anaconda3/lib/python3.6/site-packages/sklearn/decomposition/online_lda.py:294: DeprecationWarning: n_topics has been renamed to n_components in version 0.19 and will be removed in 0.21\n",
      "  DeprecationWarning)\n",
      "/anaconda3/lib/python3.6/site-packages/sklearn/decomposition/online_lda.py:536: DeprecationWarning: The default value for 'learning_method' will be changed from 'online' to 'batch' in the release 0.20. This warning was introduced in 0.18.\n",
      "  DeprecationWarning)\n"
     ]
    }
   ],
   "source": [
    "from sklearn.decomposition import NMF, LatentDirichletAllocation\n",
    "\n",
    "no_topic = 10\n",
    "\n",
    "nmf = NMF(n_components=no_topic).fit(tfidf) \n",
    "\n",
    "lda = LatentDirichletAllocation(n_topics=5).fit(tfidf) "
   ]
  },
  {
   "cell_type": "code",
   "execution_count": 52,
   "metadata": {},
   "outputs": [],
   "source": [
    "def display_topics(model, feature_names, no_top_words): \n",
    "    for topic_idx, topic in enumerate(model.components_): \n",
    "        print (\"Topic %d:\" % (topic_idx) )\n",
    "        print( \" \".join([feature_names[i] \n",
    "                        for i in topic.argsort()[:-no_top_words - 1:-1]]) )"
   ]
  },
  {
   "cell_type": "code",
   "execution_count": 53,
   "metadata": {},
   "outputs": [
    {
     "name": "stdout",
     "output_type": "stream",
     "text": [
      "Topic 0:\n",
      "supplies need paper students year pencils writing school classroom help\n",
      "Topic 1:\n",
      "books reading read library book students readers level love classroom\n",
      "Topic 2:\n",
      "technology students access chromebooks computer use research computers classroom laptop\n",
      "Topic 3:\n",
      "seating chairs students sit classroom work sitting flexible stools comfortable\n",
      "Topic 4:\n",
      "students learning materials science learn skills help language hands activities\n",
      "Topic 5:\n",
      "school healthy students snacks day children play music snack equipment\n",
      "Topic 6:\n",
      "art create projects paint express artists creative creativity work arts\n",
      "Topic 7:\n",
      "printer print ink color work students classroom projects able pictures\n",
      "Topic 8:\n",
      "math games skills practice centers group students small fun use\n",
      "Topic 9:\n",
      "ipad ipads apps technology use students able reading learning classroom\n"
     ]
    }
   ],
   "source": [
    "no_top_words = 10\n",
    "\n",
    "display_topics(nmf, words.columns, no_top_words) "
   ]
  },
  {
   "cell_type": "code",
   "execution_count": 54,
   "metadata": {},
   "outputs": [
    {
     "name": "stdout",
     "output_type": "stream",
     "text": [
      "Topic 0:\n",
      "basketball calculators athletes film basketballs graphing calculator players bistro chess\n",
      "Topic 1:\n",
      "students help classroom learning reading books school use need work\n",
      "Topic 2:\n",
      "shakespeare fitbit ptc fitbits malala shredder christmas conflicts pins shifts\n",
      "Topic 3:\n",
      "water art science paint clean 3d design lego stem wipes\n",
      "Topic 4:\n",
      "snacks healthy music instruments snack hungry eat food garden breakfast\n"
     ]
    }
   ],
   "source": [
    "display_topics(lda, words.columns, no_top_words) "
   ]
  },
  {
   "cell_type": "code",
   "execution_count": 57,
   "metadata": {},
   "outputs": [
    {
     "name": "stdout",
     "output_type": "stream",
     "text": [
      "(12157, 3827)\n"
     ]
    }
   ],
   "source": [
    "tf_vectorizer = CountVectorizer(strip_accents = 'unicode',\n",
    "                                stop_words = 'english',\n",
    "                                lowercase = True,\n",
    "                                token_pattern = r'\\b[a-zA-Z]{3,}\\b',\n",
    "                                max_df = 0.5, \n",
    "                                min_df = 10)\n",
    "dtm_tf = tf_vectorizer.fit_transform(ny.project_essay_1)\n",
    "print(dtm_tf.shape)"
   ]
  },
  {
   "cell_type": "code",
   "execution_count": 58,
   "metadata": {},
   "outputs": [
    {
     "name": "stdout",
     "output_type": "stream",
     "text": [
      "(12157, 3827)\n"
     ]
    }
   ],
   "source": [
    "from sklearn.feature_extraction.text import CountVectorizer, TfidfVectorizer\n",
    "tfidf_vectorizer = TfidfVectorizer(**tf_vectorizer.get_params())\n",
    "dtm_tfidf = tfidf_vectorizer.fit_transform(ny.project_essay_1)\n",
    "print(dtm_tfidf.shape)"
   ]
  },
  {
   "cell_type": "code",
   "execution_count": 63,
   "metadata": {},
   "outputs": [
    {
     "name": "stderr",
     "output_type": "stream",
     "text": [
      "/anaconda3/lib/python3.6/site-packages/sklearn/decomposition/online_lda.py:294: DeprecationWarning: n_topics has been renamed to n_components in version 0.19 and will be removed in 0.21\n",
      "  DeprecationWarning)\n",
      "/anaconda3/lib/python3.6/site-packages/sklearn/decomposition/online_lda.py:536: DeprecationWarning: The default value for 'learning_method' will be changed from 'online' to 'batch' in the release 0.20. This warning was introduced in 0.18.\n",
      "  DeprecationWarning)\n",
      "/anaconda3/lib/python3.6/site-packages/sklearn/decomposition/online_lda.py:294: DeprecationWarning: n_topics has been renamed to n_components in version 0.19 and will be removed in 0.21\n",
      "  DeprecationWarning)\n",
      "/anaconda3/lib/python3.6/site-packages/sklearn/decomposition/online_lda.py:536: DeprecationWarning: The default value for 'learning_method' will be changed from 'online' to 'batch' in the release 0.20. This warning was introduced in 0.18.\n",
      "  DeprecationWarning)\n"
     ]
    },
    {
     "data": {
      "text/plain": [
       "LatentDirichletAllocation(batch_size=128, doc_topic_prior=None,\n",
       "             evaluate_every=-1, learning_decay=0.7, learning_method=None,\n",
       "             learning_offset=10.0, max_doc_update_iter=100, max_iter=10,\n",
       "             mean_change_tol=0.001, n_components=10, n_jobs=1, n_topics=5,\n",
       "             perp_tol=0.1, random_state=0, topic_word_prior=None,\n",
       "             total_samples=1000000.0, verbose=0)"
      ]
     },
     "execution_count": 63,
     "metadata": {},
     "output_type": "execute_result"
    }
   ],
   "source": [
    "# for TF DTM# for T \n",
    "lda_tf = LatentDirichletAllocation(n_topics=5, random_state=0)\n",
    "lda_tf.fit(dtm_tf)\n",
    "# for TFIDF DTM\n",
    "lda_tfidf = LatentDirichletAllocation(n_topics=5, random_state=0)\n",
    "lda_tfidf.fit(dtm_tfidf)"
   ]
  },
  {
   "cell_type": "markdown",
   "metadata": {},
   "source": [
    "### Visualizing Topic Models"
   ]
  },
  {
   "cell_type": "code",
   "execution_count": 64,
   "metadata": {
    "scrolled": false
   },
   "outputs": [],
   "source": [
    "import pyLDAvis.sklearn\n",
    "pyLDAvis.enable_notebook()"
   ]
  },
  {
   "cell_type": "code",
   "execution_count": 65,
   "metadata": {},
   "outputs": [
    {
     "data": {
      "text/html": [
       "\n",
       "<link rel=\"stylesheet\" type=\"text/css\" href=\"https://cdn.rawgit.com/bmabey/pyLDAvis/files/ldavis.v1.0.0.css\">\n",
       "\n",
       "\n",
       "<div id=\"ldavis_el1103848517941129241041224\"></div>\n",
       "<script type=\"text/javascript\">\n",
       "\n",
       "var ldavis_el1103848517941129241041224_data = {\"mdsDat\": {\"Freq\": [59.051441372452864, 22.22589128184914, 9.074410250771683, 5.36412937742952, 4.2841277174967916], \"cluster\": [1, 1, 1, 1, 1], \"topics\": [1, 2, 3, 4, 5], \"x\": [0.11024305148488024, 0.17008077050007858, 0.04975788224482382, -0.17840858251118294, -0.15167312171859965], \"y\": [0.06505719257084874, 0.09465635292984174, -0.22100792467734895, 0.11137764811276478, -0.050083268936106165]}, \"tinfo\": {\"Category\": [\"Default\", \"Default\", \"Default\", \"Default\", \"Default\", \"Default\", \"Default\", \"Default\", \"Default\", \"Default\", \"Default\", \"Default\", \"Default\", \"Default\", \"Default\", \"Default\", \"Default\", \"Default\", \"Default\", \"Default\", \"Default\", \"Default\", \"Default\", \"Default\", \"Default\", \"Default\", \"Default\", \"Default\", \"Default\", \"Default\", \"Topic1\", \"Topic1\", \"Topic1\", \"Topic1\", \"Topic1\", \"Topic1\", \"Topic1\", \"Topic1\", \"Topic1\", \"Topic1\", \"Topic1\", \"Topic1\", \"Topic1\", \"Topic1\", \"Topic1\", \"Topic1\", \"Topic1\", \"Topic1\", \"Topic1\", \"Topic1\", \"Topic1\", \"Topic1\", \"Topic1\", \"Topic1\", \"Topic1\", \"Topic1\", \"Topic1\", \"Topic1\", \"Topic1\", \"Topic1\", \"Topic1\", \"Topic1\", \"Topic1\", \"Topic1\", \"Topic1\", \"Topic1\", \"Topic1\", \"Topic1\", \"Topic1\", \"Topic1\", \"Topic1\", \"Topic1\", \"Topic1\", \"Topic1\", \"Topic1\", \"Topic1\", \"Topic1\", \"Topic1\", \"Topic1\", \"Topic1\", \"Topic1\", \"Topic1\", \"Topic1\", \"Topic1\", \"Topic1\", \"Topic1\", \"Topic1\", \"Topic1\", \"Topic1\", \"Topic1\", \"Topic1\", \"Topic1\", \"Topic1\", \"Topic1\", \"Topic1\", \"Topic1\", \"Topic1\", \"Topic1\", \"Topic1\", \"Topic1\", \"Topic1\", \"Topic1\", \"Topic1\", \"Topic1\", \"Topic1\", \"Topic1\", \"Topic1\", \"Topic1\", \"Topic1\", \"Topic1\", \"Topic2\", \"Topic2\", \"Topic2\", \"Topic2\", \"Topic2\", \"Topic2\", \"Topic2\", \"Topic2\", \"Topic2\", \"Topic2\", \"Topic2\", \"Topic2\", \"Topic2\", \"Topic2\", \"Topic2\", \"Topic2\", \"Topic2\", \"Topic2\", \"Topic2\", \"Topic2\", \"Topic2\", \"Topic2\", \"Topic2\", \"Topic2\", \"Topic2\", \"Topic2\", \"Topic2\", \"Topic2\", \"Topic2\", \"Topic2\", \"Topic2\", \"Topic2\", \"Topic2\", \"Topic2\", \"Topic2\", \"Topic2\", \"Topic2\", \"Topic2\", \"Topic2\", \"Topic2\", \"Topic2\", \"Topic2\", \"Topic2\", \"Topic2\", \"Topic2\", \"Topic2\", \"Topic2\", \"Topic2\", \"Topic2\", \"Topic2\", \"Topic2\", \"Topic2\", \"Topic2\", \"Topic2\", \"Topic2\", \"Topic2\", \"Topic2\", \"Topic2\", \"Topic2\", \"Topic2\", \"Topic2\", \"Topic2\", \"Topic2\", \"Topic2\", \"Topic2\", \"Topic2\", \"Topic2\", \"Topic2\", \"Topic2\", \"Topic2\", \"Topic3\", \"Topic3\", \"Topic3\", \"Topic3\", \"Topic3\", \"Topic3\", \"Topic3\", \"Topic3\", \"Topic3\", \"Topic3\", \"Topic3\", \"Topic3\", \"Topic3\", \"Topic3\", \"Topic3\", \"Topic3\", \"Topic3\", \"Topic3\", \"Topic3\", \"Topic3\", \"Topic3\", \"Topic3\", \"Topic3\", \"Topic3\", \"Topic3\", \"Topic3\", \"Topic3\", \"Topic3\", \"Topic3\", \"Topic3\", \"Topic3\", \"Topic3\", \"Topic3\", \"Topic3\", \"Topic3\", \"Topic3\", \"Topic3\", \"Topic3\", \"Topic3\", \"Topic3\", \"Topic3\", \"Topic3\", \"Topic3\", \"Topic3\", \"Topic3\", \"Topic3\", \"Topic3\", \"Topic3\", \"Topic3\", \"Topic3\", \"Topic3\", \"Topic3\", \"Topic3\", \"Topic3\", \"Topic3\", \"Topic3\", \"Topic3\", \"Topic3\", \"Topic3\", \"Topic3\", \"Topic3\", \"Topic4\", \"Topic4\", \"Topic4\", \"Topic4\", \"Topic4\", \"Topic4\", \"Topic4\", \"Topic4\", \"Topic4\", \"Topic4\", \"Topic4\", \"Topic4\", \"Topic4\", \"Topic4\", \"Topic4\", \"Topic4\", \"Topic4\", \"Topic4\", \"Topic4\", \"Topic4\", \"Topic4\", \"Topic4\", \"Topic4\", \"Topic4\", \"Topic4\", \"Topic4\", \"Topic4\", \"Topic4\", \"Topic4\", \"Topic4\", \"Topic4\", \"Topic4\", \"Topic4\", \"Topic4\", \"Topic4\", \"Topic4\", \"Topic4\", \"Topic4\", \"Topic4\", \"Topic4\", \"Topic4\", \"Topic4\", \"Topic4\", \"Topic4\", \"Topic4\", \"Topic4\", \"Topic4\", \"Topic4\", \"Topic4\", \"Topic4\", \"Topic4\", \"Topic5\", \"Topic5\", \"Topic5\", \"Topic5\", \"Topic5\", \"Topic5\", \"Topic5\", \"Topic5\", \"Topic5\", \"Topic5\", \"Topic5\", \"Topic5\", \"Topic5\", \"Topic5\", \"Topic5\", \"Topic5\", \"Topic5\", \"Topic5\", \"Topic5\", \"Topic5\", \"Topic5\", \"Topic5\", \"Topic5\", \"Topic5\", \"Topic5\", \"Topic5\", \"Topic5\", \"Topic5\", \"Topic5\", \"Topic5\", \"Topic5\", \"Topic5\", \"Topic5\", \"Topic5\", \"Topic5\", \"Topic5\", \"Topic5\", \"Topic5\", \"Topic5\", \"Topic5\", \"Topic5\", \"Topic5\", \"Topic5\", \"Topic5\"], \"Freq\": [93.0, 260.0, 98.0, 291.0, 63.0, 194.0, 126.0, 84.0, 52.0, 50.0, 148.0, 71.0, 149.0, 127.0, 59.0, 74.0, 131.0, 142.0, 408.0, 203.0, 73.0, 66.0, 123.0, 56.0, 118.0, 39.0, 68.0, 338.0, 76.0, 110.0, 45.0488024319087, 40.53600414802297, 40.250587752473734, 35.15193423759721, 35.71117736223861, 33.88490236367054, 31.090549196042964, 29.991759524151494, 27.62317603083919, 26.734647256158055, 60.98476311306659, 25.63993228789349, 25.076715611330574, 25.10950346370391, 24.994586918292182, 24.89854558710368, 24.826341366732716, 28.93478585460708, 24.503546599237797, 24.35461585780107, 23.986614718642773, 23.78385925814138, 23.638228473557252, 23.150945701889945, 22.563059286340653, 21.74161501332749, 21.118471892905948, 20.82495250653426, 19.96304281502605, 20.04245818975824, 48.30127102986656, 88.19954038674322, 83.49978110863681, 95.34488410288205, 32.15469098817619, 44.4272070282607, 120.14465919388863, 52.197627959931594, 116.54769189102524, 68.52839691566794, 69.63544764968546, 158.2302559173376, 101.51752977852922, 214.9500018000109, 218.72743709601212, 132.367951095535, 196.5106699148533, 83.9551884109939, 85.2418567582448, 200.93411587004323, 153.8416854071573, 102.90024064515346, 128.68360076629398, 196.70590839140363, 111.3457436137452, 106.43004237017348, 213.17155807068022, 228.05997421180197, 205.32131201327155, 253.73242555642395, 150.11461348511907, 204.31315937032699, 207.51766870741704, 283.0624937024759, 126.62658818571948, 260.98074547453683, 173.82309769698375, 258.36505888502035, 174.15995282144786, 144.55066381515056, 165.9592136950239, 190.8257834006365, 155.39147348111956, 138.20246371695208, 179.96457348427327, 142.93183693286798, 145.04590386448402, 136.193040376168, 143.81593241408746, 135.15075109415923, 52.785721126485385, 41.003919246837356, 26.76955504618967, 24.243707215864752, 23.96547665277311, 20.759917015990606, 19.330384689163797, 19.939454841367027, 18.67433474891408, 18.84983167735218, 18.065630969608126, 18.238810468317382, 17.32490426909872, 17.29643639233752, 16.42744573295104, 16.87061648016295, 15.718611376268257, 15.63079475743147, 14.895389938131519, 15.101526189110157, 14.3812872086939, 13.597274024722301, 13.226886114991162, 12.992587352746678, 12.83549564006601, 13.567934129738953, 13.321184922126696, 13.046675805004664, 12.328966420219114, 12.142695012470272, 34.03029307816555, 21.647075206845333, 60.73219735828994, 27.013324804709324, 106.35974852153171, 134.35875905511253, 32.38200589130013, 85.13497322633162, 92.96640086126769, 46.050100563991585, 66.34767873752966, 79.13780432897153, 96.66939029868942, 55.10646585422054, 50.86249836305638, 47.86527348905844, 87.94048268419589, 64.39803040105447, 118.06049488456097, 34.04083684324083, 91.77745630142064, 60.38010614194476, 124.39083211917404, 105.20100475217095, 122.35102611720824, 68.46887117004228, 125.00048298801312, 70.24929243395611, 66.11416121311004, 97.64616785643031, 78.1901292620974, 71.7053887838423, 65.50276403070713, 74.60146822429864, 64.65537540434745, 71.69655000299156, 65.08222240133645, 66.92140877896034, 66.33707790628975, 62.575480603449435, 34.00094712297648, 24.489316272992173, 22.735361230432805, 21.54862783933929, 21.283282689357023, 19.80253766403302, 18.997255206211456, 17.253334475367563, 16.426499113543343, 15.319143988071922, 13.921254959007275, 13.497953549787638, 13.054664349340728, 13.602636634476703, 12.867935855543063, 12.81269236725456, 12.205747476072842, 11.650913705703347, 11.837423741871925, 11.394032427254725, 11.028190200546168, 11.073681080469944, 11.025995837047038, 10.829473884730444, 10.798311024943203, 10.774354184240325, 10.402373440366192, 9.883151956739674, 10.006687057534732, 9.917867581654825, 22.967564332267308, 23.587303639462316, 25.828302815392302, 35.43615075616362, 67.87179580870323, 58.699159382245924, 17.091798142361455, 36.71905032261461, 22.75958420081856, 13.694013306258542, 23.886290853141713, 18.228108122636527, 19.289937803648836, 50.03688411064673, 15.81133395436202, 32.300164677337634, 26.418648768914053, 17.355342248223284, 39.504638082523236, 20.073874749910605, 25.87923607564374, 17.431769358061885, 26.547852943490458, 25.080046724436425, 24.32532296428601, 23.590672230266673, 26.860715952986542, 25.368441312945738, 25.153222801078574, 20.16488240671869, 20.23488032950378, 51.413255257879115, 20.056649405492383, 19.522918606999543, 19.190015801303314, 17.697189707714635, 17.2209011033916, 16.834979481197177, 16.380465988512633, 14.041371007615254, 13.55725571563259, 13.364673876462133, 12.682064888390398, 36.74271350189587, 12.319288507848565, 11.745770794086791, 11.40845859926944, 58.473916146396995, 10.774820329039558, 10.72826007019216, 10.428367173868804, 10.51943245527782, 9.818129302054484, 9.40967604406804, 9.36769412965146, 9.299216432435173, 9.296571597726004, 9.144041235201367, 9.087990018207979, 9.04119664286882, 9.025307031380704, 11.072482272963745, 19.926767872339752, 46.74506276290223, 19.545320228214905, 15.64419956471364, 17.686659890300543, 26.684976577312593, 16.75545385439207, 15.857609270714605, 20.005843576274916, 14.174384745186162, 19.444367074611577, 17.785708905421004, 28.187969181757648, 18.19055651733991, 25.345131109981626, 20.258353720668648, 16.270944941026457, 15.149455181940436, 14.042622374859183, 14.291986558646073, 24.581434067616023, 22.245220668582146, 15.991406031560283, 14.812972192806162, 13.793378354338023, 13.821518111489905, 13.769835870495768, 13.746552695896856, 13.60801657376369, 12.285725868984835, 12.134910518962572, 11.601156942193246, 11.547438113013436, 11.512944957982066, 11.006590869195993, 10.596878505728187, 10.380967271374505, 10.20140063812319, 9.797412978657361, 9.62720535370961, 9.538800977365852, 9.431359538468342, 9.17578849226021, 8.741990473775004, 8.686727306701082, 8.697796628492659, 8.830878255099972, 8.532320349713244, 8.393176029204717, 8.390535426594612, 23.586663131674115, 21.923525251397017, 37.12789482556942, 12.42503977021136, 11.677718654081305, 17.49298559084915, 24.39505864696269, 18.920048738531744, 10.894875415652544, 12.905855172996732, 13.031217781260304, 11.63700604773212, 11.543679033800677, 10.90050571557049], \"Term\": [\"college\", \"year\", \"music\", \"education\", \"poorest\", \"challenges\", \"art\", \"autism\", \"congressional\", \"funny\", \"face\", \"exciting\", \"disabilities\", \"wonderful\", \"words\", \"country\", \"creative\", \"district\", \"learn\", \"make\", \"means\", \"people\", \"books\", \"visual\", \"despite\", \"tough\", \"girls\", \"day\", \"arts\", \"general\", \"styles\", \"united\", \"states\", \"computers\", \"budget\", \"immigrants\", \"appreciate\", \"housing\", \"standards\", \"content\", \"schools\", \"items\", \"seating\", \"native\", \"used\", \"varied\", \"recently\", \"close\", \"thank\", \"greatly\", \"purchase\", \"homeless\", \"key\", \"material\", \"increase\", \"financial\", \"feeling\", \"tell\", \"spoken\", \"happen\", \"benefit\", \"limited\", \"access\", \"small\", \"socio\", \"groups\", \"supplies\", \"grades\", \"support\", \"difficult\", \"room\", \"technology\", \"use\", \"need\", \"children\", \"families\", \"english\", \"homes\", \"opportunity\", \"help\", \"reading\", \"books\", \"materials\", \"language\", \"science\", \"level\", \"education\", \"new\", \"grade\", \"come\", \"community\", \"class\", \"work\", \"learning\", \"resources\", \"classroom\", \"special\", \"learn\", \"year\", \"different\", \"needs\", \"love\", \"learners\", \"teacher\", \"day\", \"teach\", \"want\", \"make\", \"high\", \"nmy\", \"price\", \"control\", \"lunches\", \"thirst\", \"eagerness\", \"hopeful\", \"risks\", \"eligible\", \"certainly\", \"seventh\", \"ahead\", \"willingness\", \"heights\", \"ethnically\", \"arrive\", \"educate\", \"prevent\", \"seven\", \"improvements\", \"array\", \"acceptance\", \"earliest\", \"brilliant\", \"passions\", \"clever\", \"spirit\", \"shows\", \"adventure\", \"mistakes\", \"memorable\", \"simple\", \"minute\", \"faced\", \"excellence\", \"face\", \"challenges\", \"passionate\", \"despite\", \"creative\", \"meaningful\", \"reduced\", \"experiences\", \"free\", \"curious\", \"positive\", \"looking\", \"lunch\", \"things\", \"day\", \"obstacles\", \"high\", \"ready\", \"learn\", \"love\", \"classroom\", \"receive\", \"learning\", \"poverty\", \"provide\", \"come\", \"learners\", \"eager\", \"nmy\", \"new\", \"best\", \"work\", \"diverse\", \"want\", \"grade\", \"low\", \"communication\", \"severe\", \"verbal\", \"disorder\", \"instruments\", \"basketball\", \"amaze\", \"kinesthetic\", \"style\", \"disturbance\", \"latin\", \"outlet\", \"auditory\", \"proficiency\", \"mental\", \"forms\", \"nature\", \"nutrition\", \"exhibit\", \"lingual\", \"modalities\", \"gym\", \"photography\", \"therapist\", \"musicians\", \"specifically\", \"expressing\", \"mono\", \"communicating\", \"respond\", \"artists\", \"intellectual\", \"dance\", \"spectrum\", \"music\", \"autism\", \"tactile\", \"visual\", \"delays\", \"expression\", \"health\", \"disorders\", \"diagnosed\", \"art\", \"fitness\", \"arts\", \"team\", \"major\", \"disabilities\", \"sensory\", \"speech\", \"communicate\", \"play\", \"emotional\", \"program\", \"classes\", \"day\", \"needs\", \"learn\", \"skills\", \"learning\", \"congressional\", \"west\", \"generous\", \"athletes\", \"aspects\", \"robotics\", \"melting\", \"succeeds\", \"flatbush\", \"gang\", \"solvers\", \"debate\", \"tough\", \"bigger\", \"seniors\", \"testament\", \"poorest\", \"shoes\", \"direction\", \"humble\", \"gangs\", \"empowering\", \"stopped\", \"dreamers\", \"demographics\", \"tone\", \"heartbreaking\", \"entrepreneurs\", \"questioners\", \"theatre\", \"significantly\", \"learns\", \"college\", \"rest\", \"pot\", \"collaborative\", \"exciting\", \"fact\", \"productive\", \"girls\", \"eighth\", \"country\", \"boys\", \"year\", \"people\", \"education\", \"wonderful\", \"old\", \"ensure\", \"thinkers\", \"district\", \"younger\", \"tomorrow\", \"poetry\", \"taken\", \"magic\", \"fabulous\", \"facts\", \"obstacle\", \"deeper\", \"views\", \"pocket\", \"distance\", \"phenomenal\", \"discovering\", \"regards\", \"optimal\", \"opinions\", \"storage\", \"craving\", \"puppets\", \"discovered\", \"opening\", \"supplying\", \"mothers\", \"geographic\", \"sisters\", \"impacts\", \"literally\", \"beloved\", \"coloring\", \"did\", \"bus\", \"funny\", \"desperate\", \"continually\", \"singing\", \"words\", \"playing\", \"silly\", \"ago\", \"travel\", \"dancing\", \"gifted\", \"art\"], \"Total\": [93.0, 260.0, 98.0, 291.0, 63.0, 194.0, 126.0, 84.0, 52.0, 50.0, 148.0, 71.0, 149.0, 127.0, 59.0, 74.0, 131.0, 142.0, 408.0, 203.0, 73.0, 66.0, 123.0, 56.0, 118.0, 39.0, 68.0, 338.0, 76.0, 110.0, 46.07677557047821, 41.54857664937659, 41.26422723296902, 36.15778532033176, 36.734338165022784, 34.95476048139528, 32.09535130891126, 31.003427963077268, 28.622706582379934, 27.736503485721993, 63.34168645704082, 26.643845615105914, 26.074052439980964, 26.111756706587464, 25.99767498142005, 25.90572029969321, 25.83296654032803, 30.10952949039865, 25.503119382148153, 25.355829680522593, 24.989879289335896, 24.798004505257783, 24.664369360497584, 24.163493708872128, 23.586321494255404, 22.743656105503153, 22.120916711538957, 21.825718759654922, 20.965019881213742, 21.058394090812172, 50.94887875578683, 94.22857155802119, 89.7717015355688, 102.80568256960683, 34.03779058341343, 47.72965946510211, 135.16604973650988, 56.55936504041477, 132.6751000551038, 75.67500789172384, 77.07186922526402, 186.6947344661471, 117.88640371995487, 266.5420412399062, 272.35154169848823, 157.85435034571992, 246.15644432561714, 97.210328429666, 99.15779037296474, 255.21193235268797, 190.68715304430577, 123.39833460235643, 158.90403774028968, 259.5110751792568, 136.44837144703885, 129.98047198096333, 291.1659370883818, 320.3251798708581, 284.0785919617281, 366.8424930776357, 196.57236507950253, 283.9271208387102, 295.6600902930726, 435.15068186769884, 163.14574033925095, 409.0889407102236, 245.40871834280307, 408.50503871147754, 260.2627474035942, 202.33201113034906, 249.49495112971695, 315.23302397234795, 245.04721893677387, 203.38433678158378, 338.74222757720395, 223.84292125691232, 235.68370264568838, 203.22324523731393, 244.9975849775231, 207.77883394362226, 53.80475737287258, 42.02758712297241, 27.802503405016243, 25.24456821424415, 24.98961457161394, 21.754245325875473, 20.334045912442296, 20.981409470632922, 19.67140835931653, 19.861643575170834, 19.05920352803284, 19.27055725563289, 18.333349264964333, 18.333037908412585, 17.459688478194295, 17.932997129072902, 16.72945959300271, 16.652068969131967, 15.891957589193336, 16.134504685167382, 15.380700415358387, 14.583503659640934, 14.22803943111407, 13.980232068941712, 13.836245494801672, 14.625893501628488, 14.36242779336011, 14.081443023863706, 13.328700059510645, 13.145326695169452, 39.100574567564855, 24.34037654904103, 74.06167954730151, 31.64136318271602, 148.5489268156623, 194.34285905846158, 39.022084932521054, 118.69607445436408, 131.88166310270034, 60.7805415387673, 101.7897126482903, 133.47819618066902, 203.17207753924598, 94.46369642344678, 84.86301236852685, 78.43499045516857, 187.31798240784337, 131.27562844692858, 338.74222757720395, 50.835951057898086, 244.9975849775231, 126.1805028709991, 408.50503871147754, 315.23302397234795, 409.0889407102236, 158.3309610068283, 435.15068186769884, 180.03280994598452, 172.88249484838195, 366.8424930776357, 245.04721893677387, 214.54200268612672, 207.77883394362226, 320.3251798708581, 202.13455152184207, 295.6600902930726, 210.42856217224673, 235.68370264568838, 284.0785919617281, 187.4948065072813, 35.13468644372429, 25.45936088593095, 23.69241902408235, 22.522473156808132, 22.282358326049582, 20.763663038046595, 19.984648650299896, 18.21547211165597, 17.408609304202297, 16.277830420706792, 14.89394559813512, 14.465433655531886, 14.01699021474128, 14.634080641383743, 13.85616167840267, 13.809823904574538, 13.185378958914525, 12.617759771936285, 12.822842374223535, 12.35517291106526, 11.98815079152783, 12.04051175994603, 11.996757967636977, 11.787512855292423, 11.762394194858071, 11.75106204973541, 11.365332880491094, 10.837849151877014, 10.977900670171293, 10.892652605307525, 25.34347842134264, 27.196358012740244, 30.382226876225477, 45.52381602113473, 98.3813776215561, 84.36868733412149, 20.685284249546985, 56.4252810566709, 30.420816721028842, 16.293943972850542, 36.81292243402472, 24.742948110618407, 27.612111380876765, 126.76603786148151, 20.89824913782718, 76.95180843199482, 55.540194636140995, 25.166616664373894, 149.6613886943399, 35.40761389120222, 70.00974305976929, 27.387776538543196, 88.61175867496424, 78.86934865443416, 110.12908932193096, 98.40730498733063, 338.74222757720395, 249.49495112971695, 408.50503871147754, 158.86407023502798, 435.15068186769884, 52.324298071992416, 20.98393827221548, 20.450554249615276, 20.113363317560186, 18.63081243543294, 18.133668459398354, 17.74314508129386, 17.28052069818155, 14.956992567802612, 14.47117250042122, 14.288081235725626, 13.595479550674586, 39.39731969703569, 13.234692178018067, 12.65567523118332, 12.309942669851512, 63.29427674685795, 11.68839677607735, 11.64117014895314, 11.337303946538588, 11.439392906916266, 10.728496027137775, 10.313658262250051, 10.277083059634208, 10.211961863749382, 10.210182853703895, 10.051757278271218, 9.99362839225065, 9.951701548974016, 9.938630876451189, 12.625557097884917, 27.069318252466438, 93.37133966938914, 31.100902869016387, 23.431350287559376, 32.91885335552708, 71.51286899765643, 33.29425932843787, 34.86320218840637, 68.3732201159487, 26.577692907654722, 74.45590735153726, 57.794051164138175, 260.2627474035942, 66.12355122404287, 291.1659370883818, 127.0201381692738, 77.28166921176806, 53.34294576725622, 36.435264381863725, 142.8018399951482, 25.44828631377016, 23.132871437078737, 16.855872649897048, 15.686406097216025, 14.653460064259058, 14.685771414516287, 14.636394293661636, 14.616634169515276, 14.481434337037982, 13.151876386516374, 13.003078555418877, 12.467375762076141, 12.413260572300022, 12.381398529495877, 11.869854416197537, 11.46006188503729, 11.247763566849555, 11.065291732439864, 10.659707801213067, 10.482982005703605, 10.404529189010963, 10.300972466103508, 10.03810487540374, 9.598441890901917, 9.543635259821826, 9.556925914969165, 9.705722165451265, 9.394376257551745, 9.248038110356353, 9.250041795773866, 26.928389581290272, 26.10159246416627, 50.811462644451574, 15.319147986512775, 14.613293294605274, 28.429581430541138, 59.006395491500804, 44.23803298848375, 14.628269490401781, 23.29889448207293, 25.84445180027422, 21.89130673615881, 32.62970385291971, 126.76603786148151], \"loglift\": [30.0, 29.0, 28.0, 27.0, 26.0, 25.0, 24.0, 23.0, 22.0, 21.0, 20.0, 19.0, 18.0, 17.0, 16.0, 15.0, 14.0, 13.0, 12.0, 11.0, 10.0, 9.0, 8.0, 7.0, 6.0, 5.0, 4.0, 3.0, 2.0, 1.0, 0.5042, 0.5021, 0.5019, 0.4985, 0.4985, 0.4957, 0.495, 0.4936, 0.4912, 0.49, 0.4888, 0.4884, 0.4878, 0.4876, 0.4874, 0.4871, 0.487, 0.487, 0.4868, 0.4865, 0.4858, 0.485, 0.4843, 0.484, 0.4824, 0.4817, 0.4804, 0.4798, 0.4778, 0.4773, 0.4734, 0.4606, 0.4543, 0.4514, 0.4698, 0.4551, 0.409, 0.4465, 0.3972, 0.4276, 0.4253, 0.3613, 0.3773, 0.3116, 0.3075, 0.3507, 0.3015, 0.3802, 0.3755, 0.2876, 0.3121, 0.3451, 0.3158, 0.2497, 0.3235, 0.3269, 0.215, 0.187, 0.2021, 0.1581, 0.2571, 0.1977, 0.1728, 0.0967, 0.2734, 0.0773, 0.1819, 0.0686, 0.125, 0.1905, 0.1191, 0.0248, 0.0713, 0.1404, -0.1057, 0.0782, 0.0413, 0.1265, -0.006, 0.0967, 1.4848, 1.4793, 1.4661, 1.4635, 1.4621, 1.4571, 1.4533, 1.453, 1.4519, 1.4516, 1.4504, 1.4489, 1.4473, 1.4457, 1.443, 1.4428, 1.4416, 1.4406, 1.4392, 1.4377, 1.4367, 1.4339, 1.4309, 1.4306, 1.4288, 1.4288, 1.4287, 1.4276, 1.4259, 1.4246, 1.365, 1.3866, 1.3055, 1.3458, 1.1698, 1.1348, 1.3174, 1.1716, 1.1542, 1.2264, 1.0759, 0.9812, 0.7612, 0.965, 0.992, 1.01, 0.7478, 0.7917, 0.4499, 1.1029, 0.522, 0.7669, 0.3148, 0.4065, 0.2969, 0.6656, 0.2565, 0.5628, 0.5427, 0.1803, 0.3616, 0.408, 0.3495, 0.0467, 0.364, 0.0871, 0.3304, 0.2449, 0.0494, 0.4065, 2.3669, 2.3609, 2.3585, 2.3555, 2.3538, 2.3523, 2.349, 2.3454, 2.3416, 2.339, 2.3322, 2.3305, 2.3286, 2.3266, 2.3257, 2.3248, 2.3225, 2.32, 2.3197, 2.3187, 2.3162, 2.316, 2.3153, 2.3149, 2.3142, 2.3129, 2.3112, 2.3075, 2.3071, 2.306, 2.3013, 2.2573, 2.2373, 2.1492, 2.0285, 2.0369, 2.2089, 1.9701, 2.1096, 2.2259, 1.9672, 2.0941, 2.041, 1.4701, 2.1208, 1.5316, 1.6567, 2.0281, 1.0678, 1.8322, 1.4045, 1.9479, 1.1944, 1.254, 0.8896, 0.9714, -0.1349, 0.1138, -0.3878, 0.3356, -0.6686, 2.9079, 2.8802, 2.879, 2.8784, 2.874, 2.8738, 2.8729, 2.8719, 2.8623, 2.8602, 2.8586, 2.8559, 2.8557, 2.8538, 2.8508, 2.8494, 2.8462, 2.8441, 2.8438, 2.8419, 2.8416, 2.8368, 2.8337, 2.8328, 2.8318, 2.8317, 2.8308, 2.8304, 2.8295, 2.829, 2.7942, 2.6191, 2.2336, 2.4609, 2.5215, 2.3042, 1.9397, 2.2388, 2.1377, 1.6965, 2.2968, 1.5828, 1.7469, 0.7026, 1.6348, 0.4841, 1.0897, 1.3674, 1.6667, 1.972, 0.6237, 3.1156, 3.1111, 3.0976, 3.093, 3.0898, 3.0896, 3.0892, 3.0889, 3.088, 3.0821, 3.0812, 3.0782, 3.078, 3.0775, 3.0747, 3.0719, 3.0701, 3.069, 3.0659, 3.0651, 3.0634, 3.0621, 3.0604, 3.0568, 3.0562, 3.0561, 3.0558, 3.054, 3.0533, 3.0527, 3.0178, 2.9758, 2.8365, 2.9409, 2.926, 2.6646, 2.267, 2.3009, 2.8556, 2.5595, 2.4655, 2.5184, 2.1112, 0.6967], \"logprob\": [30.0, 29.0, 28.0, 27.0, 26.0, 25.0, 24.0, 23.0, 22.0, 21.0, 20.0, 19.0, 18.0, 17.0, 16.0, 15.0, 14.0, 13.0, 12.0, 11.0, 10.0, 9.0, 8.0, 7.0, 6.0, 5.0, 4.0, 3.0, 2.0, 1.0, -6.8434, -6.949, -6.956, -7.0915, -7.0757, -7.1282, -7.2142, -7.2502, -7.3325, -7.3652, -6.5405, -7.407, -7.4292, -7.4279, -7.4325, -7.4363, -7.4392, -7.2861, -7.4523, -7.4584, -7.4737, -7.4821, -7.4883, -7.5091, -7.5348, -7.5719, -7.601, -7.615, -7.6573, -7.6533, -6.7737, -6.1715, -6.2263, -6.0936, -7.1806, -6.8573, -5.8625, -6.6961, -5.8928, -6.4239, -6.4079, -5.5871, -6.0309, -5.2807, -5.2633, -5.7656, -5.3704, -6.2209, -6.2057, -5.3482, -5.6152, -6.0174, -5.7938, -5.3694, -5.9385, -5.9837, -5.2891, -5.2215, -5.3266, -5.1149, -5.6398, -5.3315, -5.3159, -5.0055, -5.8099, -5.0867, -5.4931, -5.0968, -5.4912, -5.6775, -5.5394, -5.3998, -5.6052, -5.7224, -5.4584, -5.6888, -5.6741, -5.7371, -5.6826, -5.7448, -5.7078, -5.9603, -6.3867, -6.4858, -6.4974, -6.641, -6.7123, -6.6813, -6.7468, -6.7375, -6.78, -6.7704, -6.8219, -6.8235, -6.875, -6.8484, -6.9192, -6.9248, -6.9729, -6.9592, -7.0081, -7.0641, -7.0917, -7.1096, -7.1218, -7.0663, -7.0846, -7.1055, -7.162, -7.1773, -6.1467, -6.5991, -5.5675, -6.3777, -5.0072, -4.7735, -6.1964, -5.2298, -5.1418, -5.8443, -5.4791, -5.3028, -5.1027, -5.6647, -5.7449, -5.8056, -5.1973, -5.5089, -4.9028, -6.1464, -5.1546, -5.5733, -4.8506, -5.0181, -4.8671, -5.4476, -4.8457, -5.4219, -5.4826, -5.0926, -5.3149, -5.4014, -5.4919, -5.3618, -5.5049, -5.4016, -5.4983, -5.4705, -5.4793, -5.5376, -5.2518, -5.58, -5.6543, -5.7079, -5.7203, -5.7924, -5.8339, -5.9302, -5.9793, -6.0491, -6.1448, -6.1757, -6.2091, -6.1679, -6.2235, -6.2278, -6.2763, -6.3228, -6.3069, -6.3451, -6.3777, -6.3736, -6.3779, -6.3959, -6.3988, -6.401, -6.4362, -6.4874, -6.4749, -6.4839, -5.6441, -5.6175, -5.5267, -5.2105, -4.5606, -4.7058, -5.9396, -5.1749, -5.6532, -6.1612, -5.6049, -5.8752, -5.8186, -4.8654, -6.0175, -5.3031, -5.5041, -5.9243, -5.1018, -5.7788, -5.5248, -5.9199, -5.4993, -5.5561, -5.5867, -5.6173, -5.4875, -5.5447, -5.5532, -5.7743, -5.7708, -4.3126, -5.2539, -5.2809, -5.2981, -5.3791, -5.4064, -5.429, -5.4564, -5.6105, -5.6456, -5.6599, -5.7123, -4.6485, -5.7413, -5.789, -5.8181, -4.1839, -5.8753, -5.8796, -5.9079, -5.8993, -5.9682, -6.0107, -6.0152, -6.0225, -6.0228, -6.0394, -6.0455, -6.0507, -6.0524, -5.848, -5.2604, -4.4078, -5.2797, -5.5024, -5.3797, -4.9684, -5.4338, -5.4888, -5.2565, -5.601, -5.2849, -5.3741, -4.9136, -5.3516, -5.0199, -5.2439, -5.4631, -5.5345, -5.6104, -5.5928, -4.8257, -4.9255, -5.2556, -5.3322, -5.4035, -5.4014, -5.4052, -5.4069, -5.417, -5.5192, -5.5316, -5.5766, -5.5812, -5.5842, -5.6292, -5.6671, -5.6877, -5.7051, -5.7455, -5.7631, -5.7723, -5.7836, -5.8111, -5.8595, -5.8659, -5.8646, -5.8494, -5.8838, -5.9002, -5.9006, -4.867, -4.9401, -4.4133, -5.5079, -5.57, -5.1659, -4.8333, -5.0874, -5.6394, -5.47, -5.4603, -5.5735, -5.5815, -5.6388]}, \"token.table\": {\"Topic\": [2, 1, 2, 2, 1, 5, 2, 3, 1, 2, 2, 1, 2, 3, 5, 3, 5, 1, 2, 3, 4, 4, 3, 1, 2, 3, 3, 5, 1, 2, 1, 2, 3, 4, 1, 2, 5, 1, 2, 3, 4, 5, 2, 1, 1, 5, 2, 1, 2, 1, 2, 3, 1, 2, 3, 4, 5, 1, 2, 3, 4, 5, 1, 2, 3, 4, 2, 1, 1, 2, 4, 1, 2, 4, 5, 1, 2, 3, 4, 5, 1, 3, 3, 3, 1, 2, 1, 4, 1, 3, 5, 2, 1, 2, 4, 5, 1, 2, 1, 2, 2, 3, 3, 5, 1, 2, 3, 4, 5, 4, 5, 2, 3, 4, 2, 5, 1, 2, 1, 3, 3, 5, 1, 2, 3, 1, 2, 4, 1, 2, 3, 5, 5, 3, 1, 2, 3, 5, 1, 2, 4, 3, 1, 2, 3, 5, 4, 1, 2, 3, 2, 2, 2, 1, 2, 3, 4, 5, 2, 4, 2, 1, 2, 3, 5, 4, 1, 2, 3, 1, 2, 3, 4, 4, 2, 2, 4, 1, 2, 4, 3, 1, 2, 3, 3, 3, 5, 5, 1, 2, 1, 2, 1, 4, 5, 1, 2, 1, 1, 1, 3, 4, 3, 1, 2, 3, 2, 5, 4, 4, 1, 2, 4, 5, 4, 5, 2, 5, 1, 2, 4, 5, 1, 2, 3, 1, 2, 1, 1, 2, 3, 1, 1, 3, 4, 2, 1, 2, 3, 1, 2, 3, 4, 5, 1, 1, 2, 2, 1, 4, 1, 5, 2, 1, 3, 2, 3, 1, 1, 3, 1, 2, 3, 3, 1, 2, 3, 1, 2, 3, 1, 2, 3, 4, 5, 1, 4, 1, 2, 1, 2, 3, 5, 1, 2, 1, 2, 3, 4, 5, 1, 2, 1, 2, 3, 2, 5, 1, 3, 1, 2, 4, 1, 1, 2, 1, 2, 1, 2, 4, 4, 2, 3, 2, 5, 2, 3, 3, 5, 1, 2, 3, 3, 1, 3, 1, 2, 3, 4, 1, 2, 3, 4, 1, 2, 3, 5, 1, 2, 3, 3, 5, 1, 2, 1, 2, 3, 4, 5, 5, 1, 2, 5, 3, 2, 4, 2, 1, 2, 4, 5, 3, 1, 2, 3, 1, 2, 3, 5, 5, 5, 2, 4, 1, 2, 4, 4, 5, 1, 2, 2, 2, 1, 2, 4, 3, 1, 2, 3, 1, 2, 3, 5, 1, 4, 1, 2, 5, 1, 2, 3, 1, 2, 1, 1, 2, 5, 1, 2, 3, 3, 1, 4, 2, 4, 1, 2, 5, 1, 2, 1, 2, 3, 5, 1, 4, 1, 3, 2, 2, 3, 4, 2, 2, 4, 2, 5, 1, 2, 3, 5, 5, 1, 2, 3, 1, 2, 1, 2, 4, 1, 2, 3, 4, 5, 3, 1, 2, 3, 1, 2, 3, 2, 1, 1, 1, 4, 5, 3, 1, 4, 1, 2, 3, 4, 5, 1, 2, 1, 3, 5, 1, 2, 3, 4, 5, 1, 2, 3, 5, 1, 2, 3, 1, 2, 3, 1, 4, 1, 4, 3, 1, 2, 1, 2, 4, 2, 5, 4, 4, 5, 1, 2, 5, 1, 1, 2, 3, 1, 1, 3, 5, 1, 3, 1, 2, 3, 4, 4, 2, 1, 2, 3, 4, 1, 2, 3, 5, 1, 2, 3, 4, 5, 1, 2, 3, 4, 5], \"Freq\": [0.9102316293749737, 0.9245675260718351, 0.05569683891999007, 0.9232008380085057, 0.42920491389384957, 0.5579663880620045, 0.9444256142983661, 0.9507297492425457, 0.9658719638751193, 0.9296845668767046, 0.9163966481980864, 0.45753579569456265, 0.05521983741141274, 0.39442741008151955, 0.0867740302179343, 0.9075313032259569, 0.0789157654979093, 0.4288398242019657, 0.1429466080673219, 0.41584467801402736, 0.966141442429358, 0.9446455920881143, 0.9274458925089539, 0.24890751134760047, 0.04741095454240009, 0.6993115795004013, 0.9632211793917439, 0.8650483383109391, 0.9421208311585877, 0.03925503463160782, 0.6480831654643888, 0.3215679828640097, 0.029683198418216282, 0.9067079036361112, 0.8346952196065789, 0.0891422079191492, 0.07293453375203117, 0.3287535588401476, 0.19033100774955913, 0.10381691331794135, 0.31145073995382405, 0.06921127554529423, 0.9136887807304936, 0.9800094897116727, 0.1149355160654879, 0.8428604511469112, 0.9658688210293522, 0.30358717724869844, 0.6895030805309422, 0.8041078035917563, 0.16155590574446246, 0.033045526175003684, 0.7184942368217293, 0.20779980378667662, 0.0493084280171775, 0.007044061145311071, 0.014088122290622142, 0.49793051447053105, 0.18291325021366447, 0.2438843336182193, 0.03048554170227741, 0.040647388936369884, 0.6380030698138042, 0.2982236571543453, 0.044000211711296845, 0.017111193443282106, 0.9395612418762118, 0.9631502215684753, 0.39491047454170514, 0.06075545762180079, 0.5467991185962071, 0.3320076600567726, 0.16064886776940612, 0.5033664523441391, 0.8648609570234611, 0.6923952508038522, 0.26714462432589575, 0.027259655543458747, 0.0109038622173835, 0.00545193110869175, 0.32861375173461693, 0.6207148643876097, 0.9109209766464361, 0.9677046657142726, 0.7630777598841698, 0.2340105130311454, 0.9679796395140182, 0.974690571669584, 0.9734464192250791, 0.13686168885273323, 0.8211701331163994, 0.9755496997730158, 0.6178153169608812, 0.12087690984017241, 0.255184587440364, 0.9381120183108591, 0.2881371003822436, 0.7051776404091751, 0.41285701784500395, 0.5822342559352619, 0.1316559189784096, 0.8557634733596624, 0.456802333479827, 0.5481628001757924, 0.5313775058026255, 0.34834747602616567, 0.07970662587039383, 0.02656887529013128, 0.011808389017836124, 0.9562001804750581, 0.966755065428384, 0.23010559066157962, 0.7560612264594759, 0.881319389954674, 0.13055556364889434, 0.783333381893366, 0.27802098891389826, 0.7161146684145865, 0.2897279345881726, 0.68810384464691, 0.11140658786682094, 0.8912527029345675, 0.7166438923329148, 0.19769486685045926, 0.0840203184114452, 0.9117937602163918, 0.07928641393186016, 0.9449221907463659, 0.527858258494081, 0.20045250322560038, 0.2672700043008005, 0.9611198948398147, 0.969195844186157, 0.9768021409917765, 0.1616622231965723, 0.08083111159828615, 0.7274800043845754, 0.9625120978949052, 0.539208738505163, 0.35713825537354954, 0.09803795245548418, 0.9214987263240387, 0.6082824435934954, 0.30889342838732187, 0.047522065905741824, 0.03801765272459346, 0.8757348702716757, 0.6012808605535672, 0.3355986198438515, 0.060594195249584294, 0.9603989661874154, 0.9599887877934471, 0.9479731624135304, 0.7315416155130298, 0.15111657785245686, 0.010303403035394785, 0.08586169196162322, 0.02060680607078957, 0.45150645850617993, 0.5267575349238767, 0.9532248073225694, 0.5198470723987006, 0.12679196887773186, 0.3169799221943297, 0.025358393775546374, 0.9320970968069484, 0.8003040527324455, 0.15031091345736286, 0.0487494854456312, 0.35618580351561446, 0.224959454851967, 0.13122634866364744, 0.2811993185649588, 0.9005738103068612, 0.9272876696665266, 0.8533134253440968, 0.126416803754681, 0.3495874288139563, 0.2656864458986068, 0.37755442311907284, 0.935829954840776, 0.3296418535686827, 0.591856964361953, 0.07491860308379153, 0.8798686413457607, 0.8592149342925949, 0.12274499061322783, 0.9533036845556216, 0.2760033403060382, 0.713569611522928, 0.17552937064703206, 0.8236378161129966, 0.48056332601259594, 0.5105985338883832, 0.9565197356061096, 0.8362138877446469, 0.1583738423758801, 0.9493277459448933, 0.9673027018148056, 0.19140359432119805, 0.7656143772847922, 0.9360170459760275, 0.9413588536558904, 0.48727168220680595, 0.4774278098389917, 0.029531617103442785, 0.2558477816504964, 0.7281821477744898, 0.9674406133706508, 0.9615894907630449, 0.7484552736704573, 0.09919286759487989, 0.09919286759487989, 0.045087667088581765, 0.9779686044634339, 0.9430368779797672, 0.6129384468259708, 0.3677630680955824, 0.3363890125548589, 0.32176340331334335, 0.2925121848303121, 0.05850243696606242, 0.7216312872587675, 0.23233007297111538, 0.04224183144929371, 0.9193879733770552, 0.05304161384867626, 0.946527891313133, 0.9218586617440865, 0.041902666442913024, 0.9135824306565277, 0.9497400378087733, 0.3259724902717551, 0.6519449805435102, 0.8953658301574003, 0.9272719214752315, 0.787580730050779, 0.1606507956819997, 0.050938057167463316, 0.5877608957378541, 0.3755139056102957, 0.0040816728870684315, 0.024490037322410587, 0.012245018661205294, 0.9678198096508699, 0.8641057113676558, 0.12344367305252225, 0.9653288213598318, 0.9676349349409918, 0.8820439186560856, 0.9726858239551246, 0.9272880313879814, 0.943873649033655, 0.9751414609353898, 0.9424496138476322, 0.11030888763100698, 0.8824711010480558, 0.9758351093754694, 0.9730635983111071, 0.933272544120435, 0.7591198173870715, 0.18110980414818456, 0.05780100132388869, 0.9399792625637727, 0.6315711571484984, 0.30354582746672015, 0.06119875553764519, 0.6325311532712905, 0.31830599971071394, 0.04488930765151094, 0.6503494347873778, 0.2872568174855909, 0.045961090797694545, 0.004596109079769454, 0.011490272699423636, 0.22165316259685655, 0.7388438753228551, 0.8155071172193046, 0.17694965750984912, 0.9338993316460714, 0.05306246202534497, 0.8903153423412172, 0.9580199635675948, 0.3824823567378035, 0.6119717707804856, 0.6059009858584943, 0.3330869293986487, 0.04123933411602317, 0.006344512940926642, 0.012689025881853284, 0.6613516518666052, 0.3360093069967429, 0.4964819650764395, 0.469789386308889, 0.032031094521060614, 0.9711355703000669, 0.9554057498097055, 0.27814624799801824, 0.6754980308523301, 0.6692147831867659, 0.2607969375654308, 0.0639690601575585, 0.9518491107747002, 0.811810711889119, 0.1825000825177089, 0.2303368750189641, 0.7568211607765963, 0.7896049172802627, 0.01361387788414246, 0.176980412493852, 0.9581164963771085, 0.9128719489649255, 0.9382107615172279, 0.9038479727572976, 0.08216799752339068, 0.9003128546986429, 0.9175727091933005, 0.9226923035986428, 0.9376521837915003, 0.2032905056171713, 0.10164525280858565, 0.6911877190983824, 0.9351837574707917, 0.9574231362876099, 0.9100989844426808, 0.8066269733654706, 0.12005610766369795, 0.030014026915924488, 0.04126928700939617, 0.665344125195117, 0.22445343982485877, 0.10020242849324051, 0.008016194279459241, 0.7117767017001916, 0.23413707292769462, 0.03434010402939521, 0.021852793473251496, 0.6497293176485448, 0.31764544418373303, 0.03368966832251714, 0.951040455429317, 0.9578128478578646, 0.314737890548704, 0.668818017415996, 0.3234919775282639, 0.2717332611237417, 0.19409518651695837, 0.20703486561808893, 0.873703917723836, 0.8890656298531133, 0.8572195858770886, 0.13110417195767238, 0.9598552006391899, 0.8986941082840283, 0.8200484432171168, 0.1537590831032094, 0.9298844207944601, 0.5444353688449541, 0.16635525159151376, 0.27221768442247707, 0.9667081368434168, 0.9169143888435627, 0.5304036473579106, 0.15799257580873932, 0.3046999676311401, 0.2938647838023047, 0.1356299002164483, 0.1356299002164483, 0.42949468401875296, 0.9228583791796862, 0.9492240676188144, 0.0631968671669602, 0.9163545739209229, 0.318159811282088, 0.6009685324217217, 0.07070218028490843, 0.6828458370363328, 0.2987450537033956, 0.605445196532251, 0.3888180161216291, 0.9563967031363156, 0.9850430071211821, 0.4589366149883025, 0.057367076873537814, 0.4589366149883025, 0.9566709616461573, 0.6265374609454746, 0.15436430197207343, 0.217926073372339, 0.5726432863363238, 0.3817621908908825, 0.04048992933691178, 0.9539270404698946, 0.960388792683832, 0.9043679571487819, 0.807605533678603, 0.16256994509114733, 0.026220958885668926, 0.49135958875822383, 0.4755092794434424, 0.02377546397217212, 0.5621136853717558, 0.4294801191604426, 0.9677556761037227, 0.3438461421041046, 0.6483955822534544, 0.9267173475177136, 0.7784450868034419, 0.16549619955663725, 0.055165399852212416, 0.9180500253104029, 0.3536874812389616, 0.6430681477072029, 0.9343934838060929, 0.9374826741794325, 0.9082431852717298, 0.07784941588043398, 0.012974902646738997, 0.9630308792199749, 0.03157478292524508, 0.8134945021537586, 0.10993168948023765, 0.02931511719473004, 0.05130145509077757, 0.9588076137204491, 0.9481912091448309, 0.4236376968549997, 0.5648502624733329, 0.9608415644722159, 0.9566177103163819, 0.9426788090844259, 0.9411042601251959, 0.9051394504493193, 0.07920442577282581, 0.871248683501084, 0.2050823579623294, 0.7519686458618745, 0.10230028699675744, 0.8695524394724383, 0.35174629723029505, 0.5979687052915016, 0.9417254125516613, 0.7427733648359096, 0.12589379065015416, 0.12589379065015416, 0.9240734327665028, 0.0680896213617423, 0.9401315259161843, 0.02937911018488076, 0.9098492502614743, 0.709021265320107, 0.2200410823407229, 0.020374174290807675, 0.036673513723453816, 0.012224504574484605, 0.9360856025985906, 0.1537656684305684, 0.04393304812301954, 0.768828342152842, 0.32852570220639504, 0.2856745236577348, 0.3713768807550553, 0.9572064775694696, 0.9539699992329378, 0.9782443152052129, 0.9693626339872679, 0.8726292622028897, 0.9037267377852523, 0.9190854777892987, 0.9766308393513519, 0.925898025843845, 0.887796900434138, 0.08138138253979599, 0.0073983075036178165, 0.014796615007235633, 0.8965835794416338, 0.8818534898515736, 0.11305813972456073, 0.14503063935733448, 0.8218402896915621, 0.9562419783752859, 0.6388408406977226, 0.23230576025371732, 0.07594611392909989, 0.026804510798505845, 0.026804510798505845, 0.6785183273390389, 0.2851743694613352, 0.019667197893885185, 0.014750398420413889, 0.43211947954504953, 0.09002489157188533, 0.4681294361738037, 0.8463013188443713, 0.06427604953248389, 0.0857013993766452, 0.9621676257837029, 0.8935866149027879, 0.9802722414223443, 0.9055573259416243, 0.9331909228893149, 0.502758971949482, 0.4875238515873766, 0.192121564609378, 0.41168906702009567, 0.384243129218756, 0.9506995642119199, 0.9510276344136463, 0.881472949990814, 0.9391501829192693, 0.050764874752392934, 0.34823721816782766, 0.15477209696347896, 0.5030093151313066, 0.986796740258855, 0.8652397289369025, 0.0254482273216736, 0.1017929092866944, 0.9616244536431405, 0.9650378260393734, 0.9707746590426863, 0.9124173347844642, 0.3367284955287559, 0.6557344386612615, 0.6152313391731783, 0.28427930844553756, 0.04667272228210318, 0.05091569703502165, 0.953109932966287, 0.9340674356855196, 0.55896648376639, 0.25192855606372505, 0.023618302130974225, 0.15745534753982818, 0.3897882561444189, 0.0677892619381598, 0.1355785238763196, 0.40673557162895885, 0.7035105745716993, 0.2435228911978959, 0.006764524755497109, 0.040587148532982655, 0.010146787133245664, 0.6685551495011887, 0.1729021938365143, 0.046107251689737144, 0.10758358727605334, 0.9823844203793167], \"Term\": [\"acceptance\", \"access\", \"access\", \"adventure\", \"ago\", \"ago\", \"ahead\", \"amaze\", \"appreciate\", \"array\", \"arrive\", \"art\", \"art\", \"art\", \"art\", \"artists\", \"artists\", \"arts\", \"arts\", \"arts\", \"aspects\", \"athletes\", \"auditory\", \"autism\", \"autism\", \"autism\", \"basketball\", \"beloved\", \"benefit\", \"benefit\", \"best\", \"best\", \"best\", \"bigger\", \"books\", \"books\", \"books\", \"boys\", \"boys\", \"boys\", \"boys\", \"boys\", \"brilliant\", \"budget\", \"bus\", \"bus\", \"certainly\", \"challenges\", \"challenges\", \"children\", \"children\", \"children\", \"class\", \"class\", \"class\", \"class\", \"class\", \"classes\", \"classes\", \"classes\", \"classes\", \"classes\", \"classroom\", \"classroom\", \"classroom\", \"classroom\", \"clever\", \"close\", \"collaborative\", \"collaborative\", \"collaborative\", \"college\", \"college\", \"college\", \"coloring\", \"come\", \"come\", \"come\", \"come\", \"come\", \"communicate\", \"communicate\", \"communicating\", \"communication\", \"community\", \"community\", \"computers\", \"congressional\", \"content\", \"continually\", \"continually\", \"control\", \"country\", \"country\", \"country\", \"craving\", \"creative\", \"creative\", \"curious\", \"curious\", \"dance\", \"dance\", \"dancing\", \"dancing\", \"day\", \"day\", \"day\", \"day\", \"day\", \"debate\", \"deeper\", \"delays\", \"delays\", \"demographics\", \"desperate\", \"desperate\", \"despite\", \"despite\", \"diagnosed\", \"diagnosed\", \"did\", \"did\", \"different\", \"different\", \"different\", \"difficult\", \"difficult\", \"direction\", \"disabilities\", \"disabilities\", \"disabilities\", \"discovered\", \"discovering\", \"disorder\", \"disorders\", \"disorders\", \"disorders\", \"distance\", \"district\", \"district\", \"district\", \"disturbance\", \"diverse\", \"diverse\", \"diverse\", \"diverse\", \"dreamers\", \"eager\", \"eager\", \"eager\", \"eagerness\", \"earliest\", \"educate\", \"education\", \"education\", \"education\", \"education\", \"education\", \"eighth\", \"eighth\", \"eligible\", \"emotional\", \"emotional\", \"emotional\", \"emotional\", \"empowering\", \"english\", \"english\", \"english\", \"ensure\", \"ensure\", \"ensure\", \"ensure\", \"entrepreneurs\", \"ethnically\", \"excellence\", \"excellence\", \"exciting\", \"exciting\", \"exciting\", \"exhibit\", \"experiences\", \"experiences\", \"experiences\", \"expressing\", \"expression\", \"expression\", \"fabulous\", \"face\", \"face\", \"faced\", \"faced\", \"fact\", \"fact\", \"facts\", \"families\", \"families\", \"feeling\", \"financial\", \"fitness\", \"fitness\", \"flatbush\", \"forms\", \"free\", \"free\", \"free\", \"funny\", \"funny\", \"gang\", \"gangs\", \"general\", \"general\", \"general\", \"general\", \"generous\", \"geographic\", \"gifted\", \"gifted\", \"girls\", \"girls\", \"girls\", \"girls\", \"grade\", \"grade\", \"grade\", \"grades\", \"grades\", \"greatly\", \"groups\", \"groups\", \"gym\", \"happen\", \"health\", \"health\", \"heartbreaking\", \"heights\", \"help\", \"help\", \"help\", \"high\", \"high\", \"high\", \"high\", \"high\", \"homeless\", \"homes\", \"homes\", \"hopeful\", \"housing\", \"humble\", \"immigrants\", \"impacts\", \"improvements\", \"increase\", \"instruments\", \"intellectual\", \"intellectual\", \"items\", \"key\", \"kinesthetic\", \"language\", \"language\", \"language\", \"latin\", \"learn\", \"learn\", \"learn\", \"learners\", \"learners\", \"learners\", \"learning\", \"learning\", \"learning\", \"learning\", \"learning\", \"learns\", \"learns\", \"level\", \"level\", \"limited\", \"limited\", \"lingual\", \"literally\", \"looking\", \"looking\", \"love\", \"love\", \"love\", \"love\", \"love\", \"low\", \"low\", \"lunch\", \"lunch\", \"lunch\", \"lunches\", \"magic\", \"major\", \"major\", \"make\", \"make\", \"make\", \"material\", \"materials\", \"materials\", \"meaningful\", \"meaningful\", \"means\", \"means\", \"means\", \"melting\", \"memorable\", \"mental\", \"minute\", \"minute\", \"mistakes\", \"modalities\", \"mono\", \"mothers\", \"music\", \"music\", \"music\", \"musicians\", \"native\", \"nature\", \"need\", \"need\", \"need\", \"need\", \"needs\", \"needs\", \"needs\", \"needs\", \"new\", \"new\", \"new\", \"new\", \"nmy\", \"nmy\", \"nmy\", \"nutrition\", \"obstacle\", \"obstacles\", \"obstacles\", \"old\", \"old\", \"old\", \"old\", \"opening\", \"opinions\", \"opportunity\", \"opportunity\", \"optimal\", \"outlet\", \"passionate\", \"passionate\", \"passions\", \"people\", \"people\", \"people\", \"phenomenal\", \"photography\", \"play\", \"play\", \"play\", \"playing\", \"playing\", \"playing\", \"playing\", \"pocket\", \"poetry\", \"poorest\", \"poorest\", \"positive\", \"positive\", \"positive\", \"pot\", \"pot\", \"poverty\", \"poverty\", \"prevent\", \"price\", \"productive\", \"productive\", \"productive\", \"proficiency\", \"program\", \"program\", \"program\", \"provide\", \"provide\", \"provide\", \"puppets\", \"purchase\", \"questioners\", \"reading\", \"reading\", \"reading\", \"ready\", \"ready\", \"ready\", \"receive\", \"receive\", \"recently\", \"reduced\", \"reduced\", \"regards\", \"resources\", \"resources\", \"resources\", \"respond\", \"rest\", \"rest\", \"risks\", \"robotics\", \"room\", \"room\", \"room\", \"schools\", \"schools\", \"science\", \"science\", \"science\", \"science\", \"seating\", \"seniors\", \"sensory\", \"sensory\", \"seven\", \"seventh\", \"severe\", \"shoes\", \"shows\", \"significantly\", \"significantly\", \"silly\", \"silly\", \"simple\", \"simple\", \"singing\", \"singing\", \"sisters\", \"skills\", \"skills\", \"skills\", \"small\", \"small\", \"socio\", \"socio\", \"solvers\", \"special\", \"special\", \"special\", \"special\", \"special\", \"specifically\", \"spectrum\", \"spectrum\", \"spectrum\", \"speech\", \"speech\", \"speech\", \"spirit\", \"spoken\", \"standards\", \"states\", \"stopped\", \"storage\", \"style\", \"styles\", \"succeeds\", \"supplies\", \"supplies\", \"supplies\", \"supplies\", \"supplying\", \"support\", \"support\", \"tactile\", \"tactile\", \"taken\", \"teach\", \"teach\", \"teach\", \"teach\", \"teach\", \"teacher\", \"teacher\", \"teacher\", \"teacher\", \"team\", \"team\", \"team\", \"technology\", \"technology\", \"technology\", \"tell\", \"testament\", \"thank\", \"theatre\", \"therapist\", \"things\", \"things\", \"thinkers\", \"thinkers\", \"thinkers\", \"thirst\", \"tomorrow\", \"tone\", \"tough\", \"tough\", \"travel\", \"travel\", \"travel\", \"united\", \"use\", \"use\", \"use\", \"used\", \"varied\", \"verbal\", \"views\", \"visual\", \"visual\", \"want\", \"want\", \"want\", \"want\", \"west\", \"willingness\", \"wonderful\", \"wonderful\", \"wonderful\", \"wonderful\", \"words\", \"words\", \"words\", \"words\", \"work\", \"work\", \"work\", \"work\", \"work\", \"year\", \"year\", \"year\", \"year\", \"younger\"]}, \"R\": 30, \"lambda.step\": 0.01, \"plot.opts\": {\"xlab\": \"PC1\", \"ylab\": \"PC2\"}, \"topic.order\": [2, 1, 4, 5, 3]};\n",
       "\n",
       "function LDAvis_load_lib(url, callback){\n",
       "  var s = document.createElement('script');\n",
       "  s.src = url;\n",
       "  s.async = true;\n",
       "  s.onreadystatechange = s.onload = callback;\n",
       "  s.onerror = function(){console.warn(\"failed to load library \" + url);};\n",
       "  document.getElementsByTagName(\"head\")[0].appendChild(s);\n",
       "}\n",
       "\n",
       "if(typeof(LDAvis) !== \"undefined\"){\n",
       "   // already loaded: just create the visualization\n",
       "   !function(LDAvis){\n",
       "       new LDAvis(\"#\" + \"ldavis_el1103848517941129241041224\", ldavis_el1103848517941129241041224_data);\n",
       "   }(LDAvis);\n",
       "}else if(typeof define === \"function\" && define.amd){\n",
       "   // require.js is available: use it to load d3/LDAvis\n",
       "   require.config({paths: {d3: \"https://cdnjs.cloudflare.com/ajax/libs/d3/3.5.5/d3.min\"}});\n",
       "   require([\"d3\"], function(d3){\n",
       "      window.d3 = d3;\n",
       "      LDAvis_load_lib(\"https://cdn.rawgit.com/bmabey/pyLDAvis/files/ldavis.v1.0.0.js\", function(){\n",
       "        new LDAvis(\"#\" + \"ldavis_el1103848517941129241041224\", ldavis_el1103848517941129241041224_data);\n",
       "      });\n",
       "    });\n",
       "}else{\n",
       "    // require.js not available: dynamically load d3 & LDAvis\n",
       "    LDAvis_load_lib(\"https://cdnjs.cloudflare.com/ajax/libs/d3/3.5.5/d3.min.js\", function(){\n",
       "         LDAvis_load_lib(\"https://cdn.rawgit.com/bmabey/pyLDAvis/files/ldavis.v1.0.0.js\", function(){\n",
       "                 new LDAvis(\"#\" + \"ldavis_el1103848517941129241041224\", ldavis_el1103848517941129241041224_data);\n",
       "            })\n",
       "         });\n",
       "}\n",
       "</script>"
      ],
      "text/plain": [
       "PreparedData(topic_coordinates=            Freq  cluster  topics         x         y\n",
       "topic                                                \n",
       "1      59.051441        1       1  0.110243  0.065057\n",
       "0      22.225891        1       2  0.170081  0.094656\n",
       "3       9.074410        1       3  0.049758 -0.221008\n",
       "4       5.364129        1       4 -0.178409  0.111378\n",
       "2       4.284128        1       5 -0.151673 -0.050083, topic_info=     Category        Freq           Term       Total  loglift  logprob\n",
       "term                                                                  \n",
       "586   Default   93.000000        college   93.000000  30.0000  30.0000\n",
       "3808  Default  260.000000           year  260.000000  29.0000  29.0000\n",
       "2259  Default   98.000000          music   98.000000  28.0000  28.0000\n",
       "1049  Default  291.000000      education  291.000000  27.0000  27.0000\n",
       "2626  Default   63.000000        poorest   63.000000  26.0000  26.0000\n",
       "492   Default  194.000000     challenges  194.000000  25.0000  25.0000\n",
       "193   Default  126.000000            art  126.000000  24.0000  24.0000\n",
       "249   Default   84.000000         autism   84.000000  23.0000  23.0000\n",
       "663   Default   52.000000  congressional   52.000000  22.0000  22.0000\n",
       "1443  Default   50.000000          funny   50.000000  21.0000  21.0000\n",
       "1274  Default  148.000000           face  148.000000  20.0000  20.0000\n",
       "1216  Default   71.000000       exciting   71.000000  19.0000  19.0000\n",
       "928   Default  149.000000   disabilities  149.000000  18.0000  18.0000\n",
       "3774  Default  127.000000      wonderful  127.000000  17.0000  17.0000\n",
       "3780  Default   59.000000          words   59.000000  16.0000  16.0000\n",
       "736   Default   74.000000        country   74.000000  15.0000  15.0000\n",
       "757   Default  131.000000       creative  131.000000  14.0000  14.0000\n",
       "957   Default  142.000000       district  142.000000  13.0000  13.0000\n",
       "1987  Default  408.000000          learn  408.000000  12.0000  12.0000\n",
       "2106  Default  203.000000           make  203.000000  11.0000  11.0000\n",
       "2152  Default   73.000000          means   73.000000  10.0000  10.0000\n",
       "2545  Default   66.000000         people   66.000000   9.0000   9.0000\n",
       "358   Default  123.000000          books  123.000000   8.0000   8.0000\n",
       "3687  Default   56.000000         visual   56.000000   7.0000   7.0000\n",
       "878   Default  118.000000        despite  118.000000   6.0000   6.0000\n",
       "3534  Default   39.000000          tough   39.000000   5.0000   5.0000\n",
       "1488  Default   68.000000          girls   68.000000   4.0000   4.0000\n",
       "806   Default  338.000000            day  338.000000   3.0000   3.0000\n",
       "201   Default   76.000000           arts   76.000000   2.0000   2.0000\n",
       "1465  Default  110.000000        general  110.000000   1.0000   1.0000\n",
       "...       ...         ...            ...         ...      ...      ...\n",
       "2871   Topic5   11.006591        regards   11.869854   3.0747  -5.6292\n",
       "2447   Topic5   10.596879        optimal   11.460062   3.0719  -5.6671\n",
       "2443   Topic5   10.380967       opinions   11.247764   3.0701  -5.6877\n",
       "3307   Topic5   10.201401        storage   11.065292   3.0690  -5.7051\n",
       "750    Topic5    9.797413        craving   10.659708   3.0659  -5.7455\n",
       "2763   Topic5    9.627205        puppets   10.482982   3.0651  -5.7631\n",
       "940    Topic5    9.538801     discovered   10.404529   3.0634  -5.7723\n",
       "2440   Topic5    9.431360        opening   10.300972   3.0621  -5.7836\n",
       "3375   Topic5    9.175788      supplying   10.038105   3.0604  -5.8111\n",
       "2234   Topic5    8.741990        mothers    9.598442   3.0568  -5.8595\n",
       "1476   Topic5    8.686727     geographic    9.543635   3.0562  -5.8659\n",
       "3155   Topic5    8.697797        sisters    9.556926   3.0561  -5.8646\n",
       "1721   Topic5    8.830878        impacts    9.705722   3.0558  -5.8494\n",
       "2045   Topic5    8.532320      literally    9.394376   3.0540  -5.8838\n",
       "320    Topic5    8.393176        beloved    9.248038   3.0533  -5.9002\n",
       "591    Topic5    8.390535       coloring    9.250042   3.0527  -5.9006\n",
       "901    Topic5   23.586663            did   26.928390   3.0178  -4.8670\n",
       "423    Topic5   21.923525            bus   26.101592   2.9758  -4.9401\n",
       "1443   Topic5   37.127895          funny   50.811463   2.8365  -4.4133\n",
       "876    Topic5   12.425040      desperate   15.319148   2.9409  -5.5079\n",
       "693    Topic5   11.677719    continually   14.613293   2.9260  -5.5700\n",
       "3153   Topic5   17.492986        singing   28.429581   2.6646  -5.1659\n",
       "3780   Topic5   24.395059          words   59.006395   2.2670  -4.8333\n",
       "2609   Topic5   18.920049        playing   44.238033   2.3009  -5.0874\n",
       "3144   Topic5   10.894875          silly   14.628269   2.8556  -5.6394\n",
       "110    Topic5   12.905855            ago   23.298894   2.5595  -5.4700\n",
       "3561   Topic5   13.031218         travel   25.844452   2.4655  -5.4603\n",
       "798    Topic5   11.637006        dancing   21.891307   2.5184  -5.5735\n",
       "1484   Topic5   11.543679         gifted   32.629704   2.1112  -5.5815\n",
       "193    Topic5   10.900506            art  126.766038   0.6967  -5.6388\n",
       "\n",
       "[336 rows x 6 columns], token_table=      Topic      Freq         Term\n",
       "term                              \n",
       "16        2  0.910232   acceptance\n",
       "19        1  0.924568       access\n",
       "19        2  0.055697       access\n",
       "89        2  0.923201    adventure\n",
       "110       1  0.429205          ago\n",
       "110       5  0.557966          ago\n",
       "112       2  0.944426        ahead\n",
       "135       3  0.950730        amaze\n",
       "172       1  0.965872   appreciate\n",
       "189       2  0.929685        array\n",
       "190       2  0.916397       arrive\n",
       "193       1  0.457536          art\n",
       "193       2  0.055220          art\n",
       "193       3  0.394427          art\n",
       "193       5  0.086774          art\n",
       "200       3  0.907531      artists\n",
       "200       5  0.078916      artists\n",
       "201       1  0.428840         arts\n",
       "201       2  0.142947         arts\n",
       "201       3  0.415845         arts\n",
       "211       4  0.966141      aspects\n",
       "227       4  0.944646     athletes\n",
       "244       3  0.927446     auditory\n",
       "249       1  0.248908       autism\n",
       "249       2  0.047411       autism\n",
       "249       3  0.699312       autism\n",
       "290       3  0.963221   basketball\n",
       "320       5  0.865048      beloved\n",
       "322       1  0.942121      benefit\n",
       "322       2  0.039255      benefit\n",
       "...     ...       ...          ...\n",
       "3646      1  0.961624         used\n",
       "3659      1  0.965038       varied\n",
       "3670      3  0.970775       verbal\n",
       "3678      5  0.912417        views\n",
       "3687      1  0.336728       visual\n",
       "3687      3  0.655734       visual\n",
       "3710      1  0.615231         want\n",
       "3710      2  0.284279         want\n",
       "3710      3  0.046673         want\n",
       "3710      4  0.050916         want\n",
       "3748      4  0.953110         west\n",
       "3760      2  0.934067  willingness\n",
       "3774      1  0.558966    wonderful\n",
       "3774      2  0.251929    wonderful\n",
       "3774      3  0.023618    wonderful\n",
       "3774      4  0.157455    wonderful\n",
       "3780      1  0.389788        words\n",
       "3780      2  0.067789        words\n",
       "3780      3  0.135579        words\n",
       "3780      5  0.406736        words\n",
       "3781      1  0.703511         work\n",
       "3781      2  0.243523         work\n",
       "3781      3  0.006765         work\n",
       "3781      4  0.040587         work\n",
       "3781      5  0.010147         work\n",
       "3808      1  0.668555         year\n",
       "3808      2  0.172902         year\n",
       "3808      3  0.046107         year\n",
       "3808      4  0.107584         year\n",
       "3820      5  0.982384      younger\n",
       "\n",
       "[548 rows x 3 columns], R=30, lambda_step=0.01, plot_opts={'xlab': 'PC1', 'ylab': 'PC2'}, topic_order=[2, 1, 4, 5, 3])"
      ]
     },
     "execution_count": 65,
     "metadata": {},
     "output_type": "execute_result"
    }
   ],
   "source": [
    "pyLDAvis.sklearn.prepare(lda_tfidf, dtm_tfidf, tfidf_vectorizer)"
   ]
  },
  {
   "cell_type": "code",
   "execution_count": 66,
   "metadata": {},
   "outputs": [
    {
     "data": {
      "text/html": [
       "\n",
       "<link rel=\"stylesheet\" type=\"text/css\" href=\"https://cdn.rawgit.com/bmabey/pyLDAvis/files/ldavis.v1.0.0.css\">\n",
       "\n",
       "\n",
       "<div id=\"ldavis_el1103883051989287582604183\"></div>\n",
       "<script type=\"text/javascript\">\n",
       "\n",
       "var ldavis_el1103883051989287582604183_data = {\"mdsDat\": {\"Freq\": [59.051441372452864, 22.22589128184914, 9.074410250771683, 5.36412937742952, 4.2841277174967916], \"cluster\": [1, 1, 1, 1, 1], \"topics\": [1, 2, 3, 4, 5], \"x\": [0.11024305148488024, 0.17008077050007858, 0.04975788224482382, -0.17840858251118294, -0.15167312171859965], \"y\": [0.06505719257084874, 0.09465635292984174, -0.22100792467734895, 0.11137764811276478, -0.050083268936106165]}, \"tinfo\": {\"Category\": [\"Default\", \"Default\", \"Default\", \"Default\", \"Default\", \"Default\", \"Default\", \"Default\", \"Default\", \"Default\", \"Default\", \"Default\", \"Default\", \"Default\", \"Default\", \"Default\", \"Default\", \"Default\", \"Default\", \"Default\", \"Default\", \"Default\", \"Default\", \"Default\", \"Default\", \"Default\", \"Default\", \"Default\", \"Default\", \"Default\", \"Topic1\", \"Topic1\", \"Topic1\", \"Topic1\", \"Topic1\", \"Topic1\", \"Topic1\", \"Topic1\", \"Topic1\", \"Topic1\", \"Topic1\", \"Topic1\", \"Topic1\", \"Topic1\", \"Topic1\", \"Topic1\", \"Topic1\", \"Topic1\", \"Topic1\", \"Topic1\", \"Topic1\", \"Topic1\", \"Topic1\", \"Topic1\", \"Topic1\", \"Topic1\", \"Topic1\", \"Topic1\", \"Topic1\", \"Topic1\", \"Topic1\", \"Topic1\", \"Topic1\", \"Topic1\", \"Topic1\", \"Topic1\", \"Topic1\", \"Topic1\", \"Topic1\", \"Topic1\", \"Topic1\", \"Topic1\", \"Topic1\", \"Topic1\", \"Topic1\", \"Topic1\", \"Topic1\", \"Topic1\", \"Topic1\", \"Topic1\", \"Topic1\", \"Topic1\", \"Topic1\", \"Topic1\", \"Topic1\", \"Topic1\", \"Topic1\", \"Topic1\", \"Topic1\", \"Topic1\", \"Topic1\", \"Topic1\", \"Topic1\", \"Topic1\", \"Topic1\", \"Topic1\", \"Topic1\", \"Topic1\", \"Topic1\", \"Topic1\", \"Topic1\", \"Topic1\", \"Topic1\", \"Topic1\", \"Topic1\", \"Topic1\", \"Topic1\", \"Topic1\", \"Topic1\", \"Topic1\", \"Topic2\", \"Topic2\", \"Topic2\", \"Topic2\", \"Topic2\", \"Topic2\", \"Topic2\", \"Topic2\", \"Topic2\", \"Topic2\", \"Topic2\", \"Topic2\", \"Topic2\", \"Topic2\", \"Topic2\", \"Topic2\", \"Topic2\", \"Topic2\", \"Topic2\", \"Topic2\", \"Topic2\", \"Topic2\", \"Topic2\", \"Topic2\", \"Topic2\", \"Topic2\", \"Topic2\", \"Topic2\", \"Topic2\", \"Topic2\", \"Topic2\", \"Topic2\", \"Topic2\", \"Topic2\", \"Topic2\", \"Topic2\", \"Topic2\", \"Topic2\", \"Topic2\", \"Topic2\", \"Topic2\", \"Topic2\", \"Topic2\", \"Topic2\", \"Topic2\", \"Topic2\", \"Topic2\", \"Topic2\", \"Topic2\", \"Topic2\", \"Topic2\", \"Topic2\", \"Topic2\", \"Topic2\", \"Topic2\", \"Topic2\", \"Topic2\", \"Topic2\", \"Topic2\", \"Topic2\", \"Topic2\", \"Topic2\", \"Topic2\", \"Topic2\", \"Topic2\", \"Topic2\", \"Topic2\", \"Topic2\", \"Topic2\", \"Topic2\", \"Topic3\", \"Topic3\", \"Topic3\", \"Topic3\", \"Topic3\", \"Topic3\", \"Topic3\", \"Topic3\", \"Topic3\", \"Topic3\", \"Topic3\", \"Topic3\", \"Topic3\", \"Topic3\", \"Topic3\", \"Topic3\", \"Topic3\", \"Topic3\", \"Topic3\", \"Topic3\", \"Topic3\", \"Topic3\", \"Topic3\", \"Topic3\", \"Topic3\", \"Topic3\", \"Topic3\", \"Topic3\", \"Topic3\", \"Topic3\", \"Topic3\", \"Topic3\", \"Topic3\", \"Topic3\", \"Topic3\", \"Topic3\", \"Topic3\", \"Topic3\", \"Topic3\", \"Topic3\", \"Topic3\", \"Topic3\", \"Topic3\", \"Topic3\", \"Topic3\", \"Topic3\", \"Topic3\", \"Topic3\", \"Topic3\", \"Topic3\", \"Topic3\", \"Topic3\", \"Topic3\", \"Topic3\", \"Topic3\", \"Topic3\", \"Topic3\", \"Topic3\", \"Topic3\", \"Topic3\", \"Topic3\", \"Topic4\", \"Topic4\", \"Topic4\", \"Topic4\", \"Topic4\", \"Topic4\", \"Topic4\", \"Topic4\", \"Topic4\", \"Topic4\", \"Topic4\", \"Topic4\", \"Topic4\", \"Topic4\", \"Topic4\", \"Topic4\", \"Topic4\", \"Topic4\", \"Topic4\", \"Topic4\", \"Topic4\", \"Topic4\", \"Topic4\", \"Topic4\", \"Topic4\", \"Topic4\", \"Topic4\", \"Topic4\", \"Topic4\", \"Topic4\", \"Topic4\", \"Topic4\", \"Topic4\", \"Topic4\", \"Topic4\", \"Topic4\", \"Topic4\", \"Topic4\", \"Topic4\", \"Topic4\", \"Topic4\", \"Topic4\", \"Topic4\", \"Topic4\", \"Topic4\", \"Topic4\", \"Topic4\", \"Topic4\", \"Topic4\", \"Topic4\", \"Topic4\", \"Topic5\", \"Topic5\", \"Topic5\", \"Topic5\", \"Topic5\", \"Topic5\", \"Topic5\", \"Topic5\", \"Topic5\", \"Topic5\", \"Topic5\", \"Topic5\", \"Topic5\", \"Topic5\", \"Topic5\", \"Topic5\", \"Topic5\", \"Topic5\", \"Topic5\", \"Topic5\", \"Topic5\", \"Topic5\", \"Topic5\", \"Topic5\", \"Topic5\", \"Topic5\", \"Topic5\", \"Topic5\", \"Topic5\", \"Topic5\", \"Topic5\", \"Topic5\", \"Topic5\", \"Topic5\", \"Topic5\", \"Topic5\", \"Topic5\", \"Topic5\", \"Topic5\", \"Topic5\", \"Topic5\", \"Topic5\", \"Topic5\", \"Topic5\"], \"Freq\": [93.0, 260.0, 98.0, 291.0, 63.0, 194.0, 126.0, 84.0, 52.0, 50.0, 148.0, 71.0, 149.0, 127.0, 59.0, 74.0, 131.0, 142.0, 408.0, 203.0, 73.0, 66.0, 123.0, 56.0, 118.0, 39.0, 68.0, 338.0, 76.0, 110.0, 45.0488024319087, 40.53600414802297, 40.250587752473734, 35.15193423759721, 35.71117736223861, 33.88490236367054, 31.090549196042964, 29.991759524151494, 27.62317603083919, 26.734647256158055, 60.98476311306659, 25.63993228789349, 25.076715611330574, 25.10950346370391, 24.994586918292182, 24.89854558710368, 24.826341366732716, 28.93478585460708, 24.503546599237797, 24.35461585780107, 23.986614718642773, 23.78385925814138, 23.638228473557252, 23.150945701889945, 22.563059286340653, 21.74161501332749, 21.118471892905948, 20.82495250653426, 19.96304281502605, 20.04245818975824, 48.30127102986656, 88.19954038674322, 83.49978110863681, 95.34488410288205, 32.15469098817619, 44.4272070282607, 120.14465919388863, 52.197627959931594, 116.54769189102524, 68.52839691566794, 69.63544764968546, 158.2302559173376, 101.51752977852922, 214.9500018000109, 218.72743709601212, 132.367951095535, 196.5106699148533, 83.9551884109939, 85.2418567582448, 200.93411587004323, 153.8416854071573, 102.90024064515346, 128.68360076629398, 196.70590839140363, 111.3457436137452, 106.43004237017348, 213.17155807068022, 228.05997421180197, 205.32131201327155, 253.73242555642395, 150.11461348511907, 204.31315937032699, 207.51766870741704, 283.0624937024759, 126.62658818571948, 260.98074547453683, 173.82309769698375, 258.36505888502035, 174.15995282144786, 144.55066381515056, 165.9592136950239, 190.8257834006365, 155.39147348111956, 138.20246371695208, 179.96457348427327, 142.93183693286798, 145.04590386448402, 136.193040376168, 143.81593241408746, 135.15075109415923, 52.785721126485385, 41.003919246837356, 26.76955504618967, 24.243707215864752, 23.96547665277311, 20.759917015990606, 19.330384689163797, 19.939454841367027, 18.67433474891408, 18.84983167735218, 18.065630969608126, 18.238810468317382, 17.32490426909872, 17.29643639233752, 16.42744573295104, 16.87061648016295, 15.718611376268257, 15.63079475743147, 14.895389938131519, 15.101526189110157, 14.3812872086939, 13.597274024722301, 13.226886114991162, 12.992587352746678, 12.83549564006601, 13.567934129738953, 13.321184922126696, 13.046675805004664, 12.328966420219114, 12.142695012470272, 34.03029307816555, 21.647075206845333, 60.73219735828994, 27.013324804709324, 106.35974852153171, 134.35875905511253, 32.38200589130013, 85.13497322633162, 92.96640086126769, 46.050100563991585, 66.34767873752966, 79.13780432897153, 96.66939029868942, 55.10646585422054, 50.86249836305638, 47.86527348905844, 87.94048268419589, 64.39803040105447, 118.06049488456097, 34.04083684324083, 91.77745630142064, 60.38010614194476, 124.39083211917404, 105.20100475217095, 122.35102611720824, 68.46887117004228, 125.00048298801312, 70.24929243395611, 66.11416121311004, 97.64616785643031, 78.1901292620974, 71.7053887838423, 65.50276403070713, 74.60146822429864, 64.65537540434745, 71.69655000299156, 65.08222240133645, 66.92140877896034, 66.33707790628975, 62.575480603449435, 34.00094712297648, 24.489316272992173, 22.735361230432805, 21.54862783933929, 21.283282689357023, 19.80253766403302, 18.997255206211456, 17.253334475367563, 16.426499113543343, 15.319143988071922, 13.921254959007275, 13.497953549787638, 13.054664349340728, 13.602636634476703, 12.867935855543063, 12.81269236725456, 12.205747476072842, 11.650913705703347, 11.837423741871925, 11.394032427254725, 11.028190200546168, 11.073681080469944, 11.025995837047038, 10.829473884730444, 10.798311024943203, 10.774354184240325, 10.402373440366192, 9.883151956739674, 10.006687057534732, 9.917867581654825, 22.967564332267308, 23.587303639462316, 25.828302815392302, 35.43615075616362, 67.87179580870323, 58.699159382245924, 17.091798142361455, 36.71905032261461, 22.75958420081856, 13.694013306258542, 23.886290853141713, 18.228108122636527, 19.289937803648836, 50.03688411064673, 15.81133395436202, 32.300164677337634, 26.418648768914053, 17.355342248223284, 39.504638082523236, 20.073874749910605, 25.87923607564374, 17.431769358061885, 26.547852943490458, 25.080046724436425, 24.32532296428601, 23.590672230266673, 26.860715952986542, 25.368441312945738, 25.153222801078574, 20.16488240671869, 20.23488032950378, 51.413255257879115, 20.056649405492383, 19.522918606999543, 19.190015801303314, 17.697189707714635, 17.2209011033916, 16.834979481197177, 16.380465988512633, 14.041371007615254, 13.55725571563259, 13.364673876462133, 12.682064888390398, 36.74271350189587, 12.319288507848565, 11.745770794086791, 11.40845859926944, 58.473916146396995, 10.774820329039558, 10.72826007019216, 10.428367173868804, 10.51943245527782, 9.818129302054484, 9.40967604406804, 9.36769412965146, 9.299216432435173, 9.296571597726004, 9.144041235201367, 9.087990018207979, 9.04119664286882, 9.025307031380704, 11.072482272963745, 19.926767872339752, 46.74506276290223, 19.545320228214905, 15.64419956471364, 17.686659890300543, 26.684976577312593, 16.75545385439207, 15.857609270714605, 20.005843576274916, 14.174384745186162, 19.444367074611577, 17.785708905421004, 28.187969181757648, 18.19055651733991, 25.345131109981626, 20.258353720668648, 16.270944941026457, 15.149455181940436, 14.042622374859183, 14.291986558646073, 24.581434067616023, 22.245220668582146, 15.991406031560283, 14.812972192806162, 13.793378354338023, 13.821518111489905, 13.769835870495768, 13.746552695896856, 13.60801657376369, 12.285725868984835, 12.134910518962572, 11.601156942193246, 11.547438113013436, 11.512944957982066, 11.006590869195993, 10.596878505728187, 10.380967271374505, 10.20140063812319, 9.797412978657361, 9.62720535370961, 9.538800977365852, 9.431359538468342, 9.17578849226021, 8.741990473775004, 8.686727306701082, 8.697796628492659, 8.830878255099972, 8.532320349713244, 8.393176029204717, 8.390535426594612, 23.586663131674115, 21.923525251397017, 37.12789482556942, 12.42503977021136, 11.677718654081305, 17.49298559084915, 24.39505864696269, 18.920048738531744, 10.894875415652544, 12.905855172996732, 13.031217781260304, 11.63700604773212, 11.543679033800677, 10.90050571557049], \"Term\": [\"college\", \"year\", \"music\", \"education\", \"poorest\", \"challenges\", \"art\", \"autism\", \"congressional\", \"funny\", \"face\", \"exciting\", \"disabilities\", \"wonderful\", \"words\", \"country\", \"creative\", \"district\", \"learn\", \"make\", \"means\", \"people\", \"books\", \"visual\", \"despite\", \"tough\", \"girls\", \"day\", \"arts\", \"general\", \"styles\", \"united\", \"states\", \"computers\", \"budget\", \"immigrants\", \"appreciate\", \"housing\", \"standards\", \"content\", \"schools\", \"items\", \"seating\", \"native\", \"used\", \"varied\", \"recently\", \"close\", \"thank\", \"greatly\", \"purchase\", \"homeless\", \"key\", \"material\", \"increase\", \"financial\", \"feeling\", \"tell\", \"spoken\", \"happen\", \"benefit\", \"limited\", \"access\", \"small\", \"socio\", \"groups\", \"supplies\", \"grades\", \"support\", \"difficult\", \"room\", \"technology\", \"use\", \"need\", \"children\", \"families\", \"english\", \"homes\", \"opportunity\", \"help\", \"reading\", \"books\", \"materials\", \"language\", \"science\", \"level\", \"education\", \"new\", \"grade\", \"come\", \"community\", \"class\", \"work\", \"learning\", \"resources\", \"classroom\", \"special\", \"learn\", \"year\", \"different\", \"needs\", \"love\", \"learners\", \"teacher\", \"day\", \"teach\", \"want\", \"make\", \"high\", \"nmy\", \"price\", \"control\", \"lunches\", \"thirst\", \"eagerness\", \"hopeful\", \"risks\", \"eligible\", \"certainly\", \"seventh\", \"ahead\", \"willingness\", \"heights\", \"ethnically\", \"arrive\", \"educate\", \"prevent\", \"seven\", \"improvements\", \"array\", \"acceptance\", \"earliest\", \"brilliant\", \"passions\", \"clever\", \"spirit\", \"shows\", \"adventure\", \"mistakes\", \"memorable\", \"simple\", \"minute\", \"faced\", \"excellence\", \"face\", \"challenges\", \"passionate\", \"despite\", \"creative\", \"meaningful\", \"reduced\", \"experiences\", \"free\", \"curious\", \"positive\", \"looking\", \"lunch\", \"things\", \"day\", \"obstacles\", \"high\", \"ready\", \"learn\", \"love\", \"classroom\", \"receive\", \"learning\", \"poverty\", \"provide\", \"come\", \"learners\", \"eager\", \"nmy\", \"new\", \"best\", \"work\", \"diverse\", \"want\", \"grade\", \"low\", \"communication\", \"severe\", \"verbal\", \"disorder\", \"instruments\", \"basketball\", \"amaze\", \"kinesthetic\", \"style\", \"disturbance\", \"latin\", \"outlet\", \"auditory\", \"proficiency\", \"mental\", \"forms\", \"nature\", \"nutrition\", \"exhibit\", \"lingual\", \"modalities\", \"gym\", \"photography\", \"therapist\", \"musicians\", \"specifically\", \"expressing\", \"mono\", \"communicating\", \"respond\", \"artists\", \"intellectual\", \"dance\", \"spectrum\", \"music\", \"autism\", \"tactile\", \"visual\", \"delays\", \"expression\", \"health\", \"disorders\", \"diagnosed\", \"art\", \"fitness\", \"arts\", \"team\", \"major\", \"disabilities\", \"sensory\", \"speech\", \"communicate\", \"play\", \"emotional\", \"program\", \"classes\", \"day\", \"needs\", \"learn\", \"skills\", \"learning\", \"congressional\", \"west\", \"generous\", \"athletes\", \"aspects\", \"robotics\", \"melting\", \"succeeds\", \"flatbush\", \"gang\", \"solvers\", \"debate\", \"tough\", \"bigger\", \"seniors\", \"testament\", \"poorest\", \"shoes\", \"direction\", \"humble\", \"gangs\", \"empowering\", \"stopped\", \"dreamers\", \"demographics\", \"tone\", \"heartbreaking\", \"entrepreneurs\", \"questioners\", \"theatre\", \"significantly\", \"learns\", \"college\", \"rest\", \"pot\", \"collaborative\", \"exciting\", \"fact\", \"productive\", \"girls\", \"eighth\", \"country\", \"boys\", \"year\", \"people\", \"education\", \"wonderful\", \"old\", \"ensure\", \"thinkers\", \"district\", \"younger\", \"tomorrow\", \"poetry\", \"taken\", \"magic\", \"fabulous\", \"facts\", \"obstacle\", \"deeper\", \"views\", \"pocket\", \"distance\", \"phenomenal\", \"discovering\", \"regards\", \"optimal\", \"opinions\", \"storage\", \"craving\", \"puppets\", \"discovered\", \"opening\", \"supplying\", \"mothers\", \"geographic\", \"sisters\", \"impacts\", \"literally\", \"beloved\", \"coloring\", \"did\", \"bus\", \"funny\", \"desperate\", \"continually\", \"singing\", \"words\", \"playing\", \"silly\", \"ago\", \"travel\", \"dancing\", \"gifted\", \"art\"], \"Total\": [93.0, 260.0, 98.0, 291.0, 63.0, 194.0, 126.0, 84.0, 52.0, 50.0, 148.0, 71.0, 149.0, 127.0, 59.0, 74.0, 131.0, 142.0, 408.0, 203.0, 73.0, 66.0, 123.0, 56.0, 118.0, 39.0, 68.0, 338.0, 76.0, 110.0, 46.07677557047821, 41.54857664937659, 41.26422723296902, 36.15778532033176, 36.734338165022784, 34.95476048139528, 32.09535130891126, 31.003427963077268, 28.622706582379934, 27.736503485721993, 63.34168645704082, 26.643845615105914, 26.074052439980964, 26.111756706587464, 25.99767498142005, 25.90572029969321, 25.83296654032803, 30.10952949039865, 25.503119382148153, 25.355829680522593, 24.989879289335896, 24.798004505257783, 24.664369360497584, 24.163493708872128, 23.586321494255404, 22.743656105503153, 22.120916711538957, 21.825718759654922, 20.965019881213742, 21.058394090812172, 50.94887875578683, 94.22857155802119, 89.7717015355688, 102.80568256960683, 34.03779058341343, 47.72965946510211, 135.16604973650988, 56.55936504041477, 132.6751000551038, 75.67500789172384, 77.07186922526402, 186.6947344661471, 117.88640371995487, 266.5420412399062, 272.35154169848823, 157.85435034571992, 246.15644432561714, 97.210328429666, 99.15779037296474, 255.21193235268797, 190.68715304430577, 123.39833460235643, 158.90403774028968, 259.5110751792568, 136.44837144703885, 129.98047198096333, 291.1659370883818, 320.3251798708581, 284.0785919617281, 366.8424930776357, 196.57236507950253, 283.9271208387102, 295.6600902930726, 435.15068186769884, 163.14574033925095, 409.0889407102236, 245.40871834280307, 408.50503871147754, 260.2627474035942, 202.33201113034906, 249.49495112971695, 315.23302397234795, 245.04721893677387, 203.38433678158378, 338.74222757720395, 223.84292125691232, 235.68370264568838, 203.22324523731393, 244.9975849775231, 207.77883394362226, 53.80475737287258, 42.02758712297241, 27.802503405016243, 25.24456821424415, 24.98961457161394, 21.754245325875473, 20.334045912442296, 20.981409470632922, 19.67140835931653, 19.861643575170834, 19.05920352803284, 19.27055725563289, 18.333349264964333, 18.333037908412585, 17.459688478194295, 17.932997129072902, 16.72945959300271, 16.652068969131967, 15.891957589193336, 16.134504685167382, 15.380700415358387, 14.583503659640934, 14.22803943111407, 13.980232068941712, 13.836245494801672, 14.625893501628488, 14.36242779336011, 14.081443023863706, 13.328700059510645, 13.145326695169452, 39.100574567564855, 24.34037654904103, 74.06167954730151, 31.64136318271602, 148.5489268156623, 194.34285905846158, 39.022084932521054, 118.69607445436408, 131.88166310270034, 60.7805415387673, 101.7897126482903, 133.47819618066902, 203.17207753924598, 94.46369642344678, 84.86301236852685, 78.43499045516857, 187.31798240784337, 131.27562844692858, 338.74222757720395, 50.835951057898086, 244.9975849775231, 126.1805028709991, 408.50503871147754, 315.23302397234795, 409.0889407102236, 158.3309610068283, 435.15068186769884, 180.03280994598452, 172.88249484838195, 366.8424930776357, 245.04721893677387, 214.54200268612672, 207.77883394362226, 320.3251798708581, 202.13455152184207, 295.6600902930726, 210.42856217224673, 235.68370264568838, 284.0785919617281, 187.4948065072813, 35.13468644372429, 25.45936088593095, 23.69241902408235, 22.522473156808132, 22.282358326049582, 20.763663038046595, 19.984648650299896, 18.21547211165597, 17.408609304202297, 16.277830420706792, 14.89394559813512, 14.465433655531886, 14.01699021474128, 14.634080641383743, 13.85616167840267, 13.809823904574538, 13.185378958914525, 12.617759771936285, 12.822842374223535, 12.35517291106526, 11.98815079152783, 12.04051175994603, 11.996757967636977, 11.787512855292423, 11.762394194858071, 11.75106204973541, 11.365332880491094, 10.837849151877014, 10.977900670171293, 10.892652605307525, 25.34347842134264, 27.196358012740244, 30.382226876225477, 45.52381602113473, 98.3813776215561, 84.36868733412149, 20.685284249546985, 56.4252810566709, 30.420816721028842, 16.293943972850542, 36.81292243402472, 24.742948110618407, 27.612111380876765, 126.76603786148151, 20.89824913782718, 76.95180843199482, 55.540194636140995, 25.166616664373894, 149.6613886943399, 35.40761389120222, 70.00974305976929, 27.387776538543196, 88.61175867496424, 78.86934865443416, 110.12908932193096, 98.40730498733063, 338.74222757720395, 249.49495112971695, 408.50503871147754, 158.86407023502798, 435.15068186769884, 52.324298071992416, 20.98393827221548, 20.450554249615276, 20.113363317560186, 18.63081243543294, 18.133668459398354, 17.74314508129386, 17.28052069818155, 14.956992567802612, 14.47117250042122, 14.288081235725626, 13.595479550674586, 39.39731969703569, 13.234692178018067, 12.65567523118332, 12.309942669851512, 63.29427674685795, 11.68839677607735, 11.64117014895314, 11.337303946538588, 11.439392906916266, 10.728496027137775, 10.313658262250051, 10.277083059634208, 10.211961863749382, 10.210182853703895, 10.051757278271218, 9.99362839225065, 9.951701548974016, 9.938630876451189, 12.625557097884917, 27.069318252466438, 93.37133966938914, 31.100902869016387, 23.431350287559376, 32.91885335552708, 71.51286899765643, 33.29425932843787, 34.86320218840637, 68.3732201159487, 26.577692907654722, 74.45590735153726, 57.794051164138175, 260.2627474035942, 66.12355122404287, 291.1659370883818, 127.0201381692738, 77.28166921176806, 53.34294576725622, 36.435264381863725, 142.8018399951482, 25.44828631377016, 23.132871437078737, 16.855872649897048, 15.686406097216025, 14.653460064259058, 14.685771414516287, 14.636394293661636, 14.616634169515276, 14.481434337037982, 13.151876386516374, 13.003078555418877, 12.467375762076141, 12.413260572300022, 12.381398529495877, 11.869854416197537, 11.46006188503729, 11.247763566849555, 11.065291732439864, 10.659707801213067, 10.482982005703605, 10.404529189010963, 10.300972466103508, 10.03810487540374, 9.598441890901917, 9.543635259821826, 9.556925914969165, 9.705722165451265, 9.394376257551745, 9.248038110356353, 9.250041795773866, 26.928389581290272, 26.10159246416627, 50.811462644451574, 15.319147986512775, 14.613293294605274, 28.429581430541138, 59.006395491500804, 44.23803298848375, 14.628269490401781, 23.29889448207293, 25.84445180027422, 21.89130673615881, 32.62970385291971, 126.76603786148151], \"loglift\": [30.0, 29.0, 28.0, 27.0, 26.0, 25.0, 24.0, 23.0, 22.0, 21.0, 20.0, 19.0, 18.0, 17.0, 16.0, 15.0, 14.0, 13.0, 12.0, 11.0, 10.0, 9.0, 8.0, 7.0, 6.0, 5.0, 4.0, 3.0, 2.0, 1.0, 0.5042, 0.5021, 0.5019, 0.4985, 0.4985, 0.4957, 0.495, 0.4936, 0.4912, 0.49, 0.4888, 0.4884, 0.4878, 0.4876, 0.4874, 0.4871, 0.487, 0.487, 0.4868, 0.4865, 0.4858, 0.485, 0.4843, 0.484, 0.4824, 0.4817, 0.4804, 0.4798, 0.4778, 0.4773, 0.4734, 0.4606, 0.4543, 0.4514, 0.4698, 0.4551, 0.409, 0.4465, 0.3972, 0.4276, 0.4253, 0.3613, 0.3773, 0.3116, 0.3075, 0.3507, 0.3015, 0.3802, 0.3755, 0.2876, 0.3121, 0.3451, 0.3158, 0.2497, 0.3235, 0.3269, 0.215, 0.187, 0.2021, 0.1581, 0.2571, 0.1977, 0.1728, 0.0967, 0.2734, 0.0773, 0.1819, 0.0686, 0.125, 0.1905, 0.1191, 0.0248, 0.0713, 0.1404, -0.1057, 0.0782, 0.0413, 0.1265, -0.006, 0.0967, 1.4848, 1.4793, 1.4661, 1.4635, 1.4621, 1.4571, 1.4533, 1.453, 1.4519, 1.4516, 1.4504, 1.4489, 1.4473, 1.4457, 1.443, 1.4428, 1.4416, 1.4406, 1.4392, 1.4377, 1.4367, 1.4339, 1.4309, 1.4306, 1.4288, 1.4288, 1.4287, 1.4276, 1.4259, 1.4246, 1.365, 1.3866, 1.3055, 1.3458, 1.1698, 1.1348, 1.3174, 1.1716, 1.1542, 1.2264, 1.0759, 0.9812, 0.7612, 0.965, 0.992, 1.01, 0.7478, 0.7917, 0.4499, 1.1029, 0.522, 0.7669, 0.3148, 0.4065, 0.2969, 0.6656, 0.2565, 0.5628, 0.5427, 0.1803, 0.3616, 0.408, 0.3495, 0.0467, 0.364, 0.0871, 0.3304, 0.2449, 0.0494, 0.4065, 2.3669, 2.3609, 2.3585, 2.3555, 2.3538, 2.3523, 2.349, 2.3454, 2.3416, 2.339, 2.3322, 2.3305, 2.3286, 2.3266, 2.3257, 2.3248, 2.3225, 2.32, 2.3197, 2.3187, 2.3162, 2.316, 2.3153, 2.3149, 2.3142, 2.3129, 2.3112, 2.3075, 2.3071, 2.306, 2.3013, 2.2573, 2.2373, 2.1492, 2.0285, 2.0369, 2.2089, 1.9701, 2.1096, 2.2259, 1.9672, 2.0941, 2.041, 1.4701, 2.1208, 1.5316, 1.6567, 2.0281, 1.0678, 1.8322, 1.4045, 1.9479, 1.1944, 1.254, 0.8896, 0.9714, -0.1349, 0.1138, -0.3878, 0.3356, -0.6686, 2.9079, 2.8802, 2.879, 2.8784, 2.874, 2.8738, 2.8729, 2.8719, 2.8623, 2.8602, 2.8586, 2.8559, 2.8557, 2.8538, 2.8508, 2.8494, 2.8462, 2.8441, 2.8438, 2.8419, 2.8416, 2.8368, 2.8337, 2.8328, 2.8318, 2.8317, 2.8308, 2.8304, 2.8295, 2.829, 2.7942, 2.6191, 2.2336, 2.4609, 2.5215, 2.3042, 1.9397, 2.2388, 2.1377, 1.6965, 2.2968, 1.5828, 1.7469, 0.7026, 1.6348, 0.4841, 1.0897, 1.3674, 1.6667, 1.972, 0.6237, 3.1156, 3.1111, 3.0976, 3.093, 3.0898, 3.0896, 3.0892, 3.0889, 3.088, 3.0821, 3.0812, 3.0782, 3.078, 3.0775, 3.0747, 3.0719, 3.0701, 3.069, 3.0659, 3.0651, 3.0634, 3.0621, 3.0604, 3.0568, 3.0562, 3.0561, 3.0558, 3.054, 3.0533, 3.0527, 3.0178, 2.9758, 2.8365, 2.9409, 2.926, 2.6646, 2.267, 2.3009, 2.8556, 2.5595, 2.4655, 2.5184, 2.1112, 0.6967], \"logprob\": [30.0, 29.0, 28.0, 27.0, 26.0, 25.0, 24.0, 23.0, 22.0, 21.0, 20.0, 19.0, 18.0, 17.0, 16.0, 15.0, 14.0, 13.0, 12.0, 11.0, 10.0, 9.0, 8.0, 7.0, 6.0, 5.0, 4.0, 3.0, 2.0, 1.0, -6.8434, -6.949, -6.956, -7.0915, -7.0757, -7.1282, -7.2142, -7.2502, -7.3325, -7.3652, -6.5405, -7.407, -7.4292, -7.4279, -7.4325, -7.4363, -7.4392, -7.2861, -7.4523, -7.4584, -7.4737, -7.4821, -7.4883, -7.5091, -7.5348, -7.5719, -7.601, -7.615, -7.6573, -7.6533, -6.7737, -6.1715, -6.2263, -6.0936, -7.1806, -6.8573, -5.8625, -6.6961, -5.8928, -6.4239, -6.4079, -5.5871, -6.0309, -5.2807, -5.2633, -5.7656, -5.3704, -6.2209, -6.2057, -5.3482, -5.6152, -6.0174, -5.7938, -5.3694, -5.9385, -5.9837, -5.2891, -5.2215, -5.3266, -5.1149, -5.6398, -5.3315, -5.3159, -5.0055, -5.8099, -5.0867, -5.4931, -5.0968, -5.4912, -5.6775, -5.5394, -5.3998, -5.6052, -5.7224, -5.4584, -5.6888, -5.6741, -5.7371, -5.6826, -5.7448, -5.7078, -5.9603, -6.3867, -6.4858, -6.4974, -6.641, -6.7123, -6.6813, -6.7468, -6.7375, -6.78, -6.7704, -6.8219, -6.8235, -6.875, -6.8484, -6.9192, -6.9248, -6.9729, -6.9592, -7.0081, -7.0641, -7.0917, -7.1096, -7.1218, -7.0663, -7.0846, -7.1055, -7.162, -7.1773, -6.1467, -6.5991, -5.5675, -6.3777, -5.0072, -4.7735, -6.1964, -5.2298, -5.1418, -5.8443, -5.4791, -5.3028, -5.1027, -5.6647, -5.7449, -5.8056, -5.1973, -5.5089, -4.9028, -6.1464, -5.1546, -5.5733, -4.8506, -5.0181, -4.8671, -5.4476, -4.8457, -5.4219, -5.4826, -5.0926, -5.3149, -5.4014, -5.4919, -5.3618, -5.5049, -5.4016, -5.4983, -5.4705, -5.4793, -5.5376, -5.2518, -5.58, -5.6543, -5.7079, -5.7203, -5.7924, -5.8339, -5.9302, -5.9793, -6.0491, -6.1448, -6.1757, -6.2091, -6.1679, -6.2235, -6.2278, -6.2763, -6.3228, -6.3069, -6.3451, -6.3777, -6.3736, -6.3779, -6.3959, -6.3988, -6.401, -6.4362, -6.4874, -6.4749, -6.4839, -5.6441, -5.6175, -5.5267, -5.2105, -4.5606, -4.7058, -5.9396, -5.1749, -5.6532, -6.1612, -5.6049, -5.8752, -5.8186, -4.8654, -6.0175, -5.3031, -5.5041, -5.9243, -5.1018, -5.7788, -5.5248, -5.9199, -5.4993, -5.5561, -5.5867, -5.6173, -5.4875, -5.5447, -5.5532, -5.7743, -5.7708, -4.3126, -5.2539, -5.2809, -5.2981, -5.3791, -5.4064, -5.429, -5.4564, -5.6105, -5.6456, -5.6599, -5.7123, -4.6485, -5.7413, -5.789, -5.8181, -4.1839, -5.8753, -5.8796, -5.9079, -5.8993, -5.9682, -6.0107, -6.0152, -6.0225, -6.0228, -6.0394, -6.0455, -6.0507, -6.0524, -5.848, -5.2604, -4.4078, -5.2797, -5.5024, -5.3797, -4.9684, -5.4338, -5.4888, -5.2565, -5.601, -5.2849, -5.3741, -4.9136, -5.3516, -5.0199, -5.2439, -5.4631, -5.5345, -5.6104, -5.5928, -4.8257, -4.9255, -5.2556, -5.3322, -5.4035, -5.4014, -5.4052, -5.4069, -5.417, -5.5192, -5.5316, -5.5766, -5.5812, -5.5842, -5.6292, -5.6671, -5.6877, -5.7051, -5.7455, -5.7631, -5.7723, -5.7836, -5.8111, -5.8595, -5.8659, -5.8646, -5.8494, -5.8838, -5.9002, -5.9006, -4.867, -4.9401, -4.4133, -5.5079, -5.57, -5.1659, -4.8333, -5.0874, -5.6394, -5.47, -5.4603, -5.5735, -5.5815, -5.6388]}, \"token.table\": {\"Topic\": [2, 1, 2, 2, 1, 5, 2, 3, 1, 2, 2, 1, 2, 3, 5, 3, 5, 1, 2, 3, 4, 4, 3, 1, 2, 3, 3, 5, 1, 2, 1, 2, 3, 4, 1, 2, 5, 1, 2, 3, 4, 5, 2, 1, 1, 5, 2, 1, 2, 1, 2, 3, 1, 2, 3, 4, 5, 1, 2, 3, 4, 5, 1, 2, 3, 4, 2, 1, 1, 2, 4, 1, 2, 4, 5, 1, 2, 3, 4, 5, 1, 3, 3, 3, 1, 2, 1, 4, 1, 3, 5, 2, 1, 2, 4, 5, 1, 2, 1, 2, 2, 3, 3, 5, 1, 2, 3, 4, 5, 4, 5, 2, 3, 4, 2, 5, 1, 2, 1, 3, 3, 5, 1, 2, 3, 1, 2, 4, 1, 2, 3, 5, 5, 3, 1, 2, 3, 5, 1, 2, 4, 3, 1, 2, 3, 5, 4, 1, 2, 3, 2, 2, 2, 1, 2, 3, 4, 5, 2, 4, 2, 1, 2, 3, 5, 4, 1, 2, 3, 1, 2, 3, 4, 4, 2, 2, 4, 1, 2, 4, 3, 1, 2, 3, 3, 3, 5, 5, 1, 2, 1, 2, 1, 4, 5, 1, 2, 1, 1, 1, 3, 4, 3, 1, 2, 3, 2, 5, 4, 4, 1, 2, 4, 5, 4, 5, 2, 5, 1, 2, 4, 5, 1, 2, 3, 1, 2, 1, 1, 2, 3, 1, 1, 3, 4, 2, 1, 2, 3, 1, 2, 3, 4, 5, 1, 1, 2, 2, 1, 4, 1, 5, 2, 1, 3, 2, 3, 1, 1, 3, 1, 2, 3, 3, 1, 2, 3, 1, 2, 3, 1, 2, 3, 4, 5, 1, 4, 1, 2, 1, 2, 3, 5, 1, 2, 1, 2, 3, 4, 5, 1, 2, 1, 2, 3, 2, 5, 1, 3, 1, 2, 4, 1, 1, 2, 1, 2, 1, 2, 4, 4, 2, 3, 2, 5, 2, 3, 3, 5, 1, 2, 3, 3, 1, 3, 1, 2, 3, 4, 1, 2, 3, 4, 1, 2, 3, 5, 1, 2, 3, 3, 5, 1, 2, 1, 2, 3, 4, 5, 5, 1, 2, 5, 3, 2, 4, 2, 1, 2, 4, 5, 3, 1, 2, 3, 1, 2, 3, 5, 5, 5, 2, 4, 1, 2, 4, 4, 5, 1, 2, 2, 2, 1, 2, 4, 3, 1, 2, 3, 1, 2, 3, 5, 1, 4, 1, 2, 5, 1, 2, 3, 1, 2, 1, 1, 2, 5, 1, 2, 3, 3, 1, 4, 2, 4, 1, 2, 5, 1, 2, 1, 2, 3, 5, 1, 4, 1, 3, 2, 2, 3, 4, 2, 2, 4, 2, 5, 1, 2, 3, 5, 5, 1, 2, 3, 1, 2, 1, 2, 4, 1, 2, 3, 4, 5, 3, 1, 2, 3, 1, 2, 3, 2, 1, 1, 1, 4, 5, 3, 1, 4, 1, 2, 3, 4, 5, 1, 2, 1, 3, 5, 1, 2, 3, 4, 5, 1, 2, 3, 5, 1, 2, 3, 1, 2, 3, 1, 4, 1, 4, 3, 1, 2, 1, 2, 4, 2, 5, 4, 4, 5, 1, 2, 5, 1, 1, 2, 3, 1, 1, 3, 5, 1, 3, 1, 2, 3, 4, 4, 2, 1, 2, 3, 4, 1, 2, 3, 5, 1, 2, 3, 4, 5, 1, 2, 3, 4, 5], \"Freq\": [0.9102316293749737, 0.9245675260718351, 0.05569683891999007, 0.9232008380085057, 0.42920491389384957, 0.5579663880620045, 0.9444256142983661, 0.9507297492425457, 0.9658719638751193, 0.9296845668767046, 0.9163966481980864, 0.45753579569456265, 0.05521983741141274, 0.39442741008151955, 0.0867740302179343, 0.9075313032259569, 0.0789157654979093, 0.4288398242019657, 0.1429466080673219, 0.41584467801402736, 0.966141442429358, 0.9446455920881143, 0.9274458925089539, 0.24890751134760047, 0.04741095454240009, 0.6993115795004013, 0.9632211793917439, 0.8650483383109391, 0.9421208311585877, 0.03925503463160782, 0.6480831654643888, 0.3215679828640097, 0.029683198418216282, 0.9067079036361112, 0.8346952196065789, 0.0891422079191492, 0.07293453375203117, 0.3287535588401476, 0.19033100774955913, 0.10381691331794135, 0.31145073995382405, 0.06921127554529423, 0.9136887807304936, 0.9800094897116727, 0.1149355160654879, 0.8428604511469112, 0.9658688210293522, 0.30358717724869844, 0.6895030805309422, 0.8041078035917563, 0.16155590574446246, 0.033045526175003684, 0.7184942368217293, 0.20779980378667662, 0.0493084280171775, 0.007044061145311071, 0.014088122290622142, 0.49793051447053105, 0.18291325021366447, 0.2438843336182193, 0.03048554170227741, 0.040647388936369884, 0.6380030698138042, 0.2982236571543453, 0.044000211711296845, 0.017111193443282106, 0.9395612418762118, 0.9631502215684753, 0.39491047454170514, 0.06075545762180079, 0.5467991185962071, 0.3320076600567726, 0.16064886776940612, 0.5033664523441391, 0.8648609570234611, 0.6923952508038522, 0.26714462432589575, 0.027259655543458747, 0.0109038622173835, 0.00545193110869175, 0.32861375173461693, 0.6207148643876097, 0.9109209766464361, 0.9677046657142726, 0.7630777598841698, 0.2340105130311454, 0.9679796395140182, 0.974690571669584, 0.9734464192250791, 0.13686168885273323, 0.8211701331163994, 0.9755496997730158, 0.6178153169608812, 0.12087690984017241, 0.255184587440364, 0.9381120183108591, 0.2881371003822436, 0.7051776404091751, 0.41285701784500395, 0.5822342559352619, 0.1316559189784096, 0.8557634733596624, 0.456802333479827, 0.5481628001757924, 0.5313775058026255, 0.34834747602616567, 0.07970662587039383, 0.02656887529013128, 0.011808389017836124, 0.9562001804750581, 0.966755065428384, 0.23010559066157962, 0.7560612264594759, 0.881319389954674, 0.13055556364889434, 0.783333381893366, 0.27802098891389826, 0.7161146684145865, 0.2897279345881726, 0.68810384464691, 0.11140658786682094, 0.8912527029345675, 0.7166438923329148, 0.19769486685045926, 0.0840203184114452, 0.9117937602163918, 0.07928641393186016, 0.9449221907463659, 0.527858258494081, 0.20045250322560038, 0.2672700043008005, 0.9611198948398147, 0.969195844186157, 0.9768021409917765, 0.1616622231965723, 0.08083111159828615, 0.7274800043845754, 0.9625120978949052, 0.539208738505163, 0.35713825537354954, 0.09803795245548418, 0.9214987263240387, 0.6082824435934954, 0.30889342838732187, 0.047522065905741824, 0.03801765272459346, 0.8757348702716757, 0.6012808605535672, 0.3355986198438515, 0.060594195249584294, 0.9603989661874154, 0.9599887877934471, 0.9479731624135304, 0.7315416155130298, 0.15111657785245686, 0.010303403035394785, 0.08586169196162322, 0.02060680607078957, 0.45150645850617993, 0.5267575349238767, 0.9532248073225694, 0.5198470723987006, 0.12679196887773186, 0.3169799221943297, 0.025358393775546374, 0.9320970968069484, 0.8003040527324455, 0.15031091345736286, 0.0487494854456312, 0.35618580351561446, 0.224959454851967, 0.13122634866364744, 0.2811993185649588, 0.9005738103068612, 0.9272876696665266, 0.8533134253440968, 0.126416803754681, 0.3495874288139563, 0.2656864458986068, 0.37755442311907284, 0.935829954840776, 0.3296418535686827, 0.591856964361953, 0.07491860308379153, 0.8798686413457607, 0.8592149342925949, 0.12274499061322783, 0.9533036845556216, 0.2760033403060382, 0.713569611522928, 0.17552937064703206, 0.8236378161129966, 0.48056332601259594, 0.5105985338883832, 0.9565197356061096, 0.8362138877446469, 0.1583738423758801, 0.9493277459448933, 0.9673027018148056, 0.19140359432119805, 0.7656143772847922, 0.9360170459760275, 0.9413588536558904, 0.48727168220680595, 0.4774278098389917, 0.029531617103442785, 0.2558477816504964, 0.7281821477744898, 0.9674406133706508, 0.9615894907630449, 0.7484552736704573, 0.09919286759487989, 0.09919286759487989, 0.045087667088581765, 0.9779686044634339, 0.9430368779797672, 0.6129384468259708, 0.3677630680955824, 0.3363890125548589, 0.32176340331334335, 0.2925121848303121, 0.05850243696606242, 0.7216312872587675, 0.23233007297111538, 0.04224183144929371, 0.9193879733770552, 0.05304161384867626, 0.946527891313133, 0.9218586617440865, 0.041902666442913024, 0.9135824306565277, 0.9497400378087733, 0.3259724902717551, 0.6519449805435102, 0.8953658301574003, 0.9272719214752315, 0.787580730050779, 0.1606507956819997, 0.050938057167463316, 0.5877608957378541, 0.3755139056102957, 0.0040816728870684315, 0.024490037322410587, 0.012245018661205294, 0.9678198096508699, 0.8641057113676558, 0.12344367305252225, 0.9653288213598318, 0.9676349349409918, 0.8820439186560856, 0.9726858239551246, 0.9272880313879814, 0.943873649033655, 0.9751414609353898, 0.9424496138476322, 0.11030888763100698, 0.8824711010480558, 0.9758351093754694, 0.9730635983111071, 0.933272544120435, 0.7591198173870715, 0.18110980414818456, 0.05780100132388869, 0.9399792625637727, 0.6315711571484984, 0.30354582746672015, 0.06119875553764519, 0.6325311532712905, 0.31830599971071394, 0.04488930765151094, 0.6503494347873778, 0.2872568174855909, 0.045961090797694545, 0.004596109079769454, 0.011490272699423636, 0.22165316259685655, 0.7388438753228551, 0.8155071172193046, 0.17694965750984912, 0.9338993316460714, 0.05306246202534497, 0.8903153423412172, 0.9580199635675948, 0.3824823567378035, 0.6119717707804856, 0.6059009858584943, 0.3330869293986487, 0.04123933411602317, 0.006344512940926642, 0.012689025881853284, 0.6613516518666052, 0.3360093069967429, 0.4964819650764395, 0.469789386308889, 0.032031094521060614, 0.9711355703000669, 0.9554057498097055, 0.27814624799801824, 0.6754980308523301, 0.6692147831867659, 0.2607969375654308, 0.0639690601575585, 0.9518491107747002, 0.811810711889119, 0.1825000825177089, 0.2303368750189641, 0.7568211607765963, 0.7896049172802627, 0.01361387788414246, 0.176980412493852, 0.9581164963771085, 0.9128719489649255, 0.9382107615172279, 0.9038479727572976, 0.08216799752339068, 0.9003128546986429, 0.9175727091933005, 0.9226923035986428, 0.9376521837915003, 0.2032905056171713, 0.10164525280858565, 0.6911877190983824, 0.9351837574707917, 0.9574231362876099, 0.9100989844426808, 0.8066269733654706, 0.12005610766369795, 0.030014026915924488, 0.04126928700939617, 0.665344125195117, 0.22445343982485877, 0.10020242849324051, 0.008016194279459241, 0.7117767017001916, 0.23413707292769462, 0.03434010402939521, 0.021852793473251496, 0.6497293176485448, 0.31764544418373303, 0.03368966832251714, 0.951040455429317, 0.9578128478578646, 0.314737890548704, 0.668818017415996, 0.3234919775282639, 0.2717332611237417, 0.19409518651695837, 0.20703486561808893, 0.873703917723836, 0.8890656298531133, 0.8572195858770886, 0.13110417195767238, 0.9598552006391899, 0.8986941082840283, 0.8200484432171168, 0.1537590831032094, 0.9298844207944601, 0.5444353688449541, 0.16635525159151376, 0.27221768442247707, 0.9667081368434168, 0.9169143888435627, 0.5304036473579106, 0.15799257580873932, 0.3046999676311401, 0.2938647838023047, 0.1356299002164483, 0.1356299002164483, 0.42949468401875296, 0.9228583791796862, 0.9492240676188144, 0.0631968671669602, 0.9163545739209229, 0.318159811282088, 0.6009685324217217, 0.07070218028490843, 0.6828458370363328, 0.2987450537033956, 0.605445196532251, 0.3888180161216291, 0.9563967031363156, 0.9850430071211821, 0.4589366149883025, 0.057367076873537814, 0.4589366149883025, 0.9566709616461573, 0.6265374609454746, 0.15436430197207343, 0.217926073372339, 0.5726432863363238, 0.3817621908908825, 0.04048992933691178, 0.9539270404698946, 0.960388792683832, 0.9043679571487819, 0.807605533678603, 0.16256994509114733, 0.026220958885668926, 0.49135958875822383, 0.4755092794434424, 0.02377546397217212, 0.5621136853717558, 0.4294801191604426, 0.9677556761037227, 0.3438461421041046, 0.6483955822534544, 0.9267173475177136, 0.7784450868034419, 0.16549619955663725, 0.055165399852212416, 0.9180500253104029, 0.3536874812389616, 0.6430681477072029, 0.9343934838060929, 0.9374826741794325, 0.9082431852717298, 0.07784941588043398, 0.012974902646738997, 0.9630308792199749, 0.03157478292524508, 0.8134945021537586, 0.10993168948023765, 0.02931511719473004, 0.05130145509077757, 0.9588076137204491, 0.9481912091448309, 0.4236376968549997, 0.5648502624733329, 0.9608415644722159, 0.9566177103163819, 0.9426788090844259, 0.9411042601251959, 0.9051394504493193, 0.07920442577282581, 0.871248683501084, 0.2050823579623294, 0.7519686458618745, 0.10230028699675744, 0.8695524394724383, 0.35174629723029505, 0.5979687052915016, 0.9417254125516613, 0.7427733648359096, 0.12589379065015416, 0.12589379065015416, 0.9240734327665028, 0.0680896213617423, 0.9401315259161843, 0.02937911018488076, 0.9098492502614743, 0.709021265320107, 0.2200410823407229, 0.020374174290807675, 0.036673513723453816, 0.012224504574484605, 0.9360856025985906, 0.1537656684305684, 0.04393304812301954, 0.768828342152842, 0.32852570220639504, 0.2856745236577348, 0.3713768807550553, 0.9572064775694696, 0.9539699992329378, 0.9782443152052129, 0.9693626339872679, 0.8726292622028897, 0.9037267377852523, 0.9190854777892987, 0.9766308393513519, 0.925898025843845, 0.887796900434138, 0.08138138253979599, 0.0073983075036178165, 0.014796615007235633, 0.8965835794416338, 0.8818534898515736, 0.11305813972456073, 0.14503063935733448, 0.8218402896915621, 0.9562419783752859, 0.6388408406977226, 0.23230576025371732, 0.07594611392909989, 0.026804510798505845, 0.026804510798505845, 0.6785183273390389, 0.2851743694613352, 0.019667197893885185, 0.014750398420413889, 0.43211947954504953, 0.09002489157188533, 0.4681294361738037, 0.8463013188443713, 0.06427604953248389, 0.0857013993766452, 0.9621676257837029, 0.8935866149027879, 0.9802722414223443, 0.9055573259416243, 0.9331909228893149, 0.502758971949482, 0.4875238515873766, 0.192121564609378, 0.41168906702009567, 0.384243129218756, 0.9506995642119199, 0.9510276344136463, 0.881472949990814, 0.9391501829192693, 0.050764874752392934, 0.34823721816782766, 0.15477209696347896, 0.5030093151313066, 0.986796740258855, 0.8652397289369025, 0.0254482273216736, 0.1017929092866944, 0.9616244536431405, 0.9650378260393734, 0.9707746590426863, 0.9124173347844642, 0.3367284955287559, 0.6557344386612615, 0.6152313391731783, 0.28427930844553756, 0.04667272228210318, 0.05091569703502165, 0.953109932966287, 0.9340674356855196, 0.55896648376639, 0.25192855606372505, 0.023618302130974225, 0.15745534753982818, 0.3897882561444189, 0.0677892619381598, 0.1355785238763196, 0.40673557162895885, 0.7035105745716993, 0.2435228911978959, 0.006764524755497109, 0.040587148532982655, 0.010146787133245664, 0.6685551495011887, 0.1729021938365143, 0.046107251689737144, 0.10758358727605334, 0.9823844203793167], \"Term\": [\"acceptance\", \"access\", \"access\", \"adventure\", \"ago\", \"ago\", \"ahead\", \"amaze\", \"appreciate\", \"array\", \"arrive\", \"art\", \"art\", \"art\", \"art\", \"artists\", \"artists\", \"arts\", \"arts\", \"arts\", \"aspects\", \"athletes\", \"auditory\", \"autism\", \"autism\", \"autism\", \"basketball\", \"beloved\", \"benefit\", \"benefit\", \"best\", \"best\", \"best\", \"bigger\", \"books\", \"books\", \"books\", \"boys\", \"boys\", \"boys\", \"boys\", \"boys\", \"brilliant\", \"budget\", \"bus\", \"bus\", \"certainly\", \"challenges\", \"challenges\", \"children\", \"children\", \"children\", \"class\", \"class\", \"class\", \"class\", \"class\", \"classes\", \"classes\", \"classes\", \"classes\", \"classes\", \"classroom\", \"classroom\", \"classroom\", \"classroom\", \"clever\", \"close\", \"collaborative\", \"collaborative\", \"collaborative\", \"college\", \"college\", \"college\", \"coloring\", \"come\", \"come\", \"come\", \"come\", \"come\", \"communicate\", \"communicate\", \"communicating\", \"communication\", \"community\", \"community\", \"computers\", \"congressional\", \"content\", \"continually\", \"continually\", \"control\", \"country\", \"country\", \"country\", \"craving\", \"creative\", \"creative\", \"curious\", \"curious\", \"dance\", \"dance\", \"dancing\", \"dancing\", \"day\", \"day\", \"day\", \"day\", \"day\", \"debate\", \"deeper\", \"delays\", \"delays\", \"demographics\", \"desperate\", \"desperate\", \"despite\", \"despite\", \"diagnosed\", \"diagnosed\", \"did\", \"did\", \"different\", \"different\", \"different\", \"difficult\", \"difficult\", \"direction\", \"disabilities\", \"disabilities\", \"disabilities\", \"discovered\", \"discovering\", \"disorder\", \"disorders\", \"disorders\", \"disorders\", \"distance\", \"district\", \"district\", \"district\", \"disturbance\", \"diverse\", \"diverse\", \"diverse\", \"diverse\", \"dreamers\", \"eager\", \"eager\", \"eager\", \"eagerness\", \"earliest\", \"educate\", \"education\", \"education\", \"education\", \"education\", \"education\", \"eighth\", \"eighth\", \"eligible\", \"emotional\", \"emotional\", \"emotional\", \"emotional\", \"empowering\", \"english\", \"english\", \"english\", \"ensure\", \"ensure\", \"ensure\", \"ensure\", \"entrepreneurs\", \"ethnically\", \"excellence\", \"excellence\", \"exciting\", \"exciting\", \"exciting\", \"exhibit\", \"experiences\", \"experiences\", \"experiences\", \"expressing\", \"expression\", \"expression\", \"fabulous\", \"face\", \"face\", \"faced\", \"faced\", \"fact\", \"fact\", \"facts\", \"families\", \"families\", \"feeling\", \"financial\", \"fitness\", \"fitness\", \"flatbush\", \"forms\", \"free\", \"free\", \"free\", \"funny\", \"funny\", \"gang\", \"gangs\", \"general\", \"general\", \"general\", \"general\", \"generous\", \"geographic\", \"gifted\", \"gifted\", \"girls\", \"girls\", \"girls\", \"girls\", \"grade\", \"grade\", \"grade\", \"grades\", \"grades\", \"greatly\", \"groups\", \"groups\", \"gym\", \"happen\", \"health\", \"health\", \"heartbreaking\", \"heights\", \"help\", \"help\", \"help\", \"high\", \"high\", \"high\", \"high\", \"high\", \"homeless\", \"homes\", \"homes\", \"hopeful\", \"housing\", \"humble\", \"immigrants\", \"impacts\", \"improvements\", \"increase\", \"instruments\", \"intellectual\", \"intellectual\", \"items\", \"key\", \"kinesthetic\", \"language\", \"language\", \"language\", \"latin\", \"learn\", \"learn\", \"learn\", \"learners\", \"learners\", \"learners\", \"learning\", \"learning\", \"learning\", \"learning\", \"learning\", \"learns\", \"learns\", \"level\", \"level\", \"limited\", \"limited\", \"lingual\", \"literally\", \"looking\", \"looking\", \"love\", \"love\", \"love\", \"love\", \"love\", \"low\", \"low\", \"lunch\", \"lunch\", \"lunch\", \"lunches\", \"magic\", \"major\", \"major\", \"make\", \"make\", \"make\", \"material\", \"materials\", \"materials\", \"meaningful\", \"meaningful\", \"means\", \"means\", \"means\", \"melting\", \"memorable\", \"mental\", \"minute\", \"minute\", \"mistakes\", \"modalities\", \"mono\", \"mothers\", \"music\", \"music\", \"music\", \"musicians\", \"native\", \"nature\", \"need\", \"need\", \"need\", \"need\", \"needs\", \"needs\", \"needs\", \"needs\", \"new\", \"new\", \"new\", \"new\", \"nmy\", \"nmy\", \"nmy\", \"nutrition\", \"obstacle\", \"obstacles\", \"obstacles\", \"old\", \"old\", \"old\", \"old\", \"opening\", \"opinions\", \"opportunity\", \"opportunity\", \"optimal\", \"outlet\", \"passionate\", \"passionate\", \"passions\", \"people\", \"people\", \"people\", \"phenomenal\", \"photography\", \"play\", \"play\", \"play\", \"playing\", \"playing\", \"playing\", \"playing\", \"pocket\", \"poetry\", \"poorest\", \"poorest\", \"positive\", \"positive\", \"positive\", \"pot\", \"pot\", \"poverty\", \"poverty\", \"prevent\", \"price\", \"productive\", \"productive\", \"productive\", \"proficiency\", \"program\", \"program\", \"program\", \"provide\", \"provide\", \"provide\", \"puppets\", \"purchase\", \"questioners\", \"reading\", \"reading\", \"reading\", \"ready\", \"ready\", \"ready\", \"receive\", \"receive\", \"recently\", \"reduced\", \"reduced\", \"regards\", \"resources\", \"resources\", \"resources\", \"respond\", \"rest\", \"rest\", \"risks\", \"robotics\", \"room\", \"room\", \"room\", \"schools\", \"schools\", \"science\", \"science\", \"science\", \"science\", \"seating\", \"seniors\", \"sensory\", \"sensory\", \"seven\", \"seventh\", \"severe\", \"shoes\", \"shows\", \"significantly\", \"significantly\", \"silly\", \"silly\", \"simple\", \"simple\", \"singing\", \"singing\", \"sisters\", \"skills\", \"skills\", \"skills\", \"small\", \"small\", \"socio\", \"socio\", \"solvers\", \"special\", \"special\", \"special\", \"special\", \"special\", \"specifically\", \"spectrum\", \"spectrum\", \"spectrum\", \"speech\", \"speech\", \"speech\", \"spirit\", \"spoken\", \"standards\", \"states\", \"stopped\", \"storage\", \"style\", \"styles\", \"succeeds\", \"supplies\", \"supplies\", \"supplies\", \"supplies\", \"supplying\", \"support\", \"support\", \"tactile\", \"tactile\", \"taken\", \"teach\", \"teach\", \"teach\", \"teach\", \"teach\", \"teacher\", \"teacher\", \"teacher\", \"teacher\", \"team\", \"team\", \"team\", \"technology\", \"technology\", \"technology\", \"tell\", \"testament\", \"thank\", \"theatre\", \"therapist\", \"things\", \"things\", \"thinkers\", \"thinkers\", \"thinkers\", \"thirst\", \"tomorrow\", \"tone\", \"tough\", \"tough\", \"travel\", \"travel\", \"travel\", \"united\", \"use\", \"use\", \"use\", \"used\", \"varied\", \"verbal\", \"views\", \"visual\", \"visual\", \"want\", \"want\", \"want\", \"want\", \"west\", \"willingness\", \"wonderful\", \"wonderful\", \"wonderful\", \"wonderful\", \"words\", \"words\", \"words\", \"words\", \"work\", \"work\", \"work\", \"work\", \"work\", \"year\", \"year\", \"year\", \"year\", \"younger\"]}, \"R\": 30, \"lambda.step\": 0.01, \"plot.opts\": {\"xlab\": \"PC1\", \"ylab\": \"PC2\"}, \"topic.order\": [2, 1, 4, 5, 3]};\n",
       "\n",
       "function LDAvis_load_lib(url, callback){\n",
       "  var s = document.createElement('script');\n",
       "  s.src = url;\n",
       "  s.async = true;\n",
       "  s.onreadystatechange = s.onload = callback;\n",
       "  s.onerror = function(){console.warn(\"failed to load library \" + url);};\n",
       "  document.getElementsByTagName(\"head\")[0].appendChild(s);\n",
       "}\n",
       "\n",
       "if(typeof(LDAvis) !== \"undefined\"){\n",
       "   // already loaded: just create the visualization\n",
       "   !function(LDAvis){\n",
       "       new LDAvis(\"#\" + \"ldavis_el1103883051989287582604183\", ldavis_el1103883051989287582604183_data);\n",
       "   }(LDAvis);\n",
       "}else if(typeof define === \"function\" && define.amd){\n",
       "   // require.js is available: use it to load d3/LDAvis\n",
       "   require.config({paths: {d3: \"https://cdnjs.cloudflare.com/ajax/libs/d3/3.5.5/d3.min\"}});\n",
       "   require([\"d3\"], function(d3){\n",
       "      window.d3 = d3;\n",
       "      LDAvis_load_lib(\"https://cdn.rawgit.com/bmabey/pyLDAvis/files/ldavis.v1.0.0.js\", function(){\n",
       "        new LDAvis(\"#\" + \"ldavis_el1103883051989287582604183\", ldavis_el1103883051989287582604183_data);\n",
       "      });\n",
       "    });\n",
       "}else{\n",
       "    // require.js not available: dynamically load d3 & LDAvis\n",
       "    LDAvis_load_lib(\"https://cdnjs.cloudflare.com/ajax/libs/d3/3.5.5/d3.min.js\", function(){\n",
       "         LDAvis_load_lib(\"https://cdn.rawgit.com/bmabey/pyLDAvis/files/ldavis.v1.0.0.js\", function(){\n",
       "                 new LDAvis(\"#\" + \"ldavis_el1103883051989287582604183\", ldavis_el1103883051989287582604183_data);\n",
       "            })\n",
       "         });\n",
       "}\n",
       "</script>"
      ],
      "text/plain": [
       "PreparedData(topic_coordinates=            Freq  cluster  topics         x         y\n",
       "topic                                                \n",
       "1      59.051441        1       1  0.110243  0.065057\n",
       "0      22.225891        1       2  0.170081  0.094656\n",
       "3       9.074410        1       3  0.049758 -0.221008\n",
       "4       5.364129        1       4 -0.178409  0.111378\n",
       "2       4.284128        1       5 -0.151673 -0.050083, topic_info=     Category        Freq           Term       Total  loglift  logprob\n",
       "term                                                                  \n",
       "586   Default   93.000000        college   93.000000  30.0000  30.0000\n",
       "3808  Default  260.000000           year  260.000000  29.0000  29.0000\n",
       "2259  Default   98.000000          music   98.000000  28.0000  28.0000\n",
       "1049  Default  291.000000      education  291.000000  27.0000  27.0000\n",
       "2626  Default   63.000000        poorest   63.000000  26.0000  26.0000\n",
       "492   Default  194.000000     challenges  194.000000  25.0000  25.0000\n",
       "193   Default  126.000000            art  126.000000  24.0000  24.0000\n",
       "249   Default   84.000000         autism   84.000000  23.0000  23.0000\n",
       "663   Default   52.000000  congressional   52.000000  22.0000  22.0000\n",
       "1443  Default   50.000000          funny   50.000000  21.0000  21.0000\n",
       "1274  Default  148.000000           face  148.000000  20.0000  20.0000\n",
       "1216  Default   71.000000       exciting   71.000000  19.0000  19.0000\n",
       "928   Default  149.000000   disabilities  149.000000  18.0000  18.0000\n",
       "3774  Default  127.000000      wonderful  127.000000  17.0000  17.0000\n",
       "3780  Default   59.000000          words   59.000000  16.0000  16.0000\n",
       "736   Default   74.000000        country   74.000000  15.0000  15.0000\n",
       "757   Default  131.000000       creative  131.000000  14.0000  14.0000\n",
       "957   Default  142.000000       district  142.000000  13.0000  13.0000\n",
       "1987  Default  408.000000          learn  408.000000  12.0000  12.0000\n",
       "2106  Default  203.000000           make  203.000000  11.0000  11.0000\n",
       "2152  Default   73.000000          means   73.000000  10.0000  10.0000\n",
       "2545  Default   66.000000         people   66.000000   9.0000   9.0000\n",
       "358   Default  123.000000          books  123.000000   8.0000   8.0000\n",
       "3687  Default   56.000000         visual   56.000000   7.0000   7.0000\n",
       "878   Default  118.000000        despite  118.000000   6.0000   6.0000\n",
       "3534  Default   39.000000          tough   39.000000   5.0000   5.0000\n",
       "1488  Default   68.000000          girls   68.000000   4.0000   4.0000\n",
       "806   Default  338.000000            day  338.000000   3.0000   3.0000\n",
       "201   Default   76.000000           arts   76.000000   2.0000   2.0000\n",
       "1465  Default  110.000000        general  110.000000   1.0000   1.0000\n",
       "...       ...         ...            ...         ...      ...      ...\n",
       "2871   Topic5   11.006591        regards   11.869854   3.0747  -5.6292\n",
       "2447   Topic5   10.596879        optimal   11.460062   3.0719  -5.6671\n",
       "2443   Topic5   10.380967       opinions   11.247764   3.0701  -5.6877\n",
       "3307   Topic5   10.201401        storage   11.065292   3.0690  -5.7051\n",
       "750    Topic5    9.797413        craving   10.659708   3.0659  -5.7455\n",
       "2763   Topic5    9.627205        puppets   10.482982   3.0651  -5.7631\n",
       "940    Topic5    9.538801     discovered   10.404529   3.0634  -5.7723\n",
       "2440   Topic5    9.431360        opening   10.300972   3.0621  -5.7836\n",
       "3375   Topic5    9.175788      supplying   10.038105   3.0604  -5.8111\n",
       "2234   Topic5    8.741990        mothers    9.598442   3.0568  -5.8595\n",
       "1476   Topic5    8.686727     geographic    9.543635   3.0562  -5.8659\n",
       "3155   Topic5    8.697797        sisters    9.556926   3.0561  -5.8646\n",
       "1721   Topic5    8.830878        impacts    9.705722   3.0558  -5.8494\n",
       "2045   Topic5    8.532320      literally    9.394376   3.0540  -5.8838\n",
       "320    Topic5    8.393176        beloved    9.248038   3.0533  -5.9002\n",
       "591    Topic5    8.390535       coloring    9.250042   3.0527  -5.9006\n",
       "901    Topic5   23.586663            did   26.928390   3.0178  -4.8670\n",
       "423    Topic5   21.923525            bus   26.101592   2.9758  -4.9401\n",
       "1443   Topic5   37.127895          funny   50.811463   2.8365  -4.4133\n",
       "876    Topic5   12.425040      desperate   15.319148   2.9409  -5.5079\n",
       "693    Topic5   11.677719    continually   14.613293   2.9260  -5.5700\n",
       "3153   Topic5   17.492986        singing   28.429581   2.6646  -5.1659\n",
       "3780   Topic5   24.395059          words   59.006395   2.2670  -4.8333\n",
       "2609   Topic5   18.920049        playing   44.238033   2.3009  -5.0874\n",
       "3144   Topic5   10.894875          silly   14.628269   2.8556  -5.6394\n",
       "110    Topic5   12.905855            ago   23.298894   2.5595  -5.4700\n",
       "3561   Topic5   13.031218         travel   25.844452   2.4655  -5.4603\n",
       "798    Topic5   11.637006        dancing   21.891307   2.5184  -5.5735\n",
       "1484   Topic5   11.543679         gifted   32.629704   2.1112  -5.5815\n",
       "193    Topic5   10.900506            art  126.766038   0.6967  -5.6388\n",
       "\n",
       "[336 rows x 6 columns], token_table=      Topic      Freq         Term\n",
       "term                              \n",
       "16        2  0.910232   acceptance\n",
       "19        1  0.924568       access\n",
       "19        2  0.055697       access\n",
       "89        2  0.923201    adventure\n",
       "110       1  0.429205          ago\n",
       "110       5  0.557966          ago\n",
       "112       2  0.944426        ahead\n",
       "135       3  0.950730        amaze\n",
       "172       1  0.965872   appreciate\n",
       "189       2  0.929685        array\n",
       "190       2  0.916397       arrive\n",
       "193       1  0.457536          art\n",
       "193       2  0.055220          art\n",
       "193       3  0.394427          art\n",
       "193       5  0.086774          art\n",
       "200       3  0.907531      artists\n",
       "200       5  0.078916      artists\n",
       "201       1  0.428840         arts\n",
       "201       2  0.142947         arts\n",
       "201       3  0.415845         arts\n",
       "211       4  0.966141      aspects\n",
       "227       4  0.944646     athletes\n",
       "244       3  0.927446     auditory\n",
       "249       1  0.248908       autism\n",
       "249       2  0.047411       autism\n",
       "249       3  0.699312       autism\n",
       "290       3  0.963221   basketball\n",
       "320       5  0.865048      beloved\n",
       "322       1  0.942121      benefit\n",
       "322       2  0.039255      benefit\n",
       "...     ...       ...          ...\n",
       "3646      1  0.961624         used\n",
       "3659      1  0.965038       varied\n",
       "3670      3  0.970775       verbal\n",
       "3678      5  0.912417        views\n",
       "3687      1  0.336728       visual\n",
       "3687      3  0.655734       visual\n",
       "3710      1  0.615231         want\n",
       "3710      2  0.284279         want\n",
       "3710      3  0.046673         want\n",
       "3710      4  0.050916         want\n",
       "3748      4  0.953110         west\n",
       "3760      2  0.934067  willingness\n",
       "3774      1  0.558966    wonderful\n",
       "3774      2  0.251929    wonderful\n",
       "3774      3  0.023618    wonderful\n",
       "3774      4  0.157455    wonderful\n",
       "3780      1  0.389788        words\n",
       "3780      2  0.067789        words\n",
       "3780      3  0.135579        words\n",
       "3780      5  0.406736        words\n",
       "3781      1  0.703511         work\n",
       "3781      2  0.243523         work\n",
       "3781      3  0.006765         work\n",
       "3781      4  0.040587         work\n",
       "3781      5  0.010147         work\n",
       "3808      1  0.668555         year\n",
       "3808      2  0.172902         year\n",
       "3808      3  0.046107         year\n",
       "3808      4  0.107584         year\n",
       "3820      5  0.982384      younger\n",
       "\n",
       "[548 rows x 3 columns], R=30, lambda_step=0.01, plot_opts={'xlab': 'PC1', 'ylab': 'PC2'}, topic_order=[2, 1, 4, 5, 3])"
      ]
     },
     "execution_count": 66,
     "metadata": {},
     "output_type": "execute_result"
    }
   ],
   "source": [
    "pyLDAvis.sklearn.prepare(lda_tfidf, dtm_tfidf, tfidf_vectorizer)"
   ]
  },
  {
   "cell_type": "markdown",
   "metadata": {},
   "source": [
    "### Project Essay Visualizations\n",
    "\n",
    "What are some topics in the `project_essay_2` column?  Can you determine a way to incorporate these into a `LogisticRegression` model?"
   ]
  },
  {
   "cell_type": "code",
   "execution_count": null,
   "metadata": {},
   "outputs": [],
   "source": []
  },
  {
   "cell_type": "code",
   "execution_count": null,
   "metadata": {},
   "outputs": [],
   "source": []
  },
  {
   "cell_type": "code",
   "execution_count": null,
   "metadata": {},
   "outputs": [],
   "source": []
  },
  {
   "cell_type": "code",
   "execution_count": null,
   "metadata": {},
   "outputs": [],
   "source": []
  },
  {
   "cell_type": "code",
   "execution_count": null,
   "metadata": {},
   "outputs": [],
   "source": []
  }
 ],
 "metadata": {
  "kernelspec": {
   "display_name": "Python 3",
   "language": "python",
   "name": "python3"
  },
  "language_info": {
   "codemirror_mode": {
    "name": "ipython",
    "version": 3
   },
   "file_extension": ".py",
   "mimetype": "text/x-python",
   "name": "python",
   "nbconvert_exporter": "python",
   "pygments_lexer": "ipython3",
   "version": "3.6.4"
  }
 },
 "nbformat": 4,
 "nbformat_minor": 2
}
