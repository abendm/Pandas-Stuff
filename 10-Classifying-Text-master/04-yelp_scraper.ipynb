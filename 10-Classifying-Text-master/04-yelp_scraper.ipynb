{
 "cells": [
  {
   "cell_type": "code",
   "execution_count": 1,
   "metadata": {},
   "outputs": [],
   "source": [
    "import requests\n",
    "from bs4 import BeautifulSoup\n",
    "import pandas as pd\n",
    "import numpy as np"
   ]
  },
  {
   "cell_type": "markdown",
   "metadata": {},
   "source": [
    "# Basic Scrape"
   ]
  },
  {
   "cell_type": "code",
   "execution_count": 2,
   "metadata": {},
   "outputs": [],
   "source": [
    "req = requests.get('https://www.yelp.com/biz/frijolitos-new-york-2?hrid=BLupS78ZcaWflLpdvtOmNA&osq=Burrito')"
   ]
  },
  {
   "cell_type": "code",
   "execution_count": 3,
   "metadata": {},
   "outputs": [
    {
     "data": {
      "text/plain": [
       "<Response [200]>"
      ]
     },
     "execution_count": 3,
     "metadata": {},
     "output_type": "execute_result"
    }
   ],
   "source": [
    "req"
   ]
  },
  {
   "cell_type": "code",
   "execution_count": 4,
   "metadata": {},
   "outputs": [],
   "source": [
    "soup = BeautifulSoup(req.text,'html.parser')"
   ]
  },
  {
   "cell_type": "code",
   "execution_count": 5,
   "metadata": {},
   "outputs": [
    {
     "data": {
      "text/plain": [
       "'\\n\\n\\n\\n\\n  \\n\\n            window.yPageStart = new Date().getTime();\\n\\n            var initialVisibilityState = document.webkitVisibilityState;\\n\\n                yPerfTimings = [];\\n\\n                ySitRepPar'"
      ]
     },
     "execution_count": 5,
     "metadata": {},
     "output_type": "execute_result"
    }
   ],
   "source": [
    "soup.text[:200]"
   ]
  },
  {
   "cell_type": "code",
   "execution_count": 6,
   "metadata": {},
   "outputs": [
    {
     "data": {
      "text/plain": [
       "\"Best burrito i've had outside of California. I'm always on the look out for awesome authentic Mexican food. Found it! Carnitas burrito was great, steak one was just okay. But we'll definitely be back.\""
      ]
     },
     "execution_count": 6,
     "metadata": {},
     "output_type": "execute_result"
    }
   ],
   "source": [
    "soup.find('p', {'lang': 'en'}).text"
   ]
  },
  {
   "cell_type": "markdown",
   "metadata": {},
   "source": [
    "### Kanye's Tweets"
   ]
  },
  {
   "cell_type": "code",
   "execution_count": 7,
   "metadata": {},
   "outputs": [],
   "source": [
    "req = requests.get('https://twitter.com/kanyewest')"
   ]
  },
  {
   "cell_type": "code",
   "execution_count": 8,
   "metadata": {},
   "outputs": [
    {
     "data": {
      "text/plain": [
       "<Response [200]>"
      ]
     },
     "execution_count": 8,
     "metadata": {},
     "output_type": "execute_result"
    }
   ],
   "source": [
    "req"
   ]
  },
  {
   "cell_type": "code",
   "execution_count": 9,
   "metadata": {},
   "outputs": [],
   "source": [
    "soup = BeautifulSoup(req.text, 'html.parser')"
   ]
  },
  {
   "cell_type": "code",
   "execution_count": 10,
   "metadata": {},
   "outputs": [
    {
     "data": {
      "text/plain": [
       "'\\n\\n\\n\\n\\n        !function(){window.initErrorstack||(window.initErrorstack=[]),window.onerror=function(r,i,n,o,t){r.indexOf(\"Script error.\")>-1||window.initErrorstack.push({errorMsg:r,url:i,lineNumber:n,c'"
      ]
     },
     "execution_count": 10,
     "metadata": {},
     "output_type": "execute_result"
    }
   ],
   "source": [
    "soup.text[:200]"
   ]
  },
  {
   "cell_type": "code",
   "execution_count": 11,
   "metadata": {},
   "outputs": [],
   "source": [
    "tweets = soup.find_all('p', {'class': 'TweetTextSize TweetTextSize--normal js-tweet-text tweet-text'})"
   ]
  },
  {
   "cell_type": "code",
   "execution_count": 12,
   "metadata": {},
   "outputs": [
    {
     "name": "stdout",
     "output_type": "stream",
     "text": [
      "Steven Spielberg is a genius    Let’s beat the gamepic.twitter.com/Y0Gh5PgWvF\n",
      "2015 feels like just yesterday   Adidas is a great partner\n",
      "just on CNBC like...pic.twitter.com/Te0LWUP3ub\n",
      "have funpic.twitter.com/lyNGajMf8K\n",
      "shoespic.twitter.com/cP5tVyVDZU\n",
      "Since I’ve been making sneakers I've always wanted as many people as possible to have them. On September 21 we're doing our largest drop ever of the 350 V2 Triple White. Go to http://YEEZYSUPPLY.com/triple-white  and sign up to get them\n",
      "Steven Smith’s been reworking the bottom unit on the 451     I’m super excited about where he got it      YEEZY 2019pic.twitter.com/xpSNq9DO6A\n",
      "Sunday vibespic.twitter.com/ZV8DRPoAYT\n",
      "When you get the outerwear to match the hairpic.twitter.com/Ed1UtEOp0F\n",
      "pic.twitter.com/nE8nxJzo6p\n",
      "Yeezy slides on vacaypic.twitter.com/R819Sn9r3Z\n",
      "deprogram\n",
      "we’re no longer fighting for change we’re simply changing things\n",
      "operation try love    take someone you don’t like and say something you like about them out loud\n",
      "no one is better than anyone\n",
      "https://m.youtube.com/watch?v=CH5M00V_UsQ&time_continue=249 …\n",
      "Not every question warrants an immediate answer. Some answers need to be considered and a talk show with time constraints is a difficult place to do that.  I know how much Kanye cares and I am so impressed by what he is doing quietly and without fanfare to help those who need ithttps://twitter.com/kanyewest/status/1028428728496312320 …\n",
      "http://smarturl.it/STOPTRYINGTOBEGOD … @trvisXX\n",
      "I was so happy when I saw Jimmy walk out in the Yeezys. That was an olive branch. He lead with love. I appreciate Jimmy and his team. You guys are Jedi’s.   much love.\n",
      "The question was so important I took time to think. And then I was hit with the let’s go to commercial break. That interview showed strong personalities with different opinions having a civil conversation.\n"
     ]
    }
   ],
   "source": [
    "tweet_kanye = []\n",
    "for i in tweets:\n",
    "    tweet_kanye.append(i.text)\n",
    "    print(i.text)"
   ]
  },
  {
   "cell_type": "code",
   "execution_count": 13,
   "metadata": {},
   "outputs": [
    {
     "data": {
      "text/plain": [
       "['Steven Spielberg is a genius    Let’s beat the gamepic.twitter.com/Y0Gh5PgWvF',\n",
       " '2015 feels like just yesterday   Adidas is a great partner',\n",
       " 'just on CNBC like...pic.twitter.com/Te0LWUP3ub',\n",
       " 'have funpic.twitter.com/lyNGajMf8K',\n",
       " 'shoespic.twitter.com/cP5tVyVDZU',\n",
       " \"Since I’ve been making sneakers I've always wanted as many people as possible to have them. On September 21 we're doing our largest drop ever of the 350 V2 Triple White. Go to http://YEEZYSUPPLY.com/triple-white\\xa0 and sign up to get them\",\n",
       " 'Steven Smith’s been reworking the bottom unit on the 451     I’m super excited about where he got it      YEEZY 2019pic.twitter.com/xpSNq9DO6A',\n",
       " 'Sunday vibespic.twitter.com/ZV8DRPoAYT',\n",
       " 'When you get the outerwear to match the hairpic.twitter.com/Ed1UtEOp0F',\n",
       " 'pic.twitter.com/nE8nxJzo6p',\n",
       " 'Yeezy slides on vacaypic.twitter.com/R819Sn9r3Z',\n",
       " 'deprogram',\n",
       " 'we’re no longer fighting for change we’re simply changing things',\n",
       " 'operation try love    take someone you don’t like and say something you like about them out loud',\n",
       " 'no one is better than anyone',\n",
       " 'https://m.youtube.com/watch?v=CH5M00V_UsQ&time_continue=249\\xa0…',\n",
       " 'Not every question warrants an immediate answer. Some answers need to be considered and a talk show with time constraints is a difficult place to do that.  I know how much Kanye cares and I am so impressed by what he is doing quietly and without fanfare to help those who need ithttps://twitter.com/kanyewest/status/1028428728496312320\\xa0…',\n",
       " 'http://smarturl.it/STOPTRYINGTOBEGOD\\xa0… @trvisXX',\n",
       " 'I was so happy when I saw Jimmy walk out in the Yeezys. That was an olive branch. He lead with love. I appreciate Jimmy and his team. You guys are Jedi’s.   much love.',\n",
       " 'The question was so important I took time to think. And then I was hit with the let’s go to commercial break. That interview showed strong personalities with different opinions having a civil conversation.']"
      ]
     },
     "execution_count": 13,
     "metadata": {},
     "output_type": "execute_result"
    }
   ],
   "source": [
    "tweet_kanye"
   ]
  },
  {
   "cell_type": "markdown",
   "metadata": {},
   "source": [
    "### Sentiment"
   ]
  },
  {
   "cell_type": "code",
   "execution_count": 14,
   "metadata": {},
   "outputs": [],
   "source": [
    "from textblob import TextBlob"
   ]
  },
  {
   "cell_type": "code",
   "execution_count": 15,
   "metadata": {},
   "outputs": [],
   "source": [
    "analysis = TextBlob(\"this is bad text or good very very good\") "
   ]
  },
  {
   "cell_type": "code",
   "execution_count": 16,
   "metadata": {},
   "outputs": [
    {
     "name": "stdout",
     "output_type": "stream",
     "text": [
      "['__add__', '__class__', '__contains__', '__delattr__', '__dict__', '__dir__', '__doc__', '__eq__', '__format__', '__ge__', '__getattribute__', '__getitem__', '__gt__', '__hash__', '__init__', '__init_subclass__', '__iter__', '__le__', '__len__', '__lt__', '__module__', '__ne__', '__new__', '__reduce__', '__reduce_ex__', '__repr__', '__setattr__', '__sizeof__', '__str__', '__subclasshook__', '__weakref__', '_cmpkey', '_compare', '_create_sentence_objects', '_strkey', 'analyzer', 'classifier', 'classify', 'correct', 'detect_language', 'ends_with', 'endswith', 'find', 'format', 'index', 'join', 'json', 'lower', 'ngrams', 'noun_phrases', 'np_counts', 'np_extractor', 'parse', 'parser', 'polarity', 'pos_tagger', 'pos_tags', 'raw', 'raw_sentences', 'replace', 'rfind', 'rindex', 'sentences', 'sentiment', 'sentiment_assessments', 'serialized', 'split', 'starts_with', 'startswith', 'string', 'strip', 'stripped', 'subjectivity', 'tags', 'title', 'to_json', 'tokenize', 'tokenizer', 'tokens', 'translate', 'translator', 'upper', 'word_counts', 'words']\n"
     ]
    }
   ],
   "source": [
    "print(dir(analysis))"
   ]
  },
  {
   "cell_type": "code",
   "execution_count": 17,
   "metadata": {},
   "outputs": [
    {
     "data": {
      "text/plain": [
       "Sentiment(polarity=0.30333333333333334, subjectivity=0.6822222222222223)"
      ]
     },
     "execution_count": 17,
     "metadata": {},
     "output_type": "execute_result"
    }
   ],
   "source": [
    "analysis.sentiment"
   ]
  },
  {
   "cell_type": "code",
   "execution_count": 18,
   "metadata": {},
   "outputs": [
    {
     "name": "stdout",
     "output_type": "stream",
     "text": [
      "Sentiment(polarity=0.0, subjectivity=0.0)\n",
      "Sentiment(polarity=0.8, subjectivity=0.75)\n",
      "Sentiment(polarity=0.0, subjectivity=0.0)\n",
      "Sentiment(polarity=0.0, subjectivity=0.0)\n",
      "Sentiment(polarity=0.0, subjectivity=0.0)\n",
      "Sentiment(polarity=0.16666666666666666, subjectivity=0.5)\n",
      "Sentiment(polarity=0.35416666666666663, subjectivity=0.7083333333333333)\n",
      "Sentiment(polarity=0.0, subjectivity=0.0)\n",
      "Sentiment(polarity=0.0, subjectivity=0.0)\n",
      "Sentiment(polarity=0.0, subjectivity=0.0)\n",
      "Sentiment(polarity=0.0, subjectivity=0.0)\n",
      "Sentiment(polarity=0.0, subjectivity=0.0)\n",
      "Sentiment(polarity=0.0, subjectivity=0.35714285714285715)\n",
      "Sentiment(polarity=0.3, subjectivity=0.7)\n",
      "Sentiment(polarity=0.5, subjectivity=0.5)\n",
      "Sentiment(polarity=0.0, subjectivity=0.0)\n",
      "Sentiment(polarity=0.175, subjectivity=0.6333333333333334)\n",
      "Sentiment(polarity=0.0, subjectivity=0.0)\n",
      "Sentiment(polarity=0.6, subjectivity=0.7333333333333334)\n",
      "Sentiment(polarity=0.20833333333333331, subjectivity=0.5833333333333334)\n"
     ]
    }
   ],
   "source": [
    "for tw in tweet_kanye:\n",
    "    a2 = TextBlob(tw)\n",
    "    print(a2.sentiment)"
   ]
  },
  {
   "cell_type": "code",
   "execution_count": 19,
   "metadata": {},
   "outputs": [
    {
     "data": {
      "text/plain": [
       "['http://smarturl.it/STOPTRYINGTOBEGOD\\xa0… @trvisXX',\n",
       " 'I was so happy when I saw Jimmy walk out in the Yeezys. That was an olive branch. He lead with love. I appreciate Jimmy and his team. You guys are Jedi’s.   much love.',\n",
       " 'The question was so important I took time to think. And then I was hit with the let’s go to commercial break. That interview showed strong personalities with different opinions having a civil conversation.']"
      ]
     },
     "execution_count": 19,
     "metadata": {},
     "output_type": "execute_result"
    }
   ],
   "source": [
    "tweet_kanye[-3:]"
   ]
  },
  {
   "cell_type": "code",
   "execution_count": 20,
   "metadata": {},
   "outputs": [],
   "source": [
    "def get_tweet(user):\n",
    "    tweet_text = []\n",
    "    polarity = []\n",
    "    subjectivity = []\n",
    "    public_tweets = requests.get('https://twitter.com/' + user)\n",
    "    soup = BeautifulSoup(public_tweets.text, 'html.parser')\n",
    "    tweets = soup.find_all('p', {'class': 'TweetTextSize TweetTextSize--normal js-tweet-text tweet-text'})\n",
    "    for tweet in tweets:\n",
    "        tweet_text.append(tweet.text)\n",
    "        a2 = TextBlob(tweet.text)\n",
    "        polarity.append(a2.polarity)\n",
    "        subjectivity.append(a2.subjectivity)\n",
    "    df = pd.DataFrame( {\n",
    "            'Tweet': tweet_text,\n",
    "            'Polarity Score': polarity,\n",
    "            'Subjectivity Score': subjectivity,\n",
    "        })\n",
    "    return df.head()"
   ]
  },
  {
   "cell_type": "code",
   "execution_count": 21,
   "metadata": {},
   "outputs": [
    {
     "data": {
      "text/html": [
       "<div>\n",
       "<style scoped>\n",
       "    .dataframe tbody tr th:only-of-type {\n",
       "        vertical-align: middle;\n",
       "    }\n",
       "\n",
       "    .dataframe tbody tr th {\n",
       "        vertical-align: top;\n",
       "    }\n",
       "\n",
       "    .dataframe thead th {\n",
       "        text-align: right;\n",
       "    }\n",
       "</style>\n",
       "<table border=\"1\" class=\"dataframe\">\n",
       "  <thead>\n",
       "    <tr style=\"text-align: right;\">\n",
       "      <th></th>\n",
       "      <th>Polarity Score</th>\n",
       "      <th>Subjectivity Score</th>\n",
       "      <th>Tweet</th>\n",
       "    </tr>\n",
       "  </thead>\n",
       "  <tbody>\n",
       "    <tr>\n",
       "      <th>0</th>\n",
       "      <td>0.0</td>\n",
       "      <td>0.00</td>\n",
       "      <td>Steven Spielberg is a genius    Let’s beat the...</td>\n",
       "    </tr>\n",
       "    <tr>\n",
       "      <th>1</th>\n",
       "      <td>0.8</td>\n",
       "      <td>0.75</td>\n",
       "      <td>2015 feels like just yesterday   Adidas is a g...</td>\n",
       "    </tr>\n",
       "    <tr>\n",
       "      <th>2</th>\n",
       "      <td>0.0</td>\n",
       "      <td>0.00</td>\n",
       "      <td>just on CNBC like...pic.twitter.com/Te0LWUP3ub</td>\n",
       "    </tr>\n",
       "    <tr>\n",
       "      <th>3</th>\n",
       "      <td>0.0</td>\n",
       "      <td>0.00</td>\n",
       "      <td>have funpic.twitter.com/lyNGajMf8K</td>\n",
       "    </tr>\n",
       "    <tr>\n",
       "      <th>4</th>\n",
       "      <td>0.0</td>\n",
       "      <td>0.00</td>\n",
       "      <td>shoespic.twitter.com/cP5tVyVDZU</td>\n",
       "    </tr>\n",
       "  </tbody>\n",
       "</table>\n",
       "</div>"
      ],
      "text/plain": [
       "   Polarity Score  Subjectivity Score  \\\n",
       "0             0.0                0.00   \n",
       "1             0.8                0.75   \n",
       "2             0.0                0.00   \n",
       "3             0.0                0.00   \n",
       "4             0.0                0.00   \n",
       "\n",
       "                                               Tweet  \n",
       "0  Steven Spielberg is a genius    Let’s beat the...  \n",
       "1  2015 feels like just yesterday   Adidas is a g...  \n",
       "2     just on CNBC like...pic.twitter.com/Te0LWUP3ub  \n",
       "3                 have funpic.twitter.com/lyNGajMf8K  \n",
       "4                    shoespic.twitter.com/cP5tVyVDZU  "
      ]
     },
     "execution_count": 21,
     "metadata": {},
     "output_type": "execute_result"
    }
   ],
   "source": [
    "get_tweet('kanyewest')"
   ]
  },
  {
   "cell_type": "code",
   "execution_count": 22,
   "metadata": {},
   "outputs": [
    {
     "data": {
      "text/html": [
       "<div>\n",
       "<style scoped>\n",
       "    .dataframe tbody tr th:only-of-type {\n",
       "        vertical-align: middle;\n",
       "    }\n",
       "\n",
       "    .dataframe tbody tr th {\n",
       "        vertical-align: top;\n",
       "    }\n",
       "\n",
       "    .dataframe thead th {\n",
       "        text-align: right;\n",
       "    }\n",
       "</style>\n",
       "<table border=\"1\" class=\"dataframe\">\n",
       "  <thead>\n",
       "    <tr style=\"text-align: right;\">\n",
       "      <th></th>\n",
       "      <th>Polarity Score</th>\n",
       "      <th>Subjectivity Score</th>\n",
       "      <th>Tweet</th>\n",
       "    </tr>\n",
       "  </thead>\n",
       "  <tbody>\n",
       "    <tr>\n",
       "      <th>0</th>\n",
       "      <td>-0.125000</td>\n",
       "      <td>0.100000</td>\n",
       "      <td>Join me tonight at the Charleston Civic Center...</td>\n",
       "    </tr>\n",
       "    <tr>\n",
       "      <th>1</th>\n",
       "      <td>0.329167</td>\n",
       "      <td>0.566667</td>\n",
       "      <td>To the incredible people of the Great State of...</td>\n",
       "    </tr>\n",
       "    <tr>\n",
       "      <th>2</th>\n",
       "      <td>0.475000</td>\n",
       "      <td>0.770000</td>\n",
       "      <td>Bill DeBlasio, the high taxing Mayor of NYC, j...</td>\n",
       "    </tr>\n",
       "    <tr>\n",
       "      <th>3</th>\n",
       "      <td>0.327883</td>\n",
       "      <td>0.321429</td>\n",
       "      <td>Big Rally tonight in West Virginia. Patrick Mo...</td>\n",
       "    </tr>\n",
       "    <tr>\n",
       "      <th>4</th>\n",
       "      <td>-0.380000</td>\n",
       "      <td>0.756667</td>\n",
       "      <td>I am sorry to have to reiterate that there are...</td>\n",
       "    </tr>\n",
       "  </tbody>\n",
       "</table>\n",
       "</div>"
      ],
      "text/plain": [
       "   Polarity Score  Subjectivity Score  \\\n",
       "0       -0.125000            0.100000   \n",
       "1        0.329167            0.566667   \n",
       "2        0.475000            0.770000   \n",
       "3        0.327883            0.321429   \n",
       "4       -0.380000            0.756667   \n",
       "\n",
       "                                               Tweet  \n",
       "0  Join me tonight at the Charleston Civic Center...  \n",
       "1  To the incredible people of the Great State of...  \n",
       "2  Bill DeBlasio, the high taxing Mayor of NYC, j...  \n",
       "3  Big Rally tonight in West Virginia. Patrick Mo...  \n",
       "4  I am sorry to have to reiterate that there are...  "
      ]
     },
     "execution_count": 22,
     "metadata": {},
     "output_type": "execute_result"
    }
   ],
   "source": [
    "get_tweet('realDonaldTrump')"
   ]
  }
 ],
 "metadata": {
  "kernelspec": {
   "display_name": "Python 3",
   "language": "python",
   "name": "python3"
  },
  "language_info": {
   "codemirror_mode": {
    "name": "ipython",
    "version": 3
   },
   "file_extension": ".py",
   "mimetype": "text/x-python",
   "name": "python",
   "nbconvert_exporter": "python",
   "pygments_lexer": "ipython3",
   "version": "3.6.4"
  }
 },
 "nbformat": 4,
 "nbformat_minor": 2
}
