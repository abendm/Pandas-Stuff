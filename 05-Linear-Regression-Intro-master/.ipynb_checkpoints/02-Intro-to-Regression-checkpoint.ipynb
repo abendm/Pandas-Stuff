{
 "cells": [
  {
   "cell_type": "markdown",
   "metadata": {},
   "source": [
    "## Deriving the Equation of the Line\n",
    "\n",
    "In general, we have some line of best fit $y$ given by:\n",
    "\n",
    "$$y = a + bx$$\n",
    "\n",
    "If we have some set of points $(x_1, y_1), (x_2, y_2), (x_3, y_3)...(x_n, y_n)$.  We need to minimize the sum of squares of residuals here, so we would have a number of values determined by:\n",
    "\n",
    "$$[y_1 - (a + bx_1)]^2 + [y_2 - (a + bx_2)]^2 + [y_3 - (a + bx_3)]^2 + ... $$\n",
    "\n",
    "which we can rewrite in summation notation as \n",
    "\n",
    "$$\\sum_{i=1}^n[y_i - (a + bx_i)]^2$$\n",
    "\n",
    "We can consider this as a function in terms of the variable $a$ that we are seeking to minimize.\n",
    "\n",
    "$$g(a) = \\sum_{i=1}^n[y_i - (a + bx_i)]^2$$\n",
    "\n",
    "From here, we can apply our familiar strategy of differentiating the function and locating the critical values.  We are looking for the derivative of a sum, which turns out to be equivalent to the sum of the derivatives, hence we have\n",
    "\n",
    "$$g'(a) = \\sum_{i=1}^n \\frac{d}{da}[y_i - (a + bx_i)]^2$$\n",
    "\n",
    "$$g'(a) = \\sum_{i=1}^n 2[y_i -a - bx_i](-1)$$\n",
    "\n",
    "$$g'(a) = -2 [\\sum_{i = 1}^n y_i - a - b\\sum_{i=1}^n x_i]$$\n",
    "\n",
    "Setting this equal to zero and solving for $a$ we get\n",
    "\n",
    "$$a = \\frac{1}{n} \\sum_{i=1}^n y_i - b\\frac{1}{n} \\sum_{i=1}^n x_i$$\n",
    "\n",
    "The terms should be familiar as averages, and we can rewrite our equation as\n",
    "\n",
    "$$a = \\bar{y} - b \\bar{x}$$\n",
    "\n",
    "We now use this to investigate a similar function in terms of $b$ to complete our solution.\n",
    "\n",
    "$$f(b) = \\sum_{i=1}^n[y_i - (\\bar{y} + b(x_i - \\bar{x}))]^2$$"
   ]
  },
  {
   "cell_type": "markdown",
   "metadata": {},
   "source": [
    "We end up with \n",
    "\n",
    "$$b = \\sum_{i = 1}^n \\frac{(x_i - \\bar{x})(y_i - \\bar{y})}{(\\bar{x} - x_i)^2}$$\n",
    "\n",
    "Let's return to the problem of cigarette consumption and test our work out by manually computing $a$ and $b$."
   ]
  },
  {
   "cell_type": "code",
   "execution_count": 1,
   "metadata": {
    "collapsed": true
   },
   "outputs": [],
   "source": [
    "%matplotlib inline\n",
    "import matplotlib.pyplot as plt\n",
    "import numpy as np\n",
    "import sympy as sy\n",
    "import pandas as pd"
   ]
  },
  {
   "cell_type": "markdown",
   "metadata": {},
   "source": [
    "### Picking Best Line"
   ]
  },
  {
   "cell_type": "code",
   "execution_count": 2,
   "metadata": {
    "collapsed": true
   },
   "outputs": [],
   "source": [
    "from sklearn.datasets import make_regression"
   ]
  },
  {
   "cell_type": "code",
   "execution_count": 3,
   "metadata": {
    "collapsed": true
   },
   "outputs": [],
   "source": [
    "make_regression?"
   ]
  },
  {
   "cell_type": "code",
   "execution_count": 5,
   "metadata": {
    "collapsed": true
   },
   "outputs": [],
   "source": [
    "df = make_regression(n_features=3)"
   ]
  },
  {
   "cell_type": "code",
   "execution_count": 7,
   "metadata": {},
   "outputs": [
    {
     "data": {
      "text/plain": [
       "(array([[ -8.71357365e-01,  -3.00181650e-01,  -3.54988894e-01],\n",
       "        [  2.61730537e+00,   6.22044562e-02,   3.76148783e-01],\n",
       "        [ -9.64943107e-01,  -6.03572369e-01,  -2.16181153e+00],\n",
       "        [  7.23605760e-01,  -2.11289863e-01,  -3.54034149e-01],\n",
       "        [ -2.07822378e+00,  -2.40414127e-01,  -3.81329915e-02],\n",
       "        [ -1.90423168e+00,  -1.17354501e+00,   1.32580687e+00],\n",
       "        [ -2.45861605e+00,   1.52923419e+00,  -8.07713078e-01],\n",
       "        [ -1.18963021e+00,   9.94027321e-01,  -4.67352689e-01],\n",
       "        [ -1.30406883e+00,   8.14529440e-01,  -5.28297047e-01],\n",
       "        [ -4.41758116e-01,   7.55104478e-01,  -6.11674571e-01],\n",
       "        [ -5.13213244e-01,  -5.14303383e-02,   6.97655416e-01],\n",
       "        [  9.73413012e-01,  -2.25830612e-01,   2.32977333e+00],\n",
       "        [ -3.10758900e-01,  -4.66006163e-01,   1.01104746e+00],\n",
       "        [ -9.69058938e-01,   2.25088750e+00,   4.19704788e-01],\n",
       "        [ -6.02299680e-01,   1.23645321e+00,   1.89343743e+00],\n",
       "        [  1.58670850e+00,  -1.75652107e+00,   1.43739133e+00],\n",
       "        [ -7.58010796e-01,   6.77844252e-01,   4.37417397e-02],\n",
       "        [  4.94525658e-01,  -4.49433679e-02,   1.50251473e+00],\n",
       "        [  5.75270055e-01,   1.28184330e+00,   4.56378393e-01],\n",
       "        [  5.26632936e-01,  -2.48030770e+00,   1.73534524e-01],\n",
       "        [ -5.21809806e-01,  -1.11613828e+00,  -1.00041212e-01],\n",
       "        [  6.63188057e-01,  -7.18509734e-01,  -1.12231294e+00],\n",
       "        [ -8.12296865e-01,   1.45528951e+00,   1.98366270e+00],\n",
       "        [  1.97915602e-01,  -1.64943179e+00,   5.02250150e-01],\n",
       "        [ -6.49652995e-01,  -6.07922212e-01,  -6.13660411e-02],\n",
       "        [ -1.89058112e-01,   1.69304804e+00,  -5.02551448e-01],\n",
       "        [  1.15993159e+00,   3.82332000e-01,   7.74131631e-01],\n",
       "        [  1.42478918e+00,  -1.07667137e-01,   1.02850602e+00],\n",
       "        [  9.51130016e-01,  -6.58883848e-01,   4.37427448e-01],\n",
       "        [ -7.07709462e-01,  -2.12586446e-01,  -5.43416384e-01],\n",
       "        [ -7.04289537e-01,  -7.23580971e-01,  -3.33450497e-01],\n",
       "        [ -1.55200518e+00,   1.30539186e-01,   7.49158902e-01],\n",
       "        [  5.91859060e-01,   1.93403821e-01,  -8.97398156e-01],\n",
       "        [ -3.99352154e-01,  -2.62163189e-01,   8.34627683e-02],\n",
       "        [ -1.01726884e+00,  -6.98747654e-01,   3.02009140e+00],\n",
       "        [  2.01079515e+00,  -3.48937260e-01,  -1.45209190e-01],\n",
       "        [ -3.45435898e-02,   2.63882483e-01,   1.27312801e+00],\n",
       "        [  8.60544628e-01,   2.18539167e-01,  -1.63379922e-01],\n",
       "        [  4.13469995e-01,  -1.86021960e-01,  -1.87989049e+00],\n",
       "        [ -3.55563783e-01,   1.61659542e-01,  -1.73824943e+00],\n",
       "        [ -8.24461584e-01,   1.56460049e+00,  -9.91151529e-02],\n",
       "        [ -8.49232785e-01,   1.93053142e+00,   4.34207525e-01],\n",
       "        [  4.49305153e-02,   1.25583773e+00,  -4.92105932e-01],\n",
       "        [ -4.49004610e-01,   1.08676573e+00,  -1.44626108e+00],\n",
       "        [ -1.33764675e+00,   1.31737886e+00,   1.40776179e+00],\n",
       "        [  8.18366671e-01,  -1.23311291e+00,   5.94338858e-01],\n",
       "        [ -1.51704110e-01,   1.07564213e+00,  -9.03220714e-01],\n",
       "        [ -1.48646775e+00,   6.15992628e-01,  -4.48708612e-01],\n",
       "        [  1.28286577e+00,   7.08694074e-01,   5.07199479e-01],\n",
       "        [  4.32974599e-01,   6.13426019e-01,   1.47995726e+00],\n",
       "        [ -5.46943113e-01,   3.87185454e-02,  -3.60709832e-01],\n",
       "        [ -8.91576878e-01,  -1.35823653e+00,   2.14469977e-01],\n",
       "        [  4.39818976e-01,   2.23350245e+00,  -3.19963169e-01],\n",
       "        [  5.73403326e-01,   1.22434245e+00,   1.09092160e+00],\n",
       "        [  1.76789421e+00,   1.26121862e+00,   1.12344504e+00],\n",
       "        [  3.85161609e-01,  -4.54788055e-01,  -7.60496417e-01],\n",
       "        [ -1.76979221e+00,   5.13515183e-02,   8.34706764e-01],\n",
       "        [ -1.80028230e+00,   1.45882031e+00,  -6.36143029e-01],\n",
       "        [  1.11919534e+00,  -9.72886307e-01,   2.04290778e+00],\n",
       "        [  2.17800375e-01,   9.18900263e-01,   3.77087973e-01],\n",
       "        [ -1.03166344e-02,  -1.69173048e+00,   9.10920046e-02],\n",
       "        [ -6.30305796e-01,   3.14487010e-01,  -4.80577621e-01],\n",
       "        [ -1.04479024e-01,  -9.52391428e-01,  -1.65482164e+00],\n",
       "        [ -5.53199686e-01,  -1.05858902e+00,   2.76976678e-01],\n",
       "        [ -7.62515572e-01,   3.99467388e-01,  -5.44754250e-01],\n",
       "        [  1.11577499e+00,   7.11486931e-01,   2.27097662e-01],\n",
       "        [  1.13759209e+00,   2.07976589e+00,  -7.56099124e-01],\n",
       "        [  1.75864140e-02,  -6.65201291e-01,   1.10852151e+00],\n",
       "        [ -2.39957338e-01,   5.99352888e-01,  -6.70627514e-02],\n",
       "        [ -8.32213207e-02,   8.47604175e-01,   6.62041929e-01],\n",
       "        [ -6.74258373e-01,   5.28415258e-02,   4.70492926e-01],\n",
       "        [ -5.10538669e-01,   1.86352362e+00,  -8.86073468e-01],\n",
       "        [  9.34726426e-01,   5.55407384e-01,  -1.35409687e+00],\n",
       "        [ -7.56256124e-02,   8.23959375e-01,  -1.61740426e+00],\n",
       "        [  7.75900232e-01,   3.93927163e-01,  -1.65099308e-02],\n",
       "        [ -3.61150209e-01,   7.53795960e-01,  -1.40966446e+00],\n",
       "        [ -6.83402888e-01,   2.88689496e-01,  -9.79439060e-01],\n",
       "        [ -2.33669505e+00,  -1.06427048e+00,   5.22427753e-01],\n",
       "        [ -2.04956318e+00,   1.61676229e+00,   2.48809511e-01],\n",
       "        [ -9.72305404e-02,  -1.87381399e+00,  -6.71833661e-01],\n",
       "        [ -1.45651675e+00,   3.70971320e-01,  -4.62235364e-01],\n",
       "        [  1.43582852e-01,   1.39260625e+00,   1.85632839e-01],\n",
       "        [  1.08228734e+00,  -1.36956321e+00,  -3.97730631e-01],\n",
       "        [  8.25442987e-01,  -1.17627291e+00,   3.04337579e-01],\n",
       "        [  8.15924036e-01,   4.47028159e-01,   4.12163617e-01],\n",
       "        [  6.08268626e-01,  -2.59933656e-03,   1.31668207e-01],\n",
       "        [ -5.97290509e-01,   2.55490713e-01,   1.65866019e-01],\n",
       "        [ -3.66879540e-01,  -1.20354954e+00,   6.72458354e-01],\n",
       "        [ -1.46385997e-01,  -1.02157336e+00,  -6.43892300e-01],\n",
       "        [  1.81372891e+00,   1.03040001e-01,   1.28446102e-02],\n",
       "        [ -6.05892704e-01,  -1.11124905e+00,   1.11727267e-01],\n",
       "        [ -9.86339553e-01,  -3.92847825e-01,  -1.12600722e+00],\n",
       "        [  6.60678032e-01,  -6.23376010e-01,   2.50919461e-03],\n",
       "        [  1.66518473e-01,   9.15674402e-02,  -1.31078826e+00],\n",
       "        [  7.11354243e-01,  -7.71454618e-01,  -1.55569063e+00],\n",
       "        [  1.43692572e+00,  -9.52909512e-01,   7.59531374e-01],\n",
       "        [ -1.70008073e+00,  -2.54487091e+00,   2.29968347e+00],\n",
       "        [  4.24671884e-02,   6.01679606e-01,  -5.06984778e-02],\n",
       "        [  2.64523935e-01,  -1.28601174e+00,  -1.22823459e-01],\n",
       "        [ -1.55106229e-02,  -2.50671321e-01,   3.57100420e-02]]),\n",
       " array([-105.11538236,  269.45757172, -160.61635712,   56.78567455,\n",
       "        -216.58354628, -210.40712989, -198.90439591,  -87.63776794,\n",
       "        -107.25624179,  -25.5659341 ,  -39.78521679,  131.82098247,\n",
       "         -30.153514  ,    0.78458856,   24.96274012,  115.25918459,\n",
       "         -47.61629428,   75.76784241,  116.47617322,  -42.56026373,\n",
       "         -97.86598638,   16.17391419,   14.47834605,  -36.10182208,\n",
       "         -89.71954115,   38.70130375,  144.95338802,  156.67974201,\n",
       "          76.65050605,  -88.96790261, -104.87141883, -134.7533931 ,\n",
       "          49.43004671,  -48.4448621 ,  -71.47934124,  183.09944747,\n",
       "          31.11234389,   90.99831865,   -1.89421722,  -61.81484269,\n",
       "         -21.83342574,    0.28166814,   44.83347579,  -28.96247966,\n",
       "         -54.04319441,   43.71888232,   10.39700196, -131.71545683,\n",
       "         165.01919955,   95.27827063,  -59.60330984, -138.20546284,\n",
       "         125.98340673,  126.02824075,  246.70548526,    5.85220935,\n",
       "        -157.89137004, -133.07561235,  111.30737208,   65.12136671,\n",
       "         -66.23464984,  -59.23869   ,  -79.38332826,  -91.56844618,\n",
       "         -70.21856748,  143.23646122,  180.92700718,   -3.5877438 ,\n",
       "          -1.38132059,   37.80609278,  -55.95038139,    6.26567915,\n",
       "          89.15103183,   -5.52726205,   92.31362894,  -32.7207294 ,\n",
       "         -74.97537441, -264.23213065, -134.82495107,  -96.51161587,\n",
       "        -138.69213392,   72.87037292,   45.74433779,   41.18043054,\n",
       "         106.50381408,   62.7855158 ,  -46.05702554,  -71.31713734,\n",
       "         -67.14374281,  184.40745999, -102.01226484, -134.79461211,\n",
       "          40.98265633,   -4.65765596,   10.65734741,  119.35012398,\n",
       "        -225.95801685,   27.06281676,  -26.94239271,  -10.78206919]))"
      ]
     },
     "execution_count": 7,
     "metadata": {},
     "output_type": "execute_result"
    }
   ],
   "source": [
    "df"
   ]
  },
  {
   "cell_type": "code",
   "execution_count": 6,
   "metadata": {},
   "outputs": [],
   "source": [
    "X = df[0][:, 0]\n",
    "y = df[0][:, 2]"
   ]
  },
  {
   "cell_type": "code",
   "execution_count": 5,
   "metadata": {},
   "outputs": [
    {
     "data": {
      "text/plain": [
       "<matplotlib.collections.PathCollection at 0x2ab41b32780>"
      ]
     },
     "execution_count": 5,
     "metadata": {},
     "output_type": "execute_result"
    },
    {
     "data": {
      "image/png": "[encoded data removed]",
      "text/plain": [
       "<Figure size 432x288 with 1 Axes>"
      ]
     },
     "metadata": {},
     "output_type": "display_data"
    }
   ],
   "source": [
    "plt.scatter(X, y)"
   ]
  },
  {
   "cell_type": "markdown",
   "metadata": {},
   "source": [
    "We use a Python function to fit a line such that distance between the line and each point (squared) is minimized. After doing this we can plot the value of the line versus the actual data point to check our error. "
   ]
  },
  {
   "cell_type": "code",
   "execution_count": 8,
   "metadata": {
    "collapsed": true
   },
   "outputs": [],
   "source": [
    "from sklearn.linear_model import LinearRegression"
   ]
  },
  {
   "cell_type": "code",
   "execution_count": 9,
   "metadata": {
    "collapsed": true
   },
   "outputs": [],
   "source": [
    "lr = LinearRegression?"
   ]
  },
  {
   "cell_type": "code",
   "execution_count": null,
   "metadata": {
    "collapsed": true
   },
   "outputs": [],
   "source": [
    "lr = LinearRegression"
   ]
  },
  {
   "cell_type": "code",
   "execution_count": 10,
   "metadata": {
    "collapsed": true
   },
   "outputs": [],
   "source": [
    "lr = LinearRegression() # \"Instantiates\" an empty instance of the regression."
   ]
  },
  {
   "cell_type": "code",
   "execution_count": 11,
   "metadata": {},
   "outputs": [
    {
     "data": {
      "text/plain": [
       "LinearRegression(copy_X=True, fit_intercept=True, n_jobs=1, normalize=False)"
      ]
     },
     "execution_count": 11,
     "metadata": {},
     "output_type": "execute_result"
    }
   ],
   "source": [
    "lr.fit(X.reshape(-1,1), y) #We've now fit the model with the data.\n",
    "# reshape method is needed when the X array is 1-dimensional--not sure why, need to Google it."
   ]
  },
  {
   "cell_type": "code",
   "execution_count": 12,
   "metadata": {
    "collapsed": true
   },
   "outputs": [],
   "source": [
    "y_pred = lr.predict(X.reshape(-1,1))\n",
    "#creates an array of predicted Y values"
   ]
  },
  {
   "cell_type": "code",
   "execution_count": 13,
   "metadata": {},
   "outputs": [
    {
     "data": {
      "text/plain": [
       "[<matplotlib.lines.Line2D at 0x210931170f0>]"
      ]
     },
     "execution_count": 13,
     "metadata": {},
     "output_type": "execute_result"
    },
    {
     "data": {
      "image/png": "[encoded data removed]",
      "text/plain": [
       "<matplotlib.figure.Figure at 0x21093117128>"
      ]
     },
     "metadata": {},
     "output_type": "display_data"
    }
   ],
   "source": [
    "plt.scatter(X,y) #plots the data\n",
    "plt.plot(X, y_pred)"
   ]
  },
  {
   "cell_type": "code",
   "execution_count": 14,
   "metadata": {},
   "outputs": [
    {
     "data": {
      "text/plain": [
       "numpy.ndarray"
      ]
     },
     "execution_count": 14,
     "metadata": {},
     "output_type": "execute_result"
    }
   ],
   "source": [
    "diffs = y- y_pred # calculates actual residuals\n",
    "type(diffs)"
   ]
  },
  {
   "cell_type": "code",
   "execution_count": 15,
   "metadata": {},
   "outputs": [
    {
     "data": {
      "text/plain": [
       "0.0"
      ]
     },
     "execution_count": 15,
     "metadata": {},
     "output_type": "execute_result"
    }
   ],
   "source": [
    "np.mean(diffs)  # also diff.mean()"
   ]
  },
  {
   "cell_type": "code",
   "execution_count": 16,
   "metadata": {},
   "outputs": [
    {
     "data": {
      "text/plain": [
       "(array([  6.,   5.,  11.,  25.,  25.,  12.,  10.,   3.,   2.,   1.]),\n",
       " array([-2.174232  , -1.6557539 , -1.1372758 , -0.6187977 , -0.1003196 ,\n",
       "         0.4181585 ,  0.9366366 ,  1.45511471,  1.97359281,  2.49207091,\n",
       "         3.01054901]),\n",
       " <a list of 10 Patch objects>)"
      ]
     },
     "execution_count": 16,
     "metadata": {},
     "output_type": "execute_result"
    },
    {
     "data": {
      "image/png": "[encoded data removed]",
      "text/plain": [
       "<matplotlib.figure.Figure at 0x21093145748>"
      ]
     },
     "metadata": {},
     "output_type": "display_data"
    }
   ],
   "source": [
    "plt.hist(diffs) # histogram of actual residuals.  It should be roughly normal, otherwise it means that the model is better\n",
    "# at predicting some values than others."
   ]
  },
  {
   "cell_type": "markdown",
   "metadata": {},
   "source": [
    "### Residual Shape"
   ]
  },
  {
   "cell_type": "code",
   "execution_count": 17,
   "metadata": {
    "collapsed": true
   },
   "outputs": [],
   "source": [
    "#mean squared error--a method of measuring the error of the model\n",
    "from sklearn.metrics import mean_squared_error"
   ]
  },
  {
   "cell_type": "code",
   "execution_count": 18,
   "metadata": {
    "collapsed": true
   },
   "outputs": [],
   "source": [
    "mse = mean_squared_error(y_pred, y) #Calculates the mean-squared error between Y and Predicted-Y.\n",
    "rmse = np.sqrt(mse) # Takes the square root of mse to find RMS error."
   ]
  },
  {
   "cell_type": "code",
   "execution_count": 19,
   "metadata": {},
   "outputs": [
    {
     "name": "stdout",
     "output_type": "stream",
     "text": [
      "The mean squared error is: 0.94\n"
     ]
    }
   ],
   "source": [
    "print('The mean squared error is: {:.2f}'.format(mse, \"\\n\"))\n",
    "\n",
    "#Figure out how to make this work."
   ]
  },
  {
   "cell_type": "code",
   "execution_count": null,
   "metadata": {
    "collapsed": true
   },
   "outputs": [],
   "source": []
  },
  {
   "cell_type": "code",
   "execution_count": null,
   "metadata": {
    "collapsed": true
   },
   "outputs": [],
   "source": []
  },
  {
   "cell_type": "markdown",
   "metadata": {},
   "source": [
    "## Other Situations\n",
    "\n",
    "Our goal with regression is to identify situations where regression makes sense, fit models and discuss the reasonableness of the model for describing the data.  Data does not always come in linear forms however.  \n",
    "\n",
    "We can easily generate sample data for familiar curves.  First, we can make some lists of polynomial form, then we will add some noise to these, fit models with `np.polyfit()`, and plot the results.  \n",
    "\n",
    "\n"
   ]
  },
  {
   "cell_type": "markdown",
   "metadata": {},
   "source": [
    "### Non-Linear Functions\n",
    "\n",
    "Plotting and fitting non-linear functions follows a similar pattern, however we need to take into consideration the nature of the function.  First, if we see something following a polynomial pattern, we can just use whatever degree polynomial fit we believe is relevant.  The derivation of these formulas follows the same structure as the linear case, except you are replacing the line $a - bx_i$ with a polynomial $a + bx_i + cx_i^2...$.\n",
    "\n",
    "If we believe there to be an exponential fit, we can transform this into a linear situation using the logarithm.  For example, suppose we have the following population data.\n",
    "\n",
    "| Decade $t$ | Year | Population |\n",
    "| ----- | ------ | ----- |\n",
    "| 0 | 1780 | 2.8 | \n",
    "| 1 | 1790 | 3.9 | \n",
    "| 2 | 1800 | 5.3 | \n",
    "| 3 | 1810 | 7.2 |\n",
    "\n",
    "If we examine the data, we see an exponential like trend.  If we use NumPy to find the logarithm of the population values and plot the result, we note the transformed datas similarity to a linear function."
   ]
  },
  {
   "cell_type": "code",
   "execution_count": 23,
   "metadata": {
    "collapsed": true
   },
   "outputs": [],
   "source": [
    "np.arange?"
   ]
  },
  {
   "cell_type": "code",
   "execution_count": 24,
   "metadata": {
    "collapsed": true
   },
   "outputs": [],
   "source": [
    "t = np.arange(0,13)  #Google what np.arange \"arrange?\" does.\n",
    "year = np.arange(1780,1910,10)\n",
    "P = [2.8, 3.9, 5.3, 7.2, 9.6, 12.9, 17.1, 23.2, 31.4, 39.8, 50.2, 62.9, 76.0]"
   ]
  },
  {
   "cell_type": "code",
   "execution_count": 25,
   "metadata": {},
   "outputs": [
    {
     "data": {
      "text/plain": [
       "<matplotlib.text.Text at 0x21093337780>"
      ]
     },
     "execution_count": 25,
     "metadata": {},
     "output_type": "execute_result"
    },
    {
     "data": {
      "image/png": "[encoded data removed]",
      "text/plain": [
       "<matplotlib.figure.Figure at 0x21093171240>"
      ]
     },
     "metadata": {},
     "output_type": "display_data"
    }
   ],
   "source": [
    "plt.figure(figsize = (7,5))\n",
    "plt.subplot(1, 2, 1)\n",
    "plt.scatter(year, P,color = 'red', alpha = 0.7)\n",
    "plt.xlabel('Year')\n",
    "plt.ylabel('Population')\n",
    "plt.title(\"Original Data\")\n",
    "\n",
    "plt.subplot(1, 2, 2)\n",
    "lnP = np.log(P)\n",
    "plt.scatter(year, lnP, color = 'green', alpha = 0.4)\n",
    "plt.xlabel('Year')\n",
    "plt.ylabel('Logarithm of Population')\n",
    "plt.title(\"Transformed Data\")"
   ]
  },
  {
   "cell_type": "markdown",
   "metadata": {},
   "source": [
    "Symbolically, we would imagine the original function as an exponential of the form\n",
    "\n",
    "$$y = ae^{bx}$$\n",
    "\n",
    "The expression can be explored in a similar manner, where we use Sympy to find the effect of the logarithm."
   ]
  },
  {
   "cell_type": "code",
   "execution_count": 26,
   "metadata": {
    "collapsed": true
   },
   "outputs": [],
   "source": [
    "y, a, b, x = sy.symbols('y a b x')"
   ]
  },
  {
   "cell_type": "code",
   "execution_count": 27,
   "metadata": {
    "collapsed": true
   },
   "outputs": [],
   "source": [
    "eq = sy.Eq(y, a*sy.exp(b*x))"
   ]
  },
  {
   "cell_type": "code",
   "execution_count": 28,
   "metadata": {},
   "outputs": [
    {
     "data": {
      "text/plain": [
       "log(b**x)"
      ]
     },
     "execution_count": 28,
     "metadata": {},
     "output_type": "execute_result"
    }
   ],
   "source": [
    "sy.expand_log(sy.log(b**x))"
   ]
  },
  {
   "cell_type": "code",
   "execution_count": 29,
   "metadata": {},
   "outputs": [
    {
     "data": {
      "text/plain": [
       "b*x + log(a)"
      ]
     },
     "execution_count": 29,
     "metadata": {},
     "output_type": "execute_result"
    }
   ],
   "source": [
    "sy.expand_log(sy.log(a*sy.exp(b*x)), force = True)"
   ]
  },
  {
   "cell_type": "markdown",
   "metadata": {},
   "source": [
    "Hence, we have that\n",
    "\n",
    "$$\\log(y) = bx + \\log(a)$$\n",
    "\n",
    "which should look like our familiar linear equations.  Here, we can find $a$ and $b$, then convert the equation back to its original form by undoing the logarithm with the exponential."
   ]
  },
  {
   "cell_type": "markdown",
   "metadata": {},
   "source": [
    "For kicks, we introduce the SciPy `linregress` function.  Feel free to examine the help documentation for the function.  This gives a little more information about the model than the `polyfit` function.  Further, we add text to the plot to display information about the model."
   ]
  },
  {
   "cell_type": "code",
   "execution_count": 30,
   "metadata": {},
   "outputs": [],
   "source": [
    "line = np.polyfit(year, lnP, 1)\n",
    "fit = np.polyval(line, year)"
   ]
  },
  {
   "cell_type": "code",
   "execution_count": 31,
   "metadata": {},
   "outputs": [
    {
     "data": {
      "text/plain": [
       "[<matplotlib.lines.Line2D at 0x21092ff4a20>]"
      ]
     },
     "execution_count": 31,
     "metadata": {},
     "output_type": "execute_result"
    },
    {
     "data": {
      "image/png": "[encoded data removed]",
      "text/plain": [
       "<matplotlib.figure.Figure at 0x2109338bf98>"
      ]
     },
     "metadata": {},
     "output_type": "display_data"
    }
   ],
   "source": [
    "fig = plt.figure(figsize = (10,5))\n",
    "\n",
    "fig.add_subplot(121)\n",
    "plt.plot(year, np.exp(fit))\n",
    "plt.plot(year, P, 'o', markersize = 7, alpha = 0.8)\n",
    "\n",
    "fig.add_subplot(122)\n",
    "plt.plot(year, fit)\n",
    "plt.plot(year, lnP, 'o', markersize = 7, alpha = 0.8)"
   ]
  },
  {
   "cell_type": "markdown",
   "metadata": {},
   "source": [
    "## Logistic Example\n",
    "\n",
    "As you see above, towards the end of our model the actual and predicted values seem to diverge.  Considering the context, this makes sense.  A population should reach some maximum levels due to physical resources.  A more S shaped curve is the logistic function which is given by \n",
    "\n",
    "$$y = \\frac{L}{1 + e^{a+bx}}$$\n",
    "\n",
    "As an example, consider the Inter Continental Ballistic Missle Data for 1960 - 1969.\n",
    "\n",
    "| Year | Number of ICBM's |\n",
    "| --- | --- |\n",
    "| 1960 | 18 |\n",
    "| 1961 | 63 |\n",
    "| 1962 | 294 |\n",
    "| 1963 | 424 |\n",
    "| 1964 | 834 |\n",
    "| 1965 | 854 |\n",
    "| 1966 | 904 |\n",
    "| 1967 | 1054 |\n",
    "| 1968 | 1054 |\n",
    "| 1969 | 1054 |"
   ]
  },
  {
   "cell_type": "code",
   "execution_count": 32,
   "metadata": {
    "collapsed": true
   },
   "outputs": [],
   "source": [
    "year = [i for i in np.arange(1960, 1970, 1)]\n",
    "icbm = [18, 63, 294, 424, 834, 854, 904, 1054, 1054, 1054]"
   ]
  },
  {
   "cell_type": "code",
   "execution_count": 33,
   "metadata": {},
   "outputs": [
    {
     "data": {
      "text/plain": [
       "<matplotlib.collections.PathCollection at 0x2109354e3c8>"
      ]
     },
     "execution_count": 33,
     "metadata": {},
     "output_type": "execute_result"
    },
    {
     "data": {
      "image/png": "[encoded data removed]",
      "text/plain": [
       "<matplotlib.figure.Figure at 0x210932124e0>"
      ]
     },
     "metadata": {},
     "output_type": "display_data"
    }
   ],
   "source": [
    "plt.scatter(year, icbm)"
   ]
  },
  {
   "cell_type": "code",
   "execution_count": 34,
   "metadata": {
    "collapsed": true
   },
   "outputs": [],
   "source": [
    "L, y, a, b, x = sy.symbols('L y a b x')"
   ]
  },
  {
   "cell_type": "code",
   "execution_count": 35,
   "metadata": {
    "collapsed": true
   },
   "outputs": [],
   "source": [
    "sy.symbols?"
   ]
  },
  {
   "cell_type": "code",
   "execution_count": 36,
   "metadata": {
    "collapsed": true
   },
   "outputs": [],
   "source": [
    "exp = sy.Eq(y, L/(1 + sy.exp(a + b*x)))"
   ]
  },
  {
   "cell_type": "code",
   "execution_count": 37,
   "metadata": {},
   "outputs": [
    {
     "data": {
      "text/plain": [
       "[log((L - y)/y)]"
      ]
     },
     "execution_count": 37,
     "metadata": {},
     "output_type": "execute_result"
    }
   ],
   "source": [
    "sy.solve(exp, (a + b*x),  force = True)"
   ]
  },
  {
   "cell_type": "markdown",
   "metadata": {},
   "source": [
    "This means that the tranformation that linearizes our data is \n",
    "\n",
    "$$\\log(\\frac{L - y}{y})$$\n",
    "\n",
    "The value $L$ is defined as the *carrying capacity* of the model.  Here, it seems something like $L = 1060$ would be a reasonable value to try.  "
   ]
  },
  {
   "cell_type": "code",
   "execution_count": 38,
   "metadata": {
    "collapsed": true
   },
   "outputs": [],
   "source": [
    "t_icbm = [np.log((1060 - i)/i) for i in icbm]"
   ]
  },
  {
   "cell_type": "code",
   "execution_count": 39,
   "metadata": {},
   "outputs": [
    {
     "data": {
      "text/plain": [
       "<matplotlib.collections.PathCollection at 0x2109366ed30>"
      ]
     },
     "execution_count": 39,
     "metadata": {},
     "output_type": "execute_result"
    },
    {
     "data": {
      "image/png": "[encoded data removed]",
      "text/plain": [
       "<matplotlib.figure.Figure at 0x21093261400>"
      ]
     },
     "metadata": {},
     "output_type": "display_data"
    }
   ],
   "source": [
    "plt.scatter(year, t_icbm)"
   ]
  },
  {
   "cell_type": "code",
   "execution_count": 40,
   "metadata": {
    "collapsed": true
   },
   "outputs": [],
   "source": [
    "b, a = np.polyfit(year, t_icbm, 1)"
   ]
  },
  {
   "cell_type": "code",
   "execution_count": 41,
   "metadata": {},
   "outputs": [
    {
     "data": {
      "text/plain": [
       "(2091.7866057847828, -1.0653944179379069)"
      ]
     },
     "execution_count": 41,
     "metadata": {},
     "output_type": "execute_result"
    }
   ],
   "source": [
    "a, b"
   ]
  },
  {
   "cell_type": "code",
   "execution_count": 42,
   "metadata": {},
   "outputs": [
    {
     "data": {
      "text/plain": [
       "(3.6135466264850038, -5.9750031349558412)"
      ]
     },
     "execution_count": 42,
     "metadata": {},
     "output_type": "execute_result"
    }
   ],
   "source": [
    "def l(x):\n",
    "    return b*x + a\n",
    "\n",
    "l(1960), l(1969)"
   ]
  },
  {
   "cell_type": "code",
   "execution_count": 43,
   "metadata": {
    "collapsed": true
   },
   "outputs": [],
   "source": [
    "fit = [l(i) for i in year]"
   ]
  },
  {
   "cell_type": "code",
   "execution_count": 44,
   "metadata": {},
   "outputs": [
    {
     "data": {
      "text/plain": [
       "<matplotlib.text.Text at 0x210936bf128>"
      ]
     },
     "execution_count": 44,
     "metadata": {},
     "output_type": "execute_result"
    },
    {
     "data": {
      "image/png": "[encoded data removed]",
      "text/plain": [
       "<matplotlib.figure.Figure at 0x210934ed6a0>"
      ]
     },
     "metadata": {},
     "output_type": "display_data"
    }
   ],
   "source": [
    "plt.scatter(year, t_icbm)\n",
    "plt.plot(year, fit)\n",
    "plt.title(\"Fitting ICBM Data\")\n",
    "plt.xlabel(\"Year\")\n",
    "plt.ylabel(\"Transformed ICMB Data\")"
   ]
  },
  {
   "cell_type": "markdown",
   "metadata": {},
   "source": [
    "Much like the last example, we can return everything to its original form with the exponential.  We arrive at the equation\n",
    "\n",
    "$$y = \\frac{1060}{1 + e^{2092 - 1.0654x}}$$"
   ]
  },
  {
   "cell_type": "code",
   "execution_count": 45,
   "metadata": {
    "collapsed": true
   },
   "outputs": [],
   "source": [
    "def y(x):\n",
    "    return 1060/(1 + np.exp(2092 - 1.0654*x))\n",
    "\n",
    "o_fit = [y(i) for i in year]"
   ]
  },
  {
   "cell_type": "code",
   "execution_count": 46,
   "metadata": {},
   "outputs": [
    {
     "data": {
      "text/plain": [
       "<matplotlib.text.Text at 0x210936bfc88>"
      ]
     },
     "execution_count": 46,
     "metadata": {},
     "output_type": "execute_result"
    },
    {
     "data": {
      "image/png": "[encoded data removed]",
      "text/plain": [
       "<matplotlib.figure.Figure at 0x210936d73c8>"
      ]
     },
     "metadata": {},
     "output_type": "display_data"
    }
   ],
   "source": [
    "plt.scatter(year, icbm)\n",
    "plt.plot(year, o_fit, '--k')\n",
    "plt.title(\"ICBM Data and Logistic Fit\")\n",
    "plt.xlabel(\"Year\")\n",
    "plt.ylabel(\"ICMB's\")"
   ]
  },
  {
   "cell_type": "markdown",
   "metadata": {},
   "source": [
    "### Example\n",
    "\n",
    "The dataset below contains historical data dealing with some basic human development indicies.  Your goal is to explore the relationship between life expectancy and GDP.  Examine a linear regression model that you build on the most recent data comparing GDP per capita and life expectancy."
   ]
  },
  {
   "cell_type": "code",
   "execution_count": 47,
   "metadata": {
    "collapsed": true
   },
   "outputs": [],
   "source": [
    "gap = pd.read_csv('data/gapminder_all.csv')"
   ]
  },
  {
   "cell_type": "code",
   "execution_count": 48,
   "metadata": {},
   "outputs": [
    {
     "data": {
      "text/html": [
       "<div>\n",
       "<style>\n",
       "    .dataframe thead tr:only-child th {\n",
       "        text-align: right;\n",
       "    }\n",
       "\n",
       "    .dataframe thead th {\n",
       "        text-align: left;\n",
       "    }\n",
       "\n",
       "    .dataframe tbody tr th {\n",
       "        vertical-align: top;\n",
       "    }\n",
       "</style>\n",
       "<table border=\"1\" class=\"dataframe\">\n",
       "  <thead>\n",
       "    <tr style=\"text-align: right;\">\n",
       "      <th></th>\n",
       "      <th>continent</th>\n",
       "      <th>country</th>\n",
       "      <th>gdpPercap_1952</th>\n",
       "      <th>gdpPercap_1957</th>\n",
       "      <th>gdpPercap_1962</th>\n",
       "      <th>gdpPercap_1967</th>\n",
       "      <th>gdpPercap_1972</th>\n",
       "      <th>gdpPercap_1977</th>\n",
       "      <th>gdpPercap_1982</th>\n",
       "      <th>gdpPercap_1987</th>\n",
       "      <th>...</th>\n",
       "      <th>pop_1962</th>\n",
       "      <th>pop_1967</th>\n",
       "      <th>pop_1972</th>\n",
       "      <th>pop_1977</th>\n",
       "      <th>pop_1982</th>\n",
       "      <th>pop_1987</th>\n",
       "      <th>pop_1992</th>\n",
       "      <th>pop_1997</th>\n",
       "      <th>pop_2002</th>\n",
       "      <th>pop_2007</th>\n",
       "    </tr>\n",
       "  </thead>\n",
       "  <tbody>\n",
       "    <tr>\n",
       "      <th>0</th>\n",
       "      <td>Africa</td>\n",
       "      <td>Algeria</td>\n",
       "      <td>2449.008185</td>\n",
       "      <td>3013.976023</td>\n",
       "      <td>2550.816880</td>\n",
       "      <td>3246.991771</td>\n",
       "      <td>4182.663766</td>\n",
       "      <td>4910.416756</td>\n",
       "      <td>5745.160213</td>\n",
       "      <td>5681.358539</td>\n",
       "      <td>...</td>\n",
       "      <td>11000948.0</td>\n",
       "      <td>12760499.0</td>\n",
       "      <td>14760787.0</td>\n",
       "      <td>17152804.0</td>\n",
       "      <td>20033753.0</td>\n",
       "      <td>23254956.0</td>\n",
       "      <td>26298373.0</td>\n",
       "      <td>29072015.0</td>\n",
       "      <td>31287142</td>\n",
       "      <td>33333216</td>\n",
       "    </tr>\n",
       "    <tr>\n",
       "      <th>1</th>\n",
       "      <td>Africa</td>\n",
       "      <td>Angola</td>\n",
       "      <td>3520.610273</td>\n",
       "      <td>3827.940465</td>\n",
       "      <td>4269.276742</td>\n",
       "      <td>5522.776375</td>\n",
       "      <td>5473.288005</td>\n",
       "      <td>3008.647355</td>\n",
       "      <td>2756.953672</td>\n",
       "      <td>2430.208311</td>\n",
       "      <td>...</td>\n",
       "      <td>4826015.0</td>\n",
       "      <td>5247469.0</td>\n",
       "      <td>5894858.0</td>\n",
       "      <td>6162675.0</td>\n",
       "      <td>7016384.0</td>\n",
       "      <td>7874230.0</td>\n",
       "      <td>8735988.0</td>\n",
       "      <td>9875024.0</td>\n",
       "      <td>10866106</td>\n",
       "      <td>12420476</td>\n",
       "    </tr>\n",
       "    <tr>\n",
       "      <th>2</th>\n",
       "      <td>Africa</td>\n",
       "      <td>Benin</td>\n",
       "      <td>1062.752200</td>\n",
       "      <td>959.601080</td>\n",
       "      <td>949.499064</td>\n",
       "      <td>1035.831411</td>\n",
       "      <td>1085.796879</td>\n",
       "      <td>1029.161251</td>\n",
       "      <td>1277.897616</td>\n",
       "      <td>1225.856010</td>\n",
       "      <td>...</td>\n",
       "      <td>2151895.0</td>\n",
       "      <td>2427334.0</td>\n",
       "      <td>2761407.0</td>\n",
       "      <td>3168267.0</td>\n",
       "      <td>3641603.0</td>\n",
       "      <td>4243788.0</td>\n",
       "      <td>4981671.0</td>\n",
       "      <td>6066080.0</td>\n",
       "      <td>7026113</td>\n",
       "      <td>8078314</td>\n",
       "    </tr>\n",
       "    <tr>\n",
       "      <th>3</th>\n",
       "      <td>Africa</td>\n",
       "      <td>Botswana</td>\n",
       "      <td>851.241141</td>\n",
       "      <td>918.232535</td>\n",
       "      <td>983.653976</td>\n",
       "      <td>1214.709294</td>\n",
       "      <td>2263.611114</td>\n",
       "      <td>3214.857818</td>\n",
       "      <td>4551.142150</td>\n",
       "      <td>6205.883850</td>\n",
       "      <td>...</td>\n",
       "      <td>512764.0</td>\n",
       "      <td>553541.0</td>\n",
       "      <td>619351.0</td>\n",
       "      <td>781472.0</td>\n",
       "      <td>970347.0</td>\n",
       "      <td>1151184.0</td>\n",
       "      <td>1342614.0</td>\n",
       "      <td>1536536.0</td>\n",
       "      <td>1630347</td>\n",
       "      <td>1639131</td>\n",
       "    </tr>\n",
       "    <tr>\n",
       "      <th>4</th>\n",
       "      <td>Africa</td>\n",
       "      <td>Burkina Faso</td>\n",
       "      <td>543.255241</td>\n",
       "      <td>617.183465</td>\n",
       "      <td>722.512021</td>\n",
       "      <td>794.826560</td>\n",
       "      <td>854.735976</td>\n",
       "      <td>743.387037</td>\n",
       "      <td>807.198586</td>\n",
       "      <td>912.063142</td>\n",
       "      <td>...</td>\n",
       "      <td>4919632.0</td>\n",
       "      <td>5127935.0</td>\n",
       "      <td>5433886.0</td>\n",
       "      <td>5889574.0</td>\n",
       "      <td>6634596.0</td>\n",
       "      <td>7586551.0</td>\n",
       "      <td>8878303.0</td>\n",
       "      <td>10352843.0</td>\n",
       "      <td>12251209</td>\n",
       "      <td>14326203</td>\n",
       "    </tr>\n",
       "  </tbody>\n",
       "</table>\n",
       "<p>5 rows × 38 columns</p>\n",
       "</div>"
      ],
      "text/plain": [
       "  continent       country  gdpPercap_1952  gdpPercap_1957  gdpPercap_1962  \\\n",
       "0    Africa       Algeria     2449.008185     3013.976023     2550.816880   \n",
       "1    Africa        Angola     3520.610273     3827.940465     4269.276742   \n",
       "2    Africa         Benin     1062.752200      959.601080      949.499064   \n",
       "3    Africa      Botswana      851.241141      918.232535      983.653976   \n",
       "4    Africa  Burkina Faso      543.255241      617.183465      722.512021   \n",
       "\n",
       "   gdpPercap_1967  gdpPercap_1972  gdpPercap_1977  gdpPercap_1982  \\\n",
       "0     3246.991771     4182.663766     4910.416756     5745.160213   \n",
       "1     5522.776375     5473.288005     3008.647355     2756.953672   \n",
       "2     1035.831411     1085.796879     1029.161251     1277.897616   \n",
       "3     1214.709294     2263.611114     3214.857818     4551.142150   \n",
       "4      794.826560      854.735976      743.387037      807.198586   \n",
       "\n",
       "   gdpPercap_1987    ...       pop_1962    pop_1967    pop_1972    pop_1977  \\\n",
       "0     5681.358539    ...     11000948.0  12760499.0  14760787.0  17152804.0   \n",
       "1     2430.208311    ...      4826015.0   5247469.0   5894858.0   6162675.0   \n",
       "2     1225.856010    ...      2151895.0   2427334.0   2761407.0   3168267.0   \n",
       "3     6205.883850    ...       512764.0    553541.0    619351.0    781472.0   \n",
       "4      912.063142    ...      4919632.0   5127935.0   5433886.0   5889574.0   \n",
       "\n",
       "     pop_1982    pop_1987    pop_1992    pop_1997  pop_2002  pop_2007  \n",
       "0  20033753.0  23254956.0  26298373.0  29072015.0  31287142  33333216  \n",
       "1   7016384.0   7874230.0   8735988.0   9875024.0  10866106  12420476  \n",
       "2   3641603.0   4243788.0   4981671.0   6066080.0   7026113   8078314  \n",
       "3    970347.0   1151184.0   1342614.0   1536536.0   1630347   1639131  \n",
       "4   6634596.0   7586551.0   8878303.0  10352843.0  12251209  14326203  \n",
       "\n",
       "[5 rows x 38 columns]"
      ]
     },
     "execution_count": 48,
     "metadata": {},
     "output_type": "execute_result"
    }
   ],
   "source": [
    "gap.head()"
   ]
  },
  {
   "cell_type": "code",
   "execution_count": 49,
   "metadata": {
    "collapsed": true
   },
   "outputs": [],
   "source": [
    "gap_lr = LinearRegression()\n",
    "X=gap.gdpPercap_1952\n",
    "Y=gap.lifeExp_1952"
   ]
  },
  {
   "cell_type": "code",
   "execution_count": 50,
   "metadata": {},
   "outputs": [
    {
     "data": {
      "text/plain": [
       "11.702513196248493"
      ]
     },
     "execution_count": 50,
     "metadata": {},
     "output_type": "execute_result"
    }
   ],
   "source": [
    "gap_lr.fit(X.values.reshape(-1,1), Y) #We've now fit the model with the data.\n",
    "gap_pred = gap_lr.predict(X.values.reshape(-1,1))\n",
    "mse = mean_squared_error(gap_pred, Y)\n",
    "mse.mean()\n",
    "np.sqrt(mse.mean())"
   ]
  },
  {
   "cell_type": "code",
   "execution_count": 51,
   "metadata": {},
   "outputs": [
    {
     "data": {
      "text/plain": [
       "[<matplotlib.lines.Line2D at 0x210937ded68>]"
      ]
     },
     "execution_count": 51,
     "metadata": {},
     "output_type": "execute_result"
    },
    {
     "data": {
      "image/png": "[encoded data removed]",
      "text/plain": [
       "<matplotlib.figure.Figure at 0x210937de208>"
      ]
     },
     "metadata": {},
     "output_type": "display_data"
    }
   ],
   "source": [
    "plt.scatter(X,Y)\n",
    "plt.plot(X, gap_pred)"
   ]
  },
  {
   "cell_type": "code",
   "execution_count": 52,
   "metadata": {
    "collapsed": true
   },
   "outputs": [],
   "source": [
    "X = gap.lifeExp_2007\n",
    "Y = np.log(gap.gdpPercap_2007)\n",
    "gap_lr = LinearRegression()"
   ]
  },
  {
   "cell_type": "code",
   "execution_count": 53,
   "metadata": {},
   "outputs": [
    {
     "data": {
      "text/plain": [
       "0.79428038731987072"
      ]
     },
     "execution_count": 53,
     "metadata": {},
     "output_type": "execute_result"
    }
   ],
   "source": [
    "gap_lr.fit(X.values.reshape(-1,1), Y) #We've now fit the model with the data.\n",
    "gap_pred = gap_lr.predict(X.values.reshape(-1,1))\n",
    "mse = mean_squared_error(gap_pred, Y)\n",
    "mse.mean()\n",
    "np.sqrt(mse.mean())"
   ]
  },
  {
   "cell_type": "code",
   "execution_count": 54,
   "metadata": {},
   "outputs": [
    {
     "data": {
      "text/plain": [
       "[<matplotlib.lines.Line2D at 0x2109389c278>]"
      ]
     },
     "execution_count": 54,
     "metadata": {},
     "output_type": "execute_result"
    },
    {
     "data": {
      "image/png": "[encoded data removed]",
      "text/plain": [
       "<matplotlib.figure.Figure at 0x2109356cda0>"
      ]
     },
     "metadata": {},
     "output_type": "display_data"
    }
   ],
   "source": [
    "plt.scatter(X,Y)\n",
    "plt.plot(X, gap_pred)"
   ]
  },
  {
   "cell_type": "markdown",
   "metadata": {},
   "source": [
    "#    #  tHE above isn't that great--use the below for notes\n",
    "   "
   ]
  },
  {
   "cell_type": "code",
   "execution_count": 55,
   "metadata": {
    "collapsed": true
   },
   "outputs": [],
   "source": [
    "from sklearn.datasets import fetch_california_housing\n",
    "import pandas as pd"
   ]
  },
  {
   "cell_type": "code",
   "execution_count": 56,
   "metadata": {},
   "outputs": [],
   "source": [
    "cali = fetch_california_housing()"
   ]
  },
  {
   "cell_type": "code",
   "execution_count": 57,
   "metadata": {},
   "outputs": [
    {
     "data": {
      "text/html": [
       "<div>\n",
       "<style>\n",
       "    .dataframe thead tr:only-child th {\n",
       "        text-align: right;\n",
       "    }\n",
       "\n",
       "    .dataframe thead th {\n",
       "        text-align: left;\n",
       "    }\n",
       "\n",
       "    .dataframe tbody tr th {\n",
       "        vertical-align: top;\n",
       "    }\n",
       "</style>\n",
       "<table border=\"1\" class=\"dataframe\">\n",
       "  <thead>\n",
       "    <tr style=\"text-align: right;\">\n",
       "      <th></th>\n",
       "      <th>MedInc</th>\n",
       "      <th>HouseAge</th>\n",
       "      <th>AveRooms</th>\n",
       "      <th>AveBedrms</th>\n",
       "      <th>Population</th>\n",
       "      <th>AveOccup</th>\n",
       "      <th>Latitude</th>\n",
       "      <th>Longitude</th>\n",
       "    </tr>\n",
       "  </thead>\n",
       "  <tbody>\n",
       "    <tr>\n",
       "      <th>0</th>\n",
       "      <td>8.3252</td>\n",
       "      <td>41.0</td>\n",
       "      <td>6.984127</td>\n",
       "      <td>1.023810</td>\n",
       "      <td>322.0</td>\n",
       "      <td>2.555556</td>\n",
       "      <td>37.88</td>\n",
       "      <td>-122.23</td>\n",
       "    </tr>\n",
       "    <tr>\n",
       "      <th>1</th>\n",
       "      <td>8.3014</td>\n",
       "      <td>21.0</td>\n",
       "      <td>6.238137</td>\n",
       "      <td>0.971880</td>\n",
       "      <td>2401.0</td>\n",
       "      <td>2.109842</td>\n",
       "      <td>37.86</td>\n",
       "      <td>-122.22</td>\n",
       "    </tr>\n",
       "    <tr>\n",
       "      <th>2</th>\n",
       "      <td>7.2574</td>\n",
       "      <td>52.0</td>\n",
       "      <td>8.288136</td>\n",
       "      <td>1.073446</td>\n",
       "      <td>496.0</td>\n",
       "      <td>2.802260</td>\n",
       "      <td>37.85</td>\n",
       "      <td>-122.24</td>\n",
       "    </tr>\n",
       "    <tr>\n",
       "      <th>3</th>\n",
       "      <td>5.6431</td>\n",
       "      <td>52.0</td>\n",
       "      <td>5.817352</td>\n",
       "      <td>1.073059</td>\n",
       "      <td>558.0</td>\n",
       "      <td>2.547945</td>\n",
       "      <td>37.85</td>\n",
       "      <td>-122.25</td>\n",
       "    </tr>\n",
       "    <tr>\n",
       "      <th>4</th>\n",
       "      <td>3.8462</td>\n",
       "      <td>52.0</td>\n",
       "      <td>6.281853</td>\n",
       "      <td>1.081081</td>\n",
       "      <td>565.0</td>\n",
       "      <td>2.181467</td>\n",
       "      <td>37.85</td>\n",
       "      <td>-122.25</td>\n",
       "    </tr>\n",
       "  </tbody>\n",
       "</table>\n",
       "</div>"
      ],
      "text/plain": [
       "   MedInc  HouseAge  AveRooms  AveBedrms  Population  AveOccup  Latitude  \\\n",
       "0  8.3252      41.0  6.984127   1.023810       322.0  2.555556     37.88   \n",
       "1  8.3014      21.0  6.238137   0.971880      2401.0  2.109842     37.86   \n",
       "2  7.2574      52.0  8.288136   1.073446       496.0  2.802260     37.85   \n",
       "3  5.6431      52.0  5.817352   1.073059       558.0  2.547945     37.85   \n",
       "4  3.8462      52.0  6.281853   1.081081       565.0  2.181467     37.85   \n",
       "\n",
       "   Longitude  \n",
       "0    -122.23  \n",
       "1    -122.22  \n",
       "2    -122.24  \n",
       "3    -122.25  \n",
       "4    -122.25  "
      ]
     },
     "execution_count": 57,
     "metadata": {},
     "output_type": "execute_result"
    }
   ],
   "source": [
    "cali_houses = pd.DataFrame(cali.data, columns = cali.feature_names)\n",
    "cali_houses.head()"
   ]
  },
  {
   "cell_type": "code",
   "execution_count": 58,
   "metadata": {
    "collapsed": true
   },
   "outputs": [],
   "source": [
    "cali_houses['housing_price'] = cali.target"
   ]
  },
  {
   "cell_type": "code",
   "execution_count": 59,
   "metadata": {
    "collapsed": true
   },
   "outputs": [],
   "source": [
    "y = cali_houses.housing_price\n",
    "X = cali_houses.MedInc"
   ]
  },
  {
   "cell_type": "code",
   "execution_count": 60,
   "metadata": {},
   "outputs": [
    {
     "data": {
      "text/plain": [
       "0.83733574526169174"
      ]
     },
     "execution_count": 60,
     "metadata": {},
     "output_type": "execute_result"
    }
   ],
   "source": [
    "lr = LinearRegression()\n",
    "lr.fit(X.values.reshape(-1,1), y) #We've now fit the model with the data.\n",
    "y_pred = lr.predict(X.values.reshape(-1,1))\n",
    "mse = mean_squared_error(y_pred, y)\n",
    "mse.mean()\n",
    "np.sqrt(mse.mean())"
   ]
  },
  {
   "cell_type": "code",
   "execution_count": 61,
   "metadata": {},
   "outputs": [
    {
     "data": {
      "text/plain": [
       "[<matplotlib.lines.Line2D at 0x2109381cda0>]"
      ]
     },
     "execution_count": 61,
     "metadata": {},
     "output_type": "execute_result"
    },
    {
     "data": {
      "image/png": "[encoded data removed]",
      "text/plain": [
       "<matplotlib.figure.Figure at 0x21093929c88>"
      ]
     },
     "metadata": {},
     "output_type": "display_data"
    }
   ],
   "source": [
    "plt.scatter(X,y)\n",
    "plt.plot(X, y_pred)"
   ]
  },
  {
   "cell_type": "code",
   "execution_count": 62,
   "metadata": {
    "collapsed": true
   },
   "outputs": [],
   "source": [
    "y = cali_houses.housing_price\n",
    "X = cali_houses[['AveRooms', 'AveBedrms']]"
   ]
  },
  {
   "cell_type": "code",
   "execution_count": 63,
   "metadata": {
    "collapsed": true
   },
   "outputs": [],
   "source": [
    "def basic_lrfit(X, y):\n",
    "    lr = LinearRegression()\n",
    "    lr.fit(X, y) #We've now fit the model with the data.\n",
    "    y_pred = lr.predict(X)\n",
    "    mse = mean_squared_error(y_pred, y)\n",
    "    MSE = mse.mean()\n",
    "    RMSE = np.sqrt(mse.mean())\n",
    "    print(\"mean sq. error is\", MSE)\n",
    "    print(\"RMSE is\", RMSE)"
   ]
  },
  {
   "cell_type": "code",
   "execution_count": 64,
   "metadata": {},
   "outputs": [
    {
     "name": "stdout",
     "output_type": "stream",
     "text": [
      "mean sq. error is 1.15514366192\n",
      "RMSE is 1.0747760985\n"
     ]
    }
   ],
   "source": [
    "basic_lrfit(X,y)"
   ]
  },
  {
   "cell_type": "code",
   "execution_count": 65,
   "metadata": {
    "collapsed": true
   },
   "outputs": [],
   "source": [
    "corr = cali_houses.corr()"
   ]
  },
  {
   "cell_type": "code",
   "execution_count": 66,
   "metadata": {},
   "outputs": [
    {
     "data": {
      "text/html": [
       "<div>\n",
       "<style>\n",
       "    .dataframe thead tr:only-child th {\n",
       "        text-align: right;\n",
       "    }\n",
       "\n",
       "    .dataframe thead th {\n",
       "        text-align: left;\n",
       "    }\n",
       "\n",
       "    .dataframe tbody tr th {\n",
       "        vertical-align: top;\n",
       "    }\n",
       "</style>\n",
       "<table border=\"1\" class=\"dataframe\">\n",
       "  <thead>\n",
       "    <tr style=\"text-align: right;\">\n",
       "      <th></th>\n",
       "      <th>MedInc</th>\n",
       "      <th>HouseAge</th>\n",
       "      <th>AveRooms</th>\n",
       "      <th>AveBedrms</th>\n",
       "      <th>Population</th>\n",
       "      <th>AveOccup</th>\n",
       "      <th>Latitude</th>\n",
       "      <th>Longitude</th>\n",
       "      <th>housing_price</th>\n",
       "    </tr>\n",
       "  </thead>\n",
       "  <tbody>\n",
       "    <tr>\n",
       "      <th>MedInc</th>\n",
       "      <td>1.000000</td>\n",
       "      <td>-0.119034</td>\n",
       "      <td>0.326895</td>\n",
       "      <td>-0.062040</td>\n",
       "      <td>0.004834</td>\n",
       "      <td>0.018766</td>\n",
       "      <td>-0.079809</td>\n",
       "      <td>-0.015176</td>\n",
       "      <td>0.688075</td>\n",
       "    </tr>\n",
       "    <tr>\n",
       "      <th>HouseAge</th>\n",
       "      <td>-0.119034</td>\n",
       "      <td>1.000000</td>\n",
       "      <td>-0.153277</td>\n",
       "      <td>-0.077747</td>\n",
       "      <td>-0.296244</td>\n",
       "      <td>0.013191</td>\n",
       "      <td>0.011173</td>\n",
       "      <td>-0.108197</td>\n",
       "      <td>0.105623</td>\n",
       "    </tr>\n",
       "    <tr>\n",
       "      <th>AveRooms</th>\n",
       "      <td>0.326895</td>\n",
       "      <td>-0.153277</td>\n",
       "      <td>1.000000</td>\n",
       "      <td>0.847621</td>\n",
       "      <td>-0.072213</td>\n",
       "      <td>-0.004852</td>\n",
       "      <td>0.106389</td>\n",
       "      <td>-0.027540</td>\n",
       "      <td>0.151948</td>\n",
       "    </tr>\n",
       "    <tr>\n",
       "      <th>AveBedrms</th>\n",
       "      <td>-0.062040</td>\n",
       "      <td>-0.077747</td>\n",
       "      <td>0.847621</td>\n",
       "      <td>1.000000</td>\n",
       "      <td>-0.066197</td>\n",
       "      <td>-0.006181</td>\n",
       "      <td>0.069721</td>\n",
       "      <td>0.013344</td>\n",
       "      <td>-0.046701</td>\n",
       "    </tr>\n",
       "    <tr>\n",
       "      <th>Population</th>\n",
       "      <td>0.004834</td>\n",
       "      <td>-0.296244</td>\n",
       "      <td>-0.072213</td>\n",
       "      <td>-0.066197</td>\n",
       "      <td>1.000000</td>\n",
       "      <td>0.069863</td>\n",
       "      <td>-0.108785</td>\n",
       "      <td>0.099773</td>\n",
       "      <td>-0.024650</td>\n",
       "    </tr>\n",
       "    <tr>\n",
       "      <th>AveOccup</th>\n",
       "      <td>0.018766</td>\n",
       "      <td>0.013191</td>\n",
       "      <td>-0.004852</td>\n",
       "      <td>-0.006181</td>\n",
       "      <td>0.069863</td>\n",
       "      <td>1.000000</td>\n",
       "      <td>0.002366</td>\n",
       "      <td>0.002476</td>\n",
       "      <td>-0.023737</td>\n",
       "    </tr>\n",
       "    <tr>\n",
       "      <th>Latitude</th>\n",
       "      <td>-0.079809</td>\n",
       "      <td>0.011173</td>\n",
       "      <td>0.106389</td>\n",
       "      <td>0.069721</td>\n",
       "      <td>-0.108785</td>\n",
       "      <td>0.002366</td>\n",
       "      <td>1.000000</td>\n",
       "      <td>-0.924664</td>\n",
       "      <td>-0.144160</td>\n",
       "    </tr>\n",
       "    <tr>\n",
       "      <th>Longitude</th>\n",
       "      <td>-0.015176</td>\n",
       "      <td>-0.108197</td>\n",
       "      <td>-0.027540</td>\n",
       "      <td>0.013344</td>\n",
       "      <td>0.099773</td>\n",
       "      <td>0.002476</td>\n",
       "      <td>-0.924664</td>\n",
       "      <td>1.000000</td>\n",
       "      <td>-0.045967</td>\n",
       "    </tr>\n",
       "    <tr>\n",
       "      <th>housing_price</th>\n",
       "      <td>0.688075</td>\n",
       "      <td>0.105623</td>\n",
       "      <td>0.151948</td>\n",
       "      <td>-0.046701</td>\n",
       "      <td>-0.024650</td>\n",
       "      <td>-0.023737</td>\n",
       "      <td>-0.144160</td>\n",
       "      <td>-0.045967</td>\n",
       "      <td>1.000000</td>\n",
       "    </tr>\n",
       "  </tbody>\n",
       "</table>\n",
       "</div>"
      ],
      "text/plain": [
       "                 MedInc  HouseAge  AveRooms  AveBedrms  Population  AveOccup  \\\n",
       "MedInc         1.000000 -0.119034  0.326895  -0.062040    0.004834  0.018766   \n",
       "HouseAge      -0.119034  1.000000 -0.153277  -0.077747   -0.296244  0.013191   \n",
       "AveRooms       0.326895 -0.153277  1.000000   0.847621   -0.072213 -0.004852   \n",
       "AveBedrms     -0.062040 -0.077747  0.847621   1.000000   -0.066197 -0.006181   \n",
       "Population     0.004834 -0.296244 -0.072213  -0.066197    1.000000  0.069863   \n",
       "AveOccup       0.018766  0.013191 -0.004852  -0.006181    0.069863  1.000000   \n",
       "Latitude      -0.079809  0.011173  0.106389   0.069721   -0.108785  0.002366   \n",
       "Longitude     -0.015176 -0.108197 -0.027540   0.013344    0.099773  0.002476   \n",
       "housing_price  0.688075  0.105623  0.151948  -0.046701   -0.024650 -0.023737   \n",
       "\n",
       "               Latitude  Longitude  housing_price  \n",
       "MedInc        -0.079809  -0.015176       0.688075  \n",
       "HouseAge       0.011173  -0.108197       0.105623  \n",
       "AveRooms       0.106389  -0.027540       0.151948  \n",
       "AveBedrms      0.069721   0.013344      -0.046701  \n",
       "Population    -0.108785   0.099773      -0.024650  \n",
       "AveOccup       0.002366   0.002476      -0.023737  \n",
       "Latitude       1.000000  -0.924664      -0.144160  \n",
       "Longitude     -0.924664   1.000000      -0.045967  \n",
       "housing_price -0.144160  -0.045967       1.000000  "
      ]
     },
     "execution_count": 66,
     "metadata": {},
     "output_type": "execute_result"
    }
   ],
   "source": [
    "corr"
   ]
  },
  {
   "cell_type": "code",
   "execution_count": 67,
   "metadata": {},
   "outputs": [
    {
     "data": {
      "text/plain": [
       "<matplotlib.axes._subplots.AxesSubplot at 0x21095244b70>"
      ]
     },
     "execution_count": 67,
     "metadata": {},
     "output_type": "execute_result"
    },
    {
     "data": {
      "image/png": "[encoded data removed]",
      "text/plain": [
       "<matplotlib.figure.Figure at 0x21094999ef0>"
      ]
     },
     "metadata": {},
     "output_type": "display_data"
    }
   ],
   "source": [
    "import seaborn as sns\n",
    "sns.heatmap(corr)"
   ]
  },
  {
   "cell_type": "code",
   "execution_count": null,
   "metadata": {
    "collapsed": true
   },
   "outputs": [],
   "source": []
  }
 ],
 "metadata": {
  "kernelspec": {
   "display_name": "Python 3",
   "language": "python",
   "name": "python3"
  },
  "language_info": {
   "codemirror_mode": {
    "name": "ipython",
    "version": 3
   },
   "file_extension": ".py",
   "mimetype": "text/x-python",
   "name": "python",
   "nbconvert_exporter": "python",
   "pygments_lexer": "ipython3",
   "version": "3.6.1"
  }
 },
 "nbformat": 4,
 "nbformat_minor": 2
}
