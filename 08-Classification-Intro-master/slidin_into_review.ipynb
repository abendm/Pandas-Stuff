{
 "cells": [
  {
   "cell_type": "markdown",
   "metadata": {},
   "source": [
    "# Regression and Classification Review"
   ]
  },
  {
   "cell_type": "code",
   "execution_count": 1,
   "metadata": {},
   "outputs": [],
   "source": [
    "%matplotlib inline\n",
    "import matplotlib.pyplot as plt\n",
    "import numpy as np\n",
    "import pandas as pd\n",
    "plt.style.use('seaborn-white')\n",
    "\n",
    "from sklearn.linear_model import LinearRegression, LogisticRegression, Ridge, Lasso, ElasticNet\n",
    "from sklearn.metrics import mean_squared_error, classification_report\n",
    "from sklearn.neighbors import KNeighborsClassifier, KNeighborsRegressor\n",
    "from sklearn.datasets import load_boston, load_breast_cancer\n",
    "from sklearn.preprocessing import PolynomialFeatures, StandardScaler\n",
    "from sklearn.pipeline import make_pipeline\n",
    "from sklearn.model_selection import train_test_split, GridSearchCV, cross_val_score, cross_val_predict\n",
    "\n",
    "from ipywidgets import interact, IntSlider, FloatSlider"
   ]
  },
  {
   "cell_type": "code",
   "execution_count": 2,
   "metadata": {},
   "outputs": [],
   "source": [
    "boston = load_boston()"
   ]
  },
  {
   "cell_type": "code",
   "execution_count": 3,
   "metadata": {},
   "outputs": [],
   "source": [
    "X = boston.data\n",
    "y = boston.target"
   ]
  },
  {
   "cell_type": "code",
   "execution_count": 4,
   "metadata": {},
   "outputs": [],
   "source": [
    "df = pd.DataFrame(X, columns=boston.feature_names)"
   ]
  },
  {
   "cell_type": "code",
   "execution_count": 5,
   "metadata": {},
   "outputs": [
    {
     "name": "stdout",
     "output_type": "stream",
     "text": [
      "<class 'pandas.core.frame.DataFrame'>\n",
      "RangeIndex: 506 entries, 0 to 505\n",
      "Data columns (total 13 columns):\n",
      "CRIM       506 non-null float64\n",
      "ZN         506 non-null float64\n",
      "INDUS      506 non-null float64\n",
      "CHAS       506 non-null float64\n",
      "NOX        506 non-null float64\n",
      "RM         506 non-null float64\n",
      "AGE        506 non-null float64\n",
      "DIS        506 non-null float64\n",
      "RAD        506 non-null float64\n",
      "TAX        506 non-null float64\n",
      "PTRATIO    506 non-null float64\n",
      "B          506 non-null float64\n",
      "LSTAT      506 non-null float64\n",
      "dtypes: float64(13)\n",
      "memory usage: 51.5 KB\n"
     ]
    }
   ],
   "source": [
    "df.info()"
   ]
  },
  {
   "cell_type": "markdown",
   "metadata": {},
   "source": [
    "### Basic Linear Regression\n",
    "\n",
    "- `train_test_split`\n",
    "- `mean_squared_error`\n",
    "- `cross_val_score`"
   ]
  },
  {
   "cell_type": "code",
   "execution_count": 6,
   "metadata": {},
   "outputs": [],
   "source": [
    "x = df.CRIM.values.reshape(-1,1)\n",
    "y = y\n",
    "X_train, X_test, y_train, y_test = train_test_split(x, y)"
   ]
  },
  {
   "cell_type": "code",
   "execution_count": 7,
   "metadata": {},
   "outputs": [
    {
     "name": "stderr",
     "output_type": "stream",
     "text": [
      "/anaconda3/lib/python3.6/site-packages/scipy/linalg/basic.py:1226: RuntimeWarning: internal gelsd driver lwork query error, required iwork dimension not returned. This is likely the result of LAPACK bug 0038, fixed in LAPACK 3.2.2 (released July 21, 2010). Falling back to 'gelss' driver.\n",
      "  warnings.warn(mesg, RuntimeWarning)\n"
     ]
    },
    {
     "data": {
      "text/plain": [
       "9.642729261072358"
      ]
     },
     "execution_count": 7,
     "metadata": {},
     "output_type": "execute_result"
    }
   ],
   "source": [
    "lr = LinearRegression()\n",
    "lr.fit(X_train, y_train)\n",
    "pred = lr.predict(X_test)\n",
    "mse = mean_squared_error(pred, y_test)\n",
    "np.sqrt(mse)"
   ]
  },
  {
   "cell_type": "code",
   "execution_count": 8,
   "metadata": {},
   "outputs": [
    {
     "data": {
      "text/plain": [
       "Text(0,0.5,'Price')"
      ]
     },
     "execution_count": 8,
     "metadata": {},
     "output_type": "execute_result"
    },
    {
     "data": {
      "image/png": "[encoded data removed]",
      "text/plain": [
       "<matplotlib.figure.Figure at 0x11835b940>"
      ]
     },
     "metadata": {},
     "output_type": "display_data"
    }
   ],
   "source": [
    "plt.scatter(x, y)\n",
    "plt.plot(x, lr.predict(x), '--k', color = 'red', label = 'Line of Best Fit')\n",
    "plt.ylim(min(y), max(y))\n",
    "plt.legend()\n",
    "plt.xlabel('CRIM')\n",
    "plt.ylabel('Price')"
   ]
  },
  {
   "cell_type": "markdown",
   "metadata": {},
   "source": [
    "### Polynomial Features"
   ]
  },
  {
   "cell_type": "code",
   "execution_count": 9,
   "metadata": {},
   "outputs": [],
   "source": [
    "a = np.array([i for i in range(20)])\n",
    "b = np.array([(i**2 + 100*np.random.random(1)) for i in range(20)])\n",
    "def plotter(n):\n",
    "    p = PolynomialFeatures(n)\n",
    "    p2 = p.fit_transform(a.reshape(-1,1))\n",
    "    lr.fit(p2, b)\n",
    "    pred = lr.predict(p2)\n",
    "    mse = mean_squared_error(pred, b)\n",
    "    plt.figure(figsize = (8, 5))\n",
    "    plt.plot(a, pred, '-o')\n",
    "    plt.plot(a, b, 'o')\n",
    "    print('MSE: ', mse, '\\nRMSE: ', np.sqrt(mse))"
   ]
  },
  {
   "cell_type": "code",
   "execution_count": 10,
   "metadata": {},
   "outputs": [
    {
     "name": "stdout",
     "output_type": "stream",
     "text": [
      "MSE:  837.7969330550377 \n",
      "RMSE:  28.944722024145225\n"
     ]
    },
    {
     "data": {
      "image/png": "[encoded data removed]",
      "text/plain": [
       "<matplotlib.figure.Figure at 0x118437438>"
      ]
     },
     "metadata": {},
     "output_type": "display_data"
    }
   ],
   "source": [
    "plotter(2)"
   ]
  },
  {
   "cell_type": "code",
   "execution_count": 11,
   "metadata": {},
   "outputs": [
    {
     "data": {
      "application/vnd.jupyter.widget-view+json": {
       "model_id": "d7e47ca846b64da5b0f294ae621ddc98",
       "version_major": 2,
       "version_minor": 0
      },
      "text/html": [
       "<p>Failed to display Jupyter Widget of type <code>interactive</code>.</p>\n",
       "<p>\n",
       "  If you're reading this message in the Jupyter Notebook or JupyterLab Notebook, it may mean\n",
       "  that the widgets JavaScript is still loading. If this message persists, it\n",
       "  likely means that the widgets JavaScript library is either not installed or\n",
       "  not enabled. See the <a href=\"https://ipywidgets.readthedocs.io/en/stable/user_install.html\">Jupyter\n",
       "  Widgets Documentation</a> for setup instructions.\n",
       "</p>\n",
       "<p>\n",
       "  If you're reading this message in another frontend (for example, a static\n",
       "  rendering on GitHub or <a href=\"https://nbviewer.jupyter.org/\">NBViewer</a>),\n",
       "  it may mean that your frontend doesn't currently support widgets.\n",
       "</p>\n"
      ],
      "text/plain": [
       "interactive(children=(IntSlider(value=10, description='n', max=20), Output()), _dom_classes=('widget-interact',))"
      ]
     },
     "metadata": {},
     "output_type": "display_data"
    },
    {
     "data": {
      "text/plain": [
       "<function __main__.plotter>"
      ]
     },
     "execution_count": 11,
     "metadata": {},
     "output_type": "execute_result"
    }
   ],
   "source": [
    "interact(plotter, n = (0, 20, 1))"
   ]
  },
  {
   "cell_type": "code",
   "execution_count": 12,
   "metadata": {},
   "outputs": [],
   "source": [
    "x = df.CRIM.values.reshape(-1,1)\n",
    "y = y\n",
    "def plotter_df(n):\n",
    "    p = PolynomialFeatures(n)\n",
    "    p2 = p.fit_transform(x)\n",
    "    lr.fit(p2, y)\n",
    "    pred = lr.predict(p2)\n",
    "    plt.figure(figsize = (10, 6))\n",
    "    plt.plot(x, pred, 'o')\n",
    "    plt.plot(x, y, 'o')"
   ]
  },
  {
   "cell_type": "code",
   "execution_count": 13,
   "metadata": {},
   "outputs": [
    {
     "data": {
      "application/vnd.jupyter.widget-view+json": {
       "model_id": "4fc1861403164d51941bbeddca58010d",
       "version_major": 2,
       "version_minor": 0
      },
      "text/html": [
       "<p>Failed to display Jupyter Widget of type <code>interactive</code>.</p>\n",
       "<p>\n",
       "  If you're reading this message in the Jupyter Notebook or JupyterLab Notebook, it may mean\n",
       "  that the widgets JavaScript is still loading. If this message persists, it\n",
       "  likely means that the widgets JavaScript library is either not installed or\n",
       "  not enabled. See the <a href=\"https://ipywidgets.readthedocs.io/en/stable/user_install.html\">Jupyter\n",
       "  Widgets Documentation</a> for setup instructions.\n",
       "</p>\n",
       "<p>\n",
       "  If you're reading this message in another frontend (for example, a static\n",
       "  rendering on GitHub or <a href=\"https://nbviewer.jupyter.org/\">NBViewer</a>),\n",
       "  it may mean that your frontend doesn't currently support widgets.\n",
       "</p>\n"
      ],
      "text/plain": [
       "interactive(children=(IntSlider(value=8, description='n', max=16, min=1), Output()), _dom_classes=('widget-interact',))"
      ]
     },
     "metadata": {},
     "output_type": "display_data"
    },
    {
     "data": {
      "text/plain": [
       "<function __main__.plotter_df>"
      ]
     },
     "execution_count": 13,
     "metadata": {},
     "output_type": "execute_result"
    }
   ],
   "source": [
    "interact(plotter_df, n = (1, 16, 1))"
   ]
  },
  {
   "cell_type": "code",
   "execution_count": 24,
   "metadata": {},
   "outputs": [
    {
     "name": "stdout",
     "output_type": "stream",
     "text": [
      "\n",
      "The best estimator here was a polynomial of degree:  2 \n",
      "with RMSE : 9.390510624267682\n"
     ]
    }
   ],
   "source": [
    "pipereg = make_pipeline(PolynomialFeatures(), LinearRegression())\n",
    "param = {'polynomialfeatures__degree': [i for i in range(1, 6)]}\n",
    "grid = GridSearchCV(pipereg, param_grid=param)\n",
    "grid.fit(X_train, y_train)\n",
    "pred = grid.best_estimator_.predict(X_test)\n",
    "print('\\nThe best estimator here was a polynomial of degree: ', grid.best_estimator_.named_steps.polynomialfeatures.degree, '\\nwith RMSE :', np.sqrt(mean_squared_error(pred, y_test)))"
   ]
  },
  {
   "cell_type": "markdown",
   "metadata": {},
   "source": [
    "### Regularization: Ridge, LASSO, Elastic Net"
   ]
  },
  {
   "cell_type": "code",
   "execution_count": 25,
   "metadata": {},
   "outputs": [
    {
     "name": "stdout",
     "output_type": "stream",
     "text": [
      "\n",
      "The best estimator here was a model with alpha:  1 \n",
      "giving us an RMSE : 9.30674458958908\n"
     ]
    }
   ],
   "source": [
    "piperidge = make_pipeline(StandardScaler(), PolynomialFeatures(), Ridge())\n",
    "params = {'ridge__alpha': [0.1, 1, 5, 10, 100, 1000], 'polynomialfeatures__degree': [i for i in range(1, 6)]}\n",
    "gridridge = GridSearchCV(piperidge, param_grid=params)\n",
    "gridridge.fit(X_train, y_train)\n",
    "pred = gridridge.best_estimator_.predict(X_test)\n",
    "print('\\nThe best estimator here was a model with alpha: ', gridridge.best_estimator_.named_steps.ridge.alpha, '\\ngiving us an RMSE :', np.sqrt(mean_squared_error(pred, y_test)))"
   ]
  },
  {
   "cell_type": "code",
   "execution_count": 26,
   "metadata": {},
   "outputs": [
    {
     "name": "stdout",
     "output_type": "stream",
     "text": [
      "\n",
      "The best estimator here was a model with alpha:  0.1 \n",
      "giving us an RMSE : 9.330747546695047\n"
     ]
    }
   ],
   "source": [
    "pipelasso = make_pipeline(StandardScaler(), PolynomialFeatures(), Lasso(max_iter = 1000000))\n",
    "params = {'lasso__alpha': [0.1, 1, 5, 10, 100, 1000], 'polynomialfeatures__degree': [i for i in range(1, 6)]}\n",
    "gridlasso = GridSearchCV(pipelasso, param_grid=params, cv = 5)\n",
    "gridlasso.fit(X_train, y_train)\n",
    "pred = gridlasso.best_estimator_.predict(X_test)\n",
    "print('\\nThe best estimator here was a model with alpha: ', gridlasso.best_estimator_.named_steps.lasso.alpha, '\\ngiving us an RMSE :', np.sqrt(mean_squared_error(pred, y_test)))"
   ]
  },
  {
   "cell_type": "code",
   "execution_count": 27,
   "metadata": {},
   "outputs": [
    {
     "name": "stdout",
     "output_type": "stream",
     "text": [
      "\n",
      "The best estimator here was a model with alpha:  0.1 \n",
      "giving us an RMSE : 9.38331967045253\n"
     ]
    }
   ],
   "source": [
    "pipeenet = make_pipeline(StandardScaler(), PolynomialFeatures(), ElasticNet(max_iter=1000000))\n",
    "params = {'elasticnet__alpha': [0.1, 1, 5, 10, 100, 1000], 'polynomialfeatures__degree': [i for i in range(1, 6)]}\n",
    "gridenet = GridSearchCV(pipeenet, param_grid=params)\n",
    "gridenet.fit(X_train, y_train)\n",
    "pred = gridenet.best_estimator_.predict(X_test)\n",
    "print('\\nThe best estimator here was a model with alpha: ', gridenet.best_estimator_.named_steps.elasticnet.alpha, '\\ngiving us an RMSE :', np.sqrt(mean_squared_error(pred, y_test)))"
   ]
  },
  {
   "cell_type": "code",
   "execution_count": 31,
   "metadata": {},
   "outputs": [
    {
     "data": {
      "text/plain": [
       "<matplotlib.legend.Legend at 0x11eb0e588>"
      ]
     },
     "execution_count": 31,
     "metadata": {},
     "output_type": "execute_result"
    },
    {
     "data": {
      "image/png": "[encoded data removed]",
      "text/plain": [
       "<matplotlib.figure.Figure at 0x11e7e56a0>"
      ]
     },
     "metadata": {},
     "output_type": "display_data"
    }
   ],
   "source": [
    "plt.plot(grid.best_estimator_.named_steps.linearregression.coef_, 's', label = 'polynomial')\n",
    "plt.plot(gridridge.best_estimator_.named_steps.ridge.coef_, '^', label = 'ridge')\n",
    "plt.plot(gridlasso.best_estimator_.named_steps.lasso.coef_, 'v', label = 'lasso')\n",
    "plt.plot(gridenet.best_estimator_.named_steps.elasticnet.coef_, 'o', label = 'enet')\n",
    "plt.axhline(color = 'black')\n",
    "plt.legend(loc = 'best')"
   ]
  }
 ],
 "metadata": {
  "kernelspec": {
   "display_name": "Python 3",
   "language": "python",
   "name": "python3"
  },
  "language_info": {
   "codemirror_mode": {
    "name": "ipython",
    "version": 3
   },
   "file_extension": ".py",
   "mimetype": "text/x-python",
   "name": "python",
   "nbconvert_exporter": "python",
   "pygments_lexer": "ipython3",
   "version": "3.6.4"
  }
 },
 "nbformat": 4,
 "nbformat_minor": 2
}
