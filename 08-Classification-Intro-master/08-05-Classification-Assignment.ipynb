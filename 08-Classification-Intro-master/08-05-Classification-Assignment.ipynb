{
 "cells": [
  {
   "cell_type": "markdown",
   "metadata": {},
   "source": [
    "# Classification Assignment\n",
    "\n",
    "The main goal of this assignment is to check in on your ability to access, load, explore, and make predictions using classification models.  For next Wednesday, you are to do the following:\n",
    "\n",
    "1. Locate a dataset on Kaggle, NYC Open Data, UCI Machine Learning Repository, or other resource that contains data that can be addressed through a classification task\n",
    "2. Load and explore the data for missing values and perform a brief EDA\n",
    "3. Frame and state the classification problem\n",
    "4. Split your data into train and test sets\n",
    "4. Implement a `DummyClassifier`, `KNeighborsClassifier`, and `LogisticRegression` model.\n",
    "5. Improve the models by performing a `GridSearchCV` for `n_neighbors` and `C` parameters respectively.  Include a scale transformation in your pipeline for KNN and a `PolynomialFeatures` step in the Logistic model.\n",
    "6. Discuss the outcome of your classifiers using the `classification_report`.  Which did the best?  Do you prefer a recall or a precision oriented model?  Why?\n",
    "\n",
    "**EXTRA**:\n",
    "\n",
    "- Include `SGDClassifier`\n",
    "- Incorporate AUC and ROC curves\n"
   ]
  }
 ],
 "metadata": {
  "kernelspec": {
   "display_name": "Python 3",
   "language": "python",
   "name": "python3"
  },
  "language_info": {
   "codemirror_mode": {
    "name": "ipython",
    "version": 3
   },
   "file_extension": ".py",
   "mimetype": "text/x-python",
   "name": "python",
   "nbconvert_exporter": "python",
   "pygments_lexer": "ipython3",
   "version": "3.6.4"
  }
 },
 "nbformat": 4,
 "nbformat_minor": 2
}
