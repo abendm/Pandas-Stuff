{
 "cells": [
  {
   "cell_type": "markdown",
   "metadata": {},
   "source": [
    "# Introduction to Data\n",
    "\n",
    "While many scientific investigations may begin with an abstract question, this is usually revised in terms of constraints on available information and resources.  In this class, we will often be limited to available data in semi or well structured formats.  Accordingly, we want to be good at asking two different kinds of questions; **Descriptive** and **Inferential**.\n",
    "\n"
   ]
  },
  {
   "cell_type": "markdown",
   "metadata": {},
   "source": [
    "### Example I: Ames Housing\n",
    "\n",
    "This dataset represents information about houses in Ames Iowa.  Here is a link to the description of the dataset:\n",
    "\n",
    "- [Ames Housing Description](https://ww2.amstat.org/publications/jse/v19n3/decock/DataDocumentation.txt)\n",
    "\n",
    "Your goal is to consider the different kinds of information available, and to generate at least two *descriptive* and two *inferential* questions about the dataset.  Is there any data that you anticipate being problematic?  "
   ]
  },
  {
   "cell_type": "markdown",
   "metadata": {},
   "source": [
    "### Example II: Donors Choose\n",
    "\n",
    "A popular website for learning data science is [kaggle.com](https://www.kaggle.com/).  A recent competition involved a dataset from the organization *Donors Choose* that supports grants to teachers.  They framed the problem as follows:\n",
    "\n",
    "---\n",
    "\n",
    "<div class=\"alert alert-info\" role=\"alert\">\n",
    "\n",
    "Next year, DonorsChoose.org expects to receive close to 500,000 project proposals. As a result, there are three main problems they need to solve:\n",
    "\n",
    "1. How to scale current manual processes and resources to screen 500,000 projects so that they can be posted as quickly and as efficiently as possible\n",
    "\n",
    "2. How to increase the consistency of project vetting across different volunteers to improve the experience for teachers\n",
    "\n",
    "3. How to focus volunteer time on the applications that need the most assistance\n",
    "\n",
    "The goal of the competition is to predict whether or not a DonorsChoose.org project proposal submitted by a teacher will be approved, using the text of project descriptions as well as additional metadata about the project, teacher, and school. DonorsChoose.org can then use this information to identify projects most likely to need further review before approval.\n",
    "</div>\n",
    "---\n",
    "\n",
    "See the full data description [here](https://www.kaggle.com/c/donorschoose-application-screening/data).  Again, your goal is to identify at least two *inferential* and two *descriptive* questions around this dataset."
   ]
  },
  {
   "cell_type": "markdown",
   "metadata": {},
   "source": [
    "### Example III: NYC Open Data\n",
    "\n",
    "---\n",
    "\n",
    "![](https://opendata.cityofnewyork.us/wp-content/themes/opendata-wp/assets/img/nyc-open-data-logo.svg)\n",
    "\n",
    "Many city and state agencies have begun providing access to data through API's.  One example is the NYC Open Data located [here](https://opendata.cityofnewyork.us/).  For example, if we wanted to use the dataset with information about restaurant meal information we find the code necessary to import the data.  Quickly, we have this up and running in a Jupyter notebook and are ready to explore."
   ]
  },
  {
   "cell_type": "markdown",
   "metadata": {},
   "source": [
    "```python\n",
    "import pandas as pd\n",
    "from sodapy import Socrata\n",
    "\n",
    "# Unauthenticated client only works with public data sets. Note 'None'\n",
    "# in place of application token, and no username or password:\n",
    "client = Socrata(\"data.cityofnewyork.us\", None)\n",
    "\n",
    "# Example authenticated client (needed for non-public datasets):\n",
    "# client = Socrata(data.cityofnewyork.us,\n",
    "#                  MyAppToken,\n",
    "#                  userame=\"user@example.com\",\n",
    "#                  password=\"AFakePassword\")\n",
    "\n",
    "# First 2000 results, returned as JSON from API / converted to Python list of\n",
    "# dictionaries by sodapy.\n",
    "results = client.get(\"r3pg-q9c3\", limit=31000)\n",
    "\n",
    "# Convert to pandas DataFrame\n",
    "results_df = pd.DataFrame.from_records(results)\n",
    "```"
   ]
  },
  {
   "cell_type": "code",
   "execution_count": 18,
   "metadata": {},
   "outputs": [
    {
     "name": "stdout",
     "output_type": "stream",
     "text": [
      "<class 'pandas.core.frame.DataFrame'>\n",
      "RangeIndex: 31000 entries, 0 to 30999\n",
      "Data columns (total 48 columns):\n",
      "calories                  25196 non-null object\n",
      "calories_100g             12572 non-null object\n",
      "calories_text             119 non-null object\n",
      "carbohydrates             24572 non-null object\n",
      "carbohydrates_100g        12463 non-null object\n",
      "carbohydrates_text        316 non-null object\n",
      "cholesterol               23775 non-null object\n",
      "cholesterol_100g          12036 non-null object\n",
      "cholesterol_text          166 non-null object\n",
      "dietary_fiber             24081 non-null object\n",
      "dietary_fiber_100g        12329 non-null object\n",
      "dietary_fiber_text        424 non-null object\n",
      "food_category             31000 non-null object\n",
      "item_description          31000 non-null object\n",
      "item_name                 31000 non-null object\n",
      "kids_meal                 31000 non-null object\n",
      "limited_time_offer        31000 non-null object\n",
      "menu_item_id              31000 non-null object\n",
      "potassium                 389 non-null object\n",
      "potassium_100g            350 non-null object\n",
      "protein                   24558 non-null object\n",
      "protein_100g              12427 non-null object\n",
      "protein_text              242 non-null object\n",
      "regional                  31000 non-null object\n",
      "restaurant                31000 non-null object\n",
      "restaurant_id             31000 non-null object\n",
      "restaurant_item_name      31000 non-null object\n",
      "saturated_fat             24258 non-null object\n",
      "saturated_fat_100g        12112 non-null object\n",
      "saturated_fat_text        44 non-null object\n",
      "serving_size              13199 non-null object\n",
      "serving_size_household    6604 non-null object\n",
      "serving_size_text         16 non-null object\n",
      "serving_size_unit         13214 non-null object\n",
      "shareable                 31000 non-null object\n",
      "sodium                    24949 non-null object\n",
      "sodium_100g               12554 non-null object\n",
      "sodium_text               71 non-null object\n",
      "sugar                     23489 non-null object\n",
      "sugar_100g                12026 non-null object\n",
      "sugar_text                294 non-null object\n",
      "total_fat                 24927 non-null object\n",
      "total_fat_100g            12511 non-null object\n",
      "total_fat_text            56 non-null object\n",
      "trans_fat                 23251 non-null object\n",
      "trans_fat_100g            11695 non-null object\n",
      "trans_fat_text            3 non-null object\n",
      "year                      31000 non-null object\n",
      "dtypes: object(48)\n",
      "memory usage: 11.4+ MB\n"
     ]
    }
   ],
   "source": [
    "results_df.info()"
   ]
  },
  {
   "cell_type": "code",
   "execution_count": 44,
   "metadata": {},
   "outputs": [
    {
     "data": {
      "text/plain": [
       "restaurant\n",
       "Starbucks             3849\n",
       "Dunkin' Donuts        2850\n",
       "Sheetz                1054\n",
       "Sonic                  982\n",
       "Pizza Hut              972\n",
       "Golden Corral          654\n",
       "Jersey Mike's Subs     616\n",
       "Dominos                557\n",
       "Perkins                553\n",
       "Jason's Deli           522\n",
       "Name: item_description, dtype: int64"
      ]
     },
     "execution_count": 44,
     "metadata": {},
     "output_type": "execute_result"
    }
   ],
   "source": [
    "results_df.groupby('restaurant')[['restaurant', 'item_description']].count().nlargest(10, 'item_description')['item_description']"
   ]
  },
  {
   "cell_type": "code",
   "execution_count": 22,
   "metadata": {},
   "outputs": [
    {
     "data": {
      "text/plain": [
       "count     25196\n",
       "unique      992\n",
       "top           0\n",
       "freq        924\n",
       "Name: calories, dtype: object"
      ]
     },
     "execution_count": 22,
     "metadata": {},
     "output_type": "execute_result"
    }
   ],
   "source": [
    "results_df.calories.describe(include = 'all')"
   ]
  },
  {
   "cell_type": "code",
   "execution_count": 24,
   "metadata": {},
   "outputs": [
    {
     "data": {
      "text/plain": [
       "5804"
      ]
     },
     "execution_count": 24,
     "metadata": {},
     "output_type": "execute_result"
    }
   ],
   "source": [
    "results_df.calories.isnull().sum()"
   ]
  },
  {
   "cell_type": "code",
   "execution_count": 45,
   "metadata": {},
   "outputs": [
    {
     "data": {
      "text/html": [
       "<div>\n",
       "<style scoped>\n",
       "    .dataframe tbody tr th:only-of-type {\n",
       "        vertical-align: middle;\n",
       "    }\n",
       "\n",
       "    .dataframe tbody tr th {\n",
       "        vertical-align: top;\n",
       "    }\n",
       "\n",
       "    .dataframe thead th {\n",
       "        text-align: right;\n",
       "    }\n",
       "</style>\n",
       "<table border=\"1\" class=\"dataframe\">\n",
       "  <thead>\n",
       "    <tr style=\"text-align: right;\">\n",
       "      <th></th>\n",
       "      <th>restaurant</th>\n",
       "      <th>calories</th>\n",
       "    </tr>\n",
       "  </thead>\n",
       "  <tbody>\n",
       "    <tr>\n",
       "      <th>count</th>\n",
       "      <td>5804</td>\n",
       "      <td>0.0</td>\n",
       "    </tr>\n",
       "    <tr>\n",
       "      <th>unique</th>\n",
       "      <td>81</td>\n",
       "      <td>0.0</td>\n",
       "    </tr>\n",
       "    <tr>\n",
       "      <th>top</th>\n",
       "      <td>Dunkin' Donuts</td>\n",
       "      <td>NaN</td>\n",
       "    </tr>\n",
       "    <tr>\n",
       "      <th>freq</th>\n",
       "      <td>1900</td>\n",
       "      <td>NaN</td>\n",
       "    </tr>\n",
       "  </tbody>\n",
       "</table>\n",
       "</div>"
      ],
      "text/plain": [
       "            restaurant  calories\n",
       "count             5804       0.0\n",
       "unique              81       0.0\n",
       "top     Dunkin' Donuts       NaN\n",
       "freq              1900       NaN"
      ]
     },
     "execution_count": 45,
     "metadata": {},
     "output_type": "execute_result"
    }
   ],
   "source": [
    "import numpy as np\n",
    "results_df[results_df.calories.isnull()][['restaurant', 'calories']].describe()"
   ]
  },
  {
   "cell_type": "code",
   "execution_count": 48,
   "metadata": {},
   "outputs": [
    {
     "data": {
      "text/html": [
       "<div>\n",
       "<style scoped>\n",
       "    .dataframe tbody tr th:only-of-type {\n",
       "        vertical-align: middle;\n",
       "    }\n",
       "\n",
       "    .dataframe tbody tr th {\n",
       "        vertical-align: top;\n",
       "    }\n",
       "\n",
       "    .dataframe thead th {\n",
       "        text-align: right;\n",
       "    }\n",
       "</style>\n",
       "<table border=\"1\" class=\"dataframe\">\n",
       "  <thead>\n",
       "    <tr style=\"text-align: right;\">\n",
       "      <th></th>\n",
       "      <th>item_description</th>\n",
       "      <th>calories</th>\n",
       "    </tr>\n",
       "  </thead>\n",
       "  <tbody>\n",
       "    <tr>\n",
       "      <th>6304</th>\n",
       "      <td>Whole Wheat Bagel, Bagels, Bakery, Food</td>\n",
       "      <td>320</td>\n",
       "    </tr>\n",
       "    <tr>\n",
       "      <th>6340</th>\n",
       "      <td>Bismark, Donuts, Bakery</td>\n",
       "      <td>490</td>\n",
       "    </tr>\n",
       "    <tr>\n",
       "      <th>6461</th>\n",
       "      <td>Jelly Donut, Donuts, Bakery, Food</td>\n",
       "      <td>270</td>\n",
       "    </tr>\n",
       "    <tr>\n",
       "      <th>6480</th>\n",
       "      <td>Chocolate Frosted Cake Donut, Donuts, Bakery, ...</td>\n",
       "      <td>350</td>\n",
       "    </tr>\n",
       "    <tr>\n",
       "      <th>6530</th>\n",
       "      <td>Cinnamon Stick, Donuts, Bakery</td>\n",
       "      <td>380</td>\n",
       "    </tr>\n",
       "  </tbody>\n",
       "</table>\n",
       "</div>"
      ],
      "text/plain": [
       "                                       item_description calories\n",
       "6304            Whole Wheat Bagel, Bagels, Bakery, Food      320\n",
       "6340                            Bismark, Donuts, Bakery      490\n",
       "6461                  Jelly Donut, Donuts, Bakery, Food      270\n",
       "6480  Chocolate Frosted Cake Donut, Donuts, Bakery, ...      350\n",
       "6530                     Cinnamon Stick, Donuts, Bakery      380"
      ]
     },
     "execution_count": 48,
     "metadata": {},
     "output_type": "execute_result"
    }
   ],
   "source": [
    "results_df[results_df.restaurant == \"Dunkin' Donuts\"][['item_description', 'calories']].head()"
   ]
  }
 ],
 "metadata": {
  "kernelspec": {
   "display_name": "Python 3",
   "language": "python",
   "name": "python3"
  },
  "language_info": {
   "codemirror_mode": {
    "name": "ipython",
    "version": 3
   },
   "file_extension": ".py",
   "mimetype": "text/x-python",
   "name": "python",
   "nbconvert_exporter": "python",
   "pygments_lexer": "ipython3",
   "version": "3.6.5"
  }
 },
 "nbformat": 4,
 "nbformat_minor": 2
}
