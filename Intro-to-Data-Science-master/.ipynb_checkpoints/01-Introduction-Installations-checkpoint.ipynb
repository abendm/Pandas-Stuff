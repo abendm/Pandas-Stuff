{
 "cells": [
  {
   "cell_type": "markdown",
   "metadata": {},
   "source": [
    "# Getting Started\n",
    "\n",
    "\n",
    "Please be sure you've downloaded and installed the following programs/applications:\n",
    "\n",
    "- the latest version of Anaconda from [here](https://www.anaconda.com/download/#macos)\n",
    "- if **Windows**, download, install, during installation add to PATH, git for windows [here](https://gitforwindows.org/)\n",
    "- a text editor such as [Sublime Text](https://www.sublimetext.com/3), or [Atom](https://atom.io/)"
   ]
  }
 ],
 "metadata": {
  "kernelspec": {
   "display_name": "Python 3",
   "language": "python",
   "name": "python3"
  },
  "language_info": {
   "codemirror_mode": {
    "name": "ipython",
    "version": 3
   },
   "file_extension": ".py",
   "mimetype": "text/x-python",
   "name": "python",
   "nbconvert_exporter": "python",
   "pygments_lexer": "ipython3",
   "version": "3.6.4"
  }
 },
 "nbformat": 4,
 "nbformat_minor": 2
}
