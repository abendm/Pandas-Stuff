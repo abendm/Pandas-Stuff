{
 "cells": [
  {
   "cell_type": "markdown",
   "metadata": {},
   "source": [
    "# Command Line and UNIX\n",
    "\n",
    "![](images/unix/UNIX-plate.jpg)\n",
    "\n",
    "**OBJECTIVES**:\n",
    "\n",
    "- Create, Delete, and Navigate files and directories in the Terminal\n",
    "- Copy and Rename files in the Terminal\n",
    "- Use Pipes and Filters to combine commands in Terminal\n",
    "- Locating Files and things in Files in Terminal\n",
    "\n",
    "\n",
    "Before the advent of the mouse, computers were only able to interact with typed text commands.  There are many advantages to this way of interacting with your machine, we will explore some of these today.  I believe the terminal to be important in terms of the speed you are able to complete operations and the control that you have over these operations.\n",
    "\n"
   ]
  },
  {
   "cell_type": "markdown",
   "metadata": {},
   "source": [
    "### Introduction to Shell\n",
    "\n",
    "On a mac, I type `cmd` + `spacebar`, write **terminal** and hit `enter`.  This will bring up a new terminal.\n",
    "\n",
    "- **Navigating Files**\n",
    "\n",
    "  - `cd`: Change directory\n",
    "  - `pwd`: Print Working Directory\n",
    "  - `ls`: List Files\n",
    "  - `ls -F`: List Files with Flag\n",
    "  - `ls -l`: List Files with more info (long)\n",
    "  - `ls -R`: List Recursively\n",
    "  - `ls -t`: List by time modified\n",
    "  - `ls -R -t`: List recursively by time modified\n",
    "  - `cd ..`: Move one directory up\n",
    "  - `cd ~`: Move to root directory\n",
    "  \n",
    "  \n",
    "  \n",
    "  "
   ]
  },
  {
   "cell_type": "markdown",
   "metadata": {},
   "source": [
    "### Files and Directories\n",
    "\n",
    "- `mkdir`: Creates directory\n",
    "- `touch`: Creates file\n",
    "- `nano`: Simple text editor in terminal\n",
    "- `rm`: Removes file (**CAREFUL!**)\n",
    "- `rm -r`: Removes recursively\n",
    "- `rm -i thesis/quotations.txt`: Removes responsibly\n",
    "- `rm -r -i thesis`: Recursive responsibilities\n",
    "- `mv`: Moves a file, also renames it\n",
    "- `cp`: Copies a file\n",
    "\n",
    "\n"
   ]
  },
  {
   "cell_type": "markdown",
   "metadata": {},
   "source": [
    "### Investigating Files\n",
    "\n",
    "- `cat`: Displays file contents\n",
    "- `head`: Displays top rows of file\n",
    "- `tail`: Displays bottom rows of file\n",
    "- `sort`: Allows for different sorting\n",
    "- `wc`: Word Count\n",
    "- `*`: Wildcard meaning anything (*.pdf is all pdf files)\n",
    "- `?`: Match single element (?learning.pdf would match elearning.pdf, blearning.pdf, but not yearning.pdf)\n",
    "- `command > file`: Directs output to file\n",
    "- `first | second`: Pipe to combine and link commands\n",
    "\n",
    "- `grep` : Get regular expression used to find things in documents\n",
    "- `grep -w`: restricts regular expression to matching word\n",
    "- `grep -n`: adds line number to output of regular expression\n",
    "- `grep -n -w`: combine numbering and word restriction\n",
    "- `grep -n -w -i`: adds case sensitivity to above example\n",
    "\n",
    "- `find .`: Find is used to find files\n",
    "- `find . -type d`: Find things that are directories\n",
    "- `find . -type f`: Find things that are files\n",
    "- `find . -name '*.txt'`: Find things by name"
   ]
  },
  {
   "cell_type": "markdown",
   "metadata": {},
   "source": [
    "### Further Reading\n",
    "\n",
    "- Software Carpentry: [**The UNIX Shell**](http://swcarpentry.github.io/shell-novice/)"
   ]
  }
 ],
 "metadata": {
  "kernelspec": {
   "display_name": "Python 3",
   "language": "python",
   "name": "python3"
  },
  "language_info": {
   "codemirror_mode": {
    "name": "ipython",
    "version": 3
   },
   "file_extension": ".py",
   "mimetype": "text/x-python",
   "name": "python",
   "nbconvert_exporter": "python",
   "pygments_lexer": "ipython3",
   "version": "3.6.4"
  }
 },
 "nbformat": 4,
 "nbformat_minor": 2
}
