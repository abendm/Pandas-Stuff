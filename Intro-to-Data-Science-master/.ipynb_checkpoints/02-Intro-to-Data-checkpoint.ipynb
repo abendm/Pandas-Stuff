{
 "cells": [
  {
   "cell_type": "markdown",
   "metadata": {},
   "source": [
    "# Introduction to Data\n",
    "\n",
    "While many scientific investigations may begin with an abstract question, this is usually revised in terms of constraints on available information and resources.  In this class, we will often be limited to available data in semi or well structured formats.  Accordingly, we want to be good at asking two different kinds of questions; **Descriptive** and **Inferential**.\n",
    "\n"
   ]
  },
  {
   "cell_type": "markdown",
   "metadata": {},
   "source": [
    "### Example I: Ames Housing\n",
    "\n",
    "This dataset represents information about houses in Ames Iowa.  Here is a link to the description of the dataset:\n",
    "\n",
    "- [Ames Housing Description](https://ww2.amstat.org/publications/jse/v19n3/decock/DataDocumentation.txt)\n",
    "\n",
    "Your goal is to consider the different kinds of information available, and to generate at least two *descriptive* and two *inferential* questions about the dataset.  Is there any data that you anticipate being problematic?  "
   ]
  },
  {
   "cell_type": "markdown",
   "metadata": {},
   "source": [
    "### Example II: Donors Choose\n",
    "\n",
    "A popular website for learning data science is [kaggle.com](https://www.kaggle.com/).  A recent competition involved a dataset from the organization *Donors Choose* that supports grants to teachers.  They framed the problem as follows:\n",
    "\n",
    "---\n",
    "\n",
    "<div class=\"alert alert-info\" role=\"alert\">\n",
    "\n",
    "Next year, DonorsChoose.org expects to receive close to 500,000 project proposals. As a result, there are three main problems they need to solve:\n",
    "\n",
    "1. How to scale current manual processes and resources to screen 500,000 projects so that they can be posted as quickly and as efficiently as possible\n",
    "\n",
    "2. How to increase the consistency of project vetting across different volunteers to improve the experience for teachers\n",
    "\n",
    "3. How to focus volunteer time on the applications that need the most assistance\n",
    "\n",
    "The goal of the competition is to predict whether or not a DonorsChoose.org project proposal submitted by a teacher will be approved, using the text of project descriptions as well as additional metadata about the project, teacher, and school. DonorsChoose.org can then use this information to identify projects most likely to need further review before approval.\n",
    "\n",
    "</div>\n",
    "---\n",
    "\n",
    "See the full data description [here](https://www.kaggle.com/c/donorschoose-application-screening/data).  Again, your goal is to identify at least two *inferential* and two *descriptive* questions around this dataset."
   ]
  }
 ],
 "metadata": {
  "kernelspec": {
   "display_name": "Python 3",
   "language": "python",
   "name": "python3"
  },
  "language_info": {
   "codemirror_mode": {
    "name": "ipython",
    "version": 3
   },
   "file_extension": ".py",
   "mimetype": "text/x-python",
   "name": "python",
   "nbconvert_exporter": "python",
   "pygments_lexer": "ipython3",
   "version": "3.6.4"
  }
 },
 "nbformat": 4,
 "nbformat_minor": 2
}
