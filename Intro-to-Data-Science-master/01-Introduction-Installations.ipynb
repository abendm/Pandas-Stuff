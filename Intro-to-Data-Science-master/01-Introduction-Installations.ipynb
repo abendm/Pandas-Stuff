{
 "cells": [
  {
   "cell_type": "markdown",
   "metadata": {},
   "source": [
    "# Getting Started\n",
    "\n",
    "\n",
    "Please be sure you've downloaded and installed the following programs/applications:\n",
    "\n",
    "- the latest version of Anaconda from [here](https://www.anaconda.com/download/#macos)\n",
    "- if **Windows**, download, install, during installation add to PATH, git for windows [here](https://gitforwindows.org/)\n",
    "- a text editor such as [Sublime Text](https://www.sublimetext.com/3), or [Atom](https://atom.io/)"
   ]
  },
  {
   "cell_type": "markdown",
   "metadata": {},
   "source": [
    "### Class Schedule\n",
    "\n",
    "| Class Number | Topic |\n",
    "| -----------  | ----- |\n",
    "| **MODULE I** | |\n",
    "|  1    | Introduction and Overview |\n",
    "| 2   |  Pandas and EDA I |\n",
    "| 3   | Pandas and EDA II |\n",
    "| 4   | Plotting and Presentation Graphics |\n",
    "| **MODULE II** |   |\n",
    "|  5  |  Linear Regression I: OLS |\n",
    "|  6  |  Linear Regression II: Ridge, Lasso, Elastic Net |\n",
    "|  7  |  Classification I: Logistic Regression and KNN |\n",
    "|  8  | Classification II: Evaluation Metrics |\n",
    "|  9  |  Modeling Practice |\n",
    "|  10  |  Webscraping and NLTK I |\n",
    "|  11 | Webscraping and NLTK II |\n",
    "| **MODULE III** |  |\n",
    "| 12  |  Additional Models I |\n",
    "| 13  | Additional Models II |\n",
    "| 14  | Decision Trees |\n",
    "| 15  | Forest Models  |\n",
    "| 16  | Deployment and Databases I |\n",
    "| 17  | Deployment and Databases II |\n",
    "| **MODULE IV** |  |\n",
    "| 18  |  Artifical Intelligence I: Perceptrons and Neural Networks |\n",
    "| 19  |  Artificial Intelligence II: Introduction to Deep Learning |\n",
    "| 20  | Final Presentations |\n",
    "\n"
   ]
  },
  {
   "cell_type": "markdown",
   "metadata": {},
   "source": [
    "### Assignments\n",
    "\n",
    "| Number | Topic | Due |\n",
    "| ----- | ----- | ----- |\n",
    "| 1   |  Exploratory Data Analysis |  6.27 |\n",
    "| 2   |  Regression | 7.9 |\n",
    "| 3  |  Classification | 7.16 |\n",
    "| 4  |  Final Data Set and EDA | 7.25 |\n",
    "| 5  |  Final Data Set Initial Models | 8.8 |\n",
    "| 6  |  Final Data Set Models II |  8.15  |\n",
    "|  7  | Final Presentation and Project | 8.22 |"
   ]
  },
  {
   "cell_type": "code",
   "execution_count": null,
   "metadata": {},
   "outputs": [],
   "source": []
  }
 ],
 "metadata": {
  "kernelspec": {
   "display_name": "Python 3",
   "language": "python",
   "name": "python3"
  },
  "language_info": {
   "codemirror_mode": {
    "name": "ipython",
    "version": 3
   },
   "file_extension": ".py",
   "mimetype": "text/x-python",
   "name": "python",
   "nbconvert_exporter": "python",
   "pygments_lexer": "ipython3",
   "version": "3.6.5"
  }
 },
 "nbformat": 4,
 "nbformat_minor": 2
}
