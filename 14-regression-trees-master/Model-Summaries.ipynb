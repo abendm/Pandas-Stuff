{
 "cells": [
  {
   "cell_type": "markdown",
   "metadata": {},
   "source": [
    "**Nearest Neighbors**: \n",
    "\n",
    "small dataset, good baseline, easy to explain\n",
    "\n",
    "**Linear Models**\n",
    "\n",
    "good for very large datasets and high dimensional data\n",
    "\n",
    "**Naive Bayes**\n",
    "\n",
    "classification, faster than linear models, good for very large and high dimension, not as accurate as linear models\n",
    "\n",
    "**Decision Trees**\n",
    "\n",
    "fast, no scaling, visualized and explained easily\n",
    "\n",
    "**Forests**\n",
    "\n",
    "perform better than single tree, no scaling, not good for very high-dimension data"
   ]
  }
 ],
 "metadata": {
  "kernelspec": {
   "display_name": "Python 3",
   "language": "python",
   "name": "python3"
  },
  "language_info": {
   "codemirror_mode": {
    "name": "ipython",
    "version": 3
   },
   "file_extension": ".py",
   "mimetype": "text/x-python",
   "name": "python",
   "nbconvert_exporter": "python",
   "pygments_lexer": "ipython3",
   "version": "3.6.4"
  }
 },
 "nbformat": 4,
 "nbformat_minor": 2
}
