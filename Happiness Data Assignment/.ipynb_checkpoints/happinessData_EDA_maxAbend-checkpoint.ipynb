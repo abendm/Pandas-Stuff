{
 "cells": [
  {
   "cell_type": "code",
   "execution_count": 1,
   "metadata": {},
   "outputs": [],
   "source": [
    "%matplotlib inline\n",
    "import matplotlib.pyplot as plt\n",
    "import numpy as np\n",
    "import pandas as pd\n",
    "import seaborn as sns\n"
   ]
  },
  {
   "cell_type": "code",
   "execution_count": 2,
   "metadata": {
    "collapsed": true
   },
   "outputs": [],
   "source": [
    "happy1 = pd.read_csv('2015.csv')"
   ]
  },
  {
   "cell_type": "code",
   "execution_count": 4,
   "metadata": {},
   "outputs": [
    {
     "data": {
      "text/plain": [
       "RangeIndex(start=0, stop=158, step=1)"
      ]
     },
     "execution_count": 4,
     "metadata": {},
     "output_type": "execute_result"
    }
   ],
   "source": [
    "happy1.index"
   ]
  },
  {
   "cell_type": "code",
   "execution_count": 61,
   "metadata": {
    "collapsed": true
   },
   "outputs": [],
   "source": [
    "# input date twice here and the contract regex\n",
    "pf = pd.read_csv(get_portfolio_path('csv', datetime(2017, 12, 18)))\n",
    "df = read_exec_log(date='20171218')\n",
    "regex = r'mp[a-z]\\d'"
   ]
  },
  {
   "cell_type": "code",
   "execution_count": 66,
   "metadata": {},
   "outputs": [
    {
     "data": {
      "text/html": [
       "<div>\n",
       "<table border=\"1\" class=\"dataframe\">\n",
       "  <thead>\n",
       "    <tr style=\"text-align: right;\">\n",
       "      <th></th>\n",
       "      <th>Account</th>\n",
       "      <th>Ticker</th>\n",
       "      <th>Exchange</th>\n",
       "      <th>Total</th>\n",
       "    </tr>\n",
       "  </thead>\n",
       "  <tbody>\n",
       "    <tr>\n",
       "      <th>57</th>\n",
       "      <td>CONTOUR</td>\n",
       "      <td>mph8</td>\n",
       "      <td>immr</td>\n",
       "      <td>35</td>\n",
       "    </tr>\n",
       "    <tr>\n",
       "      <th>9921</th>\n",
       "      <td>NOVA</td>\n",
       "      <td>mph8</td>\n",
       "      <td>immr</td>\n",
       "      <td>-2</td>\n",
       "    </tr>\n",
       "  </tbody>\n",
       "</table>\n",
       "</div>"
      ],
      "text/plain": [
       "      Account Ticker Exchange  Total\n",
       "57    CONTOUR   mph8     immr     35\n",
       "9921     NOVA   mph8     immr     -2"
      ]
     },
     "execution_count": 66,
     "metadata": {},
     "output_type": "execute_result"
    }
   ],
   "source": [
    "match_pf = pf[(pf.Ticker.str.match(regex) & (~pf.Account.str.contains('_SIM')))][['Account', 'Ticker', 'Exchange', 'Total']]\n",
    "match_pf"
   ]
  },
  {
   "cell_type": "code",
   "execution_count": 68,
   "metadata": {},
   "outputs": [
    {
     "data": {
      "text/plain": [
       "33.0"
      ]
     },
     "execution_count": 68,
     "metadata": {},
     "output_type": "execute_result"
    }
   ],
   "source": [
    "# total sum of shares across all accounts\n",
    "match_pf['Total'].sum()"
   ]
  },
  {
   "cell_type": "code",
   "execution_count": 69,
   "metadata": {},
   "outputs": [
    {
     "data": {
      "text/html": [
       "<div>\n",
       "<table border=\"1\" class=\"dataframe\">\n",
       "  <thead>\n",
       "    <tr style=\"text-align: right;\">\n",
       "      <th></th>\n",
       "      <th>date</th>\n",
       "      <th>time</th>\n",
       "      <th>ticker</th>\n",
       "      <th>exchange</th>\n",
       "      <th>action</th>\n",
       "      <th>num_shares</th>\n",
       "      <th>price</th>\n",
       "      <th>line_handle</th>\n",
       "      <th>logical_handle</th>\n",
       "      <th>recovery_offset</th>\n",
       "      <th>...</th>\n",
       "      <th>ask_size</th>\n",
       "      <th>bid_time</th>\n",
       "      <th>ask_time</th>\n",
       "      <th>working_handle</th>\n",
       "      <th>share_volume</th>\n",
       "      <th>dollar_volume</th>\n",
       "      <th>routing</th>\n",
       "      <th>liquidity_type</th>\n",
       "      <th>exchange_fee</th>\n",
       "      <th>account</th>\n",
       "    </tr>\n",
       "  </thead>\n",
       "  <tbody>\n",
       "    <tr>\n",
       "      <th>293548</th>\n",
       "      <td>20171218</td>\n",
       "      <td>01:31:56.797168</td>\n",
       "      <td>mph8</td>\n",
       "      <td>immr</td>\n",
       "      <td>SS</td>\n",
       "      <td>-2</td>\n",
       "      <td>51710</td>\n",
       "      <td>.1P00000D</td>\n",
       "      <td>19001960</td>\n",
       "      <td>14</td>\n",
       "      <td>...</td>\n",
       "      <td>0</td>\n",
       "      <td>00:00:00.000014</td>\n",
       "      <td>01:31:56.796811</td>\n",
       "      <td>19001939</td>\n",
       "      <td>15</td>\n",
       "      <td>0</td>\n",
       "      <td>OGO0_MS_AX_2</td>\n",
       "      <td>1</td>\n",
       "      <td>0</td>\n",
       "      <td>NOVA</td>\n",
       "    </tr>\n",
       "    <tr>\n",
       "      <th>293647</th>\n",
       "      <td>20171218</td>\n",
       "      <td>01:37:00.533786</td>\n",
       "      <td>mph8</td>\n",
       "      <td>immr</td>\n",
       "      <td>SS</td>\n",
       "      <td>-2</td>\n",
       "      <td>51670</td>\n",
       "      <td>.1P00000D</td>\n",
       "      <td>19001960</td>\n",
       "      <td>14</td>\n",
       "      <td>...</td>\n",
       "      <td>0</td>\n",
       "      <td>00:00:00.000014</td>\n",
       "      <td>01:37:00.533290</td>\n",
       "      <td>19001939</td>\n",
       "      <td>15</td>\n",
       "      <td>0</td>\n",
       "      <td>OGO0_MS_AX_2</td>\n",
       "      <td>1</td>\n",
       "      <td>0</td>\n",
       "      <td>NOVA</td>\n",
       "    </tr>\n",
       "    <tr>\n",
       "      <th>293990</th>\n",
       "      <td>20171218</td>\n",
       "      <td>01:51:01.722232</td>\n",
       "      <td>mph8</td>\n",
       "      <td>immr</td>\n",
       "      <td>SS</td>\n",
       "      <td>-1</td>\n",
       "      <td>51670</td>\n",
       "      <td>.1P00000D</td>\n",
       "      <td>19001960</td>\n",
       "      <td>14</td>\n",
       "      <td>...</td>\n",
       "      <td>0</td>\n",
       "      <td>00:00:00.000014</td>\n",
       "      <td>01:51:01.721985</td>\n",
       "      <td>19001939</td>\n",
       "      <td>15</td>\n",
       "      <td>0</td>\n",
       "      <td>OGO0_MS_AX_2</td>\n",
       "      <td>1</td>\n",
       "      <td>0</td>\n",
       "      <td>NOVA</td>\n",
       "    </tr>\n",
       "    <tr>\n",
       "      <th>294147</th>\n",
       "      <td>20171218</td>\n",
       "      <td>01:56:19.268311</td>\n",
       "      <td>mph8</td>\n",
       "      <td>immr</td>\n",
       "      <td>SS</td>\n",
       "      <td>-2</td>\n",
       "      <td>51670</td>\n",
       "      <td>.1P00000D</td>\n",
       "      <td>19001960</td>\n",
       "      <td>14</td>\n",
       "      <td>...</td>\n",
       "      <td>0</td>\n",
       "      <td>00:00:00.000014</td>\n",
       "      <td>01:56:19.268023</td>\n",
       "      <td>19001939</td>\n",
       "      <td>15</td>\n",
       "      <td>0</td>\n",
       "      <td>OGO0_MS_AX_2</td>\n",
       "      <td>1</td>\n",
       "      <td>0</td>\n",
       "      <td>NOVA</td>\n",
       "    </tr>\n",
       "    <tr>\n",
       "      <th>295789</th>\n",
       "      <td>20171218</td>\n",
       "      <td>02:00:51.123030</td>\n",
       "      <td>mph8</td>\n",
       "      <td>immr</td>\n",
       "      <td>SS</td>\n",
       "      <td>-1</td>\n",
       "      <td>51650</td>\n",
       "      <td>.1P00000D</td>\n",
       "      <td>19001960</td>\n",
       "      <td>14</td>\n",
       "      <td>...</td>\n",
       "      <td>0</td>\n",
       "      <td>00:00:00.000014</td>\n",
       "      <td>02:00:51.122726</td>\n",
       "      <td>19001939</td>\n",
       "      <td>15</td>\n",
       "      <td>0</td>\n",
       "      <td>OGO0_MS_AX_2</td>\n",
       "      <td>1</td>\n",
       "      <td>0</td>\n",
       "      <td>NOVA</td>\n",
       "    </tr>\n",
       "  </tbody>\n",
       "</table>\n",
       "<p>5 rows × 23 columns</p>\n",
       "</div>"
      ],
      "text/plain": [
       "            date             time ticker exchange action  num_shares  price  \\\n",
       "293548  20171218  01:31:56.797168   mph8     immr     SS          -2  51710   \n",
       "293647  20171218  01:37:00.533786   mph8     immr     SS          -2  51670   \n",
       "293990  20171218  01:51:01.722232   mph8     immr     SS          -1  51670   \n",
       "294147  20171218  01:56:19.268311   mph8     immr     SS          -2  51670   \n",
       "295789  20171218  02:00:51.123030   mph8     immr     SS          -1  51650   \n",
       "\n",
       "       line_handle  logical_handle  recovery_offset   ...    ask_size  \\\n",
       "293548   .1P00000D        19001960               14   ...           0   \n",
       "293647   .1P00000D        19001960               14   ...           0   \n",
       "293990   .1P00000D        19001960               14   ...           0   \n",
       "294147   .1P00000D        19001960               14   ...           0   \n",
       "295789   .1P00000D        19001960               14   ...           0   \n",
       "\n",
       "               bid_time         ask_time  working_handle share_volume  \\\n",
       "293548  00:00:00.000014  01:31:56.796811        19001939           15   \n",
       "293647  00:00:00.000014  01:37:00.533290        19001939           15   \n",
       "293990  00:00:00.000014  01:51:01.721985        19001939           15   \n",
       "294147  00:00:00.000014  01:56:19.268023        19001939           15   \n",
       "295789  00:00:00.000014  02:00:51.122726        19001939           15   \n",
       "\n",
       "       dollar_volume       routing  liquidity_type  exchange_fee account  \n",
       "293548             0  OGO0_MS_AX_2               1             0    NOVA  \n",
       "293647             0  OGO0_MS_AX_2               1             0    NOVA  \n",
       "293990             0  OGO0_MS_AX_2               1             0    NOVA  \n",
       "294147             0  OGO0_MS_AX_2               1             0    NOVA  \n",
       "295789             0  OGO0_MS_AX_2               1             0    NOVA  \n",
       "\n",
       "[5 rows x 23 columns]"
      ]
     },
     "execution_count": 69,
     "metadata": {},
     "output_type": "execute_result"
    }
   ],
   "source": [
    "#executions\n",
    "execs = df[df.ticker.str.match(regex) & (~df.account.str.contains('_SIM')) & (df.action.isin(('BL', 'BC', 'SL', 'SS')))]\n",
    "execs.head()\n"
   ]
  },
  {
   "cell_type": "code",
   "execution_count": 74,
   "metadata": {},
   "outputs": [
    {
     "data": {
      "text/plain": [
       "293548   -2\n",
       "293647   -4\n",
       "293990   -5\n",
       "294147   -7\n",
       "295789   -8\n",
       "Name: num_shares, dtype: int64"
      ]
     },
     "execution_count": 74,
     "metadata": {},
     "output_type": "execute_result"
    }
   ],
   "source": [
    "# executions cumsum\n",
    "series = execs['num_shares'].cumsum()\n",
    "series.head()"
   ]
  },
  {
   "cell_type": "code",
   "execution_count": 76,
   "metadata": {},
   "outputs": [
    {
     "data": {
      "text/plain": [
       "293548   -2\n",
       "293647   -4\n",
       "293990   -5\n",
       "294147   -7\n",
       "295789   -8\n",
       "Name: num_shares, dtype: float64"
      ]
     },
     "execution_count": 76,
     "metadata": {},
     "output_type": "execute_result"
    }
   ],
   "source": [
    "# include sod position sum\n",
    "series = series + match_pf['Total'].sum()\n",
    "series.head()"
   ]
  },
  {
   "cell_type": "code",
   "execution_count": 77,
   "metadata": {},
   "outputs": [
    {
     "name": "stdout",
     "output_type": "stream",
     "text": [
      "-281.0\n",
      "-2.0\n"
     ]
    }
   ],
   "source": [
    "print series.min()\n",
    "print series.max()"
   ]
  },
  {
   "cell_type": "code",
   "execution_count": 4,
   "metadata": {
    "collapsed": true
   },
   "outputs": [],
   "source": []
  },
  {
   "cell_type": "code",
   "execution_count": null,
   "metadata": {
    "collapsed": true
   },
   "outputs": [],
   "source": []
  },
  {
   "cell_type": "code",
   "execution_count": null,
   "metadata": {
    "collapsed": true
   },
   "outputs": [],
   "source": []
  },
  {
   "cell_type": "code",
   "execution_count": null,
   "metadata": {
    "collapsed": true
   },
   "outputs": [],
   "source": []
  },
  {
   "cell_type": "code",
   "execution_count": null,
   "metadata": {
    "collapsed": true
   },
   "outputs": [],
   "source": []
  },
  {
   "cell_type": "code",
   "execution_count": null,
   "metadata": {
    "collapsed": true
   },
   "outputs": [],
   "source": []
  },
  {
   "cell_type": "code",
   "execution_count": null,
   "metadata": {
    "collapsed": true
   },
   "outputs": [],
   "source": []
  },
  {
   "cell_type": "code",
   "execution_count": null,
   "metadata": {
    "collapsed": true
   },
   "outputs": [],
   "source": []
  },
  {
   "cell_type": "code",
   "execution_count": null,
   "metadata": {
    "collapsed": true
   },
   "outputs": [],
   "source": []
  }
 ],
 "metadata": {
  "kernelspec": {
   "display_name": "Python 3",
   "language": "python",
   "name": "python3"
  },
  "language_info": {
   "codemirror_mode": {
    "name": "ipython",
    "version": 3
   },
   "file_extension": ".py",
   "mimetype": "text/x-python",
   "name": "python",
   "nbconvert_exporter": "python",
   "pygments_lexer": "ipython3",
   "version": "3.6.1"
  }
 },
 "nbformat": 4,
 "nbformat_minor": 1
}
